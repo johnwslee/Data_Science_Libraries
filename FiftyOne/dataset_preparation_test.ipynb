{
 "cells": [
  {
   "cell_type": "markdown",
   "id": "c085c86b-313a-4805-b033-7ced0e0d5383",
   "metadata": {},
   "source": [
    "# Preparation of COCO Dataset (Test)"
   ]
  },
  {
   "cell_type": "code",
   "execution_count": 1,
   "id": "4e677e7f-827b-4ca8-b102-44f22abdbd9a",
   "metadata": {},
   "outputs": [],
   "source": [
    "import fiftyone as fo\n",
    "import fiftyone.zoo as foz\n",
    "\n",
    "# # List available zoo datasets\n",
    "# print(foz.list_zoo_datasets())\n",
    "\n",
    "# #\n",
    "# # Load the COCO-2014 validation split into a FiftyOne dataset\n",
    "# #\n",
    "# # This will download the dataset from the web, if necessary\n",
    "# #\n",
    "# dataset = foz.load_zoo_dataset(\"coco-2014\", split=\"test\")\n",
    "\n",
    "# # Give the dataset a new name, and make it persistent so that you can\n",
    "# # work with it in future sessions\n",
    "# dataset.name = \"coco-2014-test-example\"\n",
    "# dataset.persistent = True"
   ]
  },
  {
   "cell_type": "code",
   "execution_count": 2,
   "id": "ccb7d235-34c0-456f-9abc-6405247b3752",
   "metadata": {},
   "outputs": [],
   "source": [
    "# Load from Local\n",
    "name = \"coco-2014-test-example\"\n",
    "\n",
    "dataset = fo.load_dataset(name)"
   ]
  },
  {
   "cell_type": "code",
   "execution_count": 3,
   "id": "360ce772-54c7-401e-bbe1-405af7eef118",
   "metadata": {},
   "outputs": [
    {
     "name": "stdout",
     "output_type": "stream",
     "text": [
      "Connected to FiftyOne on port 5151 at localhost.\n",
      "If you are not connecting to a remote session, you may need to start a new session and specify a port\n"
     ]
    },
    {
     "data": {
      "text/html": [
       "\n",
       "        <iframe\n",
       "            width=\"100%\"\n",
       "            height=\"800\"\n",
       "            src=\"http://localhost:5151/?context=ipython&subscription=2128c156-d9a2-43e6-bb0e-e412743e999e\"\n",
       "            frameborder=\"0\"\n",
       "            allowfullscreen\n",
       "            \n",
       "        ></iframe>\n",
       "        "
      ],
      "text/plain": [
       "<IPython.lib.display.IFrame at 0x24b34549de0>"
      ]
     },
     "metadata": {},
     "output_type": "display_data"
    }
   ],
   "source": [
    "# Visualize the in the App\n",
    "session = fo.launch_app(dataset)"
   ]
  }
 ],
 "metadata": {
  "kernelspec": {
   "display_name": "Python [conda env:fiftyone]",
   "language": "python",
   "name": "conda-env-fiftyone-py"
  },
  "language_info": {
   "codemirror_mode": {
    "name": "ipython",
    "version": 3
   },
   "file_extension": ".py",
   "mimetype": "text/x-python",
   "name": "python",
   "nbconvert_exporter": "python",
   "pygments_lexer": "ipython3",
   "version": "3.10.6"
  }
 },
 "nbformat": 4,
 "nbformat_minor": 5
}
