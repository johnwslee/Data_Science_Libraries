{
 "cells": [
  {
   "cell_type": "code",
   "execution_count": 1,
   "id": "81c8f748-512d-48b4-9666-f9ca0b29c607",
   "metadata": {},
   "outputs": [],
   "source": [
    "import numpy as np\n",
    "import pandas as pd\n",
    "import os\n",
    "\n",
    "from skimage.transform import resize   # Image Processing Library\n",
    "import matplotlib.pyplot as plt\n",
    "from tqdm import tqdm\n",
    "import gc    # Garbage Collector\n",
    "gc.collect()\n",
    "\n",
    "import json\n",
    "\n",
    "from PIL import Image"
   ]
  },
  {
   "cell_type": "code",
   "execution_count": 2,
   "id": "3c9fc30d-cf42-4e45-ba4c-506ab548bfb5",
   "metadata": {},
   "outputs": [
    {
     "name": "stdout",
     "output_type": "stream",
     "text": [
      "['info.json', 'raw', 'test', 'train', 'validation']\n"
     ]
    }
   ],
   "source": [
    "# Input data files are available in the \"../../../fiftyone/coco-2014\" directory.\n",
    "print(os.listdir(\"../../fiftyone/coco-2014\"))"
   ]
  },
  {
   "cell_type": "code",
   "execution_count": 3,
   "id": "9499d23d-f6ae-4eee-90ff-f813ed1aa035",
   "metadata": {},
   "outputs": [],
   "source": [
    "with open(\"../../fiftyone/coco-2014/info.json\", 'r') as file:\n",
    "    info = json.load(file)"
   ]
  },
  {
   "cell_type": "code",
   "execution_count": 4,
   "id": "b17fbd67-5ab4-4239-8783-74dbb8b5c30d",
   "metadata": {},
   "outputs": [
    {
     "data": {
      "text/plain": [
       "{'name': 'coco-2014',\n",
       " 'zoo_dataset': 'fiftyone.zoo.datasets.base.COCO2014Dataset',\n",
       " 'dataset_type': 'fiftyone.types.dataset_types.COCODetectionDataset',\n",
       " 'num_samples': 164062,\n",
       " 'downloaded_splits': {'validation': {'split': 'validation',\n",
       "   'num_samples': 40504},\n",
       "  'train': {'split': 'train', 'num_samples': 82783},\n",
       "  'test': {'split': 'test', 'num_samples': 40775}},\n",
       " 'classes': ['0',\n",
       "  'person',\n",
       "  'bicycle',\n",
       "  'car',\n",
       "  'motorcycle',\n",
       "  'airplane',\n",
       "  'bus',\n",
       "  'train',\n",
       "  'truck',\n",
       "  'boat',\n",
       "  'traffic light',\n",
       "  'fire hydrant',\n",
       "  '12',\n",
       "  'stop sign',\n",
       "  'parking meter',\n",
       "  'bench',\n",
       "  'bird',\n",
       "  'cat',\n",
       "  'dog',\n",
       "  'horse',\n",
       "  'sheep',\n",
       "  'cow',\n",
       "  'elephant',\n",
       "  'bear',\n",
       "  'zebra',\n",
       "  'giraffe',\n",
       "  '26',\n",
       "  'backpack',\n",
       "  'umbrella',\n",
       "  '29',\n",
       "  '30',\n",
       "  'handbag',\n",
       "  'tie',\n",
       "  'suitcase',\n",
       "  'frisbee',\n",
       "  'skis',\n",
       "  'snowboard',\n",
       "  'sports ball',\n",
       "  'kite',\n",
       "  'baseball bat',\n",
       "  'baseball glove',\n",
       "  'skateboard',\n",
       "  'surfboard',\n",
       "  'tennis racket',\n",
       "  'bottle',\n",
       "  '45',\n",
       "  'wine glass',\n",
       "  'cup',\n",
       "  'fork',\n",
       "  'knife',\n",
       "  'spoon',\n",
       "  'bowl',\n",
       "  'banana',\n",
       "  'apple',\n",
       "  'sandwich',\n",
       "  'orange',\n",
       "  'broccoli',\n",
       "  'carrot',\n",
       "  'hot dog',\n",
       "  'pizza',\n",
       "  'donut',\n",
       "  'cake',\n",
       "  'chair',\n",
       "  'couch',\n",
       "  'potted plant',\n",
       "  'bed',\n",
       "  '66',\n",
       "  'dining table',\n",
       "  '68',\n",
       "  '69',\n",
       "  'toilet',\n",
       "  '71',\n",
       "  'tv',\n",
       "  'laptop',\n",
       "  'mouse',\n",
       "  'remote',\n",
       "  'keyboard',\n",
       "  'cell phone',\n",
       "  'microwave',\n",
       "  'oven',\n",
       "  'toaster',\n",
       "  'sink',\n",
       "  'refrigerator',\n",
       "  '83',\n",
       "  'book',\n",
       "  'clock',\n",
       "  'vase',\n",
       "  'scissors',\n",
       "  'teddy bear',\n",
       "  'hair drier',\n",
       "  'toothbrush']}"
      ]
     },
     "execution_count": 4,
     "metadata": {},
     "output_type": "execute_result"
    }
   ],
   "source": [
    "info"
   ]
  },
  {
   "cell_type": "code",
   "execution_count": 5,
   "id": "56f45b09-5b3e-4adc-a7c6-b370cca3f254",
   "metadata": {},
   "outputs": [],
   "source": [
    "with open(\"../../fiftyone/coco-2014/raw/instances_train2014.json\", 'r') as file:\n",
    "    instance = json.load(file)"
   ]
  },
  {
   "cell_type": "code",
   "execution_count": 15,
   "id": "bd77f6b6-9db7-4486-9011-4974ba4472b1",
   "metadata": {},
   "outputs": [
    {
     "data": {
      "text/plain": [
       "{'license': 5,\n",
       " 'file_name': 'COCO_train2014_000000057870.jpg',\n",
       " 'coco_url': 'http://images.cocodataset.org/train2014/COCO_train2014_000000057870.jpg',\n",
       " 'height': 480,\n",
       " 'width': 640,\n",
       " 'date_captured': '2013-11-14 16:28:13',\n",
       " 'flickr_url': 'http://farm4.staticflickr.com/3153/2970773875_164f0c0b83_z.jpg',\n",
       " 'id': 57870}"
      ]
     },
     "execution_count": 15,
     "metadata": {},
     "output_type": "execute_result"
    }
   ],
   "source": [
    "instance[\"images\"][0]"
   ]
  },
  {
   "cell_type": "code",
   "execution_count": null,
   "id": "d4c6067f-870f-49f8-8881-4ec6d39e8ed0",
   "metadata": {},
   "outputs": [],
   "source": [
    "with open(\"../../fiftyone/coco-2014/raw/captions_train2014.json\", 'r') as file:\n",
    "    caption = json.load(file)"
   ]
  },
  {
   "cell_type": "code",
   "execution_count": null,
   "id": "6097c9ad-4fc5-4b60-94d9-4f713727046a",
   "metadata": {},
   "outputs": [],
   "source": [
    "caption.keys()"
   ]
  },
  {
   "cell_type": "code",
   "execution_count": null,
   "id": "51d8eb4f-8404-4797-a858-6c92b538231b",
   "metadata": {},
   "outputs": [],
   "source": [
    "caption['info']"
   ]
  },
  {
   "cell_type": "code",
   "execution_count": null,
   "id": "aa069134-bbef-4022-b7ad-b263e30aa76a",
   "metadata": {},
   "outputs": [],
   "source": [
    "caption['images'][0]"
   ]
  },
  {
   "cell_type": "code",
   "execution_count": null,
   "id": "f478468c-2e6e-4ea4-995f-b6a3eb7586a4",
   "metadata": {},
   "outputs": [],
   "source": [
    "plt.imshow(plt.imread(\"../../fiftyone/coco-2014/train/data/COCO_train2014_000000057870.jpg\"));"
   ]
  },
  {
   "cell_type": "code",
   "execution_count": null,
   "id": "d58b8a19-27b9-4170-91e9-b25c2476f04d",
   "metadata": {},
   "outputs": [],
   "source": [
    "caption['annotations'][0]"
   ]
  },
  {
   "cell_type": "code",
   "execution_count": null,
   "id": "068578af-dcbe-47d8-b898-8487206bd55e",
   "metadata": {},
   "outputs": [],
   "source": [
    "for cap in caption['annotations']:\n",
    "    if cap[\"image_id\"] == 57870:\n",
    "        print(cap[\"caption\"])"
   ]
  },
  {
   "cell_type": "code",
   "execution_count": null,
   "id": "8a3ba11e-802d-4333-81c2-495745c90a41",
   "metadata": {},
   "outputs": [],
   "source": [
    "with open(\"../../fiftyone/coco-2014/train/labels.json\", 'r') as file:\n",
    "    labels = json.load(file)"
   ]
  },
  {
   "cell_type": "code",
   "execution_count": null,
   "id": "d22c8a18-e86b-47c1-aeb9-4dcd14029549",
   "metadata": {},
   "outputs": [],
   "source": [
    "labels.keys()"
   ]
  },
  {
   "cell_type": "code",
   "execution_count": null,
   "id": "c78bc23a-b6bd-4568-801c-add23d6abe6f",
   "metadata": {},
   "outputs": [],
   "source": [
    "labels[\"annotations\"][2].keys()"
   ]
  },
  {
   "cell_type": "code",
   "execution_count": null,
   "id": "99772d44-043d-4a04-9ff7-f54c62be407e",
   "metadata": {},
   "outputs": [],
   "source": [
    "labels[\"categories\"]"
   ]
  },
  {
   "cell_type": "code",
   "execution_count": null,
   "id": "86eaa123-e938-4504-91d4-a23a83a61832",
   "metadata": {},
   "outputs": [],
   "source": []
  }
 ],
 "metadata": {
  "kernelspec": {
   "display_name": "Python [conda env:575]",
   "language": "python",
   "name": "conda-env-575-py"
  },
  "language_info": {
   "codemirror_mode": {
    "name": "ipython",
    "version": 3
   },
   "file_extension": ".py",
   "mimetype": "text/x-python",
   "name": "python",
   "nbconvert_exporter": "python",
   "pygments_lexer": "ipython3",
   "version": "3.10.4"
  }
 },
 "nbformat": 4,
 "nbformat_minor": 5
}
