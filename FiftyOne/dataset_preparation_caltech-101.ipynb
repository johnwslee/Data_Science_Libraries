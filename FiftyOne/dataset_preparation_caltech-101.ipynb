{
 "cells": [
  {
   "cell_type": "markdown",
   "id": "c085c86b-313a-4805-b033-7ced0e0d5383",
   "metadata": {},
   "source": [
    "# Preparation of COCO Dataset (Train)"
   ]
  },
  {
   "cell_type": "code",
   "execution_count": 1,
   "id": "4e677e7f-827b-4ca8-b102-44f22abdbd9a",
   "metadata": {},
   "outputs": [
    {
     "name": "stdout",
     "output_type": "stream",
     "text": [
      "['activitynet-100', 'activitynet-200', 'bdd100k', 'caltech101', 'caltech256', 'cifar10', 'cifar100', 'cityscapes', 'coco-2014', 'coco-2017', 'fashion-mnist', 'fiw', 'hmdb51', 'imagenet-2012', 'imagenet-sample', 'kinetics-400', 'kinetics-600', 'kinetics-700', 'kinetics-700-2020', 'kitti', 'kitti-multiview', 'lfw', 'mnist', 'open-images-v6', 'quickstart', 'quickstart-geo', 'quickstart-groups', 'quickstart-video', 'ucf101', 'voc-2007', 'voc-2012']\n"
     ]
    }
   ],
   "source": [
    "import fiftyone as fo\n",
    "import fiftyone.zoo as foz\n",
    "\n",
    "# List available zoo datasets\n",
    "print(foz.list_zoo_datasets())"
   ]
  },
  {
   "cell_type": "code",
   "execution_count": 3,
   "id": "d7cb87fb-abea-4f07-8112-87b2e8b3a7fc",
   "metadata": {},
   "outputs": [
    {
     "name": "stdout",
     "output_type": "stream",
     "text": [
      "Downloading dataset to 'C:\\Users\\johnw\\fiftyone\\caltech101'\n",
      "Downloading dataset...\n",
      " 100% |███████████████████████████████████████████| 1005.1Mb/1005.1Mb [12.1s elapsed, 0s remaining, 89.3Mb/s]      \n",
      "Extracting dataset...\n",
      "Parsing dataset metadata\n",
      "Found 9145 samples\n",
      "Dataset info written to 'C:\\Users\\johnw\\fiftyone\\caltech101\\info.json'\n",
      "Loading 'caltech101'\n",
      " 100% |███████████████| 9145/9145 [4.4s elapsed, 0s remaining, 2.1K samples/s]      \n",
      "Dataset 'caltech101' created\n"
     ]
    }
   ],
   "source": [
    "dataset = foz.load_zoo_dataset(\"caltech101\")\n",
    "\n",
    "# Give the dataset a new name, and make it persistent so that you can\n",
    "# work with it in future sessions\n",
    "dataset.name = \"caltech101_dataset\"\n",
    "dataset.persistent = True"
   ]
  },
  {
   "cell_type": "code",
   "execution_count": 4,
   "id": "b74c7776-eee6-4c4d-8c6d-edc291317753",
   "metadata": {},
   "outputs": [],
   "source": [
    "# Load from Local\n",
    "name = \"caltech101_dataset\"\n",
    "\n",
    "dataset = fo.load_dataset(name)"
   ]
  },
  {
   "cell_type": "code",
   "execution_count": 6,
   "id": "360ce772-54c7-401e-bbe1-405af7eef118",
   "metadata": {},
   "outputs": [
    {
     "data": {
      "text/html": [
       "\n",
       "        <iframe\n",
       "            width=\"100%\"\n",
       "            height=\"800\"\n",
       "            src=\"http://localhost:5151/?context=ipython&subscription=891eafb3-390a-4f5f-b8b2-e2edd76b1341\"\n",
       "            frameborder=\"0\"\n",
       "            allowfullscreen\n",
       "            \n",
       "        ></iframe>\n",
       "        "
      ],
      "text/plain": [
       "<IPython.lib.display.IFrame at 0x290478967d0>"
      ]
     },
     "metadata": {},
     "output_type": "display_data"
    }
   ],
   "source": [
    "# Visualize the in the App\n",
    "session = fo.launch_app(dataset)"
   ]
  },
  {
   "cell_type": "code",
   "execution_count": null,
   "id": "bfa767a7-5e6e-4db3-8da8-7cd42b3be3ec",
   "metadata": {},
   "outputs": [],
   "source": []
  }
 ],
 "metadata": {
  "kernelspec": {
   "display_name": "Python [conda env:fiftyone]",
   "language": "python",
   "name": "conda-env-fiftyone-py"
  },
  "language_info": {
   "codemirror_mode": {
    "name": "ipython",
    "version": 3
   },
   "file_extension": ".py",
   "mimetype": "text/x-python",
   "name": "python",
   "nbconvert_exporter": "python",
   "pygments_lexer": "ipython3",
   "version": "3.10.6"
  }
 },
 "nbformat": 4,
 "nbformat_minor": 5
}
