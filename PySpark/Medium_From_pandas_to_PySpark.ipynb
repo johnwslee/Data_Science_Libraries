{
 "cells": [
  {
   "cell_type": "markdown",
   "id": "569d0861-3158-4831-b117-4931eb4b42d2",
   "metadata": {},
   "source": [
    "# 0. Dataset"
   ]
  },
  {
   "cell_type": "code",
   "execution_count": 1,
   "id": "c13ba6c5-c85c-46e1-b2fa-54dd5e1f1790",
   "metadata": {},
   "outputs": [],
   "source": [
    "import pandas as pd\n",
    "from pyspark.sql import SparkSession\n",
    "spark = SparkSession.builder.appName('tutorial').getOrCreate()"
   ]
  },
  {
   "cell_type": "code",
   "execution_count": 2,
   "id": "802af178-8ea4-4278-8d2d-38f0c937c3b2",
   "metadata": {},
   "outputs": [],
   "source": [
    "from seaborn import load_dataset\n",
    "\n",
    "(load_dataset('penguins')\n",
    "    .drop(columns=['bill_length_mm', 'bill_depth_mm'])\n",
    "    .rename(columns={'flipper_length_mm': 'flipper', 'body_mass_g': 'mass'})\n",
    "    .to_csv('data/penguins.csv', index=False))"
   ]
  },
  {
   "cell_type": "markdown",
   "id": "253d84b1-5d93-45bd-93ce-aba8f027519c",
   "metadata": {},
   "source": [
    "# 1. Comparisons"
   ]
  },
  {
   "cell_type": "markdown",
   "id": "c9ad2a2f-6628-4c14-88da-04c0b59b3183",
   "metadata": {},
   "source": [
    "### 1.1. Basics"
   ]
  },
  {
   "cell_type": "markdown",
   "id": "457bddb1-e235-44a0-99b3-3f397e562d42",
   "metadata": {},
   "source": [
    "#### 1.1.1. Data Import"
   ]
  },
  {
   "cell_type": "code",
   "execution_count": 3,
   "id": "aac1c70d-4c57-421c-8437-ef332e49eb9e",
   "metadata": {},
   "outputs": [
    {
     "data": {
      "text/plain": [
       "(344, 5)"
      ]
     },
     "execution_count": 3,
     "metadata": {},
     "output_type": "execute_result"
    }
   ],
   "source": [
    "# 🐼 pandas \n",
    "df_p = pd.read_csv('data/penguins.csv')\n",
    "df_p.shape"
   ]
  },
  {
   "cell_type": "code",
   "execution_count": 4,
   "id": "dc71ef55-2e87-4bb6-9425-ed18fd10882c",
   "metadata": {},
   "outputs": [
    {
     "data": {
      "text/plain": [
       "(344, 5)"
      ]
     },
     "execution_count": 4,
     "metadata": {},
     "output_type": "execute_result"
    }
   ],
   "source": [
    "# 🎇 PySpark\n",
    "df_s = spark.read.csv('data/penguins.csv', header=True, inferSchema=True)\n",
    "df_s.count(), len(df_s.columns)"
   ]
  },
  {
   "cell_type": "markdown",
   "id": "f99f93ee-703f-4081-9e9d-7669c072e5c3",
   "metadata": {},
   "source": [
    "#### 1.1.2. To check high level information about the data"
   ]
  },
  {
   "cell_type": "code",
   "execution_count": 5,
   "id": "6026d6db-be0f-4f7e-bb05-7e9a1cbdd125",
   "metadata": {},
   "outputs": [
    {
     "name": "stdout",
     "output_type": "stream",
     "text": [
      "<class 'pandas.core.frame.DataFrame'>\n",
      "RangeIndex: 344 entries, 0 to 343\n",
      "Data columns (total 5 columns):\n",
      " #   Column   Non-Null Count  Dtype  \n",
      "---  ------   --------------  -----  \n",
      " 0   species  344 non-null    object \n",
      " 1   island   344 non-null    object \n",
      " 2   flipper  342 non-null    float64\n",
      " 3   mass     342 non-null    float64\n",
      " 4   sex      333 non-null    object \n",
      "dtypes: float64(2), object(3)\n",
      "memory usage: 13.6+ KB\n"
     ]
    }
   ],
   "source": [
    "# 🐼 pandas \n",
    "df_p.info()"
   ]
  },
  {
   "cell_type": "code",
   "execution_count": 6,
   "id": "e51e7b7d-de3d-4985-a0ba-5fb242d65137",
   "metadata": {},
   "outputs": [
    {
     "name": "stdout",
     "output_type": "stream",
     "text": [
      "root\n",
      " |-- species: string (nullable = true)\n",
      " |-- island: string (nullable = true)\n",
      " |-- flipper: double (nullable = true)\n",
      " |-- mass: double (nullable = true)\n",
      " |-- sex: string (nullable = true)\n",
      "\n"
     ]
    }
   ],
   "source": [
    "# 🎇 PySpark\n",
    "df_s.printSchema()"
   ]
  },
  {
   "cell_type": "markdown",
   "id": "6e61e8c4-2096-4bbe-8bf4-2091245c1727",
   "metadata": {},
   "source": [
    "#### 1.1.3. To look at the head of data"
   ]
  },
  {
   "cell_type": "code",
   "execution_count": 7,
   "id": "d2d66652-7160-40ec-965e-011342c7c510",
   "metadata": {},
   "outputs": [
    {
     "data": {
      "text/html": [
       "<div>\n",
       "<style scoped>\n",
       "    .dataframe tbody tr th:only-of-type {\n",
       "        vertical-align: middle;\n",
       "    }\n",
       "\n",
       "    .dataframe tbody tr th {\n",
       "        vertical-align: top;\n",
       "    }\n",
       "\n",
       "    .dataframe thead th {\n",
       "        text-align: right;\n",
       "    }\n",
       "</style>\n",
       "<table border=\"1\" class=\"dataframe\">\n",
       "  <thead>\n",
       "    <tr style=\"text-align: right;\">\n",
       "      <th></th>\n",
       "      <th>species</th>\n",
       "      <th>island</th>\n",
       "      <th>flipper</th>\n",
       "      <th>mass</th>\n",
       "      <th>sex</th>\n",
       "    </tr>\n",
       "  </thead>\n",
       "  <tbody>\n",
       "    <tr>\n",
       "      <th>0</th>\n",
       "      <td>Adelie</td>\n",
       "      <td>Torgersen</td>\n",
       "      <td>181.0</td>\n",
       "      <td>3750.0</td>\n",
       "      <td>Male</td>\n",
       "    </tr>\n",
       "    <tr>\n",
       "      <th>1</th>\n",
       "      <td>Adelie</td>\n",
       "      <td>Torgersen</td>\n",
       "      <td>186.0</td>\n",
       "      <td>3800.0</td>\n",
       "      <td>Female</td>\n",
       "    </tr>\n",
       "    <tr>\n",
       "      <th>2</th>\n",
       "      <td>Adelie</td>\n",
       "      <td>Torgersen</td>\n",
       "      <td>195.0</td>\n",
       "      <td>3250.0</td>\n",
       "      <td>Female</td>\n",
       "    </tr>\n",
       "    <tr>\n",
       "      <th>3</th>\n",
       "      <td>Adelie</td>\n",
       "      <td>Torgersen</td>\n",
       "      <td>NaN</td>\n",
       "      <td>NaN</td>\n",
       "      <td>NaN</td>\n",
       "    </tr>\n",
       "    <tr>\n",
       "      <th>4</th>\n",
       "      <td>Adelie</td>\n",
       "      <td>Torgersen</td>\n",
       "      <td>193.0</td>\n",
       "      <td>3450.0</td>\n",
       "      <td>Female</td>\n",
       "    </tr>\n",
       "  </tbody>\n",
       "</table>\n",
       "</div>"
      ],
      "text/plain": [
       "  species     island  flipper    mass     sex\n",
       "0  Adelie  Torgersen    181.0  3750.0    Male\n",
       "1  Adelie  Torgersen    186.0  3800.0  Female\n",
       "2  Adelie  Torgersen    195.0  3250.0  Female\n",
       "3  Adelie  Torgersen      NaN     NaN     NaN\n",
       "4  Adelie  Torgersen    193.0  3450.0  Female"
      ]
     },
     "execution_count": 7,
     "metadata": {},
     "output_type": "execute_result"
    }
   ],
   "source": [
    "# 🐼 pandas \n",
    "df_p.head()"
   ]
  },
  {
   "cell_type": "code",
   "execution_count": 8,
   "id": "7bd887e0-e0b3-4a74-812c-031b535730c7",
   "metadata": {},
   "outputs": [
    {
     "name": "stdout",
     "output_type": "stream",
     "text": [
      "+-------+---------+-------+------+------+\n",
      "|species|   island|flipper|  mass|   sex|\n",
      "+-------+---------+-------+------+------+\n",
      "| Adelie|Torgersen|  181.0|3750.0|  Male|\n",
      "| Adelie|Torgersen|  186.0|3800.0|Female|\n",
      "| Adelie|Torgersen|  195.0|3250.0|Female|\n",
      "| Adelie|Torgersen|   null|  null|  null|\n",
      "| Adelie|Torgersen|  193.0|3450.0|Female|\n",
      "+-------+---------+-------+------+------+\n",
      "only showing top 5 rows\n",
      "\n"
     ]
    }
   ],
   "source": [
    "# 🎇 PySpark\n",
    "df_s.show(5)"
   ]
  },
  {
   "cell_type": "markdown",
   "id": "81764a7d-b691-48cf-9b3d-34f5d5ef68ee",
   "metadata": {},
   "source": [
    "#### 1.1.4. How to select columns"
   ]
  },
  {
   "cell_type": "code",
   "execution_count": 9,
   "id": "0997a9b1-547c-4f5d-be4a-6efac3c54426",
   "metadata": {},
   "outputs": [
    {
     "data": {
      "text/html": [
       "<div>\n",
       "<style scoped>\n",
       "    .dataframe tbody tr th:only-of-type {\n",
       "        vertical-align: middle;\n",
       "    }\n",
       "\n",
       "    .dataframe tbody tr th {\n",
       "        vertical-align: top;\n",
       "    }\n",
       "\n",
       "    .dataframe thead th {\n",
       "        text-align: right;\n",
       "    }\n",
       "</style>\n",
       "<table border=\"1\" class=\"dataframe\">\n",
       "  <thead>\n",
       "    <tr style=\"text-align: right;\">\n",
       "      <th></th>\n",
       "      <th>island</th>\n",
       "      <th>mass</th>\n",
       "    </tr>\n",
       "  </thead>\n",
       "  <tbody>\n",
       "    <tr>\n",
       "      <th>0</th>\n",
       "      <td>Torgersen</td>\n",
       "      <td>3750.0</td>\n",
       "    </tr>\n",
       "    <tr>\n",
       "      <th>1</th>\n",
       "      <td>Torgersen</td>\n",
       "      <td>3800.0</td>\n",
       "    </tr>\n",
       "    <tr>\n",
       "      <th>2</th>\n",
       "      <td>Torgersen</td>\n",
       "      <td>3250.0</td>\n",
       "    </tr>\n",
       "  </tbody>\n",
       "</table>\n",
       "</div>"
      ],
      "text/plain": [
       "      island    mass\n",
       "0  Torgersen  3750.0\n",
       "1  Torgersen  3800.0\n",
       "2  Torgersen  3250.0"
      ]
     },
     "execution_count": 9,
     "metadata": {},
     "output_type": "execute_result"
    }
   ],
   "source": [
    "# 🐼 pandas \n",
    "df_p[['island', 'mass']].head(3)"
   ]
  },
  {
   "cell_type": "code",
   "execution_count": 10,
   "id": "60176a4a-1020-41fc-a0dc-9bd6a0596b47",
   "metadata": {},
   "outputs": [
    {
     "name": "stdout",
     "output_type": "stream",
     "text": [
      "+---------+------+\n",
      "|   island|  mass|\n",
      "+---------+------+\n",
      "|Torgersen|3750.0|\n",
      "|Torgersen|3800.0|\n",
      "|Torgersen|3250.0|\n",
      "+---------+------+\n",
      "only showing top 3 rows\n",
      "\n"
     ]
    }
   ],
   "source": [
    "# 🎇 PySpark\n",
    "df_s[['island', 'mass']].show(3)"
   ]
  },
  {
   "cell_type": "code",
   "execution_count": 11,
   "id": "43dc6ce1-7c64-4749-a1bb-72057e45847e",
   "metadata": {},
   "outputs": [
    {
     "name": "stdout",
     "output_type": "stream",
     "text": [
      "+---------+------+\n",
      "|   island|  mass|\n",
      "+---------+------+\n",
      "|Torgersen|3750.0|\n",
      "|Torgersen|3800.0|\n",
      "|Torgersen|3250.0|\n",
      "+---------+------+\n",
      "only showing top 3 rows\n",
      "\n"
     ]
    }
   ],
   "source": [
    "# The following version of snippets are probably more common for selecting columns in PySpark:\n",
    "df_s.select('island', 'mass').show(3)"
   ]
  },
  {
   "cell_type": "code",
   "execution_count": 12,
   "id": "93c37dfd-81b3-4fb5-9838-d10cf7780405",
   "metadata": {},
   "outputs": [
    {
     "name": "stdout",
     "output_type": "stream",
     "text": [
      "+---------+------+\n",
      "|   island|  mass|\n",
      "+---------+------+\n",
      "|Torgersen|3750.0|\n",
      "|Torgersen|3800.0|\n",
      "|Torgersen|3250.0|\n",
      "+---------+------+\n",
      "only showing top 3 rows\n",
      "\n"
     ]
    }
   ],
   "source": [
    "df_s.select(['island', 'mass']).show(3)"
   ]
  },
  {
   "cell_type": "markdown",
   "id": "acfe5e1e-d925-4e32-83df-0527fea51bf8",
   "metadata": {},
   "source": [
    "### 1.2. Filtering"
   ]
  },
  {
   "cell_type": "markdown",
   "id": "916b1a15-688c-48e8-a438-535cb1038fdb",
   "metadata": {},
   "source": [
    "#### 1.2.1. How to filter the data based on a condition"
   ]
  },
  {
   "cell_type": "code",
   "execution_count": 13,
   "id": "545ad60e-f110-4cff-9935-4376022a1bb4",
   "metadata": {},
   "outputs": [
    {
     "data": {
      "text/html": [
       "<div>\n",
       "<style scoped>\n",
       "    .dataframe tbody tr th:only-of-type {\n",
       "        vertical-align: middle;\n",
       "    }\n",
       "\n",
       "    .dataframe tbody tr th {\n",
       "        vertical-align: top;\n",
       "    }\n",
       "\n",
       "    .dataframe thead th {\n",
       "        text-align: right;\n",
       "    }\n",
       "</style>\n",
       "<table border=\"1\" class=\"dataframe\">\n",
       "  <thead>\n",
       "    <tr style=\"text-align: right;\">\n",
       "      <th></th>\n",
       "      <th>species</th>\n",
       "      <th>island</th>\n",
       "      <th>flipper</th>\n",
       "      <th>mass</th>\n",
       "      <th>sex</th>\n",
       "    </tr>\n",
       "  </thead>\n",
       "  <tbody>\n",
       "    <tr>\n",
       "      <th>220</th>\n",
       "      <td>Gentoo</td>\n",
       "      <td>Biscoe</td>\n",
       "      <td>211.0</td>\n",
       "      <td>4500.0</td>\n",
       "      <td>Female</td>\n",
       "    </tr>\n",
       "    <tr>\n",
       "      <th>221</th>\n",
       "      <td>Gentoo</td>\n",
       "      <td>Biscoe</td>\n",
       "      <td>230.0</td>\n",
       "      <td>5700.0</td>\n",
       "      <td>Male</td>\n",
       "    </tr>\n",
       "    <tr>\n",
       "      <th>222</th>\n",
       "      <td>Gentoo</td>\n",
       "      <td>Biscoe</td>\n",
       "      <td>210.0</td>\n",
       "      <td>4450.0</td>\n",
       "      <td>Female</td>\n",
       "    </tr>\n",
       "    <tr>\n",
       "      <th>223</th>\n",
       "      <td>Gentoo</td>\n",
       "      <td>Biscoe</td>\n",
       "      <td>218.0</td>\n",
       "      <td>5700.0</td>\n",
       "      <td>Male</td>\n",
       "    </tr>\n",
       "    <tr>\n",
       "      <th>224</th>\n",
       "      <td>Gentoo</td>\n",
       "      <td>Biscoe</td>\n",
       "      <td>215.0</td>\n",
       "      <td>5400.0</td>\n",
       "      <td>Male</td>\n",
       "    </tr>\n",
       "  </tbody>\n",
       "</table>\n",
       "</div>"
      ],
      "text/plain": [
       "    species  island  flipper    mass     sex\n",
       "220  Gentoo  Biscoe    211.0  4500.0  Female\n",
       "221  Gentoo  Biscoe    230.0  5700.0    Male\n",
       "222  Gentoo  Biscoe    210.0  4450.0  Female\n",
       "223  Gentoo  Biscoe    218.0  5700.0    Male\n",
       "224  Gentoo  Biscoe    215.0  5400.0    Male"
      ]
     },
     "execution_count": 13,
     "metadata": {},
     "output_type": "execute_result"
    }
   ],
   "source": [
    "# 🐼 pandas \n",
    "df_p[df_p['species'] == 'Gentoo'].head()"
   ]
  },
  {
   "cell_type": "code",
   "execution_count": 14,
   "id": "ade624aa-9c5d-410f-a4ae-c10d3975a611",
   "metadata": {},
   "outputs": [
    {
     "name": "stdout",
     "output_type": "stream",
     "text": [
      "+-------+------+-------+------+------+\n",
      "|species|island|flipper|  mass|   sex|\n",
      "+-------+------+-------+------+------+\n",
      "| Gentoo|Biscoe|  211.0|4500.0|Female|\n",
      "| Gentoo|Biscoe|  230.0|5700.0|  Male|\n",
      "| Gentoo|Biscoe|  210.0|4450.0|Female|\n",
      "| Gentoo|Biscoe|  218.0|5700.0|  Male|\n",
      "| Gentoo|Biscoe|  215.0|5400.0|  Male|\n",
      "+-------+------+-------+------+------+\n",
      "only showing top 5 rows\n",
      "\n"
     ]
    }
   ],
   "source": [
    "# 🎇 PySpark\n",
    "df_s[df_s['species'] == 'Gentoo'].show(5)"
   ]
  },
  {
   "cell_type": "code",
   "execution_count": 15,
   "id": "e4492656-ea87-40ae-b50f-d8ecd5c1a6fe",
   "metadata": {},
   "outputs": [
    {
     "name": "stdout",
     "output_type": "stream",
     "text": [
      "+-------+------+-------+------+------+\n",
      "|species|island|flipper|  mass|   sex|\n",
      "+-------+------+-------+------+------+\n",
      "| Gentoo|Biscoe|  211.0|4500.0|Female|\n",
      "| Gentoo|Biscoe|  230.0|5700.0|  Male|\n",
      "| Gentoo|Biscoe|  210.0|4450.0|Female|\n",
      "| Gentoo|Biscoe|  218.0|5700.0|  Male|\n",
      "| Gentoo|Biscoe|  215.0|5400.0|  Male|\n",
      "+-------+------+-------+------+------+\n",
      "only showing top 5 rows\n",
      "\n"
     ]
    }
   ],
   "source": [
    "# We can also use the followings\n",
    "df_s.filter(df_s['species'] == 'Gentoo').show(5)"
   ]
  },
  {
   "cell_type": "code",
   "execution_count": 16,
   "id": "082050da-6bc0-4b5f-a49b-f45de3e7f7cd",
   "metadata": {},
   "outputs": [
    {
     "name": "stdout",
     "output_type": "stream",
     "text": [
      "+-------+------+-------+------+------+\n",
      "|species|island|flipper|  mass|   sex|\n",
      "+-------+------+-------+------+------+\n",
      "| Gentoo|Biscoe|  211.0|4500.0|Female|\n",
      "| Gentoo|Biscoe|  230.0|5700.0|  Male|\n",
      "| Gentoo|Biscoe|  210.0|4450.0|Female|\n",
      "| Gentoo|Biscoe|  218.0|5700.0|  Male|\n",
      "| Gentoo|Biscoe|  215.0|5400.0|  Male|\n",
      "+-------+------+-------+------+------+\n",
      "only showing top 5 rows\n",
      "\n"
     ]
    }
   ],
   "source": [
    "df_s.filter(\"species == 'Gentoo'\").show(5) "
   ]
  },
  {
   "cell_type": "markdown",
   "id": "3c503aaf-e382-4d2d-8e2a-57be428b7dab",
   "metadata": {},
   "source": [
    "#### Below shows a few common filter comparisons:"
   ]
  },
  {
   "cell_type": "code",
   "execution_count": 17,
   "id": "29ff2600-9283-41b9-a930-cbcf8abf3e8a",
   "metadata": {},
   "outputs": [],
   "source": [
    "# # 🐼 pandas \n",
    "# 2a df[df['species'].isin(['Chinstrap', 'Gentoo'])].head()\n",
    "# 3a df[df['species'].str.match('G.')].head()\n",
    "# 4a df[df['flipper'].between(225,229)].head()\n",
    "# 5a df[df['mass'].isnull()].head()\n",
    "# 1b df.loc[df['species']!='Gentoo'].head()\n",
    "# 2b df[~df['species'].isin(['Chinstrap', 'Gentoo'])].head()\n",
    "# 3b df[-df['species'].str.match('G.')].head()\n",
    "# 4b df[~df['flipper'].between(225,229)].head()\n",
    "# 5b df[df['mass'].notnull()].head()\n",
    "# 6 df[(df['mass']<3400) & (df['sex']=='Male')].head()\n",
    "# 7 df[(df['mass']<3400) | (df['sex']=='Male')].head()\n",
    "# # 🎇 PySpark\n",
    "# 2a df[df['species'].isin(['Chinstrap', 'Gentoo'])].show(5)\n",
    "# 3a df[df['species'].rlike('G.')].show(5)\n",
    "# 4a df[df['flipper'].between(225,229)].show(5)\n",
    "# 5a df[df['mass'].isNull()].show(5)\n",
    "# 1b df[df['species']!='Gentoo'].show(5)\n",
    "# 2b df[~df['species'].isin(['Chinstrap', 'Gentoo'])].show(5)\n",
    "# 3b df[~df['species'].rlike('G.')].show(5)\n",
    "# 4b df[~df['flipper'].between(225,229)].show(5)\n",
    "# 5b df[df['mass'].isNotNull()].show(5)\n",
    "# 6 df[(df['mass']<3400) & (df['sex']=='Male')].show(5)\n",
    "# 7 df[(df['mass']<3400) |(df['sex']=='Male')].show(5)"
   ]
  },
  {
   "cell_type": "markdown",
   "id": "d100887e-2d66-4433-805c-c6b69e41508b",
   "metadata": {},
   "source": [
    "### 1.3. Sorting"
   ]
  },
  {
   "cell_type": "markdown",
   "id": "1771dc6f-049a-4593-bedb-21b9cce0e22b",
   "metadata": {},
   "source": [
    "#### 1.3.1. To inspect 5 rows with smallest mass:"
   ]
  },
  {
   "cell_type": "code",
   "execution_count": 18,
   "id": "74421115-63b5-4504-af07-80ac6328ad6c",
   "metadata": {},
   "outputs": [
    {
     "data": {
      "text/html": [
       "<div>\n",
       "<style scoped>\n",
       "    .dataframe tbody tr th:only-of-type {\n",
       "        vertical-align: middle;\n",
       "    }\n",
       "\n",
       "    .dataframe tbody tr th {\n",
       "        vertical-align: top;\n",
       "    }\n",
       "\n",
       "    .dataframe thead th {\n",
       "        text-align: right;\n",
       "    }\n",
       "</style>\n",
       "<table border=\"1\" class=\"dataframe\">\n",
       "  <thead>\n",
       "    <tr style=\"text-align: right;\">\n",
       "      <th></th>\n",
       "      <th>species</th>\n",
       "      <th>island</th>\n",
       "      <th>flipper</th>\n",
       "      <th>mass</th>\n",
       "      <th>sex</th>\n",
       "    </tr>\n",
       "  </thead>\n",
       "  <tbody>\n",
       "    <tr>\n",
       "      <th>190</th>\n",
       "      <td>Chinstrap</td>\n",
       "      <td>Dream</td>\n",
       "      <td>192.0</td>\n",
       "      <td>2700.0</td>\n",
       "      <td>Female</td>\n",
       "    </tr>\n",
       "    <tr>\n",
       "      <th>58</th>\n",
       "      <td>Adelie</td>\n",
       "      <td>Biscoe</td>\n",
       "      <td>181.0</td>\n",
       "      <td>2850.0</td>\n",
       "      <td>Female</td>\n",
       "    </tr>\n",
       "    <tr>\n",
       "      <th>64</th>\n",
       "      <td>Adelie</td>\n",
       "      <td>Biscoe</td>\n",
       "      <td>184.0</td>\n",
       "      <td>2850.0</td>\n",
       "      <td>Female</td>\n",
       "    </tr>\n",
       "    <tr>\n",
       "      <th>54</th>\n",
       "      <td>Adelie</td>\n",
       "      <td>Biscoe</td>\n",
       "      <td>187.0</td>\n",
       "      <td>2900.0</td>\n",
       "      <td>Female</td>\n",
       "    </tr>\n",
       "    <tr>\n",
       "      <th>98</th>\n",
       "      <td>Adelie</td>\n",
       "      <td>Dream</td>\n",
       "      <td>178.0</td>\n",
       "      <td>2900.0</td>\n",
       "      <td>Female</td>\n",
       "    </tr>\n",
       "  </tbody>\n",
       "</table>\n",
       "</div>"
      ],
      "text/plain": [
       "       species  island  flipper    mass     sex\n",
       "190  Chinstrap   Dream    192.0  2700.0  Female\n",
       "58      Adelie  Biscoe    181.0  2850.0  Female\n",
       "64      Adelie  Biscoe    184.0  2850.0  Female\n",
       "54      Adelie  Biscoe    187.0  2900.0  Female\n",
       "98      Adelie   Dream    178.0  2900.0  Female"
      ]
     },
     "execution_count": 18,
     "metadata": {},
     "output_type": "execute_result"
    }
   ],
   "source": [
    "# 🐼 pandas \n",
    "df_p.nsmallest(5, 'mass')"
   ]
  },
  {
   "cell_type": "code",
   "execution_count": 19,
   "id": "88bd75d2-aa69-4097-8b0f-756242b1c733",
   "metadata": {},
   "outputs": [
    {
     "name": "stdout",
     "output_type": "stream",
     "text": [
      "+---------+---------+-------+------+------+\n",
      "|  species|   island|flipper|  mass|   sex|\n",
      "+---------+---------+-------+------+------+\n",
      "|   Gentoo|   Biscoe|   null|  null|  null|\n",
      "|   Adelie|Torgersen|   null|  null|  null|\n",
      "|Chinstrap|    Dream|  192.0|2700.0|Female|\n",
      "|   Adelie|   Biscoe|  181.0|2850.0|Female|\n",
      "|   Adelie|   Biscoe|  184.0|2850.0|Female|\n",
      "+---------+---------+-------+------+------+\n",
      "only showing top 5 rows\n",
      "\n"
     ]
    }
   ],
   "source": [
    "# 🎇 PySpark\n",
    "df_s.orderBy('mass').show(5)  # include nulls"
   ]
  },
  {
   "cell_type": "markdown",
   "id": "403ee586-7002-44b1-a2d3-95661b8b4293",
   "metadata": {},
   "source": [
    "Pandas' `.nsmallest()` and `.nlargest()` methods sensibly excludes missing values. However, PySpark doesn’t have equivalent methods."
   ]
  },
  {
   "cell_type": "code",
   "execution_count": 20,
   "id": "f74b6bd9-2ba3-448a-a81f-b9cbba053ddf",
   "metadata": {},
   "outputs": [
    {
     "name": "stdout",
     "output_type": "stream",
     "text": [
      "+---------+------+-------+------+------+\n",
      "|  species|island|flipper|  mass|   sex|\n",
      "+---------+------+-------+------+------+\n",
      "|Chinstrap| Dream|  192.0|2700.0|Female|\n",
      "|   Adelie|Biscoe|  184.0|2850.0|Female|\n",
      "|   Adelie|Biscoe|  181.0|2850.0|Female|\n",
      "|   Adelie|Biscoe|  187.0|2900.0|Female|\n",
      "|   Adelie| Dream|  178.0|2900.0|Female|\n",
      "+---------+------+-------+------+------+\n",
      "only showing top 5 rows\n",
      "\n"
     ]
    }
   ],
   "source": [
    "# Correct way\n",
    "df_s[df_s['mass'].isNotNull()].orderBy('mass').show(5)"
   ]
  },
  {
   "cell_type": "markdown",
   "id": "deca1d5e-913b-4c5b-97ad-4b2323f7ce76",
   "metadata": {},
   "source": [
    "#### 1.3.2. another way of sorting using `.sort()` instead of `.orderBy()`:"
   ]
  },
  {
   "cell_type": "code",
   "execution_count": 21,
   "id": "19ae0b84-16bb-4a7d-a16c-90b1166b73fa",
   "metadata": {},
   "outputs": [
    {
     "data": {
      "text/html": [
       "<div>\n",
       "<style scoped>\n",
       "    .dataframe tbody tr th:only-of-type {\n",
       "        vertical-align: middle;\n",
       "    }\n",
       "\n",
       "    .dataframe tbody tr th {\n",
       "        vertical-align: top;\n",
       "    }\n",
       "\n",
       "    .dataframe thead th {\n",
       "        text-align: right;\n",
       "    }\n",
       "</style>\n",
       "<table border=\"1\" class=\"dataframe\">\n",
       "  <thead>\n",
       "    <tr style=\"text-align: right;\">\n",
       "      <th></th>\n",
       "      <th>species</th>\n",
       "      <th>island</th>\n",
       "      <th>flipper</th>\n",
       "      <th>mass</th>\n",
       "      <th>sex</th>\n",
       "    </tr>\n",
       "  </thead>\n",
       "  <tbody>\n",
       "    <tr>\n",
       "      <th>237</th>\n",
       "      <td>Gentoo</td>\n",
       "      <td>Biscoe</td>\n",
       "      <td>221.0</td>\n",
       "      <td>6300.0</td>\n",
       "      <td>Male</td>\n",
       "    </tr>\n",
       "    <tr>\n",
       "      <th>253</th>\n",
       "      <td>Gentoo</td>\n",
       "      <td>Biscoe</td>\n",
       "      <td>230.0</td>\n",
       "      <td>6050.0</td>\n",
       "      <td>Male</td>\n",
       "    </tr>\n",
       "    <tr>\n",
       "      <th>297</th>\n",
       "      <td>Gentoo</td>\n",
       "      <td>Biscoe</td>\n",
       "      <td>220.0</td>\n",
       "      <td>6000.0</td>\n",
       "      <td>Male</td>\n",
       "    </tr>\n",
       "    <tr>\n",
       "      <th>337</th>\n",
       "      <td>Gentoo</td>\n",
       "      <td>Biscoe</td>\n",
       "      <td>222.0</td>\n",
       "      <td>6000.0</td>\n",
       "      <td>Male</td>\n",
       "    </tr>\n",
       "    <tr>\n",
       "      <th>299</th>\n",
       "      <td>Gentoo</td>\n",
       "      <td>Biscoe</td>\n",
       "      <td>223.0</td>\n",
       "      <td>5950.0</td>\n",
       "      <td>Male</td>\n",
       "    </tr>\n",
       "  </tbody>\n",
       "</table>\n",
       "</div>"
      ],
      "text/plain": [
       "    species  island  flipper    mass   sex\n",
       "237  Gentoo  Biscoe    221.0  6300.0  Male\n",
       "253  Gentoo  Biscoe    230.0  6050.0  Male\n",
       "297  Gentoo  Biscoe    220.0  6000.0  Male\n",
       "337  Gentoo  Biscoe    222.0  6000.0  Male\n",
       "299  Gentoo  Biscoe    223.0  5950.0  Male"
      ]
     },
     "execution_count": 21,
     "metadata": {},
     "output_type": "execute_result"
    }
   ],
   "source": [
    "# 🐼 pandas \n",
    "df_p.nlargest(5, 'mass')"
   ]
  },
  {
   "cell_type": "code",
   "execution_count": 22,
   "id": "2f401265-76b5-4e9a-ba3e-e91720ce2286",
   "metadata": {},
   "outputs": [
    {
     "name": "stdout",
     "output_type": "stream",
     "text": [
      "+-------+------+-------+------+----+\n",
      "|species|island|flipper|  mass| sex|\n",
      "+-------+------+-------+------+----+\n",
      "| Gentoo|Biscoe|  221.0|6300.0|Male|\n",
      "| Gentoo|Biscoe|  230.0|6050.0|Male|\n",
      "| Gentoo|Biscoe|  220.0|6000.0|Male|\n",
      "| Gentoo|Biscoe|  222.0|6000.0|Male|\n",
      "| Gentoo|Biscoe|  229.0|5950.0|Male|\n",
      "+-------+------+-------+------+----+\n",
      "only showing top 5 rows\n",
      "\n"
     ]
    }
   ],
   "source": [
    "# 🎇 PySpark\n",
    "df_s.sort('mass', ascending=False).show(5)"
   ]
  },
  {
   "cell_type": "markdown",
   "id": "3a22f716-6dad-46ac-80d0-2fd169abb911",
   "metadata": {},
   "source": [
    "#### The following variations of the syntax also work:"
   ]
  },
  {
   "cell_type": "code",
   "execution_count": 23,
   "id": "93e3c04c-68a9-4dda-8186-f8e5f4b42b3c",
   "metadata": {},
   "outputs": [],
   "source": [
    "# df_s.sort(df_s['mass'].desc()).show(5)\n",
    "# df_s.orderBy('mass', ascending=False).show(5)\n",
    "# df_s.orderBy(df_s['mass'].desc()).show(5)"
   ]
  },
  {
   "cell_type": "markdown",
   "id": "7bc90baf-9a24-40af-a443-dc7b133ac22e",
   "metadata": {},
   "source": [
    "#### 1.3.3. To sort by multiple columns"
   ]
  },
  {
   "cell_type": "code",
   "execution_count": 24,
   "id": "4f28fcbc-5e78-49d7-a7b8-8e68239d272f",
   "metadata": {},
   "outputs": [
    {
     "data": {
      "text/html": [
       "<div>\n",
       "<style scoped>\n",
       "    .dataframe tbody tr th:only-of-type {\n",
       "        vertical-align: middle;\n",
       "    }\n",
       "\n",
       "    .dataframe tbody tr th {\n",
       "        vertical-align: top;\n",
       "    }\n",
       "\n",
       "    .dataframe thead th {\n",
       "        text-align: right;\n",
       "    }\n",
       "</style>\n",
       "<table border=\"1\" class=\"dataframe\">\n",
       "  <thead>\n",
       "    <tr style=\"text-align: right;\">\n",
       "      <th></th>\n",
       "      <th>species</th>\n",
       "      <th>island</th>\n",
       "      <th>flipper</th>\n",
       "      <th>mass</th>\n",
       "      <th>sex</th>\n",
       "    </tr>\n",
       "  </thead>\n",
       "  <tbody>\n",
       "    <tr>\n",
       "      <th>237</th>\n",
       "      <td>Gentoo</td>\n",
       "      <td>Biscoe</td>\n",
       "      <td>221.0</td>\n",
       "      <td>6300.0</td>\n",
       "      <td>Male</td>\n",
       "    </tr>\n",
       "    <tr>\n",
       "      <th>253</th>\n",
       "      <td>Gentoo</td>\n",
       "      <td>Biscoe</td>\n",
       "      <td>230.0</td>\n",
       "      <td>6050.0</td>\n",
       "      <td>Male</td>\n",
       "    </tr>\n",
       "    <tr>\n",
       "      <th>337</th>\n",
       "      <td>Gentoo</td>\n",
       "      <td>Biscoe</td>\n",
       "      <td>222.0</td>\n",
       "      <td>6000.0</td>\n",
       "      <td>Male</td>\n",
       "    </tr>\n",
       "    <tr>\n",
       "      <th>297</th>\n",
       "      <td>Gentoo</td>\n",
       "      <td>Biscoe</td>\n",
       "      <td>220.0</td>\n",
       "      <td>6000.0</td>\n",
       "      <td>Male</td>\n",
       "    </tr>\n",
       "    <tr>\n",
       "      <th>331</th>\n",
       "      <td>Gentoo</td>\n",
       "      <td>Biscoe</td>\n",
       "      <td>229.0</td>\n",
       "      <td>5950.0</td>\n",
       "      <td>Male</td>\n",
       "    </tr>\n",
       "  </tbody>\n",
       "</table>\n",
       "</div>"
      ],
      "text/plain": [
       "    species  island  flipper    mass   sex\n",
       "237  Gentoo  Biscoe    221.0  6300.0  Male\n",
       "253  Gentoo  Biscoe    230.0  6050.0  Male\n",
       "337  Gentoo  Biscoe    222.0  6000.0  Male\n",
       "297  Gentoo  Biscoe    220.0  6000.0  Male\n",
       "331  Gentoo  Biscoe    229.0  5950.0  Male"
      ]
     },
     "execution_count": 24,
     "metadata": {},
     "output_type": "execute_result"
    }
   ],
   "source": [
    "# 🐼 pandas \n",
    "df_p.sort_values(['mass', 'flipper'], ascending=False).head()"
   ]
  },
  {
   "cell_type": "code",
   "execution_count": 25,
   "id": "809332aa-2560-48c9-8205-0385235ba9e1",
   "metadata": {},
   "outputs": [
    {
     "name": "stdout",
     "output_type": "stream",
     "text": [
      "+-------+------+-------+------+----+\n",
      "|species|island|flipper|  mass| sex|\n",
      "+-------+------+-------+------+----+\n",
      "| Gentoo|Biscoe|  221.0|6300.0|Male|\n",
      "| Gentoo|Biscoe|  230.0|6050.0|Male|\n",
      "| Gentoo|Biscoe|  222.0|6000.0|Male|\n",
      "| Gentoo|Biscoe|  220.0|6000.0|Male|\n",
      "| Gentoo|Biscoe|  229.0|5950.0|Male|\n",
      "+-------+------+-------+------+----+\n",
      "only showing top 5 rows\n",
      "\n"
     ]
    }
   ],
   "source": [
    "# 🎇 PySpark\n",
    "df_s.orderBy(['mass', 'flipper'], ascending=False).show(5)"
   ]
  },
  {
   "cell_type": "markdown",
   "id": "cd540421-b869-4728-adaa-dcfedc5a9b4d",
   "metadata": {},
   "source": [
    "In PySpark, you can get away without the list like this: `df.orderBy(‘mass’, ‘flipper’, ascending=False).show(5)`"
   ]
  },
  {
   "cell_type": "markdown",
   "id": "0a1a6ff2-0e4e-48b3-b8eb-14054253498a",
   "metadata": {},
   "source": [
    "#### 1.3.4. To sort by multiple columns but in different directions:"
   ]
  },
  {
   "cell_type": "code",
   "execution_count": 26,
   "id": "eb75f24e-d541-4120-a5fb-5d97e4862a4e",
   "metadata": {},
   "outputs": [
    {
     "data": {
      "text/html": [
       "<div>\n",
       "<style scoped>\n",
       "    .dataframe tbody tr th:only-of-type {\n",
       "        vertical-align: middle;\n",
       "    }\n",
       "\n",
       "    .dataframe tbody tr th {\n",
       "        vertical-align: top;\n",
       "    }\n",
       "\n",
       "    .dataframe thead th {\n",
       "        text-align: right;\n",
       "    }\n",
       "</style>\n",
       "<table border=\"1\" class=\"dataframe\">\n",
       "  <thead>\n",
       "    <tr style=\"text-align: right;\">\n",
       "      <th></th>\n",
       "      <th>species</th>\n",
       "      <th>island</th>\n",
       "      <th>flipper</th>\n",
       "      <th>mass</th>\n",
       "      <th>sex</th>\n",
       "    </tr>\n",
       "  </thead>\n",
       "  <tbody>\n",
       "    <tr>\n",
       "      <th>190</th>\n",
       "      <td>Chinstrap</td>\n",
       "      <td>Dream</td>\n",
       "      <td>192.0</td>\n",
       "      <td>2700.0</td>\n",
       "      <td>Female</td>\n",
       "    </tr>\n",
       "    <tr>\n",
       "      <th>64</th>\n",
       "      <td>Adelie</td>\n",
       "      <td>Biscoe</td>\n",
       "      <td>184.0</td>\n",
       "      <td>2850.0</td>\n",
       "      <td>Female</td>\n",
       "    </tr>\n",
       "    <tr>\n",
       "      <th>58</th>\n",
       "      <td>Adelie</td>\n",
       "      <td>Biscoe</td>\n",
       "      <td>181.0</td>\n",
       "      <td>2850.0</td>\n",
       "      <td>Female</td>\n",
       "    </tr>\n",
       "    <tr>\n",
       "      <th>116</th>\n",
       "      <td>Adelie</td>\n",
       "      <td>Torgersen</td>\n",
       "      <td>188.0</td>\n",
       "      <td>2900.0</td>\n",
       "      <td>Female</td>\n",
       "    </tr>\n",
       "    <tr>\n",
       "      <th>54</th>\n",
       "      <td>Adelie</td>\n",
       "      <td>Biscoe</td>\n",
       "      <td>187.0</td>\n",
       "      <td>2900.0</td>\n",
       "      <td>Female</td>\n",
       "    </tr>\n",
       "  </tbody>\n",
       "</table>\n",
       "</div>"
      ],
      "text/plain": [
       "       species     island  flipper    mass     sex\n",
       "190  Chinstrap      Dream    192.0  2700.0  Female\n",
       "64      Adelie     Biscoe    184.0  2850.0  Female\n",
       "58      Adelie     Biscoe    181.0  2850.0  Female\n",
       "116     Adelie  Torgersen    188.0  2900.0  Female\n",
       "54      Adelie     Biscoe    187.0  2900.0  Female"
      ]
     },
     "execution_count": 26,
     "metadata": {},
     "output_type": "execute_result"
    }
   ],
   "source": [
    "# 🐼 pandas \n",
    "df_p.sort_values(['mass', 'flipper'], ascending=[True, False]).head()"
   ]
  },
  {
   "cell_type": "code",
   "execution_count": 27,
   "id": "d4e2c83a-c850-4ed8-a6b3-fb81cbd0ab17",
   "metadata": {},
   "outputs": [
    {
     "name": "stdout",
     "output_type": "stream",
     "text": [
      "+---------+---------+-------+------+------+\n",
      "|  species|   island|flipper|  mass|   sex|\n",
      "+---------+---------+-------+------+------+\n",
      "|Chinstrap|    Dream|  192.0|2700.0|Female|\n",
      "|   Adelie|   Biscoe|  184.0|2850.0|Female|\n",
      "|   Adelie|   Biscoe|  181.0|2850.0|Female|\n",
      "|   Adelie|Torgersen|  188.0|2900.0|Female|\n",
      "|   Adelie|   Biscoe|  187.0|2900.0|Female|\n",
      "+---------+---------+-------+------+------+\n",
      "only showing top 5 rows\n",
      "\n"
     ]
    }
   ],
   "source": [
    "# 🎇 PySpark\n",
    "df_s[df_s['mass'].isNotNull()]\\\n",
    "  .sort('mass', 'flipper', ascending=[True, False]).show(5)"
   ]
  },
  {
   "cell_type": "code",
   "execution_count": 28,
   "id": "fe283bc2-4f65-498e-aa65-6751b14bf06c",
   "metadata": {},
   "outputs": [
    {
     "name": "stdout",
     "output_type": "stream",
     "text": [
      "+---------+---------+-------+------+------+\n",
      "|  species|   island|flipper|  mass|   sex|\n",
      "+---------+---------+-------+------+------+\n",
      "|Chinstrap|    Dream|  192.0|2700.0|Female|\n",
      "|   Adelie|   Biscoe|  184.0|2850.0|Female|\n",
      "|   Adelie|   Biscoe|  181.0|2850.0|Female|\n",
      "|   Adelie|Torgersen|  188.0|2900.0|Female|\n",
      "|   Adelie|   Biscoe|  187.0|2900.0|Female|\n",
      "+---------+---------+-------+------+------+\n",
      "only showing top 5 rows\n",
      "\n"
     ]
    }
   ],
   "source": [
    "# an alternative:\n",
    "df_s[df_s['mass'].isNotNull()]\\\n",
    "  .orderBy(df_s['mass'].asc(), df_s['flipper'].desc()).show(5)"
   ]
  },
  {
   "cell_type": "markdown",
   "id": "bfa53c1a-cade-4e1f-a837-ef9df836fe75",
   "metadata": {},
   "source": [
    "### 1.4. Aggregation"
   ]
  },
  {
   "cell_type": "markdown",
   "id": "d0b877a5-2451-4d1a-be12-14718bb4abb8",
   "metadata": {},
   "source": [
    "#### 1.4.1. Simple aggregation"
   ]
  },
  {
   "cell_type": "code",
   "execution_count": 29,
   "id": "11ee5fc8-a0bc-4f84-b11c-5f39992ae00d",
   "metadata": {},
   "outputs": [
    {
     "data": {
      "text/plain": [
       "flipper    200.915205\n",
       "dtype: float64"
      ]
     },
     "execution_count": 29,
     "metadata": {},
     "output_type": "execute_result"
    }
   ],
   "source": [
    "# 🐼 pandas \n",
    "df_p.agg({'flipper': 'mean'})"
   ]
  },
  {
   "cell_type": "code",
   "execution_count": 30,
   "id": "0047636e-b472-4776-8b54-620ea12d1ee7",
   "metadata": {},
   "outputs": [
    {
     "name": "stdout",
     "output_type": "stream",
     "text": [
      "+------------------+\n",
      "|      avg(flipper)|\n",
      "+------------------+\n",
      "|200.91520467836258|\n",
      "+------------------+\n",
      "\n"
     ]
    }
   ],
   "source": [
    "# 🎇 PySpark\n",
    "df_s.agg({'flipper': 'mean'}).show()"
   ]
  },
  {
   "cell_type": "markdown",
   "id": "9444aeb6-4006-4dc8-9bce-566eca49f87a",
   "metadata": {},
   "source": [
    "#### 1.4.2. Multiple aggregations"
   ]
  },
  {
   "cell_type": "code",
   "execution_count": 31,
   "id": "d0f0171e-b5eb-46e9-bac7-16bbe4512270",
   "metadata": {},
   "outputs": [
    {
     "data": {
      "text/html": [
       "<div>\n",
       "<style scoped>\n",
       "    .dataframe tbody tr th:only-of-type {\n",
       "        vertical-align: middle;\n",
       "    }\n",
       "\n",
       "    .dataframe tbody tr th {\n",
       "        vertical-align: top;\n",
       "    }\n",
       "\n",
       "    .dataframe thead th {\n",
       "        text-align: right;\n",
       "    }\n",
       "</style>\n",
       "<table border=\"1\" class=\"dataframe\">\n",
       "  <thead>\n",
       "    <tr style=\"text-align: right;\">\n",
       "      <th></th>\n",
       "      <th>flipper</th>\n",
       "    </tr>\n",
       "  </thead>\n",
       "  <tbody>\n",
       "    <tr>\n",
       "      <th>min</th>\n",
       "      <td>172.0</td>\n",
       "    </tr>\n",
       "    <tr>\n",
       "      <th>max</th>\n",
       "      <td>231.0</td>\n",
       "    </tr>\n",
       "  </tbody>\n",
       "</table>\n",
       "</div>"
      ],
      "text/plain": [
       "     flipper\n",
       "min    172.0\n",
       "max    231.0"
      ]
     },
     "execution_count": 31,
     "metadata": {},
     "output_type": "execute_result"
    }
   ],
   "source": [
    "# 🐼 pandas \n",
    "df_p.agg({'flipper': ['min', 'max']})"
   ]
  },
  {
   "cell_type": "code",
   "execution_count": 32,
   "id": "e3ea7822-c000-4d94-9d19-39834d80474f",
   "metadata": {},
   "outputs": [
    {
     "name": "stdout",
     "output_type": "stream",
     "text": [
      "+------------+------------+\n",
      "|min(flipper)|max(flipper)|\n",
      "+------------+------------+\n",
      "|       172.0|       231.0|\n",
      "+------------+------------+\n",
      "\n"
     ]
    }
   ],
   "source": [
    "# 🎇 PySpark\n",
    "from pyspark.sql import functions as F\n",
    "df_s.agg(F.min('flipper'), F.max('flipper')).show()"
   ]
  },
  {
   "cell_type": "markdown",
   "id": "98bf6c5c-fe02-4706-9682-cde31b88cc72",
   "metadata": {},
   "source": [
    "#### 1.4.3. To get distinct values in a column"
   ]
  },
  {
   "cell_type": "code",
   "execution_count": 33,
   "id": "4baa269a-13eb-4de0-82c7-0f1a9a7880d6",
   "metadata": {},
   "outputs": [
    {
     "data": {
      "text/plain": [
       "array(['Adelie', 'Chinstrap', 'Gentoo'], dtype=object)"
      ]
     },
     "execution_count": 33,
     "metadata": {},
     "output_type": "execute_result"
    }
   ],
   "source": [
    "# 🐼 pandas \n",
    "df_p['species'].unique()"
   ]
  },
  {
   "cell_type": "code",
   "execution_count": 34,
   "id": "a979d6bd-6b0e-45ca-9e38-1eba0d734839",
   "metadata": {},
   "outputs": [
    {
     "name": "stdout",
     "output_type": "stream",
     "text": [
      "+---------+\n",
      "|  species|\n",
      "+---------+\n",
      "|   Gentoo|\n",
      "|   Adelie|\n",
      "|Chinstrap|\n",
      "+---------+\n",
      "\n"
     ]
    }
   ],
   "source": [
    "# 🎇 PySpark\n",
    "df_s.select('species').distinct().show()"
   ]
  },
  {
   "cell_type": "markdown",
   "id": "45b66100-8da3-45c8-b3ab-0bfc94fb6f8b",
   "metadata": {},
   "source": [
    "#### 1.4.4. To get a number of distinct values in a column:"
   ]
  },
  {
   "cell_type": "code",
   "execution_count": 35,
   "id": "5d7845df-b138-4bfd-b856-7a962399d191",
   "metadata": {},
   "outputs": [
    {
     "data": {
      "text/plain": [
       "3"
      ]
     },
     "execution_count": 35,
     "metadata": {},
     "output_type": "execute_result"
    }
   ],
   "source": [
    "# 🐼 pandas \n",
    "df_p['species'].nunique()"
   ]
  },
  {
   "cell_type": "code",
   "execution_count": 36,
   "id": "eca8b371-85cc-471c-ac80-7d987d366e6f",
   "metadata": {},
   "outputs": [
    {
     "data": {
      "text/plain": [
       "3"
      ]
     },
     "execution_count": 36,
     "metadata": {},
     "output_type": "execute_result"
    }
   ],
   "source": [
    "# 🎇 PySpark\n",
    "df_s.select('species').distinct().count()"
   ]
  },
  {
   "cell_type": "markdown",
   "id": "92220c51-f849-4260-b69f-85359ca8d4cb",
   "metadata": {},
   "source": [
    "### 1.5. Aggregation by group"
   ]
  },
  {
   "cell_type": "markdown",
   "id": "cd824956-cd8c-47a8-abc8-cd25a818fcd9",
   "metadata": {},
   "source": [
    "#### 1.5.1. Simple group by aggregation"
   ]
  },
  {
   "cell_type": "code",
   "execution_count": 37,
   "id": "fa5124df-4f40-4483-aec9-5e2bccd27212",
   "metadata": {},
   "outputs": [
    {
     "data": {
      "text/plain": [
       "species\n",
       "Adelie       3700.662252\n",
       "Chinstrap    3733.088235\n",
       "Gentoo       5076.016260\n",
       "Name: mass, dtype: float64"
      ]
     },
     "execution_count": 37,
     "metadata": {},
     "output_type": "execute_result"
    }
   ],
   "source": [
    "# 🐼 pandas \n",
    "df_p.groupby('species')['mass'].mean()"
   ]
  },
  {
   "cell_type": "code",
   "execution_count": 38,
   "id": "b1025140-7733-4321-9bc7-03ac8e4f2218",
   "metadata": {},
   "outputs": [
    {
     "name": "stdout",
     "output_type": "stream",
     "text": [
      "+---------+------------------+\n",
      "|  species|         avg(mass)|\n",
      "+---------+------------------+\n",
      "|   Gentoo| 5076.016260162602|\n",
      "|   Adelie| 3700.662251655629|\n",
      "|Chinstrap|3733.0882352941176|\n",
      "+---------+------------------+\n",
      "\n"
     ]
    }
   ],
   "source": [
    "# 🎇 PySpark\n",
    "df_s.groupBy('species').agg({'mass': 'mean'}).show()"
   ]
  },
  {
   "cell_type": "markdown",
   "id": "72d8c315-ffdd-4ee0-b431-b5797209e58b",
   "metadata": {},
   "source": [
    "#### 1.5.2. Aggregating multiple selected columns"
   ]
  },
  {
   "cell_type": "code",
   "execution_count": 39,
   "id": "6a1d36c0-10c1-4580-999f-afee8854b11c",
   "metadata": {},
   "outputs": [
    {
     "data": {
      "text/html": [
       "<div>\n",
       "<style scoped>\n",
       "    .dataframe tbody tr th:only-of-type {\n",
       "        vertical-align: middle;\n",
       "    }\n",
       "\n",
       "    .dataframe tbody tr th {\n",
       "        vertical-align: top;\n",
       "    }\n",
       "\n",
       "    .dataframe thead th {\n",
       "        text-align: right;\n",
       "    }\n",
       "</style>\n",
       "<table border=\"1\" class=\"dataframe\">\n",
       "  <thead>\n",
       "    <tr style=\"text-align: right;\">\n",
       "      <th></th>\n",
       "      <th>flipper</th>\n",
       "      <th>mass</th>\n",
       "    </tr>\n",
       "    <tr>\n",
       "      <th>species</th>\n",
       "      <th></th>\n",
       "      <th></th>\n",
       "    </tr>\n",
       "  </thead>\n",
       "  <tbody>\n",
       "    <tr>\n",
       "      <th>Adelie</th>\n",
       "      <td>28683.0</td>\n",
       "      <td>3700.662252</td>\n",
       "    </tr>\n",
       "    <tr>\n",
       "      <th>Chinstrap</th>\n",
       "      <td>13316.0</td>\n",
       "      <td>3733.088235</td>\n",
       "    </tr>\n",
       "    <tr>\n",
       "      <th>Gentoo</th>\n",
       "      <td>26714.0</td>\n",
       "      <td>5076.016260</td>\n",
       "    </tr>\n",
       "  </tbody>\n",
       "</table>\n",
       "</div>"
      ],
      "text/plain": [
       "           flipper         mass\n",
       "species                        \n",
       "Adelie     28683.0  3700.662252\n",
       "Chinstrap  13316.0  3733.088235\n",
       "Gentoo     26714.0  5076.016260"
      ]
     },
     "execution_count": 39,
     "metadata": {},
     "output_type": "execute_result"
    }
   ],
   "source": [
    "# 🐼 pandas \n",
    "df_p.groupby('species').agg({'flipper': 'sum', 'mass': 'mean'})"
   ]
  },
  {
   "cell_type": "code",
   "execution_count": 40,
   "id": "b311bd99-04d9-47d9-84a6-f07cc82b893d",
   "metadata": {},
   "outputs": [
    {
     "name": "stdout",
     "output_type": "stream",
     "text": [
      "+---------+------------+------------------+\n",
      "|  species|sum(flipper)|         avg(mass)|\n",
      "+---------+------------+------------------+\n",
      "|   Gentoo|     26714.0| 5076.016260162602|\n",
      "|   Adelie|     28683.0| 3700.662251655629|\n",
      "|Chinstrap|     13316.0|3733.0882352941176|\n",
      "+---------+------------+------------------+\n",
      "\n"
     ]
    }
   ],
   "source": [
    "# 🎇 PySpark\n",
    "df_s.groupBy('species').agg({'flipper': 'sum', 'mass': 'mean'}).show()"
   ]
  },
  {
   "cell_type": "markdown",
   "id": "aadb8aa5-7ebf-43e5-b6de-07d052a2011c",
   "metadata": {},
   "source": [
    "#### If we don’t specify a column, it will show stats for all numerical columns:"
   ]
  },
  {
   "cell_type": "code",
   "execution_count": 41,
   "id": "81d83df2-9f50-40dd-88d4-90f0f6213f4a",
   "metadata": {},
   "outputs": [
    {
     "data": {
      "text/html": [
       "<div>\n",
       "<style scoped>\n",
       "    .dataframe tbody tr th:only-of-type {\n",
       "        vertical-align: middle;\n",
       "    }\n",
       "\n",
       "    .dataframe tbody tr th {\n",
       "        vertical-align: top;\n",
       "    }\n",
       "\n",
       "    .dataframe thead th {\n",
       "        text-align: right;\n",
       "    }\n",
       "</style>\n",
       "<table border=\"1\" class=\"dataframe\">\n",
       "  <thead>\n",
       "    <tr style=\"text-align: right;\">\n",
       "      <th></th>\n",
       "      <th>flipper</th>\n",
       "      <th>mass</th>\n",
       "    </tr>\n",
       "    <tr>\n",
       "      <th>species</th>\n",
       "      <th></th>\n",
       "      <th></th>\n",
       "    </tr>\n",
       "  </thead>\n",
       "  <tbody>\n",
       "    <tr>\n",
       "      <th>Adelie</th>\n",
       "      <td>189.953642</td>\n",
       "      <td>3700.662252</td>\n",
       "    </tr>\n",
       "    <tr>\n",
       "      <th>Chinstrap</th>\n",
       "      <td>195.823529</td>\n",
       "      <td>3733.088235</td>\n",
       "    </tr>\n",
       "    <tr>\n",
       "      <th>Gentoo</th>\n",
       "      <td>217.186992</td>\n",
       "      <td>5076.016260</td>\n",
       "    </tr>\n",
       "  </tbody>\n",
       "</table>\n",
       "</div>"
      ],
      "text/plain": [
       "              flipper         mass\n",
       "species                           \n",
       "Adelie     189.953642  3700.662252\n",
       "Chinstrap  195.823529  3733.088235\n",
       "Gentoo     217.186992  5076.016260"
      ]
     },
     "execution_count": 41,
     "metadata": {},
     "output_type": "execute_result"
    }
   ],
   "source": [
    "# 🐼 pandas \n",
    "df_p.groupby('species').mean()"
   ]
  },
  {
   "cell_type": "code",
   "execution_count": 42,
   "id": "722ad605-b652-4117-9fc8-1881f0921d71",
   "metadata": {},
   "outputs": [
    {
     "name": "stdout",
     "output_type": "stream",
     "text": [
      "+---------+------------------+------------------+\n",
      "|  species|      avg(flipper)|         avg(mass)|\n",
      "+---------+------------------+------------------+\n",
      "|   Gentoo| 217.1869918699187| 5076.016260162602|\n",
      "|   Adelie|189.95364238410596| 3700.662251655629|\n",
      "|Chinstrap| 195.8235294117647|3733.0882352941176|\n",
      "+---------+------------------+------------------+\n",
      "\n"
     ]
    }
   ],
   "source": [
    "# 🎇 PySpark\n",
    "df_s.groupBy('species').mean().show()"
   ]
  },
  {
   "cell_type": "code",
   "execution_count": null,
   "id": "533ab6c9-5f3a-4f36-a04b-11edd9849259",
   "metadata": {},
   "outputs": [],
   "source": []
  }
 ],
 "metadata": {
  "kernelspec": {
   "display_name": "Python [conda env:525_2022]",
   "language": "python",
   "name": "conda-env-525_2022-py"
  },
  "language_info": {
   "codemirror_mode": {
    "name": "ipython",
    "version": 3
   },
   "file_extension": ".py",
   "mimetype": "text/x-python",
   "name": "python",
   "nbconvert_exporter": "python",
   "pygments_lexer": "ipython3",
   "version": "3.8.6"
  }
 },
 "nbformat": 4,
 "nbformat_minor": 5
}
