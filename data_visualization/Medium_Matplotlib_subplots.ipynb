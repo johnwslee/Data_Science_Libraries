{
 "cells": [
  {
   "cell_type": "markdown",
   "id": "ee20237d-65c0-4fa4-8959-2f5b1a8745bd",
   "metadata": {},
   "source": [
    "Before moving forward, let’s define two fundamental Matplotlib object types: **Figure** and **Axes**.\n",
    "\n",
    "The figure can be considered as the outermost container that holds everything together. All other objects stay alive in this container. A Figure can have one or more Axes objects. In fact, we need Axes to object to actually draw something. **Each subplot on a Figure is actually an Axes object**."
   ]
  },
  {
   "cell_type": "markdown",
   "id": "48ab4e4e-de77-468f-a2ad-cd2337ba92d6",
   "metadata": {},
   "source": [
    "# Datasets"
   ]
  },
  {
   "cell_type": "markdown",
   "id": "9f355f84-ba1b-48c0-8a42-cba7d1251ccf",
   "metadata": {},
   "source": [
    "We will be using two different datasets for the examples in this article. The first one is a Pandas DataFrame with dates and random numbers:"
   ]
  },
  {
   "cell_type": "code",
   "execution_count": 1,
   "id": "8cccdc1c-d312-4e7c-9c0e-b827da9a6d08",
   "metadata": {},
   "outputs": [],
   "source": [
    "import pandas as pd\n",
    "import numpy as np"
   ]
  },
  {
   "cell_type": "code",
   "execution_count": 2,
   "id": "fee06ba1-e034-491e-aa5e-d3383c3a1348",
   "metadata": {},
   "outputs": [
    {
     "data": {
      "text/html": [
       "<div>\n",
       "<style scoped>\n",
       "    .dataframe tbody tr th:only-of-type {\n",
       "        vertical-align: middle;\n",
       "    }\n",
       "\n",
       "    .dataframe tbody tr th {\n",
       "        vertical-align: top;\n",
       "    }\n",
       "\n",
       "    .dataframe thead th {\n",
       "        text-align: right;\n",
       "    }\n",
       "</style>\n",
       "<table border=\"1\" class=\"dataframe\">\n",
       "  <thead>\n",
       "    <tr style=\"text-align: right;\">\n",
       "      <th></th>\n",
       "      <th>date</th>\n",
       "      <th>store1</th>\n",
       "      <th>store2</th>\n",
       "    </tr>\n",
       "  </thead>\n",
       "  <tbody>\n",
       "    <tr>\n",
       "      <th>0</th>\n",
       "      <td>2022-09-01</td>\n",
       "      <td>99</td>\n",
       "      <td>59</td>\n",
       "    </tr>\n",
       "    <tr>\n",
       "      <th>1</th>\n",
       "      <td>2022-09-02</td>\n",
       "      <td>98</td>\n",
       "      <td>57</td>\n",
       "    </tr>\n",
       "    <tr>\n",
       "      <th>2</th>\n",
       "      <td>2022-09-03</td>\n",
       "      <td>91</td>\n",
       "      <td>64</td>\n",
       "    </tr>\n",
       "    <tr>\n",
       "      <th>3</th>\n",
       "      <td>2022-09-04</td>\n",
       "      <td>96</td>\n",
       "      <td>52</td>\n",
       "    </tr>\n",
       "    <tr>\n",
       "      <th>4</th>\n",
       "      <td>2022-09-05</td>\n",
       "      <td>91</td>\n",
       "      <td>58</td>\n",
       "    </tr>\n",
       "  </tbody>\n",
       "</table>\n",
       "</div>"
      ],
      "text/plain": [
       "        date  store1  store2\n",
       "0 2022-09-01      99      59\n",
       "1 2022-09-02      98      57\n",
       "2 2022-09-03      91      64\n",
       "3 2022-09-04      96      52\n",
       "4 2022-09-05      91      58"
      ]
     },
     "execution_count": 2,
     "metadata": {},
     "output_type": "execute_result"
    }
   ],
   "source": [
    "df = pd.DataFrame({\n",
    "    \"date\": pd.date_range(start=\"2022-09-01\", freq=\"D\", periods=20),\n",
    "    \"store1\": np.random.randint(80, 100, size=20),\n",
    "    \"store2\": np.random.randint(50, 70, size=20)\n",
    "})\n",
    "df.head()"
   ]
  },
  {
   "cell_type": "markdown",
   "id": "af944653-6e53-4c6b-9d1a-69a9f342d19c",
   "metadata": {},
   "source": [
    "The second one is a sample sales dataset I created with mock data. You can download it from the [datasets](https://github.com/SonerYldrm/datasets) repository on my GitHub page. The dataset we will use in this article is called sales data with stores. Let’s create a Pandas DataFrame by reading this dataset. We will also do some filtering to eliminate outliers."
   ]
  },
  {
   "cell_type": "code",
   "execution_count": 3,
   "id": "d94c1ee7-f20b-4cd1-8836-0a49e47cc52c",
   "metadata": {},
   "outputs": [
    {
     "data": {
      "text/html": [
       "<div>\n",
       "<style scoped>\n",
       "    .dataframe tbody tr th:only-of-type {\n",
       "        vertical-align: middle;\n",
       "    }\n",
       "\n",
       "    .dataframe tbody tr th {\n",
       "        vertical-align: top;\n",
       "    }\n",
       "\n",
       "    .dataframe thead th {\n",
       "        text-align: right;\n",
       "    }\n",
       "</style>\n",
       "<table border=\"1\" class=\"dataframe\">\n",
       "  <thead>\n",
       "    <tr style=\"text-align: right;\">\n",
       "      <th></th>\n",
       "      <th>store</th>\n",
       "      <th>product_code</th>\n",
       "      <th>cost</th>\n",
       "      <th>price</th>\n",
       "      <th>last_week_sales</th>\n",
       "    </tr>\n",
       "  </thead>\n",
       "  <tbody>\n",
       "    <tr>\n",
       "      <th>0</th>\n",
       "      <td>Violet</td>\n",
       "      <td>4187</td>\n",
       "      <td>420.76</td>\n",
       "      <td>569.91</td>\n",
       "      <td>13</td>\n",
       "    </tr>\n",
       "    <tr>\n",
       "      <th>1</th>\n",
       "      <td>Daisy</td>\n",
       "      <td>2650</td>\n",
       "      <td>59.40</td>\n",
       "      <td>111.06</td>\n",
       "      <td>15</td>\n",
       "    </tr>\n",
       "    <tr>\n",
       "      <th>2</th>\n",
       "      <td>Rose</td>\n",
       "      <td>3997</td>\n",
       "      <td>85.50</td>\n",
       "      <td>132.91</td>\n",
       "      <td>32</td>\n",
       "    </tr>\n",
       "    <tr>\n",
       "      <th>3</th>\n",
       "      <td>Violet</td>\n",
       "      <td>4003</td>\n",
       "      <td>88.86</td>\n",
       "      <td>132.91</td>\n",
       "      <td>46</td>\n",
       "    </tr>\n",
       "    <tr>\n",
       "      <th>4</th>\n",
       "      <td>Violet</td>\n",
       "      <td>5211</td>\n",
       "      <td>68.52</td>\n",
       "      <td>94.91</td>\n",
       "      <td>48</td>\n",
       "    </tr>\n",
       "  </tbody>\n",
       "</table>\n",
       "</div>"
      ],
      "text/plain": [
       "    store  product_code    cost   price  last_week_sales\n",
       "0  Violet          4187  420.76  569.91               13\n",
       "1   Daisy          2650   59.40  111.06               15\n",
       "2    Rose          3997   85.50  132.91               32\n",
       "3  Violet          4003   88.86  132.91               46\n",
       "4  Violet          5211   68.52   94.91               48"
      ]
     },
     "execution_count": 3,
     "metadata": {},
     "output_type": "execute_result"
    }
   ],
   "source": [
    "sales = pd.read_csv(\n",
    "   \"data/sales_data_with_stores.csv\",\n",
    "   usecols=[\"store\", \"product_code\", \"cost\", \"price\", \"last_week_sales\"]\n",
    ")\n",
    "sales = sales[\n",
    "   (sales[\"cost\"] > 50) & (sales[\"cost\"] < 500)\n",
    "].reset_index(drop=True)\n",
    "sales.head()"
   ]
  },
  {
   "cell_type": "markdown",
   "id": "43b82516-0273-40df-9be9-544a2f1a1f36",
   "metadata": {},
   "source": [
    "# Overlapping Axes objects"
   ]
  },
  {
   "cell_type": "markdown",
   "id": "9442188d-98e8-4988-9c38-18c8008c946a",
   "metadata": {},
   "source": [
    "We can add multiple Axes objects to a Figure by placing them on top of each other, as shown below. Their sizes are actually the same. I drew them differently for demonstration purposes. The Axes objects share the same x-axis and y-axis by default."
   ]
  },
  {
   "cell_type": "code",
   "execution_count": 4,
   "id": "70c37f2b-d036-4421-a813-61e9236db0d8",
   "metadata": {},
   "outputs": [
    {
     "data": {
      "image/png": "[encoded data removed]",
      "text/plain": [
       "<Figure size 1008x360 with 1 Axes>"
      ]
     },
     "metadata": {
      "needs_background": "light"
     },
     "output_type": "display_data"
    }
   ],
   "source": [
    "import matplotlib.pyplot as plt\n",
    "# create a Figure object\n",
    "plt.figure(figsize=(14,5))\n",
    "# Figure title\n",
    "plt.title(\"September Sales\", fontsize=15)\n",
    "# first Axes\n",
    "plt.plot(df[\"date\"], df[\"store1\"])\n",
    "# second Axes\n",
    "plt.plot(df[\"date\"], df[\"store2\"])\n",
    "# add legend\n",
    "plt.legend([\"Store1\", \"Store2\"])\n",
    "plt.show()"
   ]
  },
  {
   "cell_type": "markdown",
   "id": "6bc6dd54-2522-4c18-9c3a-e9ebbad5b523",
   "metadata": {},
   "source": [
    "The values for both stores are between 50 and 100, so they can share the same y-axis. In cases where there is a huge difference in the y-values, we should consider adding a [secondary y-axis](https://towardsdatascience.com/3-tricks-to-prettify-matplotlib-plots-d0a73b861c09)."
   ]
  },
  {
   "cell_type": "markdown",
   "id": "1369ad64-6352-4906-a08d-8bc27ceb2e8f",
   "metadata": {},
   "source": [
    "# Axes objects in different positions"
   ]
  },
  {
   "cell_type": "markdown",
   "id": "94667007-4232-497d-956c-7bb82ba28595",
   "metadata": {},
   "source": [
    "There are two steps in this process:\n",
    "\n",
    "- Arrangement of the positions of Axes objects\n",
    "\n",
    "- Creating plots on each Axes object\n",
    "\n",
    "The arrangement can be made using the `add_subplot` or `subplot` functions. The subplot function is a wrapper of `add_subplot` and is a more frequently used one.\n",
    "\n",
    "We first create the schema for subplots. The `nrows` and `ncols` parameters can be used for this task. For instance, the line of code below creates a Figure with 4 Axes objects."
   ]
  },
  {
   "cell_type": "code",
   "execution_count": 5,
   "id": "989ee162-45eb-49f9-b6e0-eba295e199fe",
   "metadata": {},
   "outputs": [
    {
     "data": {
      "image/png": "[encoded data removed]",
      "text/plain": [
       "<Figure size 432x288 with 4 Axes>"
      ]
     },
     "metadata": {
      "needs_background": "light"
     },
     "output_type": "display_data"
    }
   ],
   "source": [
    "fig, axs = plt.subplots(nrows=2, ncols=2)"
   ]
  },
  {
   "cell_type": "markdown",
   "id": "73027d4e-449c-45ae-b755-c9b75624cfb6",
   "metadata": {},
   "source": [
    "We can create as many Axes objects as needed. Each Axes can be accessed with its index.\n",
    "\n",
    "Let’s create a Figure with 2 Axes and plot the histograms of the cost and price columns in the sales DataFrame."
   ]
  },
  {
   "cell_type": "code",
   "execution_count": 6,
   "id": "2455c813-64a7-4bb6-81f4-51fe5e47f752",
   "metadata": {},
   "outputs": [
    {
     "data": {
      "image/png": "[encoded data removed]",
      "text/plain": [
       "<Figure size 720x360 with 2 Axes>"
      ]
     },
     "metadata": {
      "needs_background": "light"
     },
     "output_type": "display_data"
    }
   ],
   "source": [
    "# Figure with 2 Axes objects\n",
    "fig, axs = plt.subplots(\n",
    "    figsize=(10, 5),\n",
    "    ncols=2,\n",
    "    sharey=True\n",
    ")\n",
    "# Figure title\n",
    "fig.suptitle(\"Histogram\", fontsize=16)\n",
    "# First Axes\n",
    "axs[0].hist(sales[\"price\"])\n",
    "axs[0].set_title(\"Price\", fontsize=14)\n",
    "# Second Axes\n",
    "axs[1].hist(sales[\"cost\"], color=\"green\")\n",
    "axs[1].set_title(\"Cost\", fontsize=14)\n",
    "plt.show()"
   ]
  },
  {
   "cell_type": "markdown",
   "id": "834832c0-e0e9-4bb2-a348-a4c472eaa0eb",
   "metadata": {},
   "source": [
    "The `sharex` and `sharey` parameters can be used to eliminate redundant axis ticks. For instance, in the Figure above, both plots can have the same y-axis, so we can remove the y-axis from the left one. This can be achieved by setting the value of the `sharey` parameter as True."
   ]
  },
  {
   "cell_type": "markdown",
   "id": "ae945dae-b8ec-4aac-8647-2130411f84ce",
   "metadata": {},
   "source": [
    "# Subplot2grid"
   ]
  },
  {
   "cell_type": "markdown",
   "id": "04927096-f4a9-4dbe-8b32-01d616acb976",
   "metadata": {},
   "source": [
    "The subplot function divides the Figure into cells, and each subplot occupies one cell. The `subplot2grid` function adds more flexibility to this. It lets subplots occupy multiple cells so we can create grid structures."
   ]
  },
  {
   "cell_type": "markdown",
   "id": "77a3c191-dda1-4eab-a701-c8cb252c2982",
   "metadata": {},
   "source": [
    "The `subplot2grid` function requires you to define the geometry of the plot and the location of the plot in the grid. The example above is a two-by-two grid. The position of the subplot on top is defined as the first row and first column. It spans over 2 columns. The ones on the bottom are the second-row plots, and each occupies a single cell.\n",
    "\n",
    "We can create this structure with Matplotlib as follows:"
   ]
  },
  {
   "cell_type": "code",
   "execution_count": 7,
   "id": "6a3bf353-e535-49c4-8784-60257d5f2a09",
   "metadata": {},
   "outputs": [
    {
     "data": {
      "image/png": "[encoded data removed]",
      "text/plain": [
       "<Figure size 576x288 with 3 Axes>"
      ]
     },
     "metadata": {
      "needs_background": "light"
     },
     "output_type": "display_data"
    }
   ],
   "source": [
    "# Create Figure\n",
    "plt.figure(figsize=(8,4))\n",
    "# top\n",
    "ax1 = plt.subplot2grid((2, 2), (0, 0), colspan=2)\n",
    "# bottom left\n",
    "ax2 = plt.subplot2grid((2, 2), (1, 0))\n",
    "# bottom right\n",
    "ax2 = plt.subplot2grid((2, 2), (1, 1))\n",
    "plt.show()"
   ]
  },
  {
   "cell_type": "markdown",
   "id": "89d2a8e1-df03-40c1-8e2d-7a8bb6545ec2",
   "metadata": {},
   "source": [
    "The `colspan` and `rowspan` parameters are used for creating subplots that occupy more than one cell.\n",
    "\n",
    "The drawing below is a more complicated grid, which contains subplots spanned over columns and rows."
   ]
  },
  {
   "cell_type": "markdown",
   "id": "6814008b-10b9-4841-9873-c26f98062737",
   "metadata": {},
   "source": [
    "Let’s create this grid with Matplotlib. This is a three-by-three grid."
   ]
  },
  {
   "cell_type": "code",
   "execution_count": 8,
   "id": "32ecfcc0-0f4a-4b2c-afe1-0550bc5b7e04",
   "metadata": {},
   "outputs": [
    {
     "data": {
      "image/png": "[encoded data removed]",
      "text/plain": [
       "<Figure size 864x576 with 5 Axes>"
      ]
     },
     "metadata": {
      "needs_background": "light"
     },
     "output_type": "display_data"
    }
   ],
   "source": [
    "# Create Figure\n",
    "plt.figure(figsize=(12,8))\n",
    "# Create subplots\n",
    "ax1 = plt.subplot2grid((3, 3), (0, 0), colspan=3)\n",
    "ax2 = plt.subplot2grid((3, 3), (1, 0), colspan=2)\n",
    "ax3 = plt.subplot2grid((3, 3), (1, 2), rowspan=2)\n",
    "ax4 = plt.subplot2grid((3, 3), (2, 0))\n",
    "ax5 = plt.subplot2grid((3, 3), (2, 1))"
   ]
  },
  {
   "cell_type": "code",
   "execution_count": null,
   "id": "6e2005e5-b232-4340-91bb-bbdb9a4210f6",
   "metadata": {},
   "outputs": [],
   "source": []
  }
 ],
 "metadata": {
  "kernelspec": {
   "display_name": "Python [conda env:575]",
   "language": "python",
   "name": "conda-env-575-py"
  },
  "language_info": {
   "codemirror_mode": {
    "name": "ipython",
    "version": 3
   },
   "file_extension": ".py",
   "mimetype": "text/x-python",
   "name": "python",
   "nbconvert_exporter": "python",
   "pygments_lexer": "ipython3",
   "version": "3.10.4"
  }
 },
 "nbformat": 4,
 "nbformat_minor": 5
}
