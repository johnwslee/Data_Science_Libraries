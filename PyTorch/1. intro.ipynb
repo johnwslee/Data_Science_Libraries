{
 "cells": [
  {
   "cell_type": "code",
   "execution_count": 1,
   "metadata": {
    "collapsed": false,
    "jupyter": {
     "outputs_hidden": false
    }
   },
   "outputs": [],
   "source": [
    "%matplotlib inline"
   ]
  },
  {
   "cell_type": "markdown",
   "metadata": {},
   "source": [
    "\n",
    "**Learn the Basics** ||\n",
    "`Quickstart <quickstart_tutorial.html>`_ ||\n",
    "`Tensors <tensorqs_tutorial.html>`_ ||\n",
    "`Datasets & DataLoaders <data_tutorial.html>`_ ||\n",
    "`Transforms <transforms_tutorial.html>`_ ||\n",
    "`Build Model <buildmodel_tutorial.html>`_ ||\n",
    "`Autograd <autogradqs_tutorial.html>`_ ||\n",
    "`Optimization <optimization_tutorial.html>`_ ||\n",
    "`Save & Load Model <saveloadrun_tutorial.html>`_\n",
    "\n",
    "Learn the Basics\n",
    "===================\n",
    "\n",
    "Authors:\n",
    "`Suraj Subramanian <https://github.com/suraj813>`_,\n",
    "`Seth Juarez <https://github.com/sethjuarez/>`_,\n",
    "`Cassie Breviu <https://github.com/cassieview/>`_,\n",
    "`Dmitry Soshnikov <https://soshnikov.com/>`_,\n",
    "`Ari Bornstein <https://github.com/aribornstein/>`_\n",
    "\n",
    "Most machine learning workflows involve working with data, creating models, optimizing model\n",
    "parameters, and saving the trained models. This tutorial introduces you to a complete ML workflow\n",
    "implemented in PyTorch, with links to learn more about each of these concepts.\n",
    "\n",
    "We'll use the FashionMNIST dataset to train a neural network that predicts if an input image belongs\n",
    "to one of the following classes: T-shirt/top, Trouser, Pullover, Dress, Coat, Sandal, Shirt, Sneaker,\n",
    "Bag, or Ankle boot.\n",
    "\n",
    "`This tutorial assumes a basic familiarity with Python and Deep Learning concepts.`\n",
    "\n",
    "\n",
    "Running the Tutorial Code\n",
    "------------------\n",
    "You can run this tutorial in a couple of ways:\n",
    "\n",
    "- **In the cloud**: This is the easiest way to get started! Each section has a \"Run in Microsoft Learn\" link at the top, which opens an integrated notebook in Microsoft Learn with the code in a fully-hosted environment.\n",
    "- **Locally**: This option requires you to setup PyTorch and TorchVision first on your local machine (`installation instructions <https://pytorch.org/get-started/locally/>`_). Download the notebook or copy the code into your favorite IDE.\n",
    "\n",
    "\n",
    "How to Use this Guide\n",
    "-----------------\n",
    "If you're familiar with other deep learning frameworks, check out the `0. Quickstart <quickstart_tutorial.html>`_ first\n",
    "to quickly familiarize yourself with PyTorch's API.\n",
    "\n",
    "If you're new to deep learning frameworks, head right into the first section of our step-by-step guide: `1. Tensors <tensor_tutorial.html>`_.\n",
    "\n",
    "\n",
    ".. include:: /beginner_source/basics/qs_toc.txt\n",
    "\n",
    ".. toctree::\n",
    "   :hidden:\n"
   ]
  },
  {
   "cell_type": "code",
   "execution_count": null,
   "metadata": {},
   "outputs": [],
   "source": []
  }
 ],
 "metadata": {
  "kernelspec": {
   "display_name": "Python 3 (ipykernel)",
   "language": "python",
   "name": "python3"
  },
  "language_info": {
   "codemirror_mode": {
    "name": "ipython",
    "version": 3
   },
   "file_extension": ".py",
   "mimetype": "text/x-python",
   "name": "python",
   "nbconvert_exporter": "python",
   "pygments_lexer": "ipython3",
   "version": "3.9.12"
  }
 },
 "nbformat": 4,
 "nbformat_minor": 4
}
