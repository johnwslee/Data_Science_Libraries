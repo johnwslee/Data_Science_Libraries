{
 "cells": [
  {
   "cell_type": "markdown",
   "id": "79031df7-26de-4a05-8957-984c1adf06a6",
   "metadata": {},
   "source": [
    "# Imports"
   ]
  },
  {
   "cell_type": "code",
   "execution_count": 1,
   "id": "749694c7-3483-45ee-b89d-cb3a7e48dbd6",
   "metadata": {},
   "outputs": [],
   "source": [
    "import os\n",
    "import torch\n",
    "import matplotlib.pyplot as plt\n",
    "import numpy as np\n",
    "from torch import nn, optim\n",
    "from torch.utils.data import Dataset, SubsetRandomSampler, DataLoader\n",
    "from torchvision import datasets, transforms, models\n",
    "from torchvision.transforms import ToTensor\n",
    "from torchsummary import summary\n",
    "import pandas as pd\n",
    "import json\n",
    "from PIL import Image"
   ]
  },
  {
   "cell_type": "markdown",
   "id": "27dbaa5b-7921-46bb-8103-ce15bd17384b",
   "metadata": {},
   "source": [
    "# Preparation of Dataset and Dataloader"
   ]
  },
  {
   "cell_type": "markdown",
   "id": "44eb8c74-7ee9-464d-be79-9fd10ac9b016",
   "metadata": {},
   "source": [
    "### Preparation of filename-labels Pair"
   ]
  },
  {
   "cell_type": "code",
   "execution_count": 2,
   "id": "d2256249-7dd9-47ae-a9c2-4d3f2d198ed4",
   "metadata": {},
   "outputs": [],
   "source": [
    "def prepare_filename_labels(data_type):\n",
    "    \"\"\"\n",
    "    Returns dictionary with filename/labels pair\n",
    "    ----------\n",
    "    data_type : Str\n",
    "                (\"train\" or \"val\")\n",
    "                \n",
    "    Returns\n",
    "    ----------\n",
    "        dictionary with a pair of filename/labels\n",
    "    \"\"\"\n",
    "    with open(f\"../../../fiftyone/coco-2014/raw/instances_{data_type}2014.json\", 'r') as f:\n",
    "        instances = json.load(f)\n",
    "        \n",
    "    images_dict = {}\n",
    "    category_id = {}\n",
    "    category = {}\n",
    "    image_class_dict = {}\n",
    "    file_labels = {}\n",
    "\n",
    "    for image in instances[\"images\"]:\n",
    "        images_dict[image[\"id\"]] = image[\"file_name\"]\n",
    "        \n",
    "    for cat in instances[\"annotations\"]:\n",
    "        if cat[\"image_id\"] in category_id.keys():\n",
    "            category_id[cat[\"image_id\"]].add(cat[\"category_id\"])\n",
    "        else:\n",
    "            category_id[cat[\"image_id\"]] = set([cat[\"category_id\"]])\n",
    "            \n",
    "    for cat_id in instances[\"categories\"]:\n",
    "        category[cat_id[\"id\"]] = cat_id[\"name\"]\n",
    "        \n",
    "    for image_id, file_name in images_dict.items():\n",
    "        if image_id in category_id.keys():\n",
    "            for cat_id in list(category_id[image_id]):\n",
    "                if file_name in image_class_dict.keys():\n",
    "                    image_class_dict[file_name].append(category[cat_id])\n",
    "                else:\n",
    "                    image_class_dict[file_name] = [category[cat_id]]\n",
    "        else:\n",
    "            pass\n",
    "\n",
    "    for image_id, index in category_id.items():\n",
    "        index = list(index)\n",
    "        temp = [0]*91\n",
    "        for idx in index:\n",
    "            temp[idx] = 1\n",
    "        file_labels[images_dict[image_id]] = temp\n",
    "        \n",
    "    return file_labels, category"
   ]
  },
  {
   "cell_type": "code",
   "execution_count": 3,
   "id": "d25cd96f-46ae-4989-b7b7-2b393d2b92f7",
   "metadata": {},
   "outputs": [],
   "source": [
    "train_filename_labels, category = prepare_filename_labels(\"train\")"
   ]
  },
  {
   "cell_type": "code",
   "execution_count": 4,
   "id": "10dfc9eb-532d-4f06-baf1-6ef5389f1047",
   "metadata": {},
   "outputs": [],
   "source": [
    "val_filename_labels, category = prepare_filename_labels(\"val\")"
   ]
  },
  {
   "cell_type": "code",
   "execution_count": 5,
   "id": "b0f17b6b-c5dd-4dcb-96f7-49665cedeb6f",
   "metadata": {},
   "outputs": [],
   "source": [
    "with open(\"../../../fiftyone/coco-2014/info.json\", 'r') as file:\n",
    "    info = json.load(file)\n",
    "\n",
    "classes = tuple(info['classes'])"
   ]
  },
  {
   "cell_type": "markdown",
   "id": "068a985d-2f3e-4ae3-a666-23ce9e01db20",
   "metadata": {},
   "source": [
    "### Function to get index for 1 in category dictionary"
   ]
  },
  {
   "cell_type": "code",
   "execution_count": 6,
   "id": "9838259a-5cc1-4eeb-bc53-9eaaf3154fb4",
   "metadata": {},
   "outputs": [],
   "source": [
    "def get_index_positions(list_of_elems, element):\n",
    "    ''' Returns the indexes of all occurrences of give element in\n",
    "    the list- listOfElements '''\n",
    "    index_pos_list = []\n",
    "    index_pos = 0\n",
    "    while True:\n",
    "        try:\n",
    "            # Search for item in list from indexPos to the end of list\n",
    "            index_pos = list_of_elems.index(element, index_pos)\n",
    "            # Add the index position in list\n",
    "            index_pos_list.append(index_pos)\n",
    "            index_pos += 1\n",
    "        except ValueError as e:\n",
    "            break\n",
    "    return index_pos_list"
   ]
  },
  {
   "cell_type": "markdown",
   "id": "0052d290-b558-4e7a-8e52-9077d65de5a0",
   "metadata": {},
   "source": [
    "### Preparation of Dataset Class"
   ]
  },
  {
   "cell_type": "code",
   "execution_count": 7,
   "id": "289e59b6-7375-4fd6-bef9-e4d38ed8bd8c",
   "metadata": {},
   "outputs": [],
   "source": [
    "# Image transformations\n",
    "\n",
    "image_transforms = {\n",
    "    # Train uses data augmentation\n",
    "    'train':\n",
    "    transforms.Compose([\n",
    "        transforms.RandomResizedCrop(size=256, scale=(0.8, 1.0)),\n",
    "        transforms.RandomRotation(degrees=15),\n",
    "        transforms.ColorJitter(),\n",
    "        transforms.RandomHorizontalFlip(),\n",
    "        transforms.CenterCrop(size=224),  # Image net standards\n",
    "        transforms.ToTensor(),\n",
    "        transforms.Normalize([0.485, 0.456, 0.406],\n",
    "                             [0.229, 0.224, 0.225])  # Imagenet standards\n",
    "    ]),\n",
    "    # Validation does not use augmentation\n",
    "    'valid':\n",
    "    transforms.Compose([\n",
    "        transforms.Resize(size=256),\n",
    "        transforms.CenterCrop(size=224),\n",
    "        transforms.ToTensor(),\n",
    "        transforms.Normalize([0.485, 0.456, 0.406],\n",
    "                             [0.229, 0.224, 0.225])\n",
    "    ]),\n",
    "    # # Test does not use augmentation\n",
    "    # 'test':\n",
    "    # transforms.Compose([\n",
    "    #     transforms.Resize(size=256),\n",
    "    #     transforms.CenterCrop(size=224),\n",
    "    #     transforms.ToTensor(),\n",
    "    #     transforms.Normalize([0.485, 0.456, 0.406],\n",
    "    #                          [0.229, 0.224, 0.225])\n",
    "    # ])\n",
    "}"
   ]
  },
  {
   "cell_type": "code",
   "execution_count": 8,
   "id": "2f8c4e0f-b3bb-4e6d-822e-5213eb876c6a",
   "metadata": {},
   "outputs": [],
   "source": [
    "def pil_loader(path):\n",
    "    # open path as file to avoid ResourceWarning (https://github.com/python-pillow/Pillow/issues/835)\n",
    "    with open(path, 'rb') as f:\n",
    "        img = Image.open(f)\n",
    "        return img.convert('RGB')"
   ]
  },
  {
   "cell_type": "code",
   "execution_count": 9,
   "id": "f3158cc3-905a-4156-bad3-6c69a4aba897",
   "metadata": {},
   "outputs": [],
   "source": [
    "class CustomImageDataset(Dataset):\n",
    "    def __init__(self, img_dir, mode, transform=None, target_transform=None):\n",
    "        self.img_dir = img_dir\n",
    "        self.mode = mode\n",
    "        self.transform = transform\n",
    "        self.target_transform = target_transform\n",
    "\n",
    "    def __len__(self):\n",
    "        # return len(os.listdir(self.img_dir))\n",
    "        if self.mode == \"train\":\n",
    "            return len(train_filename_labels.keys())\n",
    "        if self.mode == \"val\":\n",
    "            return len(val_filename_labels.keys())\n",
    "\n",
    "    def __getitem__(self, idx):\n",
    "        if self.mode == \"train\":\n",
    "            img_path = os.path.join(self.img_dir, list(train_filename_labels.keys())[idx])\n",
    "            # img_path = os.path.join(self.img_dir, os.listdir(self.img_dir)[idx])\n",
    "            file_name = list(train_filename_labels.keys())[idx]\n",
    "            # file_name = os.listdir(self.img_dir)[idx]\n",
    "            PIL_img = pil_loader(img_path) # To open images as color\n",
    "            # PIL_img = Image.open(img_path)\n",
    "            image = PIL_img\n",
    "            # image = ToTensor()(PIL_img)\n",
    "            # image = image[0].unsqueeze(0)\n",
    "            label = np.array(train_filename_labels[file_name])\n",
    "        \n",
    "        if self.mode == \"val\":\n",
    "            img_path = os.path.join(self.img_dir, list(val_filename_labels.keys())[idx])\n",
    "            # img_path = os.path.join(self.img_dir, os.listdir(self.img_dir)[idx])\n",
    "            file_name = list(val_filename_labels.keys())[idx]\n",
    "            # file_name = os.listdir(self.img_dir)[idx]\n",
    "            PIL_img = pil_loader(img_path) # To open images as color\n",
    "            # PIL_img = Image.open(img_path)\n",
    "            image = PIL_img\n",
    "            # image = ToTensor()(PIL_img)\n",
    "            # image = image[0].unsqueeze(0)\n",
    "            label = np.array(val_filename_labels[file_name])\n",
    "\n",
    "        if self.transform:\n",
    "            image = self.transform(image)\n",
    "        if self.target_transform:\n",
    "            label = self.target_transform(label)\n",
    "        return image, label"
   ]
  },
  {
   "cell_type": "code",
   "execution_count": 10,
   "id": "6f26521b-f296-4232-96be-2c54297b6176",
   "metadata": {},
   "outputs": [],
   "source": [
    "train_img_dir = \"../../../fiftyone/coco-2014/train/data/\"\n",
    "val_img_dir = \"../../../fiftyone/coco-2014/validation/data/\""
   ]
  },
  {
   "cell_type": "code",
   "execution_count": 11,
   "id": "44d78671-9a1b-4419-84c9-e8e7a019c403",
   "metadata": {},
   "outputs": [],
   "source": [
    "BATCH_SIZE = 32"
   ]
  },
  {
   "cell_type": "code",
   "execution_count": 12,
   "id": "d495c90a-5b91-4bcc-ad0a-d3102fbd28a6",
   "metadata": {},
   "outputs": [],
   "source": [
    "# Datasets from folders\n",
    "data = {\n",
    "    'train':\n",
    "    CustomImageDataset(train_img_dir, \"train\", transform=image_transforms['train']),\n",
    "    'valid':\n",
    "    CustomImageDataset(val_img_dir, \"val\", transform=image_transforms['valid']),\n",
    "    # 'test':\n",
    "    # datasets.ImageFolder(root=testdir, transform=image_transforms['test']),\n",
    "}\n",
    "\n",
    "# Dataloader iterators, make sure to shuffle\n",
    "dataloaders = {\n",
    "    'train': DataLoader(data['train'], batch_size=BATCH_SIZE, shuffle=True),\n",
    "    'valid': DataLoader(data['valid'], batch_size=BATCH_SIZE, shuffle=True),\n",
    "    # 'test': DataLoader(data['valid'], batch_size=BATCH_SIZE, shuffle=True)\n",
    "}"
   ]
  },
  {
   "cell_type": "markdown",
   "id": "9a56635b-0617-40d0-a91b-3c3c850085ed",
   "metadata": {},
   "source": [
    "# Sample Check"
   ]
  },
  {
   "cell_type": "code",
   "execution_count": 13,
   "id": "1b209e29-84f5-4366-9277-b394105f0c53",
   "metadata": {},
   "outputs": [
    {
     "data": {
      "text/plain": [
       "(torch.Size([32, 3, 224, 224]), torch.Size([32, 91]))"
      ]
     },
     "execution_count": 13,
     "metadata": {},
     "output_type": "execute_result"
    }
   ],
   "source": [
    "# Iterate through the dataloader once\n",
    "image, label = next(iter(dataloaders['train']))\n",
    "image.shape, label.shape"
   ]
  },
  {
   "cell_type": "code",
   "execution_count": 14,
   "id": "437fe058-be7a-4c0c-947e-1516e4cdd818",
   "metadata": {},
   "outputs": [
    {
     "data": {
      "text/plain": [
       "2566"
      ]
     },
     "execution_count": 14,
     "metadata": {},
     "output_type": "execute_result"
    }
   ],
   "source": [
    "len(dataloaders['train'])"
   ]
  },
  {
   "cell_type": "code",
   "execution_count": 15,
   "id": "ad778a4f-e5bd-4b58-9fb4-c7c1c64bedf7",
   "metadata": {},
   "outputs": [
    {
     "data": {
      "text/plain": [
       "82081"
      ]
     },
     "execution_count": 15,
     "metadata": {},
     "output_type": "execute_result"
    }
   ],
   "source": [
    "len(train_filename_labels.keys())"
   ]
  },
  {
   "cell_type": "code",
   "execution_count": 16,
   "id": "7c2e6951-7c6c-4147-9105-27ad0a92c537",
   "metadata": {},
   "outputs": [
    {
     "data": {
      "image/png": "[encoded data removed]",
      "text/plain": [
       "<Figure size 432x288 with 1 Axes>"
      ]
     },
     "metadata": {
      "needs_background": "light"
     },
     "output_type": "display_data"
    }
   ],
   "source": [
    "i = np.random.randint(0, 4)             # Choose one image at random\n",
    "plt.imshow(image[i, 0], cmap='gray')    # Plot\n",
    "plt.title([classes[label] for label in get_index_positions(list(label[i].numpy()), 1)])\n",
    "plt.show()"
   ]
  },
  {
   "cell_type": "markdown",
   "id": "060cd071-40f1-4abc-b613-0d7ed1455f24",
   "metadata": {},
   "source": [
    "# Pretrained Model"
   ]
  },
  {
   "cell_type": "code",
   "execution_count": 17,
   "id": "1b59fc0f-0450-4ab4-8fc0-60ae42f6cd52",
   "metadata": {},
   "outputs": [],
   "source": [
    "model = models.vgg16(pretrained=True)"
   ]
  },
  {
   "cell_type": "code",
   "execution_count": 18,
   "id": "4e61da86-fb3c-4a00-9efb-5d8e10d15866",
   "metadata": {},
   "outputs": [
    {
     "data": {
      "text/plain": [
       "VGG(\n",
       "  (features): Sequential(\n",
       "    (0): Conv2d(3, 64, kernel_size=(3, 3), stride=(1, 1), padding=(1, 1))\n",
       "    (1): ReLU(inplace=True)\n",
       "    (2): Conv2d(64, 64, kernel_size=(3, 3), stride=(1, 1), padding=(1, 1))\n",
       "    (3): ReLU(inplace=True)\n",
       "    (4): MaxPool2d(kernel_size=2, stride=2, padding=0, dilation=1, ceil_mode=False)\n",
       "    (5): Conv2d(64, 128, kernel_size=(3, 3), stride=(1, 1), padding=(1, 1))\n",
       "    (6): ReLU(inplace=True)\n",
       "    (7): Conv2d(128, 128, kernel_size=(3, 3), stride=(1, 1), padding=(1, 1))\n",
       "    (8): ReLU(inplace=True)\n",
       "    (9): MaxPool2d(kernel_size=2, stride=2, padding=0, dilation=1, ceil_mode=False)\n",
       "    (10): Conv2d(128, 256, kernel_size=(3, 3), stride=(1, 1), padding=(1, 1))\n",
       "    (11): ReLU(inplace=True)\n",
       "    (12): Conv2d(256, 256, kernel_size=(3, 3), stride=(1, 1), padding=(1, 1))\n",
       "    (13): ReLU(inplace=True)\n",
       "    (14): Conv2d(256, 256, kernel_size=(3, 3), stride=(1, 1), padding=(1, 1))\n",
       "    (15): ReLU(inplace=True)\n",
       "    (16): MaxPool2d(kernel_size=2, stride=2, padding=0, dilation=1, ceil_mode=False)\n",
       "    (17): Conv2d(256, 512, kernel_size=(3, 3), stride=(1, 1), padding=(1, 1))\n",
       "    (18): ReLU(inplace=True)\n",
       "    (19): Conv2d(512, 512, kernel_size=(3, 3), stride=(1, 1), padding=(1, 1))\n",
       "    (20): ReLU(inplace=True)\n",
       "    (21): Conv2d(512, 512, kernel_size=(3, 3), stride=(1, 1), padding=(1, 1))\n",
       "    (22): ReLU(inplace=True)\n",
       "    (23): MaxPool2d(kernel_size=2, stride=2, padding=0, dilation=1, ceil_mode=False)\n",
       "    (24): Conv2d(512, 512, kernel_size=(3, 3), stride=(1, 1), padding=(1, 1))\n",
       "    (25): ReLU(inplace=True)\n",
       "    (26): Conv2d(512, 512, kernel_size=(3, 3), stride=(1, 1), padding=(1, 1))\n",
       "    (27): ReLU(inplace=True)\n",
       "    (28): Conv2d(512, 512, kernel_size=(3, 3), stride=(1, 1), padding=(1, 1))\n",
       "    (29): ReLU(inplace=True)\n",
       "    (30): MaxPool2d(kernel_size=2, stride=2, padding=0, dilation=1, ceil_mode=False)\n",
       "  )\n",
       "  (avgpool): AdaptiveAvgPool2d(output_size=(7, 7))\n",
       "  (classifier): Sequential(\n",
       "    (0): Linear(in_features=25088, out_features=4096, bias=True)\n",
       "    (1): ReLU(inplace=True)\n",
       "    (2): Dropout(p=0.5, inplace=False)\n",
       "    (3): Linear(in_features=4096, out_features=4096, bias=True)\n",
       "    (4): ReLU(inplace=True)\n",
       "    (5): Dropout(p=0.5, inplace=False)\n",
       "    (6): Linear(in_features=4096, out_features=1000, bias=True)\n",
       "  )\n",
       ")"
      ]
     },
     "execution_count": 18,
     "metadata": {},
     "output_type": "execute_result"
    }
   ],
   "source": [
    "model"
   ]
  },
  {
   "cell_type": "code",
   "execution_count": 19,
   "id": "e655d68e-443d-4dbc-aa05-f549adc6ad96",
   "metadata": {},
   "outputs": [],
   "source": [
    "# Freeze model weights\n",
    "for param in model.parameters():\n",
    "    param.requires_grad = False"
   ]
  },
  {
   "cell_type": "code",
   "execution_count": 20,
   "id": "25738219-5dc1-4757-ad1c-aead2067cd76",
   "metadata": {},
   "outputs": [
    {
     "data": {
      "text/plain": [
       "Sequential(\n",
       "  (0): Linear(in_features=25088, out_features=4096, bias=True)\n",
       "  (1): ReLU(inplace=True)\n",
       "  (2): Dropout(p=0.5, inplace=False)\n",
       "  (3): Linear(in_features=4096, out_features=4096, bias=True)\n",
       "  (4): ReLU(inplace=True)\n",
       "  (5): Dropout(p=0.5, inplace=False)\n",
       "  (6): Linear(in_features=4096, out_features=1000, bias=True)\n",
       ")"
      ]
     },
     "execution_count": 20,
     "metadata": {},
     "output_type": "execute_result"
    }
   ],
   "source": [
    "# classifier of the pretrained model\n",
    "# --> I am changing the 6th layer (i.e. classifier[6])\n",
    "model.classifier"
   ]
  },
  {
   "cell_type": "code",
   "execution_count": 21,
   "id": "6b16778f-9a1f-4a02-98ab-e958eee8d834",
   "metadata": {},
   "outputs": [
    {
     "data": {
      "text/plain": [
       "Linear(in_features=4096, out_features=1000, bias=True)"
      ]
     },
     "execution_count": 21,
     "metadata": {},
     "output_type": "execute_result"
    }
   ],
   "source": [
    "# Pretrained model\n",
    "model.classifier[6]"
   ]
  },
  {
   "cell_type": "markdown",
   "id": "2e2c15fb-6bfd-4495-9a76-2518a1151c40",
   "metadata": {},
   "source": [
    "# Modify the Last Layer of the Classifier"
   ]
  },
  {
   "cell_type": "code",
   "execution_count": 22,
   "id": "ad5fd15a-48f5-49db-a8fa-08dfe6693ae6",
   "metadata": {},
   "outputs": [],
   "source": [
    "# Constants for Last Layer\n",
    "\n",
    "n_inputs = 4096\n",
    "n_classes = len(classes)"
   ]
  },
  {
   "cell_type": "code",
   "execution_count": 23,
   "id": "dcf43b5d-6b08-4381-be6b-2583833c2499",
   "metadata": {},
   "outputs": [
    {
     "data": {
      "text/plain": [
       "91"
      ]
     },
     "execution_count": 23,
     "metadata": {},
     "output_type": "execute_result"
    }
   ],
   "source": [
    "n_classes"
   ]
  },
  {
   "cell_type": "code",
   "execution_count": 24,
   "id": "0d9b70d9-c8ee-4e7f-8a94-2acbd3b8eff3",
   "metadata": {},
   "outputs": [],
   "source": [
    "# Modify classifier\n",
    "model.classifier[6] = nn.Sequential(\n",
    "                      nn.Linear(n_inputs, 256),\n",
    "                      nn.ReLU(), \n",
    "                      nn.Dropout(0.4),\n",
    "                      nn.Linear(256, n_classes),\n",
    "                      nn.Sigmoid())\n",
    "                      # nn.LogSoftmax(dim=1))"
   ]
  },
  {
   "cell_type": "code",
   "execution_count": 25,
   "id": "c03228dd-d61c-4d62-b3e6-4f30ebf013bf",
   "metadata": {},
   "outputs": [
    {
     "data": {
      "text/plain": [
       "VGG(\n",
       "  (features): Sequential(\n",
       "    (0): Conv2d(3, 64, kernel_size=(3, 3), stride=(1, 1), padding=(1, 1))\n",
       "    (1): ReLU(inplace=True)\n",
       "    (2): Conv2d(64, 64, kernel_size=(3, 3), stride=(1, 1), padding=(1, 1))\n",
       "    (3): ReLU(inplace=True)\n",
       "    (4): MaxPool2d(kernel_size=2, stride=2, padding=0, dilation=1, ceil_mode=False)\n",
       "    (5): Conv2d(64, 128, kernel_size=(3, 3), stride=(1, 1), padding=(1, 1))\n",
       "    (6): ReLU(inplace=True)\n",
       "    (7): Conv2d(128, 128, kernel_size=(3, 3), stride=(1, 1), padding=(1, 1))\n",
       "    (8): ReLU(inplace=True)\n",
       "    (9): MaxPool2d(kernel_size=2, stride=2, padding=0, dilation=1, ceil_mode=False)\n",
       "    (10): Conv2d(128, 256, kernel_size=(3, 3), stride=(1, 1), padding=(1, 1))\n",
       "    (11): ReLU(inplace=True)\n",
       "    (12): Conv2d(256, 256, kernel_size=(3, 3), stride=(1, 1), padding=(1, 1))\n",
       "    (13): ReLU(inplace=True)\n",
       "    (14): Conv2d(256, 256, kernel_size=(3, 3), stride=(1, 1), padding=(1, 1))\n",
       "    (15): ReLU(inplace=True)\n",
       "    (16): MaxPool2d(kernel_size=2, stride=2, padding=0, dilation=1, ceil_mode=False)\n",
       "    (17): Conv2d(256, 512, kernel_size=(3, 3), stride=(1, 1), padding=(1, 1))\n",
       "    (18): ReLU(inplace=True)\n",
       "    (19): Conv2d(512, 512, kernel_size=(3, 3), stride=(1, 1), padding=(1, 1))\n",
       "    (20): ReLU(inplace=True)\n",
       "    (21): Conv2d(512, 512, kernel_size=(3, 3), stride=(1, 1), padding=(1, 1))\n",
       "    (22): ReLU(inplace=True)\n",
       "    (23): MaxPool2d(kernel_size=2, stride=2, padding=0, dilation=1, ceil_mode=False)\n",
       "    (24): Conv2d(512, 512, kernel_size=(3, 3), stride=(1, 1), padding=(1, 1))\n",
       "    (25): ReLU(inplace=True)\n",
       "    (26): Conv2d(512, 512, kernel_size=(3, 3), stride=(1, 1), padding=(1, 1))\n",
       "    (27): ReLU(inplace=True)\n",
       "    (28): Conv2d(512, 512, kernel_size=(3, 3), stride=(1, 1), padding=(1, 1))\n",
       "    (29): ReLU(inplace=True)\n",
       "    (30): MaxPool2d(kernel_size=2, stride=2, padding=0, dilation=1, ceil_mode=False)\n",
       "  )\n",
       "  (avgpool): AdaptiveAvgPool2d(output_size=(7, 7))\n",
       "  (classifier): Sequential(\n",
       "    (0): Linear(in_features=25088, out_features=4096, bias=True)\n",
       "    (1): ReLU(inplace=True)\n",
       "    (2): Dropout(p=0.5, inplace=False)\n",
       "    (3): Linear(in_features=4096, out_features=4096, bias=True)\n",
       "    (4): ReLU(inplace=True)\n",
       "    (5): Dropout(p=0.5, inplace=False)\n",
       "    (6): Sequential(\n",
       "      (0): Linear(in_features=4096, out_features=256, bias=True)\n",
       "      (1): ReLU()\n",
       "      (2): Dropout(p=0.4, inplace=False)\n",
       "      (3): Linear(in_features=256, out_features=91, bias=True)\n",
       "      (4): Sigmoid()\n",
       "    )\n",
       "  )\n",
       ")"
      ]
     },
     "execution_count": 25,
     "metadata": {},
     "output_type": "execute_result"
    }
   ],
   "source": [
    "model"
   ]
  },
  {
   "cell_type": "code",
   "execution_count": 26,
   "id": "58b2560d-babe-4e2f-8905-e4e0fb8f86a1",
   "metadata": {},
   "outputs": [
    {
     "name": "stdout",
     "output_type": "stream",
     "text": [
      "135,332,763 total parameters.\n",
      "1,072,219 training parameters.\n"
     ]
    }
   ],
   "source": [
    "# Find total parameters and trainable parameters\n",
    "total_params = sum(p.numel() for p in model.parameters())\n",
    "print(f'{total_params:,} total parameters.')\n",
    "total_trainable_params = sum(\n",
    "    p.numel() for p in model.parameters() if p.requires_grad)\n",
    "print(f'{total_trainable_params:,} training parameters.')"
   ]
  },
  {
   "cell_type": "markdown",
   "id": "e08e59c7-ebd7-4981-af89-606cd0b0ffef",
   "metadata": {},
   "source": [
    "# Moving Model to GPU"
   ]
  },
  {
   "cell_type": "code",
   "execution_count": 27,
   "id": "c5928f99-67bd-4962-9a62-9caeb61da1de",
   "metadata": {
    "tags": []
   },
   "outputs": [],
   "source": [
    "# Move to gpu\n",
    "model = model.to('cuda')"
   ]
  },
  {
   "cell_type": "code",
   "execution_count": 28,
   "id": "f2949b2a-0c1e-4699-afca-435d1b75067a",
   "metadata": {},
   "outputs": [],
   "source": [
    "device = torch.device(\"cuda\")"
   ]
  },
  {
   "cell_type": "markdown",
   "id": "aef8a07b-9534-45f7-8860-c5bfe7b1c419",
   "metadata": {},
   "source": [
    "# Prediction Function and Prediction Check before Training"
   ]
  },
  {
   "cell_type": "code",
   "execution_count": 29,
   "id": "052baec7-9595-4e18-8360-7f07639ee211",
   "metadata": {},
   "outputs": [],
   "source": [
    "def plot_prediction(image, label, predictions):\n",
    "    \"\"\"Plot network predictions with matplotlib.\"\"\"\n",
    "    \n",
    "    fig, (ax1, ax2) = plt.subplots(figsize=(8, 4), ncols=2)  # Plot\n",
    "    ax1.imshow(image[0], cmap='gray')\n",
    "    ax1.axis('off')   \n",
    "    ax1.set_title([classes[lab] for lab in get_index_positions(list(label.numpy()), 1)])\n",
    "    ax2.barh(np.arange(10), predictions[0][0].cpu().data.numpy().squeeze())\n",
    "    ax2.set_title(\"Predictions\")\n",
    "    ax2.set_yticks(np.arange(10))\n",
    "    ytick_classes = [classes[i] for i in predictions[1][0].cpu().data.numpy().squeeze()]\n",
    "    ax2.set_yticklabels(ytick_classes)\n",
    "    ax2.set_xlim(0, 1)\n",
    "    plt.tight_layout();"
   ]
  },
  {
   "cell_type": "code",
   "execution_count": 30,
   "id": "bc0d0bda-493b-4662-afa2-8be0c186f936",
   "metadata": {},
   "outputs": [
    {
     "data": {
      "image/png": "[encoded data removed]",
      "text/plain": [
       "<Figure size 576x288 with 2 Axes>"
      ]
     },
     "metadata": {
      "needs_background": "light"
     },
     "output_type": "display_data"
    }
   ],
   "source": [
    "# Test on training images (run as many times as you like!)\n",
    "image, label = next(iter(dataloaders[\"train\"]))        \n",
    "model.to(device)\n",
    "image = image.to(device)\n",
    "label = label.to(device)\n",
    "predictions = model(image)  # Get first image and predict it\n",
    "# predictions = nn.Softmax(dim=1)(predictions)  # Coerce predictions to probabilities using Softmax()\n",
    "predictions = torch.topk(predictions, 10)\n",
    "plot_prediction(image[0].cpu(), label[0].cpu(), predictions)"
   ]
  },
  {
   "cell_type": "markdown",
   "id": "cc9c83ac-8496-42b9-b479-86aa23c35330",
   "metadata": {},
   "source": [
    "# Training"
   ]
  },
  {
   "cell_type": "code",
   "execution_count": 31,
   "id": "81b804ff-4e95-48e1-b871-4f30738ba181",
   "metadata": {},
   "outputs": [],
   "source": [
    "# Loss and optimizer\n",
    "criterion = nn.BCELoss()\n",
    "optimizer = optim.Adam(model.parameters())"
   ]
  },
  {
   "cell_type": "code",
   "execution_count": 32,
   "id": "5ab7aba5-3bfa-45de-9bc0-e4be2966f933",
   "metadata": {},
   "outputs": [],
   "source": [
    "def trainer(model, criterion, optimizer, trainloader, validloader, epochs=5, verbose=True):\n",
    "    \"\"\"Simple training wrapper for PyTorch network.\"\"\"\n",
    "    \n",
    "    train_loss, valid_loss, train_accuracy, valid_accuracy = [], [], [], []\n",
    "    for epoch in range(epochs):  # for each epoch\n",
    "        train_batch_loss = 0\n",
    "        valid_batch_loss = 0\n",
    "        train_batch_acc = 0\n",
    "        valid_batch_acc = 0\n",
    "        \n",
    "        # Training\n",
    "        for X, y in trainloader:\n",
    "            optimizer.zero_grad()       # Zero all the gradients w.r.t. parameters\n",
    "            X = X.to(device)\n",
    "            y = y.to(device)\n",
    "            y_hat = model(X)  # forward pass to get output\n",
    "            y_hat_label = y_hat > 0.5\n",
    "            # _, y_hat_labels = torch.softmax(y_hat, dim=1).topk(1, dim=1)\n",
    "            loss = criterion(y_hat.to(torch.float32), y.to(torch.float32))  # Calculate loss based on output\n",
    "            loss.backward()             # Calculate gradients w.r.t. parameters\n",
    "            optimizer.step()            # Update parameters\n",
    "            train_batch_loss += loss.item()  # Add loss for this batch to running total\n",
    "            train_batch_acc += (y_hat_label == y).type(torch.float32).mean().item()\n",
    "            # train_batch_acc += (y_hat_labels == y).type(torch.float32).mean().item()\n",
    "        train_loss.append(train_batch_loss / len(trainloader))\n",
    "        train_accuracy.append(train_batch_acc / len(trainloader))  # accuracy\n",
    "        \n",
    "        # Validation\n",
    "        model.eval()\n",
    "        with torch.no_grad():  # this stops pytorch doing computational graph stuff under-the-hood and saves memory and time\n",
    "            for X, y in validloader:\n",
    "                X = X.to(device)\n",
    "                y = y.to(device)\n",
    "                y_hat = model(X)  # forward pass to get output\n",
    "                y_hat_label = y_hat > 0.5\n",
    "                # _, y_hat_labels = torch.softmax(y_hat, dim=1).topk(1, dim=1)\n",
    "                loss = criterion(y_hat.to(torch.float32), y.to(torch.float32))\n",
    "                valid_batch_loss += loss.item()\n",
    "                valid_batch_acc += (y_hat_label == y).type(torch.float32).mean().item()\n",
    "                # valid_batch_acc += (y_hat_labels == y).type(torch.float32).mean().item()\n",
    "        valid_loss.append(valid_batch_loss / len(validloader))\n",
    "        valid_accuracy.append(valid_batch_acc / len(validloader))  # accuracy\n",
    "        \n",
    "        model.train()\n",
    "        \n",
    "        # Print progress\n",
    "        if verbose:\n",
    "            print(f\"Epoch {epoch + 1}:\",\n",
    "                  f\"Train Loss: {train_loss[-1]:.3f}.\",\n",
    "                  f\"Valid Loss: {valid_loss[-1]:.3f}.\",\n",
    "                  f\"Train Accuracy: {train_accuracy[-1]:.2f}.\"\n",
    "                  f\"Valid Accuracy: {valid_accuracy[-1]:.2f}.\")\n",
    "        \n",
    "    print(\"\\nTraining ended.\")\n",
    "    \n",
    "    return train_loss, valid_loss, train_accuracy, valid_accuracy"
   ]
  },
  {
   "cell_type": "code",
   "execution_count": 33,
   "id": "0762b542-369d-4ca4-a4e7-e76f3c7f3993",
   "metadata": {},
   "outputs": [
    {
     "ename": "RuntimeError",
     "evalue": "element 0 of tensors does not require grad and does not have a grad_fn",
     "output_type": "error",
     "traceback": [
      "\u001b[1;31m---------------------------------------------------------------------------\u001b[0m",
      "\u001b[1;31mRuntimeError\u001b[0m                              Traceback (most recent call last)",
      "File \u001b[1;32m<timed exec>:1\u001b[0m, in \u001b[0;36m<module>\u001b[1;34m\u001b[0m\n",
      "Input \u001b[1;32mIn [32]\u001b[0m, in \u001b[0;36mtrainer\u001b[1;34m(model, criterion, optimizer, trainloader, validloader, epochs, verbose)\u001b[0m\n\u001b[0;32m     18\u001b[0m \u001b[38;5;66;03m# _, y_hat_labels = torch.softmax(y_hat, dim=1).topk(1, dim=1)\u001b[39;00m\n\u001b[0;32m     19\u001b[0m loss \u001b[38;5;241m=\u001b[39m criterion(y_hat\u001b[38;5;241m.\u001b[39mto(torch\u001b[38;5;241m.\u001b[39mfloat32), y\u001b[38;5;241m.\u001b[39mto(torch\u001b[38;5;241m.\u001b[39mfloat32))  \u001b[38;5;66;03m# Calculate loss based on output\u001b[39;00m\n\u001b[1;32m---> 20\u001b[0m \u001b[43mloss\u001b[49m\u001b[38;5;241;43m.\u001b[39;49m\u001b[43mbackward\u001b[49m\u001b[43m(\u001b[49m\u001b[43m)\u001b[49m             \u001b[38;5;66;03m# Calculate gradients w.r.t. parameters\u001b[39;00m\n\u001b[0;32m     21\u001b[0m optimizer\u001b[38;5;241m.\u001b[39mstep()            \u001b[38;5;66;03m# Update parameters\u001b[39;00m\n\u001b[0;32m     22\u001b[0m train_batch_loss \u001b[38;5;241m+\u001b[39m\u001b[38;5;241m=\u001b[39m loss\u001b[38;5;241m.\u001b[39mitem()  \u001b[38;5;66;03m# Add loss for this batch to running total\u001b[39;00m\n",
      "File \u001b[1;32m~\\miniconda3\\envs\\575\\lib\\site-packages\\torch\\_tensor.py:363\u001b[0m, in \u001b[0;36mTensor.backward\u001b[1;34m(self, gradient, retain_graph, create_graph, inputs)\u001b[0m\n\u001b[0;32m    354\u001b[0m \u001b[38;5;28;01mif\u001b[39;00m has_torch_function_unary(\u001b[38;5;28mself\u001b[39m):\n\u001b[0;32m    355\u001b[0m     \u001b[38;5;28;01mreturn\u001b[39;00m handle_torch_function(\n\u001b[0;32m    356\u001b[0m         Tensor\u001b[38;5;241m.\u001b[39mbackward,\n\u001b[0;32m    357\u001b[0m         (\u001b[38;5;28mself\u001b[39m,),\n\u001b[1;32m   (...)\u001b[0m\n\u001b[0;32m    361\u001b[0m         create_graph\u001b[38;5;241m=\u001b[39mcreate_graph,\n\u001b[0;32m    362\u001b[0m         inputs\u001b[38;5;241m=\u001b[39minputs)\n\u001b[1;32m--> 363\u001b[0m \u001b[43mtorch\u001b[49m\u001b[38;5;241;43m.\u001b[39;49m\u001b[43mautograd\u001b[49m\u001b[38;5;241;43m.\u001b[39;49m\u001b[43mbackward\u001b[49m\u001b[43m(\u001b[49m\u001b[38;5;28;43mself\u001b[39;49m\u001b[43m,\u001b[49m\u001b[43m \u001b[49m\u001b[43mgradient\u001b[49m\u001b[43m,\u001b[49m\u001b[43m \u001b[49m\u001b[43mretain_graph\u001b[49m\u001b[43m,\u001b[49m\u001b[43m \u001b[49m\u001b[43mcreate_graph\u001b[49m\u001b[43m,\u001b[49m\u001b[43m \u001b[49m\u001b[43minputs\u001b[49m\u001b[38;5;241;43m=\u001b[39;49m\u001b[43minputs\u001b[49m\u001b[43m)\u001b[49m\n",
      "File \u001b[1;32m~\\miniconda3\\envs\\575\\lib\\site-packages\\torch\\autograd\\__init__.py:173\u001b[0m, in \u001b[0;36mbackward\u001b[1;34m(tensors, grad_tensors, retain_graph, create_graph, grad_variables, inputs)\u001b[0m\n\u001b[0;32m    168\u001b[0m     retain_graph \u001b[38;5;241m=\u001b[39m create_graph\n\u001b[0;32m    170\u001b[0m \u001b[38;5;66;03m# The reason we repeat same the comment below is that\u001b[39;00m\n\u001b[0;32m    171\u001b[0m \u001b[38;5;66;03m# some Python versions print out the first line of a multi-line function\u001b[39;00m\n\u001b[0;32m    172\u001b[0m \u001b[38;5;66;03m# calls in the traceback and some print out the last line\u001b[39;00m\n\u001b[1;32m--> 173\u001b[0m \u001b[43mVariable\u001b[49m\u001b[38;5;241;43m.\u001b[39;49m\u001b[43m_execution_engine\u001b[49m\u001b[38;5;241;43m.\u001b[39;49m\u001b[43mrun_backward\u001b[49m\u001b[43m(\u001b[49m\u001b[43m  \u001b[49m\u001b[38;5;66;43;03m# Calls into the C++ engine to run the backward pass\u001b[39;49;00m\n\u001b[0;32m    174\u001b[0m \u001b[43m    \u001b[49m\u001b[43mtensors\u001b[49m\u001b[43m,\u001b[49m\u001b[43m \u001b[49m\u001b[43mgrad_tensors_\u001b[49m\u001b[43m,\u001b[49m\u001b[43m \u001b[49m\u001b[43mretain_graph\u001b[49m\u001b[43m,\u001b[49m\u001b[43m \u001b[49m\u001b[43mcreate_graph\u001b[49m\u001b[43m,\u001b[49m\u001b[43m \u001b[49m\u001b[43minputs\u001b[49m\u001b[43m,\u001b[49m\n\u001b[0;32m    175\u001b[0m \u001b[43m    \u001b[49m\u001b[43mallow_unreachable\u001b[49m\u001b[38;5;241;43m=\u001b[39;49m\u001b[38;5;28;43;01mTrue\u001b[39;49;00m\u001b[43m,\u001b[49m\u001b[43m \u001b[49m\u001b[43maccumulate_grad\u001b[49m\u001b[38;5;241;43m=\u001b[39;49m\u001b[38;5;28;43;01mTrue\u001b[39;49;00m\u001b[43m)\u001b[49m\n",
      "\u001b[1;31mRuntimeError\u001b[0m: element 0 of tensors does not require grad and does not have a grad_fn"
     ]
    }
   ],
   "source": [
    "%%time\n",
    "\n",
    "train_loss, valid_loss, train_accuracy, valid_accuracy = trainer(\n",
    "    model, criterion, optimizer, dataloaders['train'], dataloaders['valid'], epochs=10, verbose=True\n",
    ")"
   ]
  },
  {
   "cell_type": "markdown",
   "id": "941e0fc4-9765-4cdd-a78c-2b3b7fcbac6a",
   "metadata": {},
   "source": [
    "# Examination of Losses and Accuracies"
   ]
  },
  {
   "cell_type": "code",
   "execution_count": null,
   "id": "65b92b6b-4eb0-4de2-aa67-abeff57c4879",
   "metadata": {},
   "outputs": [],
   "source": [
    "loss_fig = pd.DataFrame(\n",
    "    {\"train_loss\": train_loss, \"valid_loss\": valid_loss}\n",
    ").plot.line()\n",
    "loss_fig.set_xlabel('Epoch')\n",
    "loss_fig.set_ylabel('Loss');\n",
    "\n",
    "accur_fig = pd.DataFrame(\n",
    "    {\"train_accuracy\": train_accuracy, \n",
    "     \"valid_accuracy\": valid_accuracy}\n",
    ").plot.line()\n",
    "accur_fig.set_xlabel('Epoch')\n",
    "accur_fig.set_ylabel('Accuracy');"
   ]
  },
  {
   "cell_type": "markdown",
   "id": "0ac09cf8-132d-4ac0-bbbf-381e203dc7ce",
   "metadata": {},
   "source": [
    "# Prediction Check After Training"
   ]
  },
  {
   "cell_type": "code",
   "execution_count": null,
   "id": "73c290be-923e-4342-8a64-61a5754fa8f8",
   "metadata": {},
   "outputs": [],
   "source": [
    "# Test on training images (run as many times as you like!)\n",
    "image, label = next(iter(dataloaders[\"test\"]))\n",
    "model.to(device)\n",
    "image = image.to(device)\n",
    "label = label.to(device)\n",
    "predictions = model(image)  # Get first image and predict it\n",
    "# predictions = nn.Softmax(dim=1)(predictions)  # Coerce predictions to probabilities using Softmax()\n",
    "predictions = torch.topk(predictions, 10)\n",
    "plot_prediction(image[0].cpu(), label[0].cpu(), predictions)"
   ]
  },
  {
   "cell_type": "markdown",
   "id": "2bc042a0-1d32-4b87-8be6-6aa98804b222",
   "metadata": {},
   "source": [
    "# Model Save"
   ]
  },
  {
   "cell_type": "code",
   "execution_count": null,
   "id": "eecd2beb-1dd1-422d-a839-dd42eb675c7e",
   "metadata": {},
   "outputs": [],
   "source": [
    "torch.save(model.state_dict(), 'vgg16_multi-label_coco-2014_model_weights.pth')\n",
    "torch.save(model, 'vgg16_multi-label_coco-2014_model.pth')"
   ]
  }
 ],
 "metadata": {
  "kernelspec": {
   "display_name": "Python [conda env:575]",
   "language": "python",
   "name": "conda-env-575-py"
  },
  "language_info": {
   "codemirror_mode": {
    "name": "ipython",
    "version": 3
   },
   "file_extension": ".py",
   "mimetype": "text/x-python",
   "name": "python",
   "nbconvert_exporter": "python",
   "pygments_lexer": "ipython3",
   "version": "3.10.4"
  }
 },
 "nbformat": 4,
 "nbformat_minor": 5
}
