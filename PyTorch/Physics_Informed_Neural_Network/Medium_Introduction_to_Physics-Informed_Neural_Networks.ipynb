{
 "cells": [
  {
   "cell_type": "markdown",
   "id": "bd12be53-9821-4e98-a3e3-119d62931250",
   "metadata": {},
   "source": [
    "The following is from [this article](https://towardsdatascience.com/solving-differential-equations-with-neural-networks-afdcf7b8bcc4) in Medium."
   ]
  },
  {
   "cell_type": "markdown",
   "id": "191bdc27-7a7f-419b-924a-7078b594e798",
   "metadata": {},
   "source": [
    "Recently, another very promising application has emerged in the scientific machine learning (ML) community: the solution of partial differential equations (PDEs) using artificial neural networks, with an approach normally referred to as physics-informed neural networks (PINNs). PINNs have been originally introduced in the seminal work in [1] and today they are not limited anymore to a pure research topic but are gaining traction in industry as well, enough to enter the famous Gartner hype cycle for emerging technologies in 2021."
   ]
  },
  {
   "cell_type": "markdown",
   "id": "c4692406-9b06-4c04-98d0-0cf36f2105b6",
   "metadata": {},
   "source": [
    "The PINNs approach discussed in this post is regarded as a promising alternative to FEM methods for covering some of these limitations. This approach is quite different from the standard supervised ML. In fact, instead of relying purely on data, it uses the physical properties of the PDE itself to guide the training process. Known data points can be easily added on top of the physics-based loss function to speed-up training speed."
   ]
  },
  {
   "cell_type": "markdown",
   "id": "dcede4ab-551e-4e06-ae0b-764e6e77fc3f",
   "metadata": {},
   "source": [
    "# 1. How Physics-Informed NNs Work"
   ]
  },
  {
   "cell_type": "markdown",
   "id": "50deeeee-b9bf-4d8a-b53a-79d9d92e2fdf",
   "metadata": {},
   "source": [
    "To gain a high-level understanding of PINNs, let’s begin with choosing a differential equation. To keep things simple, in this post we focus on the [logistic differential equation](https://mathworld.wolfram.com/LogisticEquation.html), a famous first order ordinary differential equation used to model population growth:"
   ]
  },
  {
   "cell_type": "markdown",
   "id": "bbb3979a-f679-42ee-915c-fc2129e3726b",
   "metadata": {},
   "source": [
    "<img src=\"equ_1.webp\" style=\"width:300px;height:70px;background-color:white\">"
   ]
  },
  {
   "cell_type": "markdown",
   "id": "bf0825e4-61b3-426a-9d0f-45df24be745a",
   "metadata": {},
   "source": [
    "Here the function f(t) represents the population growth rate over time t and the parameter R yields the maximum population growth rate and it strongly affects the shape of the solution. In order to fully specify the solution of this equation, one needs to impose a boundary condition, for example at t = 0 such as:"
   ]
  },
  {
   "cell_type": "markdown",
   "id": "f443e797-67a3-499d-8a26-d13d10b43f11",
   "metadata": {},
   "source": [
    "<img src=\"equ_2.webp\" style=\"width:200px;height:40px;background-color:white\">"
   ]
  },
  {
   "cell_type": "markdown",
   "id": "e220f059-ce2f-4f9d-b297-b094d920d888",
   "metadata": {},
   "source": [
    "Even though the solution to this equation can be easily derived analytically, it represents a simple playground to illustrate how PINNs work. All the techniques explained in the following are readily applicable to more complex ordinary and partial differential equations. However, for more complex scenarios additional tricks will be needed in order to get good convergence."
   ]
  },
  {
   "cell_type": "markdown",
   "id": "f26e7dfa-9540-40db-95dd-79a2a6706901",
   "metadata": {},
   "source": [
    "PINNs are based on two fundamental properties of NNs:\n",
    "\n",
    "- It has been formally demonstrated [2] that NNs are **universal function approximators**. Therefore a NN, provided that it is deep and expressive enough, can approximate any function and therefore also the solution for the differential equation above.\n",
    "- It is easy and cheap to compute the derivatives (of any order) of a NN output with respect to any of its input (and of course model parameters during backpropagation) using **automatic differentiation (AD)**. AD is actually what made neural networks so efficient and successful in the first place."
   ]
  },
  {
   "cell_type": "markdown",
   "id": "dca71b97-aaf5-4ebb-b7bc-13c7cc96cefb",
   "metadata": {},
   "source": [
    "These are nice features but how can we make the NN actually learn the solution? And here it comes the surprisingly simple but extremely clever idea behind PINNs [3, 4]: **We can construct the NN loss function such that, when minimized, the PDE is automatically satisfied.** In other words, **the most important loss contribution is taken as the residual of the differential equation** as follows:"
   ]
  },
  {
   "cell_type": "markdown",
   "id": "6363270a-ab1a-4ba4-890f-deb9c840ae43",
   "metadata": {},
   "source": [
    "<img src=\"equ_3.webp\" style=\"width:450px;height:70px;background-color:white\">"
   ]
  },
  {
   "cell_type": "markdown",
   "id": "36be4497-92a2-4e3c-b94f-8a7b7d8642cd",
   "metadata": {},
   "source": [
    "where f_NN(t) is the output of a NN with one input and its derivative is computed using AD. It is immediate to see that if the NN output respects the equation above, one is actually solving the differential equation. To compute the actual loss contribution coming from the DE residual, one needs to specify a set of points in the equation domain (usually referred to as colocation points) and evaluate the mean square error (MSE) or another loss function as an average over all the chosen colocation points:"
   ]
  },
  {
   "cell_type": "markdown",
   "id": "15d5bc10-6816-4ce7-af92-9c9d1bc742f5",
   "metadata": {},
   "source": [
    "<img src=\"equ_4.webp\" style=\"width:600px;height:80px;background-color:white\">"
   ]
  },
  {
   "cell_type": "markdown",
   "id": "bd404766-0616-4721-a889-10d06d097afd",
   "metadata": {},
   "source": [
    "However, a loss based only on the above residual does not ensure to have a unique solution to the equation. Therefore, let’s include the boundary condition by adding it to the loss computation in exactly the same way as above:"
   ]
  },
  {
   "cell_type": "markdown",
   "id": "e3cadb9b-e98f-415f-9397-f040bd846788",
   "metadata": {},
   "source": [
    "<img src=\"equ_5.webp\" style=\"width:500px;height:40px;background-color:white\">"
   ]
  },
  {
   "cell_type": "markdown",
   "id": "bb3de81a-8a72-49b4-81f9-bbdbe0264b9a",
   "metadata": {},
   "source": [
    "Hence, the final loss simply reads:"
   ]
  },
  {
   "cell_type": "markdown",
   "id": "2d1cd16a-647e-40fe-b677-d8e5fbdd43e5",
   "metadata": {},
   "source": [
    "<img src=\"equ_6.webp\" style=\"width:250px;height:40px;background-color:white\">"
   ]
  },
  {
   "cell_type": "markdown",
   "id": "3fcffeb1-8e78-47b9-8076-078d3d123389",
   "metadata": {},
   "source": [
    "During the optimization procedure, this is minimized and the NN output is trained to respect both the differential equation and the given boundary condition, thus approximating the final DE solution."
   ]
  },
  {
   "cell_type": "markdown",
   "id": "2c64f368-3ac5-411f-b7c9-ce8f8562036c",
   "metadata": {},
   "source": [
    "The PINN framework is very flexible and, using the ideas presented above, one can add more boundary conditions, include more complex ones such as constraints on the derivatives of f(x), or treat time-dependent and multidimensional problems using a NN with multiple inputs."
   ]
  },
  {
   "cell_type": "markdown",
   "id": "e049fc04-7442-4b02-88dc-717427ab54e9",
   "metadata": {},
   "source": [
    "# 2. Build a PINN from Scratch"
   ]
  },
  {
   "cell_type": "markdown",
   "id": "ad086b66-c259-4f94-a634-797a448264f0",
   "metadata": {},
   "source": [
    "## 2.1. The Neural Network"
   ]
  },
  {
   "cell_type": "markdown",
   "id": "b81ab6ad-cd67-4f3a-a361-6bd5d6cdb6b1",
   "metadata": {},
   "source": [
    "The main ingredient of a PINN is of course the neural network itself. For this post, we choose a basic NN architecture composed by a stack of linear layers with standard tanh activation functions. Since we have one independent variables, the time t, the NN should take one feature as input and return one output which represents the best DE solution guess given the current model parameters. Below a PyTorch implementation of this architecture where the number of neurons and hidden layers are left as input (hyper)parameters."
   ]
  },
  {
   "cell_type": "code",
   "execution_count": 1,
   "id": "e2caaf7c-8b47-4d1e-bb6c-d5cd57730428",
   "metadata": {},
   "outputs": [],
   "source": [
    "import torch\n",
    "from torch import nn"
   ]
  },
  {
   "cell_type": "code",
   "execution_count": 2,
   "id": "3b2657bd-89e0-4d68-8298-6b3cf2163c87",
   "metadata": {},
   "outputs": [],
   "source": [
    "class LinearNN(nn.Module):\n",
    "    def __init__(\n",
    "        self,\n",
    "        num_inputs: int = 1,\n",
    "        num_layers: int = 1,\n",
    "        num_neurons: int = 5,\n",
    "        act: nn.Module = nn.Tanh(),\n",
    "    ) -> None:\n",
    "        \"\"\"Basic neural network architecture with linear layers\n",
    "\n",
    "        Args:\n",
    "            num_inputs (int, optional): the dimensionality of the input tensor\n",
    "            num_layers (int, optional): the number of hidden layers\n",
    "            num_neurons (int, optional): the number of neurons for each hidden layer\n",
    "            act (nn.Module, optional): the non-linear activation function to use for stitching\n",
    "                linear layers togeter\n",
    "        \"\"\"\n",
    "        super().__init__()\n",
    "\n",
    "        self.num_inputs = num_inputs\n",
    "        self.num_neurons = num_neurons\n",
    "        self.num_layers = num_layers\n",
    "\n",
    "        layers = []\n",
    "\n",
    "        # input layer\n",
    "        layers.append(nn.Linear(self.num_inputs, num_neurons))\n",
    "\n",
    "        # hidden layers with linear layer and activation\n",
    "        for _ in range(num_layers):\n",
    "            layers.extend([nn.Linear(num_neurons, num_neurons), act])\n",
    "\n",
    "        # output layer\n",
    "        layers.append(nn.Linear(num_neurons, 1))\n",
    "\n",
    "        # build the network\n",
    "        self.network = nn.Sequential(*layers)\n",
    "\n",
    "    def forward(self, x: torch.Tensor) -> torch.Tensor:\n",
    "        return self.network(x.reshape(-1, 1)).squeeze()"
   ]
  },
  {
   "cell_type": "markdown",
   "id": "fa45b38c-e4a6-4ba2-8cf5-e459c0966f12",
   "metadata": {},
   "source": [
    "PINNs are a very active research area and much more complex and often problem-tailored neural network architectures have been devised. Discussion on these architectures is outside the scope of this introductory blog."
   ]
  },
  {
   "cell_type": "markdown",
   "id": "b7197e03-07da-4977-9ba3-5b85fbffd170",
   "metadata": {},
   "source": [
    "## 2.2. Build the Loss Function"
   ]
  },
  {
   "cell_type": "markdown",
   "id": "fe6778cc-c2cb-42df-ab24-362b652d92aa",
   "metadata": {},
   "source": [
    "Now that we defined our universal function approximator, let’s build the loss function. As discussed, this is composed by the DE residual term, that acts as a physics-informed regularization, and the boundary condition term, driving the network to converge to the desired solution among the infinite possible ones."
   ]
  },
  {
   "cell_type": "markdown",
   "id": "4f344524-2bd1-447b-8304-9dc5ad5f2118",
   "metadata": {},
   "source": [
    "First of all, one needs to choose a set of colocation points. Since we are solving a very simple problem, we can choose a uniformly spaced grid in the time domain: `t = torch.linspace(0, 1, steps=30, requires_grad=True)` or we can randomly sample new colocation points from the time domain at each iteration of the optimizer. For more complex problems, the choice of colocation points is extremely important and can strongly affect the results."
   ]
  },
  {
   "cell_type": "markdown",
   "id": "082c127c-b0e8-4e3b-8400-2ea467abb74c",
   "metadata": {},
   "source": [
    "For computing the model output and its derivative we are using the functional API of PyTorch which makes models fully functional by decoupling the parameters from the model itself. You can check my [other post](https://towardsdatascience.com/introduction-to-functional-pytorch-b5bf739e1e6e) on the subject for more details."
   ]
  },
  {
   "cell_type": "markdown",
   "id": "19b87a47-e7a7-42a8-b2fb-57c80a3acf50",
   "metadata": {},
   "source": [
    "**The functional approach to PyTorch is very convenient when dealing with (higher-order) derivatives of the NN output with respect to its inputs, as often the case for PINNs.** In the code below, we use the `torch.func` API introduced in PyTorch 2.0 to build a functional forward pass and higher-order gradient calculations with support for batches."
   ]
  },
  {
   "cell_type": "code",
   "execution_count": 3,
   "id": "ac0550a8-47f8-4214-b755-8e761937016a",
   "metadata": {},
   "outputs": [],
   "source": [
    "from torch.func import functional_call, grad, vmap"
   ]
  },
  {
   "cell_type": "code",
   "execution_count": 4,
   "id": "8eb16718-3cf2-4359-918e-375ef818f1f1",
   "metadata": {},
   "outputs": [],
   "source": [
    "model = LinearNN()"
   ]
  },
  {
   "cell_type": "code",
   "execution_count": 5,
   "id": "51975c54-b87d-4ae8-8594-29df87f0680c",
   "metadata": {},
   "outputs": [],
   "source": [
    "# notice that `functional_call` supports batched inputs by default\n",
    "# thus there is not need to call vmap on it, as it's instead the case\n",
    "# for the derivative calls\n",
    "def f(x: torch.Tensor, params: dict[str, torch.nn.Parameter]) -> torch.Tensor:\n",
    "    if isinstance(params, tuple):\n",
    "        params_dict = tuple_to_dict_parameters(model, params)\n",
    "    else:\n",
    "        params_dict = params\n",
    "    return functional_call(model, params_dict, (x,))"
   ]
  },
  {
   "cell_type": "code",
   "execution_count": 6,
   "id": "b90e6bb1-efd2-4196-b00d-c916bb67a2e0",
   "metadata": {},
   "outputs": [],
   "source": [
    "# return function for computing higher order gradients with respect\n",
    "# to input by simply composing `grad` calls and use again `vmap` for\n",
    "# efficient batching of the input\n",
    "dfdx = vmap(grad(f), in_dims=(0, None))\n",
    "d2fdx2 = vmap(grad(grad(f)), in_dims=(0, None))"
   ]
  },
  {
   "cell_type": "code",
   "execution_count": 7,
   "id": "44d8f037-2806-47d0-9407-91d667af1849",
   "metadata": {},
   "outputs": [
    {
     "data": {
      "text/plain": [
       "<function __main__.f(x: torch.Tensor, params: dict[str, torch.nn.parameter.Parameter]) -> torch.Tensor>"
      ]
     },
     "execution_count": 7,
     "metadata": {},
     "output_type": "execute_result"
    }
   ],
   "source": [
    "dfdx"
   ]
  },
  {
   "cell_type": "code",
   "execution_count": 8,
   "id": "b2d0f42c-7dca-4774-8544-825d0ec3d92d",
   "metadata": {},
   "outputs": [
    {
     "data": {
      "text/plain": [
       "<function __main__.f(x: torch.Tensor, params: dict[str, torch.nn.parameter.Parameter]) -> torch.Tensor>"
      ]
     },
     "execution_count": 8,
     "metadata": {},
     "output_type": "execute_result"
    }
   ],
   "source": [
    "d2fdx2"
   ]
  },
  {
   "cell_type": "code",
   "execution_count": 9,
   "id": "339bd83c-5a53-46d3-8c2f-ff0c40ebce43",
   "metadata": {},
   "outputs": [],
   "source": [
    "from collections import OrderedDict\n",
    "\n",
    "\n",
    "def tuple_to_dict_parameters(\n",
    "    model: nn.Module, params: tuple[torch.nn.Parameter, ...]\n",
    ") -> OrderedDict[str, torch.nn.Parameter]:\n",
    "    \"\"\"Convert a set of parameters stored as a tuple into a dictionary form\n",
    "\n",
    "    This conversion is required to be able to call the `functional_call` API which requires\n",
    "    parameters in a dictionary form from the results of a functional optimization step which\n",
    "    returns the parameters as a tuple\n",
    "\n",
    "    Args:\n",
    "        model (nn.Module): the model to make the functional calls for. It can be any subclass of\n",
    "            a nn.Module\n",
    "        params (tuple[Parameter, ...]): the model parameters stored as a tuple\n",
    "\n",
    "    Returns:\n",
    "        An OrderedDict instance with the parameters stored as an ordered dictionary\n",
    "    \"\"\"\n",
    "    keys = list(dict(model.named_parameters()).keys())\n",
    "    values = list(params)\n",
    "    return OrderedDict(({k: v for k, v in zip(keys, values)}))"
   ]
  },
  {
   "cell_type": "markdown",
   "id": "2ebf18c9-24d2-4884-b699-cfd58a225e4d",
   "metadata": {},
   "source": [
    "Notice that calls to `grad` can be composed without restrictions, thus allowing to compute derivatives of any order with respect to the inputs. Using the functions defined above, the MSE loss is easily computed as a sum of the DE contribution at each colocation point and the boundary contribution. Notice that, given the functional nature of the forward pass and derivatives, the loss function must also take the model `params` as input argument:"
   ]
  },
  {
   "cell_type": "code",
   "execution_count": 10,
   "id": "3c8b56ed-fafa-46c1-ad49-28f47a504b44",
   "metadata": {},
   "outputs": [],
   "source": [
    "R = 1.0  # rate of maximum population growth parameterizing the equation\n",
    "X_BOUNDARY = 0.0  # boundary condition coordinate\n",
    "F_BOUNDARY = 0.5  # boundary condition value"
   ]
  },
  {
   "cell_type": "code",
   "execution_count": 11,
   "id": "357410d4-68d8-4be8-b032-36599b99bbe7",
   "metadata": {},
   "outputs": [],
   "source": [
    "def loss_fn(params: torch.Tensor, x: torch.Tensor):\n",
    "    # interior loss\n",
    "    f_value = f(x, params)  # x == t\n",
    "    interior = dfdx(x, params) - R * f_value * (1 - f_value)\n",
    "\n",
    "    # boundary loss\n",
    "    x0 = X_BOUNDARY  # x0 == t0\n",
    "    f0 = F_BOUNDARY\n",
    "    x_boundary = torch.tensor([x0])\n",
    "    f_boundary = torch.tensor([f0])\n",
    "    boundary = f(x_boundary, params) - f_boundary\n",
    "\n",
    "    loss = nn.MSELoss()\n",
    "    loss_value = loss(interior, torch.zeros_like(interior)) + loss(\n",
    "        boundary, torch.zeros_like(boundary)\n",
    "    )\n",
    "\n",
    "    return loss_value"
   ]
  },
  {
   "cell_type": "markdown",
   "id": "43bdbc92-51e2-487c-bbb7-228e5743dcc7",
   "metadata": {},
   "source": [
    "That’s it! The custom loss define above ensures that after the training procedure, the NN will approximate the solution to the chosen differential equation. Now, let’s see it in action."
   ]
  },
  {
   "cell_type": "markdown",
   "id": "a67898eb-b632-46b3-a5e1-6af3d6c112a1",
   "metadata": {},
   "source": [
    "## 2.3. Solving the Differential Equation with PINNs"
   ]
  },
  {
   "cell_type": "markdown",
   "id": "6e7dd5be-fd0d-4e3a-b05d-695cb5142001",
   "metadata": {},
   "source": [
    "PyTorch does not currently offer native support for optimizers with the functional API we used. However, the amazing PyTorch community comes to rescue and one can get a functional version of most of PyTorch optimizers using the [`torchopt` library](https://github.com/metaopt/torchopt). The interface of this library is very intuitive and will be immediately familiar to any PyTorch user. A basic training loop for our functional model is shown below. Notice that we sample randomly the solution domain at each iteration."
   ]
  },
  {
   "cell_type": "code",
   "execution_count": 12,
   "id": "4651fa69-c8e7-4c67-a9f7-989e04b68670",
   "metadata": {},
   "outputs": [
    {
     "name": "stderr",
     "output_type": "stream",
     "text": [
      "NOTE: Redirects are currently not supported in Windows or MacOs.\n"
     ]
    }
   ],
   "source": [
    "import torchopt"
   ]
  },
  {
   "cell_type": "code",
   "execution_count": 13,
   "id": "8e7a5582-a7b2-4d92-9d84-4fb5c8609e51",
   "metadata": {},
   "outputs": [],
   "source": [
    "# choose the configuration for the training loop\n",
    "batch_size = 30  # number of colocation points to sample in the domain\n",
    "num_iter = 100  # maximum number of iterations\n",
    "learning_rate = 1e-1  # learning rate\n",
    "domain = (-5.0, 5.0)  # logistic equation domain"
   ]
  },
  {
   "cell_type": "code",
   "execution_count": 14,
   "id": "825f283e-8c6e-421f-84bc-f7a23fdb861b",
   "metadata": {},
   "outputs": [],
   "source": [
    "# choose optimizer with functional API using functorch\n",
    "optimizer = torchopt.FuncOptimizer(torchopt.adam(lr=learning_rate))"
   ]
  },
  {
   "cell_type": "code",
   "execution_count": 15,
   "id": "ed81aada-fc4d-4f40-98db-78743f2a6179",
   "metadata": {},
   "outputs": [],
   "source": [
    "# initial parameters randomly initialized\n",
    "params = tuple(model.parameters())"
   ]
  },
  {
   "cell_type": "code",
   "execution_count": 16,
   "id": "a171d242-88a8-49a6-9a64-611469717fa5",
   "metadata": {},
   "outputs": [
    {
     "name": "stdout",
     "output_type": "stream",
     "text": [
      "Iteration 0 with loss 0.0825391411781311\n",
      "Iteration 10 with loss 0.0031084429938346148\n",
      "Iteration 20 with loss 0.0026628978084772825\n",
      "Iteration 30 with loss 0.0011722994968295097\n",
      "Iteration 40 with loss 0.0007242101710289717\n",
      "Iteration 50 with loss 0.00023922162654343992\n",
      "Iteration 60 with loss 0.00011317574535496533\n",
      "Iteration 70 with loss 5.3506839321926236e-05\n",
      "Iteration 80 with loss 2.1655941964127123e-05\n",
      "Iteration 90 with loss 2.1037778424215503e-05\n"
     ]
    }
   ],
   "source": [
    "# train the model\n",
    "loss_evolution = []\n",
    "for i in range(num_iter):\n",
    "    # sample points in the domain randomly for each epoch\n",
    "    x = torch.FloatTensor(batch_size).uniform_(domain[0], domain[1])\n",
    "\n",
    "    # compute the loss with the current parameters\n",
    "    loss = loss_fn(params, x)\n",
    "\n",
    "    # update the parameters with functional optimizer\n",
    "    params = optimizer.step(loss, params)\n",
    "    if i % 10 == 0:\n",
    "        print(f\"Iteration {i} with loss {float(loss)}\")\n",
    "    loss_evolution.append(float(loss))"
   ]
  },
  {
   "cell_type": "markdown",
   "id": "3ac8d5c3-72c3-471a-b709-62f6a7692dc4",
   "metadata": {},
   "source": [
    "Let’s see some results. We use the Adam optimizer with a learning rate of 0.1 with 30 training points sampled uniformly from the domain at each optimization epoch. Given the simplicity of the chosen differential equation, 100 epochs are enough to almost perfectly reproduce the analytical result with a maximum growth rate set at R = 1:"
   ]
  },
  {
   "cell_type": "code",
   "execution_count": 17,
   "id": "be0ada6f-ae41-446b-818d-99461459faa6",
   "metadata": {},
   "outputs": [],
   "source": [
    "import matplotlib.pyplot as plt\n",
    "import numpy as np"
   ]
  },
  {
   "cell_type": "code",
   "execution_count": 18,
   "id": "366151e7-7c21-47ca-b012-f08b9d53eefd",
   "metadata": {},
   "outputs": [
    {
     "data": {
      "image/png": "[encoded data removed]",
      "text/plain": [
       "<Figure size 640x480 with 1 Axes>"
      ]
     },
     "metadata": {},
     "output_type": "display_data"
    }
   ],
   "source": [
    "# plot solution on the given domain\n",
    "x_eval = torch.linspace(domain[0], domain[1], steps=100).reshape(-1, 1)\n",
    "f_eval = f(x_eval, params)\n",
    "analytical_sol_fn = lambda x: 1.0 / (1.0 + (1.0 / F_BOUNDARY - 1.0) * np.exp(-R * x))\n",
    "x_eval_np = x_eval.detach().numpy()\n",
    "x_sample_np = (\n",
    "    torch.FloatTensor(batch_size).uniform_(domain[0], domain[1]).detach().numpy()\n",
    ")\n",
    "\n",
    "fig, ax = plt.subplots()\n",
    "\n",
    "ax.scatter(\n",
    "    x_sample_np,\n",
    "    analytical_sol_fn(x_sample_np),\n",
    "    color=\"red\",\n",
    "    label=\"Sample training points\",\n",
    ")\n",
    "ax.plot(x_eval_np, f_eval.detach().numpy(), label=\"PINN final solution\")\n",
    "ax.plot(\n",
    "    x_eval_np,\n",
    "    analytical_sol_fn(x_eval_np),\n",
    "    label=f\"Analytic solution\",\n",
    "    color=\"green\",\n",
    "    alpha=0.75,\n",
    ")\n",
    "ax.set(title=\"Logistic equation solved with NNs\", xlabel=\"t\", ylabel=\"f(t)\")\n",
    "ax.legend();"
   ]
  },
  {
   "cell_type": "markdown",
   "id": "89b76557-5b27-4acb-a132-3fa7a8307981",
   "metadata": {},
   "source": [
    "In the plot above, the solution is evaluated on 100 uniformly spaced points, the evolution of the loss per each epoch (where the y-axis is in logarithmic scale) looks like this:"
   ]
  },
  {
   "cell_type": "code",
   "execution_count": 19,
   "id": "bd4128f9-f2e6-4d22-b296-6a8e2d5b2a47",
   "metadata": {},
   "outputs": [
    {
     "data": {
      "image/png": "[encoded data removed]",
      "text/plain": [
       "<Figure size 640x480 with 1 Axes>"
      ]
     },
     "metadata": {},
     "output_type": "display_data"
    }
   ],
   "source": [
    "fig, ax = plt.subplots()\n",
    "ax.semilogy(loss_evolution)\n",
    "ax.set(title=\"Loss evolution\", xlabel=\"# epochs\", ylabel=\"Loss\")\n",
    "\n",
    "plt.show()"
   ]
  },
  {
   "cell_type": "markdown",
   "id": "77a67155-de83-4968-97a0-09da118e73b9",
   "metadata": {},
   "source": [
    "Here we solved a very simple, one dimensional problem. With more complex equations, convergence is not achieved so easily. Particularly for time-dependent problems, many useful tricks have been devised over the past years such as decomposing the solution domain in different parts solved using different neural networks, smart weighting of different loss contributions to avoid converging to trivial solutions and many more. I will introduce some of these tricks in future posts, so stay tuned."
   ]
  },
  {
   "cell_type": "markdown",
   "id": "18b3a663-7b67-41ba-8ec0-a7177ca5d293",
   "metadata": {},
   "source": [
    "This post gives a simple, high-level introduction to physics-informed neural networks, a promising machine learning method to solve (partial) differential equations. Although further advances are needed to make PINNs routinely applicable to industrial problems, they are a really active and exciting area of research and represent a promising alternative to standard differential equation solvers."
   ]
  },
  {
   "cell_type": "code",
   "execution_count": null,
   "id": "5b303f00-b61d-48fd-b64b-632c88abb1f5",
   "metadata": {},
   "outputs": [],
   "source": []
  }
 ],
 "metadata": {
  "kernelspec": {
   "display_name": "Python [conda env:pytorch_env]",
   "language": "python",
   "name": "conda-env-pytorch_env-py"
  },
  "language_info": {
   "codemirror_mode": {
    "name": "ipython",
    "version": 3
   },
   "file_extension": ".py",
   "mimetype": "text/x-python",
   "name": "python",
   "nbconvert_exporter": "python",
   "pygments_lexer": "ipython3",
   "version": "3.11.4"
  }
 },
 "nbformat": 4,
 "nbformat_minor": 5
}
