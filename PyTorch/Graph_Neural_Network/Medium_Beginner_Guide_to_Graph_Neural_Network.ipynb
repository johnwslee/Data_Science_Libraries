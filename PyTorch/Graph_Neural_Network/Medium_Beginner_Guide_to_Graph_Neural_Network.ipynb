{
 "cells": [
  {
   "cell_type": "markdown",
   "id": "8978fdab-af54-44d3-b02b-160b9d058e55",
   "metadata": {},
   "source": [
    "The following is from [this article](https://medium.com/towards-data-science/a-beginners-guide-to-graph-neural-networks-using-pytorch-geometric-part-1-d98dc93e7742) in Medium."
   ]
  },
  {
   "cell_type": "markdown",
   "id": "22d5fe4a-ab50-48f9-b1db-b9c76475a922",
   "metadata": {},
   "source": [
    "# 1. Getting started."
   ]
  },
  {
   "cell_type": "markdown",
   "id": "ddef00ed-2f75-4978-9fd5-3a5df55302b9",
   "metadata": {},
   "source": [
    "Let’s pick a simple graph dataset like [Zachary’s Karate Club](https://en.wikipedia.org/wiki/Zachary%27s_karate_club). Here, the nodes represent 34 students who were involved in the club and the links represent 78 different interactions between pairs of members outside the club. There are two different types of labels i.e, the two factions. We can use this information to formulate a node classification task."
   ]
  },
  {
   "cell_type": "markdown",
   "id": "24a1706a-8cda-409a-a336-e4a655513861",
   "metadata": {},
   "source": [
    "We divide the graph into train and test sets where we use the train set to build a graph neural network model and use the model to predict the missing node labels in the test set.\n",
    "\n",
    "Here, we use [PyTorch Geometric](https://github.com/pyg-team/pytorch_geometric) (PyG) python library to model the graph neural network. Alternatively, [Deep Graph Library](https://docs.dgl.ai/) (DGL) can also be used for the same purpose.\n",
    "\n",
    "PyTorch Geometric is a geometric deep learning library built on top of PyTorch. Several popular graph neural network methods have been implemented using PyG and you can play around with the code using built-in datasets or create your own dataset. PyG uses a nifty implementation where it provides an [InMemoryDataset](https://pytorch-geometric.readthedocs.io/en/latest/notes/create_dataset.html) class which can be used to create the custom dataset (*Note: InMemoryDataset should be used for datasets small enough to load in the memory*)."
   ]
  },
  {
   "cell_type": "markdown",
   "id": "900a4436-35d8-4648-b8aa-bc2c3e312cf1",
   "metadata": {},
   "source": [
    "# 2. Formulate the problem."
   ]
  },
  {
   "cell_type": "markdown",
   "id": "e64d4859-079f-44dd-8bfc-985eb335f948",
   "metadata": {},
   "source": [
    "In order to formulate the problem, we need:\n",
    "\n",
    "1. The graph itself and the labels for each node\n",
    "2. The edge data in the [Coordinate Format](https://scipy-lectures.org/advanced/scipy_sparse/coo_matrix.html) (COO)\n",
    "3. Embeddings or numerical representations for the nodes"
   ]
  },
  {
   "cell_type": "markdown",
   "id": "a61bd988-f2d1-425b-ad04-c5605e67b48c",
   "metadata": {},
   "source": [
    "> Note: For the numerical representation for nodes, we can use graph properties like degree or use different embedding generation methods like [node2vec](https://github.com/eliorc/node2vec), [DeepWalk](https://github.com/phanein/deepwalk) etc. In this example, I will be using node degree as its numerical representation."
   ]
  },
  {
   "cell_type": "markdown",
   "id": "99473850-79dc-4c74-a8d7-cd7556817366",
   "metadata": {},
   "source": [
    "# 3. Preparations."
   ]
  },
  {
   "cell_type": "code",
   "execution_count": 1,
   "id": "daaf3461-591a-4c0e-999a-1feae85c1876",
   "metadata": {},
   "outputs": [],
   "source": [
    "import networkx as nx\n",
    "import numpy as np\n",
    "import torch\n",
    "from sklearn.preprocessing import StandardScaler"
   ]
  },
  {
   "cell_type": "code",
   "execution_count": 2,
   "id": "0c3f72a0-b6c3-43ca-a835-e7c08096f30f",
   "metadata": {},
   "outputs": [],
   "source": [
    "# load graph from networkx library\n",
    "G = nx.karate_club_graph()"
   ]
  },
  {
   "cell_type": "code",
   "execution_count": 3,
   "id": "c585e6ce-9ac3-4efa-8a6c-76dff5a059d5",
   "metadata": {},
   "outputs": [
    {
     "data": {
      "text/plain": [
       "NodeView((0, 1, 2, 3, 4, 5, 6, 7, 8, 9, 10, 11, 12, 13, 14, 15, 16, 17, 18, 19, 20, 21, 22, 23, 24, 25, 26, 27, 28, 29, 30, 31, 32, 33))"
      ]
     },
     "execution_count": 3,
     "metadata": {},
     "output_type": "execute_result"
    }
   ],
   "source": [
    "G.nodes"
   ]
  },
  {
   "cell_type": "code",
   "execution_count": 4,
   "id": "1847a128-c039-45e8-9d2c-bc70c4643bf5",
   "metadata": {},
   "outputs": [
    {
     "data": {
      "text/plain": [
       "{'club': 'Mr. Hi'}"
      ]
     },
     "execution_count": 4,
     "metadata": {},
     "output_type": "execute_result"
    }
   ],
   "source": [
    "G.nodes[0]"
   ]
  },
  {
   "cell_type": "code",
   "execution_count": 5,
   "id": "8d5a4a45-cdfb-4151-b7eb-f9ded00fb822",
   "metadata": {},
   "outputs": [
    {
     "data": {
      "text/plain": [
       "{'club': 'Officer'}"
      ]
     },
     "execution_count": 5,
     "metadata": {},
     "output_type": "execute_result"
    }
   ],
   "source": [
    "G.nodes[33]"
   ]
  },
  {
   "cell_type": "code",
   "execution_count": 6,
   "id": "9b538c3d-0b1f-441d-8c72-9660fea42ae5",
   "metadata": {},
   "outputs": [],
   "source": [
    "# retrieve the labels for each node\n",
    "labels = np.asarray([G.nodes[i][\"club\"] != \"Mr. Hi\" for i in G.nodes]).astype(np.int64)"
   ]
  },
  {
   "cell_type": "code",
   "execution_count": 7,
   "id": "7f731bc8-1dfa-4399-a4ed-e164da97b11f",
   "metadata": {},
   "outputs": [
    {
     "data": {
      "text/plain": [
       "array([0, 0, 0, 0, 0, 0, 0, 0, 0, 1, 0, 0, 0, 0, 1, 1, 0, 0, 1, 0, 1, 0,\n",
       "       1, 1, 1, 1, 1, 1, 1, 1, 1, 1, 1, 1], dtype=int64)"
      ]
     },
     "execution_count": 7,
     "metadata": {},
     "output_type": "execute_result"
    }
   ],
   "source": [
    "labels"
   ]
  },
  {
   "cell_type": "code",
   "execution_count": 8,
   "id": "45659ae8-19fd-4656-8053-78f982981b44",
   "metadata": {},
   "outputs": [
    {
     "data": {
      "text/plain": [
       "EdgeView([(0, 1), (0, 2), (0, 3), (0, 4), (0, 5), (0, 6), (0, 7), (0, 8), (0, 10), (0, 11), (0, 12), (0, 13), (0, 17), (0, 19), (0, 21), (0, 31), (1, 2), (1, 3), (1, 7), (1, 13), (1, 17), (1, 19), (1, 21), (1, 30), (2, 3), (2, 7), (2, 8), (2, 9), (2, 13), (2, 27), (2, 28), (2, 32), (3, 7), (3, 12), (3, 13), (4, 6), (4, 10), (5, 6), (5, 10), (5, 16), (6, 16), (8, 30), (8, 32), (8, 33), (9, 33), (13, 33), (14, 32), (14, 33), (15, 32), (15, 33), (18, 32), (18, 33), (19, 33), (20, 32), (20, 33), (22, 32), (22, 33), (23, 25), (23, 27), (23, 29), (23, 32), (23, 33), (24, 25), (24, 27), (24, 31), (25, 31), (26, 29), (26, 33), (27, 33), (28, 31), (28, 33), (29, 32), (29, 33), (30, 32), (30, 33), (31, 32), (31, 33), (32, 33)])"
      ]
     },
     "execution_count": 8,
     "metadata": {},
     "output_type": "execute_result"
    }
   ],
   "source": [
    "G.edges"
   ]
  },
  {
   "cell_type": "code",
   "execution_count": 9,
   "id": "3b7b5336-9b2a-4621-a103-e72fd9718345",
   "metadata": {},
   "outputs": [],
   "source": [
    "# create edge index from\n",
    "adj = nx.to_scipy_sparse_array(G).tocoo()\n",
    "row = torch.from_numpy(adj.row.astype(np.int64)).to(torch.long)\n",
    "col = torch.from_numpy(adj.col.astype(np.int64)).to(torch.long)\n",
    "edge_index = torch.stack([row, col], dim=0)"
   ]
  },
  {
   "cell_type": "code",
   "execution_count": 10,
   "id": "6f03c085-9a5f-4aa9-a04a-ad25e26cb098",
   "metadata": {},
   "outputs": [
    {
     "data": {
      "text/plain": [
       "array([ 0,  0,  0,  0,  0,  0,  0,  0,  0,  0,  0,  0,  0,  0,  0,  0,  1,\n",
       "        1,  1,  1,  1,  1,  1,  1,  1,  2,  2,  2,  2,  2,  2,  2,  2,  2,\n",
       "        2,  3,  3,  3,  3,  3,  3,  4,  4,  4,  5,  5,  5,  5,  6,  6,  6,\n",
       "        6,  7,  7,  7,  7,  8,  8,  8,  8,  8,  9,  9, 10, 10, 10, 11, 12,\n",
       "       12, 13, 13, 13, 13, 13, 14, 14, 15, 15, 16, 16, 17, 17, 18, 18, 19,\n",
       "       19, 19, 20, 20, 21, 21, 22, 22, 23, 23, 23, 23, 23, 24, 24, 24, 25,\n",
       "       25, 25, 26, 26, 27, 27, 27, 27, 28, 28, 28, 29, 29, 29, 29, 30, 30,\n",
       "       30, 30, 31, 31, 31, 31, 31, 31, 32, 32, 32, 32, 32, 32, 32, 32, 32,\n",
       "       32, 32, 32, 33, 33, 33, 33, 33, 33, 33, 33, 33, 33, 33, 33, 33, 33,\n",
       "       33, 33, 33])"
      ]
     },
     "execution_count": 10,
     "metadata": {},
     "output_type": "execute_result"
    }
   ],
   "source": [
    "adj.row"
   ]
  },
  {
   "cell_type": "code",
   "execution_count": 11,
   "id": "72363621-f8f8-4704-aa6a-3377c25aba4e",
   "metadata": {},
   "outputs": [
    {
     "data": {
      "text/plain": [
       "array([ 1,  2,  3,  4,  5,  6,  7,  8, 10, 11, 12, 13, 17, 19, 21, 31,  0,\n",
       "        2,  3,  7, 13, 17, 19, 21, 30,  0,  1,  3,  7,  8,  9, 13, 27, 28,\n",
       "       32,  0,  1,  2,  7, 12, 13,  0,  6, 10,  0,  6, 10, 16,  0,  4,  5,\n",
       "       16,  0,  1,  2,  3,  0,  2, 30, 32, 33,  2, 33,  0,  4,  5,  0,  0,\n",
       "        3,  0,  1,  2,  3, 33, 32, 33, 32, 33,  5,  6,  0,  1, 32, 33,  0,\n",
       "        1, 33, 32, 33,  0,  1, 32, 33, 25, 27, 29, 32, 33, 25, 27, 31, 23,\n",
       "       24, 31, 29, 33,  2, 23, 24, 33,  2, 31, 33, 23, 26, 32, 33,  1,  8,\n",
       "       32, 33,  0, 24, 25, 28, 32, 33,  2,  8, 14, 15, 18, 20, 22, 23, 29,\n",
       "       30, 31, 33,  8,  9, 13, 14, 15, 18, 19, 20, 22, 23, 26, 27, 28, 29,\n",
       "       30, 31, 32])"
      ]
     },
     "execution_count": 11,
     "metadata": {},
     "output_type": "execute_result"
    }
   ],
   "source": [
    "adj.col"
   ]
  },
  {
   "cell_type": "code",
   "execution_count": 12,
   "id": "e0dabcdf-5fd1-4dd9-a17f-c44423701496",
   "metadata": {},
   "outputs": [
    {
     "data": {
      "text/plain": [
       "array([4, 5, 3, 3, 3, 3, 2, 2, 2, 3, 1, 3, 2, 2, 2, 2, 4, 6, 3, 4, 5, 1,\n",
       "       2, 2, 2, 5, 6, 3, 4, 5, 1, 3, 2, 2, 2, 3, 3, 3, 3, 3, 3, 3, 2, 3,\n",
       "       3, 5, 3, 3, 3, 2, 5, 3, 2, 4, 4, 3, 2, 5, 3, 3, 4, 1, 2, 2, 3, 3,\n",
       "       3, 1, 3, 3, 5, 3, 3, 3, 3, 2, 3, 4, 3, 3, 2, 1, 1, 2, 2, 2, 1, 3,\n",
       "       1, 2, 2, 2, 3, 5, 4, 3, 5, 4, 2, 3, 2, 5, 2, 7, 4, 2, 2, 4, 3, 4,\n",
       "       2, 2, 2, 3, 4, 4, 2, 2, 3, 3, 3, 2, 2, 7, 2, 4, 4, 2, 3, 3, 3, 1,\n",
       "       3, 2, 5, 4, 3, 4, 5, 4, 2, 3, 2, 4, 2, 1, 1, 3, 4, 2, 4, 2, 2, 3,\n",
       "       4, 5], dtype=int32)"
      ]
     },
     "execution_count": 12,
     "metadata": {},
     "output_type": "execute_result"
    }
   ],
   "source": [
    "adj.data"
   ]
  },
  {
   "cell_type": "code",
   "execution_count": 13,
   "id": "c88d86f6-c55e-415c-ad5d-a22c41180173",
   "metadata": {},
   "outputs": [
    {
     "data": {
      "text/plain": [
       "tensor([[ 0,  0,  0,  0,  0,  0,  0,  0,  0,  0,  0,  0,  0,  0,  0,  0,  1,  1,\n",
       "          1,  1,  1,  1,  1,  1,  1,  2,  2,  2,  2,  2,  2,  2,  2,  2,  2,  3,\n",
       "          3,  3,  3,  3,  3,  4,  4,  4,  5,  5,  5,  5,  6,  6,  6,  6,  7,  7,\n",
       "          7,  7,  8,  8,  8,  8,  8,  9,  9, 10, 10, 10, 11, 12, 12, 13, 13, 13,\n",
       "         13, 13, 14, 14, 15, 15, 16, 16, 17, 17, 18, 18, 19, 19, 19, 20, 20, 21,\n",
       "         21, 22, 22, 23, 23, 23, 23, 23, 24, 24, 24, 25, 25, 25, 26, 26, 27, 27,\n",
       "         27, 27, 28, 28, 28, 29, 29, 29, 29, 30, 30, 30, 30, 31, 31, 31, 31, 31,\n",
       "         31, 32, 32, 32, 32, 32, 32, 32, 32, 32, 32, 32, 32, 33, 33, 33, 33, 33,\n",
       "         33, 33, 33, 33, 33, 33, 33, 33, 33, 33, 33, 33],\n",
       "        [ 1,  2,  3,  4,  5,  6,  7,  8, 10, 11, 12, 13, 17, 19, 21, 31,  0,  2,\n",
       "          3,  7, 13, 17, 19, 21, 30,  0,  1,  3,  7,  8,  9, 13, 27, 28, 32,  0,\n",
       "          1,  2,  7, 12, 13,  0,  6, 10,  0,  6, 10, 16,  0,  4,  5, 16,  0,  1,\n",
       "          2,  3,  0,  2, 30, 32, 33,  2, 33,  0,  4,  5,  0,  0,  3,  0,  1,  2,\n",
       "          3, 33, 32, 33, 32, 33,  5,  6,  0,  1, 32, 33,  0,  1, 33, 32, 33,  0,\n",
       "          1, 32, 33, 25, 27, 29, 32, 33, 25, 27, 31, 23, 24, 31, 29, 33,  2, 23,\n",
       "         24, 33,  2, 31, 33, 23, 26, 32, 33,  1,  8, 32, 33,  0, 24, 25, 28, 32,\n",
       "         33,  2,  8, 14, 15, 18, 20, 22, 23, 29, 30, 31, 33,  8,  9, 13, 14, 15,\n",
       "         18, 19, 20, 22, 23, 26, 27, 28, 29, 30, 31, 32]])"
      ]
     },
     "execution_count": 13,
     "metadata": {},
     "output_type": "execute_result"
    }
   ],
   "source": [
    "edge_index"
   ]
  },
  {
   "cell_type": "code",
   "execution_count": 14,
   "id": "30054e7f-1b57-404b-816c-54071286142b",
   "metadata": {},
   "outputs": [],
   "source": [
    "# using degree as embedding\n",
    "embeddings = np.array(list(dict(G.degree()).values()))"
   ]
  },
  {
   "cell_type": "code",
   "execution_count": 15,
   "id": "fb95b212-2856-4973-ad5f-f9873bc7f7ca",
   "metadata": {},
   "outputs": [
    {
     "data": {
      "text/plain": [
       "DegreeView({0: 16, 1: 9, 2: 10, 3: 6, 4: 3, 5: 4, 6: 4, 7: 4, 8: 5, 9: 2, 10: 3, 11: 1, 12: 2, 13: 5, 14: 2, 15: 2, 16: 2, 17: 2, 18: 2, 19: 3, 20: 2, 21: 2, 22: 2, 23: 5, 24: 3, 25: 3, 26: 2, 27: 4, 28: 3, 29: 4, 30: 4, 31: 6, 32: 12, 33: 17})"
      ]
     },
     "execution_count": 15,
     "metadata": {},
     "output_type": "execute_result"
    }
   ],
   "source": [
    "G.degree()  # number of edges adjacent to the node"
   ]
  },
  {
   "cell_type": "code",
   "execution_count": 16,
   "id": "09550193-f709-4ef6-92b2-063a1388236d",
   "metadata": {},
   "outputs": [
    {
     "data": {
      "text/plain": [
       "array([16,  9, 10,  6,  3,  4,  4,  4,  5,  2,  3,  1,  2,  5,  2,  2,  2,\n",
       "        2,  2,  3,  2,  2,  2,  5,  3,  3,  2,  4,  3,  4,  4,  6, 12, 17])"
      ]
     },
     "execution_count": 16,
     "metadata": {},
     "output_type": "execute_result"
    }
   ],
   "source": [
    "embeddings"
   ]
  },
  {
   "cell_type": "code",
   "execution_count": 17,
   "id": "04702c89-7665-4c04-b2a7-d2c66a22971c",
   "metadata": {},
   "outputs": [],
   "source": [
    "# normalizing degree values\n",
    "scale = StandardScaler()\n",
    "embeddings = scale.fit_transform(embeddings.reshape(-1, 1))"
   ]
  },
  {
   "cell_type": "code",
   "execution_count": 18,
   "id": "e13fd15e-486c-4e1c-a816-1b1a88903bab",
   "metadata": {},
   "outputs": [
    {
     "data": {
      "text/plain": [
       "array([[ 2.98709092],\n",
       "       [ 1.15480319],\n",
       "       [ 1.41655858],\n",
       "       [ 0.36953702],\n",
       "       [-0.41572915],\n",
       "       [-0.15397376],\n",
       "       [-0.15397376],\n",
       "       [-0.15397376],\n",
       "       [ 0.10778163],\n",
       "       [-0.67748454],\n",
       "       [-0.41572915],\n",
       "       [-0.93923993],\n",
       "       [-0.67748454],\n",
       "       [ 0.10778163],\n",
       "       [-0.67748454],\n",
       "       [-0.67748454],\n",
       "       [-0.67748454],\n",
       "       [-0.67748454],\n",
       "       [-0.67748454],\n",
       "       [-0.41572915],\n",
       "       [-0.67748454],\n",
       "       [-0.67748454],\n",
       "       [-0.67748454],\n",
       "       [ 0.10778163],\n",
       "       [-0.41572915],\n",
       "       [-0.41572915],\n",
       "       [-0.67748454],\n",
       "       [-0.15397376],\n",
       "       [-0.41572915],\n",
       "       [-0.15397376],\n",
       "       [-0.15397376],\n",
       "       [ 0.36953702],\n",
       "       [ 1.94006936],\n",
       "       [ 3.24884631]])"
      ]
     },
     "execution_count": 18,
     "metadata": {},
     "output_type": "execute_result"
    }
   ],
   "source": [
    "embeddings"
   ]
  },
  {
   "cell_type": "markdown",
   "id": "cf9394d4-b417-4ce1-9f2b-63f1188e5505",
   "metadata": {},
   "source": [
    "The karate club dataset can be loaded directly from the NetworkX library. We retrieve the labels from the graph and create an edge index in the coordinate format. The node degree was used as embeddings/ numerical representations for the nodes (In the case of a directed graph, in-degree can be used for the same purpose). Since degree values tend to be diverse, we normalize them before using the values as input to the GNN model.\n",
    "\n",
    "With this, we have prepared all the necessary parts to construct the Pytorch Geometric custom dataset."
   ]
  },
  {
   "cell_type": "markdown",
   "id": "384578e8-5c5a-44a4-a765-b9d793fb831a",
   "metadata": {},
   "source": [
    "# 4. The Custom Dataset."
   ]
  },
  {
   "cell_type": "code",
   "execution_count": 19,
   "id": "f8d5e315-d75d-4b81-8d24-327adc49ef06",
   "metadata": {},
   "outputs": [],
   "source": [
    "import pandas as pd\n",
    "import torch_geometric.transforms as T\n",
    "from sklearn.model_selection import train_test_split\n",
    "from torch_geometric.data import Data, InMemoryDataset"
   ]
  },
  {
   "cell_type": "code",
   "execution_count": 20,
   "id": "b7056483-04da-4850-b1d0-3beac1265929",
   "metadata": {},
   "outputs": [],
   "source": [
    "# custom dataset\n",
    "class KarateDataset(InMemoryDataset):\n",
    "    def __init__(self, transform=None):\n",
    "        super(KarateDataset, self).__init__(\".\", transform, None, None)\n",
    "\n",
    "        data = Data(edge_index=edge_index)\n",
    "\n",
    "        data.num_nodes = G.number_of_nodes()\n",
    "\n",
    "        # embedding\n",
    "        data.x = torch.from_numpy(embeddings).type(torch.float32)\n",
    "\n",
    "        # labels\n",
    "        y = torch.from_numpy(labels).type(torch.long)\n",
    "        data.y = y.clone().detach()\n",
    "\n",
    "        data.num_classes = 2\n",
    "\n",
    "        # splitting the data into train, validation and test\n",
    "        X_train, X_test, y_train, y_test = train_test_split(\n",
    "            pd.Series(list(G.nodes())),\n",
    "            pd.Series(labels),\n",
    "            test_size=0.30,\n",
    "            random_state=42,\n",
    "        )\n",
    "\n",
    "        n_nodes = G.number_of_nodes()\n",
    "\n",
    "        # create train and test masks for data\n",
    "        train_mask = torch.zeros(n_nodes, dtype=torch.bool)\n",
    "        test_mask = torch.zeros(n_nodes, dtype=torch.bool)\n",
    "        train_mask[X_train.index] = True\n",
    "        test_mask[X_test.index] = True\n",
    "        data[\"train_mask\"] = train_mask\n",
    "        data[\"test_mask\"] = test_mask\n",
    "\n",
    "        self.data, self.slices = self.collate([data])\n",
    "\n",
    "    def _download(self):\n",
    "        return\n",
    "\n",
    "    def _process(self):\n",
    "        return\n",
    "\n",
    "    def __repr__(self):\n",
    "        return \"{}()\".format(self.__class__.__name__)"
   ]
  },
  {
   "cell_type": "code",
   "execution_count": 21,
   "id": "efcae824-76f5-4af1-9c31-e2797f773e29",
   "metadata": {},
   "outputs": [],
   "source": [
    "dataset = KarateDataset()"
   ]
  },
  {
   "cell_type": "code",
   "execution_count": 22,
   "id": "b08be37a-ec44-481f-b7f9-a32686e1d739",
   "metadata": {},
   "outputs": [
    {
     "data": {
      "text/plain": [
       "Data(edge_index=[2, 156], num_nodes=34, x=[34, 1], y=[34], num_classes=2, train_mask=[34], test_mask=[34])"
      ]
     },
     "execution_count": 22,
     "metadata": {},
     "output_type": "execute_result"
    }
   ],
   "source": [
    "dataset[0]"
   ]
  },
  {
   "cell_type": "code",
   "execution_count": 23,
   "id": "10c2c732-42a2-4434-b619-ceada08eb9b7",
   "metadata": {},
   "outputs": [],
   "source": [
    "data = dataset[0]"
   ]
  },
  {
   "cell_type": "code",
   "execution_count": 24,
   "id": "a31d2b78-6aab-4286-9d97-71a9621cdad3",
   "metadata": {},
   "outputs": [
    {
     "data": {
      "text/plain": [
       "tensor([False,  True,  True,  True,  True,  True,  True,  True, False, False,\n",
       "         True,  True, False,  True,  True, False,  True,  True,  True, False,\n",
       "         True, False,  True,  True, False,  True, False, False,  True,  True,\n",
       "         True,  True, False,  True])"
      ]
     },
     "execution_count": 24,
     "metadata": {},
     "output_type": "execute_result"
    }
   ],
   "source": [
    "data.train_mask"
   ]
  },
  {
   "cell_type": "code",
   "execution_count": 25,
   "id": "94e02982-98d5-4b91-9f44-18b2d300fa24",
   "metadata": {},
   "outputs": [
    {
     "data": {
      "text/plain": [
       "tensor(23)"
      ]
     },
     "execution_count": 25,
     "metadata": {},
     "output_type": "execute_result"
    }
   ],
   "source": [
    "data.train_mask.sum()"
   ]
  },
  {
   "cell_type": "code",
   "execution_count": 26,
   "id": "b06fbe79-b34a-4446-8ed5-05df2651b952",
   "metadata": {},
   "outputs": [
    {
     "data": {
      "text/plain": [
       "tensor([ True, False, False, False, False, False, False, False,  True,  True,\n",
       "        False, False,  True, False, False,  True, False, False, False,  True,\n",
       "        False,  True, False, False,  True, False,  True,  True, False, False,\n",
       "        False, False,  True, False])"
      ]
     },
     "execution_count": 26,
     "metadata": {},
     "output_type": "execute_result"
    }
   ],
   "source": [
    "data.test_mask"
   ]
  },
  {
   "cell_type": "code",
   "execution_count": 27,
   "id": "a2164695-f283-4433-aca0-f13428f72a8c",
   "metadata": {},
   "outputs": [
    {
     "data": {
      "text/plain": [
       "tensor(11)"
      ]
     },
     "execution_count": 27,
     "metadata": {},
     "output_type": "execute_result"
    }
   ],
   "source": [
    "data.test_mask.sum()"
   ]
  },
  {
   "cell_type": "markdown",
   "id": "70443497-8bac-4cf7-b190-5a61ea37d99b",
   "metadata": {},
   "source": [
    "The KarateDataset class inherits from the InMemoryDataset class and use a Data object to collate all information relating to the karate club dataset. The graph data is then split into train and test sets, thereby creating the train and test masks using the splits."
   ]
  },
  {
   "cell_type": "markdown",
   "id": "93115d91-7a49-486e-b88b-665731dbb73f",
   "metadata": {},
   "source": [
    "This custom dataset can now be used with several graph neural network models from the Pytorch Geometric library. Let’s pick a Graph Convolutional Network model and use it to predict the missing labels on the test set."
   ]
  },
  {
   "cell_type": "markdown",
   "id": "3651de5b-d676-4556-b9d1-25205a24a99e",
   "metadata": {},
   "source": [
    "> *Note: PyG library focuses more on node classification task but it can also be used for link prediction.*"
   ]
  },
  {
   "cell_type": "markdown",
   "id": "3cb34de5-26be-4762-a272-b4687fc697d9",
   "metadata": {},
   "source": [
    "# 5. Graph Convolutional Network."
   ]
  },
  {
   "cell_type": "code",
   "execution_count": 28,
   "id": "7367f20d-75fc-4a18-b46d-b692110333b0",
   "metadata": {},
   "outputs": [],
   "source": [
    "import torch.nn as nn\n",
    "import torch.nn.functional as F\n",
    "from torch_geometric.nn import GCNConv"
   ]
  },
  {
   "cell_type": "code",
   "execution_count": 29,
   "id": "55524f9b-17fe-4c25-bd18-8e6c3e8ade5e",
   "metadata": {},
   "outputs": [
    {
     "data": {
      "text/plain": [
       "1"
      ]
     },
     "execution_count": 29,
     "metadata": {},
     "output_type": "execute_result"
    }
   ],
   "source": [
    "data.num_features"
   ]
  },
  {
   "cell_type": "code",
   "execution_count": 30,
   "id": "6b4fb8cf-6824-4bc9-abd0-32d298f85308",
   "metadata": {},
   "outputs": [
    {
     "data": {
      "text/plain": [
       "tensor([[ 2.9871],\n",
       "        [ 1.1548],\n",
       "        [ 1.4166],\n",
       "        [ 0.3695],\n",
       "        [-0.4157],\n",
       "        [-0.1540],\n",
       "        [-0.1540],\n",
       "        [-0.1540],\n",
       "        [ 0.1078],\n",
       "        [-0.6775],\n",
       "        [-0.4157],\n",
       "        [-0.9392],\n",
       "        [-0.6775],\n",
       "        [ 0.1078],\n",
       "        [-0.6775],\n",
       "        [-0.6775],\n",
       "        [-0.6775],\n",
       "        [-0.6775],\n",
       "        [-0.6775],\n",
       "        [-0.4157],\n",
       "        [-0.6775],\n",
       "        [-0.6775],\n",
       "        [-0.6775],\n",
       "        [ 0.1078],\n",
       "        [-0.4157],\n",
       "        [-0.4157],\n",
       "        [-0.6775],\n",
       "        [-0.1540],\n",
       "        [-0.4157],\n",
       "        [-0.1540],\n",
       "        [-0.1540],\n",
       "        [ 0.3695],\n",
       "        [ 1.9401],\n",
       "        [ 3.2488]])"
      ]
     },
     "execution_count": 30,
     "metadata": {},
     "output_type": "execute_result"
    }
   ],
   "source": [
    "data.x"
   ]
  },
  {
   "cell_type": "code",
   "execution_count": 31,
   "id": "66b80a97-f4a4-45ea-ad1c-da0b9ee2c294",
   "metadata": {},
   "outputs": [
    {
     "data": {
      "text/plain": [
       "torch.Size([34, 1])"
      ]
     },
     "execution_count": 31,
     "metadata": {},
     "output_type": "execute_result"
    }
   ],
   "source": [
    "data.x.shape"
   ]
  },
  {
   "cell_type": "code",
   "execution_count": 32,
   "id": "97264905-29b4-424d-bbcc-3b10f7ac65de",
   "metadata": {},
   "outputs": [
    {
     "data": {
      "text/plain": [
       "tensor([[ 0,  0,  0,  0,  0,  0,  0,  0,  0,  0,  0,  0,  0,  0,  0,  0,  1,  1,\n",
       "          1,  1,  1,  1,  1,  1,  1,  2,  2,  2,  2,  2,  2,  2,  2,  2,  2,  3,\n",
       "          3,  3,  3,  3,  3,  4,  4,  4,  5,  5,  5,  5,  6,  6,  6,  6,  7,  7,\n",
       "          7,  7,  8,  8,  8,  8,  8,  9,  9, 10, 10, 10, 11, 12, 12, 13, 13, 13,\n",
       "         13, 13, 14, 14, 15, 15, 16, 16, 17, 17, 18, 18, 19, 19, 19, 20, 20, 21,\n",
       "         21, 22, 22, 23, 23, 23, 23, 23, 24, 24, 24, 25, 25, 25, 26, 26, 27, 27,\n",
       "         27, 27, 28, 28, 28, 29, 29, 29, 29, 30, 30, 30, 30, 31, 31, 31, 31, 31,\n",
       "         31, 32, 32, 32, 32, 32, 32, 32, 32, 32, 32, 32, 32, 33, 33, 33, 33, 33,\n",
       "         33, 33, 33, 33, 33, 33, 33, 33, 33, 33, 33, 33],\n",
       "        [ 1,  2,  3,  4,  5,  6,  7,  8, 10, 11, 12, 13, 17, 19, 21, 31,  0,  2,\n",
       "          3,  7, 13, 17, 19, 21, 30,  0,  1,  3,  7,  8,  9, 13, 27, 28, 32,  0,\n",
       "          1,  2,  7, 12, 13,  0,  6, 10,  0,  6, 10, 16,  0,  4,  5, 16,  0,  1,\n",
       "          2,  3,  0,  2, 30, 32, 33,  2, 33,  0,  4,  5,  0,  0,  3,  0,  1,  2,\n",
       "          3, 33, 32, 33, 32, 33,  5,  6,  0,  1, 32, 33,  0,  1, 33, 32, 33,  0,\n",
       "          1, 32, 33, 25, 27, 29, 32, 33, 25, 27, 31, 23, 24, 31, 29, 33,  2, 23,\n",
       "         24, 33,  2, 31, 33, 23, 26, 32, 33,  1,  8, 32, 33,  0, 24, 25, 28, 32,\n",
       "         33,  2,  8, 14, 15, 18, 20, 22, 23, 29, 30, 31, 33,  8,  9, 13, 14, 15,\n",
       "         18, 19, 20, 22, 23, 26, 27, 28, 29, 30, 31, 32]])"
      ]
     },
     "execution_count": 32,
     "metadata": {},
     "output_type": "execute_result"
    }
   ],
   "source": [
    "data.edge_index"
   ]
  },
  {
   "cell_type": "code",
   "execution_count": 33,
   "id": "6154e9f8-5c95-47c1-8533-48d517ac50ca",
   "metadata": {},
   "outputs": [],
   "source": [
    "# GCN model with 2 layers\n",
    "class Net(torch.nn.Module):\n",
    "    def __init__(self):\n",
    "        super(Net, self).__init__()\n",
    "        self.conv1 = GCNConv(data.num_features, 16)\n",
    "        self.conv2 = GCNConv(16, int(data.num_classes))\n",
    "\n",
    "    def forward(self):\n",
    "        x, edge_index = data.x, data.edge_index\n",
    "        x = F.relu(self.conv1(x, edge_index))\n",
    "        x = F.dropout(\n",
    "            x, training=self.training\n",
    "        )  # self.training becomes either True or False based on model.train()/eval()\n",
    "        x = self.conv2(x, edge_index)\n",
    "        return F.log_softmax(x, dim=1)  # Applies a softmax followed by a logarithm"
   ]
  },
  {
   "cell_type": "code",
   "execution_count": 34,
   "id": "d1c777ec-c0f8-4b1d-a5a9-98e9f1aed853",
   "metadata": {},
   "outputs": [],
   "source": [
    "device = torch.device(\"cuda\" if torch.cuda.is_available() else \"cpu\")"
   ]
  },
  {
   "cell_type": "code",
   "execution_count": 35,
   "id": "cb519320-7782-4ea0-9253-d49fecb75e06",
   "metadata": {},
   "outputs": [
    {
     "data": {
      "text/plain": [
       "device(type='cuda')"
      ]
     },
     "execution_count": 35,
     "metadata": {},
     "output_type": "execute_result"
    }
   ],
   "source": [
    "device"
   ]
  },
  {
   "cell_type": "code",
   "execution_count": 36,
   "id": "f2f48bc2-d523-40be-bd96-b9763f738af7",
   "metadata": {},
   "outputs": [],
   "source": [
    "data = data.to(device)"
   ]
  },
  {
   "cell_type": "code",
   "execution_count": 37,
   "id": "07f8b622-9b24-4980-9e27-b805bfba0341",
   "metadata": {},
   "outputs": [],
   "source": [
    "model = Net().to(device)"
   ]
  },
  {
   "cell_type": "markdown",
   "id": "18e323e8-ae46-4398-b03a-98027e0f3472",
   "metadata": {},
   "source": [
    "The GCN model is built with 2 hidden layers and each hidden layer contains 16 neurons. Let’s train the model!"
   ]
  },
  {
   "cell_type": "markdown",
   "id": "7c411741-1de6-442c-8598-088a2423676b",
   "metadata": {},
   "source": [
    "# 6. Train the GCN model."
   ]
  },
  {
   "cell_type": "code",
   "execution_count": 38,
   "id": "1feaabbc-c9b1-4aea-9204-65f17d7683f1",
   "metadata": {},
   "outputs": [
    {
     "data": {
      "text/plain": [
       "<torch._C.Generator at 0x20f91b948f0>"
      ]
     },
     "execution_count": 38,
     "metadata": {},
     "output_type": "execute_result"
    }
   ],
   "source": [
    "torch.manual_seed(42)"
   ]
  },
  {
   "cell_type": "code",
   "execution_count": 39,
   "id": "df406eb6-df0f-4ea1-88f5-7f3e24665abc",
   "metadata": {},
   "outputs": [],
   "source": [
    "optimizer_name = \"Adam\"\n",
    "lr = 1e-1\n",
    "optimizer = getattr(torch.optim, optimizer_name)(model.parameters(), lr=lr)\n",
    "epochs = 200"
   ]
  },
  {
   "cell_type": "code",
   "execution_count": 40,
   "id": "bf5bdd5b-8774-499a-8865-705b322deb1a",
   "metadata": {},
   "outputs": [],
   "source": [
    "def train():\n",
    "    model.train()\n",
    "    optimizer.zero_grad()\n",
    "    F.nll_loss(model()[data.train_mask], data.y[data.train_mask]).backward()\n",
    "    optimizer.step()"
   ]
  },
  {
   "cell_type": "code",
   "execution_count": 41,
   "id": "0b1bdc6c-2dea-4ba7-8573-2f57e3748259",
   "metadata": {},
   "outputs": [],
   "source": [
    "@torch.no_grad()\n",
    "def test():\n",
    "    model.eval()\n",
    "    logits = model()\n",
    "    mask1 = data[\"train_mask\"]\n",
    "    pred1 = logits[mask1].max(1)[1]\n",
    "    acc1 = pred1.eq(data.y[mask1]).sum().item() / mask1.sum().item()\n",
    "    mask = data[\"test_mask\"]\n",
    "    pred = logits[mask].max(1)[1]\n",
    "    acc = pred.eq(data.y[mask]).sum().item() / mask.sum().item()  # eq == equal\n",
    "    return acc1, acc"
   ]
  },
  {
   "cell_type": "code",
   "execution_count": 42,
   "id": "150bdccf-cc8e-4819-9ce8-ab9acee51ab7",
   "metadata": {},
   "outputs": [],
   "source": [
    "for epoch in range(1, epochs):\n",
    "    train()"
   ]
  },
  {
   "cell_type": "code",
   "execution_count": 43,
   "id": "0b90816b-ff24-4d73-8acc-796890167ca2",
   "metadata": {},
   "outputs": [],
   "source": [
    "train_acc, test_acc = test()"
   ]
  },
  {
   "cell_type": "code",
   "execution_count": 44,
   "id": "3083db9e-c15b-4cfd-a6d7-ccfe6536ad16",
   "metadata": {},
   "outputs": [
    {
     "name": "stdout",
     "output_type": "stream",
     "text": [
      "######################################################################\n",
      "Train Accuracy: 0.8695652173913043\n",
      "Test Accuracy: 0.7272727272727273\n",
      "######################################################################\n"
     ]
    }
   ],
   "source": [
    "print(\"#\" * 70)\n",
    "print(\"Train Accuracy: %s\" % train_acc)\n",
    "print(\"Test Accuracy: %s\" % test_acc)\n",
    "print(\"#\" * 70)"
   ]
  },
  {
   "cell_type": "markdown",
   "id": "2479e0e5-2759-463d-aec2-05c25b48d864",
   "metadata": {},
   "source": [
    "# 7. A Summary."
   ]
  },
  {
   "cell_type": "markdown",
   "id": "ce8a8556-799e-4048-a5d6-2287bbbd6647",
   "metadata": {},
   "source": [
    "To summarize everything we have done so far:\n",
    "\n",
    "1. Generate numerical representations for each node in the graph (node degree in this case).\n",
    "2. Construct a PyG custom dataset and split data into train and test.\n",
    "3. Use a GNN model like GCN and train the model.\n",
    "4. Make predictions on the test set and calculate the accuracy score."
   ]
  },
  {
   "cell_type": "code",
   "execution_count": null,
   "id": "835d868c-9bd6-4939-a5eb-27a51da13fad",
   "metadata": {},
   "outputs": [],
   "source": []
  }
 ],
 "metadata": {
  "kernelspec": {
   "display_name": "Python [conda env:pytorch_env]",
   "language": "python",
   "name": "conda-env-pytorch_env-py"
  },
  "language_info": {
   "codemirror_mode": {
    "name": "ipython",
    "version": 3
   },
   "file_extension": ".py",
   "mimetype": "text/x-python",
   "name": "python",
   "nbconvert_exporter": "python",
   "pygments_lexer": "ipython3",
   "version": "3.11.4"
  }
 },
 "nbformat": 4,
 "nbformat_minor": 5
}
