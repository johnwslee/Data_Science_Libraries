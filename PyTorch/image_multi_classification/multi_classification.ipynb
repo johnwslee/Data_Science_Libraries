{
 "cells": [
  {
   "cell_type": "markdown",
   "id": "c3c2d988-7262-4c22-87b9-4444514bf9db",
   "metadata": {},
   "source": [
    "# Imports"
   ]
  },
  {
   "cell_type": "code",
   "execution_count": 1,
   "id": "b440b640-10cf-4396-9e9e-70e8abb688b8",
   "metadata": {},
   "outputs": [],
   "source": [
    "import os\n",
    "import torch\n",
    "import matplotlib.pyplot as plt\n",
    "import numpy as np\n",
    "from torch import nn\n",
    "from torch.utils.data import DataLoader\n",
    "from torchvision import datasets\n",
    "from torchvision import datasets, transforms\n",
    "from torchvision.transforms import ToTensor\n",
    "from torchsummary import summary\n",
    "import pandas as pd"
   ]
  },
  {
   "cell_type": "markdown",
   "id": "591a31f9-501a-43a7-8509-0b02933650cc",
   "metadata": {},
   "source": [
    "# Datasets"
   ]
  },
  {
   "cell_type": "code",
   "execution_count": 2,
   "id": "c185d42a-e2f1-493f-9eb1-62244ecaae12",
   "metadata": {},
   "outputs": [
    {
     "name": "stdout",
     "output_type": "stream",
     "text": [
      "Files already downloaded and verified\n",
      "Files already downloaded and verified\n"
     ]
    }
   ],
   "source": [
    "transform = transforms.Compose(\n",
    "    [transforms.ToTensor(),\n",
    "     transforms.Normalize((0.5, 0.5, 0.5), (0.5, 0.5, 0.5))]\n",
    ")\n",
    "\n",
    "batch_size = 4\n",
    "\n",
    "trainset = datasets.CIFAR10(\n",
    "    root='../data',\n",
    "    train=True,\n",
    "    download=True,\n",
    "    transform=transform\n",
    ")\n",
    "trainloader = DataLoader(\n",
    "    trainset,\n",
    "    batch_size=batch_size,\n",
    "    shuffle=True,\n",
    "    num_workers=2\n",
    ")\n",
    "\n",
    "testset = datasets.CIFAR10(\n",
    "    root='../data',\n",
    "    train=False,\n",
    "    download=True,\n",
    "    transform=transform\n",
    ")\n",
    "testloader = DataLoader(\n",
    "    testset,\n",
    "    batch_size=batch_size,\n",
    "    shuffle=False,\n",
    "    num_workers=2\n",
    ")\n",
    "\n",
    "classes = ('plane', 'car', 'bird', 'cat', 'deer', 'dog', 'frog', 'horse', 'ship', 'truck')"
   ]
  },
  {
   "cell_type": "code",
   "execution_count": 3,
   "id": "c176df81-a487-4567-9717-5634a71587ad",
   "metadata": {},
   "outputs": [],
   "source": [
    "test = next(iter(trainloader))"
   ]
  },
  {
   "cell_type": "code",
   "execution_count": 4,
   "id": "f92301fc-45b0-4534-a735-21bc6f739420",
   "metadata": {},
   "outputs": [
    {
     "data": {
      "text/plain": [
       "tensor([[[[-0.1216, -0.3804, -0.3804,  ...,  0.0039,  0.0745,  0.0667],\n",
       "          [-0.1059, -0.3725, -0.4118,  ...,  0.0118,  0.0824,  0.0824],\n",
       "          [-0.0902, -0.3490, -0.4353,  ..., -0.0510,  0.0118,  0.0824],\n",
       "          ...,\n",
       "          [ 0.1922,  0.1765,  0.1451,  ...,  0.2863, -0.0980, -0.1765],\n",
       "          [ 0.1765,  0.2000,  0.2863,  ..., -0.1137,  0.0824,  0.0431],\n",
       "          [ 0.2000,  0.2157,  0.2863,  ...,  0.1137,  0.3490,  0.3333]],\n",
       "\n",
       "         [[-0.3020, -0.5373, -0.4667,  ..., -0.1216, -0.2471, -0.2235],\n",
       "          [-0.2784, -0.5216, -0.4980,  ..., -0.0745, -0.2392, -0.2078],\n",
       "          [-0.2627, -0.5059, -0.5216,  ..., -0.0902, -0.3020, -0.2235],\n",
       "          ...,\n",
       "          [ 0.1059,  0.0745,  0.0275,  ...,  0.2392, -0.1922, -0.2863],\n",
       "          [ 0.0902,  0.0980,  0.1686,  ..., -0.2157, -0.0588, -0.0902],\n",
       "          [ 0.1216,  0.1137,  0.1686,  ..., -0.0275,  0.1765,  0.1843]],\n",
       "\n",
       "         [[-0.7412, -0.9294, -0.7882,  ..., -0.5373, -0.6941, -0.7176],\n",
       "          [-0.7176, -0.9137, -0.8196,  ..., -0.4588, -0.6784, -0.7098],\n",
       "          [-0.7020, -0.8980, -0.8431,  ..., -0.4431, -0.7412, -0.7333],\n",
       "          ...,\n",
       "          [-0.1216, -0.1765, -0.2314,  ...,  0.0980, -0.3882, -0.4902],\n",
       "          [-0.1373, -0.1529, -0.0902,  ..., -0.3647, -0.2392, -0.2784],\n",
       "          [-0.1059, -0.1294, -0.0902,  ..., -0.2235, -0.0431, -0.0275]]],\n",
       "\n",
       "\n",
       "        [[[ 0.4902,  0.5686,  0.7020,  ..., -0.3098, -0.2235, -0.2784],\n",
       "          [ 0.5216,  0.5922,  0.7255,  ..., -0.3176, -0.2078, -0.2471],\n",
       "          [ 0.5373,  0.6000,  0.7412,  ..., -0.3333, -0.2078, -0.2314],\n",
       "          ...,\n",
       "          [ 0.2235,  0.2157,  0.2235,  ..., -0.0902, -0.0667, -0.2157],\n",
       "          [ 0.4275,  0.4039,  0.4039,  ..., -0.0824, -0.0588, -0.0902],\n",
       "          [ 0.6471,  0.6627,  0.6627,  ..., -0.1137, -0.0980, -0.0667]],\n",
       "\n",
       "         [[ 0.4510,  0.5373,  0.6941,  ..., -0.3020, -0.2157, -0.2706],\n",
       "          [ 0.4824,  0.5686,  0.7176,  ..., -0.3098, -0.2000, -0.2392],\n",
       "          [ 0.4980,  0.5765,  0.7333,  ..., -0.3255, -0.2000, -0.2235],\n",
       "          ...,\n",
       "          [ 0.2235,  0.2078,  0.2235,  ..., -0.0745, -0.0431, -0.1765],\n",
       "          [ 0.4118,  0.3961,  0.3961,  ..., -0.0588, -0.0353, -0.0667],\n",
       "          [ 0.6392,  0.6549,  0.6549,  ..., -0.0902, -0.0745, -0.0510]],\n",
       "\n",
       "         [[ 0.4196,  0.5137,  0.6863,  ..., -0.3412, -0.2627, -0.3176],\n",
       "          [ 0.4510,  0.5451,  0.7098,  ..., -0.3490, -0.2471, -0.2863],\n",
       "          [ 0.4667,  0.5529,  0.7255,  ..., -0.3647, -0.2471, -0.2706],\n",
       "          ...,\n",
       "          [ 0.1765,  0.1686,  0.1765,  ..., -0.1216, -0.0902, -0.2157],\n",
       "          [ 0.3725,  0.3569,  0.3569,  ..., -0.1137, -0.0902, -0.1137],\n",
       "          [ 0.6000,  0.6157,  0.6157,  ..., -0.1451, -0.1294, -0.0980]]],\n",
       "\n",
       "\n",
       "        [[[-0.6392, -0.6784, -0.6549,  ..., -0.7098, -0.7176, -0.6941],\n",
       "          [-0.6078, -0.6706, -0.6471,  ..., -0.6549, -0.6627, -0.6784],\n",
       "          [-0.5686, -0.5922, -0.5922,  ..., -0.6314, -0.6549, -0.6549],\n",
       "          ...,\n",
       "          [-0.2471, -0.2471, -0.2471,  ..., -0.2078, -0.0824, -0.2863],\n",
       "          [-0.2863, -0.2784, -0.2941,  ..., -0.1843, -0.1451, -0.2235],\n",
       "          [-0.4118, -0.3490, -0.3176,  ..., -0.0667, -0.1137, -0.2784]],\n",
       "\n",
       "         [[-0.6471, -0.6863, -0.6627,  ..., -0.7098, -0.7098, -0.6863],\n",
       "          [-0.6235, -0.6784, -0.6627,  ..., -0.6627, -0.6627, -0.6784],\n",
       "          [-0.5922, -0.6235, -0.6157,  ..., -0.6549, -0.6627, -0.6627],\n",
       "          ...,\n",
       "          [-0.3020, -0.3176, -0.3333,  ..., -0.2784, -0.1294, -0.3020],\n",
       "          [-0.2941, -0.3020, -0.3333,  ..., -0.2549, -0.1765, -0.2392],\n",
       "          [-0.3804, -0.3412, -0.3176,  ..., -0.1451, -0.1529, -0.3176]],\n",
       "\n",
       "         [[-0.6784, -0.7176, -0.6941,  ..., -0.7255, -0.7490, -0.7255],\n",
       "          [-0.6549, -0.7098, -0.6941,  ..., -0.6863, -0.6941, -0.7176],\n",
       "          [-0.6392, -0.6627, -0.6549,  ..., -0.6784, -0.6941, -0.6941],\n",
       "          ...,\n",
       "          [-0.3412, -0.3490, -0.3569,  ..., -0.2941, -0.1451, -0.3333],\n",
       "          [-0.3412, -0.3333, -0.3647,  ..., -0.2706, -0.2078, -0.2784],\n",
       "          [-0.4275, -0.3804, -0.3490,  ..., -0.1608, -0.1922, -0.3569]]],\n",
       "\n",
       "\n",
       "        [[[-0.9608, -0.9608, -0.9451,  ..., -0.9529, -0.9529, -0.9373],\n",
       "          [-0.9373, -0.9294, -0.9216,  ..., -0.8980, -0.9137, -0.9216],\n",
       "          [-0.9059, -0.8902, -0.8824,  ..., -0.8118, -0.8510, -0.8824],\n",
       "          ...,\n",
       "          [-0.6549, -0.6000, -0.5686,  ..., -0.4902, -0.6000, -0.6941],\n",
       "          [-0.7020, -0.6471, -0.6157,  ..., -0.5922, -0.6706, -0.7412],\n",
       "          [-0.7490, -0.6941, -0.6627,  ..., -0.6157, -0.7255, -0.7961]],\n",
       "\n",
       "         [[-0.9608, -0.9608, -0.9451,  ..., -0.9529, -0.9529, -0.9373],\n",
       "          [-0.9373, -0.9294, -0.9216,  ..., -0.8980, -0.9137, -0.9216],\n",
       "          [-0.9059, -0.8902, -0.8824,  ..., -0.8118, -0.8510, -0.8824],\n",
       "          ...,\n",
       "          [-0.6549, -0.6000, -0.5686,  ..., -0.4902, -0.6000, -0.6941],\n",
       "          [-0.7020, -0.6471, -0.6157,  ..., -0.5922, -0.6706, -0.7412],\n",
       "          [-0.7490, -0.6941, -0.6627,  ..., -0.6157, -0.7255, -0.7961]],\n",
       "\n",
       "         [[-0.9608, -0.9608, -0.9451,  ..., -0.9529, -0.9529, -0.9373],\n",
       "          [-0.9373, -0.9294, -0.9216,  ..., -0.8980, -0.9137, -0.9216],\n",
       "          [-0.9059, -0.8902, -0.8824,  ..., -0.8118, -0.8510, -0.8824],\n",
       "          ...,\n",
       "          [-0.6549, -0.6000, -0.5686,  ..., -0.4902, -0.6000, -0.6941],\n",
       "          [-0.7020, -0.6471, -0.6157,  ..., -0.5922, -0.6706, -0.7412],\n",
       "          [-0.7490, -0.6941, -0.6627,  ..., -0.6157, -0.7255, -0.7961]]]])"
      ]
     },
     "execution_count": 4,
     "metadata": {},
     "output_type": "execute_result"
    }
   ],
   "source": [
    "test[0]"
   ]
  },
  {
   "cell_type": "code",
   "execution_count": 5,
   "id": "f4b9893a-1714-4965-be81-90c9b4cb9ffd",
   "metadata": {},
   "outputs": [
    {
     "data": {
      "text/plain": [
       "torch.Size([3, 32, 32])"
      ]
     },
     "execution_count": 5,
     "metadata": {},
     "output_type": "execute_result"
    }
   ],
   "source": [
    "test[0][0].shape"
   ]
  },
  {
   "cell_type": "code",
   "execution_count": 6,
   "id": "cc1ab6be-c20a-4980-97e4-cafdf82958e5",
   "metadata": {},
   "outputs": [
    {
     "data": {
      "text/plain": [
       "tensor([5, 3, 6, 3])"
      ]
     },
     "execution_count": 6,
     "metadata": {},
     "output_type": "execute_result"
    }
   ],
   "source": [
    "test[1]"
   ]
  },
  {
   "cell_type": "code",
   "execution_count": 7,
   "id": "b7fb697f-b44f-44ad-9a69-264d34423d14",
   "metadata": {},
   "outputs": [
    {
     "name": "stderr",
     "output_type": "stream",
     "text": [
      "Clipping input data to the valid range for imshow with RGB data ([0..1] for floats or [0..255] for integers).\n"
     ]
    },
    {
     "data": {
      "image/png": "[encoded data removed]",
      "text/plain": [
       "<Figure size 432x288 with 1 Axes>"
      ]
     },
     "metadata": {
      "needs_background": "light"
     },
     "output_type": "display_data"
    }
   ],
   "source": [
    "plt.imshow(test[0][0].permute(1, 2, 0).numpy());"
   ]
  },
  {
   "cell_type": "code",
   "execution_count": 8,
   "id": "8f88bf4c-2edc-49bf-8d45-1fd558fc6684",
   "metadata": {},
   "outputs": [
    {
     "name": "stderr",
     "output_type": "stream",
     "text": [
      "Clipping input data to the valid range for imshow with RGB data ([0..1] for floats or [0..255] for integers).\n"
     ]
    },
    {
     "data": {
      "image/png": "[encoded data removed]",
      "text/plain": [
       "<Figure size 432x288 with 1 Axes>"
      ]
     },
     "metadata": {
      "needs_background": "light"
     },
     "output_type": "display_data"
    }
   ],
   "source": [
    "plt.imshow(test[0][1].permute(1, 2, 0).numpy());"
   ]
  },
  {
   "cell_type": "code",
   "execution_count": 9,
   "id": "15c08bc5-81ff-43a2-b4c4-555b56d2a7bb",
   "metadata": {},
   "outputs": [
    {
     "name": "stderr",
     "output_type": "stream",
     "text": [
      "Clipping input data to the valid range for imshow with RGB data ([0..1] for floats or [0..255] for integers).\n"
     ]
    },
    {
     "data": {
      "image/png": "[encoded data removed]",
      "text/plain": [
       "<Figure size 432x288 with 1 Axes>"
      ]
     },
     "metadata": {
      "needs_background": "light"
     },
     "output_type": "display_data"
    }
   ],
   "source": [
    "plt.imshow(test[0][2].permute(1, 2, 0).numpy());"
   ]
  },
  {
   "cell_type": "code",
   "execution_count": 10,
   "id": "e96c9037-f30a-40a9-888b-71b4d07ce2b8",
   "metadata": {},
   "outputs": [
    {
     "name": "stderr",
     "output_type": "stream",
     "text": [
      "Clipping input data to the valid range for imshow with RGB data ([0..1] for floats or [0..255] for integers).\n"
     ]
    },
    {
     "data": {
      "image/png": "[encoded data removed]",
      "text/plain": [
       "<Figure size 432x288 with 1 Axes>"
      ]
     },
     "metadata": {
      "needs_background": "light"
     },
     "output_type": "display_data"
    }
   ],
   "source": [
    "plt.imshow(test[0][3].permute(1, 2, 0).numpy());"
   ]
  },
  {
   "cell_type": "markdown",
   "id": "82594730-1d2e-4bd9-9e2c-d6780c1b3993",
   "metadata": {},
   "source": [
    "# Setup of CNN"
   ]
  },
  {
   "cell_type": "code",
   "execution_count": 11,
   "id": "fbc2ba1e-8bce-424d-9883-59f5e31453bf",
   "metadata": {},
   "outputs": [],
   "source": [
    "device = torch.device(\"cpu\")"
   ]
  },
  {
   "cell_type": "code",
   "execution_count": 12,
   "id": "f802f24e-af52-4f5f-a441-68d0d7159db4",
   "metadata": {},
   "outputs": [],
   "source": [
    "class ConvolutionalNeuralNetwork(nn.Module):\n",
    "    def __init__(self):\n",
    "        super(ConvolutionalNeuralNetwork, self).__init__()\n",
    "        self.main = nn.Sequential(\n",
    "            nn.Conv2d(3, 32, (3, 3)),\n",
    "            nn.BatchNorm2d(32),\n",
    "            nn.ReLU(),\n",
    "            nn.MaxPool2d((2, 2)),\n",
    "            nn.Conv2d(32, 64, (3, 3)),\n",
    "            nn.BatchNorm2d(64),\n",
    "            nn.ReLU(),\n",
    "            nn.MaxPool2d((2, 2)),\n",
    "            nn.Conv2d(64, 64, (3, 3)),\n",
    "            nn.BatchNorm2d(64),\n",
    "            nn.ReLU(),\n",
    "            nn.Flatten(),\n",
    "            nn.Linear(1024, 128),\n",
    "            nn.ReLU(),\n",
    "            nn.Dropout(0.5),\n",
    "            nn.Linear(128, 10)\n",
    "        )\n",
    "\n",
    "    def forward(self, x):\n",
    "        logits = self.main(x)\n",
    "        return logits"
   ]
  },
  {
   "cell_type": "code",
   "execution_count": 13,
   "id": "7cbfeef8-3c77-481b-bfd5-f7efdfaa83d6",
   "metadata": {},
   "outputs": [],
   "source": [
    "cnn = ConvolutionalNeuralNetwork()"
   ]
  },
  {
   "cell_type": "code",
   "execution_count": 14,
   "id": "90e03d96-652e-454a-8656-ba4e0d99f5ce",
   "metadata": {},
   "outputs": [
    {
     "name": "stdout",
     "output_type": "stream",
     "text": [
      "==========================================================================================\n",
      "Layer (type:depth-idx)                   Output Shape              Param #\n",
      "==========================================================================================\n",
      "├─Sequential: 1-1                        [-1, 10]                  --\n",
      "|    └─Conv2d: 2-1                       [-1, 32, 30, 30]          896\n",
      "|    └─BatchNorm2d: 2-2                  [-1, 32, 30, 30]          64\n",
      "|    └─ReLU: 2-3                         [-1, 32, 30, 30]          --\n",
      "|    └─MaxPool2d: 2-4                    [-1, 32, 15, 15]          --\n",
      "|    └─Conv2d: 2-5                       [-1, 64, 13, 13]          18,496\n",
      "|    └─BatchNorm2d: 2-6                  [-1, 64, 13, 13]          128\n",
      "|    └─ReLU: 2-7                         [-1, 64, 13, 13]          --\n",
      "|    └─MaxPool2d: 2-8                    [-1, 64, 6, 6]            --\n",
      "|    └─Conv2d: 2-9                       [-1, 64, 4, 4]            36,928\n",
      "|    └─BatchNorm2d: 2-10                 [-1, 64, 4, 4]            128\n",
      "|    └─ReLU: 2-11                        [-1, 64, 4, 4]            --\n",
      "|    └─Flatten: 2-12                     [-1, 1024]                --\n",
      "|    └─Linear: 2-13                      [-1, 128]                 131,200\n",
      "|    └─ReLU: 2-14                        [-1, 128]                 --\n",
      "|    └─Dropout: 2-15                     [-1, 128]                 --\n",
      "|    └─Linear: 2-16                      [-1, 10]                  1,290\n",
      "==========================================================================================\n",
      "Total params: 189,130\n",
      "Trainable params: 189,130\n",
      "Non-trainable params: 0\n",
      "Total mult-adds (M): 4.80\n",
      "==========================================================================================\n",
      "Input size (MB): 0.01\n",
      "Forward/backward pass size (MB): 0.62\n",
      "Params size (MB): 0.72\n",
      "Estimated Total Size (MB): 1.35\n",
      "==========================================================================================\n"
     ]
    }
   ],
   "source": [
    "summary(cnn, (3, 32, 32));"
   ]
  },
  {
   "cell_type": "markdown",
   "id": "f1dd743f-8360-4bee-9010-f9b5887c7558",
   "metadata": {},
   "source": [
    "# Sample Check"
   ]
  },
  {
   "cell_type": "code",
   "execution_count": 15,
   "id": "e7328d9a-e1f9-4a12-868e-5978eb4a9e24",
   "metadata": {},
   "outputs": [
    {
     "data": {
      "image/png": "[encoded data removed]",
      "text/plain": [
       "<Figure size 432x288 with 1 Axes>"
      ]
     },
     "metadata": {
      "needs_background": "light"
     },
     "output_type": "display_data"
    }
   ],
   "source": [
    "image, label = next(iter(trainloader))  # Get a random batch of 64 images\n",
    "i = np.random.randint(0, 4)             # Choose one image at random\n",
    "plt.imshow(image[i, 0], cmap='gray')    # Plot\n",
    "plt.title(classes[label[i]]);"
   ]
  },
  {
   "cell_type": "markdown",
   "id": "a08d009a-b83c-42eb-8838-7f36f3c158c6",
   "metadata": {},
   "source": [
    "# Prediction Function and Prediction Check before Training"
   ]
  },
  {
   "cell_type": "code",
   "execution_count": 16,
   "id": "d91354f0-6dcb-494d-8612-f6406b0e5262",
   "metadata": {},
   "outputs": [],
   "source": [
    "def plot_prediction(image, label, predictions):\n",
    "    \"\"\"Plot network predictions with matplotlib.\"\"\"\n",
    "    \n",
    "    fig, (ax1, ax2) = plt.subplots(figsize=(8, 4), ncols=2)  # Plot\n",
    "    ax1.imshow(image[0], cmap='gray')\n",
    "    ax1.axis('off')   \n",
    "    ax1.set_title(classes[label])\n",
    "    ax2.barh(np.arange(10), predictions.data.numpy().squeeze())\n",
    "    ax2.set_title(\"Predictions\")\n",
    "    ax2.set_yticks(np.arange(10))\n",
    "    ax2.set_yticklabels(classes)\n",
    "    ax2.set_xlim(0, 1)\n",
    "    plt.tight_layout();"
   ]
  },
  {
   "cell_type": "code",
   "execution_count": 17,
   "id": "02121868-35f1-4345-84a8-9ed7d3479188",
   "metadata": {},
   "outputs": [
    {
     "data": {
      "image/png": "[encoded data removed]",
      "text/plain": [
       "<Figure size 576x288 with 2 Axes>"
      ]
     },
     "metadata": {
      "needs_background": "light"
     },
     "output_type": "display_data"
    }
   ],
   "source": [
    "# Test on training images (run as many times as you like!)\n",
    "image, label = next(iter(trainloader))        # Get a random batch of 64 images\n",
    "cnn.to(device)\n",
    "predictions = cnn(image)  # Get first image and predict it\n",
    "predictions = nn.Softmax(dim=1)(predictions)  # Coerce predictions to probabilities using Softmax()\n",
    "plot_prediction(image[0], label[0], predictions[0])"
   ]
  },
  {
   "cell_type": "markdown",
   "id": "7939985a-f99c-4d27-a401-8aeba472c7d7",
   "metadata": {},
   "source": [
    "# Model Training"
   ]
  },
  {
   "cell_type": "code",
   "execution_count": 18,
   "id": "7c97bc80-c777-4c43-875e-1ee4470956f0",
   "metadata": {},
   "outputs": [],
   "source": [
    "def trainer(model, criterion, optimizer, trainloader, validloader, epochs=5, verbose=True):\n",
    "    \"\"\"Simple training wrapper for PyTorch network.\"\"\"\n",
    "    \n",
    "    train_loss, valid_loss, train_accuracy, valid_accuracy = [], [], [], []\n",
    "    for epoch in range(epochs):  # for each epoch\n",
    "        train_batch_loss = 0\n",
    "        valid_batch_loss = 0\n",
    "        train_batch_acc = 0\n",
    "        valid_batch_acc = 0\n",
    "        \n",
    "        # Training\n",
    "        for X, y in trainloader:\n",
    "            optimizer.zero_grad()       # Zero all the gradients w.r.t. parameters\n",
    "            X = X.to(device)\n",
    "            y = y.to(device)\n",
    "            y_hat = model(X)  # forward pass to get output\n",
    "            _, y_hat_labels = torch.softmax(y_hat, dim=1).topk(1, dim=1)\n",
    "            loss = criterion(y_hat, y)  # Calculate loss based on output\n",
    "            loss.backward()             # Calculate gradients w.r.t. parameters\n",
    "            optimizer.step()            # Update parameters\n",
    "            train_batch_loss += loss.item()  # Add loss for this batch to running total\n",
    "            train_batch_acc += (y_hat_labels.squeeze() == y).type(torch.float32).mean().item()\n",
    "        train_loss.append(train_batch_loss / len(trainloader))\n",
    "        train_accuracy.append(train_batch_acc / len(trainloader))  # accuracy\n",
    "        \n",
    "        # Validation\n",
    "        model.eval()\n",
    "        with torch.no_grad():  # this stops pytorch doing computational graph stuff under-the-hood and saves memory and time\n",
    "            for X, y in validloader:\n",
    "                X = X.to(device)\n",
    "                y = y.to(device)\n",
    "                y_hat = model(X)  # forward pass to get output\n",
    "                _, y_hat_labels = torch.softmax(y_hat, dim=1).topk(1, dim=1)\n",
    "                loss = criterion(y_hat, y)\n",
    "                valid_batch_loss += loss.item()\n",
    "                valid_batch_acc += (y_hat_labels.squeeze() == y).type(torch.float32).mean().item()\n",
    "        valid_loss.append(valid_batch_loss / len(validloader))\n",
    "        valid_accuracy.append(valid_batch_acc / len(validloader))  # accuracy\n",
    "        \n",
    "        model.train()\n",
    "        \n",
    "        # Print progress\n",
    "        if verbose:\n",
    "            print(f\"Epoch {epoch + 1}:\",\n",
    "                  f\"Train Loss: {train_loss[-1]:.3f}.\",\n",
    "                  f\"Valid Loss: {valid_loss[-1]:.3f}.\",\n",
    "                  f\"Train Accuracy: {train_accuracy[-1]:.2f}.\"\n",
    "                  f\"Valid Accuracy: {valid_accuracy[-1]:.2f}.\")\n",
    "        \n",
    "    print(\"\\nTraining ended.\")\n",
    "    \n",
    "    return train_loss, valid_loss, train_accuracy, valid_accuracy"
   ]
  },
  {
   "cell_type": "code",
   "execution_count": 19,
   "id": "dea700dd-fcad-48f6-b538-553d7bd1a0c0",
   "metadata": {},
   "outputs": [],
   "source": [
    "criterion = nn.CrossEntropyLoss()\n",
    "optimizer = torch.optim.Adam(cnn.parameters(), lr=1e-3)"
   ]
  },
  {
   "cell_type": "code",
   "execution_count": 20,
   "id": "f2dd4245-3d83-45de-a6ad-628e81f01028",
   "metadata": {},
   "outputs": [
    {
     "name": "stdout",
     "output_type": "stream",
     "text": [
      "Epoch 1: Train Loss: 1.676. Valid Loss: 1.258. Train Accuracy: 0.40.Valid Accuracy: 0.55.\n",
      "Epoch 2: Train Loss: 1.381. Valid Loss: 1.106. Train Accuracy: 0.52.Valid Accuracy: 0.60.\n",
      "Epoch 3: Train Loss: 1.245. Valid Loss: 0.962. Train Accuracy: 0.57.Valid Accuracy: 0.66.\n",
      "Epoch 4: Train Loss: 1.157. Valid Loss: 0.929. Train Accuracy: 0.60.Valid Accuracy: 0.68.\n",
      "Epoch 5: Train Loss: 1.095. Valid Loss: 0.889. Train Accuracy: 0.63.Valid Accuracy: 0.70.\n",
      "Epoch 6: Train Loss: 1.044. Valid Loss: 0.871. Train Accuracy: 0.64.Valid Accuracy: 0.70.\n",
      "Epoch 7: Train Loss: 1.009. Valid Loss: 0.856. Train Accuracy: 0.66.Valid Accuracy: 0.71.\n",
      "Epoch 8: Train Loss: 0.967. Valid Loss: 0.889. Train Accuracy: 0.67.Valid Accuracy: 0.70.\n",
      "Epoch 9: Train Loss: 0.940. Valid Loss: 0.868. Train Accuracy: 0.68.Valid Accuracy: 0.71.\n",
      "Epoch 10: Train Loss: 0.912. Valid Loss: 0.854. Train Accuracy: 0.69.Valid Accuracy: 0.71.\n",
      "Epoch 11: Train Loss: 0.887. Valid Loss: 0.803. Train Accuracy: 0.70.Valid Accuracy: 0.73.\n",
      "Epoch 12: Train Loss: 0.866. Valid Loss: 0.799. Train Accuracy: 0.71.Valid Accuracy: 0.73.\n",
      "Epoch 13: Train Loss: 0.847. Valid Loss: 0.800. Train Accuracy: 0.71.Valid Accuracy: 0.73.\n",
      "Epoch 14: Train Loss: 0.825. Valid Loss: 0.829. Train Accuracy: 0.72.Valid Accuracy: 0.73.\n",
      "Epoch 15: Train Loss: 0.818. Valid Loss: 0.822. Train Accuracy: 0.72.Valid Accuracy: 0.74.\n",
      "Epoch 16: Train Loss: 0.803. Valid Loss: 0.853. Train Accuracy: 0.73.Valid Accuracy: 0.73.\n",
      "Epoch 17: Train Loss: 0.789. Valid Loss: 0.818. Train Accuracy: 0.73.Valid Accuracy: 0.73.\n",
      "Epoch 18: Train Loss: 0.782. Valid Loss: 0.855. Train Accuracy: 0.73.Valid Accuracy: 0.72.\n",
      "Epoch 19: Train Loss: 0.765. Valid Loss: 0.795. Train Accuracy: 0.74.Valid Accuracy: 0.74.\n",
      "Epoch 20: Train Loss: 0.758. Valid Loss: 0.819. Train Accuracy: 0.74.Valid Accuracy: 0.74.\n",
      "\n",
      "Training ended.\n"
     ]
    }
   ],
   "source": [
    "train_loss, valid_loss, train_accuracy, valid_accuracy = trainer(\n",
    "    cnn, criterion, optimizer, trainloader, testloader, epochs=20, verbose=True\n",
    ")"
   ]
  },
  {
   "cell_type": "markdown",
   "id": "1b5fb3f0-b5f7-47af-949d-b7e3137bf056",
   "metadata": {},
   "source": [
    "# Examination of Losses and Accuracies"
   ]
  },
  {
   "cell_type": "code",
   "execution_count": 21,
   "id": "7ca138c9-b99f-4b26-bb3d-d70afb76eebf",
   "metadata": {},
   "outputs": [],
   "source": [
    "train_accuracy_cpu = []\n",
    "\n",
    "for acc in train_accuracy:\n",
    "    train_accuracy_cpu.append(acc)#.cpu().numpy().tolist())"
   ]
  },
  {
   "cell_type": "code",
   "execution_count": 22,
   "id": "bba95541-dea2-4c68-8a04-194ece350831",
   "metadata": {},
   "outputs": [],
   "source": [
    "valid_accuracy_cpu = []\n",
    "\n",
    "for acc in valid_accuracy:\n",
    "    valid_accuracy_cpu.append(acc)#.cpu().numpy().tolist())"
   ]
  },
  {
   "cell_type": "code",
   "execution_count": 23,
   "id": "bce6d87c-fea0-4269-ad46-7e6dfa6cf529",
   "metadata": {},
   "outputs": [
    {
     "data": {
      "image/png": "[encoded data removed]",
      "text/plain": [
       "<Figure size 432x288 with 1 Axes>"
      ]
     },
     "metadata": {
      "needs_background": "light"
     },
     "output_type": "display_data"
    },
    {
     "data": {
      "image/png": "[encoded data removed]",
      "text/plain": [
       "<Figure size 432x288 with 1 Axes>"
      ]
     },
     "metadata": {
      "needs_background": "light"
     },
     "output_type": "display_data"
    }
   ],
   "source": [
    "loss_fig = pd.DataFrame(\n",
    "    {\"train_loss\": train_loss, \"valid_loss\": valid_loss}\n",
    ").plot.line()\n",
    "loss_fig.set_xlabel('Epoch')\n",
    "loss_fig.set_ylabel('Loss');\n",
    "\n",
    "accur_fig = pd.DataFrame(\n",
    "    {\"train_accuracy\": train_accuracy_cpu, \n",
    "     \"valid_accuracy\": valid_accuracy_cpu}\n",
    ").plot.line()\n",
    "accur_fig.set_xlabel('Epoch')\n",
    "accur_fig.set_ylabel('Accuracy');"
   ]
  },
  {
   "cell_type": "markdown",
   "id": "3f712c97-3da3-4f3f-bfeb-0463d87c1332",
   "metadata": {},
   "source": [
    "# Prediction Check After Training"
   ]
  },
  {
   "cell_type": "code",
   "execution_count": 24,
   "id": "9e30800e-cf4b-404c-a5a6-9bc1cbfc905b",
   "metadata": {},
   "outputs": [
    {
     "data": {
      "image/png": "[encoded data removed]",
      "text/plain": [
       "<Figure size 576x288 with 2 Axes>"
      ]
     },
     "metadata": {
      "needs_background": "light"
     },
     "output_type": "display_data"
    }
   ],
   "source": [
    "image, label = next(iter(testloader))        # Get a random batch of 64 images\n",
    "predictions = cnn(image)  # Get first image, and predict it\n",
    "predictions = nn.Softmax(dim=1)(predictions)  # Coerce predictions to probabilities using Softmax()\n",
    "plot_prediction(image[0], label[0], predictions[0])"
   ]
  },
  {
   "cell_type": "markdown",
   "id": "a864dbec-d7b3-4216-8e8b-45272e1d0ec7",
   "metadata": {},
   "source": [
    "# Model Save"
   ]
  },
  {
   "cell_type": "code",
   "execution_count": 25,
   "id": "63f69a38-2dfd-49fc-8cc5-cb2cbbbf8075",
   "metadata": {},
   "outputs": [],
   "source": [
    "torch.save(cnn.state_dict(), 'cnn_model_weights.pth')\n",
    "torch.save(cnn, 'cnn_multi_classification_model.pth')"
   ]
  },
  {
   "cell_type": "code",
   "execution_count": null,
   "id": "5c6facc6-39b1-4c88-89dc-69f0a6c8d42b",
   "metadata": {},
   "outputs": [],
   "source": []
  }
 ],
 "metadata": {
  "kernelspec": {
   "display_name": "Python [conda env:575]",
   "language": "python",
   "name": "conda-env-575-py"
  },
  "language_info": {
   "codemirror_mode": {
    "name": "ipython",
    "version": 3
   },
   "file_extension": ".py",
   "mimetype": "text/x-python",
   "name": "python",
   "nbconvert_exporter": "python",
   "pygments_lexer": "ipython3",
   "version": "3.10.4"
  }
 },
 "nbformat": 4,
 "nbformat_minor": 5
}
