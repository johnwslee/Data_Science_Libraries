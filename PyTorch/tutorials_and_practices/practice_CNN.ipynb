{
 "cells": [
  {
   "cell_type": "markdown",
   "id": "012946a2-2f0d-4413-ac7c-070af571b549",
   "metadata": {},
   "source": [
    "## Imports"
   ]
  },
  {
   "cell_type": "code",
   "execution_count": 1,
   "id": "69bab8b1-e19f-48be-b6f9-9b9cdcae6c66",
   "metadata": {},
   "outputs": [],
   "source": [
    "import os\n",
    "import torch\n",
    "import matplotlib.pyplot as plt\n",
    "import numpy as np\n",
    "from torch import nn\n",
    "from torch.utils.data import DataLoader\n",
    "from torchvision import datasets\n",
    "from torchvision import datasets, transforms\n",
    "from torchvision.transforms import ToTensor\n",
    "from torchsummary import summary"
   ]
  },
  {
   "cell_type": "markdown",
   "id": "2d0e3988-9f22-4b45-aae6-74115ef77803",
   "metadata": {},
   "source": [
    "## Change to Cuda"
   ]
  },
  {
   "cell_type": "code",
   "execution_count": 2,
   "id": "9683f5a5-de38-40fd-a21b-15e8463eb783",
   "metadata": {},
   "outputs": [],
   "source": [
    "#device = \"cuda\" if torch.cuda.is_available() else \"cpu\"\n",
    "#print(f\"Using {device} device\")\n",
    "device = torch.device(\"cpu\")"
   ]
  },
  {
   "cell_type": "markdown",
   "id": "2dfdaf7f-9b97-4a09-8b56-b5811838268e",
   "metadata": {},
   "source": [
    "## Definition of Neural Network Class"
   ]
  },
  {
   "cell_type": "code",
   "execution_count": 3,
   "id": "382f0e8e-b325-4b96-a10f-cbf4019d0a4f",
   "metadata": {},
   "outputs": [],
   "source": [
    "class ConvolutionalNeuralNetwork(nn.Module):\n",
    "    def __init__(self):\n",
    "        super(ConvolutionalNeuralNetwork, self).__init__()\n",
    "        self.main = nn.Sequential(\n",
    "            nn.Conv2d(1, 14, (3, 3), padding=1),         # 14, 28 x 28\n",
    "            nn.ReLU(),\n",
    "            nn.MaxPool2d((2, 2)),                        # 14, 14 x 14\n",
    "            nn.Dropout(0.2),\n",
    "            nn.Conv2d(14, 7, (3, 3), padding=1),         #  7, 14 x 14\n",
    "            nn.ReLU(),\n",
    "            nn.MaxPool2d((2, 2)),                        #  7,  7 x  7\n",
    "            nn.Dropout(0.2),\n",
    "            nn.Flatten(),                                #  343\n",
    "            nn.Linear(343, 28),\n",
    "            nn.ReLU(),\n",
    "            nn.Linear(28, 10)\n",
    "        )\n",
    "\n",
    "    def forward(self, x):\n",
    "        logits = self.main(x)\n",
    "        return logits"
   ]
  },
  {
   "cell_type": "code",
   "execution_count": 4,
   "id": "4e4150cc-6b6c-47e4-8030-c7348b34be87",
   "metadata": {},
   "outputs": [],
   "source": [
    "training_data = datasets.FashionMNIST(\n",
    "    root='~/.pytorch/F_MNIST_data/',\n",
    "    train=True,\n",
    "    download=True,\n",
    "    transform=ToTensor()\n",
    ")\n",
    "\n",
    "test_data = datasets.FashionMNIST(\n",
    "    root='~/.pytorch/F_MNIST_data/',\n",
    "    train=False,\n",
    "    download=True,\n",
    "    transform=ToTensor()\n",
    ")\n",
    "\n",
    "trainloader = DataLoader(training_data, batch_size=64, shuffle=True)\n",
    "validloader = DataLoader(test_data, batch_size=64, shuffle=True)\n",
    "\n",
    "class_labels = ['T-shirt/top', 'Trouser', 'Pullover', 'Dress', 'Coat',\n",
    "                'Sandal', 'Shirt', 'Sneaker', 'Bag', 'Ankle Boot']"
   ]
  },
  {
   "cell_type": "code",
   "execution_count": 5,
   "id": "b83b1859-b619-4e3d-8a4c-c8c2b694c316",
   "metadata": {},
   "outputs": [],
   "source": [
    "cnn_model = ConvolutionalNeuralNetwork()"
   ]
  },
  {
   "cell_type": "code",
   "execution_count": 6,
   "id": "bcda1cca-a94b-48a1-a070-afd2eb465ed8",
   "metadata": {},
   "outputs": [
    {
     "name": "stdout",
     "output_type": "stream",
     "text": [
      "==========================================================================================\n",
      "Layer (type:depth-idx)                   Output Shape              Param #\n",
      "==========================================================================================\n",
      "├─Sequential: 1-1                        [-1, 10]                  --\n",
      "|    └─Conv2d: 2-1                       [-1, 14, 28, 28]          140\n",
      "|    └─ReLU: 2-2                         [-1, 14, 28, 28]          --\n",
      "|    └─MaxPool2d: 2-3                    [-1, 14, 14, 14]          --\n",
      "|    └─Dropout: 2-4                      [-1, 14, 14, 14]          --\n",
      "|    └─Conv2d: 2-5                       [-1, 7, 14, 14]           889\n",
      "|    └─ReLU: 2-6                         [-1, 7, 14, 14]           --\n",
      "|    └─MaxPool2d: 2-7                    [-1, 7, 7, 7]             --\n",
      "|    └─Dropout: 2-8                      [-1, 7, 7, 7]             --\n",
      "|    └─Flatten: 2-9                      [-1, 343]                 --\n",
      "|    └─Linear: 2-10                      [-1, 28]                  9,632\n",
      "|    └─ReLU: 2-11                        [-1, 28]                  --\n",
      "|    └─Linear: 2-12                      [-1, 10]                  290\n",
      "==========================================================================================\n",
      "Total params: 10,951\n",
      "Trainable params: 10,951\n",
      "Non-trainable params: 0\n",
      "Total mult-adds (M): 0.29\n",
      "==========================================================================================\n",
      "Input size (MB): 0.00\n",
      "Forward/backward pass size (MB): 0.09\n",
      "Params size (MB): 0.04\n",
      "Estimated Total Size (MB): 0.14\n",
      "==========================================================================================\n"
     ]
    }
   ],
   "source": [
    "summary(cnn_model, (1, 28, 28));"
   ]
  },
  {
   "cell_type": "markdown",
   "id": "a4f5d826-bfe2-4f87-b7de-9341852dffd8",
   "metadata": {},
   "source": [
    "## Sample Check"
   ]
  },
  {
   "cell_type": "code",
   "execution_count": 7,
   "id": "2b0588df-fc47-4b18-a76d-bf830e0fdc29",
   "metadata": {},
   "outputs": [
    {
     "data": {
      "image/png": "[encoded data removed]",
      "text/plain": [
       "<Figure size 432x288 with 1 Axes>"
      ]
     },
     "metadata": {
      "needs_background": "light"
     },
     "output_type": "display_data"
    }
   ],
   "source": [
    "image, label = next(iter(trainloader))  # Get a random batch of 64 images\n",
    "i = np.random.randint(0, 64)            # Choose one image at random\n",
    "plt.imshow(image[i, 0], cmap='gray')    # Plot\n",
    "plt.title(class_labels[label[i]]);"
   ]
  },
  {
   "cell_type": "markdown",
   "id": "e221dc25-80e4-4dff-bc7e-36ec7278bcda",
   "metadata": {},
   "source": [
    "## Prediction Function and Prediction Check before Training"
   ]
  },
  {
   "cell_type": "code",
   "execution_count": 8,
   "id": "9e2e17f1-6765-40b6-892f-4f782e2ed271",
   "metadata": {},
   "outputs": [],
   "source": [
    "def plot_prediction(image, label, predictions):\n",
    "    \"\"\"Plot network predictions with matplotlib.\"\"\"\n",
    "    \n",
    "    fig, (ax1, ax2) = plt.subplots(figsize=(8, 4), ncols=2)  # Plot\n",
    "    ax1.imshow(image[0], cmap='gray')\n",
    "    ax1.axis('off')   \n",
    "    ax1.set_title(class_labels[label])\n",
    "    ax2.barh(np.arange(10), predictions.data.numpy().squeeze())   \n",
    "    ax2.set_title(\"Predictions\")\n",
    "    ax2.set_yticks(np.arange(10))\n",
    "    ax2.set_yticklabels(class_labels)\n",
    "    ax2.set_xlim(0, 1)\n",
    "    plt.tight_layout();"
   ]
  },
  {
   "cell_type": "code",
   "execution_count": 9,
   "id": "21c3dd9e-8938-431b-b744-9aa899e882e4",
   "metadata": {},
   "outputs": [
    {
     "data": {
      "image/png": "[encoded data removed]",
      "text/plain": [
       "<Figure size 576x288 with 2 Axes>"
      ]
     },
     "metadata": {
      "needs_background": "light"
     },
     "output_type": "display_data"
    }
   ],
   "source": [
    "# Test on training images (run as many times as you like!)\n",
    "image, label = next(iter(trainloader))        # Get a random batch of 64 images\n",
    "cnn_model.to(device)\n",
    "predictions = cnn_model(image)  # Get first image and predict it\n",
    "predictions = nn.Softmax(dim=1)(predictions)  # Coerce predictions to probabilities using Softmax()\n",
    "plot_prediction(image[0], label[0], predictions[0])"
   ]
  },
  {
   "cell_type": "code",
   "execution_count": 10,
   "id": "43969bc3-9604-4ee7-accb-c54a2d26e8a7",
   "metadata": {},
   "outputs": [],
   "source": [
    "def trainer(model, criterion, optimizer, trainloader, validloader, epochs=5, verbose=True):\n",
    "    \"\"\"Simple training wrapper for PyTorch network.\"\"\"\n",
    "    \n",
    "    train_loss, valid_loss, train_accuracy, valid_accuracy = [], [], [], []\n",
    "    for epoch in range(epochs):  # for each epoch\n",
    "        train_batch_loss = 0\n",
    "        valid_batch_loss = 0\n",
    "        train_batch_acc = 0\n",
    "        valid_batch_acc = 0\n",
    "        \n",
    "        # Training\n",
    "        for X, y in trainloader:\n",
    "            optimizer.zero_grad()       # Zero all the gradients w.r.t. parameters\n",
    "            # X = X.to(device)\n",
    "            # y = y.to(device)\n",
    "            y_hat = model(X)  # forward pass to get output\n",
    "            _, y_hat_labels = torch.softmax(y_hat, dim=1).topk(1, dim=1)\n",
    "            loss = criterion(y_hat, y)  # Calculate loss based on output\n",
    "            loss.backward()             # Calculate gradients w.r.t. parameters\n",
    "            optimizer.step()            # Update parameters\n",
    "            train_batch_loss += loss.item()  # Add loss for this batch to running total\n",
    "            train_batch_acc += (y_hat_labels.squeeze() == y).type(torch.float32).mean().item()\n",
    "        train_loss.append(train_batch_loss / len(trainloader))\n",
    "        train_accuracy.append(train_batch_acc / len(trainloader))  # accuracy\n",
    "        \n",
    "        # Validation\n",
    "        model.eval()\n",
    "        with torch.no_grad():  # this stops pytorch doing computational graph stuff under-the-hood and saves memory and time\n",
    "            for X, y in validloader:\n",
    "                # X = X.to(device)\n",
    "                # y = y.to(device)\n",
    "                y_hat = model(X)  # forward pass to get output\n",
    "                _, y_hat_labels = torch.softmax(y_hat, dim=1).topk(1, dim=1)\n",
    "                loss = criterion(y_hat, y)\n",
    "                valid_batch_loss += loss.item()\n",
    "                valid_batch_acc += (y_hat_labels.squeeze() == y).type(torch.float32).mean().item()\n",
    "        valid_loss.append(valid_batch_loss / len(validloader))\n",
    "        valid_accuracy.append(valid_batch_acc / len(validloader))  # accuracy\n",
    "        \n",
    "        model.train()\n",
    "        \n",
    "        # Print progress\n",
    "        if verbose:\n",
    "            print(f\"Epoch {epoch + 1}:\",\n",
    "                  f\"Train Loss: {train_loss[-1]:.3f}.\",\n",
    "                  f\"Valid Loss: {valid_loss[-1]:.3f}.\",\n",
    "                  f\"Train Accuracy: {train_accuracy[-1]:.2f}.\"\n",
    "                  f\"Valid Accuracy: {valid_accuracy[-1]:.2f}.\")\n",
    "            \n",
    "    print(\"\\nTraining ended.\")"
   ]
  },
  {
   "cell_type": "code",
   "execution_count": 11,
   "id": "885359ad-e73b-4c6f-a42c-f842eaebde6b",
   "metadata": {},
   "outputs": [],
   "source": [
    "criterion = nn.CrossEntropyLoss()\n",
    "optimizer = torch.optim.Adam(cnn_model.parameters(), lr=1e-3)"
   ]
  },
  {
   "cell_type": "code",
   "execution_count": 12,
   "id": "a381784a-9c0d-44ec-92ff-ce2ee3136ccc",
   "metadata": {},
   "outputs": [
    {
     "name": "stdout",
     "output_type": "stream",
     "text": [
      "Epoch 1: Train Loss: 0.739. Valid Loss: 0.510. Train Accuracy: 0.73.Valid Accuracy: 0.81.\n",
      "Epoch 2: Train Loss: 0.492. Valid Loss: 0.453. Train Accuracy: 0.82.Valid Accuracy: 0.83.\n",
      "Epoch 3: Train Loss: 0.442. Valid Loss: 0.397. Train Accuracy: 0.84.Valid Accuracy: 0.86.\n",
      "Epoch 4: Train Loss: 0.416. Valid Loss: 0.382. Train Accuracy: 0.85.Valid Accuracy: 0.87.\n",
      "Epoch 5: Train Loss: 0.395. Valid Loss: 0.356. Train Accuracy: 0.86.Valid Accuracy: 0.87.\n",
      "Epoch 6: Train Loss: 0.381. Valid Loss: 0.346. Train Accuracy: 0.86.Valid Accuracy: 0.88.\n",
      "Epoch 7: Train Loss: 0.367. Valid Loss: 0.341. Train Accuracy: 0.87.Valid Accuracy: 0.88.\n",
      "Epoch 8: Train Loss: 0.360. Valid Loss: 0.334. Train Accuracy: 0.87.Valid Accuracy: 0.88.\n",
      "Epoch 9: Train Loss: 0.353. Valid Loss: 0.326. Train Accuracy: 0.87.Valid Accuracy: 0.88.\n",
      "Epoch 10: Train Loss: 0.342. Valid Loss: 0.325. Train Accuracy: 0.88.Valid Accuracy: 0.88.\n",
      "Epoch 11: Train Loss: 0.337. Valid Loss: 0.326. Train Accuracy: 0.88.Valid Accuracy: 0.88.\n",
      "Epoch 12: Train Loss: 0.329. Valid Loss: 0.322. Train Accuracy: 0.88.Valid Accuracy: 0.88.\n",
      "Epoch 13: Train Loss: 0.324. Valid Loss: 0.321. Train Accuracy: 0.88.Valid Accuracy: 0.88.\n",
      "Epoch 14: Train Loss: 0.321. Valid Loss: 0.306. Train Accuracy: 0.88.Valid Accuracy: 0.89.\n",
      "Epoch 15: Train Loss: 0.319. Valid Loss: 0.298. Train Accuracy: 0.88.Valid Accuracy: 0.89.\n",
      "Epoch 16: Train Loss: 0.310. Valid Loss: 0.303. Train Accuracy: 0.89.Valid Accuracy: 0.89.\n",
      "Epoch 17: Train Loss: 0.309. Valid Loss: 0.295. Train Accuracy: 0.89.Valid Accuracy: 0.89.\n",
      "Epoch 18: Train Loss: 0.307. Valid Loss: 0.294. Train Accuracy: 0.89.Valid Accuracy: 0.89.\n",
      "Epoch 19: Train Loss: 0.304. Valid Loss: 0.292. Train Accuracy: 0.89.Valid Accuracy: 0.89.\n",
      "Epoch 20: Train Loss: 0.297. Valid Loss: 0.288. Train Accuracy: 0.89.Valid Accuracy: 0.90.\n",
      "\n",
      "Training ended.\n"
     ]
    }
   ],
   "source": [
    "trainer(cnn_model, criterion, optimizer, trainloader, validloader, epochs=20, verbose=True)"
   ]
  },
  {
   "cell_type": "markdown",
   "id": "3e88ea6c-ea7f-4f01-977d-b7e4a38a33e2",
   "metadata": {},
   "source": [
    "## Prediction Check After Training"
   ]
  },
  {
   "cell_type": "code",
   "execution_count": 13,
   "id": "919593a7-f85a-4d58-b657-370125a135de",
   "metadata": {
    "tags": []
   },
   "outputs": [
    {
     "data": {
      "image/png": "[encoded data removed]",
      "text/plain": [
       "<Figure size 576x288 with 2 Axes>"
      ]
     },
     "metadata": {
      "needs_background": "light"
     },
     "output_type": "display_data"
    }
   ],
   "source": [
    "image, label = next(iter(trainloader))        # Get a random batch of 64 images\n",
    "predictions = cnn_model(image)  # Get first image, and predict it\n",
    "predictions = nn.Softmax(dim=1)(predictions)  # Coerce predictions to probabilities using Softmax()\n",
    "plot_prediction(image[0], label[0], predictions[0])"
   ]
  },
  {
   "cell_type": "markdown",
   "id": "db5fa44a-f0c9-47e0-8224-f0b5cb683136",
   "metadata": {},
   "source": [
    "## Model Save"
   ]
  },
  {
   "cell_type": "code",
   "execution_count": 14,
   "id": "5ab68228-5fb6-418c-bb13-590dd3a65f22",
   "metadata": {},
   "outputs": [],
   "source": [
    "torch.save(cnn_model.state_dict(), 'cnn_model_weights.pth')\n",
    "torch.save(cnn_model, 'cnn_model.pth')"
   ]
  },
  {
   "cell_type": "markdown",
   "id": "e2e33c7e-61bb-4baf-866e-0c1b56432391",
   "metadata": {},
   "source": [
    "## Checking model save, load"
   ]
  },
  {
   "cell_type": "code",
   "execution_count": 15,
   "id": "8a52ebab-b1d6-4d10-865f-439a154e9704",
   "metadata": {},
   "outputs": [],
   "source": [
    "model = torch.load('cnn_model.pth')"
   ]
  },
  {
   "cell_type": "code",
   "execution_count": 16,
   "id": "c6fc2d27-8b92-42d1-9c72-b3ecf6b50c36",
   "metadata": {},
   "outputs": [
    {
     "name": "stdout",
     "output_type": "stream",
     "text": [
      "Epoch 1: Train Loss: 0.292. Valid Loss: 0.288. Train Accuracy: 0.89.Valid Accuracy: 0.90.\n",
      "Epoch 2: Train Loss: 0.291. Valid Loss: 0.288. Train Accuracy: 0.89.Valid Accuracy: 0.90.\n",
      "\n",
      "Training ended.\n"
     ]
    }
   ],
   "source": [
    "trainer(model, criterion, optimizer, trainloader, validloader, epochs=2, verbose=True)"
   ]
  },
  {
   "cell_type": "code",
   "execution_count": null,
   "id": "fa2b0b0f-0d6a-452e-8d41-a5c929a67754",
   "metadata": {},
   "outputs": [],
   "source": []
  }
 ],
 "metadata": {
  "kernelspec": {
   "display_name": "Python [conda env:575]",
   "language": "python",
   "name": "conda-env-575-py"
  },
  "language_info": {
   "codemirror_mode": {
    "name": "ipython",
    "version": 3
   },
   "file_extension": ".py",
   "mimetype": "text/x-python",
   "name": "python",
   "nbconvert_exporter": "python",
   "pygments_lexer": "ipython3",
   "version": "3.10.4"
  }
 },
 "nbformat": 4,
 "nbformat_minor": 5
}
