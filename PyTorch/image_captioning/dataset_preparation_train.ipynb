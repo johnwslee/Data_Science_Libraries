{
 "cells": [
  {
   "cell_type": "markdown",
   "id": "c085c86b-313a-4805-b033-7ced0e0d5383",
   "metadata": {},
   "source": [
    "# Preparation of COCO Dataset (Train)"
   ]
  },
  {
   "cell_type": "code",
   "execution_count": 1,
   "id": "4e677e7f-827b-4ca8-b102-44f22abdbd9a",
   "metadata": {},
   "outputs": [],
   "source": [
    "import fiftyone as fo\n",
    "import fiftyone.zoo as foz\n",
    "\n",
    "# # List available zoo datasets\n",
    "# print(foz.list_zoo_datasets())\n",
    "\n",
    "# #\n",
    "# # Load the COCO-2014 validation split into a FiftyOne dataset\n",
    "# #\n",
    "# # This will download the dataset from the web, if necessary\n",
    "# #\n",
    "# dataset = foz.load_zoo_dataset(\"coco-2014\", split=\"train\")\n",
    "\n",
    "# # Give the dataset a new name, and make it persistent so that you can\n",
    "# # work with it in future sessions\n",
    "# dataset.name = \"coco-2014-train-example\"\n",
    "# dataset.persistent = True"
   ]
  },
  {
   "cell_type": "code",
   "execution_count": 2,
   "id": "b74c7776-eee6-4c4d-8c6d-edc291317753",
   "metadata": {},
   "outputs": [],
   "source": [
    "# Load from Local\n",
    "name = \"coco-2014-train-example\"\n",
    "\n",
    "dataset = fo.load_dataset(name)"
   ]
  },
  {
   "cell_type": "code",
   "execution_count": 4,
   "id": "360ce772-54c7-401e-bbe1-405af7eef118",
   "metadata": {},
   "outputs": [
    {
     "data": {
      "text/html": [
       "\n",
       "        <iframe\n",
       "            width=\"100%\"\n",
       "            height=\"800\"\n",
       "            src=\"http://localhost:5151/?context=ipython&subscription=86e992c4-3be6-4d87-8202-57aa6c2f9511\"\n",
       "            frameborder=\"0\"\n",
       "            allowfullscreen\n",
       "            \n",
       "        ></iframe>\n",
       "        "
      ],
      "text/plain": [
       "<IPython.lib.display.IFrame at 0x1e7a79bf1c0>"
      ]
     },
     "metadata": {},
     "output_type": "display_data"
    }
   ],
   "source": [
    "# Visualize the in the App\n",
    "session = fo.launch_app(dataset)"
   ]
  },
  {
   "cell_type": "code",
   "execution_count": null,
   "id": "bfa767a7-5e6e-4db3-8da8-7cd42b3be3ec",
   "metadata": {},
   "outputs": [],
   "source": []
  }
 ],
 "metadata": {
  "kernelspec": {
   "display_name": "Python [conda env:fiftyone]",
   "language": "python",
   "name": "conda-env-fiftyone-py"
  },
  "language_info": {
   "codemirror_mode": {
    "name": "ipython",
    "version": 3
   },
   "file_extension": ".py",
   "mimetype": "text/x-python",
   "name": "python",
   "nbconvert_exporter": "python",
   "pygments_lexer": "ipython3",
   "version": "3.10.6"
  }
 },
 "nbformat": 4,
 "nbformat_minor": 5
}
