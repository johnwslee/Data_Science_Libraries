{
 "cells": [
  {
   "cell_type": "markdown",
   "id": "c085c86b-313a-4805-b033-7ced0e0d5383",
   "metadata": {},
   "source": [
    "# Preparation of COCO Dataset (Train)"
   ]
  },
  {
   "cell_type": "code",
   "execution_count": null,
   "id": "1008b9bf-e8eb-4032-89e8-e27e0a340523",
   "metadata": {},
   "outputs": [],
   "source": [
    "# fiftyone requires starlette==0.16.0\n",
    "\n",
    "# !pip install starlette==0.16.0"
   ]
  },
  {
   "cell_type": "code",
   "execution_count": 1,
   "id": "4e677e7f-827b-4ca8-b102-44f22abdbd9a",
   "metadata": {},
   "outputs": [
    {
     "name": "stdout",
     "output_type": "stream",
     "text": [
      "['activitynet-100', 'activitynet-200', 'bdd100k', 'caltech101', 'caltech256', 'cifar10', 'cifar100', 'cityscapes', 'coco-2014', 'coco-2017', 'fashion-mnist', 'fiw', 'hmdb51', 'imagenet-2012', 'imagenet-sample', 'kinetics-400', 'kinetics-600', 'kinetics-700', 'kinetics-700-2020', 'kitti', 'kitti-multiview', 'lfw', 'mnist', 'open-images-v6', 'quickstart', 'quickstart-geo', 'quickstart-groups', 'quickstart-video', 'ucf101', 'voc-2007', 'voc-2012']\n",
      "Downloading split 'train' to 'C:\\Users\\johnw\\fiftyone\\coco-2014\\train' if necessary\n",
      "Found annotations at 'C:\\Users\\johnw\\fiftyone\\coco-2014\\raw\\instances_train2014.json'\n",
      "Downloading images to 'C:\\Users\\johnw\\fiftyone\\coco-2014\\tmp-download\\train2014.zip'\n",
      " 100% |████████████████████████████████████████████|  100.7Gb/100.7Gb [1.6h elapsed, 0s remaining, 15.1Mb/s]      \n",
      "Extracting images to 'C:\\Users\\johnw\\fiftyone\\coco-2014\\train\\data'\n",
      "Writing annotations to 'C:\\Users\\johnw\\fiftyone\\coco-2014\\train\\labels.json'\n",
      "Dataset info written to 'C:\\Users\\johnw\\fiftyone\\coco-2014\\info.json'\n",
      "Loading 'coco-2014' split 'train'\n",
      " 100% |█████████████| 82783/82783 [6.9m elapsed, 0s remaining, 204.6 samples/s]      \n",
      "Dataset 'coco-2014-train' created\n"
     ]
    }
   ],
   "source": [
    "import fiftyone as fo\n",
    "import fiftyone.zoo as foz\n",
    "\n",
    "# List available zoo datasets\n",
    "print(foz.list_zoo_datasets())\n",
    "\n",
    "#\n",
    "# Load the COCO-2014 validation split into a FiftyOne dataset\n",
    "#\n",
    "# This will download the dataset from the web, if necessary\n",
    "#\n",
    "dataset = foz.load_zoo_dataset(\"coco-2014\", split=\"train\")\n",
    "\n",
    "# Give the dataset a new name, and make it persistent so that you can\n",
    "# work with it in future sessions\n",
    "dataset.name = \"coco-2014-train-example\"\n",
    "dataset.persistent = True"
   ]
  },
  {
   "cell_type": "code",
   "execution_count": 3,
   "id": "360ce772-54c7-401e-bbe1-405af7eef118",
   "metadata": {},
   "outputs": [
    {
     "data": {
      "text/html": [
       "\n",
       "        <iframe\n",
       "            width=\"100%\"\n",
       "            height=\"800\"\n",
       "            src=\"http://localhost:5151/?context=ipython&subscription=93fc82e8-29e9-428d-acfc-16500bd0b183\"\n",
       "            frameborder=\"0\"\n",
       "            allowfullscreen\n",
       "            \n",
       "        ></iframe>\n",
       "        "
      ],
      "text/plain": [
       "<IPython.lib.display.IFrame at 0x260d6ff5060>"
      ]
     },
     "metadata": {},
     "output_type": "display_data"
    }
   ],
   "source": [
    "# Visualize the in the App\n",
    "session = fo.launch_app(dataset)"
   ]
  },
  {
   "cell_type": "code",
   "execution_count": null,
   "id": "65c19b49-6485-4e72-8528-44bcffc474dc",
   "metadata": {},
   "outputs": [],
   "source": [
    "# virtual env \"575\" requires starlette==0.20.4\n",
    "\n",
    "# !pip install starlette==0.20.4"
   ]
  }
 ],
 "metadata": {
  "kernelspec": {
   "display_name": "Python [conda env:575]",
   "language": "python",
   "name": "conda-env-575-py"
  },
  "language_info": {
   "codemirror_mode": {
    "name": "ipython",
    "version": 3
   },
   "file_extension": ".py",
   "mimetype": "text/x-python",
   "name": "python",
   "nbconvert_exporter": "python",
   "pygments_lexer": "ipython3",
   "version": "3.10.4"
  }
 },
 "nbformat": 4,
 "nbformat_minor": 5
}
