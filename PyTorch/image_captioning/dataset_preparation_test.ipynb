{
 "cells": [
  {
   "cell_type": "markdown",
   "id": "c085c86b-313a-4805-b033-7ced0e0d5383",
   "metadata": {},
   "source": [
    "# Preparation of COCO Dataset (Test)"
   ]
  },
  {
   "cell_type": "code",
   "execution_count": 1,
   "id": "1008b9bf-e8eb-4032-89e8-e27e0a340523",
   "metadata": {},
   "outputs": [],
   "source": [
    "# fiftyone requires starlette==0.16.0\n",
    "\n",
    "# !pip install starlette==0.16.0"
   ]
  },
  {
   "cell_type": "code",
   "execution_count": 2,
   "id": "4e677e7f-827b-4ca8-b102-44f22abdbd9a",
   "metadata": {},
   "outputs": [
    {
     "name": "stdout",
     "output_type": "stream",
     "text": [
      "['activitynet-100', 'activitynet-200', 'bdd100k', 'caltech101', 'caltech256', 'cifar10', 'cifar100', 'cityscapes', 'coco-2014', 'coco-2017', 'fashion-mnist', 'fiw', 'hmdb51', 'imagenet-2012', 'imagenet-sample', 'kinetics-400', 'kinetics-600', 'kinetics-700', 'kinetics-700-2020', 'kitti', 'kitti-multiview', 'lfw', 'mnist', 'open-images-v6', 'quickstart', 'quickstart-geo', 'quickstart-groups', 'quickstart-video', 'ucf101', 'voc-2007', 'voc-2012']\n",
      "Downloading split 'test' to 'C:\\Users\\johnw\\fiftyone\\coco-2014\\test' if necessary\n",
      "Downloading test info to 'C:\\Users\\johnw\\fiftyone\\coco-2014\\tmp-download\\image_info_test2014.zip'\n",
      " 100% |██████████████████████████████████████████████|    5.8Mb/5.8Mb [1.4s elapsed, 0s remaining, 4.2Mb/s]         \n",
      "Extracting test info to 'C:\\Users\\johnw\\fiftyone\\coco-2014\\raw\\image_info_test2014.json'\n",
      "Downloading images to 'C:\\Users\\johnw\\fiftyone\\coco-2014\\tmp-download\\test2014.zip'\n",
      " 100% |█████████████████████████████████████████████|   49.6Gb/49.6Gb [1.1h elapsed, 0s remaining, 25.6Mb/s]      \n",
      "Extracting images to 'C:\\Users\\johnw\\fiftyone\\coco-2014\\test\\data'\n",
      "Writing annotations to 'C:\\Users\\johnw\\fiftyone\\coco-2014\\test\\labels.json'\n",
      "Dataset info written to 'C:\\Users\\johnw\\fiftyone\\coco-2014\\info.json'\n",
      "Loading 'coco-2014' split 'test'\n",
      " 100% |█████████████| 40775/40775 [17.6s elapsed, 0s remaining, 2.4K samples/s]      \n",
      "Dataset 'coco-2014-test' created\n"
     ]
    }
   ],
   "source": [
    "import fiftyone as fo\n",
    "import fiftyone.zoo as foz\n",
    "\n",
    "# List available zoo datasets\n",
    "print(foz.list_zoo_datasets())\n",
    "\n",
    "#\n",
    "# Load the COCO-2014 validation split into a FiftyOne dataset\n",
    "#\n",
    "# This will download the dataset from the web, if necessary\n",
    "#\n",
    "dataset = foz.load_zoo_dataset(\"coco-2014\", split=\"test\")\n",
    "\n",
    "# Give the dataset a new name, and make it persistent so that you can\n",
    "# work with it in future sessions\n",
    "dataset.name = \"coco-2014-test-example\"\n",
    "dataset.persistent = True"
   ]
  },
  {
   "cell_type": "code",
   "execution_count": 3,
   "id": "360ce772-54c7-401e-bbe1-405af7eef118",
   "metadata": {},
   "outputs": [
    {
     "name": "stdout",
     "output_type": "stream",
     "text": [
      "Connected to FiftyOne on port 5151 at localhost.\n",
      "If you are not connecting to a remote session, you may need to start a new session and specify a port\n"
     ]
    },
    {
     "data": {
      "text/html": [
       "\n",
       "        <iframe\n",
       "            width=\"100%\"\n",
       "            height=\"800\"\n",
       "            src=\"http://localhost:5151/?context=ipython&subscription=90cb6d99-96c2-42ec-ba00-4b753a28901a\"\n",
       "            frameborder=\"0\"\n",
       "            allowfullscreen\n",
       "            \n",
       "        ></iframe>\n",
       "        "
      ],
      "text/plain": [
       "<IPython.lib.display.IFrame at 0x1aca138a3e0>"
      ]
     },
     "metadata": {},
     "output_type": "display_data"
    }
   ],
   "source": [
    "# Visualize the in the App\n",
    "session = fo.launch_app(dataset)"
   ]
  },
  {
   "cell_type": "code",
   "execution_count": null,
   "id": "65c19b49-6485-4e72-8528-44bcffc474dc",
   "metadata": {},
   "outputs": [],
   "source": [
    "# virtual env \"575\" requires starlette==0.20.4\n",
    "\n",
    "# !pip install starlette==0.20.4"
   ]
  }
 ],
 "metadata": {
  "kernelspec": {
   "display_name": "Python [conda env:575]",
   "language": "python",
   "name": "conda-env-575-py"
  },
  "language_info": {
   "codemirror_mode": {
    "name": "ipython",
    "version": 3
   },
   "file_extension": ".py",
   "mimetype": "text/x-python",
   "name": "python",
   "nbconvert_exporter": "python",
   "pygments_lexer": "ipython3",
   "version": "3.10.4"
  }
 },
 "nbformat": 4,
 "nbformat_minor": 5
}
