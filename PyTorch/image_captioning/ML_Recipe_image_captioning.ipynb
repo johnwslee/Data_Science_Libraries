{
 "cells": [
  {
   "cell_type": "markdown",
   "id": "f675f882-475b-4595-8ddc-fa5b1399665d",
   "metadata": {},
   "source": [
    "The following codes are originally from [here](https://bipinkrishnan.github.io/ml-recipe-book/image_captioning.html), and slightly modified"
   ]
  },
  {
   "cell_type": "code",
   "execution_count": null,
   "id": "4814369d-ea6e-4465-809a-1913233336b7",
   "metadata": {},
   "outputs": [],
   "source": []
  }
 ],
 "metadata": {
  "kernelspec": {
   "display_name": "Python [conda env:opencv]",
   "language": "python",
   "name": "conda-env-opencv-py"
  },
  "language_info": {
   "codemirror_mode": {
    "name": "ipython",
    "version": 3
   },
   "file_extension": ".py",
   "mimetype": "text/x-python",
   "name": "python",
   "nbconvert_exporter": "python",
   "pygments_lexer": "ipython3",
   "version": "3.8.13"
  }
 },
 "nbformat": 4,
 "nbformat_minor": 5
}
