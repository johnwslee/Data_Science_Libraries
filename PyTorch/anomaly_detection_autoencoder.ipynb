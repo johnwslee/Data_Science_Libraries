{
 "cells": [
  {
   "cell_type": "markdown",
   "id": "cab3fc3c-8e60-4552-934b-45b1f0dcd8f4",
   "metadata": {},
   "source": [
    "# Imports"
   ]
  },
  {
   "cell_type": "code",
   "execution_count": 12,
   "id": "3f8e10fa-1358-4e82-b590-2e87b37e0669",
   "metadata": {},
   "outputs": [],
   "source": [
    "import random\n",
    "\n",
    "import pandas as pd\n",
    "import matplotlib.pyplot as plt\n",
    "import numpy as np\n",
    "import seaborn as sns\n",
    "from collections import defaultdict\n",
    "from datetime import timedelta\n",
    "\n",
    "import time\n",
    "\n",
    "import torch\n",
    "import torch.nn as nn"
   ]
  },
  {
   "cell_type": "markdown",
   "id": "4b48b5bd-5ad8-4953-9928-23fdfe551e34",
   "metadata": {},
   "source": [
    "# Testset Modification (Addition of anomalies)"
   ]
  },
  {
   "cell_type": "code",
   "execution_count": 2,
   "id": "e38ddb02-c379-4c73-aa91-b7b2999c0404",
   "metadata": {},
   "outputs": [
    {
     "data": {
      "text/html": [
       "<div>\n",
       "<style scoped>\n",
       "    .dataframe tbody tr th:only-of-type {\n",
       "        vertical-align: middle;\n",
       "    }\n",
       "\n",
       "    .dataframe tbody tr th {\n",
       "        vertical-align: top;\n",
       "    }\n",
       "\n",
       "    .dataframe thead th {\n",
       "        text-align: right;\n",
       "    }\n",
       "</style>\n",
       "<table border=\"1\" class=\"dataframe\">\n",
       "  <thead>\n",
       "    <tr style=\"text-align: right;\">\n",
       "      <th></th>\n",
       "      <th>label</th>\n",
       "      <th>1x1</th>\n",
       "      <th>1x2</th>\n",
       "      <th>1x3</th>\n",
       "      <th>1x4</th>\n",
       "      <th>1x5</th>\n",
       "      <th>1x6</th>\n",
       "      <th>1x7</th>\n",
       "      <th>1x8</th>\n",
       "      <th>1x9</th>\n",
       "      <th>...</th>\n",
       "      <th>28x19</th>\n",
       "      <th>28x20</th>\n",
       "      <th>28x21</th>\n",
       "      <th>28x22</th>\n",
       "      <th>28x23</th>\n",
       "      <th>28x24</th>\n",
       "      <th>28x25</th>\n",
       "      <th>28x26</th>\n",
       "      <th>28x27</th>\n",
       "      <th>28x28</th>\n",
       "    </tr>\n",
       "  </thead>\n",
       "  <tbody>\n",
       "    <tr>\n",
       "      <th>0</th>\n",
       "      <td>7</td>\n",
       "      <td>0</td>\n",
       "      <td>0</td>\n",
       "      <td>0</td>\n",
       "      <td>0</td>\n",
       "      <td>0</td>\n",
       "      <td>0</td>\n",
       "      <td>0</td>\n",
       "      <td>0</td>\n",
       "      <td>0</td>\n",
       "      <td>...</td>\n",
       "      <td>0</td>\n",
       "      <td>0</td>\n",
       "      <td>0</td>\n",
       "      <td>0</td>\n",
       "      <td>0</td>\n",
       "      <td>0</td>\n",
       "      <td>0</td>\n",
       "      <td>0</td>\n",
       "      <td>0</td>\n",
       "      <td>0</td>\n",
       "    </tr>\n",
       "    <tr>\n",
       "      <th>1</th>\n",
       "      <td>2</td>\n",
       "      <td>0</td>\n",
       "      <td>0</td>\n",
       "      <td>0</td>\n",
       "      <td>0</td>\n",
       "      <td>0</td>\n",
       "      <td>0</td>\n",
       "      <td>0</td>\n",
       "      <td>0</td>\n",
       "      <td>0</td>\n",
       "      <td>...</td>\n",
       "      <td>0</td>\n",
       "      <td>0</td>\n",
       "      <td>0</td>\n",
       "      <td>0</td>\n",
       "      <td>0</td>\n",
       "      <td>0</td>\n",
       "      <td>0</td>\n",
       "      <td>0</td>\n",
       "      <td>0</td>\n",
       "      <td>0</td>\n",
       "    </tr>\n",
       "    <tr>\n",
       "      <th>2</th>\n",
       "      <td>1</td>\n",
       "      <td>0</td>\n",
       "      <td>0</td>\n",
       "      <td>0</td>\n",
       "      <td>0</td>\n",
       "      <td>0</td>\n",
       "      <td>0</td>\n",
       "      <td>0</td>\n",
       "      <td>0</td>\n",
       "      <td>0</td>\n",
       "      <td>...</td>\n",
       "      <td>0</td>\n",
       "      <td>0</td>\n",
       "      <td>0</td>\n",
       "      <td>0</td>\n",
       "      <td>0</td>\n",
       "      <td>0</td>\n",
       "      <td>0</td>\n",
       "      <td>0</td>\n",
       "      <td>0</td>\n",
       "      <td>0</td>\n",
       "    </tr>\n",
       "    <tr>\n",
       "      <th>3</th>\n",
       "      <td>0</td>\n",
       "      <td>0</td>\n",
       "      <td>0</td>\n",
       "      <td>0</td>\n",
       "      <td>0</td>\n",
       "      <td>0</td>\n",
       "      <td>0</td>\n",
       "      <td>0</td>\n",
       "      <td>0</td>\n",
       "      <td>0</td>\n",
       "      <td>...</td>\n",
       "      <td>0</td>\n",
       "      <td>0</td>\n",
       "      <td>0</td>\n",
       "      <td>0</td>\n",
       "      <td>0</td>\n",
       "      <td>0</td>\n",
       "      <td>0</td>\n",
       "      <td>0</td>\n",
       "      <td>0</td>\n",
       "      <td>0</td>\n",
       "    </tr>\n",
       "    <tr>\n",
       "      <th>4</th>\n",
       "      <td>4</td>\n",
       "      <td>0</td>\n",
       "      <td>0</td>\n",
       "      <td>0</td>\n",
       "      <td>0</td>\n",
       "      <td>0</td>\n",
       "      <td>0</td>\n",
       "      <td>0</td>\n",
       "      <td>0</td>\n",
       "      <td>0</td>\n",
       "      <td>...</td>\n",
       "      <td>0</td>\n",
       "      <td>0</td>\n",
       "      <td>0</td>\n",
       "      <td>0</td>\n",
       "      <td>0</td>\n",
       "      <td>0</td>\n",
       "      <td>0</td>\n",
       "      <td>0</td>\n",
       "      <td>0</td>\n",
       "      <td>0</td>\n",
       "    </tr>\n",
       "    <tr>\n",
       "      <th>...</th>\n",
       "      <td>...</td>\n",
       "      <td>...</td>\n",
       "      <td>...</td>\n",
       "      <td>...</td>\n",
       "      <td>...</td>\n",
       "      <td>...</td>\n",
       "      <td>...</td>\n",
       "      <td>...</td>\n",
       "      <td>...</td>\n",
       "      <td>...</td>\n",
       "      <td>...</td>\n",
       "      <td>...</td>\n",
       "      <td>...</td>\n",
       "      <td>...</td>\n",
       "      <td>...</td>\n",
       "      <td>...</td>\n",
       "      <td>...</td>\n",
       "      <td>...</td>\n",
       "      <td>...</td>\n",
       "      <td>...</td>\n",
       "      <td>...</td>\n",
       "    </tr>\n",
       "    <tr>\n",
       "      <th>9995</th>\n",
       "      <td>2</td>\n",
       "      <td>0</td>\n",
       "      <td>0</td>\n",
       "      <td>0</td>\n",
       "      <td>0</td>\n",
       "      <td>0</td>\n",
       "      <td>0</td>\n",
       "      <td>0</td>\n",
       "      <td>0</td>\n",
       "      <td>0</td>\n",
       "      <td>...</td>\n",
       "      <td>0</td>\n",
       "      <td>0</td>\n",
       "      <td>0</td>\n",
       "      <td>0</td>\n",
       "      <td>0</td>\n",
       "      <td>0</td>\n",
       "      <td>0</td>\n",
       "      <td>0</td>\n",
       "      <td>0</td>\n",
       "      <td>0</td>\n",
       "    </tr>\n",
       "    <tr>\n",
       "      <th>9996</th>\n",
       "      <td>3</td>\n",
       "      <td>0</td>\n",
       "      <td>0</td>\n",
       "      <td>0</td>\n",
       "      <td>0</td>\n",
       "      <td>0</td>\n",
       "      <td>0</td>\n",
       "      <td>0</td>\n",
       "      <td>0</td>\n",
       "      <td>0</td>\n",
       "      <td>...</td>\n",
       "      <td>0</td>\n",
       "      <td>0</td>\n",
       "      <td>0</td>\n",
       "      <td>0</td>\n",
       "      <td>0</td>\n",
       "      <td>0</td>\n",
       "      <td>0</td>\n",
       "      <td>0</td>\n",
       "      <td>0</td>\n",
       "      <td>0</td>\n",
       "    </tr>\n",
       "    <tr>\n",
       "      <th>9997</th>\n",
       "      <td>4</td>\n",
       "      <td>0</td>\n",
       "      <td>0</td>\n",
       "      <td>0</td>\n",
       "      <td>0</td>\n",
       "      <td>0</td>\n",
       "      <td>0</td>\n",
       "      <td>0</td>\n",
       "      <td>0</td>\n",
       "      <td>0</td>\n",
       "      <td>...</td>\n",
       "      <td>0</td>\n",
       "      <td>0</td>\n",
       "      <td>0</td>\n",
       "      <td>0</td>\n",
       "      <td>0</td>\n",
       "      <td>0</td>\n",
       "      <td>0</td>\n",
       "      <td>0</td>\n",
       "      <td>0</td>\n",
       "      <td>0</td>\n",
       "    </tr>\n",
       "    <tr>\n",
       "      <th>9998</th>\n",
       "      <td>5</td>\n",
       "      <td>0</td>\n",
       "      <td>0</td>\n",
       "      <td>0</td>\n",
       "      <td>0</td>\n",
       "      <td>0</td>\n",
       "      <td>0</td>\n",
       "      <td>0</td>\n",
       "      <td>0</td>\n",
       "      <td>0</td>\n",
       "      <td>...</td>\n",
       "      <td>0</td>\n",
       "      <td>0</td>\n",
       "      <td>0</td>\n",
       "      <td>0</td>\n",
       "      <td>0</td>\n",
       "      <td>0</td>\n",
       "      <td>0</td>\n",
       "      <td>0</td>\n",
       "      <td>0</td>\n",
       "      <td>0</td>\n",
       "    </tr>\n",
       "    <tr>\n",
       "      <th>9999</th>\n",
       "      <td>6</td>\n",
       "      <td>0</td>\n",
       "      <td>0</td>\n",
       "      <td>0</td>\n",
       "      <td>0</td>\n",
       "      <td>0</td>\n",
       "      <td>0</td>\n",
       "      <td>0</td>\n",
       "      <td>0</td>\n",
       "      <td>0</td>\n",
       "      <td>...</td>\n",
       "      <td>0</td>\n",
       "      <td>0</td>\n",
       "      <td>0</td>\n",
       "      <td>0</td>\n",
       "      <td>0</td>\n",
       "      <td>0</td>\n",
       "      <td>0</td>\n",
       "      <td>0</td>\n",
       "      <td>0</td>\n",
       "      <td>0</td>\n",
       "    </tr>\n",
       "  </tbody>\n",
       "</table>\n",
       "<p>10000 rows × 785 columns</p>\n",
       "</div>"
      ],
      "text/plain": [
       "      label  1x1  1x2  1x3  1x4  1x5  1x6  1x7  1x8  1x9  ...  28x19  28x20  \\\n",
       "0         7    0    0    0    0    0    0    0    0    0  ...      0      0   \n",
       "1         2    0    0    0    0    0    0    0    0    0  ...      0      0   \n",
       "2         1    0    0    0    0    0    0    0    0    0  ...      0      0   \n",
       "3         0    0    0    0    0    0    0    0    0    0  ...      0      0   \n",
       "4         4    0    0    0    0    0    0    0    0    0  ...      0      0   \n",
       "...     ...  ...  ...  ...  ...  ...  ...  ...  ...  ...  ...    ...    ...   \n",
       "9995      2    0    0    0    0    0    0    0    0    0  ...      0      0   \n",
       "9996      3    0    0    0    0    0    0    0    0    0  ...      0      0   \n",
       "9997      4    0    0    0    0    0    0    0    0    0  ...      0      0   \n",
       "9998      5    0    0    0    0    0    0    0    0    0  ...      0      0   \n",
       "9999      6    0    0    0    0    0    0    0    0    0  ...      0      0   \n",
       "\n",
       "      28x21  28x22  28x23  28x24  28x25  28x26  28x27  28x28  \n",
       "0         0      0      0      0      0      0      0      0  \n",
       "1         0      0      0      0      0      0      0      0  \n",
       "2         0      0      0      0      0      0      0      0  \n",
       "3         0      0      0      0      0      0      0      0  \n",
       "4         0      0      0      0      0      0      0      0  \n",
       "...     ...    ...    ...    ...    ...    ...    ...    ...  \n",
       "9995      0      0      0      0      0      0      0      0  \n",
       "9996      0      0      0      0      0      0      0      0  \n",
       "9997      0      0      0      0      0      0      0      0  \n",
       "9998      0      0      0      0      0      0      0      0  \n",
       "9999      0      0      0      0      0      0      0      0  \n",
       "\n",
       "[10000 rows x 785 columns]"
      ]
     },
     "execution_count": 2,
     "metadata": {},
     "output_type": "execute_result"
    }
   ],
   "source": [
    "df = pd.read_csv(\"data/mnist_test.csv\")\n",
    "df"
   ]
  },
  {
   "cell_type": "code",
   "execution_count": 3,
   "id": "fc149481-a9e6-4061-8ade-aa5300f48e68",
   "metadata": {},
   "outputs": [],
   "source": [
    "# Arbitrarily choose first 1000 for corruption\n",
    "\n",
    "anom = df[:1000]\n",
    "clean = df[1000:]"
   ]
  },
  {
   "cell_type": "code",
   "execution_count": 4,
   "id": "06475e41-cb0f-4e29-bc96-e2f596f896e1",
   "metadata": {},
   "outputs": [],
   "source": [
    "# Function for displaying the MNIST image\n",
    "\n",
    "def show_mnist_image(data):\n",
    "    # The first column is the label\n",
    "    label = data[0]\n",
    "    \n",
    "    # The rest of columns are pixels\n",
    "    pixels = data[1:]\n",
    "    \n",
    "    # Make those columns into a array of 8-bits pixels\n",
    "    # This array will be of 1D with length 784\n",
    "    # The pixel intensity values are integers from 0 to 255\n",
    "    pixels = np.array(pixels, dtype='int64')\n",
    "    #print(pixels.shape)\n",
    "    \n",
    "    # Reshape the array into 28 x 28 array (2-dimensional array)\n",
    "    pixels = pixels.reshape((28, 28))\n",
    "    #print(pixels.shape)\n",
    "    \n",
    "    # Plot\n",
    "    plt.title(f\"Label is {label}\")\n",
    "    plt.imshow(pixels, cmap='gray')\n",
    "    plt.show();"
   ]
  },
  {
   "cell_type": "code",
   "execution_count": 5,
   "id": "98ec1ef7-b24b-4b63-80e2-1571816298ea",
   "metadata": {},
   "outputs": [
    {
     "data": {
      "image/png": "[encoded data removed]",
      "text/plain": [
       "<Figure size 432x288 with 1 Axes>"
      ]
     },
     "metadata": {
      "needs_background": "light"
     },
     "output_type": "display_data"
    }
   ],
   "source": [
    "show_mnist_image(df.iloc[0])"
   ]
  },
  {
   "cell_type": "code",
   "execution_count": 6,
   "id": "ad289acb-4bc3-4ef8-af9d-4a9f81dbc76f",
   "metadata": {},
   "outputs": [],
   "source": [
    "# Apply corruption\n",
    "\n",
    "for i in range(len(anom)):\n",
    "    # select row from anom\n",
    "    row = anom.iloc[i]\n",
    "    # iterate through each element in row\n",
    "    for i in range(len(row)-1):\n",
    "        # add noise to element\n",
    "        row[i+1] = min(255, row[i+1]+random.randint(100,200))"
   ]
  },
  {
   "cell_type": "code",
   "execution_count": 7,
   "id": "809763ce-c7e6-40d2-bcca-e7722b9c921b",
   "metadata": {},
   "outputs": [
    {
     "name": "stderr",
     "output_type": "stream",
     "text": [
      "C:\\Users\\johnw\\AppData\\Local\\Temp\\ipykernel_25040\\1565456563.py:3: SettingWithCopyWarning: \n",
      "A value is trying to be set on a copy of a slice from a DataFrame.\n",
      "Try using .loc[row_indexer,col_indexer] = value instead\n",
      "\n",
      "See the caveats in the documentation: https://pandas.pydata.org/pandas-docs/stable/user_guide/indexing.html#returning-a-view-versus-a-copy\n",
      "  anom.loc[:, 'label'] = 1\n",
      "C:\\Users\\johnw\\AppData\\Local\\Temp\\ipykernel_25040\\1565456563.py:4: SettingWithCopyWarning: \n",
      "A value is trying to be set on a copy of a slice from a DataFrame.\n",
      "Try using .loc[row_indexer,col_indexer] = value instead\n",
      "\n",
      "See the caveats in the documentation: https://pandas.pydata.org/pandas-docs/stable/user_guide/indexing.html#returning-a-view-versus-a-copy\n",
      "  clean.loc[:, 'label'] = 0\n"
     ]
    }
   ],
   "source": [
    "# Change the label (1 for anomaly, 0 for clean)\n",
    "\n",
    "anom.loc[:, 'label'] = 1\n",
    "clean.loc[:, 'label'] = 0"
   ]
  },
  {
   "cell_type": "code",
   "execution_count": 8,
   "id": "0664a49e-4cb6-4ed2-b6c4-b496e89c1d97",
   "metadata": {},
   "outputs": [
    {
     "data": {
      "image/png": "[encoded data removed]",
      "text/plain": [
       "<Figure size 864x432 with 2 Axes>"
      ]
     },
     "metadata": {
      "needs_background": "light"
     },
     "output_type": "display_data"
    }
   ],
   "source": [
    "fig, axs = plt.subplots(1, 2, figsize=(12, 6))\n",
    "\n",
    "axs[0].imshow(np.array(clean.iloc[0, 1:]).reshape(28, 28), cmap='gray')\n",
    "axs[1].imshow(np.array(anom.iloc[0, 1:]).reshape(28, 28), cmap='gray')\n",
    "\n",
    "plt.show();"
   ]
  },
  {
   "cell_type": "code",
   "execution_count": 9,
   "id": "0c4fc182-cf4c-4bc6-941a-a4d91ac53d55",
   "metadata": {},
   "outputs": [],
   "source": [
    "# Recombine the test sets\n",
    "\n",
    "an_test = pd.concat([anom, clean])  # join\n",
    "an_test.sample(frac=1)              # shuffle\n",
    "an_test.to_csv('data/mnist_test_anom.csv')          # save"
   ]
  },
  {
   "cell_type": "markdown",
   "id": "8697dd46-d768-45be-988b-d3b03e6aca4e",
   "metadata": {},
   "source": [
    "# Autoencoder"
   ]
  },
  {
   "cell_type": "code",
   "execution_count": 11,
   "id": "c3b970a7-8663-4267-b605-965dc428af8a",
   "metadata": {},
   "outputs": [],
   "source": [
    "# Autoencoder Class\n",
    "\n",
    "class AE(nn.Module):\n",
    "    def __init__(self):\n",
    "        super(AE, self).__init__()\n",
    "        \n",
    "        self.enc = nn.Sequential(\n",
    "            nn.Linear(784, 512),\n",
    "            nn.ReLU(),\n",
    "            nn.Linear(512, 256),\n",
    "            nn.ReLU(),\n",
    "            nn.Linear(256, 128),\n",
    "            nn.ReLU(),\n",
    "            nn.Linear(128, 64),\n",
    "            nn.ReLU(),\n",
    "            nn.Linear(64, 32),\n",
    "            nn.ReLU(),\n",
    "            nn.Linear(32, 16),\n",
    "            nn.ReLU()\n",
    "        )\n",
    "        \n",
    "        self.dec = nn.Sequential(\n",
    "            nn.Linear(16, 32),\n",
    "            nn.ReLU(),\n",
    "            nn.Linear(32, 64),\n",
    "            nn.ReLU(),\n",
    "            nn.Linear(64, 128),\n",
    "            nn.ReLU(),\n",
    "            nn.Linear(128, 256),\n",
    "            nn.ReLU(),\n",
    "            nn.Linear(256, 512),\n",
    "            nn.ReLU(),\n",
    "            nn.Linear(512, 784),\n",
    "            nn.ReLU()\n",
    "        )\n",
    "        \n",
    "    def forward(self, x):\n",
    "        encode = self.enc(x)\n",
    "        decode = self.dec(encode)\n",
    "        return decode"
   ]
  },
  {
   "cell_type": "code",
   "execution_count": 20,
   "id": "ca78cc42-4eea-46dc-8cf7-c57cbcd3b446",
   "metadata": {},
   "outputs": [],
   "source": [
    "# Training Parameters\n",
    "\n",
    "batch_size = 32\n",
    "lr = 1e-2   # learning rate\n",
    "w_d = 1e-5  # weight decay\n",
    "momentum = 0.9\n",
    "epochs = 15"
   ]
  },
  {
   "cell_type": "code",
   "execution_count": 16,
   "id": "1e2e8615-1181-4463-b417-c7021d410cb8",
   "metadata": {},
   "outputs": [],
   "source": [
    "# Loader Preparation\n",
    "\n",
    "class Loader(torch.utils.data.Dataset):\n",
    "    def __init__(self):\n",
    "        super(Loader, self).__init__()\n",
    "        self.dataset = ''\n",
    "        \n",
    "    def __len__(self):\n",
    "        return len(self.dataset)\n",
    "    \n",
    "    def __getitem__(self, idx):\n",
    "        row = self.dataset.iloc[idx]\n",
    "        row = row.drop(labels={'label'})\n",
    "        data = torch.from_numpy(np.array(row)/255).float()  # Normalize\n",
    "        return data\n",
    "    \n",
    "class TrainLoader(Loader):\n",
    "    def __init__(self):\n",
    "        super(TrainLoader, self).__init__()\n",
    "        self.dataset = pd.read_csv(\n",
    "            'data/mnist_train.csv', index_col=False\n",
    "        )"
   ]
  },
  {
   "cell_type": "code",
   "execution_count": 18,
   "id": "422d94b6-ebf4-42b4-99b0-cfddbe6ce938",
   "metadata": {},
   "outputs": [],
   "source": [
    "train_set = TrainLoader()\n",
    "\n",
    "train_ = torch.utils.data.DataLoader(\n",
    "    train_set,\n",
    "    batch_size=batch_size,\n",
    "    shuffle=True,\n",
    "    #num_workers=20,\n",
    "    pin_memory=True,\n",
    "    drop_last=True\n",
    ")"
   ]
  },
  {
   "cell_type": "code",
   "execution_count": 19,
   "id": "97d64e11-07ce-4c5f-a15c-dcab497e8082",
   "metadata": {},
   "outputs": [],
   "source": [
    "metrics = defaultdict(list)\n",
    "device = 'cpu'       #'cuda' if torch.cuda.is_available() else 'cpu'\n",
    "model = AE()\n",
    "model.to(device)\n",
    "criterion = nn.MSELoss(reduction='mean')\n",
    "optimizer = torch.optim.SGD(model.parameters(), lr=lr, weight_decay=w_d)"
   ]
  },
  {
   "cell_type": "code",
   "execution_count": 21,
   "id": "6263ac32-695e-4838-82ed-de4c3100316d",
   "metadata": {},
   "outputs": [
    {
     "name": "stdout",
     "output_type": "stream",
     "text": [
      "-----------------------------------------------\n",
      "[EPOCH] 1/15\n",
      "[LOSS] 0.003334212969491879\n",
      "Epoch Complete in 0:00:52.290729\n",
      "-----------------------------------------------\n",
      "[EPOCH] 2/15\n",
      "[LOSS] 0.0032093239823977153\n",
      "Epoch Complete in 0:00:53.850002\n",
      "-----------------------------------------------\n",
      "[EPOCH] 3/15\n",
      "[LOSS] 0.003076708834245801\n",
      "Epoch Complete in 0:00:56.119001\n",
      "-----------------------------------------------\n",
      "[EPOCH] 4/15\n",
      "[LOSS] 0.002933588745072484\n",
      "Epoch Complete in 0:00:55.694000\n",
      "-----------------------------------------------\n",
      "[EPOCH] 5/15\n",
      "[LOSS] 0.0027886547488470874\n",
      "Epoch Complete in 0:00:55.049998\n",
      "-----------------------------------------------\n",
      "[EPOCH] 6/15\n",
      "[LOSS] 0.0026631632181505363\n",
      "Epoch Complete in 0:00:55.981845\n",
      "-----------------------------------------------\n",
      "[EPOCH] 7/15\n",
      "[LOSS] 0.00258800105266273\n",
      "Epoch Complete in 0:00:58.348034\n",
      "-----------------------------------------------\n",
      "[EPOCH] 8/15\n",
      "[LOSS] 0.002553125945975383\n",
      "Epoch Complete in 0:00:57.150966\n",
      "-----------------------------------------------\n",
      "[EPOCH] 9/15\n",
      "[LOSS] 0.002539809657012423\n",
      "Epoch Complete in 0:00:58.416999\n",
      "-----------------------------------------------\n",
      "[EPOCH] 10/15\n",
      "[LOSS] 0.0025348565850406885\n",
      "Epoch Complete in 0:00:57.975999\n",
      "-----------------------------------------------\n",
      "[EPOCH] 11/15\n",
      "[LOSS] 0.0025329038083553314\n",
      "Epoch Complete in 0:00:58.297002\n",
      "-----------------------------------------------\n",
      "[EPOCH] 12/15\n",
      "[LOSS] 0.0025321108474085727\n",
      "Epoch Complete in 0:00:58.503999\n",
      "-----------------------------------------------\n",
      "[EPOCH] 13/15\n",
      "[LOSS] 0.0025317840568721294\n",
      "Epoch Complete in 0:00:57.367034\n",
      "-----------------------------------------------\n",
      "[EPOCH] 14/15\n",
      "[LOSS] 0.0025316485681881507\n",
      "Epoch Complete in 0:00:57.274999\n",
      "-----------------------------------------------\n",
      "[EPOCH] 15/15\n",
      "[LOSS] 0.0025315917459626993\n",
      "Epoch Complete in 0:00:55.948965\n",
      "-----------------------------------------------\n",
      "[System Complete: 0:14:08.272573]\n"
     ]
    }
   ],
   "source": [
    "# Training\n",
    "\n",
    "model.train()\n",
    "start = time.time()\n",
    "for epoch in range(epochs):\n",
    "    ep_start = time.time()\n",
    "    running_loss = 0.0\n",
    "    for bx, (data) in enumerate(train_):\n",
    "        sample = model(data.to(device))\n",
    "        loss = criterion(data.to(device), sample)\n",
    "        optimizer.zero_grad()\n",
    "        loss.backward()\n",
    "        optimizer.step()\n",
    "        running_loss += loss.item()\n",
    "    epoch_loss = running_loss/len(train_set)\n",
    "    metrics['train_loss'].append(epoch_loss)\n",
    "    ep_end = time.time()\n",
    "    print('-----------------------------------------------')\n",
    "    print('[EPOCH] {}/{}\\n[LOSS] {}'.format(epoch+1,epochs,epoch_loss))\n",
    "    print('Epoch Complete in {}'.format(timedelta(seconds=ep_end-ep_start)))\n",
    "end = time.time()\n",
    "print('-----------------------------------------------')\n",
    "print('[System Complete: {}]'.format(timedelta(seconds=end-start)))"
   ]
  },
  {
   "cell_type": "code",
   "execution_count": 22,
   "id": "bf2c7326-97e0-4e42-8af7-2663c0d8d39e",
   "metadata": {},
   "outputs": [
    {
     "data": {
      "text/plain": [
       "[<matplotlib.lines.Line2D at 0x29f84bbe2f0>]"
      ]
     },
     "execution_count": 22,
     "metadata": {},
     "output_type": "execute_result"
    },
    {
     "data": {
      "image/png": "[encoded data removed]",
      "text/plain": [
       "<Figure size 1080x720 with 1 Axes>"
      ]
     },
     "metadata": {
      "needs_background": "light"
     },
     "output_type": "display_data"
    }
   ],
   "source": [
    "# Training Loss\n",
    "\n",
    "_, ax = plt.subplots(1,1,figsize=(15,10))\n",
    "ax.set_title('Loss')\n",
    "ax.plot(metrics['train_loss'])"
   ]
  },
  {
   "cell_type": "markdown",
   "id": "c7df84e6-1f58-4cc3-bb0f-3a8eb3721190",
   "metadata": {},
   "source": [
    "# Prediction"
   ]
  },
  {
   "cell_type": "code",
   "execution_count": 23,
   "id": "34999d09-1ae8-41da-9d8a-9c5e1d9c278a",
   "metadata": {},
   "outputs": [],
   "source": [
    "model.eval()\n",
    "loss_dist = []\n",
    "anom = pd.read_csv('data/mnist_test_anom.csv', index_col=[0])\n",
    "#for bx, data in enumerate(test_):\n",
    "for i in range(len(anom)):\n",
    "    data = torch.from_numpy(np.array(anom.iloc[i][1:])/255).float()\n",
    "    sample = model(data.to(device))\n",
    "    loss = criterion(data.to(device), sample)\n",
    "    loss_dist.append(loss.item())"
   ]
  },
  {
   "cell_type": "markdown",
   "id": "a70e6f73-56a5-4e4b-8d9d-06253c37ffac",
   "metadata": {},
   "source": [
    "# Result Analysis"
   ]
  },
  {
   "cell_type": "code",
   "execution_count": 24,
   "id": "7e246972-512a-4dac-b5f1-f4e58cb3d871",
   "metadata": {},
   "outputs": [
    {
     "data": {
      "text/plain": [
       "<matplotlib.lines.Line2D at 0x29f84e081c0>"
      ]
     },
     "execution_count": 24,
     "metadata": {},
     "output_type": "execute_result"
    },
    {
     "data": {
      "image/png": "[encoded data removed]",
      "text/plain": [
       "<Figure size 432x288 with 1 Axes>"
      ]
     },
     "metadata": {
      "needs_background": "light"
     },
     "output_type": "display_data"
    }
   ],
   "source": [
    "# Loss Comparison\n",
    "\n",
    "loss_sc = []\n",
    "for i in loss_dist:\n",
    "    loss_sc.append((i,i))\n",
    "plt.scatter(*zip(*loss_sc))\n",
    "plt.axvline(0.3, 0.0, 1)"
   ]
  },
  {
   "cell_type": "code",
   "execution_count": 25,
   "id": "b27d28a2-e34d-4b41-bfbc-0be7deed34b4",
   "metadata": {},
   "outputs": [
    {
     "name": "stderr",
     "output_type": "stream",
     "text": [
      "C:\\Users\\johnw\\miniconda3\\envs\\575\\lib\\site-packages\\seaborn\\distributions.py:2619: FutureWarning: `distplot` is a deprecated function and will be removed in a future version. Please adapt your code to use either `displot` (a figure-level function with similar flexibility) or `histplot` (an axes-level function for histograms).\n",
      "  warnings.warn(msg, FutureWarning)\n"
     ]
    },
    {
     "data": {
      "text/plain": [
       "<matplotlib.lines.Line2D at 0x29f8582ab90>"
      ]
     },
     "execution_count": 25,
     "metadata": {},
     "output_type": "execute_result"
    },
    {
     "data": {
      "image/png": "[encoded data removed]",
      "text/plain": [
       "<Figure size 864x432 with 1 Axes>"
      ]
     },
     "metadata": {
      "needs_background": "light"
     },
     "output_type": "display_data"
    }
   ],
   "source": [
    "lower_threshold = 0.0\n",
    "upper_threshold = 0.3\n",
    "plt.figure(figsize=(12,6))\n",
    "plt.title('Loss Distribution')\n",
    "sns.distplot(loss_dist,bins=100,kde=True, color='blue')\n",
    "plt.axvline(upper_threshold, 0.0, 10, color='r')\n",
    "plt.axvline(lower_threshold, 0.0, 10, color='b')"
   ]
  },
  {
   "cell_type": "markdown",
   "id": "e382b3bc-3dcf-492f-8582-10fdb08821d6",
   "metadata": {},
   "source": [
    "# Matching anomalies and loss values"
   ]
  },
  {
   "cell_type": "code",
   "execution_count": 26,
   "id": "de021df3-3dbd-4d9e-ada6-79980580e5d6",
   "metadata": {},
   "outputs": [
    {
     "name": "stdout",
     "output_type": "stream",
     "text": [
      "[TP] 998\t[FP] 0\t[MISSED] 2\n",
      "[TN] 9000\t[FN] 2\n"
     ]
    }
   ],
   "source": [
    "df = pd.read_csv('data/mnist_test_anom.csv', index_col=[0])\n",
    "ddf = pd.DataFrame(columns=df.columns)\n",
    "tp = 0\n",
    "fp = 0\n",
    "tn = 0\n",
    "fn = 0\n",
    "total_anom = 0\n",
    "for i in range(len(loss_dist)):\n",
    "    total_anom += df.iloc[i]['label']\n",
    "    if loss_dist[i] >= upper_threshold:\n",
    "        n_df = pd.DataFrame([df.iloc[i]])\n",
    "        n_df['loss'] = loss_dist[i]\n",
    "        ddf = pd.concat([df,n_df], sort = True)\n",
    "        if float(df.iloc[i]['label']) == 1.0:\n",
    "            tp += 1\n",
    "        else:\n",
    "            fp += 1\n",
    "    else:\n",
    "        if float(df.iloc[i]['label']) == 1.0:\n",
    "            fn += 1\n",
    "        else:\n",
    "            tn += 1\n",
    "print('[TP] {}\\t[FP] {}\\t[MISSED] {}'.format(tp, fp, total_anom-tp))\n",
    "print('[TN] {}\\t[FN] {}'.format(tn, fn))"
   ]
  },
  {
   "cell_type": "code",
   "execution_count": 35,
   "id": "cea4c497-bf50-40db-8578-6e0fe618d648",
   "metadata": {},
   "outputs": [
    {
     "data": {
      "image/png": "[encoded data removed]",
      "text/plain": [
       "<Figure size 432x288 with 2 Axes>"
      ]
     },
     "metadata": {
      "needs_background": "light"
     },
     "output_type": "display_data"
    }
   ],
   "source": [
    "# Confusion Matrix\n",
    "\n",
    "conf = [[tn,fp],[fn,tp]]\n",
    "plt.figure()\n",
    "sns.heatmap(conf,annot=True,annot_kws={\"size\": 16},fmt='g')\n",
    "plt.xlabel(\"Predict\")\n",
    "plt.ylabel(\"Actual\")\n",
    "plt.show()"
   ]
  },
  {
   "cell_type": "code",
   "execution_count": null,
   "id": "9f6d996c-8243-4543-925d-3051746a363d",
   "metadata": {},
   "outputs": [],
   "source": []
  }
 ],
 "metadata": {
  "kernelspec": {
   "display_name": "Python [conda env:575]",
   "language": "python",
   "name": "conda-env-575-py"
  },
  "language_info": {
   "codemirror_mode": {
    "name": "ipython",
    "version": 3
   },
   "file_extension": ".py",
   "mimetype": "text/x-python",
   "name": "python",
   "nbconvert_exporter": "python",
   "pygments_lexer": "ipython3",
   "version": "3.10.4"
  }
 },
 "nbformat": 4,
 "nbformat_minor": 5
}
