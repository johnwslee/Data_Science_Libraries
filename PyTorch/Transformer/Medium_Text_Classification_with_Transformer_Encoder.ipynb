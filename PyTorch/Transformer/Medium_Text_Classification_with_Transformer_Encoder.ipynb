{
 "cells": [
  {
   "cell_type": "markdown",
   "id": "b042aadd-37b7-4875-ab1d-5d24eab11e41",
   "metadata": {},
   "source": [
    "The following is from [this article](https://medium.com/towards-data-science/text-classification-with-transformer-encoders-1dcaa50dabae) in Medium."
   ]
  },
  {
   "cell_type": "markdown",
   "id": "18cd0b95-07c2-43ad-8070-1636f315cf69",
   "metadata": {},
   "source": [
    "Transformer is, without a doubt, one of the most important breakthroughs in the field of deep learning. The encoder-decoder architecture of this model has proven to be powerful in cross-domain applications.\n",
    "\n",
    "Initially, Transformer was used solely for language modeling tasks, such as machine translation, text generation, text classification, question-answering, etc. However, recently, Transformer has also been used for computer vision tasks, such as image classification, object detection, and semantic segmentation.\n",
    "\n",
    "Given its popularity and the existence of numerous Transformer-based sophisticated models such as BERT, Vision-Transformer, Swin-Transformer, and the GPT family, it is crucial for us to understand the inner workings of the Transformer architecture.\n",
    "\n",
    "In this article, we will dissect only the encoder part of Transformer, which can be used mainly for classification purposes. Specifically, we will use the Transformer encoders to classify texts. Without further ado, let’s first take a look at the dataset that we’re going to use in this article."
   ]
  },
  {
   "cell_type": "markdown",
   "id": "285e6e24-2251-4e45-89c0-eb77a78bc492",
   "metadata": {},
   "source": [
    "# 1. About the Dataset"
   ]
  },
  {
   "cell_type": "markdown",
   "id": "3b657784-1b57-46ac-9bf7-e141210f7e26",
   "metadata": {},
   "source": [
    "The dataset that we’re going to use is the email dataset. You can download this dataset on Kaggle via this [link](https://www.kaggle.com/datasets/team-ai/spam-text-message-classification?resource=download). This dataset is licensed under CC0: Public Domain, which means that you can use and distribute this dataset freely."
   ]
  },
  {
   "cell_type": "code",
   "execution_count": 1,
   "id": "5188b1bc-6557-4530-9387-78919f2447cf",
   "metadata": {},
   "outputs": [],
   "source": [
    "import math\n",
    "\n",
    "import pandas as pd\n",
    "import torch\n",
    "import torch.nn as nn\n",
    "import torchtext\n",
    "from sklearn.model_selection import train_test_split\n",
    "from torch.utils.data import DataLoader\n",
    "from torchtext.data.utils import get_tokenizer\n",
    "from torchtext.vocab import build_vocab_from_iterator\n",
    "from tqdm import tqdm"
   ]
  },
  {
   "cell_type": "code",
   "execution_count": 2,
   "id": "4ab2bc5c-c71c-480e-ab3a-e5f45d768f3f",
   "metadata": {},
   "outputs": [],
   "source": [
    "device = torch.device(\"cuda\" if torch.cuda.is_available() else \"cpu\")"
   ]
  },
  {
   "cell_type": "code",
   "execution_count": 3,
   "id": "80651f97-14e0-4eb3-8799-e9f04ac60b33",
   "metadata": {},
   "outputs": [
    {
     "data": {
      "text/plain": [
       "device(type='cuda')"
      ]
     },
     "execution_count": 3,
     "metadata": {},
     "output_type": "execute_result"
    }
   ],
   "source": [
    "device"
   ]
  },
  {
   "cell_type": "code",
   "execution_count": 4,
   "id": "103ca040-4737-49d0-aa90-f8c6bd78f8aa",
   "metadata": {},
   "outputs": [],
   "source": [
    "df = pd.read_csv(\"spam_ham.csv\")"
   ]
  },
  {
   "cell_type": "code",
   "execution_count": 5,
   "id": "26c2c4e4-5caf-41fd-96b0-4bfbb2f56dcb",
   "metadata": {},
   "outputs": [],
   "source": [
    "df_train, df_test = train_test_split(df, test_size=0.2, random_state=42)"
   ]
  },
  {
   "cell_type": "code",
   "execution_count": 6,
   "id": "d5673bf6-c3f9-487c-a602-578bd2dc9a46",
   "metadata": {},
   "outputs": [
    {
     "data": {
      "text/html": [
       "<div>\n",
       "<style scoped>\n",
       "    .dataframe tbody tr th:only-of-type {\n",
       "        vertical-align: middle;\n",
       "    }\n",
       "\n",
       "    .dataframe tbody tr th {\n",
       "        vertical-align: top;\n",
       "    }\n",
       "\n",
       "    .dataframe thead th {\n",
       "        text-align: right;\n",
       "    }\n",
       "</style>\n",
       "<table border=\"1\" class=\"dataframe\">\n",
       "  <thead>\n",
       "    <tr style=\"text-align: right;\">\n",
       "      <th></th>\n",
       "      <th>Category</th>\n",
       "      <th>Message</th>\n",
       "    </tr>\n",
       "  </thead>\n",
       "  <tbody>\n",
       "    <tr>\n",
       "      <th>1978</th>\n",
       "      <td>spam</td>\n",
       "      <td>Reply to win £100 weekly! Where will the 2006 ...</td>\n",
       "    </tr>\n",
       "    <tr>\n",
       "      <th>3989</th>\n",
       "      <td>ham</td>\n",
       "      <td>Hello. Sort of out in town already. That . So ...</td>\n",
       "    </tr>\n",
       "    <tr>\n",
       "      <th>3935</th>\n",
       "      <td>ham</td>\n",
       "      <td>How come guoyang go n tell her? Then u told her?</td>\n",
       "    </tr>\n",
       "    <tr>\n",
       "      <th>4078</th>\n",
       "      <td>ham</td>\n",
       "      <td>Hey sathya till now we dint meet not even a si...</td>\n",
       "    </tr>\n",
       "    <tr>\n",
       "      <th>4086</th>\n",
       "      <td>spam</td>\n",
       "      <td>Orange brings you ringtones from all time Char...</td>\n",
       "    </tr>\n",
       "  </tbody>\n",
       "</table>\n",
       "</div>"
      ],
      "text/plain": [
       "     Category                                            Message\n",
       "1978     spam  Reply to win £100 weekly! Where will the 2006 ...\n",
       "3989      ham  Hello. Sort of out in town already. That . So ...\n",
       "3935      ham   How come guoyang go n tell her? Then u told her?\n",
       "4078      ham  Hey sathya till now we dint meet not even a si...\n",
       "4086     spam  Orange brings you ringtones from all time Char..."
      ]
     },
     "execution_count": 6,
     "metadata": {},
     "output_type": "execute_result"
    }
   ],
   "source": [
    "df_train.head()"
   ]
  },
  {
   "cell_type": "code",
   "execution_count": 7,
   "id": "d8c3917a-8291-4064-b126-15b882bd6253",
   "metadata": {},
   "outputs": [
    {
     "data": {
      "text/plain": [
       "Category\n",
       "ham     3859\n",
       "spam     598\n",
       "Name: count, dtype: int64"
      ]
     },
     "execution_count": 7,
     "metadata": {},
     "output_type": "execute_result"
    }
   ],
   "source": [
    "df_train[\"Category\"].value_counts()"
   ]
  },
  {
   "cell_type": "markdown",
   "id": "9db924f6-6784-4e21-86bf-4301a4f25ebc",
   "metadata": {},
   "source": [
    "The task is very simple: it’s a binary classification problem and given a text of an email, our Transformer encoder model needs to predict whether that text is a spam or not.\n",
    "\n",
    "Next, let’s create a label mapping from the label to its index, i.e ‘ham’ would be 0 and ‘spam’ would be 1."
   ]
  },
  {
   "cell_type": "code",
   "execution_count": 8,
   "id": "24c6e4a7-ae1b-4975-93cd-6bfb02664b95",
   "metadata": {},
   "outputs": [],
   "source": [
    "# labels = df_train[\"Category\"].unique()  <- this gives [\"spam\", \"ham\"]\n",
    "labels = [\"ham\", \"spam\"]"
   ]
  },
  {
   "cell_type": "code",
   "execution_count": 9,
   "id": "5019d68c-6214-455a-a347-e11be09f23d4",
   "metadata": {},
   "outputs": [
    {
     "data": {
      "text/plain": [
       "['ham', 'spam']"
      ]
     },
     "execution_count": 9,
     "metadata": {},
     "output_type": "execute_result"
    }
   ],
   "source": [
    "labels"
   ]
  },
  {
   "cell_type": "code",
   "execution_count": 10,
   "id": "cc73dae3-a726-4d04-83c7-ab3fe4bcd698",
   "metadata": {},
   "outputs": [],
   "source": [
    "num_labels = len(labels)"
   ]
  },
  {
   "cell_type": "code",
   "execution_count": 11,
   "id": "38e86c35-f8d6-41cf-8e6d-4b4547b15bf5",
   "metadata": {},
   "outputs": [],
   "source": [
    "label2id, id2label = dict(), dict()"
   ]
  },
  {
   "cell_type": "code",
   "execution_count": 12,
   "id": "eed5cbc1-c9f4-4680-9c40-9684d490173e",
   "metadata": {},
   "outputs": [],
   "source": [
    "for i, label in enumerate(labels):\n",
    "    label2id[label] = i\n",
    "    id2label[i] = label"
   ]
  },
  {
   "cell_type": "code",
   "execution_count": 13,
   "id": "92a202da-3e4f-4017-afc9-7e6d92ca003a",
   "metadata": {},
   "outputs": [
    {
     "data": {
      "text/plain": [
       "{0: 'ham', 1: 'spam'}"
      ]
     },
     "execution_count": 13,
     "metadata": {},
     "output_type": "execute_result"
    }
   ],
   "source": [
    "id2label"
   ]
  },
  {
   "cell_type": "code",
   "execution_count": 14,
   "id": "c05bb77d-00a0-4172-915c-c87a8682666d",
   "metadata": {},
   "outputs": [
    {
     "data": {
      "text/plain": [
       "{'ham': 0, 'spam': 1}"
      ]
     },
     "execution_count": 14,
     "metadata": {},
     "output_type": "execute_result"
    }
   ],
   "source": [
    "label2id"
   ]
  },
  {
   "cell_type": "markdown",
   "id": "0cf7e278-5014-49be-812f-e63c64c30656",
   "metadata": {},
   "source": [
    "Now let’s get into the overall workflow of a Transformer encoder model."
   ]
  },
  {
   "cell_type": "markdown",
   "id": "cf747408-9cab-4b33-841f-9e23f23298a0",
   "metadata": {},
   "source": [
    "# 2. How Transformer Encoder Works"
   ]
  },
  {
   "cell_type": "markdown",
   "id": "68dfe717-5ded-4ef1-8964-e33e5d12cfc3",
   "metadata": {},
   "source": [
    "To understand how Transformer encoder works, let’s start from the very beginning of the process, which is data preprocessing.\n",
    "\n",
    "As you already know, we will be dealing with text data in this article and Transformer can’t process text in its raw format. Hence, what we’re going to do first is transform our text into a machine-readable format, which can be achieved by the tokenization process."
   ]
  },
  {
   "cell_type": "markdown",
   "id": "4550bde2-7624-40ad-98eb-968dbbac9eff",
   "metadata": {},
   "source": [
    "## 2.1. Tokenization"
   ]
  },
  {
   "cell_type": "markdown",
   "id": "8a8bb33f-efb3-48e8-941c-46d30c601381",
   "metadata": {},
   "source": [
    "Tokenization is the process of splitting the input text into tokens. A token can consist of one character, one word, or one subword, depending on the type of tokenizer used. In this post, we will be using word-level tokenization, which means that each token represents one word."
   ]
  },
  {
   "cell_type": "code",
   "execution_count": 15,
   "id": "50132c60-b362-4110-9690-eb4f77ce6bbe",
   "metadata": {},
   "outputs": [],
   "source": [
    "# Load tokenizer\n",
    "tokenizer = get_tokenizer(\"basic_english\")"
   ]
  },
  {
   "cell_type": "code",
   "execution_count": 16,
   "id": "166c84f4-06fe-4f31-a86d-7dd32af17f8e",
   "metadata": {},
   "outputs": [],
   "source": [
    "text = \"this is text\""
   ]
  },
  {
   "cell_type": "code",
   "execution_count": 17,
   "id": "20ebe2ef-331a-4f99-aac7-4064aae0d6c7",
   "metadata": {},
   "outputs": [
    {
     "data": {
      "text/plain": [
       "['this', 'is', 'text']"
      ]
     },
     "execution_count": 17,
     "metadata": {},
     "output_type": "execute_result"
    }
   ],
   "source": [
    "tokenizer(text)"
   ]
  },
  {
   "cell_type": "markdown",
   "id": "e83d0e5b-3737-4ff7-8023-f4a7c89ac15e",
   "metadata": {},
   "source": [
    "Next, each token will be mapped into its integer representation according to the so-called vocabulary.\n",
    "\n",
    "Vocabulary is basically a collection of characters, words, or subwords and their integer mappings. Since we’re tokenizing our text at a word-level, then our vocabulary would be a collection of words and their integer mappings.\n",
    "\n",
    "Let’s build a vocabulary based on our training dataset:"
   ]
  },
  {
   "cell_type": "code",
   "execution_count": 18,
   "id": "fc2e3984-6759-4f9f-a0a4-52e5005a0b0e",
   "metadata": {},
   "outputs": [],
   "source": [
    "# Initialize training data iterator\n",
    "class TextIter(torch.utils.data.Dataset):\n",
    "    def __init__(self, input_data):\n",
    "        self.text = input_data[\"Message\"].values.tolist()\n",
    "\n",
    "    def __len__(self):\n",
    "        return len(self.text)\n",
    "\n",
    "    def __getitem__(self, idx):\n",
    "        return self.text[idx]"
   ]
  },
  {
   "cell_type": "code",
   "execution_count": 19,
   "id": "a259eccc-0af8-4aff-be94-a29698e7c367",
   "metadata": {},
   "outputs": [],
   "source": [
    "# Build vocabulary\n",
    "def yield_tokens(data_iter):\n",
    "    for text in data_iter:\n",
    "        yield tokenizer(text)"
   ]
  },
  {
   "cell_type": "code",
   "execution_count": 20,
   "id": "82938f73-d601-462e-9eff-ac3aeeea9ad5",
   "metadata": {},
   "outputs": [],
   "source": [
    "data_iter = TextIter(df_train)"
   ]
  },
  {
   "cell_type": "code",
   "execution_count": 21,
   "id": "21d6b3d0-f91e-4994-a42e-02f1714fef39",
   "metadata": {},
   "outputs": [],
   "source": [
    "vocab = build_vocab_from_iterator(yield_tokens(data_iter), specials=[\"<pad>\", \"<unk>\"])"
   ]
  },
  {
   "cell_type": "code",
   "execution_count": 22,
   "id": "3e51f3d6-5c41-4456-b9b8-fb6973ed4e83",
   "metadata": {},
   "outputs": [],
   "source": [
    "vocab.set_default_index(vocab[\"<unk>\"])"
   ]
  },
  {
   "cell_type": "code",
   "execution_count": 23,
   "id": "6b29a7b5-8840-490f-9e2a-065b439e0ecb",
   "metadata": {},
   "outputs": [],
   "source": [
    "# the code below shows the mapping of vacab and corresponding index\n",
    "# vocab.get_stoi()"
   ]
  },
  {
   "cell_type": "code",
   "execution_count": 24,
   "id": "0e21d4af-4923-4be2-857a-9a534a33a600",
   "metadata": {},
   "outputs": [
    {
     "data": {
      "text/plain": [
       "8127"
      ]
     },
     "execution_count": 24,
     "metadata": {},
     "output_type": "execute_result"
    }
   ],
   "source": [
    "len(vocab.get_stoi().keys())"
   ]
  },
  {
   "cell_type": "markdown",
   "id": "43627b93-6964-4ad0-98b2-818569a29add",
   "metadata": {},
   "source": [
    "As you can see from the code snippet above, each word in our training data has its own unique integer in our vocabulary. If you notice, we also add two special tokens called `<unk>` and `<pad>` into our vocabulary. The `<pad>` token is useful for batch training later on, to make sure that every batch of our training data has the same sequence length.\n",
    "\n",
    "Meanwhile, the `<unk>` token is useful for handling out-of-vocabulary words. Whenever we encounter a word that is not available in our vocabulary, it will be assigned as `<unk>` token."
   ]
  },
  {
   "cell_type": "code",
   "execution_count": 25,
   "id": "927bd9d9-a652-45ae-b307-1c5225bf196b",
   "metadata": {},
   "outputs": [],
   "source": [
    "text_unk = \"this is jkjkj\"  # jkjkj is an unknown word in our vocab"
   ]
  },
  {
   "cell_type": "code",
   "execution_count": 26,
   "id": "e7bd0758-e188-45e5-b9c0-0266d72b59b7",
   "metadata": {},
   "outputs": [],
   "source": [
    "seq_unk = [vocab[word] for word in tokenizer(text_unk)]"
   ]
  },
  {
   "cell_type": "code",
   "execution_count": 27,
   "id": "04233ceb-e77b-420d-b790-f9b0dee7104d",
   "metadata": {},
   "outputs": [
    {
     "data": {
      "text/plain": [
       "['this', 'is', 'jkjkj']"
      ]
     },
     "execution_count": 27,
     "metadata": {},
     "output_type": "execute_result"
    }
   ],
   "source": [
    "tokenizer(text_unk)"
   ]
  },
  {
   "cell_type": "code",
   "execution_count": 28,
   "id": "5db98e84-a7ff-4941-8394-51990dde3106",
   "metadata": {},
   "outputs": [
    {
     "data": {
      "text/plain": [
       "[49, 15, 1]"
      ]
     },
     "execution_count": 28,
     "metadata": {},
     "output_type": "execute_result"
    }
   ],
   "source": [
    "seq_unk"
   ]
  },
  {
   "cell_type": "code",
   "execution_count": 29,
   "id": "9424f06d-d486-4714-8f64-df89b612d21a",
   "metadata": {},
   "outputs": [
    {
     "data": {
      "text/plain": [
       "1"
      ]
     },
     "execution_count": 29,
     "metadata": {},
     "output_type": "execute_result"
    }
   ],
   "source": [
    "vocab[\"<unk>\"]"
   ]
  },
  {
   "cell_type": "markdown",
   "id": "99caedd5-67bc-4405-8d2b-79b4bbfb8f59",
   "metadata": {},
   "source": [
    "Now let’s create a toy example that we’ll use throughout the entire article."
   ]
  },
  {
   "cell_type": "code",
   "execution_count": 30,
   "id": "ca3937c9-0feb-4608-b5b7-3bfe928145e1",
   "metadata": {},
   "outputs": [],
   "source": [
    "# We will use this example throughout the article\n",
    "text = \"this is text\"\n",
    "seq = [vocab[word] for word in tokenizer(text)]"
   ]
  },
  {
   "cell_type": "code",
   "execution_count": 31,
   "id": "b5fc9a72-62d7-424e-899d-9c8ff5d593e6",
   "metadata": {},
   "outputs": [
    {
     "data": {
      "text/plain": [
       "[49, 15, 81]"
      ]
     },
     "execution_count": 31,
     "metadata": {},
     "output_type": "execute_result"
    }
   ],
   "source": [
    "seq"
   ]
  },
  {
   "cell_type": "markdown",
   "id": "2c5e6f0d-f37f-45c4-9993-1515d8f25439",
   "metadata": {},
   "source": [
    "## 2.2. Embedding Layer"
   ]
  },
  {
   "cell_type": "markdown",
   "id": "b6341e8f-6657-4d08-8115-2a3b5728e37d",
   "metadata": {},
   "source": [
    "The integer representation of each token is what we pass as an input to the very first layer of a Transformer encoder model, which is the embedding layer. This layer will transform each integer into a vector with a particular dimension that we set in advance."
   ]
  },
  {
   "cell_type": "code",
   "execution_count": 32,
   "id": "66e3620b-b08c-4278-8eb3-b2ffb3c3bfb5",
   "metadata": {},
   "outputs": [],
   "source": [
    "class Embeddings(nn.Module):\n",
    "    def __init__(self, d_model, vocab_size):\n",
    "        super(Embeddings, self).__init__()\n",
    "        self.emb = nn.Embedding(vocab_size, d_model)\n",
    "        self.d_model = d_model\n",
    "\n",
    "    def forward(self, x):\n",
    "        return self.emb(x) * math.sqrt(self.d_model)"
   ]
  },
  {
   "cell_type": "markdown",
   "id": "c2681098-344a-4a25-ac9d-dbcf3ebc80c1",
   "metadata": {},
   "source": [
    "The dimension of each vector normally corresponds to the hidden size that we choose for our Transformer model. As an example, BERT-base model has a hidden size of 768.\n",
    "\n",
    "In the following example, each token in our sequence ([‘this’, ‘is’, ‘text’]) will be transformed into 4D vector embeddings."
   ]
  },
  {
   "cell_type": "code",
   "execution_count": 33,
   "id": "6fb04c3f-810f-4167-b84f-7e94a474b975",
   "metadata": {},
   "outputs": [],
   "source": [
    "hidden_size = 4"
   ]
  },
  {
   "cell_type": "code",
   "execution_count": 34,
   "id": "0fadb5b6-0d24-407b-b670-3747f6695820",
   "metadata": {},
   "outputs": [],
   "source": [
    "input_data = torch.LongTensor(seq).unsqueeze(0)"
   ]
  },
  {
   "cell_type": "code",
   "execution_count": 35,
   "id": "e0fb4b09-955e-47b8-8f3e-853d244a7c9f",
   "metadata": {},
   "outputs": [
    {
     "data": {
      "text/plain": [
       "torch.Size([1, 3])"
      ]
     },
     "execution_count": 35,
     "metadata": {},
     "output_type": "execute_result"
    }
   ],
   "source": [
    "input_data.shape"
   ]
  },
  {
   "cell_type": "code",
   "execution_count": 36,
   "id": "2d9f0c3a-2d04-4de5-862e-2feb751f4630",
   "metadata": {},
   "outputs": [],
   "source": [
    "emb_model = Embeddings(hidden_size, len(vocab))"
   ]
  },
  {
   "cell_type": "code",
   "execution_count": 37,
   "id": "a7b81d42-a447-49db-908b-9f7c2ce3dc1d",
   "metadata": {},
   "outputs": [],
   "source": [
    "token_emb = emb_model(input_data)"
   ]
  },
  {
   "cell_type": "code",
   "execution_count": 38,
   "id": "a49b3047-0ba1-4ccc-8e36-989b1e0f130b",
   "metadata": {},
   "outputs": [
    {
     "data": {
      "text/plain": [
       "tensor([[[ 0.3135,  0.7519, -1.2140, -1.4604],\n",
       "         [-0.6303,  0.5608,  1.3389, -0.5313],\n",
       "         [-1.6388,  0.0924,  0.9361,  0.3092]]], grad_fn=<MulBackward0>)"
      ]
     },
     "execution_count": 38,
     "metadata": {},
     "output_type": "execute_result"
    }
   ],
   "source": [
    "token_emb"
   ]
  },
  {
   "cell_type": "code",
   "execution_count": 39,
   "id": "88972fd2-39eb-4fa3-9cac-11106207bad8",
   "metadata": {},
   "outputs": [
    {
     "name": "stdout",
     "output_type": "stream",
     "text": [
      "Size of token embedding: torch.Size([1, 3, 4])\n"
     ]
    }
   ],
   "source": [
    "print(f\"Size of token embedding: {token_emb.size()}\")"
   ]
  },
  {
   "cell_type": "markdown",
   "id": "7c41bb52-7c16-4a3b-9df1-66168a044571",
   "metadata": {},
   "source": [
    "The output of embedding layer is a tensor of `[batch, sequence_length, embedding_dim]`."
   ]
  },
  {
   "cell_type": "markdown",
   "id": "885437d7-7ef4-47a7-a16f-5d2e33fd934c",
   "metadata": {},
   "source": [
    "<img src=\"figure_1.webp\" style=\"width:400px;height:350px;background-color:white\">"
   ]
  },
  {
   "cell_type": "markdown",
   "id": "7eddf806-c95e-4e4d-934e-0dc05e8bebb0",
   "metadata": {},
   "source": [
    "## 2.3. Positional Encoding"
   ]
  },
  {
   "cell_type": "markdown",
   "id": "f87cec42-c6b7-4c63-b8f8-b84700e50bff",
   "metadata": {},
   "source": [
    "So far, we have obtained the embeddings of each token in our sequence, but these embeddings don’t have the sense of order. Meanwhile, we know that the order of words in any text and language is crucial to capture the semantic meaning of a sentence.\n",
    "\n",
    "To capture the order of our input sequence, Transformer applies a method called positional encoding. There are many ways we can apply positional encoding, but it should fulfill the following conditions:\n",
    "\n",
    "- The encoding should be unique for each token in the sequence.\n",
    "- The delta value or distance between any two neighboring tokens should be consistent and independent of sequence lengths.\n",
    "- The encoding should be deterministic.\n",
    "- And it should also generalizes well when we have longer sequence.\n",
    "\n",
    "In the original Transformer paper, the authors proposed a positional encoding method that utilizes a combination of sine and cosine waves. This approach fulfills all the mentioned conditions and enables the model to capture the sequential order of tokens effectively."
   ]
  },
  {
   "cell_type": "markdown",
   "id": "9f224722-da77-45c3-8ee3-4b5a377739a1",
   "metadata": {},
   "source": [
    "<img src=\"figure_2.webp\" style=\"width:500px;height:400px;background-color:white\">"
   ]
  },
  {
   "cell_type": "code",
   "execution_count": 40,
   "id": "05f3c864-33ae-4f8d-afd6-cba1ecdf3a6f",
   "metadata": {},
   "outputs": [],
   "source": [
    "class PositionalEncoding(nn.Module):\n",
    "    def __init__(self, d_model, vocab_size=5000, dropout=0.1):\n",
    "        super().__init__()\n",
    "        self.dropout = nn.Dropout(p=dropout)\n",
    "\n",
    "        pe = torch.zeros(vocab_size, d_model)\n",
    "        position = torch.arange(0, vocab_size, dtype=torch.float).unsqueeze(1)\n",
    "        div_term = torch.exp(\n",
    "            torch.arange(0, d_model, 2).float() * (-math.log(10000.0) / d_model)\n",
    "        )\n",
    "\n",
    "        pe[:, 0::2] = torch.sin(position * div_term)\n",
    "        pe[:, 1::2] = torch.cos(position * div_term)\n",
    "        pe = pe.unsqueeze(0)\n",
    "        self.register_buffer(\"pe\", pe)\n",
    "\n",
    "    def forward(self, x):\n",
    "        x = x + self.pe[:, : x.size(1), :]\n",
    "        return self.dropout(x)"
   ]
  },
  {
   "cell_type": "markdown",
   "id": "ea4f2978-de8b-4c77-a1ac-c414cd044c48",
   "metadata": {},
   "source": [
    "The position encoding should have the same dimension as the token embedding so that we can add our position encoding into token embedding. Also, position encodings are fixed, meaning that there is no learnable parameter to be updated during the training process."
   ]
  },
  {
   "cell_type": "markdown",
   "id": "248b401f-9872-4aa5-b574-43e8d9f90d34",
   "metadata": {},
   "source": [
    "<img src=\"figure_3.webp\" style=\"width:400px;height:400px;background-color:white\">"
   ]
  },
  {
   "cell_type": "code",
   "execution_count": 41,
   "id": "694e0936-086c-48f3-bc18-87af9e58f87e",
   "metadata": {},
   "outputs": [],
   "source": [
    "pe_model = PositionalEncoding(d_model=4, vocab_size=len(vocab))"
   ]
  },
  {
   "cell_type": "code",
   "execution_count": 42,
   "id": "853618ec-b39d-4b56-b850-7f90524ccac6",
   "metadata": {},
   "outputs": [
    {
     "data": {
      "text/plain": [
       "tensor([[[ 0.3135,  0.7519, -1.2140, -1.4604],\n",
       "         [-0.6303,  0.5608,  1.3389, -0.5313],\n",
       "         [-1.6388,  0.0924,  0.9361,  0.3092]]], grad_fn=<MulBackward0>)"
      ]
     },
     "execution_count": 42,
     "metadata": {},
     "output_type": "execute_result"
    }
   ],
   "source": [
    "token_emb"
   ]
  },
  {
   "cell_type": "code",
   "execution_count": 43,
   "id": "71928c60-44c3-4cf9-8c45-4eb32695767d",
   "metadata": {},
   "outputs": [],
   "source": [
    "output_pe = pe_model(token_emb)"
   ]
  },
  {
   "cell_type": "code",
   "execution_count": 44,
   "id": "e1cebd9b-a34b-41fa-9509-355222f21005",
   "metadata": {},
   "outputs": [
    {
     "data": {
      "text/plain": [
       "tensor([[[ 0.3483,  1.9466, -1.3489, -0.5116],\n",
       "         [ 0.2347,  1.2235,  0.0000,  0.5207],\n",
       "         [-0.8106, -0.0000,  1.0623,  1.4545]]], grad_fn=<MulBackward0>)"
      ]
     },
     "execution_count": 44,
     "metadata": {},
     "output_type": "execute_result"
    }
   ],
   "source": [
    "output_pe"
   ]
  },
  {
   "cell_type": "code",
   "execution_count": 45,
   "id": "7dcd04b0-4f15-4780-96ee-373f81400645",
   "metadata": {},
   "outputs": [
    {
     "name": "stdout",
     "output_type": "stream",
     "text": [
      "Size of output embedding: torch.Size([1, 3, 4])\n"
     ]
    }
   ],
   "source": [
    "print(f\"Size of output embedding: {output_pe.size()}\")"
   ]
  },
  {
   "cell_type": "markdown",
   "id": "fc329ae1-8518-4834-a0b3-3d07fb82b088",
   "metadata": {},
   "source": [
    "The output embeddings from the addition of token embeddings and positional encodings would be the input to the next step, which is the Transformer encoder stack."
   ]
  },
  {
   "cell_type": "markdown",
   "id": "3bfac4b0-8544-4e9e-9e2d-28cbb3f36dfd",
   "metadata": {},
   "source": [
    "## 2.4. Self-Attention"
   ]
  },
  {
   "cell_type": "markdown",
   "id": "168c3164-17d5-4ba6-85f6-f399c7928d82",
   "metadata": {},
   "source": [
    "A Transformer encoder stack consists of several parts, as you can see in the image below:"
   ]
  },
  {
   "cell_type": "markdown",
   "id": "e82458b9-eaa0-4023-9b43-33dbcf592494",
   "metadata": {},
   "source": [
    "<img src=\"figure_4.webp\" style=\"width:400px;height:400px;background-color:white\">"
   ]
  },
  {
   "cell_type": "markdown",
   "id": "f398627b-2094-41b7-a9df-8f044d9be4a9",
   "metadata": {},
   "source": [
    "As a first step, our input embeddings will enter the so-called self-attention layer. This layer is the major factor why Transformer-based language models are able to differentiate the context of each word and the semantic meaning of a whole sequence/sentence.\n",
    "\n",
    "The self-attention layer will project the input embeddings into query, key, and value vectors using separate linear layers. Query, key, and value are the terms that we usually find in retrieval systems or recommendation systems.\n",
    "\n",
    "As an example, let’s say that you want to see a specific movie on Netflix. The query would be the name of the movie title that you type in the search bar; the key would be the description of each movie on Netflix’s catalog; and the values would be the result of movie recommendations based on the movie title you entered in the search bar before."
   ]
  },
  {
   "cell_type": "markdown",
   "id": "d31565a9-d6b0-4876-8dbd-5aa04d12c01f",
   "metadata": {},
   "source": [
    "<img src=\"figure_5.webp\" style=\"width:400px;height:300px;background-color:white\">"
   ]
  },
  {
   "cell_type": "markdown",
   "id": "5687b64d-96c3-4ca1-9e24-9830a244cbe5",
   "metadata": {},
   "source": [
    "As you can see from the visualization above, the query, key, and values are all coming from the same source. This is why this attention mechanism is called self-attention.\n",
    "\n",
    "If you use the full Transformer architecture (with the decoder part) for autoregressive task like machine translation, then there will also be another attention mechanism called cross-attention where the query comes from the decoder, but the key and values come from the encoder stack. However, we’re not going to address cross-attention mechanism in this article since we will only use the encoder stack.\n",
    "\n",
    "After we get the query, key, and values, then we are ready to perform self-attention mechanism.\n",
    "\n",
    "First, we multiply the query with the key (also called dot product operation)."
   ]
  },
  {
   "cell_type": "markdown",
   "id": "3571d693-fc4c-4aa5-93d0-3b02019f9fc4",
   "metadata": {},
   "source": [
    "<img src=\"figure_6.webp\" style=\"width:600px;height:250px;background-color:white\">"
   ]
  },
  {
   "cell_type": "markdown",
   "id": "a97813fc-ecce-44c7-99b8-809f482ddfaf",
   "metadata": {},
   "source": [
    "What we get from dot production operation is a square attention matrix with the size equal to the number of input tokens in our sequence in both dimensions. This matrix indicates the attention or relevance each token should give to the other tokens in the sequence.\n",
    "\n",
    "Next, we normalize the attention matrix with the dimension of our linear layer to obtain stable gradient during the training process. Then, we normalize the matrix with Softmax function such that the value in each row of our matrix will all be positive and add up to 1."
   ]
  },
  {
   "cell_type": "markdown",
   "id": "2eea5599-12c7-4ce2-8bfd-b09e2298725a",
   "metadata": {},
   "source": [
    "<img src=\"figure_7.webp\" style=\"width:600px;height:250px;background-color:white\">"
   ]
  },
  {
   "cell_type": "markdown",
   "id": "0b5f3901-d71c-4890-9ddf-ca965da3d389",
   "metadata": {},
   "source": [
    "The final step of self-attention mechanism is another dot product between the values and our normalized attention matrix. This will give us a final output with the size of `[batch, no_of_sequence, hidden_size_dim]`."
   ]
  },
  {
   "cell_type": "code",
   "execution_count": 46,
   "id": "eac854fe-6c0b-4d10-b6e6-bf2419122255",
   "metadata": {},
   "outputs": [],
   "source": [
    "class SingleHeadAttention(nn.Module):\n",
    "    def __init__(self, d_model, d_head_size):\n",
    "        super().__init__()\n",
    "        self.lin_key = nn.Linear(d_model, d_head_size, bias=False)\n",
    "        self.lin_query = nn.Linear(d_model, d_head_size, bias=False)\n",
    "        self.lin_value = nn.Linear(d_model, d_head_size, bias=False)\n",
    "        self.d_model = d_model\n",
    "\n",
    "    def forward(self, x):\n",
    "        query = self.lin_query(x)\n",
    "        key = self.lin_key(x)\n",
    "        value = self.lin_value(x)\n",
    "\n",
    "        scores = torch.matmul(query, key.transpose(-2, -1)) / math.sqrt(self.d_model)\n",
    "        p_attn = scores.softmax(dim=-1)\n",
    "        x = torch.matmul(p_attn, value)\n",
    "\n",
    "        return x"
   ]
  },
  {
   "cell_type": "markdown",
   "id": "d3a0158b-dfc7-49af-9116-a5e540c3716b",
   "metadata": {},
   "source": [
    "## 2.5. Multi-Head Attention"
   ]
  },
  {
   "cell_type": "markdown",
   "id": "b34c7989-0dd2-49fd-a528-66af915e9169",
   "metadata": {},
   "source": [
    "However, the Transformer model doesn’t use only one self-attention block, or ‘head’ as it is normally called. It uses multi-head attention, in which multiple single self-attentions are conducted in parallel. The minor difference is that we need to divide the output of the three linear layers in each single-head attention with the total number of heads that we use. This ensures that the computation time of multi-head attention is comparable to single self-attention."
   ]
  },
  {
   "cell_type": "markdown",
   "id": "5a1a17b9-a076-4ad0-8452-7b286c37f130",
   "metadata": {},
   "source": [
    "<img src=\"figure_8.webp\" style=\"width:600px;height:350px;background-color:white\">"
   ]
  },
  {
   "cell_type": "markdown",
   "id": "f83e416e-6d3d-457d-9cac-c289ad03fc22",
   "metadata": {},
   "source": [
    "In the end, we need to concatenate the output from each single self-attention layer and then project it into an additional linear layer."
   ]
  },
  {
   "cell_type": "markdown",
   "id": "19fb3340-d82e-46bb-bdc3-f2478b5fda1c",
   "metadata": {},
   "source": [
    "<img src=\"figure_9.webp\" style=\"width:600px;height:400px;background-color:white\">"
   ]
  },
  {
   "cell_type": "code",
   "execution_count": 47,
   "id": "b8a25b2f-b18a-4f68-81f2-a03455443eb3",
   "metadata": {},
   "outputs": [],
   "source": [
    "class MultiHeadAttention(nn.Module):\n",
    "    def __init__(self, h, d_model, dropout=0.1):\n",
    "        super().__init__()\n",
    "        assert d_model % h == 0\n",
    "        d_k = d_model // h\n",
    "        self.multi_head = nn.ModuleList(\n",
    "            [SingleHeadAttention(d_model, d_k) for _ in range(h)]\n",
    "        )\n",
    "        self.lin_agg = nn.Linear(d_model, d_model)\n",
    "\n",
    "    def forward(self, x):\n",
    "        x = torch.cat([head(x) for head in self.multi_head], dim=-1)\n",
    "        return self.lin_agg(x)"
   ]
  },
  {
   "cell_type": "markdown",
   "id": "4cecd4c1-835a-42da-b8cb-961193522358",
   "metadata": {},
   "source": [
    "And that’s it. The output tensor of this multi-head attention layer has the same dimensionality as the input."
   ]
  },
  {
   "cell_type": "code",
   "execution_count": 48,
   "id": "f3846b44-14d9-4206-9279-b096a12cb26f",
   "metadata": {},
   "outputs": [],
   "source": [
    "mult_att = MultiHeadAttention(h=2, d_model=4)"
   ]
  },
  {
   "cell_type": "code",
   "execution_count": 49,
   "id": "b1112c80-8f7e-48ee-a795-710647919243",
   "metadata": {},
   "outputs": [],
   "source": [
    "output_mult_att = mult_att(output_pe)"
   ]
  },
  {
   "cell_type": "code",
   "execution_count": 50,
   "id": "74d6f081-4566-4b35-8abb-a0029ccb2161",
   "metadata": {},
   "outputs": [
    {
     "data": {
      "text/plain": [
       "tensor([[[-0.1483, -0.1284, -0.5359,  0.4095],\n",
       "         [-0.0636, -0.1574, -0.5480,  0.3994],\n",
       "         [-0.0090, -0.1791, -0.5570,  0.4018]]], grad_fn=<ViewBackward0>)"
      ]
     },
     "execution_count": 50,
     "metadata": {},
     "output_type": "execute_result"
    }
   ],
   "source": [
    "output_mult_att"
   ]
  },
  {
   "cell_type": "code",
   "execution_count": 51,
   "id": "98769b73-ec28-4bf9-8725-85af92da66c2",
   "metadata": {},
   "outputs": [
    {
     "name": "stdout",
     "output_type": "stream",
     "text": [
      "Size of output embedding after multi-head attention: torch.Size([1, 3, 4])\n"
     ]
    }
   ],
   "source": [
    "print(f\"Size of output embedding after multi-head attention: {output_mult_att.size()}\")"
   ]
  },
  {
   "cell_type": "markdown",
   "id": "0c06dc23-e72a-4b46-828e-a9a2a16a83d8",
   "metadata": {},
   "source": [
    "## 2.6. Normalization Layer and Residual Connection"
   ]
  },
  {
   "cell_type": "markdown",
   "id": "33c66e93-f1f6-4d5c-a7be-5dcf98c5342a",
   "metadata": {},
   "source": [
    "If we take a look at the architecture of Transformer encoder block, we need to add the output of multi-head attention with the input of multi-head attention (also called residual connection) and then normalize it."
   ]
  },
  {
   "cell_type": "markdown",
   "id": "52bdd832-7120-4e51-a85e-8c0cba42f231",
   "metadata": {},
   "source": [
    "<img src=\"figure_10.webp\" style=\"width:500px;height:400px;background-color:white\">"
   ]
  },
  {
   "cell_type": "markdown",
   "id": "f5df2e18-efeb-4307-a5ea-f1a1a973a941",
   "metadata": {},
   "source": [
    "The reason behind these two operations is so that the Transformer model can converge faster during training process and they can also help the model to perform more accurately."
   ]
  },
  {
   "cell_type": "code",
   "execution_count": 52,
   "id": "e8215ff6-bc49-43e0-a5f7-4e18d010eb66",
   "metadata": {},
   "outputs": [],
   "source": [
    "class LayerNorm(nn.Module):\n",
    "    def __init__(self, d_model, eps=1e-6):\n",
    "        super(LayerNorm, self).__init__()\n",
    "        self.a_2 = nn.Parameter(torch.ones(d_model))\n",
    "        self.b_2 = nn.Parameter(torch.zeros(d_model))\n",
    "        self.eps = eps\n",
    "\n",
    "    def forward(self, x):\n",
    "        mean = x.mean(-1, keepdim=True)\n",
    "        std = x.std(-1, keepdim=True)\n",
    "        return self.a_2 * (x - mean) / (std + self.eps) + self.b_2\n",
    "\n",
    "\n",
    "class ResidualConnection(nn.Module):\n",
    "    def __init__(self, d_model, dropout=0.1):\n",
    "        super().__init__()\n",
    "        self.norm = LayerNorm(d_model)\n",
    "        self.dropout = nn.Dropout(dropout)\n",
    "\n",
    "    def forward(self, x1, x2):\n",
    "        return self.dropout(self.norm(x1 + x2))"
   ]
  },
  {
   "cell_type": "markdown",
   "id": "e3bfdf7e-ffbc-489a-a29a-7964f0e1f53a",
   "metadata": {},
   "source": [
    "Again, the output tensor dimension after the residual connection and normalization layer would be the same as the output tensor dimension of multi-head attention layer."
   ]
  },
  {
   "cell_type": "code",
   "execution_count": 53,
   "id": "b5f0c088-0fc3-4e4e-a175-eaa0f69d3f9a",
   "metadata": {},
   "outputs": [],
   "source": [
    "res_conn_1 = ResidualConnection(d_model=4)"
   ]
  },
  {
   "cell_type": "code",
   "execution_count": 54,
   "id": "f53847d9-8571-404d-a069-950a59132736",
   "metadata": {},
   "outputs": [
    {
     "data": {
      "text/plain": [
       "tensor([[[ 0.3483,  1.9466, -1.3489, -0.5116],\n",
       "         [ 0.2347,  1.2235,  0.0000,  0.5207],\n",
       "         [-0.8106, -0.0000,  1.0623,  1.4545]]], grad_fn=<MulBackward0>)"
      ]
     },
     "execution_count": 54,
     "metadata": {},
     "output_type": "execute_result"
    }
   ],
   "source": [
    "output_pe"
   ]
  },
  {
   "cell_type": "code",
   "execution_count": 55,
   "id": "1714addc-55cb-4fd6-86ec-c6398dd010c0",
   "metadata": {},
   "outputs": [
    {
     "data": {
      "text/plain": [
       "tensor([[[-0.1483, -0.1284, -0.5359,  0.4095],\n",
       "         [-0.0636, -0.1574, -0.5480,  0.3994],\n",
       "         [-0.0090, -0.1791, -0.5570,  0.4018]]], grad_fn=<ViewBackward0>)"
      ]
     },
     "execution_count": 55,
     "metadata": {},
     "output_type": "execute_result"
    }
   ],
   "source": [
    "output_mult_att"
   ]
  },
  {
   "cell_type": "code",
   "execution_count": 56,
   "id": "f0c58fce-12ef-47d8-a437-c0d70e97e23b",
   "metadata": {},
   "outputs": [],
   "source": [
    "output_res_conn_1 = res_conn_1(output_pe, output_mult_att)"
   ]
  },
  {
   "cell_type": "code",
   "execution_count": 57,
   "id": "c1b6e4f1-b2e8-4fe4-bf63-c8a71e174324",
   "metadata": {},
   "outputs": [
    {
     "data": {
      "text/plain": [
       "tensor([[[ 0.1407,  0.0000, -1.3858, -0.0805],\n",
       "         [-0.0000,  0.9898, -1.4173,  0.7722],\n",
       "         [-1.1249, -0.5040,  0.1595,  1.4693]]], grad_fn=<MulBackward0>)"
      ]
     },
     "execution_count": 57,
     "metadata": {},
     "output_type": "execute_result"
    }
   ],
   "source": [
    "output_res_conn_1"
   ]
  },
  {
   "cell_type": "code",
   "execution_count": 58,
   "id": "f2a6e770-c5fe-4c8b-93c4-6268700b4211",
   "metadata": {},
   "outputs": [
    {
     "name": "stdout",
     "output_type": "stream",
     "text": [
      "Size of output embedding after residual connection: torch.Size([1, 3, 4])\n"
     ]
    }
   ],
   "source": [
    "print(f\"Size of output embedding after residual connection: {output_res_conn_1.size()}\")"
   ]
  },
  {
   "cell_type": "markdown",
   "id": "7b06c05a-e05a-48f3-9d18-01db652c8b40",
   "metadata": {},
   "source": [
    "## 2.7. Feed Forward Layer"
   ]
  },
  {
   "cell_type": "markdown",
   "id": "d4a56147-7af8-49b3-8734-32f54278eb8a",
   "metadata": {},
   "source": [
    "The output of residual connection and normalization layer then become the input of a feed-forward layer. This layer is just an ordinary linear layer, as you can see below:"
   ]
  },
  {
   "cell_type": "code",
   "execution_count": 59,
   "id": "d54f9235-2001-4ca6-8105-7bb959ecc236",
   "metadata": {},
   "outputs": [],
   "source": [
    "class FeedForward(nn.Module):\n",
    "    def __init__(self, d_model, d_ff, dropout=0.1):\n",
    "        super().__init__()\n",
    "        self.w_1 = nn.Linear(d_model, d_ff)\n",
    "        self.w_2 = nn.Linear(d_ff, d_model)\n",
    "        self.dropout = nn.Dropout(dropout)\n",
    "\n",
    "    def forward(self, x):\n",
    "        return self.w_2(self.dropout(self.w_1(x).relu()))"
   ]
  },
  {
   "cell_type": "markdown",
   "id": "cd94ab4f-50a2-4d87-a928-87fe6dce0616",
   "metadata": {},
   "source": [
    "This layer also won’t change the dimension of our tensor."
   ]
  },
  {
   "cell_type": "code",
   "execution_count": 60,
   "id": "cdb1a1c9-9dc9-4224-a46f-5fe139cb0c17",
   "metadata": {},
   "outputs": [],
   "source": [
    "ff = FeedForward(d_model=4, d_ff=12)"
   ]
  },
  {
   "cell_type": "code",
   "execution_count": 61,
   "id": "1cd6791d-e9e1-4311-9042-031976d8f767",
   "metadata": {},
   "outputs": [
    {
     "data": {
      "text/plain": [
       "tensor([[[ 0.1407,  0.0000, -1.3858, -0.0805],\n",
       "         [-0.0000,  0.9898, -1.4173,  0.7722],\n",
       "         [-1.1249, -0.5040,  0.1595,  1.4693]]], grad_fn=<MulBackward0>)"
      ]
     },
     "execution_count": 61,
     "metadata": {},
     "output_type": "execute_result"
    }
   ],
   "source": [
    "output_res_conn_1"
   ]
  },
  {
   "cell_type": "code",
   "execution_count": 62,
   "id": "4c9bca79-b711-424e-ab3e-478274e3f002",
   "metadata": {},
   "outputs": [],
   "source": [
    "output_ff = ff(output_res_conn_1)"
   ]
  },
  {
   "cell_type": "code",
   "execution_count": 63,
   "id": "cee24379-3f54-4302-9b40-4ec311d69ac6",
   "metadata": {},
   "outputs": [
    {
     "data": {
      "text/plain": [
       "tensor([[[-0.3518,  0.3983, -0.4400,  0.1458],\n",
       "         [-0.3827,  0.3807, -0.4372, -0.1164],\n",
       "         [-0.6084, -0.4242, -0.5147,  0.0244]]], grad_fn=<ViewBackward0>)"
      ]
     },
     "execution_count": 63,
     "metadata": {},
     "output_type": "execute_result"
    }
   ],
   "source": [
    "output_ff"
   ]
  },
  {
   "cell_type": "code",
   "execution_count": 64,
   "id": "3def3d83-9973-47c3-a1dd-4783c91a59a9",
   "metadata": {},
   "outputs": [
    {
     "name": "stdout",
     "output_type": "stream",
     "text": [
      "Size of output embedding after feed-forward network: torch.Size([1, 3, 4])\n"
     ]
    }
   ],
   "source": [
    "print(f\"Size of output embedding after feed-forward network: {output_ff.size()}\")"
   ]
  },
  {
   "cell_type": "markdown",
   "id": "a4b90fd3-0c23-43dd-a264-9b066b76fa11",
   "metadata": {},
   "source": [
    "After the feed-forward layer, we need to apply the second residual connection, in which we add the output of feed-forward layer with the input of feed-forward layer. After the addition, we normalize the tensor with normalization layer as described in Normalization Layer section above."
   ]
  },
  {
   "cell_type": "code",
   "execution_count": 65,
   "id": "b2824c2e-bfcd-484a-a05f-62e138499c16",
   "metadata": {},
   "outputs": [],
   "source": [
    "res_conn_2 = ResidualConnection(d_model=4)\n",
    "output_res_conn_2 = res_conn_2(output_res_conn_1, output_ff)"
   ]
  },
  {
   "cell_type": "code",
   "execution_count": 66,
   "id": "0e4be505-66fa-4b9e-a382-e2297a6fd884",
   "metadata": {},
   "outputs": [
    {
     "data": {
      "text/plain": [
       "tensor([[[ 0.2052,  0.8912, -1.6127,  0.5163],\n",
       "         [-0.2618,  0.0000, -1.4296,  0.0000],\n",
       "         [-1.0957, -0.4435,  0.0207,  1.5185]]], grad_fn=<MulBackward0>)"
      ]
     },
     "execution_count": 66,
     "metadata": {},
     "output_type": "execute_result"
    }
   ],
   "source": [
    "output_res_conn_2"
   ]
  },
  {
   "cell_type": "code",
   "execution_count": 67,
   "id": "8361eb46-1239-410e-a1e5-9f2fd7f0df16",
   "metadata": {},
   "outputs": [
    {
     "name": "stdout",
     "output_type": "stream",
     "text": [
      "Size of output embedding after second residual: torch.Size([1, 3, 4])\n"
     ]
    }
   ],
   "source": [
    "print(f\"Size of output embedding after second residual: {output_res_conn_2.size()}\")"
   ]
  },
  {
   "cell_type": "markdown",
   "id": "51971a02-25c4-46a1-8129-64acfcc9adbd",
   "metadata": {},
   "source": [
    "## 2.8. Transformer Encoder Stack"
   ]
  },
  {
   "cell_type": "markdown",
   "id": "417a8278-82c0-403b-bea4-0cf49272a75d",
   "metadata": {},
   "source": [
    "The process from multi-head self-attention layer until the normalization layer after the feed-forward layer above corresponds to one single Transformer encoder stack."
   ]
  },
  {
   "cell_type": "markdown",
   "id": "ccc1d339-6949-479d-bf08-89bc28b39a4c",
   "metadata": {},
   "source": [
    "<img src=\"figure_11.webp\" style=\"width:500px;height:400px;background-color:white\">"
   ]
  },
  {
   "cell_type": "markdown",
   "id": "a6b9fc79-0ea8-43b5-9df0-4b6a08d0bf0e",
   "metadata": {},
   "source": [
    "Now we can encapsulate all of the process above in a class called `SingleEncoder()` below:"
   ]
  },
  {
   "cell_type": "code",
   "execution_count": 68,
   "id": "9a7edd05-f910-4b62-b079-989d64716671",
   "metadata": {},
   "outputs": [],
   "source": [
    "class SingleEncoder(nn.Module):\n",
    "    def __init__(self, d_model, self_attn, feed_forward, dropout):\n",
    "        super().__init__()\n",
    "        self.self_attn = self_attn\n",
    "        self.feed_forward = feed_forward\n",
    "        self.res_1 = ResidualConnection(d_model, dropout)\n",
    "        self.res_2 = ResidualConnection(d_model, dropout)\n",
    "\n",
    "        self.d_model = d_model\n",
    "\n",
    "    def forward(self, x):\n",
    "        x_attn = self.self_attn(x)\n",
    "        x_res_1 = self.res_1(x, x_attn)\n",
    "        x_ff = self.feed_forward(x_res_1)\n",
    "        x_res_2 = self.res_2(x_res_1, x_ff)\n",
    "\n",
    "        return x_res_2"
   ]
  },
  {
   "cell_type": "markdown",
   "id": "5bb27223-26be-4325-98b6-9e029b257798",
   "metadata": {},
   "source": [
    "In its application, we usually use several Transformer encoders instead of just one. BERT-base model, for example, uses 12 stacks of Transformer encoders."
   ]
  },
  {
   "cell_type": "code",
   "execution_count": 69,
   "id": "f1ba78a3-715d-4571-8263-2931e293637e",
   "metadata": {},
   "outputs": [],
   "source": [
    "class EncoderBlocks(nn.Module):\n",
    "    def __init__(self, layer, N):\n",
    "        super().__init__()\n",
    "        self.layers = nn.ModuleList([layer for _ in range(N)])\n",
    "        self.norm = LayerNorm(layer.d_model)\n",
    "\n",
    "    def forward(self, x):\n",
    "        for layer in self.layers:\n",
    "            x = layer(x)\n",
    "        return self.norm(x)"
   ]
  },
  {
   "cell_type": "markdown",
   "id": "d16d9053-3456-49c6-be28-cecf602c77c5",
   "metadata": {},
   "source": [
    "With the `EncoderBlocks()` above, then we can initialize several stacks of Transformer encoders according to our need."
   ]
  },
  {
   "cell_type": "markdown",
   "id": "cb8e269c-5f00-4f1b-848e-8523bc546145",
   "metadata": {},
   "source": [
    "# 3. Model Training"
   ]
  },
  {
   "cell_type": "markdown",
   "id": "4e766c6d-ecc2-40e5-9646-3dfab181f735",
   "metadata": {},
   "source": [
    "Now that we know the inner architecture of a Transformer encoder, now let’s use it to train our data for a text classification purpose."
   ]
  },
  {
   "cell_type": "markdown",
   "id": "57fad4a4-4a21-422a-9a48-129f54af0301",
   "metadata": {},
   "source": [
    "## 3.1. Model Definition"
   ]
  },
  {
   "cell_type": "markdown",
   "id": "15bd7905-a1ca-4ad1-ac9a-f664d75e754e",
   "metadata": {},
   "source": [
    "In this article, we will use six stacks of Transformer encoders. The hidden size would be 300 and there will be four different heads in the multi-head self-attention layer. You can tweak these values according to your own need."
   ]
  },
  {
   "cell_type": "code",
   "execution_count": 70,
   "id": "6c074846-dad8-4578-87ac-a811b4387035",
   "metadata": {},
   "outputs": [],
   "source": [
    "class TransformerEncoderModel(nn.Module):\n",
    "    def __init__(self, vocab_size, d_model, nhead, d_ff, N, dropout=0.1):\n",
    "        super().__init__()\n",
    "        assert d_model % nhead == 0, \"nheads must divide evenly into d_model\"\n",
    "\n",
    "        self.emb = Embeddings(d_model, vocab_size)\n",
    "        self.pos_encoder = PositionalEncoding(d_model=d_model, vocab_size=vocab_size)\n",
    "\n",
    "        attn = MultiHeadAttention(nhead, d_model)\n",
    "        ff = FeedForward(d_model, d_ff, dropout)\n",
    "        self.transformer_encoder = EncoderBlocks(\n",
    "            SingleEncoder(d_model, attn, ff, dropout), N\n",
    "        )\n",
    "        self.classifier = nn.Linear(d_model, 2)\n",
    "        self.d_model = d_model\n",
    "\n",
    "    def forward(self, x):\n",
    "        x = self.emb(x) * math.sqrt(self.d_model)\n",
    "        x = self.pos_encoder(x)\n",
    "        x = self.transformer_encoder(x)\n",
    "        x = x.mean(dim=1)\n",
    "        x = self.classifier(x)\n",
    "        return x"
   ]
  },
  {
   "cell_type": "code",
   "execution_count": 71,
   "id": "dcc25de9-0e7c-4ca8-b07a-d5eb4634df46",
   "metadata": {},
   "outputs": [],
   "source": [
    "model = TransformerEncoderModel(\n",
    "    len(vocab), d_model=300, nhead=4, d_ff=50, N=6, dropout=0.1\n",
    ").to(device)"
   ]
  },
  {
   "cell_type": "markdown",
   "id": "6af353a6-29f8-4cd9-9734-de209e441b7a",
   "metadata": {},
   "source": [
    "If you notice, we also add an additional linear layer on top of the output of the last Transformer encoder stack. This linear layer will act as the classifier. Since we only have two distinct classes (spam/ham), then the output of this linear layer would be two.\n",
    "\n",
    "Also, one more important thing that we need to address is the fact that the output of the final stack would be `[batch, no_of_sequence, hidden_size]`, while our final linear layer expects an input of `[batch, hidden_size]`. There are several methods that we can do to match the output of the stack with the input of linear layer.\n",
    "\n",
    "BERT, for example, uses only the output of a special token called [CLS] that is prepended into our sequence before the positional encoding steps in the Transformer architecture above. Here, we don’t have that special [CLS] token. Thus, what we do instead is averaging all of the output embedding values after the last encoder stack."
   ]
  },
  {
   "cell_type": "markdown",
   "id": "296f2d03-26c5-487d-981b-a5bf49c1704e",
   "metadata": {},
   "source": [
    "## 3.2. Data Loader"
   ]
  },
  {
   "cell_type": "markdown",
   "id": "4de27c27-385c-4098-b995-e1810c671aaf",
   "metadata": {},
   "source": [
    "Next, we need to create a data loader for our training data such that it will be supplied into our model in batches during the training process."
   ]
  },
  {
   "cell_type": "code",
   "execution_count": 72,
   "id": "ac9039d6-197f-4ca9-b607-7d90b7b78c85",
   "metadata": {},
   "outputs": [],
   "source": [
    "class TextDataset(torch.utils.data.Dataset):\n",
    "    def __init__(self, input_data):\n",
    "        self.text = input_data[\"Message\"].values.tolist()\n",
    "        self.label = [int(label2id[i]) for i in input_data[\"Category\"].values.tolist()]\n",
    "\n",
    "    def __len__(self):\n",
    "        return len(self.label)\n",
    "\n",
    "    def get_sequence_token(self, idx):\n",
    "        sequence = [vocab[word] for word in tokenizer(self.text[idx])]\n",
    "        len_seq = len(sequence)\n",
    "        return sequence, len_seq\n",
    "\n",
    "    def get_labels(self, idx):\n",
    "        return self.label[idx]\n",
    "\n",
    "    def __getitem__(self, idx):\n",
    "        sequence, len_seq = self.get_sequence_token(idx)\n",
    "        label = self.get_labels(idx)\n",
    "        return sequence, label, len_seq"
   ]
  },
  {
   "cell_type": "code",
   "execution_count": 73,
   "id": "b7e061a6-d5a7-4d5f-8d2e-0be68c9e861c",
   "metadata": {},
   "outputs": [],
   "source": [
    "def collate_fn(batch):\n",
    "    sequences, labels, lengths = zip(*batch)\n",
    "    max_len = max(lengths)\n",
    "\n",
    "    for i in range(len(batch)):\n",
    "        if len(sequences[i]) != max_len:\n",
    "            for j in range(len(sequences[i]), max_len):\n",
    "                sequences[i].append(0)\n",
    "\n",
    "    return torch.tensor(sequences, dtype=torch.long), torch.tensor(\n",
    "        labels, dtype=torch.long\n",
    "    )"
   ]
  },
  {
   "cell_type": "markdown",
   "id": "348bcf6f-51b1-40b3-9ab2-d780e8a6e85b",
   "metadata": {},
   "source": [
    "In addition to the dataloader class, we also need to create supplementary function called `collate_fn()` above. This function is essential because, in order to supply our training data in batches, each batch needs to have the same dimension.\n",
    "\n",
    "Since we’re dealing with text data with varying sentence length, then the dimension of each batch isn’t guaranteed to be the same. In the `collate_fn`, we first fetch the maximum length of a sequence in a batch, and then add a bunch of <pad> tokens to the shorter sequence until its length equals to the length of the longest sequence in the batch.\n",
    "\n",
    "Another method that you can use is by defining the maximum number of tokens. Next, you can truncate the sentence if it has more tokens than the maximum value or add a bunch of <pad> tokens if it has fewer tokens than the maximum value."
   ]
  },
  {
   "cell_type": "markdown",
   "id": "45931583-d61a-421e-b7ec-8bf7e5c0f945",
   "metadata": {},
   "source": [
    "## 3.3. Training Loop"
   ]
  },
  {
   "cell_type": "markdown",
   "id": "9788e6ca-bbb7-4832-b38a-32f5549e746f",
   "metadata": {},
   "source": [
    "Now that we have defined the model architecture and the data loader class, then we can start to train the model."
   ]
  },
  {
   "cell_type": "code",
   "execution_count": 74,
   "id": "dc857b41-dd1b-46eb-9ad7-8685896779be",
   "metadata": {},
   "outputs": [],
   "source": [
    "def train(model, dataset, epochs, lr, bs):\n",
    "    criterion = nn.CrossEntropyLoss()\n",
    "    optimizer = torch.optim.Adam(\n",
    "        (p for p in model.parameters() if p.requires_grad), lr=lr\n",
    "    )\n",
    "    train_dataset = TextDataset(dataset)\n",
    "    train_dataloader = DataLoader(\n",
    "        train_dataset, num_workers=0, batch_size=bs, collate_fn=collate_fn, shuffle=True\n",
    "    )\n",
    "\n",
    "    # Training loop\n",
    "    for epoch in range(epochs):\n",
    "        total_loss_train = 0\n",
    "        total_acc_train = 0\n",
    "        for train_sequence, train_label in tqdm(train_dataloader):\n",
    "            # Model prediction\n",
    "            predictions = model(train_sequence.to(device))\n",
    "            labels = train_label.to(device)\n",
    "            loss = criterion(predictions, labels)\n",
    "\n",
    "            # Calculate accuracy and loss per batch\n",
    "            correct = predictions.argmax(axis=1) == labels\n",
    "            acc = correct.sum().item() / correct.size(0)\n",
    "            total_acc_train += correct.sum().item()\n",
    "            total_loss_train += loss.item()\n",
    "\n",
    "            # Backprop\n",
    "            loss.backward()\n",
    "            torch.nn.utils.clip_grad_norm_(model.parameters(), 0.5)\n",
    "            optimizer.step()\n",
    "\n",
    "        print(\n",
    "            f\"Epochs: {epoch + 1} | Loss: {total_loss_train / len(train_dataset): .3f} | Accuracy: {total_acc_train / len(train_dataset): .3f}\"\n",
    "        )"
   ]
  },
  {
   "cell_type": "code",
   "execution_count": 75,
   "id": "2ef2a187-f42f-47f4-8161-0e302e66ecc9",
   "metadata": {},
   "outputs": [],
   "source": [
    "epochs = 15\n",
    "lr = 1e-4\n",
    "batch_size = 4"
   ]
  },
  {
   "cell_type": "code",
   "execution_count": 76,
   "id": "a6fbb365-7651-4ff8-b469-2414e40aa622",
   "metadata": {},
   "outputs": [
    {
     "name": "stderr",
     "output_type": "stream",
     "text": [
      "100%|██████████████████████████████████████████████████████████████████████████████| 1115/1115 [00:42<00:00, 25.94it/s]\n"
     ]
    },
    {
     "name": "stdout",
     "output_type": "stream",
     "text": [
      "Epochs: 1 | Loss:  0.079 | Accuracy:  0.914\n"
     ]
    },
    {
     "name": "stderr",
     "output_type": "stream",
     "text": [
      "100%|██████████████████████████████████████████████████████████████████████████████| 1115/1115 [00:41<00:00, 27.12it/s]\n"
     ]
    },
    {
     "name": "stdout",
     "output_type": "stream",
     "text": [
      "Epochs: 2 | Loss:  0.066 | Accuracy:  0.939\n"
     ]
    },
    {
     "name": "stderr",
     "output_type": "stream",
     "text": [
      "100%|██████████████████████████████████████████████████████████████████████████████| 1115/1115 [00:40<00:00, 27.59it/s]\n"
     ]
    },
    {
     "name": "stdout",
     "output_type": "stream",
     "text": [
      "Epochs: 3 | Loss:  0.060 | Accuracy:  0.950\n"
     ]
    },
    {
     "name": "stderr",
     "output_type": "stream",
     "text": [
      "100%|██████████████████████████████████████████████████████████████████████████████| 1115/1115 [00:41<00:00, 27.17it/s]\n"
     ]
    },
    {
     "name": "stdout",
     "output_type": "stream",
     "text": [
      "Epochs: 4 | Loss:  0.055 | Accuracy:  0.952\n"
     ]
    },
    {
     "name": "stderr",
     "output_type": "stream",
     "text": [
      "100%|██████████████████████████████████████████████████████████████████████████████| 1115/1115 [00:41<00:00, 26.73it/s]\n"
     ]
    },
    {
     "name": "stdout",
     "output_type": "stream",
     "text": [
      "Epochs: 5 | Loss:  0.052 | Accuracy:  0.952\n"
     ]
    },
    {
     "name": "stderr",
     "output_type": "stream",
     "text": [
      "100%|██████████████████████████████████████████████████████████████████████████████| 1115/1115 [00:41<00:00, 26.89it/s]\n"
     ]
    },
    {
     "name": "stdout",
     "output_type": "stream",
     "text": [
      "Epochs: 6 | Loss:  0.051 | Accuracy:  0.956\n"
     ]
    },
    {
     "name": "stderr",
     "output_type": "stream",
     "text": [
      "100%|██████████████████████████████████████████████████████████████████████████████| 1115/1115 [00:41<00:00, 26.92it/s]\n"
     ]
    },
    {
     "name": "stdout",
     "output_type": "stream",
     "text": [
      "Epochs: 7 | Loss:  0.061 | Accuracy:  0.950\n"
     ]
    },
    {
     "name": "stderr",
     "output_type": "stream",
     "text": [
      "100%|██████████████████████████████████████████████████████████████████████████████| 1115/1115 [00:41<00:00, 26.59it/s]\n"
     ]
    },
    {
     "name": "stdout",
     "output_type": "stream",
     "text": [
      "Epochs: 8 | Loss:  0.059 | Accuracy:  0.930\n"
     ]
    },
    {
     "name": "stderr",
     "output_type": "stream",
     "text": [
      "100%|██████████████████████████████████████████████████████████████████████████████| 1115/1115 [00:41<00:00, 26.98it/s]\n"
     ]
    },
    {
     "name": "stdout",
     "output_type": "stream",
     "text": [
      "Epochs: 9 | Loss:  0.057 | Accuracy:  0.945\n"
     ]
    },
    {
     "name": "stderr",
     "output_type": "stream",
     "text": [
      "100%|██████████████████████████████████████████████████████████████████████████████| 1115/1115 [00:48<00:00, 23.08it/s]\n"
     ]
    },
    {
     "name": "stdout",
     "output_type": "stream",
     "text": [
      "Epochs: 10 | Loss:  0.046 | Accuracy:  0.958\n"
     ]
    },
    {
     "name": "stderr",
     "output_type": "stream",
     "text": [
      "100%|██████████████████████████████████████████████████████████████████████████████| 1115/1115 [00:49<00:00, 22.70it/s]\n"
     ]
    },
    {
     "name": "stdout",
     "output_type": "stream",
     "text": [
      "Epochs: 11 | Loss:  0.042 | Accuracy:  0.963\n"
     ]
    },
    {
     "name": "stderr",
     "output_type": "stream",
     "text": [
      "100%|██████████████████████████████████████████████████████████████████████████████| 1115/1115 [00:45<00:00, 24.68it/s]\n"
     ]
    },
    {
     "name": "stdout",
     "output_type": "stream",
     "text": [
      "Epochs: 12 | Loss:  0.043 | Accuracy:  0.963\n"
     ]
    },
    {
     "name": "stderr",
     "output_type": "stream",
     "text": [
      "100%|██████████████████████████████████████████████████████████████████████████████| 1115/1115 [00:43<00:00, 25.91it/s]\n"
     ]
    },
    {
     "name": "stdout",
     "output_type": "stream",
     "text": [
      "Epochs: 13 | Loss:  0.046 | Accuracy:  0.961\n"
     ]
    },
    {
     "name": "stderr",
     "output_type": "stream",
     "text": [
      "100%|██████████████████████████████████████████████████████████████████████████████| 1115/1115 [00:41<00:00, 27.04it/s]\n"
     ]
    },
    {
     "name": "stdout",
     "output_type": "stream",
     "text": [
      "Epochs: 14 | Loss:  0.037 | Accuracy:  0.969\n"
     ]
    },
    {
     "name": "stderr",
     "output_type": "stream",
     "text": [
      "100%|██████████████████████████████████████████████████████████████████████████████| 1115/1115 [00:41<00:00, 27.03it/s]"
     ]
    },
    {
     "name": "stdout",
     "output_type": "stream",
     "text": [
      "Epochs: 15 | Loss:  0.036 | Accuracy:  0.969\n"
     ]
    },
    {
     "name": "stderr",
     "output_type": "stream",
     "text": [
      "\n"
     ]
    }
   ],
   "source": [
    "train(model, df_train, epochs, lr, batch_size)"
   ]
  },
  {
   "cell_type": "markdown",
   "id": "08273ec5-0de2-42b5-92fc-fb7363873c2a",
   "metadata": {},
   "source": [
    "# 4. Model Prediction"
   ]
  },
  {
   "cell_type": "markdown",
   "id": "d67333d6-e618-4fba-b0b1-71f22972c713",
   "metadata": {},
   "source": [
    "After we train the model, we can naturally use it to predict unseen data on our test set. To do so, first we need to create a function that encapsulates data preprocessing step and the model prediction step."
   ]
  },
  {
   "cell_type": "code",
   "execution_count": 77,
   "id": "adbbc6ba-20b2-4bb2-88a2-29b08d0a7d4f",
   "metadata": {},
   "outputs": [],
   "source": [
    "def predict(text):\n",
    "    sequence = torch.tensor(\n",
    "        [vocab[word] for word in tokenizer(text)], dtype=torch.long\n",
    "    ).unsqueeze(0)\n",
    "    output = model(sequence.to(device))\n",
    "    prediction = id2label[output.argmax(axis=1).item()]\n",
    "\n",
    "    return prediction"
   ]
  },
  {
   "cell_type": "markdown",
   "id": "391f2d23-3532-4aaa-850d-09aeb122b0cc",
   "metadata": {},
   "source": [
    "Now if we want to predict a text from our test set, we can just call the function above:"
   ]
  },
  {
   "cell_type": "code",
   "execution_count": 78,
   "id": "790c1a70-05f7-4f10-9661-5971f05275d9",
   "metadata": {},
   "outputs": [],
   "source": [
    "idx = 24\n",
    "text = df_test[\"Message\"].values.tolist()[idx]\n",
    "gt = df_test[\"Category\"].values.tolist()[idx]\n",
    "prediction = predict(text)"
   ]
  },
  {
   "cell_type": "code",
   "execution_count": 79,
   "id": "c68f2bd9-ed5a-420a-ba97-f35047cbba86",
   "metadata": {},
   "outputs": [
    {
     "name": "stdout",
     "output_type": "stream",
     "text": [
      "Text: This is the 2nd time we have tried 2 contact u. U have won the £750 Pound prize. 2 claim is easy, call 087187272008 NOW1! Only 10p per minute. BT-national-rate.\n",
      "Ground Truth: spam\n",
      "Prediction: spam\n"
     ]
    }
   ],
   "source": [
    "print(f\"Text: {text}\")\n",
    "print(f\"Ground Truth: {gt}\")\n",
    "print(f\"Prediction: {prediction}\")"
   ]
  },
  {
   "cell_type": "code",
   "execution_count": 80,
   "id": "31bc7d87-db91-4f5f-a4b9-3d6feb3cac06",
   "metadata": {},
   "outputs": [],
   "source": [
    "idx = 35\n",
    "text = df_test[\"Message\"].values.tolist()[idx]\n",
    "gt = df_test[\"Category\"].values.tolist()[idx]\n",
    "prediction = predict(text)"
   ]
  },
  {
   "cell_type": "code",
   "execution_count": 81,
   "id": "eeeab124-93f2-457e-b651-04035c5c3bb4",
   "metadata": {},
   "outputs": [
    {
     "name": "stdout",
     "output_type": "stream",
     "text": [
      "Text: Morning only i can ok.\n",
      "Ground Truth: ham\n",
      "Prediction: ham\n"
     ]
    }
   ],
   "source": [
    "print(f\"Text: {text}\")\n",
    "print(f\"Ground Truth: {gt}\")\n",
    "print(f\"Prediction: {prediction}\")"
   ]
  },
  {
   "cell_type": "markdown",
   "id": "a2de62e9-0ca3-4a94-ba82-bdd5979feac9",
   "metadata": {},
   "source": [
    "# 5. Conclusion"
   ]
  },
  {
   "cell_type": "markdown",
   "id": "a4b20f93-7623-4aed-b509-5f34fec070df",
   "metadata": {},
   "source": [
    "In this article, we have discussed the step-by-step process to utilize the encoder part of Transformer to classify text. As you already know, there are a lot of large language models out there that use the encoder part of Transformer. BERT, as an example, achieved state-of-the-art performance in many language tasks, thanks to its Transformer-encoder architecture combined with a large corpus of training data.\n",
    "\n",
    "I hope this article helps you to getting started with Transformer architecture. As usual, you can find the code implemented in this article via [this notebook](https://github.com/marcellusruben/medium-resources/blob/main/Text_Classification_Transformer_Encoders/Transformer_Encoder.ipynb)."
   ]
  },
  {
   "cell_type": "code",
   "execution_count": null,
   "id": "1112ee93-cd6e-4e78-81c2-563d42e9152e",
   "metadata": {},
   "outputs": [],
   "source": []
  }
 ],
 "metadata": {
  "kernelspec": {
   "display_name": "Python [conda env:pytorch_env]",
   "language": "python",
   "name": "conda-env-pytorch_env-py"
  },
  "language_info": {
   "codemirror_mode": {
    "name": "ipython",
    "version": 3
   },
   "file_extension": ".py",
   "mimetype": "text/x-python",
   "name": "python",
   "nbconvert_exporter": "python",
   "pygments_lexer": "ipython3",
   "version": "3.11.4"
  }
 },
 "nbformat": 4,
 "nbformat_minor": 5
}
