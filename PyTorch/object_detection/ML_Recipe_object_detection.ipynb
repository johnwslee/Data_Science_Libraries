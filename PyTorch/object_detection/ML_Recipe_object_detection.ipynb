{
 "cells": [
  {
   "cell_type": "markdown",
   "id": "7375150c-7c1b-40f6-9327-a634ee0f59f5",
   "metadata": {},
   "source": [
    "The following codes are originally from [here](https://bipinkrishnan.github.io/ml-recipe-book/object_detection.html), and slightly modified"
   ]
  },
  {
   "cell_type": "markdown",
   "id": "5edccaf4-e89e-4179-8b6d-f0a1b64d7313",
   "metadata": {},
   "source": [
    "In this chapter we will train a model to detect cars present in an image. For each car present in the image, the model should predict the bounding box that encloses the car."
   ]
  },
  {
   "cell_type": "markdown",
   "id": "9b9d07f7-7e27-439e-a355-858d7954e7a9",
   "metadata": {},
   "source": [
    "For each bounding box, the model should predict 4 numbers/coordinates(`xmin`, `ymin`, `xmax`, `ymax`). As you can see from the detailed figure below, `xmin` and `ymin` represents the top left coordinate of the bounding box, where as, `xmax` and `ymax` represents the bottom right coordinates of the bounding box:"
   ]
  },
  {
   "cell_type": "markdown",
   "id": "5c0e3f7a-7b26-4806-ba4c-f5a04eb413b5",
   "metadata": {},
   "source": [
    "<img src=\"images/object_detect_model.png\" style=\"width:700px;height:500px;background-color:white\">"
   ]
  },
  {
   "cell_type": "markdown",
   "id": "b14a5454-8934-4416-b54c-7b1804aba71c",
   "metadata": {},
   "source": [
    "# 0. Dataset"
   ]
  },
  {
   "cell_type": "markdown",
   "id": "4830d04c-0a2c-4cdf-9219-e2f6d1628b9a",
   "metadata": {},
   "source": [
    "All the images for our training set is under `training_images` folder and its bounding box coordinates can be found in `train_solution_bounding_boxes (1).csv`."
   ]
  },
  {
   "cell_type": "markdown",
   "id": "aa722b2d-fe59-4847-8e9d-da5d9795e100",
   "metadata": {},
   "source": [
    "The first column represents the name of the image and the remaining 4 columns represent the coordinates of the bounding box for that image."
   ]
  },
  {
   "cell_type": "markdown",
   "id": "9dfd326a-1a93-47af-87c0-fe7c047427a6",
   "metadata": {},
   "source": [
    "# 1. Preparing the dataframe"
   ]
  },
  {
   "cell_type": "code",
   "execution_count": 1,
   "id": "ccbde5d9-7505-4e2d-af07-7114e8ab1787",
   "metadata": {},
   "outputs": [],
   "source": [
    "import pandas as pd"
   ]
  },
  {
   "cell_type": "code",
   "execution_count": 2,
   "id": "0e5ecf6f-9405-471a-a5e9-a2cd6dba9a24",
   "metadata": {},
   "outputs": [
    {
     "data": {
      "text/html": [
       "<div>\n",
       "<style scoped>\n",
       "    .dataframe tbody tr th:only-of-type {\n",
       "        vertical-align: middle;\n",
       "    }\n",
       "\n",
       "    .dataframe tbody tr th {\n",
       "        vertical-align: top;\n",
       "    }\n",
       "\n",
       "    .dataframe thead th {\n",
       "        text-align: right;\n",
       "    }\n",
       "</style>\n",
       "<table border=\"1\" class=\"dataframe\">\n",
       "  <thead>\n",
       "    <tr style=\"text-align: right;\">\n",
       "      <th></th>\n",
       "      <th>image</th>\n",
       "      <th>xmin</th>\n",
       "      <th>ymin</th>\n",
       "      <th>xmax</th>\n",
       "      <th>ymax</th>\n",
       "    </tr>\n",
       "  </thead>\n",
       "  <tbody>\n",
       "    <tr>\n",
       "      <th>0</th>\n",
       "      <td>vid_4_1000.jpg</td>\n",
       "      <td>281.259045</td>\n",
       "      <td>187.035071</td>\n",
       "      <td>327.727931</td>\n",
       "      <td>223.225547</td>\n",
       "    </tr>\n",
       "    <tr>\n",
       "      <th>1</th>\n",
       "      <td>vid_4_10000.jpg</td>\n",
       "      <td>15.163531</td>\n",
       "      <td>187.035071</td>\n",
       "      <td>120.329957</td>\n",
       "      <td>236.430180</td>\n",
       "    </tr>\n",
       "    <tr>\n",
       "      <th>2</th>\n",
       "      <td>vid_4_10040.jpg</td>\n",
       "      <td>239.192475</td>\n",
       "      <td>176.764801</td>\n",
       "      <td>361.968162</td>\n",
       "      <td>236.430180</td>\n",
       "    </tr>\n",
       "    <tr>\n",
       "      <th>3</th>\n",
       "      <td>vid_4_10020.jpg</td>\n",
       "      <td>496.483358</td>\n",
       "      <td>172.363256</td>\n",
       "      <td>630.020260</td>\n",
       "      <td>231.539575</td>\n",
       "    </tr>\n",
       "    <tr>\n",
       "      <th>4</th>\n",
       "      <td>vid_4_10060.jpg</td>\n",
       "      <td>16.630970</td>\n",
       "      <td>186.546010</td>\n",
       "      <td>132.558611</td>\n",
       "      <td>238.386422</td>\n",
       "    </tr>\n",
       "    <tr>\n",
       "      <th>...</th>\n",
       "      <td>...</td>\n",
       "      <td>...</td>\n",
       "      <td>...</td>\n",
       "      <td>...</td>\n",
       "      <td>...</td>\n",
       "    </tr>\n",
       "    <tr>\n",
       "      <th>554</th>\n",
       "      <td>vid_4_9860.jpg</td>\n",
       "      <td>0.000000</td>\n",
       "      <td>198.321729</td>\n",
       "      <td>49.235251</td>\n",
       "      <td>236.223284</td>\n",
       "    </tr>\n",
       "    <tr>\n",
       "      <th>555</th>\n",
       "      <td>vid_4_9880.jpg</td>\n",
       "      <td>329.876184</td>\n",
       "      <td>156.482351</td>\n",
       "      <td>536.664239</td>\n",
       "      <td>250.497895</td>\n",
       "    </tr>\n",
       "    <tr>\n",
       "      <th>556</th>\n",
       "      <td>vid_4_9900.jpg</td>\n",
       "      <td>0.000000</td>\n",
       "      <td>168.295823</td>\n",
       "      <td>141.797524</td>\n",
       "      <td>239.176652</td>\n",
       "    </tr>\n",
       "    <tr>\n",
       "      <th>557</th>\n",
       "      <td>vid_4_9960.jpg</td>\n",
       "      <td>487.428988</td>\n",
       "      <td>172.233646</td>\n",
       "      <td>616.917699</td>\n",
       "      <td>228.839864</td>\n",
       "    </tr>\n",
       "    <tr>\n",
       "      <th>558</th>\n",
       "      <td>vid_4_9980.jpg</td>\n",
       "      <td>221.558631</td>\n",
       "      <td>182.570434</td>\n",
       "      <td>348.585579</td>\n",
       "      <td>238.192196</td>\n",
       "    </tr>\n",
       "  </tbody>\n",
       "</table>\n",
       "<p>559 rows × 5 columns</p>\n",
       "</div>"
      ],
      "text/plain": [
       "               image        xmin        ymin        xmax        ymax\n",
       "0     vid_4_1000.jpg  281.259045  187.035071  327.727931  223.225547\n",
       "1    vid_4_10000.jpg   15.163531  187.035071  120.329957  236.430180\n",
       "2    vid_4_10040.jpg  239.192475  176.764801  361.968162  236.430180\n",
       "3    vid_4_10020.jpg  496.483358  172.363256  630.020260  231.539575\n",
       "4    vid_4_10060.jpg   16.630970  186.546010  132.558611  238.386422\n",
       "..               ...         ...         ...         ...         ...\n",
       "554   vid_4_9860.jpg    0.000000  198.321729   49.235251  236.223284\n",
       "555   vid_4_9880.jpg  329.876184  156.482351  536.664239  250.497895\n",
       "556   vid_4_9900.jpg    0.000000  168.295823  141.797524  239.176652\n",
       "557   vid_4_9960.jpg  487.428988  172.233646  616.917699  228.839864\n",
       "558   vid_4_9980.jpg  221.558631  182.570434  348.585579  238.192196\n",
       "\n",
       "[559 rows x 5 columns]"
      ]
     },
     "execution_count": 2,
     "metadata": {},
     "output_type": "execute_result"
    }
   ],
   "source": [
    "df = pd.read_csv(\"../data/car-object-detection/train_solution_bounding_boxes (1).csv\")\n",
    "df"
   ]
  },
  {
   "cell_type": "markdown",
   "id": "cedfab86-b5ec-4c15-8d1c-59b944fa8b17",
   "metadata": {},
   "source": [
    "In the above dataframe, there are multiple rows with the same image name. This means that there are certain images that has multiple bounding boxes(for multuple cars)."
   ]
  },
  {
   "cell_type": "markdown",
   "id": "836eca13-7e06-498c-b89e-2576e4a1f23c",
   "metadata": {},
   "source": [
    "We will combine all those bounding boxes together, but, before that let’s create a column that contains the area of the bounding boxes, for that we need the height and width of the bounding boxes:"
   ]
  },
  {
   "cell_type": "code",
   "execution_count": 3,
   "id": "8517537c-5ae2-4c17-912c-06520b57118d",
   "metadata": {},
   "outputs": [],
   "source": [
    "df[\"bbox_width\"] = df[\"xmax\"] - df[\"xmin\"]\n",
    "df[\"bbox_height\"] = df[\"ymax\"] - df[\"ymin\"]"
   ]
  },
  {
   "cell_type": "markdown",
   "id": "7b15486a-7324-4e70-bebf-985851265bfd",
   "metadata": {},
   "source": [
    "Now let’s calculate the area and store it in a new column:"
   ]
  },
  {
   "cell_type": "code",
   "execution_count": 4,
   "id": "739ff0fb-8329-4291-a89a-fd50ccd2eb6e",
   "metadata": {},
   "outputs": [],
   "source": [
    "df[\"area\"] = df[\"bbox_width\"] * df[\"bbox_height\"]"
   ]
  },
  {
   "cell_type": "code",
   "execution_count": 5,
   "id": "722226b4-44d0-4067-9483-c172487ef67c",
   "metadata": {},
   "outputs": [
    {
     "data": {
      "text/html": [
       "<div>\n",
       "<style scoped>\n",
       "    .dataframe tbody tr th:only-of-type {\n",
       "        vertical-align: middle;\n",
       "    }\n",
       "\n",
       "    .dataframe tbody tr th {\n",
       "        vertical-align: top;\n",
       "    }\n",
       "\n",
       "    .dataframe thead th {\n",
       "        text-align: right;\n",
       "    }\n",
       "</style>\n",
       "<table border=\"1\" class=\"dataframe\">\n",
       "  <thead>\n",
       "    <tr style=\"text-align: right;\">\n",
       "      <th></th>\n",
       "      <th>image</th>\n",
       "      <th>xmin</th>\n",
       "      <th>ymin</th>\n",
       "      <th>xmax</th>\n",
       "      <th>ymax</th>\n",
       "      <th>bbox_width</th>\n",
       "      <th>bbox_height</th>\n",
       "      <th>area</th>\n",
       "    </tr>\n",
       "  </thead>\n",
       "  <tbody>\n",
       "    <tr>\n",
       "      <th>0</th>\n",
       "      <td>vid_4_1000.jpg</td>\n",
       "      <td>281.259045</td>\n",
       "      <td>187.035071</td>\n",
       "      <td>327.727931</td>\n",
       "      <td>223.225547</td>\n",
       "      <td>46.468886</td>\n",
       "      <td>36.190476</td>\n",
       "      <td>1681.731098</td>\n",
       "    </tr>\n",
       "    <tr>\n",
       "      <th>1</th>\n",
       "      <td>vid_4_10000.jpg</td>\n",
       "      <td>15.163531</td>\n",
       "      <td>187.035071</td>\n",
       "      <td>120.329957</td>\n",
       "      <td>236.430180</td>\n",
       "      <td>105.166425</td>\n",
       "      <td>49.395109</td>\n",
       "      <td>5194.707092</td>\n",
       "    </tr>\n",
       "    <tr>\n",
       "      <th>2</th>\n",
       "      <td>vid_4_10040.jpg</td>\n",
       "      <td>239.192475</td>\n",
       "      <td>176.764801</td>\n",
       "      <td>361.968162</td>\n",
       "      <td>236.430180</td>\n",
       "      <td>122.775687</td>\n",
       "      <td>59.665380</td>\n",
       "      <td>7325.458007</td>\n",
       "    </tr>\n",
       "    <tr>\n",
       "      <th>3</th>\n",
       "      <td>vid_4_10020.jpg</td>\n",
       "      <td>496.483358</td>\n",
       "      <td>172.363256</td>\n",
       "      <td>630.020260</td>\n",
       "      <td>231.539575</td>\n",
       "      <td>133.536903</td>\n",
       "      <td>59.176319</td>\n",
       "      <td>7902.222397</td>\n",
       "    </tr>\n",
       "    <tr>\n",
       "      <th>4</th>\n",
       "      <td>vid_4_10060.jpg</td>\n",
       "      <td>16.630970</td>\n",
       "      <td>186.546010</td>\n",
       "      <td>132.558611</td>\n",
       "      <td>238.386422</td>\n",
       "      <td>115.927641</td>\n",
       "      <td>51.840412</td>\n",
       "      <td>6009.736653</td>\n",
       "    </tr>\n",
       "  </tbody>\n",
       "</table>\n",
       "</div>"
      ],
      "text/plain": [
       "             image        xmin        ymin        xmax        ymax  \\\n",
       "0   vid_4_1000.jpg  281.259045  187.035071  327.727931  223.225547   \n",
       "1  vid_4_10000.jpg   15.163531  187.035071  120.329957  236.430180   \n",
       "2  vid_4_10040.jpg  239.192475  176.764801  361.968162  236.430180   \n",
       "3  vid_4_10020.jpg  496.483358  172.363256  630.020260  231.539575   \n",
       "4  vid_4_10060.jpg   16.630970  186.546010  132.558611  238.386422   \n",
       "\n",
       "   bbox_width  bbox_height         area  \n",
       "0   46.468886    36.190476  1681.731098  \n",
       "1  105.166425    49.395109  5194.707092  \n",
       "2  122.775687    59.665380  7325.458007  \n",
       "3  133.536903    59.176319  7902.222397  \n",
       "4  115.927641    51.840412  6009.736653  "
      ]
     },
     "execution_count": 5,
     "metadata": {},
     "output_type": "execute_result"
    }
   ],
   "source": [
    "df.head()"
   ]
  },
  {
   "cell_type": "markdown",
   "id": "53e3e5af-9114-4cf2-9a62-68b06448811b",
   "metadata": {},
   "source": [
    "Now we will group and put all bounding boxes of same image in a single row instead of multiple rows:"
   ]
  },
  {
   "cell_type": "code",
   "execution_count": 6,
   "id": "304be4e4-49a5-40a2-8c6b-6b0dba5dd450",
   "metadata": {},
   "outputs": [],
   "source": [
    "df = df.groupby(\"image\").agg(list)\n",
    "df.reset_index(inplace=True)"
   ]
  },
  {
   "cell_type": "code",
   "execution_count": 7,
   "id": "26c621ee-218b-418a-a1c8-5bb63f053837",
   "metadata": {},
   "outputs": [
    {
     "data": {
      "text/html": [
       "<div>\n",
       "<style scoped>\n",
       "    .dataframe tbody tr th:only-of-type {\n",
       "        vertical-align: middle;\n",
       "    }\n",
       "\n",
       "    .dataframe tbody tr th {\n",
       "        vertical-align: top;\n",
       "    }\n",
       "\n",
       "    .dataframe thead th {\n",
       "        text-align: right;\n",
       "    }\n",
       "</style>\n",
       "<table border=\"1\" class=\"dataframe\">\n",
       "  <thead>\n",
       "    <tr style=\"text-align: right;\">\n",
       "      <th></th>\n",
       "      <th>image</th>\n",
       "      <th>xmin</th>\n",
       "      <th>ymin</th>\n",
       "      <th>xmax</th>\n",
       "      <th>ymax</th>\n",
       "      <th>bbox_width</th>\n",
       "      <th>bbox_height</th>\n",
       "      <th>area</th>\n",
       "    </tr>\n",
       "  </thead>\n",
       "  <tbody>\n",
       "    <tr>\n",
       "      <th>0</th>\n",
       "      <td>vid_4_1000.jpg</td>\n",
       "      <td>[281.2590449]</td>\n",
       "      <td>[187.0350708]</td>\n",
       "      <td>[327.7279305]</td>\n",
       "      <td>[223.225547]</td>\n",
       "      <td>[46.46888560000002]</td>\n",
       "      <td>[36.190476200000006]</td>\n",
       "      <td>[1681.7310983473237]</td>\n",
       "    </tr>\n",
       "    <tr>\n",
       "      <th>1</th>\n",
       "      <td>vid_4_10000.jpg</td>\n",
       "      <td>[15.16353111]</td>\n",
       "      <td>[187.0350708]</td>\n",
       "      <td>[120.3299566]</td>\n",
       "      <td>[236.4301802]</td>\n",
       "      <td>[105.16642549000001]</td>\n",
       "      <td>[49.395109399999996]</td>\n",
       "      <td>[5194.707092285498]</td>\n",
       "    </tr>\n",
       "    <tr>\n",
       "      <th>2</th>\n",
       "      <td>vid_4_10020.jpg</td>\n",
       "      <td>[496.4833575]</td>\n",
       "      <td>[172.3632561]</td>\n",
       "      <td>[630.0202605]</td>\n",
       "      <td>[231.5395753]</td>\n",
       "      <td>[133.53690299999994]</td>\n",
       "      <td>[59.176319199999995]</td>\n",
       "      <td>[7902.222396907433]</td>\n",
       "    </tr>\n",
       "    <tr>\n",
       "      <th>3</th>\n",
       "      <td>vid_4_10040.jpg</td>\n",
       "      <td>[239.1924747]</td>\n",
       "      <td>[176.7648005]</td>\n",
       "      <td>[361.9681621]</td>\n",
       "      <td>[236.4301802]</td>\n",
       "      <td>[122.77568739999998]</td>\n",
       "      <td>[59.66537969999999]</td>\n",
       "      <td>[7325.458006649504]</td>\n",
       "    </tr>\n",
       "    <tr>\n",
       "      <th>4</th>\n",
       "      <td>vid_4_10060.jpg</td>\n",
       "      <td>[16.63096961]</td>\n",
       "      <td>[186.5460103]</td>\n",
       "      <td>[132.5586107]</td>\n",
       "      <td>[238.3864221]</td>\n",
       "      <td>[115.92764109000001]</td>\n",
       "      <td>[51.8404118]</td>\n",
       "      <td>[6009.736653108201]</td>\n",
       "    </tr>\n",
       "  </tbody>\n",
       "</table>\n",
       "</div>"
      ],
      "text/plain": [
       "             image           xmin           ymin           xmax  \\\n",
       "0   vid_4_1000.jpg  [281.2590449]  [187.0350708]  [327.7279305]   \n",
       "1  vid_4_10000.jpg  [15.16353111]  [187.0350708]  [120.3299566]   \n",
       "2  vid_4_10020.jpg  [496.4833575]  [172.3632561]  [630.0202605]   \n",
       "3  vid_4_10040.jpg  [239.1924747]  [176.7648005]  [361.9681621]   \n",
       "4  vid_4_10060.jpg  [16.63096961]  [186.5460103]  [132.5586107]   \n",
       "\n",
       "            ymax            bbox_width           bbox_height  \\\n",
       "0   [223.225547]   [46.46888560000002]  [36.190476200000006]   \n",
       "1  [236.4301802]  [105.16642549000001]  [49.395109399999996]   \n",
       "2  [231.5395753]  [133.53690299999994]  [59.176319199999995]   \n",
       "3  [236.4301802]  [122.77568739999998]   [59.66537969999999]   \n",
       "4  [238.3864221]  [115.92764109000001]          [51.8404118]   \n",
       "\n",
       "                   area  \n",
       "0  [1681.7310983473237]  \n",
       "1   [5194.707092285498]  \n",
       "2   [7902.222396907433]  \n",
       "3   [7325.458006649504]  \n",
       "4   [6009.736653108201]  "
      ]
     },
     "execution_count": 7,
     "metadata": {},
     "output_type": "execute_result"
    }
   ],
   "source": [
    "df.head()"
   ]
  },
  {
   "cell_type": "code",
   "execution_count": 8,
   "id": "ac04c6fc-7905-4884-bc82-9087d5b03394",
   "metadata": {},
   "outputs": [
    {
     "data": {
      "text/html": [
       "<div>\n",
       "<style scoped>\n",
       "    .dataframe tbody tr th:only-of-type {\n",
       "        vertical-align: middle;\n",
       "    }\n",
       "\n",
       "    .dataframe tbody tr th {\n",
       "        vertical-align: top;\n",
       "    }\n",
       "\n",
       "    .dataframe thead th {\n",
       "        text-align: right;\n",
       "    }\n",
       "</style>\n",
       "<table border=\"1\" class=\"dataframe\">\n",
       "  <thead>\n",
       "    <tr style=\"text-align: right;\">\n",
       "      <th></th>\n",
       "      <th>image</th>\n",
       "      <th>xmin</th>\n",
       "      <th>ymin</th>\n",
       "      <th>xmax</th>\n",
       "      <th>ymax</th>\n",
       "      <th>bbox_width</th>\n",
       "      <th>bbox_height</th>\n",
       "      <th>area</th>\n",
       "    </tr>\n",
       "  </thead>\n",
       "  <tbody>\n",
       "    <tr>\n",
       "      <th>215</th>\n",
       "      <td>vid_4_26460.jpg</td>\n",
       "      <td>[0.0, 34.72937771, 179.5166425, 197.1259045, 3...</td>\n",
       "      <td>[194.8600386, 191.4366152, 202.6850064, 192.90...</td>\n",
       "      <td>[42.55571635, 84.62228654, 252.8885673, 319.90...</td>\n",
       "      <td>[232.5176963, 226.6489704, 230.5614543, 233.98...</td>\n",
       "      <td>[42.55571635, 49.89290883, 73.37192480000002, ...</td>\n",
       "      <td>[37.657657700000016, 35.21235519999999, 27.876...</td>\n",
       "      <td>[1602.548599486594, 1756.8468276831761, 2045.3...</td>\n",
       "    </tr>\n",
       "  </tbody>\n",
       "</table>\n",
       "</div>"
      ],
      "text/plain": [
       "               image                                               xmin  \\\n",
       "215  vid_4_26460.jpg  [0.0, 34.72937771, 179.5166425, 197.1259045, 3...   \n",
       "\n",
       "                                                  ymin  \\\n",
       "215  [194.8600386, 191.4366152, 202.6850064, 192.90...   \n",
       "\n",
       "                                                  xmax  \\\n",
       "215  [42.55571635, 84.62228654, 252.8885673, 319.90...   \n",
       "\n",
       "                                                  ymax  \\\n",
       "215  [232.5176963, 226.6489704, 230.5614543, 233.98...   \n",
       "\n",
       "                                            bbox_width  \\\n",
       "215  [42.55571635, 49.89290883, 73.37192480000002, ...   \n",
       "\n",
       "                                           bbox_height  \\\n",
       "215  [37.657657700000016, 35.21235519999999, 27.876...   \n",
       "\n",
       "                                                  area  \n",
       "215  [1602.548599486594, 1756.8468276831761, 2045.3...  "
      ]
     },
     "execution_count": 8,
     "metadata": {},
     "output_type": "execute_result"
    }
   ],
   "source": [
    "# Sample with multiple boxes\n",
    "df.query(\"image == 'vid_4_26460.jpg'\")"
   ]
  },
  {
   "cell_type": "markdown",
   "id": "85e92162-2229-4966-83f9-7f66cad0fc61",
   "metadata": {},
   "source": [
    "Since the dataframe is ready, let’s split it into training and validation sets:"
   ]
  },
  {
   "cell_type": "code",
   "execution_count": 9,
   "id": "28bdc98d-0292-4de2-9743-342a391017a7",
   "metadata": {},
   "outputs": [],
   "source": [
    "from sklearn.model_selection import train_test_split"
   ]
  },
  {
   "cell_type": "code",
   "execution_count": 10,
   "id": "06540410-6640-4f35-a78b-ef2e25144afc",
   "metadata": {},
   "outputs": [],
   "source": [
    "train_df, val_df = train_test_split(df, test_size=0.1, shuffle=False)\n",
    "train_df.reset_index(inplace=True)\n",
    "val_df.reset_index(inplace=True)"
   ]
  },
  {
   "cell_type": "markdown",
   "id": "00de2701-4b9d-4d94-8b00-cc527ff600e4",
   "metadata": {},
   "source": [
    "# 2. Loading the images and bounding boxes"
   ]
  },
  {
   "cell_type": "markdown",
   "id": "7a684e3e-dee5-49b9-a134-d6a7bb9ded1b",
   "metadata": {},
   "source": [
    "Now we will write a data set loading class with pytorch. This class will take the dataframe(either training or validation), root path where the images are present and some augmentations/transforms to apply to the image.\n",
    "\n",
    "Before writing the whole dataset loading class, let’s take a sample image and it’s bounding boxes from the dataframe to see what is really happening while loading our data."
   ]
  },
  {
   "cell_type": "markdown",
   "id": "51c7e27a-9a70-408c-b95b-29bb7af7d4da",
   "metadata": {},
   "source": [
    "1) First let’s take a sample image containing multiple bounding boxes:"
   ]
  },
  {
   "cell_type": "code",
   "execution_count": 11,
   "id": "7f9684bd-be1b-4bc0-a90c-9195561684e5",
   "metadata": {},
   "outputs": [],
   "source": [
    "sample = train_df.iloc[215]\n",
    "img_name = sample[\"image\"]\n",
    "bboxes = sample[[\"xmin\", \"ymin\", \"xmax\", \"ymax\"]].values"
   ]
  },
  {
   "cell_type": "code",
   "execution_count": 12,
   "id": "99bf1b33-f04f-4e31-925b-1f665211ae1b",
   "metadata": {},
   "outputs": [
    {
     "data": {
      "text/plain": [
       "index                                                        215\n",
       "image                                            vid_4_26460.jpg\n",
       "xmin           [0.0, 34.72937771, 179.5166425, 197.1259045, 3...\n",
       "ymin           [194.8600386, 191.4366152, 202.6850064, 192.90...\n",
       "xmax           [42.55571635, 84.62228654, 252.8885673, 319.90...\n",
       "ymax           [232.5176963, 226.6489704, 230.5614543, 233.98...\n",
       "bbox_width     [42.55571635, 49.89290883, 73.37192480000002, ...\n",
       "bbox_height    [37.657657700000016, 35.21235519999999, 27.876...\n",
       "area           [1602.548599486594, 1756.8468276831761, 2045.3...\n",
       "Name: 215, dtype: object"
      ]
     },
     "execution_count": 12,
     "metadata": {},
     "output_type": "execute_result"
    }
   ],
   "source": [
    "sample"
   ]
  },
  {
   "cell_type": "code",
   "execution_count": 13,
   "id": "7c3d997e-260e-4571-8939-1a937bf7f6a1",
   "metadata": {},
   "outputs": [
    {
     "data": {
      "text/plain": [
       "array([list([0.0, 34.72937771, 179.5166425, 197.1259045, 364.4138929, 473.4934877, 563.4963821]),\n",
       "       list([194.8600386, 191.4366152, 202.6850064, 192.9037967, 181.6554054, 185.5678893, 177.253861]),\n",
       "       list([42.55571635, 84.62228654, 252.8885673, 319.9015919, 454.4167873, 573.2793054, 652.5209841]),\n",
       "       list([232.5176963, 226.6489704, 230.5614543, 233.9848777, 219.8021236, 227.1380309, 213.9333977])],\n",
       "      dtype=object)"
      ]
     },
     "execution_count": 13,
     "metadata": {},
     "output_type": "execute_result"
    }
   ],
   "source": [
    "bboxes"
   ]
  },
  {
   "cell_type": "markdown",
   "id": "17749f5b-fc29-45ef-9e7f-f9473f371e09",
   "metadata": {},
   "source": [
    "2) We will read the image using opencv, convert it to RGB format and normalize it:"
   ]
  },
  {
   "cell_type": "code",
   "execution_count": 14,
   "id": "aca94429-4312-49fe-97ae-f8175ae9985e",
   "metadata": {},
   "outputs": [],
   "source": [
    "from pathlib import Path\n",
    "\n",
    "import cv2\n",
    "import matplotlib.pyplot as plt"
   ]
  },
  {
   "cell_type": "code",
   "execution_count": 15,
   "id": "7d8cef06-50c9-4953-a7fe-1e00f0d83b0e",
   "metadata": {},
   "outputs": [],
   "source": [
    "# root path where images are present\n",
    "img_root_path = Path(\"../data/car-object-detection/training_images\")"
   ]
  },
  {
   "cell_type": "code",
   "execution_count": 16,
   "id": "b57f7332-f4bc-4e45-acbc-1c5c4fb56615",
   "metadata": {},
   "outputs": [],
   "source": [
    "img = cv2.imread(str(img_root_path / img_name))\n",
    "img = cv2.cvtColor(img, cv2.COLOR_BGR2RGB) / 255.0"
   ]
  },
  {
   "cell_type": "code",
   "execution_count": 17,
   "id": "59cd2250-94ba-4dde-b087-3cd18ffd2c74",
   "metadata": {},
   "outputs": [
    {
     "data": {
      "text/plain": [
       "(380, 676, 3)"
      ]
     },
     "execution_count": 17,
     "metadata": {},
     "output_type": "execute_result"
    }
   ],
   "source": [
    "img.shape"
   ]
  },
  {
   "cell_type": "code",
   "execution_count": 18,
   "id": "fbb0adfb-ce77-4c6e-bf89-188c0ad90210",
   "metadata": {},
   "outputs": [
    {
     "data": {
      "text/plain": [
       "<matplotlib.image.AxesImage at 0x1603a3d6160>"
      ]
     },
     "execution_count": 18,
     "metadata": {},
     "output_type": "execute_result"
    },
    {
     "data": {
      "image/png": "[encoded data removed]",
      "text/plain": [
       "<Figure size 640x480 with 1 Axes>"
      ]
     },
     "metadata": {},
     "output_type": "display_data"
    }
   ],
   "source": [
    "plt.imshow(img)"
   ]
  },
  {
   "cell_type": "markdown",
   "id": "0481999e-0400-43f7-9869-63cab7415f5c",
   "metadata": {},
   "source": [
    "3) Since our bounding box coordinates are in a list format, let’s convert all of them into pytorch tensor and store it in tuple format:"
   ]
  },
  {
   "cell_type": "code",
   "execution_count": 19,
   "id": "df325395-824b-4c5f-a2d2-17d5785128fb",
   "metadata": {},
   "outputs": [],
   "source": [
    "import torch"
   ]
  },
  {
   "cell_type": "code",
   "execution_count": 20,
   "id": "a6af1132-66d6-4c36-b230-a8e14da99175",
   "metadata": {},
   "outputs": [],
   "source": [
    "bboxes = tuple(map(torch.tensor, zip(*bboxes)))"
   ]
  },
  {
   "cell_type": "code",
   "execution_count": 21,
   "id": "42152634-90b2-4567-90cd-911f3d3c6d6b",
   "metadata": {},
   "outputs": [
    {
     "data": {
      "text/plain": [
       "(tensor([  0.0000, 194.8600,  42.5557, 232.5177]),\n",
       " tensor([ 34.7294, 191.4366,  84.6223, 226.6490]),\n",
       " tensor([179.5166, 202.6850, 252.8886, 230.5614]),\n",
       " tensor([197.1259, 192.9038, 319.9016, 233.9849]),\n",
       " tensor([364.4139, 181.6554, 454.4168, 219.8021]),\n",
       " tensor([473.4935, 185.5679, 573.2793, 227.1380]),\n",
       " tensor([563.4964, 177.2539, 652.5210, 213.9334]))"
      ]
     },
     "execution_count": 21,
     "metadata": {},
     "output_type": "execute_result"
    }
   ],
   "source": [
    "bboxes"
   ]
  },
  {
   "cell_type": "markdown",
   "id": "417fa7a6-ee7a-4ed1-977d-cc8d68f3692e",
   "metadata": {},
   "source": [
    "Each tensor represents the `xmin`, `ymin`, `xmax` and `ymax` of a bounding box. Having 7 tensors means that we have 7 bounding boxes in total."
   ]
  },
  {
   "cell_type": "markdown",
   "id": "f2af0f61-1628-433a-a9b2-0f96d89da7d4",
   "metadata": {},
   "source": [
    "4) Now we will stack all the above tensors into a single tensor of shape (7, 4):"
   ]
  },
  {
   "cell_type": "code",
   "execution_count": 22,
   "id": "7f6a1e3c-21df-463a-9ac7-462fea2dab76",
   "metadata": {},
   "outputs": [],
   "source": [
    "bboxes = torch.stack(bboxes, dim=0)"
   ]
  },
  {
   "cell_type": "code",
   "execution_count": 23,
   "id": "bb05ddaf-099e-4991-a62a-bf001229383f",
   "metadata": {},
   "outputs": [
    {
     "data": {
      "text/plain": [
       "tensor([[  0.0000, 194.8600,  42.5557, 232.5177],\n",
       "        [ 34.7294, 191.4366,  84.6223, 226.6490],\n",
       "        [179.5166, 202.6850, 252.8886, 230.5614],\n",
       "        [197.1259, 192.9038, 319.9016, 233.9849],\n",
       "        [364.4139, 181.6554, 454.4168, 219.8021],\n",
       "        [473.4935, 185.5679, 573.2793, 227.1380],\n",
       "        [563.4964, 177.2539, 652.5210, 213.9334]])"
      ]
     },
     "execution_count": 23,
     "metadata": {},
     "output_type": "execute_result"
    }
   ],
   "source": [
    "bboxes"
   ]
  },
  {
   "cell_type": "markdown",
   "id": "a08758d3-91c2-4b2d-8797-013d239a2b36",
   "metadata": {},
   "source": [
    "5) We will be using a faster rcnn model for our object detection task. This model requires the class/label corresponding to each bounding box. Thus, corresponding to each bounding box in an image, we should provide a label. In our case we only have bounding boxes for car, so we only have one label. The label 0 is reserved for background, so we will use 1 as the label for car."
   ]
  },
  {
   "cell_type": "markdown",
   "id": "95234cc0-7621-4fce-a231-5c97086f5b8d",
   "metadata": {},
   "source": [
    "So, let’s create a tensor containing 1s that has the same length as the number of bounding boxes in the image:"
   ]
  },
  {
   "cell_type": "code",
   "execution_count": 24,
   "id": "29588db4-52cf-4237-aa17-2a9bf12cfe47",
   "metadata": {},
   "outputs": [],
   "source": [
    "labels = torch.ones(len(bboxes), dtype=torch.int64)"
   ]
  },
  {
   "cell_type": "code",
   "execution_count": 25,
   "id": "13b143eb-4081-4627-9a64-9b068e374caa",
   "metadata": {},
   "outputs": [
    {
     "data": {
      "text/plain": [
       "tensor([1, 1, 1, 1, 1, 1, 1])"
      ]
     },
     "execution_count": 25,
     "metadata": {},
     "output_type": "execute_result"
    }
   ],
   "source": [
    "labels"
   ]
  },
  {
   "cell_type": "markdown",
   "id": "f94c2545-c6c7-4048-b5fe-dc5ff4a93e3f",
   "metadata": {},
   "source": [
    "6) Now, let’s define the transforms/augmentations that we wish to apply to the image. We will use the ‘albumentations’ library for this. We will resize the image and convert it to tensors."
   ]
  },
  {
   "cell_type": "markdown",
   "id": "5817354d-83b9-4f4c-82aa-c97c4ea57b97",
   "metadata": {},
   "source": [
    "Since this is an object detection task, we cannot simply resize the image without resizing the bounding boxes. But albumentations will automatically take care of this if we pass the `bbox` parameter to our transforms, it requires the bounding box format we are using as well as the key to store the labels."
   ]
  },
  {
   "cell_type": "markdown",
   "id": "b9ed49cc-2774-48ff-abe0-193ea760a480",
   "metadata": {},
   "source": [
    "> Note: The bounding box format we are using is (`xmin`, `ymin`, `xmax`, `ymax`) which is the ‘pascal voc’ format."
   ]
  },
  {
   "cell_type": "code",
   "execution_count": 26,
   "id": "da57b545-403c-42c9-9350-46850c9733c3",
   "metadata": {},
   "outputs": [],
   "source": [
    "import albumentations as A\n",
    "from albumentations.pytorch.transforms import ToTensorV2"
   ]
  },
  {
   "cell_type": "code",
   "execution_count": 27,
   "id": "6c5f1a2b-f457-419e-bc0a-3d0c93d98c26",
   "metadata": {},
   "outputs": [],
   "source": [
    "transforms = A.Compose(\n",
    "    [\n",
    "        A.Resize(256, 256, p=1.0),  # resize the image\n",
    "        ToTensorV2(p=1.0),\n",
    "    ],\n",
    "    bbox_params={\"format\": \"pascal_voc\", \"label_fields\": [\"labels\"]},\n",
    ")  # bounding box parameters"
   ]
  },
  {
   "cell_type": "code",
   "execution_count": 28,
   "id": "5e826c8b-987d-4f6a-a765-50ec1f989625",
   "metadata": {},
   "outputs": [],
   "source": [
    "augmented = transforms(image=img, bboxes=bboxes, labels=labels)"
   ]
  },
  {
   "cell_type": "code",
   "execution_count": 29,
   "id": "45129d28-c91e-4277-9113-9142a35fc9b3",
   "metadata": {},
   "outputs": [
    {
     "data": {
      "text/plain": [
       "{'image': tensor([[[0.3294, 0.3234, 0.3255,  ..., 0.2673, 0.2721, 0.2809],\n",
       "          [0.3266, 0.3291, 0.3312,  ..., 0.2760, 0.2798, 0.2858],\n",
       "          [0.3286, 0.3325, 0.3364,  ..., 0.2758, 0.2821, 0.2776],\n",
       "          ...,\n",
       "          [0.0469, 0.0465, 0.0434,  ..., 0.0352, 0.0336, 0.0312],\n",
       "          [0.0455, 0.0447, 0.0435,  ..., 0.0314, 0.0327, 0.0314],\n",
       "          [0.0431, 0.0431, 0.0435,  ..., 0.0314, 0.0314, 0.0314]],\n",
       " \n",
       "         [[0.5765, 0.5822, 0.5843,  ..., 0.5301, 0.5207, 0.5240],\n",
       "          [0.5822, 0.5879, 0.5900,  ..., 0.5330, 0.5283, 0.5289],\n",
       "          [0.5874, 0.5922, 0.5961,  ..., 0.5307, 0.5320, 0.5232],\n",
       "          ...,\n",
       "          [0.0805, 0.0801, 0.0787,  ..., 0.0705, 0.0689, 0.0665],\n",
       "          [0.0797, 0.0794, 0.0788,  ..., 0.0667, 0.0680, 0.0667],\n",
       "          [0.0745, 0.0763, 0.0788,  ..., 0.0667, 0.0667, 0.0667]],\n",
       " \n",
       "         [[0.8863, 0.8881, 0.8902,  ..., 0.8477, 0.8444, 0.8495],\n",
       "          [0.8891, 0.8938, 0.8959,  ..., 0.8535, 0.8520, 0.8544],\n",
       "          [0.8933, 0.8980, 0.9020,  ..., 0.8522, 0.8553, 0.8479],\n",
       "          ...,\n",
       "          [0.1464, 0.1459, 0.1375,  ..., 0.1293, 0.1277, 0.1253],\n",
       "          [0.1485, 0.1472, 0.1398,  ..., 0.1255, 0.1268, 0.1255],\n",
       "          [0.1490, 0.1472, 0.1455,  ..., 0.1255, 0.1255, 0.1255]]],\n",
       "        dtype=torch.float64),\n",
       " 'bboxes': [(0.0, 131.2741241455078, 16.115774154663086, 156.6435089111328),\n",
       "  (13.15195369720459,\n",
       "   128.9678192138672,\n",
       "   32.04631042480469,\n",
       "   152.68983459472656),\n",
       "  (67.98263549804688, 136.5457000732422, 95.76844787597656, 155.3256072998047),\n",
       "  (74.65122985839844,\n",
       "   129.95623779296875,\n",
       "   121.14616394042969,\n",
       "   157.6319122314453),\n",
       "  (138.0028839111328,\n",
       "   122.37837982177734,\n",
       "   172.08682250976562,\n",
       "   148.0772247314453),\n",
       "  (179.31114196777344,\n",
       "   125.01415252685547,\n",
       "   217.099853515625,\n",
       "   153.01930236816406),\n",
       "  (213.39508056640625,\n",
       "   119.41312408447266,\n",
       "   247.10853576660156,\n",
       "   144.12355041503906)],\n",
       " 'labels': [tensor(1),\n",
       "  tensor(1),\n",
       "  tensor(1),\n",
       "  tensor(1),\n",
       "  tensor(1),\n",
       "  tensor(1),\n",
       "  tensor(1)]}"
      ]
     },
     "execution_count": 29,
     "metadata": {},
     "output_type": "execute_result"
    }
   ],
   "source": [
    "augmented"
   ]
  },
  {
   "cell_type": "markdown",
   "id": "eb9bbcb5-f49e-40e0-a144-63951d3ecd8e",
   "metadata": {},
   "source": [
    "The output will be a dictionary containing labels, augmented image and bounding boxes."
   ]
  },
  {
   "cell_type": "markdown",
   "id": "4487c5d5-21cc-44e7-ad51-452776bf1623",
   "metadata": {},
   "source": [
    "7) After augmentation, the bounding boxes are stored in a list as tuples. But our model expects them as stacked tensors. So, we have to convert the bounding boxes to that format."
   ]
  },
  {
   "cell_type": "markdown",
   "id": "d74230e8-596c-4ef7-b1cd-098e051a4b4d",
   "metadata": {},
   "source": [
    "We will convert each bounding box to tensor format, store them in a tuple and then stack them to a single tensor as we did earlier:"
   ]
  },
  {
   "cell_type": "code",
   "execution_count": 30,
   "id": "faaceb5b-2c93-4858-9ff5-67f175b48eb8",
   "metadata": {},
   "outputs": [],
   "source": [
    "# convert to tensor\n",
    "bboxes = map(torch.tensor, zip(*augmented[\"bboxes\"]))\n",
    "# store as tuples\n",
    "bboxes = tuple(bboxes)\n",
    "# stack into a single tensor\n",
    "bboxes = torch.stack(bboxes, dim=0)"
   ]
  },
  {
   "cell_type": "markdown",
   "id": "217a1f40-320a-463e-b45c-a05404939685",
   "metadata": {},
   "source": [
    "8) Now let’s convert the data types to the format as required by the model(otherwise we will get errors while training):"
   ]
  },
  {
   "cell_type": "code",
   "execution_count": 31,
   "id": "2a6ebbdb-7ebc-4aed-8e30-62c15d5ded8c",
   "metadata": {},
   "outputs": [
    {
     "data": {
      "text/plain": [
       "tensor([[  0.0000,  13.1520,  67.9826,  74.6512, 138.0029, 179.3111, 213.3951],\n",
       "        [131.2741, 128.9678, 136.5457, 129.9562, 122.3784, 125.0142, 119.4131],\n",
       "        [ 16.1158,  32.0463,  95.7684, 121.1462, 172.0868, 217.0999, 247.1085],\n",
       "        [156.6435, 152.6898, 155.3256, 157.6319, 148.0772, 153.0193, 144.1236]],\n",
       "       dtype=torch.float64)"
      ]
     },
     "execution_count": 31,
     "metadata": {},
     "output_type": "execute_result"
    }
   ],
   "source": [
    "bboxes"
   ]
  },
  {
   "cell_type": "code",
   "execution_count": 32,
   "id": "abd99a4c-1180-47a5-a87d-f0f3a3d44c97",
   "metadata": {},
   "outputs": [
    {
     "data": {
      "text/plain": [
       "torch.Size([4, 7])"
      ]
     },
     "execution_count": 32,
     "metadata": {},
     "output_type": "execute_result"
    }
   ],
   "source": [
    "bboxes.shape"
   ]
  },
  {
   "cell_type": "code",
   "execution_count": 33,
   "id": "556c9319-d239-4db9-b624-2cad06712d25",
   "metadata": {},
   "outputs": [],
   "source": [
    "img = augmented[\"image\"].type(torch.float32)\n",
    "bboxes = bboxes.permute(1, 0).type(torch.float32)"
   ]
  },
  {
   "cell_type": "code",
   "execution_count": 34,
   "id": "f1f5052d-c1c7-4950-9706-f570cb74712e",
   "metadata": {},
   "outputs": [
    {
     "data": {
      "text/plain": [
       "tensor([[  0.0000, 131.2741,  16.1158, 156.6435],\n",
       "        [ 13.1520, 128.9678,  32.0463, 152.6898],\n",
       "        [ 67.9826, 136.5457,  95.7684, 155.3256],\n",
       "        [ 74.6512, 129.9562, 121.1462, 157.6319],\n",
       "        [138.0029, 122.3784, 172.0868, 148.0772],\n",
       "        [179.3111, 125.0142, 217.0999, 153.0193],\n",
       "        [213.3951, 119.4131, 247.1085, 144.1236]])"
      ]
     },
     "execution_count": 34,
     "metadata": {},
     "output_type": "execute_result"
    }
   ],
   "source": [
    "bboxes"
   ]
  },
  {
   "cell_type": "markdown",
   "id": "1b7d7dbb-db4f-4058-ad4f-7043a3d7e950",
   "metadata": {},
   "source": [
    "9) Our image, bounding boxes and its labels are ready. But the model expects some more elements apart from these, which includes ‘area’ and ‘iscrowd’."
   ]
  },
  {
   "cell_type": "markdown",
   "id": "e6b3e24e-4984-459c-bc56-00f1c69316ec",
   "metadata": {},
   "source": [
    "The term ‘area’ is nothing but the area of the bounding box. We have already calculated it earlier, so let’s just take it and convert to a pytorch tensor:"
   ]
  },
  {
   "cell_type": "code",
   "execution_count": 35,
   "id": "99c06c6e-d372-42ff-bca7-a13ccdff7c25",
   "metadata": {},
   "outputs": [],
   "source": [
    "area = sample[\"area\"]\n",
    "area = torch.as_tensor(area, dtype=torch.float32)"
   ]
  },
  {
   "cell_type": "code",
   "execution_count": 36,
   "id": "21f1b83e-346f-42d8-b3ad-e48f542e12f8",
   "metadata": {},
   "outputs": [
    {
     "data": {
      "text/plain": [
       "tensor([1602.5486, 1756.8468, 2045.3486, 5043.7578, 3433.3149, 4148.1104,\n",
       "        3265.3811])"
      ]
     },
     "execution_count": 36,
     "metadata": {},
     "output_type": "execute_result"
    }
   ],
   "source": [
    "area"
   ]
  },
  {
   "cell_type": "markdown",
   "id": "801a6360-448f-4783-81a7-3d32374a9ff3",
   "metadata": {},
   "source": [
    "But what is this ‘iscrowd’ element? This element is helpful if we want our model to exclude certain bounding boxes.\n",
    "\n",
    "If ‘iscrowd’ is 1, that bounding box is not considered by the model. But we want the model to consider all bounding boxes. So we will put the value 0 for ‘iscrowd’ corresponding to each bounding box:"
   ]
  },
  {
   "cell_type": "markdown",
   "id": "f23f13d8-3bd9-477e-8379-1f496a1d0eb2",
   "metadata": {},
   "source": [
    "> Personal Note: 'iscrowd' might be useful for training model with multiple classes"
   ]
  },
  {
   "cell_type": "code",
   "execution_count": 37,
   "id": "698c49ff-d13e-4cf9-b543-899a316967c4",
   "metadata": {},
   "outputs": [],
   "source": [
    "iscrowd = torch.zeros(len(bboxes), dtype=torch.int)"
   ]
  },
  {
   "cell_type": "markdown",
   "id": "b274f470-5ec7-49e6-ad07-d2ce7ab2077e",
   "metadata": {},
   "source": [
    "10) Since everything is ready, lets create a dictionary and store all the target data there:"
   ]
  },
  {
   "cell_type": "code",
   "execution_count": 38,
   "id": "a8e35d25-69cb-4c87-9d34-08a3e957ae28",
   "metadata": {},
   "outputs": [],
   "source": [
    "target = {}\n",
    "target[\"boxes\"] = bboxes\n",
    "target[\"labels\"] = labels\n",
    "target[\"area\"] = area\n",
    "target[\"iscrowd\"] = iscrowd"
   ]
  },
  {
   "cell_type": "code",
   "execution_count": 39,
   "id": "f7b86b28-18fa-425d-a8a6-56e92f128003",
   "metadata": {},
   "outputs": [
    {
     "data": {
      "text/plain": [
       "{'boxes': tensor([[  0.0000, 131.2741,  16.1158, 156.6435],\n",
       "         [ 13.1520, 128.9678,  32.0463, 152.6898],\n",
       "         [ 67.9826, 136.5457,  95.7684, 155.3256],\n",
       "         [ 74.6512, 129.9562, 121.1462, 157.6319],\n",
       "         [138.0029, 122.3784, 172.0868, 148.0772],\n",
       "         [179.3111, 125.0142, 217.0999, 153.0193],\n",
       "         [213.3951, 119.4131, 247.1085, 144.1236]]),\n",
       " 'labels': tensor([1, 1, 1, 1, 1, 1, 1]),\n",
       " 'area': tensor([1602.5486, 1756.8468, 2045.3486, 5043.7578, 3433.3149, 4148.1104,\n",
       "         3265.3811]),\n",
       " 'iscrowd': tensor([0, 0, 0, 0, 0, 0, 0], dtype=torch.int32)}"
      ]
     },
     "execution_count": 39,
     "metadata": {},
     "output_type": "execute_result"
    }
   ],
   "source": [
    "target"
   ]
  },
  {
   "cell_type": "markdown",
   "id": "5480bc4a-0173-4895-81d3-2b9c6851f464",
   "metadata": {},
   "source": [
    "> Note: Make sure that the keys of the target dictionary has the same name as above, because the model expects it that way."
   ]
  },
  {
   "cell_type": "markdown",
   "id": "2c00eb44-e356-457f-9a31-54e085316172",
   "metadata": {},
   "source": [
    "Now let’s wrap everything into our data set loading class:"
   ]
  },
  {
   "cell_type": "code",
   "execution_count": 40,
   "id": "39393e92-243a-4bb5-8d67-c26163dd8f7e",
   "metadata": {},
   "outputs": [],
   "source": [
    "from torch.utils.data import Dataset"
   ]
  },
  {
   "cell_type": "code",
   "execution_count": 41,
   "id": "9ba4fec2-8e40-45ed-9bc1-9b1fa8d6a561",
   "metadata": {},
   "outputs": [],
   "source": [
    "class LoadDataset(Dataset):\n",
    "    def __init__(self, df, img_dir, transforms):\n",
    "        super().__init__()\n",
    "        self.df = df\n",
    "        self.img_dir = img_dir\n",
    "        self.transforms = transforms\n",
    "\n",
    "    def __len__(self):\n",
    "        return len(self.df)\n",
    "\n",
    "    def __getitem__(self, idx):\n",
    "        # read & process the image\n",
    "        filename = self.df.loc[idx, \"image\"]\n",
    "        img = cv2.imread(str(self.img_dir / filename))\n",
    "        img = cv2.cvtColor(img, cv2.COLOR_BGR2RGB) / 255.0\n",
    "\n",
    "        # get the bboxes\n",
    "        bboxes = self.df.loc[idx, [\"xmin\", \"ymin\", \"xmax\", \"ymax\"]].values\n",
    "        bboxes = tuple(map(torch.tensor, zip(*bboxes)))\n",
    "        bboxes = torch.stack(bboxes, dim=0)\n",
    "\n",
    "        # create labels\n",
    "        labels = torch.ones(len(bboxes), dtype=torch.int64)\n",
    "        # apply augmentations\n",
    "        augmented = self.transforms(image=img, bboxes=bboxes, labels=labels)\n",
    "\n",
    "        # convert bbox list to tensors again\n",
    "        bboxes = map(torch.tensor, zip(*augmented[\"bboxes\"]))\n",
    "        bboxes = tuple(bboxes)\n",
    "        bboxes = torch.stack(bboxes, dim=0)\n",
    "\n",
    "        img = augmented[\"image\"].type(torch.float32)\n",
    "        bboxes = bboxes.permute(1, 0).type(torch.float32)\n",
    "        iscrowd = torch.zeros(len(bboxes), dtype=torch.int)\n",
    "\n",
    "        # bbox area\n",
    "        area = self.df.loc[idx, \"area\"]\n",
    "        torch.as_tensor(area, dtype=torch.float32)\n",
    "\n",
    "        target = {}\n",
    "        target[\"boxes\"] = bboxes\n",
    "        target[\"labels\"] = labels\n",
    "        target[\"area\"] = area\n",
    "        target[\"iscrowd\"] = iscrowd\n",
    "\n",
    "        return img, target"
   ]
  },
  {
   "cell_type": "markdown",
   "id": "39eb8039-68cc-4797-90f3-9c1c71fa8c41",
   "metadata": {},
   "source": [
    "Finally, let’s load the training and validation datasets:"
   ]
  },
  {
   "cell_type": "code",
   "execution_count": 42,
   "id": "17b27bef-604d-4253-af6a-dc2a1c31135d",
   "metadata": {},
   "outputs": [],
   "source": [
    "train_ds = LoadDataset(train_df, img_root_path, transforms)\n",
    "val_ds = LoadDataset(val_df, img_root_path, transforms)"
   ]
  },
  {
   "cell_type": "markdown",
   "id": "de7c65bc-7af4-464a-aa2b-485d4c7a5ee2",
   "metadata": {},
   "source": [
    "# 3. Training the model"
   ]
  },
  {
   "cell_type": "markdown",
   "id": "74aaab8c-47a9-453c-a167-89b23a0f97bd",
   "metadata": {},
   "source": [
    "For the model, we will use a pretrained faster rcnn model with `resnet50` backbone. In our case, we only have two classes, 0 for background and 1 for car, thus, we will slightly modify the number of units in the last layer as shown below:"
   ]
  },
  {
   "cell_type": "code",
   "execution_count": 43,
   "id": "aa36a034-db11-4142-ba3a-8cdb9a07a2a8",
   "metadata": {},
   "outputs": [],
   "source": [
    "from torchvision.models.detection import (\n",
    "    FasterRCNN_ResNet50_FPN_Weights,\n",
    "    fasterrcnn_resnet50_fpn,\n",
    ")\n",
    "from torchvision.models.detection.faster_rcnn import FastRCNNPredictor"
   ]
  },
  {
   "cell_type": "code",
   "execution_count": 44,
   "id": "f7c14642-b2aa-4bda-b29e-8de02ab82090",
   "metadata": {},
   "outputs": [],
   "source": [
    "# load pretrained model\n",
    "model = fasterrcnn_resnet50_fpn(weights=FasterRCNN_ResNet50_FPN_Weights.DEFAULT)"
   ]
  },
  {
   "cell_type": "code",
   "execution_count": 45,
   "id": "9c2c975e-d071-4113-8b99-917a773c3f21",
   "metadata": {},
   "outputs": [
    {
     "data": {
      "text/plain": [
       "FasterRCNN(\n",
       "  (transform): GeneralizedRCNNTransform(\n",
       "      Normalize(mean=[0.485, 0.456, 0.406], std=[0.229, 0.224, 0.225])\n",
       "      Resize(min_size=(800,), max_size=1333, mode='bilinear')\n",
       "  )\n",
       "  (backbone): BackboneWithFPN(\n",
       "    (body): IntermediateLayerGetter(\n",
       "      (conv1): Conv2d(3, 64, kernel_size=(7, 7), stride=(2, 2), padding=(3, 3), bias=False)\n",
       "      (bn1): FrozenBatchNorm2d(64, eps=0.0)\n",
       "      (relu): ReLU(inplace=True)\n",
       "      (maxpool): MaxPool2d(kernel_size=3, stride=2, padding=1, dilation=1, ceil_mode=False)\n",
       "      (layer1): Sequential(\n",
       "        (0): Bottleneck(\n",
       "          (conv1): Conv2d(64, 64, kernel_size=(1, 1), stride=(1, 1), bias=False)\n",
       "          (bn1): FrozenBatchNorm2d(64, eps=0.0)\n",
       "          (conv2): Conv2d(64, 64, kernel_size=(3, 3), stride=(1, 1), padding=(1, 1), bias=False)\n",
       "          (bn2): FrozenBatchNorm2d(64, eps=0.0)\n",
       "          (conv3): Conv2d(64, 256, kernel_size=(1, 1), stride=(1, 1), bias=False)\n",
       "          (bn3): FrozenBatchNorm2d(256, eps=0.0)\n",
       "          (relu): ReLU(inplace=True)\n",
       "          (downsample): Sequential(\n",
       "            (0): Conv2d(64, 256, kernel_size=(1, 1), stride=(1, 1), bias=False)\n",
       "            (1): FrozenBatchNorm2d(256, eps=0.0)\n",
       "          )\n",
       "        )\n",
       "        (1): Bottleneck(\n",
       "          (conv1): Conv2d(256, 64, kernel_size=(1, 1), stride=(1, 1), bias=False)\n",
       "          (bn1): FrozenBatchNorm2d(64, eps=0.0)\n",
       "          (conv2): Conv2d(64, 64, kernel_size=(3, 3), stride=(1, 1), padding=(1, 1), bias=False)\n",
       "          (bn2): FrozenBatchNorm2d(64, eps=0.0)\n",
       "          (conv3): Conv2d(64, 256, kernel_size=(1, 1), stride=(1, 1), bias=False)\n",
       "          (bn3): FrozenBatchNorm2d(256, eps=0.0)\n",
       "          (relu): ReLU(inplace=True)\n",
       "        )\n",
       "        (2): Bottleneck(\n",
       "          (conv1): Conv2d(256, 64, kernel_size=(1, 1), stride=(1, 1), bias=False)\n",
       "          (bn1): FrozenBatchNorm2d(64, eps=0.0)\n",
       "          (conv2): Conv2d(64, 64, kernel_size=(3, 3), stride=(1, 1), padding=(1, 1), bias=False)\n",
       "          (bn2): FrozenBatchNorm2d(64, eps=0.0)\n",
       "          (conv3): Conv2d(64, 256, kernel_size=(1, 1), stride=(1, 1), bias=False)\n",
       "          (bn3): FrozenBatchNorm2d(256, eps=0.0)\n",
       "          (relu): ReLU(inplace=True)\n",
       "        )\n",
       "      )\n",
       "      (layer2): Sequential(\n",
       "        (0): Bottleneck(\n",
       "          (conv1): Conv2d(256, 128, kernel_size=(1, 1), stride=(1, 1), bias=False)\n",
       "          (bn1): FrozenBatchNorm2d(128, eps=0.0)\n",
       "          (conv2): Conv2d(128, 128, kernel_size=(3, 3), stride=(2, 2), padding=(1, 1), bias=False)\n",
       "          (bn2): FrozenBatchNorm2d(128, eps=0.0)\n",
       "          (conv3): Conv2d(128, 512, kernel_size=(1, 1), stride=(1, 1), bias=False)\n",
       "          (bn3): FrozenBatchNorm2d(512, eps=0.0)\n",
       "          (relu): ReLU(inplace=True)\n",
       "          (downsample): Sequential(\n",
       "            (0): Conv2d(256, 512, kernel_size=(1, 1), stride=(2, 2), bias=False)\n",
       "            (1): FrozenBatchNorm2d(512, eps=0.0)\n",
       "          )\n",
       "        )\n",
       "        (1): Bottleneck(\n",
       "          (conv1): Conv2d(512, 128, kernel_size=(1, 1), stride=(1, 1), bias=False)\n",
       "          (bn1): FrozenBatchNorm2d(128, eps=0.0)\n",
       "          (conv2): Conv2d(128, 128, kernel_size=(3, 3), stride=(1, 1), padding=(1, 1), bias=False)\n",
       "          (bn2): FrozenBatchNorm2d(128, eps=0.0)\n",
       "          (conv3): Conv2d(128, 512, kernel_size=(1, 1), stride=(1, 1), bias=False)\n",
       "          (bn3): FrozenBatchNorm2d(512, eps=0.0)\n",
       "          (relu): ReLU(inplace=True)\n",
       "        )\n",
       "        (2): Bottleneck(\n",
       "          (conv1): Conv2d(512, 128, kernel_size=(1, 1), stride=(1, 1), bias=False)\n",
       "          (bn1): FrozenBatchNorm2d(128, eps=0.0)\n",
       "          (conv2): Conv2d(128, 128, kernel_size=(3, 3), stride=(1, 1), padding=(1, 1), bias=False)\n",
       "          (bn2): FrozenBatchNorm2d(128, eps=0.0)\n",
       "          (conv3): Conv2d(128, 512, kernel_size=(1, 1), stride=(1, 1), bias=False)\n",
       "          (bn3): FrozenBatchNorm2d(512, eps=0.0)\n",
       "          (relu): ReLU(inplace=True)\n",
       "        )\n",
       "        (3): Bottleneck(\n",
       "          (conv1): Conv2d(512, 128, kernel_size=(1, 1), stride=(1, 1), bias=False)\n",
       "          (bn1): FrozenBatchNorm2d(128, eps=0.0)\n",
       "          (conv2): Conv2d(128, 128, kernel_size=(3, 3), stride=(1, 1), padding=(1, 1), bias=False)\n",
       "          (bn2): FrozenBatchNorm2d(128, eps=0.0)\n",
       "          (conv3): Conv2d(128, 512, kernel_size=(1, 1), stride=(1, 1), bias=False)\n",
       "          (bn3): FrozenBatchNorm2d(512, eps=0.0)\n",
       "          (relu): ReLU(inplace=True)\n",
       "        )\n",
       "      )\n",
       "      (layer3): Sequential(\n",
       "        (0): Bottleneck(\n",
       "          (conv1): Conv2d(512, 256, kernel_size=(1, 1), stride=(1, 1), bias=False)\n",
       "          (bn1): FrozenBatchNorm2d(256, eps=0.0)\n",
       "          (conv2): Conv2d(256, 256, kernel_size=(3, 3), stride=(2, 2), padding=(1, 1), bias=False)\n",
       "          (bn2): FrozenBatchNorm2d(256, eps=0.0)\n",
       "          (conv3): Conv2d(256, 1024, kernel_size=(1, 1), stride=(1, 1), bias=False)\n",
       "          (bn3): FrozenBatchNorm2d(1024, eps=0.0)\n",
       "          (relu): ReLU(inplace=True)\n",
       "          (downsample): Sequential(\n",
       "            (0): Conv2d(512, 1024, kernel_size=(1, 1), stride=(2, 2), bias=False)\n",
       "            (1): FrozenBatchNorm2d(1024, eps=0.0)\n",
       "          )\n",
       "        )\n",
       "        (1): Bottleneck(\n",
       "          (conv1): Conv2d(1024, 256, kernel_size=(1, 1), stride=(1, 1), bias=False)\n",
       "          (bn1): FrozenBatchNorm2d(256, eps=0.0)\n",
       "          (conv2): Conv2d(256, 256, kernel_size=(3, 3), stride=(1, 1), padding=(1, 1), bias=False)\n",
       "          (bn2): FrozenBatchNorm2d(256, eps=0.0)\n",
       "          (conv3): Conv2d(256, 1024, kernel_size=(1, 1), stride=(1, 1), bias=False)\n",
       "          (bn3): FrozenBatchNorm2d(1024, eps=0.0)\n",
       "          (relu): ReLU(inplace=True)\n",
       "        )\n",
       "        (2): Bottleneck(\n",
       "          (conv1): Conv2d(1024, 256, kernel_size=(1, 1), stride=(1, 1), bias=False)\n",
       "          (bn1): FrozenBatchNorm2d(256, eps=0.0)\n",
       "          (conv2): Conv2d(256, 256, kernel_size=(3, 3), stride=(1, 1), padding=(1, 1), bias=False)\n",
       "          (bn2): FrozenBatchNorm2d(256, eps=0.0)\n",
       "          (conv3): Conv2d(256, 1024, kernel_size=(1, 1), stride=(1, 1), bias=False)\n",
       "          (bn3): FrozenBatchNorm2d(1024, eps=0.0)\n",
       "          (relu): ReLU(inplace=True)\n",
       "        )\n",
       "        (3): Bottleneck(\n",
       "          (conv1): Conv2d(1024, 256, kernel_size=(1, 1), stride=(1, 1), bias=False)\n",
       "          (bn1): FrozenBatchNorm2d(256, eps=0.0)\n",
       "          (conv2): Conv2d(256, 256, kernel_size=(3, 3), stride=(1, 1), padding=(1, 1), bias=False)\n",
       "          (bn2): FrozenBatchNorm2d(256, eps=0.0)\n",
       "          (conv3): Conv2d(256, 1024, kernel_size=(1, 1), stride=(1, 1), bias=False)\n",
       "          (bn3): FrozenBatchNorm2d(1024, eps=0.0)\n",
       "          (relu): ReLU(inplace=True)\n",
       "        )\n",
       "        (4): Bottleneck(\n",
       "          (conv1): Conv2d(1024, 256, kernel_size=(1, 1), stride=(1, 1), bias=False)\n",
       "          (bn1): FrozenBatchNorm2d(256, eps=0.0)\n",
       "          (conv2): Conv2d(256, 256, kernel_size=(3, 3), stride=(1, 1), padding=(1, 1), bias=False)\n",
       "          (bn2): FrozenBatchNorm2d(256, eps=0.0)\n",
       "          (conv3): Conv2d(256, 1024, kernel_size=(1, 1), stride=(1, 1), bias=False)\n",
       "          (bn3): FrozenBatchNorm2d(1024, eps=0.0)\n",
       "          (relu): ReLU(inplace=True)\n",
       "        )\n",
       "        (5): Bottleneck(\n",
       "          (conv1): Conv2d(1024, 256, kernel_size=(1, 1), stride=(1, 1), bias=False)\n",
       "          (bn1): FrozenBatchNorm2d(256, eps=0.0)\n",
       "          (conv2): Conv2d(256, 256, kernel_size=(3, 3), stride=(1, 1), padding=(1, 1), bias=False)\n",
       "          (bn2): FrozenBatchNorm2d(256, eps=0.0)\n",
       "          (conv3): Conv2d(256, 1024, kernel_size=(1, 1), stride=(1, 1), bias=False)\n",
       "          (bn3): FrozenBatchNorm2d(1024, eps=0.0)\n",
       "          (relu): ReLU(inplace=True)\n",
       "        )\n",
       "      )\n",
       "      (layer4): Sequential(\n",
       "        (0): Bottleneck(\n",
       "          (conv1): Conv2d(1024, 512, kernel_size=(1, 1), stride=(1, 1), bias=False)\n",
       "          (bn1): FrozenBatchNorm2d(512, eps=0.0)\n",
       "          (conv2): Conv2d(512, 512, kernel_size=(3, 3), stride=(2, 2), padding=(1, 1), bias=False)\n",
       "          (bn2): FrozenBatchNorm2d(512, eps=0.0)\n",
       "          (conv3): Conv2d(512, 2048, kernel_size=(1, 1), stride=(1, 1), bias=False)\n",
       "          (bn3): FrozenBatchNorm2d(2048, eps=0.0)\n",
       "          (relu): ReLU(inplace=True)\n",
       "          (downsample): Sequential(\n",
       "            (0): Conv2d(1024, 2048, kernel_size=(1, 1), stride=(2, 2), bias=False)\n",
       "            (1): FrozenBatchNorm2d(2048, eps=0.0)\n",
       "          )\n",
       "        )\n",
       "        (1): Bottleneck(\n",
       "          (conv1): Conv2d(2048, 512, kernel_size=(1, 1), stride=(1, 1), bias=False)\n",
       "          (bn1): FrozenBatchNorm2d(512, eps=0.0)\n",
       "          (conv2): Conv2d(512, 512, kernel_size=(3, 3), stride=(1, 1), padding=(1, 1), bias=False)\n",
       "          (bn2): FrozenBatchNorm2d(512, eps=0.0)\n",
       "          (conv3): Conv2d(512, 2048, kernel_size=(1, 1), stride=(1, 1), bias=False)\n",
       "          (bn3): FrozenBatchNorm2d(2048, eps=0.0)\n",
       "          (relu): ReLU(inplace=True)\n",
       "        )\n",
       "        (2): Bottleneck(\n",
       "          (conv1): Conv2d(2048, 512, kernel_size=(1, 1), stride=(1, 1), bias=False)\n",
       "          (bn1): FrozenBatchNorm2d(512, eps=0.0)\n",
       "          (conv2): Conv2d(512, 512, kernel_size=(3, 3), stride=(1, 1), padding=(1, 1), bias=False)\n",
       "          (bn2): FrozenBatchNorm2d(512, eps=0.0)\n",
       "          (conv3): Conv2d(512, 2048, kernel_size=(1, 1), stride=(1, 1), bias=False)\n",
       "          (bn3): FrozenBatchNorm2d(2048, eps=0.0)\n",
       "          (relu): ReLU(inplace=True)\n",
       "        )\n",
       "      )\n",
       "    )\n",
       "    (fpn): FeaturePyramidNetwork(\n",
       "      (inner_blocks): ModuleList(\n",
       "        (0): Conv2dNormActivation(\n",
       "          (0): Conv2d(256, 256, kernel_size=(1, 1), stride=(1, 1))\n",
       "        )\n",
       "        (1): Conv2dNormActivation(\n",
       "          (0): Conv2d(512, 256, kernel_size=(1, 1), stride=(1, 1))\n",
       "        )\n",
       "        (2): Conv2dNormActivation(\n",
       "          (0): Conv2d(1024, 256, kernel_size=(1, 1), stride=(1, 1))\n",
       "        )\n",
       "        (3): Conv2dNormActivation(\n",
       "          (0): Conv2d(2048, 256, kernel_size=(1, 1), stride=(1, 1))\n",
       "        )\n",
       "      )\n",
       "      (layer_blocks): ModuleList(\n",
       "        (0): Conv2dNormActivation(\n",
       "          (0): Conv2d(256, 256, kernel_size=(3, 3), stride=(1, 1), padding=(1, 1))\n",
       "        )\n",
       "        (1): Conv2dNormActivation(\n",
       "          (0): Conv2d(256, 256, kernel_size=(3, 3), stride=(1, 1), padding=(1, 1))\n",
       "        )\n",
       "        (2): Conv2dNormActivation(\n",
       "          (0): Conv2d(256, 256, kernel_size=(3, 3), stride=(1, 1), padding=(1, 1))\n",
       "        )\n",
       "        (3): Conv2dNormActivation(\n",
       "          (0): Conv2d(256, 256, kernel_size=(3, 3), stride=(1, 1), padding=(1, 1))\n",
       "        )\n",
       "      )\n",
       "      (extra_blocks): LastLevelMaxPool()\n",
       "    )\n",
       "  )\n",
       "  (rpn): RegionProposalNetwork(\n",
       "    (anchor_generator): AnchorGenerator()\n",
       "    (head): RPNHead(\n",
       "      (conv): Sequential(\n",
       "        (0): Conv2dNormActivation(\n",
       "          (0): Conv2d(256, 256, kernel_size=(3, 3), stride=(1, 1), padding=(1, 1))\n",
       "          (1): ReLU(inplace=True)\n",
       "        )\n",
       "      )\n",
       "      (cls_logits): Conv2d(256, 3, kernel_size=(1, 1), stride=(1, 1))\n",
       "      (bbox_pred): Conv2d(256, 12, kernel_size=(1, 1), stride=(1, 1))\n",
       "    )\n",
       "  )\n",
       "  (roi_heads): RoIHeads(\n",
       "    (box_roi_pool): MultiScaleRoIAlign(featmap_names=['0', '1', '2', '3'], output_size=(7, 7), sampling_ratio=2)\n",
       "    (box_head): TwoMLPHead(\n",
       "      (fc6): Linear(in_features=12544, out_features=1024, bias=True)\n",
       "      (fc7): Linear(in_features=1024, out_features=1024, bias=True)\n",
       "    )\n",
       "    (box_predictor): FastRCNNPredictor(\n",
       "      (cls_score): Linear(in_features=1024, out_features=91, bias=True)\n",
       "      (bbox_pred): Linear(in_features=1024, out_features=364, bias=True)\n",
       "    )\n",
       "  )\n",
       ")"
      ]
     },
     "execution_count": 45,
     "metadata": {},
     "output_type": "execute_result"
    }
   ],
   "source": [
    "model"
   ]
  },
  {
   "cell_type": "code",
   "execution_count": 46,
   "id": "09cf6790-5e48-4446-b722-8eb9632b63e0",
   "metadata": {},
   "outputs": [],
   "source": [
    "# get input features of prediction layer\n",
    "in_features = model.roi_heads.box_predictor.cls_score.in_features"
   ]
  },
  {
   "cell_type": "code",
   "execution_count": 47,
   "id": "0c829f24-8f12-4f24-bec9-b83034d2c801",
   "metadata": {},
   "outputs": [
    {
     "data": {
      "text/plain": [
       "1024"
      ]
     },
     "execution_count": 47,
     "metadata": {},
     "output_type": "execute_result"
    }
   ],
   "source": [
    "in_features"
   ]
  },
  {
   "cell_type": "code",
   "execution_count": 48,
   "id": "ecea3253-1e21-452d-8c92-f84c883acf9d",
   "metadata": {},
   "outputs": [],
   "source": [
    "# modify the prediction layer with required number of classes\n",
    "model.roi_heads.box_predictor = FastRCNNPredictor(in_features, num_classes=2)"
   ]
  },
  {
   "cell_type": "code",
   "execution_count": 49,
   "id": "b04a9a90-9b8a-40bd-8a84-4ef33d94d841",
   "metadata": {},
   "outputs": [
    {
     "data": {
      "text/plain": [
       "FastRCNNPredictor(\n",
       "  (cls_score): Linear(in_features=1024, out_features=2, bias=True)\n",
       "  (bbox_pred): Linear(in_features=1024, out_features=8, bias=True)\n",
       ")"
      ]
     },
     "execution_count": 49,
     "metadata": {},
     "output_type": "execute_result"
    }
   ],
   "source": [
    "model.roi_heads.box_predictor"
   ]
  },
  {
   "cell_type": "markdown",
   "id": "09ffe259-8895-4484-b0b8-7b9445e97e92",
   "metadata": {},
   "source": [
    "Now let’s build the model class."
   ]
  },
  {
   "cell_type": "markdown",
   "id": "e1a8d8de-cad8-4f52-add6-343cca0c6d75",
   "metadata": {},
   "source": [
    "As usual we will write our `__init__` method, which includes the batch size, learning rate and the model. For model creation, we will use a method called `create_model()` which will contain the code we’ve written above."
   ]
  },
  {
   "cell_type": "code",
   "execution_count": 50,
   "id": "7c2c964d-eb5d-493f-bf43-a1066e376b59",
   "metadata": {},
   "outputs": [],
   "source": [
    "from pytorch_lightning import LightningModule\n",
    "from torch.utils.data import DataLoader\n",
    "from torchvision.ops import box_iou"
   ]
  },
  {
   "cell_type": "code",
   "execution_count": 51,
   "id": "a933bf72-f6cc-4ebb-9360-e2855d380be6",
   "metadata": {},
   "outputs": [],
   "source": [
    "class ObjectDetector(LightningModule):\n",
    "    def __init__(self):\n",
    "        super().__init__()\n",
    "        self.lr = 1e-3\n",
    "        self.batch_size = 16\n",
    "        self.model = self.create_model()\n",
    "        self.validation_step_outputs = []  # Added by me\n",
    "\n",
    "    def create_model(self):\n",
    "        model = fasterrcnn_resnet50_fpn(weights=FasterRCNN_ResNet50_FPN_Weights.DEFAULT)\n",
    "        in_features = model.roi_heads.box_predictor.cls_score.in_features\n",
    "        model.roi_heads.box_predictor = FastRCNNPredictor(in_features, num_classes=2)\n",
    "        return model\n",
    "\n",
    "    def forward(self, x):\n",
    "        return self.model(x)\n",
    "\n",
    "    # The number of bounding boxes may be different for each image,\n",
    "    # so, we will need a collate_fn to pass to our dataloaders.\n",
    "    def collate_fn(self, batch):\n",
    "        return tuple(zip(*batch))\n",
    "\n",
    "    def train_dataloader(self):\n",
    "        return DataLoader(\n",
    "            train_ds, \n",
    "            batch_size=self.batch_size, \n",
    "            shuffle=True, \n",
    "            collate_fn=self.collate_fn\n",
    "        )\n",
    "\n",
    "    def val_dataloader(self):\n",
    "        return DataLoader(\n",
    "            val_ds, \n",
    "            batch_size=self.batch_size, \n",
    "            shuffle=False, \n",
    "            collate_fn=self.collate_fn\n",
    "        )\n",
    "    \n",
    "    def configure_optimizers(self):\n",
    "        return torch.optim.AdamW(self.model.parameters(), lr=self.lr)\n",
    "\n",
    "    # For training, instead of giving only the predictions,\n",
    "    # the model outputs a bunch of loss values.\n",
    "    # So, we should sum all these losses together and\n",
    "    # return it in training step for backward propagation.\n",
    "    def training_step(self, batch, batch_idx):\n",
    "        inputs, targets = batch\n",
    "        loss_dict = self.model(inputs, targets)\n",
    "        complete_loss = sum(loss for loss in loss_dict.values())\n",
    "\n",
    "        self.log(\"train_loss\", complete_loss, prog_bar=True)\n",
    "        return {\"loss\": complete_loss}\n",
    "\n",
    "    # During validation, pytorch lightning automatically calls model.eval() for us.\n",
    "    # While doing this, the behaviour of the model will change again.\n",
    "    # This time, the model will output the bounding box prediction and probabilites of our label(car).\n",
    "    # So we need to take this into account while implementing the validation step.\n",
    "\n",
    "    # So, during validation, we take the predicted bounding box coordinates and the target bounding boxes\n",
    "    # to calculate intersection over union(IOU) which is a commonly used metric for object detection.\n",
    "    # We will be using box_iou function from torchvision for calculating IOU.\n",
    "\n",
    "    # IOU varies from 0 to 1, values closer to 0 are considered bad\n",
    "    # whereas the ones closer to 1 are considered good predictions.\n",
    "    def validation_step(self, batch, batch_idx):\n",
    "        inputs, targets = batch\n",
    "        outputs = self.model(inputs)\n",
    "        # calculate IOU and return the mean IOU\n",
    "        iou = torch.stack(\n",
    "            [\n",
    "                box_iou(target[\"boxes\"], output[\"boxes\"]).diag().mean()\n",
    "                for target, output in zip(targets, outputs)\n",
    "            ]\n",
    "        ).mean()\n",
    "        self.validation_step_outputs.append(iou)  # Added by me\n",
    "        \n",
    "        return {\"val_iou\": iou}\n",
    "\n",
    "    # So, from validation_step() we will get the IOU for each batch,\n",
    "    # this is appended to a list and passed to validation_epoch_end().\n",
    "    # So, the only task remaining is to calculate the mean IOU from the list\n",
    "    # passed to validation_epoch_end() and log it:\n",
    "    def on_validation_epoch_end(self):  # modified by me\n",
    "        # calculate overall IOU across batch\n",
    "        # val_iou = torch.stack([o[\"val_iou\"] for o in val_out]).mean()  # Removed by me\n",
    "        val_iou = torch.stack(self.validation_step_outputs).mean()  # Added by me\n",
    "        self.validation_step_outputs.clear()  # free memory\n",
    "        self.log(\"val_iou\", val_iou, prog_bar=True)\n",
    "        return val_iou"
   ]
  },
  {
   "cell_type": "markdown",
   "id": "5fdaef54-a70f-4576-aac3-c90fcd64ee34",
   "metadata": {},
   "source": [
    "Now it’s time to train the model using the lightning trainer:"
   ]
  },
  {
   "cell_type": "code",
   "execution_count": 52,
   "id": "27f8f871-f97e-4ac4-b8ab-a52f7ef5f5b8",
   "metadata": {},
   "outputs": [],
   "source": [
    "from pytorch_lightning import Trainer"
   ]
  },
  {
   "cell_type": "code",
   "execution_count": 53,
   "id": "8422e40e-b9e6-4798-8d10-8f1da7c099b2",
   "metadata": {},
   "outputs": [],
   "source": [
    "detector_model = ObjectDetector()"
   ]
  },
  {
   "cell_type": "code",
   "execution_count": 54,
   "id": "864a1b36-42e4-4029-83f6-deec8cafb053",
   "metadata": {},
   "outputs": [
    {
     "name": "stderr",
     "output_type": "stream",
     "text": [
      "GPU available: False, used: False\n",
      "TPU available: False, using: 0 TPU cores\n",
      "IPU available: False, using: 0 IPUs\n",
      "HPU available: False, using: 0 HPUs\n"
     ]
    }
   ],
   "source": [
    "trainer = Trainer(\n",
    "    accelerator=\"auto\",\n",
    "    devices=1,\n",
    "    # auto_lr_find=True,  # (Not availabe in version 2.0.2)\n",
    "    max_epochs=5,\n",
    ")"
   ]
  },
  {
   "cell_type": "code",
   "execution_count": null,
   "id": "76e1bd3f-0a42-432b-a2f1-4f0436d39f94",
   "metadata": {},
   "outputs": [
    {
     "name": "stderr",
     "output_type": "stream",
     "text": [
      "\n",
      "  | Name  | Type       | Params\n",
      "-------------------------------------\n",
      "0 | model | FasterRCNN | 41.3 M\n",
      "-------------------------------------\n",
      "41.1 M    Trainable params\n",
      "222 K     Non-trainable params\n",
      "41.3 M    Total params\n",
      "165.197   Total estimated model params size (MB)\n"
     ]
    },
    {
     "data": {
      "application/vnd.jupyter.widget-view+json": {
       "model_id": "",
       "version_major": 2,
       "version_minor": 0
      },
      "text/plain": [
       "Sanity Checking: 0it [00:00, ?it/s]"
      ]
     },
     "metadata": {},
     "output_type": "display_data"
    },
    {
     "name": "stderr",
     "output_type": "stream",
     "text": [
      "C:\\Users\\johnw\\miniconda3\\envs\\opencv\\lib\\site-packages\\pytorch_lightning\\trainer\\connectors\\data_connector.py:430: PossibleUserWarning: The dataloader, val_dataloader, does not have many workers which may be a bottleneck. Consider increasing the value of the `num_workers` argument` (try 12 which is the number of cpus on this machine) in the `DataLoader` init to improve performance.\n",
      "  rank_zero_warn(\n",
      "C:\\Users\\johnw\\miniconda3\\envs\\opencv\\lib\\site-packages\\pytorch_lightning\\trainer\\connectors\\data_connector.py:430: PossibleUserWarning: The dataloader, train_dataloader, does not have many workers which may be a bottleneck. Consider increasing the value of the `num_workers` argument` (try 12 which is the number of cpus on this machine) in the `DataLoader` init to improve performance.\n",
      "  rank_zero_warn(\n",
      "C:\\Users\\johnw\\miniconda3\\envs\\opencv\\lib\\site-packages\\pytorch_lightning\\loops\\fit_loop.py:280: PossibleUserWarning: The number of training batches (20) is smaller than the logging interval Trainer(log_every_n_steps=50). Set a lower value for log_every_n_steps if you want to see logs for the training epoch.\n",
      "  rank_zero_warn(\n"
     ]
    },
    {
     "data": {
      "application/vnd.jupyter.widget-view+json": {
       "model_id": "c19677bed2d146d6948de505f2a53a37",
       "version_major": 2,
       "version_minor": 0
      },
      "text/plain": [
       "Training: 0it [00:00, ?it/s]"
      ]
     },
     "metadata": {},
     "output_type": "display_data"
    }
   ],
   "source": [
    "trainer.fit(detector_model)"
   ]
  },
  {
   "cell_type": "markdown",
   "id": "e7b1122c-36ff-42a1-a887-625927c23c82",
   "metadata": {},
   "source": [
    "# 4. Testing the model"
   ]
  },
  {
   "cell_type": "code",
   "execution_count": null,
   "id": "aa78e1de-a9bc-4bdb-98c6-301bba44a281",
   "metadata": {},
   "outputs": [],
   "source": [
    "import matplotlib.pyplot as plt"
   ]
  },
  {
   "cell_type": "code",
   "execution_count": null,
   "id": "b2849bb4-3fab-4f02-af71-0cab1fc406a7",
   "metadata": {},
   "outputs": [],
   "source": [
    "sample = val_ds[14]\n",
    "img = sample[0]"
   ]
  },
  {
   "cell_type": "code",
   "execution_count": null,
   "id": "ed56d6fc-5b3b-4bfd-afd8-43ceb20cd23f",
   "metadata": {},
   "outputs": [],
   "source": [
    "sample"
   ]
  },
  {
   "cell_type": "code",
   "execution_count": null,
   "id": "ea1b47ae-8798-404f-acba-5b80542e0f81",
   "metadata": {},
   "outputs": [],
   "source": [
    "detector_model.eval()\n",
    "with torch.no_grad():\n",
    "    out = detector_model([img])"
   ]
  },
  {
   "cell_type": "code",
   "execution_count": null,
   "id": "aa048e2e-6976-4cf6-9cce-358c13263ab9",
   "metadata": {},
   "outputs": [],
   "source": [
    "out"
   ]
  },
  {
   "cell_type": "code",
   "execution_count": null,
   "id": "b0c35062-1963-456d-8a0d-0ee51dbb0fa0",
   "metadata": {},
   "outputs": [],
   "source": [
    "# convert to numpy for opencv to draw bboxes\n",
    "img = img.permute(1, 2, 0).numpy()"
   ]
  },
  {
   "cell_type": "markdown",
   "id": "e9228653-37de-4f90-84b5-a52f7dd1c01d",
   "metadata": {},
   "source": [
    "Get the predicted bounding boxes and labels:"
   ]
  },
  {
   "cell_type": "code",
   "execution_count": null,
   "id": "df0f1124-9c70-4694-982c-40238a0dbed6",
   "metadata": {},
   "outputs": [],
   "source": [
    "# predicted bounding boxes\n",
    "pred_bbox = out[0][\"boxes\"].numpy().astype(int)\n",
    "# predicted labels\n",
    "pred_label = out[0][\"scores\"]"
   ]
  },
  {
   "cell_type": "markdown",
   "id": "6962f925-cf9f-4015-8c54-e2d3343c94e6",
   "metadata": {},
   "source": [
    "Draw the predicted bounding boxes on the image:"
   ]
  },
  {
   "cell_type": "code",
   "execution_count": null,
   "id": "4c5a799f-8e0d-4837-adb1-cf64ef864f53",
   "metadata": {},
   "outputs": [],
   "source": [
    "# draw bounding boxes on the image\n",
    "for bbox, label in zip(pred_bbox, pred_label):\n",
    "    # check if the label corresponding to bbox is for car\n",
    "    if label >= 0.5:\n",
    "        cv2.rectangle(\n",
    "            img,\n",
    "            (bbox[0], bbox[1]),\n",
    "            (bbox[2], bbox[3]),\n",
    "            (255, 0, 0),\n",
    "            thickness=2,\n",
    "        )"
   ]
  },
  {
   "cell_type": "markdown",
   "id": "6a3b0a2d-0fda-440e-b52c-a6a0a2295e59",
   "metadata": {},
   "source": [
    "Now let’s visualize the image along with the predicted bounding boxes:"
   ]
  },
  {
   "cell_type": "code",
   "execution_count": null,
   "id": "dc181573-594e-4e21-b32b-a8037da2e1b7",
   "metadata": {},
   "outputs": [],
   "source": [
    "plt.figure(figsize=(16, 6))\n",
    "plt.imshow(img)"
   ]
  },
  {
   "cell_type": "code",
   "execution_count": null,
   "id": "16c431e5-c2f2-4cab-8da9-7307f6ba9d99",
   "metadata": {},
   "outputs": [],
   "source": []
  }
 ],
 "metadata": {
  "kernelspec": {
   "display_name": "Python [conda env:opencv]",
   "language": "python",
   "name": "conda-env-opencv-py"
  },
  "language_info": {
   "codemirror_mode": {
    "name": "ipython",
    "version": 3
   },
   "file_extension": ".py",
   "mimetype": "text/x-python",
   "name": "python",
   "nbconvert_exporter": "python",
   "pygments_lexer": "ipython3",
   "version": "3.8.13"
  }
 },
 "nbformat": 4,
 "nbformat_minor": 5
}
