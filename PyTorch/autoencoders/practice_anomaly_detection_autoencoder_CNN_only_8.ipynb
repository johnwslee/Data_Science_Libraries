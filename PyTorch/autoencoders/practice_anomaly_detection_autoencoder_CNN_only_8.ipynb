{
 "cells": [
  {
   "cell_type": "markdown",
   "id": "cab3fc3c-8e60-4552-934b-45b1f0dcd8f4",
   "metadata": {},
   "source": [
    "# Imports"
   ]
  },
  {
   "cell_type": "code",
   "execution_count": 1,
   "id": "3f8e10fa-1358-4e82-b590-2e87b37e0669",
   "metadata": {},
   "outputs": [],
   "source": [
    "import random\n",
    "\n",
    "import pandas as pd\n",
    "import matplotlib.pyplot as plt\n",
    "import numpy as np\n",
    "import seaborn as sns\n",
    "from collections import defaultdict\n",
    "from datetime import timedelta\n",
    "\n",
    "import time\n",
    "\n",
    "import torch\n",
    "import torch.nn as nn\n",
    "from torch.utils.data import TensorDataset, DataLoader\n",
    "from torchvision import datasets\n",
    "from torchvision import datasets, transforms\n",
    "from torchvision.transforms import ToTensor\n",
    "from torchsummary import summary"
   ]
  },
  {
   "cell_type": "markdown",
   "id": "4b48b5bd-5ad8-4953-9928-23fdfe551e34",
   "metadata": {},
   "source": [
    "# Testset Modification (Addition of anomalies)"
   ]
  },
  {
   "cell_type": "code",
   "execution_count": 2,
   "id": "e38ddb02-c379-4c73-aa91-b7b2999c0404",
   "metadata": {},
   "outputs": [
    {
     "data": {
      "text/html": [
       "<div>\n",
       "<style scoped>\n",
       "    .dataframe tbody tr th:only-of-type {\n",
       "        vertical-align: middle;\n",
       "    }\n",
       "\n",
       "    .dataframe tbody tr th {\n",
       "        vertical-align: top;\n",
       "    }\n",
       "\n",
       "    .dataframe thead th {\n",
       "        text-align: right;\n",
       "    }\n",
       "</style>\n",
       "<table border=\"1\" class=\"dataframe\">\n",
       "  <thead>\n",
       "    <tr style=\"text-align: right;\">\n",
       "      <th></th>\n",
       "      <th>label</th>\n",
       "      <th>1x1</th>\n",
       "      <th>1x2</th>\n",
       "      <th>1x3</th>\n",
       "      <th>1x4</th>\n",
       "      <th>1x5</th>\n",
       "      <th>1x6</th>\n",
       "      <th>1x7</th>\n",
       "      <th>1x8</th>\n",
       "      <th>1x9</th>\n",
       "      <th>...</th>\n",
       "      <th>28x19</th>\n",
       "      <th>28x20</th>\n",
       "      <th>28x21</th>\n",
       "      <th>28x22</th>\n",
       "      <th>28x23</th>\n",
       "      <th>28x24</th>\n",
       "      <th>28x25</th>\n",
       "      <th>28x26</th>\n",
       "      <th>28x27</th>\n",
       "      <th>28x28</th>\n",
       "    </tr>\n",
       "  </thead>\n",
       "  <tbody>\n",
       "    <tr>\n",
       "      <th>61</th>\n",
       "      <td>8</td>\n",
       "      <td>0</td>\n",
       "      <td>0</td>\n",
       "      <td>0</td>\n",
       "      <td>0</td>\n",
       "      <td>0</td>\n",
       "      <td>0</td>\n",
       "      <td>0</td>\n",
       "      <td>0</td>\n",
       "      <td>0</td>\n",
       "      <td>...</td>\n",
       "      <td>0</td>\n",
       "      <td>0</td>\n",
       "      <td>0</td>\n",
       "      <td>0</td>\n",
       "      <td>0</td>\n",
       "      <td>0</td>\n",
       "      <td>0</td>\n",
       "      <td>0</td>\n",
       "      <td>0</td>\n",
       "      <td>0</td>\n",
       "    </tr>\n",
       "    <tr>\n",
       "      <th>84</th>\n",
       "      <td>8</td>\n",
       "      <td>0</td>\n",
       "      <td>0</td>\n",
       "      <td>0</td>\n",
       "      <td>0</td>\n",
       "      <td>0</td>\n",
       "      <td>0</td>\n",
       "      <td>0</td>\n",
       "      <td>0</td>\n",
       "      <td>0</td>\n",
       "      <td>...</td>\n",
       "      <td>0</td>\n",
       "      <td>0</td>\n",
       "      <td>0</td>\n",
       "      <td>0</td>\n",
       "      <td>0</td>\n",
       "      <td>0</td>\n",
       "      <td>0</td>\n",
       "      <td>0</td>\n",
       "      <td>0</td>\n",
       "      <td>0</td>\n",
       "    </tr>\n",
       "    <tr>\n",
       "      <th>110</th>\n",
       "      <td>8</td>\n",
       "      <td>0</td>\n",
       "      <td>0</td>\n",
       "      <td>0</td>\n",
       "      <td>0</td>\n",
       "      <td>0</td>\n",
       "      <td>0</td>\n",
       "      <td>0</td>\n",
       "      <td>0</td>\n",
       "      <td>0</td>\n",
       "      <td>...</td>\n",
       "      <td>0</td>\n",
       "      <td>0</td>\n",
       "      <td>0</td>\n",
       "      <td>0</td>\n",
       "      <td>0</td>\n",
       "      <td>0</td>\n",
       "      <td>0</td>\n",
       "      <td>0</td>\n",
       "      <td>0</td>\n",
       "      <td>0</td>\n",
       "    </tr>\n",
       "    <tr>\n",
       "      <th>128</th>\n",
       "      <td>8</td>\n",
       "      <td>0</td>\n",
       "      <td>0</td>\n",
       "      <td>0</td>\n",
       "      <td>0</td>\n",
       "      <td>0</td>\n",
       "      <td>0</td>\n",
       "      <td>0</td>\n",
       "      <td>0</td>\n",
       "      <td>0</td>\n",
       "      <td>...</td>\n",
       "      <td>0</td>\n",
       "      <td>0</td>\n",
       "      <td>0</td>\n",
       "      <td>0</td>\n",
       "      <td>0</td>\n",
       "      <td>0</td>\n",
       "      <td>0</td>\n",
       "      <td>0</td>\n",
       "      <td>0</td>\n",
       "      <td>0</td>\n",
       "    </tr>\n",
       "    <tr>\n",
       "      <th>134</th>\n",
       "      <td>8</td>\n",
       "      <td>0</td>\n",
       "      <td>0</td>\n",
       "      <td>0</td>\n",
       "      <td>0</td>\n",
       "      <td>0</td>\n",
       "      <td>0</td>\n",
       "      <td>0</td>\n",
       "      <td>0</td>\n",
       "      <td>0</td>\n",
       "      <td>...</td>\n",
       "      <td>0</td>\n",
       "      <td>0</td>\n",
       "      <td>0</td>\n",
       "      <td>0</td>\n",
       "      <td>0</td>\n",
       "      <td>0</td>\n",
       "      <td>0</td>\n",
       "      <td>0</td>\n",
       "      <td>0</td>\n",
       "      <td>0</td>\n",
       "    </tr>\n",
       "    <tr>\n",
       "      <th>...</th>\n",
       "      <td>...</td>\n",
       "      <td>...</td>\n",
       "      <td>...</td>\n",
       "      <td>...</td>\n",
       "      <td>...</td>\n",
       "      <td>...</td>\n",
       "      <td>...</td>\n",
       "      <td>...</td>\n",
       "      <td>...</td>\n",
       "      <td>...</td>\n",
       "      <td>...</td>\n",
       "      <td>...</td>\n",
       "      <td>...</td>\n",
       "      <td>...</td>\n",
       "      <td>...</td>\n",
       "      <td>...</td>\n",
       "      <td>...</td>\n",
       "      <td>...</td>\n",
       "      <td>...</td>\n",
       "      <td>...</td>\n",
       "      <td>...</td>\n",
       "    </tr>\n",
       "    <tr>\n",
       "      <th>9934</th>\n",
       "      <td>8</td>\n",
       "      <td>0</td>\n",
       "      <td>0</td>\n",
       "      <td>0</td>\n",
       "      <td>0</td>\n",
       "      <td>0</td>\n",
       "      <td>0</td>\n",
       "      <td>0</td>\n",
       "      <td>0</td>\n",
       "      <td>0</td>\n",
       "      <td>...</td>\n",
       "      <td>0</td>\n",
       "      <td>0</td>\n",
       "      <td>0</td>\n",
       "      <td>0</td>\n",
       "      <td>0</td>\n",
       "      <td>0</td>\n",
       "      <td>0</td>\n",
       "      <td>0</td>\n",
       "      <td>0</td>\n",
       "      <td>0</td>\n",
       "    </tr>\n",
       "    <tr>\n",
       "      <th>9936</th>\n",
       "      <td>8</td>\n",
       "      <td>0</td>\n",
       "      <td>0</td>\n",
       "      <td>0</td>\n",
       "      <td>0</td>\n",
       "      <td>0</td>\n",
       "      <td>0</td>\n",
       "      <td>0</td>\n",
       "      <td>0</td>\n",
       "      <td>0</td>\n",
       "      <td>...</td>\n",
       "      <td>0</td>\n",
       "      <td>0</td>\n",
       "      <td>0</td>\n",
       "      <td>0</td>\n",
       "      <td>0</td>\n",
       "      <td>0</td>\n",
       "      <td>0</td>\n",
       "      <td>0</td>\n",
       "      <td>0</td>\n",
       "      <td>0</td>\n",
       "    </tr>\n",
       "    <tr>\n",
       "      <th>9959</th>\n",
       "      <td>8</td>\n",
       "      <td>0</td>\n",
       "      <td>0</td>\n",
       "      <td>0</td>\n",
       "      <td>0</td>\n",
       "      <td>0</td>\n",
       "      <td>0</td>\n",
       "      <td>0</td>\n",
       "      <td>0</td>\n",
       "      <td>0</td>\n",
       "      <td>...</td>\n",
       "      <td>0</td>\n",
       "      <td>0</td>\n",
       "      <td>0</td>\n",
       "      <td>0</td>\n",
       "      <td>0</td>\n",
       "      <td>0</td>\n",
       "      <td>0</td>\n",
       "      <td>0</td>\n",
       "      <td>0</td>\n",
       "      <td>0</td>\n",
       "    </tr>\n",
       "    <tr>\n",
       "      <th>9967</th>\n",
       "      <td>8</td>\n",
       "      <td>0</td>\n",
       "      <td>0</td>\n",
       "      <td>0</td>\n",
       "      <td>0</td>\n",
       "      <td>0</td>\n",
       "      <td>0</td>\n",
       "      <td>0</td>\n",
       "      <td>0</td>\n",
       "      <td>0</td>\n",
       "      <td>...</td>\n",
       "      <td>0</td>\n",
       "      <td>0</td>\n",
       "      <td>0</td>\n",
       "      <td>0</td>\n",
       "      <td>0</td>\n",
       "      <td>0</td>\n",
       "      <td>0</td>\n",
       "      <td>0</td>\n",
       "      <td>0</td>\n",
       "      <td>0</td>\n",
       "    </tr>\n",
       "    <tr>\n",
       "      <th>9991</th>\n",
       "      <td>8</td>\n",
       "      <td>0</td>\n",
       "      <td>0</td>\n",
       "      <td>0</td>\n",
       "      <td>0</td>\n",
       "      <td>0</td>\n",
       "      <td>0</td>\n",
       "      <td>0</td>\n",
       "      <td>0</td>\n",
       "      <td>0</td>\n",
       "      <td>...</td>\n",
       "      <td>0</td>\n",
       "      <td>0</td>\n",
       "      <td>0</td>\n",
       "      <td>0</td>\n",
       "      <td>0</td>\n",
       "      <td>0</td>\n",
       "      <td>0</td>\n",
       "      <td>0</td>\n",
       "      <td>0</td>\n",
       "      <td>0</td>\n",
       "    </tr>\n",
       "  </tbody>\n",
       "</table>\n",
       "<p>974 rows × 785 columns</p>\n",
       "</div>"
      ],
      "text/plain": [
       "      label  1x1  1x2  1x3  1x4  1x5  1x6  1x7  1x8  1x9  ...  28x19  28x20  \\\n",
       "61        8    0    0    0    0    0    0    0    0    0  ...      0      0   \n",
       "84        8    0    0    0    0    0    0    0    0    0  ...      0      0   \n",
       "110       8    0    0    0    0    0    0    0    0    0  ...      0      0   \n",
       "128       8    0    0    0    0    0    0    0    0    0  ...      0      0   \n",
       "134       8    0    0    0    0    0    0    0    0    0  ...      0      0   \n",
       "...     ...  ...  ...  ...  ...  ...  ...  ...  ...  ...  ...    ...    ...   \n",
       "9934      8    0    0    0    0    0    0    0    0    0  ...      0      0   \n",
       "9936      8    0    0    0    0    0    0    0    0    0  ...      0      0   \n",
       "9959      8    0    0    0    0    0    0    0    0    0  ...      0      0   \n",
       "9967      8    0    0    0    0    0    0    0    0    0  ...      0      0   \n",
       "9991      8    0    0    0    0    0    0    0    0    0  ...      0      0   \n",
       "\n",
       "      28x21  28x22  28x23  28x24  28x25  28x26  28x27  28x28  \n",
       "61        0      0      0      0      0      0      0      0  \n",
       "84        0      0      0      0      0      0      0      0  \n",
       "110       0      0      0      0      0      0      0      0  \n",
       "128       0      0      0      0      0      0      0      0  \n",
       "134       0      0      0      0      0      0      0      0  \n",
       "...     ...    ...    ...    ...    ...    ...    ...    ...  \n",
       "9934      0      0      0      0      0      0      0      0  \n",
       "9936      0      0      0      0      0      0      0      0  \n",
       "9959      0      0      0      0      0      0      0      0  \n",
       "9967      0      0      0      0      0      0      0      0  \n",
       "9991      0      0      0      0      0      0      0      0  \n",
       "\n",
       "[974 rows x 785 columns]"
      ]
     },
     "execution_count": 2,
     "metadata": {},
     "output_type": "execute_result"
    }
   ],
   "source": [
    "df = pd.read_csv(\"data/mnist_test.csv\")\n",
    "df = df.query(\"label == 8\")\n",
    "df"
   ]
  },
  {
   "cell_type": "code",
   "execution_count": 3,
   "id": "fc149481-a9e6-4061-8ade-aa5300f48e68",
   "metadata": {},
   "outputs": [],
   "source": [
    "# Arbitrarily choose first 100 for corruption\n",
    "\n",
    "anom = df[:100]\n",
    "clean = df[100:]"
   ]
  },
  {
   "cell_type": "code",
   "execution_count": 4,
   "id": "06475e41-cb0f-4e29-bc96-e2f596f896e1",
   "metadata": {},
   "outputs": [],
   "source": [
    "# Function for displaying the MNIST image\n",
    "\n",
    "def show_mnist_image(data):\n",
    "    # The first column is the label\n",
    "    label = data[0]\n",
    "    \n",
    "    # The rest of columns are pixels\n",
    "    pixels = data[1:]\n",
    "    \n",
    "    # Make those columns into a array of 8-bits pixels\n",
    "    # This array will be of 1D with length 784\n",
    "    # The pixel intensity values are integers from 0 to 255\n",
    "    pixels = np.array(pixels, dtype='int64')\n",
    "    #print(pixels.shape)\n",
    "    \n",
    "    # Reshape the array into 28 x 28 array (2-dimensional array)\n",
    "    pixels = pixels.reshape((28, 28))\n",
    "    #print(pixels.shape)\n",
    "    \n",
    "    # Plot\n",
    "    plt.title(f\"Label is {label}\")\n",
    "    plt.imshow(pixels, cmap='gray')\n",
    "    plt.show();"
   ]
  },
  {
   "cell_type": "code",
   "execution_count": 5,
   "id": "98ec1ef7-b24b-4b63-80e2-1571816298ea",
   "metadata": {},
   "outputs": [
    {
     "data": {
      "image/png": "[encoded data removed]",
      "text/plain": [
       "<Figure size 432x288 with 1 Axes>"
      ]
     },
     "metadata": {
      "needs_background": "light"
     },
     "output_type": "display_data"
    }
   ],
   "source": [
    "show_mnist_image(df.iloc[0])"
   ]
  },
  {
   "cell_type": "code",
   "execution_count": 6,
   "id": "ad289acb-4bc3-4ef8-af9d-4a9f81dbc76f",
   "metadata": {},
   "outputs": [],
   "source": [
    "# Apply corruption\n",
    "\n",
    "for i in range(len(anom)):\n",
    "    # select row from anom\n",
    "    row = anom.iloc[i]\n",
    "    # iterate through each element in row\n",
    "    for i in range(len(row)-1):\n",
    "        # add noise to element\n",
    "        row[i+1] = min(255, row[i+1]+random.randint(100,200))"
   ]
  },
  {
   "cell_type": "code",
   "execution_count": 7,
   "id": "809763ce-c7e6-40d2-bcca-e7722b9c921b",
   "metadata": {},
   "outputs": [
    {
     "name": "stderr",
     "output_type": "stream",
     "text": [
      "C:\\Users\\johnw\\AppData\\Local\\Temp\\ipykernel_2536\\1565456563.py:3: SettingWithCopyWarning: \n",
      "A value is trying to be set on a copy of a slice from a DataFrame.\n",
      "Try using .loc[row_indexer,col_indexer] = value instead\n",
      "\n",
      "See the caveats in the documentation: https://pandas.pydata.org/pandas-docs/stable/user_guide/indexing.html#returning-a-view-versus-a-copy\n",
      "  anom.loc[:, 'label'] = 1\n",
      "C:\\Users\\johnw\\AppData\\Local\\Temp\\ipykernel_2536\\1565456563.py:4: SettingWithCopyWarning: \n",
      "A value is trying to be set on a copy of a slice from a DataFrame.\n",
      "Try using .loc[row_indexer,col_indexer] = value instead\n",
      "\n",
      "See the caveats in the documentation: https://pandas.pydata.org/pandas-docs/stable/user_guide/indexing.html#returning-a-view-versus-a-copy\n",
      "  clean.loc[:, 'label'] = 0\n"
     ]
    }
   ],
   "source": [
    "# Change the label (1 for anomaly, 0 for clean)\n",
    "\n",
    "anom.loc[:, 'label'] = 1\n",
    "clean.loc[:, 'label'] = 0"
   ]
  },
  {
   "cell_type": "code",
   "execution_count": 8,
   "id": "0664a49e-4cb6-4ed2-b6c4-b496e89c1d97",
   "metadata": {},
   "outputs": [
    {
     "data": {
      "image/png": "[encoded data removed]",
      "text/plain": [
       "<Figure size 864x432 with 2 Axes>"
      ]
     },
     "metadata": {
      "needs_background": "light"
     },
     "output_type": "display_data"
    }
   ],
   "source": [
    "fig, axs = plt.subplots(1, 2, figsize=(12, 6))\n",
    "\n",
    "axs[0].imshow(np.array(clean.iloc[0, 1:]).reshape(28, 28), cmap='gray')\n",
    "axs[1].imshow(np.array(anom.iloc[0, 1:]).reshape(28, 28), cmap='gray')\n",
    "\n",
    "plt.show();"
   ]
  },
  {
   "cell_type": "code",
   "execution_count": 9,
   "id": "0c4fc182-cf4c-4bc6-941a-a4d91ac53d55",
   "metadata": {},
   "outputs": [],
   "source": [
    "# Recombine the test sets\n",
    "\n",
    "an_test = pd.concat([anom, clean])  # join\n",
    "an_test.sample(frac=1)              # shuffle\n",
    "an_test.to_csv('data/mnist_test_anom_only_8.csv')          # save"
   ]
  },
  {
   "cell_type": "markdown",
   "id": "9f389b1e-8ba6-4e21-9f01-d8eb48be039c",
   "metadata": {},
   "source": [
    "# Preparation of Train/Test Set"
   ]
  },
  {
   "cell_type": "code",
   "execution_count": 10,
   "id": "409167ff-6e35-467f-bedd-64f8f1fffea7",
   "metadata": {},
   "outputs": [],
   "source": [
    "training_data = pd.read_csv('data/mnist_train.csv', index_col=False)\n",
    "\n",
    "# Choose only 8\n",
    "training_data = training_data.query(\"label == 8\")"
   ]
  },
  {
   "cell_type": "code",
   "execution_count": 11,
   "id": "b933c302-1137-46f8-95f0-3a726143d7e2",
   "metadata": {},
   "outputs": [],
   "source": [
    "training_data.drop(columns=[\"label\"], inplace=True)\n",
    "an_test.drop(columns=[\"label\"], inplace=True)"
   ]
  },
  {
   "cell_type": "code",
   "execution_count": 12,
   "id": "dc16d2e5-4fa3-41d4-8cef-d0980e426599",
   "metadata": {},
   "outputs": [],
   "source": [
    "training_data_np = training_data.to_numpy()/255\n",
    "X_train = torch.tensor(training_data_np, dtype=torch.float32)   # torch.Tensor ==> Torch Float Tensor"
   ]
  },
  {
   "cell_type": "code",
   "execution_count": 13,
   "id": "4db11ee0-bd35-4e25-a8f0-4ebe3704e1be",
   "metadata": {},
   "outputs": [],
   "source": [
    "an_test_np = an_test.to_numpy()/255\n",
    "X_test = torch.Tensor(an_test_np)"
   ]
  },
  {
   "cell_type": "markdown",
   "id": "8697dd46-d768-45be-988b-d3b03e6aca4e",
   "metadata": {},
   "source": [
    "# Autoencoder"
   ]
  },
  {
   "cell_type": "code",
   "execution_count": 14,
   "id": "2d11aa1a-0860-42a4-aab1-9fe5fa89fce7",
   "metadata": {},
   "outputs": [],
   "source": [
    "def conv_block(input_channels, output_channels):\n",
    "    return nn.Sequential(\n",
    "        nn.Conv2d(input_channels, output_channels, 3, padding=1),\n",
    "        nn.ReLU(),\n",
    "        nn.MaxPool2d(2)  # reduce x-y dims by two\n",
    "    )\n",
    "\n",
    "def deconv_block(input_channels, output_channels, kernel_size):\n",
    "    return nn.Sequential(\n",
    "        nn.ConvTranspose2d(input_channels, output_channels, kernel_size, stride=2),\n",
    "        nn.ReLU()\n",
    "    )"
   ]
  },
  {
   "cell_type": "code",
   "execution_count": 15,
   "id": "c3b970a7-8663-4267-b605-965dc428af8a",
   "metadata": {},
   "outputs": [],
   "source": [
    "# Autoencoder Class\n",
    "\n",
    "class AE(nn.Module):\n",
    "    def __init__(self):\n",
    "        super(AE, self).__init__()\n",
    "        \n",
    "        self.enc = nn.Sequential(\n",
    "            conv_block(1, 32),\n",
    "            conv_block(32, 16),\n",
    "            conv_block(16, 8)\n",
    "        )\n",
    "        \n",
    "        self.dec = nn.Sequential(\n",
    "            deconv_block(8, 8, 3),\n",
    "            deconv_block(8, 16, 2),\n",
    "            deconv_block(16, 32, 2),\n",
    "            nn.Conv2d(32, 1, 3, padding=1)  # final conv layer to decrease channel back to 1\n",
    "        )\n",
    "        \n",
    "    def forward(self, x):\n",
    "        x = self.enc(x)\n",
    "        x = self.dec(x)\n",
    "        x = torch.sigmoid(x)  # get pixels between 0 and 1\n",
    "        return x"
   ]
  },
  {
   "cell_type": "code",
   "execution_count": 16,
   "id": "ca78cc42-4eea-46dc-8cf7-c57cbcd3b446",
   "metadata": {},
   "outputs": [],
   "source": [
    "# Training Parameters\n",
    "\n",
    "BATCH_SIZE = 32\n",
    "lr = 1e-2   # learning rate\n",
    "w_d = 1e-5  # weight decay\n",
    "momentum = 0.9\n",
    "epochs = 15"
   ]
  },
  {
   "cell_type": "code",
   "execution_count": 17,
   "id": "eb4eea0c-9fff-42c7-bdd4-fa2564d76a06",
   "metadata": {},
   "outputs": [],
   "source": [
    "trainloader = DataLoader(\n",
    "    X_train,\n",
    "    batch_size=BATCH_SIZE,\n",
    "    shuffle=True,\n",
    "    #num_workers=20,\n",
    "    pin_memory=True,\n",
    "    drop_last=True\n",
    ")\n",
    "\n",
    "testloader = DataLoader(\n",
    "    X_test,\n",
    "    batch_size=BATCH_SIZE,\n",
    "    shuffle=False,\n",
    "    #num_workers=20,\n",
    "    pin_memory=True,\n",
    "    drop_last=True\n",
    ")"
   ]
  },
  {
   "cell_type": "code",
   "execution_count": 18,
   "id": "d82c7337-d2b9-44af-9634-b4488322a652",
   "metadata": {},
   "outputs": [],
   "source": [
    "metrics = defaultdict(list)\n",
    "model = AE()\n",
    "device = 'cpu'\n",
    "criterion = nn.MSELoss()\n",
    "#optimizer = torch.optim.SGD(model.parameters(), lr=lr, weight_decay=w_d)\n",
    "optimizer = torch.optim.Adam(model.parameters())"
   ]
  },
  {
   "cell_type": "code",
   "execution_count": 19,
   "id": "2f5a36fc-a440-4142-8b09-445d2bcc3a00",
   "metadata": {},
   "outputs": [
    {
     "name": "stdout",
     "output_type": "stream",
     "text": [
      "==========================================================================================\n",
      "Layer (type:depth-idx)                   Output Shape              Param #\n",
      "==========================================================================================\n",
      "├─Sequential: 1-1                        [-1, 8, 3, 3]             --\n",
      "|    └─Sequential: 2-1                   [-1, 32, 14, 14]          --\n",
      "|    |    └─Conv2d: 3-1                  [-1, 32, 28, 28]          320\n",
      "|    |    └─ReLU: 3-2                    [-1, 32, 28, 28]          --\n",
      "|    |    └─MaxPool2d: 3-3               [-1, 32, 14, 14]          --\n",
      "|    └─Sequential: 2-2                   [-1, 16, 7, 7]            --\n",
      "|    |    └─Conv2d: 3-4                  [-1, 16, 14, 14]          4,624\n",
      "|    |    └─ReLU: 3-5                    [-1, 16, 14, 14]          --\n",
      "|    |    └─MaxPool2d: 3-6               [-1, 16, 7, 7]            --\n",
      "|    └─Sequential: 2-3                   [-1, 8, 3, 3]             --\n",
      "|    |    └─Conv2d: 3-7                  [-1, 8, 7, 7]             1,160\n",
      "|    |    └─ReLU: 3-8                    [-1, 8, 7, 7]             --\n",
      "|    |    └─MaxPool2d: 3-9               [-1, 8, 3, 3]             --\n",
      "├─Sequential: 1-2                        [-1, 1, 28, 28]           --\n",
      "|    └─Sequential: 2-4                   [-1, 8, 7, 7]             --\n",
      "|    |    └─ConvTranspose2d: 3-10        [-1, 8, 7, 7]             584\n",
      "|    |    └─ReLU: 3-11                   [-1, 8, 7, 7]             --\n",
      "|    └─Sequential: 2-5                   [-1, 16, 14, 14]          --\n",
      "|    |    └─ConvTranspose2d: 3-12        [-1, 16, 14, 14]          528\n",
      "|    |    └─ReLU: 3-13                   [-1, 16, 14, 14]          --\n",
      "|    └─Sequential: 2-6                   [-1, 32, 28, 28]          --\n",
      "|    |    └─ConvTranspose2d: 3-14        [-1, 32, 28, 28]          2,080\n",
      "|    |    └─ReLU: 3-15                   [-1, 32, 28, 28]          --\n",
      "|    └─Conv2d: 2-7                       [-1, 1, 28, 28]           289\n",
      "==========================================================================================\n",
      "Total params: 9,585\n",
      "Trainable params: 9,585\n",
      "Non-trainable params: 0\n",
      "Total mult-adds (M): 3.16\n",
      "==========================================================================================\n",
      "Input size (MB): 0.00\n",
      "Forward/backward pass size (MB): 0.44\n",
      "Params size (MB): 0.04\n",
      "Estimated Total Size (MB): 0.48\n",
      "==========================================================================================\n"
     ]
    }
   ],
   "source": [
    "summary(model, (1, 28, 28), device=\"cpu\");   # Must use device='cpu'"
   ]
  },
  {
   "cell_type": "code",
   "execution_count": 20,
   "id": "2a6abaeb-96d9-4a50-8609-deec26f69849",
   "metadata": {},
   "outputs": [
    {
     "data": {
      "image/png": "[encoded data removed]",
      "text/plain": [
       "<Figure size 864x1296 with 6 Axes>"
      ]
     },
     "metadata": {
      "needs_background": "light"
     },
     "output_type": "display_data"
    }
   ],
   "source": [
    "# Autoencoder outputs (Train Set) - Before Training\n",
    "\n",
    "model.eval()\n",
    "with torch.no_grad():\n",
    "    X = next(iter(trainloader))\n",
    "    X = torch.Tensor(np.array(X).reshape(32, 1, 28, 28))  # Added for CNN  (32 for BATCH_SIZE)\n",
    "    y_pred = model(X)\n",
    "\n",
    "    _, axs = plt.subplots(3, 2, figsize=(12, 18))\n",
    "    axs[0, 0].imshow(np.array(X[0]).reshape(28, 28), cmap='gray')\n",
    "    axs[0, 1].imshow(np.array(y_pred[0]).reshape(28, 28), cmap='gray')\n",
    "    axs[1, 0].imshow(np.array(X[1]).reshape(28, 28), cmap='gray')\n",
    "    axs[1, 1].imshow(np.array(y_pred[1]).reshape(28, 28), cmap='gray')\n",
    "    axs[2, 0].imshow(np.array(X[2]).reshape(28, 28), cmap='gray')\n",
    "    axs[2, 1].imshow(np.array(y_pred[2]).reshape(28, 28), cmap='gray')"
   ]
  },
  {
   "cell_type": "code",
   "execution_count": 21,
   "id": "e3a7c582-46ae-4354-b599-b383df162fe5",
   "metadata": {},
   "outputs": [],
   "source": [
    "#def trainer(model, criterion, optimizer, trainloader, validloader, epochs=5, patience=5, verbose=True):\n",
    "def trainer(model, criterion, optimizer, trainloader, epochs=5, patience=5, verbose=True):\n",
    "    \"\"\"Simple training wrapper for PyTorch network.\"\"\"\n",
    "    \n",
    "    # train_loss, valid_loss, train_accuracy, valid_accuracy = [], [], [], []\n",
    "    train_loss = []\n",
    "\n",
    "    for epoch in range(epochs):  # for each epoch\n",
    "        train_batch_loss = 0\n",
    "        # valid_batch_loss = 0\n",
    "        # train_batch_acc = 0\n",
    "        # valid_batch_acc = 0\n",
    "        \n",
    "        # Training\n",
    "        for X in trainloader:\n",
    "            optimizer.zero_grad()       # Zero all the gradients w.r.t. parameters\n",
    "            X = torch.Tensor(np.array(X).reshape(32, 1, 28, 28))  # Added for CNN\n",
    "            # X = X.to(device)\n",
    "            # y = y.to(device)\n",
    "            y_hat = model(X)  # forward pass to get output\n",
    "            loss = criterion(y_hat, X)  # Calculate loss based on output\n",
    "            loss.backward()             # Calculate gradients w.r.t. parameters\n",
    "            optimizer.step()            # Update parameters\n",
    "            train_batch_loss += loss.item()  # Add loss for this batch to running total\n",
    "            # train_batch_acc += (y_hat_labels.squeeze() == y).type(torch.float32).mean().item()\n",
    "        train_loss.append(train_batch_loss / len(trainloader))\n",
    "        # train_accuracy.append(train_batch_acc / len(trainloader))  # accuracy\n",
    "        \n",
    "        # model.train()\n",
    "        \n",
    "        # Print progress\n",
    "        if verbose:\n",
    "            # if (epoch+1) % 100 == 0:\n",
    "            print(f\"Epoch {epoch + 1}:\",\n",
    "                  f\"Train Loss: {train_loss[-1]:.7f}.\")\n",
    "                      # f\"Valid Loss: {valid_loss[-1]:.3f}.\",\n",
    "                      # f\"Train Accuracy: {train_accuracy[-1]:.2f}.\"\n",
    "                      # f\"Valid Accuracy: {valid_accuracy[-1]:.2f}.\")\n",
    "                \n",
    "        # # Early stopping\n",
    "        # if epoch > 0 and train_loss[-1] > train_loss[-2]:   # should ussing train_loss for autoencoder\n",
    "        #     consec_increases += 1\n",
    "        # else:\n",
    "        #     consec_increases = 0\n",
    "        # # if epoch > 100 and consec_increases == patience:  # Newly added condition for epoch > 100\n",
    "        #     print(f\"Stopped early at epoch {epoch + 1} - val loss increased for {consec_increases} consecutive epochs!\")\n",
    "        #     break\n",
    "            \n",
    "    print(\"\\nTraining ended.\")\n",
    "    \n",
    "    loss_fig = pd.DataFrame({\"train_loss\": train_loss}).plot.line()\n",
    "    loss_fig.set_xlabel('Epoch')\n",
    "    loss_fig.set_ylabel('Loss');\n",
    "    \n",
    "    # accur_fig = pd.DataFrame({\"train_accuracy\": train_accuracy, \"valid_accuracy\": valid_accuracy}).plot.line()\n",
    "    # accur_fig.set_xlabel('Epoch')\n",
    "    # accur_fig.set_ylabel('Accuracy');"
   ]
  },
  {
   "cell_type": "code",
   "execution_count": 22,
   "id": "7f7d9bc0-17e7-4cbb-915b-2565e3e87294",
   "metadata": {},
   "outputs": [
    {
     "name": "stdout",
     "output_type": "stream",
     "text": [
      "Epoch 1: Train Loss: 0.1078842.\n",
      "Epoch 2: Train Loss: 0.0491380.\n",
      "Epoch 3: Train Loss: 0.0404804.\n",
      "Epoch 4: Train Loss: 0.0358021.\n",
      "Epoch 5: Train Loss: 0.0328725.\n",
      "Epoch 6: Train Loss: 0.0305415.\n",
      "Epoch 7: Train Loss: 0.0288386.\n",
      "Epoch 8: Train Loss: 0.0273562.\n",
      "Epoch 9: Train Loss: 0.0262102.\n",
      "Epoch 10: Train Loss: 0.0251552.\n",
      "Epoch 11: Train Loss: 0.0242230.\n",
      "Epoch 12: Train Loss: 0.0234218.\n",
      "Epoch 13: Train Loss: 0.0228021.\n",
      "Epoch 14: Train Loss: 0.0223684.\n",
      "Epoch 15: Train Loss: 0.0217932.\n",
      "\n",
      "Training ended.\n"
     ]
    },
    {
     "data": {
      "image/png": "[encoded data removed]",
      "text/plain": [
       "<Figure size 432x288 with 1 Axes>"
      ]
     },
     "metadata": {
      "needs_background": "light"
     },
     "output_type": "display_data"
    }
   ],
   "source": [
    "trainer(model, criterion, optimizer, trainloader, epochs=15, patience=5, verbose=True)"
   ]
  },
  {
   "cell_type": "code",
   "execution_count": 23,
   "id": "3468aeba-7cce-48ee-b8f8-70d1121b3087",
   "metadata": {},
   "outputs": [],
   "source": [
    "#torch.save(model.state_dict(), \"model_autoencoder.pt\")\n",
    "#model = AE()\n",
    "#model.load_state_dict(torch.load(\"model_autoencoder.pt\", map_location=device))"
   ]
  },
  {
   "cell_type": "markdown",
   "id": "dffaacdd-287d-4055-ade9-5a6476c7aac1",
   "metadata": {},
   "source": [
    "# Prediction"
   ]
  },
  {
   "cell_type": "code",
   "execution_count": 24,
   "id": "81d26204-93be-47a0-be36-5a761ca63006",
   "metadata": {},
   "outputs": [
    {
     "data": {
      "image/png": "[encoded data removed]",
      "text/plain": [
       "<Figure size 864x1296 with 6 Axes>"
      ]
     },
     "metadata": {
      "needs_background": "light"
     },
     "output_type": "display_data"
    }
   ],
   "source": [
    "# Autoencoder outputs (Train Set)\n",
    "\n",
    "model.eval()\n",
    "with torch.no_grad():\n",
    "    X = next(iter(trainloader))\n",
    "    X = torch.Tensor(np.array(X).reshape(32, 1, 28, 28))  # Added for CNN\n",
    "    y_pred = model(X)\n",
    "\n",
    "    _, axs = plt.subplots(3, 2, figsize=(12, 18))\n",
    "    axs[0, 0].imshow(np.array(X[0]).reshape(28, 28), cmap='gray')\n",
    "    axs[0, 1].imshow(np.array(y_pred[0]).reshape(28, 28), cmap='gray')\n",
    "    axs[1, 0].imshow(np.array(X[1]).reshape(28, 28), cmap='gray')\n",
    "    axs[1, 1].imshow(np.array(y_pred[1]).reshape(28, 28), cmap='gray')\n",
    "    axs[2, 0].imshow(np.array(X[2]).reshape(28, 28), cmap='gray')\n",
    "    axs[2, 1].imshow(np.array(y_pred[2]).reshape(28, 28), cmap='gray')"
   ]
  },
  {
   "cell_type": "code",
   "execution_count": 25,
   "id": "9e793b00-6541-4e88-b633-d0b3e77ac844",
   "metadata": {},
   "outputs": [
    {
     "data": {
      "image/png": "[encoded data removed]",
      "text/plain": [
       "<Figure size 864x1296 with 6 Axes>"
      ]
     },
     "metadata": {
      "needs_background": "light"
     },
     "output_type": "display_data"
    }
   ],
   "source": [
    "# Autoencoder outputs (Test Set)\n",
    "\n",
    "model.eval()\n",
    "with torch.no_grad():\n",
    "    X = next(iter(testloader))\n",
    "    X = torch.Tensor(np.array(X).reshape(32, 1, 28, 28))  # Added for CNN\n",
    "    y_pred = model(X)\n",
    "\n",
    "    _, axs = plt.subplots(3, 2, figsize=(12, 18))\n",
    "    axs[0, 0].imshow(np.array(X[0]).reshape(28, 28), cmap='gray')\n",
    "    axs[0, 1].imshow(np.array(y_pred[0]).reshape(28, 28), cmap='gray')\n",
    "    axs[1, 0].imshow(np.array(X[1]).reshape(28, 28), cmap='gray')\n",
    "    axs[1, 1].imshow(np.array(y_pred[1]).reshape(28, 28), cmap='gray')\n",
    "    axs[2, 0].imshow(np.array(X[2]).reshape(28, 28), cmap='gray')\n",
    "    axs[2, 1].imshow(np.array(y_pred[2]).reshape(28, 28), cmap='gray')"
   ]
  },
  {
   "cell_type": "code",
   "execution_count": 26,
   "id": "34999d09-1ae8-41da-9d8a-9c5e1d9c278a",
   "metadata": {},
   "outputs": [],
   "source": [
    "model.eval()\n",
    "loss_dist = []\n",
    "anom = pd.read_csv('data/mnist_test_anom_only_8.csv', index_col=[0])\n",
    "\n",
    "for i in range(len(anom)):\n",
    "    data = torch.from_numpy(np.array(anom.iloc[i][1:])/255).float()\n",
    "    data = torch.Tensor(np.array(data).reshape(1, 1, 28, 28))  # Added for CNN\n",
    "    sample = model(data.to(device))\n",
    "    loss = criterion(data.to(device), sample)\n",
    "    loss_dist.append(loss.item())"
   ]
  },
  {
   "cell_type": "markdown",
   "id": "ee0035b6-435d-417d-9990-c66c928bd0e4",
   "metadata": {},
   "source": [
    "# Result Analysis"
   ]
  },
  {
   "cell_type": "code",
   "execution_count": 28,
   "id": "7e246972-512a-4dac-b5f1-f4e58cb3d871",
   "metadata": {},
   "outputs": [
    {
     "data": {
      "text/plain": [
       "<matplotlib.lines.Line2D at 0x1b517df3880>"
      ]
     },
     "execution_count": 28,
     "metadata": {},
     "output_type": "execute_result"
    },
    {
     "data": {
      "image/png": "[encoded data removed]",
      "text/plain": [
       "<Figure size 432x288 with 1 Axes>"
      ]
     },
     "metadata": {
      "needs_background": "light"
     },
     "output_type": "display_data"
    }
   ],
   "source": [
    "# Loss Comparison\n",
    "\n",
    "loss_sc = []\n",
    "for i in loss_dist:\n",
    "    loss_sc.append((i,i))\n",
    "plt.scatter(*zip(*loss_sc))\n",
    "plt.axvline(0.15, 0.0, 1)"
   ]
  },
  {
   "cell_type": "code",
   "execution_count": 29,
   "id": "b27d28a2-e34d-4b41-bfbc-0be7deed34b4",
   "metadata": {},
   "outputs": [
    {
     "name": "stderr",
     "output_type": "stream",
     "text": [
      "C:\\Users\\johnw\\miniconda3\\envs\\575\\lib\\site-packages\\seaborn\\distributions.py:2619: FutureWarning: `distplot` is a deprecated function and will be removed in a future version. Please adapt your code to use either `displot` (a figure-level function with similar flexibility) or `histplot` (an axes-level function for histograms).\n",
      "  warnings.warn(msg, FutureWarning)\n"
     ]
    },
    {
     "data": {
      "image/png": "[encoded data removed]",
      "text/plain": [
       "<Figure size 864x432 with 1 Axes>"
      ]
     },
     "metadata": {
      "needs_background": "light"
     },
     "output_type": "display_data"
    }
   ],
   "source": [
    "lower_threshold = 0.0\n",
    "upper_threshold = 0.15\n",
    "plt.figure(figsize=(12,6))\n",
    "plt.title('Loss Distribution')\n",
    "sns.distplot(loss_dist,bins=100,kde=True, color='blue')\n",
    "plt.axvline(upper_threshold, 0.0, 10, color='r')\n",
    "plt.axvline(lower_threshold, 0.0, 10, color='b')\n",
    "plt.show();"
   ]
  },
  {
   "cell_type": "markdown",
   "id": "dd99a691-1b87-4aaa-aeaa-28a490a4d896",
   "metadata": {},
   "source": [
    "# Matching anomalies and loss values"
   ]
  },
  {
   "cell_type": "code",
   "execution_count": 30,
   "id": "de021df3-3dbd-4d9e-ada6-79980580e5d6",
   "metadata": {},
   "outputs": [
    {
     "name": "stdout",
     "output_type": "stream",
     "text": [
      "[TP] 100\t[FP] 0\t[MISSED] 0\n",
      "[TN] 874\t[FN] 0\n"
     ]
    }
   ],
   "source": [
    "df = pd.read_csv('data/mnist_test_anom_only_8.csv', index_col=[0])\n",
    "ddf = pd.DataFrame(columns=df.columns)\n",
    "tp = 0\n",
    "fp = 0\n",
    "tn = 0\n",
    "fn = 0\n",
    "total_anom = 0\n",
    "for i in range(len(loss_dist)):\n",
    "    total_anom += df.iloc[i]['label']\n",
    "    if loss_dist[i] >= upper_threshold:\n",
    "        n_df = pd.DataFrame([df.iloc[i]])\n",
    "        n_df['loss'] = loss_dist[i]\n",
    "        ddf = pd.concat([df,n_df], sort = True)\n",
    "        if float(df.iloc[i]['label']) == 1.0:\n",
    "            tp += 1\n",
    "        else:\n",
    "            fp += 1\n",
    "    else:\n",
    "        if float(df.iloc[i]['label']) == 1.0:\n",
    "            fn += 1\n",
    "        else:\n",
    "            tn += 1\n",
    "print('[TP] {}\\t[FP] {}\\t[MISSED] {}'.format(tp, fp, total_anom-tp))\n",
    "print('[TN] {}\\t[FN] {}'.format(tn, fn))"
   ]
  },
  {
   "cell_type": "code",
   "execution_count": 31,
   "id": "cea4c497-bf50-40db-8578-6e0fe618d648",
   "metadata": {},
   "outputs": [
    {
     "data": {
      "image/png": "[encoded data removed]",
      "text/plain": [
       "<Figure size 432x288 with 2 Axes>"
      ]
     },
     "metadata": {
      "needs_background": "light"
     },
     "output_type": "display_data"
    }
   ],
   "source": [
    "# Confusion Matrix\n",
    "\n",
    "conf = [[tn,fp],[fn,tp]]\n",
    "plt.figure()\n",
    "sns.heatmap(conf,annot=True,annot_kws={\"size\": 16},fmt='g')\n",
    "plt.xlabel(\"Predict\")\n",
    "plt.ylabel(\"Actual\")\n",
    "plt.show()"
   ]
  },
  {
   "cell_type": "code",
   "execution_count": null,
   "id": "9f6d996c-8243-4543-925d-3051746a363d",
   "metadata": {},
   "outputs": [],
   "source": []
  }
 ],
 "metadata": {
  "kernelspec": {
   "display_name": "Python [conda env:575]",
   "language": "python",
   "name": "conda-env-575-py"
  },
  "language_info": {
   "codemirror_mode": {
    "name": "ipython",
    "version": 3
   },
   "file_extension": ".py",
   "mimetype": "text/x-python",
   "name": "python",
   "nbconvert_exporter": "python",
   "pygments_lexer": "ipython3",
   "version": "3.10.4"
  }
 },
 "nbformat": 4,
 "nbformat_minor": 5
}
