{
 "cells": [
  {
   "cell_type": "markdown",
   "id": "e42f51b5-d259-46e8-a99e-071a00a32181",
   "metadata": {},
   "source": [
    "The following is from [this article](https://medium.com/@kuanhoong/how-to-use-tensorboard-with-pytorch-e2b84aa55e67) in Medium."
   ]
  },
  {
   "cell_type": "markdown",
   "id": "d4d54f29-7ada-4fe0-95e9-1bc32d2e5eac",
   "metadata": {},
   "source": [
    "[TensorBoard](https://www.tensorflow.org/tensorboard) is a tool for visualizing and understanding the performance of deep learning models. It is an open-source tool developed by TensorFlow and can be used with any deep learning framework. TensorBoard allows tracking and visualizing metrics such as loss and accuracy, visualizing the model graph, viewing histograms, displaying images and optimize your TensorFlow/PyTorch codes."
   ]
  },
  {
   "cell_type": "markdown",
   "id": "b5395814-493a-4128-aabe-fdf464569b1a",
   "metadata": {},
   "source": [
    "# 1. Use TensorBoard with PyTorch"
   ]
  },
  {
   "cell_type": "markdown",
   "id": "40066ae3-97f1-4886-9009-a8e91cbbdcba",
   "metadata": {},
   "source": [
    "In order to use TensorBoard with PyTorch, you need to create a `SummaryWriter` instance to ensure all logs are created and stored.\n",
    "\n",
    "The `SummaryWriter` class provides a high-level API to create an event file in a given directory and add summaries and events to it. The class updates the file contents asynchronously. This allows a training program to call methods to add data to the file directly from the training loop, without slowing down training."
   ]
  },
  {
   "cell_type": "code",
   "execution_count": 1,
   "id": "c84b7ce4-28b4-4993-90bf-c41aa51840b9",
   "metadata": {},
   "outputs": [],
   "source": [
    "import torch\n",
    "from torch.utils.tensorboard import SummaryWriter"
   ]
  },
  {
   "cell_type": "code",
   "execution_count": 2,
   "id": "aeb6164a-0f30-4899-b5c8-acfe2beb9d19",
   "metadata": {},
   "outputs": [],
   "source": [
    "writer = SummaryWriter()"
   ]
  },
  {
   "cell_type": "markdown",
   "id": "7e6ce709-0669-4039-a831-a660db0b9506",
   "metadata": {},
   "source": [
    "Writer will output to `./runs/` directory by default.\n",
    "\n",
    "If you do not need the summary writer anymore, call `close()` method."
   ]
  },
  {
   "cell_type": "code",
   "execution_count": 3,
   "id": "d6aed355-13de-4fce-aa51-404fe2bc00b5",
   "metadata": {},
   "outputs": [],
   "source": [
    "writer.close()"
   ]
  },
  {
   "cell_type": "markdown",
   "id": "96dc93a2-d321-4766-a7b4-6104cfce4769",
   "metadata": {},
   "source": [
    "# 2. Steps to add TensorBoard"
   ]
  },
  {
   "cell_type": "markdown",
   "id": "15fe9679-d5a5-4c7f-89d3-d840239b12db",
   "metadata": {},
   "source": [
    "Adding TensorBoard to your PyTorch model will take a few simple steps:\n",
    "\n",
    "1. Starting with a simple Neural Network.\n",
    "2. Initializing the `SummaryWriter` which allows us to write to TensorBoard.\n",
    "3. Writing away some scalar values, both individually and in groups.\n",
    "4. Writing away images, graphs and histograms."
   ]
  },
  {
   "cell_type": "markdown",
   "id": "79ec71dd-43bd-4cbc-97f6-66df1af82fa2",
   "metadata": {},
   "source": [
    "# 3. Run TensorBoard"
   ]
  },
  {
   "cell_type": "markdown",
   "id": "e4cfdcc1-d926-4d1f-84ce-00b27ed3555d",
   "metadata": {},
   "source": [
    "Start TensorBoard by specifying the root log directory you used above. Argument `logdir` points to directory where TensorBoard will look to find event files that it can display. TensorBoard will recursively walk the directory structure rooted at `logdir`, looking for .*tfevents.* files.\n",
    "\n",
    "Load the TensorBoard notebook extension:"
   ]
  },
  {
   "cell_type": "code",
   "execution_count": 4,
   "id": "91451be1-7461-4ff4-8781-7694f4a0405d",
   "metadata": {},
   "outputs": [],
   "source": [
    "%load_ext tensorboard"
   ]
  },
  {
   "cell_type": "raw",
   "id": "1c61ad7d-32ee-499b-8fcd-cc91123909a0",
   "metadata": {},
   "source": [
    "$ tensorboard --logdir=runs\\"
   ]
  },
  {
   "cell_type": "markdown",
   "id": "7bddbf68-00d8-4c1b-9187-da8d5a7c79d5",
   "metadata": {},
   "source": [
    "Go to the URL it provides OR to http://localhost:6006/"
   ]
  },
  {
   "cell_type": "markdown",
   "id": "05cc7b19-f500-481d-98bd-625cef006c07",
   "metadata": {},
   "source": [
    "# 4. Example of use"
   ]
  },
  {
   "cell_type": "markdown",
   "id": "d2aef283-7928-475d-a6c1-ac3e462fae3a",
   "metadata": {},
   "source": [
    "To show the use of TensorBoard we will run the Convolutional Neural Network model on the Fashion-MNIST dataset. torchvision already has the Fashion-MNIST dataset."
   ]
  },
  {
   "cell_type": "markdown",
   "id": "3c4589a6-6cc2-4cad-99db-077c2e33ce99",
   "metadata": {},
   "source": [
    "## 4.1. Network"
   ]
  },
  {
   "cell_type": "code",
   "execution_count": 6,
   "id": "a7993a06-6db1-46d9-816a-7bb1a97bb031",
   "metadata": {},
   "outputs": [],
   "source": [
    "import numpy as np\n",
    "import torch\n",
    "import torchvision"
   ]
  },
  {
   "cell_type": "code",
   "execution_count": 7,
   "id": "edd08c6c-b069-46ae-80a1-a2140b058836",
   "metadata": {},
   "outputs": [],
   "source": [
    "EPOCHS = 10\n",
    "BATCH_SIZE = 64"
   ]
  },
  {
   "cell_type": "code",
   "execution_count": 8,
   "id": "6bdba4b1-8a95-41fb-8d3a-6fd8790ccd81",
   "metadata": {},
   "outputs": [],
   "source": [
    "xy_trainPT = torchvision.datasets.MNIST(\n",
    "    root=\"./data\",\n",
    "    train=True,\n",
    "    download=True,\n",
    "    transform=torchvision.transforms.Compose([torchvision.transforms.ToTensor()]),\n",
    ")\n",
    "xy_trainPT_loader = torch.utils.data.DataLoader(xy_trainPT, batch_size=BATCH_SIZE)"
   ]
  },
  {
   "cell_type": "code",
   "execution_count": 9,
   "id": "91862f22-231f-48bd-90b1-55fd98dfc0c8",
   "metadata": {},
   "outputs": [],
   "source": [
    "def model(hidden):\n",
    "    model = torch.nn.Sequential(\n",
    "        torch.nn.Linear(784, hidden),\n",
    "        torch.nn.Sigmoid(),\n",
    "        torch.nn.Linear(hidden, 10),\n",
    "        torch.nn.LogSoftmax(dim=1),\n",
    "    )\n",
    "    return model"
   ]
  },
  {
   "cell_type": "markdown",
   "id": "e84b08c4-8b6c-45e5-abf9-a9795c86713f",
   "metadata": {},
   "source": [
    "Import `SummaryWriter` class:"
   ]
  },
  {
   "cell_type": "code",
   "execution_count": 10,
   "id": "6fe1862f-e7d4-4152-9251-29069962a62c",
   "metadata": {},
   "outputs": [],
   "source": [
    "from torch.utils.tensorboard import SummaryWriter"
   ]
  },
  {
   "cell_type": "markdown",
   "id": "bfa627f7-97b0-497d-8030-323e7a0c5a64",
   "metadata": {},
   "source": [
    "Create `SummaryWriter` instance and train the model:"
   ]
  },
  {
   "cell_type": "code",
   "execution_count": 11,
   "id": "d4032c87-2178-4ca3-b441-73ced837470d",
   "metadata": {},
   "outputs": [],
   "source": [
    "modelPT = model(10)\n",
    "criterion = torch.nn.NLLLoss()\n",
    "optimizer = torch.optim.SGD(modelPT.parameters(), lr=0.01)"
   ]
  },
  {
   "cell_type": "code",
   "execution_count": 12,
   "id": "5352f9e7-07f4-4a23-bdc6-959d7dbed985",
   "metadata": {},
   "outputs": [],
   "source": [
    "writer = SummaryWriter()"
   ]
  },
  {
   "cell_type": "code",
   "execution_count": 13,
   "id": "99f497f4-5655-4188-9262-968e08e7311b",
   "metadata": {},
   "outputs": [
    {
     "name": "stdout",
     "output_type": "stream",
     "text": [
      "Epoch 0 - Training loss: 2.214630706732207\n",
      "Epoch 1 - Training loss: 1.928883026403659\n",
      "Epoch 2 - Training loss: 1.6090878618043114\n",
      "Epoch 3 - Training loss: 1.3582085221052678\n",
      "Epoch 4 - Training loss: 1.1772527838312488\n",
      "Epoch 5 - Training loss: 1.0422105350092785\n",
      "Epoch 6 - Training loss: 0.9371814598152632\n",
      "Epoch 7 - Training loss: 0.8529290988374112\n",
      "Epoch 8 - Training loss: 0.7837598717161841\n",
      "Epoch 9 - Training loss: 0.7260126080721426\n"
     ]
    }
   ],
   "source": [
    "for e in range(EPOCHS):\n",
    "    running_loss = 0\n",
    "    for images, labels in xy_trainPT_loader:\n",
    "        images = images.view(images.shape[0], -1)\n",
    "        output = modelPT(images)\n",
    "        loss = criterion(output, labels)\n",
    "        loss.backward()\n",
    "        optimizer.step()\n",
    "        optimizer.zero_grad()\n",
    "        running_loss += loss.item()\n",
    "    print(\n",
    "        \"Epoch {} - Training loss: {}\".format(e, running_loss / len(xy_trainPT_loader))\n",
    "    )\n",
    "    writer.add_scalar(\"loss x epoch\", running_loss / len(xy_trainPT_loader), e)"
   ]
  },
  {
   "cell_type": "code",
   "execution_count": 14,
   "id": "432e1c68-bdbd-4ccd-b7a1-73339670fa62",
   "metadata": {},
   "outputs": [],
   "source": [
    "writer.close()"
   ]
  },
  {
   "cell_type": "markdown",
   "id": "c358c9aa-7d91-408c-a929-4e626377763f",
   "metadata": {},
   "source": [
    "Load the TensorBoard notebook extension and run TensorBoard"
   ]
  },
  {
   "cell_type": "code",
   "execution_count": 15,
   "id": "7ab9de83-78c4-4e8d-a610-48c912a0aadf",
   "metadata": {},
   "outputs": [
    {
     "name": "stdout",
     "output_type": "stream",
     "text": [
      "The tensorboard extension is already loaded. To reload it, use:\n",
      "  %reload_ext tensorboard\n"
     ]
    }
   ],
   "source": [
    "%load_ext tensorboard"
   ]
  },
  {
   "cell_type": "code",
   "execution_count": 17,
   "id": "0b9afe1e-caf2-4f70-b9b1-637b81dc1f47",
   "metadata": {},
   "outputs": [],
   "source": [
    "# Type the following in CLI in the corresponding folder under the correct virtual env\n",
    "\n",
    "# tensorboard --logdir=runs\\"
   ]
  },
  {
   "cell_type": "markdown",
   "id": "07af2d7b-f927-4071-9099-f65923b95e41",
   "metadata": {},
   "source": [
    "# 5. TensorBoard Dashboard"
   ]
  },
  {
   "cell_type": "markdown",
   "id": "2c832434-527f-49ad-bc41-0056d61fb8a5",
   "metadata": {},
   "source": [
    "The TensorBoard dashboard shows how the loss and accuracy change with every epoch. You can use it to also track training speed, learning rate, and other scalar values. It’s helpful to compare these metrics across different training runs to improve your model."
   ]
  },
  {
   "cell_type": "markdown",
   "id": "4be22e35-f197-471c-aff5-6431fa6ef049",
   "metadata": {},
   "source": [
    "## 5.1. Share TensorBoard dashboards"
   ]
  },
  {
   "cell_type": "markdown",
   "id": "af31903e-e5f3-47d0-92a9-5c684c94ef9c",
   "metadata": {},
   "source": [
    "[TensorBoard.dev](https://tensorboard.dev/) lets you upload and share your ML experiment results with anyone. Use TensorBoard.dev to host, track, and share your TensorBoard dashboards."
   ]
  },
  {
   "cell_type": "markdown",
   "id": "72be43e7-a9c8-42c4-ac06-f5bdac55bf19",
   "metadata": {},
   "source": [
    "Install the latest version of TensorBoard to use the uploader."
   ]
  },
  {
   "cell_type": "raw",
   "id": "1cf2ee0f-a910-4338-a4d8-98b470cdf7ac",
   "metadata": {},
   "source": [
    "$ pip install tensorboard --upgrade"
   ]
  },
  {
   "cell_type": "markdown",
   "id": "b04006a1-a7de-40af-9892-5e8c43fe7a09",
   "metadata": {},
   "source": [
    "Use a simple command to upload and share your TensorBoard."
   ]
  },
  {
   "cell_type": "raw",
   "id": "e7f1a56f-18f0-4cf3-b3d5-1dffbbdf5802",
   "metadata": {},
   "source": [
    "$ tensorboard dev upload --logdir runs \\\n",
    "--name \"My latest experiment\" \\ # optional\n",
    "--description \"Simple comparison of several hyperparameters\" # optional"
   ]
  },
  {
   "cell_type": "markdown",
   "id": "17980595-b91d-4f65-8ed5-16899ce4f0c7",
   "metadata": {},
   "source": [
    "TensorBoard.dev currently supports scalars, graphs, histograms, distributions, hparams, and text dashboards.\n",
    "\n",
    "*Note: Uploaded TensorBoards are public and visible to everyone. Do not upload sensitive data.*"
   ]
  },
  {
   "cell_type": "markdown",
   "id": "b372f9e7-25c4-4ed6-ae4b-27f01dce4068",
   "metadata": {},
   "source": [
    "# 6. Conclusion"
   ]
  },
  {
   "cell_type": "markdown",
   "id": "54ab4657-37cb-4984-bccd-6fd59f08abaa",
   "metadata": {},
   "source": [
    "TensorBoard is a powerful tool for visualizing and understanding the performance of deep learning models. With TensorBoard, you can gain insights into the behavior of your model that would be difficult to obtain by simply looking at the code. Whether you are a beginner or an experienced deep learning practitioner, TensorBoard is a tool that you should consider using to help you better understand your models."
   ]
  },
  {
   "cell_type": "code",
   "execution_count": null,
   "id": "98605175-14f9-4df2-92e1-20846e98411e",
   "metadata": {},
   "outputs": [],
   "source": []
  }
 ],
 "metadata": {
  "kernelspec": {
   "display_name": "Python [conda env:ls_env]",
   "language": "python",
   "name": "conda-env-ls_env-py"
  },
  "language_info": {
   "codemirror_mode": {
    "name": "ipython",
    "version": 3
   },
   "file_extension": ".py",
   "mimetype": "text/x-python",
   "name": "python",
   "nbconvert_exporter": "python",
   "pygments_lexer": "ipython3",
   "version": "3.10.8"
  }
 },
 "nbformat": 4,
 "nbformat_minor": 5
}
