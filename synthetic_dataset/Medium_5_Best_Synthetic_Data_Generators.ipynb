{
 "cells": [
  {
   "cell_type": "markdown",
   "id": "af39360f-a2c9-4945-adfc-49ff9e0211e4",
   "metadata": {},
   "source": [
    "# Random user information with Faker"
   ]
  },
  {
   "cell_type": "markdown",
   "id": "dc5f9084-5675-4b49-8238-a276c97fd3c1",
   "metadata": {},
   "source": [
    "Faker is one of the best early Python libraries to generate all types of random information. Some commonly-used attributes Faker generate are:\n",
    "\n",
    "- Personal info: name, birthday, email, password, address\n",
    "- All kinds of date and timezone information\n",
    "- Financial details: credit cards, SSNs, banking\n",
    "- Misc: URLs, sentences, language codes"
   ]
  },
  {
   "cell_type": "code",
   "execution_count": 1,
   "id": "40f5675a-1c89-4283-8862-b28021ed8367",
   "metadata": {},
   "outputs": [],
   "source": [
    "from faker import Faker"
   ]
  },
  {
   "cell_type": "code",
   "execution_count": 2,
   "id": "e482055e-0821-421f-996e-d6525a6093c6",
   "metadata": {},
   "outputs": [],
   "source": [
    "fake = Faker()"
   ]
  },
  {
   "cell_type": "code",
   "execution_count": 3,
   "id": "33d2d3ef-1948-4d1a-80d4-57a97737e669",
   "metadata": {},
   "outputs": [
    {
     "data": {
      "text/plain": [
       "'Ronald Christian'"
      ]
     },
     "execution_count": 3,
     "metadata": {},
     "output_type": "execute_result"
    }
   ],
   "source": [
    "fake.name()"
   ]
  },
  {
   "cell_type": "code",
   "execution_count": 4,
   "id": "ae62a05c-d517-470e-9586-9e9d646032c3",
   "metadata": {},
   "outputs": [
    {
     "data": {
      "text/plain": [
       "'188 Christopher Groves\\nLake Lisabury, ID 48995'"
      ]
     },
     "execution_count": 4,
     "metadata": {},
     "output_type": "execute_result"
    }
   ],
   "source": [
    "fake.address()"
   ]
  },
  {
   "cell_type": "code",
   "execution_count": 5,
   "id": "4c66ca96-9959-4a6f-8de4-ef2fb9d813c1",
   "metadata": {},
   "outputs": [
    {
     "data": {
      "text/plain": [
       "'https://butler.com/'"
      ]
     },
     "execution_count": 5,
     "metadata": {},
     "output_type": "execute_result"
    }
   ],
   "source": [
    "fake.url()"
   ]
  },
  {
   "cell_type": "code",
   "execution_count": 6,
   "id": "055ebc28-4a76-4b33-934b-51d967eee4a8",
   "metadata": {},
   "outputs": [],
   "source": [
    "import pandas as pd\n",
    "\n",
    "df = pd.DataFrame(\n",
    "    [\n",
    "        {\n",
    "            \"name\": fake.name(),\n",
    "            \"address\": fake.address(),\n",
    "            \"birthday\": fake.date_of_birth(),\n",
    "            \"email\": fake.email(),\n",
    "            \"password\": fake.password(),\n",
    "        }\n",
    "        for _ in range(1000)\n",
    "    ]\n",
    ")"
   ]
  },
  {
   "cell_type": "code",
   "execution_count": 7,
   "id": "035e03bb-30bd-4c38-a50c-deb3cfef5636",
   "metadata": {},
   "outputs": [
    {
     "data": {
      "text/html": [
       "<div>\n",
       "<style scoped>\n",
       "    .dataframe tbody tr th:only-of-type {\n",
       "        vertical-align: middle;\n",
       "    }\n",
       "\n",
       "    .dataframe tbody tr th {\n",
       "        vertical-align: top;\n",
       "    }\n",
       "\n",
       "    .dataframe thead th {\n",
       "        text-align: right;\n",
       "    }\n",
       "</style>\n",
       "<table border=\"1\" class=\"dataframe\">\n",
       "  <thead>\n",
       "    <tr style=\"text-align: right;\">\n",
       "      <th></th>\n",
       "      <th>name</th>\n",
       "      <th>address</th>\n",
       "      <th>birthday</th>\n",
       "      <th>email</th>\n",
       "      <th>password</th>\n",
       "    </tr>\n",
       "  </thead>\n",
       "  <tbody>\n",
       "    <tr>\n",
       "      <th>525</th>\n",
       "      <td>Susan Thompson</td>\n",
       "      <td>904 Juan Inlet\\nKristinfort, ME 67296</td>\n",
       "      <td>1922-07-02</td>\n",
       "      <td>twilliams@example.com</td>\n",
       "      <td>%(2LjhDcc@</td>\n",
       "    </tr>\n",
       "    <tr>\n",
       "      <th>648</th>\n",
       "      <td>Alexander Gonzalez</td>\n",
       "      <td>89663 Melvin Courts Apt. 157\\nSouth Sarahview,...</td>\n",
       "      <td>1958-06-20</td>\n",
       "      <td>katie78@example.org</td>\n",
       "      <td>+r5DLS#s_c</td>\n",
       "    </tr>\n",
       "    <tr>\n",
       "      <th>428</th>\n",
       "      <td>Dave Bird</td>\n",
       "      <td>01266 Kelly Lock Apt. 202\\nGomezland, MT 80178</td>\n",
       "      <td>1981-11-30</td>\n",
       "      <td>melissa06@example.net</td>\n",
       "      <td>5F8DrA)6*7</td>\n",
       "    </tr>\n",
       "    <tr>\n",
       "      <th>531</th>\n",
       "      <td>Philip Wright</td>\n",
       "      <td>Unit 1944 Box 4118\\nDPO AA 12601</td>\n",
       "      <td>2011-12-28</td>\n",
       "      <td>zwagner@example.org</td>\n",
       "      <td>*eRaUskd0C</td>\n",
       "    </tr>\n",
       "    <tr>\n",
       "      <th>810</th>\n",
       "      <td>Ashley Olson</td>\n",
       "      <td>0577 Werner Mission Apt. 634\\nPort David, AZ 4...</td>\n",
       "      <td>1947-06-02</td>\n",
       "      <td>jensenalexandra@example.com</td>\n",
       "      <td>73&amp;3PCj1Ns</td>\n",
       "    </tr>\n",
       "  </tbody>\n",
       "</table>\n",
       "</div>"
      ],
      "text/plain": [
       "                   name                                            address  \\\n",
       "525      Susan Thompson              904 Juan Inlet\\nKristinfort, ME 67296   \n",
       "648  Alexander Gonzalez  89663 Melvin Courts Apt. 157\\nSouth Sarahview,...   \n",
       "428           Dave Bird     01266 Kelly Lock Apt. 202\\nGomezland, MT 80178   \n",
       "531       Philip Wright                   Unit 1944 Box 4118\\nDPO AA 12601   \n",
       "810        Ashley Olson  0577 Werner Mission Apt. 634\\nPort David, AZ 4...   \n",
       "\n",
       "       birthday                        email    password  \n",
       "525  1922-07-02        twilliams@example.com  %(2LjhDcc@  \n",
       "648  1958-06-20          katie78@example.org  +r5DLS#s_c  \n",
       "428  1981-11-30        melissa06@example.net  5F8DrA)6*7  \n",
       "531  2011-12-28          zwagner@example.org  *eRaUskd0C  \n",
       "810  1947-06-02  jensenalexandra@example.com  73&3PCj1Ns  "
      ]
     },
     "execution_count": 7,
     "metadata": {},
     "output_type": "execute_result"
    }
   ],
   "source": [
    "df.sample(5)"
   ]
  },
  {
   "cell_type": "markdown",
   "id": "41546e59-8348-44ba-a5fb-ce89ef090261",
   "metadata": {},
   "source": [
    "If you notice, the name and email addresses do not match. That's one of the disadvantages of using Faker — Faker-generated datasets are easily identifiable when used in public."
   ]
  },
  {
   "cell_type": "markdown",
   "id": "6bf1dc64-c436-47d5-81c6-cb99326e5fba",
   "metadata": {},
   "source": [
    "# Synthetic datasets with Sklearn for ML tasks"
   ]
  },
  {
   "cell_type": "code",
   "execution_count": 8,
   "id": "f166b6cb-c23a-4d1d-ae71-1749ed0b18b1",
   "metadata": {},
   "outputs": [],
   "source": [
    "from sklearn.datasets import make_classification, make_regression\n",
    "\n",
    "X, y = make_classification(\n",
    "    n_samples=5000, n_features=20, n_informative=15, n_classes=3, n_clusters_per_class=3\n",
    ")"
   ]
  },
  {
   "cell_type": "markdown",
   "id": "955afaba-afbb-454c-bb68-1cd99a0df70c",
   "metadata": {},
   "source": [
    "To control the difficulty of the task, you can specify how many features are useful or redundant with `n_informative` (correlated) or `n_redundant` (linear combinations of informative features) parameters.\n",
    "\n",
    "`make_classification` also offers much control over the classification target, namely, the number of classes, clusters per class, and class weights."
   ]
  },
  {
   "cell_type": "code",
   "execution_count": 9,
   "id": "33edeb57-4b48-403b-ac4b-8c4fa8cbde3d",
   "metadata": {},
   "outputs": [
    {
     "data": {
      "text/plain": [
       "array([[-1.03338882, -2.75057612, -1.11649685, ...,  2.52110591,\n",
       "        -1.32055754, -0.20532895],\n",
       "       [ 5.0452886 , -0.45083283, -1.00735087, ..., -3.42024526,\n",
       "         4.57792316,  2.19413666],\n",
       "       [-1.56877563, -5.28862537, -0.6912828 , ...,  1.45278056,\n",
       "        -4.07765182, -2.58189881],\n",
       "       ...,\n",
       "       [-2.95954934, -1.39452265, -1.7707341 , ...,  0.79531789,\n",
       "         0.45793831, -0.25954713],\n",
       "       [-4.29471428,  1.9437877 , -1.55203724, ...,  6.65957231,\n",
       "        -2.56846034,  2.85933412],\n",
       "       [-1.5703609 , -3.74281988, -0.83105484, ...,  2.33880544,\n",
       "        -3.03234545, -0.56178839]])"
      ]
     },
     "execution_count": 9,
     "metadata": {},
     "output_type": "execute_result"
    }
   ],
   "source": [
    "X"
   ]
  },
  {
   "cell_type": "code",
   "execution_count": 10,
   "id": "9c457bca-2834-4693-9982-ec6d92c746b6",
   "metadata": {},
   "outputs": [
    {
     "data": {
      "text/plain": [
       "array([0, 0, 1, ..., 2, 0, 2])"
      ]
     },
     "execution_count": 10,
     "metadata": {},
     "output_type": "execute_result"
    }
   ],
   "source": [
    "y"
   ]
  },
  {
   "cell_type": "code",
   "execution_count": 11,
   "id": "0f8afb69-ccfe-42ca-88a4-2c0817a161fa",
   "metadata": {},
   "outputs": [],
   "source": [
    "X, y = make_regression(n_samples=5000, n_features=20, n_informative=10)"
   ]
  },
  {
   "cell_type": "code",
   "execution_count": 12,
   "id": "2c48b8b1-4d6a-46c8-8460-489f5faa2f6b",
   "metadata": {},
   "outputs": [
    {
     "data": {
      "text/plain": [
       "array([[-0.68904923,  0.04512798, -0.28240635, ..., -1.14391502,\n",
       "        -0.14211078, -0.26204298],\n",
       "       [-1.16699849,  1.65409217,  0.01268337, ...,  2.38839912,\n",
       "         0.58319285,  1.21212171],\n",
       "       [-0.16258561,  0.30794669, -1.43274188, ...,  0.00799355,\n",
       "         2.24256018,  0.28526501],\n",
       "       ...,\n",
       "       [ 1.5065968 , -0.50809221, -1.35091381, ..., -0.77042826,\n",
       "         0.50079992, -1.18498583],\n",
       "       [-0.4853859 ,  1.49873949, -0.58842215, ..., -0.50823646,\n",
       "        -0.93629143,  1.03159517],\n",
       "       [ 2.041807  , -1.53904996,  0.83652578, ..., -0.47807383,\n",
       "        -0.18504657, -1.02808215]])"
      ]
     },
     "execution_count": 12,
     "metadata": {},
     "output_type": "execute_result"
    }
   ],
   "source": [
    "X"
   ]
  },
  {
   "cell_type": "code",
   "execution_count": 13,
   "id": "76e15ea8-8244-495a-ac84-5dccab1a034b",
   "metadata": {},
   "outputs": [
    {
     "data": {
      "text/plain": [
       "array([-261.67131977,  127.22098865,   92.10054166, ...,  219.28510542,\n",
       "        167.20602748,  183.64308767])"
      ]
     },
     "execution_count": 13,
     "metadata": {},
     "output_type": "execute_result"
    }
   ],
   "source": [
    "y"
   ]
  },
  {
   "cell_type": "markdown",
   "id": "90d682a5-a1ef-4b6c-9e8b-cde1c76f2103",
   "metadata": {},
   "source": [
    "There is also the `make_blobs` function for generating clustering tasks as seen below:"
   ]
  },
  {
   "cell_type": "code",
   "execution_count": 14,
   "id": "eb826bd4-7fd8-497d-84ea-510aace57031",
   "metadata": {},
   "outputs": [
    {
     "data": {
      "image/png": "[encoded data removed]",
      "text/plain": [
       "<Figure size 432x288 with 1 Axes>"
      ]
     },
     "metadata": {
      "needs_background": "light"
     },
     "output_type": "display_data"
    }
   ],
   "source": [
    "import seaborn as sns\n",
    "from sklearn.datasets import make_blobs\n",
    "\n",
    "X, y = make_blobs(n_samples=500, n_features=2)\n",
    "\n",
    "sns.scatterplot(x=X[:, 0], y=X[:, 1], hue=y);"
   ]
  },
  {
   "cell_type": "markdown",
   "id": "1461c499-18ca-4311-ad8a-aa10fa250cf5",
   "metadata": {},
   "source": [
    "If you are looking for something fancy, there are other functions such as `make_checkerboard`, `make_circles`, `make_moons`, and `make_s_curve`."
   ]
  },
  {
   "cell_type": "markdown",
   "id": "684df854-a78e-4dba-80a0-ac2fe689dc88",
   "metadata": {},
   "source": [
    "# Dataset with outliers in PyOD"
   ]
  },
  {
   "cell_type": "markdown",
   "id": "17f3aa06-2fb9-48ad-994d-57d9da5f4c4e",
   "metadata": {},
   "source": [
    "Anomaly detection is a ubiquitous problem in data science. But quality datasets with outliers are hard to come by if you want to practice. Fortunately, the Python Outlier Detection (PyOD) library has a utility function to generate synthetic data with outliers:"
   ]
  },
  {
   "cell_type": "code",
   "execution_count": 15,
   "id": "e7b240aa-64dd-4557-a19e-042cf9dab1a6",
   "metadata": {},
   "outputs": [],
   "source": [
    "from pyod.utils.data import generate_data\n",
    "import seaborn as sns\n",
    "import matplotlib.pyplot as plt\n",
    "\n",
    "X, y = generate_data(\n",
    "    n_train=500, contamination=0.13, n_features=2, train_only=True, random_state=1\n",
    ")"
   ]
  },
  {
   "cell_type": "code",
   "execution_count": 16,
   "id": "a61910ad-84f0-4097-92e4-015a681f9528",
   "metadata": {},
   "outputs": [
    {
     "data": {
      "image/png": "[encoded data removed]",
      "text/plain": [
       "<Figure size 432x288 with 1 Axes>"
      ]
     },
     "metadata": {
      "needs_background": "light"
     },
     "output_type": "display_data"
    }
   ],
   "source": [
    "# Plot\n",
    "sns.scatterplot(x=X[:, 0], y=X[:, 1], hue=y)\n",
    "\n",
    "# Modify the damn legend\n",
    "legend = plt.legend(labels=['Inlier', 'Outlier'])\n",
    "legend.legendHandles[1].set_color(\"orange\")"
   ]
  },
  {
   "cell_type": "markdown",
   "id": "7319fa1d-4ed2-4416-a863-370ba92ee8a9",
   "metadata": {},
   "source": [
    "The `generate_data` offers control over the number of rows in training and test sets and also the percentage of outliers in the resulting sets (`contamination`)."
   ]
  },
  {
   "cell_type": "markdown",
   "id": "3a0f86ed-31b4-48a0-b9e8-e21ef6f43d15",
   "metadata": {},
   "source": [
    "PyOD also has the largest suite of anomaly detection algorithms in the Python ecosystem."
   ]
  },
  {
   "cell_type": "markdown",
   "id": "67d0095c-568f-4cea-a157-bbb65ac2c1ea",
   "metadata": {},
   "source": [
    "# Synthetic data on top of another dataset with CTGAN"
   ]
  },
  {
   "cell_type": "markdown",
   "id": "4e348613-2873-451b-8b4a-298a7e959f07",
   "metadata": {},
   "source": [
    "Now, onto the great stuff.\n",
    "\n",
    "When you have limited data, it is hard for machine learning models to generalize well and not overfit. In such cases, you can use Conditional General Adversarial Networks — CTGAN.\n",
    "\n",
    "After you fit it to any dataset, CTGAN can generate synthetic highly anonymous samples from the dataset's information space. This is a great way to increase both data security and dataset size.\n",
    "\n",
    "CTGAN is provided by the Synthetic Data Vault (SDV) project. Its Python API exposes a `CTGAN` class that requires the dataset to be learned and a list of its categorical columns.\n",
    "\n",
    "Then, you can draw as many samples from it as you want with the `sample` function. Below, we are sampling 20k synthetic samples from the cliché Iris dataset:"
   ]
  },
  {
   "cell_type": "code",
   "execution_count": 17,
   "id": "8c3f6344-4f4d-48c9-a4a6-65a9c34bf873",
   "metadata": {},
   "outputs": [],
   "source": [
    "from ctgan import CTGAN"
   ]
  },
  {
   "cell_type": "code",
   "execution_count": 18,
   "id": "5015b843-6de8-45ad-97e8-917e46c19cdd",
   "metadata": {},
   "outputs": [],
   "source": [
    "# Extract categorical data types\n",
    "iris = sns.load_dataset(\"iris\")\n",
    "categoricals = iris.select_dtypes(exclude=\"number\").columns.tolist()"
   ]
  },
  {
   "cell_type": "code",
   "execution_count": 19,
   "id": "18616e23-6b52-492b-8382-81ff703ba602",
   "metadata": {},
   "outputs": [
    {
     "data": {
      "text/html": [
       "<div>\n",
       "<style scoped>\n",
       "    .dataframe tbody tr th:only-of-type {\n",
       "        vertical-align: middle;\n",
       "    }\n",
       "\n",
       "    .dataframe tbody tr th {\n",
       "        vertical-align: top;\n",
       "    }\n",
       "\n",
       "    .dataframe thead th {\n",
       "        text-align: right;\n",
       "    }\n",
       "</style>\n",
       "<table border=\"1\" class=\"dataframe\">\n",
       "  <thead>\n",
       "    <tr style=\"text-align: right;\">\n",
       "      <th></th>\n",
       "      <th>sepal_length</th>\n",
       "      <th>sepal_width</th>\n",
       "      <th>petal_length</th>\n",
       "      <th>petal_width</th>\n",
       "      <th>species</th>\n",
       "    </tr>\n",
       "  </thead>\n",
       "  <tbody>\n",
       "    <tr>\n",
       "      <th>0</th>\n",
       "      <td>5.1</td>\n",
       "      <td>3.5</td>\n",
       "      <td>1.4</td>\n",
       "      <td>0.2</td>\n",
       "      <td>setosa</td>\n",
       "    </tr>\n",
       "    <tr>\n",
       "      <th>1</th>\n",
       "      <td>4.9</td>\n",
       "      <td>3.0</td>\n",
       "      <td>1.4</td>\n",
       "      <td>0.2</td>\n",
       "      <td>setosa</td>\n",
       "    </tr>\n",
       "    <tr>\n",
       "      <th>2</th>\n",
       "      <td>4.7</td>\n",
       "      <td>3.2</td>\n",
       "      <td>1.3</td>\n",
       "      <td>0.2</td>\n",
       "      <td>setosa</td>\n",
       "    </tr>\n",
       "    <tr>\n",
       "      <th>3</th>\n",
       "      <td>4.6</td>\n",
       "      <td>3.1</td>\n",
       "      <td>1.5</td>\n",
       "      <td>0.2</td>\n",
       "      <td>setosa</td>\n",
       "    </tr>\n",
       "    <tr>\n",
       "      <th>4</th>\n",
       "      <td>5.0</td>\n",
       "      <td>3.6</td>\n",
       "      <td>1.4</td>\n",
       "      <td>0.2</td>\n",
       "      <td>setosa</td>\n",
       "    </tr>\n",
       "    <tr>\n",
       "      <th>...</th>\n",
       "      <td>...</td>\n",
       "      <td>...</td>\n",
       "      <td>...</td>\n",
       "      <td>...</td>\n",
       "      <td>...</td>\n",
       "    </tr>\n",
       "    <tr>\n",
       "      <th>145</th>\n",
       "      <td>6.7</td>\n",
       "      <td>3.0</td>\n",
       "      <td>5.2</td>\n",
       "      <td>2.3</td>\n",
       "      <td>virginica</td>\n",
       "    </tr>\n",
       "    <tr>\n",
       "      <th>146</th>\n",
       "      <td>6.3</td>\n",
       "      <td>2.5</td>\n",
       "      <td>5.0</td>\n",
       "      <td>1.9</td>\n",
       "      <td>virginica</td>\n",
       "    </tr>\n",
       "    <tr>\n",
       "      <th>147</th>\n",
       "      <td>6.5</td>\n",
       "      <td>3.0</td>\n",
       "      <td>5.2</td>\n",
       "      <td>2.0</td>\n",
       "      <td>virginica</td>\n",
       "    </tr>\n",
       "    <tr>\n",
       "      <th>148</th>\n",
       "      <td>6.2</td>\n",
       "      <td>3.4</td>\n",
       "      <td>5.4</td>\n",
       "      <td>2.3</td>\n",
       "      <td>virginica</td>\n",
       "    </tr>\n",
       "    <tr>\n",
       "      <th>149</th>\n",
       "      <td>5.9</td>\n",
       "      <td>3.0</td>\n",
       "      <td>5.1</td>\n",
       "      <td>1.8</td>\n",
       "      <td>virginica</td>\n",
       "    </tr>\n",
       "  </tbody>\n",
       "</table>\n",
       "<p>150 rows × 5 columns</p>\n",
       "</div>"
      ],
      "text/plain": [
       "     sepal_length  sepal_width  petal_length  petal_width    species\n",
       "0             5.1          3.5           1.4          0.2     setosa\n",
       "1             4.9          3.0           1.4          0.2     setosa\n",
       "2             4.7          3.2           1.3          0.2     setosa\n",
       "3             4.6          3.1           1.5          0.2     setosa\n",
       "4             5.0          3.6           1.4          0.2     setosa\n",
       "..            ...          ...           ...          ...        ...\n",
       "145           6.7          3.0           5.2          2.3  virginica\n",
       "146           6.3          2.5           5.0          1.9  virginica\n",
       "147           6.5          3.0           5.2          2.0  virginica\n",
       "148           6.2          3.4           5.4          2.3  virginica\n",
       "149           5.9          3.0           5.1          1.8  virginica\n",
       "\n",
       "[150 rows x 5 columns]"
      ]
     },
     "execution_count": 19,
     "metadata": {},
     "output_type": "execute_result"
    }
   ],
   "source": [
    "iris"
   ]
  },
  {
   "cell_type": "code",
   "execution_count": 20,
   "id": "0c0e50c7-3d5b-42b7-b645-fd3b11c8d5ff",
   "metadata": {},
   "outputs": [
    {
     "data": {
      "text/plain": [
       "['species']"
      ]
     },
     "execution_count": 20,
     "metadata": {},
     "output_type": "execute_result"
    }
   ],
   "source": [
    "categoricals"
   ]
  },
  {
   "cell_type": "code",
   "execution_count": 21,
   "id": "92edd72b-bb2d-466c-82a2-f1ce2d5d9ff6",
   "metadata": {},
   "outputs": [],
   "source": [
    "# Fit CTGAN\n",
    "ctgan = CTGAN(epochs=10)\n",
    "ctgan.fit(iris, categoricals)"
   ]
  },
  {
   "cell_type": "code",
   "execution_count": 22,
   "id": "1c4741d5-25ab-46b4-85da-bce559b08788",
   "metadata": {},
   "outputs": [
    {
     "data": {
      "text/html": [
       "<div>\n",
       "<style scoped>\n",
       "    .dataframe tbody tr th:only-of-type {\n",
       "        vertical-align: middle;\n",
       "    }\n",
       "\n",
       "    .dataframe tbody tr th {\n",
       "        vertical-align: top;\n",
       "    }\n",
       "\n",
       "    .dataframe thead th {\n",
       "        text-align: right;\n",
       "    }\n",
       "</style>\n",
       "<table border=\"1\" class=\"dataframe\">\n",
       "  <thead>\n",
       "    <tr style=\"text-align: right;\">\n",
       "      <th></th>\n",
       "      <th>sepal_length</th>\n",
       "      <th>sepal_width</th>\n",
       "      <th>petal_length</th>\n",
       "      <th>petal_width</th>\n",
       "      <th>species</th>\n",
       "    </tr>\n",
       "  </thead>\n",
       "  <tbody>\n",
       "    <tr>\n",
       "      <th>0</th>\n",
       "      <td>6.722531</td>\n",
       "      <td>4.580059</td>\n",
       "      <td>0.665274</td>\n",
       "      <td>0.155525</td>\n",
       "      <td>versicolor</td>\n",
       "    </tr>\n",
       "    <tr>\n",
       "      <th>1</th>\n",
       "      <td>6.290473</td>\n",
       "      <td>3.790248</td>\n",
       "      <td>3.818858</td>\n",
       "      <td>0.097610</td>\n",
       "      <td>versicolor</td>\n",
       "    </tr>\n",
       "    <tr>\n",
       "      <th>2</th>\n",
       "      <td>5.579486</td>\n",
       "      <td>3.261914</td>\n",
       "      <td>0.877929</td>\n",
       "      <td>0.414763</td>\n",
       "      <td>versicolor</td>\n",
       "    </tr>\n",
       "    <tr>\n",
       "      <th>3</th>\n",
       "      <td>6.812155</td>\n",
       "      <td>3.446544</td>\n",
       "      <td>1.323666</td>\n",
       "      <td>1.079313</td>\n",
       "      <td>versicolor</td>\n",
       "    </tr>\n",
       "    <tr>\n",
       "      <th>4</th>\n",
       "      <td>5.322191</td>\n",
       "      <td>4.181237</td>\n",
       "      <td>1.192404</td>\n",
       "      <td>1.201457</td>\n",
       "      <td>versicolor</td>\n",
       "    </tr>\n",
       "    <tr>\n",
       "      <th>...</th>\n",
       "      <td>...</td>\n",
       "      <td>...</td>\n",
       "      <td>...</td>\n",
       "      <td>...</td>\n",
       "      <td>...</td>\n",
       "    </tr>\n",
       "    <tr>\n",
       "      <th>19995</th>\n",
       "      <td>6.184560</td>\n",
       "      <td>2.538351</td>\n",
       "      <td>1.097505</td>\n",
       "      <td>1.038922</td>\n",
       "      <td>virginica</td>\n",
       "    </tr>\n",
       "    <tr>\n",
       "      <th>19996</th>\n",
       "      <td>5.741780</td>\n",
       "      <td>2.833194</td>\n",
       "      <td>1.324196</td>\n",
       "      <td>0.035733</td>\n",
       "      <td>virginica</td>\n",
       "    </tr>\n",
       "    <tr>\n",
       "      <th>19997</th>\n",
       "      <td>4.684701</td>\n",
       "      <td>4.558695</td>\n",
       "      <td>6.768879</td>\n",
       "      <td>1.678543</td>\n",
       "      <td>versicolor</td>\n",
       "    </tr>\n",
       "    <tr>\n",
       "      <th>19998</th>\n",
       "      <td>4.759781</td>\n",
       "      <td>3.725639</td>\n",
       "      <td>-0.023654</td>\n",
       "      <td>0.283716</td>\n",
       "      <td>virginica</td>\n",
       "    </tr>\n",
       "    <tr>\n",
       "      <th>19999</th>\n",
       "      <td>5.118096</td>\n",
       "      <td>3.092746</td>\n",
       "      <td>3.289641</td>\n",
       "      <td>0.388834</td>\n",
       "      <td>setosa</td>\n",
       "    </tr>\n",
       "  </tbody>\n",
       "</table>\n",
       "<p>20000 rows × 5 columns</p>\n",
       "</div>"
      ],
      "text/plain": [
       "       sepal_length  sepal_width  petal_length  petal_width     species\n",
       "0          6.722531     4.580059      0.665274     0.155525  versicolor\n",
       "1          6.290473     3.790248      3.818858     0.097610  versicolor\n",
       "2          5.579486     3.261914      0.877929     0.414763  versicolor\n",
       "3          6.812155     3.446544      1.323666     1.079313  versicolor\n",
       "4          5.322191     4.181237      1.192404     1.201457  versicolor\n",
       "...             ...          ...           ...          ...         ...\n",
       "19995      6.184560     2.538351      1.097505     1.038922   virginica\n",
       "19996      5.741780     2.833194      1.324196     0.035733   virginica\n",
       "19997      4.684701     4.558695      6.768879     1.678543  versicolor\n",
       "19998      4.759781     3.725639     -0.023654     0.283716   virginica\n",
       "19999      5.118096     3.092746      3.289641     0.388834      setosa\n",
       "\n",
       "[20000 rows x 5 columns]"
      ]
     },
     "execution_count": 22,
     "metadata": {},
     "output_type": "execute_result"
    }
   ],
   "source": [
    "# Generate the data\n",
    "synthetic_iris = ctgan.sample(20000)\n",
    "synthetic_iris"
   ]
  },
  {
   "cell_type": "markdown",
   "id": "057e3c4b-ba56-45cc-a72c-773c8c6ed6ce",
   "metadata": {},
   "source": [
    "# Mimesis — Advanced Faker"
   ]
  },
  {
   "cell_type": "markdown",
   "id": "7c65a0b9-5dd2-414f-a068-4f6da3c37c11",
   "metadata": {},
   "source": [
    "Mimesis is a full-fledged random information generator built upon Faker. It can generate many, many more random attributes than Faker:"
   ]
  },
  {
   "cell_type": "code",
   "execution_count": 23,
   "id": "bd8c7e39-2220-430f-8880-b6ff0d881e55",
   "metadata": {},
   "outputs": [],
   "source": [
    "from mimesis import Generic\n",
    "from mimesis.locales import Locale"
   ]
  },
  {
   "cell_type": "code",
   "execution_count": 24,
   "id": "012b6ffc-9217-4b27-85c0-e990038575bd",
   "metadata": {},
   "outputs": [
    {
     "name": "stdout",
     "output_type": "stream",
     "text": [
      "['address', 'binaryfile', 'choice', 'code', 'cryptographic', 'datetime', 'development', 'file', 'finance', 'food', 'hardware', 'internet', 'locale', 'numeric', 'path', 'payment', 'person', 'science', 'text', 'transport']\n"
     ]
    }
   ],
   "source": [
    "# Spanish locale\n",
    "fake = Generic(Locale.ES)\n",
    "\n",
    "print(dir(fake))"
   ]
  },
  {
   "cell_type": "markdown",
   "id": "d45fd1c1-50d4-4bb2-b291-b14b2409bb56",
   "metadata": {},
   "source": [
    "Its random generators are grouped into 20 categories, which makes Mimesis much more organized.\n",
    "\n",
    "It also greatly supports country-specific information for 32 locales (languages). Below, we are generating a thousand rows of fake Spanish data:"
   ]
  },
  {
   "cell_type": "code",
   "execution_count": 25,
   "id": "1f0762ca-8d1a-4842-9f42-7834b4edd8d1",
   "metadata": {},
   "outputs": [
    {
     "data": {
      "text/html": [
       "<div>\n",
       "<style scoped>\n",
       "    .dataframe tbody tr th:only-of-type {\n",
       "        vertical-align: middle;\n",
       "    }\n",
       "\n",
       "    .dataframe tbody tr th {\n",
       "        vertical-align: top;\n",
       "    }\n",
       "\n",
       "    .dataframe thead th {\n",
       "        text-align: right;\n",
       "    }\n",
       "</style>\n",
       "<table border=\"1\" class=\"dataframe\">\n",
       "  <thead>\n",
       "    <tr style=\"text-align: right;\">\n",
       "      <th></th>\n",
       "      <th>name</th>\n",
       "      <th>country</th>\n",
       "      <th>birthday</th>\n",
       "      <th>email</th>\n",
       "      <th>password</th>\n",
       "    </tr>\n",
       "  </thead>\n",
       "  <tbody>\n",
       "    <tr>\n",
       "      <th>0</th>\n",
       "      <td>Brunilda Rey</td>\n",
       "      <td>España</td>\n",
       "      <td>2011-11-06</td>\n",
       "      <td>andale1949@example.org</td>\n",
       "      <td>(Pqy+s,5</td>\n",
       "    </tr>\n",
       "    <tr>\n",
       "      <th>1</th>\n",
       "      <td>Noelia Rey</td>\n",
       "      <td>España</td>\n",
       "      <td>2017-12-08</td>\n",
       "      <td>visited1971@yahoo.com</td>\n",
       "      <td>s8(4mm+B</td>\n",
       "    </tr>\n",
       "    <tr>\n",
       "      <th>2</th>\n",
       "      <td>Ana María Andres</td>\n",
       "      <td>España</td>\n",
       "      <td>2009-04-24</td>\n",
       "      <td>easier1834@outlook.com</td>\n",
       "      <td>8K!T\"~B\\</td>\n",
       "    </tr>\n",
       "    <tr>\n",
       "      <th>3</th>\n",
       "      <td>Maximiliano Suarez</td>\n",
       "      <td>España</td>\n",
       "      <td>2005-12-17</td>\n",
       "      <td>bush1865@example.org</td>\n",
       "      <td>hv(=$cIN</td>\n",
       "    </tr>\n",
       "    <tr>\n",
       "      <th>4</th>\n",
       "      <td>Kevin Duran</td>\n",
       "      <td>España</td>\n",
       "      <td>2010-07-08</td>\n",
       "      <td>posted1975@example.com</td>\n",
       "      <td>N%Rww!JX</td>\n",
       "    </tr>\n",
       "  </tbody>\n",
       "</table>\n",
       "</div>"
      ],
      "text/plain": [
       "                 name country    birthday                   email  password\n",
       "0        Brunilda Rey  España  2011-11-06  andale1949@example.org  (Pqy+s,5\n",
       "1          Noelia Rey  España  2017-12-08   visited1971@yahoo.com  s8(4mm+B\n",
       "2    Ana María Andres  España  2009-04-24  easier1834@outlook.com  8K!T\"~B\\\n",
       "3  Maximiliano Suarez  España  2005-12-17    bush1865@example.org  hv(=$cIN\n",
       "4         Kevin Duran  España  2010-07-08  posted1975@example.com  N%Rww!JX"
      ]
     },
     "execution_count": 25,
     "metadata": {},
     "output_type": "execute_result"
    }
   ],
   "source": [
    "# Spanish locale\n",
    "fake = Generic(Locale.ES)\n",
    "\n",
    "df = pd.DataFrame(\n",
    "    [\n",
    "        {\n",
    "            \"name\": fake.person.full_name(),\n",
    "            \"country\": fake.address.country(),\n",
    "            \"birthday\": fake.datetime.date(),\n",
    "            \"email\": fake.person.email(),\n",
    "            \"password\": fake.person.password(),\n",
    "        }\n",
    "        for _ in range(1000)\n",
    "    ]\n",
    ")\n",
    "\n",
    "df.head()"
   ]
  },
  {
   "cell_type": "markdown",
   "id": "f95340cf-d5e6-4725-b767-6b1d41032103",
   "metadata": {},
   "source": [
    "You can also create custom locales where you combine multiple languages for area-specific information, i.e., data specific to western Europe."
   ]
  },
  {
   "cell_type": "code",
   "execution_count": null,
   "id": "ad6c7d61-ea33-4ee6-a6cc-a3f30da3ec17",
   "metadata": {},
   "outputs": [],
   "source": []
  }
 ],
 "metadata": {
  "kernelspec": {
   "display_name": "Python [conda env:575]",
   "language": "python",
   "name": "conda-env-575-py"
  },
  "language_info": {
   "codemirror_mode": {
    "name": "ipython",
    "version": 3
   },
   "file_extension": ".py",
   "mimetype": "text/x-python",
   "name": "python",
   "nbconvert_exporter": "python",
   "pygments_lexer": "ipython3",
   "version": "3.10.4"
  }
 },
 "nbformat": 4,
 "nbformat_minor": 5
}
