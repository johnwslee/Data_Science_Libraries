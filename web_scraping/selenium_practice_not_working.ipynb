{
 "cells": [
  {
   "cell_type": "markdown",
   "id": "b35186fe-534e-49c8-9f22-265e2664da02",
   "metadata": {},
   "source": [
    "# Imports"
   ]
  },
  {
   "cell_type": "code",
   "execution_count": 1,
   "id": "acec91a1-b57c-4ae9-8cb0-c0018d7aaedd",
   "metadata": {},
   "outputs": [],
   "source": [
    "from selenium import webdriver\n",
    "from selenium.webdriver.common.by import By\n",
    "from selenium.webdriver.support.ui import WebDriverWait\n",
    "from selenium.webdriver.support import expected_conditions as EC\n",
    "from selenium.common.exceptions import TimeoutException"
   ]
  },
  {
   "cell_type": "markdown",
   "id": "685d81de-6744-4d2b-90a4-a2e526e7df85",
   "metadata": {},
   "source": [
    "# Drive Selenium Chrome Browser"
   ]
  },
  {
   "cell_type": "code",
   "execution_count": 2,
   "id": "4fffff6b-8c4d-4a7b-b26a-d5bfc7ed59ea",
   "metadata": {},
   "outputs": [],
   "source": [
    "driver = webdriver.Chrome(executable_path='chromedriver')\n",
    "driver.get('https://www.lazada.sg/#')"
   ]
  },
  {
   "cell_type": "code",
   "execution_count": 3,
   "id": "1e671af5-8417-4deb-a755-f1f077c69579",
   "metadata": {},
   "outputs": [],
   "source": [
    "timeout = 30\n",
    "try:\n",
    "    WebDriverWait(driver, timeout).until(EC.visibility_of_element_located((By.ID, \"Level_1_Category_No1\")))\n",
    "except TimeoutException:\n",
    "    driver.quit()"
   ]
  },
  {
   "cell_type": "markdown",
   "id": "6e390677-fa5a-4594-822d-bea228e154bc",
   "metadata": {},
   "source": [
    "# Information Extraction"
   ]
  },
  {
   "cell_type": "markdown",
   "id": "2974367e-0c38-4053-8296-339dcee75d12",
   "metadata": {},
   "source": [
    "### 1. find_element by ID"
   ]
  },
  {
   "cell_type": "code",
   "execution_count": 4,
   "id": "7a862178-f5e9-4388-96b6-a96a53c61522",
   "metadata": {},
   "outputs": [],
   "source": [
    "category_element = driver.find_element(By.ID,'Level_1_Category_No1').text;\n",
    "#result -- Electronic Devices as the first category listing"
   ]
  },
  {
   "cell_type": "code",
   "execution_count": 5,
   "id": "3d009c83-ae3a-44d6-a7b4-1dffbbd40792",
   "metadata": {},
   "outputs": [
    {
     "data": {
      "text/plain": [
       "'Electronic Devices'"
      ]
     },
     "execution_count": 5,
     "metadata": {},
     "output_type": "execute_result"
    }
   ],
   "source": [
    "category_element"
   ]
  },
  {
   "cell_type": "markdown",
   "id": "57283305-4f78-4687-afc2-eb208ade86a5",
   "metadata": {},
   "source": [
    "### 2. get the unordered list xpath (ul) and extract the values for each list item (li)"
   ]
  },
  {
   "cell_type": "code",
   "execution_count": 6,
   "id": "ee4c49a3-7b9f-4871-88de-a93d15212431",
   "metadata": {},
   "outputs": [
    {
     "name": "stdout",
     "output_type": "stream",
     "text": [
      "element in list  Electronic Accessories\n",
      "element in list  Electronic Devices\n",
      "element in list  TV & Home Appliances\n",
      "element in list  Health & Beauty\n",
      "element in list  Babies & Toys\n",
      "element in list  Groceries & Pets\n",
      "element in list  Home & Lifestyle\n",
      "element in list  Women's Fashion & Accessories\n",
      "element in list  Men's Fashion & Accessories\n",
      "element in list  Kids' Fashion & Accessories\n",
      "element in list  Sports & Lifestyle\n",
      "element in list  Automotive & Motorcycle\n"
     ]
    }
   ],
   "source": [
    "list_category_elements = driver.find_element(By.XPATH,'//*[@id=\"J_icms-5000498-1511516689962\"]/div/ul')\n",
    "links = list_category_elements.find_elements(By.CLASS_NAME,\"lzd-site-menu-root-item\")\n",
    "for i in range(len(links)):\n",
    "    print(\"element in list \",links[i].text)\n",
    "#result {Electronic Devices, Electronic Accessories, etc}"
   ]
  },
  {
   "cell_type": "markdown",
   "id": "2aafa89f-13aa-45c4-accb-3769aac526a1",
   "metadata": {},
   "source": [
    "# Clicks and Action"
   ]
  },
  {
   "cell_type": "markdown",
   "id": "b92b29a7-61e5-4cf3-af1b-30df059fd778",
   "metadata": {},
   "source": [
    "### 1. Automate actions"
   ]
  },
  {
   "cell_type": "code",
   "execution_count": 42,
   "id": "a26be9fd-c56d-440b-9947-4b0d908eb1e5",
   "metadata": {},
   "outputs": [],
   "source": [
    "#element = driver.find_elements_by_class_name('J_ChannelsLink')[1]\n",
    "element = driver.find_elements(By.CLASS_NAME, 'J_ChannelsLink')\n",
    "#webdriver.ActionChains(driver).move_to_element(element).click(element).perform()\n",
    "\n",
    "# Doesn't work somehow"
   ]
  },
  {
   "cell_type": "code",
   "execution_count": 43,
   "id": "d2b5ff2c-2a7b-435d-a5a2-1d2287a0c276",
   "metadata": {},
   "outputs": [
    {
     "data": {
      "text/plain": [
       "[]"
      ]
     },
     "execution_count": 43,
     "metadata": {},
     "output_type": "execute_result"
    }
   ],
   "source": [
    "element"
   ]
  },
  {
   "cell_type": "markdown",
   "id": "af53be5c-0ed5-49ff-ab65-1e8ccb2459e4",
   "metadata": {},
   "source": [
    "# Extracting all product listings from Redmart"
   ]
  },
  {
   "cell_type": "markdown",
   "id": "ab019707-00ea-40e3-ba5b-15a96e6be57d",
   "metadata": {},
   "source": [
    "### 1. Create lists of product titles"
   ]
  },
  {
   "cell_type": "code",
   "execution_count": 44,
   "id": "1a082456-a5bb-4855-9d47-87e5028067ee",
   "metadata": {},
   "outputs": [
    {
     "name": "stdout",
     "output_type": "stream",
     "text": [
      "\n",
      "\n",
      "\n"
     ]
    }
   ],
   "source": [
    "product_titles = driver.find_elements(By.CLASS_NAME, \"mui-zebra-module\")\n",
    "for title in product_titles:\n",
    "    print(title.text)"
   ]
  },
  {
   "cell_type": "markdown",
   "id": "a215321e-b650-4dc8-b72b-448d57a2eb80",
   "metadata": {},
   "source": [
    "### 2. Extract the product title, pack size, price, and rating"
   ]
  },
  {
   "cell_type": "code",
   "execution_count": 46,
   "id": "33590b62-836f-4f43-9585-86d36b5fdd5a",
   "metadata": {},
   "outputs": [],
   "source": [
    "product_containers = driver.find_elements(By.CLASS_NAME, 'iphone')\n",
    "\n",
    "product_titles = []\n",
    "pack_sizes = []\n",
    "product_prices = []\n",
    "rating_counts = []\n",
    "\n",
    "for container in product_containers:\n",
    "    product_titles.append(container.find_element(By.CLASS_NAME, 'title').text)\n",
    "    pack_sizes.append(container.find_element(By.CLASS_NAME, 'pack_size').text)\n",
    "    product_prices.append(container.find_element(By.CLASS_NAME, 'product_price').text)\n",
    "    rating_counts.append(container.find_element(By.CLASS_NAME, 'ratings_count').text)\n",
    "\n",
    "data = {'product_title': product_titles,\n",
    "        'pack_size': pack_sizes,\n",
    "        'product_price': product_prices,\n",
    "        'rating_count': rating_counts}"
   ]
  },
  {
   "cell_type": "code",
   "execution_count": 47,
   "id": "4d0bbeee-4094-487e-ae31-dbe3419389bb",
   "metadata": {},
   "outputs": [
    {
     "data": {
      "text/plain": [
       "{'product_title': [], 'pack_size': [], 'product_price': [], 'rating_count': []}"
      ]
     },
     "execution_count": 47,
     "metadata": {},
     "output_type": "execute_result"
    }
   ],
   "source": [
    "data"
   ]
  },
  {
   "cell_type": "code",
   "execution_count": null,
   "id": "6b3e4c8a-61d0-4f81-a0b1-2566dca7e232",
   "metadata": {},
   "outputs": [],
   "source": []
  }
 ],
 "metadata": {
  "kernelspec": {
   "display_name": "Python [conda env:525_2022]",
   "language": "python",
   "name": "conda-env-525_2022-py"
  },
  "language_info": {
   "codemirror_mode": {
    "name": "ipython",
    "version": 3
   },
   "file_extension": ".py",
   "mimetype": "text/x-python",
   "name": "python",
   "nbconvert_exporter": "python",
   "pygments_lexer": "ipython3",
   "version": "3.8.6"
  }
 },
 "nbformat": 4,
 "nbformat_minor": 5
}
