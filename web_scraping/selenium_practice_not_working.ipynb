{
 "cells": [
  {
   "cell_type": "markdown",
   "id": "b35186fe-534e-49c8-9f22-265e2664da02",
   "metadata": {},
   "source": [
    "# Imports"
   ]
  },
  {
   "cell_type": "code",
   "execution_count": 1,
   "id": "acec91a1-b57c-4ae9-8cb0-c0018d7aaedd",
   "metadata": {},
   "outputs": [],
   "source": [
    "from selenium import webdriver\n",
    "from selenium.webdriver.common.by import By\n",
    "from selenium.webdriver.support.ui import WebDriverWait\n",
    "from selenium.webdriver.support import expected_conditions as EC\n",
    "from selenium.common.exceptions import TimeoutException"
   ]
  },
  {
   "cell_type": "markdown",
   "id": "685d81de-6744-4d2b-90a4-a2e526e7df85",
   "metadata": {},
   "source": [
    "# Drive Selenium Chrome Browser"
   ]
  },
  {
   "cell_type": "code",
   "execution_count": 2,
   "id": "4fffff6b-8c4d-4a7b-b26a-d5bfc7ed59ea",
   "metadata": {},
   "outputs": [],
   "source": [
    "driver = webdriver.Chrome(executable_path='chromedriver')\n",
    "driver.get('https://www.lazada.sg/#')"
   ]
  },
  {
   "cell_type": "code",
   "execution_count": 3,
   "id": "1e671af5-8417-4deb-a755-f1f077c69579",
   "metadata": {},
   "outputs": [],
   "source": [
    "timeout = 30\n",
    "try:\n",
    "    WebDriverWait(driver, timeout).until(EC.visibility_of_element_located((By.ID, \"Level_1_Category_No1\")))\n",
    "except TimeoutException:\n",
    "    driver.quit()"
   ]
  },
  {
   "cell_type": "markdown",
   "id": "6e390677-fa5a-4594-822d-bea228e154bc",
   "metadata": {},
   "source": [
    "# Information Extraction"
   ]
  },
  {
   "cell_type": "markdown",
   "id": "2974367e-0c38-4053-8296-339dcee75d12",
   "metadata": {},
   "source": [
    "### 1. find_element by ID"
   ]
  },
  {
   "cell_type": "code",
   "execution_count": 4,
   "id": "7a862178-f5e9-4388-96b6-a96a53c61522",
   "metadata": {},
   "outputs": [],
   "source": [
    "category_element = driver.find_element(By.ID,'Level_1_Category_No1').text;\n",
    "#result -- Electronic Devices as the first category listing"
   ]
  },
  {
   "cell_type": "code",
   "execution_count": 5,
   "id": "3d009c83-ae3a-44d6-a7b4-1dffbbd40792",
   "metadata": {},
   "outputs": [
    {
     "data": {
      "text/plain": [
       "'Electronic Devices'"
      ]
     },
     "execution_count": 5,
     "metadata": {},
     "output_type": "execute_result"
    }
   ],
   "source": [
    "category_element"
   ]
  },
  {
   "cell_type": "markdown",
   "id": "57283305-4f78-4687-afc2-eb208ade86a5",
   "metadata": {},
   "source": [
    "### 2. get the unordered list xpath (ul) and extract the values for each list item (li)"
   ]
  },
  {
   "cell_type": "code",
   "execution_count": 6,
   "id": "ee4c49a3-7b9f-4871-88de-a93d15212431",
   "metadata": {},
   "outputs": [
    {
     "name": "stdout",
     "output_type": "stream",
     "text": [
      "element in list  Electronic Accessories\n",
      "element in list  Electronic Devices\n",
      "element in list  TV & Home Appliances\n",
      "element in list  Health & Beauty\n",
      "element in list  Babies & Toys\n",
      "element in list  Groceries & Pets\n",
      "element in list  Home & Lifestyle\n",
      "element in list  Women's Fashion & Accessories\n",
      "element in list  Men's Fashion & Accessories\n",
      "element in list  Kids' Fashion & Accessories\n",
      "element in list  Sports & Lifestyle\n",
      "element in list  Automotive & Motorcycle\n"
     ]
    }
   ],
   "source": [
    "list_category_elements = driver.find_element(By.XPATH,'//*[@id=\"J_icms-5000498-1511516689962\"]/div/ul')\n",
    "links = list_category_elements.find_elements(By.CLASS_NAME,\"lzd-site-menu-root-item\")\n",
    "for i in range(len(links)):\n",
    "    print(\"element in list \",links[i].text)\n",
    "#result {Electronic Devices, Electronic Accessories, etc}"
   ]
  },
  {
   "cell_type": "markdown",
   "id": "2aafa89f-13aa-45c4-accb-3769aac526a1",
   "metadata": {},
   "source": [
    "# Clicks and Action"
   ]
  },
  {
   "cell_type": "markdown",
   "id": "b92b29a7-61e5-4cf3-af1b-30df059fd778",
   "metadata": {},
   "source": [
    "### 1. Automate actions"
   ]
  },
  {
   "cell_type": "code",
   "execution_count": 10,
   "id": "a26be9fd-c56d-440b-9947-4b0d908eb1e5",
   "metadata": {},
   "outputs": [],
   "source": [
    "#element = driver.find_elements_by_class_name('J_ChannelsLink')[1]\n",
    "element = driver.find_elements(By.CLASS_NAME, 'lzd-site-menu-root-item-link')\n",
    "#webdriver.ActionChains(driver).move_to_element(element).click(element).perform()\n",
    "\n",
    "# Doesn't work somehow"
   ]
  },
  {
   "cell_type": "markdown",
   "id": "af53be5c-0ed5-49ff-ab65-1e8ccb2459e4",
   "metadata": {},
   "source": [
    "# Extracting all product listings from Redmart"
   ]
  },
  {
   "cell_type": "markdown",
   "id": "ab019707-00ea-40e3-ba5b-15a96e6be57d",
   "metadata": {},
   "source": [
    "### 1. Create lists of product titles"
   ]
  },
  {
   "cell_type": "code",
   "execution_count": 30,
   "id": "1a082456-a5bb-4855-9d47-87e5028067ee",
   "metadata": {},
   "outputs": [
    {
     "name": "stdout",
     "output_type": "stream",
     "text": [
      "Samsung Galaxy Z Fold4 5G\n",
      "$2,398.00\n",
      "(13)\n",
      "Singapore\n",
      "[NEW]Xiaomi MIX Fold 2 /mix folding screen Snapdragon 8 Gen+ Dual Amoled + 120hz / 67W Wire Fast charging Co-Engin with LEICA\n",
      "$2,120.00\n",
      "(5)\n",
      "Singapore\n",
      "Nothing Phone (1) | 8GB + 128GB / 8GB + 256GB / 12GB + 256GB | Glyph Interface | 50MP Dual Camera | Pure Nothing OS | Snapdragon 778G+ | 8-11 Sept - Phone (1) Clear Case worth $25\n",
      "$769.00\n",
      "(19)\n",
      "Singapore\n",
      "UMIDIGI A9 Pro Smartphone | 6GB RAM 128GB ROM | Unlocked 32/48MP Quad Camera | With 1 Year Warranty\n",
      "$199.00\n",
      "$332.00\n",
      "-40%\n",
      "(6)\n",
      "China\n",
      "Samsung Galaxy Z Flip4 5G\n",
      "$1,398.00\n",
      "(30)\n",
      "Singapore\n",
      "Xiaomi Redmi Note 11 Pro 5G / 128GB ROM + 8GB RAM or 128GB ROM + 6GB RAM / 1 Year Local Xiaomi Warranty / Global Version (FREE : TEMPERED GLASS + BACK CASE)\n",
      "$369.00\n",
      "$419.00\n",
      "-12%\n",
      "(201)\n",
      "Singapore\n",
      "Apple iPhone 13 Pro\n",
      "$1,346.00\n",
      "$1,649.00\n",
      "-18%\n",
      "(463)\n",
      "Singapore\n",
      "New Xiaom X50 Pro 5G Handphone Original Murah Gila 7.1-inch Large Screen 5G Mobile Phone Has A Large Capacity of 12GB+256/512GB Low Price and High Cost Performance Mobile Phone 24MP+48MP Camera 8000mAh Face Unlock Android 10.0 System\n",
      "$70.94\n",
      "$118.00\n",
      "-40%\n",
      "(4)\n",
      "China\n",
      "vivo X80 Pro 5G [12GB+4GB/256GB] ZEISS Optics | ZEISS T*Coating | 3D Ultrasonic Large Fingerprint Sensor | Snapdragon 8Gen 1 | vivo V1+ Chip | 120Hz Refresh Rate | 50W wireless FlashCharge | Cinematics. Redefined.【2 YEARS WARRANTY】\n",
      "$1,549.00\n",
      "$1,699.00\n",
      "-9%\n",
      "(23)\n",
      "Singapore\n",
      "Brandnew Samsung GALAXY On5（G5500/Dual4G）5'1.5GB 8GB 2600mAh Dual Micro SIM\n",
      "$82.81\n",
      "$106.44\n",
      "-22%\n",
      "(2)\n",
      "China\n",
      "【Same Day Delivery】ASUS ROG Phone 6 (Phantom Black) | Snapdragon 8+ Gen 1 | 16GB LPDDR5 | 512GB Storage | Android 12 | 6.78\" AMOLED Display | 1 Year Warranty\n",
      "$1,394.00\n",
      "$1,399.00\n",
      "Singapore\n",
      "[Export Set] Huawei Nova 3i 4GB RAM 128 GB ROM Unlocked 4G LTE Smartphone Dual SIM\n",
      "$190.00\n",
      "$399.00\n",
      "-52%\n",
      "(10)\n",
      "Singapore\n",
      "Redmi Note 11 Pro 5G (8GB + 128GB)\n",
      "$439.00\n",
      "$459.00\n",
      "-4%\n",
      "(26)\n",
      "Singapore\n",
      "[HOT] Xiaomi Mi Mix Fold 2 Foldable Snapdragon 8+ Gen 1 Dual SIM locally warranty\n",
      "$2,100.00\n",
      "Singapore\n",
      "Xiaomi 11 Lite 5G NE 256GB ROM + 8GB RAM / Global Version (FREE : TEMPERED GLASS + BACK CASE)\n",
      "$479.00\n",
      "$599.00\n",
      "-20%\n",
      "(27)\n",
      "Singapore\n",
      "【Pre-order】Xiaomi Mi Mix Fold 2 Leica Professional Optical Lens Snapdragon 8+ Dual SIM【ship from 14th Sept 2022】\n",
      "$2,110.00\n",
      "Singapore\n",
      "[Pre-Order] ASUS ROG Phone 6 Pro | Storm White | Snapdragon 8+ Gen 1 | 6.78\" (2448 x 1080) 165Hz AMOLED | 18GB LPDDR5 | 512GB Storage | Android 12\n",
      "$1,799.00\n",
      "$1,999.00\n",
      "-10%\n",
      "(11)\n",
      "Singapore\n",
      "POCO F4 (6+128GB/8+256GB) Global Version 1 year warranty\n",
      "$479.00\n",
      "$549.00\n",
      "-13%\n",
      "(46)\n",
      "Hong Kong SAR China\n",
      "Samsung Galaxy A33 5G | 8GB+128GB | Brand New | Local Set | 1 Year Samsung Warranty | FREE TEMPER GLASS+BACK CASE OR DISCOUNT PRICE\n",
      "$373.90\n",
      "$549.00\n",
      "-32%\n",
      "(2)\n",
      "Singapore\n",
      "IIIF150 R2022 6.78'' FHD+ 8GB+128GB Rugged HandPhone 64MP+20MP Night Vision Smartphone IP68/69K Waterproof Helio G95 8300mAh NFC Mobiles\n",
      "$319.00\n",
      "$579.00\n",
      "-45%\n",
      "China\n",
      "Samsung Galaxy A73 5G 128GB or 256GB / 1 Year Local Samsung Warranty (FREE : TEMPERED GLASS + BACK CASE)\n",
      "$588.00\n",
      "$698.00\n",
      "-16%\n",
      "(33)\n",
      "Singapore\n",
      "OPPO Reno 8 5G (Telco Set) | 2 years warranty by OPPO Singapore\n",
      "$729.00\n",
      "$799.00\n",
      "-9%\n",
      "(3)\n",
      "Singapore\n",
      "OPPO Reno7 Pro 5G / Flagship Portrait Mode / 65W SuperVOOC 2.0 / 12GB RAM + 256GB ROM\n",
      "$799.00\n",
      "$999.00\n",
      "-20%\n",
      "(34)\n",
      "Singapore\n",
      "Samsung Galaxy A22 5G 128GB + 6GB RAM (1 Year Local Samsung Warranty) (FREE : TEMPERED GLASS + BACK CASE)\n",
      "$269.00\n",
      "$349.00\n",
      "-23%\n",
      "(154)\n",
      "Singapore\n",
      "OnePlus 7 Pro 8GB+256GB 4G Phablet 6.67 inch Octa core UFS 3.0 For Android 9.0 -- Blue\n",
      "$477.18\n",
      "$867.00\n",
      "-45%\n",
      "China\n",
      "Xiaomi Redmi Note 11s 5G 128GB + 6GB RAM / 1 Year Local Xiaomi Warranty / Global Version (FREE : TEMPERED GLASS + BACK CASE)\n",
      "$335.00\n",
      "$399.00\n",
      "-16%\n",
      "(228)\n",
      "Singapore\n",
      "OPPO A16 (4/64GB) | BRAND NEW MOBILE | 2 YEARS OFFICIAL OPPO WARRANTY | 10 FREE GIFTS !!!\n",
      "$199.00\n",
      "(28)\n",
      "Singapore\n",
      "realme narzo 50i Prime Smartphone Powerful Unisoc T612 Processor 5000mAh Massive Battery No Charger 2 Year Singapore Warranty\n",
      "$129.00\n",
      "$149.00\n",
      "-13%\n",
      "(9)\n",
      "Hong Kong SAR China\n",
      "IIIF150 Air1 Pro Android 12 6.5“ FHD+ Rugged HandPhone 6GB+128GB 48MP+20MP Infrared Night Vision IP68/IP69K Waterproof Mobile Phone MTKG37 5000mAh 18W Fast Charging Fingerprint Face ID NFC GPS OTG Smartphone\n",
      "$235.00\n",
      "$449.00\n",
      "-48%\n",
      "China\n",
      "Samsung Galaxy S22+ 5G\n",
      "$1,200.00\n",
      "$1,568.00\n",
      "-23%\n",
      "(97)\n",
      "Singapore\n",
      "Redmi 10A | 3GB RAM 64GB ROM | 2GB RAM 32GB ROM | Local Set with 1 Year Xiaomi Warranty | Ready Stocks | Store Pickup available\n",
      "$145.00\n",
      "$159.00\n",
      "-9%\n",
      "(144)\n",
      "Singapore\n",
      "9.9 SALES - Samsung A13 128gb | 1 Year Warranty (Local Set)\n",
      "$212.00\n",
      "$248.00\n",
      "-15%\n",
      "(3)\n",
      "Singapore\n",
      "Redmi 10C (4GB+64GB / 4GB+128GB)\n",
      "$189.00\n",
      "$199.00\n",
      "-5%\n",
      "(16)\n",
      "Singapore\n",
      "[new 2022]Xiaomi 12S Ultra / Xiaomi 12S Pro / xiaomi mi 12s Snapdragon 8Gen1+ Leica Camera xiaomi 12s ultra phone\n",
      "$1,029.98\n",
      "$1,299.00\n",
      "-21%\n",
      "(12)\n",
      "Singapore\n",
      "2021 Model | Xiaomi 11T Pro ( 12GB+256GB) / 11T (8GB 256GB) | Local Set with 2 Year Xiaomi Warranty | Global Version\n",
      "$661.00\n",
      "$799.00\n",
      "-17%\n",
      "(7)\n",
      "Singapore\n",
      "Motorola Razr Phone US Version 99% New Folding Screen Smartphone 8GB 256GB 1 Year Local Warranty\n",
      "$959.31\n",
      "$2,287.00\n",
      "-58%\n",
      "(1)\n",
      "Singapore\n",
      "Samsung Galaxy A53 5G\n",
      "$498.00\n",
      "$598.00\n",
      "-17%\n",
      "(130)\n",
      "Singapore\n",
      "【Brand New&Sealed】 Global Version Xiaomi Mi Max 3 64GB ROM 4GB RAM | Android 8.1 | Pre-installed Google Play Store\n",
      "$210.00\n",
      "$499.00\n",
      "-58%\n",
      "(35)\n",
      "Singapore\n",
      "【Local Seller&Warranty】Original Samsung Galaxy Note 20 Ultra 5G | 12GB RAM+256GB ROM | Display&Sealed Set\n",
      "$929.00\n",
      "$1,748.00\n",
      "-47%\n",
      "(94)\n",
      "Singapore\n",
      "Samsung Galaxy A33 5G\n",
      "$398.00\n",
      "$478.00\n",
      "-17%\n",
      "(27)\n",
      "Singapore\n"
     ]
    }
   ],
   "source": [
    "product_titles = driver.find_elements(By.CLASS_NAME, 'Bm3ON')\n",
    "for title in product_titles:\n",
    "    print(title.text)"
   ]
  },
  {
   "cell_type": "code",
   "execution_count": 33,
   "id": "5678146c-ee12-4189-b993-c9fc5a7132fa",
   "metadata": {},
   "outputs": [
    {
     "data": {
      "text/plain": [
       "'[NEW]Xiaomi MIX Fold 2 /mix folding screen Snapdragon 8 Gen+ Dual Amoled + 120hz / 67W Wire Fast charging Co-Engin with LEICA\\n$2,120.00\\n(5)\\nSingapore'"
      ]
     },
     "execution_count": 33,
     "metadata": {},
     "output_type": "execute_result"
    }
   ],
   "source": [
    "product_titles[1]."
   ]
  },
  {
   "cell_type": "markdown",
   "id": "a215321e-b650-4dc8-b72b-448d57a2eb80",
   "metadata": {},
   "source": [
    "### 2. Extract the product title, pack size, price, and rating"
   ]
  },
  {
   "cell_type": "code",
   "execution_count": 34,
   "id": "33590b62-836f-4f43-9585-86d36b5fdd5a",
   "metadata": {},
   "outputs": [],
   "source": [
    "product_containers = driver.find_elements(By.CLASS_NAME, 'iphone')\n",
    "\n",
    "# product_titles = []\n",
    "# pack_sizes = []\n",
    "# product_prices = []\n",
    "# rating_counts = []\n",
    "\n",
    "# for container in product_containers:\n",
    "#     product_titles.append(container.find_element(By.CLASS_NAME, 'title').text)\n",
    "#     pack_sizes.append(container.find_element(By.CLASS_NAME, 'pack_size').text)\n",
    "#     product_prices.append(container.find_element(By.CLASS_NAME, 'product_price').text)\n",
    "#     rating_counts.append(container.find_element(By.CLASS_NAME, 'ratings_count').text)\n",
    "\n",
    "# data = {'product_title': product_titles,\n",
    "#         'pack_size': pack_sizes,\n",
    "#         'product_price': product_prices,\n",
    "#         'rating_count': rating_counts}"
   ]
  },
  {
   "cell_type": "code",
   "execution_count": 37,
   "id": "4d0bbeee-4094-487e-ae31-dbe3419389bb",
   "metadata": {},
   "outputs": [
    {
     "data": {
      "text/plain": [
       "[]"
      ]
     },
     "execution_count": 37,
     "metadata": {},
     "output_type": "execute_result"
    }
   ],
   "source": [
    "product_containers"
   ]
  },
  {
   "cell_type": "code",
   "execution_count": null,
   "id": "6b3e4c8a-61d0-4f81-a0b1-2566dca7e232",
   "metadata": {},
   "outputs": [],
   "source": []
  }
 ],
 "metadata": {
  "kernelspec": {
   "display_name": "Python [conda env:525_2022]",
   "language": "python",
   "name": "conda-env-525_2022-py"
  },
  "language_info": {
   "codemirror_mode": {
    "name": "ipython",
    "version": 3
   },
   "file_extension": ".py",
   "mimetype": "text/x-python",
   "name": "python",
   "nbconvert_exporter": "python",
   "pygments_lexer": "ipython3",
   "version": "3.8.6"
  }
 },
 "nbformat": 4,
 "nbformat_minor": 5
}
