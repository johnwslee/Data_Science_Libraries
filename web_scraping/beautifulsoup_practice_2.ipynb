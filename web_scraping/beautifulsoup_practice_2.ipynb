{
 "cells": [
  {
   "cell_type": "markdown",
   "id": "f559b671-70f6-490f-92a6-ec59cf8d176f",
   "metadata": {},
   "source": [
    "# Imports"
   ]
  },
  {
   "cell_type": "code",
   "execution_count": 1,
   "id": "c33972f7-7fff-4baf-a360-8eb775ffdc05",
   "metadata": {},
   "outputs": [],
   "source": [
    "import requests\n",
    "import pandas as pd\n",
    "from bs4 import BeautifulSoup"
   ]
  },
  {
   "cell_type": "markdown",
   "id": "d3a560e0-7ec1-4d8f-90a2-cc36ceb61e25",
   "metadata": {},
   "source": [
    "# Naver 뉴스 검색 결과 받기"
   ]
  },
  {
   "cell_type": "code",
   "execution_count": 2,
   "id": "6e30238d-5ebc-4ce8-9a76-8a0f48f57022",
   "metadata": {},
   "outputs": [],
   "source": [
    "# Info for headers were taken from https://www.useragentstring.com/\n",
    "\n",
    "headers = {\n",
    "    'User-Agent':\n",
    "    'Mozilla/5.0 (Windows NT 10.0; Win64; x64) AppleWebKit/537.36 (KHTML, like Gecko) Chrome/105.0.0.0 Safari/537.36'\n",
    "}\n",
    "\n",
    "url = \"https://search.naver.com/search.naver?sm=tab_hty.top&where=news&query=%ED%8C%8C%EC%9D%B4%EC%8D%AC&oquery=%ED%8C%8C%EC%9D%B4%EC%8D%AC&tqi=hBfMbsp0JywssgLt3sNssssstPC-098999\""
   ]
  },
  {
   "cell_type": "code",
   "execution_count": 3,
   "id": "3d086fbc-da89-4923-8745-594ed6666f11",
   "metadata": {},
   "outputs": [],
   "source": [
    "html = requests.get(url, headers=headers)"
   ]
  },
  {
   "cell_type": "code",
   "execution_count": 4,
   "id": "a83561fd-9fdc-424f-850a-799350cbbdf9",
   "metadata": {},
   "outputs": [],
   "source": [
    "soup = BeautifulSoup(html.content, 'html.parser')"
   ]
  },
  {
   "cell_type": "code",
   "execution_count": 5,
   "id": "65bf74e5-899f-4724-a21e-e1991c044708",
   "metadata": {},
   "outputs": [],
   "source": [
    "# parsing된 결과인 soup 에서 news_tit class ( 뉴스 제목 클래스를 의미 함) 를 검색하고, 가장 첫번째 값을 반환 합니다.\n",
    "first_found = soup.find(class_='news_tit') # html에서 news_area 이라는 클래스로 되어있는 정보 중 첫 번째 값을 반환"
   ]
  },
  {
   "cell_type": "code",
   "execution_count": 6,
   "id": "f0dae3f6-db1e-4970-a80f-72730b1261e5",
   "metadata": {},
   "outputs": [
    {
     "data": {
      "text/plain": [
       "\"리눅스용 기업 사이버 보안 기업 '턱스케어', 파이썬 연장 라이프 사이클 지원...\""
      ]
     },
     "execution_count": 6,
     "metadata": {},
     "output_type": "execute_result"
    }
   ],
   "source": [
    "first_found.text"
   ]
  },
  {
   "cell_type": "code",
   "execution_count": 7,
   "id": "54ba029f-ca8f-40c5-a493-2abaa6a8829f",
   "metadata": {},
   "outputs": [],
   "source": [
    "# parsing된 결과 모두 가져오기\n",
    "find_all_results = soup.find_all(class_='news_tit')"
   ]
  },
  {
   "cell_type": "code",
   "execution_count": 8,
   "id": "ae582cb8-d1f7-4b7f-8daf-2ccc83330866",
   "metadata": {},
   "outputs": [
    {
     "name": "stdout",
     "output_type": "stream",
     "text": [
      "1. 리눅스용 기업 사이버 보안 기업 '턱스케어', 파이썬 연장 라이프 사이클 지원...\n",
      "2. [코딩 트렌드] 파이썬, 9월 PyPL 인기 프로그래밍 언어 랭킹·티오베 지수 1위\n",
      "3. 프로그래밍 초급자가 알아야 할 파이썬의 숨겨진 기능 10가지\n",
      "4. [새책] \"파이썬 비밀 전수해줄게\" 고급 개발자 사례와 팁 공유\n",
      "5. ㈜알파코, 교육비 전액 지원 '빅데이터 기반 딥러닝 부트캠프' 수강생 모집\n",
      "6. 데이터 사이언스 분야 취업, 파이썬과 'SQL' 능력 필수\n",
      "7. IT 학원 코리아IT아카데미, 기업 참여형 디지털 핵심인재 양성 위한 'K-DIGIT...\n",
      "8. 스타트업 최고 인기 프로그래밍 언어 Top 10\n",
      "9. [함께 쓰는 풀리퀘]더 나은 이름과 메타포를 향하여②\n",
      "10. [영상] 코딩 초보도 쉽고 재미있게 '파이썬 코딩 챌린지' 현장\n"
     ]
    }
   ],
   "source": [
    "for i, result in enumerate(find_all_results):\n",
    "    print(f\"{i+1}. {result.text}\")"
   ]
  },
  {
   "cell_type": "markdown",
   "id": "1d5cb341-6c06-4c4a-9be2-facff0d24cdf",
   "metadata": {},
   "source": [
    "# Naver에서 날씨 가져오기"
   ]
  },
  {
   "cell_type": "code",
   "execution_count": 9,
   "id": "e6a80418-0937-42ff-80bf-5fe2b298adf3",
   "metadata": {},
   "outputs": [],
   "source": [
    "weather_url = \"https://search.naver.com/search.naver?where=nexearch&sm=top_hty&fbm=0&ie=utf8&query=%EC%9D%98%EC%99%95+%EB%82%A0%EC%94%A8\""
   ]
  },
  {
   "cell_type": "code",
   "execution_count": 10,
   "id": "3cea029e-ca39-4781-a8c2-f890e1f0935e",
   "metadata": {},
   "outputs": [],
   "source": [
    "weather_html = requests.get(weather_url, headers=headers)"
   ]
  },
  {
   "cell_type": "code",
   "execution_count": 11,
   "id": "e2a1335d-b691-4d5a-83aa-f71286204b33",
   "metadata": {},
   "outputs": [],
   "source": [
    "weather_soup = BeautifulSoup(weather_html.content, 'html.parser')"
   ]
  },
  {
   "cell_type": "code",
   "execution_count": 12,
   "id": "822251e3-0ff5-4e66-b399-de888f39b9f7",
   "metadata": {},
   "outputs": [],
   "source": [
    "temp = weather_soup.find(class_=\"temperature_text\")"
   ]
  },
  {
   "cell_type": "code",
   "execution_count": 13,
   "id": "cad73715-1366-4d51-9fcf-1ee66d5f977e",
   "metadata": {},
   "outputs": [
    {
     "data": {
      "text/plain": [
       "' 현재 온도19.2° '"
      ]
     },
     "execution_count": 13,
     "metadata": {},
     "output_type": "execute_result"
    }
   ],
   "source": [
    "temp.text"
   ]
  },
  {
   "cell_type": "code",
   "execution_count": 14,
   "id": "87a1b407-1596-4947-8977-e7854d5243a4",
   "metadata": {},
   "outputs": [],
   "source": [
    "temps = weather_soup.find_all(class_=\"temperature_text\")"
   ]
  },
  {
   "cell_type": "code",
   "execution_count": 15,
   "id": "5b44a97e-63e2-4dae-8f82-80bebf75a926",
   "metadata": {},
   "outputs": [
    {
     "name": "stdout",
     "output_type": "stream",
     "text": [
      "1.  현재 온도19.2° \n",
      "2.  예측 온도16° \n",
      "3.  예측 온도27° \n",
      "4.  예측 온도19° \n",
      "5.  예측 온도26° \n"
     ]
    }
   ],
   "source": [
    "for i, t in enumerate(temps):\n",
    "    print(f\"{i+1}. {t.text}\")"
   ]
  },
  {
   "cell_type": "code",
   "execution_count": 16,
   "id": "6d50f45f-a44e-4179-a633-da3d4fa2e4e9",
   "metadata": {},
   "outputs": [],
   "source": [
    "weather = weather_soup.find(class_=\"weather before_slash\")"
   ]
  },
  {
   "cell_type": "code",
   "execution_count": 17,
   "id": "83ad8a5c-ff1b-44bb-845a-a96f177705a3",
   "metadata": {},
   "outputs": [
    {
     "data": {
      "text/plain": [
       "'흐림'"
      ]
     },
     "execution_count": 17,
     "metadata": {},
     "output_type": "execute_result"
    }
   ],
   "source": [
    "weather.text"
   ]
  },
  {
   "cell_type": "code",
   "execution_count": 18,
   "id": "af1e39d2-d277-423e-8b5c-082b9092f1b7",
   "metadata": {},
   "outputs": [],
   "source": [
    "temp_info = weather_soup.find(class_=\"temperature_info\")"
   ]
  },
  {
   "cell_type": "code",
   "execution_count": 19,
   "id": "d4746420-701b-41c2-8e84-66567ecee2cc",
   "metadata": {},
   "outputs": [
    {
     "data": {
      "text/plain": [
       "' 어제보다 0.4° 낮아요  흐림   체감 21.5° 습도 86% 바람(북동풍) 0.6m/s  '"
      ]
     },
     "execution_count": 19,
     "metadata": {},
     "output_type": "execute_result"
    }
   ],
   "source": [
    "temp_info.text"
   ]
  },
  {
   "cell_type": "code",
   "execution_count": null,
   "id": "92016242-477c-40ea-91a0-6922b75bdd7a",
   "metadata": {},
   "outputs": [],
   "source": []
  }
 ],
 "metadata": {
  "kernelspec": {
   "display_name": "Python [conda env:525_2022]",
   "language": "python",
   "name": "conda-env-525_2022-py"
  },
  "language_info": {
   "codemirror_mode": {
    "name": "ipython",
    "version": 3
   },
   "file_extension": ".py",
   "mimetype": "text/x-python",
   "name": "python",
   "nbconvert_exporter": "python",
   "pygments_lexer": "ipython3",
   "version": "3.8.6"
  }
 },
 "nbformat": 4,
 "nbformat_minor": 5
}
