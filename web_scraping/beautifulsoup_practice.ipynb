{
 "cells": [
  {
   "cell_type": "markdown",
   "id": "9663f0d1-652f-4da4-a869-c60381bc2db0",
   "metadata": {},
   "source": [
    "# Imports"
   ]
  },
  {
   "cell_type": "code",
   "execution_count": 1,
   "id": "d77b61b0-cfab-4974-88c7-bda35c86cff2",
   "metadata": {},
   "outputs": [],
   "source": [
    "import requests\n",
    "import pandas as pd\n",
    "from bs4 import BeautifulSoup"
   ]
  },
  {
   "cell_type": "markdown",
   "id": "c7d37e39-e5d8-4c0c-b585-bc6e8366f610",
   "metadata": {},
   "source": [
    "# Get data from the url using `requests`"
   ]
  },
  {
   "cell_type": "code",
   "execution_count": 2,
   "id": "bdf94ff5-bba6-402c-8973-5b9b523ac401",
   "metadata": {},
   "outputs": [],
   "source": [
    "# Info for headers were taken from https://www.useragentstring.com/\n",
    "\n",
    "headers = {\n",
    "    'User-Agent':\n",
    "    'Mozilla/5.0 (Windows NT 10.0; Win64; x64) AppleWebKit/537.36 (KHTML, like Gecko) Chrome/105.0.0.0 Safari/537.36'\n",
    "}\n",
    "\n",
    "url = \"https://en.wikipedia.org/wiki/List_of_national_capitals\""
   ]
  },
  {
   "cell_type": "code",
   "execution_count": 3,
   "id": "57506e1b-2965-4e3d-8f60-39d0ebef093c",
   "metadata": {},
   "outputs": [],
   "source": [
    "r = requests.get(url, headers=headers)"
   ]
  },
  {
   "cell_type": "markdown",
   "id": "3468c2de-2a11-42d3-90aa-c431e8164944",
   "metadata": {},
   "source": [
    "# Initiate `BeautifulSoup` and list elements"
   ]
  },
  {
   "cell_type": "code",
   "execution_count": 4,
   "id": "fd39d4a8-522c-454c-bf18-c6c216a6a4db",
   "metadata": {},
   "outputs": [],
   "source": [
    "soup = BeautifulSoup(r.content, \"html.parser\")  # parse the html"
   ]
  },
  {
   "cell_type": "code",
   "execution_count": 5,
   "id": "89f11c42-8341-4915-83dd-07f3689c5302",
   "metadata": {},
   "outputs": [],
   "source": [
    "table = soup.find_all('table')[1]  # There are 2 tables. The 2nd table is the one we want"
   ]
  },
  {
   "cell_type": "code",
   "execution_count": 6,
   "id": "619a3ec1-311b-4d5d-860e-cd77ed894ac9",
   "metadata": {},
   "outputs": [],
   "source": [
    "rows = table.find_all('tr')"
   ]
  },
  {
   "cell_type": "markdown",
   "id": "6129e971-c27f-4ab5-9e6b-3e3c55a56223",
   "metadata": {},
   "source": [
    "# Iterate through all of the rows in the table"
   ]
  },
  {
   "cell_type": "code",
   "execution_count": 7,
   "id": "4509a77e-175e-4f05-b8ad-69e0e19a51f6",
   "metadata": {},
   "outputs": [],
   "source": [
    "row_list = list()"
   ]
  },
  {
   "cell_type": "code",
   "execution_count": 8,
   "id": "38ecec3a-5d3c-404b-9112-af0583b70c29",
   "metadata": {},
   "outputs": [],
   "source": [
    "for tr in rows:\n",
    "    td = tr.find_all('td')\n",
    "    row = [i.text.rstrip('\\n') for i in td]   # .rstrip('\\n') added to remove '\\n'\n",
    "    row_list.append(row)"
   ]
  },
  {
   "cell_type": "markdown",
   "id": "a4fd4ffb-df96-4b8c-a218-9fbee7020f1b",
   "metadata": {},
   "source": [
    "# Create Pandas Dataframe"
   ]
  },
  {
   "cell_type": "code",
   "execution_count": 9,
   "id": "c57ec639-b937-48f1-a0fb-037841e3578c",
   "metadata": {},
   "outputs": [
    {
     "data": {
      "text/html": [
       "<div>\n",
       "<style scoped>\n",
       "    .dataframe tbody tr th:only-of-type {\n",
       "        vertical-align: middle;\n",
       "    }\n",
       "\n",
       "    .dataframe tbody tr th {\n",
       "        vertical-align: top;\n",
       "    }\n",
       "\n",
       "    .dataframe thead th {\n",
       "        text-align: right;\n",
       "    }\n",
       "</style>\n",
       "<table border=\"1\" class=\"dataframe\">\n",
       "  <thead>\n",
       "    <tr style=\"text-align: right;\">\n",
       "      <th></th>\n",
       "      <th>City</th>\n",
       "      <th>Notes</th>\n",
       "    </tr>\n",
       "    <tr>\n",
       "      <th>Country</th>\n",
       "      <th></th>\n",
       "      <th></th>\n",
       "    </tr>\n",
       "  </thead>\n",
       "  <tbody>\n",
       "    <tr>\n",
       "      <th>Ivory Coast</th>\n",
       "      <td>Abidjan (former capital; still has many govern...</td>\n",
       "      <td></td>\n",
       "    </tr>\n",
       "    <tr>\n",
       "      <th>United Arab Emirates</th>\n",
       "      <td>Abu Dhabi</td>\n",
       "      <td></td>\n",
       "    </tr>\n",
       "    <tr>\n",
       "      <th>Nigeria</th>\n",
       "      <td>Abuja</td>\n",
       "      <td>Lagos was the capital from 1914 to 1991.</td>\n",
       "    </tr>\n",
       "    <tr>\n",
       "      <th>Ghana</th>\n",
       "      <td>Accra</td>\n",
       "      <td></td>\n",
       "    </tr>\n",
       "    <tr>\n",
       "      <th>Pitcairn Islands</th>\n",
       "      <td>Adamstown</td>\n",
       "      <td>British Overseas Territory.</td>\n",
       "    </tr>\n",
       "    <tr>\n",
       "      <th>...</th>\n",
       "      <td>...</td>\n",
       "      <td>...</td>\n",
       "    </tr>\n",
       "    <tr>\n",
       "      <th>Namibia</th>\n",
       "      <td>Windhoek</td>\n",
       "      <td></td>\n",
       "    </tr>\n",
       "    <tr>\n",
       "      <th>Cameroon</th>\n",
       "      <td>Yaoundé</td>\n",
       "      <td></td>\n",
       "    </tr>\n",
       "    <tr>\n",
       "      <th>Nauru</th>\n",
       "      <td>Yaren (de facto)</td>\n",
       "      <td>Country does not have an official capital; how...</td>\n",
       "    </tr>\n",
       "    <tr>\n",
       "      <th>Armenia</th>\n",
       "      <td>Yerevan</td>\n",
       "      <td></td>\n",
       "    </tr>\n",
       "    <tr>\n",
       "      <th>Croatia</th>\n",
       "      <td>Zagreb</td>\n",
       "      <td></td>\n",
       "    </tr>\n",
       "  </tbody>\n",
       "</table>\n",
       "<p>243 rows × 2 columns</p>\n",
       "</div>"
      ],
      "text/plain": [
       "                                                                    City  \\\n",
       "Country                                                                    \n",
       " Ivory Coast           Abidjan (former capital; still has many govern...   \n",
       " United Arab Emirates                                          Abu Dhabi   \n",
       " Nigeria                                                           Abuja   \n",
       " Ghana                                                             Accra   \n",
       " Pitcairn Islands                                              Adamstown   \n",
       "...                                                                  ...   \n",
       " Namibia                                                        Windhoek   \n",
       " Cameroon                                                        Yaoundé   \n",
       " Nauru                                                  Yaren (de facto)   \n",
       " Armenia                                                         Yerevan   \n",
       " Croatia                                                          Zagreb   \n",
       "\n",
       "                                                                   Notes  \n",
       "Country                                                                   \n",
       " Ivory Coast                                                              \n",
       " United Arab Emirates                                                     \n",
       " Nigeria                        Lagos was the capital from 1914 to 1991.  \n",
       " Ghana                                                                    \n",
       " Pitcairn Islands                            British Overseas Territory.  \n",
       "...                                                                  ...  \n",
       " Namibia                                                                  \n",
       " Cameroon                                                                 \n",
       " Nauru                 Country does not have an official capital; how...  \n",
       " Armenia                                                                  \n",
       " Croatia                                                                  \n",
       "\n",
       "[243 rows x 2 columns]"
      ]
     },
     "execution_count": 9,
     "metadata": {},
     "output_type": "execute_result"
    }
   ],
   "source": [
    "df_bs = pd.DataFrame(row_list, columns=['City', 'Country', 'Notes']).dropna()  # .dropna() added to remove the row with none\n",
    "df_bs.set_index('Country', inplace=True)\n",
    "df_bs"
   ]
  },
  {
   "cell_type": "code",
   "execution_count": null,
   "id": "208068a8-bb65-4607-9541-f794dd4c7078",
   "metadata": {},
   "outputs": [],
   "source": []
  }
 ],
 "metadata": {
  "kernelspec": {
   "display_name": "Python [conda env:525_2022]",
   "language": "python",
   "name": "conda-env-525_2022-py"
  },
  "language_info": {
   "codemirror_mode": {
    "name": "ipython",
    "version": 3
   },
   "file_extension": ".py",
   "mimetype": "text/x-python",
   "name": "python",
   "nbconvert_exporter": "python",
   "pygments_lexer": "ipython3",
   "version": "3.8.6"
  }
 },
 "nbformat": 4,
 "nbformat_minor": 5
}
