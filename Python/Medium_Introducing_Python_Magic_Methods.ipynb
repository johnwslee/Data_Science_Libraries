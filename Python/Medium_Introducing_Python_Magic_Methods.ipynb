{
 "cells": [
  {
   "cell_type": "markdown",
   "id": "b42f34c7-67e0-4808-9189-33be728b95f7",
   "metadata": {},
   "source": [
    "# 1. `__init__`"
   ]
  },
  {
   "cell_type": "markdown",
   "id": "9f33d2b8-dd73-4b03-9bf8-07abed3cc064",
   "metadata": {},
   "source": [
    "This is the magic method that Python automatically calls whenever we create (or as the name implies, initialise) a new object."
   ]
  },
  {
   "cell_type": "code",
   "execution_count": 1,
   "id": "9fbc06d4-d270-4ee3-89b3-20da1399e190",
   "metadata": {},
   "outputs": [],
   "source": [
    "class Pizza:\n",
    "    def __init__(self, size, toppings):\n",
    "        self.size = size\n",
    "        self.toppings = toppings"
   ]
  },
  {
   "cell_type": "code",
   "execution_count": 2,
   "id": "cbe11b29-d641-48af-ab25-9e74eb8e24dc",
   "metadata": {},
   "outputs": [],
   "source": [
    "my_pizza = Pizza(\"large\", [\"pepperoni\", \"mushrooms\"])"
   ]
  },
  {
   "cell_type": "code",
   "execution_count": 3,
   "id": "66067ec3-fc34-49a0-ba17-fd8aaac4e14a",
   "metadata": {},
   "outputs": [
    {
     "data": {
      "text/plain": [
       "'large'"
      ]
     },
     "execution_count": 3,
     "metadata": {},
     "output_type": "execute_result"
    }
   ],
   "source": [
    "my_pizza.size"
   ]
  },
  {
   "cell_type": "code",
   "execution_count": 4,
   "id": "3466f2c9-c549-4653-bb4c-bca35d04dfb3",
   "metadata": {},
   "outputs": [
    {
     "data": {
      "text/plain": [
       "['pepperoni', 'mushrooms']"
      ]
     },
     "execution_count": 4,
     "metadata": {},
     "output_type": "execute_result"
    }
   ],
   "source": [
    "my_pizza.toppings"
   ]
  },
  {
   "cell_type": "markdown",
   "id": "7d5f27f9-1ad9-4310-875e-3b161fb923ec",
   "metadata": {},
   "source": [
    "# 2. `__str__` and `__repr__`"
   ]
  },
  {
   "cell_type": "markdown",
   "id": "04057bc1-215b-4d3e-ba2b-983f40d302ad",
   "metadata": {},
   "source": [
    "## 2.1. `__str__`"
   ]
  },
  {
   "cell_type": "markdown",
   "id": "130ca49a-a052-474f-b314-23e0277bf557",
   "metadata": {},
   "source": [
    "This is Python’s magic method that allows us to define a desription for our custom object. It’s essentially answering the question:\n",
    "\n",
    "> \"How would you describe this object to a friend over coffee?\""
   ]
  },
  {
   "cell_type": "markdown",
   "id": "f6bf84ec-6c75-4a6f-8928-f4f9269d2709",
   "metadata": {},
   "source": [
    "When you print an object or convert it to a string using `str()`, Python checks to see if you've defined a `__str__` method for the class of that object.\n",
    "\n",
    "If you have, it uses that method to convert the object to a string.\n",
    "\n",
    "We can extend our Pizza example to include a `__str__` function as follows:"
   ]
  },
  {
   "cell_type": "code",
   "execution_count": 5,
   "id": "0450335d-ee92-4e49-b8f1-b955b2b79587",
   "metadata": {},
   "outputs": [],
   "source": [
    "class Pizza:\n",
    "    def __init__(self, size, toppings):\n",
    "        self.size = size\n",
    "        self.toppings = toppings\n",
    "\n",
    "    def __str__(self):\n",
    "        return f\"A {self.size} pizza with {', '.join(self.toppings)}\""
   ]
  },
  {
   "cell_type": "code",
   "execution_count": 6,
   "id": "6ebb22cc-52ff-4297-816f-bd1beb942015",
   "metadata": {},
   "outputs": [],
   "source": [
    "my_pizza = Pizza(\"large\", [\"pepperoni\", \"mushrooms\"])"
   ]
  },
  {
   "cell_type": "code",
   "execution_count": 7,
   "id": "694e5ba4-3a73-4781-9dcc-50e21fa4646b",
   "metadata": {},
   "outputs": [
    {
     "name": "stdout",
     "output_type": "stream",
     "text": [
      "A large pizza with pepperoni, mushrooms\n"
     ]
    }
   ],
   "source": [
    "print(my_pizza)"
   ]
  },
  {
   "cell_type": "markdown",
   "id": "83fc9b73-6ad3-4ec0-a8a9-f0b53ba501bf",
   "metadata": {},
   "source": [
    "## 2.2. `__repr__`"
   ]
  },
  {
   "cell_type": "markdown",
   "id": "73f8c8e3-4309-4936-ae7b-73b3f8e4ffe8",
   "metadata": {},
   "source": [
    "The `__str__` function is more of an informal way of describing the properties of an object. On the other hand, `__repr__` is used to provide a more formal, detailed, and unambiguous description of the custom object."
   ]
  },
  {
   "cell_type": "markdown",
   "id": "10add558-05f3-4995-9e2f-a0fc9c471d68",
   "metadata": {},
   "source": [
    "If you call `repr()` on an object, or just type the object's name in the console, Python will look for a `__repr__` method."
   ]
  },
  {
   "cell_type": "markdown",
   "id": "4ba612d3-a684-4f58-b7ce-c64128147af5",
   "metadata": {},
   "source": [
    "If `__str__` isn't defined, Python will use `__repr__` as a backup when trying to print the object or convert it to a string. So it's often a good idea to at least define `__repr__`, even if you don't define `__str__`.\n",
    "\n",
    "Here’s how we could define `__repr__` for our pizza example:"
   ]
  },
  {
   "cell_type": "code",
   "execution_count": 8,
   "id": "1b95c4f7-9cfc-4a92-8ff4-216e6b16b5fa",
   "metadata": {},
   "outputs": [],
   "source": [
    "class Pizza:\n",
    "    def __init__(self, size, toppings):\n",
    "        self.size = size\n",
    "        self.toppings = toppings\n",
    "\n",
    "    def __repr__(self):\n",
    "        return f\"Pizza('{self.size}', {self.toppings})\""
   ]
  },
  {
   "cell_type": "code",
   "execution_count": 9,
   "id": "e5843ab1-13ec-4ab5-bcce-cfc79285d58b",
   "metadata": {},
   "outputs": [],
   "source": [
    "my_pizza = Pizza(\"large\", [\"pepperoni\", \"mushrooms\"])"
   ]
  },
  {
   "cell_type": "code",
   "execution_count": 10,
   "id": "e3b38bfd-61eb-40f0-a0f8-a24b323c365b",
   "metadata": {},
   "outputs": [
    {
     "name": "stdout",
     "output_type": "stream",
     "text": [
      "Pizza('large', ['pepperoni', 'mushrooms'])\n"
     ]
    }
   ],
   "source": [
    "print(my_pizza)"
   ]
  },
  {
   "cell_type": "code",
   "execution_count": 11,
   "id": "ccd49ce8-0082-42c0-983b-2ba6af2e67be",
   "metadata": {},
   "outputs": [
    {
     "data": {
      "text/plain": [
       "\"Pizza('large', ['pepperoni', 'mushrooms'])\""
      ]
     },
     "execution_count": 11,
     "metadata": {},
     "output_type": "execute_result"
    }
   ],
   "source": [
    "repr(my_pizza)"
   ]
  },
  {
   "cell_type": "code",
   "execution_count": 12,
   "id": "c709daa1-e90a-4d36-a2c2-cf4790811db1",
   "metadata": {},
   "outputs": [
    {
     "name": "stdout",
     "output_type": "stream",
     "text": [
      "Pizza('large', ['pepperoni', 'mushrooms'])\n"
     ]
    }
   ],
   "source": [
    "print(repr(my_pizza))"
   ]
  },
  {
   "cell_type": "markdown",
   "id": "585e2d05-ddea-4bee-990d-6cc839759533",
   "metadata": {},
   "source": [
    "You see, `__repr__` gives you a string that you could run as a Python command to recreate the pizza object, while `__str__` gives you a more human-friendly description. Hope that helps you chew on these dunder methods a bit better!"
   ]
  },
  {
   "cell_type": "markdown",
   "id": "0d86f2aa-0b5e-4c87-a0d7-23a51cfd0bad",
   "metadata": {},
   "source": [
    "# 3. `__add__`"
   ]
  },
  {
   "cell_type": "markdown",
   "id": "c979ac74-8901-40f7-ac0a-e6bf9f40a0bc",
   "metadata": {},
   "source": [
    "In Python, we all know that you can add numbers together using the `+` operator, like `3 + 5`.\n",
    "\n",
    "But if we want to add instances of some custom object? The `__add__` dunder function allows us to do just that. It gives us the ability to define the behaviour of the `+` operator on our custom objects."
   ]
  },
  {
   "cell_type": "markdown",
   "id": "dcb6ae23-2f72-4ace-8fd0-cf27b1217bf8",
   "metadata": {},
   "source": [
    "In the interest of consistency, suppost that we want to define `+` behaviour on our pizza example. Let’s say that whenever we add two or more pizzas together, it will automatically combine all of their toppings. Here’s how that might look:"
   ]
  },
  {
   "cell_type": "code",
   "execution_count": 13,
   "id": "dac3ece3-3427-4b8b-b99b-b5bc1f1a2b6e",
   "metadata": {},
   "outputs": [],
   "source": [
    "class Pizza:\n",
    "    def __init__(self, size, toppings):\n",
    "        self.size = size\n",
    "        self.toppings = toppings\n",
    "\n",
    "    def __add__(self, other):\n",
    "        if not isinstance(other, Pizza):\n",
    "            raise TypeError(\"You can only add another Pizza!\")\n",
    "        new_toppings = self.toppings + other.toppings\n",
    "        return Pizza(self.size, new_toppings)"
   ]
  },
  {
   "cell_type": "code",
   "execution_count": 14,
   "id": "eed51503-6636-47ac-adec-7f78bb71bfe3",
   "metadata": {},
   "outputs": [],
   "source": [
    "pizza1 = Pizza(\"large\", [\"pepperoni\", \"mushrooms\"])\n",
    "pizza2 = Pizza(\"large\", [\"olives\", \"pineapple\"])"
   ]
  },
  {
   "cell_type": "code",
   "execution_count": 15,
   "id": "a1279551-d7d1-4354-9fa3-b1c6bb4406cf",
   "metadata": {},
   "outputs": [],
   "source": [
    "combined_pizza = pizza1 + pizza2"
   ]
  },
  {
   "cell_type": "code",
   "execution_count": 16,
   "id": "7689509d-446a-47ab-a12b-c857b700eb0d",
   "metadata": {},
   "outputs": [
    {
     "data": {
      "text/plain": [
       "['pepperoni', 'mushrooms', 'olives', 'pineapple']"
      ]
     },
     "execution_count": 16,
     "metadata": {},
     "output_type": "execute_result"
    }
   ],
   "source": [
    "combined_pizza.toppings"
   ]
  },
  {
   "cell_type": "markdown",
   "id": "8503b4c1-6174-4f53-a540-067ded3c58a1",
   "metadata": {},
   "source": [
    "Similarly to the `__add__` dunder, we also can define other arithmetic functions such as `__sub__` (for subtraction using the `—` operator) and `__mul__` (for multiplication using the `*`operator)."
   ]
  },
  {
   "cell_type": "markdown",
   "id": "92dce2a5-1f3b-4c0f-ac47-2650c7d7f5fa",
   "metadata": {},
   "source": [
    "# 4. `__len__`"
   ]
  },
  {
   "cell_type": "markdown",
   "id": "4f6a3ba0-7c74-4a7c-907f-a0f3e835fcce",
   "metadata": {},
   "source": [
    "This dunder method allows us to define what the `len()` function should return for our custom objects."
   ]
  },
  {
   "cell_type": "markdown",
   "id": "69ba0fd4-7d07-46f5-b96e-ee56cf61a274",
   "metadata": {},
   "source": [
    "Python uses `len()` to get the length or size of a data structure like a list or a string.\n",
    "\n",
    "In the context of our Pizza class, we could say the “length” of a pizza is the number of toppings it has. Here’s how we could implement that:"
   ]
  },
  {
   "cell_type": "code",
   "execution_count": 17,
   "id": "4474cd91-c604-43b4-a292-9459ee74e874",
   "metadata": {},
   "outputs": [],
   "source": [
    "class Pizza:\n",
    "    def __init__(self, size, toppings):\n",
    "        self.size = size\n",
    "        self.toppings = toppings\n",
    "\n",
    "    def __len__(self):\n",
    "        return len(self.toppings)"
   ]
  },
  {
   "cell_type": "code",
   "execution_count": 18,
   "id": "f39568c6-fe9e-4841-a417-1fd60596baae",
   "metadata": {},
   "outputs": [],
   "source": [
    "my_pizza = Pizza(\"large\", [\"pepperoni\", \"mushrooms\", \"olives\"])"
   ]
  },
  {
   "cell_type": "code",
   "execution_count": 19,
   "id": "f769f677-fdbc-4b4b-8210-0525d944baa6",
   "metadata": {},
   "outputs": [
    {
     "data": {
      "text/plain": [
       "3"
      ]
     },
     "execution_count": 19,
     "metadata": {},
     "output_type": "execute_result"
    }
   ],
   "source": [
    "len(my_pizza)"
   ]
  },
  {
   "cell_type": "markdown",
   "id": "0b1fbdce-d1c7-4f9a-a1df-27f5c2540e79",
   "metadata": {},
   "source": [
    "> Note:\n",
    "> `__len__` should always return an integer, and it's expected to be a non-negative value."
   ]
  },
  {
   "cell_type": "markdown",
   "id": "e3d5c2d6-dd83-46e1-87ea-de779a535c2a",
   "metadata": {},
   "source": [
    "# 5. `__iter__`"
   ]
  },
  {
   "cell_type": "markdown",
   "id": "8d24ab8f-bdff-4970-8710-acb6a52b099c",
   "metadata": {},
   "source": [
    "This dunder method allows your objects to be iterable — i.e., can be used in a for loop."
   ]
  },
  {
   "cell_type": "markdown",
   "id": "3aa59f2d-ad21-4cd8-be77-a52f13701a37",
   "metadata": {},
   "source": [
    "To do this, we also need to define the `__next__` function, This is used to define the behaviour that should return the next value in the iteration. Additionally, it also should signal to the iterable on the event that there are no more items in the sequence. We typically achieve this by raising a `StopIteration` exception."
   ]
  },
  {
   "cell_type": "markdown",
   "id": "3343583e-b674-4112-a3b6-77249a47acd7",
   "metadata": {},
   "source": [
    "For our pizza example, let’s say we want to iterate over the toppings. We could make our Pizza class iterable by defining an `__iter__` method like this:"
   ]
  },
  {
   "cell_type": "code",
   "execution_count": 20,
   "id": "d2f5acd7-432f-4c15-9d81-d13445a36236",
   "metadata": {},
   "outputs": [],
   "source": [
    "class Pizza:\n",
    "    def __init__(self, size, toppings):\n",
    "        self.size = size\n",
    "        self.toppings = toppings\n",
    "\n",
    "    def __iter__(self):\n",
    "        self.n = 0\n",
    "        return self\n",
    "\n",
    "    def __next__(self):\n",
    "        if self.n < len(self.toppings):\n",
    "            result = self.toppings[self.n]\n",
    "            self.n += 1\n",
    "            return result\n",
    "        else:\n",
    "            raise StopIteration"
   ]
  },
  {
   "cell_type": "code",
   "execution_count": 21,
   "id": "68841d16-c651-49f8-98a6-c528d4beb39f",
   "metadata": {},
   "outputs": [],
   "source": [
    "my_pizza = Pizza('large', ['pepperoni', 'mushrooms', 'olives'])"
   ]
  },
  {
   "cell_type": "code",
   "execution_count": 22,
   "id": "9ee9538c-27d4-43ab-a380-66e1ed4eccea",
   "metadata": {},
   "outputs": [
    {
     "name": "stdout",
     "output_type": "stream",
     "text": [
      "pepperoni\n",
      "mushrooms\n",
      "olives\n"
     ]
    }
   ],
   "source": [
    "for topping in my_pizza:\n",
    "    print(topping)"
   ]
  },
  {
   "cell_type": "markdown",
   "id": "469e51e9-b334-479d-9e64-fc5c0d7b04c3",
   "metadata": {},
   "source": [
    "In this case, the for loop calls `__iter__`, which initialises a counter (`self.n`) and returns the pizza object itself (`self`).\n",
    "\n",
    "Then, the for loop calls `__next__` to get each topping in turn.\n",
    "\n",
    "When `__next__` has returned all the toppings, it raises a `StopIteration` exception, and the for loop now knows that there are no more toppings left and will therefore stop the iteration process."
   ]
  },
  {
   "cell_type": "code",
   "execution_count": null,
   "id": "4347bf13-d756-4cdf-ba89-865578e47b83",
   "metadata": {},
   "outputs": [],
   "source": []
  }
 ],
 "metadata": {
  "kernelspec": {
   "display_name": "Python [conda env:ls_env]",
   "language": "python",
   "name": "conda-env-ls_env-py"
  },
  "language_info": {
   "codemirror_mode": {
    "name": "ipython",
    "version": 3
   },
   "file_extension": ".py",
   "mimetype": "text/x-python",
   "name": "python",
   "nbconvert_exporter": "python",
   "pygments_lexer": "ipython3",
   "version": "3.10.8"
  }
 },
 "nbformat": 4,
 "nbformat_minor": 5
}
