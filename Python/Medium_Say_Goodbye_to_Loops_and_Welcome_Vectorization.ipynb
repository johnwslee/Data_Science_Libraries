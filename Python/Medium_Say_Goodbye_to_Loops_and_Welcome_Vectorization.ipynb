{
 "cells": [
  {
   "cell_type": "markdown",
   "id": "f81d64b0-794c-47f1-b2f9-a481f70691e0",
   "metadata": {},
   "source": [
    "This article is from [this](https://medium.com/codex/say-goodbye-to-loops-in-python-and-welcome-vectorization-e8b0172b9581) in Medium."
   ]
  },
  {
   "cell_type": "markdown",
   "id": "377ea86a-c145-447b-b427-86cddf13df51",
   "metadata": {},
   "source": [
    "# Introduction\n",
    "\n",
    "Loops come to us naturally, we learn about Loops in almost all programming languages. So, by default, we start implementing loops whenever there is a repetitive operation. But when we work with a large number of iterations (millions/billions of rows), using loops is a crime. You might be stuck for hours, to later realize that it won’t work. This is where implementing Vectorisation in Python becomes super crucial.\n",
    "\n",
    "#What is Vectorization?\n",
    "\n",
    "*Vectorization is the technique of implementing (NumPy) array operations on a dataset. In the background, it applies the operations to all the elements of an array or series in one go (unlike a ‘for’ loop that manipulates one row at a time).*\n",
    "\n",
    "In this blog, we will look at some of the use cases where we can easily replace Python loops with Vectorization. This will help you save time and become more skillful in coding."
   ]
  },
  {
   "cell_type": "markdown",
   "id": "8e815c39-3899-4937-9822-9c57c9a777ba",
   "metadata": {},
   "source": [
    "# USE CASE 1: Finding the Sum of numbers"
   ]
  },
  {
   "cell_type": "code",
   "execution_count": 1,
   "id": "dee76af8-7d99-4033-9fad-00bc1d4f33c8",
   "metadata": {},
   "outputs": [],
   "source": [
    "import time"
   ]
  },
  {
   "cell_type": "code",
   "execution_count": 2,
   "id": "0e6b576c-2bd3-4a21-a2c2-109243395d30",
   "metadata": {},
   "outputs": [],
   "source": [
    "import numpy as np"
   ]
  },
  {
   "cell_type": "code",
   "execution_count": 3,
   "id": "da77e6c4-9931-47b1-86b0-9254dc4612b8",
   "metadata": {},
   "outputs": [
    {
     "name": "stdout",
     "output_type": "stream",
     "text": [
      "sum is:1124999250000\n",
      "0.1659984588623047\n"
     ]
    }
   ],
   "source": [
    "start = time.time()\n",
    "\n",
    "# iterative sum\n",
    "total = 0\n",
    "# iterating through 1.5 Million numbers\n",
    "for item in range(0, 1500000):\n",
    "    total = total + item\n",
    "\n",
    "print(\"sum is:\" + str(total))\n",
    "end = time.time()\n",
    "print(end - start)"
   ]
  },
  {
   "cell_type": "code",
   "execution_count": 4,
   "id": "cb3e84c6-b454-4be7-b6c0-02a0e69f5539",
   "metadata": {},
   "outputs": [
    {
     "name": "stdout",
     "output_type": "stream",
     "text": [
      "1124999250000\n",
      "0.005997896194458008\n"
     ]
    }
   ],
   "source": [
    "start = time.time()\n",
    "# vectorized sum - using numpy for vectorization\n",
    "# np.arange create the sequence of numbers from 0 to 1499999\n",
    "print(\n",
    "    np.sum(np.arange(1500000, dtype=np.int64))\n",
    ")  # \"dtype=np.int64\" is added by me to prevent overflow\n",
    "end = time.time()\n",
    "print(end - start)"
   ]
  },
  {
   "cell_type": "markdown",
   "id": "a0da756b-fbaa-4aa3-8424-e22c6934c17a",
   "metadata": {},
   "source": [
    "# USE CASE 2: Mathematical Operations (on DataFrame)"
   ]
  },
  {
   "cell_type": "code",
   "execution_count": 5,
   "id": "2d198e08-4b24-4b04-b4d3-2d516f625d21",
   "metadata": {},
   "outputs": [],
   "source": [
    "import pandas as pd"
   ]
  },
  {
   "cell_type": "code",
   "execution_count": 6,
   "id": "6e1ec322-ed4f-4fec-8c18-88f91cfcda92",
   "metadata": {},
   "outputs": [],
   "source": [
    "df = pd.DataFrame(\n",
    "    np.random.randint(1, 50, size=(5000000, 4)), columns=(\"a\", \"b\", \"c\", \"d\")\n",
    ")"
   ]
  },
  {
   "cell_type": "code",
   "execution_count": 7,
   "id": "f47eecce-184f-4516-bee5-4bf7036e51c9",
   "metadata": {},
   "outputs": [
    {
     "data": {
      "text/plain": [
       "(5000000, 4)"
      ]
     },
     "execution_count": 7,
     "metadata": {},
     "output_type": "execute_result"
    }
   ],
   "source": [
    "df.shape"
   ]
  },
  {
   "cell_type": "code",
   "execution_count": 8,
   "id": "28282979-5188-471c-b128-bf7de2201c9f",
   "metadata": {},
   "outputs": [
    {
     "data": {
      "text/html": [
       "<div>\n",
       "<style scoped>\n",
       "    .dataframe tbody tr th:only-of-type {\n",
       "        vertical-align: middle;\n",
       "    }\n",
       "\n",
       "    .dataframe tbody tr th {\n",
       "        vertical-align: top;\n",
       "    }\n",
       "\n",
       "    .dataframe thead th {\n",
       "        text-align: right;\n",
       "    }\n",
       "</style>\n",
       "<table border=\"1\" class=\"dataframe\">\n",
       "  <thead>\n",
       "    <tr style=\"text-align: right;\">\n",
       "      <th></th>\n",
       "      <th>a</th>\n",
       "      <th>b</th>\n",
       "      <th>c</th>\n",
       "      <th>d</th>\n",
       "    </tr>\n",
       "  </thead>\n",
       "  <tbody>\n",
       "    <tr>\n",
       "      <th>0</th>\n",
       "      <td>15</td>\n",
       "      <td>17</td>\n",
       "      <td>28</td>\n",
       "      <td>43</td>\n",
       "    </tr>\n",
       "    <tr>\n",
       "      <th>1</th>\n",
       "      <td>22</td>\n",
       "      <td>45</td>\n",
       "      <td>9</td>\n",
       "      <td>41</td>\n",
       "    </tr>\n",
       "    <tr>\n",
       "      <th>2</th>\n",
       "      <td>39</td>\n",
       "      <td>41</td>\n",
       "      <td>29</td>\n",
       "      <td>6</td>\n",
       "    </tr>\n",
       "    <tr>\n",
       "      <th>3</th>\n",
       "      <td>42</td>\n",
       "      <td>48</td>\n",
       "      <td>7</td>\n",
       "      <td>26</td>\n",
       "    </tr>\n",
       "    <tr>\n",
       "      <th>4</th>\n",
       "      <td>8</td>\n",
       "      <td>41</td>\n",
       "      <td>31</td>\n",
       "      <td>47</td>\n",
       "    </tr>\n",
       "  </tbody>\n",
       "</table>\n",
       "</div>"
      ],
      "text/plain": [
       "    a   b   c   d\n",
       "0  15  17  28  43\n",
       "1  22  45   9  41\n",
       "2  39  41  29   6\n",
       "3  42  48   7  26\n",
       "4   8  41  31  47"
      ]
     },
     "execution_count": 8,
     "metadata": {},
     "output_type": "execute_result"
    }
   ],
   "source": [
    "df.head()"
   ]
  },
  {
   "cell_type": "code",
   "execution_count": 9,
   "id": "e7b05f6e-0834-4814-81b4-00e1c7585a9a",
   "metadata": {},
   "outputs": [
    {
     "name": "stdout",
     "output_type": "stream",
     "text": [
      "663.7030336856842\n"
     ]
    }
   ],
   "source": [
    "start = time.time()\n",
    "\n",
    "# Iterating through DataFrame using iterrows\n",
    "for idx, row in df.iterrows():\n",
    "    # creating a new column\n",
    "    df.at[idx, \"ratio\"] = 100 * (row[\"d\"] / row[\"c\"])\n",
    "end = time.time()\n",
    "print(end - start)"
   ]
  },
  {
   "cell_type": "code",
   "execution_count": 10,
   "id": "87d82168-78b9-4300-b0e2-5c68f974864a",
   "metadata": {},
   "outputs": [
    {
     "name": "stdout",
     "output_type": "stream",
     "text": [
      "0.0639948844909668\n"
     ]
    }
   ],
   "source": [
    "start = time.time()\n",
    "df[\"ratio\"] = 100 * (df[\"d\"] / df[\"c\"])\n",
    "\n",
    "end = time.time()\n",
    "print(end - start)"
   ]
  },
  {
   "cell_type": "markdown",
   "id": "307692e5-fee4-4af1-8d87-2761f47695bb",
   "metadata": {},
   "source": [
    "# USE CASE 3: If-else Statements (on DataFrame)"
   ]
  },
  {
   "cell_type": "code",
   "execution_count": 11,
   "id": "8548124b-40bd-47fc-8234-a1d9568f8af6",
   "metadata": {},
   "outputs": [
    {
     "name": "stdout",
     "output_type": "stream",
     "text": [
      "732.77907538414\n"
     ]
    }
   ],
   "source": [
    "start = time.time()\n",
    "\n",
    "# Iterating through DataFrame using iterrows\n",
    "for idx, row in df.iterrows():\n",
    "    if row.a == 0:\n",
    "        df.at[idx, \"e\"] = row.d\n",
    "    elif (row.a <= 25) & (row.a > 0):\n",
    "        df.at[idx, \"e\"] = (row.b) - (row.c)\n",
    "    else:\n",
    "        df.at[idx, \"e\"] = row.b + row.c\n",
    "end = time.time()\n",
    "print(end - start)"
   ]
  },
  {
   "cell_type": "code",
   "execution_count": 13,
   "id": "0fd9bf65-99ab-46ba-b543-d2545d047f41",
   "metadata": {},
   "outputs": [
    {
     "name": "stdout",
     "output_type": "stream",
     "text": [
      "0.20899748802185059\n"
     ]
    }
   ],
   "source": [
    "start = time.time()\n",
    "df[\"e\"] = df[\"b\"] + df[\"c\"]\n",
    "df.loc[df[\"a\"] <= 25, \"e\"] = df[\"b\"] - df[\"c\"]\n",
    "df.loc[df[\"a\"] == 0, \"e\"] = df[\"d\"]\n",
    "end = time.time()\n",
    "print(end - start)"
   ]
  },
  {
   "cell_type": "markdown",
   "id": "e1ebfdbf-c123-4355-aaa2-87f13a772cf0",
   "metadata": {},
   "source": [
    "# USE CASE 4 (Advance): Solving Machine Learning/Deep Learning Networks"
   ]
  },
  {
   "cell_type": "code",
   "execution_count": 14,
   "id": "a6c7a016-9f0d-4f38-882f-12b431513cae",
   "metadata": {},
   "outputs": [],
   "source": [
    "# setting initial values of m\n",
    "m = np.random.rand(1, 5)\n",
    "\n",
    "# input values for 5 million rows\n",
    "x = np.random.rand(5000000, 5)"
   ]
  },
  {
   "cell_type": "code",
   "execution_count": 15,
   "id": "973b91b0-5512-4163-b3fa-7a831bd97378",
   "metadata": {},
   "outputs": [
    {
     "data": {
      "text/plain": [
       "array([[0.47318244, 0.96073868, 0.19688667, 0.74153901, 0.19356319]])"
      ]
     },
     "execution_count": 15,
     "metadata": {},
     "output_type": "execute_result"
    }
   ],
   "source": [
    "m"
   ]
  },
  {
   "cell_type": "code",
   "execution_count": 16,
   "id": "0e988386-4def-45dc-a21b-04106da1d156",
   "metadata": {},
   "outputs": [
    {
     "data": {
      "text/plain": [
       "array([[0.81624195, 0.55019938, 0.77697437, 0.5745752 , 0.50867909],\n",
       "       [0.98930764, 0.9059751 , 0.07546262, 0.42033559, 0.56390302],\n",
       "       [0.26157056, 0.36823057, 0.85534947, 0.1291754 , 0.4805555 ],\n",
       "       ...,\n",
       "       [0.53397642, 0.67850903, 0.20830354, 0.8302266 , 0.47389778],\n",
       "       [0.59569115, 0.36704131, 0.56475781, 0.406436  , 0.31412645],\n",
       "       [0.0029223 , 0.36978418, 0.87348796, 0.59194774, 0.01800727]])"
      ]
     },
     "execution_count": 16,
     "metadata": {},
     "output_type": "execute_result"
    }
   ],
   "source": [
    "x"
   ]
  },
  {
   "cell_type": "code",
   "execution_count": 18,
   "id": "fd5fbe0f-cc20-495a-a179-02a600f62025",
   "metadata": {},
   "outputs": [
    {
     "name": "stdout",
     "output_type": "stream",
     "text": [
      "Computation time = 17.359375seconds\n"
     ]
    }
   ],
   "source": [
    "total = 0\n",
    "tic = time.process_time()\n",
    "zer = []\n",
    "for i in range(0, 5000000):\n",
    "    total = 0\n",
    "    for j in range(0, 5):\n",
    "        total = total + x[i][j] * m[0][j]\n",
    "\n",
    "    zer.append(total)\n",
    "toc = time.process_time()\n",
    "print(\"Computation time = \" + str((toc - tic)) + \"seconds\")"
   ]
  },
  {
   "cell_type": "code",
   "execution_count": 19,
   "id": "de8dc458-dd09-4b25-b12c-da060425a41a",
   "metadata": {},
   "outputs": [
    {
     "name": "stdout",
     "output_type": "stream",
     "text": [
      "Computation time = 0.203125seconds\n"
     ]
    }
   ],
   "source": [
    "tic = time.process_time()\n",
    "\n",
    "# dot product\n",
    "np.dot(x, m.T)\n",
    "toc = time.process_time()\n",
    "print(\"Computation time = \" + str((toc - tic)) + \"seconds\")"
   ]
  },
  {
   "cell_type": "code",
   "execution_count": null,
   "id": "f116ace4-9e9d-448c-bd9e-4a578d84818f",
   "metadata": {},
   "outputs": [],
   "source": []
  }
 ],
 "metadata": {
  "kernelspec": {
   "display_name": "Python [conda env:ls_env]",
   "language": "python",
   "name": "conda-env-ls_env-py"
  },
  "language_info": {
   "codemirror_mode": {
    "name": "ipython",
    "version": 3
   },
   "file_extension": ".py",
   "mimetype": "text/x-python",
   "name": "python",
   "nbconvert_exporter": "python",
   "pygments_lexer": "ipython3",
   "version": "3.10.8"
  }
 },
 "nbformat": 4,
 "nbformat_minor": 5
}
