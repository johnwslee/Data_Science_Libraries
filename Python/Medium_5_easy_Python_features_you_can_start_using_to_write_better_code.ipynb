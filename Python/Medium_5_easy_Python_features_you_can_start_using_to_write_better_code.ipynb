{
 "cells": [
  {
   "cell_type": "markdown",
   "id": "8bfc0ec8-74f1-4a29-b4cc-010d16697046",
   "metadata": {},
   "source": [
    "# 1. Dataclasses help to remove the clutter"
   ]
  },
  {
   "cell_type": "code",
   "execution_count": 1,
   "id": "8943ebd5-6e8d-498a-839e-92b3660843f5",
   "metadata": {},
   "outputs": [],
   "source": [
    "students = [(\"Jack\", 168), (\"Zhou\", 172), (\"Emma\", 165), (\"Shan\", 170)]"
   ]
  },
  {
   "cell_type": "code",
   "execution_count": 2,
   "id": "3bb7e737-072c-475a-82d6-d02d1c2c3140",
   "metadata": {},
   "outputs": [],
   "source": [
    "import dataclasses\n",
    "\n",
    "\n",
    "@dataclasses.dataclass\n",
    "class Student:\n",
    "    name: str\n",
    "    height: int"
   ]
  },
  {
   "cell_type": "code",
   "execution_count": 3,
   "id": "4210bcc4-05e3-4b98-a9ef-ceee8fd67e58",
   "metadata": {},
   "outputs": [],
   "source": [
    "students = [\n",
    "    Student(name=\"Jack\", height=168),\n",
    "    Student(name=\"Zhou\", height=172),\n",
    "    Student(name=\"Emma\", height=165),\n",
    "    Student(name=\"Shan\", height=170),\n",
    "]"
   ]
  },
  {
   "cell_type": "code",
   "execution_count": 4,
   "id": "980ce1b9-630c-4754-98c8-89cffe36e0b2",
   "metadata": {},
   "outputs": [
    {
     "data": {
      "text/plain": [
       "'Jack'"
      ]
     },
     "execution_count": 4,
     "metadata": {},
     "output_type": "execute_result"
    }
   ],
   "source": [
    "students[0].name"
   ]
  },
  {
   "cell_type": "markdown",
   "id": "bcfe2f82-0f26-44c7-bc82-791ac81a015e",
   "metadata": {},
   "source": [
    "There’s many other cool things you can do with `dataclasses`. Such as,\n",
    "\n",
    "- Make objects immutable (By using `@dataclasses.dataclass(frozen=True)`\n",
    "- Defining getters and setters\n",
    "- Use of the `dataclasses.field` for additional support for an attribute\n",
    "- Convert to a dictionary (`.asdict()`) or tuple (`.astuple()`) for serialization and for compatibility reasons."
   ]
  },
  {
   "cell_type": "markdown",
   "id": "f9c550d5-0ae0-47e5-940a-3f025ec25c5c",
   "metadata": {},
   "source": [
    "# 2. Compare in Python with style"
   ]
  },
  {
   "cell_type": "code",
   "execution_count": 5,
   "id": "4320023f-4867-4b4e-9eb6-96e7d979ada0",
   "metadata": {},
   "outputs": [],
   "source": [
    "students = [(\"Jack\", 168), (\"Zhou\", 172), (\"Emma\", 165), (\"Shan\", 170)]\n",
    "sorted_heights = sorted(students, key=lambda x: x[1])"
   ]
  },
  {
   "cell_type": "code",
   "execution_count": 6,
   "id": "0032956e-cd53-4c48-8b3a-a554d5e524a7",
   "metadata": {},
   "outputs": [
    {
     "data": {
      "text/plain": [
       "[('Emma', 165), ('Jack', 168), ('Shan', 170), ('Zhou', 172)]"
      ]
     },
     "execution_count": 6,
     "metadata": {},
     "output_type": "execute_result"
    }
   ],
   "source": [
    "sorted_heights"
   ]
  },
  {
   "cell_type": "code",
   "execution_count": 7,
   "id": "1c58b06c-98c4-42a5-bc9f-07204b602c85",
   "metadata": {},
   "outputs": [],
   "source": [
    "students = [\n",
    "    Student(name=\"Jack\", height=168),\n",
    "    Student(name=\"Zhou\", height=172),\n",
    "    Student(name=\"Emma\", height=165),\n",
    "    Student(name=\"Shan\", height=170),\n",
    "]"
   ]
  },
  {
   "cell_type": "code",
   "execution_count": 8,
   "id": "3f182b3a-36e2-494b-93f4-620214d422d0",
   "metadata": {},
   "outputs": [],
   "source": [
    "sorted_heights = sorted(students, key=lambda x: x.height)"
   ]
  },
  {
   "cell_type": "code",
   "execution_count": 9,
   "id": "5333abbb-8dc0-4f88-9e30-10a81e113ca1",
   "metadata": {},
   "outputs": [
    {
     "data": {
      "text/plain": [
       "[Student(name='Emma', height=165),\n",
       " Student(name='Jack', height=168),\n",
       " Student(name='Shan', height=170),\n",
       " Student(name='Zhou', height=172)]"
      ]
     },
     "execution_count": 9,
     "metadata": {},
     "output_type": "execute_result"
    }
   ],
   "source": [
    "sorted_heights"
   ]
  },
  {
   "cell_type": "markdown",
   "id": "60b1c567-86ae-4e14-9b69-dbcc05b57934",
   "metadata": {},
   "source": [
    "# 3. Make defaultdict your default"
   ]
  },
  {
   "cell_type": "code",
   "execution_count": 10,
   "id": "9b41b646-312f-4f6e-82d6-6355e1205616",
   "metadata": {},
   "outputs": [],
   "source": [
    "stock_prices = [\n",
    "    (\"abc\", 95),\n",
    "    (\"foo\", 20),\n",
    "    (\"abc\", 100),\n",
    "    (\"abc\", 110),\n",
    "    (\"foo\", 18),\n",
    "    (\"foo\", 25),\n",
    "]"
   ]
  },
  {
   "cell_type": "code",
   "execution_count": 11,
   "id": "b766fe04-76e0-46f2-beee-f92626be0b51",
   "metadata": {},
   "outputs": [],
   "source": [
    "stock_price_dict = {}\n",
    "for code, price in stock_prices:\n",
    "    if code not in stock_price_dict:\n",
    "        stock_price_dict[code] = [price]\n",
    "    else:\n",
    "        stock_price_dict[code].append(price)"
   ]
  },
  {
   "cell_type": "code",
   "execution_count": 12,
   "id": "aee709a9-b7e9-4462-94c2-9f9ffe5139fb",
   "metadata": {},
   "outputs": [
    {
     "data": {
      "text/plain": [
       "{'abc': [95, 100, 110], 'foo': [20, 18, 25]}"
      ]
     },
     "execution_count": 12,
     "metadata": {},
     "output_type": "execute_result"
    }
   ],
   "source": [
    "stock_price_dict"
   ]
  },
  {
   "cell_type": "code",
   "execution_count": 13,
   "id": "61df8b9c-61bf-4255-8bb8-5506c3faca78",
   "metadata": {},
   "outputs": [],
   "source": [
    "from collections import defaultdict\n",
    "\n",
    "stock_price_dict = defaultdict(list)\n",
    "for code, price in stock_prices:\n",
    "    stock_price_dict[code].append(price)"
   ]
  },
  {
   "cell_type": "code",
   "execution_count": 14,
   "id": "5c99dd67-4635-46b0-b572-4e76e839adc0",
   "metadata": {},
   "outputs": [
    {
     "data": {
      "text/plain": [
       "defaultdict(list, {'abc': [95, 100, 110], 'foo': [20, 18, 25]})"
      ]
     },
     "execution_count": 14,
     "metadata": {},
     "output_type": "execute_result"
    }
   ],
   "source": [
    "stock_price_dict"
   ]
  },
  {
   "cell_type": "markdown",
   "id": "ffdcf16a-ee7e-47a1-8de1-ed52a04daf50",
   "metadata": {},
   "source": [
    "# 4. Say “I do” to the itertools"
   ]
  },
  {
   "cell_type": "markdown",
   "id": "be46d086-4cbd-42d7-98e6-0582a88a013e",
   "metadata": {},
   "source": [
    "`itertools` is a built-in Python library for performing advance iterating over data structures with easy."
   ]
  },
  {
   "cell_type": "markdown",
   "id": "abc40507-f9df-4a70-bd85-0624f29a3b74",
   "metadata": {},
   "source": [
    "You may have had times in your life, where you want to iterate multiple lists to create a single list. In Python you might do:"
   ]
  },
  {
   "cell_type": "code",
   "execution_count": 15,
   "id": "2fb923a0-51d6-44f3-84a9-c8ef11ebc30c",
   "metadata": {},
   "outputs": [],
   "source": [
    "student_list = [[\"Jack\", \"Mary\"], [\"Zhou\", \"Shan\"], [\"Emma\", \"Deepti\"]]\n",
    "all_students = []\n",
    "for students in student_list:\n",
    "    all_students.extend(students)"
   ]
  },
  {
   "cell_type": "code",
   "execution_count": 16,
   "id": "1fd805d4-94f2-49ea-b236-d68515cd2aaf",
   "metadata": {},
   "outputs": [
    {
     "data": {
      "text/plain": [
       "['Jack', 'Mary', 'Zhou', 'Shan', 'Emma', 'Deepti']"
      ]
     },
     "execution_count": 16,
     "metadata": {},
     "output_type": "execute_result"
    }
   ],
   "source": [
    "all_students"
   ]
  },
  {
   "cell_type": "markdown",
   "id": "9fdf1fc2-b77c-419d-a42b-257866b3d378",
   "metadata": {},
   "source": [
    "Would you believe that, with `itertools`, it is a one-liner?"
   ]
  },
  {
   "cell_type": "code",
   "execution_count": 17,
   "id": "428ec230-b5f5-401c-ae92-defd4137c24a",
   "metadata": {},
   "outputs": [],
   "source": [
    "import itertools\n",
    "\n",
    "all_students = list(itertools.chain.from_iterable(student_list))"
   ]
  },
  {
   "cell_type": "code",
   "execution_count": 18,
   "id": "6de3e00b-6460-4a7a-b6f4-e2a92e841960",
   "metadata": {},
   "outputs": [
    {
     "data": {
      "text/plain": [
       "['Jack', 'Mary', 'Zhou', 'Shan', 'Emma', 'Deepti']"
      ]
     },
     "execution_count": 18,
     "metadata": {},
     "output_type": "execute_result"
    }
   ],
   "source": [
    "all_students"
   ]
  },
  {
   "cell_type": "markdown",
   "id": "8297f770-71cc-4dc8-914a-94f2e7acc406",
   "metadata": {},
   "source": [
    "Say you want to remove students that are less than 170cm tall. With `itertools` that’s another one liner."
   ]
  },
  {
   "cell_type": "code",
   "execution_count": 19,
   "id": "8f9a78e9-61c2-4523-b231-e78345d953e5",
   "metadata": {},
   "outputs": [],
   "source": [
    "students = [\n",
    "    Student(name=\"Jack\", height=168),\n",
    "    Student(name=\"Zhou\", height=172),\n",
    "    Student(name=\"Emma\", height=165),\n",
    "    Student(name=\"Shan\", height=170),\n",
    "]\n",
    "\n",
    "above_170_students = list(itertools.dropwhile(lambda s: s.height < 170, students))"
   ]
  },
  {
   "cell_type": "code",
   "execution_count": 20,
   "id": "b4bc21c9-83ee-4b64-8d6f-471d0f105fac",
   "metadata": {},
   "outputs": [
    {
     "data": {
      "text/plain": [
       "[Student(name='Zhou', height=172),\n",
       " Student(name='Emma', height=165),\n",
       " Student(name='Shan', height=170)]"
      ]
     },
     "execution_count": 20,
     "metadata": {},
     "output_type": "execute_result"
    }
   ],
   "source": [
    "above_170_students"
   ]
  },
  {
   "cell_type": "markdown",
   "id": "91cef0d4-2560-4384-a97a-887ebf0cd1f0",
   "metadata": {},
   "source": [
    "There are many other useful functions such as `accumulate`, `islice`, `starmap`, etc. Use `itertools`, rather than reinventing the wheel that leads to unwieldy and inefficient code. By using `itertools` you get the added benefit of speed, as it has efficient CPython based implementation of its functionality underneath."
   ]
  },
  {
   "cell_type": "markdown",
   "id": "ce9249d8-cad2-4ae3-94b6-b57a486be391",
   "metadata": {},
   "source": [
    "# 5. Packing/Unpacking arguments"
   ]
  },
  {
   "cell_type": "code",
   "execution_count": 21,
   "id": "47069a36-6fb7-4f76-b105-0238c7d2c40b",
   "metadata": {},
   "outputs": [],
   "source": [
    "# f1 unpacks arguments\n",
    "def f1(a: str, b: str, c: str):\n",
    "    return \" \".join([a, b, c])\n",
    "\n",
    "\n",
    "# f1 packs all arguments to args\n",
    "def f2(*args):\n",
    "    return \" \".join(args)"
   ]
  },
  {
   "cell_type": "code",
   "execution_count": 22,
   "id": "aeac23f3-35e8-4a67-8ca6-f6e03e2cfa67",
   "metadata": {},
   "outputs": [
    {
     "data": {
      "text/plain": [
       "'I love Python'"
      ]
     },
     "execution_count": 22,
     "metadata": {},
     "output_type": "execute_result"
    }
   ],
   "source": [
    "f1(\"I\", \"love\", \"Python\")"
   ]
  },
  {
   "cell_type": "code",
   "execution_count": 23,
   "id": "f1934960-b1d4-45bf-9503-352bc36db2d3",
   "metadata": {},
   "outputs": [
    {
     "data": {
      "text/plain": [
       "'I love Python'"
      ]
     },
     "execution_count": 23,
     "metadata": {},
     "output_type": "execute_result"
    }
   ],
   "source": [
    "f2(\"I\", \"love\", \"Python\")"
   ]
  },
  {
   "cell_type": "code",
   "execution_count": 24,
   "id": "093833fe-1a67-4fa1-841b-67eef2bcf522",
   "metadata": {},
   "outputs": [
    {
     "data": {
      "text/plain": [
       "'I love Python and argument packing'"
      ]
     },
     "execution_count": 24,
     "metadata": {},
     "output_type": "execute_result"
    }
   ],
   "source": [
    "f2(\"I\", \"love\", \"Python\", \"and\", \"argument\", \"packing\")"
   ]
  },
  {
   "cell_type": "code",
   "execution_count": 25,
   "id": "600195bb-fd6c-41c2-b528-31df10ceee56",
   "metadata": {},
   "outputs": [],
   "source": [
    "def f3(**kwargs):\n",
    "    return \" \".join([f\"{k}={v}\" for k, v in kwargs.items()])"
   ]
  },
  {
   "cell_type": "code",
   "execution_count": 26,
   "id": "37423e8d-5231-4f6d-b1db-2f07187d9366",
   "metadata": {},
   "outputs": [],
   "source": [
    "def f2(text_list: list[str]):\n",
    "    return \" \".join(text_list)"
   ]
  },
  {
   "cell_type": "code",
   "execution_count": 27,
   "id": "1688b3b7-4b1d-4658-b1b7-1ee0791ff94d",
   "metadata": {},
   "outputs": [
    {
     "data": {
      "text/plain": [
       "'I love Python ...'"
      ]
     },
     "execution_count": 27,
     "metadata": {},
     "output_type": "execute_result"
    }
   ],
   "source": [
    "f2((\"I\", \"love\", \"Python\", \"...\"))"
   ]
  },
  {
   "cell_type": "markdown",
   "id": "6046d7d0-962b-470c-80a6-13526307a5a9",
   "metadata": {},
   "source": [
    "`zip()` is a real-life function that accepts an arbitrary number of iterables. It creates several new lists by taking the first item of each iterable, the second item from each iterable and so on. For the following example, `zip()` lets you interchange between the two formats;"
   ]
  },
  {
   "cell_type": "code",
   "execution_count": 28,
   "id": "70fdf4da-35ef-4a5c-b7db-9bd70bcb674f",
   "metadata": {},
   "outputs": [],
   "source": [
    "group1, group2 = zip((\"a1\", \"b1\"), (\"a2\", \"b2\"), (\"a3\", \"b3\"))"
   ]
  },
  {
   "cell_type": "code",
   "execution_count": 29,
   "id": "d2a1da38-6707-416f-920a-5da91b4b2e8a",
   "metadata": {},
   "outputs": [
    {
     "data": {
      "text/plain": [
       "('a1', 'a2', 'a3')"
      ]
     },
     "execution_count": 29,
     "metadata": {},
     "output_type": "execute_result"
    }
   ],
   "source": [
    "group1"
   ]
  },
  {
   "cell_type": "code",
   "execution_count": 30,
   "id": "af13d216-4d6a-4bfe-827f-1dc05b4e5687",
   "metadata": {},
   "outputs": [
    {
     "data": {
      "text/plain": [
       "('b1', 'b2', 'b3')"
      ]
     },
     "execution_count": 30,
     "metadata": {},
     "output_type": "execute_result"
    }
   ],
   "source": [
    "group2"
   ]
  },
  {
   "cell_type": "code",
   "execution_count": 31,
   "id": "289e6226-9b5c-4d2e-8112-1a7870e86837",
   "metadata": {},
   "outputs": [],
   "source": [
    "gr1, gr2, gr3 = zip((\"a1\", \"a2\", \"a3\"), (\"b1\", \"b2\", \"b3\"))"
   ]
  },
  {
   "cell_type": "code",
   "execution_count": 32,
   "id": "a27fa78a-8b95-4772-ba93-b275df27f7d4",
   "metadata": {},
   "outputs": [
    {
     "data": {
      "text/plain": [
       "('a1', 'b1')"
      ]
     },
     "execution_count": 32,
     "metadata": {},
     "output_type": "execute_result"
    }
   ],
   "source": [
    "gr1"
   ]
  },
  {
   "cell_type": "code",
   "execution_count": 33,
   "id": "11fdbcee-0935-457b-9361-cf343b808e73",
   "metadata": {},
   "outputs": [
    {
     "data": {
      "text/plain": [
       "('a2', 'b2')"
      ]
     },
     "execution_count": 33,
     "metadata": {},
     "output_type": "execute_result"
    }
   ],
   "source": [
    "gr2"
   ]
  },
  {
   "cell_type": "code",
   "execution_count": 34,
   "id": "afb3c39e-36fb-4061-a06b-2e62319c62f7",
   "metadata": {},
   "outputs": [
    {
     "data": {
      "text/plain": [
       "('a3', 'b3')"
      ]
     },
     "execution_count": 34,
     "metadata": {},
     "output_type": "execute_result"
    }
   ],
   "source": [
    "gr3"
   ]
  },
  {
   "cell_type": "code",
   "execution_count": 35,
   "id": "0e30cece-c76f-414a-a48c-d9c4c60f9073",
   "metadata": {},
   "outputs": [],
   "source": [
    "students = [(\"Jack\", 168), (\"Zhou\", 172), (\"Emma\", 165), (\"Shan\", 170)]\n",
    "sorted_students, _ = zip(*sorted(students, key=lambda x: x[1]))"
   ]
  },
  {
   "cell_type": "code",
   "execution_count": 36,
   "id": "1c05f3d6-f55c-40b7-9f32-2b7f667c4b01",
   "metadata": {},
   "outputs": [
    {
     "data": {
      "text/plain": [
       "('Emma', 'Jack', 'Shan', 'Zhou')"
      ]
     },
     "execution_count": 36,
     "metadata": {},
     "output_type": "execute_result"
    }
   ],
   "source": [
    "sorted_students"
   ]
  },
  {
   "cell_type": "code",
   "execution_count": 37,
   "id": "ea2daff8-536e-4417-879d-d1adde6f6231",
   "metadata": {},
   "outputs": [
    {
     "data": {
      "text/plain": [
       "(165, 168, 170, 172)"
      ]
     },
     "execution_count": 37,
     "metadata": {},
     "output_type": "execute_result"
    }
   ],
   "source": [
    "_"
   ]
  },
  {
   "cell_type": "code",
   "execution_count": null,
   "id": "24ecbe0d-0f28-46fd-9296-12919dcb885e",
   "metadata": {},
   "outputs": [],
   "source": []
  }
 ],
 "metadata": {
  "kernelspec": {
   "display_name": "Python [conda env:ls_env]",
   "language": "python",
   "name": "conda-env-ls_env-py"
  },
  "language_info": {
   "codemirror_mode": {
    "name": "ipython",
    "version": 3
   },
   "file_extension": ".py",
   "mimetype": "text/x-python",
   "name": "python",
   "nbconvert_exporter": "python",
   "pygments_lexer": "ipython3",
   "version": "3.10.8"
  }
 },
 "nbformat": 4,
 "nbformat_minor": 5
}
