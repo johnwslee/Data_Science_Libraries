{
 "cells": [
  {
   "cell_type": "markdown",
   "id": "9bdc55d1-97d3-4f92-b10f-964f2849972d",
   "metadata": {},
   "source": [
    "# 1) Tuple Unpacking + Tuple Unpacking With *"
   ]
  },
  {
   "cell_type": "code",
   "execution_count": 1,
   "id": "00b9394d-bc56-4418-b076-ae5547edcec3",
   "metadata": {},
   "outputs": [],
   "source": [
    "person = [\"bob\", 30, \"male\"]\n",
    "name, age, gender = person"
   ]
  },
  {
   "cell_type": "code",
   "execution_count": 2,
   "id": "e49e8827-720c-4f6b-9e45-728a5bb74c12",
   "metadata": {},
   "outputs": [
    {
     "data": {
      "text/plain": [
       "'bob'"
      ]
     },
     "execution_count": 2,
     "metadata": {},
     "output_type": "execute_result"
    }
   ],
   "source": [
    "name"
   ]
  },
  {
   "cell_type": "markdown",
   "id": "487d9a79-7130-44d4-9294-b3661c2b8230",
   "metadata": {},
   "source": [
    "^ we can use tuple unpacking to assign multiple variables at one go."
   ]
  },
  {
   "cell_type": "code",
   "execution_count": 3,
   "id": "f51c4b81-e6f8-47af-82f3-2a030cb39cd5",
   "metadata": {},
   "outputs": [],
   "source": [
    "fruits = [\"apple\", \"orange\", \"pear\", \"pineapple\", \"durian\", \"banana\"]"
   ]
  },
  {
   "cell_type": "code",
   "execution_count": 4,
   "id": "2a935e10-e33d-4313-8594-46ca0465ccf3",
   "metadata": {},
   "outputs": [],
   "source": [
    "first, second, *others = fruits"
   ]
  },
  {
   "cell_type": "markdown",
   "id": "49ec2536-fa19-43d2-88d9-4fa051259479",
   "metadata": {},
   "source": [
    "^ we can add `*` in front of variables to unpack everything else into that variable."
   ]
  },
  {
   "cell_type": "code",
   "execution_count": 5,
   "id": "603873f7-2554-4976-90c5-075153721d37",
   "metadata": {},
   "outputs": [
    {
     "data": {
      "text/plain": [
       "'apple'"
      ]
     },
     "execution_count": 5,
     "metadata": {},
     "output_type": "execute_result"
    }
   ],
   "source": [
    "first"
   ]
  },
  {
   "cell_type": "code",
   "execution_count": 6,
   "id": "25659856-825d-4670-b608-e0a05a88892e",
   "metadata": {},
   "outputs": [
    {
     "data": {
      "text/plain": [
       "['pear', 'pineapple', 'durian', 'banana']"
      ]
     },
     "execution_count": 6,
     "metadata": {},
     "output_type": "execute_result"
    }
   ],
   "source": [
    "others"
   ]
  },
  {
   "cell_type": "markdown",
   "id": "f0c341de-23ba-479c-8f68-8f8793f6cade",
   "metadata": {},
   "source": [
    "# 2) List Comprehension + Dict/Set Comprehension"
   ]
  },
  {
   "cell_type": "markdown",
   "id": "2b9d0a06-0941-41b6-bb6c-0704a733e6f5",
   "metadata": {},
   "source": [
    "`lis = [expression for i in iterable if condition]`"
   ]
  },
  {
   "cell_type": "code",
   "execution_count": 7,
   "id": "233fb5ce-8f3b-4746-89dc-ccb35911bec0",
   "metadata": {},
   "outputs": [
    {
     "data": {
      "text/plain": [
       "[1, 2, 3]"
      ]
     },
     "execution_count": 7,
     "metadata": {},
     "output_type": "execute_result"
    }
   ],
   "source": [
    "l1 = [i for i in range(1, 4)]\n",
    "l1"
   ]
  },
  {
   "cell_type": "code",
   "execution_count": 8,
   "id": "9bf50b26-ea26-40f0-bd51-f33cc68fd9db",
   "metadata": {},
   "outputs": [
    {
     "data": {
      "text/plain": [
       "[2, 4, 6]"
      ]
     },
     "execution_count": 8,
     "metadata": {},
     "output_type": "execute_result"
    }
   ],
   "source": [
    "l2 = [i * 2 for i in range(1, 4)]\n",
    "l2"
   ]
  },
  {
   "cell_type": "code",
   "execution_count": 9,
   "id": "9a5c4b17-a40f-4a56-8018-4810a2c1a865",
   "metadata": {},
   "outputs": [
    {
     "data": {
      "text/plain": [
       "[1, 4, 9]"
      ]
     },
     "execution_count": 9,
     "metadata": {},
     "output_type": "execute_result"
    }
   ],
   "source": [
    "l3 = [i**2 for i in range(1, 4)]\n",
    "l3"
   ]
  },
  {
   "cell_type": "code",
   "execution_count": 10,
   "id": "3e9885b1-483a-46aa-8c2e-c60eefef6a40",
   "metadata": {},
   "outputs": [
    {
     "data": {
      "text/plain": [
       "[1, 3]"
      ]
     },
     "execution_count": 10,
     "metadata": {},
     "output_type": "execute_result"
    }
   ],
   "source": [
    "l4 = [i for i in range(1, 4) if i % 2 == 1]\n",
    "l4"
   ]
  },
  {
   "cell_type": "markdown",
   "id": "1f70f4fd-e8b9-48ca-afd3-af733ea2d452",
   "metadata": {},
   "source": [
    "^ with list comprehension, we can create a custom list in one line of code."
   ]
  },
  {
   "cell_type": "code",
   "execution_count": 11,
   "id": "834b2641-2127-4a1a-9c29-eefae9fb931c",
   "metadata": {},
   "outputs": [
    {
     "data": {
      "text/plain": [
       "{1, 2, 3}"
      ]
     },
     "execution_count": 11,
     "metadata": {},
     "output_type": "execute_result"
    }
   ],
   "source": [
    "set1 = {i for i in range(1, 4)}\n",
    "set1"
   ]
  },
  {
   "cell_type": "code",
   "execution_count": 12,
   "id": "30ee4f51-594d-4411-a306-10c8e4f1c93a",
   "metadata": {},
   "outputs": [
    {
     "data": {
      "text/plain": [
       "{1: 1, 2: 4, 3: 9}"
      ]
     },
     "execution_count": 12,
     "metadata": {},
     "output_type": "execute_result"
    }
   ],
   "source": [
    "d1 = {i: i**2 for i in range(1, 4)}\n",
    "d1"
   ]
  },
  {
   "cell_type": "markdown",
   "id": "5c5108e3-2e04-4d7b-8997-1a4441957c91",
   "metadata": {},
   "source": [
    "^ set comprehension and dictionary comprehension can be used to create sets and dictionaries in the same way we create lists using list comprehensions."
   ]
  },
  {
   "cell_type": "markdown",
   "id": "da7ce9b7-9dfa-4750-b2d3-e48fd07bfa0b",
   "metadata": {},
   "source": [
    "# 3) Ternary operator"
   ]
  },
  {
   "cell_type": "code",
   "execution_count": 13,
   "id": "588fa801-c6c2-4a66-ae6d-c43a9e792111",
   "metadata": {},
   "outputs": [
    {
     "data": {
      "text/plain": [
       "'pass'"
      ]
     },
     "execution_count": 13,
     "metadata": {},
     "output_type": "execute_result"
    }
   ],
   "source": [
    "score = 57\n",
    "if score > 90:\n",
    "    grade = \"A*\"\n",
    "elif score > 50:\n",
    "    grade = \"pass\"\n",
    "else:\n",
    "    grade = \"fail\"\n",
    "\n",
    "grade"
   ]
  },
  {
   "cell_type": "markdown",
   "id": "56340fd2-e371-4381-aab5-516df7553189",
   "metadata": {},
   "source": [
    "^ a normal if-elif-else block"
   ]
  },
  {
   "cell_type": "code",
   "execution_count": 14,
   "id": "4937f6b3-2f08-46d5-b3c2-b9cc0c705254",
   "metadata": {},
   "outputs": [
    {
     "data": {
      "text/plain": [
       "'pass'"
      ]
     },
     "execution_count": 14,
     "metadata": {},
     "output_type": "execute_result"
    }
   ],
   "source": [
    "score = 57\n",
    "grade = \"A*\" if score > 90 else \"pass\" if score > 50 else \"fail\"\n",
    "\n",
    "grade"
   ]
  },
  {
   "cell_type": "markdown",
   "id": "907ae76a-f34e-4adf-af07-c7270fd96dd5",
   "metadata": {},
   "source": [
    "^ we can condense the if-elif-else block into ONE line using the ternary operator."
   ]
  },
  {
   "cell_type": "markdown",
   "id": "e4707009-d21d-49be-a5b0-244655b71a82",
   "metadata": {},
   "source": [
    "# 4) Magic Methods In Python Classes"
   ]
  },
  {
   "cell_type": "code",
   "execution_count": 15,
   "id": "04e03865-869f-404d-a1e5-2da43b5564b4",
   "metadata": {},
   "outputs": [],
   "source": [
    "class Dog:\n",
    "    def __init__(self, name, age):\n",
    "        self.name = name\n",
    "        self.age = age\n",
    "\n",
    "    def __str__(self):\n",
    "        return f\"Dog(name={self.name}, age={self.age})\"\n",
    "\n",
    "    def __gt__(self, otherDog):\n",
    "        return self.age > otherDog.age"
   ]
  },
  {
   "cell_type": "markdown",
   "id": "ec5f5b6c-e03b-4399-95f3-bdd290f8cf4c",
   "metadata": {},
   "source": [
    "^ apart from `__init__`, `__str__` and `__gt__` are magic methods that allow us to do special things with our Dog objects."
   ]
  },
  {
   "cell_type": "code",
   "execution_count": 16,
   "id": "52ab5d60-1749-492e-a6de-7ff4dcc48654",
   "metadata": {},
   "outputs": [
    {
     "name": "stdout",
     "output_type": "stream",
     "text": [
      "Dog(name=rocky, age=4)\n"
     ]
    }
   ],
   "source": [
    "dog = Dog(\"rocky\", 4)\n",
    "print(dog)"
   ]
  },
  {
   "cell_type": "markdown",
   "id": "d352ff6a-81ab-4efe-a581-9810dd19181f",
   "metadata": {},
   "source": [
    "^ the `__str__` magic method defines what is returned when we call `str(dog)`, which is called when we print the dog object."
   ]
  },
  {
   "cell_type": "code",
   "execution_count": 17,
   "id": "89ad04a2-b326-4e3c-9bf3-39d95ed4a0be",
   "metadata": {},
   "outputs": [
    {
     "name": "stdout",
     "output_type": "stream",
     "text": [
      "True\n"
     ]
    }
   ],
   "source": [
    "dog1 = Dog(\"rocky\", 4)\n",
    "dog2 = Dog(\"fifi\", 2)\n",
    "\n",
    "print(dog1 > dog2)"
   ]
  },
  {
   "cell_type": "markdown",
   "id": "cad394c1-a0ea-4eb5-ab67-69e527dbf679",
   "metadata": {},
   "source": [
    "^ the `__gt__` magic method defines what happens when we compare 2 dogs using the `>` operator."
   ]
  },
  {
   "cell_type": "markdown",
   "id": "f09dc639-6a44-476a-a46c-14c3d4eeb749",
   "metadata": {},
   "source": [
    "# 5) *args and **kwargs"
   ]
  },
  {
   "cell_type": "code",
   "execution_count": 18,
   "id": "2f464530-b092-41fd-aa57-ac37ccb49270",
   "metadata": {},
   "outputs": [
    {
     "name": "stdout",
     "output_type": "stream",
     "text": [
      "a=1 b=2 args=(3, 4, 5)\n"
     ]
    }
   ],
   "source": [
    "def test(a, b, *args):\n",
    "    print(f\"{a=} {b=} {args=}\")\n",
    "\n",
    "\n",
    "test(1, 2, 3, 4, 5)"
   ]
  },
  {
   "cell_type": "markdown",
   "id": "2e8fac52-6b2f-4801-98eb-266f92d7584d",
   "metadata": {},
   "source": [
    "^ `*args` allow our functions to take in any number of positional arguments (which will be stored in a tuple `args`)"
   ]
  },
  {
   "cell_type": "code",
   "execution_count": 19,
   "id": "61558de1-b089-4fb9-b7e5-fe729242a215",
   "metadata": {},
   "outputs": [
    {
     "name": "stdout",
     "output_type": "stream",
     "text": [
      "a=1 b=2 kwargs={'c': 3, 'd': 4}\n"
     ]
    }
   ],
   "source": [
    "def test(a, b, **kwargs):\n",
    "    print(f\"{a=} {b=} {kwargs=}\")\n",
    "\n",
    "\n",
    "test(a=1, b=2, c=3, d=4)"
   ]
  },
  {
   "cell_type": "markdown",
   "id": "e591192c-3d48-4fa6-a7d0-6ae342242258",
   "metadata": {},
   "source": [
    "^ `**kwargs` allow our functions to take in any number of keyword arguments (which will be stored in a dict `kwargs`)"
   ]
  },
  {
   "cell_type": "code",
   "execution_count": 20,
   "id": "2cec09ca-e764-4639-8996-a51a07b54162",
   "metadata": {},
   "outputs": [
    {
     "name": "stdout",
     "output_type": "stream",
     "text": [
      "a=1 b=2 args=(3, 4, 5) kwargs={'c': 6, 'd': 7}\n"
     ]
    }
   ],
   "source": [
    "def test(a, b, *args, **kwargs):\n",
    "    print(f\"{a=} {b=} {args=} {kwargs=}\")\n",
    "\n",
    "\n",
    "test(1, 2, 3, 4, 5, c=6, d=7)"
   ]
  },
  {
   "cell_type": "markdown",
   "id": "3333e4df-4b0c-440b-a1a1-33bdb5d1c6a0",
   "metadata": {},
   "source": [
    "# 6) Working with multiple .py files"
   ]
  },
  {
   "cell_type": "code",
   "execution_count": 21,
   "id": "9678fa7b-cc36-4fba-a3da-0808baba1dda",
   "metadata": {},
   "outputs": [],
   "source": [
    "# helper.py\n",
    "def test123():\n",
    "    print(\"test123 is called\")"
   ]
  },
  {
   "cell_type": "code",
   "execution_count": 22,
   "id": "29770f9c-eaac-45aa-a745-26b618d3f88a",
   "metadata": {},
   "outputs": [
    {
     "name": "stdout",
     "output_type": "stream",
     "text": [
      "test123 is called\n"
     ]
    }
   ],
   "source": [
    "# main.py\n",
    "from helper import test123\n",
    "\n",
    "test123()  # test123 is called"
   ]
  },
  {
   "cell_type": "markdown",
   "id": "f104cfab-a719-4ca5-a7e3-a883a8c578e1",
   "metadata": {},
   "source": [
    "When you get a job as a software engineer, you WILL work on projects with many many many different files. Do get familiar early with how to import functions from other files."
   ]
  },
  {
   "cell_type": "markdown",
   "id": "57843212-c82a-468e-a2ce-e67fa37b973d",
   "metadata": {},
   "source": [
    "# 7) `if __name__ == ‘__main__’`"
   ]
  },
  {
   "cell_type": "code",
   "execution_count": 23,
   "id": "cc45a68f-78c5-460c-a284-9404bfdfa3dd",
   "metadata": {},
   "outputs": [
    {
     "name": "stdout",
     "output_type": "stream",
     "text": [
      "print statement from helper.py\n"
     ]
    }
   ],
   "source": [
    "# helper.py\n",
    "def test123():\n",
    "    print(\"test123 is called\")\n",
    "\n",
    "\n",
    "if __name__ == \"__main__\":\n",
    "    # this line only runs if we run helper.py DIRECTLY\n",
    "    print(\"print statement from helper.py\")"
   ]
  },
  {
   "cell_type": "code",
   "execution_count": 24,
   "id": "0c227dca-0dc8-4047-8333-fae456b06f33",
   "metadata": {},
   "outputs": [
    {
     "name": "stdout",
     "output_type": "stream",
     "text": [
      "test123 is called\n"
     ]
    }
   ],
   "source": [
    "# main.py\n",
    "from helper import *\n",
    "\n",
    "test123()"
   ]
  },
  {
   "cell_type": "code",
   "execution_count": 25,
   "id": "34ec464e-b953-4b64-afab-445f858e6114",
   "metadata": {},
   "outputs": [
    {
     "name": "stdout",
     "output_type": "stream",
     "text": [
      "print statement from helper.py\n"
     ]
    }
   ],
   "source": [
    "%run -i \"helper.py\""
   ]
  },
  {
   "cell_type": "markdown",
   "id": "8c1fc7c4-9102-482b-8246-43444ef4fd18",
   "metadata": {},
   "source": [
    "^ the line `if __name__ == '__main__'` evaluates to True in a .py file only if we run the .py file directly. We use this line so that we don’t accidentally run lines of code that we don’t intend to run."
   ]
  },
  {
   "cell_type": "markdown",
   "id": "f3e01f1e-ae0a-40e9-a94c-412961ed0087",
   "metadata": {},
   "source": [
    "# 8) Truthy & falsy values"
   ]
  },
  {
   "cell_type": "code",
   "execution_count": 26,
   "id": "b9e6df09-0616-4f79-aad0-f7897734205d",
   "metadata": {},
   "outputs": [],
   "source": [
    "# 0 if falsy, and evaluates to False\n",
    "if 0:\n",
    "    print(\"this wont print\")"
   ]
  },
  {
   "cell_type": "code",
   "execution_count": 27,
   "id": "f47c43ae-1a88-4cb8-81a5-741221316886",
   "metadata": {},
   "outputs": [
    {
     "name": "stdout",
     "output_type": "stream",
     "text": [
      "this prints\n",
      "this prints\n",
      "this prints\n",
      "this prints\n",
      "this prints\n"
     ]
    }
   ],
   "source": [
    "# non-zero numbers are truthy, and evaluate to True\n",
    "if 1:\n",
    "    print(\"this prints\")\n",
    "if 2:\n",
    "    print(\"this prints\")\n",
    "if 100:\n",
    "    print(\"this prints\")\n",
    "if -1:\n",
    "    print(\"this prints\")\n",
    "if 3.14:\n",
    "    print(\"this prints\")"
   ]
  },
  {
   "cell_type": "code",
   "execution_count": 28,
   "id": "bba9b381-b781-4155-a088-3d5d26fdbb90",
   "metadata": {},
   "outputs": [],
   "source": [
    "# empty sequences are falsy, and evaluate to False\n",
    "if \"\":\n",
    "    print(\"this wont print\")\n",
    "if []:\n",
    "    print(\"this wont print\")\n",
    "if {}:\n",
    "    print(\"this wont print\")\n",
    "if set():\n",
    "    print(\"this wont print\")"
   ]
  },
  {
   "cell_type": "code",
   "execution_count": 29,
   "id": "215ab974-6ab6-45d2-b93e-d5a8691dadca",
   "metadata": {},
   "outputs": [
    {
     "name": "stdout",
     "output_type": "stream",
     "text": [
      "this prints\n",
      "this prints\n",
      "this prints\n",
      "this prints\n"
     ]
    }
   ],
   "source": [
    "# non-empty sequences are truthy, and evaluate to True\n",
    "if \"a\":\n",
    "    print(\"this prints\")\n",
    "if [1]:\n",
    "    print(\"this prints\")\n",
    "if {2: 3}:\n",
    "    print(\"this prints\")\n",
    "if {1, 2}:\n",
    "    print(\"this prints\")"
   ]
  },
  {
   "cell_type": "code",
   "execution_count": 30,
   "id": "8121481a-5399-4c60-bc07-44ce782a33c5",
   "metadata": {},
   "outputs": [],
   "source": [
    "# None is falsy, and evaluates to False\n",
    "obj = None\n",
    "if obj:\n",
    "    print(\"this wont print\")"
   ]
  },
  {
   "cell_type": "code",
   "execution_count": 31,
   "id": "75f5841a-cc11-4164-b882-b4e8fd5db7cf",
   "metadata": {},
   "outputs": [
    {
     "name": "stdout",
     "output_type": "stream",
     "text": [
      "this prints\n"
     ]
    }
   ],
   "source": [
    "# objects are truthy, and evaluates to True\n",
    "obj = Dog(\"lucky\", 7)\n",
    "if obj:\n",
    "    print(\"this prints\")"
   ]
  },
  {
   "cell_type": "markdown",
   "id": "181343a0-0d16-45ae-9c47-67b057ec4f75",
   "metadata": {},
   "source": [
    "# 9) `break` vs `continue` vs `pass`"
   ]
  },
  {
   "cell_type": "code",
   "execution_count": 32,
   "id": "81740e8f-fbb7-45a0-802e-fabc7a8d7d88",
   "metadata": {},
   "outputs": [
    {
     "name": "stdout",
     "output_type": "stream",
     "text": [
      "1\n",
      "2\n"
     ]
    }
   ],
   "source": [
    "for i in [1, 2, 3, 4, 5]:\n",
    "    if i == 3:\n",
    "        break\n",
    "    print(i)"
   ]
  },
  {
   "cell_type": "markdown",
   "id": "cffad74b-b90e-4447-9e8f-7115b914ba8e",
   "metadata": {},
   "source": [
    "^ `break` stops the for/while loop entirely. No other iteration happens."
   ]
  },
  {
   "cell_type": "code",
   "execution_count": 33,
   "id": "360fe6d2-3774-4ca9-996f-2b64a48f3a28",
   "metadata": {},
   "outputs": [
    {
     "name": "stdout",
     "output_type": "stream",
     "text": [
      "1\n",
      "2\n",
      "4\n",
      "5\n"
     ]
    }
   ],
   "source": [
    "for i in [1, 2, 3, 4, 5]:\n",
    "    if i == 3:\n",
    "        continue\n",
    "    print(i)"
   ]
  },
  {
   "cell_type": "markdown",
   "id": "19142321-27e3-49fd-962b-b78c4e299faa",
   "metadata": {},
   "source": [
    "^ `continue` skips ONE iteration. Other iterations still happen afterwards."
   ]
  },
  {
   "cell_type": "code",
   "execution_count": 34,
   "id": "ee446b35-6c5b-46a3-b356-d3a51fdbe7ed",
   "metadata": {},
   "outputs": [
    {
     "name": "stdout",
     "output_type": "stream",
     "text": [
      "1\n",
      "2\n",
      "3\n",
      "4\n",
      "5\n"
     ]
    }
   ],
   "source": [
    "for i in [1, 2, 3, 4, 5]:\n",
    "    if i == 3:\n",
    "        pass\n",
    "    print(i)"
   ]
  },
  {
   "cell_type": "markdown",
   "id": "a9a3e268-25c4-4030-a7af-b02513ca5d9c",
   "metadata": {},
   "source": [
    "^ `pass` does absolutely nothing."
   ]
  },
  {
   "cell_type": "markdown",
   "id": "9ae510f6-f59f-425a-acad-5f9383294cad",
   "metadata": {},
   "source": [
    "# 10) try except finally blocks"
   ]
  },
  {
   "cell_type": "code",
   "execution_count": 35,
   "id": "f257c732-40c5-487b-9874-49a8f98c1d4f",
   "metadata": {},
   "outputs": [
    {
     "name": "stdout",
     "output_type": "stream",
     "text": [
      "Something is wrong with the code\n",
      "End of Codes\n"
     ]
    }
   ],
   "source": [
    "try:\n",
    "    # risky code that could cause exceptions\n",
    "    answer = 10 / 0\n",
    "    print(answer)\n",
    "except:\n",
    "    # this block executes if an exception happens in the try block\n",
    "    print(\"Something is wrong with the code\")\n",
    "finally:\n",
    "    # stuff here will ALWAYS execute\n",
    "    print(\"End of Codes\")"
   ]
  },
  {
   "cell_type": "code",
   "execution_count": 36,
   "id": "783c7f51-6e6a-4f13-8e32-a50c2b61754d",
   "metadata": {},
   "outputs": [
    {
     "name": "stdout",
     "output_type": "stream",
     "text": [
      "5.0\n",
      "End of Codes\n"
     ]
    }
   ],
   "source": [
    "try:\n",
    "    # risky code that could cause exceptions\n",
    "    answer = 10 / 2\n",
    "    print(answer)\n",
    "except:\n",
    "    # this block executes if an exception happens in the try block\n",
    "    print(\"Something is wrong with the code\")\n",
    "finally:\n",
    "    # stuff here will ALWAYS execute\n",
    "    print(\"End of Codes\")"
   ]
  },
  {
   "cell_type": "markdown",
   "id": "325a4a74-19ed-4bf1-b848-3494edb1d314",
   "metadata": {},
   "source": [
    "^ try-except-finally blocks allow us to handle stuff when errors and exceptions happen in our code (instead of just crashing)"
   ]
  },
  {
   "cell_type": "markdown",
   "id": "a210ca14-0a93-4c43-b1f2-859e5f6b8459",
   "metadata": {},
   "source": [
    "# 11) Python Web API building libraries"
   ]
  },
  {
   "cell_type": "markdown",
   "id": "085256c8-c424-4667-beee-ee7352835c32",
   "metadata": {},
   "source": [
    "Some easy-to-learn libraries in Python:\n",
    "\n",
    "- Python FastAPI — this allows us to build APIs very easily\n",
    "- Python Flask — we can build APIs using Flask too, and even simple web applications"
   ]
  },
  {
   "cell_type": "markdown",
   "id": "d0989f38-8d62-4d3f-90b9-5d7cc8281119",
   "metadata": {},
   "source": [
    "# 12) Decorators"
   ]
  },
  {
   "cell_type": "code",
   "execution_count": 37,
   "id": "48705cbe-8d94-4b4b-a901-3920d2e4c381",
   "metadata": {},
   "outputs": [],
   "source": [
    "def add_exclamation_mark(your_function):\n",
    "    def inner(*args, **kwargs):\n",
    "        return your_function(*args, **kwargs) + \"!\"\n",
    "\n",
    "    return inner"
   ]
  },
  {
   "cell_type": "code",
   "execution_count": 38,
   "id": "4470c54f-e572-4604-adad-b2f15a38db25",
   "metadata": {},
   "outputs": [],
   "source": [
    "@add_exclamation_mark\n",
    "def greet(name):\n",
    "    return f\"hello {name}\""
   ]
  },
  {
   "cell_type": "markdown",
   "id": "e5dc34a6-c4c4-47a7-93a1-92ccdb06b40b",
   "metadata": {},
   "source": [
    "Decorators are functions that 1) take in another function 2) tweak how the functio works and 3) return another function. When we put `@add_exclamation_mark` above the `greet` function, we are actually decorating the `greet` function, and changing how the `greet` function works."
   ]
  },
  {
   "cell_type": "code",
   "execution_count": 39,
   "id": "154cef0c-342a-4d2a-800d-8a4351e2b351",
   "metadata": {},
   "outputs": [
    {
     "name": "stdout",
     "output_type": "stream",
     "text": [
      "hello tim!\n"
     ]
    }
   ],
   "source": [
    "print(greet(\"tim\"))"
   ]
  },
  {
   "cell_type": "markdown",
   "id": "b0e919bf-0b7e-4a47-a82b-0256b1a32d93",
   "metadata": {},
   "source": [
    "^ what happens when we call the decorated `greet` function. Due to our decorator, our `greet` function behaves differently, and now has an additional `!` after its returned value."
   ]
  },
  {
   "cell_type": "markdown",
   "id": "c8b9c6d0-2c88-4d44-9679-efb46e37fbb8",
   "metadata": {},
   "source": [
    "# 13) Generators + the `yield` Keyword"
   ]
  },
  {
   "cell_type": "code",
   "execution_count": 40,
   "id": "1378ada4-ab84-4d33-bfc0-5d0b212cf38a",
   "metadata": {},
   "outputs": [
    {
     "name": "stdout",
     "output_type": "stream",
     "text": [
      "apple\n",
      "orange\n",
      "pear\n"
     ]
    }
   ],
   "source": [
    "def simple_generator():\n",
    "    yield \"apple\"\n",
    "    yield \"orange\"\n",
    "    yield \"pear\"\n",
    "\n",
    "\n",
    "for fruit in simple_generator():\n",
    "    print(fruit)"
   ]
  },
  {
   "cell_type": "markdown",
   "id": "63b53a96-9273-4d84-aad6-da820ee1d6be",
   "metadata": {},
   "source": [
    "The `yield` keyword is like the `return` keyword. Except that the function does not stop completely after yielding something.\n",
    "\n",
    "A function that contains the `yield` keyword becomes a generator function, and can have multiple outputs (the stuff that are yielded)."
   ]
  },
  {
   "cell_type": "markdown",
   "id": "c778909c-d007-4740-84bb-aba2f372efab",
   "metadata": {},
   "source": [
    "# 14) Method chaining"
   ]
  },
  {
   "cell_type": "code",
   "execution_count": 41,
   "id": "b489fe39-6e0c-4f38-92e4-cc844cfbe7b6",
   "metadata": {},
   "outputs": [
    {
     "data": {
      "text/plain": [
       "['apple', 'orange', 'pear']"
      ]
     },
     "execution_count": 41,
     "metadata": {},
     "output_type": "execute_result"
    }
   ],
   "source": [
    "s = \" APPLE ORANGE PEAR \"\n",
    "s = s.strip()  # s is now 'APPLE ORANGE PEAR'\n",
    "s = s.lower()  # s is now 'apple orange pear'\n",
    "s = s.split()  # s is now ['apple', 'orange', 'pear']\n",
    "s"
   ]
  },
  {
   "cell_type": "markdown",
   "id": "6076d757-27b2-4c8f-8d35-94cdc14f44a7",
   "metadata": {},
   "source": [
    "^ some generic code to clean a string."
   ]
  },
  {
   "cell_type": "code",
   "execution_count": 42,
   "id": "892d3d5c-b0ec-45ba-89d6-3825e7ec680c",
   "metadata": {},
   "outputs": [
    {
     "data": {
      "text/plain": [
       "['apple', 'orange', 'pear']"
      ]
     },
     "execution_count": 42,
     "metadata": {},
     "output_type": "execute_result"
    }
   ],
   "source": [
    "s = \" APPLE ORANGE PEAR \"\n",
    "s = s.strip().lower().split()\n",
    "s"
   ]
  },
  {
   "cell_type": "markdown",
   "id": "dbb17f54-63c5-4985-aa98-47730f7f1e4f",
   "metadata": {},
   "source": [
    "^ we can chain multiple methods together in one line to save ourselves a few lines of code."
   ]
  },
  {
   "cell_type": "markdown",
   "id": "f6df6c76-7ce6-4ee4-80ea-71a61bffc03d",
   "metadata": {},
   "source": [
    "# 15) Basic machine learning — regression & classification"
   ]
  },
  {
   "cell_type": "markdown",
   "id": "41f2f97e-4e0d-4db8-a81d-65bbabcf4324",
   "metadata": {},
   "source": [
    "Machine learning is a huge huge field, but we usually start with supervised learning — more specifically, classification and regression. As a starter kit, do check out `scikit-learn`, a Python library that does all the machine learning code for you, and allows you to simply use their functions and classes."
   ]
  },
  {
   "cell_type": "markdown",
   "id": "3d1e5710-396c-41a5-b12e-5a9eb962cebc",
   "metadata": {},
   "source": [
    "# 16) Basic Data Structures & Algorithms"
   ]
  },
  {
   "cell_type": "markdown",
   "id": "285c571b-9f7b-497d-b94b-b7ce35c9aa0d",
   "metadata": {},
   "source": [
    "After going through countless coding interviews for internships and full-time positions, I realised how important this step is. Most if not all of the coding interviews required the interviewee to be decently competent in this area.\n",
    "\n",
    "I have unfortunately screwed up quite a few coding interviews at big-name companies just because I didn’t practice enough, which probably cost me quite a few excellent internships.\n",
    "\n",
    "If you’re interviewing soon or currently, and think that you can wing the interview because you’re good, DON’T. PRACTICE your data structures and algorithms. Take it from someone who made the same mistake years ago.\n",
    "\n",
    "The earlier you start practicing these coding interview questions, the better you get at them, and the better the opportunities you get."
   ]
  },
  {
   "cell_type": "markdown",
   "id": "4a83ba20-e0ae-472d-92f6-c98e5bda93bd",
   "metadata": {},
   "source": [
    "# 17) Different data structures & when to use them"
   ]
  },
  {
   "cell_type": "markdown",
   "id": "26943051-3661-41a2-bd97-8d44bdfdfefc",
   "metadata": {},
   "source": [
    "Python has a couple of built-in data structures"
   ]
  },
  {
   "cell_type": "code",
   "execution_count": 43,
   "id": "71b4bb75-4e20-4a5a-a88c-5bb0ea931485",
   "metadata": {},
   "outputs": [],
   "source": [
    "# ordered collection of elements\n",
    "list1 = [1, 2, 3]\n",
    "\n",
    "# an immutable list. we can use this as a dict key\n",
    "tuple1 = (1, 2, 3)\n",
    "\n",
    "# O(1) when accessing a value using a key\n",
    "dict1 = {\"apple\": 4, \"orange\": 5}\n",
    "\n",
    "# unordered collection containing only unique elements\n",
    "# O(1) when checking if element exists inside a set\n",
    "set1 = {1, 2, 3}\n",
    "\n",
    "# an immutable set. we can use this as a dict key\n",
    "frozenset1 = frozenset({1, 2, 3})"
   ]
  },
  {
   "cell_type": "markdown",
   "id": "84b72297-fb50-41dd-a49c-7acaa4365d00",
   "metadata": {},
   "source": [
    "# 18) Lambda functions"
   ]
  },
  {
   "cell_type": "code",
   "execution_count": 44,
   "id": "94f55529-a18e-4082-90e8-260a417bbfa5",
   "metadata": {},
   "outputs": [],
   "source": [
    "def add(x, y):\n",
    "    return x + y\n",
    "\n",
    "\n",
    "# this is the same as\n",
    "\n",
    "add = lambda x, y: x + y"
   ]
  },
  {
   "cell_type": "code",
   "execution_count": 45,
   "id": "8ced1650-2e75-451a-be89-42c72e1b81c2",
   "metadata": {},
   "outputs": [
    {
     "data": {
      "text/plain": [
       "3"
      ]
     },
     "execution_count": 45,
     "metadata": {},
     "output_type": "execute_result"
    }
   ],
   "source": [
    "add(1, 2)"
   ]
  },
  {
   "cell_type": "markdown",
   "id": "3609a31d-7e19-4b89-860d-362c720997be",
   "metadata": {},
   "source": [
    "^ lambda functions are simply normal functions, but written using a different syntax. More examples:"
   ]
  },
  {
   "cell_type": "code",
   "execution_count": 46,
   "id": "0f8a4629-8bc7-4e49-ae9c-0132a3adc79e",
   "metadata": {},
   "outputs": [],
   "source": [
    "def test():\n",
    "    return \"hello\"\n",
    "\n",
    "\n",
    "# this is the same as\n",
    "\n",
    "test = lambda: \"hello\""
   ]
  },
  {
   "cell_type": "code",
   "execution_count": 47,
   "id": "4b3ba872-c44f-4f63-b4ec-35ee26c06b86",
   "metadata": {},
   "outputs": [
    {
     "data": {
      "text/plain": [
       "'hello'"
      ]
     },
     "execution_count": 47,
     "metadata": {},
     "output_type": "execute_result"
    }
   ],
   "source": [
    "test()"
   ]
  },
  {
   "cell_type": "code",
   "execution_count": 48,
   "id": "2aabbd92-5668-4a9d-a5a4-aca7c295196a",
   "metadata": {},
   "outputs": [],
   "source": [
    "def test2(a, b, c, d):\n",
    "    return (a + b) / (c - d)\n",
    "\n",
    "\n",
    "# this is the same as\n",
    "\n",
    "test2 = lambda a, b, c, d: (a + b) / (c - d)"
   ]
  },
  {
   "cell_type": "code",
   "execution_count": 49,
   "id": "1b66205e-754e-482f-be42-eadfe0aa5344",
   "metadata": {},
   "outputs": [
    {
     "data": {
      "text/plain": [
       "-3.0"
      ]
     },
     "execution_count": 49,
     "metadata": {},
     "output_type": "execute_result"
    }
   ],
   "source": [
    "test2(1, 2, 3, 4)"
   ]
  },
  {
   "cell_type": "markdown",
   "id": "3fd96ee3-54dc-45b4-91fb-6f555ee44527",
   "metadata": {},
   "source": [
    "# 19) `assert` + `raise` + `custom` exceptions"
   ]
  },
  {
   "cell_type": "code",
   "execution_count": 50,
   "id": "63d568fe-984a-421c-baa1-4e5f8efbb7df",
   "metadata": {},
   "outputs": [],
   "source": [
    "assert score <= 100\n",
    "# ensuring that score cannot be above 100."
   ]
  },
  {
   "cell_type": "markdown",
   "id": "cb930183-4123-4fde-962d-366281312165",
   "metadata": {},
   "source": [
    "^ the `assert` keyword allows us to conduct a *sanity test* in the middle of our code. If score > 100, an AssertionError is raised, and our program crashes forcefully."
   ]
  },
  {
   "cell_type": "code",
   "execution_count": 51,
   "id": "0689a722-3f04-4ef8-a317-7f9f9f4e4975",
   "metadata": {},
   "outputs": [],
   "source": [
    "score = 110"
   ]
  },
  {
   "cell_type": "code",
   "execution_count": 52,
   "id": "accf60d2-4001-4859-9511-ef161da460b3",
   "metadata": {},
   "outputs": [
    {
     "ename": "Exception",
     "evalue": "score cannot be higher than 100",
     "output_type": "error",
     "traceback": [
      "\u001b[1;31m---------------------------------------------------------------------------\u001b[0m",
      "\u001b[1;31mException\u001b[0m                                 Traceback (most recent call last)",
      "Cell \u001b[1;32mIn[52], line 2\u001b[0m\n\u001b[0;32m      1\u001b[0m \u001b[38;5;28;01mif\u001b[39;00m score \u001b[38;5;241m>\u001b[39m \u001b[38;5;241m100\u001b[39m:\n\u001b[1;32m----> 2\u001b[0m     \u001b[38;5;28;01mraise\u001b[39;00m \u001b[38;5;167;01mException\u001b[39;00m(\u001b[38;5;124m\"\u001b[39m\u001b[38;5;124mscore cannot be higher than 100\u001b[39m\u001b[38;5;124m\"\u001b[39m)\n\u001b[0;32m      3\u001b[0m \u001b[38;5;66;03m# ensuring that score cannot be above 100.\u001b[39;00m\n",
      "\u001b[1;31mException\u001b[0m: score cannot be higher than 100"
     ]
    }
   ],
   "source": [
    "if score > 100:\n",
    "    raise Exception(\"score cannot be higher than 100\")\n",
    "# ensuring that score cannot be above 100."
   ]
  },
  {
   "cell_type": "markdown",
   "id": "1e123830-fb56-442a-a6c7-00fffa312645",
   "metadata": {},
   "source": [
    "^ the `raise` keyword allows us to forcefully cause an Exception (we can customize the message in the Exeption too)"
   ]
  },
  {
   "cell_type": "code",
   "execution_count": 53,
   "id": "bd6e9bba-ac49-498e-a5cc-e7812e83323f",
   "metadata": {},
   "outputs": [
    {
     "ename": "ScoreException",
     "evalue": "score cannot be higher than 100",
     "output_type": "error",
     "traceback": [
      "\u001b[1;31m---------------------------------------------------------------------------\u001b[0m",
      "\u001b[1;31mScoreException\u001b[0m                            Traceback (most recent call last)",
      "Cell \u001b[1;32mIn[53], line 7\u001b[0m\n\u001b[0;32m      3\u001b[0m         \u001b[38;5;28msuper\u001b[39m()\u001b[38;5;241m.\u001b[39m\u001b[38;5;21m__init__\u001b[39m(\u001b[38;5;124m\"\u001b[39m\u001b[38;5;124mscore cannot be higher than 100\u001b[39m\u001b[38;5;124m\"\u001b[39m)\n\u001b[0;32m      6\u001b[0m \u001b[38;5;28;01mif\u001b[39;00m score \u001b[38;5;241m>\u001b[39m \u001b[38;5;241m100\u001b[39m:\n\u001b[1;32m----> 7\u001b[0m     \u001b[38;5;28;01mraise\u001b[39;00m ScoreException()\n",
      "\u001b[1;31mScoreException\u001b[0m: score cannot be higher than 100"
     ]
    }
   ],
   "source": [
    "class ScoreException(Exception):\n",
    "    def __init__(self):\n",
    "        super().__init__(\"score cannot be higher than 100\")\n",
    "\n",
    "\n",
    "if score > 100:\n",
    "    raise ScoreException()"
   ]
  },
  {
   "cell_type": "markdown",
   "id": "02884431-5e33-40ec-8d2f-c1adc9e28afe",
   "metadata": {},
   "source": [
    "^ we can also create our own Exception types by *inheriting from* the Exception class."
   ]
  },
  {
   "cell_type": "markdown",
   "id": "78cdcec4-4590-44b5-9e23-4b49fe32a7d6",
   "metadata": {},
   "source": [
    "# 20) Multiprocessing in Python"
   ]
  },
  {
   "cell_type": "markdown",
   "id": "568569a3-5411-4cda-bcbd-ceccfc67a1a0",
   "metadata": {},
   "source": [
    "The built-in `multiprocessing` module in Python allows us to run more than 1 function concurrently (at the same time)."
   ]
  },
  {
   "cell_type": "code",
   "execution_count": 54,
   "id": "978bc07d-7103-48d4-87b3-6425c8996478",
   "metadata": {},
   "outputs": [],
   "source": [
    "# The original codes from Medium makes my computer hangs\n",
    "\n",
    "# import datetime\n",
    "# import multiprocessing\n",
    "# import time\n",
    "\n",
    "\n",
    "# def yourfunction(x):\n",
    "#     start = datetime.datetime.now()\n",
    "#     time.sleep(1)\n",
    "#     end = datetime.datetime.now()\n",
    "#     return f\"x={x} start at {start}, end at {end}\"\n",
    "\n",
    "\n",
    "# if __name__ == \"__main__\":\n",
    "#     with multiprocessing.Pool(processes=3) as pool:\n",
    "#         data = pool.map(yourfunction, [1, 2, 3, 4, 5, 6, 7])\n",
    "\n",
    "#     for row in data:\n",
    "#         print(row)"
   ]
  },
  {
   "cell_type": "markdown",
   "id": "236cee31-cd5b-4143-8548-d008f138b885",
   "metadata": {},
   "source": [
    "Here, my code runs 3 functions concurrently (each by 1 worker)\n",
    "\n",
    "- `yourfunction(1)` `yourfunction(2)` & `yourfunction(3)` runs at the same time.\n",
    "- `yourfunction(4)` `yourfunction(5)` & `yourfunction(6)` run at the same time also.\n",
    "- `yourfunction(7)` runs on its own"
   ]
  },
  {
   "cell_type": "code",
   "execution_count": null,
   "id": "93c5ed60-a56d-4a2e-974c-81384d92fb39",
   "metadata": {},
   "outputs": [],
   "source": []
  }
 ],
 "metadata": {
  "kernelspec": {
   "display_name": "Python [conda env:ls_env]",
   "language": "python",
   "name": "conda-env-ls_env-py"
  },
  "language_info": {
   "codemirror_mode": {
    "name": "ipython",
    "version": 3
   },
   "file_extension": ".py",
   "mimetype": "text/x-python",
   "name": "python",
   "nbconvert_exporter": "python",
   "pygments_lexer": "ipython3",
   "version": "3.10.8"
  }
 },
 "nbformat": 4,
 "nbformat_minor": 5
}
