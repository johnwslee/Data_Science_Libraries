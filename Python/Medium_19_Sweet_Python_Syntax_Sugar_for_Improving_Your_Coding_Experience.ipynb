{
 "cells": [
  {
   "cell_type": "markdown",
   "id": "852e8d20-c79d-42c6-bf69-1d4e85b85cde",
   "metadata": {},
   "source": [
    "## 1. Union Operators: The Most Elegant Way To Merge Python Dictionaries"
   ]
  },
  {
   "cell_type": "markdown",
   "id": "5bb839d7-1eda-40fd-9726-9e975730cacb",
   "metadata": {},
   "source": [
    "There are many approaches to merging multiple dictionaries in Python, but none of them can be described as elegant until Python 3.9 was released.\n",
    "\n",
    "For example, how can we merge the following three dictionaries before Python 3.9?\n",
    "\n",
    "One of the methods is using for loops:"
   ]
  },
  {
   "cell_type": "code",
   "execution_count": 1,
   "id": "a1aa513f-b76e-4533-9db0-eecb7f5a550f",
   "metadata": {},
   "outputs": [],
   "source": [
    "cities_us = {\"New York City\": \"US\", \"Los Angeles\": \"US\"}\n",
    "cities_uk = {\"London\": \"UK\", \"Birmingham\": \"UK\"}\n",
    "cities_jp = {\"Tokyo\": \"JP\"}\n",
    "\n",
    "cities = {}\n",
    "\n",
    "for city_dict in [cities_us, cities_uk, cities_jp]:\n",
    "    for city, country in city_dict.items():\n",
    "        cities[city] = country"
   ]
  },
  {
   "cell_type": "code",
   "execution_count": 2,
   "id": "0b708275-6103-4cf4-92fa-600b7a36797d",
   "metadata": {},
   "outputs": [
    {
     "data": {
      "text/plain": [
       "{'New York City': 'US',\n",
       " 'Los Angeles': 'US',\n",
       " 'London': 'UK',\n",
       " 'Birmingham': 'UK',\n",
       " 'Tokyo': 'JP'}"
      ]
     },
     "execution_count": 2,
     "metadata": {},
     "output_type": "execute_result"
    }
   ],
   "source": [
    "cities"
   ]
  },
  {
   "cell_type": "markdown",
   "id": "90e1992a-7dbe-4fb6-8ee5-821db91e55df",
   "metadata": {},
   "source": [
    "It’s decent, but far from elegant and Pythonic.\n",
    "\n",
    "Python 3.9 introduced the union operators, a syntax sugar that has made merging tasks super straightforward:"
   ]
  },
  {
   "cell_type": "code",
   "execution_count": 3,
   "id": "9a082b61-4b9c-4926-9ac7-8a5ed86fff40",
   "metadata": {},
   "outputs": [],
   "source": [
    "cities_us = {\"New York City\": \"US\", \"Los Angeles\": \"US\"}\n",
    "cities_uk = {\"London\": \"UK\", \"Birmingham\": \"UK\"}\n",
    "cities_jp = {\"Tokyo\": \"JP\"}\n",
    "\n",
    "cities = cities_us | cities_uk | cities_jp"
   ]
  },
  {
   "cell_type": "code",
   "execution_count": 4,
   "id": "b16bae26-8fb7-44e4-8835-f143aa3e0f70",
   "metadata": {},
   "outputs": [
    {
     "data": {
      "text/plain": [
       "{'New York City': 'US',\n",
       " 'Los Angeles': 'US',\n",
       " 'London': 'UK',\n",
       " 'Birmingham': 'UK',\n",
       " 'Tokyo': 'JP'}"
      ]
     },
     "execution_count": 4,
     "metadata": {},
     "output_type": "execute_result"
    }
   ],
   "source": [
    "cities"
   ]
  },
  {
   "cell_type": "markdown",
   "id": "44bba6d2-a87a-44a5-9ccc-e251a0b882f6",
   "metadata": {},
   "source": [
    "As the above program shows, we can just use a few pipe symbols, so-called union operators in this context, to merge as many Python dictionaries as we like.\n",
    "\n",
    "Is that possible to do an in-place merging through the union operators?"
   ]
  },
  {
   "cell_type": "code",
   "execution_count": 5,
   "id": "fb1f6cd2-210d-4798-a8b7-2dc2d68776fd",
   "metadata": {},
   "outputs": [],
   "source": [
    "ities_us = {\"New York City\": \"US\", \"Los Angeles\": \"US\"}\n",
    "cities_uk = {\"London\": \"UK\", \"Birmingham\": \"UK\"}\n",
    "cities_jp = {\"Tokyo\": \"JP\"}\n",
    "\n",
    "cities_us |= cities_uk | cities_jp"
   ]
  },
  {
   "cell_type": "code",
   "execution_count": 6,
   "id": "375e56fd-549f-481d-88ff-a8d6d2999bbc",
   "metadata": {},
   "outputs": [
    {
     "data": {
      "text/plain": [
       "{'New York City': 'US',\n",
       " 'Los Angeles': 'US',\n",
       " 'London': 'UK',\n",
       " 'Birmingham': 'UK',\n",
       " 'Tokyo': 'JP'}"
      ]
     },
     "execution_count": 6,
     "metadata": {},
     "output_type": "execute_result"
    }
   ],
   "source": [
    "cities_us"
   ]
  },
  {
   "cell_type": "markdown",
   "id": "e82f6606-9cc8-4927-8cf6-f413c6aa50d6",
   "metadata": {},
   "source": [
    "Of course, just move the union operators to the left of the equals sign, as shown in the code above."
   ]
  },
  {
   "cell_type": "markdown",
   "id": "afa70771-6467-4afe-9785-be63bf471b39",
   "metadata": {},
   "source": [
    "## 2. Type Hints: Make Your Python Programs Type Safe"
   ]
  },
  {
   "cell_type": "markdown",
   "id": "e23b1693-dba1-4a96-954a-e0630e67c358",
   "metadata": {},
   "source": [
    "## 3. F-Strings: A Pythonic String Formatting Approach"
   ]
  },
  {
   "cell_type": "code",
   "execution_count": 7,
   "id": "88b4d65e-4680-4ac1-a978-082c54d2df50",
   "metadata": {},
   "outputs": [
    {
     "name": "stdout",
     "output_type": "stream",
     "text": [
      "Today is 2023-05-23 22:05:15.777607\n",
      "Today is May 23, 2023\n",
      "Today is 05-23-2023\n"
     ]
    }
   ],
   "source": [
    "from datetime import datetime\n",
    "\n",
    "today = datetime.today()\n",
    "\n",
    "print(f\"Today is {today}\")\n",
    "# Today is 2023-03-22 21:52:29.623619\n",
    "\n",
    "print(f\"Today is {today:%B %d, %Y}\")\n",
    "# Today is March 22, 2023\n",
    "\n",
    "print(f\"Today is {today:%m-%d-%Y}\")\n",
    "# Today is 03-22-2023"
   ]
  },
  {
   "cell_type": "markdown",
   "id": "93bdfc41-c157-4af8-8a1e-66914ac77187",
   "metadata": {},
   "source": [
    "## 4. Use An Ellipsis as a Placeholder for Unwritten Code"
   ]
  },
  {
   "cell_type": "markdown",
   "id": "6b29126b-1381-4156-be2a-80bc748e45b6",
   "metadata": {},
   "source": [
    "In Python, we usually put the `pass` keyword as a placeholder for unwritten code. But we can also use an ellipsis for this purpose."
   ]
  },
  {
   "cell_type": "code",
   "execution_count": 8,
   "id": "b6add8a6-5652-43c1-b1d6-b6bf79c23e50",
   "metadata": {},
   "outputs": [],
   "source": [
    "def write_an_article():\n",
    "    ...\n",
    "\n",
    "\n",
    "class Author:\n",
    "    ..."
   ]
  },
  {
   "cell_type": "markdown",
   "id": "dd239404-f601-4f8d-867c-7484847ec5aa",
   "metadata": {},
   "source": [
    "## 5. Decorators in Python: A Way To Modularize Functionalities and Separate Concerns"
   ]
  },
  {
   "cell_type": "markdown",
   "id": "1b69ea96-749c-4f3e-891e-e45c9818e6e2",
   "metadata": {},
   "source": [
    "The idea of decorators of Python is to allow a developer to add new functionality to an existing object without modifying its original logic.\n",
    "\n",
    "We can define decorators by ourselves. And there are also many wonderful built-in decorators ready for use.\n",
    "\n",
    "For example, static methods in a Python class are not bound to an instance or a class. They are included in a class simply because they logically belong there.\n",
    "\n",
    "To define a static method, we just need to use the `@staticmethod` decorator as follows:"
   ]
  },
  {
   "cell_type": "code",
   "execution_count": 9,
   "id": "3d65a7dc-37e4-4cb8-9b9e-cb147f069279",
   "metadata": {},
   "outputs": [],
   "source": [
    "class Student:\n",
    "    def __init__(self, first_name, last_name):\n",
    "        self.first_name = first_name\n",
    "        self.last_name = last_name\n",
    "        self.nickname = None\n",
    "\n",
    "    def set_nickname(self, name):\n",
    "        self.nickname = name\n",
    "\n",
    "    # @staticmethod\n",
    "    def suitable_age(age):\n",
    "        return 6 <= age <= 70"
   ]
  },
  {
   "cell_type": "code",
   "execution_count": 10,
   "id": "1f49fe25-6493-4a2f-b049-529be4c19f4d",
   "metadata": {},
   "outputs": [
    {
     "data": {
      "text/plain": [
       "False"
      ]
     },
     "execution_count": 10,
     "metadata": {},
     "output_type": "execute_result"
    }
   ],
   "source": [
    "Student.suitable_age(99)"
   ]
  },
  {
   "cell_type": "code",
   "execution_count": 11,
   "id": "ac076cc7-c23a-41eb-82e6-a2cb47fdd468",
   "metadata": {},
   "outputs": [
    {
     "data": {
      "text/plain": [
       "True"
      ]
     },
     "execution_count": 11,
     "metadata": {},
     "output_type": "execute_result"
    }
   ],
   "source": [
    "Student.suitable_age(27)"
   ]
  },
  {
   "cell_type": "code",
   "execution_count": 12,
   "id": "cfb292a8-38f9-48ec-928f-0b896f063d6b",
   "metadata": {},
   "outputs": [
    {
     "ename": "TypeError",
     "evalue": "Student.suitable_age() takes 1 positional argument but 2 were given",
     "output_type": "error",
     "traceback": [
      "\u001b[1;31m---------------------------------------------------------------------------\u001b[0m",
      "\u001b[1;31mTypeError\u001b[0m                                 Traceback (most recent call last)",
      "Cell \u001b[1;32mIn[12], line 1\u001b[0m\n\u001b[1;32m----> 1\u001b[0m \u001b[43mStudent\u001b[49m\u001b[43m(\u001b[49m\u001b[38;5;124;43m\"\u001b[39;49m\u001b[38;5;124;43myang\u001b[39;49m\u001b[38;5;124;43m\"\u001b[39;49m\u001b[43m,\u001b[49m\u001b[43m \u001b[49m\u001b[38;5;124;43m\"\u001b[39;49m\u001b[38;5;124;43mzhou\u001b[39;49m\u001b[38;5;124;43m\"\u001b[39;49m\u001b[43m)\u001b[49m\u001b[38;5;241;43m.\u001b[39;49m\u001b[43msuitable_age\u001b[49m\u001b[43m(\u001b[49m\u001b[38;5;241;43m27\u001b[39;49m\u001b[43m)\u001b[49m\n",
      "\u001b[1;31mTypeError\u001b[0m: Student.suitable_age() takes 1 positional argument but 2 were given"
     ]
    }
   ],
   "source": [
    "Student(\"yang\", \"zhou\").suitable_age(27)"
   ]
  },
  {
   "cell_type": "code",
   "execution_count": 13,
   "id": "ac4f1dcb-e285-44a7-ba16-56beddfa9117",
   "metadata": {},
   "outputs": [],
   "source": [
    "class Student:\n",
    "    def __init__(self, first_name, last_name):\n",
    "        self.first_name = first_name\n",
    "        self.last_name = last_name\n",
    "        self.nickname = None\n",
    "\n",
    "    def set_nickname(self, name):\n",
    "        self.nickname = name\n",
    "\n",
    "    @staticmethod\n",
    "    def suitable_age(age):\n",
    "        return 6 <= age <= 70"
   ]
  },
  {
   "cell_type": "code",
   "execution_count": 14,
   "id": "2905f1fd-998d-495f-92ea-de130213a4af",
   "metadata": {},
   "outputs": [
    {
     "data": {
      "text/plain": [
       "True"
      ]
     },
     "execution_count": 14,
     "metadata": {},
     "output_type": "execute_result"
    }
   ],
   "source": [
    "Student(\"yang\", \"zhou\").suitable_age(27)"
   ]
  },
  {
   "cell_type": "markdown",
   "id": "22591f3e-5c44-4075-a081-fe16a9b1fc48",
   "metadata": {},
   "source": [
    "## 6. List Comprehension: Make a List in One Line of Code"
   ]
  },
  {
   "cell_type": "markdown",
   "id": "50d44b0a-5135-4a52-ba6a-e6aebf3f148f",
   "metadata": {},
   "source": [
    "With list comprehension, we can put for loops and if conditions all in one line of code to generate a Python list:"
   ]
  },
  {
   "cell_type": "code",
   "execution_count": 15,
   "id": "6752ec7e-94e2-4fb1-a61d-ac8723a2bd9f",
   "metadata": {},
   "outputs": [],
   "source": [
    "Genius = [\"Yang\", \"Tom\", \"Jerry\", \"Jack\", \"tom\", \"yang\"]\n",
    "L1 = [name for name in Genius if name.startswith(\"Y\")]\n",
    "L2 = [name for name in Genius if name.startswith(\"Y\") or len(name) < 4]\n",
    "L3 = [name for name in Genius if len(name) < 4 and name.islower()]"
   ]
  },
  {
   "cell_type": "code",
   "execution_count": 16,
   "id": "9b70b01a-6eab-4556-8362-db2401bfc955",
   "metadata": {},
   "outputs": [
    {
     "name": "stdout",
     "output_type": "stream",
     "text": [
      "['Yang'] ['Yang', 'Tom', 'tom'] ['tom']\n"
     ]
    }
   ],
   "source": [
    "print(L1, L2, L3)"
   ]
  },
  {
   "cell_type": "markdown",
   "id": "0e10f64d-7b72-4331-87a6-794171a97d1f",
   "metadata": {},
   "source": [
    "Furthermore, there are also set, dictionary, and generator comprehensions in Python. Their syntax is similar to list comprehension.\n",
    "\n",
    "For example, the following program generates a dict based on certain conditions with the help of dict comprehension:"
   ]
  },
  {
   "cell_type": "code",
   "execution_count": 17,
   "id": "e7ec291c-cf84-4858-8b3c-b4854c2668b0",
   "metadata": {},
   "outputs": [],
   "source": [
    "Entrepreneurs = [\"Yang\", \"Mark\", \"steve\", \"jack\", \"tom\"]\n",
    "D1 = {id: name for id, name in enumerate(Entrepreneurs) if name[0].isupper()}"
   ]
  },
  {
   "cell_type": "code",
   "execution_count": 18,
   "id": "506b049e-7405-4f09-8a23-8ce03a4bcf43",
   "metadata": {},
   "outputs": [
    {
     "data": {
      "text/plain": [
       "{0: 'Yang', 1: 'Mark'}"
      ]
     },
     "execution_count": 18,
     "metadata": {},
     "output_type": "execute_result"
    }
   ],
   "source": [
    "D1"
   ]
  },
  {
   "cell_type": "markdown",
   "id": "5af45130-5115-4e63-a0a2-1364c540aa17",
   "metadata": {},
   "source": [
    "## 7. Lambda Functions for Defining Small Anonymous Functions"
   ]
  },
  {
   "cell_type": "markdown",
   "id": "b0df61ac-bca1-453c-b78c-1a948110e703",
   "metadata": {},
   "source": [
    "A common application of lambda functions is to use it to define the comparison method for the built-in `sort()` function:"
   ]
  },
  {
   "cell_type": "code",
   "execution_count": 19,
   "id": "47e8be31-e236-41f1-86e2-c5b709b24573",
   "metadata": {},
   "outputs": [],
   "source": [
    "leaders = [\"Warren Buffett\", \"Yang Zhou\", \"Tim Cook\", \"Elon Musk\"]\n",
    "leaders.sort(key=lambda x: len(x))"
   ]
  },
  {
   "cell_type": "code",
   "execution_count": 20,
   "id": "d4db0a6f-a74e-4b16-90e5-ffbdc14cd279",
   "metadata": {},
   "outputs": [
    {
     "data": {
      "text/plain": [
       "['Tim Cook', 'Yang Zhou', 'Elon Musk', 'Warren Buffett']"
      ]
     },
     "execution_count": 20,
     "metadata": {},
     "output_type": "execute_result"
    }
   ],
   "source": [
    "leaders"
   ]
  },
  {
   "cell_type": "markdown",
   "id": "0987b7a6-0866-433a-8fe1-3985dcbe1a8e",
   "metadata": {},
   "source": [
    "## 8. Ternary Conditional Operators: Put If and Else Into One Line of Code"
   ]
  },
  {
   "cell_type": "markdown",
   "id": "7eb39b47-da3f-45a5-a915-be3d6381c924",
   "metadata": {},
   "source": [
    "Many programming languages have ternary conditional operators. Python’s syntax for this is just putting `if` and `else` into the same line:"
   ]
  },
  {
   "cell_type": "markdown",
   "id": "770fb586-a10f-4c76-a995-eb053683b52d",
   "metadata": {},
   "source": [
    "```\n",
    "short_one = a if len(a) < len(b) else b\n",
    "```"
   ]
  },
  {
   "cell_type": "markdown",
   "id": "67065cf5-8fe4-4960-8d79-9aebb0c1a0e3",
   "metadata": {},
   "source": [
    "If we implement the same logic as the above without ternary condition syntax, there are a few lines of code needed:"
   ]
  },
  {
   "cell_type": "markdown",
   "id": "0789cdd2-328e-4969-a071-3f244fddfab2",
   "metadata": {},
   "source": [
    "```\n",
    "short_one = ''\n",
    "if len(a) < len(b):\n",
    "    short_one=a\n",
    "else:\n",
    "    short_one=b\n",
    "```"
   ]
  },
  {
   "cell_type": "markdown",
   "id": "8b0afa76-711a-4ca5-a38c-fed4facc0b4f",
   "metadata": {},
   "source": [
    "## 9. Use the “Enumerate” Method To Iterate Lists Elegantly"
   ]
  },
  {
   "cell_type": "code",
   "execution_count": 21,
   "id": "c56d2f1f-6a33-4ebe-b2b1-440185648593",
   "metadata": {},
   "outputs": [
    {
     "name": "stdout",
     "output_type": "stream",
     "text": [
      "0 Warren\n",
      "1 Yang\n",
      "2 Tim\n",
      "3 Elon\n"
     ]
    }
   ],
   "source": [
    "leaders = [\"Warren\", \"Yang\", \"Tim\", \"Elon\"]\n",
    "for i, v in enumerate(leaders):\n",
    "    print(i, v)"
   ]
  },
  {
   "cell_type": "markdown",
   "id": "77057484-a3b2-4ac0-8ff6-60e37526f0dd",
   "metadata": {},
   "source": [
    "## 10. Context Manager: Close Resources Automatically"
   ]
  },
  {
   "cell_type": "markdown",
   "id": "6ec8332b-bfa7-4685-8ef6-e44928a663eb",
   "metadata": {},
   "source": [
    "As we know, once a file has been opened and processed, it is significant to close it promptly to free up memory resources. Neglecting to do so can result in memory leaks or even crashing our system."
   ]
  },
  {
   "cell_type": "markdown",
   "id": "a366c7dd-33e4-47df-88a3-a8f547e52f74",
   "metadata": {},
   "source": [
    "```\n",
    "f = open(\"test.txt\", 'w')\n",
    "f.write(\"Hi,Yang!\")\n",
    "# some logic here\n",
    "f.close()\n",
    "```"
   ]
  },
  {
   "cell_type": "markdown",
   "id": "f76b1ca3-3d82-4252-8948-607b7264f0fb",
   "metadata": {},
   "source": [
    "It’s fairly easy to handle files in Python. As the above code shows, we just need to always remember to call the `f.close()` method to free up memory."
   ]
  },
  {
   "cell_type": "markdown",
   "id": "307b7e4b-ad7d-4af1-86cd-fdf6de4a71aa",
   "metadata": {},
   "source": [
    "However, no one can always remember something when the program becomes more and more complex and large. This is why Python provides the context manager syntax sugar."
   ]
  },
  {
   "cell_type": "markdown",
   "id": "72115747-d73f-4854-a22f-5884d1492682",
   "metadata": {},
   "source": [
    "```\n",
    "with open(\"test.txt\", 'w') as f:\n",
    "    f.write(\"Hi, Yang!\")\n",
    "```"
   ]
  },
  {
   "cell_type": "markdown",
   "id": "577d02db-8889-482a-a47c-eeea07bb379d",
   "metadata": {},
   "source": [
    "As illustrated above, the `with` statement is the key for context managers of Python. As long as we open a file through it and handle the file under it, the file will be closed **automatically** after processing."
   ]
  },
  {
   "cell_type": "markdown",
   "id": "a80059ec-98b2-42b3-b996-b2c1b87fd635",
   "metadata": {},
   "source": [
    "## 11. Fancy Slicing Tricks for Python Lists"
   ]
  },
  {
   "cell_type": "markdown",
   "id": "a71e6fbd-6d11-4652-b146-409daeaca11f",
   "metadata": {},
   "source": [
    "Getting a part of items from a list is a common requirement. In Python, the slice operator consists of three components:"
   ]
  },
  {
   "cell_type": "markdown",
   "id": "fd48f208-a686-432c-b2b7-b292a6365920",
   "metadata": {},
   "source": [
    "```\n",
    "a_list[start:end:step]\n",
    "```"
   ]
  },
  {
   "cell_type": "markdown",
   "id": "fcb415fb-3a70-45f0-ac6b-97cecad94f2f",
   "metadata": {},
   "source": [
    "- `start`: The starting index (default value is 0).\n",
    "- `end`: The ending index (default value is the length of the list).\n",
    "- `step`: Defines the step size when iterating over the list (default value is 1)."
   ]
  },
  {
   "cell_type": "markdown",
   "id": "994bc18b-5098-405c-b112-ba000bff9593",
   "metadata": {},
   "source": [
    "Based on these, there are a few tricks that can make our code so neat."
   ]
  },
  {
   "cell_type": "code",
   "execution_count": 22,
   "id": "8c7f099e-74f4-4217-8eca-aaa02c2cae66",
   "metadata": {},
   "outputs": [
    {
     "data": {
      "text/plain": [
       "[4, 3, 2, 1]"
      ]
     },
     "execution_count": 22,
     "metadata": {},
     "output_type": "execute_result"
    }
   ],
   "source": [
    "# Reverse a list with a slicing trick\n",
    "\n",
    "a = [1, 2, 3, 4]\n",
    "a[::-1]"
   ]
  },
  {
   "cell_type": "code",
   "execution_count": 23,
   "id": "4d403fc9-6433-4b35-9b9d-6edf8234c4cf",
   "metadata": {},
   "outputs": [],
   "source": [
    "# Get a shallow copy of a list\n",
    "\n",
    "a = [1, 2, 3, 4, 5, 6]\n",
    "b = a[:]\n",
    "b[0] = 100"
   ]
  },
  {
   "cell_type": "code",
   "execution_count": 24,
   "id": "dfcf393d-c16f-48b3-a43b-6a2bb075090a",
   "metadata": {},
   "outputs": [
    {
     "data": {
      "text/plain": [
       "[100, 2, 3, 4, 5, 6]"
      ]
     },
     "execution_count": 24,
     "metadata": {},
     "output_type": "execute_result"
    }
   ],
   "source": [
    "b"
   ]
  },
  {
   "cell_type": "code",
   "execution_count": 25,
   "id": "24c6a6d9-69e8-4ece-9a4e-9683da24c6b4",
   "metadata": {},
   "outputs": [
    {
     "data": {
      "text/plain": [
       "[1, 2, 3, 4, 5, 6]"
      ]
     },
     "execution_count": 25,
     "metadata": {},
     "output_type": "execute_result"
    }
   ],
   "source": [
    "a"
   ]
  },
  {
   "cell_type": "markdown",
   "id": "72df15a0-bf3a-4e13-a3d7-c6bd12e61b62",
   "metadata": {},
   "source": [
    "The `b=a[:]` is different with `b=a`, cause it assigns a shallow copy of a rather than the a itself. So the changes of `b` will not affect `a` at all as demonstrated above."
   ]
  },
  {
   "cell_type": "markdown",
   "id": "50a5f513-85be-442f-859d-5b39de9f5830",
   "metadata": {},
   "source": [
    "## 12. Walrus Operator: Assignments within Expressions"
   ]
  },
  {
   "cell_type": "markdown",
   "id": "9f69bdcf-5874-4755-9a37-bfb6f20f84a1",
   "metadata": {},
   "source": [
    "The walrus operator, also known as the assignment expression operator, was introduced in Python 3.8 and is represented by the `:=` symbol.\n",
    "\n",
    "It is used to assign values to variables within an expression, rather than assigning them separately.\n",
    "\n",
    "For example, consider the following code:"
   ]
  },
  {
   "cell_type": "code",
   "execution_count": 26,
   "id": "1b4ff66e-b098-4019-bfdd-b9684aeebdca",
   "metadata": {},
   "outputs": [
    {
     "name": "stdin",
     "output_type": "stream",
     "text": [
      " go\n"
     ]
    },
    {
     "name": "stdout",
     "output_type": "stream",
     "text": [
      "go\n"
     ]
    },
    {
     "name": "stdin",
     "output_type": "stream",
     "text": [
      " stop\n"
     ]
    }
   ],
   "source": [
    "while (line := input()) != \"stop\":\n",
    "    print(line)"
   ]
  },
  {
   "cell_type": "markdown",
   "id": "c2e05bb0-8044-48b6-8a69-a7b975760ef8",
   "metadata": {},
   "source": [
    "In this code, the walrus operator is used to assign the value of the user input to the variable `line`, while also checking whether the input is “stop”. The while loop will continue to run as long as the user input is not “stop”."
   ]
  },
  {
   "cell_type": "markdown",
   "id": "4e979b92-b6d9-419c-9575-936f7213411f",
   "metadata": {},
   "source": [
    "## 13. Continuous Comparisons: A More Natural Way To Write If Conditions"
   ]
  },
  {
   "cell_type": "markdown",
   "id": "7f2743cc-0cf8-4e0f-8728-cc203db25e9f",
   "metadata": {},
   "source": [
    "In languages like Java or C, you sometimes need to write if conditions like this:"
   ]
  },
  {
   "cell_type": "markdown",
   "id": "0b9238df-83ab-4d2f-b210-c531ded14026",
   "metadata": {},
   "source": [
    "```\n",
    "if (a > 1 && a < 10){\n",
    "  //do somthing\n",
    "}\n",
    "```"
   ]
  },
  {
   "cell_type": "markdown",
   "id": "609a0b95-0533-4067-959c-0b7e2a7d1545",
   "metadata": {},
   "source": [
    "However, you can’t write it as elegantly as the following if you are not using Python:"
   ]
  },
  {
   "cell_type": "markdown",
   "id": "baab6627-f9e9-42c4-970e-b7fdd620002c",
   "metadata": {},
   "source": [
    "```\n",
    "if 1 < a < 10:\n",
    "    ...\n",
    "```"
   ]
  },
  {
   "cell_type": "markdown",
   "id": "fe97c73d-c7fb-4745-98e1-a25081a49336",
   "metadata": {},
   "source": [
    "Yes, Python allows us to write continuous comparisons. It makes our code seem as natural as how we write it in mathematics."
   ]
  },
  {
   "cell_type": "markdown",
   "id": "02168c0e-342a-46a9-abae-211442858bfe",
   "metadata": {},
   "source": [
    "## 14. Zip Function: Combine Multiple Iterables Easily"
   ]
  },
  {
   "cell_type": "code",
   "execution_count": 27,
   "id": "5e9a32db-f9db-42c8-9d5f-09a8edf0d605",
   "metadata": {},
   "outputs": [],
   "source": [
    "id = [1, 2, 3, 4]\n",
    "leaders = ['Elon Mask', 'Tim Cook', 'Bill Gates', 'Yang Zhou']\n",
    "sex = ['male', 'male', 'male', 'male']\n",
    "record = zip(id, leaders, sex)"
   ]
  },
  {
   "cell_type": "code",
   "execution_count": 28,
   "id": "b0364f75-e54c-47d7-af39-67eb921c284d",
   "metadata": {},
   "outputs": [
    {
     "data": {
      "text/plain": [
       "<zip at 0x1a541109a00>"
      ]
     },
     "execution_count": 28,
     "metadata": {},
     "output_type": "execute_result"
    }
   ],
   "source": [
    "record"
   ]
  },
  {
   "cell_type": "code",
   "execution_count": 29,
   "id": "650d1c37-6ef2-4081-b995-60b52141304c",
   "metadata": {},
   "outputs": [
    {
     "data": {
      "text/plain": [
       "[(1, 'Elon Mask', 'male'),\n",
       " (2, 'Tim Cook', 'male'),\n",
       " (3, 'Bill Gates', 'male'),\n",
       " (4, 'Yang Zhou', 'male')]"
      ]
     },
     "execution_count": 29,
     "metadata": {},
     "output_type": "execute_result"
    }
   ],
   "source": [
    "list(record)"
   ]
  },
  {
   "cell_type": "markdown",
   "id": "512b013b-69d2-44b1-bce1-01fa8cde1808",
   "metadata": {},
   "source": [
    "## 15. Swapping Two Variables Directly"
   ]
  },
  {
   "cell_type": "markdown",
   "id": "b379aaea-82c0-4bfe-aab0-03a475812763",
   "metadata": {},
   "source": [
    "Swapping two variables is usually the first program a beginner will write after printing “Hello world!”.\n",
    "\n",
    "The classic way to do this in many programming languages needs a temporary variable to store the value of one of the variables.\n",
    "\n",
    "For example, you can swap two integers in Java as follows:"
   ]
  },
  {
   "cell_type": "markdown",
   "id": "bc1b881b-91b5-4403-aeda-5f64faf4a3ab",
   "metadata": {},
   "source": [
    "```\n",
    "int a = 5;\n",
    "int b = 10;\n",
    "int temp = a;\n",
    "a = b;\n",
    "b = temp;\n",
    "System.out.println(\"a = \" + a); // Output: a = 10\n",
    "System.out.println(\"b = \" + b); // Output: b = 5\n",
    "```"
   ]
  },
  {
   "cell_type": "markdown",
   "id": "7f040354-aa2c-4f1a-b5c7-9c8928bf20a8",
   "metadata": {},
   "source": [
    "In Python, the syntax is so intuitive and elegant:"
   ]
  },
  {
   "cell_type": "code",
   "execution_count": 30,
   "id": "d3c960cd-b5f9-4751-866d-5cae4fe7adf9",
   "metadata": {},
   "outputs": [],
   "source": [
    "a = 10\n",
    "b = 5\n",
    "a, b = b, a"
   ]
  },
  {
   "cell_type": "code",
   "execution_count": 31,
   "id": "97c453ff-ba50-473b-bc54-f2aaafe3e90c",
   "metadata": {},
   "outputs": [
    {
     "name": "stdout",
     "output_type": "stream",
     "text": [
      "5 10\n"
     ]
    }
   ],
   "source": [
    "print(a, b)"
   ]
  },
  {
   "cell_type": "markdown",
   "id": "91e1a390-9ae6-4d4b-bf24-fc0c5385eb0a",
   "metadata": {},
   "source": [
    "## 16. Destructuring Assignments Tricks"
   ]
  },
  {
   "cell_type": "markdown",
   "id": "0480be38-0b87-4953-b8a8-90549c287710",
   "metadata": {},
   "source": [
    "Destructuring assignments in Python is a way to assign the elements of an iterator or a dictionary to individual variables. It allows you to write shorter, more readable code by avoiding the need to access individual elements using indexes or keys."
   ]
  },
  {
   "cell_type": "code",
   "execution_count": 32,
   "id": "1c21937c-6973-4af9-935a-d98eddb35949",
   "metadata": {},
   "outputs": [],
   "source": [
    "person = {'name': 'Yang', 'age': 30, 'location': 'Mars'}\n",
    "name, age, loc = person.values()"
   ]
  },
  {
   "cell_type": "code",
   "execution_count": 33,
   "id": "9073dd3a-0522-4838-97fc-2cdebb6ab2bd",
   "metadata": {},
   "outputs": [
    {
     "name": "stdout",
     "output_type": "stream",
     "text": [
      "Yang 30 Mars\n"
     ]
    }
   ],
   "source": [
    "print(name, age, loc)"
   ]
  },
  {
   "cell_type": "markdown",
   "id": "eaa0a8b8-35f5-4ab7-8ef3-34c859c02a68",
   "metadata": {},
   "source": [
    "As the example above, we can directly assign the values of a dictionary to 3 individual variables in one line of code.\n",
    "\n",
    "However, if there are only two variables on the left side, how to receive the assignments?\n",
    "\n",
    "Python provides another syntax sugar for this:"
   ]
  },
  {
   "cell_type": "code",
   "execution_count": 34,
   "id": "bd71e330-a412-43bc-82c0-c6c28f342f52",
   "metadata": {},
   "outputs": [],
   "source": [
    "name, *others = person.values()"
   ]
  },
  {
   "cell_type": "code",
   "execution_count": 35,
   "id": "9558b2df-ce05-4f07-885a-20d0fe25c255",
   "metadata": {},
   "outputs": [
    {
     "name": "stdout",
     "output_type": "stream",
     "text": [
      "Yang [30, 'Mars']\n"
     ]
    }
   ],
   "source": [
    "print(name, others)"
   ]
  },
  {
   "cell_type": "markdown",
   "id": "06bbdf42-0bf6-4c77-9864-486775cb55a5",
   "metadata": {},
   "source": [
    "As shown above, we can just add an asterisk before a variable to let it receive all remaining variables from the `person.values()`."
   ]
  },
  {
   "cell_type": "markdown",
   "id": "49091d5d-547e-4744-a612-a11382751a7e",
   "metadata": {},
   "source": [
    "## 17. Iterables Unpacking with Asterisks"
   ]
  },
  {
   "cell_type": "markdown",
   "id": "aeb3c469-e93c-4667-9028-3c3c08bf5b86",
   "metadata": {},
   "source": [
    "Besides destructuring assignments, asterisks in Python are keys for iterable unpacking as well."
   ]
  },
  {
   "cell_type": "code",
   "execution_count": 36,
   "id": "4ca7dce8-4e58-40a9-99e4-99cd243b2208",
   "metadata": {},
   "outputs": [],
   "source": [
    "A = [1, 2, 3]\n",
    "B = (4, 5, 6)\n",
    "C = {7, 8, 9}\n",
    "L = [*A, *B, *C]"
   ]
  },
  {
   "cell_type": "code",
   "execution_count": 37,
   "id": "af99fb5e-2d38-4616-b8db-d4e668d19acd",
   "metadata": {},
   "outputs": [
    {
     "data": {
      "text/plain": [
       "[1, 2, 3, 4, 5, 6, 8, 9, 7]"
      ]
     },
     "execution_count": 37,
     "metadata": {},
     "output_type": "execute_result"
    }
   ],
   "source": [
    "L"
   ]
  },
  {
   "cell_type": "markdown",
   "id": "eff64d3c-65fc-47b3-8197-47d3299c1c13",
   "metadata": {},
   "source": [
    "As illustrated above, the simplest way to combine a list, a set, and a tuple into one list is by unpacking them through asterisks within the new list."
   ]
  },
  {
   "cell_type": "markdown",
   "id": "a31dd4b9-5f6f-4605-a6f3-c4327fb9605c",
   "metadata": {},
   "source": [
    "## 18. Any() and All() Functions"
   ]
  },
  {
   "cell_type": "markdown",
   "id": "c0d6d495-556c-47c2-9259-434295a87e71",
   "metadata": {},
   "source": [
    "In some cases, we need to check whether any or all elements in an iterable (such as a list, tuple, or set) are true.\n",
    "\n",
    "Of course, we can use for loops to check them one by one. But Python provides two built-in functions `any()` and `all()` to simplify the code of these two operations.\n",
    "\n",
    "For instance, the following program uses `all()` to determine if all elements of a list are odd numbers:"
   ]
  },
  {
   "cell_type": "code",
   "execution_count": 38,
   "id": "0cce206d-746f-4ef3-ab12-0000fd2413fb",
   "metadata": {},
   "outputs": [],
   "source": [
    "my_list = [3, 5, 7, 8, 11]\n",
    "all_odd = all(num % 2 == 1 for num in my_list)"
   ]
  },
  {
   "cell_type": "code",
   "execution_count": 39,
   "id": "5f1914e5-039f-4e00-bc76-56f00363ca4e",
   "metadata": {},
   "outputs": [
    {
     "data": {
      "text/plain": [
       "False"
      ]
     },
     "execution_count": 39,
     "metadata": {},
     "output_type": "execute_result"
    }
   ],
   "source": [
    "all_odd"
   ]
  },
  {
   "cell_type": "markdown",
   "id": "d1249d3e-a092-4646-94a7-a43c52866d9a",
   "metadata": {},
   "source": [
    "The following code uses the `any()` function to check if there is a leader whose name starts with “Y”:"
   ]
  },
  {
   "cell_type": "code",
   "execution_count": 40,
   "id": "cf90b025-81e0-4a3e-bff1-7dd7b09cbd9c",
   "metadata": {},
   "outputs": [],
   "source": [
    "leaders = ['Yang', 'Elon', 'Sam', 'Tim']\n",
    "starts_with_Y = any(name.startswith('Y') for name in leaders)"
   ]
  },
  {
   "cell_type": "code",
   "execution_count": 41,
   "id": "075024e5-fd4e-4776-8429-4c6afbe423a8",
   "metadata": {},
   "outputs": [
    {
     "data": {
      "text/plain": [
       "True"
      ]
     },
     "execution_count": 41,
     "metadata": {},
     "output_type": "execute_result"
    }
   ],
   "source": [
    "starts_with_Y"
   ]
  },
  {
   "cell_type": "markdown",
   "id": "ad2b88e4-51d1-4715-b3e8-9d6f030c3a99",
   "metadata": {},
   "source": [
    "## 19. Underscores in Numbers"
   ]
  },
  {
   "cell_type": "markdown",
   "id": "5ccea0cf-94d4-4198-a43d-30d87b8fd1fa",
   "metadata": {},
   "source": [
    "It’s a headache to count how many zeros there are in a large number.\n",
    "\n",
    "Fortunately, Python allows underscores to be included in numbers to improve readability.\n",
    "\n",
    "For instance, instead of writing `10000000000`, we can write `10_000_000_000` in Python which is much easier to read."
   ]
  },
  {
   "cell_type": "code",
   "execution_count": null,
   "id": "7f177466-8db1-41ff-9da7-3e19e2e44f92",
   "metadata": {},
   "outputs": [],
   "source": []
  }
 ],
 "metadata": {
  "kernelspec": {
   "display_name": "Python [conda env:ls_env]",
   "language": "python",
   "name": "conda-env-ls_env-py"
  },
  "language_info": {
   "codemirror_mode": {
    "name": "ipython",
    "version": 3
   },
   "file_extension": ".py",
   "mimetype": "text/x-python",
   "name": "python",
   "nbconvert_exporter": "python",
   "pygments_lexer": "ipython3",
   "version": "3.10.8"
  }
 },
 "nbformat": 4,
 "nbformat_minor": 5
}
