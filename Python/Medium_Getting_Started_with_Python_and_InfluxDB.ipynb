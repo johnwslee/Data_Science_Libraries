{
 "cells": [
  {
   "cell_type": "markdown",
   "id": "80c9ea58-a546-4811-b75d-5289eabfe764",
   "metadata": {},
   "source": [
    "The following is from [this article](https://medium.com/daily-programming-tips/getting-started-with-python-and-influxdb-3e24e3f6b585) in Medium and [Getting Started Instruction](https://docs.influxdata.com/influxdb/v2/install/) for InfluxDB."
   ]
  },
  {
   "cell_type": "code",
   "execution_count": 1,
   "id": "8b1b8fcd-99ab-46d3-ba11-474ce38ab0f0",
   "metadata": {},
   "outputs": [],
   "source": [
    "import os\n",
    "import time\n",
    "\n",
    "import influxdb_client\n",
    "from influxdb_client import InfluxDBClient, Point, WritePrecision\n",
    "from influxdb_client.client.write_api import SYNCHRONOUS\n",
    "\n",
    "token = os.environ.get(\"INFLUXDB_TOKEN\")\n",
    "org = \"test\"\n",
    "url = \"http://localhost:8086\"\n",
    "\n",
    "client = influxdb_client.InfluxDBClient(url=url, token=token, org=org)"
   ]
  },
  {
   "cell_type": "code",
   "execution_count": 2,
   "id": "017b13a4-08dc-424f-b30f-1fda6e8ef226",
   "metadata": {},
   "outputs": [],
   "source": [
    "bucket = \"test_db\"\n",
    "\n",
    "write_api = client.write_api(write_options=SYNCHRONOUS)\n",
    "\n",
    "for value in range(5):\n",
    "    point = Point(\"measurement1\").tag(\"tagname1\", \"tagvalue1\").field(\"field1\", value)\n",
    "    write_api.write(bucket=bucket, org=\"test\", record=point)\n",
    "    time.sleep(1)  # separate points by 1 second"
   ]
  },
  {
   "cell_type": "code",
   "execution_count": 3,
   "id": "891d8446-56d2-4217-9e9b-3cc7e70f57c8",
   "metadata": {},
   "outputs": [
    {
     "name": "stdout",
     "output_type": "stream",
     "text": [
      "FluxRecord() table: 0, {'result': '_result', 'table': 0, '_start': datetime.datetime(2024, 3, 16, 12, 7, 26, 33317, tzinfo=tzutc()), '_stop': datetime.datetime(2024, 3, 16, 12, 17, 26, 33317, tzinfo=tzutc()), '_time': datetime.datetime(2024, 3, 16, 12, 16, 1, 86164, tzinfo=tzutc()), '_value': 0, '_field': 'field1', '_measurement': 'measurement1', 'tagname1': 'tagvalue1'}\n",
      "FluxRecord() table: 0, {'result': '_result', 'table': 0, '_start': datetime.datetime(2024, 3, 16, 12, 7, 26, 33317, tzinfo=tzutc()), '_stop': datetime.datetime(2024, 3, 16, 12, 17, 26, 33317, tzinfo=tzutc()), '_time': datetime.datetime(2024, 3, 16, 12, 16, 2, 88263, tzinfo=tzutc()), '_value': 1, '_field': 'field1', '_measurement': 'measurement1', 'tagname1': 'tagvalue1'}\n",
      "FluxRecord() table: 0, {'result': '_result', 'table': 0, '_start': datetime.datetime(2024, 3, 16, 12, 7, 26, 33317, tzinfo=tzutc()), '_stop': datetime.datetime(2024, 3, 16, 12, 17, 26, 33317, tzinfo=tzutc()), '_time': datetime.datetime(2024, 3, 16, 12, 16, 3, 91726, tzinfo=tzutc()), '_value': 2, '_field': 'field1', '_measurement': 'measurement1', 'tagname1': 'tagvalue1'}\n",
      "FluxRecord() table: 0, {'result': '_result', 'table': 0, '_start': datetime.datetime(2024, 3, 16, 12, 7, 26, 33317, tzinfo=tzutc()), '_stop': datetime.datetime(2024, 3, 16, 12, 17, 26, 33317, tzinfo=tzutc()), '_time': datetime.datetime(2024, 3, 16, 12, 16, 4, 93672, tzinfo=tzutc()), '_value': 3, '_field': 'field1', '_measurement': 'measurement1', 'tagname1': 'tagvalue1'}\n",
      "FluxRecord() table: 0, {'result': '_result', 'table': 0, '_start': datetime.datetime(2024, 3, 16, 12, 7, 26, 33317, tzinfo=tzutc()), '_stop': datetime.datetime(2024, 3, 16, 12, 17, 26, 33317, tzinfo=tzutc()), '_time': datetime.datetime(2024, 3, 16, 12, 16, 5, 96617, tzinfo=tzutc()), '_value': 4, '_field': 'field1', '_measurement': 'measurement1', 'tagname1': 'tagvalue1'}\n",
      "FluxRecord() table: 0, {'result': '_result', 'table': 0, '_start': datetime.datetime(2024, 3, 16, 12, 7, 26, 33317, tzinfo=tzutc()), '_stop': datetime.datetime(2024, 3, 16, 12, 17, 26, 33317, tzinfo=tzutc()), '_time': datetime.datetime(2024, 3, 16, 12, 17, 20, 993261, tzinfo=tzutc()), '_value': 0, '_field': 'field1', '_measurement': 'measurement1', 'tagname1': 'tagvalue1'}\n",
      "FluxRecord() table: 0, {'result': '_result', 'table': 0, '_start': datetime.datetime(2024, 3, 16, 12, 7, 26, 33317, tzinfo=tzutc()), '_stop': datetime.datetime(2024, 3, 16, 12, 17, 26, 33317, tzinfo=tzutc()), '_time': datetime.datetime(2024, 3, 16, 12, 17, 21, 995098, tzinfo=tzutc()), '_value': 1, '_field': 'field1', '_measurement': 'measurement1', 'tagname1': 'tagvalue1'}\n",
      "FluxRecord() table: 0, {'result': '_result', 'table': 0, '_start': datetime.datetime(2024, 3, 16, 12, 7, 26, 33317, tzinfo=tzutc()), '_stop': datetime.datetime(2024, 3, 16, 12, 17, 26, 33317, tzinfo=tzutc()), '_time': datetime.datetime(2024, 3, 16, 12, 17, 22, 999526, tzinfo=tzutc()), '_value': 2, '_field': 'field1', '_measurement': 'measurement1', 'tagname1': 'tagvalue1'}\n",
      "FluxRecord() table: 0, {'result': '_result', 'table': 0, '_start': datetime.datetime(2024, 3, 16, 12, 7, 26, 33317, tzinfo=tzutc()), '_stop': datetime.datetime(2024, 3, 16, 12, 17, 26, 33317, tzinfo=tzutc()), '_time': datetime.datetime(2024, 3, 16, 12, 17, 24, 5377, tzinfo=tzutc()), '_value': 3, '_field': 'field1', '_measurement': 'measurement1', 'tagname1': 'tagvalue1'}\n",
      "FluxRecord() table: 0, {'result': '_result', 'table': 0, '_start': datetime.datetime(2024, 3, 16, 12, 7, 26, 33317, tzinfo=tzutc()), '_stop': datetime.datetime(2024, 3, 16, 12, 17, 26, 33317, tzinfo=tzutc()), '_time': datetime.datetime(2024, 3, 16, 12, 17, 25, 12192, tzinfo=tzutc()), '_value': 4, '_field': 'field1', '_measurement': 'measurement1', 'tagname1': 'tagvalue1'}\n"
     ]
    }
   ],
   "source": [
    "query_api = client.query_api()\n",
    "\n",
    "query = \"\"\"from(bucket: \"test_db\")\n",
    " |> range(start: -10m)\n",
    " |> filter(fn: (r) => r._measurement == \"measurement1\")\"\"\"\n",
    "tables = query_api.query(query, org=\"test\")\n",
    "\n",
    "for table in tables:\n",
    "    for record in table.records:\n",
    "        print(record)"
   ]
  },
  {
   "cell_type": "code",
   "execution_count": 4,
   "id": "87a4804f-9b01-48ac-9efb-a2dd4523d1de",
   "metadata": {},
   "outputs": [
    {
     "name": "stdout",
     "output_type": "stream",
     "text": [
      "FluxRecord() table: 0, {'result': '_result', 'table': 0, '_start': datetime.datetime(2024, 3, 16, 12, 7, 26, 52262, tzinfo=tzutc()), '_stop': datetime.datetime(2024, 3, 16, 12, 17, 26, 52262, tzinfo=tzutc()), '_value': 2.0, '_field': 'field1', '_measurement': 'measurement1', 'tagname1': 'tagvalue1'}\n"
     ]
    }
   ],
   "source": [
    "query_api = client.query_api()\n",
    "\n",
    "query = \"\"\"from(bucket: \"test_db\")\n",
    "  |> range(start: -10m)\n",
    "  |> filter(fn: (r) => r._measurement == \"measurement1\")\n",
    "  |> mean()\"\"\"\n",
    "tables = query_api.query(query, org=\"test\")\n",
    "\n",
    "for table in tables:\n",
    "    for record in table.records:\n",
    "        print(record)"
   ]
  },
  {
   "cell_type": "code",
   "execution_count": null,
   "id": "5fa0a9a1-a758-49a5-96a4-7f0f543123f4",
   "metadata": {},
   "outputs": [],
   "source": []
  }
 ],
 "metadata": {
  "kernelspec": {
   "display_name": "Python [conda env:influxdb]",
   "language": "python",
   "name": "conda-env-influxdb-py"
  },
  "language_info": {
   "codemirror_mode": {
    "name": "ipython",
    "version": 3
   },
   "file_extension": ".py",
   "mimetype": "text/x-python",
   "name": "python",
   "nbconvert_exporter": "python",
   "pygments_lexer": "ipython3",
   "version": "3.12.1"
  }
 },
 "nbformat": 4,
 "nbformat_minor": 5
}
