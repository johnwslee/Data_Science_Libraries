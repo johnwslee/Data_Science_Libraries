{
 "cells": [
  {
   "cell_type": "markdown",
   "id": "80c9ea58-a546-4811-b75d-5289eabfe764",
   "metadata": {},
   "source": [
    "The following is from [this article](https://medium.com/daily-programming-tips/getting-started-with-python-and-influxdb-3e24e3f6b585) in Medium and [Getting Started Instruction](https://docs.influxdata.com/influxdb/v2/install/) for InfluxDB."
   ]
  },
  {
   "cell_type": "code",
   "execution_count": 1,
   "id": "5fa0a9a1-a758-49a5-96a4-7f0f543123f4",
   "metadata": {},
   "outputs": [],
   "source": [
    "import csv\n",
    "import os\n",
    "from datetime import datetime\n",
    "\n",
    "from dotenv import load_dotenv, main\n",
    "from influxdb_client import InfluxDBClient, Point, WritePrecision\n",
    "from influxdb_client.client.write_api import ASYNCHRONOUS, SYNCHRONOUS"
   ]
  },
  {
   "cell_type": "markdown",
   "id": "f881af23-e659-422a-8ed3-0b33a6efe092",
   "metadata": {},
   "source": [
    "# 0. Class for InfluxClient"
   ]
  },
  {
   "cell_type": "code",
   "execution_count": 2,
   "id": "a6a9c2dd-efc0-449c-9d59-7796f1132edd",
   "metadata": {},
   "outputs": [],
   "source": [
    "class InfluxClient:\n",
    "    def __init__(self, token, org, bucket):\n",
    "        self._org = org\n",
    "        self._bucket = bucket\n",
    "        self._client = InfluxDBClient(url=\"http://localhost:8086\", token=token)\n",
    "\n",
    "    def write_data(self, data, write_option=SYNCHRONOUS):\n",
    "        write_api = self._client.write_api(write_option)\n",
    "        write_api.write(self._bucket, self._org, data, write_precision=\"s\")\n",
    "\n",
    "    def query_data(self, query):\n",
    "        query_api = self._client.query_api()\n",
    "        result = query_api.query(org=self._org, query=query)\n",
    "        results = []\n",
    "        for table in result:\n",
    "            for record in table.records:\n",
    "                results.append((record.get_value(), record.get_field()))\n",
    "        print(results)\n",
    "        return results\n",
    "\n",
    "    def delete_data(self, measurement):\n",
    "        delete_api = self._client.delete_api()\n",
    "        start = \"1970-01-01T00:00:00Z\"\n",
    "        stop = \"2021-10-30T00:00:00Z\"\n",
    "        delete_api.delete(\n",
    "            start,\n",
    "            stop,\n",
    "            f'_measurement=\"{measurement}\"',\n",
    "            bucket=self._bucket,\n",
    "            org=self._org,\n",
    "        )"
   ]
  },
  {
   "cell_type": "code",
   "execution_count": 3,
   "id": "ce234f3e-008d-4767-b77d-5ed49d844f47",
   "metadata": {},
   "outputs": [],
   "source": [
    "# Credentials\n",
    "\n",
    "load_dotenv()\n",
    "token = os.getenv(\"TOKEN\")\n",
    "org = os.getenv(\"ORG\")\n",
    "bucket = os.getenv(\"BUCKET\")"
   ]
  },
  {
   "cell_type": "markdown",
   "id": "31398599-53bd-4b72-b1b7-a2f879356068",
   "metadata": {},
   "source": [
    "# 1. Data Preparation"
   ]
  },
  {
   "cell_type": "code",
   "execution_count": 4,
   "id": "194a1770-4208-465e-9f97-8643fd964487",
   "metadata": {},
   "outputs": [
    {
     "name": "stderr",
     "output_type": "stream",
     "text": [
      "[*********************100%%**********************]  1 of 1 completed\n"
     ]
    }
   ],
   "source": [
    "import yfinance as yf\n",
    "\n",
    "data = yf.download(\"MSFT\", start=\"2021-01-01\", end=\"2021-10-30\")"
   ]
  },
  {
   "cell_type": "code",
   "execution_count": 5,
   "id": "7960ae27-bce1-46ed-8de9-ecd5db34d9d4",
   "metadata": {},
   "outputs": [
    {
     "data": {
      "text/html": [
       "<div>\n",
       "<style scoped>\n",
       "    .dataframe tbody tr th:only-of-type {\n",
       "        vertical-align: middle;\n",
       "    }\n",
       "\n",
       "    .dataframe tbody tr th {\n",
       "        vertical-align: top;\n",
       "    }\n",
       "\n",
       "    .dataframe thead th {\n",
       "        text-align: right;\n",
       "    }\n",
       "</style>\n",
       "<table border=\"1\" class=\"dataframe\">\n",
       "  <thead>\n",
       "    <tr style=\"text-align: right;\">\n",
       "      <th></th>\n",
       "      <th>Open</th>\n",
       "      <th>High</th>\n",
       "      <th>Low</th>\n",
       "      <th>Close</th>\n",
       "      <th>Adj Close</th>\n",
       "      <th>Volume</th>\n",
       "    </tr>\n",
       "    <tr>\n",
       "      <th>Date</th>\n",
       "      <th></th>\n",
       "      <th></th>\n",
       "      <th></th>\n",
       "      <th></th>\n",
       "      <th></th>\n",
       "      <th></th>\n",
       "    </tr>\n",
       "  </thead>\n",
       "  <tbody>\n",
       "    <tr>\n",
       "      <th>2021-01-04</th>\n",
       "      <td>222.529999</td>\n",
       "      <td>223.000000</td>\n",
       "      <td>214.809998</td>\n",
       "      <td>217.690002</td>\n",
       "      <td>211.605301</td>\n",
       "      <td>37130100</td>\n",
       "    </tr>\n",
       "    <tr>\n",
       "      <th>2021-01-05</th>\n",
       "      <td>217.259995</td>\n",
       "      <td>218.520004</td>\n",
       "      <td>215.699997</td>\n",
       "      <td>217.899994</td>\n",
       "      <td>211.809418</td>\n",
       "      <td>23823000</td>\n",
       "    </tr>\n",
       "    <tr>\n",
       "      <th>2021-01-06</th>\n",
       "      <td>212.169998</td>\n",
       "      <td>216.490005</td>\n",
       "      <td>211.940002</td>\n",
       "      <td>212.250000</td>\n",
       "      <td>206.317352</td>\n",
       "      <td>35930700</td>\n",
       "    </tr>\n",
       "    <tr>\n",
       "      <th>2021-01-07</th>\n",
       "      <td>214.039993</td>\n",
       "      <td>219.339996</td>\n",
       "      <td>213.710007</td>\n",
       "      <td>218.289993</td>\n",
       "      <td>212.188507</td>\n",
       "      <td>27694500</td>\n",
       "    </tr>\n",
       "    <tr>\n",
       "      <th>2021-01-08</th>\n",
       "      <td>218.679993</td>\n",
       "      <td>220.580002</td>\n",
       "      <td>217.029999</td>\n",
       "      <td>219.619995</td>\n",
       "      <td>213.481384</td>\n",
       "      <td>22956200</td>\n",
       "    </tr>\n",
       "    <tr>\n",
       "      <th>...</th>\n",
       "      <td>...</td>\n",
       "      <td>...</td>\n",
       "      <td>...</td>\n",
       "      <td>...</td>\n",
       "      <td>...</td>\n",
       "      <td>...</td>\n",
       "    </tr>\n",
       "    <tr>\n",
       "      <th>2021-10-25</th>\n",
       "      <td>309.359985</td>\n",
       "      <td>309.399994</td>\n",
       "      <td>306.459991</td>\n",
       "      <td>308.130005</td>\n",
       "      <td>301.476501</td>\n",
       "      <td>17554500</td>\n",
       "    </tr>\n",
       "    <tr>\n",
       "      <th>2021-10-26</th>\n",
       "      <td>311.000000</td>\n",
       "      <td>312.399994</td>\n",
       "      <td>308.600006</td>\n",
       "      <td>310.109985</td>\n",
       "      <td>303.413757</td>\n",
       "      <td>28107300</td>\n",
       "    </tr>\n",
       "    <tr>\n",
       "      <th>2021-10-27</th>\n",
       "      <td>316.000000</td>\n",
       "      <td>326.100006</td>\n",
       "      <td>316.000000</td>\n",
       "      <td>323.170013</td>\n",
       "      <td>316.191711</td>\n",
       "      <td>52588700</td>\n",
       "    </tr>\n",
       "    <tr>\n",
       "      <th>2021-10-28</th>\n",
       "      <td>324.329987</td>\n",
       "      <td>324.869995</td>\n",
       "      <td>321.359985</td>\n",
       "      <td>324.350006</td>\n",
       "      <td>317.346222</td>\n",
       "      <td>26297900</td>\n",
       "    </tr>\n",
       "    <tr>\n",
       "      <th>2021-10-29</th>\n",
       "      <td>324.130005</td>\n",
       "      <td>332.000000</td>\n",
       "      <td>323.899994</td>\n",
       "      <td>331.619995</td>\n",
       "      <td>324.459290</td>\n",
       "      <td>34766000</td>\n",
       "    </tr>\n",
       "  </tbody>\n",
       "</table>\n",
       "<p>209 rows × 6 columns</p>\n",
       "</div>"
      ],
      "text/plain": [
       "                  Open        High         Low       Close   Adj Close  \\\n",
       "Date                                                                     \n",
       "2021-01-04  222.529999  223.000000  214.809998  217.690002  211.605301   \n",
       "2021-01-05  217.259995  218.520004  215.699997  217.899994  211.809418   \n",
       "2021-01-06  212.169998  216.490005  211.940002  212.250000  206.317352   \n",
       "2021-01-07  214.039993  219.339996  213.710007  218.289993  212.188507   \n",
       "2021-01-08  218.679993  220.580002  217.029999  219.619995  213.481384   \n",
       "...                ...         ...         ...         ...         ...   \n",
       "2021-10-25  309.359985  309.399994  306.459991  308.130005  301.476501   \n",
       "2021-10-26  311.000000  312.399994  308.600006  310.109985  303.413757   \n",
       "2021-10-27  316.000000  326.100006  316.000000  323.170013  316.191711   \n",
       "2021-10-28  324.329987  324.869995  321.359985  324.350006  317.346222   \n",
       "2021-10-29  324.130005  332.000000  323.899994  331.619995  324.459290   \n",
       "\n",
       "              Volume  \n",
       "Date                  \n",
       "2021-01-04  37130100  \n",
       "2021-01-05  23823000  \n",
       "2021-01-06  35930700  \n",
       "2021-01-07  27694500  \n",
       "2021-01-08  22956200  \n",
       "...              ...  \n",
       "2021-10-25  17554500  \n",
       "2021-10-26  28107300  \n",
       "2021-10-27  52588700  \n",
       "2021-10-28  26297900  \n",
       "2021-10-29  34766000  \n",
       "\n",
       "[209 rows x 6 columns]"
      ]
     },
     "execution_count": 5,
     "metadata": {},
     "output_type": "execute_result"
    }
   ],
   "source": [
    "data"
   ]
  },
  {
   "cell_type": "code",
   "execution_count": 6,
   "id": "8a768209-f75e-41a7-af62-ef2046076280",
   "metadata": {},
   "outputs": [],
   "source": [
    "data.to_csv(\"data/MSFT.csv\")"
   ]
  },
  {
   "cell_type": "markdown",
   "id": "22129483-f2b0-4d60-8398-fa63fc771c4c",
   "metadata": {},
   "source": [
    "# 2. Write Data"
   ]
  },
  {
   "cell_type": "markdown",
   "id": "ab5646d5-d2fb-4951-85a5-0b5b79df96da",
   "metadata": {},
   "source": [
    "InfluxDBClient has a method called `write_api` which is used to write data into your database. Below is the code snippet for for this method:\n",
    "\n",
    "InfluxDB supports Asynchronous and Synchronous Writes, and you can specify the write type as required.\n",
    "\n",
    "The `data` parameter can be written in three different ways, as shown below:"
   ]
  },
  {
   "cell_type": "markdown",
   "id": "d62d6698-fbef-49c3-8c4f-6c031a04fd29",
   "metadata": {},
   "source": [
    "### 2.1. Line Protocol String"
   ]
  },
  {
   "cell_type": "raw",
   "id": "912ba95c-4ee5-4c78-b9b7-96a4fd06326a",
   "metadata": {},
   "source": [
    "Data Write Method 1\n",
    "\n",
    "IC.write_data([\"MSFT,stock=MSFT Open=62.79,High=63.84,Low=62.13\"])"
   ]
  },
  {
   "cell_type": "markdown",
   "id": "2de37e13-a18b-401d-8de7-3c698c042304",
   "metadata": {},
   "source": [
    "Note that the string has to follow a particular format:"
   ]
  },
  {
   "cell_type": "raw",
   "id": "86dda760-f36f-47f8-b128-4e4f3cc4002b",
   "metadata": {},
   "source": [
    "measurementName,tagKey=tagValue \n",
    "fieldKey1=\"fieldValue1\",fieldKey2=fieldValue2 timeStamp"
   ]
  },
  {
   "cell_type": "markdown",
   "id": "a12648de-8279-4f0d-8f64-4724db919ca7",
   "metadata": {},
   "source": [
    "> There’s a space between the tagValue and the first fieldKey, and another space between the last fieldValue and timeStamp. While parsing, these spaces are used as separators; therefore, you have to format it in the manner shown above. Note also that in this case I assumed that the first field value, fieldValue1, is a string, while fieldValue2 is a number. Therefore, fieldValue1 should appear in quotes."
   ]
  },
  {
   "cell_type": "markdown",
   "id": "f84766a2-e6f3-4401-985f-6258469214ee",
   "metadata": {},
   "source": [
    "Note also that the timeStamp is optional. If no timestamp is provided, InfluxDB uses the system time (UTC) of its host machine. You can read more about the [Line Protocol here](https://docs.influxdata.com/influxdb/v2/reference/syntax/line-protocol/)."
   ]
  },
  {
   "cell_type": "markdown",
   "id": "708d1a20-ffdf-4395-9224-67e95c43a50c",
   "metadata": {},
   "source": [
    "### 2.2. Data Point Structure"
   ]
  },
  {
   "cell_type": "raw",
   "id": "4b722829-6f94-4ee4-a4d2-1a1662985060",
   "metadata": {},
   "source": [
    "Data Write Method 2\n",
    "\n",
    "IC.write_data(\n",
    "    [\n",
    "        Point('MSFT')\n",
    "        .tag(\"stock\",\"MSFT\")\n",
    "        .field(\"Open\",62.79)\n",
    "        .field(\"High\",63.38)\n",
    "        .field(\"Low\",62.13)\n",
    "        .time(int(datetime.strptime('2021-11-07','%Y-%m-%d').timestamp()))\n",
    "    ],\n",
    "    )"
   ]
  },
  {
   "cell_type": "markdown",
   "id": "bca3149f-9f8b-4dec-baec-891fb7669fcc",
   "metadata": {},
   "source": [
    "If you do not want to deal with the format in the Line Protocol String, you can use the Point() Class. This ensures that your data is properly serialized into line protocol."
   ]
  },
  {
   "cell_type": "markdown",
   "id": "1ae039e5-04af-4a29-bc77-9ee725457cf7",
   "metadata": {},
   "source": [
    "### 2.3. Dictionary Style"
   ]
  },
  {
   "cell_type": "markdown",
   "id": "437203fd-e125-418a-9ad6-f8ec6cd4e0dc",
   "metadata": {},
   "source": [
    "Data Write Method 3"
   ]
  },
  {
   "cell_type": "raw",
   "id": "ae644ad0-9c14-4508-9841-6513acb710fc",
   "metadata": {},
   "source": [
    "IC.write_data([\n",
    "    {\n",
    "        \"measurement\": \"MSFT\", \n",
    "        \"tags\": {\"stock\": \"MSFT\"}, \n",
    "        \"fields\": {\n",
    "                \"Open\": 62.79,\n",
    "                \"High\": 63.38,\n",
    "                \"Low\": 62.13,\n",
    "                }, \n",
    "        \"time\": int(datetime.strptime('2021-11-07','%Y-%m-%d').timestamp())\n",
    "    },\n",
    "    {\n",
    "        \"measurement\": \"MSFT_DATE\", \n",
    "        \"tags\": {\"stock\": \"MSFT\"}, \n",
    "        \"fields\": {\n",
    "                \"Open\": 62.79,\n",
    "                \"High\": 63.38,\n",
    "                \"Low\": 62.13,\n",
    "                }, \n",
    "    }\n",
    "],write_option=ASYNCHRONOUS)"
   ]
  },
  {
   "cell_type": "markdown",
   "id": "5be0c8d5-12f4-4b43-9a64-76d894457154",
   "metadata": {},
   "source": [
    "In this method, you’re passing two data points and setting the write option to `ASYNCHRONOUS`. This is Python-friendly, since the data is passed as a dictionary."
   ]
  },
  {
   "cell_type": "code",
   "execution_count": 7,
   "id": "b29dc70e-6da2-463e-8aa8-9c865cdd8dd8",
   "metadata": {},
   "outputs": [],
   "source": [
    "\"\"\"\n",
    "Write Data for MSFT Stock\n",
    "\"\"\"\n",
    "MSFT_file = open(\"data/MSFT.csv\")\n",
    "csvreader = csv.reader(MSFT_file)"
   ]
  },
  {
   "cell_type": "code",
   "execution_count": 8,
   "id": "fb008b9b-f8f2-4d4e-bed1-2218cbd5deba",
   "metadata": {},
   "outputs": [],
   "source": [
    "header = next(csvreader)"
   ]
  },
  {
   "cell_type": "code",
   "execution_count": 9,
   "id": "27034ad5-4d6a-487e-8d85-b0ec87c168ec",
   "metadata": {},
   "outputs": [
    {
     "data": {
      "text/plain": [
       "['Date', 'Open', 'High', 'Low', 'Close', 'Adj Close', 'Volume']"
      ]
     },
     "execution_count": 9,
     "metadata": {},
     "output_type": "execute_result"
    }
   ],
   "source": [
    "header"
   ]
  },
  {
   "cell_type": "code",
   "execution_count": 10,
   "id": "437ac68a-953c-42c4-a473-12ccb4b38a3c",
   "metadata": {},
   "outputs": [],
   "source": [
    "rows = []\n",
    "for row in csvreader:\n",
    "    date, open, high, low = row[0], row[1], row[2], row[3]\n",
    "    line_protocol_string = \"\"\n",
    "    line_protocol_string += f\"MSFT_{date},\"\n",
    "    line_protocol_string += f\"stock=MSFT \"\n",
    "    line_protocol_string += f\"Open={open},High={high},Low={low} \"\n",
    "    line_protocol_string += str(int(datetime.strptime(date, \"%Y-%m-%d\").timestamp()))\n",
    "    rows.append(line_protocol_string)"
   ]
  },
  {
   "cell_type": "code",
   "execution_count": 11,
   "id": "ff9bfc15-f2eb-480c-91b5-3cf0584e60f0",
   "metadata": {
    "tags": []
   },
   "outputs": [
    {
     "data": {
      "text/plain": [
       "['MSFT_2021-01-04,stock=MSFT Open=222.52999877929688,High=223.0,Low=214.80999755859375 1609686000',\n",
       " 'MSFT_2021-01-05,stock=MSFT Open=217.25999450683594,High=218.52000427246094,Low=215.6999969482422 1609772400',\n",
       " 'MSFT_2021-01-06,stock=MSFT Open=212.1699981689453,High=216.49000549316406,Low=211.94000244140625 1609858800',\n",
       " 'MSFT_2021-01-07,stock=MSFT Open=214.0399932861328,High=219.33999633789062,Low=213.7100067138672 1609945200',\n",
       " 'MSFT_2021-01-08,stock=MSFT Open=218.67999267578125,High=220.5800018310547,Low=217.02999877929688 1610031600']"
      ]
     },
     "execution_count": 11,
     "metadata": {},
     "output_type": "execute_result"
    }
   ],
   "source": [
    "rows[:5]  # Sample"
   ]
  },
  {
   "cell_type": "code",
   "execution_count": 12,
   "id": "a37eb82f-681d-4174-b141-a8ffbe78698a",
   "metadata": {},
   "outputs": [],
   "source": [
    "IC = InfluxClient(token, org, bucket)"
   ]
  },
  {
   "cell_type": "code",
   "execution_count": 13,
   "id": "d1f32aae-1ee0-4658-895c-fa7d6777460b",
   "metadata": {},
   "outputs": [],
   "source": [
    "IC.write_data(rows)"
   ]
  },
  {
   "cell_type": "markdown",
   "id": "e549e800-a8d0-4e48-bdd0-5135de49cbba",
   "metadata": {},
   "source": [
    "# 3. Reading the Data"
   ]
  },
  {
   "cell_type": "markdown",
   "id": "9e093bc2-6842-495b-8123-e6862d4d158a",
   "metadata": {},
   "source": [
    "`InfluxDBClient` also has a method called `query_api` that can be used to read data. You can use queries for various purposes, such as filtering your data based on a specific date, aggregating your data within a time range, finding the highest/lowest values in a time range, and more. They are similar to queries you would use in SQL. You’ll need to use queries when reading data from InfluxDB.\n",
    "\n",
    "The following code is for our class’s read method:\n",
    "\n",
    "Here, it accepts a query and then executes it. The return value of the query is a collection of Flux Objects that match your query. The Flux Object has the following methods:"
   ]
  },
  {
   "cell_type": "raw",
   "id": "a80cc813-f2ea-4a2c-ad22-e718cbfb2796",
   "metadata": {},
   "source": [
    ".get_measurement()\n",
    ".get_field()\n",
    ".values.get(“<your tags>”)\n",
    ".get_time()"
   ]
  },
  {
   "cell_type": "markdown",
   "id": "586f2694-7530-42a8-8662-7262616569cf",
   "metadata": {},
   "source": [
    "Two query examples are shown below that demonstrate the `query_data` function in action. The first query returns the high value for MSFT stock since October 1, 2021, and the second query returns the high value for the MSFT stock on 2021-10-29."
   ]
  },
  {
   "cell_type": "code",
   "execution_count": 14,
   "id": "5c2c7785-0fc1-46a2-b2f2-943a1a76970a",
   "metadata": {},
   "outputs": [],
   "source": [
    "\"\"\"\n",
    "    Return the High Value for MSFT stock for since 1st October,2021\n",
    "\"\"\"\n",
    "query1 = 'from(bucket: \"test_db\")\\\n",
    "|> range(start: 1633124983)\\\n",
    "|> filter(fn: (r) => r._field == \"High\")\\\n",
    "|> filter(fn: (r) => r.stock == \"MSFT\")'"
   ]
  },
  {
   "cell_type": "code",
   "execution_count": 15,
   "id": "638b9527-5d82-4e06-b27b-08e2b511bc02",
   "metadata": {},
   "outputs": [
    {
     "name": "stdout",
     "output_type": "stream",
     "text": [
      "[(287.75, 'High'), (290.3999938964844, 'High'), (293.6300048828125, 'High'), (296.6400146484375, 'High'), (296.6400146484375, 'High'), (297.9700012207031, 'High'), (295.44000244140625, 'High'), (297.2799987792969, 'High'), (303.2699890136719, 'High'), (304.45001220703125, 'High'), (308.2099914550781, 'High'), (309.29998779296875, 'High'), (309.70001220703125, 'High'), (311.0199890136719, 'High'), (311.0899963378906, 'High'), (309.3999938964844, 'High'), (312.3999938964844, 'High'), (326.1000061035156, 'High'), (324.8699951171875, 'High'), (332.0, 'High')]\n"
     ]
    },
    {
     "data": {
      "text/plain": [
       "[(287.75, 'High'),\n",
       " (290.3999938964844, 'High'),\n",
       " (293.6300048828125, 'High'),\n",
       " (296.6400146484375, 'High'),\n",
       " (296.6400146484375, 'High'),\n",
       " (297.9700012207031, 'High'),\n",
       " (295.44000244140625, 'High'),\n",
       " (297.2799987792969, 'High'),\n",
       " (303.2699890136719, 'High'),\n",
       " (304.45001220703125, 'High'),\n",
       " (308.2099914550781, 'High'),\n",
       " (309.29998779296875, 'High'),\n",
       " (309.70001220703125, 'High'),\n",
       " (311.0199890136719, 'High'),\n",
       " (311.0899963378906, 'High'),\n",
       " (309.3999938964844, 'High'),\n",
       " (312.3999938964844, 'High'),\n",
       " (326.1000061035156, 'High'),\n",
       " (324.8699951171875, 'High'),\n",
       " (332.0, 'High')]"
      ]
     },
     "execution_count": 15,
     "metadata": {},
     "output_type": "execute_result"
    }
   ],
   "source": [
    "IC.query_data(query1)"
   ]
  },
  {
   "cell_type": "code",
   "execution_count": 16,
   "id": "1bbf08be-5d64-4605-8b3c-9100b4faa187",
   "metadata": {},
   "outputs": [],
   "source": [
    "'''\n",
    "    Return the High Value for the MSFT stock on 2021-10-29\n",
    "'''\n",
    "query2 = 'from(bucket: \"test_db\")\\\n",
    "|> range(start: 1633124983)\\\n",
    "|> filter(fn: (r) => r._field == \"High\")\\\n",
    "|> filter(fn: (r) => r._measurement == \"MSFT_2021-10-29\")'"
   ]
  },
  {
   "cell_type": "code",
   "execution_count": 17,
   "id": "4c71d61f-3f11-4140-bfd7-d5fa5d5836f4",
   "metadata": {},
   "outputs": [
    {
     "name": "stdout",
     "output_type": "stream",
     "text": [
      "[(332.0, 'High')]\n"
     ]
    },
    {
     "data": {
      "text/plain": [
       "[(332.0, 'High')]"
      ]
     },
     "execution_count": 17,
     "metadata": {},
     "output_type": "execute_result"
    }
   ],
   "source": [
    "IC.query_data(query2)"
   ]
  },
  {
   "cell_type": "markdown",
   "id": "095c503a-a2da-4b8e-9aee-2f0715bc7ff0",
   "metadata": {},
   "source": [
    "# 4. Updating the Data"
   ]
  },
  {
   "cell_type": "markdown",
   "id": "13eabbc5-d193-43e8-9c42-75ce0ba72014",
   "metadata": {},
   "source": [
    "Unlike the Write and Query APIs, InfluxDB does not have an Update API.The statement below is taken from their [documentation about how they handle duplicate data points](https://docs.influxdata.com/influxdb/v2/write-data/best-practices/duplicate-points/) ."
   ]
  },
  {
   "cell_type": "markdown",
   "id": "f26dc073-ebde-46f8-9f61-439385e3aaf8",
   "metadata": {},
   "source": [
    "> For points that have the same measurement name, tag set, and timestamp, InfluxDB creates a union of the old and new field sets. For any matching field keys, InfluxDB uses the field value of the new point"
   ]
  },
  {
   "cell_type": "markdown",
   "id": "1824a440-d78c-4b13-b22b-dcee271d43ea",
   "metadata": {},
   "source": [
    "To update a data point, you need to have their name, tag set, and timestamp and simply perform a write operation."
   ]
  },
  {
   "cell_type": "markdown",
   "id": "8d6a4279-7911-40df-9543-9e7ffd525a98",
   "metadata": {},
   "source": [
    "# 5. Deleting Data"
   ]
  },
  {
   "cell_type": "markdown",
   "id": "0d615570-65e0-4a8d-9201-c1fc9263ccea",
   "metadata": {},
   "source": [
    "You can delete data using `delete_api`. Below is a gist demonstrating how to delete data:\n",
    "\n",
    "Delete functions require the measurement value of the data point. The following gist shows a simple use case of the delete function:\n",
    "\n",
    "InfluxDB’s documentation includes a [list of best practices for writing data](https://docs.influxdata.com/influxdb/v2/write-data/best-practices/). There are also some [best practices for data layout and schema design](https://www.influxdata.com/blog/data-layout-and-schema-design-best-practices-for-influxdb/), which you should follow for the best results."
   ]
  },
  {
   "cell_type": "markdown",
   "id": "38ecbcd7-ccb6-4ab3-87f5-c74cde9bbdc5",
   "metadata": {},
   "source": [
    "# 6. Some Practical Use Cases of Time-Series Databases"
   ]
  },
  {
   "cell_type": "markdown",
   "id": "ffef0141-2348-4923-8b66-bb3d4831377d",
   "metadata": {},
   "source": [
    "This article examined a simple use case of a TSDB to store stock values, so you could analyze historical stock prices and forecast future values. However, you could also work with IoT Devices, sales data, and any other data series which is time-varying.\n",
    "\n",
    "Some other practical use cases include:\n",
    "\n",
    "1. [Time series forecasting using Tensorflow and InfluxDB](https://www.influxdata.com/blog/introduction-time-series-forecasting-tensorflow-influxdb/)\n",
    "\n",
    "2. [Integrating InfluxDB with IFTTT to monitor your smart home](https://www.influxdata.com/blog/monitoring-smart-home-influxdb-ifttt/)\n",
    "\n",
    "3. [Monitoring your internet speed](https://www.influxdata.com/blog/how-monitor-internet-speed-telegraf-influxdb-cloud/)"
   ]
  },
  {
   "cell_type": "markdown",
   "id": "87e56cdb-dfb4-4954-894c-78e8c52ec0d3",
   "metadata": {},
   "source": [
    "# 7. Conclusion"
   ]
  },
  {
   "cell_type": "markdown",
   "id": "ba7cc707-0fbb-4d1e-8ee8-a0ebdf69760f",
   "metadata": {},
   "source": [
    "Hopefully this guide empowered you to set up your own TSDB instance of InfluxDB. You learned how to build a simple app to perform CRUD Operations using InfluxDB’s Python client library, but if you want to take a closer look at anything, you can find the repo with the entire source code [here](https://github.com/rahulbanerjee26/InfluxDB-Tutorial/blob/main/__init__.py).\n",
    "\n",
    "Check out [InfluxDB’s open-source TSDB](https://www.influxdata.com/time-series-database/). It’s got client libraries for ten programming languages including Python, C++, and JavaScript, and it’s also got a lot of built-in visualization tools so you can see exactly what your data is doing."
   ]
  },
  {
   "cell_type": "code",
   "execution_count": null,
   "id": "79851ea6-e400-416d-8c04-71d63ed0e5a2",
   "metadata": {},
   "outputs": [],
   "source": []
  }
 ],
 "metadata": {
  "kernelspec": {
   "display_name": "Python [conda env:influxdb]",
   "language": "python",
   "name": "conda-env-influxdb-py"
  },
  "language_info": {
   "codemirror_mode": {
    "name": "ipython",
    "version": 3
   },
   "file_extension": ".py",
   "mimetype": "text/x-python",
   "name": "python",
   "nbconvert_exporter": "python",
   "pygments_lexer": "ipython3",
   "version": "3.12.1"
  }
 },
 "nbformat": 4,
 "nbformat_minor": 5
}
