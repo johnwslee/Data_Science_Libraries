{
 "cells": [
  {
   "cell_type": "markdown",
   "id": "c8d5a3af-4ac1-419f-a6cc-39ee5779fbbb",
   "metadata": {},
   "source": [
    "# Structure"
   ]
  },
  {
   "cell_type": "markdown",
   "id": "a8530589-c4c4-44d1-acd5-142a437bf2c3",
   "metadata": {},
   "source": [
    "my_project\n",
    "<pre>\n",
    "├── main.py\n",
    "│   └── operations/\n",
    "│       └── __init__.py\n",
    "│       └── addition.py\n",
    "└──     └── subtraction.py\n",
    "</pre>"
   ]
  },
  {
   "cell_type": "markdown",
   "id": "adec490b-b83f-4108-9cf2-5153ec1bcb74",
   "metadata": {},
   "source": [
    "We want to create two simple modules that will make the sum and the difference of two integers. If the input is not an integer, the program will return an error."
   ]
  },
  {
   "cell_type": "markdown",
   "id": "d23591a4-a320-467f-bbc5-ad4d4c423223",
   "metadata": {},
   "source": [
    "# Demo"
   ]
  },
  {
   "cell_type": "code",
   "execution_count": 1,
   "id": "0396b991-b381-4143-a695-6a8e53d14406",
   "metadata": {},
   "outputs": [
    {
     "name": "stdout",
     "output_type": "stream",
     "text": [
      "the sum of these two numbers is: 3\n",
      "the difference of these two numbers is: 1\n",
      "None\n",
      "None\n"
     ]
    }
   ],
   "source": [
    "%run -i \"main.py\""
   ]
  },
  {
   "cell_type": "markdown",
   "id": "e181e19b-67f1-4401-8786-5af73ad377d3",
   "metadata": {},
   "source": [
    "So, a couple of considerations on the main file:\n",
    "\n",
    "- As the modules contain just one function each, we could write `from operations.addition import *`. Anyway, is a good practice to import just the functions and the classes we use from a module.\n",
    "- As we can see, the main file is very clean. It just has the imports, the declaration of the variables using the imported methods, and the print of the results."
   ]
  },
  {
   "cell_type": "markdown",
   "id": "ebd8bd38-497e-4985-b1ac-836a86b975cf",
   "metadata": {},
   "source": [
    "# Final tips"
   ]
  },
  {
   "cell_type": "markdown",
   "id": "3fa0351c-a4e6-483f-b18f-02410043765a",
   "metadata": {},
   "source": [
    "My advice, which is taken from seniors, is to create a class for each module because it’s more maintainable. However, this is not a must: it depends on what you are coding.\n",
    "\n",
    "In the above example, I created two separate modules containing one function each. One alternative would be to create a class called, for example, `Operations` and to code the two functions as its method.\n",
    "\n",
    "This would be helpful because we’d create “similar functions” in just one file and make one import in the main file.\n",
    "\n",
    "So, don’t always take advice as a must: take them, but reason on what you need to create, having in mind the optimization you need."
   ]
  },
  {
   "cell_type": "code",
   "execution_count": null,
   "id": "6d5b8d16-dd6c-4983-bd49-dd242b539177",
   "metadata": {},
   "outputs": [],
   "source": []
  }
 ],
 "metadata": {
  "kernelspec": {
   "display_name": "Python [conda env:ls_env]",
   "language": "python",
   "name": "conda-env-ls_env-py"
  },
  "language_info": {
   "codemirror_mode": {
    "name": "ipython",
    "version": 3
   },
   "file_extension": ".py",
   "mimetype": "text/x-python",
   "name": "python",
   "nbconvert_exporter": "python",
   "pygments_lexer": "ipython3",
   "version": "3.10.8"
  }
 },
 "nbformat": 4,
 "nbformat_minor": 5
}
