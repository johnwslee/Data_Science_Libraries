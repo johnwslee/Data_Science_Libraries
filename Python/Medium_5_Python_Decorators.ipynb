{
 "cells": [
  {
   "cell_type": "markdown",
   "id": "10f38182-42e0-4d24-aca0-d0657537ddb0",
   "metadata": {},
   "source": [
    "# Python Wrappers"
   ]
  },
  {
   "cell_type": "markdown",
   "id": "ca5bd7a0-04fa-422f-94b1-e2c65bc2a6b1",
   "metadata": {},
   "source": [
    "Python wrappers are functions that are added to another function which then can add additional functionality or modifies its behavior without directly changing its source code. They are typically implemented as decorators, which are special functions that take another **function** as **input** and apply some changes to its functionality.\n",
    "\n",
    "Wrapper functions can be useful in various scenarios:\n",
    "\n",
    "- Functionality Extension: We can add features like logging, performance measurement, or caching by wrapping our functions with a decorator.\n",
    "- Code Reusability: We can apply a wrapper function or even a class to multiple entities, you can avoid code duplication, and ensure consistent behavior across different components.\n",
    "- Behavior Modification: We can intercept the input arguments, for example, validate the input variable without the need for many assert lines."
   ]
  },
  {
   "cell_type": "markdown",
   "id": "e05a362f-5061-44a4-a4ee-227e206e6168",
   "metadata": {},
   "source": [
    "# 1. Timer"
   ]
  },
  {
   "cell_type": "markdown",
   "id": "785b7353-1268-4c8d-ba0e-aa8e69ed2379",
   "metadata": {},
   "source": [
    "This wrapper function measures the execution time of a function and prints the elapsed time. It can be useful for profiling and optimizing code."
   ]
  },
  {
   "cell_type": "code",
   "execution_count": 1,
   "id": "7cdd3ab0-3991-49d9-98c5-8647fcd790a7",
   "metadata": {},
   "outputs": [],
   "source": [
    "import time"
   ]
  },
  {
   "cell_type": "code",
   "execution_count": 2,
   "id": "005bb7fd-8a27-4d4c-b9ce-f7a55817034f",
   "metadata": {},
   "outputs": [],
   "source": [
    "def timer(func):\n",
    "    def wrapper(*args, **kwargs):\n",
    "        # start the timer\n",
    "        start_time = time.time()\n",
    "        # call the decorated function\n",
    "        result = func(*args, **kwargs)\n",
    "        # remeasure the time\n",
    "        end_time = time.time()\n",
    "        # compute the elapsed time and print it\n",
    "        execution_time = end_time - start_time\n",
    "        print(f\"Execution time: {execution_time} seconds\")\n",
    "        # return the result of the decorated function execution\n",
    "        return result\n",
    "    # return reference to the wrapper function\n",
    "    return wrapper"
   ]
  },
  {
   "cell_type": "code",
   "execution_count": 3,
   "id": "4ebb5351-8fab-428f-8822-aab772164f17",
   "metadata": {},
   "outputs": [],
   "source": [
    "@timer\n",
    "def train_model():\n",
    "    print(\"Starting the model training function...\")\n",
    "    # simulate a function execution by pausing the program for 5 seconds\n",
    "    time.sleep(5) \n",
    "    print(\"Model training completed!\")"
   ]
  },
  {
   "cell_type": "code",
   "execution_count": 4,
   "id": "169d6a3c-2ca9-48e5-b578-b9ed76b6440e",
   "metadata": {},
   "outputs": [
    {
     "name": "stdout",
     "output_type": "stream",
     "text": [
      "Starting the model training function...\n",
      "Model training completed!\n",
      "Execution time: 5.012046575546265 seconds\n"
     ]
    }
   ],
   "source": [
    "train_model()"
   ]
  },
  {
   "cell_type": "markdown",
   "id": "10b4ee1f-acfa-4b54-bd42-c0beec9a3885",
   "metadata": {},
   "source": [
    "# 2. Debugger"
   ]
  },
  {
   "cell_type": "markdown",
   "id": "7613a519-91eb-4c6f-858c-4f66c2da2ebd",
   "metadata": {},
   "source": [
    "An additional useful wrapper function can be created to facilitate debugging by printing the inputs and outputs of each function. This approach allows us to gain insight into the execution flow of various functions without cluttering our applications with multiple print statements."
   ]
  },
  {
   "cell_type": "code",
   "execution_count": 5,
   "id": "9e1fc57a-4cbc-4fa1-b2c4-5b5e210b69fc",
   "metadata": {},
   "outputs": [],
   "source": [
    "def debug(func):\n",
    "    def wrapper(*args, **kwargs):\n",
    "        # print the fucntion name and arguments\n",
    "        print(f\"Calling {func.__name__} with args: {args} kwargs: {kwargs}\")\n",
    "        # call the function\n",
    "        result = func(*args, **kwargs)\n",
    "        # print the results\n",
    "        print(f\"{func.__name__} returned: {result}\")\n",
    "        return result\n",
    "    return wrapper"
   ]
  },
  {
   "cell_type": "markdown",
   "id": "c26a9aeb-87b7-428b-ba24-1d2cbbba3b67",
   "metadata": {},
   "source": [
    "We can use the `__name__` parameters to get the name of the function being called and then `args` , `kwargs` parameters to print what was passed to the function."
   ]
  },
  {
   "cell_type": "code",
   "execution_count": 6,
   "id": "0fe039fb-4694-47cb-aeff-62c1f62617a5",
   "metadata": {},
   "outputs": [],
   "source": [
    "@debug\n",
    "def add_numbers(x, y):\n",
    "    return x + y"
   ]
  },
  {
   "cell_type": "code",
   "execution_count": 7,
   "id": "00e80288-207c-4029-9fdc-7e01536ee382",
   "metadata": {},
   "outputs": [
    {
     "name": "stdout",
     "output_type": "stream",
     "text": [
      "Calling add_numbers with args: (7,) kwargs: {'y': 5}\n",
      "add_numbers returned: 12\n"
     ]
    },
    {
     "data": {
      "text/plain": [
       "12"
      ]
     },
     "execution_count": 7,
     "metadata": {},
     "output_type": "execute_result"
    }
   ],
   "source": [
    "add_numbers(7, y=5,)"
   ]
  },
  {
   "cell_type": "markdown",
   "id": "2f1cfbfc-e2b4-4c64-b379-fdf9e23aa7b2",
   "metadata": {},
   "source": [
    "# 3. Exception Handler"
   ]
  },
  {
   "cell_type": "markdown",
   "id": "42547e26-2e19-4d4f-9779-3bffc10e1c00",
   "metadata": {},
   "source": [
    "The `exception_handler` the wrapper will catch any exceptions raised within the `divide` function and handle them accordingly.\n",
    "\n",
    "> We can customize the handling of exceptions within the wrapper function as per your requirements, such as logging the exception or performing additional error-handling steps."
   ]
  },
  {
   "cell_type": "code",
   "execution_count": 8,
   "id": "07ff2776-4760-46d4-8809-d92a92982caf",
   "metadata": {},
   "outputs": [],
   "source": [
    "def exception_handler(func):\n",
    "    def wrapper(*args, **kwargs):\n",
    "        try:\n",
    "            return func(*args, **kwargs)\n",
    "        except Exception as e:\n",
    "            # Handle the exception\n",
    "            print(f\"An exception occurred: {str(e)}\")\n",
    "            # Optionally, perform additional error handling or logging\n",
    "            # Reraise the exception if needed\n",
    "    return wrapper"
   ]
  },
  {
   "cell_type": "markdown",
   "id": "682f6e12-a090-4d37-b64a-335ad884b166",
   "metadata": {},
   "source": [
    "This becomes very useful to declutter our code and establish a unified procedure for handling exceptions and logging errors."
   ]
  },
  {
   "cell_type": "code",
   "execution_count": 9,
   "id": "9bac395e-35a9-408b-9c93-83b397c51667",
   "metadata": {},
   "outputs": [],
   "source": [
    "@exception_handler\n",
    "def divide(x, y):\n",
    "    result = x / y\n",
    "    return result"
   ]
  },
  {
   "cell_type": "code",
   "execution_count": 10,
   "id": "0cb2d4bc-dd20-4a5b-9f1f-832d0a4774f6",
   "metadata": {},
   "outputs": [
    {
     "name": "stdout",
     "output_type": "stream",
     "text": [
      "An exception occurred: division by zero\n"
     ]
    }
   ],
   "source": [
    "divide(10, 0)"
   ]
  },
  {
   "cell_type": "markdown",
   "id": "f8a431c7-1aee-4e87-86ab-d3d94e207d21",
   "metadata": {},
   "source": [
    "# 4. Input Validator"
   ]
  },
  {
   "cell_type": "markdown",
   "id": "cf8531ea-680a-4fdf-9576-320319c9ca84",
   "metadata": {},
   "source": [
    "This wrapper function validates the input arguments of a function against specified conditions or data types. It can be used to ensure the correctness and consistency of the input data.\n",
    "\n",
    "> The other approach to do that is by creating countless assert lines inside the function we want for validating the input data."
   ]
  },
  {
   "cell_type": "markdown",
   "id": "dec973bc-fbfe-43bc-988b-f37d1ba9d1cb",
   "metadata": {},
   "source": [
    "To add validations to the decoration, we need to wrap the decorator function with another function that takes in one or more validation functions as arguments. These validation functions are responsible for checking if the input values meet certain criteria or conditions.\n",
    "\n",
    "The `validate_input` function itself acts as a decorator now. Inside the wrapper function, the input and the keyword arguments are checked against the provided validation functions. If any argument fails the validation, it raises a `ValueError` with a message indicating the invalid argument."
   ]
  },
  {
   "cell_type": "code",
   "execution_count": 11,
   "id": "0615d8da-89b3-46c4-9500-d720a1a944b1",
   "metadata": {},
   "outputs": [],
   "source": [
    "def validate_input(*validations):\n",
    "    def decorator(func):\n",
    "        def wrapper(*args, **kwargs):\n",
    "            for i, val in enumerate(args):\n",
    "                if i < len(validations):\n",
    "                    if not validations[i](val):\n",
    "                        raise ValueError(f\"Invalid argument: {val}\")\n",
    "            for key, val in kwargs.items():\n",
    "                if key in validations[len(args):]:\n",
    "                    if not validations[len(args):][key](val):\n",
    "                        raise ValueError(f\"Invalid argument: {key}={val}\")\n",
    "            return func(*args, **kwargs)\n",
    "        return wrapper\n",
    "    return decorator"
   ]
  },
  {
   "cell_type": "markdown",
   "id": "66addea7-36e4-414f-90b4-1613eae5df6a",
   "metadata": {},
   "source": [
    "To call the validated input, we need to define the validation functions. For example, two validation functions can be used. The first function (`lambda x: x > 0`) checks if the argument x is greater than 0, and the second function (`lambda y: isinstance(y, str)`) checks if the argument `y` is of a type string.\n",
    "\n",
    "It is important to ensure that the order of the validation functions corresponds to the order of the arguments they are intended to validate."
   ]
  },
  {
   "cell_type": "code",
   "execution_count": 12,
   "id": "7c8cf214-53f2-432b-9385-5b577c3e2009",
   "metadata": {},
   "outputs": [],
   "source": [
    "@validate_input(lambda x: x > 0, lambda y: isinstance(y, str))\n",
    "def divide_and_print(x, message):\n",
    "    print(message)\n",
    "    return 1 / x"
   ]
  },
  {
   "cell_type": "code",
   "execution_count": 13,
   "id": "e54197aa-9211-4ff8-a070-4f7f68af0040",
   "metadata": {},
   "outputs": [
    {
     "name": "stdout",
     "output_type": "stream",
     "text": [
      "Hello!\n"
     ]
    },
    {
     "data": {
      "text/plain": [
       "0.2"
      ]
     },
     "execution_count": 13,
     "metadata": {},
     "output_type": "execute_result"
    }
   ],
   "source": [
    "divide_and_print(5, \"Hello!\")"
   ]
  },
  {
   "cell_type": "markdown",
   "id": "0ede12aa-cb28-4b03-8d02-2208d7c9e2a1",
   "metadata": {},
   "source": [
    "# 5. Retry"
   ]
  },
  {
   "cell_type": "markdown",
   "id": "5aedbdfc-f43d-41bc-b4b1-f4892ed9e282",
   "metadata": {},
   "source": [
    "This wrapper retries the execution of a function a specified number of times with a delay between retries. It can be useful when dealing with network or API calls that may occasionally fail due to temporary issues.\n",
    "\n",
    "To implement that we can define another wrapper function to our decorator, similar to our previous example. However this time rather than providing validation functions as input variables we can pass specific parameters such as the `max_attemps` and the `delay` .\n",
    "\n",
    "When the decorated function is called, the `wrapper` function is invoked. It keeps track of the number of attempts made (starting at 0) and enters a while loop. The loop attempts to execute the decorated function and immediately returns the result if successful. However, if an exception occurs, it increments the attempts counter and prints an error message indicating the attempt number and the specific exception that occurred. It then waits for the specified delay using `time.sleep` before attempting the function again."
   ]
  },
  {
   "cell_type": "code",
   "execution_count": 14,
   "id": "10213bb8-311e-4a75-8e85-a5104ac9c17d",
   "metadata": {},
   "outputs": [],
   "source": [
    "def retry(max_attempts, delay=1):\n",
    "    def decorator(func):\n",
    "        def wrapper(*args, **kwargs):\n",
    "            attempts = 0\n",
    "            while attempts < max_attempts:\n",
    "                try:\n",
    "                    return func(*args, **kwargs)\n",
    "                except Exception as e:\n",
    "                    attempts += 1\n",
    "                    print(f\"Attempt {attempts} failed: {e}\")\n",
    "                    time.sleep(delay)\n",
    "            print(f\"Function failed after {max_attempts} attempts\")\n",
    "        return wrapper\n",
    "    return decorator"
   ]
  },
  {
   "cell_type": "markdown",
   "id": "f377473f-4456-4acd-8ac7-f6428bedd4db",
   "metadata": {},
   "source": [
    "In order to invoke the function, we can specify the maximum number of attempts and the time duration in seconds between each invocation of the function."
   ]
  },
  {
   "cell_type": "code",
   "execution_count": 15,
   "id": "e1780d96-ca27-4909-97c4-7d3a02a4d27f",
   "metadata": {},
   "outputs": [],
   "source": [
    "@retry(max_attempts=3, delay=2)\n",
    "def fetch_data(url):\n",
    "    print(\"Fetching the data..\")\n",
    "    # raise timeout error to simulate a server not responding..\n",
    "    raise TimeoutError(\"Server is not responding.\")"
   ]
  },
  {
   "cell_type": "code",
   "execution_count": 16,
   "id": "1130b1c9-a7d6-419e-b722-f7d4364004df",
   "metadata": {},
   "outputs": [
    {
     "name": "stdout",
     "output_type": "stream",
     "text": [
      "Fetching the data..\n",
      "Attempt 1 failed: Server is not responding.\n",
      "Fetching the data..\n",
      "Attempt 2 failed: Server is not responding.\n",
      "Fetching the data..\n",
      "Attempt 3 failed: Server is not responding.\n",
      "Function failed after 3 attempts\n"
     ]
    }
   ],
   "source": [
    "fetch_data(\"https://example.com/data\")"
   ]
  },
  {
   "cell_type": "code",
   "execution_count": null,
   "id": "3250e117-2da4-482b-8af2-1a23b8a1d255",
   "metadata": {},
   "outputs": [],
   "source": []
  }
 ],
 "metadata": {
  "kernelspec": {
   "display_name": "Python [conda env:ls_env]",
   "language": "python",
   "name": "conda-env-ls_env-py"
  },
  "language_info": {
   "codemirror_mode": {
    "name": "ipython",
    "version": 3
   },
   "file_extension": ".py",
   "mimetype": "text/x-python",
   "name": "python",
   "nbconvert_exporter": "python",
   "pygments_lexer": "ipython3",
   "version": "3.10.8"
  }
 },
 "nbformat": 4,
 "nbformat_minor": 5
}
