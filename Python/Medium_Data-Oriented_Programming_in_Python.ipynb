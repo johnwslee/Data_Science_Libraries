{
 "cells": [
  {
   "cell_type": "markdown",
   "id": "5eb9f2ed-73a8-458c-bf72-f8dfaf4e79fa",
   "metadata": {},
   "source": [
    "# Principle #1: Separate code from data"
   ]
  },
  {
   "cell_type": "markdown",
   "id": "c23c1ce0-74c3-4df8-b3cd-92a10f485b49",
   "metadata": {},
   "source": [
    "“Separate code from data in a way that the code resides in functions whose behavior does not depend on data that is encapsulated in the function’s context.” — Yehonathan Sharvit"
   ]
  },
  {
   "cell_type": "code",
   "execution_count": 1,
   "id": "734228d4-57a9-4313-ae99-725c5d2e5eaa",
   "metadata": {},
   "outputs": [],
   "source": [
    "from dataclasses import dataclass"
   ]
  },
  {
   "cell_type": "code",
   "execution_count": 2,
   "id": "3a926d2a-0288-480c-a8b6-b6a766add7e7",
   "metadata": {},
   "outputs": [],
   "source": [
    "@dataclass\n",
    "class AuthorData:\n",
    "    \"\"\"Class for keeping track of an uthor in the system\"\"\"\n",
    "\n",
    "    first_name: str\n",
    "    last_name: str\n",
    "    n_books: int"
   ]
  },
  {
   "cell_type": "code",
   "execution_count": 3,
   "id": "fc879d4d-44b0-44d8-aa40-59150b3a5327",
   "metadata": {},
   "outputs": [],
   "source": [
    "def calculate_name(first_name: str, last_name: str):\n",
    "    return f\"{first_name} {last_name}\""
   ]
  },
  {
   "cell_type": "code",
   "execution_count": 4,
   "id": "daed46c7-dce3-425b-afaa-045a8618497e",
   "metadata": {},
   "outputs": [],
   "source": [
    "def is_prolific(n_books: int):\n",
    "    return n_books > 100"
   ]
  },
  {
   "cell_type": "code",
   "execution_count": 5,
   "id": "0c1dc6c2-b30d-4cb0-80a8-b0403491a5e6",
   "metadata": {},
   "outputs": [],
   "source": [
    "author_data = AuthorData(\"Isaac\", \"Asimov\", 500)"
   ]
  },
  {
   "cell_type": "code",
   "execution_count": 6,
   "id": "23ef1070-40bb-403e-8c0e-551652bb118b",
   "metadata": {},
   "outputs": [
    {
     "data": {
      "text/plain": [
       "'Isaac Asimov'"
      ]
     },
     "execution_count": 6,
     "metadata": {},
     "output_type": "execute_result"
    }
   ],
   "source": [
    "calculate_name(author_data.first_name, author_data.last_name)"
   ]
  },
  {
   "cell_type": "markdown",
   "id": "6b3f8471-0ebe-4d13-8407-1ade5a1a195b",
   "metadata": {},
   "source": [
    "> **Benefit #1:** “Code can be reused in different contexts” — Yehonathan Sharvit"
   ]
  },
  {
   "cell_type": "markdown",
   "id": "a1c21acd-dffe-49cb-9399-2083691cc478",
   "metadata": {},
   "source": [
    "As seen from the example above, `calculate_name()` can be used not only for authors but also for users, librarians, or anyone that has a first name and a last name field. The code that deals with full name calculation is separate from the code that deals with the creation of author data."
   ]
  },
  {
   "cell_type": "code",
   "execution_count": 7,
   "id": "bd9053a8-9fc5-4f2c-b35b-6db0a00bea99",
   "metadata": {},
   "outputs": [],
   "source": [
    "@dataclass\n",
    "class UserData:\n",
    "    \"\"\"Class for keeping track of a user in the system\"\"\"\n",
    "\n",
    "    first_name: str\n",
    "    last_name: str\n",
    "    email: str"
   ]
  },
  {
   "cell_type": "code",
   "execution_count": 8,
   "id": "2d90a320-9b35-4b91-8aac-6a9a65cee344",
   "metadata": {},
   "outputs": [],
   "source": [
    "user_data = UserData(\"John\", \"Doe\", \"john.doe@gmail.com\")"
   ]
  },
  {
   "cell_type": "code",
   "execution_count": 9,
   "id": "d5e1ef93-2ed5-410d-bb1d-a2909045643b",
   "metadata": {},
   "outputs": [
    {
     "data": {
      "text/plain": [
       "'John Doe'"
      ]
     },
     "execution_count": 9,
     "metadata": {},
     "output_type": "execute_result"
    }
   ],
   "source": [
    "calculate_name(user_data.first_name, user_data.last_name)"
   ]
  },
  {
   "cell_type": "markdown",
   "id": "825d3379-2c2f-41c1-8ad4-7de2c96a6ff5",
   "metadata": {},
   "source": [
    "> **Benefit #2:** “Code can be tested in isolation” — Yehonathan Sharvit"
   ]
  },
  {
   "cell_type": "markdown",
   "id": "44688aed-4b77-43e9-8f7e-86a2253e611a",
   "metadata": {},
   "source": [
    "Below is an example that doesn’t adhere to Principle #1."
   ]
  },
  {
   "cell_type": "code",
   "execution_count": 10,
   "id": "df549da0-a8b3-4dd8-92dc-b3825941bca2",
   "metadata": {},
   "outputs": [],
   "source": [
    "class Address:\n",
    "    def __init__(\n",
    "        self, street_num: int, street_name: str, city: str, state: str, zip_code: int\n",
    "    ):\n",
    "        self.street_num = street_num\n",
    "        self.street_name = street_name\n",
    "        self.city = city\n",
    "        self.state = state\n",
    "        self.zip_code = zip_code"
   ]
  },
  {
   "cell_type": "code",
   "execution_count": 11,
   "id": "0dd382de-cd77-458f-bbe2-2040a1acf6f4",
   "metadata": {},
   "outputs": [],
   "source": [
    "class Author:\n",
    "    def __init__(self, first_name: str, last_name: str, n_books: int, address: Address):\n",
    "        self.first_name = first_name\n",
    "        self.last_name = last_name\n",
    "        self.n_books = n_books\n",
    "        self.address = address\n",
    "\n",
    "    @property\n",
    "    def full_name(self):\n",
    "        return f\"{self.first_name} {self.last_name}\"\n",
    "\n",
    "    @property\n",
    "    def is_prolific(self):\n",
    "        return self.n_books > 100"
   ]
  },
  {
   "cell_type": "code",
   "execution_count": 12,
   "id": "7e73d838-63e1-4bb4-ad5a-3f8daea10833",
   "metadata": {},
   "outputs": [],
   "source": [
    "address = Address(651, \"Essex Street\", \"Brooklyn\", \"NY\", 11208)"
   ]
  },
  {
   "cell_type": "code",
   "execution_count": 13,
   "id": "942fe089-5cac-4a44-acc0-5a39f3cc10d1",
   "metadata": {},
   "outputs": [],
   "source": [
    "author = Author(\"Issac\", \"Asimov\", 500, address)"
   ]
  },
  {
   "cell_type": "code",
   "execution_count": 14,
   "id": "4b2f564b-d306-42f8-878a-a7c1fb0fc50e",
   "metadata": {},
   "outputs": [],
   "source": [
    "assert author.full_name == \"Issac Asimov\""
   ]
  },
  {
   "cell_type": "markdown",
   "id": "de2bb2df-cf42-4359-94d6-d11dd2d563a0",
   "metadata": {},
   "source": [
    "In order to test the `full_name()` property that lives inside the `Author` class, we need to instantiate the `Author` object, which requires us to have values for all attributes, including those unrelated to the behavior we are testing (such as `n_books` and `address` custom class). This is an unnecessarily complex and tedious setup just to test a single method."
   ]
  },
  {
   "cell_type": "markdown",
   "id": "55550fd4-006d-45ea-935f-dfb8b92f9969",
   "metadata": {},
   "source": [
    "On the other hand, in the DOP version, to test `calculate_name()` code, we can create data to be passed into the function in isolation."
   ]
  },
  {
   "cell_type": "code",
   "execution_count": 15,
   "id": "fc923a20-888e-45aa-864c-21300d184ee2",
   "metadata": {},
   "outputs": [],
   "source": [
    "assert calculate_name(\"Issac\", \"Asimov\") == \"Issac Asimov\""
   ]
  },
  {
   "cell_type": "markdown",
   "id": "9e7fd24f-c2a1-4440-9710-ac6884aa21ef",
   "metadata": {},
   "source": [
    "# Principle #2: Represent data with generic data structures"
   ]
  },
  {
   "cell_type": "markdown",
   "id": "4b717445-669a-4651-b8db-626665cbff01",
   "metadata": {},
   "source": [
    "“In DOP, data is represented with generic data structures, such as maps (or dictionaries) and arrays (or lists).” — Yehonathan Sharvit"
   ]
  },
  {
   "cell_type": "markdown",
   "id": "d8003ddd-4908-4db7-8885-470a56e05490",
   "metadata": {},
   "source": [
    "In Python, our built-in options for generic data structures are `dict`, `list`, and `tuple`."
   ]
  },
  {
   "cell_type": "markdown",
   "id": "0ace76a3-d629-42ef-9917-f4dcfe79293c",
   "metadata": {},
   "source": [
    "In this article, I use Python’s `dataclass`, which can be thought of as a “mutable named tuple with defaults.” Note that this was not what Sharvit meant by “generic data structure.” Python’s `dataclass` is a hybrid that is closer to OOP than DOP. However, compared with dictionaries and tuples, this alternative is less susceptible to typos, more descriptive with type hinting, helps represent nested complex structure in a clearer and more concise way, and more. Also, it can easily be turned into a dictionary or a tuple if we want to."
   ]
  },
  {
   "cell_type": "code",
   "execution_count": 16,
   "id": "6c9a3d00-c742-43d4-90f3-600ea4ca264d",
   "metadata": {},
   "outputs": [],
   "source": [
    "from dataclasses import asdict, dataclass"
   ]
  },
  {
   "cell_type": "code",
   "execution_count": 17,
   "id": "4628360a-aebc-4ab0-81d0-ab73c9020a6f",
   "metadata": {},
   "outputs": [],
   "source": [
    "@dataclass\n",
    "class AuthorData:\n",
    "    \"\"\"Class for keeping track of an author in the system\"\"\"\n",
    "\n",
    "    first_name: str\n",
    "    last_name: str\n",
    "    n_books: int"
   ]
  },
  {
   "cell_type": "code",
   "execution_count": 18,
   "id": "f0a6d4c2-7213-44be-8b8a-f3f9e6f34521",
   "metadata": {},
   "outputs": [],
   "source": [
    "author_data = AuthorData(\"Isaac\", \"Asimov\", 500)"
   ]
  },
  {
   "cell_type": "code",
   "execution_count": 19,
   "id": "d3acd2a1-4d05-4c6a-85cc-f49cc2e17dd7",
   "metadata": {},
   "outputs": [
    {
     "data": {
      "text/plain": [
       "AuthorData(first_name='Isaac', last_name='Asimov', n_books=500)"
      ]
     },
     "execution_count": 19,
     "metadata": {},
     "output_type": "execute_result"
    }
   ],
   "source": [
    "author_data"
   ]
  },
  {
   "cell_type": "code",
   "execution_count": 20,
   "id": "f3563d9d-d2ca-40af-b37d-c1d96cdfb60b",
   "metadata": {},
   "outputs": [
    {
     "data": {
      "text/plain": [
       "{'first_name': 'Isaac', 'last_name': 'Asimov', 'n_books': 500}"
      ]
     },
     "execution_count": 20,
     "metadata": {},
     "output_type": "execute_result"
    }
   ],
   "source": [
    "asdict(author_data)"
   ]
  },
  {
   "cell_type": "markdown",
   "id": "0c3a2205-4cae-4804-9b3d-0a37cc98ec34",
   "metadata": {},
   "source": [
    "> **Benefit #1:** “The ability to use generic functions that are not limited to our specific use case” — Yehonathan Sharvit"
   ]
  },
  {
   "cell_type": "markdown",
   "id": "e60c1bf2-3164-49fe-8628-74068d4755c1",
   "metadata": {},
   "source": [
    "Given generic structures, we can manipulate data using a rich set of built-in Python functions available on `dict`, `list`, `tuple`, etc.\n",
    "\n",
    "Below are a few examples of generic functions that can be used to manipulate data stored in a `dict`."
   ]
  },
  {
   "cell_type": "code",
   "execution_count": 21,
   "id": "b286eb38-23c3-440e-bbee-306e8fc56e08",
   "metadata": {},
   "outputs": [],
   "source": [
    "author = {\"first_name\": \"Issac\", \"last_name\": \"Asimov\", \"n_books\": 500}"
   ]
  },
  {
   "cell_type": "code",
   "execution_count": 22,
   "id": "7f3feef8-570c-4cb5-a2b9-bb32d940d363",
   "metadata": {},
   "outputs": [
    {
     "data": {
      "text/plain": [
       "'Issac'"
      ]
     },
     "execution_count": 22,
     "metadata": {},
     "output_type": "execute_result"
    }
   ],
   "source": [
    "# Access dict values\n",
    "author.get(\"first_name\")"
   ]
  },
  {
   "cell_type": "code",
   "execution_count": 23,
   "id": "bbf85620-869e-4f94-bb64-42c4dbb082c0",
   "metadata": {},
   "outputs": [],
   "source": [
    "# Add new field to dict\n",
    "author[\"alive\"] = False"
   ]
  },
  {
   "cell_type": "code",
   "execution_count": 24,
   "id": "75d45be8-7a48-4509-8c65-43446129415b",
   "metadata": {},
   "outputs": [
    {
     "data": {
      "text/plain": [
       "{'first_name': 'Issac', 'last_name': 'Asimov', 'n_books': 500, 'alive': False}"
      ]
     },
     "execution_count": 24,
     "metadata": {},
     "output_type": "execute_result"
    }
   ],
   "source": [
    "author"
   ]
  },
  {
   "cell_type": "code",
   "execution_count": 25,
   "id": "659efcc5-2793-4f2d-b9d0-6e49e7b4bad7",
   "metadata": {},
   "outputs": [],
   "source": [
    "# Update existing field\n",
    "author[\"n_books\"] = 703"
   ]
  },
  {
   "cell_type": "code",
   "execution_count": 26,
   "id": "da78d9ef-e593-4ee4-9fff-a01ab3e792db",
   "metadata": {},
   "outputs": [
    {
     "data": {
      "text/plain": [
       "{'first_name': 'Issac', 'last_name': 'Asimov', 'n_books': 703, 'alive': False}"
      ]
     },
     "execution_count": 26,
     "metadata": {},
     "output_type": "execute_result"
    }
   ],
   "source": [
    "author"
   ]
  },
  {
   "cell_type": "markdown",
   "id": "6f4b74e2-fbb9-40ed-b97b-945b4bdaefbb",
   "metadata": {},
   "source": [
    "This means we don’t have to learn and remember the custom methods of everyone’s classes. Also, the generic functions can’t break if we change some library versions. They only break if the Python language changes them (which almost never happens)."
   ]
  },
  {
   "cell_type": "markdown",
   "id": "24468936-7aa2-4947-84c7-04069abde408",
   "metadata": {},
   "source": [
    "> **Benefit #2:** “Flexible data model” — Yehonathan Sharvit"
   ]
  },
  {
   "cell_type": "markdown",
   "id": "87159847-6e59-440e-8187-a14c36000e39",
   "metadata": {},
   "source": [
    "“When using generic data structures, data can be created with no predefined shape, and its shape can be modified at will.” — Yehonathan Sharvit"
   ]
  },
  {
   "cell_type": "markdown",
   "id": "7fab7643-f02a-48de-8061-0e566ace99b4",
   "metadata": {},
   "source": [
    "In the example below, not all the dictionaries in the list have the same keys. The extra keys can exist in the second dictionary as long as the required fields are present."
   ]
  },
  {
   "cell_type": "code",
   "execution_count": 27,
   "id": "7720145b-b722-4985-a7c9-37c96cff757d",
   "metadata": {},
   "outputs": [],
   "source": [
    "names = []"
   ]
  },
  {
   "cell_type": "code",
   "execution_count": 28,
   "id": "190450a0-0c85-43bb-a535-f0bcdab6a256",
   "metadata": {},
   "outputs": [],
   "source": [
    "names.append({\"first_name\": \"Isaac\", \"last_name\": \"Asimov\"})"
   ]
  },
  {
   "cell_type": "code",
   "execution_count": 29,
   "id": "673f304c-5986-462c-8cf9-684df91a3bea",
   "metadata": {},
   "outputs": [
    {
     "data": {
      "text/plain": [
       "[{'first_name': 'Isaac', 'last_name': 'Asimov'}]"
      ]
     },
     "execution_count": 29,
     "metadata": {},
     "output_type": "execute_result"
    }
   ],
   "source": [
    "names"
   ]
  },
  {
   "cell_type": "code",
   "execution_count": 30,
   "id": "41057086-b259-4471-9b50-4c2e8f48b470",
   "metadata": {},
   "outputs": [],
   "source": [
    "names.append({\"first_name\": \"Jane\", \"last_name\": \"Doe\", \"suffix\": \"III\", \"age\": 70})"
   ]
  },
  {
   "cell_type": "code",
   "execution_count": 31,
   "id": "4144f9f9-a4f6-457c-8e96-cb0c57b1e3a1",
   "metadata": {},
   "outputs": [
    {
     "data": {
      "text/plain": [
       "[{'first_name': 'Isaac', 'last_name': 'Asimov'},\n",
       " {'first_name': 'Jane', 'last_name': 'Doe', 'suffix': 'III', 'age': 70}]"
      ]
     },
     "execution_count": 31,
     "metadata": {},
     "output_type": "execute_result"
    }
   ],
   "source": [
    "names"
   ]
  },
  {
   "cell_type": "markdown",
   "id": "4587a314-2651-464d-b0f9-06d4d4b235e5",
   "metadata": {},
   "source": [
    "# Principle # 3: Data is immutable"
   ]
  },
  {
   "cell_type": "markdown",
   "id": "f48cf76f-880f-4590-a64c-112d99473b06",
   "metadata": {},
   "source": [
    "“According to DOP, data should never change! Instead of mutating data, a new version of it is created.” — Yehonathan Sharvit"
   ]
  },
  {
   "cell_type": "markdown",
   "id": "deb29c05-e042-425d-b657-427bec82e180",
   "metadata": {},
   "source": [
    "To adhere to this principle, we make our `dataclass` frozen (i.e. immutable)."
   ]
  },
  {
   "cell_type": "code",
   "execution_count": 32,
   "id": "b9520137-fd92-4d15-9330-ccc8ab61fd0e",
   "metadata": {},
   "outputs": [],
   "source": [
    "@dataclass(frozen=True)\n",
    "class AuthorData:\n",
    "    \"\"\"Class for keeping track of an author in the system\"\"\"\n",
    "\n",
    "    first_name: str\n",
    "    last_name: str\n",
    "    n_books: int"
   ]
  },
  {
   "cell_type": "markdown",
   "id": "6e078a73-3aa8-44d7-8386-c269eb9e59b9",
   "metadata": {},
   "source": [
    "The immutable data types in built-in Python are `int`, `float`, `decimal`, `bool`, `string`, `tuple` and `range`. Note that `dict`, `list` and `set` are mutable."
   ]
  },
  {
   "cell_type": "markdown",
   "id": "7ac8cb11-25ec-478b-8c77-b263a21d89f7",
   "metadata": {},
   "source": [
    "> **Benefit #1:** “Data access to all with confidence” — Yehonathan Sharvit"
   ]
  },
  {
   "cell_type": "markdown",
   "id": "c7f949a2-acb3-4b7a-b80b-d70fda656868",
   "metadata": {},
   "source": [
    "“When data is mutable, we must be careful when passing data as an argument to a function since it can be mutated or cloned.” — Yehonathan Sharvit"
   ]
  },
  {
   "cell_type": "markdown",
   "id": "48c9b69f-a1a8-4386-a0c5-b1b22ced9e1d",
   "metadata": {},
   "source": [
    "In the example below, we originally pass an empty list as a default argument to the function. Since list is a mutable object, every time we call the function, the list gets mutated and a different default value gets used in the successive call."
   ]
  },
  {
   "cell_type": "code",
   "execution_count": 33,
   "id": "34f7420c-1c40-4234-b1ac-81a3f42eac8a",
   "metadata": {},
   "outputs": [],
   "source": [
    "def append_to_list(el, ls=[]):\n",
    "    ls.append(el)\n",
    "    return ls"
   ]
  },
  {
   "cell_type": "code",
   "execution_count": 34,
   "id": "855e38fb-1bf1-441f-a337-af549e4ee491",
   "metadata": {},
   "outputs": [
    {
     "data": {
      "text/plain": [
       "[1]"
      ]
     },
     "execution_count": 34,
     "metadata": {},
     "output_type": "execute_result"
    }
   ],
   "source": [
    "append_to_list(1)"
   ]
  },
  {
   "cell_type": "code",
   "execution_count": 35,
   "id": "b50efba1-b616-4971-ba3e-483c1242d92a",
   "metadata": {},
   "outputs": [
    {
     "data": {
      "text/plain": [
       "[1, 2]"
      ]
     },
     "execution_count": 35,
     "metadata": {},
     "output_type": "execute_result"
    }
   ],
   "source": [
    "append_to_list(2)"
   ]
  },
  {
   "cell_type": "code",
   "execution_count": 36,
   "id": "cf81c72e-d254-4f81-885f-7f07ce7cfa17",
   "metadata": {},
   "outputs": [
    {
     "data": {
      "text/plain": [
       "[1, 2, 3]"
      ]
     },
     "execution_count": 36,
     "metadata": {},
     "output_type": "execute_result"
    }
   ],
   "source": [
    "append_to_list(3)"
   ]
  },
  {
   "cell_type": "markdown",
   "id": "a25f0b65-802a-45f5-b56b-acd2444eb40b",
   "metadata": {},
   "source": [
    "To fix the use case above, we can do:"
   ]
  },
  {
   "cell_type": "code",
   "execution_count": 37,
   "id": "a8ca7fdf-62c2-4a29-8f91-b9a0d75781f0",
   "metadata": {},
   "outputs": [],
   "source": [
    "def append_to_list(el, ls=None):\n",
    "    if ls is None:\n",
    "        ls = []\n",
    "    ls.append(el)\n",
    "    return ls"
   ]
  },
  {
   "cell_type": "code",
   "execution_count": 38,
   "id": "96c40cf0-fb21-4414-abe6-2ced8b6ddc7a",
   "metadata": {},
   "outputs": [
    {
     "data": {
      "text/plain": [
       "[1]"
      ]
     },
     "execution_count": 38,
     "metadata": {},
     "output_type": "execute_result"
    }
   ],
   "source": [
    "append_to_list(1)"
   ]
  },
  {
   "cell_type": "code",
   "execution_count": 39,
   "id": "47b4a307-73f7-4e00-98eb-0733c7e305b3",
   "metadata": {},
   "outputs": [
    {
     "data": {
      "text/plain": [
       "[2]"
      ]
     },
     "execution_count": 39,
     "metadata": {},
     "output_type": "execute_result"
    }
   ],
   "source": [
    "append_to_list(2)"
   ]
  },
  {
   "cell_type": "markdown",
   "id": "4c1e5426-5894-4d1d-8530-2f8a001b9317",
   "metadata": {},
   "source": [
    "This code works as expected because `None` is immutable."
   ]
  },
  {
   "cell_type": "markdown",
   "id": "7c040363-122a-45b9-87eb-5b44e0593931",
   "metadata": {},
   "source": [
    "“When data is immutable, it can be passed to any function with confidence because data never changes.” — Yehonathan Sharvit"
   ]
  },
  {
   "cell_type": "markdown",
   "id": "99101e9d-0e03-4109-b409-7db0fcea0f7d",
   "metadata": {},
   "source": [
    "> **Benefit #2:** “Predictable code behavior” — Yehonathan Sharvit"
   ]
  },
  {
   "cell_type": "markdown",
   "id": "ef441a4b-0e43-4f5b-8674-716959979c4e",
   "metadata": {},
   "source": [
    "Here is an example of an unpredictable piece of code:"
   ]
  },
  {
   "cell_type": "code",
   "execution_count": 40,
   "id": "2ebe2d56-816a-48dd-b451-d0bda8b2cf4c",
   "metadata": {},
   "outputs": [],
   "source": [
    "from datetime import date"
   ]
  },
  {
   "cell_type": "code",
   "execution_count": 41,
   "id": "c13e4b0b-533f-4353-a2ae-5ea91d55181a",
   "metadata": {},
   "outputs": [],
   "source": [
    "dummy = {\"age\": 30}"
   ]
  },
  {
   "cell_type": "code",
   "execution_count": 42,
   "id": "14dcdb45-dd14-4d02-a96c-a0b5bb6a0392",
   "metadata": {},
   "outputs": [],
   "source": [
    "if date.today().day % 2 == 0:\n",
    "    dummy[\"age\"] = 40"
   ]
  },
  {
   "cell_type": "markdown",
   "id": "94691200-97bd-40f0-8b9c-2b34a3f606f3",
   "metadata": {},
   "source": [
    "The value of `age` in `dummy` dictionary is not predictable. It depends on whether you run the code on an even or odd day.\n",
    "\n",
    "However, with immutable data, it is guaranteed that data never changes."
   ]
  },
  {
   "cell_type": "code",
   "execution_count": 43,
   "id": "2cfbc167-7796-4bc3-8f4f-118f2daa6ed0",
   "metadata": {},
   "outputs": [],
   "source": [
    "author_data = AuthorData(\"Issac\", \"Asimov\", 500)"
   ]
  },
  {
   "cell_type": "code",
   "execution_count": 44,
   "id": "a835df0b-1014-472c-86b2-3c2be7476f54",
   "metadata": {},
   "outputs": [
    {
     "ename": "FrozenInstanceError",
     "evalue": "cannot assign to field 'n_books'",
     "output_type": "error",
     "traceback": [
      "\u001b[1;31m---------------------------------------------------------------------------\u001b[0m",
      "\u001b[1;31mFrozenInstanceError\u001b[0m                       Traceback (most recent call last)",
      "Cell \u001b[1;32mIn[44], line 2\u001b[0m\n\u001b[0;32m      1\u001b[0m \u001b[38;5;28;01mif\u001b[39;00m date\u001b[38;5;241m.\u001b[39mtoday()\u001b[38;5;241m.\u001b[39mday \u001b[38;5;241m%\u001b[39m \u001b[38;5;241m2\u001b[39m \u001b[38;5;241m==\u001b[39m \u001b[38;5;241m1\u001b[39m:\n\u001b[1;32m----> 2\u001b[0m     \u001b[43mauthor_data\u001b[49m\u001b[38;5;241;43m.\u001b[39;49m\u001b[43mn_books\u001b[49m \u001b[38;5;241m=\u001b[39m \u001b[38;5;241m100\u001b[39m\n",
      "File \u001b[1;32m<string>:4\u001b[0m, in \u001b[0;36m__setattr__\u001b[1;34m(self, name, value)\u001b[0m\n",
      "\u001b[1;31mFrozenInstanceError\u001b[0m: cannot assign to field 'n_books'"
     ]
    }
   ],
   "source": [
    "if date.today().day % 2 == 1:\n",
    "    author_data.n_books = 100"
   ]
  },
  {
   "cell_type": "code",
   "execution_count": 45,
   "id": "8c2c8930-87ef-4294-9821-cc48425d4a7f",
   "metadata": {},
   "outputs": [
    {
     "data": {
      "text/plain": [
       "500"
      ]
     },
     "execution_count": 45,
     "metadata": {},
     "output_type": "execute_result"
    }
   ],
   "source": [
    "author_data.n_books"
   ]
  },
  {
   "cell_type": "markdown",
   "id": "ffbcfd96-2d51-4f7b-ad10-a9f176161c36",
   "metadata": {},
   "source": [
    "The piece of code above would error out, saying `dataclasses.FrozenInstanceError: cannot assign to field \"n_books\"`. With frozen data class, no matter it’s an even or odd day, `author_data.n_books` is always 500."
   ]
  },
  {
   "cell_type": "markdown",
   "id": "ac6bc256-c887-4021-aba0-9b34d6dac1a9",
   "metadata": {},
   "source": [
    "> **Benefit #3:** “Fast equality checks” — Yehonathan Sharvit"
   ]
  },
  {
   "cell_type": "markdown",
   "id": "8f34ef5c-9a3c-4ca3-af37-ed9127754ae6",
   "metadata": {},
   "source": [
    "Python has two similar operators for checking whether two objects are equal: `is` and `==` . `is` checks for identity (of objects) by comparing the integer equality of the memory address. `==` checks for equality (of values) by examining the actual content stored."
   ]
  },
  {
   "cell_type": "code",
   "execution_count": 46,
   "id": "d9c4ad22-9051-4bf8-bc73-2c57ab57e174",
   "metadata": {},
   "outputs": [],
   "source": [
    "# String is immutable\n",
    "x = \"abc\""
   ]
  },
  {
   "cell_type": "code",
   "execution_count": 47,
   "id": "921c4736-2a46-4680-9042-6852215e8bd4",
   "metadata": {},
   "outputs": [
    {
     "name": "stdout",
     "output_type": "stream",
     "text": [
      "2807756546288\n"
     ]
    }
   ],
   "source": [
    "# Note that the identity of `x` and `abc` is the same\n",
    "print(id(x))"
   ]
  },
  {
   "cell_type": "code",
   "execution_count": 48,
   "id": "0897392e-63ee-46ba-ac7f-3813cd8f742c",
   "metadata": {},
   "outputs": [
    {
     "name": "stdout",
     "output_type": "stream",
     "text": [
      "2807756546288\n"
     ]
    }
   ],
   "source": [
    "print(id(\"abc\"))\n",
    "# 140676188882480"
   ]
  },
  {
   "cell_type": "code",
   "execution_count": 49,
   "id": "ece0215b-74dd-42ac-aaa5-72b403e2135e",
   "metadata": {},
   "outputs": [
    {
     "name": "stdout",
     "output_type": "stream",
     "text": [
      "True\n"
     ]
    }
   ],
   "source": [
    "print(x == \"abc\")"
   ]
  },
  {
   "cell_type": "code",
   "execution_count": 50,
   "id": "edfac147-1571-417e-a761-8cc60a6e9129",
   "metadata": {},
   "outputs": [
    {
     "name": "stdout",
     "output_type": "stream",
     "text": [
      "True\n"
     ]
    },
    {
     "name": "stderr",
     "output_type": "stream",
     "text": [
      "<>:1: SyntaxWarning: \"is\" with a literal. Did you mean \"==\"?\n",
      "<>:1: SyntaxWarning: \"is\" with a literal. Did you mean \"==\"?\n",
      "C:\\Users\\johnw\\AppData\\Local\\Temp\\ipykernel_20500\\3228515758.py:1: SyntaxWarning: \"is\" with a literal. Did you mean \"==\"?\n",
      "  print(x is \"abc\")\n"
     ]
    }
   ],
   "source": [
    "print(x is \"abc\")"
   ]
  },
  {
   "cell_type": "code",
   "execution_count": 51,
   "id": "f7a01071-4418-491b-b350-4e106cf4c95f",
   "metadata": {},
   "outputs": [],
   "source": [
    "# List is mutable\n",
    "y = [1, 2, 3]"
   ]
  },
  {
   "cell_type": "code",
   "execution_count": 52,
   "id": "e6547639-107f-4287-a115-3bdc3c442833",
   "metadata": {},
   "outputs": [
    {
     "name": "stdout",
     "output_type": "stream",
     "text": [
      "2807857420800\n"
     ]
    }
   ],
   "source": [
    "# Note that the identity of `y` and `[1, 2, 3]` is different\n",
    "print(id(y))"
   ]
  },
  {
   "cell_type": "code",
   "execution_count": 53,
   "id": "fcdc7e24-8b5d-4a00-8a24-07322fe51748",
   "metadata": {},
   "outputs": [
    {
     "name": "stdout",
     "output_type": "stream",
     "text": [
      "2807857423872\n"
     ]
    }
   ],
   "source": [
    "print(id([1, 2, 3]))"
   ]
  },
  {
   "cell_type": "code",
   "execution_count": 54,
   "id": "76d875bc-4780-49f4-9045-8eb188fd002f",
   "metadata": {},
   "outputs": [
    {
     "name": "stdout",
     "output_type": "stream",
     "text": [
      "True\n"
     ]
    }
   ],
   "source": [
    "print(y == [1, 2, 3])"
   ]
  },
  {
   "cell_type": "code",
   "execution_count": 55,
   "id": "7a1ff174-5a82-46f4-b825-747305ed3233",
   "metadata": {},
   "outputs": [
    {
     "name": "stdout",
     "output_type": "stream",
     "text": [
      "False\n"
     ]
    }
   ],
   "source": [
    "print(y is [1, 2, 3])"
   ]
  },
  {
   "cell_type": "markdown",
   "id": "94c3a28a-bf0e-4c8c-b61a-3a4a675efdf8",
   "metadata": {},
   "source": [
    "As seen above, `is` and `==` behaves the same way for `x` which is a string (i.e. immutable data type) but behaves differently for `y` which is a list (i.e. mutable data type). With immutable data objects, `is` behaves more predictably. Also, `is` is generally faster than `==` because comparing object addresses is faster than comparing all the fields. Immutable data thus enables fast equality checks by comparing data by reference."
   ]
  },
  {
   "cell_type": "markdown",
   "id": "ac65db40-92f8-4d1e-8585-e6db457456a0",
   "metadata": {},
   "source": [
    "# Principle #4: Separate data schema from data representation"
   ]
  },
  {
   "cell_type": "markdown",
   "id": "1567cde4-4aba-4f00-8285-98774d800028",
   "metadata": {},
   "source": [
    "“In DOP, the expected shape of data is represented as (meta) data that is kept separately from the main data representation.” — Yehonathan Sharvit"
   ]
  },
  {
   "cell_type": "markdown",
   "id": "7a54721e-e0bc-498d-adb2-f4fddaef5cd4",
   "metadata": {},
   "source": [
    "Given below is a basic JSON schema (essentially a dictionary) that describes the format of data which is also represented as a dictionary. The schema defines which fields are required and the data types of the fields, whereas the data is represented by a generic data structure per Principle #3."
   ]
  },
  {
   "cell_type": "code",
   "execution_count": 56,
   "id": "0e524b9e-ee13-430d-b2df-d87cd630533a",
   "metadata": {},
   "outputs": [],
   "source": [
    "schema = {\n",
    "    \"required\": [\"first_name\", \"last_name\"],\n",
    "    \"properties\": {\n",
    "        \"first_name\": {\"type\": str},\n",
    "        \"last_name\": {\"type\": str},\n",
    "        \"books\": {\"type\": int},\n",
    "    },\n",
    "}"
   ]
  },
  {
   "cell_type": "code",
   "execution_count": 57,
   "id": "f5859e59-036d-4d0b-bdbb-9e738b42eb00",
   "metadata": {},
   "outputs": [],
   "source": [
    "data = {\n",
    "    \"valid\": {\"first_name\": \"Isaac\", \"last_name\": \"Asimov\", \"books\": 500},\n",
    "    \"invalid1\": {\n",
    "        \"fist_name\": \"Isaac\",\n",
    "        \"last_name\": \"Asimov\",\n",
    "    },\n",
    "    \"invalid2\": {\"first_name\": \"Isaac\", \"last_name\": \"Asimov\", \"books\": \"five hundred\"},\n",
    "}"
   ]
  },
  {
   "cell_type": "markdown",
   "id": "99d1df9a-709e-46b7-8d32-7fbf7df51e90",
   "metadata": {},
   "source": [
    "Data validation functions (or libraries) can be used to check whether a piece of data conforms to a data schema."
   ]
  },
  {
   "cell_type": "code",
   "execution_count": 58,
   "id": "292f8a66-3c46-4e51-b3aa-097b94fcf784",
   "metadata": {},
   "outputs": [],
   "source": [
    "def validate(data):\n",
    "    assert set(schema[\"required\"]).issubset(\n",
    "        set(data.keys())\n",
    "    ), f\"Data must have following fields: {schema['required']}\"\n",
    "\n",
    "    for k in data:\n",
    "        if k in schema[\"properties\"].keys():\n",
    "            assert (\n",
    "                type(data[k]) == schema[\"properties\"][k][\"type\"]\n",
    "            ), f\"Field {k} must be of type {str(schema['properties'][k]['type'])}\""
   ]
  },
  {
   "cell_type": "markdown",
   "id": "b789d234-6657-4cdc-bc27-d0cabeb2fd6e",
   "metadata": {},
   "source": [
    "The `validate` function passes through when data is valid or returns errors with details in a human readable format when data is invalid."
   ]
  },
  {
   "cell_type": "code",
   "execution_count": 59,
   "id": "26f48334-23cb-4f2f-a5de-2c9ac3806f88",
   "metadata": {},
   "outputs": [],
   "source": [
    "validate(data[\"valid\"])"
   ]
  },
  {
   "cell_type": "code",
   "execution_count": 60,
   "id": "58bb9ebb-b542-4090-9055-ceb897ab7a01",
   "metadata": {},
   "outputs": [
    {
     "ename": "AssertionError",
     "evalue": "Data must have following fields: ['first_name', 'last_name']",
     "output_type": "error",
     "traceback": [
      "\u001b[1;31m---------------------------------------------------------------------------\u001b[0m",
      "\u001b[1;31mAssertionError\u001b[0m                            Traceback (most recent call last)",
      "Cell \u001b[1;32mIn[60], line 1\u001b[0m\n\u001b[1;32m----> 1\u001b[0m \u001b[43mvalidate\u001b[49m\u001b[43m(\u001b[49m\u001b[43mdata\u001b[49m\u001b[43m[\u001b[49m\u001b[38;5;124;43m\"\u001b[39;49m\u001b[38;5;124;43minvalid1\u001b[39;49m\u001b[38;5;124;43m\"\u001b[39;49m\u001b[43m]\u001b[49m\u001b[43m)\u001b[49m\n",
      "Cell \u001b[1;32mIn[58], line 2\u001b[0m, in \u001b[0;36mvalidate\u001b[1;34m(data)\u001b[0m\n\u001b[0;32m      1\u001b[0m \u001b[38;5;28;01mdef\u001b[39;00m \u001b[38;5;21mvalidate\u001b[39m(data):\n\u001b[1;32m----> 2\u001b[0m     \u001b[38;5;28;01massert\u001b[39;00m \u001b[38;5;28mset\u001b[39m(schema[\u001b[38;5;124m\"\u001b[39m\u001b[38;5;124mrequired\u001b[39m\u001b[38;5;124m\"\u001b[39m])\u001b[38;5;241m.\u001b[39missubset(\n\u001b[0;32m      3\u001b[0m         \u001b[38;5;28mset\u001b[39m(data\u001b[38;5;241m.\u001b[39mkeys())\n\u001b[0;32m      4\u001b[0m     ), \u001b[38;5;124mf\u001b[39m\u001b[38;5;124m\"\u001b[39m\u001b[38;5;124mData must have following fields: \u001b[39m\u001b[38;5;132;01m{\u001b[39;00mschema[\u001b[38;5;124m'\u001b[39m\u001b[38;5;124mrequired\u001b[39m\u001b[38;5;124m'\u001b[39m]\u001b[38;5;132;01m}\u001b[39;00m\u001b[38;5;124m\"\u001b[39m\n\u001b[0;32m      6\u001b[0m     \u001b[38;5;28;01mfor\u001b[39;00m k \u001b[38;5;129;01min\u001b[39;00m data:\n\u001b[0;32m      7\u001b[0m         \u001b[38;5;28;01mif\u001b[39;00m k \u001b[38;5;129;01min\u001b[39;00m schema[\u001b[38;5;124m\"\u001b[39m\u001b[38;5;124mproperties\u001b[39m\u001b[38;5;124m\"\u001b[39m]\u001b[38;5;241m.\u001b[39mkeys():\n",
      "\u001b[1;31mAssertionError\u001b[0m: Data must have following fields: ['first_name', 'last_name']"
     ]
    }
   ],
   "source": [
    "validate(data[\"invalid1\"])"
   ]
  },
  {
   "cell_type": "code",
   "execution_count": 61,
   "id": "4cc244a4-3bc3-4e3b-9596-9bb167bd24ec",
   "metadata": {},
   "outputs": [
    {
     "ename": "AssertionError",
     "evalue": "Field books must be of type <class 'int'>",
     "output_type": "error",
     "traceback": [
      "\u001b[1;31m---------------------------------------------------------------------------\u001b[0m",
      "\u001b[1;31mAssertionError\u001b[0m                            Traceback (most recent call last)",
      "Cell \u001b[1;32mIn[61], line 1\u001b[0m\n\u001b[1;32m----> 1\u001b[0m \u001b[43mvalidate\u001b[49m\u001b[43m(\u001b[49m\u001b[43mdata\u001b[49m\u001b[43m[\u001b[49m\u001b[38;5;124;43m\"\u001b[39;49m\u001b[38;5;124;43minvalid2\u001b[39;49m\u001b[38;5;124;43m\"\u001b[39;49m\u001b[43m]\u001b[49m\u001b[43m)\u001b[49m\n",
      "Cell \u001b[1;32mIn[58], line 9\u001b[0m, in \u001b[0;36mvalidate\u001b[1;34m(data)\u001b[0m\n\u001b[0;32m      6\u001b[0m \u001b[38;5;28;01mfor\u001b[39;00m k \u001b[38;5;129;01min\u001b[39;00m data:\n\u001b[0;32m      7\u001b[0m     \u001b[38;5;28;01mif\u001b[39;00m k \u001b[38;5;129;01min\u001b[39;00m schema[\u001b[38;5;124m\"\u001b[39m\u001b[38;5;124mproperties\u001b[39m\u001b[38;5;124m\"\u001b[39m]\u001b[38;5;241m.\u001b[39mkeys():\n\u001b[0;32m      8\u001b[0m         \u001b[38;5;28;01massert\u001b[39;00m (\n\u001b[1;32m----> 9\u001b[0m             \u001b[38;5;28mtype\u001b[39m(data[k]) \u001b[38;5;241m==\u001b[39m schema[\u001b[38;5;124m\"\u001b[39m\u001b[38;5;124mproperties\u001b[39m\u001b[38;5;124m\"\u001b[39m][k][\u001b[38;5;124m\"\u001b[39m\u001b[38;5;124mtype\u001b[39m\u001b[38;5;124m\"\u001b[39m]\n\u001b[0;32m     10\u001b[0m         ), \u001b[38;5;124mf\u001b[39m\u001b[38;5;124m\"\u001b[39m\u001b[38;5;124mField \u001b[39m\u001b[38;5;132;01m{\u001b[39;00mk\u001b[38;5;132;01m}\u001b[39;00m\u001b[38;5;124m must be of type \u001b[39m\u001b[38;5;132;01m{\u001b[39;00m\u001b[38;5;28mstr\u001b[39m(schema[\u001b[38;5;124m'\u001b[39m\u001b[38;5;124mproperties\u001b[39m\u001b[38;5;124m'\u001b[39m][k][\u001b[38;5;124m'\u001b[39m\u001b[38;5;124mtype\u001b[39m\u001b[38;5;124m'\u001b[39m])\u001b[38;5;132;01m}\u001b[39;00m\u001b[38;5;124m\"\u001b[39m\n",
      "\u001b[1;31mAssertionError\u001b[0m: Field books must be of type <class 'int'>"
     ]
    }
   ],
   "source": [
    "validate(data[\"invalid2\"])"
   ]
  },
  {
   "cell_type": "markdown",
   "id": "c3f6fcb3-d62a-4d10-8ef5-8f26273fb445",
   "metadata": {},
   "source": [
    "Compared with the minimal schema defined above, the following schema can be expanded to include more properties for each field."
   ]
  },
  {
   "cell_type": "code",
   "execution_count": 62,
   "id": "0ab85a96-405e-4983-8906-f84bfe0a9dcd",
   "metadata": {},
   "outputs": [],
   "source": [
    "schema = {\n",
    "    \"required\": [\"first_name\", \"last_name\"],\n",
    "    \"properties\": {\n",
    "        \"first_name\": {\n",
    "            \"type\": str,\n",
    "            \"max_length\": 100,\n",
    "        },\n",
    "        \"last_name\": {\n",
    "            \"type\": str,\n",
    "            \"max_length\": 100\n",
    "        },\n",
    "        \"books\": {\n",
    "            \"type\": int,\n",
    "            \"min\": 0,\n",
    "            \"max\": 10000,\n",
    "        },\n",
    "    }\n",
    "}"
   ]
  },
  {
   "cell_type": "markdown",
   "id": "465f0060-6877-4520-817e-505999b0d2b4",
   "metadata": {},
   "source": [
    "While not all the advantages and disadvantages of DOP principles mentioned by Sharvit directly apply to Python, the fundamental principles remain robust. This approach promotes code that is easier to reason about, test and maintain. By embracing the principles and techniques of DOP, Python programmers can create more maintainable and scalable code, and unlock the full potential of their data."
   ]
  },
  {
   "cell_type": "code",
   "execution_count": null,
   "id": "3a1f6416-21c7-4b6c-a994-21c7e3a63b29",
   "metadata": {},
   "outputs": [],
   "source": []
  }
 ],
 "metadata": {
  "kernelspec": {
   "display_name": "Python [conda env:ls_env]",
   "language": "python",
   "name": "conda-env-ls_env-py"
  },
  "language_info": {
   "codemirror_mode": {
    "name": "ipython",
    "version": 3
   },
   "file_extension": ".py",
   "mimetype": "text/x-python",
   "name": "python",
   "nbconvert_exporter": "python",
   "pygments_lexer": "ipython3",
   "version": "3.10.8"
  }
 },
 "nbformat": 4,
 "nbformat_minor": 5
}
