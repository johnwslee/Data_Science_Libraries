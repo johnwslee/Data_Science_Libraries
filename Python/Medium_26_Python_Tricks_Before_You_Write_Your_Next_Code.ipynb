{
 "cells": [
  {
   "cell_type": "markdown",
   "id": "f50a4a1b-00be-429c-89fa-bf0c46802e0a",
   "metadata": {},
   "source": [
    "# Itertools"
   ]
  },
  {
   "cell_type": "markdown",
   "id": "f477453d-d5f1-425d-9a59-6b90644c4748",
   "metadata": {},
   "source": [
    "The `itertools` module provides a set of functions to work with iterators and is not widely known. Some of the functions in this module are `chain`, `product`, and `permutations`."
   ]
  },
  {
   "cell_type": "code",
   "execution_count": 1,
   "id": "487d9268-0700-4b12-a56a-082d781a1d6e",
   "metadata": {},
   "outputs": [],
   "source": [
    "import itertools\n",
    "\n",
    "numbers = [1, 2, 3]"
   ]
  },
  {
   "cell_type": "code",
   "execution_count": 2,
   "id": "298fc4c0-8f74-400e-9507-d0f043a07050",
   "metadata": {},
   "outputs": [
    {
     "data": {
      "text/plain": [
       "[(1, 2, 3), (1, 3, 2), (2, 1, 3), (2, 3, 1), (3, 1, 2), (3, 2, 1)]"
      ]
     },
     "execution_count": 2,
     "metadata": {},
     "output_type": "execute_result"
    }
   ],
   "source": [
    "list(itertools.permutations(numbers))"
   ]
  },
  {
   "cell_type": "markdown",
   "id": "d695dbc6-1d72-4ea5-b77c-4eb242c87244",
   "metadata": {},
   "source": [
    "# Decorators"
   ]
  },
  {
   "cell_type": "markdown",
   "id": "d573f8c6-0738-4a89-8333-2ceb95d56e89",
   "metadata": {},
   "source": [
    "Decorators are a way to modify the behavior of a function or a class. They are defined using the `@` symbol and can be used to add functionality to a function, such as logging, timing, or authentication."
   ]
  },
  {
   "cell_type": "code",
   "execution_count": 3,
   "id": "ae8e7cb1-90f4-4741-b687-cf52c8106402",
   "metadata": {},
   "outputs": [],
   "source": [
    "def log_function(func):\n",
    "    def wrapper(*args, **kwargs):\n",
    "        print(f\"Running {func.__name__}\")\n",
    "        result = func(*args, **kwargs)\n",
    "        print(f\"{func.__name__} returned {result}\")\n",
    "        return result\n",
    "\n",
    "    return wrapper"
   ]
  },
  {
   "cell_type": "code",
   "execution_count": 4,
   "id": "71cd7703-8c4f-4fe6-b207-d9f38fa648e7",
   "metadata": {},
   "outputs": [],
   "source": [
    "@log_function\n",
    "def add(x, y):\n",
    "    return x + y"
   ]
  },
  {
   "cell_type": "code",
   "execution_count": 5,
   "id": "4a4ebc12-3af1-4c8a-a2e8-62d4982b7952",
   "metadata": {},
   "outputs": [
    {
     "name": "stdout",
     "output_type": "stream",
     "text": [
      "Running add\n",
      "add returned 12\n"
     ]
    },
    {
     "data": {
      "text/plain": [
       "12"
      ]
     },
     "execution_count": 5,
     "metadata": {},
     "output_type": "execute_result"
    }
   ],
   "source": [
    "add(5, 7)"
   ]
  },
  {
   "cell_type": "markdown",
   "id": "4aef1982-a1fb-4bd2-9eb8-ec2c261483f8",
   "metadata": {},
   "source": [
    "# Multiple Function Arguments"
   ]
  },
  {
   "cell_type": "markdown",
   "id": "a316e023-c4b7-4b2a-b0fa-20014ece036c",
   "metadata": {},
   "source": [
    "In Python, you can use the `*` and `**` operator to handle multiple function arguments. The `*` operator is used to pass a list of arguments as separate positional arguments, and the `**` operator is used to pass a dictionary of keyword arguments."
   ]
  },
  {
   "cell_type": "code",
   "execution_count": 6,
   "id": "dcae6a6a-bb92-4b2e-be7c-8e13173c8650",
   "metadata": {},
   "outputs": [],
   "source": [
    "def print_arguments(*args, **kwargs):\n",
    "    print(args)\n",
    "    print(kwargs)"
   ]
  },
  {
   "cell_type": "code",
   "execution_count": 7,
   "id": "af485c40-6176-4f29-a1ae-b8d5b33659e5",
   "metadata": {},
   "outputs": [
    {
     "name": "stdout",
     "output_type": "stream",
     "text": [
      "(1, 2, 3)\n",
      "{'name': 'John', 'age': 30}\n"
     ]
    }
   ],
   "source": [
    "print_arguments(1, 2, 3, name=\"John\", age=30)"
   ]
  },
  {
   "cell_type": "markdown",
   "id": "2f433926-c756-4178-be3c-7d6bf3daa4eb",
   "metadata": {},
   "source": [
    "# Dynamic Importing"
   ]
  },
  {
   "cell_type": "markdown",
   "id": "98fd0e4d-185d-4ced-9ee1-4239e9959cc6",
   "metadata": {},
   "source": [
    "You can import a module dynamically using the `importlib` module. This can be useful when you want to import a module based on user input or configuration."
   ]
  },
  {
   "cell_type": "code",
   "execution_count": 8,
   "id": "d35b8382-312e-43d1-af60-984e1f7777e7",
   "metadata": {},
   "outputs": [],
   "source": [
    "import importlib\n",
    "\n",
    "module_name = \"math\"\n",
    "module = importlib.import_module(module_name)"
   ]
  },
  {
   "cell_type": "code",
   "execution_count": 9,
   "id": "34a535fb-7720-4d3b-8aff-70710360e4ba",
   "metadata": {},
   "outputs": [
    {
     "data": {
      "text/plain": [
       "3.0"
      ]
     },
     "execution_count": 9,
     "metadata": {},
     "output_type": "execute_result"
    }
   ],
   "source": [
    "module.sqrt(9)"
   ]
  },
  {
   "cell_type": "markdown",
   "id": "50400a00-f5ce-4aed-9bed-7ed0c8179bc2",
   "metadata": {},
   "source": [
    "# Callable Objects"
   ]
  },
  {
   "cell_type": "markdown",
   "id": "d5ea9a1f-9811-4245-916f-fbec4d0d9947",
   "metadata": {},
   "source": [
    "In Python, anything that can be called a function is called a callable object. This includes functions, methods, classes, and even objects that define the `__call__` method."
   ]
  },
  {
   "cell_type": "code",
   "execution_count": 10,
   "id": "5fc50e11-f6e4-4a55-80f6-d95cc66b3058",
   "metadata": {},
   "outputs": [],
   "source": [
    "class Adder:\n",
    "    def __call__(self, x, y):\n",
    "        return x + y"
   ]
  },
  {
   "cell_type": "code",
   "execution_count": 11,
   "id": "ee1814fe-629d-4ff7-a2fd-af34127ca8e1",
   "metadata": {},
   "outputs": [],
   "source": [
    "adder = Adder()"
   ]
  },
  {
   "cell_type": "code",
   "execution_count": 12,
   "id": "367befa9-f300-44bb-892a-0687105d0555",
   "metadata": {},
   "outputs": [
    {
     "data": {
      "text/plain": [
       "7"
      ]
     },
     "execution_count": 12,
     "metadata": {},
     "output_type": "execute_result"
    }
   ],
   "source": [
    "adder(3, 4)"
   ]
  },
  {
   "cell_type": "markdown",
   "id": "08bb7c27-e1c5-485e-ad11-f0f05f95528e",
   "metadata": {},
   "source": [
    "# Merge 2 dictionaries quickly"
   ]
  },
  {
   "cell_type": "markdown",
   "id": "1a3c2827-8012-42c2-8fe3-3a79d277aaae",
   "metadata": {},
   "source": [
    "We can quickly merge 2 dictionaries in python using the following piece of code."
   ]
  },
  {
   "cell_type": "code",
   "execution_count": 13,
   "id": "26626d34-cfbe-4dfb-8138-8efdcce4d581",
   "metadata": {},
   "outputs": [],
   "source": [
    "dictionary_one = {\"a\": 1, \"b\": 2}\n",
    "dictionary_two = {\"c\": 3, \"d\": 4}\n",
    "\n",
    "merged = {**dictionary_one, **dictionary_two}"
   ]
  },
  {
   "cell_type": "code",
   "execution_count": 14,
   "id": "020b5ef8-57f5-46c3-9330-1a332027d824",
   "metadata": {},
   "outputs": [
    {
     "data": {
      "text/plain": [
       "{'a': 1, 'b': 2, 'c': 3, 'd': 4}"
      ]
     },
     "execution_count": 14,
     "metadata": {},
     "output_type": "execute_result"
    }
   ],
   "source": [
    "merged"
   ]
  },
  {
   "cell_type": "markdown",
   "id": "83e25cbc-fe7b-45a6-a812-580bacfee485",
   "metadata": {},
   "source": [
    "# inspect"
   ]
  },
  {
   "cell_type": "markdown",
   "id": "8e1080a3-9454-470c-b2b0-91557202517b",
   "metadata": {},
   "source": [
    "Ever wonder what’s going on behind the scenes of your Python code? The `inspect` module can give you a peek under the hood! This handy tool lets you examine the attributes and source code of your objects at runtime. It's like being a detective in your own codebase."
   ]
  },
  {
   "cell_type": "code",
   "execution_count": 15,
   "id": "b4998178-7d7f-4b8f-bb58-f4baaef8e232",
   "metadata": {},
   "outputs": [],
   "source": [
    "import inspect"
   ]
  },
  {
   "cell_type": "code",
   "execution_count": 16,
   "id": "ccd0d063-5c16-4e9a-81b5-0c129d6b3984",
   "metadata": {},
   "outputs": [],
   "source": [
    "def add(x, y):\n",
    "    return x + y"
   ]
  },
  {
   "cell_type": "code",
   "execution_count": 17,
   "id": "44a8104f-20c3-41d3-9034-cfce9a11e847",
   "metadata": {},
   "outputs": [
    {
     "name": "stdout",
     "output_type": "stream",
     "text": [
      "def add(x, y):\n",
      "    return x + y\n",
      "\n"
     ]
    }
   ],
   "source": [
    "print(inspect.getsource(add))"
   ]
  },
  {
   "cell_type": "markdown",
   "id": "0b56fea8-2e58-483b-9665-b28f20e1c2e7",
   "metadata": {},
   "source": [
    "# newspaper3k"
   ]
  },
  {
   "cell_type": "markdown",
   "id": "f35c7aee-eccc-4e74-a0e1-cfe1bbaacfd1",
   "metadata": {},
   "source": [
    "The `newspaper3k` library provides an easy way to scrape and extract content from news articles. It's like having a personal news assistant who can gather all the relevant information for you."
   ]
  },
  {
   "cell_type": "code",
   "execution_count": 18,
   "id": "be908a8e-f5d9-4ab1-99ba-3129c6c550cd",
   "metadata": {},
   "outputs": [
    {
     "data": {
      "text/plain": [
       "'Editor’s Note: The following contains spoilers about the fifth episode of “The Mandalorian,” Season 3, “The Pirate.”\\n\\nCNN —\\n\\nAfter what can at best be described as a somewhat disjointed third season thus far, the fifth episode of “The Mandalorian” began to bring those pieces together and into focus, while continuing to draw upon the “Star Wars” animated series that preceded it, including another cameo by a character from the rightfully lauded “Rebels.”\\n\\nSubtitled “The Pirate,” the episode presented further evidence of the dysfunctional nature of the New Republic, unable or unwilling to defend a faraway planet from an invading band of pirates. (Lucasfilm being a unit of Disney, the marauders had a certain “Yo ho, yo ho” vibe to them.)\\n\\nThe siege also played into Mandalorian politics, and the efforts of Bo-Katan (Katee Sackhoff) to reclaim her heritage and potentially reunite her people’s various tribes, after leading them, along with Din Djarin (voiced by Pedro Pascal), to the rescue of his pal Greef Karga (Carl Weathers) and the planet’s residents.\\n\\nStill, the most pleasing moment for longtime “Star Wars” fans was likely what amounted to a throwaway scene, introducing a live-action version of the hulking alien Zeb, a character from the animated “Star Wars Rebels,” which concluded in 2018. “The Mandalorian” has drawn heavily from those properties, which were overseen by one of its executive producers, Dave Filoni. (In another nice touch, Steve Blum again provided the voice of the character, and Zeb looked a whole lot better than the pirate leader.)\\n\\nFinally, the episode closed with evidence that the evil Moff Gideon (played by Giancarlo Esposito previously) had seemingly been freed from the prison ship that was transporting him to stand trial, reviving that potential threat.\\n\\nHaving resolved the fate of Grogu, a.k.a. Baby Yoda, during the first two seasons, “The Mandalorian” has thus moved on to fill in narrative gaps about an under-explored chapter in “Star Wars” history – namely, the factors that resulted in the fall of the New Republic and the rise of the First Order, the plot line featured in the most recent trilogy that began with “The Force Awakens.”\\n\\n“This isn’t a rebellion anymore,” a bureaucrat (played by Tim Meadows) says about what happens outside of the New Republic’s jurisdiction, conveying an indifference to the fate of the planet Nevarro overtly articulated later when it was observed that the governing body in Coruscant “doesn’t care.”\\n\\nExecutive producers Jon Favreau and Filoni have taken their time in reaching this point, juggling these various issues in somewhat ungainly fashion through the first half of the season. That perhaps reflects the transition of the show to an emphasis on the macro instead of the micro, while still finding time to detour for the occasional “Rebels” yell.'"
      ]
     },
     "execution_count": 18,
     "metadata": {},
     "output_type": "execute_result"
    }
   ],
   "source": [
    "#!pip install newspaper3k\n",
    "\n",
    "from newspaper import Article\n",
    "\n",
    "url = (\n",
    "    \"http://cnn.com/2023/03/29/entertainment/the-mandalorian-episode-5-recap/index.html\"\n",
    ")\n",
    "article = Article(url)\n",
    "article.download()\n",
    "article.parse()\n",
    "article.text"
   ]
  },
  {
   "cell_type": "markdown",
   "id": "f1003e0b-9cfb-46e0-a3e2-bd8167fb9b19",
   "metadata": {},
   "source": [
    "It provides the flexibility to scrape all the articles of a news website too."
   ]
  },
  {
   "cell_type": "markdown",
   "id": "6fd5943e-2823-4564-b5ce-78a874e01d8a",
   "metadata": {},
   "source": [
    "# Type hints"
   ]
  },
  {
   "cell_type": "markdown",
   "id": "59290875-0754-4186-a7e6-23a65eb59be6",
   "metadata": {},
   "source": [
    "Type hints are used to annotate the types of variables and function arguments in your code. They are not enforced by Python but can be used to catch type errors and improve code quality."
   ]
  },
  {
   "cell_type": "code",
   "execution_count": 19,
   "id": "7e7dbc11-1046-4651-a9f2-7b5b8eba4b0e",
   "metadata": {},
   "outputs": [],
   "source": [
    "def add(x: int, y: int) -> int:\n",
    "    return x + y"
   ]
  },
  {
   "cell_type": "markdown",
   "id": "d635d768-74a7-4a2e-b338-e84102e87284",
   "metadata": {},
   "source": [
    "# pprint"
   ]
  },
  {
   "cell_type": "markdown",
   "id": "033ca4a5-2fc4-48a3-a325-d696137d684b",
   "metadata": {},
   "source": [
    "The `pprint` module provides a way to pretty-print Python data structures, such as dictionaries and lists. Unlike the built-in `print` function, which prints the output in a single line or multiple lines without any formatting, the `pprint` function prints the output in a more readable and structured format, with indentation and line breaks.\n",
    "\n",
    "It’s like having a professional organizer come in and declutter your code’s output!\n",
    "\n",
    "Here’s an example of how to use the `pprint` module:"
   ]
  },
  {
   "cell_type": "code",
   "execution_count": 20,
   "id": "9da8d6e8-1e6c-419e-bbac-c80ab8da9342",
   "metadata": {},
   "outputs": [],
   "source": [
    "import pprint\n",
    "\n",
    "data = {\n",
    "    'name': 'John',\n",
    "    'age': 30,\n",
    "    'address': {\n",
    "        'street': 'Main St',\n",
    "        'city': 'New York',\n",
    "        'state': 'NY'\n",
    "    }\n",
    "}"
   ]
  },
  {
   "cell_type": "code",
   "execution_count": 21,
   "id": "5a929261-a0a7-4a7b-a313-ef38e713437f",
   "metadata": {},
   "outputs": [
    {
     "data": {
      "text/plain": [
       "{'name': 'John',\n",
       " 'age': 30,\n",
       " 'address': {'street': 'Main St', 'city': 'New York', 'state': 'NY'}}"
      ]
     },
     "execution_count": 21,
     "metadata": {},
     "output_type": "execute_result"
    }
   ],
   "source": [
    "data"
   ]
  },
  {
   "cell_type": "code",
   "execution_count": 22,
   "id": "7af7eabd-b5e5-4198-aaf8-e9ccff351865",
   "metadata": {},
   "outputs": [
    {
     "name": "stdout",
     "output_type": "stream",
     "text": [
      "{'address': {'city': 'New York', 'state': 'NY', 'street': 'Main St'},\n",
      " 'age': 30,\n",
      " 'name': 'John'}\n"
     ]
    }
   ],
   "source": [
    "pprint.pprint(data)"
   ]
  },
  {
   "cell_type": "markdown",
   "id": "48680cd6-3b42-4f2d-8d6f-ebdb1ebfbac4",
   "metadata": {},
   "source": [
    "You should use `pprint` instead of `print` when you want to print complex data structures in a human-readable format, especially when dealing with nested dictionaries or lists. The `pprint` output is more structured and easier to read, making it a useful tool for debugging or exploring your data. You can also customize the output formatting by adjusting the indentation level or other parameters."
   ]
  },
  {
   "cell_type": "code",
   "execution_count": null,
   "id": "3712f006-f73c-41e1-8773-d8d18fb0cc92",
   "metadata": {},
   "outputs": [],
   "source": []
  }
 ],
 "metadata": {
  "kernelspec": {
   "display_name": "Python [conda env:ls_env]",
   "language": "python",
   "name": "conda-env-ls_env-py"
  },
  "language_info": {
   "codemirror_mode": {
    "name": "ipython",
    "version": 3
   },
   "file_extension": ".py",
   "mimetype": "text/x-python",
   "name": "python",
   "nbconvert_exporter": "python",
   "pygments_lexer": "ipython3",
   "version": "3.10.8"
  }
 },
 "nbformat": 4,
 "nbformat_minor": 5
}
