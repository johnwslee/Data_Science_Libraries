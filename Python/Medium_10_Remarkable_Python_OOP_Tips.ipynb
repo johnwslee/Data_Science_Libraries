{
 "cells": [
  {
   "cell_type": "markdown",
   "id": "69933d89-a464-49ef-ac46-fc8c95e7eb0c",
   "metadata": {},
   "source": [
    "Object-oriented programming (OOP) is a great programming paradigm to create modular and reusable code that is easy to maintain and extend."
   ]
  },
  {
   "cell_type": "markdown",
   "id": "3fadfa91-3f03-4b99-b745-709cbfabf2e6",
   "metadata": {},
   "source": [
    "# 1. Use Data Classes To Automatically Generate Special Methods"
   ]
  },
  {
   "cell_type": "markdown",
   "id": "157e9672-311c-407c-bf09-8cc1693a5e8b",
   "metadata": {},
   "source": [
    "The following code defines a class named `Point` representing points in Euclidean space:"
   ]
  },
  {
   "cell_type": "code",
   "execution_count": 1,
   "id": "182c8ff1-c99d-4d91-b404-bee8889eeb71",
   "metadata": {},
   "outputs": [],
   "source": [
    "class Point:\n",
    "    def __init__(self, x, y):\n",
    "        self.x = x\n",
    "        self.y = y"
   ]
  },
  {
   "cell_type": "code",
   "execution_count": 2,
   "id": "5689415f-872a-4e08-ae78-8fe37917db65",
   "metadata": {},
   "outputs": [],
   "source": [
    "A = Point(2, 3)\n",
    "B = Point(2, 3)"
   ]
  },
  {
   "cell_type": "code",
   "execution_count": 3,
   "id": "4e143cf4-6996-4591-972c-cc25b76d4b8c",
   "metadata": {},
   "outputs": [
    {
     "data": {
      "text/plain": [
       "False"
      ]
     },
     "execution_count": 3,
     "metadata": {},
     "output_type": "execute_result"
    }
   ],
   "source": [
    "A == B"
   ]
  },
  {
   "cell_type": "markdown",
   "id": "e484f236-c62b-4b5a-a42b-1908fabae686",
   "metadata": {},
   "source": [
    "Unfortunately, it printed `False` even if the two points have the exact same location.\n",
    "\n",
    "The reason is simple, we didn’t tell Python how to compare different `Point` instances when defining this class.\n",
    "\n",
    "Therefore, we have to define the `__eq__` method, which will be used to determine if two instances are equal or not:"
   ]
  },
  {
   "cell_type": "code",
   "execution_count": 4,
   "id": "35ecef14-2be2-4646-b801-d3a287613f58",
   "metadata": {},
   "outputs": [],
   "source": [
    "class Point:\n",
    "    def __init__(self, x, y):\n",
    "        self.x = x\n",
    "        self.y = y\n",
    "\n",
    "    def __eq__(self, other):\n",
    "        return self.x == other.x and self.y == other.y"
   ]
  },
  {
   "cell_type": "code",
   "execution_count": 5,
   "id": "7aa7cc3b-1022-4f0d-aa1d-ec4f90097da4",
   "metadata": {},
   "outputs": [],
   "source": [
    "A = Point(2, 3)\n",
    "B = Point(2, 3)"
   ]
  },
  {
   "cell_type": "code",
   "execution_count": 6,
   "id": "5d31a8b8-ddef-41f6-b6ce-b3ef96cfc3d4",
   "metadata": {},
   "outputs": [
    {
     "data": {
      "text/plain": [
       "True"
      ]
     },
     "execution_count": 6,
     "metadata": {},
     "output_type": "execute_result"
    }
   ],
   "source": [
    "A == B"
   ]
  },
  {
   "cell_type": "markdown",
   "id": "738509a3-40dc-49bc-9381-815c8b4fdad6",
   "metadata": {},
   "source": [
    "The above code works as expected. However, it’s too much for just an obvious comparison.\n",
    "\n",
    "Is there any chance that Python can become more intelligent and define the basic internal methods in advance for us? 🤔\n",
    "\n",
    "Yes. Since Python 3.7, there is a new built-in decorator — `@dataclass`. We can define a data class as follows:"
   ]
  },
  {
   "cell_type": "code",
   "execution_count": 7,
   "id": "690e146d-e6c9-4ce8-8116-77a9ac04f970",
   "metadata": {},
   "outputs": [],
   "source": [
    "from dataclasses import dataclass"
   ]
  },
  {
   "cell_type": "code",
   "execution_count": 8,
   "id": "3125405f-f88a-4059-b6aa-8224d2399c6b",
   "metadata": {},
   "outputs": [],
   "source": [
    "@dataclass\n",
    "class Point:\n",
    "    x: int\n",
    "    y: int"
   ]
  },
  {
   "cell_type": "code",
   "execution_count": 9,
   "id": "d5fc6de0-19a4-4bea-8861-db7b46122716",
   "metadata": {},
   "outputs": [],
   "source": [
    "A = Point(2, 3)\n",
    "B = Point(2, 3)"
   ]
  },
  {
   "cell_type": "code",
   "execution_count": 10,
   "id": "0b52a878-f43d-451a-8706-47510fa18ff8",
   "metadata": {},
   "outputs": [
    {
     "data": {
      "text/plain": [
       "True"
      ]
     },
     "execution_count": 10,
     "metadata": {},
     "output_type": "execute_result"
    }
   ],
   "source": [
    "A == B"
   ]
  },
  {
   "cell_type": "markdown",
   "id": "3692cc57-b25f-469a-8349-498a51aa40ce",
   "metadata": {},
   "source": [
    "As the above code shows, this class definition creates a Point class with two fields, `x` and `y`, and their **type hints** are both `int`.\n",
    "\n",
    "We only defined two attributes of the `Point` class, nothing else. But why Python knows how to compare the points `A` and `B` properly this time?\n",
    "\n",
    "In fact, the `@dataclass` decorator automatically generated several methods for the `Point` class, such as `__init__` for initializing objects, `__repr__` for generating string representations of objects, and `__eq__` for comparing objects for equality.\n",
    "\n",
    "Since the `@dataclass` decorator simplifies the process of creating data classes by automatically generating many special methods for us, it saves our time and effort in writing these methods and helps ensure that our data classes have consistent and predictable behavior.\n",
    "\n",
    "Anytime you need to define classes that are primarily used to store data, don’t forget to leverage the power of the `@dataclass` decorator."
   ]
  },
  {
   "cell_type": "markdown",
   "id": "e5b78ee5-f2d2-47a0-a49c-fdd1d9a4a1a5",
   "metadata": {},
   "source": [
    "# 2. Use Abstract Classes To Define Common Interfaces"
   ]
  },
  {
   "cell_type": "markdown",
   "id": "e65c712e-d58b-434c-8066-746e285cf544",
   "metadata": {},
   "source": [
    "An **abstract class**, which is an important concept of OOP, can define a common *interface* for a set of subclasses. It provides common attributes and methods for all subclasses to reduce code duplication. It also enforces subclasses to implement abstract methods to avoid inconsistencies.\n",
    "\n",
    "Python, like other OOP languages, supports the usage of abstract classes.\n",
    "\n",
    "The following example shows how to define a class as an abstract class by `abc.ABC` and define a method as an abstract method by `abc.abstractmethod`:"
   ]
  },
  {
   "cell_type": "code",
   "execution_count": 11,
   "id": "1ad04731-b65f-4127-a10e-50633f4db3a5",
   "metadata": {},
   "outputs": [],
   "source": [
    "from abc import ABC, abstractmethod"
   ]
  },
  {
   "cell_type": "code",
   "execution_count": 12,
   "id": "fba1f724-57ba-4e28-99cc-f43605d23bde",
   "metadata": {},
   "outputs": [],
   "source": [
    "class Animal(ABC):\n",
    "    @abstractmethod\n",
    "    def move(self):\n",
    "        print(\"Animal moves\")"
   ]
  },
  {
   "cell_type": "code",
   "execution_count": 13,
   "id": "4603fae7-df0b-4756-a056-979d185378b1",
   "metadata": {},
   "outputs": [],
   "source": [
    "class Cat(Animal):\n",
    "    def move(self):\n",
    "        super().move()\n",
    "        print(\"Cat moves\")"
   ]
  },
  {
   "cell_type": "code",
   "execution_count": 14,
   "id": "e3a74bf7-843b-424d-ae74-474d0eba6904",
   "metadata": {},
   "outputs": [],
   "source": [
    "c = Cat()"
   ]
  },
  {
   "cell_type": "code",
   "execution_count": 15,
   "id": "4320bf6e-d47f-4e96-a1d2-41e15400784d",
   "metadata": {},
   "outputs": [
    {
     "name": "stdout",
     "output_type": "stream",
     "text": [
      "Animal moves\n",
      "Cat moves\n"
     ]
    }
   ],
   "source": [
    "c.move()"
   ]
  },
  {
   "cell_type": "markdown",
   "id": "b1fd4da2-c818-4e9b-a12e-d0365ad433ec",
   "metadata": {},
   "source": [
    "This example defines an abstract class called `Animal`, and a class `Cat` which is inherited from `Animal`.\n",
    "\n",
    "Given that the `Animal` is an abstract class and its `move()` method is an abstract method, we must implement the `move()` method in the `Cat` class. This mechanism helps to ensure that all subclasses have a certain set of methods, and helps to prevent errors that might occur if the subclasses do not implement all of the required methods.\n",
    "\n",
    "The `ABC`, by the way, is the abbreviation of abstract base class."
   ]
  },
  {
   "cell_type": "markdown",
   "id": "764ca598-511b-4a5e-bf11-cb4682b54101",
   "metadata": {},
   "source": [
    "# 3. Separate Class-Level and Instance-Level Attributes"
   ]
  },
  {
   "cell_type": "markdown",
   "id": "53033d9f-7559-4ac6-b72a-dd9628b14fe3",
   "metadata": {},
   "source": [
    "Python classes can be clearly separated into class-level and instance-level *attributes*:\n",
    "\n",
    "- A **class attribute** belongs to a class rather than a particular instance. All instances of this class can access it and it is defined outside the constructor function of the class.\n",
    "- An **instance attribute**, which is defined inside the constructor function, belongs to a particular instance. It’s only accessible in this certain instance rather than the class. If we call an instance attribute by the class, there will be an `AttributeError`."
   ]
  },
  {
   "cell_type": "code",
   "execution_count": 16,
   "id": "8d42b966-adc0-4981-8b8f-ce2348972ae2",
   "metadata": {},
   "outputs": [],
   "source": [
    "class MyClass:\n",
    "    class_attr = 0\n",
    "\n",
    "    def __init__(self, instance_attr):\n",
    "        self.instance_attr = instance_attr"
   ]
  },
  {
   "cell_type": "code",
   "execution_count": 17,
   "id": "76819a11-5a81-4651-b125-3fd2088a66fd",
   "metadata": {},
   "outputs": [
    {
     "data": {
      "text/plain": [
       "0"
      ]
     },
     "execution_count": 17,
     "metadata": {},
     "output_type": "execute_result"
    }
   ],
   "source": [
    "MyClass.class_attr"
   ]
  },
  {
   "cell_type": "code",
   "execution_count": 18,
   "id": "c4d3937d-32d2-4e93-8959-b866bdf3d983",
   "metadata": {},
   "outputs": [
    {
     "ename": "AttributeError",
     "evalue": "type object 'MyClass' has no attribute 'instance_attr'",
     "output_type": "error",
     "traceback": [
      "\u001b[1;31m---------------------------------------------------------------------------\u001b[0m",
      "\u001b[1;31mAttributeError\u001b[0m                            Traceback (most recent call last)",
      "Cell \u001b[1;32mIn[18], line 1\u001b[0m\n\u001b[1;32m----> 1\u001b[0m \u001b[43mMyClass\u001b[49m\u001b[38;5;241;43m.\u001b[39;49m\u001b[43minstance_attr\u001b[49m\n",
      "\u001b[1;31mAttributeError\u001b[0m: type object 'MyClass' has no attribute 'instance_attr'"
     ]
    }
   ],
   "source": [
    "MyClass.instance_attr"
   ]
  },
  {
   "cell_type": "code",
   "execution_count": 19,
   "id": "16742df3-41d7-489d-b321-ce30d592d1ed",
   "metadata": {},
   "outputs": [],
   "source": [
    "my_instance = MyClass(1)"
   ]
  },
  {
   "cell_type": "code",
   "execution_count": 20,
   "id": "52493b26-fa99-4e83-a824-03a4654ea54f",
   "metadata": {},
   "outputs": [
    {
     "data": {
      "text/plain": [
       "1"
      ]
     },
     "execution_count": 20,
     "metadata": {},
     "output_type": "execute_result"
    }
   ],
   "source": [
    "my_instance.instance_attr"
   ]
  },
  {
   "cell_type": "code",
   "execution_count": 21,
   "id": "660859f0-9c0a-49bb-a6c5-2f51b735f341",
   "metadata": {},
   "outputs": [
    {
     "data": {
      "text/plain": [
       "0"
      ]
     },
     "execution_count": 21,
     "metadata": {},
     "output_type": "execute_result"
    }
   ],
   "source": [
    "my_instance.class_attr"
   ]
  },
  {
   "cell_type": "markdown",
   "id": "08a88a8c-7885-4d2e-b80d-74f37d42e613",
   "metadata": {},
   "source": [
    "The above example shows the different usages of class attributes and instance attributes. Separating these two types of attributes clearly can make your Python code more robust."
   ]
  },
  {
   "cell_type": "markdown",
   "id": "a4eab874-6ec1-49f9-9f93-0fcceb262e9f",
   "metadata": {},
   "source": [
    "# 4. Separate Public, Protected and Private Attributes"
   ]
  },
  {
   "cell_type": "markdown",
   "id": "f7292713-3ac5-4e63-8f46-83fcdaff6c7f",
   "metadata": {},
   "source": [
    "Unlike C++ or Java, Python doesn’t have strict restrictions for the permissions of attributes.\n",
    "\n",
    "The Pythonic way to separate different permissions is to use <u>underscores</u>:"
   ]
  },
  {
   "cell_type": "code",
   "execution_count": 22,
   "id": "da31f548-2b5a-46d2-87b3-d48e54e25ba1",
   "metadata": {},
   "outputs": [],
   "source": [
    "class Student:\n",
    "    def __init__(self, name, age, grade):\n",
    "        self.name = name  # public\n",
    "        self._age = age  # protected\n",
    "        self.__grade = grade  # private"
   ]
  },
  {
   "cell_type": "markdown",
   "id": "b7dfd7c8-ba0e-46aa-a078-a40a9d478f35",
   "metadata": {},
   "source": [
    "As the above code shows, we can define a protected attribute with a single leading underscore. This is just a convention. We can still use it as a public member. But we should not do this. Following good programming conventions will make our code more elegant and readable.\n",
    "\n",
    "We define a private attribute with double-leading underscores. This mechanism is beyond convention. Python uses <u>name mangling</u> technique to ensure we won’t use a private member inappropriately."
   ]
  },
  {
   "cell_type": "markdown",
   "id": "60a3bba2-c885-41d5-8751-0b9df64e5427",
   "metadata": {},
   "source": [
    "# 5. Define Mixin Classes through Multiple Inheritance"
   ]
  },
  {
   "cell_type": "markdown",
   "id": "cc290512-8c4a-4cf5-a1d7-d995a04e31b8",
   "metadata": {},
   "source": [
    "In Python, a mixin is a class that is designed to add a specific behavior or set of behaviors to one or more other classes. It can provide a flexible way to add functionality to a class without modifying the class directly or making the inheritance relationship of subclasses complicated.\n",
    "\n",
    "For example, we define a class `ToDictMixin` as follows:"
   ]
  },
  {
   "cell_type": "code",
   "execution_count": 23,
   "id": "a21e82bb-6004-488a-883f-b8371c4c55a4",
   "metadata": {},
   "outputs": [],
   "source": [
    "class ToDictMixin:\n",
    "    def to_dict(self):\n",
    "        return {key: value for key, value in self.__dict__.items()}"
   ]
  },
  {
   "cell_type": "markdown",
   "id": "5b99ce2c-4891-4e37-8397-88b7b4f653db",
   "metadata": {},
   "source": [
    "Now, any other classes that need the converting to dictionary functionality can inherit this mixin class besides its original parent class:"
   ]
  },
  {
   "cell_type": "markdown",
   "id": "3ea05b4e-fea6-47e3-83e5-26fd4a11674e",
   "metadata": {},
   "source": [
    "```\n",
    "class MyClass(ToDictMixin, BaseClass):\n",
    "    pass\n",
    "```"
   ]
  },
  {
   "cell_type": "markdown",
   "id": "57a847bd-6969-4cf6-810b-7ef5cbf79293",
   "metadata": {},
   "source": [
    "Python allows multiple inheritances. This is why we can use mixins. But here is a frequently asked question:"
   ]
  },
  {
   "cell_type": "markdown",
   "id": "fcd197e5-8284-446b-8d99-7d01475d4ca1",
   "metadata": {},
   "source": [
    "> *Under multiple inheritances, if two parent classes have the same methods or attributes, what will happen?*"
   ]
  },
  {
   "cell_type": "markdown",
   "id": "a5228ad2-4375-43eb-80ee-55821bb4905a",
   "metadata": {},
   "source": [
    "In fact, if two parent classes have the same method or attribute, the method or attribute in the class that appears first in the inheritance list will take precedence. This means that if you try to access the method or attribute, the version from the first class in the inheritance list will be used."
   ]
  },
  {
   "cell_type": "markdown",
   "id": "891a5a98-5304-48a6-86eb-af249f9f2294",
   "metadata": {},
   "source": [
    "# 6. Use `@property` Decorator To Control Attributes Precisely"
   ]
  },
  {
   "cell_type": "markdown",
   "id": "c4a3638e-fb0f-44a9-bed4-e0fb8b91ea91",
   "metadata": {},
   "source": [
    "In Python, you can access and modify the attributes of an object directly, using dot notation.\n",
    "\n",
    "However, it is generally a good object-oriented programming practice to access and modify the attributes of an object through their getters, setters, and deleters, rather than directly using dot notation. This is because using getters, setters, and deleters can give you more control over how the attributes are accessed and modified, and can make your code more readable and easier to understand.\n",
    "\n",
    "For example, the following example defines a setter method for the attribute `_score` to limit the range of its value:"
   ]
  },
  {
   "cell_type": "code",
   "execution_count": 24,
   "id": "8176d856-0393-4fc2-b486-ab72c3df85ef",
   "metadata": {},
   "outputs": [],
   "source": [
    "class Student:\n",
    "    def __init__(self):\n",
    "        self._score = 0\n",
    "        \n",
    "    def set_score(self, s):\n",
    "        if 0 <= s <= 100:\n",
    "            self._score = s\n",
    "        else:\n",
    "            raise ValueError(\"The score must be between 0 ~ 100!\")"
   ]
  },
  {
   "cell_type": "code",
   "execution_count": 25,
   "id": "4f330954-31e5-456d-acf6-add820459c15",
   "metadata": {},
   "outputs": [],
   "source": [
    "Yang = Student()"
   ]
  },
  {
   "cell_type": "code",
   "execution_count": 26,
   "id": "cd67e1cc-f79d-43b3-8b7f-f5b281cc41a0",
   "metadata": {},
   "outputs": [],
   "source": [
    "Yang.set_score(100)"
   ]
  },
  {
   "cell_type": "code",
   "execution_count": 27,
   "id": "307c13f5-a71d-4311-944b-d4a445da0f9b",
   "metadata": {},
   "outputs": [
    {
     "data": {
      "text/plain": [
       "100"
      ]
     },
     "execution_count": 27,
     "metadata": {},
     "output_type": "execute_result"
    }
   ],
   "source": [
    "Yang._score"
   ]
  },
  {
   "cell_type": "markdown",
   "id": "4ee3d6d9-bebb-4106-8970-4c13c603a663",
   "metadata": {},
   "source": [
    "It works as expected. However, the above implementation seems not elegant enough.\n",
    "\n",
    "It would be better if we can modify the attribute like a normal attribute using dot notation but still has the limitations, rather than having to call the setter method like a function.\n",
    "\n",
    "This is why Python provides a built-in decorator named `@propery`. Using it, we can modify attributes using dot notation directly. It will improve the readability and elegance of our code.\n",
    "\n",
    "Now, let’s change the previous program a bit:"
   ]
  },
  {
   "cell_type": "code",
   "execution_count": 28,
   "id": "56b98f08-de64-4bfb-822f-180c4675ff41",
   "metadata": {},
   "outputs": [],
   "source": [
    "class Student:\n",
    "    def __init__(self):\n",
    "        self._score = 0\n",
    "        \n",
    "    @property\n",
    "    def score(self):\n",
    "        return self._score\n",
    "    \n",
    "    @score.setter\n",
    "    def score(self, s):\n",
    "        if 0 <= s <= 100:\n",
    "            self._score = s\n",
    "        else:\n",
    "            raise ValueError(\"The score must be between 0 ~ 100!\")\n",
    "            \n",
    "    @score.deleter\n",
    "    def score(self):\n",
    "        del self._score"
   ]
  },
  {
   "cell_type": "code",
   "execution_count": 29,
   "id": "75c988f4-2fab-478f-af4e-18e7f8670e89",
   "metadata": {},
   "outputs": [],
   "source": [
    "Yang = Student()"
   ]
  },
  {
   "cell_type": "code",
   "execution_count": 30,
   "id": "54865b0a-9f24-4cad-a75a-8a0ef719709d",
   "metadata": {},
   "outputs": [],
   "source": [
    "Yang.score = 99"
   ]
  },
  {
   "cell_type": "code",
   "execution_count": 31,
   "id": "86f48e5d-2e31-467c-a968-2318261e7f2f",
   "metadata": {},
   "outputs": [
    {
     "data": {
      "text/plain": [
       "99"
      ]
     },
     "execution_count": 31,
     "metadata": {},
     "output_type": "execute_result"
    }
   ],
   "source": [
    "Yang.score"
   ]
  },
  {
   "cell_type": "code",
   "execution_count": 32,
   "id": "e545d862-df4b-4fd7-b4d3-68fdcd606de7",
   "metadata": {},
   "outputs": [],
   "source": [
    "del Yang.score"
   ]
  },
  {
   "cell_type": "markdown",
   "id": "c4cd0975-402b-490d-b495-0baea9267a75",
   "metadata": {},
   "source": [
    "# 7. Use Class Methods in Classes"
   ]
  },
  {
   "cell_type": "markdown",
   "id": "8ad93e1b-9955-4946-a8ed-ecf936fad559",
   "metadata": {},
   "source": [
    "Methods in a Python class can be instance-level or class-level, similar to attributes.\n",
    "\n",
    "An instance method is a method that *is bound to an instance of a class*. It can access and modify the instance data. An instance method is called on an instance of the class, and it can access the instance data through the `self` parameter.\n",
    "\n",
    "A class method is a method that *is bound to the class* and not the instance of the class. It can’t modify the instance data. A class method is called on the class itself, and it receives the class as the first parameter, which is conventionally named `cls`.\n",
    "\n",
    "Defining a class method is very convenient in Python. We can just add a built-in decorator named `@classmethod` before the declaration of the method.\n",
    "\n",
    "Let’s see an example:"
   ]
  },
  {
   "cell_type": "code",
   "execution_count": 33,
   "id": "d28f4cf7-6f9b-49d2-adea-5da3dad08cb0",
   "metadata": {},
   "outputs": [],
   "source": [
    "class Student:\n",
    "    def __init__(self, first_name, last_name):\n",
    "        self.first_name = first_name\n",
    "        self.last_name = last_name\n",
    "        self.nickname = None\n",
    "        \n",
    "    def set_nickname(self, name):\n",
    "        self.nickname = name\n",
    "        \n",
    "    @classmethod  # get_from_string is a class method\n",
    "    def get_from_string(cls, name_string: str):\n",
    "        first_name, last_name = name_string.split()\n",
    "        return Student(first_name, last_name)"
   ]
  },
  {
   "cell_type": "code",
   "execution_count": 34,
   "id": "611328bd-cda4-4090-93c3-27256097f829",
   "metadata": {},
   "outputs": [],
   "source": [
    "s = Student.get_from_string(\"John Lee\")"
   ]
  },
  {
   "cell_type": "code",
   "execution_count": 35,
   "id": "89218a79-dde3-4ea5-aae4-f974c504eda6",
   "metadata": {},
   "outputs": [
    {
     "data": {
      "text/plain": [
       "'John'"
      ]
     },
     "execution_count": 35,
     "metadata": {},
     "output_type": "execute_result"
    }
   ],
   "source": [
    "s.first_name"
   ]
  },
  {
   "cell_type": "code",
   "execution_count": 36,
   "id": "a521c106-f4b3-43a9-b5c0-36d896f37bb3",
   "metadata": {},
   "outputs": [
    {
     "data": {
      "text/plain": [
       "'Lee'"
      ]
     },
     "execution_count": 36,
     "metadata": {},
     "output_type": "execute_result"
    }
   ],
   "source": [
    "s.last_name"
   ]
  },
  {
   "cell_type": "code",
   "execution_count": 37,
   "id": "5ac85eed-c1ea-4cbf-9a31-19e653414639",
   "metadata": {},
   "outputs": [
    {
     "ename": "TypeError",
     "evalue": "Student.set_nickname() missing 1 required positional argument: 'name'",
     "output_type": "error",
     "traceback": [
      "\u001b[1;31m---------------------------------------------------------------------------\u001b[0m",
      "\u001b[1;31mTypeError\u001b[0m                                 Traceback (most recent call last)",
      "Cell \u001b[1;32mIn[37], line 2\u001b[0m\n\u001b[0;32m      1\u001b[0m \u001b[38;5;66;03m# can't call instance method directly by class name\u001b[39;00m\n\u001b[1;32m----> 2\u001b[0m s2 \u001b[38;5;241m=\u001b[39m \u001b[43mStudent\u001b[49m\u001b[38;5;241;43m.\u001b[39;49m\u001b[43mset_nickname\u001b[49m\u001b[43m(\u001b[49m\u001b[38;5;124;43m'\u001b[39;49m\u001b[38;5;124;43myang\u001b[39;49m\u001b[38;5;124;43m'\u001b[39;49m\u001b[43m)\u001b[49m\n",
      "\u001b[1;31mTypeError\u001b[0m: Student.set_nickname() missing 1 required positional argument: 'name'"
     ]
    }
   ],
   "source": [
    "# can't call instance method directly by class name\n",
    "s2 = Student.set_nickname('yang')"
   ]
  },
  {
   "cell_type": "code",
   "execution_count": 38,
   "id": "358806aa-0f4c-4ab1-b4b3-cc5830cab604",
   "metadata": {},
   "outputs": [],
   "source": [
    "s.set_nickname(\"Max\")"
   ]
  },
  {
   "cell_type": "code",
   "execution_count": 39,
   "id": "637c85c0-3421-4fc9-91fe-1b3e66d4be54",
   "metadata": {},
   "outputs": [
    {
     "name": "stdout",
     "output_type": "stream",
     "text": [
      "John Lee Max\n"
     ]
    }
   ],
   "source": [
    "print(s.first_name, s.last_name, s.nickname)"
   ]
  },
  {
   "cell_type": "markdown",
   "id": "59007b54-c5ad-4f38-8099-aada4afa8cf6",
   "metadata": {},
   "source": [
    "As the above code shows, the `get_from_string()` is a class method whose first parameter is the class itself, so it can be invoked by the class name directly.\n",
    "\n",
    "However, the `s2=Student.set_nickname('yang')` statement causes a `TypeError`. Because the `set_nickname()` is an instance method. So it must be called by an instance of the class rather than the class itself."
   ]
  },
  {
   "cell_type": "markdown",
   "id": "d60981cc-ca26-49ab-9564-8bba9c563c82",
   "metadata": {},
   "source": [
    "# 8. Use Static Methods in Classes"
   ]
  },
  {
   "cell_type": "markdown",
   "id": "dde4446b-514e-4694-ae90-1c37f22164a3",
   "metadata": {},
   "source": [
    "In addition to instance methods and class methods, there is another special type of method called a static method.\n",
    "\n",
    "A static method *is not bound to the instance or the class and doesn’t receive any special parameters*. A static method can be called on the class itself or on an instance of the class.\n",
    "\n",
    "The following code implements a class named `Student` including a static method:"
   ]
  },
  {
   "cell_type": "code",
   "execution_count": 40,
   "id": "0c668f3d-fbcc-45e3-a26f-b82b4990c128",
   "metadata": {},
   "outputs": [],
   "source": [
    "class Student:\n",
    "    def __init__(self, first_name, last_name):\n",
    "        self.first_name = first_name\n",
    "        self.last_name = last_name\n",
    "        self.nickname = None\n",
    "        \n",
    "    def set_nickname(self, name):\n",
    "        self.nickname = name\n",
    "        \n",
    "    @classmethod\n",
    "    def get_from_string(cls, name_string: str):\n",
    "        first_name, last_name = name_string.split()\n",
    "        return Student(first_name, last_name)\n",
    "    \n",
    "    @staticmethod\n",
    "    def suitable_age(age):\n",
    "        return 6 <= age <= 30"
   ]
  },
  {
   "cell_type": "code",
   "execution_count": 41,
   "id": "520028fd-2627-4a58-8847-29a1aa2ce561",
   "metadata": {},
   "outputs": [
    {
     "data": {
      "text/plain": [
       "False"
      ]
     },
     "execution_count": 41,
     "metadata": {},
     "output_type": "execute_result"
    }
   ],
   "source": [
    "Student.suitable_age(99)"
   ]
  },
  {
   "cell_type": "code",
   "execution_count": 42,
   "id": "4dbab79e-8b85-4ab0-8bcb-9ba611c5675a",
   "metadata": {},
   "outputs": [
    {
     "data": {
      "text/plain": [
       "True"
      ]
     },
     "execution_count": 42,
     "metadata": {},
     "output_type": "execute_result"
    }
   ],
   "source": [
    "Student.suitable_age(27)"
   ]
  },
  {
   "cell_type": "code",
   "execution_count": 43,
   "id": "544737cc-ff97-4de9-b057-f009ea5ca197",
   "metadata": {},
   "outputs": [
    {
     "data": {
      "text/plain": [
       "True"
      ]
     },
     "execution_count": 43,
     "metadata": {},
     "output_type": "execute_result"
    }
   ],
   "source": [
    "Student(\"John\", \"Lee\").suitable_age(27)"
   ]
  },
  {
   "cell_type": "markdown",
   "id": "0afb9a52-c8b0-4b34-b38c-aa3a1ece1fc4",
   "metadata": {},
   "source": [
    "We can see that the static method is defined inside the class, but it doesn’t have access to the instance data or the class data. It can be called on the class itself or on an instance of the class.\n",
    "\n",
    "Some common uses of static methods include utility functions that perform tasks such as formatting data or validating input, and methods that provide a logical grouping of related functions, but do not need to modify the state of the instance or the class.\n",
    "\n",
    "Therefore, a good OOP practice is:"
   ]
  },
  {
   "cell_type": "markdown",
   "id": "824a9059-a36f-42b0-baf8-11e8cc5d71f9",
   "metadata": {},
   "source": [
    "> **Define a function as a static method within a class if this function’s logic is closely related to the class.**"
   ]
  },
  {
   "cell_type": "markdown",
   "id": "80f3ccb2-dab0-4c67-b521-cf07cd5593df",
   "metadata": {},
   "source": [
    "# 9. Separate `__new__` and `__init__`: Two Different Python Constructors"
   ]
  },
  {
   "cell_type": "markdown",
   "id": "7cf7fa95-f0bc-4f1a-b709-39effc124660",
   "metadata": {},
   "source": [
    "The difference between these two methods is simple:\n",
    "\n",
    "- **The `__new__()` method creates a new instance.\n",
    "- **The `__init__()` method initialises that instance."
   ]
  },
  {
   "cell_type": "markdown",
   "id": "233daeae-e2e7-43ec-b108-eea1fb766516",
   "metadata": {},
   "source": [
    "The `__new__` method is a special method that is called before the `__init__` method. It is responsible for creating the object and returning it. The `__new__` method is a static method, which means that it is called on the class, rather than on an instance of the class.\n",
    "\n",
    "In general, we don’t need to override the `__new__` method. Because in most cases, the default implementation of it is sufficient.\n",
    "\n",
    "If you need some more precise control of your classes, overriding the `__new__` method is also a good choice."
   ]
  },
  {
   "cell_type": "markdown",
   "id": "925c647a-26d3-4cfa-8e2f-e0ae1f6d34bf",
   "metadata": {},
   "source": [
    "For example, if you would like to apply the <u>singleton pattern</u> to a Python class, you may implement it as follows:"
   ]
  },
  {
   "cell_type": "code",
   "execution_count": 44,
   "id": "fd057730-7311-40af-8b21-974e3a8424c4",
   "metadata": {},
   "outputs": [],
   "source": [
    "class Singleton_Genius(object):\n",
    "    __instance = None\n",
    "    \n",
    "    def __new__(cls, *args, **kwargs):\n",
    "        if not Singleton_Genius.__instance:\n",
    "            Singleton_Genius.__instance = object.__new__(cls)\n",
    "        return Singleton_Genius.__instance\n",
    "    \n",
    "    def __init__(self, first_name, last_name):\n",
    "        self.first_name = first_name\n",
    "        self.last_name = last_name"
   ]
  },
  {
   "cell_type": "code",
   "execution_count": 45,
   "id": "f7b1f31e-05df-4699-af20-1ef1c5eab763",
   "metadata": {},
   "outputs": [],
   "source": [
    "s1 = Singleton_Genius(\"Yang\", \"Zhou\")"
   ]
  },
  {
   "cell_type": "code",
   "execution_count": 46,
   "id": "e86b631c-a4ea-4eca-87e2-92fa60db6fc8",
   "metadata": {},
   "outputs": [],
   "source": [
    "s2 = Singleton_Genius(\"Elon\", \"Musk\")"
   ]
  },
  {
   "cell_type": "code",
   "execution_count": 47,
   "id": "560ced76-cb06-4e5a-a806-f567bfc460da",
   "metadata": {},
   "outputs": [
    {
     "data": {
      "text/plain": [
       "<__main__.Singleton_Genius at 0x276b31657b0>"
      ]
     },
     "execution_count": 47,
     "metadata": {},
     "output_type": "execute_result"
    }
   ],
   "source": [
    "s1"
   ]
  },
  {
   "cell_type": "code",
   "execution_count": 48,
   "id": "b8cc506a-c0f4-40ad-9c06-739f436101b0",
   "metadata": {},
   "outputs": [
    {
     "data": {
      "text/plain": [
       "<__main__.Singleton_Genius at 0x276b31657b0>"
      ]
     },
     "execution_count": 48,
     "metadata": {},
     "output_type": "execute_result"
    }
   ],
   "source": [
    "s2"
   ]
  },
  {
   "cell_type": "code",
   "execution_count": 49,
   "id": "032dea5c-2662-4cb7-a34f-31f161c84933",
   "metadata": {},
   "outputs": [
    {
     "data": {
      "text/plain": [
       "True"
      ]
     },
     "execution_count": 49,
     "metadata": {},
     "output_type": "execute_result"
    }
   ],
   "source": [
    "s1 == s2"
   ]
  },
  {
   "cell_type": "code",
   "execution_count": 50,
   "id": "dd6f7c4a-b806-4335-aa1b-b734824c3941",
   "metadata": {},
   "outputs": [
    {
     "data": {
      "text/plain": [
       "'Musk'"
      ]
     },
     "execution_count": 50,
     "metadata": {},
     "output_type": "execute_result"
    }
   ],
   "source": [
    "s1.last_name"
   ]
  },
  {
   "cell_type": "code",
   "execution_count": 51,
   "id": "e9a3e06e-ded6-474f-8870-82c9650f5637",
   "metadata": {},
   "outputs": [
    {
     "data": {
      "text/plain": [
       "'Musk'"
      ]
     },
     "execution_count": 51,
     "metadata": {},
     "output_type": "execute_result"
    }
   ],
   "source": [
    "s2.last_name"
   ]
  },
  {
   "cell_type": "markdown",
   "id": "4243db32-d93a-4285-bca5-978c730af9fc",
   "metadata": {},
   "source": [
    "The above program overrides the `__new__` method to make sure there is only one instance of all time. Therefore the `s1==s2` statement is `True`."
   ]
  },
  {
   "cell_type": "markdown",
   "id": "f3a87498-27ad-4e42-a83f-1c83279ff119",
   "metadata": {},
   "source": [
    "# 10. Use `__slots__` for Better Attributes Control"
   ]
  },
  {
   "cell_type": "markdown",
   "id": "2ff0e4fd-57e7-419a-bfc6-ef59fcb9c662",
   "metadata": {},
   "source": [
    "As a dynamic language, Python has more flexibility than other languages such as Java or C++. When it comes to OOP, a big advantage is that we can add extra attributes and methods into a Python class at runtime.\n",
    "\n",
    "For example, the following code defines a class named `Author`. We can add an extra attribute `age` into an instance of this class:"
   ]
  },
  {
   "cell_type": "code",
   "execution_count": 52,
   "id": "b602e182-b9d8-4af2-a1ed-5324309d75ad",
   "metadata": {},
   "outputs": [],
   "source": [
    "class Author:\n",
    "    def __init__(self, name):\n",
    "        self.name = name"
   ]
  },
  {
   "cell_type": "code",
   "execution_count": 53,
   "id": "9ade9a8a-7a5e-4b36-9f71-85900bcc5f2f",
   "metadata": {},
   "outputs": [],
   "source": [
    "me = Author(\"Yang\")"
   ]
  },
  {
   "cell_type": "code",
   "execution_count": 54,
   "id": "200152df-6891-49c8-a226-9d1beece8b87",
   "metadata": {},
   "outputs": [],
   "source": [
    "me.age = 29"
   ]
  },
  {
   "cell_type": "code",
   "execution_count": 55,
   "id": "a928b17f-d01f-49e5-af29-1659d55fc154",
   "metadata": {},
   "outputs": [
    {
     "data": {
      "text/plain": [
       "29"
      ]
     },
     "execution_count": 55,
     "metadata": {},
     "output_type": "execute_result"
    }
   ],
   "source": [
    "me.age"
   ]
  },
  {
   "cell_type": "markdown",
   "id": "3bb99617-e586-4e1e-afe8-7d94285b445c",
   "metadata": {},
   "source": [
    "However, in some cases, allowing the users of a class to add additional attributes at runtime is not a safe choice. Especially when the user has no idea about the implementation of the class. Not to mention that it may invoke out-of-memory issues if a user adds too many extra attributes.\n",
    "\n",
    "Therefore, Python provides a special built-in attribute — `__slots__` .\n",
    "\n",
    "We can add it to a class definition and specify the names of all valid attributes of the class. It works as a whitelist.\n",
    "\n",
    "Now, let’s change the previous program a bit:"
   ]
  },
  {
   "cell_type": "code",
   "execution_count": 56,
   "id": "e683046d-76bf-4cbf-a148-17c45bb42f64",
   "metadata": {},
   "outputs": [],
   "source": [
    "class Author:\n",
    "    __slots__ = [\"name\", \"hobby\"]\n",
    "    def __init__(self, name):\n",
    "        self.name = name"
   ]
  },
  {
   "cell_type": "code",
   "execution_count": 57,
   "id": "4dfb8301-3bdc-48ee-af84-2639d6332808",
   "metadata": {},
   "outputs": [],
   "source": [
    "me = Author(\"Yang\")"
   ]
  },
  {
   "cell_type": "code",
   "execution_count": 58,
   "id": "11c22b8a-e692-4c99-9a93-f53624160330",
   "metadata": {},
   "outputs": [],
   "source": [
    "me.hobby = \"writing\""
   ]
  },
  {
   "cell_type": "code",
   "execution_count": 59,
   "id": "fcb66d4d-d583-417e-a448-bc4078379224",
   "metadata": {},
   "outputs": [
    {
     "ename": "AttributeError",
     "evalue": "'Author' object has no attribute 'age'",
     "output_type": "error",
     "traceback": [
      "\u001b[1;31m---------------------------------------------------------------------------\u001b[0m",
      "\u001b[1;31mAttributeError\u001b[0m                            Traceback (most recent call last)",
      "Cell \u001b[1;32mIn[59], line 1\u001b[0m\n\u001b[1;32m----> 1\u001b[0m \u001b[43mme\u001b[49m\u001b[38;5;241;43m.\u001b[39;49m\u001b[43mage\u001b[49m \u001b[38;5;241m=\u001b[39m \u001b[38;5;241m29\u001b[39m\n",
      "\u001b[1;31mAttributeError\u001b[0m: 'Author' object has no attribute 'age'"
     ]
    }
   ],
   "source": [
    "me.age = 29"
   ]
  },
  {
   "cell_type": "markdown",
   "id": "71711280-2a76-4bc8-9cd1-c263eeb5c54c",
   "metadata": {},
   "source": [
    "As the above code shows, an `AttributeError` was raised when adding the `age` attribute into an instance at runtime, because the “whitelist” made by `__slot__` didn’t allow it."
   ]
  },
  {
   "cell_type": "code",
   "execution_count": null,
   "id": "f6a3dfc7-977e-41fe-8366-da02778c02a2",
   "metadata": {},
   "outputs": [],
   "source": []
  }
 ],
 "metadata": {
  "kernelspec": {
   "display_name": "Python [conda env:ls_env]",
   "language": "python",
   "name": "conda-env-ls_env-py"
  },
  "language_info": {
   "codemirror_mode": {
    "name": "ipython",
    "version": 3
   },
   "file_extension": ".py",
   "mimetype": "text/x-python",
   "name": "python",
   "nbconvert_exporter": "python",
   "pygments_lexer": "ipython3",
   "version": "3.10.8"
  }
 },
 "nbformat": 4,
 "nbformat_minor": 5
}
