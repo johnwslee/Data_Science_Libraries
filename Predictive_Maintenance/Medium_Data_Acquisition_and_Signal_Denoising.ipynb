{
 "cells": [
  {
   "cell_type": "markdown",
   "id": "46cec91c-1ef3-475b-9d3c-4eb19d534f43",
   "metadata": {},
   "source": [
    "The following is from [this article](https://medium.com/towards-data-science/understanding-predictive-maintenance-data-acquisition-and-signal-denoising-0309b1b103a7) in Medium"
   ]
  },
  {
   "cell_type": "markdown",
   "id": "bb31d651-bbfe-4f1d-bdca-b2d88f1ea300",
   "metadata": {},
   "source": [
    "# Data science of predictive maintanance"
   ]
  },
  {
   "cell_type": "markdown",
   "id": "6b299c48-95cb-4a3b-9006-6daf11d70be5",
   "metadata": {},
   "source": [
    "Predictive maintenance in data science is like having a super-smart way of taking care of machines. Instead of fixing things after they break, we use fancy computer programs and past data to predict when something might go wrong. It’s a bit like having a crystal ball for machines! By doing this, companies can save money and keep their important machines working longer. This method involves keeping a close eye on machines, collecting data in real-time, and using clever computer programs to tell us when it’s time to do maintenance. So, instead of waiting for something to break, we can fix it before it causes a big problem. It’s like giving machines a health check before they get sick!"
   ]
  },
  {
   "cell_type": "markdown",
   "id": "3c29253a-6b03-43a3-8c04-17c893cbcae0",
   "metadata": {},
   "source": [
    "# Shannon–Hartley Theorem"
   ]
  },
  {
   "cell_type": "markdown",
   "id": "bcfc77a4-f1bf-45e0-a979-95aca14ac59d",
   "metadata": {},
   "source": [
    "The Shannon–Hartley Theorem is like a rulebook for how much information can be sent through a communication channel without getting messed up. It tells us that the width of the channel, or how much data it can handle, is super important. So, before choosing devices or tools to monitor things like machines or sensors, we need to make sure the channel is wide enough to handle all the data we want without losing quality.\n",
    "\n",
    "To make things even better, we can be smart about how we use the channel. It’s like finding the best way to arrange our data so that we use the channel space most efficiently. This is called optimizing spectral efficiency. So, when picking sensors, we should choose ones that work really well within the available channel space."
   ]
  },
  {
   "cell_type": "markdown",
   "id": "a00970a0-9256-4560-b6fb-df6cab5e3844",
   "metadata": {},
   "source": [
    "# Nyquist Rate"
   ]
  },
  {
   "cell_type": "markdown",
   "id": "826c877b-c9c7-42cd-9213-61dcd9c195a4",
   "metadata": {},
   "source": [
    "The Nyquist Rate is like a speed limit for how fast we should collect data with our sensors. If we collect data too slowly, we might miss important details about how things are working. So, when we set up systems to keep an eye on things with sensors or smart devices, we need to make sure we’re collecting data at a speed that accurately shows us what’s happening and doesn’t create confusion.\n",
    "\n",
    "We have to ensure that the sensors are collecting data at a speed that follows the Nyquist Rate. This means collecting data fast enough to capture all the essential details without missing anything important.\n",
    "\n",
    "fs >= 2xfmax\n",
    "\n",
    "Ensure the sensor can measure (fs) at least twice as fast as the fastest change (fmax) in what you’re monitoring. This prevents missing important details and guarantees accurate measurements. Choose a sensor with a speed that matches what you want to measure."
   ]
  },
  {
   "cell_type": "markdown",
   "id": "a0595267-9cc7-4b16-b082-5a5a1f351b55",
   "metadata": {},
   "source": [
    "# Aliasing"
   ]
  },
  {
   "cell_type": "markdown",
   "id": "7adb305d-0240-4962-9383-f4bf830fa7eb",
   "metadata": {},
   "source": [
    "Imagine you are trying to take a picture of a car moving really fast. However, your camera takes only one picture every second. Now, if the car is moving really, really fast, it might be at a completely different spot by the time you take the next picture. As a result, when you look at the pictures, the car seems to be in weird places because you missed how it moved between each picture. This strange effect where things look different than they actually are is called aliasing."
   ]
  },
  {
   "cell_type": "markdown",
   "id": "c3b222ed-3802-4d65-b9bb-4148a8f30f44",
   "metadata": {},
   "source": [
    "# Anti-Aliasing"
   ]
  },
  {
   "cell_type": "markdown",
   "id": "f7abbef7-dabb-433e-a7f7-b027f7304fe1",
   "metadata": {},
   "source": [
    "Now, imagine you have a magical camera that can take lots of pictures really quickly. Instead of taking one picture per second, it takes many pictures in that same second, capturing every little detail of the car’s movement. When you look at these pictures, you see a smooth and accurate representation of how the car moved. This process of making sure you capture all the details and avoid the weird effects of aliasing is called anti-aliasing.\n",
    "\n",
    "In simpler terms, anti-aliasing is like having a super-fast camera to make sure things look as they should without any strange distortions or blurriness. It helps in creating clear and accurate images, especially when things are moving quickly or changing rapidly.\n",
    "\n",
    "Ok but why it is important in signal processing? These animation will show you how we can use it to denoise the real signal and catch the “core” of these signal."
   ]
  },
  {
   "cell_type": "code",
   "execution_count": null,
   "id": "0b8230f8-79ed-4b7e-8d61-46bf7f351e0c",
   "metadata": {},
   "outputs": [],
   "source": []
  }
 ],
 "metadata": {
  "kernelspec": {
   "display_name": "Python [conda env:ls_env]",
   "language": "python",
   "name": "conda-env-ls_env-py"
  },
  "language_info": {
   "codemirror_mode": {
    "name": "ipython",
    "version": 3
   },
   "file_extension": ".py",
   "mimetype": "text/x-python",
   "name": "python",
   "nbconvert_exporter": "python",
   "pygments_lexer": "ipython3",
   "version": "3.10.8"
  }
 },
 "nbformat": 4,
 "nbformat_minor": 5
}
