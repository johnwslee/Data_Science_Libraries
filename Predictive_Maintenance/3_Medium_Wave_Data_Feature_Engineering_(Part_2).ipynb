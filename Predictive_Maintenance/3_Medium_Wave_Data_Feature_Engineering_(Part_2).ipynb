{
 "cells": [
  {
   "cell_type": "markdown",
   "id": "5144d3da-d9da-4ab6-80fb-986d0a59981e",
   "metadata": {},
   "source": [
    "The following is from [this article](https://medium.com/towards-data-science/understanding-predictive-maintenance-wave-data-feature-engineering-part-2-spectral-3eced3bdbb3e) in Medium."
   ]
  },
  {
   "cell_type": "markdown",
   "id": "dac71c81-ed48-40c4-a31d-dd4b24b8ffd3",
   "metadata": {},
   "source": [
    "# Frequency-Domain Features"
   ]
  },
  {
   "cell_type": "markdown",
   "id": "fb8e9bb4-cfdf-4b19-b628-9e2d87738fe6",
   "metadata": {},
   "source": [
    "Transitioning to the frequency domain, we employ techniques like the `Fast Fourier Transform (FFT)` to convert time-domain signals. Extracted features include `dominant frequency`, `spectral entropy`, and `spectral kurtosis`. `Power Spectral Density (PSD)` and `Harmonic Ratios` offer insights into power distribution and harmonic relationships.\n",
    "\n",
    "- `FFT (Fast Fourier Transform)` Convert the time-domain signal to the frequency domain. Extract features from the resulting spectrum, such as `dominant frequency`, `spectral entropy`, and `spectral kurtosis`.\n",
    "\n",
    "- `Power Spectral Density (PSD)` Describes how the power of a signal is distributed over frequency."
   ]
  },
  {
   "cell_type": "code",
   "execution_count": null,
   "id": "dfdf5f31-cb9e-42e7-aefa-f5269ef26354",
   "metadata": {},
   "outputs": [],
   "source": []
  }
 ],
 "metadata": {
  "kernelspec": {
   "display_name": "Python [conda env:ls_env]",
   "language": "python",
   "name": "conda-env-ls_env-py"
  },
  "language_info": {
   "codemirror_mode": {
    "name": "ipython",
    "version": 3
   },
   "file_extension": ".py",
   "mimetype": "text/x-python",
   "name": "python",
   "nbconvert_exporter": "python",
   "pygments_lexer": "ipython3",
   "version": "3.10.8"
  }
 },
 "nbformat": 4,
 "nbformat_minor": 5
}
