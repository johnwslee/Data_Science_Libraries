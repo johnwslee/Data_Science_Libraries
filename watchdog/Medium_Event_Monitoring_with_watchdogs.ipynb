{
 "cells": [
  {
   "cell_type": "markdown",
   "id": "7bc8f7f5-2d8e-41c8-baa9-990325db8c30",
   "metadata": {},
   "source": [
    "The following is from [this article](https://medium.com/@pravash-techie/python-event-monitoring-with-watchdogs-86125f946da6) in Medium."
   ]
  },
  {
   "cell_type": "markdown",
   "id": "350f9d97-ee13-4a8b-b06b-055c8a336727",
   "metadata": {},
   "source": [
    "Since, It’s an open source automation file handling library, It will reduce the manual work as this file-watcher, upon the arrival/modification of any file, will trigger a follow-up process. Here, I will explain about one of the file event handler of this module with examples which will help you to get started with it. So, lets dive in"
   ]
  },
  {
   "cell_type": "markdown",
   "id": "28f62f27-937e-4d58-a98c-c3b074a4f957",
   "metadata": {},
   "source": [
    "# 1. What is Watchdog?"
   ]
  },
  {
   "cell_type": "markdown",
   "id": "f6a232f7-5a0f-4181-94f8-fb1c4e3862dc",
   "metadata": {},
   "source": [
    "watchdog is a Python API library and shell utilities to monitor file system events — based on the official documentation.\n",
    "\n",
    "It provides a simple and intuitive interface for monitoring files and directories, and it can be used to automate various tasks that require you to keep an eye on changes to files and directories."
   ]
  },
  {
   "cell_type": "markdown",
   "id": "7949f2cc-6505-43ec-9c7a-c2d035440763",
   "metadata": {},
   "source": [
    "# 2. Event Handler and Observer"
   ]
  },
  {
   "cell_type": "markdown",
   "id": "204c3a7c-3299-41ac-b0be-7974fcdbcc29",
   "metadata": {},
   "source": [
    "The main implementation or you can say the building blocks of watchdog is based on the following classes:\n",
    "\n",
    "- Observer\n",
    "- Event handler\n",
    "\n",
    "The following imports are what all we require -"
   ]
  },
  {
   "cell_type": "code",
   "execution_count": null,
   "id": "bc44fc68-d770-49d2-b9b6-fc769ebce23e",
   "metadata": {},
   "outputs": [],
   "source": [
    "from watchdog.events import FileSystemEventHandler\n",
    "from watchdog.observers import Observer"
   ]
  },
  {
   "cell_type": "markdown",
   "id": "e9a9ef1a-da5b-4e39-a292-1c46932d27f0",
   "metadata": {},
   "source": [
    "## 2.1. Event handler"
   ]
  },
  {
   "cell_type": "markdown",
   "id": "56abfdd9-5564-42fb-ad58-cc2f887efb37",
   "metadata": {},
   "source": [
    "Below are the 4 Event Handlers available in `watchdog`:\n",
    "\n",
    "- `FileSystemEventHandler`: Base file system event handler that you can override methods from.\n",
    "- `PatternMatchingEventHandler`: Matches given patterns with file paths associated with occurring events.\n",
    "- `RegexMatchingEventHandler`: Matches given regexes with file paths associated with occurring events.\n",
    "- `LoggingEventHandler`: Logs all the events captured.\n",
    "\n",
    "> You can refer to this [link](https://python-watchdog.readthedocs.io/en/stable/api.html#module-watchdog.events) for more details on Handlers"
   ]
  },
  {
   "cell_type": "markdown",
   "id": "a4ba1c8a-2d1a-4a71-afa2-b2333a82bf26",
   "metadata": {},
   "source": [
    "By extending an event handler class provided by `watchdog` we gain the ability to handle modified, created, deleted and moved events by implementing their respective [functions](https://pythonhosted.org/watchdog/api.html#event-classes) and also following functions which we can override as the other remaining classes inherits from `FileSystemEventHandler`"
   ]
  },
  {
   "cell_type": "markdown",
   "id": "7cea6a20-6dde-42e7-91ec-a2f7601aab33",
   "metadata": {},
   "source": [
    "**on_any_event(event)**\n",
    "\n",
    "**on_created(event)**\n",
    "\n",
    "**on_deleted(event)**\n",
    "\n",
    "**on_modified(event)**\n",
    "\n",
    "**on_moved(event)**"
   ]
  },
  {
   "cell_type": "markdown",
   "id": "c8619864-e49f-4b03-aacc-5c05cd799089",
   "metadata": {},
   "source": [
    "For each of the functions, it will have an input parameter called event which contains the following variables:\n",
    "\n",
    "`event_type` — The type of the event as a string. Default to None.\n",
    "\n",
    "`is_directory` — True if event was emitted for a directory; False otherwise.\n",
    "\n",
    "`src_path` — Source path of the file system object that triggered this event."
   ]
  },
  {
   "cell_type": "markdown",
   "id": "4b9eca78-f71c-44cb-83f7-7eb1cf5efed5",
   "metadata": {},
   "source": [
    "## 2.2. Observer"
   ]
  },
  {
   "cell_type": "markdown",
   "id": "04e9f7be-b53f-4132-a26e-d4b5a51fd1e2",
   "metadata": {},
   "source": [
    "Since you all are familiar with the design patterns, So watchdog follows the observation design pattern.\n",
    "\n",
    "So every observer will have the events and it will look and show the changes if there is any change in the files or directories.\n",
    "\n",
    "Observer threads, schedules watching directories and dispatches calls to event handlers\n",
    "\n",
    "> You can also import platform specific classes directly and use it instead of [`Observer`](https://python-watchdog.readthedocs.io/en/stable/api.html#watchdog.observers.Observer)"
   ]
  },
  {
   "cell_type": "markdown",
   "id": "ed523aa8-6504-4f64-8ab6-fb7da438f89a",
   "metadata": {},
   "source": [
    "# 3. Understanding with implementation"
   ]
  },
  {
   "cell_type": "markdown",
   "id": "7ce80729-adcc-4fb5-b7da-dc6d75dac2e4",
   "metadata": {},
   "source": [
    "So for this example I will be using the `FileSystemEventHandler` event class.\n",
    "I will be setting the watch on a folder and trigger another function if any files arrive. And after the process is completed I will be moving that file to another folder."
   ]
  },
  {
   "cell_type": "markdown",
   "id": "10874820-e928-4e2b-be49-5b0631febbdb",
   "metadata": {},
   "source": [
    "- First of all, you need to create the instances of the observer and event handler which you be using to inherit the `FileSystemEventHandler`."
   ]
  },
  {
   "cell_type": "code",
   "execution_count": null,
   "id": "881e5634-774f-4bf4-b0c5-55876d952650",
   "metadata": {},
   "outputs": [],
   "source": [
    "from watchdog.events import FileSystemEventHandler\n",
    "from watchdog.observers import Observer"
   ]
  },
  {
   "cell_type": "code",
   "execution_count": null,
   "id": "d08a54e3-5a7c-45fe-99d9-df8750f6f397",
   "metadata": {},
   "outputs": [],
   "source": [
    "class MyHandler(FileSystemEventHandler):\n",
    "    pass"
   ]
  },
  {
   "cell_type": "code",
   "execution_count": null,
   "id": "003b1217-a4e9-4ece-9aff-be3eb9928915",
   "metadata": {},
   "outputs": [],
   "source": [
    "observer = Observer()\n",
    "event_handler = MyHandler()"
   ]
  },
  {
   "cell_type": "markdown",
   "id": "04132a75-1aeb-494f-8ef1-1472dc19ec7d",
   "metadata": {},
   "source": [
    "- Now, you need to schedule this observer. This observer will take the following 3 parameters -\n",
    "\n",
    "   `event_handler`: The handler object you have created\n",
    "\n",
    "   `path`: The folder you want to track\n",
    "\n",
    "   `recursive`: How many times it should track"
   ]
  },
  {
   "cell_type": "code",
   "execution_count": null,
   "id": "becbac99-ac3a-406b-8b1e-764ad9774341",
   "metadata": {},
   "outputs": [],
   "source": [
    "observer.schedule(event_handler, path=\"./input_files\", recursive=True)"
   ]
  },
  {
   "cell_type": "markdown",
   "id": "81d8a4e8-6509-43f8-b438-f31dd64672f2",
   "metadata": {},
   "source": [
    "- `observer.start()` — Starts the `Observer` thread and wait for it to generate events that will trigger the code inside the event handler. You can use the `time` to set the monitoring time (`time.sleep(100)`)."
   ]
  },
  {
   "cell_type": "markdown",
   "id": "7bd3007f-e11c-411e-bb78-a20fc9c5a088",
   "metadata": {},
   "source": [
    "- `observer.stop()` this function will clean up the resources."
   ]
  },
  {
   "cell_type": "markdown",
   "id": "518128a0-802a-4022-82a2-fe85c41ab34b",
   "metadata": {},
   "source": [
    "- Now finish this with the `observer.join()`, as we are using the multi threading concept here. Here the `join()` will join the multiple threads and until the thread whose join method is called terminates."
   ]
  },
  {
   "cell_type": "raw",
   "id": "711bf9d8-cd4c-468d-871e-d89d42d65af8",
   "metadata": {},
   "source": [
    "observer.start()"
   ]
  },
  {
   "cell_type": "raw",
   "id": "3d554cc1-c182-48b4-adcc-ec71f4e49076",
   "metadata": {},
   "source": [
    "try:\n",
    "    while True:\n",
    "        time.sleep(300)\n",
    "except KeyboardInterrupt:\n",
    "    observer.stop()"
   ]
  },
  {
   "cell_type": "raw",
   "id": "228896f4-47c5-4f56-8a70-0d07926b8e7a",
   "metadata": {},
   "source": [
    "observer.join()"
   ]
  },
  {
   "cell_type": "markdown",
   "id": "6e606823-84b8-4c86-840c-935ec3b3fa8c",
   "metadata": {},
   "source": [
    "- Now moving to the event class. In this example, I will be checking if any file is uploaded into the tracking folder. for that I can use `on_created(event)`."
   ]
  },
  {
   "cell_type": "markdown",
   "id": "a9bfa0cb-f0ad-4f8f-8b48-e2436cc3f177",
   "metadata": {},
   "source": [
    "> Note: `watchdog` will also check the sub directories as well if you provide the parent directory"
   ]
  },
  {
   "cell_type": "code",
   "execution_count": null,
   "id": "109710b9-29a4-45ac-add0-dfd651cf702b",
   "metadata": {},
   "outputs": [],
   "source": [
    "import os\n",
    "import shutil"
   ]
  },
  {
   "cell_type": "code",
   "execution_count": null,
   "id": "4deb5f56-960a-4fc1-ad72-3339799f8aea",
   "metadata": {},
   "outputs": [],
   "source": [
    "def create_directory(file_path=None):\n",
    "    # Get the current date in the format of 'year-month-day'\n",
    "    current_date = datetime.now().strftime(\"%Y-%m-%d\")\n",
    "\n",
    "    # Create a folder with the current date\n",
    "    folder_path = f\"{file_path}/{current_date}\"\n",
    "    if not os.path.exists(folder_path):\n",
    "        os.makedirs(folder_path)\n",
    "        return folder_path\n",
    "    else:\n",
    "        return folder_path"
   ]
  },
  {
   "cell_type": "code",
   "execution_count": null,
   "id": "cd18276c-9adb-4e1f-ba7a-e579e320bd90",
   "metadata": {},
   "outputs": [],
   "source": [
    "class MyHandler(FileSystemEventHandler):\n",
    "    def on_created(self, event):\n",
    "        dir_path = event.src_path.split(\"/input_files\")\n",
    "        processed_files = f\"{dir_path[0]}/processed_files\"\n",
    "\n",
    "        child_processed_dir = create_directory(file_path=processed_files)\n",
    "\n",
    "        if event:\n",
    "            print(f\"file created:{event.src_path}\")\n",
    "            # call function here\n",
    "            main(file_name=event.src_path)\n",
    "\n",
    "            file_name = event.src_path.split(\"/\")[-1]\n",
    "            destination_path = f\"{child_processed_dir}/{file_name}\"\n",
    "\n",
    "            # Move file to other directory\n",
    "            shutil.move(event.src_path, destination_path)\n",
    "            print(\"file moved:{} to {}\".format(event.src_path, destination_path))"
   ]
  },
  {
   "cell_type": "markdown",
   "id": "37024c46-1873-478c-aec3-65c961301fe4",
   "metadata": {},
   "source": [
    "In the example above, I am using function — `create_directory()`, to check if a folder with current date is in the destination path or else to create the same.\n",
    "Then I am using the same path as the destination to move files (`shutil.move` module) after I did some processing in function — `main()`, from other python script.\n",
    "\n",
    "Please find below the final code -"
   ]
  },
  {
   "cell_type": "markdown",
   "id": "d4742f05-33b2-4f1b-8ea1-3e1b98c0f7d1",
   "metadata": {},
   "source": [
    "*event_handler_ex.py -*"
   ]
  },
  {
   "cell_type": "code",
   "execution_count": null,
   "id": "b82f01bf-1504-4be6-a918-88db9dd3f20c",
   "metadata": {},
   "outputs": [],
   "source": [
    "import os\n",
    "import shutil\n",
    "import time\n",
    "from datetime import datetime\n",
    "\n",
    "from watchdog.events import FileSystemEventHandler\n",
    "from watchdog.observers import Observer\n",
    "from watchdog_fileobserver_ex import main\n",
    "\n",
    "\n",
    "def create_directory(file_path=None):\n",
    "    # Get the current date in the format of 'year-month-day'\n",
    "    current_date = datetime.now().strftime(\"%Y-%m-%d\")\n",
    "\n",
    "    # Create a folder with the current date\n",
    "    folder_path = f\"{file_path}/{current_date}\"\n",
    "    if not os.path.exists(folder_path):\n",
    "        os.makedirs(folder_path)\n",
    "        return folder_path\n",
    "    else:\n",
    "        return folder_path\n",
    "\n",
    "\n",
    "class MyHandler(FileSystemEventHandler):\n",
    "    def on_created(self, event):\n",
    "        dir_path = event.src_path.split(\"/input_files\")\n",
    "        processed_files = f\"{dir_path[0]}/processed_files\"\n",
    "\n",
    "        child_processed_dir = create_directory(file_path=processed_files)\n",
    "\n",
    "        if event:\n",
    "            print(\"file created:{}\".format(event.src_path))\n",
    "            # call function here\n",
    "            main(file_name=event.src_path)\n",
    "\n",
    "            file_name = event.src_path.split(\"/\")[-1]\n",
    "            destination_path = f\"{child_processed_dir}/{file_name}\"\n",
    "\n",
    "            shutil.move(event.src_path, destination_path)\n",
    "            print(\"file moved:{} to {}\".format(event.src_path, destination_path))\n",
    "\n",
    "\n",
    "# if __name__ == \"__main__\":\n",
    "#     observer = Observer()\n",
    "#     event_handler = MyHandler()\n",
    "#     observer.schedule(event_handler, path=\"./input_files\", recursive=True)\n",
    "#     observer.start()\n",
    "#     try:\n",
    "#         while True:\n",
    "#             time.sleep(300)\n",
    "#     except KeyboardInterrupt:\n",
    "#         observer.stop()\n",
    "#     observer.join()"
   ]
  },
  {
   "cell_type": "markdown",
   "id": "c49bebd5-0c3d-4c4c-a413-82bbcfb0fc97",
   "metadata": {},
   "source": [
    "*watchdog_fileobserver_ex.py -*"
   ]
  },
  {
   "cell_type": "code",
   "execution_count": null,
   "id": "aa63214e-d15b-4053-b90c-43ec388ccfd6",
   "metadata": {},
   "outputs": [],
   "source": [
    "import csv\n",
    "\n",
    "\n",
    "def read_csv_file(file_name):\n",
    "    try:\n",
    "        with open(f\"{file_name}\", \"r\") as file:\n",
    "            csvreader = csv.DictReader(file)\n",
    "            for row in csvreader:\n",
    "                print(row)\n",
    "        return csvreader\n",
    "    except Exception as e:\n",
    "        pass\n",
    "\n",
    "\n",
    "def main(file_name=None):\n",
    "    if file_name:\n",
    "        dict_data = read_csv_file(file_name)\n",
    "        print(\"Process completed\")\n",
    "    else:\n",
    "        print(\"Invalid file path\")"
   ]
  },
  {
   "cell_type": "markdown",
   "id": "56867f46-34d7-4088-9332-b9b5a27e0efd",
   "metadata": {},
   "source": [
    "## Wait for the File Transfer to Complete !!"
   ]
  },
  {
   "cell_type": "markdown",
   "id": "0e7ff4c0-bff2-465a-b190-2ffe26475146",
   "metadata": {},
   "source": [
    "Case where you need to wait for a file to be uploaded and then perform the required operation.\n",
    "for that you can add either of the below code inside event functions -"
   ]
  },
  {
   "cell_type": "raw",
   "id": "e98dbb8e-8a1f-4321-8d7a-ca64cabe4946",
   "metadata": {},
   "source": [
    "def on_created(self, event):\n",
    "    file_size = -1\n",
    "    while file_size != os.path.getsize(event.src_path):\n",
    "        file_size = os.path.getsize(event.src_path)\n",
    "        print(file_size)\n",
    "        time.sleep(1)\n",
    "\n",
    "###    OR   ###\n",
    "\n",
    "def on_created(self, event):\n",
    "    file = None\n",
    "    while file is None:\n",
    "        try:\n",
    "            file = open(event.src_path)\n",
    "        except OSError:\n",
    "            logger.info(\"Waiting for file transfer....\")\n",
    "            time.sleep(1)\n",
    "            continue"
   ]
  },
  {
   "cell_type": "markdown",
   "id": "c49fa972-1177-45a6-b8a4-0c120075a1bc",
   "metadata": {},
   "source": [
    "# 4. Use cases of watchdog"
   ]
  },
  {
   "cell_type": "markdown",
   "id": "b20d90f3-64e4-4bd6-a6e8-d433defc72f8",
   "metadata": {},
   "source": [
    "## Monitoring a directory for changes:"
   ]
  },
  {
   "cell_type": "markdown",
   "id": "a8e17468-c798-43eb-903e-a533d6d87174",
   "metadata": {},
   "source": [
    "The observer can be set up to watch the specified directory and all its subdirectories, and to call the appropriate method (`on_created`, `on_deleted`, or `on_modified`) whenever a file or directory is created, deleted, or modified.\n",
    "The observer runs in an infinite loop, which can be interrupted by a keyboard interrupt."
   ]
  },
  {
   "cell_type": "code",
   "execution_count": 12,
   "id": "a0f29ae5-4837-426b-8b73-f63f08a21f82",
   "metadata": {},
   "outputs": [],
   "source": [
    "import time\n",
    "import os\n",
    "from watchdog.events import FileSystemEventHandler\n",
    "from watchdog.observers import Observer"
   ]
  },
  {
   "cell_type": "code",
   "execution_count": 13,
   "id": "fcce37eb-9244-4894-add4-54b984981d94",
   "metadata": {},
   "outputs": [],
   "source": [
    "class EventHandler(FileSystemEventHandler):\n",
    "    def on_created(self, event):\n",
    "        if event.is_directory:\n",
    "            print(\"Directory created:\", event.src_path)\n",
    "        else:\n",
    "            print(\"File created:\", event.src_path)\n",
    "            file_size = -1\n",
    "            while file_size != os.path.getsize(event.src_path):\n",
    "                file_size = os.path.getsize(event.src_path)\n",
    "                print(file_size)\n",
    "                time.sleep(1)\n",
    "\n",
    "    def on_deleted(self, event):\n",
    "        if event.is_directory:\n",
    "            print(\"Directory deleted:\", event.src_path)\n",
    "        else:\n",
    "            print(\"File deleted:\", event.src_path)\n",
    "\n",
    "    def on_modified(self, event):\n",
    "        if event.is_directory:\n",
    "            print(\"Directory modified:\", event.src_path)\n",
    "        else:\n",
    "            print(\"File modified:\", event.src_path)"
   ]
  },
  {
   "cell_type": "code",
   "execution_count": 14,
   "id": "b79d313d-2c84-4b26-b3cb-3ca37e9d6db8",
   "metadata": {},
   "outputs": [],
   "source": [
    "event_handler = EventHandler()\n",
    "observer = Observer()"
   ]
  },
  {
   "cell_type": "code",
   "execution_count": 15,
   "id": "7685a5ed-fc2b-4f49-998c-4aa2432fe4c5",
   "metadata": {},
   "outputs": [
    {
     "data": {
      "text/plain": [
       "<ObservedWatch: path='./input_files', is_recursive=True>"
      ]
     },
     "execution_count": 15,
     "metadata": {},
     "output_type": "execute_result"
    }
   ],
   "source": [
    "observer.schedule(event_handler, \"./input_files\", recursive=True)"
   ]
  },
  {
   "cell_type": "code",
   "execution_count": 16,
   "id": "598d4b01-d1a5-4e2c-9c0c-aa299e7160ef",
   "metadata": {},
   "outputs": [
    {
     "name": "stdout",
     "output_type": "stream",
     "text": [
      "File created: ./input_files\\MCM-204_1_2023.9.6_17.7.27.csv\n",
      "25261\n",
      "File modified: ./input_files\\MCM-204_1_2023.9.6_17.7.27.csv\n"
     ]
    }
   ],
   "source": [
    "observer.start()"
   ]
  },
  {
   "cell_type": "code",
   "execution_count": null,
   "id": "d5a56024-0268-44e7-a675-3421de19a1b4",
   "metadata": {},
   "outputs": [],
   "source": [
    "# try:\n",
    "#     while True:\n",
    "#         time.sleep(1)\n",
    "# except KeyboardInterrupt:\n",
    "#     observer.stop()\n",
    "# observer.join()"
   ]
  },
  {
   "cell_type": "code",
   "execution_count": 17,
   "id": "8efe2e38-b653-42ea-902a-44d1d368387e",
   "metadata": {},
   "outputs": [],
   "source": [
    "observer.stop()"
   ]
  },
  {
   "cell_type": "code",
   "execution_count": null,
   "id": "ed9db499-fa91-4ec4-af79-5c1458066857",
   "metadata": {},
   "outputs": [],
   "source": []
  }
 ],
 "metadata": {
  "kernelspec": {
   "display_name": "Python [conda env:ls_env]",
   "language": "python",
   "name": "conda-env-ls_env-py"
  },
  "language_info": {
   "codemirror_mode": {
    "name": "ipython",
    "version": 3
   },
   "file_extension": ".py",
   "mimetype": "text/x-python",
   "name": "python",
   "nbconvert_exporter": "python",
   "pygments_lexer": "ipython3",
   "version": "3.10.8"
  }
 },
 "nbformat": 4,
 "nbformat_minor": 5
}
