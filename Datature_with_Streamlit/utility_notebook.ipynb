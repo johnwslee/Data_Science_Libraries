{
 "cells": [
  {
   "cell_type": "code",
   "execution_count": 1,
   "id": "fc3b2a2f-ff58-45b6-9455-c952038c1cd2",
   "metadata": {},
   "outputs": [],
   "source": [
    "import os\n",
    "import cv2\n",
    "import pandas as pd\n",
    "import shutil"
   ]
  },
  {
   "cell_type": "code",
   "execution_count": 2,
   "id": "eeff0a0e-70c2-46dd-bd88-1074ae8ba640",
   "metadata": {},
   "outputs": [],
   "source": [
    "for file in os.listdir('benign'):\n",
    "    if \"mask\" in file:\n",
    "        shutil.move(f\"benign/{file}\", f\"masks/{file}\")\n",
    "    else:\n",
    "        continue\n",
    "\n",
    "for file in os.listdir('malignant'):\n",
    "    if \"mask\" in file:\n",
    "        shutil.move(f\"malignant/{file}\", f\"masks/{file}\")\n",
    "    else:\n",
    "        continue"
   ]
  },
  {
   "cell_type": "code",
   "execution_count": 3,
   "id": "36666378-a326-42b2-b077-11404b45aba4",
   "metadata": {},
   "outputs": [
    {
     "name": "stdout",
     "output_type": "stream",
     "text": [
      "             filename  xmin  ymin  width  height   label\n",
      "0      benign (1).png   288   134     51      26  benign\n",
      "1     benign (10).png    24    67    209     197  benign\n",
      "2    benign (100).png   198   126    101      96  benign\n",
      "3  benign (100)_1.png    28   107     71      51  benign\n",
      "4    benign (101).png   438   172     99      51  benign\n"
     ]
    }
   ],
   "source": [
    "import os\n",
    "import cv2\n",
    "import pandas as pd\n",
    "\n",
    "def bounding_box_img(filepath):\n",
    "    img = cv2.imread(filepath)\n",
    "    gray=cv2.cvtColor(img,cv2.COLOR_BGR2GRAY)\n",
    "    contours, hierarchy = cv2.findContours(gray,cv2.RETR_LIST,cv2.CHAIN_APPROX_SIMPLE)[-2:]\n",
    "    for cnt in contours:\n",
    "        x,y,w,h = cv2.boundingRect(cnt)\n",
    "    return (x,y,w,h)\n",
    "\n",
    "def extract_label(filepath):\n",
    "    if 'benign' in filepath:\n",
    "        return 'benign'\n",
    "    else:\n",
    "        return 'malignant'\n",
    "\n",
    "masks = sorted(os.listdir('masks'))\n",
    "\n",
    "diz = {'filename':[],'xmin':[],'ymin':[],'width':[],'height':[],'label':[]}\n",
    "\n",
    "for f in masks:\n",
    "    x,y,w,h = bounding_box_img('masks/'+f)\n",
    "    diz['filename'].append(f.replace('_mask',''))\n",
    "    diz['xmin'].append(x)\n",
    "    diz['ymin'].append(y)\n",
    "    diz['width'].append(w)\n",
    "    diz['height'].append(h)\n",
    "    diz['label'].append(extract_label(f))    \n",
    "\n",
    "df = pd.DataFrame(diz)\n",
    "print(df.head())\n",
    "df.to_csv('annotations.csv',index=False)"
   ]
  },
  {
   "cell_type": "code",
   "execution_count": null,
   "id": "9dfd8792-0063-48ad-ad64-307eb4322cd6",
   "metadata": {},
   "outputs": [],
   "source": []
  }
 ],
 "metadata": {
  "kernelspec": {
   "display_name": "Python [conda env:opencv]",
   "language": "python",
   "name": "conda-env-opencv-py"
  },
  "language_info": {
   "codemirror_mode": {
    "name": "ipython",
    "version": 3
   },
   "file_extension": ".py",
   "mimetype": "text/x-python",
   "name": "python",
   "nbconvert_exporter": "python",
   "pygments_lexer": "ipython3",
   "version": "3.8.13"
  }
 },
 "nbformat": 4,
 "nbformat_minor": 5
}
