{
 "cells": [
  {
   "cell_type": "markdown",
   "id": "a73fe7d1-da09-4ac1-a38f-c36e52fa15c4",
   "metadata": {},
   "source": [
    "The following code is from [this article](https://medium.com/towards-data-science/statistical-experiments-with-resampling-cb9ad2a5e66b) in Medium."
   ]
  },
  {
   "cell_type": "markdown",
   "id": "e83199b2-7938-4112-ac19-43db93ed40ee",
   "metadata": {},
   "source": [
    "# A/B Testing"
   ]
  },
  {
   "cell_type": "markdown",
   "id": "4153b699-b54b-4f3b-b5bd-df5f24b56c5e",
   "metadata": {},
   "source": [
    "## Data"
   ]
  },
  {
   "cell_type": "code",
   "execution_count": 1,
   "id": "e00049a2-9976-4254-b0e4-72de3dc9a30b",
   "metadata": {},
   "outputs": [],
   "source": [
    "import random\n",
    "\n",
    "import matplotlib\n",
    "import matplotlib.pyplot as plt\n",
    "import numpy as np\n",
    "import pandas as pd\n",
    "from tqdm import tqdm\n",
    "\n",
    "random.seed(1)"
   ]
  },
  {
   "cell_type": "code",
   "execution_count": 2,
   "id": "6844a909-86ce-4411-9963-8ac292da0475",
   "metadata": {},
   "outputs": [],
   "source": [
    "A_B_table = pd.read_csv(\"data/A_B_table.csv\")"
   ]
  },
  {
   "cell_type": "code",
   "execution_count": 3,
   "id": "52406a2c-fbf8-4705-9ba1-1fe821a39461",
   "metadata": {},
   "outputs": [
    {
     "data": {
      "text/html": [
       "<div>\n",
       "<style scoped>\n",
       "    .dataframe tbody tr th:only-of-type {\n",
       "        vertical-align: middle;\n",
       "    }\n",
       "\n",
       "    .dataframe tbody tr th {\n",
       "        vertical-align: top;\n",
       "    }\n",
       "\n",
       "    .dataframe thead th {\n",
       "        text-align: right;\n",
       "    }\n",
       "</style>\n",
       "<table border=\"1\" class=\"dataframe\">\n",
       "  <thead>\n",
       "    <tr style=\"text-align: right;\">\n",
       "      <th></th>\n",
       "      <th>treatment</th>\n",
       "      <th>treatment successful</th>\n",
       "      <th>treatment failed</th>\n",
       "      <th>total number of animals</th>\n",
       "      <th>% animals cured</th>\n",
       "    </tr>\n",
       "  </thead>\n",
       "  <tbody>\n",
       "    <tr>\n",
       "      <th>0</th>\n",
       "      <td>new drug</td>\n",
       "      <td>2034</td>\n",
       "      <td>453</td>\n",
       "      <td>2487</td>\n",
       "      <td>81.79</td>\n",
       "    </tr>\n",
       "    <tr>\n",
       "      <th>1</th>\n",
       "      <td>traditional</td>\n",
       "      <td>1434</td>\n",
       "      <td>351</td>\n",
       "      <td>1785</td>\n",
       "      <td>80.34</td>\n",
       "    </tr>\n",
       "  </tbody>\n",
       "</table>\n",
       "</div>"
      ],
      "text/plain": [
       "     treatment   treatment successful   treatment failed  \\\n",
       "0     new drug                   2034                453   \n",
       "1  traditional                   1434                351   \n",
       "\n",
       "    total number of animals   % animals cured  \n",
       "0                      2487             81.79  \n",
       "1                      1785             80.34  "
      ]
     },
     "execution_count": 3,
     "metadata": {},
     "output_type": "execute_result"
    }
   ],
   "source": [
    "A_B_table"
   ]
  },
  {
   "cell_type": "markdown",
   "id": "9265bcfd-1c97-449f-a25f-cc1f6afcdb5b",
   "metadata": {},
   "source": [
    "## Permutation Test"
   ]
  },
  {
   "cell_type": "code",
   "execution_count": 4,
   "id": "31340840-8d88-4b43-bbb7-89c4de4a3d30",
   "metadata": {},
   "outputs": [],
   "source": [
    "def permute_values(pooled_data: pd.Series, n1: int, n2: int) -> float:\n",
    "    n = n1 + n2\n",
    "    idx1 = random.sample(range(n), n1)\n",
    "    idx2 = list(set(range(n)) - set(idx1))\n",
    "    return pooled_data.loc[idx1].mean() - pooled_data.loc[idx2].mean()"
   ]
  },
  {
   "cell_type": "code",
   "execution_count": 5,
   "id": "aa7e5949-4b72-474a-a514-5c4c7c374611",
   "metadata": {},
   "outputs": [
    {
     "name": "stdout",
     "output_type": "stream",
     "text": [
      "new drug: treatment successful: 2034, treatment failed: 453, number of animals treated: 2487, success rate:  81.79%\n"
     ]
    }
   ],
   "source": [
    "# new drug\n",
    "n1_success = 2034\n",
    "n1_fail = 453\n",
    "n1_total = n1_success + n1_fail\n",
    "n1_mean = n1_success / n1_total\n",
    "print(\n",
    "    f\"new drug: treatment successful: {n1_success}, treatment failed: {n1_fail}, number of animals treated: {n1_total}, success rate: {n1_mean: .2%}\"\n",
    ")"
   ]
  },
  {
   "cell_type": "code",
   "execution_count": 6,
   "id": "eb3603eb-87ac-400c-9c36-c7d6ccab6b14",
   "metadata": {},
   "outputs": [
    {
     "name": "stdout",
     "output_type": "stream",
     "text": [
      "traditional tream: treatment successful: 1434, treatment failed: 351, number of animals treated: 1785, success rate:  80.34%\n"
     ]
    }
   ],
   "source": [
    "# traditional treatment\n",
    "n2_success = 1434\n",
    "n2_fail = 351\n",
    "n2_total = n2_success + n2_fail\n",
    "n2_mean = n2_success / n2_total\n",
    "print(\n",
    "    f\"traditional tream: treatment successful: {n2_success}, treatment failed: {n2_fail}, number of animals treated: {n2_total}, success rate: {n2_mean: .2%}\"\n",
    ")"
   ]
  },
  {
   "cell_type": "code",
   "execution_count": 7,
   "id": "7bdccfed-f5eb-46ad-9027-7eb7fcdf1b4b",
   "metadata": {},
   "outputs": [],
   "source": [
    "# successful treatment denoted by 1 and failed treatment denoted by 0\n",
    "pooled_data = pd.Series(\n",
    "    [1] * n1_success + [0] * n1_fail + [1] * n2_success + [0] * n2_fail\n",
    ")"
   ]
  },
  {
   "cell_type": "code",
   "execution_count": 8,
   "id": "695da8c8-94df-45f8-8243-0b7a60896339",
   "metadata": {},
   "outputs": [
    {
     "data": {
      "text/plain": [
       "0       1\n",
       "1       1\n",
       "2       1\n",
       "3       1\n",
       "4       1\n",
       "       ..\n",
       "4267    0\n",
       "4268    0\n",
       "4269    0\n",
       "4270    0\n",
       "4271    0\n",
       "Length: 4272, dtype: int64"
      ]
     },
     "execution_count": 8,
     "metadata": {},
     "output_type": "execute_result"
    }
   ],
   "source": [
    "pooled_data"
   ]
  },
  {
   "cell_type": "code",
   "execution_count": 9,
   "id": "6e22d10a-6a53-4a2d-a057-210995bea24b",
   "metadata": {},
   "outputs": [
    {
     "name": "stderr",
     "output_type": "stream",
     "text": [
      "100%|███████████████████████████████████████████████████████████████████████████| 10000/10000 [00:38<00:00, 256.47it/s]\n"
     ]
    }
   ],
   "source": [
    "# permutation test\n",
    "n_permutations = 10000\n",
    "differences = []\n",
    "for _ in tqdm(range(n_permutations)):\n",
    "    differences.append(permute_values(pooled_data, n1=n1_total, n2=n2_total))\n",
    "differences = pd.Series(differences)"
   ]
  },
  {
   "cell_type": "code",
   "execution_count": 10,
   "id": "28fea90f-5ba3-4790-912d-d30a730c6bcc",
   "metadata": {},
   "outputs": [
    {
     "data": {
      "text/plain": [
       "0      -0.003792\n",
       "1      -0.011491\n",
       "2       0.015454\n",
       "3      -0.001868\n",
       "4       0.023152\n",
       "          ...   \n",
       "9995   -0.007642\n",
       "9996    0.008718\n",
       "9997   -0.005717\n",
       "9998    0.009680\n",
       "9999    0.009680\n",
       "Length: 10000, dtype: float64"
      ]
     },
     "execution_count": 10,
     "metadata": {},
     "output_type": "execute_result"
    }
   ],
   "source": [
    "differences"
   ]
  },
  {
   "cell_type": "code",
   "execution_count": 11,
   "id": "deb61fae-1bd9-4d19-9b76-832ee09b72d6",
   "metadata": {},
   "outputs": [
    {
     "data": {
      "image/png": "[encoded data removed]",
      "text/plain": [
       "<Figure size 640x480 with 1 Axes>"
      ]
     },
     "metadata": {},
     "output_type": "display_data"
    }
   ],
   "source": [
    "# plot simulated differences\n",
    "fig = plt.figure()\n",
    "ax = fig.subplots()\n",
    "counts, bins, patches = ax.hist(differences, bins=40, rwidth=0.9, fill=True, ec=\"k\")\n",
    "for i in range(len(patches)):\n",
    "    if bins[i] > n1_mean - n2_mean:\n",
    "        patches[i].set_facecolor(\"r\")\n",
    "    else:\n",
    "        patches[i].set_facecolor(\"w\")\n",
    "ax.axvline(x=n1_mean - n2_mean, color=\"k\", ls=\"--\", lw=1)\n",
    "ax.text(1.1 * (n1_mean - n2_mean), 0.9 * max(counts), \"observed\")\n",
    "plt.setp(ax, xlabel=\"simulated difference\")\n",
    "plt.setp(ax, ylabel=\"frequency\")\n",
    "plt.show();"
   ]
  },
  {
   "cell_type": "code",
   "execution_count": 12,
   "id": "e0a70086-e1ab-4a00-92d2-f93ba5d1a596",
   "metadata": {},
   "outputs": [
    {
     "name": "stdout",
     "output_type": "stream",
     "text": [
      "p-value is 0.1084\n"
     ]
    }
   ],
   "source": [
    "# obtain the p-value\n",
    "p_value = (differences > n1_mean - n2_mean).mean()\n",
    "print(f\"p-value is {p_value:.4f}\")"
   ]
  },
  {
   "cell_type": "code",
   "execution_count": 13,
   "id": "b1bccfcf-ab3e-46ac-929f-50212c246b86",
   "metadata": {},
   "outputs": [
    {
     "data": {
      "text/plain": [
       "0.02026537997587452"
      ]
     },
     "execution_count": 13,
     "metadata": {},
     "output_type": "execute_result"
    }
   ],
   "source": [
    "# To find the difference that is sufficient to reject the null hypothesis\n",
    "np.percentile(differences, 95)"
   ]
  },
  {
   "cell_type": "markdown",
   "id": "2cdfc2b0-7884-4b63-9fdf-3e7eb4a8283f",
   "metadata": {},
   "source": [
    "## Power Estimation"
   ]
  },
  {
   "cell_type": "markdown",
   "id": "498613cb-b869-40bf-acc4-123f8c0e27b9",
   "metadata": {},
   "source": [
    "Power is the probability of detecting a given effect size for a given sample size and level of significance."
   ]
  },
  {
   "cell_type": "markdown",
   "id": "c480702c-04d1-432b-8801-bbf16949e57f",
   "metadata": {},
   "source": [
    "The procedure below attempts to construct a curve with the power as a function of the sample size:\n",
    "\n",
    "- Create a synthetic dataset with animals supposed to have undergone the traditional treatment so that the treatment effectiveness is more or less what we know it to be (below, I set it to 0.8034 that corresponds to the contingency matrix above).\n",
    "\n",
    "- Create a synthetic dataset with animals supposed to have undergone the treatment with the new drug by adding the effect size we would like to investigate (below, I set this to 0.015 and 0.020 to see its effect on the results).\n",
    "\n",
    "- Draw a bootstrap sample of size n_sample from each synthetic dataset (below I set this to the values 3000, 4000, 5000, 6000 and 7000).\n",
    "\n",
    "- Carry out a permutation test for statistical significance using the approach we established in the previous section and record whether the difference in treatment effectiveness is statistically significant or not.\n",
    "\n",
    "- Keep generating bootstrap samples and compute how often the difference in treatment effectiveness is statistically significant; this is the power of the test.\n",
    "\n",
    "This is of course a lengthier simulation and hence we limit the number of bootstrap samples to 200, whilst the number of permutations in the significance test is also reduced to 500 compared to the previous section."
   ]
  },
  {
   "cell_type": "code",
   "execution_count": 14,
   "id": "c017bf20-149a-4f52-a69f-1c983b99ed72",
   "metadata": {},
   "outputs": [],
   "source": [
    "def compute_stat_significance(\n",
    "    n1_success, n1_total, n2_success, n2_total, a=0.05, n_permutations=1000\n",
    "):\n",
    "    \"\"\"\n",
    "    Computes whether the count difference is statistically significant using a permutation test\n",
    "    :param n1_success: number of times the treatment is successful using the new drug\n",
    "    :param n1_total: number of animals treated with the new drug\n",
    "    :param n2_success: number of times the treatment is successful using the traditional treatment\n",
    "    :param n2_total: number of animals treated with the traditional treatment\n",
    "    :param a: significance level (default 0.05)\n",
    "    :param n_permutations: number of permutations (default 1000)\n",
    "    :return: True if the difference is statistically significant and False otherwise\n",
    "    \"\"\"\n",
    "    n1_fail = n1_total - n1_success\n",
    "    n1_mean = n1_success / n1_total\n",
    "    n2_fail = n2_total - n2_success\n",
    "    n2_mean = n2_success / n2_total\n",
    "\n",
    "    pooled_data = pd.Series(\n",
    "        [1] * n1_success + [0] * n1_fail + [1] * n2_success + [0] * n2_fail\n",
    "    )\n",
    "    differences = []\n",
    "    for _ in range(n_permutations):\n",
    "        differences.append(permute_values(pooled_data, n1=n1_total, n2=n2_total))\n",
    "    differences = pd.Series(differences)\n",
    "    p_value = (differences > (n1_mean - n2_mean)).mean()\n",
    "    # print(\n",
    "    #     f\"contingency matrix: {n1_success}, {n1_total}, {n2_success}, {n2_total}, p-value is {p_value:.4f}\"\n",
    "    # )\n",
    "    return p_value < a"
   ]
  },
  {
   "cell_type": "code",
   "execution_count": 15,
   "id": "a2f992ce-3187-4bf2-b30d-77b84dd51584",
   "metadata": {},
   "outputs": [
    {
     "name": "stderr",
     "output_type": "stream",
     "text": [
      " 20%|████████████████▌                                                                  | 1/5 [08:10<32:42, 490.50s/it]"
     ]
    },
    {
     "name": "stdout",
     "output_type": "stream",
     "text": [
      "[{'effect size': 0.015, 'sample size': 3000, 'power': 0.46}]\n"
     ]
    },
    {
     "name": "stderr",
     "output_type": "stream",
     "text": [
      " 40%|█████████████████████████████████▏                                                 | 2/5 [18:13<27:49, 556.49s/it]"
     ]
    },
    {
     "name": "stdout",
     "output_type": "stream",
     "text": [
      "[{'effect size': 0.015, 'sample size': 3000, 'power': 0.46}, {'effect size': 0.015, 'sample size': 4000, 'power': 0.55}]\n"
     ]
    },
    {
     "name": "stderr",
     "output_type": "stream",
     "text": [
      " 60%|█████████████████████████████████████████████████▊                                 | 3/5 [30:20<21:08, 634.35s/it]"
     ]
    },
    {
     "name": "stdout",
     "output_type": "stream",
     "text": [
      "[{'effect size': 0.015, 'sample size': 3000, 'power': 0.46}, {'effect size': 0.015, 'sample size': 4000, 'power': 0.55}, {'effect size': 0.015, 'sample size': 5000, 'power': 0.635}]\n"
     ]
    },
    {
     "name": "stderr",
     "output_type": "stream",
     "text": [
      " 80%|██████████████████████████████████████████████████████████████████▍                | 4/5 [45:40<12:27, 747.38s/it]"
     ]
    },
    {
     "name": "stdout",
     "output_type": "stream",
     "text": [
      "[{'effect size': 0.015, 'sample size': 3000, 'power': 0.46}, {'effect size': 0.015, 'sample size': 4000, 'power': 0.55}, {'effect size': 0.015, 'sample size': 5000, 'power': 0.635}, {'effect size': 0.015, 'sample size': 6000, 'power': 0.68}]\n"
     ]
    },
    {
     "name": "stderr",
     "output_type": "stream",
     "text": [
      "100%|█████████████████████████████████████████████████████████████████████████████████| 5/5 [1:02:27<00:00, 749.54s/it]\n"
     ]
    },
    {
     "name": "stdout",
     "output_type": "stream",
     "text": [
      "[{'effect size': 0.015, 'sample size': 3000, 'power': 0.46}, {'effect size': 0.015, 'sample size': 4000, 'power': 0.55}, {'effect size': 0.015, 'sample size': 5000, 'power': 0.635}, {'effect size': 0.015, 'sample size': 6000, 'power': 0.68}, {'effect size': 0.015, 'sample size': 7000, 'power': 0.695}]\n"
     ]
    },
    {
     "name": "stderr",
     "output_type": "stream",
     "text": [
      " 20%|████████████████▌                                                                  | 1/5 [07:44<30:59, 464.84s/it]"
     ]
    },
    {
     "name": "stdout",
     "output_type": "stream",
     "text": [
      "[{'effect size': 0.015, 'sample size': 3000, 'power': 0.46}, {'effect size': 0.015, 'sample size': 4000, 'power': 0.55}, {'effect size': 0.015, 'sample size': 5000, 'power': 0.635}, {'effect size': 0.015, 'sample size': 6000, 'power': 0.68}, {'effect size': 0.015, 'sample size': 7000, 'power': 0.695}, {'effect size': 0.02, 'sample size': 3000, 'power': 0.66}]\n"
     ]
    },
    {
     "name": "stderr",
     "output_type": "stream",
     "text": [
      " 40%|█████████████████████████████████▏                                                 | 2/5 [17:56<27:33, 551.30s/it]"
     ]
    },
    {
     "name": "stdout",
     "output_type": "stream",
     "text": [
      "[{'effect size': 0.015, 'sample size': 3000, 'power': 0.46}, {'effect size': 0.015, 'sample size': 4000, 'power': 0.55}, {'effect size': 0.015, 'sample size': 5000, 'power': 0.635}, {'effect size': 0.015, 'sample size': 6000, 'power': 0.68}, {'effect size': 0.015, 'sample size': 7000, 'power': 0.695}, {'effect size': 0.02, 'sample size': 3000, 'power': 0.66}, {'effect size': 0.02, 'sample size': 4000, 'power': 0.75}]\n"
     ]
    },
    {
     "name": "stderr",
     "output_type": "stream",
     "text": [
      " 60%|█████████████████████████████████████████████████▊                                 | 3/5 [30:36<21:33, 646.61s/it]"
     ]
    },
    {
     "name": "stdout",
     "output_type": "stream",
     "text": [
      "[{'effect size': 0.015, 'sample size': 3000, 'power': 0.46}, {'effect size': 0.015, 'sample size': 4000, 'power': 0.55}, {'effect size': 0.015, 'sample size': 5000, 'power': 0.635}, {'effect size': 0.015, 'sample size': 6000, 'power': 0.68}, {'effect size': 0.015, 'sample size': 7000, 'power': 0.695}, {'effect size': 0.02, 'sample size': 3000, 'power': 0.66}, {'effect size': 0.02, 'sample size': 4000, 'power': 0.75}, {'effect size': 0.02, 'sample size': 5000, 'power': 0.82}]\n"
     ]
    },
    {
     "name": "stderr",
     "output_type": "stream",
     "text": [
      " 80%|██████████████████████████████████████████████████████████████████▍                | 4/5 [44:49<12:08, 728.17s/it]"
     ]
    },
    {
     "name": "stdout",
     "output_type": "stream",
     "text": [
      "[{'effect size': 0.015, 'sample size': 3000, 'power': 0.46}, {'effect size': 0.015, 'sample size': 4000, 'power': 0.55}, {'effect size': 0.015, 'sample size': 5000, 'power': 0.635}, {'effect size': 0.015, 'sample size': 6000, 'power': 0.68}, {'effect size': 0.015, 'sample size': 7000, 'power': 0.695}, {'effect size': 0.02, 'sample size': 3000, 'power': 0.66}, {'effect size': 0.02, 'sample size': 4000, 'power': 0.75}, {'effect size': 0.02, 'sample size': 5000, 'power': 0.82}, {'effect size': 0.02, 'sample size': 6000, 'power': 0.865}]\n"
     ]
    },
    {
     "name": "stderr",
     "output_type": "stream",
     "text": [
      "100%|█████████████████████████████████████████████████████████████████████████████████| 5/5 [1:00:17<00:00, 723.47s/it]"
     ]
    },
    {
     "name": "stdout",
     "output_type": "stream",
     "text": [
      "[{'effect size': 0.015, 'sample size': 3000, 'power': 0.46}, {'effect size': 0.015, 'sample size': 4000, 'power': 0.55}, {'effect size': 0.015, 'sample size': 5000, 'power': 0.635}, {'effect size': 0.015, 'sample size': 6000, 'power': 0.68}, {'effect size': 0.015, 'sample size': 7000, 'power': 0.695}, {'effect size': 0.02, 'sample size': 3000, 'power': 0.66}, {'effect size': 0.02, 'sample size': 4000, 'power': 0.75}, {'effect size': 0.02, 'sample size': 5000, 'power': 0.82}, {'effect size': 0.02, 'sample size': 6000, 'power': 0.865}, {'effect size': 0.02, 'sample size': 7000, 'power': 0.935}]\n"
     ]
    },
    {
     "name": "stderr",
     "output_type": "stream",
     "text": [
      "\n"
     ]
    }
   ],
   "source": [
    "power_results = []\n",
    "for effect_size in [0.015, 0.02]:\n",
    "    # hypothetical data for the traditional treatment\n",
    "    n_hypothetical_data = 10_000\n",
    "    traditional_treatment_effectiveness = 0.80336\n",
    "    hypothetical_data2 = [1] * round(\n",
    "        traditional_treatment_effectiveness * n_hypothetical_data\n",
    "    )\n",
    "    hypothetical_data2.extend([0] * (n_hypothetical_data - len(hypothetical_data2)))\n",
    "\n",
    "    # hypothetical data for the new drug treatment\n",
    "    new_drug_treatment_effectiveness = 0.80336 + effect_size\n",
    "    hypothetical_data1 = [1] * round(\n",
    "        new_drug_treatment_effectiveness * n_hypothetical_data\n",
    "    )\n",
    "    hypothetical_data1.extend([0] * (n_hypothetical_data - len(hypothetical_data1)))\n",
    "\n",
    "    n_bootstrap_trials = 200\n",
    "\n",
    "    for n_sample in tqdm(range(3_000, 8_000, 1_000)):\n",
    "        # use bootstrapping to create samples\n",
    "        difference_significances = []\n",
    "        for _ in range(n_bootstrap_trials):\n",
    "            sample1 = np.random.choice(hypothetical_data1, replace=True, size=n_sample)\n",
    "            sample2 = np.random.choice(hypothetical_data2, replace=True, size=n_sample)\n",
    "            difference_significances.append(\n",
    "                compute_stat_significance(\n",
    "                    n1_success=sum(sample1),\n",
    "                    n1_total=n_sample,\n",
    "                    n2_success=sum(sample2),\n",
    "                    n2_total=n_sample,\n",
    "                    a=0.05,\n",
    "                    n_permutations=500,\n",
    "                )\n",
    "            )\n",
    "        power_results.append(\n",
    "            {\n",
    "                \"effect size\": effect_size,\n",
    "                \"sample size\": n_sample,\n",
    "                \"power\": sum(difference_significances) / n_bootstrap_trials,\n",
    "            }\n",
    "        )\n",
    "        print(power_results)\n",
    "\n",
    "power_results = pd.DataFrame(power_results)"
   ]
  },
  {
   "cell_type": "code",
   "execution_count": 16,
   "id": "c7f7c391-4326-42b2-9f4c-0f64071d4058",
   "metadata": {},
   "outputs": [
    {
     "data": {
      "image/png": "[encoded data removed]",
      "text/plain": [
       "<Figure size 640x480 with 1 Axes>"
      ]
     },
     "metadata": {},
     "output_type": "display_data"
    }
   ],
   "source": [
    "fig = plt.figure()\n",
    "ax = fig.subplots()\n",
    "ax.scatter(\n",
    "    power_results.loc[power_results[\"effect size\"] == 0.015, \"sample size\"],\n",
    "    power_results.loc[power_results[\"effect size\"] == 0.015, \"power\"],\n",
    "    label=\"effect size = 0.015\",\n",
    ")\n",
    "ax.scatter(\n",
    "    power_results.loc[power_results[\"effect size\"] == 0.02, \"sample size\"],\n",
    "    power_results.loc[power_results[\"effect size\"] == 0.02, \"power\"],\n",
    "    label=\"effect size = 0.02\",\n",
    ")\n",
    "ax.legend()\n",
    "ax.axhline(y=0.8, color=\"k\", ls=\"--\", lw=1)\n",
    "ax.text(3000, 0.78, \"target power\")\n",
    "plt.setp(ax, xlabel=\"sample size\")\n",
    "plt.setp(ax, ylabel=\"power\")\n",
    "plt.show();"
   ]
  },
  {
   "cell_type": "code",
   "execution_count": 17,
   "id": "95108ae5-59eb-401e-96ae-cc7f6f6c8d04",
   "metadata": {},
   "outputs": [
    {
     "name": "stdout",
     "output_type": "stream",
     "text": [
      "effect size: 0.015, sample size: 8426.09\n",
      "effect size: 0.020, sample size: 4690.38\n"
     ]
    }
   ],
   "source": [
    "# With statsmodels\n",
    "\n",
    "import statsmodels.api as sm\n",
    "\n",
    "for effective_increase in [0.015, 0.02]:\n",
    "    effect_size = sm.stats.proportion_effectsize(0.80336 + effective_increase, 0.80336)\n",
    "    analysis = sm.stats.TTestIndPower()\n",
    "    result = analysis.solve_power(effect_size=effect_size, alpha=0.05, power=0.8, alternative='larger')\n",
    "    print(f'effect size: {effective_increase:.3f}, sample size: {result:.2f}')"
   ]
  },
  {
   "cell_type": "markdown",
   "id": "9e3522ce-566f-461f-acd1-ca495c19708c",
   "metadata": {},
   "source": [
    "# Concluding Throught"
   ]
  },
  {
   "cell_type": "markdown",
   "id": "1fd57b47-085c-453a-ac94-315d43f982a8",
   "metadata": {},
   "source": [
    "Before we close, a note of caution is due. This article puts much emphasis on the p-value that is increasingly being criticized. The truth is that the importance of the p-value has historically been exaggerated. The p-value indicates how incompatible the data are with a statistical model or permutation test representing the null hypothesis. The p-value is not the probability that the alternative hypothesis is true. Moreover, a p-value that shows that the null value can be rejected does not mean that the size of the effect is important. A small effect size may be statistically significant, but it is so small that this is not important."
   ]
  },
  {
   "cell_type": "code",
   "execution_count": null,
   "id": "89bd5dd6-cdab-42a8-9e8e-d2edcba9879f",
   "metadata": {},
   "outputs": [],
   "source": []
  }
 ],
 "metadata": {
  "kernelspec": {
   "display_name": "Python [conda env:ls_env]",
   "language": "python",
   "name": "conda-env-ls_env-py"
  },
  "language_info": {
   "codemirror_mode": {
    "name": "ipython",
    "version": 3
   },
   "file_extension": ".py",
   "mimetype": "text/x-python",
   "name": "python",
   "nbconvert_exporter": "python",
   "pygments_lexer": "ipython3",
   "version": "3.10.8"
  }
 },
 "nbformat": 4,
 "nbformat_minor": 5
}
