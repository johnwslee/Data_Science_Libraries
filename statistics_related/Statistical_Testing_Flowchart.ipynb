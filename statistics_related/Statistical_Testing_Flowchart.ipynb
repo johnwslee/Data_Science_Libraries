{
 "cells": [
  {
   "cell_type": "markdown",
   "id": "1d324343-9f9c-43cd-895f-1140ee286472",
   "metadata": {},
   "source": [
    "# Statistical Testing Flowchart"
   ]
  },
  {
   "cell_type": "markdown",
   "id": "75a95f65-2bf7-48a3-aa82-123838d7b7cb",
   "metadata": {},
   "source": [
    "<img src=\"Statistical_Testing_Flowchart.jpg\" style=\"width:700px;height:1000px;background-color:white\">"
   ]
  },
  {
   "cell_type": "markdown",
   "id": "d871f7ca-c5d6-4f9a-9385-4a97cd0846a1",
   "metadata": {},
   "source": [
    "# 0. Imports"
   ]
  },
  {
   "cell_type": "code",
   "execution_count": 1,
   "id": "af78e125-25f8-488a-87a1-a1253251e935",
   "metadata": {},
   "outputs": [],
   "source": [
    "import matplotlib.pyplot as plt\n",
    "import pandas as pd\n",
    "import scipy.stats as stats\n",
    "import statsmodels.formula.api as smf"
   ]
  },
  {
   "cell_type": "code",
   "execution_count": 2,
   "id": "f6b54405-d202-46db-9f7a-52c8cece5fee",
   "metadata": {},
   "outputs": [],
   "source": [
    "df = pd.read_csv(\n",
    "    \"https://raw.githubusercontent.com/researchpy/Data-sets/master/blood_pressure.csv\"\n",
    ")"
   ]
  },
  {
   "cell_type": "markdown",
   "id": "a171b719-f30a-4334-953f-ceafc98db159",
   "metadata": {},
   "source": [
    "# 1. Parametric Assumptions"
   ]
  },
  {
   "cell_type": "markdown",
   "id": "e9d7b2bb-73d0-42d7-9ee0-4e9a88532136",
   "metadata": {},
   "source": [
    "## 1.1. Independence"
   ]
  },
  {
   "cell_type": "markdown",
   "id": "d12ba4d4-9ecc-4ccc-95ac-52c9664dd5cd",
   "metadata": {},
   "source": [
    "This assumption is checked during the setup of the study. It means that each observation is independent of another; if there are 2 or more groups being compared, then it refers to that fact that groups are mutually exclusive, i.e. each individual belongs to only 1 group; and that the data is not repeated over time.\n",
    "\n",
    "If data is repeated measures, longitudinal/panel or time series, there are appropriate methods to account for the repeated data points from individuals. This is typically handled in the math of the statistical test that is designed to analyze this type of data."
   ]
  },
  {
   "cell_type": "markdown",
   "id": "c43f4c12-7dcd-4d35-bc83-f0438299ebad",
   "metadata": {},
   "source": [
    "## 1.2. Normality"
   ]
  },
  {
   "cell_type": "markdown",
   "id": "a1e1e397-2ddd-4344-b7e8-f2a3a507e57c",
   "metadata": {},
   "source": [
    "### **1.2.1. Shapiro-Wilk (SW) Test**"
   ]
  },
  {
   "cell_type": "markdown",
   "id": "845c17d6-00e5-4279-930a-8c930272362a",
   "metadata": {},
   "source": [
    "The null hypothesis is that the data is normal. The Shapiro-Wilk test is an omnibus test (D'Agostino, 1971). It evaluates normality by comparing the data's distribution (values ordered) to the hypothesized normal distribution (Shapiro & Wilk, 1965). This can be completed in Python by using the `shapiro()` method from `scipy.stats`."
   ]
  },
  {
   "cell_type": "code",
   "execution_count": 3,
   "id": "25199e25-a6e5-4333-b246-2baf23d9f85a",
   "metadata": {},
   "outputs": [
    {
     "data": {
      "text/plain": [
       "ShapiroResult(statistic=0.9858611226081848, pvalue=0.7147841453552246)"
      ]
     },
     "execution_count": 3,
     "metadata": {},
     "output_type": "execute_result"
    }
   ],
   "source": [
    "# Coming from independent t-test framework\n",
    "\n",
    "sampling_difference = (\n",
    "    df[\"bp_after\"][df[\"sex\"] == \"Male\"].values\n",
    "    - df[\"bp_after\"][df[\"sex\"] == \"Female\"].values\n",
    ")\n",
    "\n",
    "stats.shapiro(sampling_difference)"
   ]
  },
  {
   "cell_type": "code",
   "execution_count": 4,
   "id": "f87e3b42-4e3a-43db-ab74-2738d62b9375",
   "metadata": {},
   "outputs": [
    {
     "data": {
      "text/plain": [
       "ShapiroResult(statistic=0.9816308617591858, pvalue=0.10094080120325089)"
      ]
     },
     "execution_count": 4,
     "metadata": {},
     "output_type": "execute_result"
    }
   ],
   "source": [
    "# From regression or ANOVA framework\n",
    "\n",
    "model = smf.ols(\"bp_after ~ C(sex) + C(agegrp)\", data=df).fit()\n",
    "\n",
    "stats.shapiro(model.resid)"
   ]
  },
  {
   "cell_type": "markdown",
   "id": "68bf3294-70c7-4d9e-ba99-3089027775b3",
   "metadata": {},
   "source": [
    "### 1.2.2. D'Agostino-Pearson K2 Test"
   ]
  },
  {
   "cell_type": "markdown",
   "id": "9a921fe5-b043-45e8-9bdd-87959cbc6cd9",
   "metadata": {},
   "source": [
    "The null hypothesis is that the data is normal. The D'Agostino-Pearson test is an omnibus test and evaluates normality by assessing the skewness and kurtosis (D'Agostino, 1971)."
   ]
  },
  {
   "cell_type": "code",
   "execution_count": 5,
   "id": "cfc4aa37-1bb1-4a95-8c13-6e6b57f1638c",
   "metadata": {},
   "outputs": [
    {
     "data": {
      "text/plain": [
       "NormaltestResult(statistic=0.003175119018886905, pvalue=0.9984136999965528)"
      ]
     },
     "execution_count": 5,
     "metadata": {},
     "output_type": "execute_result"
    }
   ],
   "source": [
    "# Coming from independent t-test framework\n",
    "\n",
    "sampling_difference = (\n",
    "    df[\"bp_after\"][df[\"sex\"] == \"Male\"].values\n",
    "    - df[\"bp_after\"][df[\"sex\"] == \"Female\"].values\n",
    ")\n",
    "\n",
    "stats.normaltest(sampling_difference)"
   ]
  },
  {
   "cell_type": "code",
   "execution_count": 6,
   "id": "86a2114d-a667-4740-b970-c1ebf8c3441b",
   "metadata": {},
   "outputs": [
    {
     "data": {
      "text/plain": [
       "NormaltestResult(statistic=2.962603751831582, pvalue=0.22734152518547723)"
      ]
     },
     "execution_count": 6,
     "metadata": {},
     "output_type": "execute_result"
    }
   ],
   "source": [
    "# From regression or ANOVA framework\n",
    "\n",
    "model = smf.ols(\"bp_after ~ C(sex) + C(agegrp)\", data=df).fit()\n",
    "\n",
    "stats.normaltest(model.resid)"
   ]
  },
  {
   "cell_type": "markdown",
   "id": "433d1eb9-b48a-4068-a836-2ab296bdb12f",
   "metadata": {},
   "source": [
    "### 1.2.3. Kolmogorov-Smirnov (KS) Test"
   ]
  },
  {
   "cell_type": "markdown",
   "id": "ad6158b6-67de-4b34-a5ff-e3e0feb19e33",
   "metadata": {},
   "source": [
    "The null hypothesis is that the data is normal (matches compared distribution). The Kolmogorov-Smirnov test is a distance test (D'Agostino, 1971). It evaluates normality by comparing the data's empirical distribution function to the expected cumulative distribution function of the comparison distribution (Öztuna D., Elhan A., & Tüccar, 2006)."
   ]
  },
  {
   "cell_type": "markdown",
   "id": "1f369f9c-3e36-46e2-adac-0ceee943c46e",
   "metadata": {},
   "source": [
    "If testing the difference between two groups, then this can be completed using the `ks_2samp()` method from `scipy.stats`."
   ]
  },
  {
   "cell_type": "code",
   "execution_count": 7,
   "id": "19a03124-2cb0-49f1-829d-85499f1d1597",
   "metadata": {},
   "outputs": [
    {
     "data": {
      "text/plain": [
       "KstestResult(statistic=0.36666666666666664, pvalue=0.0005569710611454617)"
      ]
     },
     "execution_count": 7,
     "metadata": {},
     "output_type": "execute_result"
    }
   ],
   "source": [
    "stats.ks_2samp(\n",
    "    df[\"bp_after\"][df[\"sex\"] == \"Male\"], df[\"bp_after\"][df[\"sex\"] == \"Female\"]\n",
    ")"
   ]
  },
  {
   "cell_type": "markdown",
   "id": "2cefe0cd-fca7-42b9-b4d2-6c262eca1559",
   "metadata": {},
   "source": [
    "If coming from a regression or ANOVA approach then the 1 sample version of the test can be ran on the residuals using the `kstest()` method from `scipy.stats`."
   ]
  },
  {
   "cell_type": "code",
   "execution_count": 8,
   "id": "bf98e977-cce5-4f47-9299-f13c1bae6e61",
   "metadata": {},
   "outputs": [
    {
     "data": {
      "text/plain": [
       "KstestResult(statistic=0.45021797084392334, pvalue=1.0174625716706997e-22)"
      ]
     },
     "execution_count": 8,
     "metadata": {},
     "output_type": "execute_result"
    }
   ],
   "source": [
    "model = smf.ols(\"bp_after ~ C(sex) + C(agegrp)\", data=df).fit()\n",
    "\n",
    "stats.kstest(model.resid, \"norm\")"
   ]
  },
  {
   "cell_type": "markdown",
   "id": "c349f492-9779-49a8-9720-6c21a0d5982a",
   "metadata": {},
   "source": [
    "### 1.2.4. Anderson-Darling"
   ]
  },
  {
   "cell_type": "markdown",
   "id": "5d939976-2b8f-4e93-9be4-ebf5d177ce7b",
   "metadata": {},
   "source": [
    "The null hypothesis is that the data is normal (matches compared distribution). The Anderson-Darling test assess normality by comparing the data's empirical distribution function to a specified distribution's cumulative distribution function (Stephen, 1974). This can be completed using the `anderson()` method from `scipy.stats`.\n",
    "\n",
    "A note about this method, it returns 3 parts: the test statistic, an array of significance levels, and an array of corresponding critical values. The test statistic needs to be compared to the critical value for the significance level of interest- this is most commonly set to 0.05."
   ]
  },
  {
   "cell_type": "code",
   "execution_count": 9,
   "id": "1b0aeb12-cced-4898-b369-0cfb8bf765d4",
   "metadata": {},
   "outputs": [],
   "source": [
    "# Coming from mean comparison framework (independent sample t-test)\n",
    "\n",
    "sampling_difference = (\n",
    "    df[\"bp_after\"][df[\"sex\"] == \"Male\"].values\n",
    "    - df[\"bp_after\"][df[\"sex\"] == \"Female\"].values\n",
    ")\n",
    "\n",
    "result = stats.anderson(sampling_difference)"
   ]
  },
  {
   "cell_type": "code",
   "execution_count": 10,
   "id": "b343af39-499c-47e5-b3a3-f9656ea2f59e",
   "metadata": {},
   "outputs": [
    {
     "name": "stdout",
     "output_type": "stream",
     "text": [
      "Test statistic:  0.2987\n",
      "At 15.0% significance, 0.2987 < 0.5440 data looks normal (fail to reject H0)\n",
      "At 10.0% significance, 0.2987 < 0.6190 data looks normal (fail to reject H0)\n",
      "At 5.0% significance, 0.2987 < 0.7430 data looks normal (fail to reject H0)\n",
      "At 2.5% significance, 0.2987 < 0.8660 data looks normal (fail to reject H0)\n",
      "At 1.0% significance, 0.2987 < 1.0300 data looks normal (fail to reject H0)\n"
     ]
    }
   ],
   "source": [
    "print(f\"Test statistic: {result.statistic: .4f}\")\n",
    "\n",
    "for i in range(len(result.critical_values)):\n",
    "    sig, crit = result.significance_level[i], result.critical_values[i]\n",
    "\n",
    "    if result.statistic < result.critical_values[i]:\n",
    "        print(\n",
    "            f\"At {sig}% significance,{result.statistic: .4f} <{result.critical_values[i]: .4f} data looks normal (fail to reject H0)\"\n",
    "        )\n",
    "    else:\n",
    "        print(\n",
    "            f\"At {sig}% significance,{result.statistic: .4f} >{result.critical_values[i]: .4f} data does not look normal (reject H0)\"\n",
    "        )"
   ]
  },
  {
   "cell_type": "code",
   "execution_count": 11,
   "id": "05afe5f5-33cf-4dc1-9898-f2194883bce2",
   "metadata": {},
   "outputs": [],
   "source": [
    "# From regression or ANOVA framework\n",
    "\n",
    "model = smf.ols(\"bp_after ~ C(sex) + C(agegrp)\", data=df).fit()\n",
    "\n",
    "result = stats.anderson(model.resid)"
   ]
  },
  {
   "cell_type": "code",
   "execution_count": 12,
   "id": "f134f519-6e9d-4987-95c5-76259a48edb6",
   "metadata": {},
   "outputs": [
    {
     "name": "stdout",
     "output_type": "stream",
     "text": [
      "Test statistic:  0.4467\n",
      "At 15.0% significance, 0.4467 < 0.5580 data looks normal (fail to reject H0)\n",
      "At 10.0% significance, 0.4467 < 0.6360 data looks normal (fail to reject H0)\n",
      "At 5.0% significance, 0.4467 < 0.7630 data looks normal (fail to reject H0)\n",
      "At 2.5% significance, 0.4467 < 0.8900 data looks normal (fail to reject H0)\n",
      "At 1.0% significance, 0.4467 < 1.0590 data looks normal (fail to reject H0)\n"
     ]
    }
   ],
   "source": [
    "print(f\"Test statistic: {result.statistic: .4f}\")\n",
    "for i in range(len(result.critical_values)):\n",
    "    sig, crit = result.significance_level[i], result.critical_values[i]\n",
    "\n",
    "    if result.statistic < result.critical_values[i]:\n",
    "        print(\n",
    "            f\"At {sig}% significance,{result.statistic: .4f} <{result.critical_values[i]: .4f} data looks normal (fail to reject H0)\"\n",
    "        )\n",
    "    else:\n",
    "        print(\n",
    "            f\"At {sig}% significance,{result.statistic: .4f} >{result.critical_values[i]: .4f} data does not look normal (reject H0)\"\n",
    "        )"
   ]
  },
  {
   "cell_type": "markdown",
   "id": "8f6d0463-9362-4e1a-95fb-e8dc59bbe912",
   "metadata": {
    "tags": []
   },
   "source": [
    "### 1.2.5. Q-Q Plot"
   ]
  },
  {
   "cell_type": "code",
   "execution_count": 13,
   "id": "08982734-8d3f-4c55-9ebe-9cd584d13db4",
   "metadata": {},
   "outputs": [
    {
     "data": {
      "image/png": "[encoded data removed]",
      "text/plain": [
       "<Figure size 600x600 with 1 Axes>"
      ]
     },
     "metadata": {},
     "output_type": "display_data"
    }
   ],
   "source": [
    "sampling_difference = (\n",
    "    df[\"bp_after\"][df[\"sex\"] == \"Male\"].values\n",
    "    - df[\"bp_after\"][df[\"sex\"] == \"Female\"].values\n",
    ")\n",
    "\n",
    "fig = plt.figure(figsize=(6, 6))\n",
    "ax = fig.add_subplot(111)\n",
    "\n",
    "normality_plot, stat = stats.probplot(sampling_difference, plot=plt, rvalue=True)\n",
    "ax.set_title(\"Probability plot of sampling difference \\n with R value\")\n",
    "ax.set\n",
    "\n",
    "plt.show()"
   ]
  },
  {
   "cell_type": "code",
   "execution_count": 14,
   "id": "512304f8-6752-427e-8ed8-703edf418176",
   "metadata": {},
   "outputs": [
    {
     "data": {
      "image/png": "[encoded data removed]",
      "text/plain": [
       "<Figure size 600x600 with 1 Axes>"
      ]
     },
     "metadata": {},
     "output_type": "display_data"
    }
   ],
   "source": [
    "# From regression or ANOVA framework\n",
    "\n",
    "model = smf.ols(\"bp_after ~ C(sex) + C(agegrp)\", data=df).fit()\n",
    "\n",
    "fig = plt.figure(figsize=(6, 6))\n",
    "ax = fig.add_subplot(111)\n",
    "\n",
    "normality_plot, stat = stats.probplot(model.resid, plot=plt, rvalue=True)\n",
    "ax.set_title(\"Probability plot of regression residuals \\n with R value\")\n",
    "ax.set\n",
    "\n",
    "plt.show()"
   ]
  },
  {
   "cell_type": "markdown",
   "id": "c874b0c9-71d3-420f-896b-a8dad015f663",
   "metadata": {},
   "source": [
    "## 1.3. Homogeneity of Variances"
   ]
  },
  {
   "cell_type": "markdown",
   "id": "b4ff8345-64c2-43b1-9f18-9841f7d43b19",
   "metadata": {},
   "source": [
    "### 1.3.1. Barlett's Test"
   ]
  },
  {
   "cell_type": "markdown",
   "id": "466317ea-aa55-4fb8-9603-d3024ba679c1",
   "metadata": {},
   "source": [
    "Barlett's test is used to test if the groups, which can be referred to as k, have equal variances. Barlett's test can test for equality between 2 or more groups.\n",
    "\n",
    "This can be done with the `bartlet()` method from `scipy.stats`."
   ]
  },
  {
   "cell_type": "code",
   "execution_count": 15,
   "id": "78262bd8-aff5-42fa-aaa6-171417c6725e",
   "metadata": {},
   "outputs": [
    {
     "data": {
      "text/plain": [
       "BartlettResult(statistic=3.9379638422812793, pvalue=0.047207884641474476)"
      ]
     },
     "execution_count": 15,
     "metadata": {},
     "output_type": "execute_result"
    }
   ],
   "source": [
    "stats.bartlett(\n",
    "    df[\"bp_after\"][df[\"sex\"] == \"Male\"], df[\"bp_after\"][df[\"sex\"] == \"Female\"]\n",
    ")"
   ]
  },
  {
   "cell_type": "markdown",
   "id": "66a5b0a7-205a-4929-a3a5-d1c7c1ef4d7a",
   "metadata": {},
   "source": [
    "### **1.3.2. Levene's Test**"
   ]
  },
  {
   "cell_type": "markdown",
   "id": "f0a49a58-8827-47bc-aeca-50c376ad7a84",
   "metadata": {},
   "source": [
    "Levene's test tests if the different goups have equal variances (Levene, 1960). Levene's test is less sensitive than Barlett's test to departures from normality and power (Conover, 1981). Levene's test of homogeneity of variances can test for equality between 2 or more groups. The original suggestion was to use the mean, Brown and Forsythe (1974) provided an expansion and testing can also be calculated using the median or the trimmed mean which have been found to be robust under nonnormality.\n",
    "\n",
    "This can be done with the `levene()` method from `scipy.stats`."
   ]
  },
  {
   "cell_type": "code",
   "execution_count": 16,
   "id": "ef4e8222-0bae-43aa-b29e-dd3fb19604c2",
   "metadata": {},
   "outputs": [
    {
     "data": {
      "text/plain": [
       "LeveneResult(statistic=5.0464151793144625, pvalue=0.026537264851214513)"
      ]
     },
     "execution_count": 16,
     "metadata": {},
     "output_type": "execute_result"
    }
   ],
   "source": [
    "# Using the mean\n",
    "\n",
    "stats.levene(df[\"bp_after\"][df[\"sex\"] == \"Male\"], df[\"bp_after\"][df[\"sex\"] == \"Female\"])"
   ]
  },
  {
   "cell_type": "code",
   "execution_count": 17,
   "id": "f225db92-9951-4694-9121-0c265225eb19",
   "metadata": {},
   "outputs": [
    {
     "data": {
      "text/plain": [
       "LeveneResult(statistic=5.0464151793144625, pvalue=0.026537264851214513)"
      ]
     },
     "execution_count": 17,
     "metadata": {},
     "output_type": "execute_result"
    }
   ],
   "source": [
    "# Using the median\n",
    "\n",
    "stats.levene(\n",
    "    df[\"bp_after\"][df[\"sex\"] == \"Male\"],\n",
    "    df[\"bp_after\"][df[\"sex\"] == \"Female\"],\n",
    "    center=\"median\",\n",
    ")"
   ]
  },
  {
   "cell_type": "code",
   "execution_count": 18,
   "id": "bbd1d617-bbf4-41af-bfc1-e28f8aa8dbee",
   "metadata": {},
   "outputs": [
    {
     "data": {
      "text/plain": [
       "LeveneResult(statistic=7.769755793226307, pvalue=0.006297605035462623)"
      ]
     },
     "execution_count": 18,
     "metadata": {},
     "output_type": "execute_result"
    }
   ],
   "source": [
    "# Using the trimmed mean (Default is to cut 10% total - 5% from each tail)\n",
    "\n",
    "stats.levene(\n",
    "    df[\"bp_after\"][df[\"sex\"] == \"Male\"],\n",
    "    df[\"bp_after\"][df[\"sex\"] == \"Female\"],\n",
    "    center=\"trimmed\",\n",
    ")"
   ]
  },
  {
   "cell_type": "code",
   "execution_count": null,
   "id": "c9f3d081-a941-45f2-84c1-c35f13d24c43",
   "metadata": {},
   "outputs": [],
   "source": []
  }
 ],
 "metadata": {
  "kernelspec": {
   "display_name": "Python [conda env:ls_env]",
   "language": "python",
   "name": "conda-env-ls_env-py"
  },
  "language_info": {
   "codemirror_mode": {
    "name": "ipython",
    "version": 3
   },
   "file_extension": ".py",
   "mimetype": "text/x-python",
   "name": "python",
   "nbconvert_exporter": "python",
   "pygments_lexer": "ipython3",
   "version": "3.10.8"
  }
 },
 "nbformat": 4,
 "nbformat_minor": 5
}
