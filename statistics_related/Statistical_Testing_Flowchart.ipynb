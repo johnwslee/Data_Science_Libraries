{
 "cells": [
  {
   "cell_type": "markdown",
   "id": "1d324343-9f9c-43cd-895f-1140ee286472",
   "metadata": {},
   "source": [
    "# Statistical Testing Flowchart"
   ]
  },
  {
   "cell_type": "markdown",
   "id": "75a95f65-2bf7-48a3-aa82-123838d7b7cb",
   "metadata": {},
   "source": [
    "<img src=\"Statistical_Testing_Flowchart.jpg\" style=\"width:700px;height:1000px;background-color:white\">"
   ]
  },
  {
   "cell_type": "markdown",
   "id": "d871f7ca-c5d6-4f9a-9385-4a97cd0846a1",
   "metadata": {},
   "source": [
    "# 0. Imports"
   ]
  },
  {
   "cell_type": "code",
   "execution_count": 1,
   "id": "af78e125-25f8-488a-87a1-a1253251e935",
   "metadata": {},
   "outputs": [],
   "source": [
    "import matplotlib.pyplot as plt\n",
    "import pandas as pd\n",
    "import numpy as np\n",
    "import scipy.stats as stats\n",
    "import statsmodels.formula.api as smf\n",
    "import urllib"
   ]
  },
  {
   "cell_type": "code",
   "execution_count": 2,
   "id": "f6b54405-d202-46db-9f7a-52c8cece5fee",
   "metadata": {},
   "outputs": [],
   "source": [
    "df = pd.read_csv(\n",
    "    \"https://raw.githubusercontent.com/researchpy/Data-sets/master/blood_pressure.csv\"\n",
    ")"
   ]
  },
  {
   "cell_type": "markdown",
   "id": "a171b719-f30a-4334-953f-ceafc98db159",
   "metadata": {},
   "source": [
    "# 1. Parametric Assumptions"
   ]
  },
  {
   "cell_type": "markdown",
   "id": "e9d7b2bb-73d0-42d7-9ee0-4e9a88532136",
   "metadata": {},
   "source": [
    "## 1.1. Independence"
   ]
  },
  {
   "cell_type": "markdown",
   "id": "d12ba4d4-9ecc-4ccc-95ac-52c9664dd5cd",
   "metadata": {},
   "source": [
    "This assumption is checked during the setup of the study. It means that each observation is independent of another; if there are 2 or more groups being compared, then it refers to that fact that groups are mutually exclusive, i.e. each individual belongs to only 1 group; and that the data is not repeated over time.\n",
    "\n",
    "If data is repeated measures, longitudinal/panel or time series, there are appropriate methods to account for the repeated data points from individuals. This is typically handled in the math of the statistical test that is designed to analyze this type of data."
   ]
  },
  {
   "cell_type": "markdown",
   "id": "c43f4c12-7dcd-4d35-bc83-f0438299ebad",
   "metadata": {},
   "source": [
    "## 1.2. Normality"
   ]
  },
  {
   "cell_type": "markdown",
   "id": "a1e1e397-2ddd-4344-b7e8-f2a3a507e57c",
   "metadata": {},
   "source": [
    "### **1.2.1. Shapiro-Wilk (SW) Test**"
   ]
  },
  {
   "cell_type": "markdown",
   "id": "845c17d6-00e5-4279-930a-8c930272362a",
   "metadata": {},
   "source": [
    "The null hypothesis is that the data is normal. The Shapiro-Wilk test is an omnibus test (D'Agostino, 1971). It evaluates normality by comparing the data's distribution (values ordered) to the hypothesized normal distribution (Shapiro & Wilk, 1965). This can be completed in Python by using the `shapiro()` method from `scipy.stats`."
   ]
  },
  {
   "cell_type": "code",
   "execution_count": 3,
   "id": "25199e25-a6e5-4333-b246-2baf23d9f85a",
   "metadata": {},
   "outputs": [
    {
     "data": {
      "text/plain": [
       "ShapiroResult(statistic=0.9858611226081848, pvalue=0.7147841453552246)"
      ]
     },
     "execution_count": 3,
     "metadata": {},
     "output_type": "execute_result"
    }
   ],
   "source": [
    "# Coming from independent t-test framework\n",
    "\n",
    "sampling_difference = (\n",
    "    df[\"bp_after\"][df[\"sex\"] == \"Male\"].values\n",
    "    - df[\"bp_after\"][df[\"sex\"] == \"Female\"].values\n",
    ")\n",
    "\n",
    "stats.shapiro(sampling_difference)"
   ]
  },
  {
   "cell_type": "code",
   "execution_count": 4,
   "id": "f87e3b42-4e3a-43db-ab74-2738d62b9375",
   "metadata": {},
   "outputs": [
    {
     "data": {
      "text/plain": [
       "ShapiroResult(statistic=0.9816308617591858, pvalue=0.10094080120325089)"
      ]
     },
     "execution_count": 4,
     "metadata": {},
     "output_type": "execute_result"
    }
   ],
   "source": [
    "# From regression or ANOVA framework\n",
    "\n",
    "model = smf.ols(\"bp_after ~ C(sex) + C(agegrp)\", data=df).fit()\n",
    "\n",
    "stats.shapiro(model.resid)"
   ]
  },
  {
   "cell_type": "markdown",
   "id": "68bf3294-70c7-4d9e-ba99-3089027775b3",
   "metadata": {},
   "source": [
    "### 1.2.2. D'Agostino-Pearson K2 Test"
   ]
  },
  {
   "cell_type": "markdown",
   "id": "9a921fe5-b043-45e8-9bdd-87959cbc6cd9",
   "metadata": {},
   "source": [
    "The null hypothesis is that the data is normal. The D'Agostino-Pearson test is an omnibus test and evaluates normality by assessing the skewness and kurtosis (D'Agostino, 1971)."
   ]
  },
  {
   "cell_type": "code",
   "execution_count": 5,
   "id": "cfc4aa37-1bb1-4a95-8c13-6e6b57f1638c",
   "metadata": {},
   "outputs": [
    {
     "data": {
      "text/plain": [
       "NormaltestResult(statistic=0.003175119018886905, pvalue=0.9984136999965528)"
      ]
     },
     "execution_count": 5,
     "metadata": {},
     "output_type": "execute_result"
    }
   ],
   "source": [
    "# Coming from independent t-test framework\n",
    "\n",
    "sampling_difference = (\n",
    "    df[\"bp_after\"][df[\"sex\"] == \"Male\"].values\n",
    "    - df[\"bp_after\"][df[\"sex\"] == \"Female\"].values\n",
    ")\n",
    "\n",
    "stats.normaltest(sampling_difference)"
   ]
  },
  {
   "cell_type": "code",
   "execution_count": 6,
   "id": "86a2114d-a667-4740-b970-c1ebf8c3441b",
   "metadata": {},
   "outputs": [
    {
     "data": {
      "text/plain": [
       "NormaltestResult(statistic=2.962603751831582, pvalue=0.22734152518547723)"
      ]
     },
     "execution_count": 6,
     "metadata": {},
     "output_type": "execute_result"
    }
   ],
   "source": [
    "# From regression or ANOVA framework\n",
    "\n",
    "model = smf.ols(\"bp_after ~ C(sex) + C(agegrp)\", data=df).fit()\n",
    "\n",
    "stats.normaltest(model.resid)"
   ]
  },
  {
   "cell_type": "markdown",
   "id": "433d1eb9-b48a-4068-a836-2ab296bdb12f",
   "metadata": {},
   "source": [
    "### 1.2.3. Kolmogorov-Smirnov (KS) Test"
   ]
  },
  {
   "cell_type": "markdown",
   "id": "ad6158b6-67de-4b34-a5ff-e3e0feb19e33",
   "metadata": {},
   "source": [
    "The null hypothesis is that the data is normal (matches compared distribution). The Kolmogorov-Smirnov test is a distance test (D'Agostino, 1971). It evaluates normality by comparing the data's empirical distribution function to the expected cumulative distribution function of the comparison distribution (Öztuna D., Elhan A., & Tüccar, 2006)."
   ]
  },
  {
   "cell_type": "markdown",
   "id": "1f369f9c-3e36-46e2-adac-0ceee943c46e",
   "metadata": {},
   "source": [
    "If testing the difference between two groups, then this can be completed using the `ks_2samp()` method from `scipy.stats`."
   ]
  },
  {
   "cell_type": "code",
   "execution_count": 7,
   "id": "19a03124-2cb0-49f1-829d-85499f1d1597",
   "metadata": {},
   "outputs": [
    {
     "data": {
      "text/plain": [
       "KstestResult(statistic=0.36666666666666664, pvalue=0.0005569710611454617)"
      ]
     },
     "execution_count": 7,
     "metadata": {},
     "output_type": "execute_result"
    }
   ],
   "source": [
    "stats.ks_2samp(\n",
    "    df[\"bp_after\"][df[\"sex\"] == \"Male\"], df[\"bp_after\"][df[\"sex\"] == \"Female\"]\n",
    ")"
   ]
  },
  {
   "cell_type": "markdown",
   "id": "2cefe0cd-fca7-42b9-b4d2-6c262eca1559",
   "metadata": {},
   "source": [
    "If coming from a regression or ANOVA approach then the 1 sample version of the test can be ran on the residuals using the `kstest()` method from `scipy.stats`."
   ]
  },
  {
   "cell_type": "code",
   "execution_count": 8,
   "id": "bf98e977-cce5-4f47-9299-f13c1bae6e61",
   "metadata": {},
   "outputs": [
    {
     "data": {
      "text/plain": [
       "KstestResult(statistic=0.45021797084392334, pvalue=1.0174625716706997e-22)"
      ]
     },
     "execution_count": 8,
     "metadata": {},
     "output_type": "execute_result"
    }
   ],
   "source": [
    "model = smf.ols(\"bp_after ~ C(sex) + C(agegrp)\", data=df).fit()\n",
    "\n",
    "stats.kstest(model.resid, \"norm\")"
   ]
  },
  {
   "cell_type": "markdown",
   "id": "c349f492-9779-49a8-9720-6c21a0d5982a",
   "metadata": {},
   "source": [
    "### 1.2.4. Anderson-Darling"
   ]
  },
  {
   "cell_type": "markdown",
   "id": "5d939976-2b8f-4e93-9be4-ebf5d177ce7b",
   "metadata": {},
   "source": [
    "The null hypothesis is that the data is normal (matches compared distribution). The Anderson-Darling test assess normality by comparing the data's empirical distribution function to a specified distribution's cumulative distribution function (Stephen, 1974). This can be completed using the `anderson()` method from `scipy.stats`.\n",
    "\n",
    "A note about this method, it returns 3 parts: the test statistic, an array of significance levels, and an array of corresponding critical values. The test statistic needs to be compared to the critical value for the significance level of interest- this is most commonly set to 0.05."
   ]
  },
  {
   "cell_type": "code",
   "execution_count": 9,
   "id": "1b0aeb12-cced-4898-b369-0cfb8bf765d4",
   "metadata": {},
   "outputs": [],
   "source": [
    "# Coming from mean comparison framework (independent sample t-test)\n",
    "\n",
    "sampling_difference = (\n",
    "    df[\"bp_after\"][df[\"sex\"] == \"Male\"].values\n",
    "    - df[\"bp_after\"][df[\"sex\"] == \"Female\"].values\n",
    ")\n",
    "\n",
    "result = stats.anderson(sampling_difference)"
   ]
  },
  {
   "cell_type": "code",
   "execution_count": 10,
   "id": "b343af39-499c-47e5-b3a3-f9656ea2f59e",
   "metadata": {},
   "outputs": [
    {
     "name": "stdout",
     "output_type": "stream",
     "text": [
      "Test statistic:  0.2987\n",
      "At 15.0% significance, 0.2987 < 0.5440 data looks normal (fail to reject H0)\n",
      "At 10.0% significance, 0.2987 < 0.6190 data looks normal (fail to reject H0)\n",
      "At 5.0% significance, 0.2987 < 0.7430 data looks normal (fail to reject H0)\n",
      "At 2.5% significance, 0.2987 < 0.8660 data looks normal (fail to reject H0)\n",
      "At 1.0% significance, 0.2987 < 1.0300 data looks normal (fail to reject H0)\n"
     ]
    }
   ],
   "source": [
    "print(f\"Test statistic: {result.statistic: .4f}\")\n",
    "\n",
    "for i in range(len(result.critical_values)):\n",
    "    sig, crit = result.significance_level[i], result.critical_values[i]\n",
    "\n",
    "    if result.statistic < result.critical_values[i]:\n",
    "        print(\n",
    "            f\"At {sig}% significance,{result.statistic: .4f} <{result.critical_values[i]: .4f} data looks normal (fail to reject H0)\"\n",
    "        )\n",
    "    else:\n",
    "        print(\n",
    "            f\"At {sig}% significance,{result.statistic: .4f} >{result.critical_values[i]: .4f} data does not look normal (reject H0)\"\n",
    "        )"
   ]
  },
  {
   "cell_type": "code",
   "execution_count": 11,
   "id": "05afe5f5-33cf-4dc1-9898-f2194883bce2",
   "metadata": {},
   "outputs": [],
   "source": [
    "# From regression or ANOVA framework\n",
    "\n",
    "model = smf.ols(\"bp_after ~ C(sex) + C(agegrp)\", data=df).fit()\n",
    "\n",
    "result = stats.anderson(model.resid)"
   ]
  },
  {
   "cell_type": "code",
   "execution_count": 12,
   "id": "f134f519-6e9d-4987-95c5-76259a48edb6",
   "metadata": {},
   "outputs": [
    {
     "name": "stdout",
     "output_type": "stream",
     "text": [
      "Test statistic:  0.4467\n",
      "At 15.0% significance, 0.4467 < 0.5580 data looks normal (fail to reject H0)\n",
      "At 10.0% significance, 0.4467 < 0.6360 data looks normal (fail to reject H0)\n",
      "At 5.0% significance, 0.4467 < 0.7630 data looks normal (fail to reject H0)\n",
      "At 2.5% significance, 0.4467 < 0.8900 data looks normal (fail to reject H0)\n",
      "At 1.0% significance, 0.4467 < 1.0590 data looks normal (fail to reject H0)\n"
     ]
    }
   ],
   "source": [
    "print(f\"Test statistic: {result.statistic: .4f}\")\n",
    "for i in range(len(result.critical_values)):\n",
    "    sig, crit = result.significance_level[i], result.critical_values[i]\n",
    "\n",
    "    if result.statistic < result.critical_values[i]:\n",
    "        print(\n",
    "            f\"At {sig}% significance,{result.statistic: .4f} <{result.critical_values[i]: .4f} data looks normal (fail to reject H0)\"\n",
    "        )\n",
    "    else:\n",
    "        print(\n",
    "            f\"At {sig}% significance,{result.statistic: .4f} >{result.critical_values[i]: .4f} data does not look normal (reject H0)\"\n",
    "        )"
   ]
  },
  {
   "cell_type": "markdown",
   "id": "8f6d0463-9362-4e1a-95fb-e8dc59bbe912",
   "metadata": {
    "tags": []
   },
   "source": [
    "### 1.2.5. Q-Q Plot"
   ]
  },
  {
   "cell_type": "code",
   "execution_count": 13,
   "id": "08982734-8d3f-4c55-9ebe-9cd584d13db4",
   "metadata": {},
   "outputs": [
    {
     "data": {
      "image/png": "[encoded data removed]",
      "text/plain": [
       "<Figure size 600x600 with 1 Axes>"
      ]
     },
     "metadata": {},
     "output_type": "display_data"
    }
   ],
   "source": [
    "sampling_difference = (\n",
    "    df[\"bp_after\"][df[\"sex\"] == \"Male\"].values\n",
    "    - df[\"bp_after\"][df[\"sex\"] == \"Female\"].values\n",
    ")\n",
    "\n",
    "fig = plt.figure(figsize=(6, 6))\n",
    "ax = fig.add_subplot(111)\n",
    "\n",
    "normality_plot, stat = stats.probplot(sampling_difference, plot=plt, rvalue=True)\n",
    "ax.set_title(\"Probability plot of sampling difference \\n with R value\")\n",
    "ax.set\n",
    "\n",
    "plt.show()"
   ]
  },
  {
   "cell_type": "code",
   "execution_count": 14,
   "id": "512304f8-6752-427e-8ed8-703edf418176",
   "metadata": {},
   "outputs": [
    {
     "data": {
      "image/png": "[encoded data removed]",
      "text/plain": [
       "<Figure size 600x600 with 1 Axes>"
      ]
     },
     "metadata": {},
     "output_type": "display_data"
    }
   ],
   "source": [
    "# From regression or ANOVA framework\n",
    "\n",
    "model = smf.ols(\"bp_after ~ C(sex) + C(agegrp)\", data=df).fit()\n",
    "\n",
    "fig = plt.figure(figsize=(6, 6))\n",
    "ax = fig.add_subplot(111)\n",
    "\n",
    "normality_plot, stat = stats.probplot(model.resid, plot=plt, rvalue=True)\n",
    "ax.set_title(\"Probability plot of regression residuals \\n with R value\")\n",
    "ax.set\n",
    "\n",
    "plt.show()"
   ]
  },
  {
   "cell_type": "markdown",
   "id": "c874b0c9-71d3-420f-896b-a8dad015f663",
   "metadata": {},
   "source": [
    "## 1.3. Homogeneity of Variances"
   ]
  },
  {
   "cell_type": "markdown",
   "id": "b4ff8345-64c2-43b1-9f18-9841f7d43b19",
   "metadata": {},
   "source": [
    "### 1.3.1. Barlett's Test"
   ]
  },
  {
   "cell_type": "markdown",
   "id": "466317ea-aa55-4fb8-9603-d3024ba679c1",
   "metadata": {},
   "source": [
    "Barlett's test is used to test if the groups, which can be referred to as k, have equal variances. Barlett's test can test for equality between 2 or more groups.\n",
    "\n",
    "This can be done with the `bartlet()` method from `scipy.stats`."
   ]
  },
  {
   "cell_type": "code",
   "execution_count": 15,
   "id": "78262bd8-aff5-42fa-aaa6-171417c6725e",
   "metadata": {},
   "outputs": [
    {
     "data": {
      "text/plain": [
       "BartlettResult(statistic=3.9379638422812793, pvalue=0.047207884641474476)"
      ]
     },
     "execution_count": 15,
     "metadata": {},
     "output_type": "execute_result"
    }
   ],
   "source": [
    "stats.bartlett(\n",
    "    df[\"bp_after\"][df[\"sex\"] == \"Male\"], df[\"bp_after\"][df[\"sex\"] == \"Female\"]\n",
    ")"
   ]
  },
  {
   "cell_type": "markdown",
   "id": "66a5b0a7-205a-4929-a3a5-d1c7c1ef4d7a",
   "metadata": {},
   "source": [
    "### **1.3.2. Levene's Test**"
   ]
  },
  {
   "cell_type": "markdown",
   "id": "f0a49a58-8827-47bc-aeca-50c376ad7a84",
   "metadata": {},
   "source": [
    "Levene's test tests if the different goups have equal variances (Levene, 1960). Levene's test is less sensitive than Barlett's test to departures from normality and power (Conover, 1981). Levene's test of homogeneity of variances can test for equality between 2 or more groups. The original suggestion was to use the mean, Brown and Forsythe (1974) provided an expansion and testing can also be calculated using the median or the trimmed mean which have been found to be robust under nonnormality.\n",
    "\n",
    "This can be done with the `levene()` method from `scipy.stats`."
   ]
  },
  {
   "cell_type": "code",
   "execution_count": 16,
   "id": "ef4e8222-0bae-43aa-b29e-dd3fb19604c2",
   "metadata": {},
   "outputs": [
    {
     "data": {
      "text/plain": [
       "LeveneResult(statistic=5.0464151793144625, pvalue=0.026537264851214513)"
      ]
     },
     "execution_count": 16,
     "metadata": {},
     "output_type": "execute_result"
    }
   ],
   "source": [
    "# Using the mean\n",
    "\n",
    "stats.levene(df[\"bp_after\"][df[\"sex\"] == \"Male\"], df[\"bp_after\"][df[\"sex\"] == \"Female\"])"
   ]
  },
  {
   "cell_type": "code",
   "execution_count": 17,
   "id": "f225db92-9951-4694-9121-0c265225eb19",
   "metadata": {},
   "outputs": [
    {
     "data": {
      "text/plain": [
       "LeveneResult(statistic=5.0464151793144625, pvalue=0.026537264851214513)"
      ]
     },
     "execution_count": 17,
     "metadata": {},
     "output_type": "execute_result"
    }
   ],
   "source": [
    "# Using the median\n",
    "\n",
    "stats.levene(\n",
    "    df[\"bp_after\"][df[\"sex\"] == \"Male\"],\n",
    "    df[\"bp_after\"][df[\"sex\"] == \"Female\"],\n",
    "    center=\"median\",\n",
    ")"
   ]
  },
  {
   "cell_type": "code",
   "execution_count": 18,
   "id": "bbd1d617-bbf4-41af-bfc1-e28f8aa8dbee",
   "metadata": {},
   "outputs": [
    {
     "data": {
      "text/plain": [
       "LeveneResult(statistic=7.769755793226307, pvalue=0.006297605035462623)"
      ]
     },
     "execution_count": 18,
     "metadata": {},
     "output_type": "execute_result"
    }
   ],
   "source": [
    "# Using the trimmed mean (Default is to cut 10% total - 5% from each tail)\n",
    "\n",
    "stats.levene(\n",
    "    df[\"bp_after\"][df[\"sex\"] == \"Male\"],\n",
    "    df[\"bp_after\"][df[\"sex\"] == \"Female\"],\n",
    "    center=\"trimmed\",\n",
    ")"
   ]
  },
  {
   "cell_type": "markdown",
   "id": "2424a222-7903-4d67-a016-7aedce74c95b",
   "metadata": {},
   "source": [
    "# 2. Tests for Continuous Data"
   ]
  },
  {
   "cell_type": "markdown",
   "id": "92ca2249-6426-4858-871a-e9c926e0d66d",
   "metadata": {},
   "source": [
    "## 2.1. Z-Test"
   ]
  },
  {
   "cell_type": "code",
   "execution_count": 19,
   "id": "6eb224d5-36b7-4de2-a2c2-927a74d11ea8",
   "metadata": {},
   "outputs": [],
   "source": [
    "from statsmodels.stats.weightstats import ztest"
   ]
  },
  {
   "cell_type": "code",
   "execution_count": 20,
   "id": "bd4e60eb-58e5-4cbb-8438-2815098ddaca",
   "metadata": {},
   "outputs": [
    {
     "data": {
      "text/plain": [
       "(1.5976240527147705, 0.1101266701438426)"
      ]
     },
     "execution_count": 20,
     "metadata": {},
     "output_type": "execute_result"
    }
   ],
   "source": [
    "# One-Sample Z-Test\n",
    "\n",
    "# enter IQ levels for 20 patients\n",
    "data = [\n",
    "    88, 92, 94, 94, 96, 97, 97, 97, 99, 99, 105, \n",
    "    109, 109, 109, 110, 112, 112, 113, 114, 115\n",
    "]\n",
    "\n",
    "# perform one sample z-test\n",
    "ztest(data, value=100)"
   ]
  },
  {
   "cell_type": "code",
   "execution_count": 21,
   "id": "b699d332-3c4c-45c6-bc8a-a94a8889f5c8",
   "metadata": {},
   "outputs": [
    {
     "data": {
      "text/plain": [
       "(-1.9953236073282115, 0.046007596761332065)"
      ]
     },
     "execution_count": 21,
     "metadata": {},
     "output_type": "execute_result"
    }
   ],
   "source": [
    "# Two-Sample Z-Test\n",
    "\n",
    "# enter IQ levels for 20 individuals from each city\n",
    "cityA = [\n",
    "    82, 84, 85, 89, 91, 91, 92, 94, 99, 99, 105, 109, \n",
    "    109, 109, 110, 112, 112, 113, 114, 114\n",
    "]\n",
    "\n",
    "cityB = [\n",
    "    90, 91, 91, 91, 95, 95, 99, 99, 108, 109, 109, 114, \n",
    "    115, 116, 117, 117, 128, 129, 130, 133\n",
    "]\n",
    "\n",
    "# perform two sample z-test\n",
    "ztest(cityA, cityB, value=0)"
   ]
  },
  {
   "cell_type": "markdown",
   "id": "217914b4-21c5-475c-81b7-12ea5648ae19",
   "metadata": {},
   "source": [
    "## 2.2. Proportion Z-Test"
   ]
  },
  {
   "cell_type": "code",
   "execution_count": 22,
   "id": "875fcff6-8070-4865-be61-d8eec282439d",
   "metadata": {},
   "outputs": [],
   "source": [
    "from statsmodels.stats.proportion import proportions_ztest"
   ]
  },
  {
   "cell_type": "code",
   "execution_count": 23,
   "id": "e41aefee-f906-478f-a423-f5b74d3596ea",
   "metadata": {},
   "outputs": [
    {
     "data": {
      "text/plain": [
       "(0.3921260263140161, 0.6949650981148476)"
      ]
     },
     "execution_count": 23,
     "metadata": {},
     "output_type": "execute_result"
    }
   ],
   "source": [
    "# One Sample Proportiona Z-Test\n",
    "\n",
    "count = 5\n",
    "nobs = 83\n",
    "value = .05\n",
    "proportions_ztest(count, nobs, value)"
   ]
  },
  {
   "cell_type": "code",
   "execution_count": 24,
   "id": "862b0570-1853-4b9f-a886-42391a6b1b85",
   "metadata": {},
   "outputs": [
    {
     "data": {
      "text/plain": [
       "(-1.4078304151258787, 0.15918129181156992)"
      ]
     },
     "execution_count": 24,
     "metadata": {},
     "output_type": "execute_result"
    }
   ],
   "source": [
    "# Two Samples Proportiona Z-Test\n",
    "\n",
    "count = np.array([5, 12])\n",
    "nobs = np.array([83, 99])\n",
    "proportions_ztest(count, nobs)"
   ]
  },
  {
   "cell_type": "markdown",
   "id": "ffc990f1-5b23-4ccf-9a41-81396a00fa93",
   "metadata": {},
   "source": [
    "## 2.3. Student's T-Test"
   ]
  },
  {
   "cell_type": "code",
   "execution_count": 25,
   "id": "c5961145-77b5-4d8c-acf5-5f40afe07826",
   "metadata": {},
   "outputs": [],
   "source": [
    "x1 = stats.norm.rvs(loc=5, scale=10, size=500)\n",
    "x2 = stats.norm.rvs(loc=5, scale=10, size=500)"
   ]
  },
  {
   "cell_type": "code",
   "execution_count": 26,
   "id": "8d76493d-690f-438f-bcec-2d0723eb3e09",
   "metadata": {},
   "outputs": [
    {
     "data": {
      "text/plain": [
       "Ttest_indResult(statistic=-2.819023679746116, pvalue=0.004912261967697262)"
      ]
     },
     "execution_count": 26,
     "metadata": {},
     "output_type": "execute_result"
    }
   ],
   "source": [
    "stats.ttest_ind(\n",
    "    x1, x2, \n",
    "    axis=0,\n",
    "    equal_var=True, # standard deviation of the samples is assumed to be the same\n",
    "    nan_policy='propagate', \n",
    "    permutations=None, \n",
    "    random_state=None, \n",
    "    alternative='two-sided'\n",
    ")"
   ]
  },
  {
   "cell_type": "markdown",
   "id": "c4e3a743-4af1-45a8-95b5-dde8d7ffea0e",
   "metadata": {},
   "source": [
    "## 2.4. Welch's T-Test"
   ]
  },
  {
   "cell_type": "code",
   "execution_count": 27,
   "id": "b849a151-e9be-4526-8ead-d691b22ec386",
   "metadata": {},
   "outputs": [
    {
     "data": {
      "text/plain": [
       "Ttest_indResult(statistic=-2.819023679746116, pvalue=0.00491226320811394)"
      ]
     },
     "execution_count": 27,
     "metadata": {},
     "output_type": "execute_result"
    }
   ],
   "source": [
    "stats.ttest_ind(\n",
    "    x1, x2, \n",
    "    axis=0,\n",
    "    equal_var=False, # perform Welch's T-Test\n",
    "    nan_policy='propagate', \n",
    "    permutations=None, \n",
    "    random_state=None, \n",
    "    alternative='two-sided'\n",
    ")"
   ]
  },
  {
   "cell_type": "markdown",
   "id": "25d9bfb3-fb49-4233-b3fe-36169e7bac0a",
   "metadata": {},
   "source": [
    "## 2.5. Wilcoxon Signed Rank Test"
   ]
  },
  {
   "cell_type": "code",
   "execution_count": 28,
   "id": "7cf81787-9524-463d-8bb2-109df122d6bd",
   "metadata": {},
   "outputs": [
    {
     "data": {
      "text/plain": [
       "WilcoxonResult(statistic=24.0, pvalue=0.041259765625)"
      ]
     },
     "execution_count": 28,
     "metadata": {},
     "output_type": "execute_result"
    }
   ],
   "source": [
    "# One Sample\n",
    "\n",
    "x = [6, 8, 14, 16, 23, 24, 28, 29, 41, -48, 49, 56, 60, -67, 75]\n",
    "\n",
    "stats.wilcoxon(\n",
    "    x, \n",
    "    y=None, \n",
    "    zero_method='wilcox', \n",
    "    correction=False, \n",
    "    alternative='two-sided', \n",
    "    method='auto', \n",
    "    axis=0, \n",
    "    nan_policy='propagate', \n",
    "    keepdims=False\n",
    ")"
   ]
  },
  {
   "cell_type": "code",
   "execution_count": 29,
   "id": "a2a7406c-9575-4216-9593-f513cfa15188",
   "metadata": {},
   "outputs": [
    {
     "data": {
      "text/plain": [
       "WilcoxonResult(statistic=5.0, pvalue=0.5625)"
      ]
     },
     "execution_count": 29,
     "metadata": {},
     "output_type": "execute_result"
    }
   ],
   "source": [
    "# Two Samples\n",
    "\n",
    "x = np.array([0.5, 0.825, 0.375, 0.5])\n",
    "y = np.array([0.525, 0.775, 0.325, 0.55])\n",
    "stats.wilcoxon(x, y, alternative='greater')"
   ]
  },
  {
   "cell_type": "markdown",
   "id": "f6a288ef-faa3-4f4d-b622-caea54c0cf60",
   "metadata": {},
   "source": [
    "## 2.6. Mann-Whitney U Test"
   ]
  },
  {
   "cell_type": "code",
   "execution_count": 30,
   "id": "d44acaa3-589f-40ce-848a-9382195ec4f7",
   "metadata": {},
   "outputs": [],
   "source": [
    "group1 = [20, 23, 21, 25, 18, 17, 18, 24, 20, 24, 23, 19]\n",
    "group2 = [24, 25, 21, 22, 23, 18, 17, 28, 24, 27, 21, 23]"
   ]
  },
  {
   "cell_type": "code",
   "execution_count": 31,
   "id": "405ed1a8-bccc-4019-b2b0-b67501e82a91",
   "metadata": {},
   "outputs": [
    {
     "data": {
      "text/plain": [
       "MannwhitneyuResult(statistic=50.0, pvalue=0.21138945901258455)"
      ]
     },
     "execution_count": 31,
     "metadata": {},
     "output_type": "execute_result"
    }
   ],
   "source": [
    "stats.mannwhitneyu(group1, group2, alternative='two-sided')"
   ]
  },
  {
   "cell_type": "markdown",
   "id": "73640f85-8e19-4740-b5e3-add0fa29dae7",
   "metadata": {},
   "source": [
    "## 2.7. ANOVA"
   ]
  },
  {
   "cell_type": "code",
   "execution_count": 32,
   "id": "f52b28ce-0841-4910-9dc9-7e19854cd495",
   "metadata": {},
   "outputs": [],
   "source": [
    "from statsmodels.stats.anova import anova_lm"
   ]
  },
  {
   "cell_type": "markdown",
   "id": "bfc609a3-4c54-4ded-8c20-be38966075a0",
   "metadata": {},
   "source": [
    "### 2.7.1. One-Way ANOVA"
   ]
  },
  {
   "cell_type": "code",
   "execution_count": 33,
   "id": "e6e8236d-9b85-422f-9706-cb30d3c042e0",
   "metadata": {},
   "outputs": [],
   "source": [
    "# Data Preparation\n",
    "\n",
    "url = 'https://raw.githubusercontent.com/thomas-haslwanter/statsintro_python/master/ipynb/Data/data_altman/altman_910.txt'\n",
    "data = np.genfromtxt(urllib.request.urlopen(url), delimiter=',')\n",
    "\n",
    "# Sort them into groups, according to column 1\n",
    "group1 = data[data[:, 1] == 1, 0]\n",
    "group2 = data[data[:, 1] == 2, 0]\n",
    "group3 = data[data[:, 1] == 3, 0]"
   ]
  },
  {
   "cell_type": "code",
   "execution_count": 34,
   "id": "ec0468dc-458e-4551-918e-ad02768e5ee7",
   "metadata": {},
   "outputs": [
    {
     "data": {
      "image/png": "[encoded data removed]",
      "text/plain": [
       "<Figure size 640x480 with 1 Axes>"
      ]
     },
     "metadata": {},
     "output_type": "display_data"
    }
   ],
   "source": [
    "# matplotlib plotting\n",
    "plot_data = [group1, group2, group3]\n",
    "ax = plt.boxplot(plot_data)\n",
    "plt.show()"
   ]
  },
  {
   "cell_type": "code",
   "execution_count": 35,
   "id": "4c302652-a4f6-4a6f-a7d2-eaeefb86ee7c",
   "metadata": {},
   "outputs": [
    {
     "data": {
      "text/plain": [
       "F_onewayResult(statistic=3.7113359882669763, pvalue=0.043589334959178244)"
      ]
     },
     "execution_count": 35,
     "metadata": {},
     "output_type": "execute_result"
    }
   ],
   "source": [
    "stats.f_oneway(group1, group2, group3)"
   ]
  },
  {
   "cell_type": "code",
   "execution_count": 36,
   "id": "05393a76-05ac-4fec-a67a-fe5ccf58cfcd",
   "metadata": {},
   "outputs": [
    {
     "name": "stdout",
     "output_type": "stream",
     "text": [
      "                df        sum_sq      mean_sq         F    PR(>F)\n",
      "C(treatment)   2.0  15515.766414  7757.883207  3.711336  0.043589\n",
      "Residual      19.0  39716.097222  2090.320906       NaN       NaN\n"
     ]
    }
   ],
   "source": [
    "df = pd.DataFrame(data, columns=['value', 'treatment'])\n",
    "\n",
    "# the \"C\" indicates categorical data\n",
    "model = smf.ols('value ~ C(treatment)', df).fit()\n",
    "\n",
    "print(anova_lm(model))"
   ]
  },
  {
   "cell_type": "markdown",
   "id": "6226f6d9-efc2-4455-b2b2-30a8b02b5c48",
   "metadata": {},
   "source": [
    "### 2.7.2. Two-Way ANOVA"
   ]
  },
  {
   "cell_type": "code",
   "execution_count": 37,
   "id": "9269529f-681d-474f-8a18-ddf32acefe4a",
   "metadata": {},
   "outputs": [],
   "source": [
    "# Data Preparation\n",
    "\n",
    "data = pd.read_csv(\"data/data_for_two_way_anova.csv\", names=['head_size', 'fetus', 'observer'])"
   ]
  },
  {
   "cell_type": "code",
   "execution_count": 38,
   "id": "b78a696d-99cd-47d5-8376-8a982b535558",
   "metadata": {},
   "outputs": [
    {
     "data": {
      "text/plain": [
       "<AxesSubplot: title={'center': 'head_size'}, xlabel='fetus'>"
      ]
     },
     "execution_count": 38,
     "metadata": {},
     "output_type": "execute_result"
    },
    {
     "data": {
      "image/png": "[encoded data removed]",
      "text/plain": [
       "<Figure size 640x480 with 1 Axes>"
      ]
     },
     "metadata": {},
     "output_type": "display_data"
    }
   ],
   "source": [
    "data.boxplot(column='head_size', by='fetus', grid=False)"
   ]
  },
  {
   "cell_type": "code",
   "execution_count": 39,
   "id": "577455b8-4551-4ef9-9200-cf18998a6008",
   "metadata": {},
   "outputs": [
    {
     "name": "stdout",
     "output_type": "stream",
     "text": [
      "                        df      sum_sq     mean_sq            F        PR(>F)\n",
      "C(fetus)               2.0  324.008889  162.004444  2113.101449  1.051039e-27\n",
      "C(observer)            3.0    1.198611    0.399537     5.211353  6.497055e-03\n",
      "C(fetus):C(observer)   6.0    0.562222    0.093704     1.222222  3.295509e-01\n",
      "Residual              24.0    1.840000    0.076667          NaN           NaN\n"
     ]
    }
   ],
   "source": [
    "formula = 'head_size ~ C(fetus) + C(observer) + C(fetus):C(observer)'\n",
    "lm = smf.ols(formula, data).fit()\n",
    "print(anova_lm(lm))"
   ]
  },
  {
   "cell_type": "markdown",
   "id": "451a6738-9986-4a1c-a7c2-4bd5a75f3dbf",
   "metadata": {},
   "source": [
    "### 2.7.3. Post-Hoc Analysis"
   ]
  },
  {
   "cell_type": "markdown",
   "id": "3fe0208b-376e-42e0-95c7-1bf37dbcef48",
   "metadata": {},
   "source": [
    "- Tukey's HSD (Honest Significant Difference) test.\n",
    "- Duncan’s new multiple range test (MRT)\n",
    "- Scheffé’s Method\n",
    "\n",
    "Sensitivity: Scheffe < Turkey < Duncan\n",
    "\n",
    "Usage: Turkey for Natural Science, Duncan for Social Science and Psychological Survey"
   ]
  },
  {
   "cell_type": "markdown",
   "id": "d8f2976a-ea78-47a2-aeb4-37e13022a4b1",
   "metadata": {},
   "source": [
    "#### 2.7.3.1. For One-Way ANOVA"
   ]
  },
  {
   "cell_type": "code",
   "execution_count": 40,
   "id": "1f99d86b-125d-4195-85c9-911a9ab3e7af",
   "metadata": {},
   "outputs": [],
   "source": [
    "from statsmodels.stats.multicomp import pairwise_tukeyhsd"
   ]
  },
  {
   "cell_type": "code",
   "execution_count": 41,
   "id": "8c909ac1-f021-4fd5-8b05-e7cb083a7c2c",
   "metadata": {},
   "outputs": [],
   "source": [
    "# Data Preparation\n",
    "\n",
    "url = 'https://raw.githubusercontent.com/thomas-haslwanter/statsintro_python/master/ipynb/Data/data_altman/altman_910.txt'\n",
    "data = np.genfromtxt(urllib.request.urlopen(url), delimiter=',')\n",
    "\n",
    "# Sort them into groups, according to column 1\n",
    "group1 = data[data[:, 1] == 1, 0]\n",
    "group2 = data[data[:, 1] == 2, 0]\n",
    "group3 = data[data[:, 1] == 3, 0]"
   ]
  },
  {
   "cell_type": "code",
   "execution_count": 42,
   "id": "2421e823-dbe4-4655-8b7d-4225cb053396",
   "metadata": {},
   "outputs": [],
   "source": [
    "df = pd.DataFrame(data,columns=['value', 'treatment']).set_index('treatment')"
   ]
  },
  {
   "cell_type": "code",
   "execution_count": 43,
   "id": "eeb515be-3d2d-4495-b049-e98be49c0be5",
   "metadata": {},
   "outputs": [
    {
     "data": {
      "text/html": [
       "<div>\n",
       "<style scoped>\n",
       "    .dataframe tbody tr th:only-of-type {\n",
       "        vertical-align: middle;\n",
       "    }\n",
       "\n",
       "    .dataframe tbody tr th {\n",
       "        vertical-align: top;\n",
       "    }\n",
       "\n",
       "    .dataframe thead th {\n",
       "        text-align: right;\n",
       "    }\n",
       "</style>\n",
       "<table border=\"1\" class=\"dataframe\">\n",
       "  <thead>\n",
       "    <tr style=\"text-align: right;\">\n",
       "      <th></th>\n",
       "      <th>treatment</th>\n",
       "      <th>value</th>\n",
       "    </tr>\n",
       "  </thead>\n",
       "  <tbody>\n",
       "    <tr>\n",
       "      <th>0</th>\n",
       "      <td>1.0</td>\n",
       "      <td>243.0</td>\n",
       "    </tr>\n",
       "    <tr>\n",
       "      <th>1</th>\n",
       "      <td>1.0</td>\n",
       "      <td>251.0</td>\n",
       "    </tr>\n",
       "    <tr>\n",
       "      <th>2</th>\n",
       "      <td>1.0</td>\n",
       "      <td>275.0</td>\n",
       "    </tr>\n",
       "    <tr>\n",
       "      <th>3</th>\n",
       "      <td>1.0</td>\n",
       "      <td>291.0</td>\n",
       "    </tr>\n",
       "    <tr>\n",
       "      <th>4</th>\n",
       "      <td>1.0</td>\n",
       "      <td>347.0</td>\n",
       "    </tr>\n",
       "  </tbody>\n",
       "</table>\n",
       "</div>"
      ],
      "text/plain": [
       "   treatment  value\n",
       "0        1.0  243.0\n",
       "1        1.0  251.0\n",
       "2        1.0  275.0\n",
       "3        1.0  291.0\n",
       "4        1.0  347.0"
      ]
     },
     "execution_count": 43,
     "metadata": {},
     "output_type": "execute_result"
    }
   ],
   "source": [
    "df2 = df.reset_index()\n",
    "df2.head()"
   ]
  },
  {
   "cell_type": "code",
   "execution_count": 44,
   "id": "81254f46-f10f-4ece-8c83-611bcf447aa8",
   "metadata": {},
   "outputs": [
    {
     "name": "stdout",
     "output_type": "stream",
     "text": [
      " Multiple Comparison of Means - Tukey HSD, FWER=0.05  \n",
      "======================================================\n",
      "group1 group2 meandiff p-adj    lower    upper  reject\n",
      "------------------------------------------------------\n",
      "   1.0    2.0 -60.1806 0.0355  -116.619 -3.7421   True\n",
      "   1.0    3.0  -38.625 0.3215 -104.8404 27.5904  False\n",
      "   2.0    3.0  21.5556 0.6802  -43.2295 86.3406  False\n",
      "------------------------------------------------------\n"
     ]
    }
   ],
   "source": [
    "posthoc = pairwise_tukeyhsd(df2['value'], df2['treatment'], alpha=0.05)\n",
    "print(posthoc)"
   ]
  },
  {
   "cell_type": "markdown",
   "id": "4a6bbf73-0fb4-4e3d-ba6a-cd92c335863d",
   "metadata": {},
   "source": [
    "#### 2.7.3.2. For Two-Way ANOVA"
   ]
  },
  {
   "cell_type": "code",
   "execution_count": 45,
   "id": "eca51f6a-b86c-4d80-998b-887cbc31bd0d",
   "metadata": {},
   "outputs": [],
   "source": [
    "# Data Preparation\n",
    "\n",
    "data = pd.read_csv(\"data/data_for_two_way_anova.csv\", names=['head_size', 'fetus', 'observer'])"
   ]
  },
  {
   "cell_type": "code",
   "execution_count": 46,
   "id": "8cd1b4a4-fe5c-428f-89e6-b3aa2bc3ab5e",
   "metadata": {},
   "outputs": [
    {
     "data": {
      "text/html": [
       "<div>\n",
       "<style scoped>\n",
       "    .dataframe tbody tr th:only-of-type {\n",
       "        vertical-align: middle;\n",
       "    }\n",
       "\n",
       "    .dataframe tbody tr th {\n",
       "        vertical-align: top;\n",
       "    }\n",
       "\n",
       "    .dataframe thead th {\n",
       "        text-align: right;\n",
       "    }\n",
       "</style>\n",
       "<table border=\"1\" class=\"dataframe\">\n",
       "  <thead>\n",
       "    <tr style=\"text-align: right;\">\n",
       "      <th></th>\n",
       "      <th>head_size</th>\n",
       "      <th>fetus</th>\n",
       "      <th>observer</th>\n",
       "    </tr>\n",
       "  </thead>\n",
       "  <tbody>\n",
       "    <tr>\n",
       "      <th>0</th>\n",
       "      <td>14.3</td>\n",
       "      <td>1</td>\n",
       "      <td>1</td>\n",
       "    </tr>\n",
       "    <tr>\n",
       "      <th>1</th>\n",
       "      <td>14.0</td>\n",
       "      <td>1</td>\n",
       "      <td>1</td>\n",
       "    </tr>\n",
       "    <tr>\n",
       "      <th>2</th>\n",
       "      <td>14.8</td>\n",
       "      <td>1</td>\n",
       "      <td>1</td>\n",
       "    </tr>\n",
       "    <tr>\n",
       "      <th>3</th>\n",
       "      <td>13.6</td>\n",
       "      <td>1</td>\n",
       "      <td>2</td>\n",
       "    </tr>\n",
       "    <tr>\n",
       "      <th>4</th>\n",
       "      <td>13.6</td>\n",
       "      <td>1</td>\n",
       "      <td>2</td>\n",
       "    </tr>\n",
       "  </tbody>\n",
       "</table>\n",
       "</div>"
      ],
      "text/plain": [
       "   head_size  fetus  observer\n",
       "0       14.3      1         1\n",
       "1       14.0      1         1\n",
       "2       14.8      1         1\n",
       "3       13.6      1         2\n",
       "4       13.6      1         2"
      ]
     },
     "execution_count": 46,
     "metadata": {},
     "output_type": "execute_result"
    }
   ],
   "source": [
    "data.head()"
   ]
  },
  {
   "cell_type": "code",
   "execution_count": 47,
   "id": "af5d6ae1-dc4e-483c-a7e2-e0ab703091ee",
   "metadata": {},
   "outputs": [
    {
     "name": "stdout",
     "output_type": "stream",
     "text": [
      "Multiple Comparison of Means - Tukey HSD, FWER=0.05\n",
      "===================================================\n",
      "group1 group2 meandiff p-adj  lower   upper  reject\n",
      "---------------------------------------------------\n",
      "     1      2      5.7   0.0  5.3691  6.0309   True\n",
      "     1      3  -1.1667   0.0 -1.4976 -0.8358   True\n",
      "     2      3  -6.8667   0.0 -7.1976 -6.5358   True\n",
      "---------------------------------------------------\n"
     ]
    }
   ],
   "source": [
    "posthoc = pairwise_tukeyhsd(data['head_size'], data['fetus'], alpha=0.05)\n",
    "print(posthoc)"
   ]
  },
  {
   "cell_type": "code",
   "execution_count": 48,
   "id": "3e1effe0-64b0-4ff4-8068-e1b3b3d00c8d",
   "metadata": {},
   "outputs": [
    {
     "name": "stdout",
     "output_type": "stream",
     "text": [
      "Multiple Comparison of Means - Tukey HSD, FWER=0.05\n",
      "===================================================\n",
      "group1 group2 meandiff p-adj   lower  upper  reject\n",
      "---------------------------------------------------\n",
      "     1      2  -0.3778 0.9943 -4.4569 3.7014  False\n",
      "     1      3  -0.3111 0.9968 -4.3902  3.768  False\n",
      "     1      4   0.0333    1.0 -4.0458 4.1125  False\n",
      "     2      3   0.0667    1.0 -4.0125 4.1458  False\n",
      "     2      4   0.4111 0.9927  -3.668 4.4902  False\n",
      "     3      4   0.3444 0.9957 -3.7347 4.4236  False\n",
      "---------------------------------------------------\n"
     ]
    }
   ],
   "source": [
    "posthoc = pairwise_tukeyhsd(data['head_size'], data['observer'], alpha=0.05)\n",
    "print(posthoc)"
   ]
  },
  {
   "cell_type": "markdown",
   "id": "c27c3e2e-c26a-4e8e-86ea-6c4f9117b775",
   "metadata": {},
   "source": [
    "## 2.8. Friedman's Test"
   ]
  },
  {
   "cell_type": "code",
   "execution_count": 49,
   "id": "f93199f7-cff7-4d2e-8c7a-6028fb51995d",
   "metadata": {},
   "outputs": [],
   "source": [
    "# Data Preparation\n",
    "\n",
    "group1 = [4, 6, 3, 4, 3, 2, 2, 7, 6, 5]\n",
    "group2 = [5, 6, 8, 7, 7, 8, 4, 6, 4, 5]\n",
    "group3 = [2, 4, 4, 3, 2, 2, 1, 4, 3, 2]"
   ]
  },
  {
   "cell_type": "code",
   "execution_count": 50,
   "id": "a4d4f4ac-b7f7-4758-b4eb-4fa1506d920e",
   "metadata": {},
   "outputs": [
    {
     "data": {
      "text/plain": [
       "FriedmanchisquareResult(statistic=13.351351351351344, pvalue=0.0012612201221243594)"
      ]
     },
     "execution_count": 50,
     "metadata": {},
     "output_type": "execute_result"
    }
   ],
   "source": [
    "stats.friedmanchisquare(group1, group2, group3)"
   ]
  },
  {
   "cell_type": "markdown",
   "id": "8a88c589-4a03-4345-968b-58c8a527e582",
   "metadata": {},
   "source": [
    "## 2.9. Kruskal-Wallis Test"
   ]
  },
  {
   "cell_type": "code",
   "execution_count": 51,
   "id": "a1594039-fa39-41a0-85e0-c98959080058",
   "metadata": {},
   "outputs": [],
   "source": [
    "# Data Preparation\n",
    "\n",
    "data_group1 = [7, 9, 12, 15, 21]\n",
    "data_group2 = [5, 8, 14, 13, 25]\n",
    "data_group3 = [6, 8, 8, 9, 5]"
   ]
  },
  {
   "cell_type": "code",
   "execution_count": 52,
   "id": "6c59621d-f49a-419b-93cb-9099517e9502",
   "metadata": {},
   "outputs": [
    {
     "data": {
      "text/plain": [
       "KruskalResult(statistic=3.492418772563175, pvalue=0.17443390338074047)"
      ]
     },
     "execution_count": 52,
     "metadata": {},
     "output_type": "execute_result"
    }
   ],
   "source": [
    "stats.kruskal(data_group1, data_group2, data_group3)"
   ]
  },
  {
   "cell_type": "markdown",
   "id": "9426b73a-0f2d-45a2-8a8c-0ba90374258e",
   "metadata": {},
   "source": [
    "# 3. Tests for Categorical Data"
   ]
  },
  {
   "cell_type": "markdown",
   "id": "dc46b93f-0bcf-445f-a931-fcac46fa65cb",
   "metadata": {},
   "source": [
    "## 3.1. McNemar's Chi Square Test"
   ]
  },
  {
   "cell_type": "markdown",
   "id": "5495b163-6d75-4a30-8a9a-92698b717dc1",
   "metadata": {},
   "source": [
    "Statistical method for comparing proportions from two dependent populations"
   ]
  },
  {
   "cell_type": "markdown",
   "id": "ffc10ed5-e905-417e-a858-ccd58ddc2aa1",
   "metadata": {},
   "source": [
    "- It is a type of paired chi-square test (χ2), but this time, both populations are dependent.\n",
    "\n",
    "- Only used for paired nominal data.\n",
    "\n",
    "1. Before-after comparison data, to uncover any changes in perception, attitude, behavior in marketing campaigns, drug testing, etc.\n",
    "2. Matched pair case-control:\n",
    "(i) Each case has a matching control, i.e., matched on age, gender, race, etc.\n",
    "(ii) Twins studies, i.e., the matched pairs are twins."
   ]
  },
  {
   "cell_type": "code",
   "execution_count": 53,
   "id": "db0a4a7d-4de6-47f4-b5f3-574fd47c329a",
   "metadata": {},
   "outputs": [],
   "source": [
    "from statsmodels.stats.contingency_tables import mcnemar"
   ]
  },
  {
   "cell_type": "code",
   "execution_count": 54,
   "id": "ca4bd054-2836-41ab-b46b-0975f31afc86",
   "metadata": {},
   "outputs": [],
   "source": [
    "# Data Preparation\n",
    "\n",
    "data = [['Toyota', 'Toyota'] for i in range(55)] + \\\n",
    "       [['Toyota', 'Mitsubishi'] for i in range(5)] + \\\n",
    "       [['Mitsubishi', 'Toyota'] for i in range(15)] + \\\n",
    "       [['Mitsubishi', 'Mitsubishi'] for i in range(25)]\n",
    "df = pd.DataFrame(\n",
    "    data, \n",
    "    columns=['Before Ad Screening', 'After Ad Screening']\n",
    ")"
   ]
  },
  {
   "cell_type": "code",
   "execution_count": 55,
   "id": "fae02c06-5302-4c82-81cb-c9f23163472c",
   "metadata": {},
   "outputs": [],
   "source": [
    "# create contingency table\n",
    "data_crosstab = pd.crosstab(\n",
    "    df['Before Ad Screening'],\n",
    "    df['After Ad Screening'],\n",
    "    # margins=True, \n",
    "    # margins_name=\"Total\"\n",
    ")"
   ]
  },
  {
   "cell_type": "code",
   "execution_count": 56,
   "id": "c7c90be0-01cb-4780-b752-353b9076d7d3",
   "metadata": {},
   "outputs": [
    {
     "data": {
      "text/html": [
       "<div>\n",
       "<style scoped>\n",
       "    .dataframe tbody tr th:only-of-type {\n",
       "        vertical-align: middle;\n",
       "    }\n",
       "\n",
       "    .dataframe tbody tr th {\n",
       "        vertical-align: top;\n",
       "    }\n",
       "\n",
       "    .dataframe thead th {\n",
       "        text-align: right;\n",
       "    }\n",
       "</style>\n",
       "<table border=\"1\" class=\"dataframe\">\n",
       "  <thead>\n",
       "    <tr style=\"text-align: right;\">\n",
       "      <th>After Ad Screening</th>\n",
       "      <th>Mitsubishi</th>\n",
       "      <th>Toyota</th>\n",
       "    </tr>\n",
       "    <tr>\n",
       "      <th>Before Ad Screening</th>\n",
       "      <th></th>\n",
       "      <th></th>\n",
       "    </tr>\n",
       "  </thead>\n",
       "  <tbody>\n",
       "    <tr>\n",
       "      <th>Mitsubishi</th>\n",
       "      <td>25</td>\n",
       "      <td>15</td>\n",
       "    </tr>\n",
       "    <tr>\n",
       "      <th>Toyota</th>\n",
       "      <td>5</td>\n",
       "      <td>55</td>\n",
       "    </tr>\n",
       "  </tbody>\n",
       "</table>\n",
       "</div>"
      ],
      "text/plain": [
       "After Ad Screening   Mitsubishi  Toyota\n",
       "Before Ad Screening                    \n",
       "Mitsubishi                   25      15\n",
       "Toyota                        5      55"
      ]
     },
     "execution_count": 56,
     "metadata": {},
     "output_type": "execute_result"
    }
   ],
   "source": [
    "data_crosstab"
   ]
  },
  {
   "cell_type": "markdown",
   "id": "d63f1b0b-b748-4664-ab45-c4f6cda850f8",
   "metadata": {},
   "source": [
    "Syntax:\n",
    "\n",
    "`mcnemar(table, exact=True, correction=True)`\n",
    "\n",
    "Parameters:\n",
    "- `table`: It represents the square contingency table\n",
    "- `exact = True`: The binomial distribution will be used.\n",
    "- `exact = False`: The Chi-Square distribution will be used\n",
    "- `correction = True`: Then the continuity correction would be used. As a rule. this correction would be applied any cell counts in the table is not more than 4"
   ]
  },
  {
   "cell_type": "code",
   "execution_count": 57,
   "id": "532e5d0d-8d62-4d31-9eee-0b4eb35dc14a",
   "metadata": {},
   "outputs": [
    {
     "name": "stdout",
     "output_type": "stream",
     "text": [
      "pvalue      0.04417134490844271\n",
      "statistic   4.05\n"
     ]
    }
   ],
   "source": [
    "# McNemar's Test with the continuity correction\n",
    "print(mcnemar(\n",
    "    data_crosstab, \n",
    "    exact=False, \n",
    "    correction=True,\n",
    "))"
   ]
  },
  {
   "cell_type": "code",
   "execution_count": 58,
   "id": "cb93c4fe-f746-4d4a-a25f-463e5c75d465",
   "metadata": {},
   "outputs": [
    {
     "name": "stdout",
     "output_type": "stream",
     "text": [
      "pvalue      0.025347318677468325\n",
      "statistic   5.0\n"
     ]
    }
   ],
   "source": [
    "# McNemar's Test without any continuity correction\n",
    "print(mcnemar(\n",
    "    data_crosstab, \n",
    "    exact=False, \n",
    "    correction=False\n",
    "))"
   ]
  },
  {
   "cell_type": "markdown",
   "id": "e7362527-0b8d-41d3-aac6-8700d7d2d280",
   "metadata": {},
   "source": [
    "## 3.2. Cochran's Q Test"
   ]
  },
  {
   "cell_type": "code",
   "execution_count": 59,
   "id": "90527a80-1e98-4080-a226-d9b3df0b46ae",
   "metadata": {},
   "outputs": [],
   "source": [
    "from statsmodels.stats.contingency_tables import cochrans_q"
   ]
  },
  {
   "cell_type": "code",
   "execution_count": 60,
   "id": "758c31ae-b7dd-4759-bd8c-02c296139489",
   "metadata": {},
   "outputs": [],
   "source": [
    "# Data Preparation\n",
    "Student = list(range(1, 21))\n",
    "Tech_A = [1, 1, 1, 1, 1, 1, 1, 0, 0, 0, 1, 1, 1, 1, 0, 1, 0, 0, 0, 0]\n",
    "Tech_B = [1, 0, 1, 1, 0, 1, 0, 0, 1, 1, 0, 1, 0, 0, 1, 0, 1, 1, 0, 1]\n",
    "Tech_C = [0, 0, 1, 0, 1, 0, 1, 0, 0, 1, 0, 0, 1, 1, 1, 0, 0, 1, 1, 1]\n",
    "\n",
    "df = pd.DataFrame(\n",
    "    {\n",
    "        \"Student\": Student, \n",
    "        \"Technique_A\": Tech_A,\n",
    "        \"Technique_B\": Tech_B,\n",
    "        \"Technique_C\": Tech_C\n",
    "    }\n",
    ").set_index(\"Student\")"
   ]
  },
  {
   "cell_type": "code",
   "execution_count": 61,
   "id": "7b4b2c30-a173-43f2-8856-f19ba91d6508",
   "metadata": {},
   "outputs": [
    {
     "data": {
      "text/html": [
       "<div>\n",
       "<style scoped>\n",
       "    .dataframe tbody tr th:only-of-type {\n",
       "        vertical-align: middle;\n",
       "    }\n",
       "\n",
       "    .dataframe tbody tr th {\n",
       "        vertical-align: top;\n",
       "    }\n",
       "\n",
       "    .dataframe thead th {\n",
       "        text-align: right;\n",
       "    }\n",
       "</style>\n",
       "<table border=\"1\" class=\"dataframe\">\n",
       "  <thead>\n",
       "    <tr style=\"text-align: right;\">\n",
       "      <th></th>\n",
       "      <th>Technique_A</th>\n",
       "      <th>Technique_B</th>\n",
       "      <th>Technique_C</th>\n",
       "    </tr>\n",
       "    <tr>\n",
       "      <th>Student</th>\n",
       "      <th></th>\n",
       "      <th></th>\n",
       "      <th></th>\n",
       "    </tr>\n",
       "  </thead>\n",
       "  <tbody>\n",
       "    <tr>\n",
       "      <th>1</th>\n",
       "      <td>1</td>\n",
       "      <td>1</td>\n",
       "      <td>0</td>\n",
       "    </tr>\n",
       "    <tr>\n",
       "      <th>2</th>\n",
       "      <td>1</td>\n",
       "      <td>0</td>\n",
       "      <td>0</td>\n",
       "    </tr>\n",
       "    <tr>\n",
       "      <th>3</th>\n",
       "      <td>1</td>\n",
       "      <td>1</td>\n",
       "      <td>1</td>\n",
       "    </tr>\n",
       "    <tr>\n",
       "      <th>4</th>\n",
       "      <td>1</td>\n",
       "      <td>1</td>\n",
       "      <td>0</td>\n",
       "    </tr>\n",
       "    <tr>\n",
       "      <th>5</th>\n",
       "      <td>1</td>\n",
       "      <td>0</td>\n",
       "      <td>1</td>\n",
       "    </tr>\n",
       "  </tbody>\n",
       "</table>\n",
       "</div>"
      ],
      "text/plain": [
       "         Technique_A  Technique_B  Technique_C\n",
       "Student                                       \n",
       "1                  1            1            0\n",
       "2                  1            0            0\n",
       "3                  1            1            1\n",
       "4                  1            1            0\n",
       "5                  1            0            1"
      ]
     },
     "execution_count": 61,
     "metadata": {},
     "output_type": "execute_result"
    }
   ],
   "source": [
    "df.head()"
   ]
  },
  {
   "cell_type": "code",
   "execution_count": 62,
   "id": "bc20743d-09ef-4c4c-9bb5-3f3c807a1a25",
   "metadata": {},
   "outputs": [
    {
     "name": "stdout",
     "output_type": "stream",
     "text": [
      "df          2\n",
      "pvalue      0.8464817248906141\n",
      "statistic   0.3333333333333333\n"
     ]
    }
   ],
   "source": [
    "print(cochrans_q(df))"
   ]
  },
  {
   "cell_type": "markdown",
   "id": "c8ac854a-c376-430a-8c34-7d3f17f550fb",
   "metadata": {},
   "source": [
    "## 3.3. Chi-Squared Goodness-of-Fit"
   ]
  },
  {
   "cell_type": "markdown",
   "id": "fb07b03e-a63f-4298-9e39-9cebea4bbcde",
   "metadata": {},
   "source": [
    "- null hypothesis:  A variable has a predetermined distribution.\n",
    "\n",
    "- Alternative hypotheses: A variable deviates from the expected distribution."
   ]
  },
  {
   "cell_type": "markdown",
   "id": "a4776f56-7870-4d82-b65d-a68684e63e35",
   "metadata": {},
   "source": [
    "Syntax: `stats.chisquare(f_obs, f_exp)`\n",
    "\n",
    "parameters:\n",
    "- `f_obs` : this parameter contains an array of observed values.\n",
    "- `f_exp` : this parameter contains an array of expected values."
   ]
  },
  {
   "cell_type": "code",
   "execution_count": 63,
   "id": "b478084e-e04e-44f7-88e5-1af9db20434f",
   "metadata": {},
   "outputs": [],
   "source": [
    "# no of hours a student studies\n",
    "# in a week vs expected no of hours\n",
    "observed_data = (np.array([18, 16, 20, 17, 18, 21, 19]) / 129 * 59).tolist()  # / 129 * 59 to calculate proportion\n",
    "expected_data = [9, 8, 11, 8, 10, 7, 6]"
   ]
  },
  {
   "cell_type": "code",
   "execution_count": 64,
   "id": "4fc7e0b8-8d85-4d2d-a0c3-9323f77c4e89",
   "metadata": {},
   "outputs": [
    {
     "data": {
      "text/plain": [
       "Power_divergenceResult(statistic=2.9294819931785874, pvalue=0.8176441528530437)"
      ]
     },
     "execution_count": 64,
     "metadata": {},
     "output_type": "execute_result"
    }
   ],
   "source": [
    "stats.chisquare(observed_data, expected_data)"
   ]
  },
  {
   "cell_type": "code",
   "execution_count": 65,
   "id": "e054d1f0-670b-47b7-aeab-99a31f72ee1e",
   "metadata": {},
   "outputs": [
    {
     "name": "stdout",
     "output_type": "stream",
     "text": [
      "12.591587243743977\n"
     ]
    }
   ],
   "source": [
    "# find Chi-Square critical value\n",
    "print(stats.chi2.ppf(1-0.05, df=6))"
   ]
  },
  {
   "cell_type": "markdown",
   "id": "615ec68e-1057-4600-9ab3-ad72d6f63805",
   "metadata": {},
   "source": [
    "## 3.4. 2x2 Chi-squared Test"
   ]
  },
  {
   "cell_type": "code",
   "execution_count": 66,
   "id": "934c4968-bca3-48dd-abd7-f284de04804c",
   "metadata": {},
   "outputs": [],
   "source": [
    "# Data Preparation\n",
    "# For example,    before            after\n",
    "observed = [[20, 10, 40, 30], [44, 6, 22, 28]]"
   ]
  },
  {
   "cell_type": "code",
   "execution_count": 67,
   "id": "d0fa0a6a-498c-4ec7-80d4-d646a49f589a",
   "metadata": {},
   "outputs": [
    {
     "data": {
      "text/plain": [
       "(15.294771968854281,\n",
       " 0.0015813113058002915,\n",
       " 3,\n",
       " array([[32.,  8., 31., 29.],\n",
       "        [32.,  8., 31., 29.]]))"
      ]
     },
     "execution_count": 67,
     "metadata": {},
     "output_type": "execute_result"
    }
   ],
   "source": [
    "stats.chi2_contingency(observed)"
   ]
  },
  {
   "cell_type": "code",
   "execution_count": 68,
   "id": "2355eb5a-b239-4fbd-848c-72fcf3f9903e",
   "metadata": {},
   "outputs": [
    {
     "name": "stdout",
     "output_type": "stream",
     "text": [
      "0.0015813113058002915\n"
     ]
    }
   ],
   "source": [
    "# Two-sample chi-square test\n",
    "result = stats.chi2_contingency(observed)\n",
    "\n",
    "# p-value\n",
    "print(result[1])"
   ]
  },
  {
   "cell_type": "code",
   "execution_count": null,
   "id": "10fce465-0e2c-483e-b176-e6665629de7a",
   "metadata": {},
   "outputs": [],
   "source": []
  }
 ],
 "metadata": {
  "kernelspec": {
   "display_name": "Python [conda env:ls_env]",
   "language": "python",
   "name": "conda-env-ls_env-py"
  },
  "language_info": {
   "codemirror_mode": {
    "name": "ipython",
    "version": 3
   },
   "file_extension": ".py",
   "mimetype": "text/x-python",
   "name": "python",
   "nbconvert_exporter": "python",
   "pygments_lexer": "ipython3",
   "version": "3.10.8"
  }
 },
 "nbformat": 4,
 "nbformat_minor": 5
}
