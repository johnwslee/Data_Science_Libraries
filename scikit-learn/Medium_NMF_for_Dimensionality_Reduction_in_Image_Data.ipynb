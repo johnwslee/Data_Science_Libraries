{
 "cells": [
  {
   "cell_type": "markdown",
   "id": "be25a894-27c4-4a08-b975-d1c8fbd523a5",
   "metadata": {},
   "source": [
    "Dimensionality reduction algorithms deal with unlabeled data. When training such an algorithm, the fit() method only needs the feature matrix, X as the input and it does not require the label column, y.\n",
    "\n",
    "As its name implies, non-negative matrix factorization (NMF) needs the feature matrix to be non-negative."
   ]
  },
  {
   "cell_type": "markdown",
   "id": "017906d0-4305-4bb1-8aa1-ab01a8e7f7c6",
   "metadata": {},
   "source": [
    "Because of this non-negativity constraint, the usage of NMF is limited to data with non-negative values such as image data (pixel values always lie between 0 and 255, hence there are no negative values in image data!)."
   ]
  },
  {
   "cell_type": "markdown",
   "id": "d8d2fd08-eb31-4fd6-aed0-5ecfc658f85c",
   "metadata": {},
   "source": [
    "# The maths behind non-negative matrix factorization (NMF)"
   ]
  },
  {
   "cell_type": "markdown",
   "id": "c1ab8df7-0c75-44c7-bf9f-4d9bbb8ebb4a",
   "metadata": {},
   "source": [
    "Non-negative matrix factorization (NMF) is the process of decomposing a non-negative feature matrix, V (nxp) into a product of two non-negative matrices called W (nxd) and H (dxp). All three matrices should contain non-negative elements."
   ]
  },
  {
   "cell_type": "markdown",
   "id": "1c9e4bdb-2e47-4325-bea6-7c13e8edec42",
   "metadata": {},
   "source": [
    "<img src=\"nmf_matrix.png\" style=\"width:400px;height:150px;background-color:white\">"
   ]
  },
  {
   "cell_type": "markdown",
   "id": "82ec2bd3-177f-49ab-9609-2b836ea96648",
   "metadata": {},
   "source": [
    "The product of W and H matrices only gives an approximation to the matrix V. So, you should expect some information loss when applying NMF."
   ]
  },
  {
   "cell_type": "markdown",
   "id": "1145012b-599c-40d4-b094-66021226d064",
   "metadata": {},
   "source": [
    "- V (n x p): Represents the feature matrix where n is the number of observations (samples) and p is the number of features (variables). This is the data matrix we decompose.\n",
    "- W (n x d): Represents the transformed data matrix after applying NMF. We can use this transformed matrix in place of the original feature matrix, V. So, **W is the most important output of NMF.** It is obtained by calling Scikit-learn NMF’s `fit_transform()` method. n is the number of observations (samples) and **d is the number of latent factors or components**. In other words, d describes the amount of dimensionality that we want to keep. It is actually a hyperparameter that we need to specify in the Scikit-learn NMF’s `n_components` argument. This is an integer value that should be less than the number of features, p and greater than 0. Selecting the right value for d is a real challenge when performing NMF. We need to consider the balance between the amount of information and the number of components that we want to keep."
   ]
  },
  {
   "cell_type": "code",
   "execution_count": 1,
   "id": "eb2681db-5001-4f2b-959c-ab65bf2757b0",
   "metadata": {},
   "outputs": [],
   "source": [
    "from sklearn.decomposition import NMF\n",
    "\n",
    "# W = transformed data matrix, V = original feature matrix"
   ]
  },
  {
   "cell_type": "raw",
   "id": "075ddcda-32ba-4017-8f35-f27d8f2e0f0a",
   "metadata": {},
   "source": [
    "W = NMF(n_components=d).fit_transform(V)"
   ]
  },
  {
   "cell_type": "markdown",
   "id": "32fc8085-211f-4a30-a990-2773ea57fdff",
   "metadata": {},
   "source": [
    "- H (d x p): Represents the **factorization matrix.** d and p have the same definitions above. This matrix is not very important. However, this can be obtained by calling the Scikit-learn NMF’s `components_` attribute."
   ]
  },
  {
   "cell_type": "code",
   "execution_count": 2,
   "id": "690e1f4f-9d19-4e23-9478-e3771fb91857",
   "metadata": {},
   "outputs": [],
   "source": [
    "# H = factorization matrix"
   ]
  },
  {
   "cell_type": "raw",
   "id": "07d5a9f9-7409-45b3-b567-6e6ccc59e06a",
   "metadata": {},
   "source": [
    "H = NMF(n_components=d).fit(V).components_"
   ]
  },
  {
   "cell_type": "markdown",
   "id": "d18b9c23-84ad-44a8-be9a-2c4de29cc331",
   "metadata": {},
   "source": [
    "# Python implementation of non-negative matrix factorization (NMF)"
   ]
  },
  {
   "cell_type": "markdown",
   "id": "d5bc3dde-5f3f-45ac-aed9-b06e7f011f94",
   "metadata": {},
   "source": [
    "### Important arguments of `NMF()` class"
   ]
  },
  {
   "cell_type": "markdown",
   "id": "e5c238e7-589a-4c31-a78f-e8f265bc6bf3",
   "metadata": {},
   "source": [
    "- `n_components`: An integer that defines the number of components or latent factors or the amount of dimensionality that we want to keep. The most important hyperparameter! The value is less than the number of original features and greater than 0.\n",
    "- `init`: A method of the initialization process. To learn more about this, refer to the Scikit-learn documentation [here](https://scikit-learn.org/stable/modules/generated/sklearn.decomposition.NMF.html#sklearn.decomposition.NMF). The output returned by the NMF model will significantly vary depending on the init method you choose.\n",
    "- `random_state`: Used when the initialization method is ‘nndsvdar’ or ‘random’. Use an integer to get the same results across different executions."
   ]
  },
  {
   "cell_type": "markdown",
   "id": "116b7c3d-a622-42e4-ba93-74c2dd46e74f",
   "metadata": {},
   "source": [
    "### Important methods of `NMF()` class"
   ]
  },
  {
   "cell_type": "markdown",
   "id": "f1c0b82e-5d3f-4cab-904e-28d445f2beb5",
   "metadata": {},
   "source": [
    "- `.fit(V)`: Learns an NMF model from the feature matrix, V. No transformation is applied here.\n",
    "\n",
    "- `.fit_transform(V)`: Learns an NMF model from the feature matrix, V and returns the transformed data matrix, W."
   ]
  },
  {
   "cell_type": "raw",
   "id": "ba07d1f7-0880-4ad2-9649-47d870259c0e",
   "metadata": {},
   "source": [
    "W = nmf_model.fit_transform(V)"
   ]
  },
  {
   "cell_type": "markdown",
   "id": "2a036c30-0643-43ef-a8a3-cfbfe3afd706",
   "metadata": {},
   "source": [
    "- `.transform(V)`: Returns the transformed data matrix, W after fitting the model."
   ]
  },
  {
   "cell_type": "raw",
   "id": "b7b8fdab-95ea-41f1-a034-d8006dc7068f",
   "metadata": {},
   "source": [
    "nmf_model.fit(V) # Fitted model\n",
    "W = nmf_model.transform(V)"
   ]
  },
  {
   "cell_type": "markdown",
   "id": "92f2efc5-9a47-4a2c-bec7-bb743d1954e6",
   "metadata": {},
   "source": [
    "- `.inverse_transform(W)`: Transforms (recovers) the data matrix, W back to the original space. Very useful for visualization purposes!"
   ]
  },
  {
   "cell_type": "raw",
   "id": "3b152845-d3c5-4b82-9aba-48236577953e",
   "metadata": {},
   "source": [
    "recovered_data = nmf_model.inverse_transform(W)"
   ]
  },
  {
   "cell_type": "markdown",
   "id": "fbb5a2c1-d386-4e5f-a068-955ad0a0779d",
   "metadata": {},
   "source": [
    "### Important attributes of `NMF()` class"
   ]
  },
  {
   "cell_type": "markdown",
   "id": "069f4291-1ca9-4c48-9c7b-9cde3d5532e9",
   "metadata": {},
   "source": [
    "- `components_`: Returns the factorization matrix, H. This matrix is not very important."
   ]
  },
  {
   "cell_type": "raw",
   "id": "8e50836f-6a22-42ec-99f3-4cf18ea15f46",
   "metadata": {},
   "source": [
    "H = nmf_model.components_"
   ]
  },
  {
   "cell_type": "markdown",
   "id": "bf4ad872-bbc2-4c44-b26c-7ebf63e27cec",
   "metadata": {},
   "source": [
    "- `reconstruction_err_`: Returns the beta divergence as a float that measures the distance between V and the product of WH. The solver tries to minimize this error during the training process. Analyzing this error by setting different values for `n_components` is a great way of choosing the right number of components, `d`."
   ]
  },
  {
   "cell_type": "markdown",
   "id": "0413e9ad-2c2a-4ff1-b9bf-f9ba6f6f989a",
   "metadata": {},
   "source": [
    "# Reducing dimensionality in image data using non-negative matrix factorization (NMF)"
   ]
  },
  {
   "cell_type": "markdown",
   "id": "bd5cfca1-002f-4421-a6e7-c95bfba708e0",
   "metadata": {},
   "source": [
    "### Step 1: Load the MNIST dataset using Scikit-learn"
   ]
  },
  {
   "cell_type": "code",
   "execution_count": 3,
   "id": "5d7d90c4-8a32-4ed0-8c8d-5c6954bddcd7",
   "metadata": {},
   "outputs": [
    {
     "name": "stderr",
     "output_type": "stream",
     "text": [
      "C:\\Users\\johnw\\miniconda3\\envs\\ls_env\\lib\\site-packages\\sklearn\\datasets\\_openml.py:932: FutureWarning: The default value of `parser` will change from `'liac-arff'` to `'auto'` in 1.4. You can set `parser='auto'` to silence this warning. Therefore, an `ImportError` will be raised from 1.4 if the dataset is dense and pandas is not installed. Note that the pandas parser may return different data types. See the Notes Section in fetch_openml's API doc for details.\n",
      "  warn(\n"
     ]
    },
    {
     "name": "stdout",
     "output_type": "stream",
     "text": [
      "Shape: (70000, 784)\n",
      "Type: <class 'pandas.core.frame.DataFrame'>\n"
     ]
    }
   ],
   "source": [
    "from sklearn.datasets import fetch_openml\n",
    "\n",
    "mnist = fetch_openml(\"mnist_784\", version=1)\n",
    "image_data = mnist[\"data\"]\n",
    "\n",
    "print(\"Shape:\", image_data.shape)\n",
    "print(\"Type:\", type(image_data))"
   ]
  },
  {
   "cell_type": "markdown",
   "id": "c7737340-5099-44e2-86e1-6fe7de8e78f7",
   "metadata": {},
   "source": [
    "There are 70000 observations (images) in the dataset. Each observation has 784 features (pixel values). The size of an image is 28 x 28. When loading the MNIST dataset in this way, each image is represented as a 1D array that contains 784 (28 x 28) elements. This is the format we need for this task and no further modification is required for the dataset."
   ]
  },
  {
   "cell_type": "markdown",
   "id": "4c76f29b-47f2-4b24-9502-a846e5c0b599",
   "metadata": {},
   "source": [
    "### Step 2: Visualize a sample of the original images"
   ]
  },
  {
   "cell_type": "code",
   "execution_count": 4,
   "id": "2e403306-2e3d-4c9e-aa8a-944772bf4fab",
   "metadata": {},
   "outputs": [
    {
     "data": {
      "image/png": "[encoded data removed]",
      "text/plain": [
       "<Figure size 675x150 with 5 Axes>"
      ]
     },
     "metadata": {},
     "output_type": "display_data"
    }
   ],
   "source": [
    "import matplotlib.pyplot as plt\n",
    "\n",
    "n = 5\n",
    "plt.figure(figsize=(6.75, 1.5))\n",
    "for i in range(n):\n",
    "    ax = plt.subplot(1, n, i + 1)\n",
    "    plt.imshow(image_data.iloc[i].values.reshape(28, 28), cmap=\"binary\")\n",
    "    ax.axis(\"off\")\n",
    "\n",
    "plt.show()"
   ]
  },
  {
   "cell_type": "markdown",
   "id": "4606eb05-0cf4-42a7-9ec6-afad41ce0f3c",
   "metadata": {},
   "source": [
    "### Step 3: Apply NMF with 9 components (d = 9)"
   ]
  },
  {
   "cell_type": "code",
   "execution_count": 5,
   "id": "cad63204-d1a2-48d6-8c7f-276c60912df5",
   "metadata": {},
   "outputs": [
    {
     "name": "stdout",
     "output_type": "stream",
     "text": [
      "Shape: (70000, 9)\n",
      "Type: <class 'numpy.ndarray'>\n"
     ]
    }
   ],
   "source": [
    "from sklearn.decomposition import NMF\n",
    "\n",
    "nmf_model = NMF(n_components=9, init=\"random\", random_state=0)\n",
    "image_data_nmf = nmf_model.fit_transform(image_data)\n",
    "\n",
    "print(\"Shape:\", image_data_nmf.shape)\n",
    "print(\"Type:\", type(image_data_nmf))"
   ]
  },
  {
   "cell_type": "markdown",
   "id": "1ccf79fe-0664-4b26-9f98-336d4b82d842",
   "metadata": {},
   "source": [
    "Now, the new dimensionality is 9. The original dimensionality was 784. Therefore, the dimensionality has been significantly reduced!\n",
    "\n",
    "To get the shape of V, W and H matrices, we can run the following code."
   ]
  },
  {
   "cell_type": "code",
   "execution_count": 6,
   "id": "0764ae89-0337-43cf-8506-d90b66418627",
   "metadata": {},
   "outputs": [
    {
     "name": "stdout",
     "output_type": "stream",
     "text": [
      "V_shape: (70000, 784)\n",
      "W_shape: (70000, 9)\n",
      "H_shape (9, 784)\n"
     ]
    }
   ],
   "source": [
    "print(\"V_shape:\", image_data.shape)\n",
    "print(\"W_shape:\", image_data_nmf.shape)\n",
    "print(\"H_shape\", nmf_model.components_.shape)"
   ]
  },
  {
   "cell_type": "markdown",
   "id": "6175f686-984c-497c-b528-5c9b49a03f12",
   "metadata": {},
   "source": [
    "To get the reconstruction error or beta divergence between V and the product of WH, we can run the following code."
   ]
  },
  {
   "cell_type": "code",
   "execution_count": 7,
   "id": "26408011-ac1e-4cd8-8e99-111fd5d8bf73",
   "metadata": {},
   "outputs": [
    {
     "data": {
      "text/plain": [
       "378865.63664703665"
      ]
     },
     "execution_count": 7,
     "metadata": {},
     "output_type": "execute_result"
    }
   ],
   "source": [
    "nmf_model.reconstruction_err_"
   ]
  },
  {
   "cell_type": "markdown",
   "id": "22dd7125-671c-4d8e-96d5-a751f663fe26",
   "metadata": {},
   "source": [
    "The reconstruction error is very high. This is because we have selected only 9 components out of 784. We can verify this by visualizing the output."
   ]
  },
  {
   "cell_type": "code",
   "execution_count": 8,
   "id": "d755a8f5-8c76-4213-a16d-c900cd20d722",
   "metadata": {},
   "outputs": [
    {
     "data": {
      "image/png": "[encoded data removed]",
      "text/plain": [
       "<Figure size 675x150 with 5 Axes>"
      ]
     },
     "metadata": {},
     "output_type": "display_data"
    }
   ],
   "source": [
    "image_data_nmf_recovered = nmf_model.inverse_transform(image_data_nmf)\n",
    "\n",
    "n = 5\n",
    "plt.figure(figsize=(6.75, 1.5))\n",
    "for i in range(n):\n",
    "    ax = plt.subplot(1, n, i + 1)\n",
    "    plt.imshow(image_data_nmf_recovered[i, :].reshape(28, 28), cmap=\"binary\")\n",
    "    ax.axis(\"off\")\n",
    "\n",
    "plt.show()"
   ]
  },
  {
   "cell_type": "markdown",
   "id": "2dee3d4d-5e1d-4341-a14a-e1bd8b182460",
   "metadata": {},
   "source": [
    "### Step 4: Apply NMF with 225 components (d = 225)"
   ]
  },
  {
   "cell_type": "code",
   "execution_count": 9,
   "id": "2d7c0bd9-63e8-451c-a06e-1772f46bc8a0",
   "metadata": {},
   "outputs": [
    {
     "name": "stderr",
     "output_type": "stream",
     "text": [
      "C:\\Users\\johnw\\miniconda3\\envs\\ls_env\\lib\\site-packages\\sklearn\\decomposition\\_nmf.py:1665: ConvergenceWarning: Maximum number of iterations 200 reached. Increase it to improve convergence.\n",
      "  warnings.warn(\n"
     ]
    },
    {
     "name": "stdout",
     "output_type": "stream",
     "text": [
      "Shape: (70000, 225)\n",
      "Type: <class 'numpy.ndarray'>\n"
     ]
    }
   ],
   "source": [
    "nmf_model = NMF(n_components=225, init=\"random\", random_state=0)\n",
    "image_data_nmf = nmf_model.fit_transform(image_data)\n",
    "\n",
    "print(\"Shape:\", image_data_nmf.shape)\n",
    "print(\"Type:\", type(image_data_nmf))"
   ]
  },
  {
   "cell_type": "code",
   "execution_count": 10,
   "id": "a4a7a668-54da-4b7d-8e20-3383c3a879fa",
   "metadata": {},
   "outputs": [
    {
     "name": "stdout",
     "output_type": "stream",
     "text": [
      "V_shape: (70000, 784)\n",
      "W_shape: (70000, 225)\n",
      "H_shape (225, 784)\n"
     ]
    }
   ],
   "source": [
    "print(\"V_shape:\", image_data.shape)\n",
    "print(\"W_shape:\", image_data_nmf.shape)\n",
    "print(\"H_shape\", nmf_model.components_.shape)"
   ]
  },
  {
   "cell_type": "code",
   "execution_count": 11,
   "id": "29154ddf-7ea9-4ac1-827c-14ce433ceed6",
   "metadata": {},
   "outputs": [
    {
     "data": {
      "text/plain": [
       "104024.62402690166"
      ]
     },
     "execution_count": 11,
     "metadata": {},
     "output_type": "execute_result"
    }
   ],
   "source": [
    "nmf_model.reconstruction_err_"
   ]
  },
  {
   "cell_type": "code",
   "execution_count": 12,
   "id": "5dc69171-6c42-4358-89c5-b622b8b00a4f",
   "metadata": {},
   "outputs": [
    {
     "data": {
      "image/png": "[encoded data removed]",
      "text/plain": [
       "<Figure size 675x150 with 5 Axes>"
      ]
     },
     "metadata": {},
     "output_type": "display_data"
    }
   ],
   "source": [
    "image_data_nmf_recovered = nmf_model.inverse_transform(image_data_nmf)\n",
    "\n",
    "n = 5\n",
    "plt.figure(figsize=(6.75, 1.5))\n",
    "for i in range(n):\n",
    "    ax = plt.subplot(1, n, i + 1)\n",
    "    plt.imshow(image_data_nmf_recovered[i, :].reshape(28, 28), cmap=\"binary\")\n",
    "    ax.axis(\"off\")\n",
    "\n",
    "plt.show()"
   ]
  },
  {
   "cell_type": "markdown",
   "id": "342778a1-4e33-41c3-b210-a084187a705b",
   "metadata": {},
   "source": [
    "When the number of components is increased when running non-negative matrix factorization (NMF), the images are getting clear and the reconstruction error is getting low."
   ]
  },
  {
   "cell_type": "markdown",
   "id": "03140d81-1198-42e5-bd73-006bffd6caf6",
   "metadata": {},
   "source": [
    "### Step 4: Apply NMF with 784 components (d = 784)"
   ]
  },
  {
   "cell_type": "code",
   "execution_count": 13,
   "id": "f57fd5fa-513b-4346-ad54-f4344579d557",
   "metadata": {},
   "outputs": [
    {
     "name": "stderr",
     "output_type": "stream",
     "text": [
      "C:\\Users\\johnw\\miniconda3\\envs\\ls_env\\lib\\site-packages\\sklearn\\decomposition\\_nmf.py:1665: ConvergenceWarning: Maximum number of iterations 200 reached. Increase it to improve convergence.\n",
      "  warnings.warn(\n"
     ]
    },
    {
     "name": "stdout",
     "output_type": "stream",
     "text": [
      "Shape: (70000, 784)\n",
      "Type: <class 'numpy.ndarray'>\n"
     ]
    }
   ],
   "source": [
    "nmf_model = NMF(n_components=784, init=\"random\", random_state=0)\n",
    "image_data_nmf = nmf_model.fit_transform(image_data)\n",
    "\n",
    "print(\"Shape:\", image_data_nmf.shape)\n",
    "print(\"Type:\", type(image_data_nmf))"
   ]
  },
  {
   "cell_type": "code",
   "execution_count": 14,
   "id": "9ae03d53-251f-40dc-9248-11591f55ebba",
   "metadata": {},
   "outputs": [
    {
     "name": "stdout",
     "output_type": "stream",
     "text": [
      "V_shape: (70000, 784)\n",
      "W_shape: (70000, 784)\n",
      "H_shape (784, 784)\n"
     ]
    }
   ],
   "source": [
    "print(\"V_shape:\", image_data.shape)\n",
    "print(\"W_shape:\", image_data_nmf.shape)\n",
    "print(\"H_shape\", nmf_model.components_.shape)"
   ]
  },
  {
   "cell_type": "code",
   "execution_count": 15,
   "id": "dfa2d3eb-f3f7-4e9e-96ca-215e7d2e335b",
   "metadata": {},
   "outputs": [
    {
     "data": {
      "text/plain": [
       "23349.67334884102"
      ]
     },
     "execution_count": 15,
     "metadata": {},
     "output_type": "execute_result"
    }
   ],
   "source": [
    "nmf_model.reconstruction_err_"
   ]
  },
  {
   "cell_type": "code",
   "execution_count": 16,
   "id": "6ef2b999-2b5f-47fd-9026-7aa9a62dba27",
   "metadata": {},
   "outputs": [
    {
     "data": {
      "image/png": "[encoded data removed]",
      "text/plain": [
       "<Figure size 675x150 with 5 Axes>"
      ]
     },
     "metadata": {},
     "output_type": "display_data"
    }
   ],
   "source": [
    "image_data_nmf_recovered = nmf_model.inverse_transform(image_data_nmf)\n",
    "\n",
    "n = 5\n",
    "plt.figure(figsize=(6.75, 1.5))\n",
    "for i in range(n):\n",
    "    ax = plt.subplot(1, n, i + 1)\n",
    "    plt.imshow(image_data_nmf_recovered[i, :].reshape(28, 28), cmap=\"binary\")\n",
    "    ax.axis(\"off\")\n",
    "\n",
    "plt.show()"
   ]
  },
  {
   "cell_type": "markdown",
   "id": "6b0eb2fb-8f3e-4a36-97e2-b61fc8711511",
   "metadata": {},
   "source": [
    "With d = 784 (all components), you will still get a reconstruction error of 23349.67 instead of zero."
   ]
  }
 ],
 "metadata": {
  "kernelspec": {
   "display_name": "Python [conda env:ls_env]",
   "language": "python",
   "name": "conda-env-ls_env-py"
  },
  "language_info": {
   "codemirror_mode": {
    "name": "ipython",
    "version": 3
   },
   "file_extension": ".py",
   "mimetype": "text/x-python",
   "name": "python",
   "nbconvert_exporter": "python",
   "pygments_lexer": "ipython3",
   "version": "3.10.8"
  }
 },
 "nbformat": 4,
 "nbformat_minor": 5
}
