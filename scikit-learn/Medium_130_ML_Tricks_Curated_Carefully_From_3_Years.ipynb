{
 "cells": [
  {
   "cell_type": "markdown",
   "id": "ebdf16e3-6120-4d74-aee0-fd9cb6cf2bc0",
   "metadata": {},
   "source": [
    "The following is from [this article](https://medium.com/towards-data-science/130-ml-tricks-and-resources-curated-carefully-from-3-years-plus-free-ebook-7832ca4a37ef) in Medium."
   ]
  },
  {
   "cell_type": "markdown",
   "id": "8fba9f21-11eb-4c91-bb6d-b71fff61ce07",
   "metadata": {},
   "source": [
    "# 1. Permutation Importance with ELI5"
   ]
  },
  {
   "cell_type": "markdown",
   "id": "1302ae79-8c53-470d-bf91-bd10ed1107b1",
   "metadata": {},
   "source": [
    "Permutation importance is one of the most reliable ways to see the important features in a model.\n",
    "\n",
    "Its advantages:\n",
    "\n",
    "1. Works on any model structure\n",
    "2. Easy to interpret and implement\n",
    "3. Consistent and reliable\n",
    "\n",
    "Permutation importance of a feature is defined as the change in model performance when that feature is randomly shuffled.\n",
    "\n",
    "PI is available through the eli5 package. Below are PI scores for an XGBoost Regressor model👇\n",
    "\n",
    "The show_weights function displays the features that hurt the model’s performance the most after being shuffled — i.e. the most important features."
   ]
  },
  {
   "cell_type": "raw",
   "id": "3e10aa40-e936-4db4-b955-1177c6b3e58a",
   "metadata": {},
   "source": [
    "import xgboost as xgb\n",
    "\n",
    "X_train, X_val, y_train, y_val = train_test_split(X, y)\n",
    "\n",
    "reg = xgb.XGBRegressor().fit(X_train, y_train)"
   ]
  },
  {
   "cell_type": "raw",
   "id": "70c569da-07bc-4350-a3ba-e8dbf0ba9390",
   "metadata": {},
   "source": [
    "import eli5\n",
    "from eli5.sklearn import PermutationImportance\n",
    "\n",
    "perm = PermutationImportance(reg).fit(X_val, y_val)\n",
    "\n",
    "eli5.show_weights(perm, feature_names=X_train.columns.tolist())"
   ]
  },
  {
   "cell_type": "markdown",
   "id": "c8c2ad3b-32c5-45c4-a598-245769e8c9cf",
   "metadata": {},
   "source": [
    "# 2. ConfusionMatrix display for better confusion matrix"
   ]
  },
  {
   "cell_type": "markdown",
   "id": "b28c4aab-6b66-4233-9915-a908a265a7a4",
   "metadata": {},
   "source": [
    "If you want much more control over how you display your confusion matrix in Sklearn, use ConfusionMatrixDisplay class.\n",
    "\n",
    "With the class, you can control how X and Y labels look, what texts they display, the colormap of the matrix, and much more.\n",
    "\n",
    "Besides, it has a from_estimator function that enables you to plot the matrix without having to generate predictions beforehand."
   ]
  },
  {
   "cell_type": "raw",
   "id": "6c6a383f-623a-48e1-bfff-a9072a6ed92b",
   "metadata": {},
   "source": [
    "from sklearn.metrics import ConfusionMatrixDisplay\n",
    "\n",
    "ConfusionMatrixDisplay.from_estimator(\n",
    "    clf,\n",
    "    X_test,\n",
    "    y_test,\n",
    "    cmap=\"inferno\",\n",
    "    display_labels=[\n",
    "        \"class_1\", \"class_2\", \"class_3\"\n",
    "    ],\n",
    ")"
   ]
  },
  {
   "cell_type": "markdown",
   "id": "50f0542c-b0ef-4303-9e45-c88f1d459298",
   "metadata": {},
   "source": [
    "# 4. Default RMSE in Sklearn"
   ]
  },
  {
   "cell_type": "markdown",
   "id": "5b84261b-e733-4b71-befc-162109e5bf94",
   "metadata": {},
   "source": [
    "I always found it strange that Room Mean Squared Error wasn’t available in Sklearn given that it was such a popular metric.\n",
    "\n",
    "Later, I found that I didn’t look long enough because it was available as a parameter inside mean_squared_error (squared=False)👇"
   ]
  },
  {
   "cell_type": "code",
   "execution_count": 1,
   "id": "a78eba0c-ebcc-4e1c-8fc0-b2745a3738d5",
   "metadata": {},
   "outputs": [],
   "source": [
    "from sklearn.metrics import mean_squared_error"
   ]
  },
  {
   "cell_type": "code",
   "execution_count": 2,
   "id": "41420672-d56b-47f7-a3c2-ae119e93664a",
   "metadata": {},
   "outputs": [
    {
     "data": {
      "text/plain": [
       "4.666666666666667"
      ]
     },
     "execution_count": 2,
     "metadata": {},
     "output_type": "execute_result"
    }
   ],
   "source": [
    "mean_squared_error([10, 10, 10], [11, 12, 13])"
   ]
  },
  {
   "cell_type": "code",
   "execution_count": 3,
   "id": "37e3205e-235d-43e7-863d-2682ee782585",
   "metadata": {},
   "outputs": [
    {
     "data": {
      "text/plain": [
       "2.160246899469287"
      ]
     },
     "execution_count": 3,
     "metadata": {},
     "output_type": "execute_result"
    }
   ],
   "source": [
    "mean_squared_error([10, 10, 10], [11, 12, 13], squared=False)"
   ]
  },
  {
   "cell_type": "markdown",
   "id": "3cd77163-bef0-42f3-b35b-6bcdde3b727d",
   "metadata": {},
   "source": [
    "# 10. Getting a scorer object from just the name"
   ]
  },
  {
   "cell_type": "markdown",
   "id": "6112a501-dc64-4294-9343-cd4d9e5f9208",
   "metadata": {},
   "source": [
    "In a single project, you may evaluate your models using multiple metrics. Instead of importing them one by one from sklearn and polluting your namespace, you can use the “get_scorer” function of the metrics module.\n",
    "\n",
    "Just pass the name of the metric you want, and you get a scorer object ready to use👇"
   ]
  },
  {
   "cell_type": "code",
   "execution_count": 4,
   "id": "901b4679-8b51-4f31-b1e1-9d877c2bb5eb",
   "metadata": {},
   "outputs": [],
   "source": [
    "from sklearn import metrics"
   ]
  },
  {
   "cell_type": "code",
   "execution_count": 5,
   "id": "4891e9c6-bd91-4dc0-87ab-535a501805bd",
   "metadata": {},
   "outputs": [
    {
     "data": {
      "text/plain": [
       "make_scorer(roc_auc_score, needs_threshold=True)"
      ]
     },
     "execution_count": 5,
     "metadata": {},
     "output_type": "execute_result"
    }
   ],
   "source": [
    "metrics.get_scorer(\"roc_auc\")"
   ]
  },
  {
   "cell_type": "code",
   "execution_count": 6,
   "id": "62ef9dc8-6bd7-4498-8869-c98eab12eb47",
   "metadata": {},
   "outputs": [
    {
     "data": {
      "text/plain": [
       "make_scorer(precision_score, average=binary)"
      ]
     },
     "execution_count": 6,
     "metadata": {},
     "output_type": "execute_result"
    }
   ],
   "source": [
    "metrics.get_scorer(\"precision\")"
   ]
  },
  {
   "cell_type": "code",
   "execution_count": 7,
   "id": "07e26eec-e8de-4c30-8c58-2d63d5cedf2d",
   "metadata": {},
   "outputs": [
    {
     "data": {
      "text/plain": [
       "make_scorer(r2_score)"
      ]
     },
     "execution_count": 7,
     "metadata": {},
     "output_type": "execute_result"
    }
   ],
   "source": [
    "metrics.get_scorer(\"r2\")"
   ]
  },
  {
   "cell_type": "markdown",
   "id": "2fec9e19-50a7-4c11-8253-c4db22dcc272",
   "metadata": {},
   "source": [
    "# 14. Get all scorer’s names in Sklearn"
   ]
  },
  {
   "cell_type": "markdown",
   "id": "d4c1f0ac-8548-40ea-a9c7-c1d2fd655423",
   "metadata": {},
   "source": [
    "Sklearn has over 50 metrics to evaluate the performance of its models. To pass those metrics inside pipelines or GridSearch instances, you have to remember their text names.\n",
    "\n",
    "If you forget any of them, here is how you can print out the names of all the metrics👇"
   ]
  },
  {
   "cell_type": "code",
   "execution_count": 8,
   "id": "bc33e23e-70c7-4c0c-8769-0fe0e49da4f5",
   "metadata": {},
   "outputs": [],
   "source": [
    "from sklearn import metrics"
   ]
  },
  {
   "cell_type": "code",
   "execution_count": 9,
   "id": "698c553c-e824-423e-a8ec-8b14c4df3d8d",
   "metadata": {},
   "outputs": [],
   "source": [
    "scorers = list(metrics.SCORERS.keys())"
   ]
  },
  {
   "cell_type": "code",
   "execution_count": 10,
   "id": "e48408a6-36e0-4ced-9ad1-ca07f3c7b8ee",
   "metadata": {},
   "outputs": [
    {
     "data": {
      "text/plain": [
       "54"
      ]
     },
     "execution_count": 10,
     "metadata": {},
     "output_type": "execute_result"
    }
   ],
   "source": [
    "len(scorers)"
   ]
  },
  {
   "cell_type": "code",
   "execution_count": 11,
   "id": "0fcc660c-7c9d-4257-a932-497cabe6b12c",
   "metadata": {},
   "outputs": [
    {
     "data": {
      "text/plain": [
       "['explained_variance',\n",
       " 'r2',\n",
       " 'max_error',\n",
       " 'matthews_corrcoef',\n",
       " 'neg_median_absolute_error',\n",
       " 'neg_mean_absolute_error',\n",
       " 'neg_mean_absolute_percentage_error',\n",
       " 'neg_mean_squared_error',\n",
       " 'neg_mean_squared_log_error',\n",
       " 'neg_root_mean_squared_error']"
      ]
     },
     "execution_count": 11,
     "metadata": {},
     "output_type": "execute_result"
    }
   ],
   "source": [
    "scorers[:10]"
   ]
  },
  {
   "cell_type": "markdown",
   "id": "d9ccc684-e2de-431a-bd26-82fee2da51b7",
   "metadata": {},
   "source": [
    "# 22. The difference between two time series dates"
   ]
  },
  {
   "cell_type": "markdown",
   "id": "f3700ada-03c4-41cc-bbde-261f8b3f6656",
   "metadata": {},
   "source": [
    "How do you find the difference between the dates of two time series?\n",
    "\n",
    "As long as they have the same format, you can use the difference method of Pandas DateTimeIndex objects.\n",
    "\n",
    "Below, we create two time series: one for a full year and one for only business days. The rest is fairly easy👇"
   ]
  },
  {
   "cell_type": "code",
   "execution_count": 12,
   "id": "442347fd-d042-477e-9eab-4e5b963b271d",
   "metadata": {},
   "outputs": [],
   "source": [
    "import pandas as pd"
   ]
  },
  {
   "cell_type": "code",
   "execution_count": 13,
   "id": "a1d62d11-f55e-4639-a225-8866698eb4c2",
   "metadata": {},
   "outputs": [],
   "source": [
    "# Regular days\n",
    "ts1 = pd.date_range(start=\"2022-01-01\", end=\"2022-12-31\")"
   ]
  },
  {
   "cell_type": "code",
   "execution_count": 14,
   "id": "7a9320c3-57ee-4238-8e9a-320f90a16410",
   "metadata": {},
   "outputs": [],
   "source": [
    "# Business days\n",
    "ts2 = pd.bdate_range(start=\"2022-01-01\", end=\"2022-12-31\")"
   ]
  },
  {
   "cell_type": "code",
   "execution_count": 15,
   "id": "e0906b9f-77af-46d6-bbeb-aa2dad84b01b",
   "metadata": {},
   "outputs": [],
   "source": [
    "difference = ts1.difference(ts2)"
   ]
  },
  {
   "cell_type": "code",
   "execution_count": 16,
   "id": "c670fc60-9938-47f5-bf06-bd408e9c4f15",
   "metadata": {},
   "outputs": [
    {
     "data": {
      "text/plain": [
       "105"
      ]
     },
     "execution_count": 16,
     "metadata": {},
     "output_type": "execute_result"
    }
   ],
   "source": [
    "len(difference)"
   ]
  },
  {
   "cell_type": "code",
   "execution_count": 17,
   "id": "584ce47b-57e2-4b2d-bbc2-d4e3128e5ac1",
   "metadata": {},
   "outputs": [
    {
     "data": {
      "text/plain": [
       "DatetimeIndex(['2022-01-01', '2022-01-02', '2022-01-08', '2022-01-09',\n",
       "               '2022-01-15', '2022-01-16', '2022-01-22', '2022-01-23',\n",
       "               '2022-01-29', '2022-01-30',\n",
       "               ...\n",
       "               '2022-11-27', '2022-12-03', '2022-12-04', '2022-12-10',\n",
       "               '2022-12-11', '2022-12-17', '2022-12-18', '2022-12-24',\n",
       "               '2022-12-25', '2022-12-31'],\n",
       "              dtype='datetime64[ns]', length=105, freq=None)"
      ]
     },
     "execution_count": 17,
     "metadata": {},
     "output_type": "execute_result"
    }
   ],
   "source": [
    "difference"
   ]
  },
  {
   "cell_type": "markdown",
   "id": "f700ea2e-b8a3-47bf-99b9-e7e30ff5de2a",
   "metadata": {},
   "source": [
    "# 31. Chaining multiple Pandas functions with Pandas pipe"
   ]
  },
  {
   "cell_type": "markdown",
   "id": "f0b67e95-526e-4644-aa29-992e6a259708",
   "metadata": {},
   "source": [
    "Pandas has a similar “pipeline” feature like in Sklearn. By chaining multiple “pipe” functions together, you can call multiple preprocessing functions in a single line of code. Makes your code much more readable and easier to debug."
   ]
  },
  {
   "cell_type": "code",
   "execution_count": 18,
   "id": "b90b9b03-f89a-4d2b-9b9c-5f5f14a61065",
   "metadata": {},
   "outputs": [],
   "source": [
    "def explode(df, column):\n",
    "    df = df.explode(column=column)\n",
    "    return df\n",
    "\n",
    "\n",
    "def fill_na(df, value):\n",
    "    df = df.fillna(value)\n",
    "    return df\n",
    "\n",
    "\n",
    "def encode(df):\n",
    "    df = pd.get_dummies(df)\n",
    "    return df"
   ]
  },
  {
   "cell_type": "raw",
   "id": "99885764-4a41-4500-befd-8502c7588eec",
   "metadata": {},
   "source": [
    "df.pipe(explode, column=\"A\") \\\n",
    "  .pipe(explode, column=\"C\") \\\n",
    "  .pipe(fill_na, -9999) \\\n",
    "  .pipe(encode)"
   ]
  },
  {
   "cell_type": "markdown",
   "id": "c34342f4-e46f-4da8-9e19-985c5a59cb50",
   "metadata": {},
   "source": [
    "# 33. Format dates in Matplotlib plots"
   ]
  },
  {
   "cell_type": "markdown",
   "id": "a6e7867c-3815-49cc-85f8-8b2854852bc8",
   "metadata": {},
   "source": [
    "Did it ever happen to you when you visualized a time series, the dates on the XAxis got smooshed together making them illegible? You can avoid that by calling the “`autofmt_xdate()`” function on the figure object to automatically format date labels in Matplotlib."
   ]
  },
  {
   "cell_type": "raw",
   "id": "cb2ca000-b1f0-40be-a167-44d9d406dd16",
   "metadata": {},
   "source": [
    "df = pd.read_csv(\"data.csv\", index_col=\"date\", parse_dates=[\"date\"])\n",
    "sample = df[\"1949\":\"1955\"]\n",
    "\n",
    "sample[\"beef\"].plot()\n",
    "\n",
    "fig = plt.gcf()\n",
    "fig.autofmt_xdate()"
   ]
  },
  {
   "cell_type": "markdown",
   "id": "71a17a49-cb4e-4da2-8b26-cb1afee141e7",
   "metadata": {},
   "source": [
    "# 38. Mlextend — plot decision boundaries of classifiers"
   ]
  },
  {
   "cell_type": "markdown",
   "id": "5c2330fb-0f4f-47bc-9cfa-963d55c2287e",
   "metadata": {},
   "source": [
    "One of the most fun things you can do with your classifier is plot its decision boundaries. But, you will quickly realize that the code to generate such a plot is, put mildly, a giant pain in the keyboard.\n",
    "\n",
    "Fortunately, the mlextend package collapses all that code into a function, so that you can draw decision boundaries of any classifier in a single line of code👇"
   ]
  },
  {
   "cell_type": "raw",
   "id": "e6338841-d7e0-49fc-9a24-8a16a542b7ac",
   "metadata": {},
   "source": [
    "from mlxtend.plotting import plot_decision_regions\n",
    "\n",
    "iris = datasets.load_iris()\n",
    "X = iris.data[:, [0, 1]]\n",
    "y = iris.target\n",
    "\n",
    "clf = LogisticRegression().fit(X, y)\n",
    "\n",
    "plot_decision_regions(X, y, clf=clf, legend=2)"
   ]
  },
  {
   "cell_type": "markdown",
   "id": "a2687917-0e43-4bc1-acc8-670e65313fc5",
   "metadata": {},
   "source": [
    "# 39. Displaying ROC Curve without generating predictions"
   ]
  },
  {
   "cell_type": "markdown",
   "id": "8918070d-9c87-4251-a84f-76d5ba23739c",
   "metadata": {},
   "source": [
    "Can you spell out ROC curve without looking it up? If yes, don’t flatter yourself, because many people can😁.\n",
    "\n",
    "But not a lot of people know that you can draw the ROC curve without even generating predictions. Just use the RocCurveDisplay class and its from_estimator method👇"
   ]
  },
  {
   "cell_type": "raw",
   "id": "196d64ba-2cfd-4fc9-ab21-430df37a3df3",
   "metadata": {},
   "source": [
    "from sklearn.metrics import RocCurveDisplay\n",
    "\n",
    "clf = LogisticRegression().fit(X_train, y_train)\n",
    "\n",
    "RocCurveDisplay.from_estimator(clf, X_val, y_val, color=\"red\")"
   ]
  },
  {
   "cell_type": "markdown",
   "id": "caae56f9-7e9f-4569-a9ed-b98fb80bbedf",
   "metadata": {},
   "source": [
    "# 46. Filtering by partial date components"
   ]
  },
  {
   "cell_type": "markdown",
   "id": "e7041867-2eb2-4bb7-93c8-82aa66c05b06",
   "metadata": {},
   "source": [
    "If you have a DateTimeIndex in your Pandas dataframes, you can filter it by partial date components.\n",
    "\n",
    "For example, from 1995 to 1997, from the 5th month of 1995 to the end of 2000, from the beginning of 2015 to the 17th of July of 2018, etc.\n",
    "\n",
    "And these all work regardless of the time series index granularity — all courtesy of Pandas."
   ]
  },
  {
   "cell_type": "code",
   "execution_count": 19,
   "id": "a59921fb-66be-412d-8962-f73728f046d4",
   "metadata": {},
   "outputs": [],
   "source": [
    "df = pd.DataFrame()\n",
    "\n",
    "df[\"date\"] = pd.date_range(start=\"2022-01-01\", end=\"2025-12-31\")\n",
    "df[\"fake_data\"] = 1\n",
    "df.set_index(\"date\", inplace=True)"
   ]
  },
  {
   "cell_type": "code",
   "execution_count": 20,
   "id": "798f8c24-8313-4a0e-90ca-a6c4741120d7",
   "metadata": {},
   "outputs": [
    {
     "data": {
      "text/html": [
       "<div>\n",
       "<style scoped>\n",
       "    .dataframe tbody tr th:only-of-type {\n",
       "        vertical-align: middle;\n",
       "    }\n",
       "\n",
       "    .dataframe tbody tr th {\n",
       "        vertical-align: top;\n",
       "    }\n",
       "\n",
       "    .dataframe thead th {\n",
       "        text-align: right;\n",
       "    }\n",
       "</style>\n",
       "<table border=\"1\" class=\"dataframe\">\n",
       "  <thead>\n",
       "    <tr style=\"text-align: right;\">\n",
       "      <th></th>\n",
       "      <th>fake_data</th>\n",
       "    </tr>\n",
       "    <tr>\n",
       "      <th>date</th>\n",
       "      <th></th>\n",
       "    </tr>\n",
       "  </thead>\n",
       "  <tbody>\n",
       "    <tr>\n",
       "      <th>2022-01-01</th>\n",
       "      <td>1</td>\n",
       "    </tr>\n",
       "    <tr>\n",
       "      <th>2022-01-02</th>\n",
       "      <td>1</td>\n",
       "    </tr>\n",
       "    <tr>\n",
       "      <th>2022-01-03</th>\n",
       "      <td>1</td>\n",
       "    </tr>\n",
       "    <tr>\n",
       "      <th>2022-01-04</th>\n",
       "      <td>1</td>\n",
       "    </tr>\n",
       "    <tr>\n",
       "      <th>2022-01-05</th>\n",
       "      <td>1</td>\n",
       "    </tr>\n",
       "    <tr>\n",
       "      <th>...</th>\n",
       "      <td>...</td>\n",
       "    </tr>\n",
       "    <tr>\n",
       "      <th>2025-12-27</th>\n",
       "      <td>1</td>\n",
       "    </tr>\n",
       "    <tr>\n",
       "      <th>2025-12-28</th>\n",
       "      <td>1</td>\n",
       "    </tr>\n",
       "    <tr>\n",
       "      <th>2025-12-29</th>\n",
       "      <td>1</td>\n",
       "    </tr>\n",
       "    <tr>\n",
       "      <th>2025-12-30</th>\n",
       "      <td>1</td>\n",
       "    </tr>\n",
       "    <tr>\n",
       "      <th>2025-12-31</th>\n",
       "      <td>1</td>\n",
       "    </tr>\n",
       "  </tbody>\n",
       "</table>\n",
       "<p>1461 rows × 1 columns</p>\n",
       "</div>"
      ],
      "text/plain": [
       "            fake_data\n",
       "date                 \n",
       "2022-01-01          1\n",
       "2022-01-02          1\n",
       "2022-01-03          1\n",
       "2022-01-04          1\n",
       "2022-01-05          1\n",
       "...               ...\n",
       "2025-12-27          1\n",
       "2025-12-28          1\n",
       "2025-12-29          1\n",
       "2025-12-30          1\n",
       "2025-12-31          1\n",
       "\n",
       "[1461 rows x 1 columns]"
      ]
     },
     "execution_count": 20,
     "metadata": {},
     "output_type": "execute_result"
    }
   ],
   "source": [
    "df"
   ]
  },
  {
   "cell_type": "code",
   "execution_count": 21,
   "id": "504c5f99-6a4d-43bb-979a-bbe4da7e4794",
   "metadata": {},
   "outputs": [
    {
     "data": {
      "text/html": [
       "<div>\n",
       "<style scoped>\n",
       "    .dataframe tbody tr th:only-of-type {\n",
       "        vertical-align: middle;\n",
       "    }\n",
       "\n",
       "    .dataframe tbody tr th {\n",
       "        vertical-align: top;\n",
       "    }\n",
       "\n",
       "    .dataframe thead th {\n",
       "        text-align: right;\n",
       "    }\n",
       "</style>\n",
       "<table border=\"1\" class=\"dataframe\">\n",
       "  <thead>\n",
       "    <tr style=\"text-align: right;\">\n",
       "      <th></th>\n",
       "      <th>fake_data</th>\n",
       "    </tr>\n",
       "    <tr>\n",
       "      <th>date</th>\n",
       "      <th></th>\n",
       "    </tr>\n",
       "  </thead>\n",
       "  <tbody>\n",
       "    <tr>\n",
       "      <th>2022-01-01</th>\n",
       "      <td>1</td>\n",
       "    </tr>\n",
       "    <tr>\n",
       "      <th>2022-01-02</th>\n",
       "      <td>1</td>\n",
       "    </tr>\n",
       "    <tr>\n",
       "      <th>2022-01-03</th>\n",
       "      <td>1</td>\n",
       "    </tr>\n",
       "    <tr>\n",
       "      <th>2022-01-04</th>\n",
       "      <td>1</td>\n",
       "    </tr>\n",
       "    <tr>\n",
       "      <th>2022-01-05</th>\n",
       "      <td>1</td>\n",
       "    </tr>\n",
       "    <tr>\n",
       "      <th>...</th>\n",
       "      <td>...</td>\n",
       "    </tr>\n",
       "    <tr>\n",
       "      <th>2023-12-27</th>\n",
       "      <td>1</td>\n",
       "    </tr>\n",
       "    <tr>\n",
       "      <th>2023-12-28</th>\n",
       "      <td>1</td>\n",
       "    </tr>\n",
       "    <tr>\n",
       "      <th>2023-12-29</th>\n",
       "      <td>1</td>\n",
       "    </tr>\n",
       "    <tr>\n",
       "      <th>2023-12-30</th>\n",
       "      <td>1</td>\n",
       "    </tr>\n",
       "    <tr>\n",
       "      <th>2023-12-31</th>\n",
       "      <td>1</td>\n",
       "    </tr>\n",
       "  </tbody>\n",
       "</table>\n",
       "<p>730 rows × 1 columns</p>\n",
       "</div>"
      ],
      "text/plain": [
       "            fake_data\n",
       "date                 \n",
       "2022-01-01          1\n",
       "2022-01-02          1\n",
       "2022-01-03          1\n",
       "2022-01-04          1\n",
       "2022-01-05          1\n",
       "...               ...\n",
       "2023-12-27          1\n",
       "2023-12-28          1\n",
       "2023-12-29          1\n",
       "2023-12-30          1\n",
       "2023-12-31          1\n",
       "\n",
       "[730 rows x 1 columns]"
      ]
     },
     "execution_count": 21,
     "metadata": {},
     "output_type": "execute_result"
    }
   ],
   "source": [
    "df[\"2022\":\"2023\"]"
   ]
  },
  {
   "cell_type": "code",
   "execution_count": 22,
   "id": "51ba2f76-29be-4fe7-a4d9-c15bc599a383",
   "metadata": {},
   "outputs": [
    {
     "data": {
      "text/html": [
       "<div>\n",
       "<style scoped>\n",
       "    .dataframe tbody tr th:only-of-type {\n",
       "        vertical-align: middle;\n",
       "    }\n",
       "\n",
       "    .dataframe tbody tr th {\n",
       "        vertical-align: top;\n",
       "    }\n",
       "\n",
       "    .dataframe thead th {\n",
       "        text-align: right;\n",
       "    }\n",
       "</style>\n",
       "<table border=\"1\" class=\"dataframe\">\n",
       "  <thead>\n",
       "    <tr style=\"text-align: right;\">\n",
       "      <th></th>\n",
       "      <th>fake_data</th>\n",
       "    </tr>\n",
       "    <tr>\n",
       "      <th>date</th>\n",
       "      <th></th>\n",
       "    </tr>\n",
       "  </thead>\n",
       "  <tbody>\n",
       "    <tr>\n",
       "      <th>2022-01-01</th>\n",
       "      <td>1</td>\n",
       "    </tr>\n",
       "    <tr>\n",
       "      <th>2022-01-02</th>\n",
       "      <td>1</td>\n",
       "    </tr>\n",
       "    <tr>\n",
       "      <th>2022-01-03</th>\n",
       "      <td>1</td>\n",
       "    </tr>\n",
       "    <tr>\n",
       "      <th>2022-01-04</th>\n",
       "      <td>1</td>\n",
       "    </tr>\n",
       "    <tr>\n",
       "      <th>2022-01-05</th>\n",
       "      <td>1</td>\n",
       "    </tr>\n",
       "    <tr>\n",
       "      <th>...</th>\n",
       "      <td>...</td>\n",
       "    </tr>\n",
       "    <tr>\n",
       "      <th>2022-05-27</th>\n",
       "      <td>1</td>\n",
       "    </tr>\n",
       "    <tr>\n",
       "      <th>2022-05-28</th>\n",
       "      <td>1</td>\n",
       "    </tr>\n",
       "    <tr>\n",
       "      <th>2022-05-29</th>\n",
       "      <td>1</td>\n",
       "    </tr>\n",
       "    <tr>\n",
       "      <th>2022-05-30</th>\n",
       "      <td>1</td>\n",
       "    </tr>\n",
       "    <tr>\n",
       "      <th>2022-05-31</th>\n",
       "      <td>1</td>\n",
       "    </tr>\n",
       "  </tbody>\n",
       "</table>\n",
       "<p>151 rows × 1 columns</p>\n",
       "</div>"
      ],
      "text/plain": [
       "            fake_data\n",
       "date                 \n",
       "2022-01-01          1\n",
       "2022-01-02          1\n",
       "2022-01-03          1\n",
       "2022-01-04          1\n",
       "2022-01-05          1\n",
       "...               ...\n",
       "2022-05-27          1\n",
       "2022-05-28          1\n",
       "2022-05-29          1\n",
       "2022-05-30          1\n",
       "2022-05-31          1\n",
       "\n",
       "[151 rows x 1 columns]"
      ]
     },
     "execution_count": 22,
     "metadata": {},
     "output_type": "execute_result"
    }
   ],
   "source": [
    "df[\"2022-01\":\"2022-05\"]"
   ]
  },
  {
   "cell_type": "code",
   "execution_count": 23,
   "id": "494150fc-d029-4f79-a5cc-c4a1f26de395",
   "metadata": {},
   "outputs": [
    {
     "data": {
      "text/html": [
       "<div>\n",
       "<style scoped>\n",
       "    .dataframe tbody tr th:only-of-type {\n",
       "        vertical-align: middle;\n",
       "    }\n",
       "\n",
       "    .dataframe tbody tr th {\n",
       "        vertical-align: top;\n",
       "    }\n",
       "\n",
       "    .dataframe thead th {\n",
       "        text-align: right;\n",
       "    }\n",
       "</style>\n",
       "<table border=\"1\" class=\"dataframe\">\n",
       "  <thead>\n",
       "    <tr style=\"text-align: right;\">\n",
       "      <th></th>\n",
       "      <th>fake_data</th>\n",
       "    </tr>\n",
       "    <tr>\n",
       "      <th>date</th>\n",
       "      <th></th>\n",
       "    </tr>\n",
       "  </thead>\n",
       "  <tbody>\n",
       "    <tr>\n",
       "      <th>2022-11-01</th>\n",
       "      <td>1</td>\n",
       "    </tr>\n",
       "    <tr>\n",
       "      <th>2022-11-02</th>\n",
       "      <td>1</td>\n",
       "    </tr>\n",
       "    <tr>\n",
       "      <th>2022-11-03</th>\n",
       "      <td>1</td>\n",
       "    </tr>\n",
       "    <tr>\n",
       "      <th>2022-11-04</th>\n",
       "      <td>1</td>\n",
       "    </tr>\n",
       "    <tr>\n",
       "      <th>2022-11-05</th>\n",
       "      <td>1</td>\n",
       "    </tr>\n",
       "    <tr>\n",
       "      <th>...</th>\n",
       "      <td>...</td>\n",
       "    </tr>\n",
       "    <tr>\n",
       "      <th>2022-12-27</th>\n",
       "      <td>1</td>\n",
       "    </tr>\n",
       "    <tr>\n",
       "      <th>2022-12-28</th>\n",
       "      <td>1</td>\n",
       "    </tr>\n",
       "    <tr>\n",
       "      <th>2022-12-29</th>\n",
       "      <td>1</td>\n",
       "    </tr>\n",
       "    <tr>\n",
       "      <th>2022-12-30</th>\n",
       "      <td>1</td>\n",
       "    </tr>\n",
       "    <tr>\n",
       "      <th>2022-12-31</th>\n",
       "      <td>1</td>\n",
       "    </tr>\n",
       "  </tbody>\n",
       "</table>\n",
       "<p>61 rows × 1 columns</p>\n",
       "</div>"
      ],
      "text/plain": [
       "            fake_data\n",
       "date                 \n",
       "2022-11-01          1\n",
       "2022-11-02          1\n",
       "2022-11-03          1\n",
       "2022-11-04          1\n",
       "2022-11-05          1\n",
       "...               ...\n",
       "2022-12-27          1\n",
       "2022-12-28          1\n",
       "2022-12-29          1\n",
       "2022-12-30          1\n",
       "2022-12-31          1\n",
       "\n",
       "[61 rows x 1 columns]"
      ]
     },
     "execution_count": 23,
     "metadata": {},
     "output_type": "execute_result"
    }
   ],
   "source": [
    "df[\"2022-11\":\"2022\"]"
   ]
  },
  {
   "cell_type": "code",
   "execution_count": 24,
   "id": "945f26e6-6cd8-4cb0-b969-7929580bf937",
   "metadata": {},
   "outputs": [
    {
     "data": {
      "text/html": [
       "<div>\n",
       "<style scoped>\n",
       "    .dataframe tbody tr th:only-of-type {\n",
       "        vertical-align: middle;\n",
       "    }\n",
       "\n",
       "    .dataframe tbody tr th {\n",
       "        vertical-align: top;\n",
       "    }\n",
       "\n",
       "    .dataframe thead th {\n",
       "        text-align: right;\n",
       "    }\n",
       "</style>\n",
       "<table border=\"1\" class=\"dataframe\">\n",
       "  <thead>\n",
       "    <tr style=\"text-align: right;\">\n",
       "      <th></th>\n",
       "      <th>fake_data</th>\n",
       "    </tr>\n",
       "    <tr>\n",
       "      <th>date</th>\n",
       "      <th></th>\n",
       "    </tr>\n",
       "  </thead>\n",
       "  <tbody>\n",
       "    <tr>\n",
       "      <th>2022-01-01</th>\n",
       "      <td>1</td>\n",
       "    </tr>\n",
       "    <tr>\n",
       "      <th>2022-01-02</th>\n",
       "      <td>1</td>\n",
       "    </tr>\n",
       "    <tr>\n",
       "      <th>2022-01-03</th>\n",
       "      <td>1</td>\n",
       "    </tr>\n",
       "    <tr>\n",
       "      <th>2022-01-04</th>\n",
       "      <td>1</td>\n",
       "    </tr>\n",
       "    <tr>\n",
       "      <th>2022-01-05</th>\n",
       "      <td>1</td>\n",
       "    </tr>\n",
       "  </tbody>\n",
       "</table>\n",
       "</div>"
      ],
      "text/plain": [
       "            fake_data\n",
       "date                 \n",
       "2022-01-01          1\n",
       "2022-01-02          1\n",
       "2022-01-03          1\n",
       "2022-01-04          1\n",
       "2022-01-05          1"
      ]
     },
     "execution_count": 24,
     "metadata": {},
     "output_type": "execute_result"
    }
   ],
   "source": [
    "df[\"2022\":\"2022-01-05\"]"
   ]
  },
  {
   "cell_type": "markdown",
   "id": "00ee49a3-268a-49d1-85b7-40be346b108c",
   "metadata": {},
   "source": [
    "# 47. Displaying Precision/Recall curve without generating predictions"
   ]
  },
  {
   "cell_type": "markdown",
   "id": "930f5a54-3df5-4fdb-b242-23da3437ff29",
   "metadata": {},
   "source": [
    "The area under the Precision/Recall curve is one of the best metrics to evaluate the performance of models in imbalanced classification problems.\n",
    "\n",
    "Precision measures the percentage of true predictions (true positives / (true positives + false positives)).\n",
    "\n",
    "Recall is the same as sensitivity (true positives / (true positives + false negatives)).\n",
    "\n",
    "In an imbalanced problem, we are interested in correctly classifying as much of the minority class (positive class or 1) as possible — i.e. true positives. As both the above metrics focus on true positives and don’t care about correctly classifying the majority class (true negatives), they are one of the best metrics in this context.\n",
    "\n",
    "By varying the decision threshold of the classifier and plotting precision and recall for each threshold, we get a Precision/Recall curve.\n",
    "\n",
    "A perfect classifier for an imbalanced problem would have an area of 1.\n",
    "\n",
    "Below is how you can plot the curve in the easiest way possible in Sklearn👇"
   ]
  },
  {
   "cell_type": "raw",
   "id": "55588f5f-e12a-4bad-9350-156e0041c394",
   "metadata": {},
   "source": [
    "from sklearn.metrics import PrecisionRecallDisplay\n",
    "\n",
    "X_train, X_val, y_train, y_val = train_test_split(X, y)\n",
    "\n",
    "clf = LogisticRegression().fit(X, y)\n",
    "\n",
    "PrecisionRecallDisplay.from_estimator(clf, X_val, y_val, color=\"red\")"
   ]
  },
  {
   "cell_type": "markdown",
   "id": "ee64d1be-ca1c-45c4-b2ed-43c8ace46674",
   "metadata": {},
   "source": [
    "55. Decomposing time series into trend, seasonality, and residuals"
   ]
  },
  {
   "cell_type": "markdown",
   "id": "d35b35a1-b9fd-4d4d-8c7d-50b3521a428b",
   "metadata": {},
   "source": [
    "Time series has three core components — seasonality, trend, and noise (residuals).\n",
    "\n",
    "These components aren’t easily discernible by looking at the plot of the series itself. So, we often use decomposition to isolate each of these components.\n",
    "\n",
    "Seasonality lets you see repeating patterns over the time period of the series.\n",
    "\n",
    "Trend shows you the general upwards or downwards progress of the time series from the beginning of its earliest date to the latest.\n",
    "\n",
    "Anything left out from these two components is noise.\n",
    "\n",
    "You can use statsmodels’ tsa_decompose function to perform this operation and plot the results. The first subplot displays the series itself while the rest shows the individual components.\n",
    "\n",
    "You can learn more about time series decomposition in my separate artilce on the topic."
   ]
  },
  {
   "cell_type": "raw",
   "id": "b8968c87-d2be-4647-a61f-767ea28fb68c",
   "metadata": {},
   "source": [
    "import statsmodel.api as sm\n",
    "from matplotlib import rcParams\n",
    "\n",
    "rcParams[\"figure.figsize\"] = 16, 8\n",
    "\n",
    "decomposition = sm.tsa.seasonal_decompose(df[\"beef\"])\n",
    "\n",
    "decomposition.plot();"
   ]
  },
  {
   "cell_type": "markdown",
   "id": "b982f38f-a97c-4cab-becf-b00cbf8e0ce4",
   "metadata": {},
   "source": [
    "# 61. Encoding rare labels with RareLabelEncoder"
   ]
  },
  {
   "cell_type": "markdown",
   "id": "d98ab55c-fb3f-4632-815c-da0e493a9e24",
   "metadata": {},
   "source": [
    "Often, when a categorical variable has a high cardinality (too many categories), many of the categories represent only a tiny proportion of the total.\n",
    "\n",
    "Having too many classes with very few samples is noise. For ML models to generalize well for all classes, each class must have enough samples.\n",
    "\n",
    "One solution to the problem is to group rare categories into a single category called “rare” or “other”. The “rarity” can be chosen by selecting a proportion threshold.\n",
    "\n",
    "You can do this manually in Python but there is a better way. Using the feature-engine library, you can perform the operation using a Sklearn-like transformer.\n",
    "\n",
    "Useful parameters of RareLabelEncoder:\n",
    "\n",
    "tol: threshold\n",
    "replace_with: custom text to replace rare categories\n",
    "ignore_format: when True, the transformer will work on numerically-encoded features as well. By default, it only works on Pandas “other” or “category” data types.\n",
    "\n",
    "RareLabelEncoder: https://bit.ly/3vfjNkv"
   ]
  },
  {
   "cell_type": "raw",
   "id": "9c2d818e-eec1-4753-bd80-7cb52b5740ea",
   "metadata": {},
   "source": [
    "from feature_engine.encoding import RareLabelEncoder\n",
    "\n",
    "encoder = RareLabelEncoder(tol=0.05, replace_with=\"other\")\n",
    "\n",
    "X_transformed = encoder.fit_transform(X)"
   ]
  },
  {
   "cell_type": "markdown",
   "id": "20be390c-d941-4be2-80fb-4d0477b1ad93",
   "metadata": {},
   "source": [
    "# 76. Voting classifier/regressor"
   ]
  },
  {
   "cell_type": "markdown",
   "id": "7c00ed28-0652-451b-b8e6-7cc8aec38dde",
   "metadata": {},
   "source": [
    "How to reach democracy in machine learning? By using a voting ensemble!\n",
    "\n",
    "Max voting is a common ensembling technique that uses the majority of vote to label new classification samples. If we have three models with the following predictions in a binary classification problem:\n",
    "\n",
    "- Model 1 -> class 1\n",
    "- Model 2 -> class 2\n",
    "- Model 3 -> class 1\n",
    "\n",
    "The final prediction would be class 1. VotingClassifier of Sklearn can be used to build such an ensemble.\n",
    "\n",
    "It takes a list of individual classifiers and ensembles them with the max voting technique when its “voting” parameter is set to “hard”. When it is set to “soft”, the ensemble uses predicted class probabilities and averages them and thresholds the result.\n",
    "\n",
    "VotingRegressor is the same as VotingClassifier when its “voting” is set to “soft” and works for regression."
   ]
  },
  {
   "cell_type": "code",
   "execution_count": 25,
   "id": "d7c70bda-9586-44b8-b415-d5b6fb14330e",
   "metadata": {},
   "outputs": [],
   "source": [
    "from sklearn.ensemble import VotingClassifier\n",
    "from sklearn.datasets import make_classification\n",
    "from sklearn.tree import DecisionTreeClassifier, ExtraTreeClassifier\n",
    "from sklearn.linear_model import LogisticRegression"
   ]
  },
  {
   "cell_type": "code",
   "execution_count": 26,
   "id": "2d331916-12a6-4001-9a0b-8e17ba773f97",
   "metadata": {},
   "outputs": [],
   "source": [
    "X, y = make_classification(n_samples=1000, n_features=5)"
   ]
  },
  {
   "cell_type": "code",
   "execution_count": 27,
   "id": "292b666c-1741-4116-a09f-5e622c51f7f7",
   "metadata": {},
   "outputs": [],
   "source": [
    "estimators = [\n",
    "    (\"dtree\", DecisionTreeClassifier()),\n",
    "    (\"etree\", ExtraTreeClassifier()),\n",
    "    (\"log_reg\", LogisticRegression()),\n",
    "]"
   ]
  },
  {
   "cell_type": "code",
   "execution_count": 28,
   "id": "554beb69-8a96-49d3-a5c0-ca5be9287008",
   "metadata": {},
   "outputs": [],
   "source": [
    "ensemble = VotingClassifier(\n",
    "    estimators=estimators, voting=\"soft\", n_jobs=-1\n",
    ")"
   ]
  },
  {
   "cell_type": "code",
   "execution_count": 29,
   "id": "c66b9e21-e2cf-483e-a43e-31f12ae73c25",
   "metadata": {},
   "outputs": [
    {
     "data": {
      "text/html": [
       "<style>#sk-container-id-1 {color: black;background-color: white;}#sk-container-id-1 pre{padding: 0;}#sk-container-id-1 div.sk-toggleable {background-color: white;}#sk-container-id-1 label.sk-toggleable__label {cursor: pointer;display: block;width: 100%;margin-bottom: 0;padding: 0.3em;box-sizing: border-box;text-align: center;}#sk-container-id-1 label.sk-toggleable__label-arrow:before {content: \"▸\";float: left;margin-right: 0.25em;color: #696969;}#sk-container-id-1 label.sk-toggleable__label-arrow:hover:before {color: black;}#sk-container-id-1 div.sk-estimator:hover label.sk-toggleable__label-arrow:before {color: black;}#sk-container-id-1 div.sk-toggleable__content {max-height: 0;max-width: 0;overflow: hidden;text-align: left;background-color: #f0f8ff;}#sk-container-id-1 div.sk-toggleable__content pre {margin: 0.2em;color: black;border-radius: 0.25em;background-color: #f0f8ff;}#sk-container-id-1 input.sk-toggleable__control:checked~div.sk-toggleable__content {max-height: 200px;max-width: 100%;overflow: auto;}#sk-container-id-1 input.sk-toggleable__control:checked~label.sk-toggleable__label-arrow:before {content: \"▾\";}#sk-container-id-1 div.sk-estimator input.sk-toggleable__control:checked~label.sk-toggleable__label {background-color: #d4ebff;}#sk-container-id-1 div.sk-label input.sk-toggleable__control:checked~label.sk-toggleable__label {background-color: #d4ebff;}#sk-container-id-1 input.sk-hidden--visually {border: 0;clip: rect(1px 1px 1px 1px);clip: rect(1px, 1px, 1px, 1px);height: 1px;margin: -1px;overflow: hidden;padding: 0;position: absolute;width: 1px;}#sk-container-id-1 div.sk-estimator {font-family: monospace;background-color: #f0f8ff;border: 1px dotted black;border-radius: 0.25em;box-sizing: border-box;margin-bottom: 0.5em;}#sk-container-id-1 div.sk-estimator:hover {background-color: #d4ebff;}#sk-container-id-1 div.sk-parallel-item::after {content: \"\";width: 100%;border-bottom: 1px solid gray;flex-grow: 1;}#sk-container-id-1 div.sk-label:hover label.sk-toggleable__label {background-color: #d4ebff;}#sk-container-id-1 div.sk-serial::before {content: \"\";position: absolute;border-left: 1px solid gray;box-sizing: border-box;top: 0;bottom: 0;left: 50%;z-index: 0;}#sk-container-id-1 div.sk-serial {display: flex;flex-direction: column;align-items: center;background-color: white;padding-right: 0.2em;padding-left: 0.2em;position: relative;}#sk-container-id-1 div.sk-item {position: relative;z-index: 1;}#sk-container-id-1 div.sk-parallel {display: flex;align-items: stretch;justify-content: center;background-color: white;position: relative;}#sk-container-id-1 div.sk-item::before, #sk-container-id-1 div.sk-parallel-item::before {content: \"\";position: absolute;border-left: 1px solid gray;box-sizing: border-box;top: 0;bottom: 0;left: 50%;z-index: -1;}#sk-container-id-1 div.sk-parallel-item {display: flex;flex-direction: column;z-index: 1;position: relative;background-color: white;}#sk-container-id-1 div.sk-parallel-item:first-child::after {align-self: flex-end;width: 50%;}#sk-container-id-1 div.sk-parallel-item:last-child::after {align-self: flex-start;width: 50%;}#sk-container-id-1 div.sk-parallel-item:only-child::after {width: 0;}#sk-container-id-1 div.sk-dashed-wrapped {border: 1px dashed gray;margin: 0 0.4em 0.5em 0.4em;box-sizing: border-box;padding-bottom: 0.4em;background-color: white;}#sk-container-id-1 div.sk-label label {font-family: monospace;font-weight: bold;display: inline-block;line-height: 1.2em;}#sk-container-id-1 div.sk-label-container {text-align: center;}#sk-container-id-1 div.sk-container {/* jupyter's `normalize.less` sets `[hidden] { display: none; }` but bootstrap.min.css set `[hidden] { display: none !important; }` so we also need the `!important` here to be able to override the default hidden behavior on the sphinx rendered scikit-learn.org. See: https://github.com/scikit-learn/scikit-learn/issues/21755 */display: inline-block !important;position: relative;}#sk-container-id-1 div.sk-text-repr-fallback {display: none;}</style><div id=\"sk-container-id-1\" class=\"sk-top-container\"><div class=\"sk-text-repr-fallback\"><pre>VotingClassifier(estimators=[(&#x27;dtree&#x27;, DecisionTreeClassifier()),\n",
       "                             (&#x27;etree&#x27;, ExtraTreeClassifier()),\n",
       "                             (&#x27;log_reg&#x27;, LogisticRegression())],\n",
       "                 n_jobs=-1, voting=&#x27;soft&#x27;)</pre><b>In a Jupyter environment, please rerun this cell to show the HTML representation or trust the notebook. <br />On GitHub, the HTML representation is unable to render, please try loading this page with nbviewer.org.</b></div><div class=\"sk-container\" hidden><div class=\"sk-item sk-dashed-wrapped\"><div class=\"sk-label-container\"><div class=\"sk-label sk-toggleable\"><input class=\"sk-toggleable__control sk-hidden--visually\" id=\"sk-estimator-id-1\" type=\"checkbox\" ><label for=\"sk-estimator-id-1\" class=\"sk-toggleable__label sk-toggleable__label-arrow\">VotingClassifier</label><div class=\"sk-toggleable__content\"><pre>VotingClassifier(estimators=[(&#x27;dtree&#x27;, DecisionTreeClassifier()),\n",
       "                             (&#x27;etree&#x27;, ExtraTreeClassifier()),\n",
       "                             (&#x27;log_reg&#x27;, LogisticRegression())],\n",
       "                 n_jobs=-1, voting=&#x27;soft&#x27;)</pre></div></div></div><div class=\"sk-parallel\"><div class=\"sk-parallel-item\"><div class=\"sk-item\"><div class=\"sk-label-container\"><div class=\"sk-label sk-toggleable\"><label>dtree</label></div></div><div class=\"sk-serial\"><div class=\"sk-item\"><div class=\"sk-estimator sk-toggleable\"><input class=\"sk-toggleable__control sk-hidden--visually\" id=\"sk-estimator-id-2\" type=\"checkbox\" ><label for=\"sk-estimator-id-2\" class=\"sk-toggleable__label sk-toggleable__label-arrow\">DecisionTreeClassifier</label><div class=\"sk-toggleable__content\"><pre>DecisionTreeClassifier()</pre></div></div></div></div></div></div><div class=\"sk-parallel-item\"><div class=\"sk-item\"><div class=\"sk-label-container\"><div class=\"sk-label sk-toggleable\"><label>etree</label></div></div><div class=\"sk-serial\"><div class=\"sk-item\"><div class=\"sk-estimator sk-toggleable\"><input class=\"sk-toggleable__control sk-hidden--visually\" id=\"sk-estimator-id-3\" type=\"checkbox\" ><label for=\"sk-estimator-id-3\" class=\"sk-toggleable__label sk-toggleable__label-arrow\">ExtraTreeClassifier</label><div class=\"sk-toggleable__content\"><pre>ExtraTreeClassifier()</pre></div></div></div></div></div></div><div class=\"sk-parallel-item\"><div class=\"sk-item\"><div class=\"sk-label-container\"><div class=\"sk-label sk-toggleable\"><label>log_reg</label></div></div><div class=\"sk-serial\"><div class=\"sk-item\"><div class=\"sk-estimator sk-toggleable\"><input class=\"sk-toggleable__control sk-hidden--visually\" id=\"sk-estimator-id-4\" type=\"checkbox\" ><label for=\"sk-estimator-id-4\" class=\"sk-toggleable__label sk-toggleable__label-arrow\">LogisticRegression</label><div class=\"sk-toggleable__content\"><pre>LogisticRegression()</pre></div></div></div></div></div></div></div></div></div></div>"
      ],
      "text/plain": [
       "VotingClassifier(estimators=[('dtree', DecisionTreeClassifier()),\n",
       "                             ('etree', ExtraTreeClassifier()),\n",
       "                             ('log_reg', LogisticRegression())],\n",
       "                 n_jobs=-1, voting='soft')"
      ]
     },
     "execution_count": 29,
     "metadata": {},
     "output_type": "execute_result"
    }
   ],
   "source": [
    "ensemble.fit(X, y)"
   ]
  },
  {
   "cell_type": "markdown",
   "id": "3e58efb5-a9f7-46d7-b5ba-6bac88e3a29f",
   "metadata": {},
   "source": [
    "# 77. Stacking ensemble/regressor"
   ]
  },
  {
   "cell_type": "markdown",
   "id": "5929b8e3-965f-4061-8c17-c36631662fff",
   "metadata": {},
   "source": [
    "People use stacking to silently win competitions on Kaggle. How does it work?\n",
    "\n",
    "As a rule, multiple performant models with as different learning functions as possible are chosen to form an ensemble. Then, using KFold cross-validation, predictions are generated for each model.\n",
    "\n",
    "As an example, with 5 models in a stack doing a 5-fold CV on the data, we will have 25 columns of predictions. This concludes the level 1 of the stack.\n",
    "\n",
    "In the next level, using these 25 columns of predictions as features, a final — meta estimator is trained with cross-validation and final predictions are made.\n",
    "\n",
    "This leverages the strength of each individual model in the stack and uses their output as inputs to the final estimator. This helps greatly reduce bias in the predictions.\n",
    "\n",
    "This complicated ensembling technique is implemented in its basic format in Sklearn as Stacking Classifier/Regressor. You pass a list of base estimators and one final lightweight meta estimator like Logistic Regression. Works just like any Sklearn model."
   ]
  },
  {
   "cell_type": "code",
   "execution_count": 30,
   "id": "39917e91-93b7-4b37-abcf-a6c595204224",
   "metadata": {},
   "outputs": [],
   "source": [
    "from sklearn.ensemble import StackingClassifier\n",
    "from sklearn.datasets import make_classification\n",
    "from sklearn.tree import DecisionTreeClassifier, ExtraTreeClassifier\n",
    "from sklearn.linear_model import LogisticRegression"
   ]
  },
  {
   "cell_type": "code",
   "execution_count": 31,
   "id": "7fedf8d1-0c90-4f2a-85db-c41358f300a1",
   "metadata": {},
   "outputs": [],
   "source": [
    "X, y = make_classification(n_samples=1000, n_features=5)"
   ]
  },
  {
   "cell_type": "code",
   "execution_count": 32,
   "id": "eb5630fb-6c93-4d74-9b4c-dc6d47570d46",
   "metadata": {},
   "outputs": [],
   "source": [
    "estimators = [\n",
    "    (\"dtree\", DecisionTreeClassifier()),\n",
    "    (\"etree\", ExtraTreeClassifier()),\n",
    "]\n",
    "\n",
    "log_reg = LogisticRegression()"
   ]
  },
  {
   "cell_type": "code",
   "execution_count": 33,
   "id": "f74e711e-4148-4dc4-8bc9-15d2a08a554d",
   "metadata": {},
   "outputs": [],
   "source": [
    "ensemble = StackingClassifier(\n",
    "    estimators=estimators, final_estimator=log_reg, n_jobs=-1\n",
    ")"
   ]
  },
  {
   "cell_type": "code",
   "execution_count": 34,
   "id": "12e562c8-a52b-4894-b15f-3f5b9db3b4ed",
   "metadata": {},
   "outputs": [
    {
     "data": {
      "text/html": [
       "<style>#sk-container-id-2 {color: black;background-color: white;}#sk-container-id-2 pre{padding: 0;}#sk-container-id-2 div.sk-toggleable {background-color: white;}#sk-container-id-2 label.sk-toggleable__label {cursor: pointer;display: block;width: 100%;margin-bottom: 0;padding: 0.3em;box-sizing: border-box;text-align: center;}#sk-container-id-2 label.sk-toggleable__label-arrow:before {content: \"▸\";float: left;margin-right: 0.25em;color: #696969;}#sk-container-id-2 label.sk-toggleable__label-arrow:hover:before {color: black;}#sk-container-id-2 div.sk-estimator:hover label.sk-toggleable__label-arrow:before {color: black;}#sk-container-id-2 div.sk-toggleable__content {max-height: 0;max-width: 0;overflow: hidden;text-align: left;background-color: #f0f8ff;}#sk-container-id-2 div.sk-toggleable__content pre {margin: 0.2em;color: black;border-radius: 0.25em;background-color: #f0f8ff;}#sk-container-id-2 input.sk-toggleable__control:checked~div.sk-toggleable__content {max-height: 200px;max-width: 100%;overflow: auto;}#sk-container-id-2 input.sk-toggleable__control:checked~label.sk-toggleable__label-arrow:before {content: \"▾\";}#sk-container-id-2 div.sk-estimator input.sk-toggleable__control:checked~label.sk-toggleable__label {background-color: #d4ebff;}#sk-container-id-2 div.sk-label input.sk-toggleable__control:checked~label.sk-toggleable__label {background-color: #d4ebff;}#sk-container-id-2 input.sk-hidden--visually {border: 0;clip: rect(1px 1px 1px 1px);clip: rect(1px, 1px, 1px, 1px);height: 1px;margin: -1px;overflow: hidden;padding: 0;position: absolute;width: 1px;}#sk-container-id-2 div.sk-estimator {font-family: monospace;background-color: #f0f8ff;border: 1px dotted black;border-radius: 0.25em;box-sizing: border-box;margin-bottom: 0.5em;}#sk-container-id-2 div.sk-estimator:hover {background-color: #d4ebff;}#sk-container-id-2 div.sk-parallel-item::after {content: \"\";width: 100%;border-bottom: 1px solid gray;flex-grow: 1;}#sk-container-id-2 div.sk-label:hover label.sk-toggleable__label {background-color: #d4ebff;}#sk-container-id-2 div.sk-serial::before {content: \"\";position: absolute;border-left: 1px solid gray;box-sizing: border-box;top: 0;bottom: 0;left: 50%;z-index: 0;}#sk-container-id-2 div.sk-serial {display: flex;flex-direction: column;align-items: center;background-color: white;padding-right: 0.2em;padding-left: 0.2em;position: relative;}#sk-container-id-2 div.sk-item {position: relative;z-index: 1;}#sk-container-id-2 div.sk-parallel {display: flex;align-items: stretch;justify-content: center;background-color: white;position: relative;}#sk-container-id-2 div.sk-item::before, #sk-container-id-2 div.sk-parallel-item::before {content: \"\";position: absolute;border-left: 1px solid gray;box-sizing: border-box;top: 0;bottom: 0;left: 50%;z-index: -1;}#sk-container-id-2 div.sk-parallel-item {display: flex;flex-direction: column;z-index: 1;position: relative;background-color: white;}#sk-container-id-2 div.sk-parallel-item:first-child::after {align-self: flex-end;width: 50%;}#sk-container-id-2 div.sk-parallel-item:last-child::after {align-self: flex-start;width: 50%;}#sk-container-id-2 div.sk-parallel-item:only-child::after {width: 0;}#sk-container-id-2 div.sk-dashed-wrapped {border: 1px dashed gray;margin: 0 0.4em 0.5em 0.4em;box-sizing: border-box;padding-bottom: 0.4em;background-color: white;}#sk-container-id-2 div.sk-label label {font-family: monospace;font-weight: bold;display: inline-block;line-height: 1.2em;}#sk-container-id-2 div.sk-label-container {text-align: center;}#sk-container-id-2 div.sk-container {/* jupyter's `normalize.less` sets `[hidden] { display: none; }` but bootstrap.min.css set `[hidden] { display: none !important; }` so we also need the `!important` here to be able to override the default hidden behavior on the sphinx rendered scikit-learn.org. See: https://github.com/scikit-learn/scikit-learn/issues/21755 */display: inline-block !important;position: relative;}#sk-container-id-2 div.sk-text-repr-fallback {display: none;}</style><div id=\"sk-container-id-2\" class=\"sk-top-container\"><div class=\"sk-text-repr-fallback\"><pre>StackingClassifier(estimators=[(&#x27;dtree&#x27;, DecisionTreeClassifier()),\n",
       "                               (&#x27;etree&#x27;, ExtraTreeClassifier())],\n",
       "                   final_estimator=LogisticRegression(), n_jobs=-1)</pre><b>In a Jupyter environment, please rerun this cell to show the HTML representation or trust the notebook. <br />On GitHub, the HTML representation is unable to render, please try loading this page with nbviewer.org.</b></div><div class=\"sk-container\" hidden><div class=\"sk-item sk-dashed-wrapped\"><div class=\"sk-label-container\"><div class=\"sk-label sk-toggleable\"><input class=\"sk-toggleable__control sk-hidden--visually\" id=\"sk-estimator-id-5\" type=\"checkbox\" ><label for=\"sk-estimator-id-5\" class=\"sk-toggleable__label sk-toggleable__label-arrow\">StackingClassifier</label><div class=\"sk-toggleable__content\"><pre>StackingClassifier(estimators=[(&#x27;dtree&#x27;, DecisionTreeClassifier()),\n",
       "                               (&#x27;etree&#x27;, ExtraTreeClassifier())],\n",
       "                   final_estimator=LogisticRegression(), n_jobs=-1)</pre></div></div></div><div class=\"sk-serial\"><div class=\"sk-item\"><div class=\"sk-parallel\"><div class=\"sk-parallel-item\"><div class=\"sk-item\"><div class=\"sk-label-container\"><div class=\"sk-label sk-toggleable\"><label>dtree</label></div></div><div class=\"sk-serial\"><div class=\"sk-item\"><div class=\"sk-estimator sk-toggleable\"><input class=\"sk-toggleable__control sk-hidden--visually\" id=\"sk-estimator-id-6\" type=\"checkbox\" ><label for=\"sk-estimator-id-6\" class=\"sk-toggleable__label sk-toggleable__label-arrow\">DecisionTreeClassifier</label><div class=\"sk-toggleable__content\"><pre>DecisionTreeClassifier()</pre></div></div></div></div></div></div><div class=\"sk-parallel-item\"><div class=\"sk-item\"><div class=\"sk-label-container\"><div class=\"sk-label sk-toggleable\"><label>etree</label></div></div><div class=\"sk-serial\"><div class=\"sk-item\"><div class=\"sk-estimator sk-toggleable\"><input class=\"sk-toggleable__control sk-hidden--visually\" id=\"sk-estimator-id-7\" type=\"checkbox\" ><label for=\"sk-estimator-id-7\" class=\"sk-toggleable__label sk-toggleable__label-arrow\">ExtraTreeClassifier</label><div class=\"sk-toggleable__content\"><pre>ExtraTreeClassifier()</pre></div></div></div></div></div></div></div></div><div class=\"sk-item\"><div class=\"sk-parallel\"><div class=\"sk-parallel-item\"><div class=\"sk-item\"><div class=\"sk-label-container\"><div class=\"sk-label sk-toggleable\"><label>final_estimator</label></div></div><div class=\"sk-serial\"><div class=\"sk-item\"><div class=\"sk-estimator sk-toggleable\"><input class=\"sk-toggleable__control sk-hidden--visually\" id=\"sk-estimator-id-8\" type=\"checkbox\" ><label for=\"sk-estimator-id-8\" class=\"sk-toggleable__label sk-toggleable__label-arrow\">LogisticRegression</label><div class=\"sk-toggleable__content\"><pre>LogisticRegression()</pre></div></div></div></div></div></div></div></div></div></div></div></div>"
      ],
      "text/plain": [
       "StackingClassifier(estimators=[('dtree', DecisionTreeClassifier()),\n",
       "                               ('etree', ExtraTreeClassifier())],\n",
       "                   final_estimator=LogisticRegression(), n_jobs=-1)"
      ]
     },
     "execution_count": 34,
     "metadata": {},
     "output_type": "execute_result"
    }
   ],
   "source": [
    "ensemble.fit(X, y)"
   ]
  },
  {
   "cell_type": "code",
   "execution_count": null,
   "id": "d04cd92f-687f-4e9b-ba64-4ea29431f4b1",
   "metadata": {},
   "outputs": [],
   "source": []
  }
 ],
 "metadata": {
  "kernelspec": {
   "display_name": "Python [conda env:ls_env]",
   "language": "python",
   "name": "conda-env-ls_env-py"
  },
  "language_info": {
   "codemirror_mode": {
    "name": "ipython",
    "version": 3
   },
   "file_extension": ".py",
   "mimetype": "text/x-python",
   "name": "python",
   "nbconvert_exporter": "python",
   "pygments_lexer": "ipython3",
   "version": "3.10.8"
  }
 },
 "nbformat": 4,
 "nbformat_minor": 5
}
