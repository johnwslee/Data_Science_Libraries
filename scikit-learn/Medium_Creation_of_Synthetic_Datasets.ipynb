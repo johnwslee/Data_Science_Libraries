{
 "cells": [
  {
   "cell_type": "markdown",
   "id": "90deb980-03a0-4771-94a8-05b96a50a84c",
   "metadata": {},
   "source": [
    "# 1. Setup"
   ]
  },
  {
   "cell_type": "code",
   "execution_count": 1,
   "id": "7ee90ae1-3340-4bc4-9906-89c25d2ddc3c",
   "metadata": {},
   "outputs": [],
   "source": [
    "import numpy as np\n",
    "import pandas as pd\n",
    "from faker import Faker\n",
    "from scipy.stats import skewnorm\n",
    "from datetime import datetime\n",
    "from sklearn.datasets import (make_regression, make_classification, \n",
    "                              make_multilabel_classification, \n",
    "                              make_blobs)\n",
    "from sklearn.model_selection import train_test_split\n",
    "from sklearn.ensemble import (RandomForestClassifier,\n",
    "                              RandomForestRegressor)\n",
    "from sklearn.multioutput import MultiOutputClassifier\n",
    "from sklearn.cluster import KMeans\n",
    "from sklearn.metrics import mean_squared_error, roc_auc_score\n",
    "import matplotlib.pyplot as plt\n",
    "import seaborn as sns\n",
    "sns.set(style='darkgrid', context='talk')"
   ]
  },
  {
   "cell_type": "markdown",
   "id": "b6650a8e-cf8a-4bd2-af07-7b2b63d3b82f",
   "metadata": {},
   "source": [
    "# 2. Regression"
   ]
  },
  {
   "cell_type": "markdown",
   "id": "d2f12e3a-036d-460b-9618-82a59e8c936a",
   "metadata": {},
   "source": [
    "#### Synthetic Dataset"
   ]
  },
  {
   "cell_type": "code",
   "execution_count": 2,
   "id": "7ede624b-e41b-4ff8-a020-a8dc9769bf86",
   "metadata": {},
   "outputs": [],
   "source": [
    "n = 1000\n",
    "n_features = 5\n",
    "seed = 123"
   ]
  },
  {
   "cell_type": "code",
   "execution_count": 3,
   "id": "33379d8d-b595-4e3b-be68-6dbf37ddab54",
   "metadata": {},
   "outputs": [],
   "source": [
    "X, y = make_regression(n_samples=n, n_features=n_features, \n",
    "                       random_state=seed)\n",
    "columns = [f\"feature{i+1}\" for i in range(n_features)]\n",
    "df = pd.concat([pd.DataFrame(X, columns=columns), \n",
    "                pd.Series(y, name='target')], axis=1)"
   ]
  },
  {
   "cell_type": "code",
   "execution_count": 4,
   "id": "01ab2d9d-5232-4364-9271-d28ba35f61e0",
   "metadata": {},
   "outputs": [
    {
     "data": {
      "text/plain": [
       "(1000, 6)"
      ]
     },
     "execution_count": 4,
     "metadata": {},
     "output_type": "execute_result"
    }
   ],
   "source": [
    "df.shape"
   ]
  },
  {
   "cell_type": "code",
   "execution_count": 5,
   "id": "f75ec3d0-92ea-49e9-aebc-84b3badaaab3",
   "metadata": {},
   "outputs": [
    {
     "data": {
      "text/html": [
       "<div>\n",
       "<style scoped>\n",
       "    .dataframe tbody tr th:only-of-type {\n",
       "        vertical-align: middle;\n",
       "    }\n",
       "\n",
       "    .dataframe tbody tr th {\n",
       "        vertical-align: top;\n",
       "    }\n",
       "\n",
       "    .dataframe thead th {\n",
       "        text-align: right;\n",
       "    }\n",
       "</style>\n",
       "<table border=\"1\" class=\"dataframe\">\n",
       "  <thead>\n",
       "    <tr style=\"text-align: right;\">\n",
       "      <th></th>\n",
       "      <th>feature1</th>\n",
       "      <th>feature2</th>\n",
       "      <th>feature3</th>\n",
       "      <th>feature4</th>\n",
       "      <th>feature5</th>\n",
       "      <th>target</th>\n",
       "    </tr>\n",
       "  </thead>\n",
       "  <tbody>\n",
       "    <tr>\n",
       "      <th>0</th>\n",
       "      <td>-0.475648</td>\n",
       "      <td>-0.971937</td>\n",
       "      <td>-1.793889</td>\n",
       "      <td>-1.570529</td>\n",
       "      <td>-0.264986</td>\n",
       "      <td>-251.427336</td>\n",
       "    </tr>\n",
       "    <tr>\n",
       "      <th>1</th>\n",
       "      <td>-2.039363</td>\n",
       "      <td>0.642865</td>\n",
       "      <td>0.451925</td>\n",
       "      <td>-0.202136</td>\n",
       "      <td>-1.326731</td>\n",
       "      <td>-216.058201</td>\n",
       "    </tr>\n",
       "    <tr>\n",
       "      <th>2</th>\n",
       "      <td>-0.323134</td>\n",
       "      <td>1.165847</td>\n",
       "      <td>0.062360</td>\n",
       "      <td>0.143981</td>\n",
       "      <td>-0.074564</td>\n",
       "      <td>45.780339</td>\n",
       "    </tr>\n",
       "    <tr>\n",
       "      <th>3</th>\n",
       "      <td>1.923513</td>\n",
       "      <td>0.528991</td>\n",
       "      <td>-0.220224</td>\n",
       "      <td>-0.134736</td>\n",
       "      <td>0.744166</td>\n",
       "      <td>215.041958</td>\n",
       "    </tr>\n",
       "    <tr>\n",
       "      <th>4</th>\n",
       "      <td>-0.161896</td>\n",
       "      <td>-0.978303</td>\n",
       "      <td>-0.177138</td>\n",
       "      <td>1.745941</td>\n",
       "      <td>1.743212</td>\n",
       "      <td>164.581663</td>\n",
       "    </tr>\n",
       "  </tbody>\n",
       "</table>\n",
       "</div>"
      ],
      "text/plain": [
       "   feature1  feature2  feature3  feature4  feature5      target\n",
       "0 -0.475648 -0.971937 -1.793889 -1.570529 -0.264986 -251.427336\n",
       "1 -2.039363  0.642865  0.451925 -0.202136 -1.326731 -216.058201\n",
       "2 -0.323134  1.165847  0.062360  0.143981 -0.074564   45.780339\n",
       "3  1.923513  0.528991 -0.220224 -0.134736  0.744166  215.041958\n",
       "4 -0.161896 -0.978303 -0.177138  1.745941  1.743212  164.581663"
      ]
     },
     "execution_count": 5,
     "metadata": {},
     "output_type": "execute_result"
    }
   ],
   "source": [
    "df.head()"
   ]
  },
  {
   "cell_type": "markdown",
   "id": "6f713397-6925-4202-810c-6501a449d814",
   "metadata": {},
   "source": [
    "#### Modelling"
   ]
  },
  {
   "cell_type": "code",
   "execution_count": 6,
   "id": "6ae25797-31fe-45d0-b71e-1fef40c7a814",
   "metadata": {},
   "outputs": [],
   "source": [
    "X_train, X_test, y_train, y_test = train_test_split(\n",
    "    X, y, random_state=seed\n",
    ")"
   ]
  },
  {
   "cell_type": "code",
   "execution_count": 7,
   "id": "ba86ae9b-15a2-4ada-8a2c-f78c80bbbb70",
   "metadata": {},
   "outputs": [
    {
     "data": {
      "text/plain": [
       "RandomForestRegressor(random_state=123)"
      ]
     },
     "execution_count": 7,
     "metadata": {},
     "output_type": "execute_result"
    }
   ],
   "source": [
    "model = RandomForestRegressor(random_state=seed)\n",
    "model.fit(X_train, y_train)"
   ]
  },
  {
   "cell_type": "code",
   "execution_count": 8,
   "id": "3385ad3d-210f-41a1-9061-46b93ca68796",
   "metadata": {},
   "outputs": [
    {
     "name": "stdout",
     "output_type": "stream",
     "text": [
      "Train | MSE: 217.2017\n",
      "Test | MSE: 1731.1431\n"
     ]
    }
   ],
   "source": [
    "print(f\"Train | MSE: {mean_squared_error(y_train, model.predict(X_train)):.4f}\")\n",
    "print(f\"Test | MSE: {mean_squared_error(y_test, model.predict(X_test)):.4f}\")"
   ]
  },
  {
   "cell_type": "markdown",
   "id": "1aacd690-08fa-43d8-81fa-dc90436a440d",
   "metadata": {},
   "source": [
    "# 3. Classification"
   ]
  },
  {
   "cell_type": "markdown",
   "id": "be7d3866-e6de-4021-9a9c-0073fe847800",
   "metadata": {},
   "source": [
    "## 3.1. Binary Classification"
   ]
  },
  {
   "cell_type": "markdown",
   "id": "b55db347-e080-4842-8044-0eebb0d1b65c",
   "metadata": {},
   "source": [
    "#### Synthetic Dataset"
   ]
  },
  {
   "cell_type": "code",
   "execution_count": 9,
   "id": "1a72cc8a-8bee-491d-99ba-5d53bb401dc3",
   "metadata": {},
   "outputs": [],
   "source": [
    "n = 1000\n",
    "n_features = 5\n",
    "n_classes = 2\n",
    "seed = 123"
   ]
  },
  {
   "cell_type": "code",
   "execution_count": 10,
   "id": "2aa8439e-7a03-45a3-82c9-9605ef190010",
   "metadata": {},
   "outputs": [],
   "source": [
    "X, y = make_classification(n_samples=n, n_features=n_features, \n",
    "                           n_classes=n_classes, random_state=seed)\n",
    "columns = [f\"feature{i+1}\" for i in range(n_features)]\n",
    "df = pd.concat([pd.DataFrame(X, columns=columns), \n",
    "                pd.Series(y, name='target')], axis=1)"
   ]
  },
  {
   "cell_type": "code",
   "execution_count": 11,
   "id": "9a8b1d6d-30a8-4e26-8d7c-f2976bb275e7",
   "metadata": {},
   "outputs": [
    {
     "data": {
      "text/plain": [
       "(1000, 6)"
      ]
     },
     "execution_count": 11,
     "metadata": {},
     "output_type": "execute_result"
    }
   ],
   "source": [
    "df.shape"
   ]
  },
  {
   "cell_type": "code",
   "execution_count": 12,
   "id": "9889b8f1-fa79-461c-b6e0-36387e07c419",
   "metadata": {},
   "outputs": [
    {
     "data": {
      "text/html": [
       "<div>\n",
       "<style scoped>\n",
       "    .dataframe tbody tr th:only-of-type {\n",
       "        vertical-align: middle;\n",
       "    }\n",
       "\n",
       "    .dataframe tbody tr th {\n",
       "        vertical-align: top;\n",
       "    }\n",
       "\n",
       "    .dataframe thead th {\n",
       "        text-align: right;\n",
       "    }\n",
       "</style>\n",
       "<table border=\"1\" class=\"dataframe\">\n",
       "  <thead>\n",
       "    <tr style=\"text-align: right;\">\n",
       "      <th></th>\n",
       "      <th>feature1</th>\n",
       "      <th>feature2</th>\n",
       "      <th>feature3</th>\n",
       "      <th>feature4</th>\n",
       "      <th>feature5</th>\n",
       "      <th>target</th>\n",
       "    </tr>\n",
       "  </thead>\n",
       "  <tbody>\n",
       "    <tr>\n",
       "      <th>0</th>\n",
       "      <td>0.877281</td>\n",
       "      <td>-0.596428</td>\n",
       "      <td>0.440198</td>\n",
       "      <td>-0.521081</td>\n",
       "      <td>0.314323</td>\n",
       "      <td>0</td>\n",
       "    </tr>\n",
       "    <tr>\n",
       "      <th>1</th>\n",
       "      <td>0.558565</td>\n",
       "      <td>-0.414513</td>\n",
       "      <td>0.813623</td>\n",
       "      <td>-0.543254</td>\n",
       "      <td>0.147343</td>\n",
       "      <td>0</td>\n",
       "    </tr>\n",
       "    <tr>\n",
       "      <th>2</th>\n",
       "      <td>-0.902899</td>\n",
       "      <td>0.383033</td>\n",
       "      <td>-0.711573</td>\n",
       "      <td>-0.867689</td>\n",
       "      <td>-0.673941</td>\n",
       "      <td>0</td>\n",
       "    </tr>\n",
       "    <tr>\n",
       "      <th>3</th>\n",
       "      <td>-0.487632</td>\n",
       "      <td>0.453529</td>\n",
       "      <td>-0.898803</td>\n",
       "      <td>1.031794</td>\n",
       "      <td>0.010530</td>\n",
       "      <td>1</td>\n",
       "    </tr>\n",
       "    <tr>\n",
       "      <th>4</th>\n",
       "      <td>1.828812</td>\n",
       "      <td>-0.921814</td>\n",
       "      <td>-0.663395</td>\n",
       "      <td>0.869497</td>\n",
       "      <td>1.143414</td>\n",
       "      <td>1</td>\n",
       "    </tr>\n",
       "  </tbody>\n",
       "</table>\n",
       "</div>"
      ],
      "text/plain": [
       "   feature1  feature2  feature3  feature4  feature5  target\n",
       "0  0.877281 -0.596428  0.440198 -0.521081  0.314323       0\n",
       "1  0.558565 -0.414513  0.813623 -0.543254  0.147343       0\n",
       "2 -0.902899  0.383033 -0.711573 -0.867689 -0.673941       0\n",
       "3 -0.487632  0.453529 -0.898803  1.031794  0.010530       1\n",
       "4  1.828812 -0.921814 -0.663395  0.869497  1.143414       1"
      ]
     },
     "execution_count": 12,
     "metadata": {},
     "output_type": "execute_result"
    }
   ],
   "source": [
    "df.head()"
   ]
  },
  {
   "cell_type": "markdown",
   "id": "78bacf31-990b-438c-960c-e1b36afc2419",
   "metadata": {},
   "source": [
    "#### Modelling"
   ]
  },
  {
   "cell_type": "code",
   "execution_count": 13,
   "id": "6853a9c2-75ea-423d-bafe-4deb481c0790",
   "metadata": {},
   "outputs": [],
   "source": [
    "X_train, X_test, y_train, y_test = train_test_split(\n",
    "    X, y, random_state=seed\n",
    ")"
   ]
  },
  {
   "cell_type": "code",
   "execution_count": 14,
   "id": "adc451e8-2dab-4e4e-8dfe-5fbdd750d845",
   "metadata": {},
   "outputs": [
    {
     "data": {
      "text/plain": [
       "RandomForestClassifier(random_state=123)"
      ]
     },
     "execution_count": 14,
     "metadata": {},
     "output_type": "execute_result"
    }
   ],
   "source": [
    "model = RandomForestClassifier(random_state=seed)\n",
    "model.fit(X_train, y_train)"
   ]
  },
  {
   "cell_type": "code",
   "execution_count": 15,
   "id": "1d5d651a-c94c-421c-9542-883043dba49d",
   "metadata": {},
   "outputs": [
    {
     "name": "stdout",
     "output_type": "stream",
     "text": [
      "Train | ROC-AUC: 1.0000\n",
      "Test | ROC-AUC: 0.9903\n"
     ]
    }
   ],
   "source": [
    "print(f\"Train | ROC-AUC: {roc_auc_score(y_train, model.predict_proba(X_train)[:,1]):.4f}\")\n",
    "print(f\"Test | ROC-AUC: {roc_auc_score(y_test, model.predict_proba(X_test)[:,1]):.4f}\")"
   ]
  },
  {
   "cell_type": "markdown",
   "id": "19bded18-b4a0-40ae-aa02-a14acaab5b1a",
   "metadata": {},
   "source": [
    "## 3.1. Multi-Label Classification"
   ]
  },
  {
   "cell_type": "markdown",
   "id": "78d08ea1-e8e1-4536-83dc-2025e205f29a",
   "metadata": {},
   "source": [
    "#### Synthetic Dataset"
   ]
  },
  {
   "cell_type": "code",
   "execution_count": 16,
   "id": "d916c84b-b575-420e-ba67-6cb14a91c8d8",
   "metadata": {},
   "outputs": [],
   "source": [
    "n = 1000\n",
    "n_features = 5\n",
    "n_classes = 4\n",
    "seed = 123"
   ]
  },
  {
   "cell_type": "code",
   "execution_count": 17,
   "id": "f6a9a6fb-e58f-4a72-97e0-e96b2b482c02",
   "metadata": {},
   "outputs": [],
   "source": [
    "X, Y = make_multilabel_classification(n_samples=n, \n",
    "                                      n_features=n_features, \n",
    "                                      n_classes=n_classes, \n",
    "                                      random_state=seed)"
   ]
  },
  {
   "cell_type": "code",
   "execution_count": 18,
   "id": "fdba1979-76a1-46ef-a500-137ca0b8ff88",
   "metadata": {},
   "outputs": [],
   "source": [
    "x_columns = [f\"feature{i+1}\" for i in range(n_features)]\n",
    "y_columns = [f\"target{i+1}\" for i in range(n_classes)]\n",
    "df = pd.concat([pd.DataFrame(X, columns=x_columns), \n",
    "                pd.DataFrame(Y, columns=y_columns)], axis=1)"
   ]
  },
  {
   "cell_type": "code",
   "execution_count": 19,
   "id": "8f2ecd5f-1c72-4f7b-bde4-ceca561e5e0b",
   "metadata": {},
   "outputs": [
    {
     "data": {
      "text/plain": [
       "(1000, 9)"
      ]
     },
     "execution_count": 19,
     "metadata": {},
     "output_type": "execute_result"
    }
   ],
   "source": [
    "df.shape"
   ]
  },
  {
   "cell_type": "code",
   "execution_count": 20,
   "id": "123391c2-c8a5-42a4-9926-404ad806c17a",
   "metadata": {},
   "outputs": [
    {
     "data": {
      "text/html": [
       "<div>\n",
       "<style scoped>\n",
       "    .dataframe tbody tr th:only-of-type {\n",
       "        vertical-align: middle;\n",
       "    }\n",
       "\n",
       "    .dataframe tbody tr th {\n",
       "        vertical-align: top;\n",
       "    }\n",
       "\n",
       "    .dataframe thead th {\n",
       "        text-align: right;\n",
       "    }\n",
       "</style>\n",
       "<table border=\"1\" class=\"dataframe\">\n",
       "  <thead>\n",
       "    <tr style=\"text-align: right;\">\n",
       "      <th></th>\n",
       "      <th>feature1</th>\n",
       "      <th>feature2</th>\n",
       "      <th>feature3</th>\n",
       "      <th>feature4</th>\n",
       "      <th>feature5</th>\n",
       "      <th>target1</th>\n",
       "      <th>target2</th>\n",
       "      <th>target3</th>\n",
       "      <th>target4</th>\n",
       "    </tr>\n",
       "  </thead>\n",
       "  <tbody>\n",
       "    <tr>\n",
       "      <th>0</th>\n",
       "      <td>8.0</td>\n",
       "      <td>8.0</td>\n",
       "      <td>10.0</td>\n",
       "      <td>5.0</td>\n",
       "      <td>8.0</td>\n",
       "      <td>1</td>\n",
       "      <td>0</td>\n",
       "      <td>1</td>\n",
       "      <td>0</td>\n",
       "    </tr>\n",
       "    <tr>\n",
       "      <th>1</th>\n",
       "      <td>8.0</td>\n",
       "      <td>13.0</td>\n",
       "      <td>5.0</td>\n",
       "      <td>4.0</td>\n",
       "      <td>12.0</td>\n",
       "      <td>1</td>\n",
       "      <td>1</td>\n",
       "      <td>1</td>\n",
       "      <td>0</td>\n",
       "    </tr>\n",
       "    <tr>\n",
       "      <th>2</th>\n",
       "      <td>12.0</td>\n",
       "      <td>9.0</td>\n",
       "      <td>7.0</td>\n",
       "      <td>9.0</td>\n",
       "      <td>11.0</td>\n",
       "      <td>1</td>\n",
       "      <td>0</td>\n",
       "      <td>1</td>\n",
       "      <td>1</td>\n",
       "    </tr>\n",
       "    <tr>\n",
       "      <th>3</th>\n",
       "      <td>16.0</td>\n",
       "      <td>6.0</td>\n",
       "      <td>11.0</td>\n",
       "      <td>6.0</td>\n",
       "      <td>10.0</td>\n",
       "      <td>1</td>\n",
       "      <td>0</td>\n",
       "      <td>0</td>\n",
       "      <td>1</td>\n",
       "    </tr>\n",
       "    <tr>\n",
       "      <th>4</th>\n",
       "      <td>17.0</td>\n",
       "      <td>9.0</td>\n",
       "      <td>7.0</td>\n",
       "      <td>10.0</td>\n",
       "      <td>8.0</td>\n",
       "      <td>0</td>\n",
       "      <td>0</td>\n",
       "      <td>0</td>\n",
       "      <td>0</td>\n",
       "    </tr>\n",
       "  </tbody>\n",
       "</table>\n",
       "</div>"
      ],
      "text/plain": [
       "   feature1  feature2  feature3  feature4  feature5  target1  target2  \\\n",
       "0       8.0       8.0      10.0       5.0       8.0        1        0   \n",
       "1       8.0      13.0       5.0       4.0      12.0        1        1   \n",
       "2      12.0       9.0       7.0       9.0      11.0        1        0   \n",
       "3      16.0       6.0      11.0       6.0      10.0        1        0   \n",
       "4      17.0       9.0       7.0      10.0       8.0        0        0   \n",
       "\n",
       "   target3  target4  \n",
       "0        1        0  \n",
       "1        1        0  \n",
       "2        1        1  \n",
       "3        0        1  \n",
       "4        0        0  "
      ]
     },
     "execution_count": 20,
     "metadata": {},
     "output_type": "execute_result"
    }
   ],
   "source": [
    "df.head()"
   ]
  },
  {
   "cell_type": "markdown",
   "id": "a7d46737-4547-4bd2-a6fb-d81a287ac05e",
   "metadata": {},
   "source": [
    "#### Modelling"
   ]
  },
  {
   "cell_type": "code",
   "execution_count": 21,
   "id": "f176a1a9-36a9-4274-ac41-7efbe1d6efdb",
   "metadata": {},
   "outputs": [],
   "source": [
    "X_train, X_test, Y_train, Y_test = train_test_split(\n",
    "    X, Y, random_state=seed\n",
    ")"
   ]
  },
  {
   "cell_type": "code",
   "execution_count": 22,
   "id": "4a9b7939-d836-4663-9161-5329b281dd1e",
   "metadata": {},
   "outputs": [
    {
     "data": {
      "text/plain": [
       "MultiOutputClassifier(estimator=RandomForestClassifier(random_state=123))"
      ]
     },
     "execution_count": 22,
     "metadata": {},
     "output_type": "execute_result"
    }
   ],
   "source": [
    "model = MultiOutputClassifier(\n",
    "    RandomForestClassifier(random_state=seed)\n",
    ")\n",
    "model.fit(X_train, Y_train)"
   ]
  },
  {
   "cell_type": "code",
   "execution_count": 23,
   "id": "e3e78cc6-c9c1-478c-ac07-d22096597e45",
   "metadata": {},
   "outputs": [
    {
     "name": "stdout",
     "output_type": "stream",
     "text": [
      "Train | Accuracy by class: [1.     1.     1.     0.9987]\n",
      "Test | Accuracy by class: [0.72  0.736 0.76  0.62 ]\n"
     ]
    }
   ],
   "source": [
    "print(f\"Train | Accuracy by class: {np.round(np.mean(Y_train==model.predict(X_train), axis=0),4)}\")\n",
    "print(f\"Test | Accuracy by class: {np.round(np.mean(Y_test==model.predict(X_test), axis=0),4)}\")"
   ]
  },
  {
   "cell_type": "markdown",
   "id": "2951771e-d3d1-4b07-a0e9-bb7895d2d579",
   "metadata": {},
   "source": [
    "# 4. Clustering"
   ]
  },
  {
   "cell_type": "markdown",
   "id": "8868ff4b-48be-4ae0-b9f6-9c866a048b74",
   "metadata": {},
   "source": [
    "#### Synthetic Dataset"
   ]
  },
  {
   "cell_type": "code",
   "execution_count": 24,
   "id": "c4a1f8be-ff5d-4038-87fc-006caf566066",
   "metadata": {},
   "outputs": [],
   "source": [
    "n = 1000\n",
    "n_features = 5\n",
    "seed = 123"
   ]
  },
  {
   "cell_type": "code",
   "execution_count": 25,
   "id": "ed41dd55-910d-4017-afc4-012306582327",
   "metadata": {},
   "outputs": [],
   "source": [
    "X, y = make_blobs(n_samples=n, n_features=n_features, \n",
    "                  centers=4, random_state=seed)"
   ]
  },
  {
   "cell_type": "code",
   "execution_count": 26,
   "id": "78ae2ce3-22db-418a-b47b-bb294046c6fa",
   "metadata": {},
   "outputs": [],
   "source": [
    "columns = [f\"feature{i+1}\" for i in range(n_features)]\n",
    "df = pd.concat([pd.DataFrame(X, columns=columns), \n",
    "                pd.Series(y, name='target')], axis=1)"
   ]
  },
  {
   "cell_type": "code",
   "execution_count": 27,
   "id": "7dad89f4-0f26-4811-98f1-b3a1fd36aa08",
   "metadata": {},
   "outputs": [
    {
     "data": {
      "text/plain": [
       "(1000, 6)"
      ]
     },
     "execution_count": 27,
     "metadata": {},
     "output_type": "execute_result"
    }
   ],
   "source": [
    "df.shape"
   ]
  },
  {
   "cell_type": "code",
   "execution_count": 28,
   "id": "684d32af-c250-4a50-905a-236bb69f844d",
   "metadata": {},
   "outputs": [
    {
     "data": {
      "text/html": [
       "<div>\n",
       "<style scoped>\n",
       "    .dataframe tbody tr th:only-of-type {\n",
       "        vertical-align: middle;\n",
       "    }\n",
       "\n",
       "    .dataframe tbody tr th {\n",
       "        vertical-align: top;\n",
       "    }\n",
       "\n",
       "    .dataframe thead th {\n",
       "        text-align: right;\n",
       "    }\n",
       "</style>\n",
       "<table border=\"1\" class=\"dataframe\">\n",
       "  <thead>\n",
       "    <tr style=\"text-align: right;\">\n",
       "      <th></th>\n",
       "      <th>feature1</th>\n",
       "      <th>feature2</th>\n",
       "      <th>feature3</th>\n",
       "      <th>feature4</th>\n",
       "      <th>feature5</th>\n",
       "      <th>target</th>\n",
       "    </tr>\n",
       "  </thead>\n",
       "  <tbody>\n",
       "    <tr>\n",
       "      <th>0</th>\n",
       "      <td>3.238892</td>\n",
       "      <td>-5.649561</td>\n",
       "      <td>-7.125723</td>\n",
       "      <td>0.897681</td>\n",
       "      <td>-0.605298</td>\n",
       "      <td>3</td>\n",
       "    </tr>\n",
       "    <tr>\n",
       "      <th>1</th>\n",
       "      <td>-0.038555</td>\n",
       "      <td>8.031020</td>\n",
       "      <td>3.435398</td>\n",
       "      <td>-0.343190</td>\n",
       "      <td>-3.713210</td>\n",
       "      <td>1</td>\n",
       "    </tr>\n",
       "    <tr>\n",
       "      <th>2</th>\n",
       "      <td>4.411258</td>\n",
       "      <td>-3.262909</td>\n",
       "      <td>-7.171963</td>\n",
       "      <td>1.754831</td>\n",
       "      <td>4.290620</td>\n",
       "      <td>0</td>\n",
       "    </tr>\n",
       "    <tr>\n",
       "      <th>3</th>\n",
       "      <td>-4.692063</td>\n",
       "      <td>4.224571</td>\n",
       "      <td>-0.643463</td>\n",
       "      <td>-9.088922</td>\n",
       "      <td>-2.692780</td>\n",
       "      <td>2</td>\n",
       "    </tr>\n",
       "    <tr>\n",
       "      <th>4</th>\n",
       "      <td>5.110698</td>\n",
       "      <td>-7.006590</td>\n",
       "      <td>-7.410673</td>\n",
       "      <td>-0.643952</td>\n",
       "      <td>1.664018</td>\n",
       "      <td>3</td>\n",
       "    </tr>\n",
       "  </tbody>\n",
       "</table>\n",
       "</div>"
      ],
      "text/plain": [
       "   feature1  feature2  feature3  feature4  feature5  target\n",
       "0  3.238892 -5.649561 -7.125723  0.897681 -0.605298       3\n",
       "1 -0.038555  8.031020  3.435398 -0.343190 -3.713210       1\n",
       "2  4.411258 -3.262909 -7.171963  1.754831  4.290620       0\n",
       "3 -4.692063  4.224571 -0.643463 -9.088922 -2.692780       2\n",
       "4  5.110698 -7.006590 -7.410673 -0.643952  1.664018       3"
      ]
     },
     "execution_count": 28,
     "metadata": {},
     "output_type": "execute_result"
    }
   ],
   "source": [
    "df.head()"
   ]
  },
  {
   "cell_type": "markdown",
   "id": "21a3021f-c92f-426f-89fd-7dd2ef958d4b",
   "metadata": {},
   "source": [
    "#### Modelling"
   ]
  },
  {
   "cell_type": "code",
   "execution_count": 29,
   "id": "743f8d00-4ccb-4bf1-990d-65e32559b2ad",
   "metadata": {},
   "outputs": [],
   "source": [
    "ks = np.arange(2, 11)\n",
    "sum_squared_distances = []\n",
    "for k in ks:\n",
    "    model = KMeans(k, random_state=seed)\n",
    "    model.fit(X)\n",
    "    sum_squared_distances.append(model.inertia_)"
   ]
  },
  {
   "cell_type": "code",
   "execution_count": 30,
   "id": "0822abd6-792b-40df-8547-eed56a683e85",
   "metadata": {},
   "outputs": [
    {
     "data": {
      "image/png": "[encoded data removed]",
      "text/plain": [
       "<Figure size 432x288 with 1 Axes>"
      ]
     },
     "metadata": {
      "needs_background": "light"
     },
     "output_type": "display_data"
    }
   ],
   "source": [
    "plt.figure(figsize=(6,4))\n",
    "sns.lineplot(x=ks, y=sum_squared_distances)\n",
    "plt.xlabel('k')\n",
    "plt.ylabel('Sum of squared distances');"
   ]
  },
  {
   "cell_type": "markdown",
   "id": "ea52a4af-828d-44b8-87de-1b9db82eb49e",
   "metadata": {},
   "source": [
    "# 5. Numpy & Pandas"
   ]
  },
  {
   "cell_type": "markdown",
   "id": "96254ce9-c98c-4a7b-8edf-362f65e888e0",
   "metadata": {},
   "source": [
    "#### Synthetic Dataset"
   ]
  },
  {
   "cell_type": "code",
   "execution_count": 31,
   "id": "127f86ab-fa04-4a78-bf39-e4fd2b1c25df",
   "metadata": {},
   "outputs": [],
   "source": [
    "n = 1000\n",
    "seed = 123"
   ]
  },
  {
   "cell_type": "code",
   "execution_count": 32,
   "id": "086dc954-a28c-400d-bae1-987cbe361860",
   "metadata": {},
   "outputs": [],
   "source": [
    "np.random.seed(seed)\n",
    "df = pd.DataFrame()\n",
    "df['id'] = np.random.choice(np.arange(10**5, 10**6), n, \n",
    "                            replace=False)  # replace=False to ensure unique ids\n",
    "df['gender'] = np.random.choice(['female', 'male'], n, \n",
    "                                p=[0.6, 0.4])\n",
    "df['age'] = np.random.randint(18, 80, size=n)\n",
    "df['spend'] = skewnorm.rvs(100, loc=1000, scale=500, size=n)  # create skewed data\n",
    "df['points'] = np.random.normal(loc=50, scale=10, size=n)  # create data with normal distribution\n",
    "start_date = pd.Timestamp(\"2013-01-01\")\n",
    "end_date = pd.Timestamp(\"2023-02-01\")\n",
    "delta = (end_date-start_date).days\n",
    "df['date_joined'] = start_date + pd.to_timedelta(np.random.randint(delta, size=n), 'day')"
   ]
  },
  {
   "cell_type": "code",
   "execution_count": 33,
   "id": "9ea14a41-01a5-4d41-89f0-40df15cd65b5",
   "metadata": {},
   "outputs": [
    {
     "data": {
      "text/plain": [
       "(1000, 6)"
      ]
     },
     "execution_count": 33,
     "metadata": {},
     "output_type": "execute_result"
    }
   ],
   "source": [
    "df.shape"
   ]
  },
  {
   "cell_type": "code",
   "execution_count": 34,
   "id": "3b5d60b9-d56f-4437-934b-2cd35cbde3fb",
   "metadata": {},
   "outputs": [
    {
     "data": {
      "text/html": [
       "<div>\n",
       "<style scoped>\n",
       "    .dataframe tbody tr th:only-of-type {\n",
       "        vertical-align: middle;\n",
       "    }\n",
       "\n",
       "    .dataframe tbody tr th {\n",
       "        vertical-align: top;\n",
       "    }\n",
       "\n",
       "    .dataframe thead th {\n",
       "        text-align: right;\n",
       "    }\n",
       "</style>\n",
       "<table border=\"1\" class=\"dataframe\">\n",
       "  <thead>\n",
       "    <tr style=\"text-align: right;\">\n",
       "      <th></th>\n",
       "      <th>id</th>\n",
       "      <th>gender</th>\n",
       "      <th>age</th>\n",
       "      <th>spend</th>\n",
       "      <th>points</th>\n",
       "      <th>date_joined</th>\n",
       "    </tr>\n",
       "  </thead>\n",
       "  <tbody>\n",
       "    <tr>\n",
       "      <th>0</th>\n",
       "      <td>832693</td>\n",
       "      <td>male</td>\n",
       "      <td>34</td>\n",
       "      <td>1018.890046</td>\n",
       "      <td>60.575102</td>\n",
       "      <td>2015-10-30</td>\n",
       "    </tr>\n",
       "    <tr>\n",
       "      <th>1</th>\n",
       "      <td>350178</td>\n",
       "      <td>female</td>\n",
       "      <td>36</td>\n",
       "      <td>1281.766115</td>\n",
       "      <td>46.743267</td>\n",
       "      <td>2014-06-20</td>\n",
       "    </tr>\n",
       "    <tr>\n",
       "      <th>2</th>\n",
       "      <td>737746</td>\n",
       "      <td>male</td>\n",
       "      <td>35</td>\n",
       "      <td>1632.305880</td>\n",
       "      <td>56.505293</td>\n",
       "      <td>2022-04-01</td>\n",
       "    </tr>\n",
       "    <tr>\n",
       "      <th>3</th>\n",
       "      <td>764518</td>\n",
       "      <td>male</td>\n",
       "      <td>48</td>\n",
       "      <td>1569.912243</td>\n",
       "      <td>43.170393</td>\n",
       "      <td>2020-04-08</td>\n",
       "    </tr>\n",
       "    <tr>\n",
       "      <th>4</th>\n",
       "      <td>693412</td>\n",
       "      <td>female</td>\n",
       "      <td>69</td>\n",
       "      <td>1566.269373</td>\n",
       "      <td>45.185563</td>\n",
       "      <td>2014-11-10</td>\n",
       "    </tr>\n",
       "  </tbody>\n",
       "</table>\n",
       "</div>"
      ],
      "text/plain": [
       "       id  gender  age        spend     points date_joined\n",
       "0  832693    male   34  1018.890046  60.575102  2015-10-30\n",
       "1  350178  female   36  1281.766115  46.743267  2014-06-20\n",
       "2  737746    male   35  1632.305880  56.505293  2022-04-01\n",
       "3  764518    male   48  1569.912243  43.170393  2020-04-08\n",
       "4  693412  female   69  1566.269373  45.185563  2014-11-10"
      ]
     },
     "execution_count": 34,
     "metadata": {},
     "output_type": "execute_result"
    }
   ],
   "source": [
    "df.head()"
   ]
  },
  {
   "cell_type": "markdown",
   "id": "f2e146e0-161b-490d-9e1a-fbf7981601ed",
   "metadata": {},
   "source": [
    "#### Data Check"
   ]
  },
  {
   "cell_type": "code",
   "execution_count": 35,
   "id": "9a5e08fd-3631-4e86-b649-392a9cf15626",
   "metadata": {},
   "outputs": [
    {
     "data": {
      "text/html": [
       "<div>\n",
       "<style scoped>\n",
       "    .dataframe tbody tr th:only-of-type {\n",
       "        vertical-align: middle;\n",
       "    }\n",
       "\n",
       "    .dataframe tbody tr th {\n",
       "        vertical-align: top;\n",
       "    }\n",
       "\n",
       "    .dataframe thead th {\n",
       "        text-align: right;\n",
       "    }\n",
       "</style>\n",
       "<table border=\"1\" class=\"dataframe\">\n",
       "  <thead>\n",
       "    <tr style=\"text-align: right;\">\n",
       "      <th></th>\n",
       "      <th>gender</th>\n",
       "      <th>gender</th>\n",
       "    </tr>\n",
       "  </thead>\n",
       "  <tbody>\n",
       "    <tr>\n",
       "      <th>female</th>\n",
       "      <td>0.621</td>\n",
       "      <td>621</td>\n",
       "    </tr>\n",
       "    <tr>\n",
       "      <th>male</th>\n",
       "      <td>0.379</td>\n",
       "      <td>379</td>\n",
       "    </tr>\n",
       "  </tbody>\n",
       "</table>\n",
       "</div>"
      ],
      "text/plain": [
       "        gender  gender\n",
       "female   0.621     621\n",
       "male     0.379     379"
      ]
     },
     "execution_count": 35,
     "metadata": {},
     "output_type": "execute_result"
    }
   ],
   "source": [
    "# Categorical Variable\n",
    "pd.concat([df['gender'].value_counts(normalize=True),\n",
    "           df['gender'].value_counts()], axis=1)"
   ]
  },
  {
   "cell_type": "code",
   "execution_count": 36,
   "id": "9b3224d3-c4ca-48c9-9aa3-43ee3c4919db",
   "metadata": {},
   "outputs": [
    {
     "data": {
      "image/png": "[encoded data removed]",
      "text/plain": [
       "<Figure size 432x504 with 2 Axes>"
      ]
     },
     "metadata": {
      "needs_background": "light"
     },
     "output_type": "display_data"
    }
   ],
   "source": [
    "# Numerical Variables\n",
    "fig, ax = plt.subplots(2, 1, figsize=(6, 7))\n",
    "sns.histplot(data=df, x='spend', ax=ax[0])\n",
    "sns.histplot(data=df, x='points', ax=ax[1])\n",
    "fig.tight_layout();"
   ]
  },
  {
   "cell_type": "code",
   "execution_count": 37,
   "id": "774e3fae-2a1e-4b19-b181-52e2392ddb8f",
   "metadata": {},
   "outputs": [
    {
     "data": {
      "image/png": "[encoded data removed]",
      "text/plain": [
       "<Figure size 432x288 with 1 Axes>"
      ]
     },
     "metadata": {
      "needs_background": "light"
     },
     "output_type": "display_data"
    }
   ],
   "source": [
    "# Date Variable\n",
    "plt.figure(figsize=(6,4))\n",
    "sns.histplot(data=df, x='date_joined');"
   ]
  },
  {
   "cell_type": "markdown",
   "id": "e2709040-daea-47ba-98de-c092751b6925",
   "metadata": {},
   "source": [
    "# 6. Faker"
   ]
  },
  {
   "cell_type": "markdown",
   "id": "2146af1b-635a-45cf-92fa-102eba394170",
   "metadata": {},
   "source": [
    "#### Synthetic Dataset"
   ]
  },
  {
   "cell_type": "markdown",
   "id": "5a8ba31b-1277-4252-b452-e8bae55dbeeb",
   "metadata": {},
   "source": [
    "`Faker` is a library to create fake datasets. The way we work with the library is quite simple, we first initialise a `Faker` object: `fake = Faker()`. Then we can access a whole ranges of methods it offers by `fake.<method_name()>`. For example, check out `fake.name()`. Here’s a sample dataset we can create using the library:"
   ]
  },
  {
   "cell_type": "code",
   "execution_count": 38,
   "id": "800e6a14-22fe-49a7-ba9c-4a0d6acdbe51",
   "metadata": {},
   "outputs": [],
   "source": [
    "n = 1000\n",
    "see = 123"
   ]
  },
  {
   "cell_type": "code",
   "execution_count": 39,
   "id": "9a5aece8-1f75-4f78-b01e-1869cd6bc492",
   "metadata": {},
   "outputs": [],
   "source": [
    "df = pd.DataFrame()\n",
    "fake = Faker()\n",
    "fake.seed_instance(seed)\n",
    "np.random.seed(seed)\n",
    "start_date = datetime(1940, 1, 1)\n",
    "end_date = datetime(2005, 2, 1)\n",
    "for i in range(n):\n",
    "    df.loc[i, 'birthday'] = fake.date_between(start_date, end_date).strftime('%Y-%m-%d')\n",
    "    df.loc[i, 'first_name'] = fake.first_name()\n",
    "    df.loc[i, 'last_name'] = fake.last_name()\n",
    "    df.loc[i, 'email'] = f\"{df.loc[i, 'first_name'].lower()}@{fake.domain_name()}\"\n",
    "    df.loc[i, 'phone_number'] = fake.phone_number()"
   ]
  },
  {
   "cell_type": "code",
   "execution_count": 40,
   "id": "09bf7d7e-c64d-453b-8f8e-f6bf3d581067",
   "metadata": {},
   "outputs": [
    {
     "data": {
      "text/plain": [
       "(1000, 5)"
      ]
     },
     "execution_count": 40,
     "metadata": {},
     "output_type": "execute_result"
    }
   ],
   "source": [
    "df.shape"
   ]
  },
  {
   "cell_type": "code",
   "execution_count": 41,
   "id": "c88b9c91-a2d5-4f98-8205-c9d36f70bd36",
   "metadata": {},
   "outputs": [
    {
     "data": {
      "text/html": [
       "<div>\n",
       "<style scoped>\n",
       "    .dataframe tbody tr th:only-of-type {\n",
       "        vertical-align: middle;\n",
       "    }\n",
       "\n",
       "    .dataframe tbody tr th {\n",
       "        vertical-align: top;\n",
       "    }\n",
       "\n",
       "    .dataframe thead th {\n",
       "        text-align: right;\n",
       "    }\n",
       "</style>\n",
       "<table border=\"1\" class=\"dataframe\">\n",
       "  <thead>\n",
       "    <tr style=\"text-align: right;\">\n",
       "      <th></th>\n",
       "      <th>birthday</th>\n",
       "      <th>first_name</th>\n",
       "      <th>last_name</th>\n",
       "      <th>email</th>\n",
       "      <th>phone_number</th>\n",
       "    </tr>\n",
       "  </thead>\n",
       "  <tbody>\n",
       "    <tr>\n",
       "      <th>0</th>\n",
       "      <td>1943-07-25</td>\n",
       "      <td>Joseph</td>\n",
       "      <td>Mack</td>\n",
       "      <td>joseph@rodriguez-santana.com</td>\n",
       "      <td>(885)502-2585x3206</td>\n",
       "    </tr>\n",
       "    <tr>\n",
       "      <th>1</th>\n",
       "      <td>1992-08-22</td>\n",
       "      <td>Christopher</td>\n",
       "      <td>Harper</td>\n",
       "      <td>christopher@smith.info</td>\n",
       "      <td>012-204-6974</td>\n",
       "    </tr>\n",
       "    <tr>\n",
       "      <th>2</th>\n",
       "      <td>1971-12-08</td>\n",
       "      <td>Mary</td>\n",
       "      <td>Mack</td>\n",
       "      <td>mary@boyd-webb.org</td>\n",
       "      <td>+1-895-068-6897x8658</td>\n",
       "    </tr>\n",
       "    <tr>\n",
       "      <th>3</th>\n",
       "      <td>1942-03-02</td>\n",
       "      <td>Melanie</td>\n",
       "      <td>Brewer</td>\n",
       "      <td>melanie@wilkins.com</td>\n",
       "      <td>586-176-9503x91505</td>\n",
       "    </tr>\n",
       "    <tr>\n",
       "      <th>4</th>\n",
       "      <td>1955-08-04</td>\n",
       "      <td>Richard</td>\n",
       "      <td>Mason</td>\n",
       "      <td>richard@fowler.com</td>\n",
       "      <td>+1-722-876-7002</td>\n",
       "    </tr>\n",
       "  </tbody>\n",
       "</table>\n",
       "</div>"
      ],
      "text/plain": [
       "     birthday   first_name last_name                         email  \\\n",
       "0  1943-07-25       Joseph      Mack  joseph@rodriguez-santana.com   \n",
       "1  1992-08-22  Christopher    Harper        christopher@smith.info   \n",
       "2  1971-12-08         Mary      Mack            mary@boyd-webb.org   \n",
       "3  1942-03-02      Melanie    Brewer           melanie@wilkins.com   \n",
       "4  1955-08-04      Richard     Mason            richard@fowler.com   \n",
       "\n",
       "           phone_number  \n",
       "0    (885)502-2585x3206  \n",
       "1          012-204-6974  \n",
       "2  +1-895-068-6897x8658  \n",
       "3    586-176-9503x91505  \n",
       "4       +1-722-876-7002  "
      ]
     },
     "execution_count": 41,
     "metadata": {},
     "output_type": "execute_result"
    }
   ],
   "source": [
    "df.head()"
   ]
  },
  {
   "cell_type": "markdown",
   "id": "7c57ca32-cac6-4fdf-a599-8c356efdf995",
   "metadata": {},
   "source": [
    "#### Dummy Sentences"
   ]
  },
  {
   "cell_type": "code",
   "execution_count": 42,
   "id": "815b1b83-4b79-49f9-92ad-c18676fefc1c",
   "metadata": {},
   "outputs": [
    {
     "data": {
      "text/plain": [
       "['Several join physical phone detail.',\n",
       " 'War sister girl lot.',\n",
       " 'Big find economic travel sister challenge attorney.',\n",
       " 'Window likely activity whether grow dark add.',\n",
       " 'Oil born nice rather current.']"
      ]
     },
     "execution_count": 42,
     "metadata": {},
     "output_type": "execute_result"
    }
   ],
   "source": [
    "corpus = [fake.sentence() for i in range(n)]\n",
    "corpus[:5]"
   ]
  },
  {
   "cell_type": "markdown",
   "id": "6e1e586e-de9f-42f7-8a11-6abf7987026d",
   "metadata": {},
   "source": [
    "There are also slightly different versions of this depending on what we are after: `fake.sentences()`, `fake.paragraph()` or `fake.paragraphs()`."
   ]
  },
  {
   "cell_type": "markdown",
   "id": "a9b1d138-68c7-433b-bc3b-6e1eac5030f2",
   "metadata": {},
   "source": [
    "For more information about the `Faker` library, here’s its [GitHub](https://github.com/joke2k/faker/blob/master/docs/fakerclass.rst) documentation."
   ]
  },
  {
   "cell_type": "code",
   "execution_count": null,
   "id": "d340182f-b0cb-44ba-a3da-289fc9daaebe",
   "metadata": {},
   "outputs": [],
   "source": []
  }
 ],
 "metadata": {
  "kernelspec": {
   "display_name": "Python [conda env:575]",
   "language": "python",
   "name": "conda-env-575-py"
  },
  "language_info": {
   "codemirror_mode": {
    "name": "ipython",
    "version": 3
   },
   "file_extension": ".py",
   "mimetype": "text/x-python",
   "name": "python",
   "nbconvert_exporter": "python",
   "pygments_lexer": "ipython3",
   "version": "3.10.4"
  }
 },
 "nbformat": 4,
 "nbformat_minor": 5
}
