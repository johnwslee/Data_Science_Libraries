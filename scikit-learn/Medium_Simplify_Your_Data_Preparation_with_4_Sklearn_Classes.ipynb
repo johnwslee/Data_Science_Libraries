{
 "cells": [
  {
   "cell_type": "markdown",
   "id": "6d9d1071-9898-43df-8a4d-54507e49fbba",
   "metadata": {},
   "source": [
    "# 1. Pipeline: Seamlessly combine preprocessing steps"
   ]
  },
  {
   "cell_type": "markdown",
   "id": "6522f63a-8757-41f0-bf9b-1f2980833eda",
   "metadata": {},
   "source": [
    "Pipelines can be composed of two different things:\n",
    "\n",
    "- **Transformer:** any object with the `fit()` and `transform()` methods. You can think of a transformer as an object that’s used for processing your data, and you will commonly have multiple transformers in your data preparation workflow. E.g., you might use one transformer to impute missing values, and another one to scale features or one-hot encode your categorical variables. `MinMaxScaler()`, `SimpleImputer()` and `OneHotEncoder()` are all examples of transformers.\n",
    "- **Estimator:** In scikit-learn lingo, an “estimator” usually means a machine learning model; i.e. an object with the `fit()` and `predict()` methods. `LinearRegression()` and `RandomForestClassifier()` are examples of estimators."
   ]
  },
  {
   "cell_type": "code",
   "execution_count": 1,
   "id": "0896f094-9814-43ec-8159-6d7fd2b1824d",
   "metadata": {},
   "outputs": [],
   "source": [
    "import pandas as pd\n",
    "from sklearn.datasets import load_diabetes\n",
    "from sklearn.model_selection import train_test_split"
   ]
  },
  {
   "cell_type": "code",
   "execution_count": 2,
   "id": "8b83d19d-8554-4306-95a4-43f2019c0ac8",
   "metadata": {},
   "outputs": [],
   "source": [
    "# Load diabetes dataset into pandas DataFrames\n",
    "X, y = load_diabetes(scaled=False, return_X_y=True, as_frame=True)"
   ]
  },
  {
   "cell_type": "code",
   "execution_count": 3,
   "id": "3048fcf4-c273-43a4-ac91-2cf3a180c873",
   "metadata": {},
   "outputs": [],
   "source": [
    "# Split into training and testing sets\n",
    "X_train, X_test, y_train, y_test = train_test_split(X, y, test_size=0.3)"
   ]
  },
  {
   "cell_type": "code",
   "execution_count": 4,
   "id": "648cb253-0399-49fa-a959-b0c47c576eda",
   "metadata": {},
   "outputs": [
    {
     "data": {
      "text/html": [
       "<div>\n",
       "<style scoped>\n",
       "    .dataframe tbody tr th:only-of-type {\n",
       "        vertical-align: middle;\n",
       "    }\n",
       "\n",
       "    .dataframe tbody tr th {\n",
       "        vertical-align: top;\n",
       "    }\n",
       "\n",
       "    .dataframe thead th {\n",
       "        text-align: right;\n",
       "    }\n",
       "</style>\n",
       "<table border=\"1\" class=\"dataframe\">\n",
       "  <thead>\n",
       "    <tr style=\"text-align: right;\">\n",
       "      <th></th>\n",
       "      <th>age</th>\n",
       "      <th>sex</th>\n",
       "      <th>bmi</th>\n",
       "      <th>bp</th>\n",
       "      <th>s1</th>\n",
       "      <th>s2</th>\n",
       "      <th>s3</th>\n",
       "      <th>s4</th>\n",
       "      <th>s5</th>\n",
       "      <th>s6</th>\n",
       "    </tr>\n",
       "  </thead>\n",
       "  <tbody>\n",
       "    <tr>\n",
       "      <th>322</th>\n",
       "      <td>55.0</td>\n",
       "      <td>2.0</td>\n",
       "      <td>32.1</td>\n",
       "      <td>112.67</td>\n",
       "      <td>207.0</td>\n",
       "      <td>92.4</td>\n",
       "      <td>25.0</td>\n",
       "      <td>8.28</td>\n",
       "      <td>6.1048</td>\n",
       "      <td>111.0</td>\n",
       "    </tr>\n",
       "    <tr>\n",
       "      <th>159</th>\n",
       "      <td>47.0</td>\n",
       "      <td>1.0</td>\n",
       "      <td>30.4</td>\n",
       "      <td>120.00</td>\n",
       "      <td>199.0</td>\n",
       "      <td>120.0</td>\n",
       "      <td>46.0</td>\n",
       "      <td>4.00</td>\n",
       "      <td>5.1059</td>\n",
       "      <td>87.0</td>\n",
       "    </tr>\n",
       "    <tr>\n",
       "      <th>318</th>\n",
       "      <td>73.0</td>\n",
       "      <td>1.0</td>\n",
       "      <td>27.0</td>\n",
       "      <td>102.00</td>\n",
       "      <td>211.0</td>\n",
       "      <td>121.0</td>\n",
       "      <td>67.0</td>\n",
       "      <td>3.00</td>\n",
       "      <td>4.7449</td>\n",
       "      <td>99.0</td>\n",
       "    </tr>\n",
       "    <tr>\n",
       "      <th>162</th>\n",
       "      <td>34.0</td>\n",
       "      <td>1.0</td>\n",
       "      <td>29.2</td>\n",
       "      <td>73.00</td>\n",
       "      <td>172.0</td>\n",
       "      <td>108.2</td>\n",
       "      <td>49.0</td>\n",
       "      <td>4.00</td>\n",
       "      <td>4.3041</td>\n",
       "      <td>91.0</td>\n",
       "    </tr>\n",
       "    <tr>\n",
       "      <th>115</th>\n",
       "      <td>40.0</td>\n",
       "      <td>2.0</td>\n",
       "      <td>26.5</td>\n",
       "      <td>93.00</td>\n",
       "      <td>236.0</td>\n",
       "      <td>147.0</td>\n",
       "      <td>37.0</td>\n",
       "      <td>7.00</td>\n",
       "      <td>5.5607</td>\n",
       "      <td>92.0</td>\n",
       "    </tr>\n",
       "  </tbody>\n",
       "</table>\n",
       "</div>"
      ],
      "text/plain": [
       "      age  sex   bmi      bp     s1     s2    s3    s4      s5     s6\n",
       "322  55.0  2.0  32.1  112.67  207.0   92.4  25.0  8.28  6.1048  111.0\n",
       "159  47.0  1.0  30.4  120.00  199.0  120.0  46.0  4.00  5.1059   87.0\n",
       "318  73.0  1.0  27.0  102.00  211.0  121.0  67.0  3.00  4.7449   99.0\n",
       "162  34.0  1.0  29.2   73.00  172.0  108.2  49.0  4.00  4.3041   91.0\n",
       "115  40.0  2.0  26.5   93.00  236.0  147.0  37.0  7.00  5.5607   92.0"
      ]
     },
     "execution_count": 4,
     "metadata": {},
     "output_type": "execute_result"
    }
   ],
   "source": [
    "X_train.head()"
   ]
  },
  {
   "cell_type": "code",
   "execution_count": 5,
   "id": "6bcad3bd-11fa-4093-8904-8cea39fbeb6d",
   "metadata": {},
   "outputs": [
    {
     "data": {
      "text/plain": [
       "322    242.0\n",
       "159    195.0\n",
       "318    109.0\n",
       "162    172.0\n",
       "115    229.0\n",
       "Name: target, dtype: float64"
      ]
     },
     "execution_count": 5,
     "metadata": {},
     "output_type": "execute_result"
    }
   ],
   "source": [
    "y_train.head()"
   ]
  },
  {
   "cell_type": "markdown",
   "id": "bce982de-bb8e-4aea-93a1-84ec707bf0b7",
   "metadata": {},
   "source": [
    "Next, we define our `Pipeline`. For now, I’ll just define a simple preprocessing `Pipeline` that includes two steps — impute missing values with the mean, and rescale all features — and I won’t include an estimator/model. The principles, however, are the same regardless of whether or not you include an estimator."
   ]
  },
  {
   "cell_type": "code",
   "execution_count": 6,
   "id": "73029611-e30f-4e9c-b390-23ca97826e2f",
   "metadata": {},
   "outputs": [],
   "source": [
    "from sklearn import set_config\n",
    "from sklearn.impute import SimpleImputer\n",
    "from sklearn.pipeline import Pipeline\n",
    "from sklearn.preprocessing import MinMaxScaler"
   ]
  },
  {
   "cell_type": "code",
   "execution_count": 7,
   "id": "3c884729-2e60-4c73-a9eb-5a373c5466c0",
   "metadata": {},
   "outputs": [],
   "source": [
    "# Return pandas DataFrames instead of numpy arrays\n",
    "set_config(transform_output=\"pandas\")"
   ]
  },
  {
   "cell_type": "code",
   "execution_count": 8,
   "id": "b7e7f83b-6945-4317-9b1c-5772e790b1e8",
   "metadata": {},
   "outputs": [],
   "source": [
    "# Build pipeline\n",
    "pipe = Pipeline(\n",
    "    steps=[(\"impute_mean\", SimpleImputer(strategy=\"mean\")), (\"rescale\", MinMaxScaler())]\n",
    ")"
   ]
  },
  {
   "cell_type": "markdown",
   "id": "8d4c2d07-7c68-42d0-840e-2325bc04c83f",
   "metadata": {},
   "source": [
    "Once we’ve defined our `Pipeline`, we “fit” it to our training dataset, and use it to transform both the training and testing datasets:"
   ]
  },
  {
   "cell_type": "code",
   "execution_count": 9,
   "id": "d51f26fa-da28-4940-8f66-63626a9b5899",
   "metadata": {},
   "outputs": [
    {
     "data": {
      "text/html": [
       "<style>#sk-container-id-1 {color: black;background-color: white;}#sk-container-id-1 pre{padding: 0;}#sk-container-id-1 div.sk-toggleable {background-color: white;}#sk-container-id-1 label.sk-toggleable__label {cursor: pointer;display: block;width: 100%;margin-bottom: 0;padding: 0.3em;box-sizing: border-box;text-align: center;}#sk-container-id-1 label.sk-toggleable__label-arrow:before {content: \"▸\";float: left;margin-right: 0.25em;color: #696969;}#sk-container-id-1 label.sk-toggleable__label-arrow:hover:before {color: black;}#sk-container-id-1 div.sk-estimator:hover label.sk-toggleable__label-arrow:before {color: black;}#sk-container-id-1 div.sk-toggleable__content {max-height: 0;max-width: 0;overflow: hidden;text-align: left;background-color: #f0f8ff;}#sk-container-id-1 div.sk-toggleable__content pre {margin: 0.2em;color: black;border-radius: 0.25em;background-color: #f0f8ff;}#sk-container-id-1 input.sk-toggleable__control:checked~div.sk-toggleable__content {max-height: 200px;max-width: 100%;overflow: auto;}#sk-container-id-1 input.sk-toggleable__control:checked~label.sk-toggleable__label-arrow:before {content: \"▾\";}#sk-container-id-1 div.sk-estimator input.sk-toggleable__control:checked~label.sk-toggleable__label {background-color: #d4ebff;}#sk-container-id-1 div.sk-label input.sk-toggleable__control:checked~label.sk-toggleable__label {background-color: #d4ebff;}#sk-container-id-1 input.sk-hidden--visually {border: 0;clip: rect(1px 1px 1px 1px);clip: rect(1px, 1px, 1px, 1px);height: 1px;margin: -1px;overflow: hidden;padding: 0;position: absolute;width: 1px;}#sk-container-id-1 div.sk-estimator {font-family: monospace;background-color: #f0f8ff;border: 1px dotted black;border-radius: 0.25em;box-sizing: border-box;margin-bottom: 0.5em;}#sk-container-id-1 div.sk-estimator:hover {background-color: #d4ebff;}#sk-container-id-1 div.sk-parallel-item::after {content: \"\";width: 100%;border-bottom: 1px solid gray;flex-grow: 1;}#sk-container-id-1 div.sk-label:hover label.sk-toggleable__label {background-color: #d4ebff;}#sk-container-id-1 div.sk-serial::before {content: \"\";position: absolute;border-left: 1px solid gray;box-sizing: border-box;top: 0;bottom: 0;left: 50%;z-index: 0;}#sk-container-id-1 div.sk-serial {display: flex;flex-direction: column;align-items: center;background-color: white;padding-right: 0.2em;padding-left: 0.2em;position: relative;}#sk-container-id-1 div.sk-item {position: relative;z-index: 1;}#sk-container-id-1 div.sk-parallel {display: flex;align-items: stretch;justify-content: center;background-color: white;position: relative;}#sk-container-id-1 div.sk-item::before, #sk-container-id-1 div.sk-parallel-item::before {content: \"\";position: absolute;border-left: 1px solid gray;box-sizing: border-box;top: 0;bottom: 0;left: 50%;z-index: -1;}#sk-container-id-1 div.sk-parallel-item {display: flex;flex-direction: column;z-index: 1;position: relative;background-color: white;}#sk-container-id-1 div.sk-parallel-item:first-child::after {align-self: flex-end;width: 50%;}#sk-container-id-1 div.sk-parallel-item:last-child::after {align-self: flex-start;width: 50%;}#sk-container-id-1 div.sk-parallel-item:only-child::after {width: 0;}#sk-container-id-1 div.sk-dashed-wrapped {border: 1px dashed gray;margin: 0 0.4em 0.5em 0.4em;box-sizing: border-box;padding-bottom: 0.4em;background-color: white;}#sk-container-id-1 div.sk-label label {font-family: monospace;font-weight: bold;display: inline-block;line-height: 1.2em;}#sk-container-id-1 div.sk-label-container {text-align: center;}#sk-container-id-1 div.sk-container {/* jupyter's `normalize.less` sets `[hidden] { display: none; }` but bootstrap.min.css set `[hidden] { display: none !important; }` so we also need the `!important` here to be able to override the default hidden behavior on the sphinx rendered scikit-learn.org. See: https://github.com/scikit-learn/scikit-learn/issues/21755 */display: inline-block !important;position: relative;}#sk-container-id-1 div.sk-text-repr-fallback {display: none;}</style><div id=\"sk-container-id-1\" class=\"sk-top-container\"><div class=\"sk-text-repr-fallback\"><pre>Pipeline(steps=[(&#x27;impute_mean&#x27;, SimpleImputer()), (&#x27;rescale&#x27;, MinMaxScaler())])</pre><b>In a Jupyter environment, please rerun this cell to show the HTML representation or trust the notebook. <br />On GitHub, the HTML representation is unable to render, please try loading this page with nbviewer.org.</b></div><div class=\"sk-container\" hidden><div class=\"sk-item sk-dashed-wrapped\"><div class=\"sk-label-container\"><div class=\"sk-label sk-toggleable\"><input class=\"sk-toggleable__control sk-hidden--visually\" id=\"sk-estimator-id-1\" type=\"checkbox\" ><label for=\"sk-estimator-id-1\" class=\"sk-toggleable__label sk-toggleable__label-arrow\">Pipeline</label><div class=\"sk-toggleable__content\"><pre>Pipeline(steps=[(&#x27;impute_mean&#x27;, SimpleImputer()), (&#x27;rescale&#x27;, MinMaxScaler())])</pre></div></div></div><div class=\"sk-serial\"><div class=\"sk-item\"><div class=\"sk-estimator sk-toggleable\"><input class=\"sk-toggleable__control sk-hidden--visually\" id=\"sk-estimator-id-2\" type=\"checkbox\" ><label for=\"sk-estimator-id-2\" class=\"sk-toggleable__label sk-toggleable__label-arrow\">SimpleImputer</label><div class=\"sk-toggleable__content\"><pre>SimpleImputer()</pre></div></div></div><div class=\"sk-item\"><div class=\"sk-estimator sk-toggleable\"><input class=\"sk-toggleable__control sk-hidden--visually\" id=\"sk-estimator-id-3\" type=\"checkbox\" ><label for=\"sk-estimator-id-3\" class=\"sk-toggleable__label sk-toggleable__label-arrow\">MinMaxScaler</label><div class=\"sk-toggleable__content\"><pre>MinMaxScaler()</pre></div></div></div></div></div></div></div>"
      ],
      "text/plain": [
       "Pipeline(steps=[('impute_mean', SimpleImputer()), ('rescale', MinMaxScaler())])"
      ]
     },
     "execution_count": 9,
     "metadata": {},
     "output_type": "execute_result"
    }
   ],
   "source": [
    "# Fit the pipeline to the training data\n",
    "pipe.fit(X_train)"
   ]
  },
  {
   "cell_type": "code",
   "execution_count": 10,
   "id": "ef1d3142-98fe-4efb-929e-3321c739d807",
   "metadata": {},
   "outputs": [],
   "source": [
    "# Transform data using the fitted pipeline\n",
    "X_train_transformed = pipe.transform(X_train)\n",
    "X_test_transformed = pipe.transform(X_test)"
   ]
  },
  {
   "cell_type": "code",
   "execution_count": 11,
   "id": "e6438c25-9983-42bd-ad3e-9f92c45fc028",
   "metadata": {},
   "outputs": [
    {
     "data": {
      "text/html": [
       "<div>\n",
       "<style scoped>\n",
       "    .dataframe tbody tr th:only-of-type {\n",
       "        vertical-align: middle;\n",
       "    }\n",
       "\n",
       "    .dataframe tbody tr th {\n",
       "        vertical-align: top;\n",
       "    }\n",
       "\n",
       "    .dataframe thead th {\n",
       "        text-align: right;\n",
       "    }\n",
       "</style>\n",
       "<table border=\"1\" class=\"dataframe\">\n",
       "  <thead>\n",
       "    <tr style=\"text-align: right;\">\n",
       "      <th></th>\n",
       "      <th>age</th>\n",
       "      <th>sex</th>\n",
       "      <th>bmi</th>\n",
       "      <th>bp</th>\n",
       "      <th>s1</th>\n",
       "      <th>s2</th>\n",
       "      <th>s3</th>\n",
       "      <th>s4</th>\n",
       "      <th>s5</th>\n",
       "      <th>s6</th>\n",
       "    </tr>\n",
       "  </thead>\n",
       "  <tbody>\n",
       "    <tr>\n",
       "      <th>322</th>\n",
       "      <td>0.600000</td>\n",
       "      <td>1.0</td>\n",
       "      <td>0.582645</td>\n",
       "      <td>0.713662</td>\n",
       "      <td>0.539216</td>\n",
       "      <td>0.252988</td>\n",
       "      <td>0.038961</td>\n",
       "      <td>0.885755</td>\n",
       "      <td>0.999228</td>\n",
       "      <td>0.775862</td>\n",
       "    </tr>\n",
       "    <tr>\n",
       "      <th>159</th>\n",
       "      <td>0.466667</td>\n",
       "      <td>0.0</td>\n",
       "      <td>0.512397</td>\n",
       "      <td>0.816901</td>\n",
       "      <td>0.500000</td>\n",
       "      <td>0.390438</td>\n",
       "      <td>0.311688</td>\n",
       "      <td>0.282087</td>\n",
       "      <td>0.648601</td>\n",
       "      <td>0.362069</td>\n",
       "    </tr>\n",
       "    <tr>\n",
       "      <th>318</th>\n",
       "      <td>0.900000</td>\n",
       "      <td>0.0</td>\n",
       "      <td>0.371901</td>\n",
       "      <td>0.563380</td>\n",
       "      <td>0.558824</td>\n",
       "      <td>0.395418</td>\n",
       "      <td>0.584416</td>\n",
       "      <td>0.141044</td>\n",
       "      <td>0.521886</td>\n",
       "      <td>0.568966</td>\n",
       "    </tr>\n",
       "    <tr>\n",
       "      <th>162</th>\n",
       "      <td>0.250000</td>\n",
       "      <td>0.0</td>\n",
       "      <td>0.462810</td>\n",
       "      <td>0.154930</td>\n",
       "      <td>0.367647</td>\n",
       "      <td>0.331673</td>\n",
       "      <td>0.350649</td>\n",
       "      <td>0.282087</td>\n",
       "      <td>0.367159</td>\n",
       "      <td>0.431034</td>\n",
       "    </tr>\n",
       "    <tr>\n",
       "      <th>115</th>\n",
       "      <td>0.350000</td>\n",
       "      <td>1.0</td>\n",
       "      <td>0.351240</td>\n",
       "      <td>0.436620</td>\n",
       "      <td>0.681373</td>\n",
       "      <td>0.524900</td>\n",
       "      <td>0.194805</td>\n",
       "      <td>0.705219</td>\n",
       "      <td>0.808242</td>\n",
       "      <td>0.448276</td>\n",
       "    </tr>\n",
       "  </tbody>\n",
       "</table>\n",
       "</div>"
      ],
      "text/plain": [
       "          age  sex       bmi        bp        s1        s2        s3  \\\n",
       "322  0.600000  1.0  0.582645  0.713662  0.539216  0.252988  0.038961   \n",
       "159  0.466667  0.0  0.512397  0.816901  0.500000  0.390438  0.311688   \n",
       "318  0.900000  0.0  0.371901  0.563380  0.558824  0.395418  0.584416   \n",
       "162  0.250000  0.0  0.462810  0.154930  0.367647  0.331673  0.350649   \n",
       "115  0.350000  1.0  0.351240  0.436620  0.681373  0.524900  0.194805   \n",
       "\n",
       "           s4        s5        s6  \n",
       "322  0.885755  0.999228  0.775862  \n",
       "159  0.282087  0.648601  0.362069  \n",
       "318  0.141044  0.521886  0.568966  \n",
       "162  0.282087  0.367159  0.431034  \n",
       "115  0.705219  0.808242  0.448276  "
      ]
     },
     "execution_count": 11,
     "metadata": {},
     "output_type": "execute_result"
    }
   ],
   "source": [
    "X_train_transformed.head()"
   ]
  },
  {
   "cell_type": "markdown",
   "id": "3efa66f0-e7f7-4253-8230-b6032fe3afd6",
   "metadata": {},
   "source": [
    "The advantage of using a Pipeline to handle these preprocessing steps is twofold:\n",
    "\n",
    "- **Protect against leakage:** Because the preprocessor is fitted to the training dataset `X_train`, no information about the test set is “leaked” when imputing missing values or creating one-hot encoded features.\n",
    "- **Avoid duplication:** If we didn’t use a `Pipeline` to handle these preprocessing steps, we’d end up transforming the `X_test` dataset multiple times (every time we wanted to apply a preprocessing step). At this small scale, the repetition might not seem too bad. But in complex ML workflows you can easily grow to 5, 10, or even 20 preprocessing steps. Using a `Pipeline` makes this easy because we can add in as many steps as we like and still only have to transform `X_train` and `X_test` once:"
   ]
  },
  {
   "cell_type": "raw",
   "id": "eb85351b-43c0-43e0-b5f3-92be23e7479c",
   "metadata": {},
   "source": [
    "preprocessor = Pipeline(steps=[\n",
    "    ('imputer', SimpleImputer(strategy='mean')),\n",
    "    ('scaler', MinMaxScaler()),\n",
    "    ('step_3', ...),\n",
    "    ('step_4', ...),\n",
    "    ...,\n",
    "    ('step_k', ...)\n",
    "])\n",
    "\n",
    "preprocessor.fit(X_train)\n",
    "\n",
    "X_train_transformed = pipe.transform(X_train)\n",
    "X_test_transformed = pipe.transform(X_test)"
   ]
  },
  {
   "cell_type": "markdown",
   "id": "89193d5f-df3d-4d42-bdea-f4e6097b3a9f",
   "metadata": {},
   "source": [
    "# 2. ColumnTransformer: Apply separate transformers to different feature subsets"
   ]
  },
  {
   "cell_type": "markdown",
   "id": "80e5be57-13a4-4caa-9f3e-f4ad147311b3",
   "metadata": {},
   "source": [
    "A `ColumnTransformer` allows you to apply different transformers to different columns of an array or pandas DataFrame."
   ]
  },
  {
   "cell_type": "code",
   "execution_count": 12,
   "id": "ef65e71f-9e73-46d9-891d-8d5734a0c019",
   "metadata": {},
   "outputs": [],
   "source": [
    "from sklearn.compose import ColumnTransformer\n",
    "from sklearn.impute import SimpleImputer\n",
    "from sklearn.pipeline import Pipeline, make_pipeline\n",
    "from sklearn.preprocessing import FunctionTransformer, MinMaxScaler, OneHotEncoder"
   ]
  },
  {
   "cell_type": "code",
   "execution_count": 13,
   "id": "b9b22ab0-1769-4697-bc63-b050e3ce7012",
   "metadata": {},
   "outputs": [],
   "source": [
    "# Categorical columns transformer - (a) impute NAs with the mode, and (b) one-hot encode\n",
    "categorical_features = [\"sex\"]\n",
    "categorical_transformer = Pipeline(\n",
    "    steps=[\n",
    "        (\"impute_mode\", SimpleImputer(strategy=\"most_frequent\")),\n",
    "        (\n",
    "            \"ohe\",\n",
    "            OneHotEncoder(handle_unknown=\"ignore\", sparse_output=False, drop=\"first\"),\n",
    "        ),  # handle_unknown='ignore' ensures that any values not encountered\n",
    "    ]  # in the training dataset are ignored (i.e. all ohe columns will be set to zero)\n",
    ")"
   ]
  },
  {
   "cell_type": "code",
   "execution_count": 14,
   "id": "11e4b0df-07be-4517-a573-7cf06b079378",
   "metadata": {},
   "outputs": [],
   "source": [
    "# Numerical columns transformer - (a) impute NAs with the mean, and (b) rescale\n",
    "numerical_features = [\n",
    "    \"bp\",\n",
    "    \"bmi\",\n",
    "    \"s1\",\n",
    "    \"s2\",\n",
    "    \"s3\",\n",
    "    \"s4\",\n",
    "    \"s5\",\n",
    "    \"s6\",\n",
    "]  # All except 'age' and 'sex'\n",
    "numerical_transformer = Pipeline(\n",
    "    steps=[(\"impute_mean\", SimpleImputer(strategy=\"mean\")), (\"rescale\", MinMaxScaler())]\n",
    ")"
   ]
  },
  {
   "cell_type": "code",
   "execution_count": 15,
   "id": "f96a4e73-a719-4ce3-9676-f75e2506d3c8",
   "metadata": {},
   "outputs": [],
   "source": [
    "# Combine the individual transformers into a single ColumnTransformer\n",
    "preprocessor = ColumnTransformer(\n",
    "    # Chain together the individual transformers\n",
    "    transformers=[\n",
    "        (\"categorical_transformer\", categorical_transformer, categorical_features),\n",
    "        (\"numerical_transformer\", numerical_transformer, numerical_features),\n",
    "    ],\n",
    "    # By default, columns which are not transformed by the ColumnTransformer\n",
    "    # will be dropped. By setting remainder='passthrough', we ensure that\n",
    "    # these columns are retained, in their original form.\n",
    "    remainder=\"passthrough\",\n",
    "    # Prefix feature names with the name of the transformer that generated them (optional)\n",
    "    verbose_feature_names_out=True,\n",
    ")"
   ]
  },
  {
   "cell_type": "code",
   "execution_count": 16,
   "id": "a471c4da-db2d-44ca-86c3-80b9f647cf3c",
   "metadata": {},
   "outputs": [
    {
     "data": {
      "text/html": [
       "<style>#sk-container-id-2 {color: black;background-color: white;}#sk-container-id-2 pre{padding: 0;}#sk-container-id-2 div.sk-toggleable {background-color: white;}#sk-container-id-2 label.sk-toggleable__label {cursor: pointer;display: block;width: 100%;margin-bottom: 0;padding: 0.3em;box-sizing: border-box;text-align: center;}#sk-container-id-2 label.sk-toggleable__label-arrow:before {content: \"▸\";float: left;margin-right: 0.25em;color: #696969;}#sk-container-id-2 label.sk-toggleable__label-arrow:hover:before {color: black;}#sk-container-id-2 div.sk-estimator:hover label.sk-toggleable__label-arrow:before {color: black;}#sk-container-id-2 div.sk-toggleable__content {max-height: 0;max-width: 0;overflow: hidden;text-align: left;background-color: #f0f8ff;}#sk-container-id-2 div.sk-toggleable__content pre {margin: 0.2em;color: black;border-radius: 0.25em;background-color: #f0f8ff;}#sk-container-id-2 input.sk-toggleable__control:checked~div.sk-toggleable__content {max-height: 200px;max-width: 100%;overflow: auto;}#sk-container-id-2 input.sk-toggleable__control:checked~label.sk-toggleable__label-arrow:before {content: \"▾\";}#sk-container-id-2 div.sk-estimator input.sk-toggleable__control:checked~label.sk-toggleable__label {background-color: #d4ebff;}#sk-container-id-2 div.sk-label input.sk-toggleable__control:checked~label.sk-toggleable__label {background-color: #d4ebff;}#sk-container-id-2 input.sk-hidden--visually {border: 0;clip: rect(1px 1px 1px 1px);clip: rect(1px, 1px, 1px, 1px);height: 1px;margin: -1px;overflow: hidden;padding: 0;position: absolute;width: 1px;}#sk-container-id-2 div.sk-estimator {font-family: monospace;background-color: #f0f8ff;border: 1px dotted black;border-radius: 0.25em;box-sizing: border-box;margin-bottom: 0.5em;}#sk-container-id-2 div.sk-estimator:hover {background-color: #d4ebff;}#sk-container-id-2 div.sk-parallel-item::after {content: \"\";width: 100%;border-bottom: 1px solid gray;flex-grow: 1;}#sk-container-id-2 div.sk-label:hover label.sk-toggleable__label {background-color: #d4ebff;}#sk-container-id-2 div.sk-serial::before {content: \"\";position: absolute;border-left: 1px solid gray;box-sizing: border-box;top: 0;bottom: 0;left: 50%;z-index: 0;}#sk-container-id-2 div.sk-serial {display: flex;flex-direction: column;align-items: center;background-color: white;padding-right: 0.2em;padding-left: 0.2em;position: relative;}#sk-container-id-2 div.sk-item {position: relative;z-index: 1;}#sk-container-id-2 div.sk-parallel {display: flex;align-items: stretch;justify-content: center;background-color: white;position: relative;}#sk-container-id-2 div.sk-item::before, #sk-container-id-2 div.sk-parallel-item::before {content: \"\";position: absolute;border-left: 1px solid gray;box-sizing: border-box;top: 0;bottom: 0;left: 50%;z-index: -1;}#sk-container-id-2 div.sk-parallel-item {display: flex;flex-direction: column;z-index: 1;position: relative;background-color: white;}#sk-container-id-2 div.sk-parallel-item:first-child::after {align-self: flex-end;width: 50%;}#sk-container-id-2 div.sk-parallel-item:last-child::after {align-self: flex-start;width: 50%;}#sk-container-id-2 div.sk-parallel-item:only-child::after {width: 0;}#sk-container-id-2 div.sk-dashed-wrapped {border: 1px dashed gray;margin: 0 0.4em 0.5em 0.4em;box-sizing: border-box;padding-bottom: 0.4em;background-color: white;}#sk-container-id-2 div.sk-label label {font-family: monospace;font-weight: bold;display: inline-block;line-height: 1.2em;}#sk-container-id-2 div.sk-label-container {text-align: center;}#sk-container-id-2 div.sk-container {/* jupyter's `normalize.less` sets `[hidden] { display: none; }` but bootstrap.min.css set `[hidden] { display: none !important; }` so we also need the `!important` here to be able to override the default hidden behavior on the sphinx rendered scikit-learn.org. See: https://github.com/scikit-learn/scikit-learn/issues/21755 */display: inline-block !important;position: relative;}#sk-container-id-2 div.sk-text-repr-fallback {display: none;}</style><div id=\"sk-container-id-2\" class=\"sk-top-container\"><div class=\"sk-text-repr-fallback\"><pre>ColumnTransformer(remainder=&#x27;passthrough&#x27;,\n",
       "                  transformers=[(&#x27;categorical_transformer&#x27;,\n",
       "                                 Pipeline(steps=[(&#x27;impute_mode&#x27;,\n",
       "                                                  SimpleImputer(strategy=&#x27;most_frequent&#x27;)),\n",
       "                                                 (&#x27;ohe&#x27;,\n",
       "                                                  OneHotEncoder(drop=&#x27;first&#x27;,\n",
       "                                                                handle_unknown=&#x27;ignore&#x27;,\n",
       "                                                                sparse_output=False))]),\n",
       "                                 [&#x27;sex&#x27;]),\n",
       "                                (&#x27;numerical_transformer&#x27;,\n",
       "                                 Pipeline(steps=[(&#x27;impute_mean&#x27;,\n",
       "                                                  SimpleImputer()),\n",
       "                                                 (&#x27;rescale&#x27;, MinMaxScaler())]),\n",
       "                                 [&#x27;bp&#x27;, &#x27;bmi&#x27;, &#x27;s1&#x27;, &#x27;s2&#x27;, &#x27;s3&#x27;, &#x27;s4&#x27;, &#x27;s5&#x27;,\n",
       "                                  &#x27;s6&#x27;])])</pre><b>In a Jupyter environment, please rerun this cell to show the HTML representation or trust the notebook. <br />On GitHub, the HTML representation is unable to render, please try loading this page with nbviewer.org.</b></div><div class=\"sk-container\" hidden><div class=\"sk-item sk-dashed-wrapped\"><div class=\"sk-label-container\"><div class=\"sk-label sk-toggleable\"><input class=\"sk-toggleable__control sk-hidden--visually\" id=\"sk-estimator-id-4\" type=\"checkbox\" ><label for=\"sk-estimator-id-4\" class=\"sk-toggleable__label sk-toggleable__label-arrow\">ColumnTransformer</label><div class=\"sk-toggleable__content\"><pre>ColumnTransformer(remainder=&#x27;passthrough&#x27;,\n",
       "                  transformers=[(&#x27;categorical_transformer&#x27;,\n",
       "                                 Pipeline(steps=[(&#x27;impute_mode&#x27;,\n",
       "                                                  SimpleImputer(strategy=&#x27;most_frequent&#x27;)),\n",
       "                                                 (&#x27;ohe&#x27;,\n",
       "                                                  OneHotEncoder(drop=&#x27;first&#x27;,\n",
       "                                                                handle_unknown=&#x27;ignore&#x27;,\n",
       "                                                                sparse_output=False))]),\n",
       "                                 [&#x27;sex&#x27;]),\n",
       "                                (&#x27;numerical_transformer&#x27;,\n",
       "                                 Pipeline(steps=[(&#x27;impute_mean&#x27;,\n",
       "                                                  SimpleImputer()),\n",
       "                                                 (&#x27;rescale&#x27;, MinMaxScaler())]),\n",
       "                                 [&#x27;bp&#x27;, &#x27;bmi&#x27;, &#x27;s1&#x27;, &#x27;s2&#x27;, &#x27;s3&#x27;, &#x27;s4&#x27;, &#x27;s5&#x27;,\n",
       "                                  &#x27;s6&#x27;])])</pre></div></div></div><div class=\"sk-parallel\"><div class=\"sk-parallel-item\"><div class=\"sk-item\"><div class=\"sk-label-container\"><div class=\"sk-label sk-toggleable\"><input class=\"sk-toggleable__control sk-hidden--visually\" id=\"sk-estimator-id-5\" type=\"checkbox\" ><label for=\"sk-estimator-id-5\" class=\"sk-toggleable__label sk-toggleable__label-arrow\">categorical_transformer</label><div class=\"sk-toggleable__content\"><pre>[&#x27;sex&#x27;]</pre></div></div></div><div class=\"sk-serial\"><div class=\"sk-item\"><div class=\"sk-serial\"><div class=\"sk-item\"><div class=\"sk-estimator sk-toggleable\"><input class=\"sk-toggleable__control sk-hidden--visually\" id=\"sk-estimator-id-6\" type=\"checkbox\" ><label for=\"sk-estimator-id-6\" class=\"sk-toggleable__label sk-toggleable__label-arrow\">SimpleImputer</label><div class=\"sk-toggleable__content\"><pre>SimpleImputer(strategy=&#x27;most_frequent&#x27;)</pre></div></div></div><div class=\"sk-item\"><div class=\"sk-estimator sk-toggleable\"><input class=\"sk-toggleable__control sk-hidden--visually\" id=\"sk-estimator-id-7\" type=\"checkbox\" ><label for=\"sk-estimator-id-7\" class=\"sk-toggleable__label sk-toggleable__label-arrow\">OneHotEncoder</label><div class=\"sk-toggleable__content\"><pre>OneHotEncoder(drop=&#x27;first&#x27;, handle_unknown=&#x27;ignore&#x27;, sparse_output=False)</pre></div></div></div></div></div></div></div></div><div class=\"sk-parallel-item\"><div class=\"sk-item\"><div class=\"sk-label-container\"><div class=\"sk-label sk-toggleable\"><input class=\"sk-toggleable__control sk-hidden--visually\" id=\"sk-estimator-id-8\" type=\"checkbox\" ><label for=\"sk-estimator-id-8\" class=\"sk-toggleable__label sk-toggleable__label-arrow\">numerical_transformer</label><div class=\"sk-toggleable__content\"><pre>[&#x27;bp&#x27;, &#x27;bmi&#x27;, &#x27;s1&#x27;, &#x27;s2&#x27;, &#x27;s3&#x27;, &#x27;s4&#x27;, &#x27;s5&#x27;, &#x27;s6&#x27;]</pre></div></div></div><div class=\"sk-serial\"><div class=\"sk-item\"><div class=\"sk-serial\"><div class=\"sk-item\"><div class=\"sk-estimator sk-toggleable\"><input class=\"sk-toggleable__control sk-hidden--visually\" id=\"sk-estimator-id-9\" type=\"checkbox\" ><label for=\"sk-estimator-id-9\" class=\"sk-toggleable__label sk-toggleable__label-arrow\">SimpleImputer</label><div class=\"sk-toggleable__content\"><pre>SimpleImputer()</pre></div></div></div><div class=\"sk-item\"><div class=\"sk-estimator sk-toggleable\"><input class=\"sk-toggleable__control sk-hidden--visually\" id=\"sk-estimator-id-10\" type=\"checkbox\" ><label for=\"sk-estimator-id-10\" class=\"sk-toggleable__label sk-toggleable__label-arrow\">MinMaxScaler</label><div class=\"sk-toggleable__content\"><pre>MinMaxScaler()</pre></div></div></div></div></div></div></div></div><div class=\"sk-parallel-item\"><div class=\"sk-item\"><div class=\"sk-label-container\"><div class=\"sk-label sk-toggleable\"><input class=\"sk-toggleable__control sk-hidden--visually\" id=\"sk-estimator-id-11\" type=\"checkbox\" ><label for=\"sk-estimator-id-11\" class=\"sk-toggleable__label sk-toggleable__label-arrow\">remainder</label><div class=\"sk-toggleable__content\"><pre>[&#x27;age&#x27;]</pre></div></div></div><div class=\"sk-serial\"><div class=\"sk-item\"><div class=\"sk-estimator sk-toggleable\"><input class=\"sk-toggleable__control sk-hidden--visually\" id=\"sk-estimator-id-12\" type=\"checkbox\" ><label for=\"sk-estimator-id-12\" class=\"sk-toggleable__label sk-toggleable__label-arrow\">passthrough</label><div class=\"sk-toggleable__content\"><pre>passthrough</pre></div></div></div></div></div></div></div></div></div></div>"
      ],
      "text/plain": [
       "ColumnTransformer(remainder='passthrough',\n",
       "                  transformers=[('categorical_transformer',\n",
       "                                 Pipeline(steps=[('impute_mode',\n",
       "                                                  SimpleImputer(strategy='most_frequent')),\n",
       "                                                 ('ohe',\n",
       "                                                  OneHotEncoder(drop='first',\n",
       "                                                                handle_unknown='ignore',\n",
       "                                                                sparse_output=False))]),\n",
       "                                 ['sex']),\n",
       "                                ('numerical_transformer',\n",
       "                                 Pipeline(steps=[('impute_mean',\n",
       "                                                  SimpleImputer()),\n",
       "                                                 ('rescale', MinMaxScaler())]),\n",
       "                                 ['bp', 'bmi', 's1', 's2', 's3', 's4', 's5',\n",
       "                                  's6'])])"
      ]
     },
     "execution_count": 16,
     "metadata": {},
     "output_type": "execute_result"
    }
   ],
   "source": [
    "# Fit the preprocessor to the training data\n",
    "preprocessor.fit(X_train)"
   ]
  },
  {
   "cell_type": "markdown",
   "id": "9722649b-8c30-462d-83f6-40b2b3631ae8",
   "metadata": {},
   "source": [
    "To apply the `ColumnTransformer` to our data, we use the same code as we did to apply our first `Pipeline`:"
   ]
  },
  {
   "cell_type": "code",
   "execution_count": 17,
   "id": "76a66b86-574e-4754-b726-c667f2ffb969",
   "metadata": {},
   "outputs": [],
   "source": [
    "# Transform data using the fitted preprocessor\n",
    "X_train_transformed = preprocessor.transform(X_train)\n",
    "X_test_transformed = preprocessor.transform(X_test)"
   ]
  },
  {
   "cell_type": "code",
   "execution_count": 18,
   "id": "4d1b67f1-d0ce-46d4-a3ce-d68fe93808ec",
   "metadata": {},
   "outputs": [
    {
     "data": {
      "text/html": [
       "<div>\n",
       "<style scoped>\n",
       "    .dataframe tbody tr th:only-of-type {\n",
       "        vertical-align: middle;\n",
       "    }\n",
       "\n",
       "    .dataframe tbody tr th {\n",
       "        vertical-align: top;\n",
       "    }\n",
       "\n",
       "    .dataframe thead th {\n",
       "        text-align: right;\n",
       "    }\n",
       "</style>\n",
       "<table border=\"1\" class=\"dataframe\">\n",
       "  <thead>\n",
       "    <tr style=\"text-align: right;\">\n",
       "      <th></th>\n",
       "      <th>categorical_transformer__sex_2.0</th>\n",
       "      <th>numerical_transformer__bp</th>\n",
       "      <th>numerical_transformer__bmi</th>\n",
       "      <th>numerical_transformer__s1</th>\n",
       "      <th>numerical_transformer__s2</th>\n",
       "      <th>numerical_transformer__s3</th>\n",
       "      <th>numerical_transformer__s4</th>\n",
       "      <th>numerical_transformer__s5</th>\n",
       "      <th>numerical_transformer__s6</th>\n",
       "      <th>remainder__age</th>\n",
       "    </tr>\n",
       "  </thead>\n",
       "  <tbody>\n",
       "    <tr>\n",
       "      <th>322</th>\n",
       "      <td>1.0</td>\n",
       "      <td>0.713662</td>\n",
       "      <td>0.582645</td>\n",
       "      <td>0.539216</td>\n",
       "      <td>0.252988</td>\n",
       "      <td>0.038961</td>\n",
       "      <td>0.885755</td>\n",
       "      <td>0.999228</td>\n",
       "      <td>0.775862</td>\n",
       "      <td>55.0</td>\n",
       "    </tr>\n",
       "    <tr>\n",
       "      <th>159</th>\n",
       "      <td>0.0</td>\n",
       "      <td>0.816901</td>\n",
       "      <td>0.512397</td>\n",
       "      <td>0.500000</td>\n",
       "      <td>0.390438</td>\n",
       "      <td>0.311688</td>\n",
       "      <td>0.282087</td>\n",
       "      <td>0.648601</td>\n",
       "      <td>0.362069</td>\n",
       "      <td>47.0</td>\n",
       "    </tr>\n",
       "    <tr>\n",
       "      <th>318</th>\n",
       "      <td>0.0</td>\n",
       "      <td>0.563380</td>\n",
       "      <td>0.371901</td>\n",
       "      <td>0.558824</td>\n",
       "      <td>0.395418</td>\n",
       "      <td>0.584416</td>\n",
       "      <td>0.141044</td>\n",
       "      <td>0.521886</td>\n",
       "      <td>0.568966</td>\n",
       "      <td>73.0</td>\n",
       "    </tr>\n",
       "    <tr>\n",
       "      <th>162</th>\n",
       "      <td>0.0</td>\n",
       "      <td>0.154930</td>\n",
       "      <td>0.462810</td>\n",
       "      <td>0.367647</td>\n",
       "      <td>0.331673</td>\n",
       "      <td>0.350649</td>\n",
       "      <td>0.282087</td>\n",
       "      <td>0.367159</td>\n",
       "      <td>0.431034</td>\n",
       "      <td>34.0</td>\n",
       "    </tr>\n",
       "    <tr>\n",
       "      <th>115</th>\n",
       "      <td>1.0</td>\n",
       "      <td>0.436620</td>\n",
       "      <td>0.351240</td>\n",
       "      <td>0.681373</td>\n",
       "      <td>0.524900</td>\n",
       "      <td>0.194805</td>\n",
       "      <td>0.705219</td>\n",
       "      <td>0.808242</td>\n",
       "      <td>0.448276</td>\n",
       "      <td>40.0</td>\n",
       "    </tr>\n",
       "  </tbody>\n",
       "</table>\n",
       "</div>"
      ],
      "text/plain": [
       "     categorical_transformer__sex_2.0  numerical_transformer__bp  \\\n",
       "322                               1.0                   0.713662   \n",
       "159                               0.0                   0.816901   \n",
       "318                               0.0                   0.563380   \n",
       "162                               0.0                   0.154930   \n",
       "115                               1.0                   0.436620   \n",
       "\n",
       "     numerical_transformer__bmi  numerical_transformer__s1  \\\n",
       "322                    0.582645                   0.539216   \n",
       "159                    0.512397                   0.500000   \n",
       "318                    0.371901                   0.558824   \n",
       "162                    0.462810                   0.367647   \n",
       "115                    0.351240                   0.681373   \n",
       "\n",
       "     numerical_transformer__s2  numerical_transformer__s3  \\\n",
       "322                   0.252988                   0.038961   \n",
       "159                   0.390438                   0.311688   \n",
       "318                   0.395418                   0.584416   \n",
       "162                   0.331673                   0.350649   \n",
       "115                   0.524900                   0.194805   \n",
       "\n",
       "     numerical_transformer__s4  numerical_transformer__s5  \\\n",
       "322                   0.885755                   0.999228   \n",
       "159                   0.282087                   0.648601   \n",
       "318                   0.141044                   0.521886   \n",
       "162                   0.282087                   0.367159   \n",
       "115                   0.705219                   0.808242   \n",
       "\n",
       "     numerical_transformer__s6  remainder__age  \n",
       "322                   0.775862            55.0  \n",
       "159                   0.362069            47.0  \n",
       "318                   0.568966            73.0  \n",
       "162                   0.431034            34.0  \n",
       "115                   0.448276            40.0  "
      ]
     },
     "execution_count": 18,
     "metadata": {},
     "output_type": "execute_result"
    }
   ],
   "source": [
    "X_train_transformed.head()"
   ]
  },
  {
   "cell_type": "markdown",
   "id": "ddc3964f-58ab-40f2-a003-718df7dda4ca",
   "metadata": {},
   "source": [
    "# 3. FeatureUnion: Apply multiple transformers in parallel"
   ]
  },
  {
   "cell_type": "markdown",
   "id": "bc3901a9-17bb-45b5-8de1-f5debb6852c1",
   "metadata": {},
   "source": [
    "`Pipeline` and `ColumnTransformer` are awesome tools, but they can only apply transformers *sequentially.*"
   ]
  },
  {
   "cell_type": "markdown",
   "id": "c52bf9e7-6cf3-4a59-8c01-7db2bba78980",
   "metadata": {},
   "source": [
    "If we want to apply multiple transformations to the same underlying features in parallel, we need to use another tool: `FeatureUnion`."
   ]
  },
  {
   "cell_type": "markdown",
   "id": "4707d944-2a7f-4e9d-a6e9-e93642a2a218",
   "metadata": {},
   "source": [
    "We can think of `FeatureUnion` as a tool that creates a “copy” of your underlying data, applies transformers to those copies in parallel, and then stitches the results together. Each transformer is passed the raw, underlying data, so we don’t experience the problem of sequential transformation."
   ]
  },
  {
   "cell_type": "code",
   "execution_count": 19,
   "id": "257ba0ef-3eaa-4cd0-9e38-4bf94d78b8ba",
   "metadata": {},
   "outputs": [],
   "source": [
    "from sklearn.decomposition import PCA, TruncatedSVD\n",
    "from sklearn.pipeline import FeatureUnion"
   ]
  },
  {
   "cell_type": "code",
   "execution_count": 20,
   "id": "8422156b-55b6-46ab-8c07-6b1c690540c5",
   "metadata": {},
   "outputs": [],
   "source": [
    "# Define a feature_union object which will create reduced-dimensionality features\n",
    "union = FeatureUnion(\n",
    "    transformer_list=[\n",
    "        (\"pca\", PCA(n_components=1)),\n",
    "        (\"svd\", TruncatedSVD(n_components=2)),\n",
    "    ]\n",
    ")"
   ]
  },
  {
   "cell_type": "code",
   "execution_count": 21,
   "id": "143376d6-e498-47f1-a0e9-748466fc9323",
   "metadata": {},
   "outputs": [],
   "source": [
    "# Adapt the numerical transformer so that it includes the FeatureUnion\n",
    "numerical_features = [\n",
    "    \"bp\",\n",
    "    \"bmi\",\n",
    "    \"s1\",\n",
    "    \"s2\",\n",
    "    \"s3\",\n",
    "    \"s4\",\n",
    "    \"s5\",\n",
    "    \"s6\",\n",
    "]  # All except 'age' and 'sex'\n",
    "numerical_transformer = Pipeline(\n",
    "    steps=[\n",
    "        (\"impute_mean\", SimpleImputer(strategy=\"mean\")),\n",
    "        (\"rescale\", MinMaxScaler()),\n",
    "        (\"reduce_dimensionality\", union),\n",
    "    ]\n",
    ")"
   ]
  },
  {
   "cell_type": "code",
   "execution_count": 22,
   "id": "c3288444-f54c-424e-b0fc-2c2cc60c4b51",
   "metadata": {},
   "outputs": [],
   "source": [
    "# Categorical columns transformer - same as above\n",
    "categorical_features = [\"sex\"]\n",
    "categorical_transformer = Pipeline(\n",
    "    steps=[\n",
    "        (\"impute_mode\", SimpleImputer(strategy=\"most_frequent\")),\n",
    "        (\n",
    "            \"ohe\",\n",
    "            OneHotEncoder(handle_unknown=\"ignore\", sparse_output=False, drop=\"first\"),\n",
    "        ),  # handle_unknown='ignore' ensures that any values not encountered in the training dataset are ignored (i.e. all ohe columns will be set to zero)\n",
    "    ]\n",
    ")"
   ]
  },
  {
   "cell_type": "code",
   "execution_count": 23,
   "id": "ab595e9c-5acd-4cb8-983a-efffd57b3b41",
   "metadata": {},
   "outputs": [],
   "source": [
    "# Build the ColumnTransformer\n",
    "preprocessor = ColumnTransformer(\n",
    "    transformers=[\n",
    "        (\"categorical_transformer\", categorical_transformer, categorical_features),\n",
    "        (\"numerical_transformer\", numerical_transformer, numerical_features),\n",
    "    ],\n",
    "    remainder=\"passthrough\",\n",
    "    verbose_feature_names_out=True,\n",
    ")"
   ]
  },
  {
   "cell_type": "code",
   "execution_count": 24,
   "id": "d9c36395-117c-4b73-950e-968b32355bb6",
   "metadata": {},
   "outputs": [
    {
     "data": {
      "text/html": [
       "<style>#sk-container-id-3 {color: black;background-color: white;}#sk-container-id-3 pre{padding: 0;}#sk-container-id-3 div.sk-toggleable {background-color: white;}#sk-container-id-3 label.sk-toggleable__label {cursor: pointer;display: block;width: 100%;margin-bottom: 0;padding: 0.3em;box-sizing: border-box;text-align: center;}#sk-container-id-3 label.sk-toggleable__label-arrow:before {content: \"▸\";float: left;margin-right: 0.25em;color: #696969;}#sk-container-id-3 label.sk-toggleable__label-arrow:hover:before {color: black;}#sk-container-id-3 div.sk-estimator:hover label.sk-toggleable__label-arrow:before {color: black;}#sk-container-id-3 div.sk-toggleable__content {max-height: 0;max-width: 0;overflow: hidden;text-align: left;background-color: #f0f8ff;}#sk-container-id-3 div.sk-toggleable__content pre {margin: 0.2em;color: black;border-radius: 0.25em;background-color: #f0f8ff;}#sk-container-id-3 input.sk-toggleable__control:checked~div.sk-toggleable__content {max-height: 200px;max-width: 100%;overflow: auto;}#sk-container-id-3 input.sk-toggleable__control:checked~label.sk-toggleable__label-arrow:before {content: \"▾\";}#sk-container-id-3 div.sk-estimator input.sk-toggleable__control:checked~label.sk-toggleable__label {background-color: #d4ebff;}#sk-container-id-3 div.sk-label input.sk-toggleable__control:checked~label.sk-toggleable__label {background-color: #d4ebff;}#sk-container-id-3 input.sk-hidden--visually {border: 0;clip: rect(1px 1px 1px 1px);clip: rect(1px, 1px, 1px, 1px);height: 1px;margin: -1px;overflow: hidden;padding: 0;position: absolute;width: 1px;}#sk-container-id-3 div.sk-estimator {font-family: monospace;background-color: #f0f8ff;border: 1px dotted black;border-radius: 0.25em;box-sizing: border-box;margin-bottom: 0.5em;}#sk-container-id-3 div.sk-estimator:hover {background-color: #d4ebff;}#sk-container-id-3 div.sk-parallel-item::after {content: \"\";width: 100%;border-bottom: 1px solid gray;flex-grow: 1;}#sk-container-id-3 div.sk-label:hover label.sk-toggleable__label {background-color: #d4ebff;}#sk-container-id-3 div.sk-serial::before {content: \"\";position: absolute;border-left: 1px solid gray;box-sizing: border-box;top: 0;bottom: 0;left: 50%;z-index: 0;}#sk-container-id-3 div.sk-serial {display: flex;flex-direction: column;align-items: center;background-color: white;padding-right: 0.2em;padding-left: 0.2em;position: relative;}#sk-container-id-3 div.sk-item {position: relative;z-index: 1;}#sk-container-id-3 div.sk-parallel {display: flex;align-items: stretch;justify-content: center;background-color: white;position: relative;}#sk-container-id-3 div.sk-item::before, #sk-container-id-3 div.sk-parallel-item::before {content: \"\";position: absolute;border-left: 1px solid gray;box-sizing: border-box;top: 0;bottom: 0;left: 50%;z-index: -1;}#sk-container-id-3 div.sk-parallel-item {display: flex;flex-direction: column;z-index: 1;position: relative;background-color: white;}#sk-container-id-3 div.sk-parallel-item:first-child::after {align-self: flex-end;width: 50%;}#sk-container-id-3 div.sk-parallel-item:last-child::after {align-self: flex-start;width: 50%;}#sk-container-id-3 div.sk-parallel-item:only-child::after {width: 0;}#sk-container-id-3 div.sk-dashed-wrapped {border: 1px dashed gray;margin: 0 0.4em 0.5em 0.4em;box-sizing: border-box;padding-bottom: 0.4em;background-color: white;}#sk-container-id-3 div.sk-label label {font-family: monospace;font-weight: bold;display: inline-block;line-height: 1.2em;}#sk-container-id-3 div.sk-label-container {text-align: center;}#sk-container-id-3 div.sk-container {/* jupyter's `normalize.less` sets `[hidden] { display: none; }` but bootstrap.min.css set `[hidden] { display: none !important; }` so we also need the `!important` here to be able to override the default hidden behavior on the sphinx rendered scikit-learn.org. See: https://github.com/scikit-learn/scikit-learn/issues/21755 */display: inline-block !important;position: relative;}#sk-container-id-3 div.sk-text-repr-fallback {display: none;}</style><div id=\"sk-container-id-3\" class=\"sk-top-container\"><div class=\"sk-text-repr-fallback\"><pre>ColumnTransformer(remainder=&#x27;passthrough&#x27;,\n",
       "                  transformers=[(&#x27;categorical_transformer&#x27;,\n",
       "                                 Pipeline(steps=[(&#x27;impute_mode&#x27;,\n",
       "                                                  SimpleImputer(strategy=&#x27;most_frequent&#x27;)),\n",
       "                                                 (&#x27;ohe&#x27;,\n",
       "                                                  OneHotEncoder(drop=&#x27;first&#x27;,\n",
       "                                                                handle_unknown=&#x27;ignore&#x27;,\n",
       "                                                                sparse_output=False))]),\n",
       "                                 [&#x27;sex&#x27;]),\n",
       "                                (&#x27;numerical_transformer&#x27;,\n",
       "                                 Pipeline(steps=[(&#x27;impute_mean&#x27;,\n",
       "                                                  SimpleImputer()),\n",
       "                                                 (&#x27;rescale&#x27;, MinMaxScaler()),\n",
       "                                                 (&#x27;reduce_dimensionality&#x27;,\n",
       "                                                  FeatureUnion(transformer_list=[(&#x27;pca&#x27;,\n",
       "                                                                                  PCA(n_components=1)),\n",
       "                                                                                 (&#x27;svd&#x27;,\n",
       "                                                                                  TruncatedSVD())]))]),\n",
       "                                 [&#x27;bp&#x27;, &#x27;bmi&#x27;, &#x27;s1&#x27;, &#x27;s2&#x27;, &#x27;s3&#x27;, &#x27;s4&#x27;, &#x27;s5&#x27;,\n",
       "                                  &#x27;s6&#x27;])])</pre><b>In a Jupyter environment, please rerun this cell to show the HTML representation or trust the notebook. <br />On GitHub, the HTML representation is unable to render, please try loading this page with nbviewer.org.</b></div><div class=\"sk-container\" hidden><div class=\"sk-item sk-dashed-wrapped\"><div class=\"sk-label-container\"><div class=\"sk-label sk-toggleable\"><input class=\"sk-toggleable__control sk-hidden--visually\" id=\"sk-estimator-id-13\" type=\"checkbox\" ><label for=\"sk-estimator-id-13\" class=\"sk-toggleable__label sk-toggleable__label-arrow\">ColumnTransformer</label><div class=\"sk-toggleable__content\"><pre>ColumnTransformer(remainder=&#x27;passthrough&#x27;,\n",
       "                  transformers=[(&#x27;categorical_transformer&#x27;,\n",
       "                                 Pipeline(steps=[(&#x27;impute_mode&#x27;,\n",
       "                                                  SimpleImputer(strategy=&#x27;most_frequent&#x27;)),\n",
       "                                                 (&#x27;ohe&#x27;,\n",
       "                                                  OneHotEncoder(drop=&#x27;first&#x27;,\n",
       "                                                                handle_unknown=&#x27;ignore&#x27;,\n",
       "                                                                sparse_output=False))]),\n",
       "                                 [&#x27;sex&#x27;]),\n",
       "                                (&#x27;numerical_transformer&#x27;,\n",
       "                                 Pipeline(steps=[(&#x27;impute_mean&#x27;,\n",
       "                                                  SimpleImputer()),\n",
       "                                                 (&#x27;rescale&#x27;, MinMaxScaler()),\n",
       "                                                 (&#x27;reduce_dimensionality&#x27;,\n",
       "                                                  FeatureUnion(transformer_list=[(&#x27;pca&#x27;,\n",
       "                                                                                  PCA(n_components=1)),\n",
       "                                                                                 (&#x27;svd&#x27;,\n",
       "                                                                                  TruncatedSVD())]))]),\n",
       "                                 [&#x27;bp&#x27;, &#x27;bmi&#x27;, &#x27;s1&#x27;, &#x27;s2&#x27;, &#x27;s3&#x27;, &#x27;s4&#x27;, &#x27;s5&#x27;,\n",
       "                                  &#x27;s6&#x27;])])</pre></div></div></div><div class=\"sk-parallel\"><div class=\"sk-parallel-item\"><div class=\"sk-item\"><div class=\"sk-label-container\"><div class=\"sk-label sk-toggleable\"><input class=\"sk-toggleable__control sk-hidden--visually\" id=\"sk-estimator-id-14\" type=\"checkbox\" ><label for=\"sk-estimator-id-14\" class=\"sk-toggleable__label sk-toggleable__label-arrow\">categorical_transformer</label><div class=\"sk-toggleable__content\"><pre>[&#x27;sex&#x27;]</pre></div></div></div><div class=\"sk-serial\"><div class=\"sk-item\"><div class=\"sk-serial\"><div class=\"sk-item\"><div class=\"sk-estimator sk-toggleable\"><input class=\"sk-toggleable__control sk-hidden--visually\" id=\"sk-estimator-id-15\" type=\"checkbox\" ><label for=\"sk-estimator-id-15\" class=\"sk-toggleable__label sk-toggleable__label-arrow\">SimpleImputer</label><div class=\"sk-toggleable__content\"><pre>SimpleImputer(strategy=&#x27;most_frequent&#x27;)</pre></div></div></div><div class=\"sk-item\"><div class=\"sk-estimator sk-toggleable\"><input class=\"sk-toggleable__control sk-hidden--visually\" id=\"sk-estimator-id-16\" type=\"checkbox\" ><label for=\"sk-estimator-id-16\" class=\"sk-toggleable__label sk-toggleable__label-arrow\">OneHotEncoder</label><div class=\"sk-toggleable__content\"><pre>OneHotEncoder(drop=&#x27;first&#x27;, handle_unknown=&#x27;ignore&#x27;, sparse_output=False)</pre></div></div></div></div></div></div></div></div><div class=\"sk-parallel-item\"><div class=\"sk-item\"><div class=\"sk-label-container\"><div class=\"sk-label sk-toggleable\"><input class=\"sk-toggleable__control sk-hidden--visually\" id=\"sk-estimator-id-17\" type=\"checkbox\" ><label for=\"sk-estimator-id-17\" class=\"sk-toggleable__label sk-toggleable__label-arrow\">numerical_transformer</label><div class=\"sk-toggleable__content\"><pre>[&#x27;bp&#x27;, &#x27;bmi&#x27;, &#x27;s1&#x27;, &#x27;s2&#x27;, &#x27;s3&#x27;, &#x27;s4&#x27;, &#x27;s5&#x27;, &#x27;s6&#x27;]</pre></div></div></div><div class=\"sk-serial\"><div class=\"sk-item\"><div class=\"sk-serial\"><div class=\"sk-item\"><div class=\"sk-estimator sk-toggleable\"><input class=\"sk-toggleable__control sk-hidden--visually\" id=\"sk-estimator-id-18\" type=\"checkbox\" ><label for=\"sk-estimator-id-18\" class=\"sk-toggleable__label sk-toggleable__label-arrow\">SimpleImputer</label><div class=\"sk-toggleable__content\"><pre>SimpleImputer()</pre></div></div></div><div class=\"sk-item\"><div class=\"sk-estimator sk-toggleable\"><input class=\"sk-toggleable__control sk-hidden--visually\" id=\"sk-estimator-id-19\" type=\"checkbox\" ><label for=\"sk-estimator-id-19\" class=\"sk-toggleable__label sk-toggleable__label-arrow\">MinMaxScaler</label><div class=\"sk-toggleable__content\"><pre>MinMaxScaler()</pre></div></div></div><div class=\"sk-item sk-dashed-wrapped\"><div class=\"sk-label-container\"><div class=\"sk-label sk-toggleable\"><input class=\"sk-toggleable__control sk-hidden--visually\" id=\"sk-estimator-id-20\" type=\"checkbox\" ><label for=\"sk-estimator-id-20\" class=\"sk-toggleable__label sk-toggleable__label-arrow\">reduce_dimensionality: FeatureUnion</label><div class=\"sk-toggleable__content\"><pre>FeatureUnion(transformer_list=[(&#x27;pca&#x27;, PCA(n_components=1)),\n",
       "                               (&#x27;svd&#x27;, TruncatedSVD())])</pre></div></div></div><div class=\"sk-parallel\"><div class=\"sk-parallel-item\"><div class=\"sk-item\"><div class=\"sk-label-container\"><div class=\"sk-label sk-toggleable\"><label>pca</label></div></div><div class=\"sk-serial\"><div class=\"sk-item\"><div class=\"sk-estimator sk-toggleable\"><input class=\"sk-toggleable__control sk-hidden--visually\" id=\"sk-estimator-id-21\" type=\"checkbox\" ><label for=\"sk-estimator-id-21\" class=\"sk-toggleable__label sk-toggleable__label-arrow\">PCA</label><div class=\"sk-toggleable__content\"><pre>PCA(n_components=1)</pre></div></div></div></div></div></div><div class=\"sk-parallel-item\"><div class=\"sk-item\"><div class=\"sk-label-container\"><div class=\"sk-label sk-toggleable\"><label>svd</label></div></div><div class=\"sk-serial\"><div class=\"sk-item\"><div class=\"sk-estimator sk-toggleable\"><input class=\"sk-toggleable__control sk-hidden--visually\" id=\"sk-estimator-id-22\" type=\"checkbox\" ><label for=\"sk-estimator-id-22\" class=\"sk-toggleable__label sk-toggleable__label-arrow\">TruncatedSVD</label><div class=\"sk-toggleable__content\"><pre>TruncatedSVD()</pre></div></div></div></div></div></div></div></div></div></div></div></div></div><div class=\"sk-parallel-item\"><div class=\"sk-item\"><div class=\"sk-label-container\"><div class=\"sk-label sk-toggleable\"><input class=\"sk-toggleable__control sk-hidden--visually\" id=\"sk-estimator-id-23\" type=\"checkbox\" ><label for=\"sk-estimator-id-23\" class=\"sk-toggleable__label sk-toggleable__label-arrow\">remainder</label><div class=\"sk-toggleable__content\"><pre>[&#x27;age&#x27;]</pre></div></div></div><div class=\"sk-serial\"><div class=\"sk-item\"><div class=\"sk-estimator sk-toggleable\"><input class=\"sk-toggleable__control sk-hidden--visually\" id=\"sk-estimator-id-24\" type=\"checkbox\" ><label for=\"sk-estimator-id-24\" class=\"sk-toggleable__label sk-toggleable__label-arrow\">passthrough</label><div class=\"sk-toggleable__content\"><pre>passthrough</pre></div></div></div></div></div></div></div></div></div></div>"
      ],
      "text/plain": [
       "ColumnTransformer(remainder='passthrough',\n",
       "                  transformers=[('categorical_transformer',\n",
       "                                 Pipeline(steps=[('impute_mode',\n",
       "                                                  SimpleImputer(strategy='most_frequent')),\n",
       "                                                 ('ohe',\n",
       "                                                  OneHotEncoder(drop='first',\n",
       "                                                                handle_unknown='ignore',\n",
       "                                                                sparse_output=False))]),\n",
       "                                 ['sex']),\n",
       "                                ('numerical_transformer',\n",
       "                                 Pipeline(steps=[('impute_mean',\n",
       "                                                  SimpleImputer()),\n",
       "                                                 ('rescale', MinMaxScaler()),\n",
       "                                                 ('reduce_dimensionality',\n",
       "                                                  FeatureUnion(transformer_list=[('pca',\n",
       "                                                                                  PCA(n_components=1)),\n",
       "                                                                                 ('svd',\n",
       "                                                                                  TruncatedSVD())]))]),\n",
       "                                 ['bp', 'bmi', 's1', 's2', 's3', 's4', 's5',\n",
       "                                  's6'])])"
      ]
     },
     "execution_count": 24,
     "metadata": {},
     "output_type": "execute_result"
    }
   ],
   "source": [
    "# Fit the preprocessor to the training data\n",
    "preprocessor.fit(X_train)"
   ]
  },
  {
   "cell_type": "markdown",
   "id": "20591275-0052-4ef4-a274-ed32e13bb69a",
   "metadata": {},
   "source": [
    "In this diagram, we can see that the `FeatureUnion` steps are applied in parallel, rather than sequentially. Just like before, we fit the `preprocessor` to our training data and then use it to transform any dataset we want to use for modelling/prediction."
   ]
  },
  {
   "cell_type": "code",
   "execution_count": 25,
   "id": "ba81ec18-a618-45f0-8a28-b1fe88107855",
   "metadata": {},
   "outputs": [],
   "source": [
    "# Transform data using the fitted preprocessor\n",
    "X_train_transformed = preprocessor.transform(X_train)\n",
    "X_test_transformed = preprocessor.transform(X_test)"
   ]
  },
  {
   "cell_type": "code",
   "execution_count": 26,
   "id": "16dcd67c-541f-479c-a973-9136356f6964",
   "metadata": {},
   "outputs": [
    {
     "data": {
      "text/html": [
       "<div>\n",
       "<style scoped>\n",
       "    .dataframe tbody tr th:only-of-type {\n",
       "        vertical-align: middle;\n",
       "    }\n",
       "\n",
       "    .dataframe tbody tr th {\n",
       "        vertical-align: top;\n",
       "    }\n",
       "\n",
       "    .dataframe thead th {\n",
       "        text-align: right;\n",
       "    }\n",
       "</style>\n",
       "<table border=\"1\" class=\"dataframe\">\n",
       "  <thead>\n",
       "    <tr style=\"text-align: right;\">\n",
       "      <th></th>\n",
       "      <th>categorical_transformer__sex_2.0</th>\n",
       "      <th>numerical_transformer__pca__pca0</th>\n",
       "      <th>numerical_transformer__svd__truncatedsvd0</th>\n",
       "      <th>numerical_transformer__svd__truncatedsvd1</th>\n",
       "      <th>remainder__age</th>\n",
       "    </tr>\n",
       "  </thead>\n",
       "  <tbody>\n",
       "    <tr>\n",
       "      <th>322</th>\n",
       "      <td>1.0</td>\n",
       "      <td>0.855223</td>\n",
       "      <td>1.737902</td>\n",
       "      <td>-0.635456</td>\n",
       "      <td>55.0</td>\n",
       "    </tr>\n",
       "    <tr>\n",
       "      <th>159</th>\n",
       "      <td>0.0</td>\n",
       "      <td>0.222184</td>\n",
       "      <td>1.386990</td>\n",
       "      <td>-0.000252</td>\n",
       "      <td>47.0</td>\n",
       "    </tr>\n",
       "    <tr>\n",
       "      <th>318</th>\n",
       "      <td>0.0</td>\n",
       "      <td>0.007594</td>\n",
       "      <td>1.333332</td>\n",
       "      <td>0.300462</td>\n",
       "      <td>73.0</td>\n",
       "    </tr>\n",
       "    <tr>\n",
       "      <th>162</th>\n",
       "      <td>0.0</td>\n",
       "      <td>-0.144528</td>\n",
       "      <td>0.957259</td>\n",
       "      <td>0.008773</td>\n",
       "      <td>34.0</td>\n",
       "    </tr>\n",
       "    <tr>\n",
       "      <th>115</th>\n",
       "      <td>1.0</td>\n",
       "      <td>0.486770</td>\n",
       "      <td>1.487209</td>\n",
       "      <td>-0.337433</td>\n",
       "      <td>40.0</td>\n",
       "    </tr>\n",
       "  </tbody>\n",
       "</table>\n",
       "</div>"
      ],
      "text/plain": [
       "     categorical_transformer__sex_2.0  numerical_transformer__pca__pca0  \\\n",
       "322                               1.0                          0.855223   \n",
       "159                               0.0                          0.222184   \n",
       "318                               0.0                          0.007594   \n",
       "162                               0.0                         -0.144528   \n",
       "115                               1.0                          0.486770   \n",
       "\n",
       "     numerical_transformer__svd__truncatedsvd0  \\\n",
       "322                                   1.737902   \n",
       "159                                   1.386990   \n",
       "318                                   1.333332   \n",
       "162                                   0.957259   \n",
       "115                                   1.487209   \n",
       "\n",
       "     numerical_transformer__svd__truncatedsvd1  remainder__age  \n",
       "322                                  -0.635456            55.0  \n",
       "159                                  -0.000252            47.0  \n",
       "318                                   0.300462            73.0  \n",
       "162                                   0.008773            34.0  \n",
       "115                                  -0.337433            40.0  "
      ]
     },
     "execution_count": 26,
     "metadata": {},
     "output_type": "execute_result"
    }
   ],
   "source": [
    "X_train_transformed.head()"
   ]
  },
  {
   "cell_type": "markdown",
   "id": "6c6085ff-4d99-43ad-9795-6a3ec97e80fe",
   "metadata": {},
   "source": [
    "# 4. FunctionTransformer: Seamlessly integrate feature engineering"
   ]
  },
  {
   "cell_type": "markdown",
   "id": "1e54aa90-122c-4e3d-af22-780ea3ce03a4",
   "metadata": {},
   "source": [
    "All of the transformers and tools discussed above use pre-built classes in scikit-learn to apply standard transformations to your data (e.g., scaling, one-hot encoding, imputing, etc.).\n",
    "\n",
    "If you want to apply a custom function — for example during feature engineering — then you’ll want to use `FunctionTransformer`. Personally, I love this class - it makes it super easy to integrate custom functions into your `Pipeline` without having to write new transformer classes from scratch."
   ]
  },
  {
   "cell_type": "markdown",
   "id": "dc782816-44b3-42cb-9495-ab0c246aca34",
   "metadata": {},
   "source": [
    "Creating a `FunctionTransformer` is really simple. You start by defining your functions in the standard Pythonic style, and then create a pipeline. Here, I define two simple functions: one that adds together two columns, and another that subtracts two columns."
   ]
  },
  {
   "cell_type": "code",
   "execution_count": 27,
   "id": "26e2ffcb-a62c-4f70-944b-4e5ef3a6739c",
   "metadata": {},
   "outputs": [],
   "source": [
    "from sklearn.preprocessing import FunctionTransformer"
   ]
  },
  {
   "cell_type": "code",
   "execution_count": 28,
   "id": "1a58e825-6b55-4e9f-a325-9b9197282cb1",
   "metadata": {},
   "outputs": [],
   "source": [
    "def add_features(X):\n",
    "    X[\"feature_1_2\"] = X[\"feature_1\"] + X[\"feature_2\"]\n",
    "    return X\n",
    "\n",
    "\n",
    "def subtract_features(X):\n",
    "    X[\"feature_3_4\"] = X[\"feature_3\"] - X[\"feature_4\"]\n",
    "    return X"
   ]
  },
  {
   "cell_type": "code",
   "execution_count": 29,
   "id": "82784b4d-2e8f-4415-a888-e7a42a461562",
   "metadata": {},
   "outputs": [],
   "source": [
    "# Put into a pipeline\n",
    "feature_engineering = Pipeline(\n",
    "    steps=[\n",
    "        (\"add_features\", FunctionTransformer(add_features)),\n",
    "        (\"subtract_features\", FunctionTransformer(subtract_features)),\n",
    "    ]\n",
    ")"
   ]
  },
  {
   "cell_type": "markdown",
   "id": "eb5bc9d3-4740-4eb9-8dd8-3c89f0fc6a79",
   "metadata": {},
   "source": [
    "To simplify things even further, you could include multiple transformations within the same function:"
   ]
  },
  {
   "cell_type": "code",
   "execution_count": 30,
   "id": "c177f5c8-dbb9-4caf-a39d-31d5037e00c0",
   "metadata": {},
   "outputs": [],
   "source": [
    "def add_subtract_features(X):\n",
    "    # Added by me\n",
    "    X[\"feature_1_2\"] = X[X.columns[0]] + X[X.columns[1]]  # Add features\n",
    "    X[\"feature_3_4\"] = X[X.columns[2]] - X[X.columns[3]]  # Subtract features\n",
    "\n",
    "    # Original\n",
    "    # X[\"feature_1_2\"] = X[\"feature_1\"] + X[\"feature_2\"]  # Add features\n",
    "    # X[\"feature_3_4\"] = X[\"feature_3\"] - X[\"feature_4\"]  # Subtract features\n",
    "    return X\n",
    "\n",
    "\n",
    "# Put into a pipeline\n",
    "feature_engineering = Pipeline(\n",
    "    steps=[\n",
    "        (\"add_subtract_features\", FunctionTransformer(add_subtract_features)),\n",
    "    ]\n",
    ")"
   ]
  },
  {
   "cell_type": "markdown",
   "id": "85fd665e-dd0b-4445-ae58-55392929add3",
   "metadata": {},
   "source": [
    "Finally, add the `feature_engineering` pipeline to the `preprocessing` pipeline we defined earlier:"
   ]
  },
  {
   "cell_type": "code",
   "execution_count": 31,
   "id": "53732d0d-4107-44ab-bdba-b9fda302d7ea",
   "metadata": {},
   "outputs": [],
   "source": [
    "# Combine preprocessing and feature engineering in a single pipeline\n",
    "pipe = Pipeline(\n",
    "    [\n",
    "        (\"preprocessing\", preprocessor),\n",
    "        (\"feature_engineering\", feature_engineering),\n",
    "    ]\n",
    ")"
   ]
  },
  {
   "cell_type": "markdown",
   "id": "57322043-537c-478d-a797-a5cd940a1649",
   "metadata": {},
   "source": [
    "And use this new pipeline to apply the same preprocessing/feature engineering steps to all your datasets:"
   ]
  },
  {
   "cell_type": "code",
   "execution_count": 32,
   "id": "bba3d299-2f86-4a4a-a877-776d43a0babf",
   "metadata": {},
   "outputs": [
    {
     "data": {
      "text/html": [
       "<style>#sk-container-id-4 {color: black;background-color: white;}#sk-container-id-4 pre{padding: 0;}#sk-container-id-4 div.sk-toggleable {background-color: white;}#sk-container-id-4 label.sk-toggleable__label {cursor: pointer;display: block;width: 100%;margin-bottom: 0;padding: 0.3em;box-sizing: border-box;text-align: center;}#sk-container-id-4 label.sk-toggleable__label-arrow:before {content: \"▸\";float: left;margin-right: 0.25em;color: #696969;}#sk-container-id-4 label.sk-toggleable__label-arrow:hover:before {color: black;}#sk-container-id-4 div.sk-estimator:hover label.sk-toggleable__label-arrow:before {color: black;}#sk-container-id-4 div.sk-toggleable__content {max-height: 0;max-width: 0;overflow: hidden;text-align: left;background-color: #f0f8ff;}#sk-container-id-4 div.sk-toggleable__content pre {margin: 0.2em;color: black;border-radius: 0.25em;background-color: #f0f8ff;}#sk-container-id-4 input.sk-toggleable__control:checked~div.sk-toggleable__content {max-height: 200px;max-width: 100%;overflow: auto;}#sk-container-id-4 input.sk-toggleable__control:checked~label.sk-toggleable__label-arrow:before {content: \"▾\";}#sk-container-id-4 div.sk-estimator input.sk-toggleable__control:checked~label.sk-toggleable__label {background-color: #d4ebff;}#sk-container-id-4 div.sk-label input.sk-toggleable__control:checked~label.sk-toggleable__label {background-color: #d4ebff;}#sk-container-id-4 input.sk-hidden--visually {border: 0;clip: rect(1px 1px 1px 1px);clip: rect(1px, 1px, 1px, 1px);height: 1px;margin: -1px;overflow: hidden;padding: 0;position: absolute;width: 1px;}#sk-container-id-4 div.sk-estimator {font-family: monospace;background-color: #f0f8ff;border: 1px dotted black;border-radius: 0.25em;box-sizing: border-box;margin-bottom: 0.5em;}#sk-container-id-4 div.sk-estimator:hover {background-color: #d4ebff;}#sk-container-id-4 div.sk-parallel-item::after {content: \"\";width: 100%;border-bottom: 1px solid gray;flex-grow: 1;}#sk-container-id-4 div.sk-label:hover label.sk-toggleable__label {background-color: #d4ebff;}#sk-container-id-4 div.sk-serial::before {content: \"\";position: absolute;border-left: 1px solid gray;box-sizing: border-box;top: 0;bottom: 0;left: 50%;z-index: 0;}#sk-container-id-4 div.sk-serial {display: flex;flex-direction: column;align-items: center;background-color: white;padding-right: 0.2em;padding-left: 0.2em;position: relative;}#sk-container-id-4 div.sk-item {position: relative;z-index: 1;}#sk-container-id-4 div.sk-parallel {display: flex;align-items: stretch;justify-content: center;background-color: white;position: relative;}#sk-container-id-4 div.sk-item::before, #sk-container-id-4 div.sk-parallel-item::before {content: \"\";position: absolute;border-left: 1px solid gray;box-sizing: border-box;top: 0;bottom: 0;left: 50%;z-index: -1;}#sk-container-id-4 div.sk-parallel-item {display: flex;flex-direction: column;z-index: 1;position: relative;background-color: white;}#sk-container-id-4 div.sk-parallel-item:first-child::after {align-self: flex-end;width: 50%;}#sk-container-id-4 div.sk-parallel-item:last-child::after {align-self: flex-start;width: 50%;}#sk-container-id-4 div.sk-parallel-item:only-child::after {width: 0;}#sk-container-id-4 div.sk-dashed-wrapped {border: 1px dashed gray;margin: 0 0.4em 0.5em 0.4em;box-sizing: border-box;padding-bottom: 0.4em;background-color: white;}#sk-container-id-4 div.sk-label label {font-family: monospace;font-weight: bold;display: inline-block;line-height: 1.2em;}#sk-container-id-4 div.sk-label-container {text-align: center;}#sk-container-id-4 div.sk-container {/* jupyter's `normalize.less` sets `[hidden] { display: none; }` but bootstrap.min.css set `[hidden] { display: none !important; }` so we also need the `!important` here to be able to override the default hidden behavior on the sphinx rendered scikit-learn.org. See: https://github.com/scikit-learn/scikit-learn/issues/21755 */display: inline-block !important;position: relative;}#sk-container-id-4 div.sk-text-repr-fallback {display: none;}</style><div id=\"sk-container-id-4\" class=\"sk-top-container\"><div class=\"sk-text-repr-fallback\"><pre>Pipeline(steps=[(&#x27;preprocessing&#x27;,\n",
       "                 ColumnTransformer(remainder=&#x27;passthrough&#x27;,\n",
       "                                   transformers=[(&#x27;categorical_transformer&#x27;,\n",
       "                                                  Pipeline(steps=[(&#x27;impute_mode&#x27;,\n",
       "                                                                   SimpleImputer(strategy=&#x27;most_frequent&#x27;)),\n",
       "                                                                  (&#x27;ohe&#x27;,\n",
       "                                                                   OneHotEncoder(drop=&#x27;first&#x27;,\n",
       "                                                                                 handle_unknown=&#x27;ignore&#x27;,\n",
       "                                                                                 sparse_output=False))]),\n",
       "                                                  [&#x27;sex&#x27;]),\n",
       "                                                 (&#x27;numerical_transformer&#x27;,\n",
       "                                                  Pipeline(steps=[(&#x27;impute_mean&#x27;,\n",
       "                                                                   SimpleImputer()),\n",
       "                                                                  (&#x27;rescale&#x27;,\n",
       "                                                                   MinMaxScaler()),\n",
       "                                                                  (&#x27;reduce_dimensionality&#x27;,\n",
       "                                                                   FeatureUnion(transformer_list=[(&#x27;pca&#x27;,\n",
       "                                                                                                   PCA(n_components=1)),\n",
       "                                                                                                  (&#x27;svd&#x27;,\n",
       "                                                                                                   TruncatedSVD())]))]),\n",
       "                                                  [&#x27;bp&#x27;, &#x27;bmi&#x27;, &#x27;s1&#x27;, &#x27;s2&#x27;,\n",
       "                                                   &#x27;s3&#x27;, &#x27;s4&#x27;, &#x27;s5&#x27;, &#x27;s6&#x27;])])),\n",
       "                (&#x27;feature_engineering&#x27;,\n",
       "                 Pipeline(steps=[(&#x27;add_subtract_features&#x27;,\n",
       "                                  FunctionTransformer(func=&lt;function add_subtract_features at 0x000001EE1FE75FC0&gt;))]))])</pre><b>In a Jupyter environment, please rerun this cell to show the HTML representation or trust the notebook. <br />On GitHub, the HTML representation is unable to render, please try loading this page with nbviewer.org.</b></div><div class=\"sk-container\" hidden><div class=\"sk-item sk-dashed-wrapped\"><div class=\"sk-label-container\"><div class=\"sk-label sk-toggleable\"><input class=\"sk-toggleable__control sk-hidden--visually\" id=\"sk-estimator-id-25\" type=\"checkbox\" ><label for=\"sk-estimator-id-25\" class=\"sk-toggleable__label sk-toggleable__label-arrow\">Pipeline</label><div class=\"sk-toggleable__content\"><pre>Pipeline(steps=[(&#x27;preprocessing&#x27;,\n",
       "                 ColumnTransformer(remainder=&#x27;passthrough&#x27;,\n",
       "                                   transformers=[(&#x27;categorical_transformer&#x27;,\n",
       "                                                  Pipeline(steps=[(&#x27;impute_mode&#x27;,\n",
       "                                                                   SimpleImputer(strategy=&#x27;most_frequent&#x27;)),\n",
       "                                                                  (&#x27;ohe&#x27;,\n",
       "                                                                   OneHotEncoder(drop=&#x27;first&#x27;,\n",
       "                                                                                 handle_unknown=&#x27;ignore&#x27;,\n",
       "                                                                                 sparse_output=False))]),\n",
       "                                                  [&#x27;sex&#x27;]),\n",
       "                                                 (&#x27;numerical_transformer&#x27;,\n",
       "                                                  Pipeline(steps=[(&#x27;impute_mean&#x27;,\n",
       "                                                                   SimpleImputer()),\n",
       "                                                                  (&#x27;rescale&#x27;,\n",
       "                                                                   MinMaxScaler()),\n",
       "                                                                  (&#x27;reduce_dimensionality&#x27;,\n",
       "                                                                   FeatureUnion(transformer_list=[(&#x27;pca&#x27;,\n",
       "                                                                                                   PCA(n_components=1)),\n",
       "                                                                                                  (&#x27;svd&#x27;,\n",
       "                                                                                                   TruncatedSVD())]))]),\n",
       "                                                  [&#x27;bp&#x27;, &#x27;bmi&#x27;, &#x27;s1&#x27;, &#x27;s2&#x27;,\n",
       "                                                   &#x27;s3&#x27;, &#x27;s4&#x27;, &#x27;s5&#x27;, &#x27;s6&#x27;])])),\n",
       "                (&#x27;feature_engineering&#x27;,\n",
       "                 Pipeline(steps=[(&#x27;add_subtract_features&#x27;,\n",
       "                                  FunctionTransformer(func=&lt;function add_subtract_features at 0x000001EE1FE75FC0&gt;))]))])</pre></div></div></div><div class=\"sk-serial\"><div class=\"sk-item sk-dashed-wrapped\"><div class=\"sk-label-container\"><div class=\"sk-label sk-toggleable\"><input class=\"sk-toggleable__control sk-hidden--visually\" id=\"sk-estimator-id-26\" type=\"checkbox\" ><label for=\"sk-estimator-id-26\" class=\"sk-toggleable__label sk-toggleable__label-arrow\">preprocessing: ColumnTransformer</label><div class=\"sk-toggleable__content\"><pre>ColumnTransformer(remainder=&#x27;passthrough&#x27;,\n",
       "                  transformers=[(&#x27;categorical_transformer&#x27;,\n",
       "                                 Pipeline(steps=[(&#x27;impute_mode&#x27;,\n",
       "                                                  SimpleImputer(strategy=&#x27;most_frequent&#x27;)),\n",
       "                                                 (&#x27;ohe&#x27;,\n",
       "                                                  OneHotEncoder(drop=&#x27;first&#x27;,\n",
       "                                                                handle_unknown=&#x27;ignore&#x27;,\n",
       "                                                                sparse_output=False))]),\n",
       "                                 [&#x27;sex&#x27;]),\n",
       "                                (&#x27;numerical_transformer&#x27;,\n",
       "                                 Pipeline(steps=[(&#x27;impute_mean&#x27;,\n",
       "                                                  SimpleImputer()),\n",
       "                                                 (&#x27;rescale&#x27;, MinMaxScaler()),\n",
       "                                                 (&#x27;reduce_dimensionality&#x27;,\n",
       "                                                  FeatureUnion(transformer_list=[(&#x27;pca&#x27;,\n",
       "                                                                                  PCA(n_components=1)),\n",
       "                                                                                 (&#x27;svd&#x27;,\n",
       "                                                                                  TruncatedSVD())]))]),\n",
       "                                 [&#x27;bp&#x27;, &#x27;bmi&#x27;, &#x27;s1&#x27;, &#x27;s2&#x27;, &#x27;s3&#x27;, &#x27;s4&#x27;, &#x27;s5&#x27;,\n",
       "                                  &#x27;s6&#x27;])])</pre></div></div></div><div class=\"sk-parallel\"><div class=\"sk-parallel-item\"><div class=\"sk-item\"><div class=\"sk-label-container\"><div class=\"sk-label sk-toggleable\"><input class=\"sk-toggleable__control sk-hidden--visually\" id=\"sk-estimator-id-27\" type=\"checkbox\" ><label for=\"sk-estimator-id-27\" class=\"sk-toggleable__label sk-toggleable__label-arrow\">categorical_transformer</label><div class=\"sk-toggleable__content\"><pre>[&#x27;sex&#x27;]</pre></div></div></div><div class=\"sk-serial\"><div class=\"sk-item\"><div class=\"sk-serial\"><div class=\"sk-item\"><div class=\"sk-estimator sk-toggleable\"><input class=\"sk-toggleable__control sk-hidden--visually\" id=\"sk-estimator-id-28\" type=\"checkbox\" ><label for=\"sk-estimator-id-28\" class=\"sk-toggleable__label sk-toggleable__label-arrow\">SimpleImputer</label><div class=\"sk-toggleable__content\"><pre>SimpleImputer(strategy=&#x27;most_frequent&#x27;)</pre></div></div></div><div class=\"sk-item\"><div class=\"sk-estimator sk-toggleable\"><input class=\"sk-toggleable__control sk-hidden--visually\" id=\"sk-estimator-id-29\" type=\"checkbox\" ><label for=\"sk-estimator-id-29\" class=\"sk-toggleable__label sk-toggleable__label-arrow\">OneHotEncoder</label><div class=\"sk-toggleable__content\"><pre>OneHotEncoder(drop=&#x27;first&#x27;, handle_unknown=&#x27;ignore&#x27;, sparse_output=False)</pre></div></div></div></div></div></div></div></div><div class=\"sk-parallel-item\"><div class=\"sk-item\"><div class=\"sk-label-container\"><div class=\"sk-label sk-toggleable\"><input class=\"sk-toggleable__control sk-hidden--visually\" id=\"sk-estimator-id-30\" type=\"checkbox\" ><label for=\"sk-estimator-id-30\" class=\"sk-toggleable__label sk-toggleable__label-arrow\">numerical_transformer</label><div class=\"sk-toggleable__content\"><pre>[&#x27;bp&#x27;, &#x27;bmi&#x27;, &#x27;s1&#x27;, &#x27;s2&#x27;, &#x27;s3&#x27;, &#x27;s4&#x27;, &#x27;s5&#x27;, &#x27;s6&#x27;]</pre></div></div></div><div class=\"sk-serial\"><div class=\"sk-item\"><div class=\"sk-serial\"><div class=\"sk-item\"><div class=\"sk-estimator sk-toggleable\"><input class=\"sk-toggleable__control sk-hidden--visually\" id=\"sk-estimator-id-31\" type=\"checkbox\" ><label for=\"sk-estimator-id-31\" class=\"sk-toggleable__label sk-toggleable__label-arrow\">SimpleImputer</label><div class=\"sk-toggleable__content\"><pre>SimpleImputer()</pre></div></div></div><div class=\"sk-item\"><div class=\"sk-estimator sk-toggleable\"><input class=\"sk-toggleable__control sk-hidden--visually\" id=\"sk-estimator-id-32\" type=\"checkbox\" ><label for=\"sk-estimator-id-32\" class=\"sk-toggleable__label sk-toggleable__label-arrow\">MinMaxScaler</label><div class=\"sk-toggleable__content\"><pre>MinMaxScaler()</pre></div></div></div><div class=\"sk-item sk-dashed-wrapped\"><div class=\"sk-label-container\"><div class=\"sk-label sk-toggleable\"><input class=\"sk-toggleable__control sk-hidden--visually\" id=\"sk-estimator-id-33\" type=\"checkbox\" ><label for=\"sk-estimator-id-33\" class=\"sk-toggleable__label sk-toggleable__label-arrow\">reduce_dimensionality: FeatureUnion</label><div class=\"sk-toggleable__content\"><pre>FeatureUnion(transformer_list=[(&#x27;pca&#x27;, PCA(n_components=1)),\n",
       "                               (&#x27;svd&#x27;, TruncatedSVD())])</pre></div></div></div><div class=\"sk-parallel\"><div class=\"sk-parallel-item\"><div class=\"sk-item\"><div class=\"sk-label-container\"><div class=\"sk-label sk-toggleable\"><label>pca</label></div></div><div class=\"sk-serial\"><div class=\"sk-item\"><div class=\"sk-estimator sk-toggleable\"><input class=\"sk-toggleable__control sk-hidden--visually\" id=\"sk-estimator-id-34\" type=\"checkbox\" ><label for=\"sk-estimator-id-34\" class=\"sk-toggleable__label sk-toggleable__label-arrow\">PCA</label><div class=\"sk-toggleable__content\"><pre>PCA(n_components=1)</pre></div></div></div></div></div></div><div class=\"sk-parallel-item\"><div class=\"sk-item\"><div class=\"sk-label-container\"><div class=\"sk-label sk-toggleable\"><label>svd</label></div></div><div class=\"sk-serial\"><div class=\"sk-item\"><div class=\"sk-estimator sk-toggleable\"><input class=\"sk-toggleable__control sk-hidden--visually\" id=\"sk-estimator-id-35\" type=\"checkbox\" ><label for=\"sk-estimator-id-35\" class=\"sk-toggleable__label sk-toggleable__label-arrow\">TruncatedSVD</label><div class=\"sk-toggleable__content\"><pre>TruncatedSVD()</pre></div></div></div></div></div></div></div></div></div></div></div></div></div><div class=\"sk-parallel-item\"><div class=\"sk-item\"><div class=\"sk-label-container\"><div class=\"sk-label sk-toggleable\"><input class=\"sk-toggleable__control sk-hidden--visually\" id=\"sk-estimator-id-36\" type=\"checkbox\" ><label for=\"sk-estimator-id-36\" class=\"sk-toggleable__label sk-toggleable__label-arrow\">remainder</label><div class=\"sk-toggleable__content\"><pre>[&#x27;age&#x27;]</pre></div></div></div><div class=\"sk-serial\"><div class=\"sk-item\"><div class=\"sk-estimator sk-toggleable\"><input class=\"sk-toggleable__control sk-hidden--visually\" id=\"sk-estimator-id-37\" type=\"checkbox\" ><label for=\"sk-estimator-id-37\" class=\"sk-toggleable__label sk-toggleable__label-arrow\">passthrough</label><div class=\"sk-toggleable__content\"><pre>passthrough</pre></div></div></div></div></div></div></div></div><div class=\"sk-item\"><div class=\"sk-label-container\"><div class=\"sk-label sk-toggleable\"><input class=\"sk-toggleable__control sk-hidden--visually\" id=\"sk-estimator-id-38\" type=\"checkbox\" ><label for=\"sk-estimator-id-38\" class=\"sk-toggleable__label sk-toggleable__label-arrow\">feature_engineering: Pipeline</label><div class=\"sk-toggleable__content\"><pre>Pipeline(steps=[(&#x27;add_subtract_features&#x27;,\n",
       "                 FunctionTransformer(func=&lt;function add_subtract_features at 0x000001EE1FE75FC0&gt;))])</pre></div></div></div><div class=\"sk-serial\"><div class=\"sk-item\"><div class=\"sk-estimator sk-toggleable\"><input class=\"sk-toggleable__control sk-hidden--visually\" id=\"sk-estimator-id-39\" type=\"checkbox\" ><label for=\"sk-estimator-id-39\" class=\"sk-toggleable__label sk-toggleable__label-arrow\">FunctionTransformer</label><div class=\"sk-toggleable__content\"><pre>FunctionTransformer(func=&lt;function add_subtract_features at 0x000001EE1FE75FC0&gt;)</pre></div></div></div></div></div></div></div></div></div>"
      ],
      "text/plain": [
       "Pipeline(steps=[('preprocessing',\n",
       "                 ColumnTransformer(remainder='passthrough',\n",
       "                                   transformers=[('categorical_transformer',\n",
       "                                                  Pipeline(steps=[('impute_mode',\n",
       "                                                                   SimpleImputer(strategy='most_frequent')),\n",
       "                                                                  ('ohe',\n",
       "                                                                   OneHotEncoder(drop='first',\n",
       "                                                                                 handle_unknown='ignore',\n",
       "                                                                                 sparse_output=False))]),\n",
       "                                                  ['sex']),\n",
       "                                                 ('numerical_transformer',\n",
       "                                                  Pipeline(steps=[('impute_mean',\n",
       "                                                                   SimpleImputer()),\n",
       "                                                                  ('rescale',\n",
       "                                                                   MinMaxScaler()),\n",
       "                                                                  ('reduce_dimensionality',\n",
       "                                                                   FeatureUnion(transformer_list=[('pca',\n",
       "                                                                                                   PCA(n_components=1)),\n",
       "                                                                                                  ('svd',\n",
       "                                                                                                   TruncatedSVD())]))]),\n",
       "                                                  ['bp', 'bmi', 's1', 's2',\n",
       "                                                   's3', 's4', 's5', 's6'])])),\n",
       "                ('feature_engineering',\n",
       "                 Pipeline(steps=[('add_subtract_features',\n",
       "                                  FunctionTransformer(func=<function add_subtract_features at 0x000001EE1FE75FC0>))]))])"
      ]
     },
     "execution_count": 32,
     "metadata": {},
     "output_type": "execute_result"
    }
   ],
   "source": [
    "# Fit the preprocessor to the training data\n",
    "pipe.fit(X_train)"
   ]
  },
  {
   "cell_type": "code",
   "execution_count": 33,
   "id": "0a128786-a01c-4082-bbcb-87b1681f076e",
   "metadata": {},
   "outputs": [],
   "source": [
    "# Transform data using the fitted preprocessor\n",
    "X_train_transformed = pipe.transform(X_train)\n",
    "X_test_transformed = pipe.transform(X_test)"
   ]
  },
  {
   "cell_type": "code",
   "execution_count": 34,
   "id": "fc6999b9-3eb9-44df-8d0f-453ff06104df",
   "metadata": {},
   "outputs": [
    {
     "data": {
      "text/html": [
       "<div>\n",
       "<style scoped>\n",
       "    .dataframe tbody tr th:only-of-type {\n",
       "        vertical-align: middle;\n",
       "    }\n",
       "\n",
       "    .dataframe tbody tr th {\n",
       "        vertical-align: top;\n",
       "    }\n",
       "\n",
       "    .dataframe thead th {\n",
       "        text-align: right;\n",
       "    }\n",
       "</style>\n",
       "<table border=\"1\" class=\"dataframe\">\n",
       "  <thead>\n",
       "    <tr style=\"text-align: right;\">\n",
       "      <th></th>\n",
       "      <th>categorical_transformer__sex_2.0</th>\n",
       "      <th>numerical_transformer__pca__pca0</th>\n",
       "      <th>numerical_transformer__svd__truncatedsvd0</th>\n",
       "      <th>numerical_transformer__svd__truncatedsvd1</th>\n",
       "      <th>remainder__age</th>\n",
       "      <th>feature_1_2</th>\n",
       "      <th>feature_3_4</th>\n",
       "    </tr>\n",
       "  </thead>\n",
       "  <tbody>\n",
       "    <tr>\n",
       "      <th>322</th>\n",
       "      <td>1.0</td>\n",
       "      <td>0.855223</td>\n",
       "      <td>1.737902</td>\n",
       "      <td>-0.635456</td>\n",
       "      <td>55.0</td>\n",
       "      <td>1.855223</td>\n",
       "      <td>2.373358</td>\n",
       "    </tr>\n",
       "    <tr>\n",
       "      <th>159</th>\n",
       "      <td>0.0</td>\n",
       "      <td>0.222184</td>\n",
       "      <td>1.386990</td>\n",
       "      <td>-0.000252</td>\n",
       "      <td>47.0</td>\n",
       "      <td>0.222184</td>\n",
       "      <td>1.387242</td>\n",
       "    </tr>\n",
       "    <tr>\n",
       "      <th>318</th>\n",
       "      <td>0.0</td>\n",
       "      <td>0.007594</td>\n",
       "      <td>1.333332</td>\n",
       "      <td>0.300462</td>\n",
       "      <td>73.0</td>\n",
       "      <td>0.007594</td>\n",
       "      <td>1.032869</td>\n",
       "    </tr>\n",
       "    <tr>\n",
       "      <th>162</th>\n",
       "      <td>0.0</td>\n",
       "      <td>-0.144528</td>\n",
       "      <td>0.957259</td>\n",
       "      <td>0.008773</td>\n",
       "      <td>34.0</td>\n",
       "      <td>-0.144528</td>\n",
       "      <td>0.948486</td>\n",
       "    </tr>\n",
       "    <tr>\n",
       "      <th>115</th>\n",
       "      <td>1.0</td>\n",
       "      <td>0.486770</td>\n",
       "      <td>1.487209</td>\n",
       "      <td>-0.337433</td>\n",
       "      <td>40.0</td>\n",
       "      <td>1.486770</td>\n",
       "      <td>1.824642</td>\n",
       "    </tr>\n",
       "  </tbody>\n",
       "</table>\n",
       "</div>"
      ],
      "text/plain": [
       "     categorical_transformer__sex_2.0  numerical_transformer__pca__pca0  \\\n",
       "322                               1.0                          0.855223   \n",
       "159                               0.0                          0.222184   \n",
       "318                               0.0                          0.007594   \n",
       "162                               0.0                         -0.144528   \n",
       "115                               1.0                          0.486770   \n",
       "\n",
       "     numerical_transformer__svd__truncatedsvd0  \\\n",
       "322                                   1.737902   \n",
       "159                                   1.386990   \n",
       "318                                   1.333332   \n",
       "162                                   0.957259   \n",
       "115                                   1.487209   \n",
       "\n",
       "     numerical_transformer__svd__truncatedsvd1  remainder__age  feature_1_2  \\\n",
       "322                                  -0.635456            55.0     1.855223   \n",
       "159                                  -0.000252            47.0     0.222184   \n",
       "318                                   0.300462            73.0     0.007594   \n",
       "162                                   0.008773            34.0    -0.144528   \n",
       "115                                  -0.337433            40.0     1.486770   \n",
       "\n",
       "     feature_3_4  \n",
       "322     2.373358  \n",
       "159     1.387242  \n",
       "318     1.032869  \n",
       "162     0.948486  \n",
       "115     1.824642  "
      ]
     },
     "execution_count": 34,
     "metadata": {},
     "output_type": "execute_result"
    }
   ],
   "source": [
    "X_train_transformed.head()"
   ]
  },
  {
   "cell_type": "markdown",
   "id": "2cd96592-ffad-496b-ab4e-74bdf7f5b808",
   "metadata": {},
   "source": [
    "# Bonus: Save your pipelines for truly reproducible workflows"
   ]
  },
  {
   "cell_type": "markdown",
   "id": "0552f8d0-47ea-442e-b164-5af94aea2a39",
   "metadata": {},
   "source": [
    "In enterprise applications of machine learning, it’s very rare to only use a model or preprocessing workflow once. More often, you’ll be required to regularly rerun your model each week/month and generate new predictions for new data.\n",
    "\n",
    "In these situations, rather than writing a new preprocessing pipeline from scratch each time, you can use the same pipeline each time. To do this, once you’ve developed your pipeline use the `joblib` library, save the pipeline so that you can rerun the exact same transformations with future datasets:"
   ]
  },
  {
   "cell_type": "code",
   "execution_count": 35,
   "id": "7744cdb6-d11d-4e1e-a635-5c5fae410c67",
   "metadata": {},
   "outputs": [],
   "source": [
    "import joblib"
   ]
  },
  {
   "cell_type": "code",
   "execution_count": 36,
   "id": "5fb2f9e0-046f-4a1e-b0ec-c72cfa50bdd3",
   "metadata": {},
   "outputs": [
    {
     "data": {
      "text/plain": [
       "['pipe.pkl']"
      ]
     },
     "execution_count": 36,
     "metadata": {},
     "output_type": "execute_result"
    }
   ],
   "source": [
    "# Save pipeline\n",
    "joblib.dump(pipe, \"pipe.pkl\")"
   ]
  },
  {
   "cell_type": "code",
   "execution_count": 37,
   "id": "a6130ec8-4b86-4376-9c5e-05db149546bb",
   "metadata": {},
   "outputs": [],
   "source": [
    "# Assume that the below steps are applied in another notebook/script\n",
    "\n",
    "# Load pipeline\n",
    "pretrained_pipe = joblib.load(\"pipe.pkl\")"
   ]
  },
  {
   "cell_type": "code",
   "execution_count": 38,
   "id": "5e7014f4-7a9b-4324-a63d-50701b1c39db",
   "metadata": {},
   "outputs": [],
   "source": [
    "X_test_new = X_test.copy()  # Added by me"
   ]
  },
  {
   "cell_type": "code",
   "execution_count": 39,
   "id": "2f0d8495-97fd-4d63-baf1-2e1a952b3d30",
   "metadata": {},
   "outputs": [],
   "source": [
    "# Apply pipeline to a new dataset, X_test_new\n",
    "X_test_new_transformed = pretrained_pipe.transform(X_test_new)"
   ]
  },
  {
   "cell_type": "code",
   "execution_count": 40,
   "id": "e6fe24e8-7e30-4eb3-8715-3ed9d77d3092",
   "metadata": {},
   "outputs": [
    {
     "data": {
      "text/html": [
       "<div>\n",
       "<style scoped>\n",
       "    .dataframe tbody tr th:only-of-type {\n",
       "        vertical-align: middle;\n",
       "    }\n",
       "\n",
       "    .dataframe tbody tr th {\n",
       "        vertical-align: top;\n",
       "    }\n",
       "\n",
       "    .dataframe thead th {\n",
       "        text-align: right;\n",
       "    }\n",
       "</style>\n",
       "<table border=\"1\" class=\"dataframe\">\n",
       "  <thead>\n",
       "    <tr style=\"text-align: right;\">\n",
       "      <th></th>\n",
       "      <th>categorical_transformer__sex_2.0</th>\n",
       "      <th>numerical_transformer__pca__pca0</th>\n",
       "      <th>numerical_transformer__svd__truncatedsvd0</th>\n",
       "      <th>numerical_transformer__svd__truncatedsvd1</th>\n",
       "      <th>remainder__age</th>\n",
       "      <th>feature_1_2</th>\n",
       "      <th>feature_3_4</th>\n",
       "    </tr>\n",
       "  </thead>\n",
       "  <tbody>\n",
       "    <tr>\n",
       "      <th>353</th>\n",
       "      <td>0.0</td>\n",
       "      <td>0.252193</td>\n",
       "      <td>1.406919</td>\n",
       "      <td>-0.037561</td>\n",
       "      <td>34.0</td>\n",
       "      <td>0.252193</td>\n",
       "      <td>1.444480</td>\n",
       "    </tr>\n",
       "    <tr>\n",
       "      <th>48</th>\n",
       "      <td>1.0</td>\n",
       "      <td>-0.282313</td>\n",
       "      <td>0.989898</td>\n",
       "      <td>0.321357</td>\n",
       "      <td>67.0</td>\n",
       "      <td>0.717687</td>\n",
       "      <td>0.668541</td>\n",
       "    </tr>\n",
       "    <tr>\n",
       "      <th>77</th>\n",
       "      <td>0.0</td>\n",
       "      <td>-0.417296</td>\n",
       "      <td>0.748638</td>\n",
       "      <td>0.199915</td>\n",
       "      <td>22.0</td>\n",
       "      <td>-0.417296</td>\n",
       "      <td>0.548723</td>\n",
       "    </tr>\n",
       "    <tr>\n",
       "      <th>274</th>\n",
       "      <td>0.0</td>\n",
       "      <td>0.051338</td>\n",
       "      <td>1.193382</td>\n",
       "      <td>0.021853</td>\n",
       "      <td>53.0</td>\n",
       "      <td>0.051338</td>\n",
       "      <td>1.171528</td>\n",
       "    </tr>\n",
       "    <tr>\n",
       "      <th>365</th>\n",
       "      <td>0.0</td>\n",
       "      <td>0.155508</td>\n",
       "      <td>1.298551</td>\n",
       "      <td>-0.004799</td>\n",
       "      <td>58.0</td>\n",
       "      <td>0.155508</td>\n",
       "      <td>1.303350</td>\n",
       "    </tr>\n",
       "  </tbody>\n",
       "</table>\n",
       "</div>"
      ],
      "text/plain": [
       "     categorical_transformer__sex_2.0  numerical_transformer__pca__pca0  \\\n",
       "353                               0.0                          0.252193   \n",
       "48                                1.0                         -0.282313   \n",
       "77                                0.0                         -0.417296   \n",
       "274                               0.0                          0.051338   \n",
       "365                               0.0                          0.155508   \n",
       "\n",
       "     numerical_transformer__svd__truncatedsvd0  \\\n",
       "353                                   1.406919   \n",
       "48                                    0.989898   \n",
       "77                                    0.748638   \n",
       "274                                   1.193382   \n",
       "365                                   1.298551   \n",
       "\n",
       "     numerical_transformer__svd__truncatedsvd1  remainder__age  feature_1_2  \\\n",
       "353                                  -0.037561            34.0     0.252193   \n",
       "48                                    0.321357            67.0     0.717687   \n",
       "77                                    0.199915            22.0    -0.417296   \n",
       "274                                   0.021853            53.0     0.051338   \n",
       "365                                  -0.004799            58.0     0.155508   \n",
       "\n",
       "     feature_3_4  \n",
       "353     1.444480  \n",
       "48      0.668541  \n",
       "77      0.548723  \n",
       "274     1.171528  \n",
       "365     1.303350  "
      ]
     },
     "execution_count": 40,
     "metadata": {},
     "output_type": "execute_result"
    }
   ],
   "source": [
    "X_test_new_transformed.head()"
   ]
  },
  {
   "cell_type": "markdown",
   "id": "3fa618af-7c60-4201-86e5-5b7c10e7ee2e",
   "metadata": {},
   "source": [
    "# Conclusion"
   ]
  },
  {
   "cell_type": "markdown",
   "id": "75fa138b-c0b7-4a09-aa67-96de7d058212",
   "metadata": {},
   "source": [
    "- `Pipeline` provides a quick way to sequentially apply different preprocessing transformers to your data\n",
    "- Using a `ColumnTransformer` is a fantastic way to sequentially apply separate preprocessing steps to different feature subsets\n",
    "- `FeatureUnion` enables you to apply different preprocessing transformations in parallel\n",
    "- `FunctionTransformer` provides a super-simple way to write custom feature engineering functions and integrate them within your pipelines"
   ]
  },
  {
   "cell_type": "code",
   "execution_count": null,
   "id": "e757a775-c1ee-4f1e-a15d-0aa2e6dc03bd",
   "metadata": {},
   "outputs": [],
   "source": []
  }
 ],
 "metadata": {
  "kernelspec": {
   "display_name": "Python [conda env:ls_env]",
   "language": "python",
   "name": "conda-env-ls_env-py"
  },
  "language_info": {
   "codemirror_mode": {
    "name": "ipython",
    "version": 3
   },
   "file_extension": ".py",
   "mimetype": "text/x-python",
   "name": "python",
   "nbconvert_exporter": "python",
   "pygments_lexer": "ipython3",
   "version": "3.10.8"
  }
 },
 "nbformat": 4,
 "nbformat_minor": 5
}
