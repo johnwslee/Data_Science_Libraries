{
 "cells": [
  {
   "cell_type": "markdown",
   "id": "ae36fbdc-0db8-4200-8b5c-4408db35d87c",
   "metadata": {},
   "source": [
    "The following contents are from [this article](https://medium.com/towards-data-science/a-data-scientists-guide-to-make-and-makefiles-1595f39e0704) in Medium."
   ]
  },
  {
   "cell_type": "markdown",
   "id": "2c5bb1c8-d3eb-41ad-9836-846e14c196b1",
   "metadata": {},
   "source": [
    "# Background"
   ]
  },
  {
   "cell_type": "markdown",
   "id": "203e7d54-430c-4b03-bab3-96bfe1a69692",
   "metadata": {},
   "source": [
    "Data Scientists are now expected to write production code to deploy their machine learning algorithms. Therefore, we need to be aware of software engineering standards and methods to ensure our models are deployed robustly and effectively. One such tool that is very well known in the developer community is `make`. This a powerful Linux command that has been known to developers for a long time and in this article I want to show how it can be used to build efficient machine learning pipelines."
   ]
  },
  {
   "cell_type": "markdown",
   "id": "ce673637-c23f-4f35-a6c3-f723e8948e39",
   "metadata": {},
   "source": [
    "# What is Make?"
   ]
  },
  {
   "cell_type": "markdown",
   "id": "467085c7-2bb4-44ed-84fe-cfde5a166db1",
   "metadata": {},
   "source": [
    "`make` is a terminal command/executable just like `ls` or `cd` that is in most UNIX-like operating systems such as MacOS and Linux.\n",
    "\n",
    "The use of `make` is to simplify and breakdown your workflow into a logical grouping of shell commands.\n",
    "\n",
    "It is used widely by developers and is also being adopted by Data Scientists as it simplifies the machine learning pipeline and enables more robust production deployment."
   ]
  },
  {
   "cell_type": "markdown",
   "id": "42f32014-60e7-48bf-910a-f187b6c2e45b",
   "metadata": {},
   "source": [
    "# Why Make for Data Science?"
   ]
  },
  {
   "cell_type": "markdown",
   "id": "1bb349c6-9097-460a-8313-86d3934b725a",
   "metadata": {},
   "source": [
    "`make` is a powerful tool that Data Scientists should be utilising for the following reasons:\n",
    "\n",
    "- Automate the setup of machine learning environments\n",
    "- Clearer end-to-end pipeline documentation\n",
    "- Easier to test models with different parameters\n",
    "- Obvious structure and execution of your project"
   ]
  },
  {
   "cell_type": "markdown",
   "id": "73210796-c31f-446d-9423-89fd9126635b",
   "metadata": {},
   "source": [
    "# What Is A Makefile?"
   ]
  },
  {
   "cell_type": "markdown",
   "id": "4285a7b5-9430-4bac-bf98-274507a4ac1c",
   "metadata": {},
   "source": [
    "A `Makefile` is basically what the `make` commands read and execute from. It has three components:\n",
    "\n",
    "- **Targets:** These are the files you are trying to build or you have a `PHONY` target if you are just carrying out commands.\n",
    "- **Dependencies:** Source files that need to be run before this target is executed.\n",
    "- **Command:** As it says on the tin, these are the list of steps to produce the target."
   ]
  },
  {
   "cell_type": "code",
   "execution_count": null,
   "id": "4d2391cd-4145-423b-a2eb-a48c854c0a92",
   "metadata": {},
   "outputs": [],
   "source": []
  }
 ],
 "metadata": {
  "kernelspec": {
   "display_name": "Python [conda env:ls_env]",
   "language": "python",
   "name": "conda-env-ls_env-py"
  },
  "language_info": {
   "codemirror_mode": {
    "name": "ipython",
    "version": 3
   },
   "file_extension": ".py",
   "mimetype": "text/x-python",
   "name": "python",
   "nbconvert_exporter": "python",
   "pygments_lexer": "ipython3",
   "version": "3.10.8"
  }
 },
 "nbformat": 4,
 "nbformat_minor": 5
}
