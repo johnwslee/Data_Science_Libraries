{
 "cells": [
  {
   "cell_type": "markdown",
   "source": "# 450+ Practice Questions That Will Make You a Pandas, NumPy, and SQL Pro!",
   "metadata": {
    "formattedRanges": [],
    "is_collapsed": false,
    "cell_id": "524efd7f1dcf427f89f93f3eb91739b8",
    "tags": [],
    "deepnote_cell_type": "text-cell-h1"
   }
  },
  {
   "cell_type": "markdown",
   "source": "Author: Avi Chawla\n\nLinkedIn: https://www.linkedin.com/in/avi-chawla/\n\nRead my blogs here: https://medium.com/@avi_chawla",
   "metadata": {
    "cell_id": "845fcd0218c342e385d4ec4f3e663222",
    "tags": [],
    "deepnote_cell_type": "markdown",
    "deepnote_cell_height": 125.171875
   }
  },
  {
   "cell_type": "markdown",
   "source": "## Introduction",
   "metadata": {
    "formattedRanges": [],
    "is_collapsed": false,
    "cell_id": "7f875353207e43deb5bb347a981a6784",
    "tags": [],
    "deepnote_cell_type": "text-cell-h2"
   }
  },
  {
   "cell_type": "markdown",
   "source": "This notebook has been created for you to practice three of the most common tools used in building any machine learning or data science applications, i.e., Pandas, NumPy, and SQL!",
   "metadata": {
    "formattedRanges": [
     {
      "fromCodePoint": 156,
      "toCodePoint": 179,
      "marks": {
       "bold": true
      }
     }
    ],
    "is_collapsed": false,
    "cell_id": "d027f7b79a2f4c239a1f639c62ee5b31",
    "tags": [],
    "deepnote_cell_type": "text-cell-p"
   }
  },
  {
   "cell_type": "markdown",
   "source": "The practice questions provided will serve as a great resource for those who are looking to familiarize themselves with some of the most common functions used in these tools. ",
   "metadata": {
    "formattedRanges": [],
    "is_collapsed": false,
    "cell_id": "4e14aeaf-93f4-4484-a1c2-84fd88ad6ebe",
    "tags": [],
    "deepnote_cell_type": "text-cell-p"
   }
  },
  {
   "cell_type": "markdown",
   "source": "Appropriate descriptions have been provided for all the questions in this entire exercise which will help you navigate through this exercise easily. If a dataset is to be loaded in the python environment, that has also been provided for you. You can find it on the right panel in the Files section. Do NOT delete any of the files/folders listed there. ",
   "metadata": {
    "formattedRanges": [
     {
      "fromCodePoint": 284,
      "toCodePoint": 289,
      "marks": {
       "bold": true
      }
     },
     {
      "fromCodePoint": 302,
      "toCodePoint": 305,
      "marks": {
       "bold": true
      }
     }
    ],
    "is_collapsed": false,
    "cell_id": "7bc00146-5279-4a10-a1aa-efa29edffb83",
    "tags": [],
    "deepnote_cell_type": "text-cell-p"
   }
  },
  {
   "cell_type": "markdown",
   "source": "The whole exercise has been divided into nine separate notebooks. Below are the links to all the other notebooks for you to jump from one notebook to another:",
   "metadata": {
    "formattedRanges": [],
    "is_collapsed": false,
    "cell_id": "fddf7335-854f-4225-b5cc-d43309c8141b",
    "tags": [],
    "deepnote_cell_type": "text-cell-p"
   }
  },
  {
   "cell_type": "markdown",
   "source": "- **Pandas**\n\n1. Pandas Notebook 1: [Link](https://deepnote.com/workspace/avi-chawla-695b-aee6f4ef-2d50-4fb6-9ef2-20ee1022995a/project/Pandas-Notebook-1-d693ac55-6455-40cf-ae34-867c6a02014e/%2Fnotebook.ipynb) \n2. Pandas Notebook 2: [Link](https://deepnote.com/workspace/avi-chawla-695b-aee6f4ef-2d50-4fb6-9ef2-20ee1022995a/project/Pandas-Notebook-employee-dataset-7e3b6755-5d4b-464b-9b75-9c84667ae3bd/%2Fnotebook.ipynb) \n\n3. Pandas Notebook 3: [Link](https://deepnote.com/workspace/avi-chawla-695b-aee6f4ef-2d50-4fb6-9ef2-20ee1022995a/project/Pandas-Notebook-employee-part-2-adc5a3ee-5f61-4725-8e46-ccb07899acfc/%2Fnotebook.ipynb) \n\n4. Pandas Notebook 4: [Link](https://deepnote.com/workspace/avi-chawla-695b-aee6f4ef-2d50-4fb6-9ef2-20ee1022995a/project/Pandas-after-employee-f84e02a1-fb6a-428e-af90-8dd99855749a/%2Fnotebook.ipynb)\n\n- **NumPy**\n\n1. NumPy Notebook 1: [Link](https://deepnote.com/workspace/avi-chawla-695b-aee6f4ef-2d50-4fb6-9ef2-20ee1022995a/project/Numpy-part-1-9b9979f2-b708-4292-b466-3d0157564c91/%2Fnotebook.ipynb)\n\n2. NumPy Notebook 2: [Link](https://deepnote.com/workspace/avi-chawla-695b-aee6f4ef-2d50-4fb6-9ef2-20ee1022995a/project/NumPy-Notebook-2-4456411e-2ddd-426d-8027-4881080027db/%2Fnotebook.ipynb)\n\n3. NumPy Notebook 3: [Link](https://deepnote.com/workspace/avi-chawla-695b-aee6f4ef-2d50-4fb6-9ef2-20ee1022995a/project/NumPy-Notebook-3-e6587114-b580-4249-b599-540de859e603/%2Fnotebook.ipynb) **(This Notebook)** \n\n- **SQL**\n\n1. SQL Notebook 1: [Link](https://deepnote.com/workspace/avi-chawla-695b-aee6f4ef-2d50-4fb6-9ef2-20ee1022995a/project/SQL-Notebook-1-eac9d782-a9b1-4e84-a1f9-af14080a6121/%2Fnotebook.ipynb)\n\n2. SQL Notebook 2: [Link](https://deepnote.com/workspace/avi-chawla-695b-aee6f4ef-2d50-4fb6-9ef2-20ee1022995a/project/SQL-Notebook-2-1914b214-be03-44a1-be63-ad99e98be639/%2Fnotebook.ipynb)",
   "metadata": {
    "cell_id": "3890a680ecf041e7b2c07e903b4902cf",
    "tags": [],
    "deepnote_cell_type": "markdown",
    "deepnote_cell_height": 403.6875
   }
  },
  {
   "cell_type": "markdown",
   "source": "## How to use this notebook?",
   "metadata": {
    "formattedRanges": [],
    "is_collapsed": false,
    "cell_id": "98106bcb90fd40e6b3206151d10bf515",
    "tags": [],
    "deepnote_cell_type": "text-cell-h2"
   }
  },
  {
   "cell_type": "markdown",
   "source": "At the top right corner, you will find a Duplicate button. This will allow you to create a unique notebook for your own practice and write solutions to the question listed in this notebook.  ",
   "metadata": {
    "formattedRanges": [
     {
      "fromCodePoint": 41,
      "toCodePoint": 50,
      "marks": {
       "bold": true
      }
     }
    ],
    "is_collapsed": false,
    "cell_id": "0a87fdd8-977b-4311-ab52-eaa103362e5e",
    "tags": [],
    "deepnote_cell_type": "text-cell-p"
   }
  },
  {
   "cell_type": "markdown",
   "source": "If you face any issues or have any feedback, feel free to reach out to me (Avi Chawla) either on Linkedin: https://www.linkedin.com/in/avi-chawla/ or write an email to avi@dsscholar[dot]com. ",
   "metadata": {
    "cell_id": "0898b89379a34000a2970a0f390d176d",
    "tags": [],
    "deepnote_cell_type": "markdown",
    "deepnote_cell_height": 74.78125
   }
  },
  {
   "cell_type": "markdown",
   "source": "Let's begin 🚀!",
   "metadata": {
    "formattedRanges": [],
    "is_collapsed": false,
    "cell_id": "ed11dcd6160344129644d2834cab1dfd",
    "tags": [],
    "deepnote_cell_type": "text-cell-p"
   }
  },
  {
   "cell_type": "markdown",
   "source": "# NumPy Notebook 3",
   "metadata": {
    "formattedRanges": [],
    "is_collapsed": false,
    "cell_id": "8795016d13a94a7cbf00e25002692565",
    "tags": [],
    "deepnote_cell_type": "text-cell-h1"
   }
  },
  {
   "cell_type": "code",
   "metadata": {
    "tags": [],
    "cell_id": "3c245e12-fd02-47f1-a0cf-f47f68b5d8cf",
    "deepnote_to_be_reexecuted": false,
    "source_hash": "c2602aa8",
    "execution_start": 1660135501195,
    "execution_millis": 5,
    "deepnote_cell_type": "code",
    "deepnote_cell_height": 94
   },
   "source": "import numpy as np\nimport pandas as pd",
   "execution_count": null,
   "outputs": []
  },
  {
   "cell_type": "markdown",
   "source": "### 85. Print the data type of the numpy array below ",
   "metadata": {
    "formattedRanges": [],
    "is_collapsed": false,
    "cell_id": "959ad85eaf5d494bbc93c04be2c524d0",
    "tags": [],
    "deepnote_cell_type": "text-cell-h3"
   }
  },
  {
   "cell_type": "code",
   "metadata": {
    "cell_id": "d277838c3da64881895fd6861dcb7178",
    "tags": [],
    "deepnote_cell_type": "code",
    "deepnote_cell_height": 115
   },
   "source": "a = np.array([[1, 2, 3], [4, 5, 6]], np.int32)\n\ndata_type = ## Your code here\nprint(data_type)",
   "execution_count": null,
   "outputs": []
  },
  {
   "cell_type": "markdown",
   "source": "### 86. Print the second element in the first row",
   "metadata": {
    "formattedRanges": [],
    "is_collapsed": false,
    "cell_id": "3676b245a505473ab24d2c172ea38687",
    "tags": [],
    "deepnote_cell_type": "text-cell-h3"
   }
  },
  {
   "cell_type": "code",
   "metadata": {
    "cell_id": "0ebd5d3d7d324a109acdccbb389e1dfb",
    "tags": [],
    "deepnote_cell_type": "code",
    "deepnote_cell_height": 115
   },
   "source": "a = np.array([[1, 2, 3], [4, 5, 6]], np.int32)\n\nelement = ## Your code here\nprint(element)",
   "execution_count": null,
   "outputs": []
  },
  {
   "cell_type": "markdown",
   "source": "### 87. Print the first column",
   "metadata": {
    "formattedRanges": [],
    "is_collapsed": false,
    "cell_id": "510395a1-39b8-4fc5-99da-fa57e8829dc9",
    "tags": [],
    "deepnote_cell_type": "text-cell-h3"
   }
  },
  {
   "cell_type": "code",
   "metadata": {
    "cell_id": "57194e6c-2fdd-4bab-b2e1-b59683a9162d",
    "tags": [],
    "deepnote_cell_type": "code",
    "deepnote_cell_height": 115
   },
   "source": "a = np.array([[1, 2, 3], [4, 5, 6]], np.int32)\n\ncolumn = ## Your code here\nprint(column)",
   "execution_count": null,
   "outputs": []
  },
  {
   "cell_type": "markdown",
   "source": "### 88. Print the real part of the NumPy array",
   "metadata": {
    "formattedRanges": [],
    "is_collapsed": false,
    "cell_id": "0dcd7c71-a597-4790-812e-be9a2bcf6e94",
    "tags": [],
    "deepnote_cell_type": "text-cell-h3"
   }
  },
  {
   "cell_type": "code",
   "metadata": {
    "cell_id": "89060092-2da8-419f-92df-2b2e28f0a279",
    "tags": [],
    "deepnote_cell_type": "code",
    "deepnote_cell_height": 115
   },
   "source": "a = np.array([1+2j, 2+5j, 4+9j])\n\nreal = ## Your code here\nprint(real)",
   "execution_count": null,
   "outputs": []
  },
  {
   "cell_type": "markdown",
   "source": "### 89. Print the imaginary part of the NumPy array",
   "metadata": {
    "formattedRanges": [],
    "is_collapsed": false,
    "cell_id": "f2fbed1f-eba1-40c9-8c32-378774e89165",
    "tags": [],
    "deepnote_cell_type": "text-cell-h3"
   }
  },
  {
   "cell_type": "code",
   "metadata": {
    "cell_id": "e5518112-f82b-445a-8042-5d33287dee52",
    "tags": [],
    "deepnote_cell_type": "code",
    "deepnote_cell_height": 115
   },
   "source": "a = np.array([1+2j, 2+5j, 4+9j])\n\nimg = ## Your code here\nprint(img)",
   "execution_count": null,
   "outputs": []
  },
  {
   "cell_type": "markdown",
   "source": "### 90. Convert the data type from int to float",
   "metadata": {
    "formattedRanges": [],
    "is_collapsed": false,
    "cell_id": "95257f84-468f-4f6f-84fc-199208e805e9",
    "tags": [],
    "deepnote_cell_type": "text-cell-h3"
   }
  },
  {
   "cell_type": "code",
   "metadata": {
    "cell_id": "ca761834-6f56-4a8f-a488-a6c57191c444",
    "tags": [],
    "deepnote_cell_type": "code",
    "deepnote_cell_height": 115
   },
   "source": "a = np.array([[1, 2, 3], [4, 5, 6]], np.int32)\n\nnp_array = ## Your code here\nprint(np_array)",
   "execution_count": null,
   "outputs": []
  },
  {
   "cell_type": "markdown",
   "source": "### 91. Create a copy of the NumPy array",
   "metadata": {
    "formattedRanges": [],
    "is_collapsed": false,
    "cell_id": "5c239bd2-97ee-4e6c-87f4-70f79230e57c",
    "tags": [],
    "deepnote_cell_type": "text-cell-h3"
   }
  },
  {
   "cell_type": "code",
   "metadata": {
    "cell_id": "62920832-0abf-4562-9519-050faa053f77",
    "tags": [],
    "deepnote_cell_type": "code",
    "deepnote_cell_height": 115
   },
   "source": "a = np.array([[1, 2, 3], [4, 5, 6]])\n\nnp_array = ## Your code here\nprint(np_array)",
   "execution_count": null,
   "outputs": []
  },
  {
   "cell_type": "markdown",
   "source": "### 92. Print the diagonal of the NumPy array",
   "metadata": {
    "formattedRanges": [],
    "is_collapsed": false,
    "cell_id": "59d87466-999a-4912-b2e8-425eb1b74fa3",
    "tags": [],
    "deepnote_cell_type": "text-cell-h3"
   }
  },
  {
   "cell_type": "code",
   "metadata": {
    "cell_id": "52b10fb4-4545-407f-973c-6df178ca1f67",
    "tags": [],
    "deepnote_cell_type": "code",
    "deepnote_cell_height": 115
   },
   "source": "a = np.array([[1, 2, 3], [4, 5, 6]])\n\ndiag = ## Your code here\nprint(diag)",
   "execution_count": null,
   "outputs": []
  },
  {
   "cell_type": "markdown",
   "source": "### 93. Change the value of third element in 2nd row to 10",
   "metadata": {
    "formattedRanges": [],
    "is_collapsed": false,
    "cell_id": "82c142d5-0f5b-446a-9d49-d03f3ef7b2c7",
    "tags": [],
    "deepnote_cell_type": "text-cell-h3"
   }
  },
  {
   "cell_type": "code",
   "metadata": {
    "cell_id": "1fb860eb-1abc-42be-a87f-3ee2b56f2b50",
    "tags": [],
    "deepnote_cell_type": "code",
    "deepnote_cell_height": 115
   },
   "source": "a = np.array([[1, 2, 3], [4, 5, 6]])\n\ndiag = ## Your code here\nprint(diag)",
   "execution_count": null,
   "outputs": []
  },
  {
   "cell_type": "markdown",
   "source": "### 94. Create a numpy array of ones with the same shape as the array 'a'. ",
   "metadata": {
    "formattedRanges": [],
    "is_collapsed": false,
    "cell_id": "90d18484-b9b6-4aa9-b5c0-a89b0f457731",
    "tags": [],
    "deepnote_cell_type": "text-cell-h3"
   }
  },
  {
   "cell_type": "code",
   "metadata": {
    "cell_id": "b03717b8-0a9f-4ae4-9cd5-435c69ef32c8",
    "tags": [],
    "deepnote_cell_type": "code",
    "deepnote_cell_height": 115
   },
   "source": "a = np.array([[1, 2, 3], [4, 5, 6]])\n\nnp_array = ## Your code here\nprint(np_array)",
   "execution_count": null,
   "outputs": []
  },
  {
   "cell_type": "markdown",
   "source": "### 95. Create a numpy array of zeros with the same shape as the array 'a'. ",
   "metadata": {
    "formattedRanges": [],
    "is_collapsed": false,
    "cell_id": "c99bd501-fbcd-4129-865b-6df719cc06c6",
    "tags": [],
    "deepnote_cell_type": "text-cell-h3"
   }
  },
  {
   "cell_type": "code",
   "metadata": {
    "cell_id": "a870afeb-f4a5-4b16-9148-ad44f86a2059",
    "tags": [],
    "deepnote_cell_type": "code",
    "deepnote_cell_height": 115
   },
   "source": "a = np.array([[1, 2, 3], [4, 5, 6]])\n\nnp_array = ## Your code here\nprint(np_array)",
   "execution_count": null,
   "outputs": []
  },
  {
   "cell_type": "markdown",
   "source": "### 96. Print the sum of the diagonal elements.",
   "metadata": {
    "formattedRanges": [],
    "is_collapsed": false,
    "cell_id": "50514cc6-b02a-42bb-b97b-83863d2efb71",
    "tags": [],
    "deepnote_cell_type": "text-cell-h3"
   }
  },
  {
   "cell_type": "markdown",
   "source": "The sum of diagonal elements is also called its trace. ",
   "metadata": {
    "formattedRanges": [
     {
      "fromCodePoint": 48,
      "toCodePoint": 53,
      "marks": {
       "bold": true
      }
     }
    ],
    "is_collapsed": false,
    "cell_id": "846d237d-4048-456f-ab28-b5fde07aeb88",
    "tags": [],
    "deepnote_cell_type": "text-cell-p"
   }
  },
  {
   "cell_type": "code",
   "metadata": {
    "cell_id": "13a0730c-de7b-4d13-9fc7-50c433384962",
    "tags": [],
    "deepnote_cell_type": "code",
    "deepnote_cell_height": 115
   },
   "source": "a = np.array([[1, 2, 3], [4, 5, 6]])\n\ntrace = ## Your code here\nprint(trace)",
   "execution_count": null,
   "outputs": []
  },
  {
   "cell_type": "markdown",
   "source": "### 97. Check whether all the elements of the array are finite or not ",
   "metadata": {
    "formattedRanges": [],
    "is_collapsed": false,
    "cell_id": "43cc9726-9f39-4c09-8a94-a24db4edd8fd",
    "tags": [],
    "deepnote_cell_type": "text-cell-h3"
   }
  },
  {
   "cell_type": "code",
   "metadata": {
    "cell_id": "c0a3e9de-fcfb-4025-a288-a2f713ad40e0",
    "tags": [],
    "deepnote_cell_type": "code",
    "deepnote_cell_height": 115
   },
   "source": "a = np.array([[1, 2, 3], [4, 5, 6]])\n\ncheck_finite = ## Your code here\nprint(check_finite)",
   "execution_count": null,
   "outputs": []
  },
  {
   "cell_type": "markdown",
   "source": "### 98. Check whether all the elements of the array are finite or not ",
   "metadata": {
    "formattedRanges": [],
    "is_collapsed": false,
    "cell_id": "5f93ff3c-b9c3-444b-be46-10295e6a40c3",
    "tags": [],
    "deepnote_cell_type": "text-cell-h3"
   }
  },
  {
   "cell_type": "code",
   "source": "a = np.array([[1, 2, 3], [4, 5, np.nan]])\n\ncheck_finite = ## Your code here\nprint(check_finite)",
   "metadata": {
    "cell_id": "2c3a7a89-0c86-46e6-8130-74255fc55241",
    "tags": [],
    "allow_embed": "code",
    "deepnote_cell_type": "code",
    "deepnote_cell_height": 115
   },
   "execution_count": null,
   "outputs": []
  },
  {
   "cell_type": "markdown",
   "source": "### 99. Check whether the two numpy arrays are equal or not. ",
   "metadata": {
    "formattedRanges": [],
    "is_collapsed": false,
    "cell_id": "2453014d-686f-42b7-9ff3-8b8baa3e3e6c",
    "tags": [],
    "deepnote_cell_type": "text-cell-h3"
   }
  },
  {
   "cell_type": "code",
   "metadata": {
    "cell_id": "8f2e2b00-3104-4c19-ba5d-5af3fb497b8e",
    "tags": [],
    "deepnote_cell_type": "code",
    "deepnote_cell_height": 133
   },
   "source": "a = np.array([[1, 2, 3], [4, 5, 6]])\nb = np.array([[1, 2, 3], [4, 5, 6]])\n\ncheck_equal= ## Your code here\nprint(check_equal)",
   "execution_count": null,
   "outputs": []
  },
  {
   "cell_type": "markdown",
   "source": "### 100. Check whether the two numpy arrays are equal or not. ",
   "metadata": {
    "formattedRanges": [],
    "is_collapsed": false,
    "cell_id": "cd621d81-ebd4-48cd-992d-3ca530cd1dca",
    "tags": [],
    "deepnote_cell_type": "text-cell-h3"
   }
  },
  {
   "cell_type": "code",
   "metadata": {
    "cell_id": "c174522f-f633-4911-971e-27b82d63d43c",
    "tags": [],
    "deepnote_cell_type": "code",
    "deepnote_cell_height": 133
   },
   "source": "a = np.array([[1, 2, 3], [4, 5, 6]])\nb = np.array([[1, 2, 3], [4, 5, 6]], np.float32)\n\ncheck_equal= ## Your code here\nprint(check_equal)",
   "execution_count": null,
   "outputs": []
  },
  {
   "cell_type": "markdown",
   "source": "### 101. Sum of array elements",
   "metadata": {
    "formattedRanges": [],
    "is_collapsed": false,
    "cell_id": "d6bef97b-ea58-444b-bc4e-cc4f62440471",
    "tags": [],
    "deepnote_cell_type": "text-cell-h3"
   }
  },
  {
   "cell_type": "code",
   "metadata": {
    "cell_id": "9fcc7647-96e9-4e9b-a3ca-aeb085ad0b9b",
    "tags": [],
    "deepnote_cell_type": "code",
    "deepnote_cell_height": 115
   },
   "source": "a = np.array([[1, 2, 3], [4, 5, np.nan]])\n\narray_sum = ## Your code here\nprint(array_sum)",
   "execution_count": null,
   "outputs": []
  },
  {
   "cell_type": "markdown",
   "source": "### 102. Find the sum ignoring the nan elements",
   "metadata": {
    "formattedRanges": [],
    "is_collapsed": false,
    "cell_id": "7e307a52-f885-4425-be3e-3b0e55a109aa",
    "tags": [],
    "deepnote_cell_type": "text-cell-h3"
   }
  },
  {
   "cell_type": "code",
   "source": "a = np.array([[1, 2, 3], [4, 5, np.nan]])\n\narray_sum = ## Your code here\nprint(array_sum)",
   "metadata": {
    "cell_id": "cee49fda-a0d3-488b-8561-427a4df79dc0",
    "tags": [],
    "allow_embed": "code",
    "deepnote_cell_type": "code",
    "deepnote_cell_height": 115
   },
   "execution_count": null,
   "outputs": []
  },
  {
   "cell_type": "markdown",
   "source": "### 103. Find the product ignoring the nan elements",
   "metadata": {
    "formattedRanges": [],
    "is_collapsed": false,
    "cell_id": "0b6b7fe8-9fd6-4e11-a685-7089820d1fa7",
    "tags": [],
    "deepnote_cell_type": "text-cell-h3"
   }
  },
  {
   "cell_type": "code",
   "metadata": {
    "cell_id": "da0fc610-121f-443b-930f-188cd03277bb",
    "tags": [],
    "deepnote_cell_type": "code",
    "deepnote_cell_height": 115
   },
   "source": "a = np.array([[1, 2, 3], [4, 5, np.nan]])\n\narray_prod = ## Your code here\nprint(array_prod)",
   "execution_count": null,
   "outputs": []
  },
  {
   "cell_type": "markdown",
   "source": "### 104. Find the element-wise absolute value",
   "metadata": {
    "formattedRanges": [],
    "is_collapsed": false,
    "cell_id": "899632df-fa2b-4f9c-9d3f-9f5546dd4778",
    "tags": [],
    "deepnote_cell_type": "text-cell-h3"
   }
  },
  {
   "cell_type": "code",
   "metadata": {
    "cell_id": "70d3989f-76da-489d-94c3-ad7fe0b68824",
    "tags": [],
    "deepnote_cell_type": "code",
    "deepnote_cell_height": 115
   },
   "source": "a = np.array([[1, -2, 3], [4, -5, 6]])\n\nnp_array = ## Your code here\nprint(np_array)",
   "execution_count": null,
   "outputs": []
  },
  {
   "cell_type": "markdown",
   "source": "### 105. Count the number of non-zero elements",
   "metadata": {
    "formattedRanges": [],
    "is_collapsed": false,
    "cell_id": "55cdc896-cd56-41fe-b017-c17976d68c37",
    "tags": [],
    "deepnote_cell_type": "text-cell-h3"
   }
  },
  {
   "cell_type": "code",
   "metadata": {
    "cell_id": "7d3b47c8-d654-466d-bc13-ea8b83ecf542",
    "tags": [],
    "deepnote_cell_type": "code",
    "deepnote_cell_height": 115
   },
   "source": "a = np.array([[0, -2, 3], [4, -5, 6]])\n\ncount_non_zero = ## Your code here\nprint(count_non_zero)",
   "execution_count": null,
   "outputs": []
  },
  {
   "cell_type": "markdown",
   "source": "### 106. Count the number of non-zero elements row-wise",
   "metadata": {
    "formattedRanges": [],
    "is_collapsed": false,
    "cell_id": "39e63eb7-3ca9-4b9a-a4e6-85a2c8f7256b",
    "tags": [],
    "deepnote_cell_type": "text-cell-h3"
   }
  },
  {
   "cell_type": "code",
   "metadata": {
    "cell_id": "97be867c-8f31-436c-b478-d97d5adf5a2c",
    "tags": [],
    "deepnote_cell_type": "code",
    "deepnote_cell_height": 115
   },
   "source": "a = np.array([[0, -2, 3], [4, -5, 6]])\n\ncount_non_zero = ## Your code here\nprint(count_non_zero)",
   "execution_count": null,
   "outputs": []
  },
  {
   "cell_type": "markdown",
   "source": "### 106. Count the number of non-zero elements column-wise",
   "metadata": {
    "formattedRanges": [],
    "is_collapsed": false,
    "cell_id": "cc105d53-e1d0-4544-9957-59159e417bce",
    "tags": [],
    "deepnote_cell_type": "text-cell-h3"
   }
  },
  {
   "cell_type": "code",
   "metadata": {
    "cell_id": "fc71d977-92a9-4301-b9ab-e3604fa09a93",
    "tags": [],
    "deepnote_cell_type": "code",
    "deepnote_cell_height": 115
   },
   "source": "a = np.array([[0, -2, 3], [4, -5, 6]])\n\ncount_non_zero = ## Your code here\nprint(count_non_zero)",
   "execution_count": null,
   "outputs": []
  },
  {
   "cell_type": "markdown",
   "source": "### 107. Find the mean ignoring the nan elements",
   "metadata": {
    "formattedRanges": [],
    "is_collapsed": false,
    "cell_id": "795ecf74-79b7-4455-b1c4-c5471da37ed5",
    "tags": [],
    "deepnote_cell_type": "text-cell-h3"
   }
  },
  {
   "cell_type": "code",
   "metadata": {
    "cell_id": "134b53f7-ae18-49e2-9c33-eb867f549c30",
    "tags": [],
    "deepnote_cell_type": "code",
    "deepnote_cell_height": 115
   },
   "source": "a = np.array([[1, 2, 3], [4, 5, np.nan]])\n\narray_mean = ## Your code here\nprint(array_mean)",
   "execution_count": null,
   "outputs": []
  },
  {
   "cell_type": "markdown",
   "source": "### 108. Find the std dev ignoring the nan elements",
   "metadata": {
    "formattedRanges": [],
    "is_collapsed": false,
    "cell_id": "3ad79258-ebfd-4fa2-a056-856df59636bc",
    "tags": [],
    "deepnote_cell_type": "text-cell-h3"
   }
  },
  {
   "cell_type": "code",
   "metadata": {
    "cell_id": "bd6ce192-2c29-4a38-8ae6-7cb1329108e8",
    "tags": [],
    "deepnote_cell_type": "code",
    "deepnote_cell_height": 115
   },
   "source": "a = np.array([[1, 2, 3], [4, 5, np.nan]])\n\narray_std = ## Your code here\nprint(array_std)",
   "execution_count": null,
   "outputs": []
  },
  {
   "cell_type": "markdown",
   "source": "### 109. Find the median ignoring the nan elements",
   "metadata": {
    "formattedRanges": [],
    "is_collapsed": false,
    "cell_id": "39dcfdcd-2cc1-48f6-81ee-8d9fd3cf2c45",
    "tags": [],
    "deepnote_cell_type": "text-cell-h3"
   }
  },
  {
   "cell_type": "code",
   "metadata": {
    "cell_id": "a82c3f2b-6680-4341-8da9-12b2f6bd1c83",
    "tags": [],
    "deepnote_cell_type": "code",
    "deepnote_cell_height": 115
   },
   "source": "a = np.array([[1, 2, 3], [4, 5, np.nan]])\n\narray_median = ## Your code here\nprint(array_median)",
   "execution_count": null,
   "outputs": []
  },
  {
   "cell_type": "markdown",
   "source": "### 110. Clip the array elements to a range",
   "metadata": {
    "formattedRanges": [],
    "is_collapsed": false,
    "cell_id": "f3add01f-2e58-4969-bb85-4274e9f58968",
    "tags": [],
    "deepnote_cell_type": "text-cell-h3"
   }
  },
  {
   "cell_type": "code",
   "metadata": {
    "cell_id": "bc8f844037fb4163b30ae8adefe5d084",
    "tags": [],
    "deepnote_cell_type": "code",
    "deepnote_cell_height": 133
   },
   "source": "a = np.array([[1, 2, 3], [4, 5, 6]])\n\nmin_range, max_range = (2, 5)\nnp_array = ## Your code here\nprint(np_array)",
   "execution_count": null,
   "outputs": []
  },
  {
   "cell_type": "markdown",
   "source": "### 111-130. As an exercise, frame 20 numpy questions on your own and solve them.",
   "metadata": {
    "formattedRanges": [],
    "is_collapsed": false,
    "cell_id": "cb8799c7617144739cd444bb23b5694f",
    "tags": [],
    "deepnote_cell_type": "text-cell-h3"
   }
  },
  {
   "cell_type": "code",
   "metadata": {
    "cell_id": "f14ee63bf3bb419f9405d61c5fe61f9f",
    "tags": [],
    "deepnote_cell_type": "code",
    "deepnote_cell_height": 61
   },
   "source": "",
   "execution_count": null,
   "outputs": []
  },
  {
   "cell_type": "markdown",
   "source": "Great job solving this notebook. Go to SQL Notebook 1: [Link](https://deepnote.com/workspace/avi-chawla-695b-aee6f4ef-2d50-4fb6-9ef2-20ee1022995a/project/SQL-Notebook-1-eac9d782-a9b1-4e84-a1f9-af14080a6121/%2Fnotebook.ipynb)",
   "metadata": {
    "cell_id": "75f22a2a5b6f467799dad026585ffe0d",
    "tags": [],
    "deepnote_cell_type": "markdown",
    "deepnote_cell_height": 52.390625
   }
  },
  {
   "cell_type": "markdown",
   "source": "<a style='text-decoration:none;line-height:16px;display:flex;color:#5B5B62;padding:10px;justify-content:end;' href='https://deepnote.com?utm_source=created-in-deepnote-cell&projectId=e6587114-b580-4249-b599-540de859e603' target=\"_blank\">\n<img alt='Created in deepnote.com' style='display:inline;max-height:16px;margin:0px;margin-right:7.5px;' src='data:image/svg+xml;base64,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' > </img>\nCreated in <span style='font-weight:600;margin-left:4px;'>Deepnote</span></a>",
   "metadata": {
    "tags": [],
    "created_in_deepnote_cell": true,
    "deepnote_cell_type": "markdown"
   }
  }
 ],
 "nbformat": 4,
 "nbformat_minor": 2,
 "metadata": {
  "orig_nbformat": 2,
  "deepnote": {},
  "deepnote_notebook_id": "510598ef-70fa-4854-b0a9-4d90d713a265",
  "deepnote_execution_queue": []
 }
}