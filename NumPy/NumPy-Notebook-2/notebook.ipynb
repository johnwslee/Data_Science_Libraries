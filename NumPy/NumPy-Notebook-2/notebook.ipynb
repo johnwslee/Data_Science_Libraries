{
 "cells": [
  {
   "cell_type": "markdown",
   "source": "# 450+ Practice Questions That Will Make You a Pandas, NumPy, and SQL Pro!",
   "metadata": {
    "is_collapsed": false,
    "cell_id": "524efd7f1dcf427f89f93f3eb91739b8",
    "tags": [],
    "formattedRanges": [],
    "deepnote_cell_type": "text-cell-h1"
   }
  },
  {
   "cell_type": "markdown",
   "source": "Author: Avi Chawla\n\nLinkedIn: https://www.linkedin.com/in/avi-chawla/\n\nRead my blogs here: https://medium.com/@avi_chawla",
   "metadata": {
    "cell_id": "845fcd0218c342e385d4ec4f3e663222",
    "tags": [],
    "deepnote_cell_type": "markdown",
    "deepnote_cell_height": 125.171875
   }
  },
  {
   "cell_type": "markdown",
   "source": "## Introduction",
   "metadata": {
    "is_collapsed": false,
    "cell_id": "7f875353207e43deb5bb347a981a6784",
    "tags": [],
    "formattedRanges": [],
    "deepnote_cell_type": "text-cell-h2"
   }
  },
  {
   "cell_type": "markdown",
   "source": "This notebook has been created for you to practice three of the most common tools used in building any machine learning or data science applications, i.e., Pandas, NumPy, and SQL!",
   "metadata": {
    "is_collapsed": false,
    "cell_id": "d027f7b79a2f4c239a1f639c62ee5b31",
    "tags": [],
    "formattedRanges": [
     {
      "fromCodePoint": 156,
      "toCodePoint": 179,
      "marks": {
       "bold": true
      }
     }
    ],
    "deepnote_cell_type": "text-cell-p"
   }
  },
  {
   "cell_type": "markdown",
   "source": "The practice questions provided will serve as a great resource for those who are looking to familiarize themselves with some of the most common functions used in these tools. ",
   "metadata": {
    "is_collapsed": false,
    "cell_id": "4e14aeaf-93f4-4484-a1c2-84fd88ad6ebe",
    "tags": [],
    "formattedRanges": [],
    "deepnote_cell_type": "text-cell-p"
   }
  },
  {
   "cell_type": "markdown",
   "source": "Appropriate descriptions have been provided for all the questions in this entire exercise which will help you navigate through this exercise easily. If a dataset is to be loaded in the python environment, that has also been provided for you. You can find it on the right panel in the Files section. Do NOT delete any of the files/folders listed there. ",
   "metadata": {
    "is_collapsed": false,
    "cell_id": "7bc00146-5279-4a10-a1aa-efa29edffb83",
    "tags": [],
    "formattedRanges": [
     {
      "fromCodePoint": 284,
      "toCodePoint": 289,
      "marks": {
       "bold": true
      }
     },
     {
      "fromCodePoint": 302,
      "toCodePoint": 305,
      "marks": {
       "bold": true
      }
     }
    ],
    "deepnote_cell_type": "text-cell-p"
   }
  },
  {
   "cell_type": "markdown",
   "source": "The whole exercise has been divided into nine separate notebooks. Below are the links to all the other notebooks for you to jump from one notebook to another:",
   "metadata": {
    "is_collapsed": false,
    "cell_id": "fddf7335-854f-4225-b5cc-d43309c8141b",
    "tags": [],
    "formattedRanges": [],
    "deepnote_cell_type": "text-cell-p"
   }
  },
  {
   "cell_type": "markdown",
   "source": "- **Pandas**\n\n1. Pandas Notebook 1: [Link](https://deepnote.com/workspace/avi-chawla-695b-aee6f4ef-2d50-4fb6-9ef2-20ee1022995a/project/Pandas-Notebook-1-d693ac55-6455-40cf-ae34-867c6a02014e/%2Fnotebook.ipynb) \n2. Pandas Notebook 2: [Link](https://deepnote.com/workspace/avi-chawla-695b-aee6f4ef-2d50-4fb6-9ef2-20ee1022995a/project/Pandas-Notebook-employee-dataset-7e3b6755-5d4b-464b-9b75-9c84667ae3bd/%2Fnotebook.ipynb) \n\n3. Pandas Notebook 3: [Link](https://deepnote.com/workspace/avi-chawla-695b-aee6f4ef-2d50-4fb6-9ef2-20ee1022995a/project/Pandas-Notebook-employee-part-2-adc5a3ee-5f61-4725-8e46-ccb07899acfc/%2Fnotebook.ipynb) \n\n4. Pandas Notebook 4: [Link](https://deepnote.com/workspace/avi-chawla-695b-aee6f4ef-2d50-4fb6-9ef2-20ee1022995a/project/Pandas-after-employee-f84e02a1-fb6a-428e-af90-8dd99855749a/%2Fnotebook.ipynb)\n\n- **NumPy**\n\n1. NumPy Notebook 1: [Link](https://deepnote.com/workspace/avi-chawla-695b-aee6f4ef-2d50-4fb6-9ef2-20ee1022995a/project/Numpy-part-1-9b9979f2-b708-4292-b466-3d0157564c91/%2Fnotebook.ipynb)\n\n2. NumPy Notebook 2: [Link](https://deepnote.com/workspace/avi-chawla-695b-aee6f4ef-2d50-4fb6-9ef2-20ee1022995a/project/NumPy-Notebook-2-4456411e-2ddd-426d-8027-4881080027db/%2Fnotebook.ipynb) **(This Notebook)** \n \n3. NumPy Notebook 3: [Link](https://deepnote.com/workspace/avi-chawla-695b-aee6f4ef-2d50-4fb6-9ef2-20ee1022995a/project/NumPy-Notebook-3-e6587114-b580-4249-b599-540de859e603/%2Fnotebook.ipynb)\n\n- **SQL**\n\n1. SQL Notebook 1: [Link](https://deepnote.com/workspace/avi-chawla-695b-aee6f4ef-2d50-4fb6-9ef2-20ee1022995a/project/SQL-Notebook-1-eac9d782-a9b1-4e84-a1f9-af14080a6121/%2Fnotebook.ipynb)\n\n2. SQL Notebook 2: [Link](https://deepnote.com/workspace/avi-chawla-695b-aee6f4ef-2d50-4fb6-9ef2-20ee1022995a/project/SQL-Notebook-2-1914b214-be03-44a1-be63-ad99e98be639/%2Fnotebook.ipynb)",
   "metadata": {
    "cell_id": "3890a680ecf041e7b2c07e903b4902cf",
    "tags": [],
    "deepnote_cell_type": "markdown",
    "deepnote_cell_height": 403.6875
   }
  },
  {
   "cell_type": "markdown",
   "source": "## How to use this notebook?",
   "metadata": {
    "is_collapsed": false,
    "cell_id": "98106bcb90fd40e6b3206151d10bf515",
    "tags": [],
    "formattedRanges": [],
    "deepnote_cell_type": "text-cell-h2"
   }
  },
  {
   "cell_type": "markdown",
   "source": "At the top right corner, you will find a Duplicate button. This will allow you to create a unique notebook for your own practice and write solutions to the question listed in this notebook.  ",
   "metadata": {
    "is_collapsed": false,
    "cell_id": "0a87fdd8-977b-4311-ab52-eaa103362e5e",
    "tags": [],
    "formattedRanges": [
     {
      "fromCodePoint": 41,
      "toCodePoint": 50,
      "marks": {
       "bold": true
      }
     }
    ],
    "deepnote_cell_type": "text-cell-p"
   }
  },
  {
   "cell_type": "markdown",
   "source": "If you face any issues or have any feedback, feel free to reach out to me (Avi Chawla) either on Linkedin: https://www.linkedin.com/in/avi-chawla/ or write an email to avi@dsscholar[dot]com. ",
   "metadata": {
    "cell_id": "0898b89379a34000a2970a0f390d176d",
    "tags": [],
    "deepnote_cell_type": "markdown",
    "deepnote_cell_height": 74.78125
   }
  },
  {
   "cell_type": "markdown",
   "source": "Let's begin 🚀!",
   "metadata": {
    "is_collapsed": false,
    "cell_id": "ed11dcd6160344129644d2834cab1dfd",
    "tags": [],
    "formattedRanges": [],
    "deepnote_cell_type": "text-cell-p"
   }
  },
  {
   "cell_type": "markdown",
   "source": "# NumPy Notebook 2",
   "metadata": {
    "is_collapsed": false,
    "cell_id": "8795016d13a94a7cbf00e25002692565",
    "tags": [],
    "formattedRanges": [],
    "deepnote_cell_type": "text-cell-h1"
   }
  },
  {
   "cell_type": "markdown",
   "source": "## Mathematical Operations on NumPy Arrays",
   "metadata": {
    "formattedRanges": [],
    "is_collapsed": false,
    "cell_id": "5c1eded2139740c187322043ebc24f54",
    "tags": [],
    "deepnote_cell_type": "text-cell-h2"
   }
  },
  {
   "cell_type": "code",
   "source": "import numpy as np\nimport pandas as pd",
   "metadata": {
    "cell_id": "1639f800a232426b9782431084f3a13f",
    "tags": [],
    "deepnote_cell_type": "code",
    "deepnote_cell_height": 79
   },
   "outputs": [],
   "execution_count": null
  },
  {
   "cell_type": "markdown",
   "source": "### 36. Add two numpy arrays element-wise",
   "metadata": {
    "is_collapsed": false,
    "cell_id": "79baaa60-d2ce-42d5-8bec-1101ae6a4c9d",
    "tags": [],
    "formattedRanges": [],
    "deepnote_cell_type": "text-cell-h3"
   }
  },
  {
   "cell_type": "code",
   "metadata": {
    "cell_id": "96a56496-cda3-46fc-b9bb-7a44b613ec0a",
    "tags": [],
    "deepnote_cell_type": "code",
    "deepnote_cell_height": 133
   },
   "source": "a = np.array([[1, 1, 3], [1, 1, 3], [1, 1, 4]])\nb = np.array([[1, 2, 3], [1, 2, 3], [2, 3, 4]])\n\nnp_array = # Your code here\nprint(np_array)",
   "execution_count": null,
   "outputs": []
  },
  {
   "cell_type": "markdown",
   "source": "### 37. Multiple two numpy arrays element-wise",
   "metadata": {
    "is_collapsed": false,
    "cell_id": "b8728430-c890-4af0-a059-d44bab69feea",
    "tags": [],
    "formattedRanges": [],
    "deepnote_cell_type": "text-cell-h3"
   }
  },
  {
   "cell_type": "code",
   "metadata": {
    "cell_id": "484ff26f-85c9-49f3-b614-c62296ca3b23",
    "tags": [],
    "deepnote_cell_type": "code",
    "deepnote_cell_height": 133
   },
   "source": "a = np.array([[1, 1, 3], [1, 1, 3], [1, 1, 4]])\nb = np.array([[1, 2, 3], [1, 2, 3], [2, 3, 4]])\n\nnp_array = # Your code here\nprint(np_array)",
   "execution_count": null,
   "outputs": []
  },
  {
   "cell_type": "markdown",
   "source": "### 38. Subtract two numpy arrays element-wise",
   "metadata": {
    "is_collapsed": false,
    "cell_id": "f7cfbfce-76c4-4036-950f-58967f730504",
    "tags": [],
    "formattedRanges": [],
    "deepnote_cell_type": "text-cell-h3"
   }
  },
  {
   "cell_type": "code",
   "metadata": {
    "cell_id": "5d200685-ad36-455f-9d26-949e5acf75ac",
    "tags": [],
    "deepnote_cell_type": "code",
    "deepnote_cell_height": 133
   },
   "source": "a = np.array([[1, 1, 3], [1, 1, 3], [1, 1, 4]])\nb = np.array([[1, 2, 3], [1, 2, 3], [2, 3, 4]])\n\nnp_array = # Your code here\nprint(np_array)",
   "execution_count": null,
   "outputs": []
  },
  {
   "cell_type": "markdown",
   "source": "### 39. Divide two numpy arrays element-wise",
   "metadata": {
    "is_collapsed": false,
    "cell_id": "aefd688f-25af-4829-861a-a31fcd051d1c",
    "tags": [],
    "formattedRanges": [],
    "deepnote_cell_type": "text-cell-h3"
   }
  },
  {
   "cell_type": "code",
   "metadata": {
    "cell_id": "d539c09b-e84e-4ffe-9971-250fb124be9e",
    "tags": [],
    "deepnote_cell_type": "code",
    "deepnote_cell_height": 133
   },
   "source": "a = np.array([[1, 1, 3], [1, 1, 3], [1, 1, 4]])\nb = np.array([[1, 2, 3], [1, 2, 3], [2, 3, 4]])\n\nnp_array = # Your code here\nprint(np_array)",
   "execution_count": null,
   "outputs": []
  },
  {
   "cell_type": "markdown",
   "source": "### 40-42. Trigonometric functions",
   "metadata": {
    "is_collapsed": false,
    "cell_id": "16edcf03-ae59-49b0-86fe-18b097d2061c",
    "tags": [],
    "formattedRanges": [],
    "deepnote_cell_type": "text-cell-h3"
   }
  },
  {
   "cell_type": "markdown",
   "source": "### sin(x)",
   "metadata": {
    "formattedRanges": [],
    "is_collapsed": false,
    "cell_id": "1a62703a-3d75-4070-8fcd-ca09d7b4e935",
    "tags": [],
    "deepnote_cell_type": "text-cell-h3"
   }
  },
  {
   "cell_type": "code",
   "metadata": {
    "cell_id": "fc5cec3f-1f26-4191-a849-ef6d9cd0a703",
    "tags": [],
    "deepnote_cell_type": "code",
    "deepnote_cell_height": 115
   },
   "source": "a = np.array([1,2,3])\n\nnp_array = # Your code here\nprint(np_array)",
   "execution_count": null,
   "outputs": []
  },
  {
   "cell_type": "markdown",
   "source": "### cos(x)",
   "metadata": {
    "formattedRanges": [],
    "is_collapsed": false,
    "cell_id": "1936f923-7f2f-4bcd-93f5-2cd463b48ba5",
    "tags": [],
    "deepnote_cell_type": "text-cell-h3"
   }
  },
  {
   "cell_type": "code",
   "metadata": {
    "cell_id": "436148aa-0933-427d-b9d0-466e3e5def41",
    "tags": [],
    "deepnote_cell_type": "code",
    "deepnote_cell_height": 115
   },
   "source": "a = np.array([1,2,3])\n\nnp_array = # Your code here\nprint(np_array)",
   "execution_count": null,
   "outputs": []
  },
  {
   "cell_type": "markdown",
   "source": "### tan(x)",
   "metadata": {
    "formattedRanges": [],
    "is_collapsed": false,
    "cell_id": "5a8206ce-489c-444b-af96-cfc11beefc92",
    "tags": [],
    "deepnote_cell_type": "text-cell-h3"
   }
  },
  {
   "cell_type": "code",
   "metadata": {
    "cell_id": "c1442da0-24bb-474d-b722-186ef219f611",
    "tags": [],
    "deepnote_cell_type": "code",
    "deepnote_cell_height": 115
   },
   "source": "a = np.array([1,2,3])\n\nnp_array = # Your code here\nprint(np_array)",
   "execution_count": null,
   "outputs": []
  },
  {
   "cell_type": "markdown",
   "source": "### 43. Print the element-wise floor ",
   "metadata": {
    "is_collapsed": false,
    "cell_id": "de8ce83a-33c2-4bae-bda9-ad834ee4f1c1",
    "tags": [],
    "formattedRanges": [],
    "deepnote_cell_type": "text-cell-h3"
   }
  },
  {
   "cell_type": "code",
   "metadata": {
    "cell_id": "21e8f23f-0b56-400e-8520-d7c52a4834e3",
    "tags": [],
    "deepnote_cell_type": "code",
    "deepnote_cell_height": 115
   },
   "source": "a = np.linspace(1, 2, 5)\n\nnp_array = # Your code here\nprint(np_array)",
   "execution_count": null,
   "outputs": []
  },
  {
   "cell_type": "markdown",
   "source": "### 44. Print the element-wise ceil",
   "metadata": {
    "is_collapsed": false,
    "cell_id": "4fed889b-a2bb-44cd-bb26-11e48729450f",
    "tags": [],
    "formattedRanges": [],
    "deepnote_cell_type": "text-cell-h3"
   }
  },
  {
   "cell_type": "code",
   "metadata": {
    "cell_id": "9d47c16d-1062-4ad6-ba09-3a53dfff66d4",
    "tags": [],
    "deepnote_cell_type": "code",
    "deepnote_cell_height": 115
   },
   "source": "a = np.linspace(1, 2, 5)\n\nnp_array = # Your code here\nprint(np_array)",
   "execution_count": null,
   "outputs": []
  },
  {
   "cell_type": "markdown",
   "source": "### 45. Print the element-wise nearest integer",
   "metadata": {
    "is_collapsed": false,
    "cell_id": "aeec99b0-86c8-40c8-916b-8f0b92a6c0eb",
    "tags": [],
    "formattedRanges": [],
    "deepnote_cell_type": "text-cell-h3"
   }
  },
  {
   "cell_type": "code",
   "metadata": {
    "cell_id": "929059f2-6365-4f46-b799-8eccd9d71811",
    "tags": [],
    "deepnote_cell_type": "code",
    "deepnote_cell_height": 115
   },
   "source": "a = np.linspace(1, 2, 5)\n\nnp_array = # Your code here\nprint(np_array)",
   "execution_count": null,
   "outputs": []
  },
  {
   "cell_type": "markdown",
   "source": "### 46. Round to given number of decimal places",
   "metadata": {
    "is_collapsed": false,
    "cell_id": "9c34b92f-17f6-4f89-b9d8-2991595d5708",
    "tags": [],
    "formattedRanges": [],
    "deepnote_cell_type": "text-cell-h3"
   }
  },
  {
   "cell_type": "code",
   "metadata": {
    "cell_id": "ab4137b9-6f8a-48c5-a0f2-c96db2a8321c",
    "tags": [],
    "deepnote_cell_type": "code",
    "deepnote_cell_height": 133
   },
   "source": "a = np.linspace(1, 2, 7)\ndecimal_places = 2\n\nnp_array = # Your code here\nprint(np_array)",
   "execution_count": null,
   "outputs": []
  },
  {
   "cell_type": "markdown",
   "source": "### 47. Calculate the element-wise exponential",
   "metadata": {
    "is_collapsed": false,
    "cell_id": "5d34a5a3-8667-4126-a24c-56eb207d1f84",
    "tags": [],
    "formattedRanges": [],
    "deepnote_cell_type": "text-cell-h3"
   }
  },
  {
   "cell_type": "code",
   "metadata": {
    "cell_id": "327aee2c-f13a-4581-ac5c-b75ce23f1bfa",
    "tags": [],
    "deepnote_cell_type": "code",
    "deepnote_cell_height": 133
   },
   "source": "a = np.arange(1, 6)\n## array([1, 2, 3, 4, 5])\n\nnp_array = # Your code here\nprint(np_array)",
   "execution_count": null,
   "outputs": []
  },
  {
   "cell_type": "markdown",
   "source": "### 48. Calculate the element-wise exponential and round to two decimal places",
   "metadata": {
    "is_collapsed": false,
    "cell_id": "3cb3eba3-4043-4067-b002-bdb2576cbae6",
    "tags": [],
    "formattedRanges": [],
    "deepnote_cell_type": "text-cell-h3"
   }
  },
  {
   "cell_type": "code",
   "metadata": {
    "cell_id": "24bc5aec-44e8-4a79-85d2-d40494368d18",
    "tags": [],
    "deepnote_cell_type": "code",
    "deepnote_cell_height": 133
   },
   "source": "a = np.arange(1, 6)\n## array([1, 2, 3, 4, 5])\n\nnp_array = # Your code here\nprint(np_array)",
   "execution_count": null,
   "outputs": []
  },
  {
   "cell_type": "markdown",
   "source": "### 49. Calculate the element-wise natural logarithm ",
   "metadata": {
    "is_collapsed": false,
    "cell_id": "61cb3be7-7486-45d8-ac5d-da5fc8b2d38d",
    "tags": [],
    "formattedRanges": [],
    "deepnote_cell_type": "text-cell-h3"
   }
  },
  {
   "cell_type": "code",
   "metadata": {
    "cell_id": "d7496239-0d5b-4200-9f81-03bfcd0e9a64",
    "tags": [],
    "deepnote_cell_type": "code",
    "deepnote_cell_height": 133
   },
   "source": "a = np.arange(1, 6)\n## array([1, 2, 3, 4, 5])\n\nnp_array = # Your code here\nprint(np_array)",
   "execution_count": null,
   "outputs": []
  },
  {
   "cell_type": "markdown",
   "source": "### 50. Calculate the element-wise natural logarithm and round to two decimal places",
   "metadata": {
    "is_collapsed": false,
    "cell_id": "366cbeed-3862-4976-a4ab-637de3df63c6",
    "tags": [],
    "formattedRanges": [],
    "deepnote_cell_type": "text-cell-h3"
   }
  },
  {
   "cell_type": "code",
   "metadata": {
    "cell_id": "3d72c34d0080414da0411f9f25b2d71c",
    "tags": [],
    "deepnote_cell_type": "code",
    "deepnote_cell_height": 133
   },
   "source": "a = np.arange(1, 6)\n## array([1, 2, 3, 4, 5])\n\nnp_array = # Your code here\nprint(np_array)",
   "execution_count": null,
   "outputs": []
  },
  {
   "cell_type": "markdown",
   "source": "### 51. Calculate the element-wise logarithm at base 2",
   "metadata": {
    "is_collapsed": false,
    "cell_id": "1e6e1cf2-ed7b-4c4d-8f07-cacb96ba441c",
    "tags": [],
    "formattedRanges": [],
    "deepnote_cell_type": "text-cell-h3"
   }
  },
  {
   "cell_type": "code",
   "metadata": {
    "cell_id": "12507228f56b47cbbcc586c679d2a8a6",
    "tags": [],
    "deepnote_cell_type": "code",
    "deepnote_cell_height": 151
   },
   "source": "a = np.arange(1, 6)\n## array([1, 2, 3, 4, 5])\n\n\nnp_array = # Your code here\nprint(np_array)",
   "execution_count": null,
   "outputs": []
  },
  {
   "cell_type": "markdown",
   "source": "### 52. Calculate the element-wise logarithm at base 2 and take floor of the result",
   "metadata": {
    "is_collapsed": false,
    "cell_id": "71c50374-8729-4dc3-8cf9-c468857ed173",
    "tags": [],
    "formattedRanges": [],
    "deepnote_cell_type": "text-cell-h3"
   }
  },
  {
   "cell_type": "code",
   "metadata": {
    "cell_id": "0bb51699-afaa-4142-a307-30e4c65b7047",
    "tags": [],
    "deepnote_cell_type": "code",
    "deepnote_cell_height": 133
   },
   "source": "a = np.arange(1, 6)\n## array([1, 2, 3, 4, 5])\n\nnp_array = # Your code here\nprint(np_array)",
   "execution_count": null,
   "outputs": []
  },
  {
   "cell_type": "markdown",
   "source": "### 53. Find the sum of numpy array elements",
   "metadata": {
    "is_collapsed": false,
    "cell_id": "bd16d342-8d1f-4207-870d-a0cacfb50994",
    "tags": [],
    "formattedRanges": [],
    "deepnote_cell_type": "text-cell-h3"
   }
  },
  {
   "cell_type": "code",
   "metadata": {
    "cell_id": "692f7db2-832c-4935-8b48-7ff58336edf7",
    "tags": [],
    "deepnote_cell_type": "code",
    "deepnote_cell_height": 115
   },
   "source": "a = np.array([[1, 2], [3, 4]])\n\nsum_of_array = # Your code here\nprint(sum_of_array)",
   "execution_count": null,
   "outputs": []
  },
  {
   "cell_type": "markdown",
   "source": "### 54. Find the row-wise sum of numpy array elements",
   "metadata": {
    "is_collapsed": false,
    "cell_id": "734964e4-3453-48d7-a6ef-db7edc60de25",
    "tags": [],
    "formattedRanges": [],
    "deepnote_cell_type": "text-cell-h3"
   }
  },
  {
   "cell_type": "code",
   "metadata": {
    "cell_id": "a6773a4d-e403-4387-9a21-6f5d34534531",
    "tags": [],
    "deepnote_cell_type": "code",
    "deepnote_cell_height": 115
   },
   "source": "a = np.array([[1, 2], [3, 4]])\n\nsum_of_array = # Your code here\nprint(sum_of_array)",
   "execution_count": null,
   "outputs": []
  },
  {
   "cell_type": "markdown",
   "source": "### 55. Find the column-wise sum of numpy array elements",
   "metadata": {
    "is_collapsed": false,
    "cell_id": "3c886753-3acc-4362-9aa9-bd45920fe259",
    "tags": [],
    "formattedRanges": [],
    "deepnote_cell_type": "text-cell-h3"
   }
  },
  {
   "cell_type": "code",
   "metadata": {
    "cell_id": "f96d28ab-f35d-416b-ab29-71e53631916b",
    "tags": [],
    "deepnote_cell_type": "code",
    "deepnote_cell_height": 115
   },
   "source": "a = np.array([[1, 2], [3, 4]])\n\nsum_of_array = # Your code here\nprint(sum_of_array)",
   "execution_count": null,
   "outputs": []
  },
  {
   "cell_type": "markdown",
   "source": "### 56. Calculate the product of array elements",
   "metadata": {
    "is_collapsed": false,
    "cell_id": "795d6ae7-0aa8-43e9-a9f1-e90c687ee96c",
    "tags": [],
    "formattedRanges": [],
    "deepnote_cell_type": "text-cell-h3"
   }
  },
  {
   "cell_type": "code",
   "metadata": {
    "cell_id": "d55f57ca-3562-4ad1-bdc9-7e60a7dca623",
    "tags": [],
    "deepnote_cell_type": "code",
    "deepnote_cell_height": 115
   },
   "source": "a = np.array([[1, 2], [3, 4]])\n\nprod_of_array = # Your code here\nprint(prod_of_array)",
   "execution_count": null,
   "outputs": []
  },
  {
   "cell_type": "markdown",
   "source": "### 57. Find the row-wise product of numpy array elements",
   "metadata": {
    "is_collapsed": false,
    "cell_id": "8817751c-bb4d-40aa-8a59-63374f5ebfbc",
    "tags": [],
    "formattedRanges": [],
    "deepnote_cell_type": "text-cell-h3"
   }
  },
  {
   "cell_type": "code",
   "metadata": {
    "cell_id": "44051ef3-bed4-4766-a597-a309a6120da6",
    "tags": [],
    "deepnote_cell_type": "code",
    "deepnote_cell_height": 115
   },
   "source": "a = np.array([[1, 2], [3, 4]])\n\nprod_of_array = # Your code here\nprint(prod_of_array)",
   "execution_count": null,
   "outputs": []
  },
  {
   "cell_type": "markdown",
   "source": "### 58. Find the column-wise product of numpy array element",
   "metadata": {
    "is_collapsed": false,
    "cell_id": "c9289980-02f0-4597-9da0-0f256c8b8f59",
    "tags": [],
    "formattedRanges": [],
    "deepnote_cell_type": "text-cell-h3"
   }
  },
  {
   "cell_type": "code",
   "metadata": {
    "cell_id": "bddf2b97-3c66-447f-9821-d102426c1384",
    "tags": [],
    "deepnote_cell_type": "code",
    "deepnote_cell_height": 115
   },
   "source": "a = np.array([[1, 2], [3, 4]])\n\nprod_of_array = # Your code here\nprint(prod_of_array)",
   "execution_count": null,
   "outputs": []
  },
  {
   "cell_type": "markdown",
   "source": "### 59. Compute the square root of array elements",
   "metadata": {
    "is_collapsed": false,
    "cell_id": "92fbae00-dc4b-49dc-8145-ad88e469bbb6",
    "tags": [],
    "formattedRanges": [],
    "deepnote_cell_type": "text-cell-h3"
   }
  },
  {
   "cell_type": "code",
   "metadata": {
    "cell_id": "6fd7a429-523c-432c-8ec6-0a6ea66a5028",
    "tags": [],
    "deepnote_cell_type": "code",
    "deepnote_cell_height": 115
   },
   "source": "a = np.array([[1, 2], [3, 4]])\n\nnp_array = # Your code here\nprint(np_array)",
   "execution_count": null,
   "outputs": []
  },
  {
   "cell_type": "markdown",
   "source": "## Matrix and Vector Operations",
   "metadata": {
    "formattedRanges": [],
    "is_collapsed": false,
    "cell_id": "0f187c5d7437405ea986e86e2f04e83e",
    "tags": [],
    "deepnote_cell_type": "text-cell-h2"
   }
  },
  {
   "cell_type": "markdown",
   "source": "### 60. Compute the dot product of two NumPy arrays ",
   "metadata": {
    "is_collapsed": false,
    "cell_id": "72a5e286-d16e-4295-b594-a80635755436",
    "tags": [],
    "formattedRanges": [],
    "deepnote_cell_type": "text-cell-h3"
   }
  },
  {
   "cell_type": "code",
   "metadata": {
    "cell_id": "5318dcbb-5d3d-45cd-a483-1bcbc3ec83d6",
    "tags": [],
    "deepnote_cell_type": "code",
    "deepnote_cell_height": 133
   },
   "source": "a = np.array([[1, 2], [3, 4]])\nb = np.array([[1, 1], [1, 1]])\n\nnp_array = # Your code here\nprint(np_array)",
   "execution_count": null,
   "outputs": []
  },
  {
   "cell_type": "markdown",
   "source": "### 61. Compute the row-wise dot product of two NumPy arrays ",
   "metadata": {
    "is_collapsed": false,
    "cell_id": "564032f8-f3ef-40ff-86de-50af4ef8646b",
    "tags": [],
    "formattedRanges": [],
    "deepnote_cell_type": "text-cell-h3"
   }
  },
  {
   "cell_type": "code",
   "metadata": {
    "cell_id": "912a2138-63ca-4ba6-aacd-7896e5bbf1c5",
    "tags": [],
    "deepnote_cell_type": "code",
    "deepnote_cell_height": 133
   },
   "source": "a = np.array([[1, 2], [3, 4]])\nb = np.array([[1, 1], [1, 1]])\n\nnp_array = # Your code here\nprint(np_array)",
   "execution_count": null,
   "outputs": []
  },
  {
   "cell_type": "markdown",
   "source": "### 62. Compute the matrix product of two NumPy arrays",
   "metadata": {
    "is_collapsed": false,
    "cell_id": "fad30257-9911-4d4b-81b6-dee44d0c89dd",
    "tags": [],
    "formattedRanges": [],
    "deepnote_cell_type": "text-cell-h3"
   }
  },
  {
   "cell_type": "code",
   "metadata": {
    "cell_id": "34dee3ff-81f4-4f58-be49-0997abc209d8",
    "tags": [],
    "deepnote_cell_type": "code",
    "deepnote_cell_height": 133
   },
   "source": "a = np.array([[1, 2], [3, 4]])\nb = np.array([[1, 1], [1, 1]])\n\nnp_array = # Your code here\nprint(np_array)",
   "execution_count": null,
   "outputs": []
  },
  {
   "cell_type": "markdown",
   "source": "### 63. Compute the matrix product of two NumPy arrays using the @ operator",
   "metadata": {
    "is_collapsed": false,
    "cell_id": "75539d04-5872-48c7-8aed-bd26e533746c",
    "tags": [],
    "formattedRanges": [],
    "deepnote_cell_type": "text-cell-h3"
   }
  },
  {
   "cell_type": "code",
   "metadata": {
    "cell_id": "24a6d52b-1008-440e-88de-5425995752b2",
    "tags": [],
    "deepnote_cell_type": "code",
    "deepnote_cell_height": 133
   },
   "source": "a = np.array([[1, 2], [3, 4]])\nb = np.array([[1, 1], [1, 1]])\n\nnp_array = # Your code here\nprint(np_array)",
   "execution_count": null,
   "outputs": []
  },
  {
   "cell_type": "markdown",
   "source": "### 64. Compute the length of the vector",
   "metadata": {
    "is_collapsed": false,
    "cell_id": "3803dd38-80a9-4701-9076-2b7ba450f5b4",
    "tags": [],
    "formattedRanges": [],
    "deepnote_cell_type": "text-cell-h3"
   }
  },
  {
   "cell_type": "code",
   "metadata": {
    "cell_id": "a85b8cda-6392-4c67-8108-45d6f3fb5008",
    "tags": [],
    "deepnote_cell_type": "code",
    "deepnote_cell_height": 115
   },
   "source": "a = np.arange(-4, 5)\n\nvec_len = # Your code here\nprint(vec_len)",
   "execution_count": null,
   "outputs": []
  },
  {
   "cell_type": "markdown",
   "source": "### 65. Sort the array inplace row-wise",
   "metadata": {
    "is_collapsed": false,
    "cell_id": "52b12e78-26bc-4c82-b6fb-41342a3adf7f",
    "tags": [],
    "formattedRanges": [],
    "deepnote_cell_type": "text-cell-h3"
   }
  },
  {
   "cell_type": "code",
   "metadata": {
    "cell_id": "14a76879-de41-48f2-9903-e3d08cf885f3",
    "tags": [],
    "deepnote_cell_type": "code",
    "deepnote_cell_height": 115
   },
   "source": "a = np.array([[1,4],[3,1]])\n\nnp_array = # Your code here\nprint(np_array)",
   "execution_count": null,
   "outputs": []
  },
  {
   "cell_type": "markdown",
   "source": "### 66. Sort the array inplace column-wise",
   "metadata": {
    "is_collapsed": false,
    "cell_id": "9303a446-86a7-4373-87ea-73d061700a55",
    "tags": [],
    "formattedRanges": [],
    "deepnote_cell_type": "text-cell-h3"
   }
  },
  {
   "cell_type": "code",
   "metadata": {
    "cell_id": "20a8a5aa-617b-4b11-9f3a-e3ea2f1dfbba",
    "tags": [],
    "deepnote_cell_type": "code",
    "deepnote_cell_height": 115
   },
   "source": "a = np.array([[1,4],[3,1]])\n\nnp_array = # Your code here\nprint(np_array)",
   "execution_count": null,
   "outputs": []
  },
  {
   "cell_type": "markdown",
   "source": "### 67. Sort the flattened array",
   "metadata": {
    "is_collapsed": false,
    "cell_id": "66c9dcc2-e874-41e9-8308-c37794906499",
    "tags": [],
    "formattedRanges": [],
    "deepnote_cell_type": "text-cell-h3"
   }
  },
  {
   "cell_type": "code",
   "metadata": {
    "cell_id": "e513596d-f5ae-42ed-a62d-23ce8d140a0a",
    "tags": [],
    "deepnote_cell_type": "code",
    "deepnote_cell_height": 115
   },
   "source": "a = np.array([[1,4],[3,1]])\n\nnp_array = # Your code here\nprint(np_array)",
   "execution_count": null,
   "outputs": []
  },
  {
   "cell_type": "markdown",
   "source": "### 68. Order of Indices in a Sorted NumPy Array",
   "metadata": {
    "is_collapsed": false,
    "cell_id": "3ca4806255a645d2a2b2fe423dada047",
    "tags": [],
    "formattedRanges": [],
    "deepnote_cell_type": "text-cell-h3"
   }
  },
  {
   "cell_type": "code",
   "metadata": {
    "tags": [],
    "cell_id": "5553b45d-7fe0-4ab6-8fa3-040b87a00b11",
    "deepnote_cell_type": "code",
    "deepnote_cell_height": 115
   },
   "source": "a = np.array([3, 1, 2])\n\nnp_array = # Your code here\nprint(np_array)",
   "execution_count": null,
   "outputs": []
  },
  {
   "cell_type": "markdown",
   "source": "### 69-71. Find the index corresponding to the Maximum Values.",
   "metadata": {
    "is_collapsed": false,
    "cell_id": "6f64521a59cf4f9d86fa2ffece890bb3",
    "tags": [],
    "formattedRanges": [],
    "deepnote_cell_type": "text-cell-h3"
   }
  },
  {
   "cell_type": "code",
   "metadata": {
    "cell_id": "736b3f5fc08f4581a34f9ae505ae3557",
    "tags": [],
    "deepnote_cell_type": "code",
    "deepnote_cell_height": 79
   },
   "source": "a = np.array([[15, 13, 10,  1, 18],\n              [14, 19, 19, 17,  8]])",
   "execution_count": null,
   "outputs": []
  },
  {
   "cell_type": "markdown",
   "source": "### -> In a flattened array",
   "metadata": {
    "formattedRanges": [],
    "is_collapsed": false,
    "cell_id": "bae22d48-ef9d-42c8-ad1d-b98f850ac73c",
    "tags": [],
    "deepnote_cell_type": "text-cell-h3"
   }
  },
  {
   "cell_type": "code",
   "metadata": {
    "tags": [],
    "cell_id": "2ec18d2f-4abc-42f8-9a11-18594638414a",
    "deepnote_cell_type": "code",
    "deepnote_cell_height": 79
   },
   "source": "max_index = ## Your code here\nprint(max_index)",
   "execution_count": null,
   "outputs": []
  },
  {
   "cell_type": "markdown",
   "source": "### -> Indices of max along column",
   "metadata": {
    "formattedRanges": [],
    "is_collapsed": false,
    "cell_id": "a8af11fe-c0cb-4131-ad60-84459353d2fb",
    "tags": [],
    "deepnote_cell_type": "text-cell-h3"
   }
  },
  {
   "cell_type": "code",
   "metadata": {
    "cell_id": "0b7524b5-99eb-4364-a7e1-8599efd74875",
    "tags": [],
    "deepnote_cell_type": "code",
    "deepnote_cell_height": 79
   },
   "source": "max_index = ## Your code here\nprint(max_index)",
   "execution_count": null,
   "outputs": []
  },
  {
   "cell_type": "markdown",
   "source": "### -> Indices of max along row",
   "metadata": {
    "formattedRanges": [],
    "is_collapsed": false,
    "cell_id": "4242e9fa-d360-4284-94f1-13bef1ede907",
    "tags": [],
    "deepnote_cell_type": "text-cell-h3"
   }
  },
  {
   "cell_type": "code",
   "metadata": {
    "tags": [],
    "cell_id": "296d3dc0-106c-4bca-b26e-c14539d6d375",
    "deepnote_cell_type": "code",
    "deepnote_cell_height": 79
   },
   "source": "max_index = ## Your code here\nprint(max_index)",
   "execution_count": null,
   "outputs": []
  },
  {
   "cell_type": "markdown",
   "source": "### 72-74. Find the index corresponding to the Minimum Values.",
   "metadata": {
    "is_collapsed": false,
    "cell_id": "b86f6660-dadb-4aa2-8e69-77fedc7de6f0",
    "tags": [],
    "formattedRanges": [],
    "deepnote_cell_type": "text-cell-h3"
   }
  },
  {
   "cell_type": "code",
   "metadata": {
    "cell_id": "8dc27dd9-5ceb-42e3-be6e-9ff13daa5b4d",
    "tags": [],
    "deepnote_cell_type": "code",
    "deepnote_cell_height": 79
   },
   "source": "a = np.array([[15, 13, 10,  1, 18],\n              [14, 19, 19, 17,  8]])",
   "execution_count": null,
   "outputs": []
  },
  {
   "cell_type": "markdown",
   "source": "### -> In a flattened array",
   "metadata": {
    "formattedRanges": [],
    "is_collapsed": false,
    "cell_id": "cbb79b57-d63b-4771-bb72-e7876d15d686",
    "tags": [],
    "deepnote_cell_type": "text-cell-h3"
   }
  },
  {
   "cell_type": "code",
   "metadata": {
    "tags": [],
    "cell_id": "539b67dd-349a-4ac5-a291-adf924a67bcb",
    "deepnote_cell_type": "code",
    "deepnote_cell_height": 79
   },
   "source": "min_index = ## Your code here\nprint(min_index)",
   "execution_count": null,
   "outputs": []
  },
  {
   "cell_type": "markdown",
   "source": "### -> Indices of min along column",
   "metadata": {
    "formattedRanges": [],
    "is_collapsed": false,
    "cell_id": "c86faef2-1655-43ec-854f-e2ad396e1939",
    "tags": [],
    "deepnote_cell_type": "text-cell-h3"
   }
  },
  {
   "cell_type": "code",
   "metadata": {
    "cell_id": "21b09be6-9f88-44a6-91f7-e0ceb83e692a",
    "tags": [],
    "deepnote_cell_type": "code",
    "deepnote_cell_height": 79
   },
   "source": "min_index = ## Your code here\nprint(min_index)",
   "execution_count": null,
   "outputs": []
  },
  {
   "cell_type": "markdown",
   "source": "### -> Indices of min along row",
   "metadata": {
    "formattedRanges": [],
    "is_collapsed": false,
    "cell_id": "7bdfb338-ac63-44b9-ace7-36dd6e1f0cf7",
    "tags": [],
    "deepnote_cell_type": "text-cell-h3"
   }
  },
  {
   "cell_type": "code",
   "metadata": {
    "tags": [],
    "cell_id": "66543c6f-3069-4638-a477-540f909eaf7f",
    "deepnote_cell_type": "code",
    "deepnote_cell_height": 79
   },
   "source": "min_index = ## Your code here\nprint(min_index)",
   "execution_count": null,
   "outputs": []
  },
  {
   "cell_type": "markdown",
   "source": "### 75. Print the indices of non-zero elements",
   "metadata": {
    "is_collapsed": false,
    "cell_id": "0806bdf4-9227-4dc7-a00b-ce3b1d81083b",
    "tags": [],
    "formattedRanges": [],
    "deepnote_cell_type": "text-cell-h3"
   }
  },
  {
   "cell_type": "code",
   "metadata": {
    "cell_id": "5d8b63f9-7f35-4460-9883-7c2ba16116f5",
    "tags": [],
    "deepnote_cell_type": "code",
    "deepnote_cell_height": 115
   },
   "source": "a = np.array([[3, 0, 0], [0, 4, 0], [5, 6, 0]])\n\nnon_zero_ind = ## Your code here\nprint(non_zero_ind)",
   "execution_count": null,
   "outputs": []
  },
  {
   "cell_type": "markdown",
   "source": "### 76. Find the mean of the whole numpy array",
   "metadata": {
    "is_collapsed": false,
    "cell_id": "078a0c96338c4bac891f8284c387cd72",
    "tags": [],
    "formattedRanges": [],
    "deepnote_cell_type": "text-cell-h3"
   }
  },
  {
   "cell_type": "code",
   "metadata": {
    "cell_id": "a2dcae052968447c8263a3933bf38265",
    "tags": [],
    "deepnote_cell_type": "code",
    "deepnote_cell_height": 115
   },
   "source": "a = np.array([[1, 2], [3, 4]])\n\nmean = ## Your code here\nprint(mean)",
   "execution_count": null,
   "outputs": []
  },
  {
   "cell_type": "markdown",
   "source": "### 77. Find the mean of the numpy array along row-axis",
   "metadata": {
    "is_collapsed": false,
    "cell_id": "584aeff7-1dfd-4a56-8640-734a19814423",
    "tags": [],
    "formattedRanges": [],
    "deepnote_cell_type": "text-cell-h3"
   }
  },
  {
   "cell_type": "code",
   "metadata": {
    "cell_id": "8065d8e381634b0e8dd14ef0c208bf2e",
    "tags": [],
    "deepnote_cell_type": "code",
    "deepnote_cell_height": 115
   },
   "source": "a = np.array([[1, 2], [3, 4]])\n\nmean = ## Your code here\nprint(mean)",
   "execution_count": null,
   "outputs": []
  },
  {
   "cell_type": "markdown",
   "source": "### 78. Find the mean of the numpy array along column-axis",
   "metadata": {
    "is_collapsed": false,
    "cell_id": "747f1222-f9a9-4ac1-9413-3b58c56242f4",
    "tags": [],
    "formattedRanges": [],
    "deepnote_cell_type": "text-cell-h3"
   }
  },
  {
   "cell_type": "code",
   "metadata": {
    "cell_id": "dbf78cc4238440c280332b5013b36e0e",
    "tags": [],
    "deepnote_cell_type": "code",
    "deepnote_cell_height": 115
   },
   "source": "a = np.array([[1, 2], [3, 4]])\n\nmean = ## Your code here\nprint(mean)",
   "execution_count": null,
   "outputs": []
  },
  {
   "cell_type": "markdown",
   "source": "### 79. Find the median of the whole numpy array",
   "metadata": {
    "is_collapsed": false,
    "cell_id": "1cda468e-2118-4ea6-8f03-96336a58cfac",
    "tags": [],
    "formattedRanges": [],
    "deepnote_cell_type": "text-cell-h3"
   }
  },
  {
   "cell_type": "code",
   "metadata": {
    "cell_id": "7588d1f7-3017-4103-a7a1-37c9037beab2",
    "tags": [],
    "deepnote_cell_type": "code",
    "deepnote_cell_height": 115
   },
   "source": "a = np.array([[1, 2], [3, 4]])\n\nmedian = ## Your code here\nprint(median)",
   "execution_count": null,
   "outputs": []
  },
  {
   "cell_type": "markdown",
   "source": "### 80. Find the median of the numpy array along row-axis",
   "metadata": {
    "is_collapsed": false,
    "cell_id": "8f3da411-82be-428f-b0fd-c0668a848e45",
    "tags": [],
    "formattedRanges": [],
    "deepnote_cell_type": "text-cell-h3"
   }
  },
  {
   "cell_type": "code",
   "metadata": {
    "cell_id": "87f34258-609e-4316-a2f9-89f008410fa3",
    "tags": [],
    "deepnote_cell_type": "code",
    "deepnote_cell_height": 115
   },
   "source": "a = np.array([[1, 2], [3, 4]])\n\nmedian = ## Your code here\nprint(median)",
   "execution_count": null,
   "outputs": []
  },
  {
   "cell_type": "markdown",
   "source": "### 81. Find the median of the numpy array along column-axis",
   "metadata": {
    "is_collapsed": false,
    "cell_id": "68375951-930d-4806-af81-48d4f5359ee2",
    "tags": [],
    "formattedRanges": [],
    "deepnote_cell_type": "text-cell-h3"
   }
  },
  {
   "cell_type": "code",
   "metadata": {
    "cell_id": "cb4fcd68-a2ca-4d53-ac66-0fd1afe0dbbd",
    "tags": [],
    "deepnote_cell_type": "code",
    "deepnote_cell_height": 115
   },
   "source": "a = np.array([[1, 2], [3, 4]])\n\nmedian = ## Your code here\nprint(median)",
   "execution_count": null,
   "outputs": []
  },
  {
   "cell_type": "markdown",
   "source": "### 82. Find the std dev of the whole numpy array",
   "metadata": {
    "is_collapsed": false,
    "cell_id": "cdab2e29-e58f-4052-9f6b-afd802cad1df",
    "tags": [],
    "formattedRanges": [],
    "deepnote_cell_type": "text-cell-h3"
   }
  },
  {
   "cell_type": "code",
   "metadata": {
    "cell_id": "ccfcf37d-b9c8-4e31-995e-8be4a6d6131c",
    "tags": [],
    "deepnote_cell_type": "code",
    "deepnote_cell_height": 115
   },
   "source": "a = np.array([[1, 2], [3, 4]])\n\nstd_dev = ## Your code here\nprint(std_dev)",
   "execution_count": null,
   "outputs": []
  },
  {
   "cell_type": "markdown",
   "source": "### 83. Find the std dev of the numpy array along row-axis",
   "metadata": {
    "is_collapsed": false,
    "cell_id": "2390ca7e-b2a7-45f3-84a9-2d4823022171",
    "tags": [],
    "formattedRanges": [],
    "deepnote_cell_type": "text-cell-h3"
   }
  },
  {
   "cell_type": "code",
   "metadata": {
    "cell_id": "700f1e40-f17e-44bf-b896-42299f29a304",
    "tags": [],
    "deepnote_cell_type": "code",
    "deepnote_cell_height": 115
   },
   "source": "a = np.array([[1, 2], [3, 4]])\n\nstd_dev = ## Your code here\nprint(std_dev)",
   "execution_count": null,
   "outputs": []
  },
  {
   "cell_type": "markdown",
   "source": "### 84. Find the std dev of the numpy array along column-axis",
   "metadata": {
    "is_collapsed": false,
    "cell_id": "255a2ddd-b75c-4b26-adf3-d3f55168646e",
    "tags": [],
    "formattedRanges": [],
    "deepnote_cell_type": "text-cell-h3"
   }
  },
  {
   "cell_type": "code",
   "metadata": {
    "cell_id": "32a3e41a-82be-4dc8-98d8-edbd2528650b",
    "tags": [],
    "deepnote_cell_type": "code",
    "deepnote_cell_height": 115
   },
   "source": "a = np.array([[1, 2], [3, 4]])\n\nstd_dev = ## Your code here\nprint(std_dev)",
   "execution_count": null,
   "outputs": []
  },
  {
   "cell_type": "markdown",
   "source": "Great job solving this notebook. Go to NumPy Notebook 3: [Link](https://deepnote.com/workspace/avi-chawla-695b-aee6f4ef-2d50-4fb6-9ef2-20ee1022995a/project/NumPy-Notebook-3-e6587114-b580-4249-b599-540de859e603/%2Fnotebook.ipynb)",
   "metadata": {
    "cell_id": "175788e3fa0242d1b7d4e093e45a22ea",
    "tags": [],
    "deepnote_cell_type": "markdown",
    "deepnote_cell_height": 52.390625
   }
  },
  {
   "cell_type": "markdown",
   "source": "<a style='text-decoration:none;line-height:16px;display:flex;color:#5B5B62;padding:10px;justify-content:end;' href='https://deepnote.com?utm_source=created-in-deepnote-cell&projectId=4456411e-2ddd-426d-8027-4881080027db' target=\"_blank\">\n<img alt='Created in deepnote.com' style='display:inline;max-height:16px;margin:0px;margin-right:7.5px;' src='data:image/svg+xml;base64,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' > </img>\nCreated in <span style='font-weight:600;margin-left:4px;'>Deepnote</span></a>",
   "metadata": {
    "tags": [],
    "created_in_deepnote_cell": true,
    "deepnote_cell_type": "markdown"
   }
  }
 ],
 "nbformat": 4,
 "nbformat_minor": 2,
 "metadata": {
  "orig_nbformat": 2,
  "deepnote": {},
  "deepnote_notebook_id": "c9f73ea6-502d-4b0a-a032-f998c94a27bc",
  "deepnote_execution_queue": []
 }
}