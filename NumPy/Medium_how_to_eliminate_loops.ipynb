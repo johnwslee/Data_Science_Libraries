{
 "cells": [
  {
   "cell_type": "markdown",
   "id": "640cdea1-ee54-4642-a65f-172c10e9f09c",
   "metadata": {},
   "source": [
    "# Imports"
   ]
  },
  {
   "cell_type": "code",
   "execution_count": 1,
   "id": "e70e22e9-b319-43f3-a9d9-f49f2eade7de",
   "metadata": {},
   "outputs": [],
   "source": [
    "import numpy as np\n",
    "import pandas as pd\n",
    "\n",
    "from itertools import combinations"
   ]
  },
  {
   "cell_type": "markdown",
   "id": "cdaace07-43e4-42d6-a7f3-c0cfb933842f",
   "metadata": {},
   "source": [
    "# 1. Get Rid of the Loops"
   ]
  },
  {
   "cell_type": "markdown",
   "id": "5911388f-f203-4265-b7f3-a625806b3fdc",
   "metadata": {},
   "source": [
    "### 1.1. Eliminate Loops with List Comprehension, Map Function, & itertools"
   ]
  },
  {
   "cell_type": "code",
   "execution_count": 2,
   "id": "a4916d25-f3e5-4dab-9fd1-8789d6ce02f8",
   "metadata": {},
   "outputs": [],
   "source": [
    "# List of HP, Attack, Defense, Speed\n",
    "poke_stats = [\n",
    "    [90, 92, 75, 60],\n",
    "    [25, 20, 15, 90],\n",
    "    [65, 130, 60, 75],\n",
    "]"
   ]
  },
  {
   "cell_type": "code",
   "execution_count": 3,
   "id": "5310d538-0d30-42e6-b076-be8b7e64b05e",
   "metadata": {},
   "outputs": [
    {
     "name": "stdout",
     "output_type": "stream",
     "text": [
      "584 ns ± 16.1 ns per loop (mean ± std. dev. of 7 runs, 1,000,000 loops each)\n"
     ]
    }
   ],
   "source": [
    "%%timeit\n",
    "totals = []\n",
    "for row in poke_stats:\n",
    "    totals.append(sum(row))"
   ]
  },
  {
   "cell_type": "code",
   "execution_count": 4,
   "id": "be50e664-a8e7-4d49-ba52-a6aa7c82701a",
   "metadata": {},
   "outputs": [
    {
     "name": "stdout",
     "output_type": "stream",
     "text": [
      "553 ns ± 15.5 ns per loop (mean ± std. dev. of 7 runs, 1,000,000 loops each)\n"
     ]
    }
   ],
   "source": [
    "%%timeit\n",
    "totals_comp = [sum(row) for row in poke_stats]"
   ]
  },
  {
   "cell_type": "code",
   "execution_count": 5,
   "id": "e3ba15bf-0d57-443a-89c7-25c4ad9af31b",
   "metadata": {},
   "outputs": [
    {
     "name": "stdout",
     "output_type": "stream",
     "text": [
      "537 ns ± 9.87 ns per loop (mean ± std. dev. of 7 runs, 1,000,000 loops each)\n"
     ]
    }
   ],
   "source": [
    "%%timeit\n",
    "totals_map = [*map(sum, poke_stats)]"
   ]
  },
  {
   "cell_type": "code",
   "execution_count": 6,
   "id": "81920781-81dc-4720-a1cf-a84c870242f8",
   "metadata": {},
   "outputs": [],
   "source": [
    "poke_types = ['Bug', 'Fire', 'Ghost', 'Grass', 'Water']"
   ]
  },
  {
   "cell_type": "code",
   "execution_count": 7,
   "id": "d2402f3c-3572-41d9-9593-0d4d4bec0731",
   "metadata": {},
   "outputs": [
    {
     "name": "stdout",
     "output_type": "stream",
     "text": [
      "2.81 µs ± 74 ns per loop (mean ± std. dev. of 7 runs, 100,000 loops each)\n"
     ]
    }
   ],
   "source": [
    "%%timeit\n",
    "# Nested for loop approach\n",
    "combos = []\n",
    "for x in poke_types:\n",
    "    for y in poke_types:\n",
    "        if x == y:\n",
    "            continue\n",
    "    if ((x,y) not in combos) & ((y,x) not in combos):\n",
    "        combos.append((x,y))"
   ]
  },
  {
   "cell_type": "code",
   "execution_count": 8,
   "id": "6f0c0271-002a-4c03-8695-0e8d0c42df36",
   "metadata": {},
   "outputs": [
    {
     "name": "stdout",
     "output_type": "stream",
     "text": [
      "594 ns ± 12.9 ns per loop (mean ± std. dev. of 7 runs, 1,000,000 loops each)\n"
     ]
    }
   ],
   "source": [
    "%%timeit\n",
    "# Built-in module approach\n",
    "combos2 = [*combinations(poke_types, 2)]"
   ]
  },
  {
   "cell_type": "markdown",
   "id": "0ef1afb6-4f99-4048-9631-e5cd6e1efbf1",
   "metadata": {},
   "source": [
    "### 1.2. Eliminate Loops with NumPy"
   ]
  },
  {
   "cell_type": "code",
   "execution_count": 9,
   "id": "a789d7d4-79b0-40be-8da0-2a34afa9b2e2",
   "metadata": {},
   "outputs": [
    {
     "name": "stdout",
     "output_type": "stream",
     "text": [
      "32 µs ± 453 ns per loop (mean ± std. dev. of 7 runs, 10,000 loops each)\n"
     ]
    }
   ],
   "source": [
    "%%timeit\n",
    "avgs = []\n",
    "for row in poke_stats:\n",
    "    avg = np.mean(row)\n",
    "    avgs.append(avg)"
   ]
  },
  {
   "cell_type": "code",
   "execution_count": 10,
   "id": "557824bc-99c5-489e-b051-5f6c21cac3f3",
   "metadata": {},
   "outputs": [
    {
     "name": "stdout",
     "output_type": "stream",
     "text": [
      "12.6 µs ± 226 ns per loop (mean ± std. dev. of 7 runs, 100,000 loops each)\n"
     ]
    }
   ],
   "source": [
    "%%timeit \n",
    "avgs = np.array(poke_stats).mean(axis=1)"
   ]
  },
  {
   "cell_type": "markdown",
   "id": "8947db5a-1cf4-453f-af2e-f7ea4f35a08b",
   "metadata": {},
   "source": [
    "# 2. Writing Better Loops"
   ]
  },
  {
   "cell_type": "markdown",
   "id": "4b51f538-3a7c-4958-a06e-9b747043d2fb",
   "metadata": {},
   "source": [
    "### 2.1. Moving calculations above a loop"
   ]
  },
  {
   "cell_type": "code",
   "execution_count": 11,
   "id": "9bf48c07-897b-4161-a14d-5ff9e677e9f7",
   "metadata": {},
   "outputs": [
    {
     "name": "stdout",
     "output_type": "stream",
     "text": [
      "Absol's attack: 130 > average: 69.0!\n",
      "Aron's attack: 70 > average: 69.0!\n",
      "286 µs ± 0 ns per loop (mean ± std. dev. of 1 run, 1 loop each)\n"
     ]
    }
   ],
   "source": [
    "%%timeit -n 1 -r 1\n",
    "\n",
    "names = ['Absol', 'Aron', 'Jynx', 'Natu', 'Onix']\n",
    "attacks = np.array([130, 70, 50, 50, 45])\n",
    "\n",
    "for pokemon,attack in zip(names, attacks):\n",
    "    total_attack_avg = attacks.mean()\n",
    "    if attack > total_attack_avg:\n",
    "        print(\n",
    "            \"{}'s attack: {} > average: {}!\"\n",
    "            .format(pokemon, attack, total_attack_avg)\n",
    "        )"
   ]
  },
  {
   "cell_type": "code",
   "execution_count": 12,
   "id": "e439eb98-a9d7-4da3-a2fc-10ad3a901cba",
   "metadata": {},
   "outputs": [
    {
     "name": "stdout",
     "output_type": "stream",
     "text": [
      "Absol's attack: 130 > average: 69.0!\n",
      "Aron's attack: 70 > average: 69.0!\n",
      "303 µs ± 0 ns per loop (mean ± std. dev. of 1 run, 1 loop each)\n"
     ]
    }
   ],
   "source": [
    "%%timeit -n 1 -r 1\n",
    "\n",
    "names = ['Absol', 'Aron', 'Jynx', 'Natu', 'Onix']\n",
    "attacks = np.array([130, 70, 50, 50, 45])\n",
    "\n",
    "# Calculate total average once (outside the loop)\n",
    "total_attack_avg = attacks.mean()\n",
    "\n",
    "for pokemon,attack in zip(names, attacks):\n",
    "    if attack > total_attack_avg:\n",
    "        print(\n",
    "            \"{}'s attack: {} > average: {}!\"\n",
    "            .format(pokemon, attack, total_attack_avg)\n",
    "        )"
   ]
  },
  {
   "cell_type": "markdown",
   "id": "a2768915-8900-43bd-b18e-ac69a3d8c1db",
   "metadata": {},
   "source": [
    "### 2.2. Holistic Conversions"
   ]
  },
  {
   "cell_type": "code",
   "execution_count": 13,
   "id": "6209e1c8-256f-49d4-92f5-b19dde82d891",
   "metadata": {},
   "outputs": [],
   "source": [
    "# Data for example\n",
    "\n",
    "pokemon = pd.read_csv('data/pokemon.csv')\n",
    "names_list = pokemon['Name']\n",
    "legend_status_list = pokemon['Legendary']\n",
    "generations_list = pokemon['Generation']"
   ]
  },
  {
   "cell_type": "code",
   "execution_count": 14,
   "id": "c039286d-5ed2-4887-88db-261c99670036",
   "metadata": {},
   "outputs": [
    {
     "name": "stdout",
     "output_type": "stream",
     "text": [
      "390 µs ± 7.38 µs per loop (mean ± std. dev. of 7 runs, 1,000 loops each)\n"
     ]
    }
   ],
   "source": [
    "%%timeit\n",
    "\n",
    "poke_data = []\n",
    "for poke_tuple in zip(names_list, legend_status_list, generations_list):\n",
    "    poke_list = list(poke_tuple)\n",
    "    poke_data.append(poke_list)"
   ]
  },
  {
   "cell_type": "markdown",
   "id": "eda6ff0e-8ddb-485e-8fe7-70645c81d204",
   "metadata": {},
   "source": [
    "However, converting each tuple to a list within the loop is not very efficient. Instead, we should collect all of our poke_tuples together, and use the map function to convert each tuple to a list. The loop no longer converts tuples to lists with each iteration. Instead, we moved this tuple to list conversion outside (or below) the loop. That way, we convert data types all at once (or holistically) rather than converting in each iteration."
   ]
  },
  {
   "cell_type": "code",
   "execution_count": 15,
   "id": "67ff2897-e203-423f-9aa6-b28bc66031fb",
   "metadata": {},
   "outputs": [
    {
     "name": "stdout",
     "output_type": "stream",
     "text": [
      "377 µs ± 12.9 µs per loop (mean ± std. dev. of 7 runs, 1,000 loops each)\n"
     ]
    }
   ],
   "source": [
    "%%timeit\n",
    "\n",
    "poke_data_tuples = []\n",
    "for poke_tuple in zip(names_list, legend_status_list, generations_list):\n",
    "    poke_data_tuples.append(poke_tuple)\n",
    "    \n",
    "poke_data = [*map(list, poke_data_tuples)]"
   ]
  },
  {
   "cell_type": "code",
   "execution_count": null,
   "id": "ff39b944-9166-42a7-aaab-fd7e20133c42",
   "metadata": {},
   "outputs": [],
   "source": []
  }
 ],
 "metadata": {
  "kernelspec": {
   "display_name": "Python [conda env:525_2022]",
   "language": "python",
   "name": "conda-env-525_2022-py"
  },
  "language_info": {
   "codemirror_mode": {
    "name": "ipython",
    "version": 3
   },
   "file_extension": ".py",
   "mimetype": "text/x-python",
   "name": "python",
   "nbconvert_exporter": "python",
   "pygments_lexer": "ipython3",
   "version": "3.8.6"
  }
 },
 "nbformat": 4,
 "nbformat_minor": 5
}
