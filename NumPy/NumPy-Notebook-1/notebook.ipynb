{
 "cells": [
  {
   "cell_type": "markdown",
   "source": "# 450+ Practice Questions That Will Make You a Pandas, NumPy, and SQL Pro!",
   "metadata": {
    "formattedRanges": [],
    "is_collapsed": false,
    "cell_id": "524efd7f1dcf427f89f93f3eb91739b8",
    "tags": [],
    "deepnote_cell_type": "text-cell-h1"
   }
  },
  {
   "cell_type": "markdown",
   "source": "Author: Avi Chawla\n\nLinkedIn: https://www.linkedin.com/in/avi-chawla/\n\nRead my blogs here: https://medium.com/@avi_chawla",
   "metadata": {
    "cell_id": "845fcd0218c342e385d4ec4f3e663222",
    "tags": [],
    "deepnote_cell_type": "markdown",
    "deepnote_cell_height": 125.171875
   }
  },
  {
   "cell_type": "markdown",
   "source": "## Introduction",
   "metadata": {
    "formattedRanges": [],
    "is_collapsed": false,
    "cell_id": "7f875353207e43deb5bb347a981a6784",
    "tags": [],
    "deepnote_cell_type": "text-cell-h2"
   }
  },
  {
   "cell_type": "markdown",
   "source": "This notebook has been created for you to practice three of the most common tools used in building any machine learning or data science applications, i.e., Pandas, NumPy, and SQL!",
   "metadata": {
    "formattedRanges": [
     {
      "fromCodePoint": 156,
      "toCodePoint": 179,
      "marks": {
       "bold": true
      }
     }
    ],
    "is_collapsed": false,
    "cell_id": "d027f7b79a2f4c239a1f639c62ee5b31",
    "tags": [],
    "deepnote_cell_type": "text-cell-p"
   }
  },
  {
   "cell_type": "markdown",
   "source": "The practice questions provided will serve as a great resource for those who are looking to familiarize themselves with some of the most common functions used in these tools. ",
   "metadata": {
    "formattedRanges": [],
    "is_collapsed": false,
    "cell_id": "4e14aeaf-93f4-4484-a1c2-84fd88ad6ebe",
    "tags": [],
    "deepnote_cell_type": "text-cell-p"
   }
  },
  {
   "cell_type": "markdown",
   "source": "Appropriate descriptions have been provided for all the questions in this entire exercise which will help you navigate through this exercise easily. If a dataset is to be loaded in the python environment, that has also been provided for you. You can find it on the right panel in the Files section. Do NOT delete any of the files/folders listed there. ",
   "metadata": {
    "formattedRanges": [
     {
      "fromCodePoint": 284,
      "toCodePoint": 289,
      "marks": {
       "bold": true
      }
     },
     {
      "fromCodePoint": 302,
      "toCodePoint": 305,
      "marks": {
       "bold": true
      }
     }
    ],
    "is_collapsed": false,
    "cell_id": "7bc00146-5279-4a10-a1aa-efa29edffb83",
    "tags": [],
    "deepnote_cell_type": "text-cell-p"
   }
  },
  {
   "cell_type": "markdown",
   "source": "The whole exercise has been divided into nine separate notebooks. Below are the links to all the other notebooks for you to jump from one notebook to another:",
   "metadata": {
    "formattedRanges": [],
    "is_collapsed": false,
    "cell_id": "fddf7335-854f-4225-b5cc-d43309c8141b",
    "tags": [],
    "deepnote_cell_type": "text-cell-p"
   }
  },
  {
   "cell_type": "markdown",
   "source": "- **Pandas**\n\n1. Pandas Notebook 1: [Link](https://deepnote.com/workspace/avi-chawla-695b-aee6f4ef-2d50-4fb6-9ef2-20ee1022995a/project/Pandas-Notebook-1-d693ac55-6455-40cf-ae34-867c6a02014e/%2Fnotebook.ipynb) \n2. Pandas Notebook 2: [Link](https://deepnote.com/workspace/avi-chawla-695b-aee6f4ef-2d50-4fb6-9ef2-20ee1022995a/project/Pandas-Notebook-employee-dataset-7e3b6755-5d4b-464b-9b75-9c84667ae3bd/%2Fnotebook.ipynb) \n\n3. Pandas Notebook 3: [Link](https://deepnote.com/workspace/avi-chawla-695b-aee6f4ef-2d50-4fb6-9ef2-20ee1022995a/project/Pandas-Notebook-employee-part-2-adc5a3ee-5f61-4725-8e46-ccb07899acfc/%2Fnotebook.ipynb)\n\n4. Pandas Notebook 4: [Link](https://deepnote.com/workspace/avi-chawla-695b-aee6f4ef-2d50-4fb6-9ef2-20ee1022995a/project/Pandas-after-employee-f84e02a1-fb6a-428e-af90-8dd99855749a/%2Fnotebook.ipynb)\n\n- **NumPy**\n\n1. NumPy Notebook 1: [Link](https://deepnote.com/workspace/avi-chawla-695b-aee6f4ef-2d50-4fb6-9ef2-20ee1022995a/project/Numpy-part-1-9b9979f2-b708-4292-b466-3d0157564c91/%2Fnotebook.ipynb) **(This Notebook)** \n\n2. NumPy Notebook 2: [Link](https://deepnote.com/workspace/avi-chawla-695b-aee6f4ef-2d50-4fb6-9ef2-20ee1022995a/project/NumPy-Notebook-2-4456411e-2ddd-426d-8027-4881080027db/%2Fnotebook.ipynb)\n\n3. NumPy Notebook 3: [Link](https://deepnote.com/workspace/avi-chawla-695b-aee6f4ef-2d50-4fb6-9ef2-20ee1022995a/project/NumPy-Notebook-3-e6587114-b580-4249-b599-540de859e603/%2Fnotebook.ipynb)\n\n- **SQL**\n\n1. SQL Notebook 1: [Link](https://deepnote.com/workspace/avi-chawla-695b-aee6f4ef-2d50-4fb6-9ef2-20ee1022995a/project/SQL-Notebook-1-eac9d782-a9b1-4e84-a1f9-af14080a6121/%2Fnotebook.ipynb)\n\n2. SQL Notebook 2: [Link](https://deepnote.com/workspace/avi-chawla-695b-aee6f4ef-2d50-4fb6-9ef2-20ee1022995a/project/SQL-Notebook-2-1914b214-be03-44a1-be63-ad99e98be639/%2Fnotebook.ipynb)",
   "metadata": {
    "cell_id": "3890a680ecf041e7b2c07e903b4902cf",
    "tags": [],
    "deepnote_cell_type": "markdown",
    "deepnote_cell_height": 403.6875
   }
  },
  {
   "cell_type": "markdown",
   "source": "## How to use this notebook?",
   "metadata": {
    "formattedRanges": [],
    "is_collapsed": false,
    "cell_id": "98106bcb90fd40e6b3206151d10bf515",
    "tags": [],
    "deepnote_cell_type": "text-cell-h2"
   }
  },
  {
   "cell_type": "markdown",
   "source": "At the top right corner, you will find a Duplicate button. This will allow you to create a unique notebook for your own practice and write solutions to the question listed in this notebook.  ",
   "metadata": {
    "formattedRanges": [
     {
      "fromCodePoint": 41,
      "toCodePoint": 50,
      "marks": {
       "bold": true
      }
     }
    ],
    "is_collapsed": false,
    "cell_id": "0a87fdd8-977b-4311-ab52-eaa103362e5e",
    "tags": [],
    "deepnote_cell_type": "text-cell-p"
   }
  },
  {
   "cell_type": "markdown",
   "source": "If you face any issues or have any feedback, feel free to reach out to me (Avi Chawla) either on Linkedin: https://www.linkedin.com/in/avi-chawla/ or write an email to avi@dsscholar[dot]com. ",
   "metadata": {
    "cell_id": "0898b89379a34000a2970a0f390d176d",
    "tags": [],
    "deepnote_cell_type": "markdown",
    "deepnote_cell_height": 74.78125
   }
  },
  {
   "cell_type": "markdown",
   "source": "Let's begin 🚀!",
   "metadata": {
    "formattedRanges": [],
    "is_collapsed": false,
    "cell_id": "ed11dcd6160344129644d2834cab1dfd",
    "tags": [],
    "deepnote_cell_type": "text-cell-p"
   }
  },
  {
   "cell_type": "markdown",
   "source": "# NumPy Notebook 1",
   "metadata": {
    "formattedRanges": [],
    "is_collapsed": false,
    "cell_id": "8795016d13a94a7cbf00e25002692565",
    "tags": [],
    "deepnote_cell_type": "text-cell-h1"
   }
  },
  {
   "cell_type": "code",
   "metadata": {
    "cell_id": "e814385d-faff-4156-955f-ed6332a32ce4",
    "tags": [],
    "deepnote_to_be_reexecuted": false,
    "source_hash": "c76c7c51",
    "execution_start": 1660126792255,
    "execution_millis": 5,
    "deepnote_cell_type": "code",
    "deepnote_cell_height": 94
   },
   "source": "import pandas as pd\nimport numpy as np",
   "execution_count": null,
   "outputs": []
  },
  {
   "cell_type": "markdown",
   "source": "## Create a Numpy Array",
   "metadata": {
    "formattedRanges": [],
    "is_collapsed": false,
    "cell_id": "9dde038b64b84ee48f915ab43ce1ccb6",
    "tags": [],
    "deepnote_cell_type": "text-cell-h2"
   }
  },
  {
   "cell_type": "markdown",
   "source": "### 1. Create a NumPy array from a python list",
   "metadata": {
    "is_collapsed": false,
    "cell_id": "c6d33b05f19d4dc999d943b281ad3e64",
    "tags": [],
    "formattedRanges": [],
    "deepnote_cell_type": "text-cell-h3"
   }
  },
  {
   "cell_type": "code",
   "metadata": {
    "cell_id": "225c3868a7a74a5e8be42d6faea0ef88",
    "tags": [],
    "deepnote_cell_type": "code",
    "deepnote_cell_height": 115
   },
   "source": "a = [1, 2, 3]\n\nnp_array = # Your code here\nprint(np_array)",
   "execution_count": null,
   "outputs": []
  },
  {
   "cell_type": "markdown",
   "source": "### 2. Print the type of the array created above",
   "metadata": {
    "is_collapsed": false,
    "cell_id": "cb536a18d37f4759b3d31c6a37f8604e",
    "tags": [],
    "formattedRanges": [],
    "deepnote_cell_type": "text-cell-h3"
   }
  },
  {
   "cell_type": "code",
   "metadata": {
    "cell_id": "4ab49ea2dbbf418280fcb146c23cd007",
    "tags": [],
    "deepnote_cell_type": "code",
    "deepnote_cell_height": 61
   },
   "source": "",
   "execution_count": null,
   "outputs": []
  },
  {
   "cell_type": "markdown",
   "source": "### 3. Create a NumPy array from a python list of lists",
   "metadata": {
    "is_collapsed": false,
    "cell_id": "09cec1afe6e54b2a9ca3eab259d354fe",
    "tags": [],
    "formattedRanges": [],
    "deepnote_cell_type": "text-cell-h3"
   }
  },
  {
   "cell_type": "code",
   "metadata": {
    "cell_id": "757ef8e8d1e14afc926a232592462793",
    "tags": [],
    "deepnote_cell_type": "code",
    "deepnote_cell_height": 115
   },
   "source": "a = [[1,2,3], [4,5,6]]\n\nnp_array = # Your code here\nprint(np_array)",
   "execution_count": null,
   "outputs": []
  },
  {
   "cell_type": "markdown",
   "source": "### 4. Print the type of the array created above",
   "metadata": {
    "is_collapsed": false,
    "cell_id": "99610cc9-3e4b-4db5-a349-505ee59aa6c7",
    "tags": [],
    "formattedRanges": [],
    "deepnote_cell_type": "text-cell-h3"
   }
  },
  {
   "cell_type": "code",
   "metadata": {
    "cell_id": "18aca0c5-ccd6-46ef-965f-12c54a82420f",
    "tags": [],
    "deepnote_cell_type": "code",
    "deepnote_cell_height": 61
   },
   "source": "",
   "execution_count": null,
   "outputs": []
  },
  {
   "cell_type": "markdown",
   "source": "### 5. While creating the numpy array, specify the data type as float32.",
   "metadata": {
    "is_collapsed": false,
    "cell_id": "02bbc646-b6f3-4547-a5de-2715d98fdc81",
    "tags": [],
    "formattedRanges": [],
    "deepnote_cell_type": "text-cell-h3"
   }
  },
  {
   "cell_type": "code",
   "metadata": {
    "cell_id": "a941852b-e9be-4d5d-823d-70b6e258cc70",
    "tags": [],
    "deepnote_cell_type": "code",
    "deepnote_cell_height": 115
   },
   "source": "a = [[1,2,3], [4,5,6]]\n\nnp_array = # Your code here\nprint(np_array)",
   "execution_count": null,
   "outputs": []
  },
  {
   "cell_type": "markdown",
   "source": "### 6. Create a NumPy array of Zeros",
   "metadata": {
    "is_collapsed": false,
    "cell_id": "b2c133d7-13cb-4073-ad41-dc1203837911",
    "tags": [],
    "formattedRanges": [],
    "deepnote_cell_type": "text-cell-h3"
   }
  },
  {
   "cell_type": "code",
   "metadata": {
    "cell_id": "1def0ff8-1c5a-4bde-a823-e2f09b07096f",
    "tags": [],
    "deepnote_cell_type": "code",
    "deepnote_cell_height": 79
   },
   "source": "np_array = # Your code here\nprint(np_array)",
   "execution_count": null,
   "outputs": []
  },
  {
   "cell_type": "markdown",
   "source": "### 7. Create a multi-dimensional NumPy array of Zeros",
   "metadata": {
    "is_collapsed": false,
    "cell_id": "532e9025-34a6-4699-9ebf-fa82d527db40",
    "tags": [],
    "formattedRanges": [],
    "deepnote_cell_type": "text-cell-h3"
   }
  },
  {
   "cell_type": "code",
   "metadata": {
    "cell_id": "73dd244c-41c3-4b48-ba77-5a50953afb23",
    "tags": [],
    "deepnote_cell_type": "code",
    "deepnote_cell_height": 79
   },
   "source": "np_array = # Your code here\nprint(np_array)",
   "execution_count": null,
   "outputs": []
  },
  {
   "cell_type": "markdown",
   "source": "### 8. Create a NumPy array of Ones",
   "metadata": {
    "is_collapsed": false,
    "cell_id": "20ec912f-efe7-4bbb-80e2-d72a0e64fbca",
    "tags": [],
    "formattedRanges": [],
    "deepnote_cell_type": "text-cell-h3"
   }
  },
  {
   "cell_type": "code",
   "metadata": {
    "cell_id": "75e86771-3627-4742-87f0-bd5227610386",
    "tags": [],
    "deepnote_cell_type": "code",
    "deepnote_cell_height": 79
   },
   "source": "np_array = # Your code here\nprint(np_array)",
   "execution_count": null,
   "outputs": []
  },
  {
   "cell_type": "markdown",
   "source": "### 9. Create a multi-dimensional NumPy array of Ones",
   "metadata": {
    "is_collapsed": false,
    "cell_id": "601714b1-683e-4292-8e28-1f3cee5b5bf6",
    "tags": [],
    "formattedRanges": [],
    "deepnote_cell_type": "text-cell-h3"
   }
  },
  {
   "cell_type": "code",
   "metadata": {
    "cell_id": "9c477461-df0b-4883-87a5-3ad4b100cdc5",
    "tags": [],
    "deepnote_cell_type": "code",
    "deepnote_cell_height": 79
   },
   "source": "np_array = # Your code here\nprint(np_array)",
   "execution_count": null,
   "outputs": []
  },
  {
   "cell_type": "markdown",
   "source": "### 10. Create an Identity Numpy Array of order 3",
   "metadata": {
    "is_collapsed": false,
    "cell_id": "931d068a-4d21-43fd-b831-6be05462552d",
    "tags": [],
    "formattedRanges": [],
    "deepnote_cell_type": "text-cell-h3"
   }
  },
  {
   "cell_type": "code",
   "metadata": {
    "cell_id": "a88c4a24-748b-4b87-b261-2e947fdb3441",
    "tags": [],
    "deepnote_cell_type": "code",
    "deepnote_cell_height": 79
   },
   "source": "np_array = # Your code here\nprint(np_array)",
   "execution_count": null,
   "outputs": []
  },
  {
   "cell_type": "markdown",
   "source": "### 11-13. Create an equally spaced Numpy Array with a specific step",
   "metadata": {
    "is_collapsed": false,
    "cell_id": "549a3cc4-01eb-4948-a9b8-0eaf8672a4ac",
    "tags": [],
    "formattedRanges": [],
    "deepnote_cell_type": "text-cell-h3"
   }
  },
  {
   "cell_type": "markdown",
   "source": "### Generate values from start=0 to stop=10 with step=1:",
   "metadata": {
    "formattedRanges": [],
    "is_collapsed": false,
    "cell_id": "a126da0d-e024-4639-b7ee-949f9817b870",
    "tags": [],
    "deepnote_cell_type": "text-cell-h3"
   }
  },
  {
   "cell_type": "code",
   "metadata": {
    "cell_id": "22f17ccb-3934-4a7d-a91e-6574cd33e65f",
    "tags": [],
    "deepnote_cell_type": "code",
    "deepnote_cell_height": 79
   },
   "source": "np_array = # Your code here\nprint(np_array)",
   "execution_count": null,
   "outputs": []
  },
  {
   "cell_type": "markdown",
   "source": "### Generate values from start=5to stop=11 with step=1:",
   "metadata": {
    "formattedRanges": [],
    "is_collapsed": false,
    "cell_id": "50de6237-3640-4eba-81e4-93bdd54d6fcc",
    "tags": [],
    "deepnote_cell_type": "text-cell-h3"
   }
  },
  {
   "cell_type": "code",
   "metadata": {
    "cell_id": "100cd2b2-dfa1-408c-9099-e98d8328051b",
    "tags": [],
    "deepnote_cell_type": "code",
    "deepnote_cell_height": 79
   },
   "source": "np_array = # Your code here\nprint(np_array)",
   "execution_count": null,
   "outputs": []
  },
  {
   "cell_type": "markdown",
   "source": "### Generate values start=5 to step=11 with step=2.",
   "metadata": {
    "formattedRanges": [],
    "is_collapsed": false,
    "cell_id": "aa0231f8-49d9-49c2-9d8e-6eccd0f533d5",
    "tags": [],
    "deepnote_cell_type": "text-cell-h3"
   }
  },
  {
   "cell_type": "code",
   "metadata": {
    "cell_id": "96236ef3-c89d-42ef-ac65-68b565e43f69",
    "tags": [],
    "deepnote_cell_type": "code",
    "deepnote_cell_height": 79
   },
   "source": "np_array = # Your code here\nprint(np_array)",
   "execution_count": null,
   "outputs": []
  },
  {
   "cell_type": "markdown",
   "source": "### 14-15. Create an equally spaced Numpy Array with a specific array size",
   "metadata": {
    "is_collapsed": false,
    "cell_id": "9a8a0446-9fff-4ec4-b375-2086676c2761",
    "tags": [],
    "formattedRanges": [],
    "deepnote_cell_type": "text-cell-h3"
   }
  },
  {
   "cell_type": "markdown",
   "source": "Generate a numpy array of size 5 with start=0 to stop=10",
   "metadata": {
    "formattedRanges": [],
    "is_collapsed": false,
    "cell_id": "f144017a-c202-4ad8-a33e-00c7363f9872",
    "tags": [],
    "deepnote_cell_type": "text-cell-p"
   }
  },
  {
   "cell_type": "code",
   "metadata": {
    "cell_id": "c1172e14-a350-4f1f-ba94-106fa29d2887",
    "tags": [],
    "deepnote_cell_type": "code",
    "deepnote_cell_height": 79
   },
   "source": "np_array = # Your code here\nprint(np_array)",
   "execution_count": null,
   "outputs": []
  },
  {
   "cell_type": "markdown",
   "source": "Generate a numpy array of size 5 with start=5 to stop=7",
   "metadata": {
    "formattedRanges": [],
    "is_collapsed": false,
    "cell_id": "4e178c07-30a6-4e3d-9511-ea11253ce3a8",
    "tags": [],
    "deepnote_cell_type": "text-cell-p"
   }
  },
  {
   "cell_type": "code",
   "metadata": {
    "cell_id": "b789e5cb-4001-444a-8b6d-9548b5bea835",
    "tags": [],
    "deepnote_cell_type": "code",
    "deepnote_cell_height": 79
   },
   "source": "np_array = # Your code here\nprint(np_array)",
   "execution_count": null,
   "outputs": []
  },
  {
   "cell_type": "markdown",
   "source": "### 16-17. Generate a random numpy array ",
   "metadata": {
    "is_collapsed": false,
    "cell_id": "c87efbee-6cde-4b2d-bf31-3a2a50a6b954",
    "tags": [],
    "formattedRanges": [],
    "deepnote_cell_type": "text-cell-h3"
   }
  },
  {
   "cell_type": "markdown",
   "source": "Generate a random integer array of size 5 with start=0 to stop=10",
   "metadata": {
    "formattedRanges": [],
    "is_collapsed": false,
    "cell_id": "134f72ec-8686-42a1-8730-8611826a0542",
    "tags": [],
    "deepnote_cell_type": "text-cell-p"
   }
  },
  {
   "cell_type": "code",
   "metadata": {
    "cell_id": "808b4c0c-b4c9-4b1a-9963-ce5fc7194636",
    "tags": [],
    "deepnote_cell_type": "code",
    "deepnote_cell_height": 79
   },
   "source": "np_array = # Your code here\nprint(np_array)",
   "execution_count": null,
   "outputs": []
  },
  {
   "cell_type": "markdown",
   "source": "Generate a random float array of size 10",
   "metadata": {
    "formattedRanges": [],
    "is_collapsed": false,
    "cell_id": "549ef874-895c-42ad-b3c7-03d0bdb187b1",
    "tags": [],
    "deepnote_cell_type": "text-cell-p"
   }
  },
  {
   "cell_type": "code",
   "metadata": {
    "cell_id": "398ee9cb-8eb3-442d-8074-bbbcb3d65ef7",
    "tags": [],
    "deepnote_cell_type": "code",
    "deepnote_cell_height": 79
   },
   "source": "np_array = # Your code here\nprint(np_array)",
   "execution_count": null,
   "outputs": []
  },
  {
   "cell_type": "markdown",
   "source": "### 18-19. Generate NumPy Array from a Pandas Series using two methods",
   "metadata": {
    "is_collapsed": false,
    "cell_id": "313a5389-24eb-4561-83a2-145f12f68dc6",
    "tags": [],
    "formattedRanges": [],
    "deepnote_cell_type": "text-cell-h3"
   }
  },
  {
   "cell_type": "markdown",
   "source": "### Method 1:",
   "metadata": {
    "formattedRanges": [],
    "is_collapsed": false,
    "cell_id": "f320dbbf-9d2c-406c-a469-96d99e2d42f9",
    "tags": [],
    "deepnote_cell_type": "text-cell-h3"
   }
  },
  {
   "cell_type": "code",
   "metadata": {
    "cell_id": "ea104bad-758f-4988-a409-e66dad3c821a",
    "tags": [],
    "deepnote_cell_type": "code",
    "deepnote_cell_height": 115
   },
   "source": "s = pd.Series([1,2,3,4], name = \"col\")\n\nnp_array = # Your code here\nprint(np_array)",
   "execution_count": null,
   "outputs": []
  },
  {
   "cell_type": "markdown",
   "source": "### Method 2:",
   "metadata": {
    "formattedRanges": [],
    "is_collapsed": false,
    "cell_id": "e8597297-44ac-4e26-b8e3-38ad083b6fdc",
    "tags": [],
    "deepnote_cell_type": "text-cell-h3"
   }
  },
  {
   "cell_type": "code",
   "metadata": {
    "cell_id": "b934ee10-c9e6-48fd-a50f-87f11baf5451",
    "tags": [],
    "deepnote_cell_type": "code",
    "deepnote_cell_height": 115
   },
   "source": "s = pd.Series([1,2,3,4], name = \"col\")\n\nnp_array = # Your code here\nprint(np_array)",
   "execution_count": null,
   "outputs": []
  },
  {
   "cell_type": "markdown",
   "source": "## NumPy Array Manipulation Methods",
   "metadata": {
    "formattedRanges": [],
    "is_collapsed": false,
    "cell_id": "9179eb93c0d342829ad53b1d6a2e81f7",
    "tags": [],
    "deepnote_cell_type": "text-cell-h2"
   }
  },
  {
   "cell_type": "markdown",
   "source": "### 20-21. Shape of the NumPy Array in two ways",
   "metadata": {
    "is_collapsed": false,
    "cell_id": "78e40078-8a86-4150-847c-a30c1c286458",
    "tags": [],
    "formattedRanges": [],
    "deepnote_cell_type": "text-cell-h3"
   }
  },
  {
   "cell_type": "markdown",
   "source": "### Method 1:",
   "metadata": {
    "formattedRanges": [],
    "is_collapsed": false,
    "cell_id": "74aaaf82-ee1c-418d-ba1f-9711a04404e7",
    "tags": [],
    "deepnote_cell_type": "text-cell-h3"
   }
  },
  {
   "cell_type": "code",
   "metadata": {
    "cell_id": "60250bed-106d-4106-9b10-530093ef5f7b",
    "tags": [],
    "deepnote_cell_type": "code",
    "deepnote_cell_height": 115
   },
   "source": "a = np.ones((2, 3))\n\nshape_of_a = ## your code here\nprint(shape_of_a)",
   "execution_count": null,
   "outputs": []
  },
  {
   "cell_type": "markdown",
   "source": "Method 2:",
   "metadata": {
    "formattedRanges": [],
    "is_collapsed": false,
    "cell_id": "5c491341-2a17-4f9d-b42c-a931091d1e4a",
    "tags": [],
    "deepnote_cell_type": "text-cell-p"
   }
  },
  {
   "cell_type": "code",
   "metadata": {
    "cell_id": "f69825d1-08af-44dd-b792-8e66af6643f8",
    "tags": [],
    "deepnote_cell_type": "code",
    "deepnote_cell_height": 115
   },
   "source": "a = np.ones((2, 3))\n\nshape_of_a = ## your code here\nprint(shape_of_a)",
   "execution_count": null,
   "outputs": []
  },
  {
   "cell_type": "markdown",
   "source": "### 22. Reshape the NumPy Array to 2*5",
   "metadata": {
    "is_collapsed": false,
    "cell_id": "aac3616ba6474d8a85e2cefcb532b96e",
    "tags": [],
    "formattedRanges": [],
    "deepnote_cell_type": "text-cell-h3"
   }
  },
  {
   "cell_type": "code",
   "metadata": {
    "cell_id": "a26e2ab9c0fd4afaa8f4d5d4a8fd57c0",
    "tags": [],
    "deepnote_cell_type": "code",
    "deepnote_cell_height": 115
   },
   "source": "a = np.arange(10)\n\nnp_array = # Your code here\nprint(np_array)",
   "execution_count": null,
   "outputs": []
  },
  {
   "cell_type": "markdown",
   "source": "### 23-24. Transpose the NumPy Array in two ways",
   "metadata": {
    "is_collapsed": false,
    "cell_id": "35f82c2ade6041f1b3cea93bb235ed76",
    "tags": [],
    "formattedRanges": [],
    "deepnote_cell_type": "text-cell-h3"
   }
  },
  {
   "cell_type": "markdown",
   "source": "Method 1:",
   "metadata": {
    "formattedRanges": [],
    "is_collapsed": false,
    "cell_id": "f1ab2bb5-226a-48f4-bb6d-8c9cae846177",
    "tags": [],
    "deepnote_cell_type": "text-cell-p"
   }
  },
  {
   "cell_type": "code",
   "metadata": {
    "cell_id": "66c0d2f0d7c745c8962e6c2335c8c05c",
    "tags": [],
    "deepnote_cell_type": "code",
    "deepnote_cell_height": 115
   },
   "source": "a = np.array([[1,2,3], [4,5,6]])\n\nnp_array = # Your code here\nprint(np_array)",
   "execution_count": null,
   "outputs": []
  },
  {
   "cell_type": "markdown",
   "source": "### Method 2:",
   "metadata": {
    "formattedRanges": [],
    "is_collapsed": false,
    "cell_id": "93101de9-9317-4b01-922a-a72ec6cf985c",
    "tags": [],
    "deepnote_cell_type": "text-cell-h3"
   }
  },
  {
   "cell_type": "code",
   "metadata": {
    "cell_id": "f8668ece-2f14-4aa0-b9b8-a542724ae497",
    "tags": [],
    "deepnote_cell_type": "code",
    "deepnote_cell_height": 115
   },
   "source": "a = np.array([[1,2,3], [4,5,6]])\n\nnp_array = # Your code here\nprint(np_array)",
   "execution_count": null,
   "outputs": []
  },
  {
   "cell_type": "markdown",
   "source": "### 25-27. Concatenate multiple NumPy arrays to form one NumPy Array",
   "metadata": {
    "is_collapsed": false,
    "cell_id": "d2a97da9-2d66-4af9-afc9-87cc7dc3bb33",
    "tags": [],
    "formattedRanges": [],
    "deepnote_cell_type": "text-cell-h3"
   }
  },
  {
   "cell_type": "markdown",
   "source": "### Concatenate row-wise",
   "metadata": {
    "formattedRanges": [],
    "is_collapsed": false,
    "cell_id": "e07a60aa-95f9-47d2-943c-7bedccff48f7",
    "tags": [],
    "deepnote_cell_type": "text-cell-h3"
   }
  },
  {
   "cell_type": "code",
   "metadata": {
    "cell_id": "88de7ba1-90c7-441f-9558-46adf06b2609",
    "tags": [],
    "deepnote_cell_type": "code",
    "deepnote_cell_height": 133
   },
   "source": "a = np.array([[1, 2], [3, 4]])\nb = np.array([[5, 6]])\n\nnp_array = # Your code here\nprint(np_array)",
   "execution_count": null,
   "outputs": []
  },
  {
   "cell_type": "markdown",
   "source": "Concatenate column-wise",
   "metadata": {
    "formattedRanges": [],
    "is_collapsed": false,
    "cell_id": "e107e91d-4cbe-4f42-b7b4-22efb6c165a7",
    "tags": [],
    "deepnote_cell_type": "text-cell-p"
   }
  },
  {
   "cell_type": "code",
   "metadata": {
    "cell_id": "c3592c79-c0b1-4c12-a581-0156de00f859",
    "tags": [],
    "deepnote_cell_type": "code",
    "deepnote_cell_height": 133
   },
   "source": "a = np.array([[1, 2], [3, 4]])\nb = np.array([[5, 6]])\n\nnp_array = # Your code here\nprint(np_array)",
   "execution_count": null,
   "outputs": []
  },
  {
   "cell_type": "markdown",
   "source": "### Concatenate to generate a flat NumPy Array",
   "metadata": {
    "formattedRanges": [],
    "is_collapsed": false,
    "cell_id": "b53793ef-3647-4904-8748-6386394574e0",
    "tags": [],
    "deepnote_cell_type": "text-cell-h3"
   }
  },
  {
   "cell_type": "code",
   "metadata": {
    "cell_id": "16ac9add-2296-4f83-bd4d-6d4a6e492524",
    "tags": [],
    "deepnote_cell_type": "code",
    "deepnote_cell_height": 133
   },
   "source": "a = np.array([[1, 2], [3, 4]])\nb = np.array([[5, 6]])\n\nnp_array = # Your code here\nprint(np_array)",
   "execution_count": null,
   "outputs": []
  },
  {
   "cell_type": "markdown",
   "source": "### 28-29. Concatenate using vstack() and hstack()",
   "metadata": {
    "is_collapsed": false,
    "cell_id": "f0b44f07-336d-4e19-95c7-3fea221a718a",
    "tags": [],
    "formattedRanges": [],
    "deepnote_cell_type": "text-cell-h3"
   }
  },
  {
   "cell_type": "markdown",
   "source": "### vstack()",
   "metadata": {
    "formattedRanges": [],
    "is_collapsed": false,
    "cell_id": "a955dead-dd9c-43b0-94a2-57d65dcb353e",
    "tags": [],
    "deepnote_cell_type": "text-cell-h3"
   }
  },
  {
   "cell_type": "code",
   "metadata": {
    "cell_id": "96ba5126-5f0d-430c-90ef-38b93c9b8907",
    "tags": [],
    "deepnote_cell_type": "code",
    "deepnote_cell_height": 133
   },
   "source": "a = np.array([[1, 2], [3, 4]])\nb = np.array([[5, 6]])\n\nnp_array = # Your code here\nprint(np_array)",
   "execution_count": null,
   "outputs": []
  },
  {
   "cell_type": "markdown",
   "source": "hstack()",
   "metadata": {
    "formattedRanges": [],
    "is_collapsed": false,
    "cell_id": "38d187ee-54f9-4942-aa6a-467482b346f9",
    "tags": [],
    "deepnote_cell_type": "text-cell-p"
   }
  },
  {
   "cell_type": "code",
   "metadata": {
    "cell_id": "40dbf62d-1d21-4f02-8039-d28678e54bef",
    "tags": [],
    "deepnote_cell_type": "code",
    "deepnote_cell_height": 133
   },
   "source": "a = np.array([[1, 2], [3, 4]])\nb = np.array([[5, 6]])\n\nnp_array = # Your code here\nprint(np_array)",
   "execution_count": null,
   "outputs": []
  },
  {
   "cell_type": "markdown",
   "source": "### 30. Flatten NumPy Array",
   "metadata": {
    "is_collapsed": false,
    "cell_id": "b402f66c-f5fb-431e-ade5-22ef0808c1a2",
    "tags": [],
    "formattedRanges": [],
    "deepnote_cell_type": "text-cell-h3"
   }
  },
  {
   "cell_type": "code",
   "metadata": {
    "cell_id": "e12b6037-3b30-4735-9ae6-1cc28a6b6485",
    "tags": [],
    "deepnote_cell_type": "code",
    "deepnote_cell_height": 115
   },
   "source": "a = np.array([[1,2], [3,4]])\n\nnp_array = # Your code here\nprint(np_array)",
   "execution_count": null,
   "outputs": []
  },
  {
   "cell_type": "markdown",
   "source": "### 31-33. Print Unique Elements of a NumPy Array",
   "metadata": {
    "is_collapsed": false,
    "cell_id": "0bf50aca-4bb5-4b0e-b695-ce884a8c6ab8",
    "tags": [],
    "formattedRanges": [],
    "deepnote_cell_type": "text-cell-h3"
   }
  },
  {
   "cell_type": "code",
   "metadata": {
    "cell_id": "084f78c2-df48-45e0-af32-11c9827f1b91",
    "tags": [],
    "deepnote_cell_type": "code",
    "deepnote_cell_height": 115
   },
   "source": "a = np.array([[1,2], [3,2]])\n\nnp_array = # Your code here\nprint(np_array)",
   "execution_count": null,
   "outputs": []
  },
  {
   "cell_type": "markdown",
   "source": "return unique rows",
   "metadata": {
    "formattedRanges": [],
    "is_collapsed": false,
    "cell_id": "e5bc25df-1a52-4967-8655-d71398296ec7",
    "tags": [],
    "deepnote_cell_type": "text-cell-p"
   }
  },
  {
   "cell_type": "code",
   "metadata": {
    "cell_id": "b83884d0-bf9f-4b34-bc8a-6e3e39e3544d",
    "tags": [],
    "deepnote_cell_type": "code",
    "deepnote_cell_height": 115
   },
   "source": "a = np.array([[1, 2, 3], [1, 2, 3], [2, 3, 4]])\n\nnp_array = # Your code here\nprint(np_array)",
   "execution_count": null,
   "outputs": []
  },
  {
   "cell_type": "markdown",
   "source": "return unique columns",
   "metadata": {
    "formattedRanges": [],
    "is_collapsed": false,
    "cell_id": "1ff71cad-7a5f-4c5c-b8e0-b96ef970a087",
    "tags": [],
    "deepnote_cell_type": "text-cell-p"
   }
  },
  {
   "cell_type": "code",
   "metadata": {
    "cell_id": "81bde540-16ee-4154-a555-23242d66d499",
    "tags": [],
    "deepnote_cell_type": "code",
    "deepnote_cell_height": 115
   },
   "source": "a = np.array([[1, 1, 3], [1, 1, 3], [1, 1, 4]])\n\nnp_array = # Your code here\nprint(np_array)",
   "execution_count": null,
   "outputs": []
  },
  {
   "cell_type": "markdown",
   "source": "### 34. Squeeze the NumPy Array",
   "metadata": {
    "is_collapsed": false,
    "cell_id": "934997cc-6b25-476f-95c4-c9e9ea2f6857",
    "tags": [],
    "formattedRanges": [],
    "deepnote_cell_type": "text-cell-h3"
   }
  },
  {
   "cell_type": "code",
   "metadata": {
    "cell_id": "0f4dbffa-b6ed-498a-a7c9-59bba1c671e0",
    "tags": [],
    "deepnote_cell_type": "code",
    "deepnote_cell_height": 115
   },
   "source": "a = np.array([[[0], [1], [2]]])\n\nnp_array = # Your code here\nprint(np_array)",
   "execution_count": null,
   "outputs": []
  },
  {
   "cell_type": "markdown",
   "source": "### 35. Get Python list from NumPy array",
   "metadata": {
    "is_collapsed": false,
    "cell_id": "7b7b28de-ef32-4441-8a62-c4667452035c",
    "tags": [],
    "formattedRanges": [],
    "deepnote_cell_type": "text-cell-h3"
   }
  },
  {
   "cell_type": "code",
   "metadata": {
    "cell_id": "8db38877-8065-4524-b869-c2df8a826c63",
    "tags": [],
    "deepnote_cell_type": "code",
    "deepnote_cell_height": 115
   },
   "source": "a = np.array([[1, 1, 3], [1, 1, 3], [1, 1, 4]])\n\npy_list = # Your code here\nprint(py_list)",
   "execution_count": null,
   "outputs": []
  },
  {
   "cell_type": "markdown",
   "source": "Great Job solving this notebook. Go to NumPy Notebook 2: [Link](https://deepnote.com/workspace/avi-chawla-695b-aee6f4ef-2d50-4fb6-9ef2-20ee1022995a/project/NumPy-Notebook-2-4456411e-2ddd-426d-8027-4881080027db/%2Fnotebook.ipynb)\n",
   "metadata": {
    "cell_id": "3337071b44f24d77a2af5b6cb485205c",
    "tags": [],
    "deepnote_cell_type": "markdown",
    "deepnote_cell_height": 52.390625
   }
  },
  {
   "cell_type": "markdown",
   "source": "<a style='text-decoration:none;line-height:16px;display:flex;color:#5B5B62;padding:10px;justify-content:end;' href='https://deepnote.com?utm_source=created-in-deepnote-cell&projectId=9b9979f2-b708-4292-b466-3d0157564c91' target=\"_blank\">\n<img alt='Created in deepnote.com' style='display:inline;max-height:16px;margin:0px;margin-right:7.5px;' src='data:image/svg+xml;base64,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' > </img>\nCreated in <span style='font-weight:600;margin-left:4px;'>Deepnote</span></a>",
   "metadata": {
    "tags": [],
    "created_in_deepnote_cell": true,
    "deepnote_cell_type": "markdown"
   }
  }
 ],
 "nbformat": 4,
 "nbformat_minor": 2,
 "metadata": {
  "orig_nbformat": 2,
  "deepnote": {},
  "deepnote_notebook_id": "f29fb70b-8cf2-4c87-a5e1-b9ca46840c6e",
  "deepnote_execution_queue": []
 }
}