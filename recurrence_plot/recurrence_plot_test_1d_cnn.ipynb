{
 "cells": [
  {
   "cell_type": "markdown",
   "id": "7ee3e6ff-dd00-497f-af53-81526802ee03",
   "metadata": {},
   "source": [
    "# Imports"
   ]
  },
  {
   "cell_type": "code",
   "execution_count": 1,
   "id": "39839a8b-bec5-42ce-8f84-c84ae0e51eaf",
   "metadata": {},
   "outputs": [
    {
     "data": {
      "text/plain": [
       "<torch._C.Generator at 0x2e9ad26e8f0>"
      ]
     },
     "execution_count": 1,
     "metadata": {},
     "output_type": "execute_result"
    }
   ],
   "source": [
    "from pyts.datasets import load_gunpoint\n",
    "# from pyts.image import RecurrencePlot\n",
    "\n",
    "import pandas as pd\n",
    "import numpy as np\n",
    "\n",
    "import matplotlib.pyplot as plt\n",
    "\n",
    "import os\n",
    "import torch\n",
    "from torch import nn\n",
    "from torch.utils.data import TensorDataset, DataLoader\n",
    "from torchvision import datasets\n",
    "from torchvision import datasets, transforms\n",
    "from torchvision.transforms import ToTensor\n",
    "from torchsummary import summary\n",
    "\n",
    "torch.manual_seed(41)"
   ]
  },
  {
   "cell_type": "code",
   "execution_count": 2,
   "id": "b27d68b5-fb21-4e42-927e-d9164b560815",
   "metadata": {},
   "outputs": [],
   "source": [
    "# def weights_init(m):\n",
    "#     if isinstance(m, nn.Conv1d):\n",
    "#         torch.nn.init.xavier_uniform(m.weight.data)"
   ]
  },
  {
   "cell_type": "markdown",
   "id": "6842c0d1-2bb8-46d5-9659-5a6f442383d9",
   "metadata": {},
   "source": [
    "# Preparation of Dataset"
   ]
  },
  {
   "cell_type": "code",
   "execution_count": 3,
   "id": "277f5afd-d06f-46f5-8778-6965672e7a72",
   "metadata": {},
   "outputs": [],
   "source": [
    "X_test, X_train, y_test, y_train = load_gunpoint(return_X_y=True)"
   ]
  },
  {
   "cell_type": "code",
   "execution_count": 4,
   "id": "7fd5443d-9851-4107-8f80-2225748e6e65",
   "metadata": {},
   "outputs": [
    {
     "data": {
      "text/plain": [
       "(150, 150)"
      ]
     },
     "execution_count": 4,
     "metadata": {},
     "output_type": "execute_result"
    }
   ],
   "source": [
    "X_train.shape"
   ]
  },
  {
   "cell_type": "code",
   "execution_count": 5,
   "id": "bafec8d2-b4c8-4dde-8b5a-e88e82ccac4f",
   "metadata": {},
   "outputs": [
    {
     "data": {
      "text/plain": [
       "(150,)"
      ]
     },
     "execution_count": 5,
     "metadata": {},
     "output_type": "execute_result"
    }
   ],
   "source": [
    "y_train.shape"
   ]
  },
  {
   "cell_type": "code",
   "execution_count": 6,
   "id": "894214d4-0b3f-4363-b8e3-1eef946439ff",
   "metadata": {},
   "outputs": [
    {
     "data": {
      "text/plain": [
       "(50, 150)"
      ]
     },
     "execution_count": 6,
     "metadata": {},
     "output_type": "execute_result"
    }
   ],
   "source": [
    "X_test.shape"
   ]
  },
  {
   "cell_type": "code",
   "execution_count": 7,
   "id": "78bd3f8e-6f24-4090-80ec-b598b9bea399",
   "metadata": {},
   "outputs": [
    {
     "data": {
      "text/plain": [
       "(50,)"
      ]
     },
     "execution_count": 7,
     "metadata": {},
     "output_type": "execute_result"
    }
   ],
   "source": [
    "y_test.shape"
   ]
  },
  {
   "cell_type": "code",
   "execution_count": 8,
   "id": "58a165fc-a7c7-4afe-9c0f-4f46dbc54bcc",
   "metadata": {},
   "outputs": [],
   "source": [
    "df = pd.DataFrame(X_train)"
   ]
  },
  {
   "cell_type": "code",
   "execution_count": 9,
   "id": "f3097ac0-f679-45a0-a9aa-f5b422f1d512",
   "metadata": {},
   "outputs": [
    {
     "data": {
      "image/png": "[encoded data removed]",
      "text/plain": [
       "<Figure size 432x288 with 1 Axes>"
      ]
     },
     "metadata": {
      "needs_background": "light"
     },
     "output_type": "display_data"
    }
   ],
   "source": [
    "df.iloc[0, :].plot.line();"
   ]
  },
  {
   "cell_type": "code",
   "execution_count": 10,
   "id": "142b80a7-4af6-4920-8eb4-70898d2e5773",
   "metadata": {},
   "outputs": [],
   "source": [
    "y_train = np.where(y_train == 2, 0, y_train)\n",
    "y_test = np.where(y_test == 2, 0, y_test)"
   ]
  },
  {
   "cell_type": "markdown",
   "id": "f0268598-3e59-42dc-86eb-167d38174873",
   "metadata": {},
   "source": [
    "# Preparation of 1D data"
   ]
  },
  {
   "cell_type": "code",
   "execution_count": 11,
   "id": "4b30bb9b-7cd8-4c60-b77c-65d675863ac1",
   "metadata": {},
   "outputs": [
    {
     "data": {
      "text/plain": [
       "array([1, 0, 0, 1, 1, 0, 1, 0, 0, 1, 1, 1, 0, 1, 1, 1, 1, 0, 0, 0, 1, 0,\n",
       "       1, 1, 1, 0, 1, 1, 0, 1, 1, 0, 0, 1, 1, 1, 1, 1, 1, 0, 1, 0, 1, 1,\n",
       "       0, 1, 0, 0, 1, 0, 0, 0, 1, 0, 1, 1, 0, 0, 1, 0, 1, 0, 1, 1, 0, 1,\n",
       "       1, 0, 0, 0, 0, 0, 0, 0, 0, 0, 0, 0, 0, 1, 1, 1, 0, 0, 0, 0, 1, 0,\n",
       "       1, 1, 1, 0, 1, 0, 1, 1, 0, 0, 1, 1, 0, 1, 1, 0, 0, 1, 1, 0, 1, 0,\n",
       "       0, 0, 1, 0, 1, 1, 0, 1, 1, 0, 1, 0, 0, 0, 1, 0, 1, 1, 0, 0, 0, 0,\n",
       "       1, 1, 1, 0, 1, 0, 1, 1, 0, 1, 1, 0, 1, 0, 1, 0, 0, 1], dtype=int64)"
      ]
     },
     "execution_count": 11,
     "metadata": {},
     "output_type": "execute_result"
    }
   ],
   "source": [
    "y_train"
   ]
  },
  {
   "cell_type": "code",
   "execution_count": 12,
   "id": "ffe74068-cc95-456c-ba05-6dff6765b194",
   "metadata": {},
   "outputs": [
    {
     "data": {
      "text/plain": [
       "array([  1,   2,   5,   7,   8,  12,  17,  18,  19,  21,  25,  28,  31,\n",
       "        32,  39,  41,  44,  46,  47,  49,  50,  51,  53,  56,  57,  59,\n",
       "        61,  64,  67,  68,  69,  70,  71,  72,  73,  74,  75,  76,  77,\n",
       "        78,  82,  83,  84,  85,  87,  91,  93,  96,  97, 100, 103, 104,\n",
       "       107, 109, 110, 111, 113, 116, 119, 121, 122, 123, 125, 128, 129,\n",
       "       130, 131, 135, 137, 140, 143, 145, 147, 148], dtype=int64)"
      ]
     },
     "execution_count": 12,
     "metadata": {},
     "output_type": "execute_result"
    }
   ],
   "source": [
    "y_train_0 = np.where(y_train == y_train.min())[0]\n",
    "y_train_0"
   ]
  },
  {
   "cell_type": "code",
   "execution_count": 13,
   "id": "6170d780-b464-46f4-a30e-e91a4adf45aa",
   "metadata": {},
   "outputs": [
    {
     "data": {
      "text/plain": [
       "array([  0,   3,   4,   6,   9,  10,  11,  13,  14,  15,  16,  20,  22,\n",
       "        23,  24,  26,  27,  29,  30,  33,  34,  35,  36,  37,  38,  40,\n",
       "        42,  43,  45,  48,  52,  54,  55,  58,  60,  62,  63,  65,  66,\n",
       "        79,  80,  81,  86,  88,  89,  90,  92,  94,  95,  98,  99, 101,\n",
       "       102, 105, 106, 108, 112, 114, 115, 117, 118, 120, 124, 126, 127,\n",
       "       132, 133, 134, 136, 138, 139, 141, 142, 144, 146, 149], dtype=int64)"
      ]
     },
     "execution_count": 13,
     "metadata": {},
     "output_type": "execute_result"
    }
   ],
   "source": [
    "y_train_1 = np.where(y_train == y_train.max())[0]\n",
    "y_train_1"
   ]
  },
  {
   "cell_type": "code",
   "execution_count": 14,
   "id": "c5859467-da43-4227-9a3f-7805f72bb758",
   "metadata": {},
   "outputs": [
    {
     "data": {
      "image/png": "[encoded data removed]",
      "text/plain": [
       "<Figure size 432x288 with 1 Axes>"
      ]
     },
     "metadata": {
      "needs_background": "light"
     },
     "output_type": "display_data"
    }
   ],
   "source": [
    "for idx_1 in y_train_1.tolist()[:5]:\n",
    "    df.iloc[idx_1, :].plot.line();"
   ]
  },
  {
   "cell_type": "code",
   "execution_count": 15,
   "id": "36698b9d-8f61-4c50-990e-81561ca88cad",
   "metadata": {},
   "outputs": [
    {
     "data": {
      "image/png": "[encoded data removed]",
      "text/plain": [
       "<Figure size 432x288 with 1 Axes>"
      ]
     },
     "metadata": {
      "needs_background": "light"
     },
     "output_type": "display_data"
    }
   ],
   "source": [
    "for idx_0 in y_train_0.tolist()[:5]:\n",
    "    df.iloc[idx_0, :].plot.line();"
   ]
  },
  {
   "cell_type": "markdown",
   "id": "e22ed290-7b73-4797-8fdf-8b8c8832342e",
   "metadata": {},
   "source": [
    "# Preparation of Dataloader"
   ]
  },
  {
   "cell_type": "code",
   "execution_count": 16,
   "id": "15f4b8e1-610a-49b0-9e4c-792bb8756683",
   "metadata": {},
   "outputs": [],
   "source": [
    "X_train_tensor = torch.Tensor(X_train)\n",
    "X_train_tensor = X_train_tensor.unsqueeze(1)\n",
    "y_train_tensor = torch.Tensor(y_train)\n",
    "\n",
    "X_test_tensor = torch.Tensor(X_test)\n",
    "X_test_tensor = X_test_tensor.unsqueeze(1)\n",
    "y_test_tensor = torch.Tensor(y_test)"
   ]
  },
  {
   "cell_type": "code",
   "execution_count": 17,
   "id": "44b1d498-3c7a-4bc1-9d2f-f80d096985c8",
   "metadata": {},
   "outputs": [],
   "source": [
    "train_dataset = TensorDataset(X_train_tensor, y_train_tensor)\n",
    "trainloader = DataLoader(train_dataset, batch_size=15, shuffle=True)\n",
    "\n",
    "test_dataset = TensorDataset(X_test_tensor, y_test_tensor)\n",
    "validloader = DataLoader(test_dataset, batch_size=5, shuffle=True)"
   ]
  },
  {
   "cell_type": "markdown",
   "id": "35910c70-d8d0-4ad4-9fb7-6a0a808672e3",
   "metadata": {},
   "source": [
    "# Preparation for CNN"
   ]
  },
  {
   "cell_type": "code",
   "execution_count": 18,
   "id": "05d47b22-c795-4eda-a8be-a334b547373d",
   "metadata": {},
   "outputs": [],
   "source": [
    "class ConvolutionalNeuralNetwork(nn.Module):\n",
    "    def __init__(self):\n",
    "        super(ConvolutionalNeuralNetwork, self).__init__()\n",
    "        self.main = nn.Sequential(\n",
    "            nn.Conv1d(1, 3, kernel_size=3, padding=1),         # 3, 150 \n",
    "            nn.ReLU(),\n",
    "            nn.MaxPool1d(10),                        # 3, 15 \n",
    "            #nn.Dropout(0.2),\n",
    "            nn.Conv1d(3, 1, kernel_size=3, padding=1),         #  1, 15 \n",
    "            nn.ReLU(),\n",
    "            nn.MaxPool1d(5),                        #  1,  3 \n",
    "            #nn.Dropout(0.2),\n",
    "            nn.Flatten(),                                #  3\n",
    "            nn.Linear(3, 1)\n",
    "        )\n",
    "\n",
    "    def forward(self, x):\n",
    "        logits = self.main(x)\n",
    "        return logits"
   ]
  },
  {
   "cell_type": "code",
   "execution_count": 19,
   "id": "ff9800cb-5e97-45f5-998d-5dd3c6a1b5b9",
   "metadata": {},
   "outputs": [],
   "source": [
    "net = ConvolutionalNeuralNetwork()"
   ]
  },
  {
   "cell_type": "code",
   "execution_count": 20,
   "id": "415313d1-7c07-4b0d-946c-b65ac47f5647",
   "metadata": {},
   "outputs": [
    {
     "name": "stdout",
     "output_type": "stream",
     "text": [
      "==========================================================================================\n",
      "Layer (type:depth-idx)                   Output Shape              Param #\n",
      "==========================================================================================\n",
      "├─Sequential: 1-1                        [-1, 1]                   --\n",
      "|    └─Conv1d: 2-1                       [-1, 3, 150]              12\n",
      "|    └─ReLU: 2-2                         [-1, 3, 150]              --\n",
      "|    └─MaxPool1d: 2-3                    [-1, 3, 15]               --\n",
      "|    └─Conv1d: 2-4                       [-1, 1, 15]               10\n",
      "|    └─ReLU: 2-5                         [-1, 1, 15]               --\n",
      "|    └─MaxPool1d: 2-6                    [-1, 1, 3]                --\n",
      "|    └─Flatten: 2-7                      [-1, 3]                   --\n",
      "|    └─Linear: 2-8                       [-1, 1]                   4\n",
      "==========================================================================================\n",
      "Total params: 26\n",
      "Trainable params: 26\n",
      "Non-trainable params: 0\n",
      "Total mult-adds (M): 0.00\n",
      "==========================================================================================\n",
      "Input size (MB): 0.00\n",
      "Forward/backward pass size (MB): 0.00\n",
      "Params size (MB): 0.00\n",
      "Estimated Total Size (MB): 0.00\n",
      "==========================================================================================\n"
     ]
    }
   ],
   "source": [
    "summary(net, (1, 150));"
   ]
  },
  {
   "cell_type": "markdown",
   "id": "a5b407cc-dfa9-4fd6-b3f2-a181a5cee705",
   "metadata": {},
   "source": [
    "# Sample Check"
   ]
  },
  {
   "cell_type": "code",
   "execution_count": 21,
   "id": "6044dedf-458a-4095-834d-42bc25242bf4",
   "metadata": {},
   "outputs": [
    {
     "data": {
      "image/png": "[encoded data removed]",
      "text/plain": [
       "<Figure size 432x288 with 1 Axes>"
      ]
     },
     "metadata": {
      "needs_background": "light"
     },
     "output_type": "display_data"
    }
   ],
   "source": [
    "image, label = next(iter(trainloader))  # Get a random batch of 64 images\n",
    "i = np.random.randint(0, 15)            # Choose one image at random\n",
    "pd.DataFrame(image[i].numpy()).T.plot.line();    # Plot\n",
    "plt.title(f\"{i}th graph: label = {int(label[i])}\");"
   ]
  },
  {
   "cell_type": "markdown",
   "id": "967894e4-9887-4299-b8ba-323f08bbbbc0",
   "metadata": {},
   "source": [
    "# Model Training"
   ]
  },
  {
   "cell_type": "code",
   "execution_count": 22,
   "id": "541d6488-e774-47ce-9912-474b65deca69",
   "metadata": {},
   "outputs": [],
   "source": [
    "def trainer(model, criterion, optimizer, trainloader, validloader, epochs=5, verbose=True):\n",
    "    \"\"\"Simple training wrapper for PyTorch network.\"\"\"\n",
    "    \n",
    "    train_loss, valid_loss, train_accuracy, valid_accuracy = [], [], [], []\n",
    "    for epoch in range(epochs):  # for each epoch\n",
    "        train_batch_loss = 0\n",
    "        valid_batch_loss = 0\n",
    "        train_batch_acc = 0\n",
    "        valid_batch_acc = 0\n",
    "        \n",
    "        # Training\n",
    "        for X, y in trainloader:\n",
    "            optimizer.zero_grad()       # Zero all the gradients w.r.t. parameters\n",
    "            # X = X.to(device)\n",
    "            # y = y.to(device)\n",
    "            y_hat = model(X)  # forward pass to get output\n",
    "            y_hat_labels = torch.sigmoid(y_hat) > 0.5\n",
    "            loss = criterion(y_hat, y.unsqueeze(1))  # Calculate loss based on output\n",
    "            loss.backward()             # Calculate gradients w.r.t. parameters\n",
    "            optimizer.step()            # Update parameters\n",
    "            train_batch_loss += loss.item()  # Add loss for this batch to running total\n",
    "            train_batch_acc += (y_hat_labels.squeeze() == y).type(torch.float32).mean().item()\n",
    "        train_loss.append(train_batch_loss / len(trainloader))\n",
    "        train_accuracy.append(train_batch_acc / len(trainloader))  # accuracy\n",
    "        \n",
    "        # Validation\n",
    "        model.eval()\n",
    "        with torch.no_grad():  # this stops pytorch doing computational graph stuff under-the-hood and saves memory and time\n",
    "            for X, y in validloader:\n",
    "                # X = X.to(device)\n",
    "                # y = y.to(device)\n",
    "                y_hat = model(X)  # forward pass to get output\n",
    "                y_hat_labels = torch.sigmoid(y_hat) > 0.5\n",
    "                loss = criterion(y_hat, y.unsqueeze(1))\n",
    "                valid_batch_loss += loss.item()\n",
    "                valid_batch_acc += (y_hat_labels.squeeze() == y).type(torch.float32).mean().item()\n",
    "        valid_loss.append(valid_batch_loss / len(validloader))\n",
    "        valid_accuracy.append(valid_batch_acc / len(validloader))  # accuracy\n",
    "        \n",
    "        model.train()\n",
    "        \n",
    "        # Print progress\n",
    "        if verbose:\n",
    "            if (epoch+1) % 100 == 0:\n",
    "                print(f\"Epoch {epoch + 1}:\",\n",
    "                      f\"Train Loss: {train_loss[-1]:.3f}.\",\n",
    "                      f\"Valid Loss: {valid_loss[-1]:.3f}.\",\n",
    "                      f\"Train Accuracy: {train_accuracy[-1]:.2f}.\"\n",
    "                      f\"Valid Accuracy: {valid_accuracy[-1]:.2f}.\")\n",
    "            \n",
    "    print(\"\\nTraining ended.\")"
   ]
  },
  {
   "cell_type": "code",
   "execution_count": 23,
   "id": "75aa69b1-697b-4ea4-92ca-7a781b249cc6",
   "metadata": {},
   "outputs": [
    {
     "data": {
      "text/plain": [
       "<All keys matched successfully>"
      ]
     },
     "execution_count": 23,
     "metadata": {},
     "output_type": "execute_result"
    }
   ],
   "source": [
    "# To move the weights which were saved in gpu to cpu (codes from pytorch tutorial)\n",
    "\n",
    "PATH = \"model.pt\"\n",
    "torch.save(net.state_dict(), PATH)\n",
    "\n",
    "device = torch.device('cpu')\n",
    "model = ConvolutionalNeuralNetwork()\n",
    "model.load_state_dict(torch.load(PATH, map_location=device))\n",
    "\n",
    "# model.apply(weights_init)"
   ]
  },
  {
   "cell_type": "code",
   "execution_count": 24,
   "id": "3e45bf9d-a2b1-4917-909d-09a03d5ae66d",
   "metadata": {},
   "outputs": [],
   "source": [
    "criterion = nn.BCEWithLogitsLoss()\n",
    "optimizer = torch.optim.Adam(model.parameters())"
   ]
  },
  {
   "cell_type": "code",
   "execution_count": 25,
   "id": "c2a067a6-dcf8-46a4-abb5-890d5afacaca",
   "metadata": {},
   "outputs": [
    {
     "name": "stdout",
     "output_type": "stream",
     "text": [
      "Epoch 100: Train Loss: 0.635. Valid Loss: 0.627. Train Accuracy: 0.59.Valid Accuracy: 0.60.\n",
      "Epoch 200: Train Loss: 0.617. Valid Loss: 0.600. Train Accuracy: 0.60.Valid Accuracy: 0.66.\n",
      "Epoch 300: Train Loss: 0.600. Valid Loss: 0.578. Train Accuracy: 0.63.Valid Accuracy: 0.72.\n",
      "Epoch 400: Train Loss: 0.585. Valid Loss: 0.560. Train Accuracy: 0.65.Valid Accuracy: 0.74.\n",
      "Epoch 500: Train Loss: 0.567. Valid Loss: 0.538. Train Accuracy: 0.71.Valid Accuracy: 0.76.\n",
      "Epoch 600: Train Loss: 0.537. Valid Loss: 0.493. Train Accuracy: 0.72.Valid Accuracy: 0.76.\n",
      "Epoch 700: Train Loss: 0.510. Valid Loss: 0.460. Train Accuracy: 0.75.Valid Accuracy: 0.82.\n",
      "Epoch 800: Train Loss: 0.462. Valid Loss: 0.439. Train Accuracy: 0.82.Valid Accuracy: 0.82.\n",
      "Epoch 900: Train Loss: 0.406. Valid Loss: 0.404. Train Accuracy: 0.83.Valid Accuracy: 0.84.\n",
      "Epoch 1000: Train Loss: 0.363. Valid Loss: 0.384. Train Accuracy: 0.84.Valid Accuracy: 0.82.\n",
      "Epoch 1100: Train Loss: 0.337. Valid Loss: 0.358. Train Accuracy: 0.85.Valid Accuracy: 0.84.\n",
      "Epoch 1200: Train Loss: 0.317. Valid Loss: 0.331. Train Accuracy: 0.88.Valid Accuracy: 0.88.\n",
      "Epoch 1300: Train Loss: 0.299. Valid Loss: 0.306. Train Accuracy: 0.89.Valid Accuracy: 0.90.\n",
      "Epoch 1400: Train Loss: 0.282. Valid Loss: 0.272. Train Accuracy: 0.89.Valid Accuracy: 0.90.\n",
      "Epoch 1500: Train Loss: 0.273. Valid Loss: 0.263. Train Accuracy: 0.89.Valid Accuracy: 0.90.\n",
      "Epoch 1600: Train Loss: 0.267. Valid Loss: 0.261. Train Accuracy: 0.89.Valid Accuracy: 0.90.\n",
      "Epoch 1700: Train Loss: 0.262. Valid Loss: 0.264. Train Accuracy: 0.89.Valid Accuracy: 0.90.\n",
      "Epoch 1800: Train Loss: 0.258. Valid Loss: 0.265. Train Accuracy: 0.89.Valid Accuracy: 0.90.\n",
      "Epoch 1900: Train Loss: 0.254. Valid Loss: 0.264. Train Accuracy: 0.89.Valid Accuracy: 0.90.\n",
      "Epoch 2000: Train Loss: 0.251. Valid Loss: 0.264. Train Accuracy: 0.90.Valid Accuracy: 0.88.\n",
      "\n",
      "Training ended.\n"
     ]
    }
   ],
   "source": [
    "trainer(model, criterion, optimizer, trainloader, validloader, epochs=2000, verbose=True)"
   ]
  },
  {
   "cell_type": "code",
   "execution_count": 29,
   "id": "5b7b73ea-67b4-4531-8592-b05b97df7337",
   "metadata": {},
   "outputs": [],
   "source": [
    "#torch.save(model.state_dict(), \"model_1d_trained.pt\")\n",
    "#model = ConvolutionalNeuralNetwork()\n",
    "#model.load_state_dict(torch.load(\"model_trained.pt\", map_location=device))"
   ]
  },
  {
   "cell_type": "markdown",
   "id": "8e29565c-29ae-4717-8dcb-05fce408e3d2",
   "metadata": {},
   "source": [
    "# Prediction"
   ]
  },
  {
   "cell_type": "code",
   "execution_count": 27,
   "id": "a49c3db9-5734-4fa5-8bb5-1687ff8df170",
   "metadata": {},
   "outputs": [
    {
     "name": "stdout",
     "output_type": "stream",
     "text": [
      "Prbability of being 1: 0.653\n"
     ]
    },
    {
     "data": {
      "image/png": "[encoded data removed]",
      "text/plain": [
       "<Figure size 432x288 with 1 Axes>"
      ]
     },
     "metadata": {
      "needs_background": "light"
     },
     "output_type": "display_data"
    }
   ],
   "source": [
    "model.eval()\n",
    "with torch.no_grad():\n",
    "    img, lab = next(iter(trainloader))\n",
    "    y_prob = torch.sigmoid(model(img)[0])\n",
    "    y_class = int(y_prob > 0.5)\n",
    "    print(f\"Prbability of being 1: {y_prob.item():.3g}\")\n",
    "    pd.DataFrame(img[0].squeeze(1).numpy()).T.plot.line(); \n",
    "    plt.title(f\"Prediction: {['0', '1'][y_class]}, Actual = {int(lab[0])}\", pad=10);"
   ]
  },
  {
   "cell_type": "code",
   "execution_count": 28,
   "id": "723efc69-7c9d-44a7-a869-b8ca8c80fcf9",
   "metadata": {},
   "outputs": [
    {
     "data": {
      "text/plain": [
       "tensor([0.6533])"
      ]
     },
     "execution_count": 28,
     "metadata": {},
     "output_type": "execute_result"
    }
   ],
   "source": [
    "y_prob"
   ]
  },
  {
   "cell_type": "code",
   "execution_count": null,
   "id": "d5ee18c0-a283-4f86-bf15-df666b63d877",
   "metadata": {},
   "outputs": [],
   "source": []
  }
 ],
 "metadata": {
  "kernelspec": {
   "display_name": "Python [conda env:mds574]",
   "language": "python",
   "name": "conda-env-mds574-py"
  },
  "language_info": {
   "codemirror_mode": {
    "name": "ipython",
    "version": 3
   },
   "file_extension": ".py",
   "mimetype": "text/x-python",
   "name": "python",
   "nbconvert_exporter": "python",
   "pygments_lexer": "ipython3",
   "version": "3.9.10"
  }
 },
 "nbformat": 4,
 "nbformat_minor": 5
}
