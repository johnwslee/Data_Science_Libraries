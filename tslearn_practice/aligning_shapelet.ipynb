{
 "cells": [
  {
   "cell_type": "code",
   "execution_count": 1,
   "id": "b8329260-df5c-4beb-8c9e-c5993d8085db",
   "metadata": {},
   "outputs": [],
   "source": [
    "import numpy as np\n",
    "import pandas as pd\n",
    "import matplotlib.pyplot as plt\n",
    "\n",
    "from tslearn.datasets import CachedDatasets\n",
    "from tslearn.preprocessing import TimeSeriesScalerMinMax\n",
    "from tslearn.shapelets import LearningShapelets, \\\n",
    "    grabocka_params_to_shapelet_size_dict\n",
    "from tensorflow.keras.optimizers import Adam"
   ]
  },
  {
   "cell_type": "code",
   "execution_count": 2,
   "id": "b1518750-fdff-430d-9957-08458e7d2dc6",
   "metadata": {},
   "outputs": [],
   "source": [
    "np.random.seed(42)"
   ]
  },
  {
   "cell_type": "code",
   "execution_count": 3,
   "id": "c2a52c50-bd90-4639-a571-018c7537882b",
   "metadata": {},
   "outputs": [],
   "source": [
    "# Load the Trace dataset\n",
    "X_train, y_train, _, _ = CachedDatasets().load_dataset(\"Trace\")"
   ]
  },
  {
   "cell_type": "code",
   "execution_count": 4,
   "id": "b86a56a7-1f4a-4ede-8cbf-484aabce3bc7",
   "metadata": {},
   "outputs": [
    {
     "data": {
      "text/plain": [
       "(100, 275, 1)"
      ]
     },
     "execution_count": 4,
     "metadata": {},
     "output_type": "execute_result"
    }
   ],
   "source": [
    "X_train.shape"
   ]
  },
  {
   "cell_type": "code",
   "execution_count": 5,
   "id": "2a843ad8-12b1-42e2-8796-07465490d531",
   "metadata": {},
   "outputs": [
    {
     "data": {
      "text/plain": [
       "array([1, 2, 4, 3, 1, 4, 4, 1, 1, 4, 4, 4, 4, 3, 4, 1, 3, 2, 4, 4, 4, 4,\n",
       "       3, 2, 1, 2, 4, 4, 2, 4, 1, 1, 4, 4, 2, 1, 1, 2, 1, 1, 3, 3, 3, 3,\n",
       "       3, 1, 4, 4, 4, 2, 4, 3, 2, 1, 4, 2, 2, 2, 2, 1, 3, 2, 4, 3, 3, 2,\n",
       "       2, 1, 4, 4, 2, 3, 2, 1, 3, 4, 1, 1, 3, 3, 1, 3, 1, 3, 3, 3, 4, 1,\n",
       "       2, 1, 4, 4, 4, 1, 3, 1, 2, 4, 1, 2], dtype=int64)"
      ]
     },
     "execution_count": 5,
     "metadata": {},
     "output_type": "execute_result"
    }
   ],
   "source": [
    "y_train"
   ]
  },
  {
   "cell_type": "code",
   "execution_count": 6,
   "id": "48479595-9480-4ee8-8704-131a09ca6e5c",
   "metadata": {},
   "outputs": [
    {
     "data": {
      "image/png": "[encoded data removed]",
      "text/plain": [
       "<Figure size 432x288 with 1 Axes>"
      ]
     },
     "metadata": {
      "needs_background": "light"
     },
     "output_type": "display_data"
    }
   ],
   "source": [
    "pd.DataFrame(X_train[0]).plot.line();"
   ]
  },
  {
   "cell_type": "code",
   "execution_count": 7,
   "id": "8db83d2c-66a8-42b4-ad65-fc5fd17608e5",
   "metadata": {},
   "outputs": [],
   "source": [
    "# Filter out classes 2 and 4\n",
    "mask = np.isin(y_train, [1, 3])\n",
    "X_train = X_train[mask]\n",
    "y_train = y_train[mask]"
   ]
  },
  {
   "cell_type": "code",
   "execution_count": 8,
   "id": "7a364b99-4569-4495-af61-c5994d3bebd3",
   "metadata": {},
   "outputs": [
    {
     "data": {
      "text/plain": [
       "array([1, 3, 1, 1, 1, 3, 1, 3, 3, 1, 1, 1, 1, 1, 1, 1, 3, 3, 3, 3, 3, 1,\n",
       "       3, 1, 1, 3, 3, 3, 1, 3, 1, 3, 1, 1, 3, 3, 1, 3, 1, 3, 3, 3, 1, 1,\n",
       "       1, 3, 1, 1], dtype=int64)"
      ]
     },
     "execution_count": 8,
     "metadata": {},
     "output_type": "execute_result"
    }
   ],
   "source": [
    "y_train"
   ]
  },
  {
   "cell_type": "code",
   "execution_count": 9,
   "id": "5238cad9-79b6-412d-9b6f-8180d2e37ca2",
   "metadata": {},
   "outputs": [],
   "source": [
    "# Normalize the time series\n",
    "X_train = TimeSeriesScalerMinMax().fit_transform(X_train)"
   ]
  },
  {
   "cell_type": "code",
   "execution_count": 10,
   "id": "4ec4c1c1-d398-424d-b34e-7f3b11eea295",
   "metadata": {},
   "outputs": [
    {
     "data": {
      "image/png": "[encoded data removed]",
      "text/plain": [
       "<Figure size 432x288 with 1 Axes>"
      ]
     },
     "metadata": {
      "needs_background": "light"
     },
     "output_type": "display_data"
    }
   ],
   "source": [
    "pd.DataFrame(X_train[0]).plot.line();"
   ]
  },
  {
   "cell_type": "code",
   "execution_count": 11,
   "id": "7e68e16b-cf7b-4bac-847c-ac1d3891fdeb",
   "metadata": {},
   "outputs": [],
   "source": [
    "# Get statistics of the dataset\n",
    "n_ts, ts_sz = X_train.shape[:2]\n",
    "n_classes = len(set(y_train))"
   ]
  },
  {
   "cell_type": "code",
   "execution_count": 12,
   "id": "c074d42f-039c-412f-b936-1b869e9a2b96",
   "metadata": {},
   "outputs": [
    {
     "data": {
      "text/plain": [
       "(48, 275)"
      ]
     },
     "execution_count": 12,
     "metadata": {},
     "output_type": "execute_result"
    }
   ],
   "source": [
    "X_train.shape[:2]"
   ]
  },
  {
   "cell_type": "code",
   "execution_count": 13,
   "id": "7380352c-6822-4dac-b131-d915fda44351",
   "metadata": {},
   "outputs": [
    {
     "data": {
      "text/plain": [
       "2"
      ]
     },
     "execution_count": 13,
     "metadata": {},
     "output_type": "execute_result"
    }
   ],
   "source": [
    "n_classes"
   ]
  },
  {
   "cell_type": "code",
   "execution_count": 14,
   "id": "a446be8c-4c26-42ff-9dcf-a053742bf66a",
   "metadata": {},
   "outputs": [],
   "source": [
    "# We will extract 1 shapelet and align it with a time series\n",
    "shapelet_sizes = {20: 1}\n",
    "\n",
    "# n_shapelets_per_size: dict (default: None)\n",
    "#    Dictionary giving, for each shapelet size (key), the number of such shapelets to be trained (value). \n",
    "#    If None, grabocka_params_to_shapelet_size_dict is used and the size used to compute is \n",
    "#    that of the shortest time series passed at fit time."
   ]
  },
  {
   "cell_type": "code",
   "execution_count": 15,
   "id": "529cbd72-7de7-422a-91d7-1cfd2af1f986",
   "metadata": {},
   "outputs": [
    {
     "name": "stderr",
     "output_type": "stream",
     "text": [
      "C:\\Users\\johnw\\miniconda3\\envs\\mds574\\lib\\site-packages\\keras\\optimizer_v2\\adam.py:105: UserWarning: The `lr` argument is deprecated, use `learning_rate` instead.\n",
      "  super(Adam, self).__init__(name, **kwargs)\n",
      "C:\\Users\\johnw\\miniconda3\\envs\\mds574\\lib\\site-packages\\tslearn\\shapelets\\shapelets.py:354: FutureWarning: The default value for 'scale' is set to False in version 0.4 to ensure backward compatibility, but is likely to change in a future version.\n",
      "  warnings.warn(\"The default value for 'scale' is set to False \"\n"
     ]
    },
    {
     "data": {
      "text/plain": [
       "LearningShapelets(max_iter=250, n_shapelets_per_size={20: 1},\n",
       "                  optimizer=<keras.optimizer_v2.adam.Adam object at 0x00000206A3ED5820>,\n",
       "                  random_state=42, weight_regularizer=0.001)"
      ]
     },
     "execution_count": 15,
     "metadata": {},
     "output_type": "execute_result"
    }
   ],
   "source": [
    "# Define the model and fit it using the training data\n",
    "shp_clf = LearningShapelets(n_shapelets_per_size=shapelet_sizes,\n",
    "                            weight_regularizer=0.001,\n",
    "                            optimizer=Adam(lr=0.01),\n",
    "                            max_iter=250,\n",
    "                            verbose=0,\n",
    "                            scale=False,\n",
    "                            random_state=42)\n",
    "shp_clf.fit(X_train, y_train)"
   ]
  },
  {
   "cell_type": "code",
   "execution_count": 16,
   "id": "64b2a65c-26d9-4c9a-89d1-b03dc12b1a2f",
   "metadata": {},
   "outputs": [],
   "source": [
    "# Get the number of extracted shapelets, the (minimal) distances from\n",
    "# each of the timeseries to each of the shapelets, and the corresponding\n",
    "# locations (index) where the minimal distance was found\n",
    "n_shapelets = sum(shapelet_sizes.values())\n",
    "distances = shp_clf.transform(X_train)\n",
    "predicted_locations = shp_clf.locate(X_train)"
   ]
  },
  {
   "cell_type": "code",
   "execution_count": 17,
   "id": "44ea5a4c-6e6a-42d6-a4bf-c96f10ae55f1",
   "metadata": {},
   "outputs": [
    {
     "data": {
      "text/plain": [
       "1"
      ]
     },
     "execution_count": 17,
     "metadata": {},
     "output_type": "execute_result"
    }
   ],
   "source": [
    "n_shapelets"
   ]
  },
  {
   "cell_type": "code",
   "execution_count": 18,
   "id": "5786919f-4e5c-4512-89f5-68250b0e7874",
   "metadata": {},
   "outputs": [
    {
     "data": {
      "text/plain": [
       "(48, 1)"
      ]
     },
     "execution_count": 18,
     "metadata": {},
     "output_type": "execute_result"
    }
   ],
   "source": [
    "distances.shape"
   ]
  },
  {
   "cell_type": "code",
   "execution_count": 19,
   "id": "ae126303-288b-41ab-b49e-76009c456923",
   "metadata": {},
   "outputs": [
    {
     "data": {
      "image/png": "[encoded data removed]",
      "text/plain": [
       "<Figure size 432x288 with 1 Axes>"
      ]
     },
     "metadata": {
      "needs_background": "light"
     },
     "output_type": "display_data"
    }
   ],
   "source": [
    "pd.DataFrame(distances).plot.line();"
   ]
  },
  {
   "cell_type": "code",
   "execution_count": 20,
   "id": "543828ff-3d77-480f-b929-a6b312146c4a",
   "metadata": {},
   "outputs": [
    {
     "data": {
      "text/plain": [
       "(48, 1)"
      ]
     },
     "execution_count": 20,
     "metadata": {},
     "output_type": "execute_result"
    }
   ],
   "source": [
    "predicted_locations.shape"
   ]
  },
  {
   "cell_type": "code",
   "execution_count": 21,
   "id": "f7be6ced-46d7-4588-9c8e-045726a32662",
   "metadata": {},
   "outputs": [
    {
     "data": {
      "text/plain": [
       "array([[ 48],\n",
       "       [  0],\n",
       "       [ 59],\n",
       "       [ 46],\n",
       "       [112],\n",
       "       [194],\n",
       "       [ 94],\n",
       "       [ 30],\n",
       "       [  2],\n",
       "       [ 86],\n",
       "       [ 90],\n",
       "       [ 47],\n",
       "       [104],\n",
       "       [ 56],\n",
       "       [ 45],\n",
       "       [ 46],\n",
       "       [ 14],\n",
       "       [ 34],\n",
       "       [ 15],\n",
       "       [168],\n",
       "       [180],\n",
       "       [ 81],\n",
       "       [ 46],\n",
       "       [ 57],\n",
       "       [ 78],\n",
       "       [ 40],\n",
       "       [ 12],\n",
       "       [  9],\n",
       "       [ 82],\n",
       "       [180],\n",
       "       [ 51],\n",
       "       [163],\n",
       "       [ 61],\n",
       "       [ 78],\n",
       "       [  3],\n",
       "       [199],\n",
       "       [ 43],\n",
       "       [ 33],\n",
       "       [ 91],\n",
       "       [ 42],\n",
       "       [192],\n",
       "       [ 57],\n",
       "       [ 85],\n",
       "       [ 69],\n",
       "       [103],\n",
       "       [157],\n",
       "       [ 89],\n",
       "       [ 90]])"
      ]
     },
     "execution_count": 21,
     "metadata": {},
     "output_type": "execute_result"
    }
   ],
   "source": [
    "predicted_locations"
   ]
  },
  {
   "cell_type": "code",
   "execution_count": 22,
   "id": "a7c8bc55-25af-4b8b-952b-7f6d705ece60",
   "metadata": {},
   "outputs": [
    {
     "data": {
      "image/png": "[encoded data removed]",
      "text/plain": [
       "<Figure size 432x288 with 1 Axes>"
      ]
     },
     "metadata": {
      "needs_background": "light"
     },
     "output_type": "display_data"
    }
   ],
   "source": [
    "pd.DataFrame(X_train[0]).plot.line();"
   ]
  },
  {
   "cell_type": "code",
   "execution_count": 23,
   "id": "19eda7d0-1c68-480d-8e5e-4b8dd738ed95",
   "metadata": {},
   "outputs": [
    {
     "data": {
      "image/png": "[encoded data removed]",
      "text/plain": [
       "<Figure size 432x288 with 2 Axes>"
      ]
     },
     "metadata": {
      "needs_background": "light"
     },
     "output_type": "display_data"
    }
   ],
   "source": [
    "f, ax = plt.subplots(2, 1, sharex=True)\n",
    "\n",
    "# Plot the shapelet and align it on the best matched time series. The optimizer\n",
    "# will often enlarge the shapelet to create a larger gap between the distances\n",
    "# of both classes. We therefore normalize the shapelet again before plotting.\n",
    "\n",
    "test_ts_id = np.argmin(np.sum(distances, axis=1))\n",
    "shap = shp_clf.shapelets_[0]\n",
    "shap = TimeSeriesScalerMinMax().fit_transform(shap.reshape(1, -1, 1)).flatten()\n",
    "pos = predicted_locations[test_ts_id, 0]\n",
    "ax[0].plot(X_train[test_ts_id].ravel())\n",
    "ax[0].plot(np.arange(pos, pos + len(shap)), shap, linewidth=2)\n",
    "ax[0].axvline(pos, color='k', linestyle='--', alpha=0.25)\n",
    "ax[0].set_title(\"The aligned extracted shapelet\")\n",
    "\n",
    "# We calculate the distances from the shapelet to the timeseries ourselves.\n",
    "distances = []\n",
    "time_series = X_train[test_ts_id].ravel()\n",
    "for i in range(len(time_series) - len(shap)):\n",
    "    distances.append(np.linalg.norm(time_series[i:i+len(shap)] - shap))\n",
    "ax[1].plot(distances)\n",
    "ax[1].axvline(np.argmin(distances), color='k', linestyle='--', alpha=0.25)\n",
    "ax[1].set_title('The distances between the time series and the shapelet')\n",
    "\n",
    "plt.tight_layout()\n",
    "plt.show()"
   ]
  },
  {
   "cell_type": "code",
   "execution_count": 24,
   "id": "28261152-005c-4f1f-be93-65c845d85a13",
   "metadata": {},
   "outputs": [
    {
     "data": {
      "text/plain": [
       "10"
      ]
     },
     "execution_count": 24,
     "metadata": {},
     "output_type": "execute_result"
    }
   ],
   "source": [
    "test_ts_id"
   ]
  },
  {
   "cell_type": "code",
   "execution_count": 25,
   "id": "3d93281c-6680-4189-ae1a-aa1cefe2551d",
   "metadata": {},
   "outputs": [
    {
     "data": {
      "text/plain": [
       "array([[ 0.64592773],\n",
       "       [ 0.69375932],\n",
       "       [ 0.82164747],\n",
       "       [ 1.3284868 ],\n",
       "       [ 1.96636689],\n",
       "       [ 2.19802642],\n",
       "       [ 2.19936848],\n",
       "       [ 1.9534533 ],\n",
       "       [ 0.75503051],\n",
       "       [-0.35565361],\n",
       "       [-0.63957649],\n",
       "       [-0.67440182],\n",
       "       [-0.65572757],\n",
       "       [-0.6256941 ],\n",
       "       [-0.57852656],\n",
       "       [-0.57295638],\n",
       "       [-0.58674657],\n",
       "       [-0.60689217],\n",
       "       [-0.63620782],\n",
       "       [-0.65891647]])"
      ]
     },
     "execution_count": 25,
     "metadata": {},
     "output_type": "execute_result"
    }
   ],
   "source": [
    "shp_clf.shapelets_[0]"
   ]
  },
  {
   "cell_type": "code",
   "execution_count": null,
   "id": "8d482678-8435-4565-bfe1-6f65bd234efa",
   "metadata": {},
   "outputs": [],
   "source": []
  }
 ],
 "metadata": {
  "kernelspec": {
   "display_name": "Python [conda env:mds574]",
   "language": "python",
   "name": "conda-env-mds574-py"
  },
  "language_info": {
   "codemirror_mode": {
    "name": "ipython",
    "version": 3
   },
   "file_extension": ".py",
   "mimetype": "text/x-python",
   "name": "python",
   "nbconvert_exporter": "python",
   "pygments_lexer": "ipython3",
   "version": "3.9.10"
  }
 },
 "nbformat": 4,
 "nbformat_minor": 5
}
