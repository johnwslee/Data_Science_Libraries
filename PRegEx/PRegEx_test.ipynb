{
 "cells": [
  {
   "cell_type": "code",
   "execution_count": 1,
   "id": "879b5fa8-2aaa-4375-8f74-0f529917f773",
   "metadata": {},
   "outputs": [],
   "source": [
    "from pregex.classes import AnyButWhitespace\n",
    "from pregex.quantifiers import OneOrMore\n",
    "from pregex.operators import Either"
   ]
  },
  {
   "cell_type": "markdown",
   "id": "bab2ca61-244f-4344-938c-40b3ed45248a",
   "metadata": {},
   "source": [
    "# Example 1 : Capture URLs"
   ]
  },
  {
   "cell_type": "code",
   "execution_count": 2,
   "id": "fe7481c2-6846-446f-96ff-f3e93fc7c750",
   "metadata": {},
   "outputs": [],
   "source": [
    "text = \"You can find me through GitHub https://github.com/khuyentran1401\""
   ]
  },
  {
   "cell_type": "code",
   "execution_count": 3,
   "id": "af5aaef5-f746-4b27-9685-a00483d6cbce",
   "metadata": {},
   "outputs": [],
   "source": [
    "pre = (\n",
    "    \"https://\" +\n",
    "    OneOrMore(AnyButWhitespace()) +\n",
    "    Either(\".com\", \".org\") +\n",
    "    OneOrMore(AnyButWhitespace())\n",
    ")"
   ]
  },
  {
   "cell_type": "code",
   "execution_count": 4,
   "id": "06051cb6-738d-48a8-902d-463a4c06dcd7",
   "metadata": {},
   "outputs": [
    {
     "data": {
      "text/plain": [
       "https:\\/\\/\\S+(?:\\.com|\\.org)\\S+"
      ]
     },
     "execution_count": 4,
     "metadata": {},
     "output_type": "execute_result"
    }
   ],
   "source": [
    "pre"
   ]
  },
  {
   "cell_type": "code",
   "execution_count": 5,
   "id": "e45cb6ce-9fc3-4e5a-93ce-c0e2fe7f38c0",
   "metadata": {},
   "outputs": [
    {
     "data": {
      "text/plain": [
       "['https://github.com/khuyentran1401']"
      ]
     },
     "execution_count": 5,
     "metadata": {},
     "output_type": "execute_result"
    }
   ],
   "source": [
    "pre.get_matches(text)"
   ]
  },
  {
   "cell_type": "markdown",
   "id": "74b4b1ef-fa73-4086-8b26-0a031c24c97d",
   "metadata": {},
   "source": [
    "# Example 2 : HTTP or HTTPS"
   ]
  },
  {
   "cell_type": "code",
   "execution_count": 6,
   "id": "a2725796-cf9b-4fbf-a7ae-9f1770661ff1",
   "metadata": {},
   "outputs": [],
   "source": [
    "from pregex.quantifiers import Optional"
   ]
  },
  {
   "cell_type": "code",
   "execution_count": 7,
   "id": "95a07be8-163a-4aa4-ba6c-ac6a059464d2",
   "metadata": {},
   "outputs": [],
   "source": [
    "pre2 = (\n",
    "    \"http\" +\n",
    "    Optional(\"s\") +\n",
    "    \"://\" +\n",
    "    OneOrMore(AnyButWhitespace()) +\n",
    "    Either(\".com\", \".org\") +\n",
    "    OneOrMore(AnyButWhitespace())\n",
    ")"
   ]
  },
  {
   "cell_type": "code",
   "execution_count": 8,
   "id": "277246f3-e5b6-4eb5-be58-570854550551",
   "metadata": {},
   "outputs": [
    {
     "data": {
      "text/plain": [
       "https?:\\/\\/\\S+(?:\\.com|\\.org)\\S+"
      ]
     },
     "execution_count": 8,
     "metadata": {},
     "output_type": "execute_result"
    }
   ],
   "source": [
    "pre2"
   ]
  },
  {
   "cell_type": "code",
   "execution_count": 9,
   "id": "9ecde2ce-aabf-418e-bb3a-5dd8adb288d8",
   "metadata": {},
   "outputs": [
    {
     "data": {
      "text/plain": [
       "['https://github.com/khuyentran1401']"
      ]
     },
     "execution_count": 9,
     "metadata": {},
     "output_type": "execute_result"
    }
   ],
   "source": [
    "pre2.get_matches(text)"
   ]
  },
  {
   "cell_type": "markdown",
   "id": "f0e455eb-c3be-4c52-aee2-6257a45b4bc2",
   "metadata": {},
   "source": [
    "# Example 3 : Match URL without a Scheme(i.e. https://)"
   ]
  },
  {
   "cell_type": "code",
   "execution_count": 10,
   "id": "0274dc4d-917f-4d32-859c-beac1471f983",
   "metadata": {},
   "outputs": [],
   "source": [
    "text3 = \"You can find me through my website mathdatasimplified.com/ or GitHub https://github.com/khuyentran1401\""
   ]
  },
  {
   "cell_type": "code",
   "execution_count": 11,
   "id": "54f6a14c-1849-4927-b18a-258e17a989c4",
   "metadata": {},
   "outputs": [],
   "source": [
    "pre3 = (\n",
    "    Optional(\"http\" + Optional(\"s\") + \"://\") +\n",
    "    OneOrMore(AnyButWhitespace()) +\n",
    "    Either(\".com\", \".org\") +\n",
    "    OneOrMore(AnyButWhitespace())\n",
    ")"
   ]
  },
  {
   "cell_type": "code",
   "execution_count": 12,
   "id": "81518450-1d39-4d0d-ab10-7e3fb2856249",
   "metadata": {},
   "outputs": [
    {
     "data": {
      "text/plain": [
       "(?:https?:\\/\\/)?\\S+(?:\\.com|\\.org)\\S+"
      ]
     },
     "execution_count": 12,
     "metadata": {},
     "output_type": "execute_result"
    }
   ],
   "source": [
    "pre3"
   ]
  },
  {
   "cell_type": "code",
   "execution_count": 13,
   "id": "34f8086d-d8ff-4b2b-81b5-0c0bdec09dc8",
   "metadata": {},
   "outputs": [
    {
     "data": {
      "text/plain": [
       "['mathdatasimplified.com/', 'https://github.com/khuyentran1401']"
      ]
     },
     "execution_count": 13,
     "metadata": {},
     "output_type": "execute_result"
    }
   ],
   "source": [
    "pre3.get_matches(text3)"
   ]
  },
  {
   "cell_type": "markdown",
   "id": "814da776-51a1-47d2-8453-dba12b4f20b2",
   "metadata": {},
   "source": [
    "# Example 4 : Capture Time"
   ]
  },
  {
   "cell_type": "code",
   "execution_count": 14,
   "id": "fd6f9b9e-9a59-4b51-a220-f7d9688ea0c5",
   "metadata": {},
   "outputs": [],
   "source": [
    "from pregex.classes import AnyDigit"
   ]
  },
  {
   "cell_type": "code",
   "execution_count": 15,
   "id": "48acba65-043e-4e55-928a-70f15f1a2897",
   "metadata": {},
   "outputs": [],
   "source": [
    "text4 = \"It is 6:00 pm now\""
   ]
  },
  {
   "cell_type": "code",
   "execution_count": 16,
   "id": "26d43bef-7f61-4b2d-ad1a-5258534d470b",
   "metadata": {},
   "outputs": [],
   "source": [
    "pre4 = AnyDigit() + \":\" + OneOrMore(AnyDigit())"
   ]
  },
  {
   "cell_type": "code",
   "execution_count": 17,
   "id": "b5faf0c6-ddb2-433e-8b85-222019b8ed81",
   "metadata": {},
   "outputs": [
    {
     "data": {
      "text/plain": [
       "\\d:\\d+"
      ]
     },
     "execution_count": 17,
     "metadata": {},
     "output_type": "execute_result"
    }
   ],
   "source": [
    "pre4"
   ]
  },
  {
   "cell_type": "code",
   "execution_count": 18,
   "id": "b98e4042-f346-4c8c-8570-b8df6e8fa9c1",
   "metadata": {},
   "outputs": [
    {
     "data": {
      "text/plain": [
       "['6:00']"
      ]
     },
     "execution_count": 18,
     "metadata": {},
     "output_type": "execute_result"
    }
   ],
   "source": [
    "pre4.get_matches(text4)"
   ]
  },
  {
   "cell_type": "markdown",
   "id": "63a3944f-1dc0-435a-9a25-dc4e5bce2bf6",
   "metadata": {},
   "source": [
    "# Example 5 : Capture Phone Numbers"
   ]
  },
  {
   "cell_type": "code",
   "execution_count": 19,
   "id": "4d7ed281-4e14-47b1-b98a-baf706795db0",
   "metadata": {},
   "outputs": [],
   "source": [
    "from pregex.classes import AnyFrom"
   ]
  },
  {
   "cell_type": "code",
   "execution_count": 20,
   "id": "77e498c7-ad16-422e-95dc-fb8eadfc41c5",
   "metadata": {},
   "outputs": [],
   "source": [
    "text5 = \"My phone number is 3452352312 or 345-235-2312 or 345 235 2312 or 345.235.2312\""
   ]
  },
  {
   "cell_type": "code",
   "execution_count": 21,
   "id": "2885b73a-216b-448b-9b4d-b27cd76f83d0",
   "metadata": {},
   "outputs": [],
   "source": [
    "punctuation = AnyFrom(\"-\", \" \", \".\")\n",
    "\n",
    "pre5 = (\n",
    "    OneOrMore(AnyDigit()) +\n",
    "    Optional(punctuation) +\n",
    "    OneOrMore(AnyDigit()) +\n",
    "    Optional(punctuation) +\n",
    "    OneOrMore(AnyDigit())\n",
    ")"
   ]
  },
  {
   "cell_type": "code",
   "execution_count": 22,
   "id": "805862e4-3822-4719-8315-6b5fac962993",
   "metadata": {},
   "outputs": [
    {
     "data": {
      "text/plain": [
       "\\d+[\\- .]?\\d+[\\- .]?\\d+"
      ]
     },
     "execution_count": 22,
     "metadata": {},
     "output_type": "execute_result"
    }
   ],
   "source": [
    "pre5"
   ]
  },
  {
   "cell_type": "code",
   "execution_count": 23,
   "id": "17d98feb-2548-4f17-9f8c-9b029208769e",
   "metadata": {},
   "outputs": [
    {
     "data": {
      "text/plain": [
       "['3452352312', '345-235-2312', '345 235 2312', '345.235.2312']"
      ]
     },
     "execution_count": 23,
     "metadata": {},
     "output_type": "execute_result"
    }
   ],
   "source": [
    "pre5.get_matches(text5)"
   ]
  },
  {
   "cell_type": "markdown",
   "id": "4c0e2cff-e5eb-4f08-940e-9d20cc0bc7e1",
   "metadata": {},
   "source": [
    "# Example 6 : Capture an Email Address"
   ]
  },
  {
   "cell_type": "code",
   "execution_count": 24,
   "id": "cabdc5b3-902a-4904-a2fb-a56ae84e247f",
   "metadata": {},
   "outputs": [],
   "source": [
    "text6 = \"My email is abcd@gmail.com\""
   ]
  },
  {
   "cell_type": "code",
   "execution_count": 25,
   "id": "b3588efd-c536-4b26-8af2-5323ad7e7f26",
   "metadata": {},
   "outputs": [],
   "source": [
    "pre6 = (\n",
    "    OneOrMore(AnyButWhitespace()) +\n",
    "    \"@\" +\n",
    "    OneOrMore(AnyButWhitespace()) +\n",
    "    Either(\".com\", \".org\", \".io\", \".net\")\n",
    ")"
   ]
  },
  {
   "cell_type": "code",
   "execution_count": 26,
   "id": "cc2f0243-5eb9-44f5-a87a-c5ae4cda417a",
   "metadata": {},
   "outputs": [
    {
     "data": {
      "text/plain": [
       "\\S+@\\S+(?:\\.com|\\.org|\\.io|\\.net)"
      ]
     },
     "execution_count": 26,
     "metadata": {},
     "output_type": "execute_result"
    }
   ],
   "source": [
    "pre6"
   ]
  },
  {
   "cell_type": "code",
   "execution_count": 27,
   "id": "ab8dac60-34ef-47c6-8946-a95ec189c8ab",
   "metadata": {},
   "outputs": [
    {
     "data": {
      "text/plain": [
       "['abcd@gmail.com']"
      ]
     },
     "execution_count": 27,
     "metadata": {},
     "output_type": "execute_result"
    }
   ],
   "source": [
    "pre6.get_matches(text6)"
   ]
  },
  {
   "cell_type": "code",
   "execution_count": null,
   "id": "9168330a-4cde-40c3-8287-2805725caad5",
   "metadata": {},
   "outputs": [],
   "source": []
  }
 ],
 "metadata": {
  "kernelspec": {
   "display_name": "Python [conda env:extrucal]",
   "language": "python",
   "name": "conda-env-extrucal-py"
  },
  "language_info": {
   "codemirror_mode": {
    "name": "ipython",
    "version": 3
   },
   "file_extension": ".py",
   "mimetype": "text/x-python",
   "name": "python",
   "nbconvert_exporter": "python",
   "pygments_lexer": "ipython3",
   "version": "3.9.13"
  }
 },
 "nbformat": 4,
 "nbformat_minor": 5
}
