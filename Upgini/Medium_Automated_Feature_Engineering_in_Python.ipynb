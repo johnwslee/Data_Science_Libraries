{
 "cells": [
  {
   "cell_type": "markdown",
   "id": "87f7d480-287c-4bfe-a295-4531a2f7d385",
   "metadata": {},
   "source": [
    "Fitting with the current trend on Large Language Models (LLM), Upgini exploits the power of OpenAI’s GPT LLM to automate the entire feature engineering process for our dataset."
   ]
  },
  {
   "cell_type": "code",
   "execution_count": 1,
   "id": "6d45a117-1e60-4bc9-b501-c7b22c8f4761",
   "metadata": {},
   "outputs": [],
   "source": [
    "import warnings\n",
    "\n",
    "import numpy as np\n",
    "import pandas as pd\n",
    "\n",
    "warnings.simplefilter(\"ignore\", UserWarning)"
   ]
  },
  {
   "cell_type": "code",
   "execution_count": 2,
   "id": "3256095d-78cc-49d6-b65a-446f2732187e",
   "metadata": {},
   "outputs": [],
   "source": [
    "df_full = pd.read_csv(\"data/Reviews.csv\")"
   ]
  },
  {
   "cell_type": "code",
   "execution_count": 3,
   "id": "d12e7fe5-a70e-48d4-89ae-98bd12946fad",
   "metadata": {},
   "outputs": [
    {
     "data": {
      "text/html": [
       "<div>\n",
       "<style scoped>\n",
       "    .dataframe tbody tr th:only-of-type {\n",
       "        vertical-align: middle;\n",
       "    }\n",
       "\n",
       "    .dataframe tbody tr th {\n",
       "        vertical-align: top;\n",
       "    }\n",
       "\n",
       "    .dataframe thead th {\n",
       "        text-align: right;\n",
       "    }\n",
       "</style>\n",
       "<table border=\"1\" class=\"dataframe\">\n",
       "  <thead>\n",
       "    <tr style=\"text-align: right;\">\n",
       "      <th></th>\n",
       "      <th>Id</th>\n",
       "      <th>ProductId</th>\n",
       "      <th>UserId</th>\n",
       "      <th>ProfileName</th>\n",
       "      <th>HelpfulnessNumerator</th>\n",
       "      <th>HelpfulnessDenominator</th>\n",
       "      <th>Score</th>\n",
       "      <th>Time</th>\n",
       "      <th>Summary</th>\n",
       "      <th>Text</th>\n",
       "    </tr>\n",
       "  </thead>\n",
       "  <tbody>\n",
       "    <tr>\n",
       "      <th>0</th>\n",
       "      <td>1</td>\n",
       "      <td>B001E4KFG0</td>\n",
       "      <td>A3SGXH7AUHU8GW</td>\n",
       "      <td>delmartian</td>\n",
       "      <td>1</td>\n",
       "      <td>1</td>\n",
       "      <td>5</td>\n",
       "      <td>1303862400</td>\n",
       "      <td>Good Quality Dog Food</td>\n",
       "      <td>I have bought several of the Vitality canned d...</td>\n",
       "    </tr>\n",
       "    <tr>\n",
       "      <th>1</th>\n",
       "      <td>2</td>\n",
       "      <td>B00813GRG4</td>\n",
       "      <td>A1D87F6ZCVE5NK</td>\n",
       "      <td>dll pa</td>\n",
       "      <td>0</td>\n",
       "      <td>0</td>\n",
       "      <td>1</td>\n",
       "      <td>1346976000</td>\n",
       "      <td>Not as Advertised</td>\n",
       "      <td>Product arrived labeled as Jumbo Salted Peanut...</td>\n",
       "    </tr>\n",
       "    <tr>\n",
       "      <th>2</th>\n",
       "      <td>3</td>\n",
       "      <td>B000LQOCH0</td>\n",
       "      <td>ABXLMWJIXXAIN</td>\n",
       "      <td>Natalia Corres \"Natalia Corres\"</td>\n",
       "      <td>1</td>\n",
       "      <td>1</td>\n",
       "      <td>4</td>\n",
       "      <td>1219017600</td>\n",
       "      <td>\"Delight\" says it all</td>\n",
       "      <td>This is a confection that has been around a fe...</td>\n",
       "    </tr>\n",
       "    <tr>\n",
       "      <th>3</th>\n",
       "      <td>4</td>\n",
       "      <td>B000UA0QIQ</td>\n",
       "      <td>A395BORC6FGVXV</td>\n",
       "      <td>Karl</td>\n",
       "      <td>3</td>\n",
       "      <td>3</td>\n",
       "      <td>2</td>\n",
       "      <td>1307923200</td>\n",
       "      <td>Cough Medicine</td>\n",
       "      <td>If you are looking for the secret ingredient i...</td>\n",
       "    </tr>\n",
       "    <tr>\n",
       "      <th>4</th>\n",
       "      <td>5</td>\n",
       "      <td>B006K2ZZ7K</td>\n",
       "      <td>A1UQRSCLF8GW1T</td>\n",
       "      <td>Michael D. Bigham \"M. Wassir\"</td>\n",
       "      <td>0</td>\n",
       "      <td>0</td>\n",
       "      <td>5</td>\n",
       "      <td>1350777600</td>\n",
       "      <td>Great taffy</td>\n",
       "      <td>Great taffy at a great price.  There was a wid...</td>\n",
       "    </tr>\n",
       "  </tbody>\n",
       "</table>\n",
       "</div>"
      ],
      "text/plain": [
       "   Id   ProductId          UserId                      ProfileName  \\\n",
       "0   1  B001E4KFG0  A3SGXH7AUHU8GW                       delmartian   \n",
       "1   2  B00813GRG4  A1D87F6ZCVE5NK                           dll pa   \n",
       "2   3  B000LQOCH0   ABXLMWJIXXAIN  Natalia Corres \"Natalia Corres\"   \n",
       "3   4  B000UA0QIQ  A395BORC6FGVXV                             Karl   \n",
       "4   5  B006K2ZZ7K  A1UQRSCLF8GW1T    Michael D. Bigham \"M. Wassir\"   \n",
       "\n",
       "   HelpfulnessNumerator  HelpfulnessDenominator  Score        Time  \\\n",
       "0                     1                       1      5  1303862400   \n",
       "1                     0                       0      1  1346976000   \n",
       "2                     1                       1      4  1219017600   \n",
       "3                     3                       3      2  1307923200   \n",
       "4                     0                       0      5  1350777600   \n",
       "\n",
       "                 Summary                                               Text  \n",
       "0  Good Quality Dog Food  I have bought several of the Vitality canned d...  \n",
       "1      Not as Advertised  Product arrived labeled as Jumbo Salted Peanut...  \n",
       "2  \"Delight\" says it all  This is a confection that has been around a fe...  \n",
       "3         Cough Medicine  If you are looking for the secret ingredient i...  \n",
       "4            Great taffy  Great taffy at a great price.  There was a wid...  "
      ]
     },
     "execution_count": 3,
     "metadata": {},
     "output_type": "execute_result"
    }
   ],
   "source": [
    "df_full.head()"
   ]
  },
  {
   "cell_type": "code",
   "execution_count": 4,
   "id": "b2f48a10-4dcd-4137-9978-4b84e1bc5251",
   "metadata": {},
   "outputs": [],
   "source": [
    "# convert Time to datetime column\n",
    "df_full[\"Time\"] = pd.to_datetime(df_full[\"Time\"], unit=\"s\")"
   ]
  },
  {
   "cell_type": "code",
   "execution_count": 5,
   "id": "ca6a7e8d-582c-425e-8082-e3c1c54186c8",
   "metadata": {},
   "outputs": [],
   "source": [
    "# re-order coumns\n",
    "df_full = df_full[\n",
    "    [\n",
    "        \"Time\",\n",
    "        \"ProfileName\",\n",
    "        \"Summary\",\n",
    "        \"Text\",\n",
    "        \"HelpfulnessNumerator\",\n",
    "        \"HelpfulnessDenominator\",\n",
    "        \"Score\",\n",
    "    ]\n",
    "]"
   ]
  },
  {
   "cell_type": "code",
   "execution_count": 6,
   "id": "935d0172-2584-490d-b19b-0e857580b719",
   "metadata": {},
   "outputs": [
    {
     "data": {
      "text/html": [
       "<div>\n",
       "<style scoped>\n",
       "    .dataframe tbody tr th:only-of-type {\n",
       "        vertical-align: middle;\n",
       "    }\n",
       "\n",
       "    .dataframe tbody tr th {\n",
       "        vertical-align: top;\n",
       "    }\n",
       "\n",
       "    .dataframe thead th {\n",
       "        text-align: right;\n",
       "    }\n",
       "</style>\n",
       "<table border=\"1\" class=\"dataframe\">\n",
       "  <thead>\n",
       "    <tr style=\"text-align: right;\">\n",
       "      <th></th>\n",
       "      <th>Time</th>\n",
       "      <th>ProfileName</th>\n",
       "      <th>Summary</th>\n",
       "      <th>Text</th>\n",
       "      <th>HelpfulnessNumerator</th>\n",
       "      <th>HelpfulnessDenominator</th>\n",
       "      <th>Score</th>\n",
       "    </tr>\n",
       "  </thead>\n",
       "  <tbody>\n",
       "    <tr>\n",
       "      <th>0</th>\n",
       "      <td>2011-04-27</td>\n",
       "      <td>delmartian</td>\n",
       "      <td>Good Quality Dog Food</td>\n",
       "      <td>I have bought several of the Vitality canned d...</td>\n",
       "      <td>1</td>\n",
       "      <td>1</td>\n",
       "      <td>5</td>\n",
       "    </tr>\n",
       "    <tr>\n",
       "      <th>1</th>\n",
       "      <td>2012-09-07</td>\n",
       "      <td>dll pa</td>\n",
       "      <td>Not as Advertised</td>\n",
       "      <td>Product arrived labeled as Jumbo Salted Peanut...</td>\n",
       "      <td>0</td>\n",
       "      <td>0</td>\n",
       "      <td>1</td>\n",
       "    </tr>\n",
       "    <tr>\n",
       "      <th>2</th>\n",
       "      <td>2008-08-18</td>\n",
       "      <td>Natalia Corres \"Natalia Corres\"</td>\n",
       "      <td>\"Delight\" says it all</td>\n",
       "      <td>This is a confection that has been around a fe...</td>\n",
       "      <td>1</td>\n",
       "      <td>1</td>\n",
       "      <td>4</td>\n",
       "    </tr>\n",
       "    <tr>\n",
       "      <th>3</th>\n",
       "      <td>2011-06-13</td>\n",
       "      <td>Karl</td>\n",
       "      <td>Cough Medicine</td>\n",
       "      <td>If you are looking for the secret ingredient i...</td>\n",
       "      <td>3</td>\n",
       "      <td>3</td>\n",
       "      <td>2</td>\n",
       "    </tr>\n",
       "    <tr>\n",
       "      <th>4</th>\n",
       "      <td>2012-10-21</td>\n",
       "      <td>Michael D. Bigham \"M. Wassir\"</td>\n",
       "      <td>Great taffy</td>\n",
       "      <td>Great taffy at a great price.  There was a wid...</td>\n",
       "      <td>0</td>\n",
       "      <td>0</td>\n",
       "      <td>5</td>\n",
       "    </tr>\n",
       "  </tbody>\n",
       "</table>\n",
       "</div>"
      ],
      "text/plain": [
       "        Time                      ProfileName                Summary  \\\n",
       "0 2011-04-27                       delmartian  Good Quality Dog Food   \n",
       "1 2012-09-07                           dll pa      Not as Advertised   \n",
       "2 2008-08-18  Natalia Corres \"Natalia Corres\"  \"Delight\" says it all   \n",
       "3 2011-06-13                             Karl         Cough Medicine   \n",
       "4 2012-10-21    Michael D. Bigham \"M. Wassir\"            Great taffy   \n",
       "\n",
       "                                                Text  HelpfulnessNumerator  \\\n",
       "0  I have bought several of the Vitality canned d...                     1   \n",
       "1  Product arrived labeled as Jumbo Salted Peanut...                     0   \n",
       "2  This is a confection that has been around a fe...                     1   \n",
       "3  If you are looking for the secret ingredient i...                     3   \n",
       "4  Great taffy at a great price.  There was a wid...                     0   \n",
       "\n",
       "   HelpfulnessDenominator  Score  \n",
       "0                       1      5  \n",
       "1                       0      1  \n",
       "2                       1      4  \n",
       "3                       3      2  \n",
       "4                       0      5  "
      ]
     },
     "execution_count": 6,
     "metadata": {},
     "output_type": "execute_result"
    }
   ],
   "source": [
    "df_full.head()"
   ]
  },
  {
   "cell_type": "markdown",
   "id": "171f8b5d-4149-4d9c-92e8-c7549cfee802",
   "metadata": {},
   "source": [
    "We also filter our dataset to include reviews that have more than 10 helpfulness and were published after 2011–01–01."
   ]
  },
  {
   "cell_type": "code",
   "execution_count": 7,
   "id": "9e8d0deb-2b86-40c3-8f53-5449f0ec3db3",
   "metadata": {},
   "outputs": [],
   "source": [
    "df_full = df_full[\n",
    "    (df_full[\"HelpfulnessDenominator\"] > 10) & (df_full[\"Time\"] >= \"2011-01-01\")\n",
    "]"
   ]
  },
  {
   "cell_type": "markdown",
   "id": "6f9646c2-1126-4274-8c92-61c081312a71",
   "metadata": {},
   "source": [
    "We also transform Helpfulness into a binary variable with 0.50 ratio."
   ]
  },
  {
   "cell_type": "code",
   "execution_count": 8,
   "id": "d5e205b0-7eb4-47d6-8b92-118012281c01",
   "metadata": {},
   "outputs": [],
   "source": [
    "df_full.loc[:, \"Helpful\"] = np.where(\n",
    "    df_full.loc[:, \"HelpfulnessNumerator\"] / df_full.loc[:, \"HelpfulnessDenominator\"]\n",
    "    > 0.50,\n",
    "    1,\n",
    "    0,\n",
    ")"
   ]
  },
  {
   "cell_type": "code",
   "execution_count": 9,
   "id": "11cca9a1-d4c2-43f7-9e31-649ed247383c",
   "metadata": {},
   "outputs": [
    {
     "data": {
      "text/html": [
       "<div>\n",
       "<style scoped>\n",
       "    .dataframe tbody tr th:only-of-type {\n",
       "        vertical-align: middle;\n",
       "    }\n",
       "\n",
       "    .dataframe tbody tr th {\n",
       "        vertical-align: top;\n",
       "    }\n",
       "\n",
       "    .dataframe thead th {\n",
       "        text-align: right;\n",
       "    }\n",
       "</style>\n",
       "<table border=\"1\" class=\"dataframe\">\n",
       "  <thead>\n",
       "    <tr style=\"text-align: right;\">\n",
       "      <th></th>\n",
       "      <th>Time</th>\n",
       "      <th>ProfileName</th>\n",
       "      <th>Summary</th>\n",
       "      <th>Text</th>\n",
       "      <th>HelpfulnessNumerator</th>\n",
       "      <th>HelpfulnessDenominator</th>\n",
       "      <th>Score</th>\n",
       "      <th>Helpful</th>\n",
       "    </tr>\n",
       "  </thead>\n",
       "  <tbody>\n",
       "    <tr>\n",
       "      <th>82</th>\n",
       "      <td>2012-01-04</td>\n",
       "      <td>Johnnycakes \"Johnnycakes\"</td>\n",
       "      <td>Forget Molecular Gastronomy - this stuff rocke...</td>\n",
       "      <td>I know the product title says Molecular Gastro...</td>\n",
       "      <td>15</td>\n",
       "      <td>15</td>\n",
       "      <td>5</td>\n",
       "      <td>1</td>\n",
       "    </tr>\n",
       "    <tr>\n",
       "      <th>381</th>\n",
       "      <td>2011-06-29</td>\n",
       "      <td>Allison Beegle</td>\n",
       "      <td>Waste of money</td>\n",
       "      <td>These condiments are overpriced and terrible. ...</td>\n",
       "      <td>7</td>\n",
       "      <td>13</td>\n",
       "      <td>1</td>\n",
       "      <td>1</td>\n",
       "    </tr>\n",
       "    <tr>\n",
       "      <th>1040</th>\n",
       "      <td>2011-10-16</td>\n",
       "      <td>Mike \"stargaazor\"</td>\n",
       "      <td>Buyer Beware!This product contains High Fructo...</td>\n",
       "      <td>It's no secret that high fructose corn syrup i...</td>\n",
       "      <td>5</td>\n",
       "      <td>11</td>\n",
       "      <td>1</td>\n",
       "      <td>0</td>\n",
       "    </tr>\n",
       "    <tr>\n",
       "      <th>1052</th>\n",
       "      <td>2012-01-26</td>\n",
       "      <td>Amy_C</td>\n",
       "      <td>Have not tried product.... however...</td>\n",
       "      <td>They claim this product is \"unadulterated\", wh...</td>\n",
       "      <td>8</td>\n",
       "      <td>12</td>\n",
       "      <td>2</td>\n",
       "      <td>1</td>\n",
       "    </tr>\n",
       "    <tr>\n",
       "      <th>1069</th>\n",
       "      <td>2012-02-23</td>\n",
       "      <td>One Tree in the Forest</td>\n",
       "      <td>THIS IS NOT THE PRODUCT THAT I RECEIVED. THE A...</td>\n",
       "      <td>I purchased this product because of its name, ...</td>\n",
       "      <td>5</td>\n",
       "      <td>11</td>\n",
       "      <td>1</td>\n",
       "      <td>0</td>\n",
       "    </tr>\n",
       "  </tbody>\n",
       "</table>\n",
       "</div>"
      ],
      "text/plain": [
       "           Time                ProfileName  \\\n",
       "82   2012-01-04  Johnnycakes \"Johnnycakes\"   \n",
       "381  2011-06-29             Allison Beegle   \n",
       "1040 2011-10-16          Mike \"stargaazor\"   \n",
       "1052 2012-01-26                      Amy_C   \n",
       "1069 2012-02-23     One Tree in the Forest   \n",
       "\n",
       "                                                Summary  \\\n",
       "82    Forget Molecular Gastronomy - this stuff rocke...   \n",
       "381                                      Waste of money   \n",
       "1040  Buyer Beware!This product contains High Fructo...   \n",
       "1052              Have not tried product.... however...   \n",
       "1069  THIS IS NOT THE PRODUCT THAT I RECEIVED. THE A...   \n",
       "\n",
       "                                                   Text  HelpfulnessNumerator  \\\n",
       "82    I know the product title says Molecular Gastro...                    15   \n",
       "381   These condiments are overpriced and terrible. ...                     7   \n",
       "1040  It's no secret that high fructose corn syrup i...                     5   \n",
       "1052  They claim this product is \"unadulterated\", wh...                     8   \n",
       "1069  I purchased this product because of its name, ...                     5   \n",
       "\n",
       "      HelpfulnessDenominator  Score  Helpful  \n",
       "82                        15      5        1  \n",
       "381                       13      1        1  \n",
       "1040                      11      1        0  \n",
       "1052                      12      2        1  \n",
       "1069                      11      1        0  "
      ]
     },
     "execution_count": 9,
     "metadata": {},
     "output_type": "execute_result"
    }
   ],
   "source": [
    "df_full.head()"
   ]
  },
  {
   "cell_type": "markdown",
   "id": "7014162f-6368-4aad-91fa-188519159a19",
   "metadata": {},
   "source": [
    "Finally, we create a new column — combined — that will concatenate the summary and text into a single column. We also take this opportunity to drop any duplicates."
   ]
  },
  {
   "cell_type": "code",
   "execution_count": 10,
   "id": "7eff0e08-98e1-4773-a995-6342d3709707",
   "metadata": {},
   "outputs": [],
   "source": [
    "idx_list = list(df_full.index)  # Added by me"
   ]
  },
  {
   "cell_type": "code",
   "execution_count": 11,
   "id": "e9475b08-242f-47e5-9281-4d652596d39d",
   "metadata": {},
   "outputs": [],
   "source": [
    "for idx in idx_list:  # Original codes were modified by me\n",
    "    df_full.loc[\n",
    "        idx, \"combined\"\n",
    "    ] = f\"Title: {df_full.loc[idx, 'Summary'].strip()} ; Content: {df_full.loc[idx, 'Text'].strip()}\""
   ]
  },
  {
   "cell_type": "code",
   "execution_count": 12,
   "id": "c9298876-3ac8-4ffa-b637-95fd78c39b02",
   "metadata": {},
   "outputs": [],
   "source": [
    "df_full.drop(\n",
    "    [\"Summary\", \"Text\", \"HelpfulnessNumerator\", \"HelpfulnessDenominator\"],\n",
    "    axis=1,\n",
    "    inplace=True,\n",
    ")"
   ]
  },
  {
   "cell_type": "code",
   "execution_count": 13,
   "id": "8ec6961a-aebc-4a6f-b770-a8e3c2438f50",
   "metadata": {},
   "outputs": [],
   "source": [
    "df_full.drop_duplicates(subset=[\"combined\"], inplace=True)\n",
    "df_full.reset_index(drop=True, inplace=True)"
   ]
  },
  {
   "cell_type": "code",
   "execution_count": 14,
   "id": "4286a7a1-789c-453a-8a7f-dc97ec079d99",
   "metadata": {},
   "outputs": [
    {
     "data": {
      "text/plain": [
       "(4022, 5)"
      ]
     },
     "execution_count": 14,
     "metadata": {},
     "output_type": "execute_result"
    }
   ],
   "source": [
    "df_full.shape"
   ]
  },
  {
   "cell_type": "code",
   "execution_count": 15,
   "id": "0830256c-b721-456a-aa88-8ea8f4efde92",
   "metadata": {},
   "outputs": [
    {
     "data": {
      "text/html": [
       "<div>\n",
       "<style scoped>\n",
       "    .dataframe tbody tr th:only-of-type {\n",
       "        vertical-align: middle;\n",
       "    }\n",
       "\n",
       "    .dataframe tbody tr th {\n",
       "        vertical-align: top;\n",
       "    }\n",
       "\n",
       "    .dataframe thead th {\n",
       "        text-align: right;\n",
       "    }\n",
       "</style>\n",
       "<table border=\"1\" class=\"dataframe\">\n",
       "  <thead>\n",
       "    <tr style=\"text-align: right;\">\n",
       "      <th></th>\n",
       "      <th>Time</th>\n",
       "      <th>ProfileName</th>\n",
       "      <th>Score</th>\n",
       "      <th>Helpful</th>\n",
       "      <th>combined</th>\n",
       "    </tr>\n",
       "  </thead>\n",
       "  <tbody>\n",
       "    <tr>\n",
       "      <th>0</th>\n",
       "      <td>2012-01-04</td>\n",
       "      <td>Johnnycakes \"Johnnycakes\"</td>\n",
       "      <td>5</td>\n",
       "      <td>1</td>\n",
       "      <td>Title: Forget Molecular Gastronomy - this stuf...</td>\n",
       "    </tr>\n",
       "    <tr>\n",
       "      <th>1</th>\n",
       "      <td>2011-06-29</td>\n",
       "      <td>Allison Beegle</td>\n",
       "      <td>1</td>\n",
       "      <td>1</td>\n",
       "      <td>Title: Waste of money ; Content: These condime...</td>\n",
       "    </tr>\n",
       "    <tr>\n",
       "      <th>2</th>\n",
       "      <td>2011-10-16</td>\n",
       "      <td>Mike \"stargaazor\"</td>\n",
       "      <td>1</td>\n",
       "      <td>0</td>\n",
       "      <td>Title: Buyer Beware!This product contains High...</td>\n",
       "    </tr>\n",
       "    <tr>\n",
       "      <th>3</th>\n",
       "      <td>2012-01-26</td>\n",
       "      <td>Amy_C</td>\n",
       "      <td>2</td>\n",
       "      <td>1</td>\n",
       "      <td>Title: Have not tried product.... however... ;...</td>\n",
       "    </tr>\n",
       "    <tr>\n",
       "      <th>4</th>\n",
       "      <td>2012-02-23</td>\n",
       "      <td>One Tree in the Forest</td>\n",
       "      <td>1</td>\n",
       "      <td>0</td>\n",
       "      <td>Title: THIS IS NOT THE PRODUCT THAT I RECEIVED...</td>\n",
       "    </tr>\n",
       "  </tbody>\n",
       "</table>\n",
       "</div>"
      ],
      "text/plain": [
       "        Time                ProfileName  Score  Helpful  \\\n",
       "0 2012-01-04  Johnnycakes \"Johnnycakes\"      5        1   \n",
       "1 2011-06-29             Allison Beegle      1        1   \n",
       "2 2011-10-16          Mike \"stargaazor\"      1        0   \n",
       "3 2012-01-26                      Amy_C      2        1   \n",
       "4 2012-02-23     One Tree in the Forest      1        0   \n",
       "\n",
       "                                            combined  \n",
       "0  Title: Forget Molecular Gastronomy - this stuf...  \n",
       "1  Title: Waste of money ; Content: These condime...  \n",
       "2  Title: Buyer Beware!This product contains High...  \n",
       "3  Title: Have not tried product.... however... ;...  \n",
       "4  Title: THIS IS NOT THE PRODUCT THAT I RECEIVED...  "
      ]
     },
     "execution_count": 15,
     "metadata": {},
     "output_type": "execute_result"
    }
   ],
   "source": [
    "df_full.head()"
   ]
  },
  {
   "cell_type": "markdown",
   "id": "6804a8ba-0453-4909-8e7f-6a99c1c32941",
   "metadata": {},
   "source": [
    "# Feature Search and Enrichment with Upgini"
   ]
  },
  {
   "cell_type": "markdown",
   "id": "e7b7abcd-faf4-4652-8454-30d5d799bafa",
   "metadata": {},
   "source": [
    "Following from the Upgini documentation, we can start a feature search using the `FeaturesEnricher` object. Within that `FeaturesEnricher`, we can specify a `SearchKey` (i.e., the column that we want to search for)."
   ]
  },
  {
   "cell_type": "markdown",
   "id": "e5fce161-322e-4eb9-b00e-7d51dccc849b",
   "metadata": {},
   "source": [
    "We can search for the following column types:\n",
    "\n",
    "- email\n",
    "- hem\n",
    "- IP\n",
    "- phone\n",
    "- date\n",
    "- datetime\n",
    "- country\n",
    "- post code"
   ]
  },
  {
   "cell_type": "code",
   "execution_count": 16,
   "id": "7e990ecf-ee51-4c7f-9bc8-2390ca5ceab0",
   "metadata": {},
   "outputs": [],
   "source": [
    "from upgini import FeaturesEnricher, SearchKey"
   ]
  },
  {
   "cell_type": "code",
   "execution_count": 17,
   "id": "b69253bf-eecc-4f67-9ecc-a977eb674713",
   "metadata": {},
   "outputs": [],
   "source": [
    "enricher = FeaturesEnricher(search_keys={\"Time\": SearchKey.DATE})"
   ]
  },
  {
   "cell_type": "code",
   "execution_count": 18,
   "id": "aa6a9859-ed4a-421f-847a-e1df9a50f1b1",
   "metadata": {},
   "outputs": [
    {
     "name": "stdout",
     "output_type": "stream",
     "text": [
      "The least populated class in Target contains less than 1000 rows.\n",
      "Small numbers of observations may negatively affect the number of selected features and quality of your ML model.\n",
      "Upgini recommends you increase the number of observations in the least populated class.\n",
      "WARNING: Search started with DATE search key only\n",
      "Try to add other keys like the COUNTRY, POSTAL_CODE, PHONE NUMBER, EMAIL/HEM, IPv4 to your training dataset\n",
      "for search through all the available data sources.\n",
      "See docs https://github.com/upgini/upgini#-total-239-countries-and-up-to-41-years-of-history\n",
      "Detected task type: ModelTaskType.BINARY\n",
      "\n",
      "Search key country_code `US` was used as default. \n",
      "See docs to turn off the automatic detection: https://github.com/upgini/upgini/blob/main/README.md#turn-off-autodetection-for-search-key-columns\n"
     ]
    },
    {
     "data": {
      "text/html": [
       "<table><tr><th style='font-weight:bold'>Column name</th><th style='font-weight:bold'>Status</th><th style='font-weight:bold'>Errors</th></tr><tr><td>country_code</td><td style='background-color:#DAF7A6;color:black'>All valid</td><td>-</td></tr><tr><td>Time</td><td style='background-color:#DAF7A6;color:black'>All valid</td><td>-</td></tr><tr><td>target</td><td style='background-color:#DAF7A6;color:black'>All valid</td><td>-</td></tr></table>"
      ],
      "text/plain": [
       "<IPython.core.display.HTML object>"
      ]
     },
     "metadata": {},
     "output_type": "display_data"
    },
    {
     "name": "stdout",
     "output_type": "stream",
     "text": [
      "\n",
      "Running search request, search_id=d030e1a4-b44c-46d8-9061-219a5986080b\n",
      "We'll send email notification once it's completed, just use your personal api_key from profile.upgini.com\n",
      "|\n",
      "\u001b[92m\u001b[1m\n",
      "9 relevant feature(s) found with the search keys: ['Time', 'country_code']\u001b[0m\n"
     ]
    },
    {
     "data": {
      "text/html": [
       "<style>\n",
       "            .upgini-df thead th {\n",
       "                font-weight:bold;\n",
       "                text-align: right;\n",
       "                padding: 0.5em;\n",
       "            }\n",
       "\n",
       "            .upgini-df td {\n",
       "                padding: 0.5em;\n",
       "            }\n",
       "\n",
       "            .upgini-text {\n",
       "                text-align: right;\n",
       "            }\n",
       "\n",
       "            .upgini-number {\n",
       "                text-align: center;\n",
       "            }\n",
       "        </style><table class='upgini-df'><thead><th>Provider</th><th>Source</th><th>Feature name</th><th>SHAP value</th><th>Coverage %</th><th>Type</th><th>Feature type</th></thead><tbody><tr><td class='upgini-text'></td><td class='upgini-text'></td><td class='upgini-text'>Score</td><td class='upgini-number'>0.440234</td><td class='upgini-number'>100.000000</td><td class='upgini-text'>numerical</td><td class='upgini-text'></td></tr><tr><td class='upgini-text'><a href='https://upgini.com' target='_blank' rel='noopener noreferrer'>Upgini</a></td><td class='upgini-text'><a href='https://upgini.com/#data_sources' target='_blank' rel='noopener noreferrer'>Public data</a></td><td class='upgini-text'><a href='https://docs.upgini.com/public/markets/finance_pca#f_financial_date_finance_pca_0_302a6c24' target='_blank' rel='noopener noreferrer'>f_financial_date_finance_pca_0_302a6c24</a></td><td class='upgini-number'>0.017746</td><td class='upgini-number'>100.000000</td><td class='upgini-text'>numerical</td><td class='upgini-text'>Free</td></tr><tr><td class='upgini-text'><a href='https://upgini.com' target='_blank' rel='noopener noreferrer'>Upgini</a></td><td class='upgini-text'><a href='https://upgini.com/#data_sources' target='_blank' rel='noopener noreferrer'>Public data</a></td><td class='upgini-text'><a href='https://docs.upgini.com/public/markets/finance#f_financial_date_gold_3295eb6b' target='_blank' rel='noopener noreferrer'>f_financial_date_gold_3295eb6b</a></td><td class='upgini-number'>0.009264</td><td class='upgini-number'>100.000000</td><td class='upgini-text'>numerical</td><td class='upgini-text'>Free</td></tr><tr><td class='upgini-text'><a href='https://upgini.com' target='_blank' rel='noopener noreferrer'>Upgini</a></td><td class='upgini-text'><a href='https://upgini.com/#data_sources' target='_blank' rel='noopener noreferrer'>Public data</a></td><td class='upgini-text'><a href='https://docs.upgini.com/public/markets/finance#f_financial_date_silver_7d_to_1y_b364a149' target='_blank' rel='noopener noreferrer'>f_financial_date_silver_7d_to_1y_b364a149</a></td><td class='upgini-number'>0.006990</td><td class='upgini-number'>100.000000</td><td class='upgini-text'>numerical</td><td class='upgini-text'>Free</td></tr><tr><td class='upgini-text'><a href='https://upgini.com' target='_blank' rel='noopener noreferrer'>Upgini</a></td><td class='upgini-text'><a href='https://upgini.com/#data_sources' target='_blank' rel='noopener noreferrer'>Public data</a></td><td class='upgini-text'><a href='https://docs.upgini.com/public/weather/weather_pca#f_weather_date_weather_pca_47_f6eca17e' target='_blank' rel='noopener noreferrer'>f_weather_date_weather_pca_47_f6eca17e</a></td><td class='upgini-number'>0.006402</td><td class='upgini-number'>100.000000</td><td class='upgini-text'>numerical</td><td class='upgini-text'>Free</td></tr><tr><td class='upgini-text'><a href='https://upgini.com' target='_blank' rel='noopener noreferrer'>Upgini</a></td><td class='upgini-text'><a href='https://upgini.com/#data_sources' target='_blank' rel='noopener noreferrer'>Public data</a></td><td class='upgini-text'><a href='https://docs.upgini.com/public/weather/weather_pca#f_weather_date_weather_pca_13_c27688b8' target='_blank' rel='noopener noreferrer'>f_weather_date_weather_pca_13_c27688b8</a></td><td class='upgini-number'>0.005566</td><td class='upgini-number'>100.000000</td><td class='upgini-text'>numerical</td><td class='upgini-text'>Free</td></tr><tr><td class='upgini-text'><a href='https://upgini.com' target='_blank' rel='noopener noreferrer'>Upgini</a></td><td class='upgini-text'><a href='https://upgini.com/#data_sources' target='_blank' rel='noopener noreferrer'>Public data</a></td><td class='upgini-text'><a href='https://docs.upgini.com/public/economics/cbpol_umap#f_economic_date_cbpol_umap_6_aa0352de' target='_blank' rel='noopener noreferrer'>f_economic_date_cbpol_umap_6_aa0352de</a></td><td class='upgini-number'>0.004096</td><td class='upgini-number'>100.000000</td><td class='upgini-text'>numerical</td><td class='upgini-text'>Free</td></tr><tr><td class='upgini-text'><a href='https://upgini.com' target='_blank' rel='noopener noreferrer'>Upgini</a></td><td class='upgini-text'><a href='https://upgini.com/#data_sources' target='_blank' rel='noopener noreferrer'>Public data</a></td><td class='upgini-text'><a href='https://docs.upgini.com/public/weather/weather_country#f_weather_country_date_tavg_avg_9f0e1bbc' target='_blank' rel='noopener noreferrer'>f_weather_country_date_tavg_avg_9f0e1bbc</a></td><td class='upgini-number'>0.004027</td><td class='upgini-number'>100.000000</td><td class='upgini-text'>numerical</td><td class='upgini-text'>Free</td></tr><tr><td class='upgini-text'><a href='https://upgini.com' target='_blank' rel='noopener noreferrer'>Upgini</a></td><td class='upgini-text'><a href='https://upgini.com/#data_sources' target='_blank' rel='noopener noreferrer'>Public data</a></td><td class='upgini-text'><a href='https://docs.upgini.com/public/weather/weather_pca#f_weather_date_weather_pca_21_49c534ee' target='_blank' rel='noopener noreferrer'>f_weather_date_weather_pca_21_49c534ee</a></td><td class='upgini-number'>0.004013</td><td class='upgini-number'>100.000000</td><td class='upgini-text'>numerical</td><td class='upgini-text'>Free</td></tr><tr><td class='upgini-text'><a href='https://upgini.com' target='_blank' rel='noopener noreferrer'>Upgini</a></td><td class='upgini-text'><a href='https://upgini.com/#data_sources' target='_blank' rel='noopener noreferrer'>Public data</a></td><td class='upgini-text'><a href='https://docs.upgini.com/public/markets/finance#f_financial_date_dow_jones_7d_to_1y_5d4a1c5a' target='_blank' rel='noopener noreferrer'>f_financial_date_dow_jones_7d_to_1y_5d4a1c5a</a></td><td class='upgini-number'>0.003490</td><td class='upgini-number'>100.000000</td><td class='upgini-text'>numerical</td><td class='upgini-text'>Free</td></tr><tr><td class='upgini-text'></td><td class='upgini-text'></td><td class='upgini-text'>combined</td><td class='upgini-number'>0.000000</td><td class='upgini-number'>100.000000</td><td class='upgini-text'>categorical</td><td class='upgini-text'></td></tr><tr><td class='upgini-text'></td><td class='upgini-text'></td><td class='upgini-text'>ProfileName</td><td class='upgini-number'>0.000000</td><td class='upgini-number'>99.975137</td><td class='upgini-text'>categorical</td><td class='upgini-text'></td></tr></tbody></table>"
      ],
      "text/plain": [
       "<IPython.core.display.HTML object>"
      ]
     },
     "metadata": {},
     "output_type": "display_data"
    },
    {
     "name": "stdout",
     "output_type": "stream",
     "text": [
      "Calculating accuracy uplift after enrichment...\n",
      "\u001b[92m\u001b[1m\n",
      "Quality metrics\u001b[0m\n"
     ]
    },
    {
     "data": {
      "text/html": [
       "<div>\n",
       "<style scoped>\n",
       "    .dataframe tbody tr th:only-of-type {\n",
       "        vertical-align: middle;\n",
       "    }\n",
       "\n",
       "    .dataframe tbody tr th {\n",
       "        vertical-align: top;\n",
       "    }\n",
       "\n",
       "    .dataframe thead th {\n",
       "        text-align: right;\n",
       "    }\n",
       "</style>\n",
       "<table border=\"1\" class=\"dataframe\">\n",
       "  <thead>\n",
       "    <tr style=\"text-align: right;\">\n",
       "      <th></th>\n",
       "      <th>Rows</th>\n",
       "      <th>Baseline roc_auc</th>\n",
       "      <th>Enriched roc_auc</th>\n",
       "      <th>Uplift</th>\n",
       "    </tr>\n",
       "    <tr>\n",
       "      <th></th>\n",
       "      <th></th>\n",
       "      <th></th>\n",
       "      <th></th>\n",
       "      <th></th>\n",
       "    </tr>\n",
       "  </thead>\n",
       "  <tbody>\n",
       "    <tr>\n",
       "      <th>Train</th>\n",
       "      <td>4022</td>\n",
       "      <td>0.760825</td>\n",
       "      <td>0.762075</td>\n",
       "      <td>0.00125</td>\n",
       "    </tr>\n",
       "  </tbody>\n",
       "</table>\n",
       "</div>"
      ],
      "text/plain": [
       "       Rows  Baseline roc_auc  Enriched roc_auc   Uplift\n",
       "                                                        \n",
       "Train  4022          0.760825          0.762075  0.00125"
      ]
     },
     "metadata": {},
     "output_type": "display_data"
    },
    {
     "name": "stdout",
     "output_type": "stream",
     "text": [
      "CPU times: total: 1min 15s\n",
      "Wall time: 4min\n"
     ]
    }
   ],
   "source": [
    "%%time\n",
    "enricher.fit(df_full[[\"Time\", \"ProfileName\", \"Score\", \"combined\"]], df_full[\"Helpful\"])"
   ]
  },
  {
   "cell_type": "markdown",
   "id": "fbbc6966-fbc3-482b-bc40-40aa19a3b34e",
   "metadata": {},
   "source": [
    "# Feature Generation using GPT models"
   ]
  },
  {
   "cell_type": "markdown",
   "id": "9b41df12-3f93-4165-a064-a6d22c41c609",
   "metadata": {},
   "source": [
    "Digging deeper into the documentation, it seems that the FeaturesEnricher also accepts another parameter — generate_features.\n",
    "\n",
    "`generate_features` allows us to search for and generated feature embeddings for text columns. This sounds really promising. We do have text columns — `combined` and `ProfileName`.\n",
    "\n",
    "> Upgini has two LLMs connected to a search engine — GPT-3.5 from OpenAI and GPT-J — from the Upgini documentation"
   ]
  },
  {
   "cell_type": "code",
   "execution_count": 19,
   "id": "3681effc-dd8f-433d-b2fb-dea9126ce25d",
   "metadata": {},
   "outputs": [],
   "source": [
    "enricher = FeaturesEnricher(\n",
    "    search_keys={\"Time\": SearchKey.DATE}, generate_features=[\"combined\", \"ProfileName\"]\n",
    ")"
   ]
  },
  {
   "cell_type": "code",
   "execution_count": 20,
   "id": "9dfe9cc1-abf4-4034-9430-03b14647cd50",
   "metadata": {},
   "outputs": [
    {
     "name": "stdout",
     "output_type": "stream",
     "text": [
      "The least populated class in Target contains less than 1000 rows.\n",
      "Small numbers of observations may negatively affect the number of selected features and quality of your ML model.\n",
      "Upgini recommends you increase the number of observations in the least populated class.\n",
      "WARNING: Search started with DATE search key only\n",
      "Try to add other keys like the COUNTRY, POSTAL_CODE, PHONE NUMBER, EMAIL/HEM, IPv4 to your training dataset\n",
      "for search through all the available data sources.\n",
      "See docs https://github.com/upgini/upgini#-total-239-countries-and-up-to-41-years-of-history\n",
      "Detected task type: ModelTaskType.BINARY\n",
      "\n",
      "Search key country_code `US` was used as default. \n",
      "See docs to turn off the automatic detection: https://github.com/upgini/upgini/blob/main/README.md#turn-off-autodetection-for-search-key-columns\n"
     ]
    },
    {
     "data": {
      "text/html": [
       "<table><tr><th style='font-weight:bold'>Column name</th><th style='font-weight:bold'>Status</th><th style='font-weight:bold'>Errors</th></tr><tr><td>country_code</td><td style='background-color:#DAF7A6;color:black'>All valid</td><td>-</td></tr><tr><td>Time</td><td style='background-color:#DAF7A6;color:black'>All valid</td><td>-</td></tr><tr><td>target</td><td style='background-color:#DAF7A6;color:black'>All valid</td><td>-</td></tr></table>"
      ],
      "text/plain": [
       "<IPython.core.display.HTML object>"
      ]
     },
     "metadata": {},
     "output_type": "display_data"
    },
    {
     "name": "stdout",
     "output_type": "stream",
     "text": [
      "\n",
      "Running search request, search_id=838a7cc8-954a-4e69-a826-2f1b837dd779\n",
      "We'll send email notification once it's completed, just use your personal api_key from profile.upgini.com\n",
      "\\\n",
      "WARNING: Looks like you've run into an error. For help request write us in the Upgini community\n"
     ]
    },
    {
     "data": {
      "text/html": [
       "<a href='https://4mlg.short.gy/join-upgini-community' target='_blank' rel='noopener noreferrer'>\n",
       "                    <img alt='Upgini Slack community' src='https://img.shields.io/badge/slack-@upgini-orange.svg?logo=slack'></a>\n",
       "                    "
      ],
      "text/plain": [
       "<IPython.core.display.HTML object>"
      ]
     },
     "metadata": {},
     "output_type": "display_data"
    },
    {
     "ename": "RuntimeError",
     "evalue": "All search tasks in the request have failed",
     "output_type": "error",
     "traceback": [
      "\u001b[1;31m---------------------------------------------------------------------------\u001b[0m",
      "\u001b[1;31mRuntimeError\u001b[0m                              Traceback (most recent call last)",
      "File \u001b[1;32m<timed eval>:1\u001b[0m\n",
      "File \u001b[1;32m~\\miniconda3\\envs\\opencv\\lib\\site-packages\\upgini\\features_enricher.py:356\u001b[0m, in \u001b[0;36mFeaturesEnricher.fit\u001b[1;34m(self, X, y, eval_set, exclude_features_sources, calculate_metrics, estimator, scoring, importance_threshold, max_features, remove_outliers_calc_metrics, *args, **kwargs)\u001b[0m\n\u001b[0;32m    354\u001b[0m         \u001b[38;5;28mself\u001b[39m\u001b[38;5;241m.\u001b[39m_dump_python_libs()\n\u001b[0;32m    355\u001b[0m         \u001b[38;5;28mself\u001b[39m\u001b[38;5;241m.\u001b[39m__display_slack_community_link()\n\u001b[1;32m--> 356\u001b[0m         \u001b[38;5;28;01mraise\u001b[39;00m e\n\u001b[0;32m    357\u001b[0m \u001b[38;5;28;01mfinally\u001b[39;00m:\n\u001b[0;32m    358\u001b[0m     \u001b[38;5;28mself\u001b[39m\u001b[38;5;241m.\u001b[39mlogger\u001b[38;5;241m.\u001b[39minfo(\u001b[38;5;124mf\u001b[39m\u001b[38;5;124m\"\u001b[39m\u001b[38;5;124mFit elapsed time: \u001b[39m\u001b[38;5;132;01m{\u001b[39;00mtime\u001b[38;5;241m.\u001b[39mtime() \u001b[38;5;241m-\u001b[39m start_time\u001b[38;5;132;01m}\u001b[39;00m\u001b[38;5;124m\"\u001b[39m)\n",
      "File \u001b[1;32m~\\miniconda3\\envs\\opencv\\lib\\site-packages\\upgini\\features_enricher.py:325\u001b[0m, in \u001b[0;36mFeaturesEnricher.fit\u001b[1;34m(self, X, y, eval_set, exclude_features_sources, calculate_metrics, estimator, scoring, importance_threshold, max_features, remove_outliers_calc_metrics, *args, **kwargs)\u001b[0m\n\u001b[0;32m    323\u001b[0m     \u001b[38;5;28mself\u001b[39m\u001b[38;5;241m.\u001b[39meval_set \u001b[38;5;241m=\u001b[39m checked_eval_set\n\u001b[0;32m    324\u001b[0m     \u001b[38;5;28mself\u001b[39m\u001b[38;5;241m.\u001b[39mdump_input(trace_id, X, y, eval_set)\n\u001b[1;32m--> 325\u001b[0m     \u001b[38;5;28;43mself\u001b[39;49m\u001b[38;5;241;43m.\u001b[39;49m\u001b[43m__inner_fit\u001b[49m\u001b[43m(\u001b[49m\n\u001b[0;32m    326\u001b[0m \u001b[43m        \u001b[49m\u001b[43mtrace_id\u001b[49m\u001b[43m,\u001b[49m\n\u001b[0;32m    327\u001b[0m \u001b[43m        \u001b[49m\u001b[43mX\u001b[49m\u001b[43m,\u001b[49m\n\u001b[0;32m    328\u001b[0m \u001b[43m        \u001b[49m\u001b[43my\u001b[49m\u001b[43m,\u001b[49m\n\u001b[0;32m    329\u001b[0m \u001b[43m        \u001b[49m\u001b[43mchecked_eval_set\u001b[49m\u001b[43m,\u001b[49m\n\u001b[0;32m    330\u001b[0m \u001b[43m        \u001b[49m\u001b[43mexclude_features_sources\u001b[49m\u001b[38;5;241;43m=\u001b[39;49m\u001b[43mexclude_features_sources\u001b[49m\u001b[43m,\u001b[49m\n\u001b[0;32m    331\u001b[0m \u001b[43m        \u001b[49m\u001b[43mcalculate_metrics\u001b[49m\u001b[38;5;241;43m=\u001b[39;49m\u001b[43mcalculate_metrics\u001b[49m\u001b[43m,\u001b[49m\n\u001b[0;32m    332\u001b[0m \u001b[43m        \u001b[49m\u001b[43mestimator\u001b[49m\u001b[38;5;241;43m=\u001b[39;49m\u001b[43mestimator\u001b[49m\u001b[43m,\u001b[49m\n\u001b[0;32m    333\u001b[0m \u001b[43m        \u001b[49m\u001b[43mscoring\u001b[49m\u001b[38;5;241;43m=\u001b[39;49m\u001b[43mscoring\u001b[49m\u001b[43m,\u001b[49m\n\u001b[0;32m    334\u001b[0m \u001b[43m        \u001b[49m\u001b[43mimportance_threshold\u001b[49m\u001b[38;5;241;43m=\u001b[39;49m\u001b[43mimportance_threshold\u001b[49m\u001b[43m,\u001b[49m\n\u001b[0;32m    335\u001b[0m \u001b[43m        \u001b[49m\u001b[43mmax_features\u001b[49m\u001b[38;5;241;43m=\u001b[39;49m\u001b[43mmax_features\u001b[49m\u001b[43m,\u001b[49m\n\u001b[0;32m    336\u001b[0m \u001b[43m        \u001b[49m\u001b[43mremove_outliers_calc_metrics\u001b[49m\u001b[38;5;241;43m=\u001b[39;49m\u001b[43mremove_outliers_calc_metrics\u001b[49m\u001b[43m,\u001b[49m\n\u001b[0;32m    337\u001b[0m \u001b[43m    \u001b[49m\u001b[43m)\u001b[49m\n\u001b[0;32m    338\u001b[0m     \u001b[38;5;28mself\u001b[39m\u001b[38;5;241m.\u001b[39mlogger\u001b[38;5;241m.\u001b[39minfo(\u001b[38;5;124m\"\u001b[39m\u001b[38;5;124mFit finished successfully\u001b[39m\u001b[38;5;124m\"\u001b[39m)\n\u001b[0;32m    339\u001b[0m \u001b[38;5;28;01mexcept\u001b[39;00m \u001b[38;5;167;01mException\u001b[39;00m \u001b[38;5;28;01mas\u001b[39;00m e:\n",
      "File \u001b[1;32m~\\miniconda3\\envs\\opencv\\lib\\site-packages\\upgini\\features_enricher.py:1703\u001b[0m, in \u001b[0;36mFeaturesEnricher.__inner_fit\u001b[1;34m(self, trace_id, X, y, eval_set, exclude_features_sources, calculate_metrics, scoring, estimator, importance_threshold, max_features, remove_outliers_calc_metrics)\u001b[0m\n\u001b[0;32m   1697\u001b[0m     dataset\u001b[38;5;241m.\u001b[39mignore_columns \u001b[38;5;241m=\u001b[39m [email_column]\n\u001b[0;32m   1699\u001b[0m \u001b[38;5;28mself\u001b[39m\u001b[38;5;241m.\u001b[39mpassed_features \u001b[38;5;241m=\u001b[39m [\n\u001b[0;32m   1700\u001b[0m     column \u001b[38;5;28;01mfor\u001b[39;00m column, meaning_type \u001b[38;5;129;01min\u001b[39;00m meaning_types\u001b[38;5;241m.\u001b[39mitems() \u001b[38;5;28;01mif\u001b[39;00m meaning_type \u001b[38;5;241m==\u001b[39m FileColumnMeaningType\u001b[38;5;241m.\u001b[39mFEATURE\n\u001b[0;32m   1701\u001b[0m ]\n\u001b[1;32m-> 1703\u001b[0m \u001b[38;5;28mself\u001b[39m\u001b[38;5;241m.\u001b[39m_search_task \u001b[38;5;241m=\u001b[39m \u001b[43mdataset\u001b[49m\u001b[38;5;241;43m.\u001b[39;49m\u001b[43msearch\u001b[49m\u001b[43m(\u001b[49m\n\u001b[0;32m   1704\u001b[0m \u001b[43m    \u001b[49m\u001b[43mtrace_id\u001b[49m\u001b[43m,\u001b[49m\n\u001b[0;32m   1705\u001b[0m \u001b[43m    \u001b[49m\u001b[43mextract_features\u001b[49m\u001b[38;5;241;43m=\u001b[39;49m\u001b[38;5;28;43;01mTrue\u001b[39;49;00m\u001b[43m,\u001b[49m\n\u001b[0;32m   1706\u001b[0m \u001b[43m    \u001b[49m\u001b[43mruntime_parameters\u001b[49m\u001b[38;5;241;43m=\u001b[39;49m\u001b[38;5;28;43mself\u001b[39;49m\u001b[38;5;241;43m.\u001b[39;49m\u001b[43m_get_copy_of_runtime_parameters\u001b[49m\u001b[43m(\u001b[49m\u001b[43m)\u001b[49m\u001b[43m,\u001b[49m\n\u001b[0;32m   1707\u001b[0m \u001b[43m    \u001b[49m\u001b[43mexclude_features_sources\u001b[49m\u001b[38;5;241;43m=\u001b[39;49m\u001b[43mexclude_features_sources\u001b[49m\u001b[43m,\u001b[49m\n\u001b[0;32m   1708\u001b[0m \u001b[43m\u001b[49m\u001b[43m)\u001b[49m\n\u001b[0;32m   1710\u001b[0m \u001b[38;5;28mself\u001b[39m\u001b[38;5;241m.\u001b[39mimbalanced \u001b[38;5;241m=\u001b[39m dataset\u001b[38;5;241m.\u001b[39mimbalanced\n\u001b[0;32m   1712\u001b[0m zero_hit_search_keys \u001b[38;5;241m=\u001b[39m \u001b[38;5;28mself\u001b[39m\u001b[38;5;241m.\u001b[39m_search_task\u001b[38;5;241m.\u001b[39mget_zero_hit_rate_search_keys()\n",
      "File \u001b[1;32m~\\miniconda3\\envs\\opencv\\lib\\site-packages\\upgini\\dataset.py:913\u001b[0m, in \u001b[0;36mDataset.search\u001b[1;34m(self, trace_id, return_scores, extract_features, accurate_model, exclude_features_sources, importance_threshold, max_features, filter_features, runtime_parameters)\u001b[0m\n\u001b[0;32m    901\u001b[0m         \u001b[38;5;28mself\u001b[39m\u001b[38;5;241m.\u001b[39mfile_upload_id \u001b[38;5;241m=\u001b[39m search_task_response\u001b[38;5;241m.\u001b[39mfile_upload_id\n\u001b[0;32m    903\u001b[0m search_task \u001b[38;5;241m=\u001b[39m SearchTask(\n\u001b[0;32m    904\u001b[0m     search_task_response\u001b[38;5;241m.\u001b[39msearch_task_id,\n\u001b[0;32m    905\u001b[0m     \u001b[38;5;28mself\u001b[39m,\n\u001b[1;32m   (...)\u001b[0m\n\u001b[0;32m    911\u001b[0m     api_key\u001b[38;5;241m=\u001b[39m\u001b[38;5;28mself\u001b[39m\u001b[38;5;241m.\u001b[39mapi_key,\n\u001b[0;32m    912\u001b[0m )\n\u001b[1;32m--> 913\u001b[0m \u001b[38;5;28;01mreturn\u001b[39;00m \u001b[43msearch_task\u001b[49m\u001b[38;5;241;43m.\u001b[39;49m\u001b[43mpoll_result\u001b[49m\u001b[43m(\u001b[49m\u001b[43mtrace_id\u001b[49m\u001b[43m)\u001b[49m\n",
      "File \u001b[1;32m~\\miniconda3\\envs\\opencv\\lib\\site-packages\\upgini\\search_task.py:110\u001b[0m, in \u001b[0;36mSearchTask.poll_result\u001b[1;34m(self, trace_id, quiet, check_fit)\u001b[0m\n\u001b[0;32m    108\u001b[0m \u001b[38;5;28;01mif\u001b[39;00m \u001b[38;5;28mlen\u001b[39m(error_messages) \u001b[38;5;241m==\u001b[39m \u001b[38;5;241m1\u001b[39m \u001b[38;5;129;01mand\u001b[39;00m (error_messages[\u001b[38;5;241m0\u001b[39m] \u001b[38;5;129;01mis\u001b[39;00m \u001b[38;5;28;01mNone\u001b[39;00m \u001b[38;5;129;01mor\u001b[39;00m error_messages[\u001b[38;5;241m0\u001b[39m]\u001b[38;5;241m.\u001b[39mendswith(\u001b[38;5;124m\"\u001b[39m\u001b[38;5;124mInternal error\u001b[39m\u001b[38;5;124m\"\u001b[39m)):\n\u001b[0;32m    109\u001b[0m     \u001b[38;5;28mself\u001b[39m\u001b[38;5;241m.\u001b[39mlogger\u001b[38;5;241m.\u001b[39merror(\u001b[38;5;124mf\u001b[39m\u001b[38;5;124m\"\u001b[39m\u001b[38;5;124mSearch failed with error: \u001b[39m\u001b[38;5;132;01m{\u001b[39;00merror_messages[\u001b[38;5;241m0\u001b[39m]\u001b[38;5;132;01m}\u001b[39;00m\u001b[38;5;124m\"\u001b[39m)\n\u001b[1;32m--> 110\u001b[0m     \u001b[38;5;28;01mraise\u001b[39;00m \u001b[38;5;167;01mRuntimeError\u001b[39;00m(bundle\u001b[38;5;241m.\u001b[39mget(\u001b[38;5;124m\"\u001b[39m\u001b[38;5;124mall_providers_failed\u001b[39m\u001b[38;5;124m\"\u001b[39m))\n\u001b[0;32m    111\u001b[0m \u001b[38;5;28;01melse\u001b[39;00m:\n\u001b[0;32m    112\u001b[0m     \u001b[38;5;28mself\u001b[39m\u001b[38;5;241m.\u001b[39mlogger\u001b[38;5;241m.\u001b[39merror(\u001b[38;5;124mf\u001b[39m\u001b[38;5;124m\"\u001b[39m\u001b[38;5;124mSearch failed with errors: \u001b[39m\u001b[38;5;132;01m{\u001b[39;00m\u001b[38;5;124m'\u001b[39m\u001b[38;5;124m,\u001b[39m\u001b[38;5;124m'\u001b[39m\u001b[38;5;241m.\u001b[39mjoin(error_messages)\u001b[38;5;132;01m}\u001b[39;00m\u001b[38;5;124m\"\u001b[39m)\n",
      "\u001b[1;31mRuntimeError\u001b[0m: All search tasks in the request have failed"
     ]
    }
   ],
   "source": [
    "%%time\n",
    "enricher.fit(df_full[['Time','ProfileName','Score','combined']], df_full['Helpful'])"
   ]
  },
  {
   "cell_type": "markdown",
   "id": "7cc1bf33-ddba-4e7b-8a85-4ed00838649a",
   "metadata": {},
   "source": [
    "With the newly generated features we see a massive boost in predictive performance — an uplift of 0.1. And the best part is that all of it was fully automated!\n",
    "\n",
    "We definitely want to keep these features, given the massive performance gain that we observed. We can do this as follows:"
   ]
  },
  {
   "cell_type": "code",
   "execution_count": null,
   "id": "1d7633a3-5153-4a7d-9487-f746245edaaa",
   "metadata": {},
   "outputs": [],
   "source": [
    "df_full_enrich = enricher.transform(df_full)"
   ]
  }
 ],
 "metadata": {
  "kernelspec": {
   "display_name": "Python [conda env:opencv]",
   "language": "python",
   "name": "conda-env-opencv-py"
  },
  "language_info": {
   "codemirror_mode": {
    "name": "ipython",
    "version": 3
   },
   "file_extension": ".py",
   "mimetype": "text/x-python",
   "name": "python",
   "nbconvert_exporter": "python",
   "pygments_lexer": "ipython3",
   "version": "3.8.13"
  }
 },
 "nbformat": 4,
 "nbformat_minor": 5
}
