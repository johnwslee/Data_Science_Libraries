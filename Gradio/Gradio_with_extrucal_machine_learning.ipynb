{
 "cells": [
  {
   "cell_type": "markdown",
   "id": "18c63612-da6a-482e-9bab-966344cc9024",
   "metadata": {},
   "source": [
    "# Imports"
   ]
  },
  {
   "cell_type": "code",
   "execution_count": 1,
   "id": "4176b9d5-3d54-4d4f-9f1e-f71938a1d4ee",
   "metadata": {},
   "outputs": [],
   "source": [
    "from pycaret.regression import *\n",
    "import pandas as pd\n",
    "import gradio as gr\n",
    "import numpy as np"
   ]
  },
  {
   "cell_type": "markdown",
   "id": "17c0c67c-30bf-4d07-a7cb-6f7a31238d8a",
   "metadata": {},
   "source": [
    "# ML Model"
   ]
  },
  {
   "cell_type": "code",
   "execution_count": 2,
   "id": "247559c5-d5b3-4c66-b490-af2c76294a74",
   "metadata": {},
   "outputs": [
    {
     "name": "stdout",
     "output_type": "stream",
     "text": [
      "Transformation Pipeline and Model Successfully Loaded\n"
     ]
    }
   ],
   "source": [
    "model = load_model(\"catb_normalized_target-transformed\")"
   ]
  },
  {
   "cell_type": "code",
   "execution_count": 3,
   "id": "3c8e3295-9892-4bc9-802f-22f0ca02d30b",
   "metadata": {},
   "outputs": [
    {
     "data": {
      "text/plain": [
       "Pipeline(steps=[('dtypes',\n",
       "                 DataTypes_Auto_infer(ml_usecase='regression',\n",
       "                                      target='throughput')),\n",
       "                ('imputer',\n",
       "                 Simple_Imputer(categorical_strategy='not_available',\n",
       "                                fill_value_categorical=None,\n",
       "                                fill_value_numerical=None,\n",
       "                                numeric_strategy='mean',\n",
       "                                target_variable=None)),\n",
       "                ('new_levels1',\n",
       "                 New_Catagorical_Levels_in_TestData(replacement_strategy='least '\n",
       "                                                                         'frequent',\n",
       "                                                    targ...\n",
       "                ('fix_perfect', Remove_100(target='throughput')),\n",
       "                ('clean_names', Clean_Colum_Names()),\n",
       "                ('feature_select', 'passthrough'), ('fix_multi', 'passthrough'),\n",
       "                ('dfs', 'passthrough'), ('pca', 'passthrough'),\n",
       "                ['trained_model',\n",
       "                 PowerTransformedTargetRegressor(border_count=32,\n",
       "                                                 loss_function='RMSE',\n",
       "                                                 random_state=2052,\n",
       "                                                 regressor=<catboost.core.CatBoostRegressor object at 0x0000024EC64FECA0>,\n",
       "                                                 task_type='GPU',\n",
       "                                                 verbose=False)]])"
      ]
     },
     "execution_count": 3,
     "metadata": {},
     "output_type": "execute_result"
    }
   ],
   "source": [
    "model"
   ]
  },
  {
   "cell_type": "markdown",
   "id": "d4f64861-ef3a-480e-ad54-fab456ee0917",
   "metadata": {},
   "source": [
    "# `predict()` Function"
   ]
  },
  {
   "cell_type": "code",
   "execution_count": 4,
   "id": "243c6d6f-a633-4bb2-a0b5-24c5a4f40912",
   "metadata": {},
   "outputs": [],
   "source": [
    "def predict(\n",
    "    extruder_size, metering_depth, polymer_density, \n",
    "    rpm, screw_pitch, flight_width, number_flight\n",
    "):\n",
    "\n",
    "    df = pd.DataFrame.from_dict(\n",
    "        {'extruder_size': [extruder_size],\n",
    "         'metering_depth': [metering_depth],\n",
    "         'polymer_density': [polymer_density],\n",
    "         'rpm': [rpm],\n",
    "         'screw_pitch': [screw_pitch],\n",
    "         'flight_width': [flight_width],\n",
    "         'number_flight': [number_flight]}\n",
    "    )\n",
    "    \n",
    "    pred = predict_model(model, df)\n",
    "    \n",
    "    return f\"Prediction: {np.round(pred['Label'][0], 2)} kg/hr\""
   ]
  },
  {
   "cell_type": "markdown",
   "id": "b40d4283-2b09-48b8-9a0d-7d3c25c40031",
   "metadata": {},
   "source": [
    "# UI using Gradio"
   ]
  },
  {
   "cell_type": "code",
   "execution_count": 5,
   "id": "827a28a0-639f-4030-a16d-11891b79eb35",
   "metadata": {},
   "outputs": [
    {
     "name": "stdout",
     "output_type": "stream",
     "text": [
      "Running on local URL:  http://127.0.0.1:7861\n",
      "\n",
      "To create a public link, set `share=True` in `launch()`.\n"
     ]
    },
    {
     "data": {
      "text/html": [
       "<div><iframe src=\"http://127.0.0.1:7861/\" width=\"900\" height=\"500\" allow=\"autoplay; camera; microphone; clipboard-read; clipboard-write;\" frameborder=\"0\" allowfullscreen></iframe></div>"
      ],
      "text/plain": [
       "<IPython.core.display.HTML object>"
      ]
     },
     "metadata": {},
     "output_type": "display_data"
    },
    {
     "data": {
      "text/plain": [
       "(<gradio.routes.App at 0x24ec64f8970>, 'http://127.0.0.1:7861/', None)"
      ]
     },
     "execution_count": 5,
     "metadata": {},
     "output_type": "execute_result"
    }
   ],
   "source": [
    "extruder_size = gr.inputs.Slider(\n",
    "    minimum=20, \n",
    "    maximum=250, \n",
    "    default=100, \n",
    "    label='extruder_size'\n",
    ")\n",
    "metering_depth = gr.inputs.Slider(\n",
    "    minimum=0.2, \n",
    "    maximum=25, \n",
    "    default=5, \n",
    "    label='metering_depth'\n",
    ")\n",
    "polymer_density = gr.inputs.Slider(\n",
    "    minimum=700, \n",
    "    maximum=1400, \n",
    "    default=1000, \n",
    "    label='polymer_density'\n",
    ")\n",
    "rpm = gr.inputs.Slider(\n",
    "    minimum=0, \n",
    "    maximum=100, \n",
    "    default=10, \n",
    "    label='rpm'\n",
    ")\n",
    "screw_pitch = gr.inputs.Slider(\n",
    "    minimum=5, \n",
    "    maximum=400, \n",
    "    default=100, \n",
    "    label='screw_pitch'\n",
    ")\n",
    "flight_width = gr.inputs.Slider(\n",
    "    minimum=2, \n",
    "    maximum=25, \n",
    "    default=10, \n",
    "    label='flight_width'\n",
    ")\n",
    "number_flight = gr.Radio(\n",
    "    choices=[1, 2],\n",
    "    value=1, \n",
    "    label='number_flight'\n",
    ")\n",
    "\n",
    "gr.Interface(\n",
    "    predict, \n",
    "    [extruder_size, metering_depth, polymer_density, rpm, screw_pitch, flight_width, number_flight], \n",
    "    \"label\", \n",
    "    live=True,\n",
    "    title=\"Extrusion Throughput Calculator\",\n",
    "    description=\"Calculation by CatBoost ML Model\",\n",
    ").launch()"
   ]
  },
  {
   "cell_type": "code",
   "execution_count": null,
   "id": "79c2dca9-8860-4a04-a28e-f02574dd6b8b",
   "metadata": {},
   "outputs": [],
   "source": []
  }
 ],
 "metadata": {
  "kernelspec": {
   "display_name": "Python [conda env:pycaret]",
   "language": "python",
   "name": "conda-env-pycaret-py"
  },
  "language_info": {
   "codemirror_mode": {
    "name": "ipython",
    "version": 3
   },
   "file_extension": ".py",
   "mimetype": "text/x-python",
   "name": "python",
   "nbconvert_exporter": "python",
   "pygments_lexer": "ipython3",
   "version": "3.8.0"
  }
 },
 "nbformat": 4,
 "nbformat_minor": 5
}
