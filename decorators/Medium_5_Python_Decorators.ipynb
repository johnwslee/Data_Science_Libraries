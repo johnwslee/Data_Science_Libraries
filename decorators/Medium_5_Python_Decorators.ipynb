{
 "cells": [
  {
   "cell_type": "markdown",
   "id": "9f952125-ae57-4902-b850-f1711f3a8035",
   "metadata": {},
   "source": [
    "At first, every developer’s goal is to get things working. Slowly, we worry about readability and scalability. This is when we first start thinking about decorators.\n",
    "\n",
    "Decorators are an excellent way to give additional behavior to a function. And there are little things we data scientists often need to inject into a function definition.\n",
    "\n",
    "With decorators, you’d be surprised to see how much you can reduce code repetition and improve readability. I certainly did.\n",
    "\n",
    "Here are the five most common ones I use in almost every data-intensive project."
   ]
  },
  {
   "cell_type": "markdown",
   "id": "339dd844-0bb1-4543-919e-731865784776",
   "metadata": {},
   "source": [
    "# 1. The retry decorator"
   ]
  },
  {
   "cell_type": "markdown",
   "id": "fb4d9b64-1f33-4a02-b8f6-90b96969ad2e",
   "metadata": {},
   "source": [
    "In data science projects and software development projects, there are so many instances where we depend on external systems. Things are not in our control all the time.\n",
    "\n",
    "When an unexpected event occurs, we might want our code to wait a while, allowing the external system to correct itself and rerun.\n",
    "\n",
    "I prefer to implement this retry logic inside a python decorator so that I can annotate any function to apply the retry behavior."
   ]
  },
  {
   "cell_type": "code",
   "execution_count": 1,
   "id": "796d5016-6e39-4d5c-875e-4d4dfc38e56f",
   "metadata": {},
   "outputs": [],
   "source": [
    "import time\n",
    "import functools\n",
    "import requests"
   ]
  },
  {
   "cell_type": "code",
   "execution_count": 2,
   "id": "38263336-8456-4136-adf6-19802a54c668",
   "metadata": {},
   "outputs": [],
   "source": [
    "def retry(max_tries=3, delay_seconds=1):\n",
    "    def decorator_retry(func):\n",
    "        @functools.wraps(func)\n",
    "        def wrapper_retry(*args, **kwargs):\n",
    "            tries = 0\n",
    "            while tries < max_tries:\n",
    "                try:\n",
    "                    return func(*args, **kwargs)\n",
    "                except Exception as e:\n",
    "                    tries += 1\n",
    "                    if tries == max_tries:\n",
    "                        raise e\n",
    "                    time.sleep(delay_seconds)\n",
    "        return wrapper_retry\n",
    "    return decorator_retry"
   ]
  },
  {
   "cell_type": "code",
   "execution_count": 3,
   "id": "680d82e5-ebb9-4663-b894-6db3473fce66",
   "metadata": {},
   "outputs": [],
   "source": [
    "@retry(max_tries=5, delay_seconds=2)\n",
    "def call_dummy_api():\n",
    "    response = requests.get(\"https://jsonplaceholder.typicode.com/todos/1\")\n",
    "    return response"
   ]
  },
  {
   "cell_type": "code",
   "execution_count": 4,
   "id": "4a1619bb-7aa7-47bf-a5d9-a478d4a5f97e",
   "metadata": {},
   "outputs": [
    {
     "data": {
      "text/plain": [
       "<Response [200]>"
      ]
     },
     "execution_count": 4,
     "metadata": {},
     "output_type": "execute_result"
    }
   ],
   "source": [
    "call_dummy_api()"
   ]
  },
  {
   "cell_type": "markdown",
   "id": "21f42271-b4ae-46d2-bfdd-3256bef33c9e",
   "metadata": {},
   "source": [
    "In the above code, we try to get an API response. If it fails, we retry the same task 5 times. Between each retry, we wait for 2 seconds."
   ]
  },
  {
   "cell_type": "markdown",
   "id": "5ed7ba33-e70b-42bc-a647-ce02e0a66ecf",
   "metadata": {},
   "source": [
    "# 2. Caching function results"
   ]
  },
  {
   "cell_type": "markdown",
   "id": "83c6c8ce-1af0-4e67-9401-e415064dca86",
   "metadata": {},
   "source": [
    "Some parts of our codebase rarely change their behaviors. Yet, it may take a big chunk of our computation power. In such situations, we can use a decorator to cache function calls."
   ]
  },
  {
   "cell_type": "markdown",
   "id": "669f8309-8385-46e4-ad8c-5df363894523",
   "metadata": {},
   "source": [
    "The function will run only once if the inputs are the same. In every subsequent run, the results will be pulled from the cache. Hence, we don’t have to perform expensive computations all the time."
   ]
  },
  {
   "cell_type": "code",
   "execution_count": 5,
   "id": "61d95803-fa43-48fe-b3ca-d42580d5058e",
   "metadata": {},
   "outputs": [],
   "source": [
    "def memoize(func):\n",
    "    cache = {}\n",
    "    def wrapper(*args):\n",
    "        if args in cache:\n",
    "            return cache[args]\n",
    "        else:\n",
    "            result = func(*args)\n",
    "            cache[args] = result\n",
    "            return result\n",
    "    return wrapper"
   ]
  },
  {
   "cell_type": "markdown",
   "id": "0450b5e1-776c-44e7-be2e-97e1d92e6f53",
   "metadata": {},
   "source": [
    "The decorator uses a dictionary, stores the function args, and returns values. When we execute this function, the decorated will check the dictionary for prior results. The actual function is called only when there’s no stored value before.\n",
    "\n",
    "The following is a Fibonacci number calculating a function. Since this is a recurrent function, the same function called is performed multiple times. But with caching, we can speed up this process."
   ]
  },
  {
   "cell_type": "code",
   "execution_count": 6,
   "id": "ab9faaed-e41e-45fd-8b2a-047b77689c9e",
   "metadata": {},
   "outputs": [],
   "source": [
    "@memoize\n",
    "def fibonacci(n):\n",
    "    if n <= 1:\n",
    "        return n\n",
    "    else:\n",
    "        return fibonacci(n-1) + fibonacci(n-2)"
   ]
  },
  {
   "cell_type": "code",
   "execution_count": 7,
   "id": "b6761080-cc94-4947-9b6a-fc1d9817ecca",
   "metadata": {},
   "outputs": [
    {
     "name": "stdout",
     "output_type": "stream",
     "text": [
      "236 ns ± 14 ns per loop (mean ± std. dev. of 7 runs, 1,000,000 loops each)\n"
     ]
    }
   ],
   "source": [
    "%%timeit\n",
    "\n",
    "fibonacci(20)"
   ]
  },
  {
   "cell_type": "code",
   "execution_count": 8,
   "id": "f5bd482b-5cfc-42e2-b8c9-d53e74790a23",
   "metadata": {},
   "outputs": [],
   "source": [
    "def fibonacci_no_caching(n):\n",
    "    if n <= 1:\n",
    "        return n\n",
    "    else:\n",
    "        return fibonacci_no_caching(n-1) + fibonacci_no_caching(n-2)"
   ]
  },
  {
   "cell_type": "code",
   "execution_count": 9,
   "id": "0446d781-805b-44f6-8aa8-9e185d7a621a",
   "metadata": {},
   "outputs": [
    {
     "name": "stdout",
     "output_type": "stream",
     "text": [
      "3.88 ms ± 254 µs per loop (mean ± std. dev. of 7 runs, 100 loops each)\n"
     ]
    }
   ],
   "source": [
    "%%timeit\n",
    "\n",
    "fibonacci_no_caching(20)"
   ]
  },
  {
   "cell_type": "markdown",
   "id": "43c23d39-8f47-42f1-b117-e4c7692945db",
   "metadata": {},
   "source": [
    "Here are the execution times for this function with and without caching. Note that the cached version only takes a faction of a millisecond to run, whereas the non-cached version almost took a minute."
   ]
  },
  {
   "cell_type": "markdown",
   "id": "7c9dda0e-c609-422d-8558-c53cea350c72",
   "metadata": {},
   "source": [
    "Using a dictionary to hold previous execution data is a straightforward approach. However, there is a more sophisticated way to store caching data. You can use an in-memory database, such as Redis."
   ]
  },
  {
   "cell_type": "markdown",
   "id": "b34eb6ea-24bc-47be-bf5d-f0c27e493287",
   "metadata": {},
   "source": [
    "# 3. Timing functions"
   ]
  },
  {
   "cell_type": "markdown",
   "id": "bcc3d94a-89bf-4c1e-99c9-b29571c75a89",
   "metadata": {},
   "source": [
    "This one is no surprise. When working with data-intensive functions, we’re eager to learn how long it takes to run.\n",
    "\n",
    "The usual way of doing this is by collecting two timestamps, one at the beginning and another at the end of the function. We can then compute the duration and print it along with the return values.\n",
    "\n",
    "But doing this again and again for multiple functions is a hassle.\n",
    "\n",
    "Instead, we can have a decorator do it. We can annotate any function that needs a duration printed.\n",
    "\n",
    "Here’s an example Python decorator that prints the running time of a function when it’s called:"
   ]
  },
  {
   "cell_type": "code",
   "execution_count": 10,
   "id": "fb2956cd-fffb-4eff-8120-1451c4a7295a",
   "metadata": {},
   "outputs": [],
   "source": [
    "import time"
   ]
  },
  {
   "cell_type": "code",
   "execution_count": 11,
   "id": "5c0767b3-b3cb-4d31-9379-c6ed783c016c",
   "metadata": {},
   "outputs": [],
   "source": [
    "def timing_decorator(func):\n",
    "    def wrapper(*args, **kwargs):\n",
    "        start_time = time.time()\n",
    "        result = func(*args, **kwargs)\n",
    "        end_time = time.time()\n",
    "        print(f\"Function {func.__name__} took {end_time - start_time} seconds to run.\")\n",
    "        return result\n",
    "    return wrapper"
   ]
  },
  {
   "cell_type": "markdown",
   "id": "c4a694ec-ac89-476a-995d-9c0cfc4856b8",
   "metadata": {},
   "source": [
    "You can use this decorator to time the execution of a function:"
   ]
  },
  {
   "cell_type": "code",
   "execution_count": 12,
   "id": "fc5dff91-e173-4a7c-a6bf-90998e941535",
   "metadata": {},
   "outputs": [],
   "source": [
    "@timing_decorator\n",
    "def my_function():\n",
    "    # some code here\n",
    "    fibonacci_no_caching(20)\n",
    "    time.sleep(1)  # simulate some time-consuming operation\n",
    "    return"
   ]
  },
  {
   "cell_type": "markdown",
   "id": "c6bdff0b-83ca-444d-8ae9-2bc78609cb6a",
   "metadata": {},
   "source": [
    "Calling the function would print the time it takes to run."
   ]
  },
  {
   "cell_type": "code",
   "execution_count": 13,
   "id": "0647ec48-784d-4efe-a474-5b96ef205e94",
   "metadata": {},
   "outputs": [
    {
     "name": "stdout",
     "output_type": "stream",
     "text": [
      "Function my_function took 1.014998197555542 seconds to run.\n"
     ]
    }
   ],
   "source": [
    "my_function()"
   ]
  },
  {
   "cell_type": "markdown",
   "id": "cbe968c4-7740-4401-9fe4-6a39fc39c196",
   "metadata": {},
   "source": [
    "# 4. Logging function calls"
   ]
  },
  {
   "cell_type": "markdown",
   "id": "75907997-9ae6-4826-aefd-6c94bf4c5bb3",
   "metadata": {},
   "source": [
    "This one is very much an extension of the previous decorator. But it has some particular uses.\n",
    "\n",
    "If you follow software design principles, you’d appreciate the single responsibility principle. This essentially means each function will have its one and only one responsibility."
   ]
  },
  {
   "cell_type": "markdown",
   "id": "2401e509-881b-4ee6-9d7e-f4da11f63ac5",
   "metadata": {},
   "source": [
    "When you design your code in such a way, you’d also want to log the execution information of your functions. This is where logging decorators come in handy.\n",
    "\n",
    "The following example illustrates this."
   ]
  },
  {
   "cell_type": "code",
   "execution_count": 14,
   "id": "df5064c6-93a3-47df-8446-20f5400b34ad",
   "metadata": {},
   "outputs": [],
   "source": [
    "import logging"
   ]
  },
  {
   "cell_type": "code",
   "execution_count": 15,
   "id": "b6f6c3a8-bcde-4215-9cd4-35b1f07afcc4",
   "metadata": {},
   "outputs": [],
   "source": [
    "logging.basicConfig(level=logging.INFO)"
   ]
  },
  {
   "cell_type": "code",
   "execution_count": 16,
   "id": "f41c6132-1c3b-4ae8-85da-e6c2495f3e8b",
   "metadata": {},
   "outputs": [],
   "source": [
    "def log_execution(func):\n",
    "    @functools.wraps(func)\n",
    "    def wrapper(*args, **kwargs):\n",
    "        logging.info(f\"Executing {func.__name__}\")\n",
    "        result = func(*args, **kwargs)\n",
    "        logging.info(f\"Finished executing {func.__name__}\")\n",
    "        return result\n",
    "    return wrapper"
   ]
  },
  {
   "cell_type": "code",
   "execution_count": 17,
   "id": "fa91e881-0cbe-4016-b7fb-d590cd668787",
   "metadata": {},
   "outputs": [],
   "source": [
    "@log_execution\n",
    "def extract_data(source):\n",
    "    # extract data from source\n",
    "    data = ...\n",
    "\n",
    "    return data\n",
    "\n",
    "@log_execution\n",
    "def transform_data(data):\n",
    "    # transform data\n",
    "    transformed_data = ...\n",
    "\n",
    "    return transformed_data\n",
    "\n",
    "@log_execution\n",
    "def load_data(data, target):\n",
    "    # load data into target\n",
    "    ..."
   ]
  },
  {
   "cell_type": "code",
   "execution_count": 18,
   "id": "1b886063-289f-46fa-a583-0d5f28beaf9a",
   "metadata": {},
   "outputs": [],
   "source": [
    "def main():\n",
    "    # extract data\n",
    "    data = extract_data(source)\n",
    "\n",
    "    # transform data\n",
    "    transformed_data = transform_data(data)\n",
    "\n",
    "    # load data\n",
    "    load_data(transformed_data, target)"
   ]
  },
  {
   "cell_type": "markdown",
   "id": "a649bed1-3ef5-4be8-96fb-66a5d778952a",
   "metadata": {},
   "source": [
    "The above code is a simplified version of an ETL(\"extract, transform, load\") pipeline. We have three separate functions to handle each extract, transform, and load. We have wrapped each of them using our log_execution decorator.\n",
    "\n",
    "Now, whenever the code is executed, you’d see an output similar to this:"
   ]
  },
  {
   "cell_type": "markdown",
   "id": "e5556c37-9a3d-431a-8a32-326026eabfaf",
   "metadata": {},
   "source": [
    "`INFO:root:Executing extract_data`\n",
    "\n",
    "`INFO:root:Finished executing extract_data`\n",
    "\n",
    "`INFO:root:Executing transform_data`\n",
    "\n",
    "`INFO:root:Finished executing transform_data`\n",
    "\n",
    "`INFO:root:Executing load_data`\n",
    "\n",
    "`INFO:root:Finished executing load_data`"
   ]
  },
  {
   "cell_type": "markdown",
   "id": "4fb4553f-8975-49cf-b556-34c6bfaf0442",
   "metadata": {},
   "source": [
    "We could also have the execution time printed inside this decorator. But I’d love to have them both in separate decorators. That way, I can choose which one (or both) to use for a function.\n",
    "\n",
    "Here’s how to use multiple decorators on a single function."
   ]
  },
  {
   "cell_type": "code",
   "execution_count": 19,
   "id": "b785a991-0acc-460c-b0cb-b849109826eb",
   "metadata": {},
   "outputs": [],
   "source": [
    "@log_execution\n",
    "@timing_decorator\n",
    "def my_function(x, y):\n",
    "    time.sleep(1)\n",
    "    return x + y"
   ]
  },
  {
   "cell_type": "markdown",
   "id": "8c852813-3a2d-4b0c-a8bc-53ae64c6d99a",
   "metadata": {},
   "source": [
    "# 5. Notification decorator"
   ]
  },
  {
   "cell_type": "markdown",
   "id": "22317f44-6ab2-4a87-8424-af297a3695e5",
   "metadata": {},
   "source": [
    "Finally, a very useful decorator in production systems is the notification decorator.\n",
    "\n",
    "Once again, even with several retries, even a well-tested codebase fails. And when that happens, we need to inform someone about it to take quick action.\n",
    "\n",
    "This isn’t new if you’ve ever built a data pipeline and hoped it would work fine forever.\n",
    "\n",
    "The following decorator sends an email whenever the execution of the inner function fails. It doesn’t have to be an email notification in your case. You can configure it to send a Teams/slack notification."
   ]
  },
  {
   "cell_type": "code",
   "execution_count": 20,
   "id": "e845fea0-094d-40d8-bb82-f162db19550c",
   "metadata": {},
   "outputs": [],
   "source": [
    "import smtplib\n",
    "import traceback\n",
    "from email.mime.text import MIMEText"
   ]
  },
  {
   "cell_type": "code",
   "execution_count": 21,
   "id": "bb652218-cebc-4c80-9fad-e777efe8fa93",
   "metadata": {},
   "outputs": [],
   "source": [
    "def email_on_failure(sender_email, password, recipient_email):\n",
    "    def decorator(func):\n",
    "        def wrapper(*args, **kwargs):\n",
    "            try:\n",
    "                return func(*args, **kwargs)\n",
    "            except Exception as e:\n",
    "                # format the error message and traceback\n",
    "                err_msg = f\"Error: {str(e)}\\n\\nTraceback:\\n{traceback.format_exc()}\"\n",
    "                \n",
    "                # create the email message\n",
    "                message = MIMEText(err_msg)\n",
    "                message['Subject'] = f\"{func.__name__} failed\"\n",
    "                message['From'] = sender_email\n",
    "                message['To'] = recipient_email\n",
    "                \n",
    "                # send the email\n",
    "                with smtplib.SMTP_SSL('smtp.gmail.com', 465) as smtp:\n",
    "                    smtp.login(sender_email, password)\n",
    "                    smtp.sendmail(sender_email, recipient_email, message.as_string())\n",
    "                    \n",
    "                # re-raise the exception\n",
    "                raise\n",
    "                \n",
    "        return wrapper\n",
    "    \n",
    "    return decorator"
   ]
  },
  {
   "cell_type": "code",
   "execution_count": 22,
   "id": "08d8fa86-6d27-47d7-9c5a-b8fd86d1d2be",
   "metadata": {},
   "outputs": [],
   "source": [
    "@email_on_failure(sender_email='your_email@gmail.com', password='your_password', recipient_email='recipient_email@gmail.com')\n",
    "def my_function():\n",
    "    # code that might fail\n",
    "    return ..."
   ]
  },
  {
   "cell_type": "code",
   "execution_count": null,
   "id": "dffbcb6d-312e-404f-b238-fd5e7a86992f",
   "metadata": {},
   "outputs": [],
   "source": []
  }
 ],
 "metadata": {
  "kernelspec": {
   "display_name": "Python [conda env:ls_env]",
   "language": "python",
   "name": "conda-env-ls_env-py"
  },
  "language_info": {
   "codemirror_mode": {
    "name": "ipython",
    "version": 3
   },
   "file_extension": ".py",
   "mimetype": "text/x-python",
   "name": "python",
   "nbconvert_exporter": "python",
   "pygments_lexer": "ipython3",
   "version": "3.10.8"
  }
 },
 "nbformat": 4,
 "nbformat_minor": 5
}
