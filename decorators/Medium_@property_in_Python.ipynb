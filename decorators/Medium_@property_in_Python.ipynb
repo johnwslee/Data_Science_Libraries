{
 "cells": [
  {
   "cell_type": "markdown",
   "id": "751059a1-2914-4299-b8b0-2a0de69ab474",
   "metadata": {},
   "source": [
    "The following is from [this article](https://medium.com/better-programming/python-property-decorators-e370c39c7796) in Medium."
   ]
  },
  {
   "cell_type": "markdown",
   "id": "acc03972-b294-4482-890e-0ffac180cf12",
   "metadata": {},
   "source": [
    "The `@property` in Python is a property decorator. It makes it possible to access an object’s method like a regular attribute:"
   ]
  },
  {
   "cell_type": "raw",
   "id": "61189b2b-2622-49fa-af0e-aebeadf8184c",
   "metadata": {},
   "source": [
    "mass.pounds() ---> mass.pounds"
   ]
  },
  {
   "cell_type": "markdown",
   "id": "3a81e830-92ca-4fd4-b09c-0f476b57900f",
   "metadata": {},
   "source": [
    "You can use property decorators to give a method of a class the getter, setter, and deleter functionality."
   ]
  },
  {
   "cell_type": "markdown",
   "id": "e0da30d6-7ac3-4344-ab5a-5a9e23593165",
   "metadata": {},
   "source": [
    "# @property in Python"
   ]
  },
  {
   "cell_type": "markdown",
   "id": "9d6d925e-47ae-4977-bbe8-732592692764",
   "metadata": {},
   "source": [
    "## Example"
   ]
  },
  {
   "cell_type": "markdown",
   "id": "70997e39-5842-4c00-bb2f-bc26384efb86",
   "metadata": {},
   "source": [
    "Say you have a Mass class that stores the mass in kilos and pounds."
   ]
  },
  {
   "cell_type": "code",
   "execution_count": 1,
   "id": "c1e46bae-8fc1-43b5-a44d-5e6fcfcf5d22",
   "metadata": {},
   "outputs": [],
   "source": [
    "class Mass:\n",
    "    def __init__(self, kilos):\n",
    "        self.kilos = kilos\n",
    "        self.pounds = kilos * 2.205"
   ]
  },
  {
   "cell_type": "code",
   "execution_count": 2,
   "id": "4124a18c-dc14-4c15-b73a-b68bb433b33c",
   "metadata": {},
   "outputs": [],
   "source": [
    "mass = Mass(100)"
   ]
  },
  {
   "cell_type": "code",
   "execution_count": 3,
   "id": "32595e0d-1c40-46c5-8d1b-64a876cc4551",
   "metadata": {},
   "outputs": [
    {
     "data": {
      "text/plain": [
       "100"
      ]
     },
     "execution_count": 3,
     "metadata": {},
     "output_type": "execute_result"
    }
   ],
   "source": [
    "mass.kilos"
   ]
  },
  {
   "cell_type": "code",
   "execution_count": 4,
   "id": "34320c2b-9c60-4b52-be98-88283023dc7e",
   "metadata": {},
   "outputs": [
    {
     "data": {
      "text/plain": [
       "220.5"
      ]
     },
     "execution_count": 4,
     "metadata": {},
     "output_type": "execute_result"
    }
   ],
   "source": [
    "mass.pounds"
   ]
  },
  {
   "cell_type": "markdown",
   "id": "863c3f0b-a3c5-44dc-aef3-bcea3daa1856",
   "metadata": {},
   "source": [
    "Let’s change the number of kilos and see what happens to pounds:"
   ]
  },
  {
   "cell_type": "code",
   "execution_count": 5,
   "id": "b4d13f36-0bd0-4f00-8d08-1309c663e5b5",
   "metadata": {},
   "outputs": [],
   "source": [
    "mass.kilos = 500"
   ]
  },
  {
   "cell_type": "code",
   "execution_count": 6,
   "id": "36a359fd-5b37-4032-a8ea-5938da7d3b6b",
   "metadata": {},
   "outputs": [
    {
     "data": {
      "text/plain": [
       "220.5"
      ]
     },
     "execution_count": 6,
     "metadata": {},
     "output_type": "execute_result"
    }
   ],
   "source": [
    "mass.pounds"
   ]
  },
  {
   "cell_type": "markdown",
   "id": "e3b05f85-b57f-4dd5-9a62-745d0691bb1f",
   "metadata": {},
   "source": [
    "The pounds remained the same. This is because it was not updated."
   ]
  },
  {
   "cell_type": "markdown",
   "id": "3723f1b9-2b80-4613-948c-2fc0db831217",
   "metadata": {},
   "source": [
    "You can solve this problem by creating a `pounds()` method and getting rid of the `pounds` attribute. This method converts kilos to pounds:"
   ]
  },
  {
   "cell_type": "code",
   "execution_count": 7,
   "id": "d32a50e5-3090-4bd6-97e2-f790b18d0656",
   "metadata": {},
   "outputs": [],
   "source": [
    "class Mass:\n",
    "    def __init__(self, kilos):\n",
    "        self.kilos = kilos\n",
    "\n",
    "    def pounds(self):\n",
    "        return self.kilos * 2.205"
   ]
  },
  {
   "cell_type": "markdown",
   "id": "1eb0f6b2-5997-43e0-8e6a-ca91d335f658",
   "metadata": {},
   "source": [
    "Now you can change the number of kilos and the pounds will always be up to date:"
   ]
  },
  {
   "cell_type": "code",
   "execution_count": 8,
   "id": "b27be124-64d6-4405-b5bb-d81191845d91",
   "metadata": {},
   "outputs": [],
   "source": [
    "mass = Mass(100)"
   ]
  },
  {
   "cell_type": "code",
   "execution_count": 9,
   "id": "c29352fa-ff23-4712-89b6-649e60fc753e",
   "metadata": {},
   "outputs": [
    {
     "data": {
      "text/plain": [
       "220.5"
      ]
     },
     "execution_count": 9,
     "metadata": {},
     "output_type": "execute_result"
    }
   ],
   "source": [
    "mass.pounds()"
   ]
  },
  {
   "cell_type": "code",
   "execution_count": 10,
   "id": "280a7d2b-da8e-486b-ae85-87ea2f350d67",
   "metadata": {},
   "outputs": [],
   "source": [
    "mass.kilos = 500"
   ]
  },
  {
   "cell_type": "code",
   "execution_count": 11,
   "id": "dbcbd2b4-bb89-4007-835d-de837708fbfb",
   "metadata": {},
   "outputs": [
    {
     "data": {
      "text/plain": [
       "1102.5"
      ]
     },
     "execution_count": 11,
     "metadata": {},
     "output_type": "execute_result"
    }
   ],
   "source": [
    "mass.pounds()"
   ]
  },
  {
   "cell_type": "code",
   "execution_count": 12,
   "id": "bbd10396-329f-43f1-89b1-1a6afa94379c",
   "metadata": {},
   "outputs": [
    {
     "data": {
      "text/plain": [
       "<bound method Mass.pounds of <__main__.Mass object at 0x000001AA96862500>>"
      ]
     },
     "execution_count": 12,
     "metadata": {},
     "output_type": "execute_result"
    }
   ],
   "source": [
    "mass.pounds"
   ]
  },
  {
   "cell_type": "markdown",
   "id": "6193c80b-3b8c-43f0-b88b-b24af96a1d03",
   "metadata": {},
   "source": [
    "After this change, you can’t call `mass.pounds` without parentheses anymore. This is because `pounds()` is now a method — not an attribute.\n",
    "\n",
    "If the `Mass` class is used elsewhere, this can break the code.\n",
    "\n",
    "This is where an `@property` decorator helps.\n",
    "\n",
    "If you mark the `pounds()` method with `@property`, it allows you to call `mass.pounds` without parentheses again:"
   ]
  },
  {
   "cell_type": "code",
   "execution_count": 13,
   "id": "f9dd3ca4-e75c-4e43-b39f-e043378c8d55",
   "metadata": {},
   "outputs": [],
   "source": [
    "class Mass:\n",
    "    def __init__(self, kilos):\n",
    "        self.kilos = kilos\n",
    "\n",
    "    @property\n",
    "    def pounds(self):\n",
    "        return self.kilos * 2.205"
   ]
  },
  {
   "cell_type": "code",
   "execution_count": 14,
   "id": "583af163-78ca-4809-8f29-7d02ede62f17",
   "metadata": {},
   "outputs": [],
   "source": [
    "mass = Mass(100)"
   ]
  },
  {
   "cell_type": "code",
   "execution_count": 15,
   "id": "4cbc571e-c854-49b7-bbeb-cd2be22f9df7",
   "metadata": {},
   "outputs": [
    {
     "data": {
      "text/plain": [
       "220.5"
      ]
     },
     "execution_count": 15,
     "metadata": {},
     "output_type": "execute_result"
    }
   ],
   "source": [
    "mass.pounds"
   ]
  },
  {
   "cell_type": "code",
   "execution_count": 16,
   "id": "7a0b471d-fe50-4bac-94bd-47a4e0c2c107",
   "metadata": {},
   "outputs": [],
   "source": [
    "mass.kilos = 500"
   ]
  },
  {
   "cell_type": "code",
   "execution_count": 17,
   "id": "a93ac636-6f6e-47ed-83a8-b506dd6db899",
   "metadata": {},
   "outputs": [
    {
     "data": {
      "text/plain": [
       "1102.5"
      ]
     },
     "execution_count": 17,
     "metadata": {},
     "output_type": "execute_result"
    }
   ],
   "source": [
    "mass.pounds"
   ]
  },
  {
   "cell_type": "markdown",
   "id": "b52e5915-9841-483e-b788-1b630d96fc0c",
   "metadata": {},
   "source": [
    "It works like a charm. The `pounds()` method is now called a *getter* method. It does not store the number of pounds in the object, but it can get it by converting kilos to pounds."
   ]
  },
  {
   "cell_type": "markdown",
   "id": "61c18f97-1417-4c6c-9acf-d6d44a3a075a",
   "metadata": {},
   "source": [
    "After this change, wouldn’t it make sense if you could update the pounds like this?"
   ]
  },
  {
   "cell_type": "code",
   "execution_count": 18,
   "id": "e2e38d3a-749b-43e8-9d63-b90ce891854c",
   "metadata": {},
   "outputs": [
    {
     "ename": "AttributeError",
     "evalue": "can't set attribute 'pounds'",
     "output_type": "error",
     "traceback": [
      "\u001b[1;31m---------------------------------------------------------------------------\u001b[0m",
      "\u001b[1;31mAttributeError\u001b[0m                            Traceback (most recent call last)",
      "Cell \u001b[1;32mIn[18], line 1\u001b[0m\n\u001b[1;32m----> 1\u001b[0m \u001b[43mmass\u001b[49m\u001b[38;5;241;43m.\u001b[39;49m\u001b[43mpounds\u001b[49m \u001b[38;5;241m=\u001b[39m \u001b[38;5;241m1000\u001b[39m\n",
      "\u001b[1;31mAttributeError\u001b[0m: can't set attribute 'pounds'"
     ]
    }
   ],
   "source": [
    "mass.pounds = 1000"
   ]
  },
  {
   "cell_type": "markdown",
   "id": "46bd5eb5-6e3e-4679-812b-767d4dcf77a1",
   "metadata": {},
   "source": [
    "The error says you cannot set the `pounds` attribute. This is reasonable because `pounds()` is still a method that does not store the number of pounds in the object. So you can only get the number of pounds but not set it."
   ]
  },
  {
   "cell_type": "markdown",
   "id": "7a4da4bc-409b-4030-8d91-e04bab20a6e6",
   "metadata": {},
   "source": [
    "But you can change the number of kilos. So you can make it possible to indirectly change the number of kilos via `mass.pounds` using a *setter* method."
   ]
  },
  {
   "cell_type": "markdown",
   "id": "0a3d02b5-d8e8-4646-8d99-c27324753074",
   "metadata": {},
   "source": [
    "To be able to set the number of pounds, define a setter method. This method:\n",
    "\n",
    "- Takes the new number of pounds.\n",
    "- Converts it to kilos.\n",
    "- Assigns the kilos to the mass object.\n",
    "\n",
    "To turn this into code, add a setter method also named `pounds()` to the `Mass` class:"
   ]
  },
  {
   "cell_type": "raw",
   "id": "98423bee-3ca6-4635-89ae-9dfd699cb98a",
   "metadata": {},
   "source": [
    "@pounds.setter\n",
    "def pounds(self, pounds):\n",
    "    self.kilos = pounds / 2.205"
   ]
  },
  {
   "cell_type": "markdown",
   "id": "b0c5374e-8294-424a-8353-630b360415df",
   "metadata": {},
   "source": [
    "Now the mass class looks like this:"
   ]
  },
  {
   "cell_type": "code",
   "execution_count": 19,
   "id": "55ca2fec-9dcf-4d25-a053-086aee014eca",
   "metadata": {},
   "outputs": [],
   "source": [
    "class Mass:\n",
    "    def __init__(self, kilos):\n",
    "        self.kilos = kilos\n",
    "\n",
    "    @property\n",
    "    def pounds(self):\n",
    "        return self.kilos * 2.205\n",
    "\n",
    "    @pounds.setter\n",
    "    def pounds(self, pounds):\n",
    "        self.kilos = pounds / 2.205"
   ]
  },
  {
   "cell_type": "markdown",
   "id": "21322a46-7b45-41b6-9d6e-7a4038f9fa23",
   "metadata": {},
   "source": [
    "You can test the `Mass` class:"
   ]
  },
  {
   "cell_type": "code",
   "execution_count": 20,
   "id": "2966c3c3-4241-4e47-bcd3-a8669b2f18c9",
   "metadata": {},
   "outputs": [],
   "source": [
    "mass = Mass(100)"
   ]
  },
  {
   "cell_type": "code",
   "execution_count": 21,
   "id": "e65fea2f-d3ee-4ca0-852c-0f2f502d5fc1",
   "metadata": {},
   "outputs": [
    {
     "data": {
      "text/plain": [
       "100"
      ]
     },
     "execution_count": 21,
     "metadata": {},
     "output_type": "execute_result"
    }
   ],
   "source": [
    "mass.kilos"
   ]
  },
  {
   "cell_type": "code",
   "execution_count": 22,
   "id": "5548816c-40fb-4194-bd23-7cc22f85da4b",
   "metadata": {},
   "outputs": [
    {
     "data": {
      "text/plain": [
       "220.5"
      ]
     },
     "execution_count": 22,
     "metadata": {},
     "output_type": "execute_result"
    }
   ],
   "source": [
    "mass.pounds"
   ]
  },
  {
   "cell_type": "code",
   "execution_count": 23,
   "id": "008917c5-88c4-4a8c-aef9-bb5fbfbcc238",
   "metadata": {},
   "outputs": [],
   "source": [
    "mass.pounds = 1100"
   ]
  },
  {
   "cell_type": "code",
   "execution_count": 24,
   "id": "0ed262b5-9347-4d80-9ecc-9703613f59ff",
   "metadata": {},
   "outputs": [
    {
     "data": {
      "text/plain": [
       "498.8662131519274"
      ]
     },
     "execution_count": 24,
     "metadata": {},
     "output_type": "execute_result"
    }
   ],
   "source": [
    "mass.kilos"
   ]
  },
  {
   "cell_type": "code",
   "execution_count": 25,
   "id": "4018d702-774c-445b-868c-b657f12132f6",
   "metadata": {},
   "outputs": [
    {
     "data": {
      "text/plain": [
       "1100.0"
      ]
     },
     "execution_count": 25,
     "metadata": {},
     "output_type": "execute_result"
    }
   ],
   "source": [
    "mass.pounds"
   ]
  },
  {
   "cell_type": "markdown",
   "id": "1b3d443c-a3f2-48f5-b754-e6b2522de0de",
   "metadata": {},
   "source": [
    "Now you have a way to access and indirectly modify the `pounds`.\n",
    "\n",
    "But what if you want to delete the pounds calling `del mass.pounds`? This is not meaningful because `pounds` is not stored in the object.\n",
    "\n",
    "But you can create a *deleter* method for pounds that indirectly deletes the kilos.\n",
    "\n",
    "For example, add a `pounds()` deleter method to the `Mass` class:"
   ]
  },
  {
   "cell_type": "raw",
   "id": "4c40536d-bb42-4679-97c5-81b253cdf3ee",
   "metadata": {},
   "source": [
    "@pounds.deleter\n",
    "def pounds(self):\n",
    "    print(\"Resetting mass!\")\n",
    "    self.kilos = 0"
   ]
  },
  {
   "cell_type": "markdown",
   "id": "df7175ef-da0e-4cec-95ad-dda6934ebd3e",
   "metadata": {},
   "source": [
    "In this deleter, the number of kilos is set to `0` and a message is printed to the console.\n",
    "\n",
    "Here’s the final version of the `Mass` class:"
   ]
  },
  {
   "cell_type": "code",
   "execution_count": 26,
   "id": "6aef5124-ca60-4332-a603-12f06848e394",
   "metadata": {},
   "outputs": [],
   "source": [
    "class Mass:\n",
    "    def __init__(self, kilos):\n",
    "        self.kilos = kilos\n",
    "\n",
    "    @property\n",
    "    def pounds(self):\n",
    "        return self.kilos * 2.205\n",
    "\n",
    "    @pounds.setter\n",
    "    def pounds(self, pounds):\n",
    "        self.kilos = pounds / 2.205\n",
    "\n",
    "    @pounds.deleter\n",
    "    def pounds(self):\n",
    "        print(\"Resetting mass!\")\n",
    "        self.kilos = 0"
   ]
  },
  {
   "cell_type": "markdown",
   "id": "3ac1f565-1407-4876-824e-b8bc6da4dee5",
   "metadata": {},
   "source": [
    "It does not store the number of pounds. Instead, it has three `pounds()` methods. One for indirectly:\n",
    "\n",
    "- Getting the pounds.\n",
    "- Setting the pounds.\n",
    "- Deleting the pounds.\n",
    "\n",
    "Each of these methods indirectly modifies the kilos but syntactically works with pounds.\n",
    "\n",
    "Let’s create a final `Mass` object and delete `pounds` to see what happens:"
   ]
  },
  {
   "cell_type": "code",
   "execution_count": 27,
   "id": "b972c9c1-b11e-4e8a-bcea-d07cd21a1b06",
   "metadata": {},
   "outputs": [],
   "source": [
    "mass = Mass(100)"
   ]
  },
  {
   "cell_type": "code",
   "execution_count": 28,
   "id": "e642c763-18c5-4483-9714-b1e01e28e5f9",
   "metadata": {},
   "outputs": [
    {
     "name": "stdout",
     "output_type": "stream",
     "text": [
      "Resetting mass!\n"
     ]
    }
   ],
   "source": [
    "del mass.pounds"
   ]
  },
  {
   "cell_type": "code",
   "execution_count": 29,
   "id": "bbbb16f7-3491-42f0-a81a-131ddf72a799",
   "metadata": {},
   "outputs": [
    {
     "data": {
      "text/plain": [
       "0"
      ]
     },
     "execution_count": 29,
     "metadata": {},
     "output_type": "execute_result"
    }
   ],
   "source": [
    "mass.kilos"
   ]
  },
  {
   "cell_type": "code",
   "execution_count": 30,
   "id": "b4382046-49d9-4d09-bfca-fb26fb120ed5",
   "metadata": {},
   "outputs": [
    {
     "data": {
      "text/plain": [
       "0.0"
      ]
     },
     "execution_count": 30,
     "metadata": {},
     "output_type": "execute_result"
    }
   ],
   "source": [
    "mass.pounds"
   ]
  },
  {
   "cell_type": "markdown",
   "id": "a9f0bae6-8953-4d03-a67b-348a9df3e42c",
   "metadata": {},
   "source": [
    "# Conclusion"
   ]
  },
  {
   "cell_type": "markdown",
   "id": "af6c5f2b-2ff6-4fdc-b981-29c484682590",
   "metadata": {},
   "source": [
    "`@property` in Python makes it possible to call a method like an attribute:"
   ]
  },
  {
   "cell_type": "raw",
   "id": "287f606f-cebb-4d62-b0fc-4da1772828ab",
   "metadata": {},
   "source": [
    "mass.pounds() ---> mass.pounds"
   ]
  },
  {
   "cell_type": "markdown",
   "id": "10a98f80-725b-42d5-92b8-a3c49e3f60bc",
   "metadata": {},
   "source": [
    "You can use property decorators to indirectly modify an attribute of an object. To do this, you need to define getter, setter, and deleter methods."
   ]
  },
  {
   "cell_type": "code",
   "execution_count": null,
   "id": "39ee2907-4777-481c-843c-566b76a44af9",
   "metadata": {},
   "outputs": [],
   "source": []
  }
 ],
 "metadata": {
  "kernelspec": {
   "display_name": "Python [conda env:ls_env]",
   "language": "python",
   "name": "conda-env-ls_env-py"
  },
  "language_info": {
   "codemirror_mode": {
    "name": "ipython",
    "version": 3
   },
   "file_extension": ".py",
   "mimetype": "text/x-python",
   "name": "python",
   "nbconvert_exporter": "python",
   "pygments_lexer": "ipython3",
   "version": "3.10.8"
  }
 },
 "nbformat": 4,
 "nbformat_minor": 5
}
