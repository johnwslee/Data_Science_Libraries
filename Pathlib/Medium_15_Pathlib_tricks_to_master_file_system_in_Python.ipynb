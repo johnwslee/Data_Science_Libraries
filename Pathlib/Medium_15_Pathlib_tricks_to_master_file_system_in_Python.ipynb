{
 "cells": [
  {
   "cell_type": "markdown",
   "id": "ef4d4ca1-7674-405c-81d4-e7e7117d269b",
   "metadata": {},
   "source": [
    "# Motivation"
   ]
  },
  {
   "cell_type": "markdown",
   "id": "13320ac8-db88-470b-94ef-1de3c89c02c3",
   "metadata": {},
   "source": [
    "The biggest drawback of `os.path` was treating system paths as strings, which led to unreadable, messy code and a steep learning curve.\n",
    "\n",
    "By representing paths as fully-fledged objects, Pathlib solves all these issues and introduces elegance, consistency, and a breath of fresh air into path handling.\n",
    "\n",
    "And this long-overdue article of mine will outline some of the best functions/features and tricks of `pathlib` to perform tasks that would have been truly horrible experiences in `os.path`.\n",
    "\n",
    "Learning these features of Pathlib will make everything related to paths and files easier for you as a data professional, especially during data processing workflows where you have to move around thousands of images, CSVs, or audio files."
   ]
  },
  {
   "cell_type": "markdown",
   "id": "57e834b8-5719-46af-9a32-b9ae2efd68f9",
   "metadata": {},
   "source": [
    "# Working with paths"
   ]
  },
  {
   "cell_type": "markdown",
   "id": "123a990a-c27f-4b81-8661-46db7372587d",
   "metadata": {},
   "source": [
    "## 1. Creating paths"
   ]
  },
  {
   "cell_type": "markdown",
   "id": "93225c63-0311-4939-ae4c-d5a74ebb65cd",
   "metadata": {},
   "source": [
    "Almost all features of `pathlib` is accessible through its `Path` class, which you can use to create paths to files and directories.\n",
    "\n",
    "There are a few ways you can create paths with `Path`. First, there are class methods like `cwd` and `home` for the current working and the home user directories:"
   ]
  },
  {
   "cell_type": "code",
   "execution_count": 1,
   "id": "2c9c69a7-9954-4a69-abe8-015bad278af4",
   "metadata": {},
   "outputs": [],
   "source": [
    "from pathlib import Path"
   ]
  },
  {
   "cell_type": "code",
   "execution_count": 2,
   "id": "c21ee233-6908-4c20-bdb9-2edf024e863c",
   "metadata": {},
   "outputs": [
    {
     "data": {
      "text/plain": [
       "WindowsPath('C:/Users/johnw/Data_Science_Libraries/Pathlib')"
      ]
     },
     "execution_count": 2,
     "metadata": {},
     "output_type": "execute_result"
    }
   ],
   "source": [
    "Path.cwd()"
   ]
  },
  {
   "cell_type": "code",
   "execution_count": 3,
   "id": "a01b8af1-56d8-4be5-9fe7-d0adff86093e",
   "metadata": {},
   "outputs": [
    {
     "data": {
      "text/plain": [
       "WindowsPath('C:/Users/johnw')"
      ]
     },
     "execution_count": 3,
     "metadata": {},
     "output_type": "execute_result"
    }
   ],
   "source": [
    "Path.home()"
   ]
  },
  {
   "cell_type": "markdown",
   "id": "f72efaf6-3d5f-4706-b372-d2d463f6c64c",
   "metadata": {},
   "source": [
    "You can also create paths from string paths:"
   ]
  },
  {
   "cell_type": "code",
   "execution_count": 4,
   "id": "5004d8cb-046a-4488-8bbb-2884478f196e",
   "metadata": {},
   "outputs": [
    {
     "data": {
      "text/plain": [
       "WindowsPath('documents')"
      ]
     },
     "execution_count": 4,
     "metadata": {},
     "output_type": "execute_result"
    }
   ],
   "source": [
    "p = Path(\"documents\")\n",
    "p"
   ]
  },
  {
   "cell_type": "markdown",
   "id": "c01baa40-c10a-40fd-b6f4-9711e5ac62d9",
   "metadata": {},
   "source": [
    "Joining paths is a breeze in Pathlib with the **forward slash operator**:"
   ]
  },
  {
   "cell_type": "code",
   "execution_count": 5,
   "id": "bf8625d4-2ccd-4d40-ba93-54745ee831d8",
   "metadata": {},
   "outputs": [
    {
     "data": {
      "text/plain": [
       "WindowsPath('data')"
      ]
     },
     "execution_count": 5,
     "metadata": {},
     "output_type": "execute_result"
    }
   ],
   "source": [
    "data_dir = Path(\".\") / \"data\"  # . does nothing\n",
    "data_dir"
   ]
  },
  {
   "cell_type": "code",
   "execution_count": 6,
   "id": "705c7adc-7c0a-4da1-8d59-10be3815a94b",
   "metadata": {},
   "outputs": [
    {
     "data": {
      "text/plain": [
       "WindowsPath('data/file.csv')"
      ]
     },
     "execution_count": 6,
     "metadata": {},
     "output_type": "execute_result"
    }
   ],
   "source": [
    "csv_file = data_dir / \"file.csv\"\n",
    "csv_file"
   ]
  },
  {
   "cell_type": "markdown",
   "id": "868050d6-dda6-4441-8cdb-36ee2cb8ec32",
   "metadata": {},
   "source": [
    "Please, don't let anyone ever catch you using `os.path.join` after this.\n",
    "\n",
    "To check whether a path, you can use the boolean function `exists`:"
   ]
  },
  {
   "cell_type": "code",
   "execution_count": 7,
   "id": "267d45e5-1b9e-44a4-94ed-e2e696bddc7a",
   "metadata": {},
   "outputs": [
    {
     "data": {
      "text/plain": [
       "True"
      ]
     },
     "execution_count": 7,
     "metadata": {},
     "output_type": "execute_result"
    }
   ],
   "source": [
    "data_dir.exists()"
   ]
  },
  {
   "cell_type": "code",
   "execution_count": 8,
   "id": "10db9aeb-b6f3-44d0-9bb1-828945e14951",
   "metadata": {
    "tags": []
   },
   "outputs": [
    {
     "data": {
      "text/plain": [
       "True"
      ]
     },
     "execution_count": 8,
     "metadata": {},
     "output_type": "execute_result"
    }
   ],
   "source": [
    "csv_file.exists()"
   ]
  },
  {
   "cell_type": "markdown",
   "id": "cfbd8e05-c0c8-4a8f-8fb1-757de97d5855",
   "metadata": {},
   "source": [
    "Sometimes, the entire Path object won’t be visible, and you have to check whether it is a directory or a file. So, you can use `is_dir` or `is_file` functions to do it:"
   ]
  },
  {
   "cell_type": "code",
   "execution_count": 9,
   "id": "bc3ddc9d-6840-46dc-a946-14546292f3a2",
   "metadata": {},
   "outputs": [
    {
     "data": {
      "text/plain": [
       "True"
      ]
     },
     "execution_count": 9,
     "metadata": {},
     "output_type": "execute_result"
    }
   ],
   "source": [
    "data_dir.is_dir()"
   ]
  },
  {
   "cell_type": "code",
   "execution_count": 10,
   "id": "38c7529f-fc0b-407f-a7d3-e8f61bae97b9",
   "metadata": {},
   "outputs": [
    {
     "data": {
      "text/plain": [
       "True"
      ]
     },
     "execution_count": 10,
     "metadata": {},
     "output_type": "execute_result"
    }
   ],
   "source": [
    "csv_file.is_file()"
   ]
  },
  {
   "cell_type": "markdown",
   "id": "f5bdd170-4789-4e4f-b96b-7006e990e7e2",
   "metadata": {},
   "source": [
    "Most paths you work with will be relative to your current directory. But, there are cases where you have to provide the exact location of a file or a directory to make it accessible from any Python script. This is when you use `absolute` paths:"
   ]
  },
  {
   "cell_type": "code",
   "execution_count": 11,
   "id": "c4470e9b-483c-4925-90f8-de4a0da17c6e",
   "metadata": {},
   "outputs": [
    {
     "data": {
      "text/plain": [
       "WindowsPath('C:/Users/johnw/Data_Science_Libraries/Pathlib/data/file.csv')"
      ]
     },
     "execution_count": 11,
     "metadata": {},
     "output_type": "execute_result"
    }
   ],
   "source": [
    "csv_file.absolute()"
   ]
  },
  {
   "cell_type": "markdown",
   "id": "66778d6f-943d-473f-a22e-c06bbec41d8b",
   "metadata": {},
   "source": [
    "Lastly, if you have the misfortune of working with libraries that still require string paths, you can call `str(path)`:"
   ]
  },
  {
   "cell_type": "code",
   "execution_count": 12,
   "id": "583edcb3-874c-49e0-aa86-bedf9de2253a",
   "metadata": {},
   "outputs": [
    {
     "data": {
      "text/plain": [
       "'C:\\\\Users\\\\johnw'"
      ]
     },
     "execution_count": 12,
     "metadata": {},
     "output_type": "execute_result"
    }
   ],
   "source": [
    "str(Path.home())"
   ]
  },
  {
   "cell_type": "markdown",
   "id": "08348166-3172-4ef2-a758-1018ae1335bd",
   "metadata": {},
   "source": [
    "Most libraries in the data stack have long supported `Path` objects, including `sklearn`, `pandas`, `matplotlib`, `seaborn`, etc."
   ]
  },
  {
   "cell_type": "markdown",
   "id": "d5b5b8d0-f819-416e-a1f4-4e6629cfdd41",
   "metadata": {},
   "source": [
    "## 2. Path attributes"
   ]
  },
  {
   "cell_type": "markdown",
   "id": "cf86db92-c852-46ba-93b9-fd2288f7f14a",
   "metadata": {},
   "source": [
    "`Path` objects have many useful attributes. Let’s see some examples using this path object that points to an image file."
   ]
  },
  {
   "cell_type": "code",
   "execution_count": 13,
   "id": "2e7da659-ed08-4dfa-ab04-67060b8cabb2",
   "metadata": {},
   "outputs": [],
   "source": [
    "image_file = Path(\"images/midjourney.png\").absolute()"
   ]
  },
  {
   "cell_type": "code",
   "execution_count": 14,
   "id": "6adf971d-f79d-4cb2-96e0-7fa68393e2fc",
   "metadata": {},
   "outputs": [
    {
     "data": {
      "text/plain": [
       "WindowsPath('C:/Users/johnw/Data_Science_Libraries/Pathlib/images/midjourney.png')"
      ]
     },
     "execution_count": 14,
     "metadata": {},
     "output_type": "execute_result"
    }
   ],
   "source": [
    "image_file"
   ]
  },
  {
   "cell_type": "markdown",
   "id": "3ebc26c7-3224-4659-aaf1-66a9cb630eac",
   "metadata": {},
   "source": [
    "Let's start with the `parent`. It returns a path object that is one level up the current working directory."
   ]
  },
  {
   "cell_type": "code",
   "execution_count": 15,
   "id": "8842ed76-2423-4bb9-927a-d4170b089086",
   "metadata": {},
   "outputs": [
    {
     "data": {
      "text/plain": [
       "WindowsPath('C:/Users/johnw/Data_Science_Libraries/Pathlib/images')"
      ]
     },
     "execution_count": 15,
     "metadata": {},
     "output_type": "execute_result"
    }
   ],
   "source": [
    "image_file.parent"
   ]
  },
  {
   "cell_type": "markdown",
   "id": "d9271b02-1282-479e-a3b6-b4b040dd3b7f",
   "metadata": {},
   "source": [
    "Sometimes, you may want only the file `name` instead of the whole path. There is an attribute for that:"
   ]
  },
  {
   "cell_type": "code",
   "execution_count": 16,
   "id": "c564e796-3939-42af-b59c-7519ea45ffc2",
   "metadata": {},
   "outputs": [
    {
     "data": {
      "text/plain": [
       "'midjourney.png'"
      ]
     },
     "execution_count": 16,
     "metadata": {},
     "output_type": "execute_result"
    }
   ],
   "source": [
    "image_file.name"
   ]
  },
  {
   "cell_type": "markdown",
   "id": "499f4929-4f09-460f-a942-e8be21e35208",
   "metadata": {},
   "source": [
    "There is also `stem` for the file name without the suffix:"
   ]
  },
  {
   "cell_type": "code",
   "execution_count": 17,
   "id": "54b23915-113f-4a93-a9c6-fff66273c70a",
   "metadata": {},
   "outputs": [
    {
     "data": {
      "text/plain": [
       "'midjourney'"
      ]
     },
     "execution_count": 17,
     "metadata": {},
     "output_type": "execute_result"
    }
   ],
   "source": [
    "image_file.stem"
   ]
  },
  {
   "cell_type": "markdown",
   "id": "0271d837-3a2f-42db-b0c3-d783d6660614",
   "metadata": {},
   "source": [
    "Or the `suffix` itself with the dot for the file extension:"
   ]
  },
  {
   "cell_type": "code",
   "execution_count": 18,
   "id": "7f179852-3495-4449-bc29-de55a6c2f8fb",
   "metadata": {},
   "outputs": [
    {
     "data": {
      "text/plain": [
       "'.png'"
      ]
     },
     "execution_count": 18,
     "metadata": {},
     "output_type": "execute_result"
    }
   ],
   "source": [
    "image_file.suffix"
   ]
  },
  {
   "cell_type": "markdown",
   "id": "1b493f93-165b-4369-909d-035ead26f952",
   "metadata": {},
   "source": [
    "If you want to divide a path into its components, you can use `parts` instead of `str.split('/')`:"
   ]
  },
  {
   "cell_type": "code",
   "execution_count": 19,
   "id": "b53e0906-9317-4655-94c6-2bd42a2cea67",
   "metadata": {},
   "outputs": [
    {
     "data": {
      "text/plain": [
       "('C:\\\\',\n",
       " 'Users',\n",
       " 'johnw',\n",
       " 'Data_Science_Libraries',\n",
       " 'Pathlib',\n",
       " 'images',\n",
       " 'midjourney.png')"
      ]
     },
     "execution_count": 19,
     "metadata": {},
     "output_type": "execute_result"
    }
   ],
   "source": [
    "image_file.parts"
   ]
  },
  {
   "cell_type": "markdown",
   "id": "58e5bcaa-f34a-4ec4-8192-436d2c1c9984",
   "metadata": {},
   "source": [
    "If you want those components to be `Path` objects in themselves, you can use `parents` attribute, which creates a generator:"
   ]
  },
  {
   "cell_type": "code",
   "execution_count": 20,
   "id": "826732ac-d7ea-40fa-af39-860cb802aa83",
   "metadata": {},
   "outputs": [
    {
     "name": "stdout",
     "output_type": "stream",
     "text": [
      "C:\\Users\\johnw\\Data_Science_Libraries\\Pathlib\\images\n",
      "C:\\Users\\johnw\\Data_Science_Libraries\\Pathlib\n",
      "C:\\Users\\johnw\\Data_Science_Libraries\n",
      "C:\\Users\\johnw\n",
      "C:\\Users\n",
      "C:\\\n"
     ]
    }
   ],
   "source": [
    "for i in image_file.parents:\n",
    "    print(i)"
   ]
  },
  {
   "cell_type": "markdown",
   "id": "3df1b39d-3021-4108-9282-c6b04e42bf98",
   "metadata": {},
   "source": [
    "# Working with files"
   ]
  },
  {
   "cell_type": "markdown",
   "id": "5741e254-2614-47fd-af40-27d319381dfe",
   "metadata": {},
   "source": [
    "To create files and write to them, you don't have to use `open` function anymore. Just create a `Path` object and `write_text` or `write_btyes` to them:"
   ]
  },
  {
   "cell_type": "code",
   "execution_count": 21,
   "id": "c1625906-56ae-45ee-b459-973cf9c91a68",
   "metadata": {},
   "outputs": [],
   "source": [
    "markdown = data_dir / \"file.md\""
   ]
  },
  {
   "cell_type": "code",
   "execution_count": 22,
   "id": "ed75e8a0-3f75-4e6a-90da-0b1d59c09b95",
   "metadata": {},
   "outputs": [
    {
     "data": {
      "text/plain": [
       "WindowsPath('data/file.md')"
      ]
     },
     "execution_count": 22,
     "metadata": {},
     "output_type": "execute_result"
    }
   ],
   "source": [
    "markdown"
   ]
  },
  {
   "cell_type": "code",
   "execution_count": 23,
   "id": "982d3c98-28fe-4873-8417-17c9dbaf97a1",
   "metadata": {},
   "outputs": [
    {
     "data": {
      "text/plain": [
       "25"
      ]
     },
     "execution_count": 23,
     "metadata": {},
     "output_type": "execute_result"
    }
   ],
   "source": [
    "# Create (override) and write text\n",
    "markdown.write_text(\"# This is a test markdown\")"
   ]
  },
  {
   "cell_type": "markdown",
   "id": "b6adf635-0467-4a87-aef2-6f04a16f253d",
   "metadata": {},
   "source": [
    "Or, if you already have a file, you can `read_text` or `read_bytes`:"
   ]
  },
  {
   "cell_type": "code",
   "execution_count": 24,
   "id": "7393860e-016e-47a1-a401-ac42541235c1",
   "metadata": {},
   "outputs": [
    {
     "data": {
      "text/plain": [
       "'# This is a test markdown'"
      ]
     },
     "execution_count": 24,
     "metadata": {},
     "output_type": "execute_result"
    }
   ],
   "source": [
    "markdown.read_text()"
   ]
  },
  {
   "cell_type": "code",
   "execution_count": 25,
   "id": "3a391038-9ed6-473a-949f-556661ccfbab",
   "metadata": {},
   "outputs": [
    {
     "data": {
      "text/plain": [
       "114790"
      ]
     },
     "execution_count": 25,
     "metadata": {},
     "output_type": "execute_result"
    }
   ],
   "source": [
    "len(image_file.read_bytes())"
   ]
  },
  {
   "cell_type": "markdown",
   "id": "aa20d2bd-380a-409d-8afd-88f0eb610cb1",
   "metadata": {},
   "source": [
    "However, note that `write_text` or `write_bytes` overrides existing contents of a file."
   ]
  },
  {
   "cell_type": "code",
   "execution_count": 26,
   "id": "9dc6495b-4670-4ad9-acba-78f418791c75",
   "metadata": {},
   "outputs": [
    {
     "data": {
      "text/plain": [
       "21"
      ]
     },
     "execution_count": 26,
     "metadata": {},
     "output_type": "execute_result"
    }
   ],
   "source": [
    "# Write new text to existing file\n",
    "markdown.write_text(\"## This is a new line\")"
   ]
  },
  {
   "cell_type": "code",
   "execution_count": 27,
   "id": "7117a59c-813b-4ace-9a44-a78de8dc1d00",
   "metadata": {},
   "outputs": [
    {
     "data": {
      "text/plain": [
       "'## This is a new line'"
      ]
     },
     "execution_count": 27,
     "metadata": {},
     "output_type": "execute_result"
    }
   ],
   "source": [
    "# The file is overridden\n",
    "markdown.read_text()"
   ]
  },
  {
   "cell_type": "markdown",
   "id": "662c9232-4dde-49b2-b2cc-51220bdd02cb",
   "metadata": {},
   "source": [
    "To append new information to existing files, you should use `open` method of `Path` objects in `a` (append) mode:"
   ]
  },
  {
   "cell_type": "code",
   "execution_count": 28,
   "id": "9c5518bc-bf18-4c27-948d-4d73010785e3",
   "metadata": {},
   "outputs": [],
   "source": [
    "# Append text\n",
    "with markdown.open(mode=\"a\") as file:\n",
    "    file.write(\"\\n### This is the second line\")"
   ]
  },
  {
   "cell_type": "code",
   "execution_count": 29,
   "id": "dfa335cf-8dd1-4a38-9349-c030af251b28",
   "metadata": {},
   "outputs": [
    {
     "data": {
      "text/plain": [
       "'## This is a new line\\n### This is the second line'"
      ]
     },
     "execution_count": 29,
     "metadata": {},
     "output_type": "execute_result"
    }
   ],
   "source": [
    "markdown.read_text()"
   ]
  },
  {
   "cell_type": "markdown",
   "id": "77cc5bd4-e9d0-496b-9e7f-01ce16c3c1df",
   "metadata": {},
   "source": [
    "It is also common to rename files. `rename` method accepts the destination path for the renamed file.\n",
    "\n",
    "To create the destination path in the current directory, i. e. rename the file, you can use `with_stem` on the existing path, which replaces the `stem` of the original file:"
   ]
  },
  {
   "cell_type": "code",
   "execution_count": 30,
   "id": "a27f1365-e916-4eae-ab94-8128b7d3b78b",
   "metadata": {},
   "outputs": [],
   "source": [
    "renamed_md = markdown.with_stem(\"new_markdown\")"
   ]
  },
  {
   "cell_type": "code",
   "execution_count": 31,
   "id": "ba7ad337-51e0-43cb-9f6e-71b2dae06bb9",
   "metadata": {},
   "outputs": [
    {
     "data": {
      "text/plain": [
       "WindowsPath('data/new_markdown.md')"
      ]
     },
     "execution_count": 31,
     "metadata": {},
     "output_type": "execute_result"
    }
   ],
   "source": [
    "renamed_md"
   ]
  },
  {
   "cell_type": "code",
   "execution_count": 32,
   "id": "ce9082bb-aa4a-4f65-af37-fbcd58751c2a",
   "metadata": {},
   "outputs": [
    {
     "data": {
      "text/plain": [
       "WindowsPath('data/file.md')"
      ]
     },
     "execution_count": 32,
     "metadata": {},
     "output_type": "execute_result"
    }
   ],
   "source": [
    "markdown"
   ]
  },
  {
   "cell_type": "code",
   "execution_count": 33,
   "id": "764893de-a901-40b2-b939-fd050ca6b90e",
   "metadata": {},
   "outputs": [
    {
     "data": {
      "text/plain": [
       "WindowsPath('data/new_markdown.md')"
      ]
     },
     "execution_count": 33,
     "metadata": {},
     "output_type": "execute_result"
    }
   ],
   "source": [
    "markdown.rename(renamed_md)"
   ]
  },
  {
   "cell_type": "markdown",
   "id": "87a834f9-118f-4041-9a68-257f1615d92e",
   "metadata": {},
   "source": [
    "Above, `file.md` is turned into `new_markdown.md`.\n",
    "\n",
    "Let's see the file size through `stat().st_size`:"
   ]
  },
  {
   "cell_type": "code",
   "execution_count": 34,
   "id": "f64b88bf-6182-4ebe-9d2e-223b33e17bfb",
   "metadata": {},
   "outputs": [
    {
     "data": {
      "text/plain": [
       "50"
      ]
     },
     "execution_count": 34,
     "metadata": {},
     "output_type": "execute_result"
    }
   ],
   "source": [
    "# Display file size\n",
    "renamed_md.stat().st_size"
   ]
  },
  {
   "cell_type": "markdown",
   "id": "9bf1706b-db77-448e-be2d-7a105267588f",
   "metadata": {},
   "source": [
    "or the last time the file was modified, which was a few seconds ago:"
   ]
  },
  {
   "cell_type": "code",
   "execution_count": 35,
   "id": "ca9f1547-2627-483c-af43-786c4c56a5d2",
   "metadata": {},
   "outputs": [],
   "source": [
    "from datetime import datetime"
   ]
  },
  {
   "cell_type": "code",
   "execution_count": 36,
   "id": "3b913a3a-5b98-4f0e-9a83-163072219b33",
   "metadata": {},
   "outputs": [
    {
     "data": {
      "text/plain": [
       "datetime.datetime(2023, 4, 23, 17, 1, 5, 996965)"
      ]
     },
     "execution_count": 36,
     "metadata": {},
     "output_type": "execute_result"
    }
   ],
   "source": [
    "modified_timestamp = renamed_md.stat().st_mtime\n",
    "\n",
    "datetime.fromtimestamp(modified_timestamp)"
   ]
  },
  {
   "cell_type": "markdown",
   "id": "6d4dc84e-0cce-4988-9552-65beea58134d",
   "metadata": {},
   "source": [
    "`st_mtime` returns a timestamp, which is the count of seconds since January 1, 1970. To make it readable, you can use use the `fromtimestamp` function of `datetime`."
   ]
  },
  {
   "cell_type": "markdown",
   "id": "809449ec-9ecb-45e5-9673-f271d0f866c5",
   "metadata": {},
   "source": [
    "To remove unwanted files, you can `unlink` them:"
   ]
  },
  {
   "cell_type": "code",
   "execution_count": 37,
   "id": "becf9c5a-8555-4575-b298-9f1e81bafc8e",
   "metadata": {},
   "outputs": [],
   "source": [
    "renamed_md.unlink(missing_ok=True)"
   ]
  },
  {
   "cell_type": "markdown",
   "id": "764951e9-88ab-4cbf-bed3-f53f9bcdc839",
   "metadata": {},
   "source": [
    "Setting `missing_ok` to `True` won't raise any alarms if the file doesn't exist."
   ]
  },
  {
   "cell_type": "markdown",
   "id": "17a8d2f3-e2df-4975-a0ef-53162a4cb349",
   "metadata": {},
   "source": [
    "# Working with directories"
   ]
  },
  {
   "cell_type": "markdown",
   "id": "fd830300-b184-4f54-8c20-0775fcf95c59",
   "metadata": {},
   "source": [
    "There are a few neat tricks to work with directories in Pathlib. First, let's see how to create directories recursively."
   ]
  },
  {
   "cell_type": "code",
   "execution_count": 38,
   "id": "a8a961b3-3b2e-4885-b923-ff5ffaed591b",
   "metadata": {},
   "outputs": [],
   "source": [
    "new_dir = (\n",
    "    Path.cwd()\n",
    "    / \"new_dir\"\n",
    "    / \"child_dir\"\n",
    "    / \"grandchild_dir\"\n",
    ")"
   ]
  },
  {
   "cell_type": "code",
   "execution_count": 39,
   "id": "08279a15-78ae-49b4-aaa7-578a1ba4f98e",
   "metadata": {},
   "outputs": [
    {
     "data": {
      "text/plain": [
       "WindowsPath('C:/Users/johnw/Data_Science_Libraries/Pathlib/new_dir/child_dir/grandchild_dir')"
      ]
     },
     "execution_count": 39,
     "metadata": {},
     "output_type": "execute_result"
    }
   ],
   "source": [
    "new_dir"
   ]
  },
  {
   "cell_type": "code",
   "execution_count": 40,
   "id": "ac88c560-fe34-4520-a921-14c4a1d9827e",
   "metadata": {},
   "outputs": [
    {
     "data": {
      "text/plain": [
       "False"
      ]
     },
     "execution_count": 40,
     "metadata": {},
     "output_type": "execute_result"
    }
   ],
   "source": [
    "new_dir.exists()"
   ]
  },
  {
   "cell_type": "markdown",
   "id": "398a4a10-5199-47b2-89ba-c35e5c3313cd",
   "metadata": {},
   "source": [
    "The `new_dir` doesn't exist, so let's create it with all its children:"
   ]
  },
  {
   "cell_type": "code",
   "execution_count": 41,
   "id": "1fe203a8-3ac4-406f-b556-02554857b09c",
   "metadata": {},
   "outputs": [],
   "source": [
    "new_dir.mkdir(parents=True, exist_ok=True)"
   ]
  },
  {
   "cell_type": "markdown",
   "id": "6913a36e-2a98-4b31-9f58-e1e33f808d35",
   "metadata": {},
   "source": [
    "By default, `mkdir` creates the last child of the given path. If the intermediate parents don't exist, you have to set `parents` to `True`.\n",
    "\n",
    "To remove empty directories, you can use `rmdir`. If the given path object is nested, only the last child directory is deleted:"
   ]
  },
  {
   "cell_type": "code",
   "execution_count": 42,
   "id": "fd76480b-1314-450e-8d02-c454abd52c39",
   "metadata": {},
   "outputs": [],
   "source": [
    "# Removes the last child directory\n",
    "new_dir.rmdir()"
   ]
  },
  {
   "cell_type": "markdown",
   "id": "8e2dc620-2ce7-4b50-9ab6-ad70a5e9c2cc",
   "metadata": {},
   "source": [
    "To list the contents of a directory like `ls` on the terminal, you can use `iterdir`. Again, the result will be a generator object, yielding directory contents as separate path objects one at a time:"
   ]
  },
  {
   "cell_type": "code",
   "execution_count": 43,
   "id": "24f477b6-db63-4a40-81f4-f67552d92287",
   "metadata": {},
   "outputs": [
    {
     "name": "stdout",
     "output_type": "stream",
     "text": [
      "C:\\Users\\johnw\\Data_Science_Libraries\\Pathlib\\.ipynb_checkpoints\n",
      "C:\\Users\\johnw\\Data_Science_Libraries\\Pathlib\\data\n",
      "C:\\Users\\johnw\\Data_Science_Libraries\\Pathlib\\images\n",
      "C:\\Users\\johnw\\Data_Science_Libraries\\Pathlib\\Medium_15_Pathlib_tricks_to_master_file_system_in_Python.ipynb\n",
      "C:\\Users\\johnw\\Data_Science_Libraries\\Pathlib\\new_dir\n"
     ]
    }
   ],
   "source": [
    "for p in Path.cwd().iterdir():\n",
    "    print(p)"
   ]
  },
  {
   "cell_type": "markdown",
   "id": "7bbeec85-6605-4ac9-897f-54d5c99024d7",
   "metadata": {},
   "source": [
    "To capture all files with a specific extension or a name pattern, you can use the `glob` function with a regular expression.\n",
    "\n",
    "For example, below, we will find all text files inside my home directory with `glob(\"*.txt\")`:"
   ]
  },
  {
   "cell_type": "code",
   "execution_count": 44,
   "id": "1a9494f9-2e43-47a4-bb18-9362604841f0",
   "metadata": {},
   "outputs": [
    {
     "data": {
      "text/plain": [
       "0"
      ]
     },
     "execution_count": 44,
     "metadata": {},
     "output_type": "execute_result"
    }
   ],
   "source": [
    "data_science_libraries = Path.cwd().parent\n",
    "text_files = list(data_science_libraries.glob(\"*.txt\"))\n",
    "\n",
    "len(text_files)"
   ]
  },
  {
   "cell_type": "markdown",
   "id": "7b018fd7-6c27-4abe-bb7f-ec6a3ad63542",
   "metadata": {},
   "source": [
    "To search for text files recursively, meaning inside all child directories as well, you can use *recursive glob* with `rglob`:"
   ]
  },
  {
   "cell_type": "code",
   "execution_count": 45,
   "id": "0b95d634-af73-4698-ba66-5aa05c928b0e",
   "metadata": {},
   "outputs": [
    {
     "data": {
      "text/plain": [
       "50174"
      ]
     },
     "execution_count": 45,
     "metadata": {},
     "output_type": "execute_result"
    }
   ],
   "source": [
    "all_text_files = [p for p in data_science_libraries.rglob(\"*.txt\")]\n",
    "\n",
    "len(all_text_files)"
   ]
  },
  {
   "cell_type": "markdown",
   "id": "24f4f4ab-901c-4a2e-8fdf-5c1386cb8641",
   "metadata": {},
   "source": [
    "You can also use `rglob('*')` to list directory contents recursively. It is like the supercharged version of `iterdir()`.\n",
    "\n",
    "One of the use cases of this is counting the number of file formats that appear within a directory.\n",
    "\n",
    "To do this, we import the `Counter` class from `collections` and provide all file suffixes to it within the folder of `data_science_libraries`:"
   ]
  },
  {
   "cell_type": "code",
   "execution_count": 46,
   "id": "e115e99d-d9a6-4a2b-b956-46f6abcefeca",
   "metadata": {},
   "outputs": [],
   "source": [
    "from collections import Counter"
   ]
  },
  {
   "cell_type": "code",
   "execution_count": 47,
   "id": "10e14494-775c-432e-a612-eea191444e3b",
   "metadata": {},
   "outputs": [
    {
     "data": {
      "text/plain": [
       "Counter({'': 8202,\n",
       "         '.md': 4,\n",
       "         '.sample': 13,\n",
       "         '.idx': 1,\n",
       "         '.pack': 1,\n",
       "         '.csv': 71,\n",
       "         '.ipynb': 330,\n",
       "         '.xls': 2,\n",
       "         '.pkl': 164,\n",
       "         '.py': 16,\n",
       "         '.zip': 1,\n",
       "         '.png': 895,\n",
       "         '.css': 1,\n",
       "         '.pbtxt': 2,\n",
       "         '.config': 1,\n",
       "         '.txt': 50174,\n",
       "         '.data-00000-of-00001': 2,\n",
       "         '.index': 2,\n",
       "         '.pb': 1,\n",
       "         '.html': 24,\n",
       "         '.pyc': 5,\n",
       "         '.pth': 19,\n",
       "         '.log': 7,\n",
       "         '.pt': 15,\n",
       "         '.json': 16,\n",
       "         '.tsv': 14,\n",
       "         '.tfevents': 6,\n",
       "         '.jpg': 21379,\n",
       "         '.ply': 2,\n",
       "         '.xml': 2,\n",
       "         '.feather': 3,\n",
       "         '.parquet': 3,\n",
       "         '.pickle': 2,\n",
       "         '.tmp': 3,\n",
       "         '.yaml': 449,\n",
       "         '.runName': 172,\n",
       "         '.name': 172,\n",
       "         '.type': 172,\n",
       "         '.user': 172,\n",
       "         '.history': 153,\n",
       "         '.parentRunId': 159,\n",
       "         '.gz': 6,\n",
       "         '.mat': 20,\n",
       "         '.meta': 1,\n",
       "         '.0': 2,\n",
       "         '.ckpt': 2,\n",
       "         '.vocab': 1,\n",
       "         '.feat': 3,\n",
       "         '.exe': 1})"
      ]
     },
     "execution_count": 47,
     "metadata": {},
     "output_type": "execute_result"
    }
   ],
   "source": [
    "file_counts = Counter(\n",
    "    path.suffix for path in data_science_libraries.rglob(\"*\")\n",
    ")\n",
    "\n",
    "file_counts"
   ]
  },
  {
   "cell_type": "markdown",
   "id": "8a0fca05-3a50-4190-8b81-d46507adcfcd",
   "metadata": {},
   "source": [
    "# Operating system differences"
   ]
  },
  {
   "cell_type": "markdown",
   "id": "455773f6-17e1-4938-9d69-ffc242c784a3",
   "metadata": {},
   "source": [
    "Sorry, but we have to talk about this nightmare of an issue.\n",
    "\n",
    "Up until now, we have been dealing with `WindowsPath`  objects, which are the default for Windows systems:"
   ]
  },
  {
   "cell_type": "code",
   "execution_count": 48,
   "id": "1b3abb15-4d4b-4f50-ab92-07ab796bff31",
   "metadata": {},
   "outputs": [
    {
     "data": {
      "text/plain": [
       "pathlib.WindowsPath"
      ]
     },
     "execution_count": 48,
     "metadata": {},
     "output_type": "execute_result"
    }
   ],
   "source": [
    "type(Path.home())"
   ]
  },
  {
   "cell_type": "markdown",
   "id": "1b252769-5ac4-4312-b971-0dd72140f628",
   "metadata": {},
   "source": [
    "If you were on UNIX-like system, you would get a `PosixPath` object:"
   ]
  },
  {
   "cell_type": "code",
   "execution_count": 49,
   "id": "0ee651e2-2885-48e7-8aed-d012462902a9",
   "metadata": {},
   "outputs": [
    {
     "ename": "NotImplementedError",
     "evalue": "cannot instantiate 'PosixPath' on your system",
     "output_type": "error",
     "traceback": [
      "\u001b[1;31m---------------------------------------------------------------------------\u001b[0m",
      "\u001b[1;31mNotImplementedError\u001b[0m                       Traceback (most recent call last)",
      "Cell \u001b[1;32mIn[49], line 4\u001b[0m\n\u001b[0;32m      1\u001b[0m \u001b[38;5;28;01mfrom\u001b[39;00m \u001b[38;5;21;01mpathlib\u001b[39;00m \u001b[38;5;28;01mimport\u001b[39;00m PosixPath\n\u001b[0;32m      3\u001b[0m \u001b[38;5;66;03m# User raw strings that start with r to write windows paths\u001b[39;00m\n\u001b[1;32m----> 4\u001b[0m path \u001b[38;5;241m=\u001b[39m \u001b[43mPosixPath\u001b[49m\u001b[43m(\u001b[49m\u001b[38;5;124;43mr\u001b[39;49m\u001b[38;5;124;43m\"\u001b[39;49m\u001b[38;5;124;43mC:\u001b[39;49m\u001b[38;5;124;43m\\\u001b[39;49m\u001b[38;5;124;43musers\u001b[39;49m\u001b[38;5;124;43m\"\u001b[39;49m\u001b[43m)\u001b[49m\n\u001b[0;32m      5\u001b[0m path\n",
      "File \u001b[1;32m~\\miniconda3\\envs\\ls_env\\lib\\pathlib.py:962\u001b[0m, in \u001b[0;36mPath.__new__\u001b[1;34m(cls, *args, **kwargs)\u001b[0m\n\u001b[0;32m    960\u001b[0m \u001b[38;5;28mself\u001b[39m \u001b[38;5;241m=\u001b[39m \u001b[38;5;28mcls\u001b[39m\u001b[38;5;241m.\u001b[39m_from_parts(args)\n\u001b[0;32m    961\u001b[0m \u001b[38;5;28;01mif\u001b[39;00m \u001b[38;5;129;01mnot\u001b[39;00m \u001b[38;5;28mself\u001b[39m\u001b[38;5;241m.\u001b[39m_flavour\u001b[38;5;241m.\u001b[39mis_supported:\n\u001b[1;32m--> 962\u001b[0m     \u001b[38;5;28;01mraise\u001b[39;00m \u001b[38;5;167;01mNotImplementedError\u001b[39;00m(\u001b[38;5;124m\"\u001b[39m\u001b[38;5;124mcannot instantiate \u001b[39m\u001b[38;5;132;01m%r\u001b[39;00m\u001b[38;5;124m on your system\u001b[39m\u001b[38;5;124m\"\u001b[39m\n\u001b[0;32m    963\u001b[0m                               \u001b[38;5;241m%\u001b[39m (\u001b[38;5;28mcls\u001b[39m\u001b[38;5;241m.\u001b[39m\u001b[38;5;18m__name__\u001b[39m,))\n\u001b[0;32m    964\u001b[0m \u001b[38;5;28;01mreturn\u001b[39;00m \u001b[38;5;28mself\u001b[39m\n",
      "\u001b[1;31mNotImplementedError\u001b[0m: cannot instantiate 'PosixPath' on your system"
     ]
    }
   ],
   "source": [
    "from pathlib import PosixPath\n",
    "\n",
    "# User raw strings that start with r to write windows paths\n",
    "path = PosixPath(r\"C:\\users\")\n",
    "path"
   ]
  },
  {
   "cell_type": "markdown",
   "id": "20e16d5f-9726-46d0-81d4-c4265aab03b7",
   "metadata": {},
   "source": [
    "Instantiating another system's path raises an error like the above.\n",
    "\n",
    "But what if you were forced to work with paths from another system, like code written by coworkers who use UNIX?\n",
    "\n",
    "As a solution, `pathlib` offers pure path objects like `PureWindowsPath` or `PurePosixPath`:"
   ]
  },
  {
   "cell_type": "code",
   "execution_count": 50,
   "id": "1f70f07f-cecc-4957-bb18-863180b7720b",
   "metadata": {},
   "outputs": [
    {
     "data": {
      "text/plain": [
       "PurePosixPath('C:\\\\users')"
      ]
     },
     "execution_count": 50,
     "metadata": {},
     "output_type": "execute_result"
    }
   ],
   "source": [
    "from pathlib import PurePosixPath, PureWindowsPath\n",
    "\n",
    "path = PurePosixPath(r\"C:\\users\")\n",
    "path"
   ]
  },
  {
   "cell_type": "markdown",
   "id": "e087691d-6669-46b5-b008-c568bf41dfde",
   "metadata": {},
   "source": [
    "These are primitive path objects. You've access to some path methods and attributes, but essentially, the path object remains a string:"
   ]
  },
  {
   "cell_type": "code",
   "execution_count": 51,
   "id": "644bcb05-c8c5-494c-b749-6ebd6f03b5f4",
   "metadata": {},
   "outputs": [
    {
     "data": {
      "text/plain": [
       "PurePosixPath('C:\\\\users/johnw')"
      ]
     },
     "execution_count": 51,
     "metadata": {},
     "output_type": "execute_result"
    }
   ],
   "source": [
    "path / \"johnw\""
   ]
  },
  {
   "cell_type": "code",
   "execution_count": 52,
   "id": "1f81b810-50cd-488a-986d-735d971af10e",
   "metadata": {},
   "outputs": [
    {
     "data": {
      "text/plain": [
       "PurePosixPath('.')"
      ]
     },
     "execution_count": 52,
     "metadata": {},
     "output_type": "execute_result"
    }
   ],
   "source": [
    "path.parent"
   ]
  },
  {
   "cell_type": "code",
   "execution_count": 53,
   "id": "dea3716b-7860-4755-8090-72fe18308933",
   "metadata": {},
   "outputs": [
    {
     "data": {
      "text/plain": [
       "'C:\\\\users'"
      ]
     },
     "execution_count": 53,
     "metadata": {},
     "output_type": "execute_result"
    }
   ],
   "source": [
    "path.stem"
   ]
  },
  {
   "cell_type": "code",
   "execution_count": null,
   "id": "f546411c-a7ed-409d-ada6-1bd4078131a9",
   "metadata": {},
   "outputs": [],
   "source": []
  }
 ],
 "metadata": {
  "kernelspec": {
   "display_name": "Python [conda env:ls_env]",
   "language": "python",
   "name": "conda-env-ls_env-py"
  },
  "language_info": {
   "codemirror_mode": {
    "name": "ipython",
    "version": 3
   },
   "file_extension": ".py",
   "mimetype": "text/x-python",
   "name": "python",
   "nbconvert_exporter": "python",
   "pygments_lexer": "ipython3",
   "version": "3.10.8"
  }
 },
 "nbformat": 4,
 "nbformat_minor": 5
}
