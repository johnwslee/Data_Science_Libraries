{
 "cells": [
  {
   "cell_type": "markdown",
   "id": "30967d39-31d5-4498-8c0b-e9db789ef7a1",
   "metadata": {},
   "source": [
    "# 0. Imports"
   ]
  },
  {
   "cell_type": "code",
   "execution_count": 1,
   "id": "e4c023f3-6649-4579-af9b-74e1b12e99fa",
   "metadata": {},
   "outputs": [],
   "source": [
    "import pandas as pd\n",
    "from pandasai import PandasAI\n",
    "from pandasai.llm.openai import OpenAI"
   ]
  },
  {
   "cell_type": "markdown",
   "id": "f4f8a307-1f5f-4181-adc3-8b4faae3f988",
   "metadata": {},
   "source": [
    "# 1. Preparation"
   ]
  },
  {
   "cell_type": "markdown",
   "id": "ec07d364-b41b-4aae-9f93-0c007d2333a5",
   "metadata": {},
   "source": [
    "## 1.1. Data"
   ]
  },
  {
   "cell_type": "code",
   "execution_count": 2,
   "id": "a4384c0d-4ea7-4cc9-ba56-4cbed36ae8b0",
   "metadata": {},
   "outputs": [],
   "source": [
    "# Load the dataset\n",
    "df = pd.read_csv('data/sales_data.csv')\n",
    "df = df[['Customer_Gender', 'Product_Category', 'Revenue']]  # For simplicity"
   ]
  },
  {
   "cell_type": "code",
   "execution_count": 3,
   "id": "f7a0baea-05e5-4460-ae46-866a9a19c082",
   "metadata": {},
   "outputs": [
    {
     "data": {
      "text/html": [
       "<div>\n",
       "<style scoped>\n",
       "    .dataframe tbody tr th:only-of-type {\n",
       "        vertical-align: middle;\n",
       "    }\n",
       "\n",
       "    .dataframe tbody tr th {\n",
       "        vertical-align: top;\n",
       "    }\n",
       "\n",
       "    .dataframe thead th {\n",
       "        text-align: right;\n",
       "    }\n",
       "</style>\n",
       "<table border=\"1\" class=\"dataframe\">\n",
       "  <thead>\n",
       "    <tr style=\"text-align: right;\">\n",
       "      <th></th>\n",
       "      <th>Customer_Gender</th>\n",
       "      <th>Product_Category</th>\n",
       "      <th>Revenue</th>\n",
       "    </tr>\n",
       "  </thead>\n",
       "  <tbody>\n",
       "    <tr>\n",
       "      <th>0</th>\n",
       "      <td>M</td>\n",
       "      <td>Accessories</td>\n",
       "      <td>950</td>\n",
       "    </tr>\n",
       "    <tr>\n",
       "      <th>1</th>\n",
       "      <td>M</td>\n",
       "      <td>Accessories</td>\n",
       "      <td>950</td>\n",
       "    </tr>\n",
       "    <tr>\n",
       "      <th>2</th>\n",
       "      <td>M</td>\n",
       "      <td>Accessories</td>\n",
       "      <td>2401</td>\n",
       "    </tr>\n",
       "    <tr>\n",
       "      <th>3</th>\n",
       "      <td>M</td>\n",
       "      <td>Accessories</td>\n",
       "      <td>2088</td>\n",
       "    </tr>\n",
       "    <tr>\n",
       "      <th>4</th>\n",
       "      <td>F</td>\n",
       "      <td>Accessories</td>\n",
       "      <td>418</td>\n",
       "    </tr>\n",
       "    <tr>\n",
       "      <th>...</th>\n",
       "      <td>...</td>\n",
       "      <td>...</td>\n",
       "      <td>...</td>\n",
       "    </tr>\n",
       "    <tr>\n",
       "      <th>113031</th>\n",
       "      <td>M</td>\n",
       "      <td>Clothing</td>\n",
       "      <td>184</td>\n",
       "    </tr>\n",
       "    <tr>\n",
       "      <th>113032</th>\n",
       "      <td>M</td>\n",
       "      <td>Clothing</td>\n",
       "      <td>1183</td>\n",
       "    </tr>\n",
       "    <tr>\n",
       "      <th>113033</th>\n",
       "      <td>M</td>\n",
       "      <td>Clothing</td>\n",
       "      <td>1183</td>\n",
       "    </tr>\n",
       "    <tr>\n",
       "      <th>113034</th>\n",
       "      <td>F</td>\n",
       "      <td>Clothing</td>\n",
       "      <td>1260</td>\n",
       "    </tr>\n",
       "    <tr>\n",
       "      <th>113035</th>\n",
       "      <td>F</td>\n",
       "      <td>Clothing</td>\n",
       "      <td>1207</td>\n",
       "    </tr>\n",
       "  </tbody>\n",
       "</table>\n",
       "<p>113036 rows × 3 columns</p>\n",
       "</div>"
      ],
      "text/plain": [
       "       Customer_Gender Product_Category  Revenue\n",
       "0                    M      Accessories      950\n",
       "1                    M      Accessories      950\n",
       "2                    M      Accessories     2401\n",
       "3                    M      Accessories     2088\n",
       "4                    F      Accessories      418\n",
       "...                ...              ...      ...\n",
       "113031               M         Clothing      184\n",
       "113032               M         Clothing     1183\n",
       "113033               M         Clothing     1183\n",
       "113034               F         Clothing     1260\n",
       "113035               F         Clothing     1207\n",
       "\n",
       "[113036 rows x 3 columns]"
      ]
     },
     "execution_count": 3,
     "metadata": {},
     "output_type": "execute_result"
    }
   ],
   "source": [
    "df"
   ]
  },
  {
   "cell_type": "markdown",
   "id": "390e0271-677f-47df-a1e5-df9aa196addc",
   "metadata": {},
   "source": [
    "## 1.2. Pandas AI Setup"
   ]
  },
  {
   "cell_type": "code",
   "execution_count": 4,
   "id": "baa0cf63-d256-4afe-becc-60fd9e54be67",
   "metadata": {},
   "outputs": [],
   "source": [
    "llm = OpenAI(api_token=\"OPEN_AI_TOKEN\")"
   ]
  },
  {
   "cell_type": "code",
   "execution_count": 5,
   "id": "2e4c59ae-41f6-491b-996f-14e923ba37d7",
   "metadata": {},
   "outputs": [],
   "source": [
    "pandas_ai = PandasAI(llm)"
   ]
  },
  {
   "cell_type": "markdown",
   "id": "90aa07f7-8bda-4f14-a64c-cbe0af16d2b3",
   "metadata": {},
   "source": [
    "# 2. Exploring Data with Pandas AI"
   ]
  },
  {
   "cell_type": "markdown",
   "id": "d51bf0d6-766f-4e50-a8c0-0cac0e2e8933",
   "metadata": {},
   "source": [
    "## 2.1. Asking Simple Questions"
   ]
  },
  {
   "cell_type": "markdown",
   "id": "dfc331da-ee6c-4742-bcce-0772a0ce03b5",
   "metadata": {},
   "source": [
    "One of the key features of Pandas AI is its ability to answer questions about the data frame. We can ask simple questions like finding unique products in the “Product_Category” column:"
   ]
  },
  {
   "cell_type": "code",
   "execution_count": 6,
   "id": "e62589ca-fc1f-4c09-a217-c7a14ca31c86",
   "metadata": {},
   "outputs": [
    {
     "data": {
      "text/plain": [
       "3"
      ]
     },
     "execution_count": 6,
     "metadata": {},
     "output_type": "execute_result"
    }
   ],
   "source": [
    "pandas_ai(df, prompt=\"How many unique products are in the Product_Category column?\")"
   ]
  },
  {
   "cell_type": "code",
   "execution_count": 7,
   "id": "53bbdf4d-e081-4d8c-87d4-4973f5c07402",
   "metadata": {},
   "outputs": [
    {
     "data": {
      "text/plain": [
       "3"
      ]
     },
     "execution_count": 7,
     "metadata": {},
     "output_type": "execute_result"
    }
   ],
   "source": [
    "df[\"Product_Category\"].nunique()"
   ]
  },
  {
   "cell_type": "markdown",
   "id": "577b6abb-469f-4c4d-9603-7e1ee3b8abda",
   "metadata": {},
   "source": [
    "## 2.2. Querying Unique Products"
   ]
  },
  {
   "cell_type": "markdown",
   "id": "728bb995-2a2e-4478-abef-106712bc2e47",
   "metadata": {},
   "source": [
    "We can also perform more complex queries using Pandas AI. For example, let’s calculate the total spend by each gender:"
   ]
  },
  {
   "cell_type": "code",
   "execution_count": 8,
   "id": "ba52e98e-bd6e-4e37-899f-c66a7ee27881",
   "metadata": {},
   "outputs": [
    {
     "data": {
      "text/plain": [
       "Customer_Gender\n",
       "F    41935599\n",
       "M    43335409\n",
       "Name: Revenue, dtype: int64"
      ]
     },
     "execution_count": 8,
     "metadata": {},
     "output_type": "execute_result"
    }
   ],
   "source": [
    "pandas_ai(df, prompt=\"Calculate the total spent by each Customer_Gender.\")"
   ]
  },
  {
   "cell_type": "code",
   "execution_count": 9,
   "id": "79757b34-3cdb-43ed-8bb8-68cd693e5346",
   "metadata": {},
   "outputs": [
    {
     "data": {
      "text/plain": [
       "Customer_Gender\n",
       "F    41935599\n",
       "M    43335409\n",
       "Name: Revenue, dtype: int64"
      ]
     },
     "execution_count": 9,
     "metadata": {},
     "output_type": "execute_result"
    }
   ],
   "source": [
    "df.groupby(\"Customer_Gender\")[\"Revenue\"].sum()"
   ]
  },
  {
   "cell_type": "markdown",
   "id": "8e4042bc-97bf-4513-82be-3913156ac3a8",
   "metadata": {},
   "source": [
    "## 2.3. Generating Plots"
   ]
  },
  {
   "cell_type": "code",
   "execution_count": 10,
   "id": "1d296d49-7cb5-404d-a27e-f70962714d0b",
   "metadata": {},
   "outputs": [
    {
     "data": {
      "image/png": "[encoded data removed]",
      "text/plain": [
       "<Figure size 640x480 with 1 Axes>"
      ]
     },
     "metadata": {},
     "output_type": "display_data"
    }
   ],
   "source": [
    "pandas_ai(df, prompt=\"Plot a bar chart showing the total spend by gender.\")"
   ]
  },
  {
   "cell_type": "markdown",
   "id": "d5b6d308-45d6-4a3d-a712-36e4b0d97d28",
   "metadata": {},
   "source": [
    "# 3. Limitations of Pandas AI"
   ]
  },
  {
   "cell_type": "markdown",
   "id": "9fd1e5e0-5947-4350-9c1d-f34e186562ee",
   "metadata": {},
   "source": [
    "### - Inaccurate Plotting\n",
    "One limitation is that Pandas AI can sometimes produce inaccurate plots. Although it correctly calculates the values, the plots generated may not always match the expected results. This issue may occur when Pandas AI needs to perform calculations and create plots simultaneously. It’s important to validate the results and cross-check them with the original data frame.\n",
    "\n",
    "### - Textual Output for Pivot Tables\n",
    "Another limitation is that Pandas AI provides textual output for pivot tables instead of generating the actual table. For example, when we ask Pandas AI to create a pivot table, it returns the results as text, making it difficult to perform further operations or generate plots based on the pivot table. While the library can still provide the correct values, it may not deliver the desired format for all scenarios."
   ]
  },
  {
   "cell_type": "code",
   "execution_count": null,
   "id": "3f9e849a-0d0c-424a-8513-42ba603b4273",
   "metadata": {},
   "outputs": [],
   "source": []
  }
 ],
 "metadata": {
  "kernelspec": {
   "display_name": "Python [conda env:jupyter_ai]",
   "language": "python",
   "name": "conda-env-jupyter_ai-py"
  },
  "language_info": {
   "codemirror_mode": {
    "name": "ipython",
    "version": 3
   },
   "file_extension": ".py",
   "mimetype": "text/x-python",
   "name": "python",
   "nbconvert_exporter": "python",
   "pygments_lexer": "ipython3",
   "version": "3.10.11"
  }
 },
 "nbformat": 4,
 "nbformat_minor": 5
}
