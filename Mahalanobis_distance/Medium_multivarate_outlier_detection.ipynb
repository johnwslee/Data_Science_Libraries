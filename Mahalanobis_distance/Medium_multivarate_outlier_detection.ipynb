{
 "cells": [
  {
   "cell_type": "markdown",
   "id": "be289271-cd10-4dae-9494-29792e92cf00",
   "metadata": {},
   "source": [
    "# 0. Imports"
   ]
  },
  {
   "cell_type": "code",
   "execution_count": 1,
   "id": "c9fd6b8d-d95d-4859-ae6d-d199542f2c9e",
   "metadata": {},
   "outputs": [],
   "source": [
    "import pandas as pd\n",
    "import numpy as np\n",
    "from scipy.stats import chi2\n",
    "from matplotlib import patches\n",
    "import matplotlib.pyplot as plt"
   ]
  },
  {
   "cell_type": "markdown",
   "id": "4a6bb5cf-2d62-4819-b927-b01da8cdabe4",
   "metadata": {},
   "source": [
    "# 1. Data"
   ]
  },
  {
   "cell_type": "markdown",
   "id": "cbff1f71-dc5f-4355-b8d9-b68510447a54",
   "metadata": {},
   "source": [
    "First, we should import the necessary libraries and the data-set. To make the data-set ready for the calculations, only the variables “Ozone” and “Temp” should be selected. Plus, not to face any error NA values should be dropped if there is any. Also, I prefer to use the NumPy array instead of using pandas data frame. That’s why I converted it to a NumPy array."
   ]
  },
  {
   "cell_type": "code",
   "execution_count": 2,
   "id": "5a5ce481-90de-4556-9a72-542bcda7854c",
   "metadata": {},
   "outputs": [
    {
     "data": {
      "text/html": [
       "<div>\n",
       "<style scoped>\n",
       "    .dataframe tbody tr th:only-of-type {\n",
       "        vertical-align: middle;\n",
       "    }\n",
       "\n",
       "    .dataframe tbody tr th {\n",
       "        vertical-align: top;\n",
       "    }\n",
       "\n",
       "    .dataframe thead th {\n",
       "        text-align: right;\n",
       "    }\n",
       "</style>\n",
       "<table border=\"1\" class=\"dataframe\">\n",
       "  <thead>\n",
       "    <tr style=\"text-align: right;\">\n",
       "      <th></th>\n",
       "      <th>Unnamed: 0</th>\n",
       "      <th>Ozone</th>\n",
       "      <th>Solar.R</th>\n",
       "      <th>Wind</th>\n",
       "      <th>Temp</th>\n",
       "      <th>Month</th>\n",
       "      <th>Day</th>\n",
       "    </tr>\n",
       "  </thead>\n",
       "  <tbody>\n",
       "    <tr>\n",
       "      <th>0</th>\n",
       "      <td>1</td>\n",
       "      <td>41.0</td>\n",
       "      <td>190.0</td>\n",
       "      <td>7.4</td>\n",
       "      <td>67</td>\n",
       "      <td>5</td>\n",
       "      <td>1</td>\n",
       "    </tr>\n",
       "    <tr>\n",
       "      <th>1</th>\n",
       "      <td>2</td>\n",
       "      <td>36.0</td>\n",
       "      <td>118.0</td>\n",
       "      <td>8.0</td>\n",
       "      <td>72</td>\n",
       "      <td>5</td>\n",
       "      <td>2</td>\n",
       "    </tr>\n",
       "    <tr>\n",
       "      <th>2</th>\n",
       "      <td>3</td>\n",
       "      <td>12.0</td>\n",
       "      <td>149.0</td>\n",
       "      <td>12.6</td>\n",
       "      <td>74</td>\n",
       "      <td>5</td>\n",
       "      <td>3</td>\n",
       "    </tr>\n",
       "    <tr>\n",
       "      <th>3</th>\n",
       "      <td>4</td>\n",
       "      <td>18.0</td>\n",
       "      <td>313.0</td>\n",
       "      <td>11.5</td>\n",
       "      <td>62</td>\n",
       "      <td>5</td>\n",
       "      <td>4</td>\n",
       "    </tr>\n",
       "    <tr>\n",
       "      <th>4</th>\n",
       "      <td>5</td>\n",
       "      <td>NaN</td>\n",
       "      <td>NaN</td>\n",
       "      <td>14.3</td>\n",
       "      <td>56</td>\n",
       "      <td>5</td>\n",
       "      <td>5</td>\n",
       "    </tr>\n",
       "  </tbody>\n",
       "</table>\n",
       "</div>"
      ],
      "text/plain": [
       "   Unnamed: 0  Ozone  Solar.R  Wind  Temp  Month  Day\n",
       "0           1   41.0    190.0   7.4    67      5    1\n",
       "1           2   36.0    118.0   8.0    72      5    2\n",
       "2           3   12.0    149.0  12.6    74      5    3\n",
       "3           4   18.0    313.0  11.5    62      5    4\n",
       "4           5    NaN      NaN  14.3    56      5    5"
      ]
     },
     "execution_count": 2,
     "metadata": {},
     "output_type": "execute_result"
    }
   ],
   "source": [
    "df= pd.read_csv(\n",
    "    'data/airquality.csv', \n",
    "    sep=\",\", \n",
    "    decimal='.'\n",
    ")\n",
    "df.head()"
   ]
  },
  {
   "cell_type": "code",
   "execution_count": 3,
   "id": "e4bcd10d-99d5-4d23-9551-a6a33a822ef9",
   "metadata": {},
   "outputs": [],
   "source": [
    "df = df[['Ozone', 'Temp']]\n",
    "df = df.dropna()\n",
    "df = df.to_numpy()"
   ]
  },
  {
   "cell_type": "code",
   "execution_count": 4,
   "id": "a6379c2f-518f-42ea-a541-d9407edc70c3",
   "metadata": {},
   "outputs": [
    {
     "data": {
      "text/plain": [
       "(116, 2)"
      ]
     },
     "execution_count": 4,
     "metadata": {},
     "output_type": "execute_result"
    }
   ],
   "source": [
    "df.shape"
   ]
  },
  {
   "cell_type": "markdown",
   "id": "446891f6-d14d-4103-94d7-20345a04f1a8",
   "metadata": {},
   "source": [
    "# 2. Calculation of MD"
   ]
  },
  {
   "cell_type": "markdown",
   "id": "4aef4533-43b1-48bb-a64f-aa3cc0f4f022",
   "metadata": {},
   "source": [
    "For the second step, we need to obtain the necessary values to calculate the distance between center and point. So, these are the center point and covariance matrix between the “Ozone” and “Temp” variables."
   ]
  },
  {
   "cell_type": "code",
   "execution_count": 5,
   "id": "9fe14047-4013-45b8-b8e3-e8d748f92e53",
   "metadata": {},
   "outputs": [],
   "source": [
    "# Covariance matrix\n",
    "covariance = np.cov(df, rowvar=False)"
   ]
  },
  {
   "cell_type": "code",
   "execution_count": 6,
   "id": "d2b6d26c-4b7e-4123-9522-bb801362d9a0",
   "metadata": {},
   "outputs": [
    {
     "data": {
      "text/plain": [
       "array([[1088.20052474,  218.52121439],\n",
       "       [ 218.52121439,   89.97443778]])"
      ]
     },
     "execution_count": 6,
     "metadata": {},
     "output_type": "execute_result"
    }
   ],
   "source": [
    "covariance"
   ]
  },
  {
   "cell_type": "code",
   "execution_count": 7,
   "id": "ca63b368-53e5-4ff5-a147-0881ca1ab3b4",
   "metadata": {},
   "outputs": [],
   "source": [
    "# Covariance matrix power of -1\n",
    "covariance_pm1 = np.linalg.matrix_power(covariance, -1)"
   ]
  },
  {
   "cell_type": "code",
   "execution_count": 8,
   "id": "3dc369ff-b894-4ef0-988c-fce141a12c29",
   "metadata": {},
   "outputs": [
    {
     "data": {
      "text/plain": [
       "array([[ 0.00179379, -0.0043566 ],\n",
       "       [-0.0043566 ,  0.02169515]])"
      ]
     },
     "execution_count": 8,
     "metadata": {},
     "output_type": "execute_result"
    }
   ],
   "source": [
    "covariance_pm1"
   ]
  },
  {
   "cell_type": "code",
   "execution_count": 9,
   "id": "81d59a4b-0f5b-4982-b2ad-f5ade445b662",
   "metadata": {},
   "outputs": [],
   "source": [
    "# Center point\n",
    "centerpoint = np.mean(df, axis=0)"
   ]
  },
  {
   "cell_type": "code",
   "execution_count": 10,
   "id": "12b54601-1ffb-4d68-9f81-eb64ad4a7ae7",
   "metadata": {},
   "outputs": [
    {
     "data": {
      "text/plain": [
       "array([42.12931034, 77.87068966])"
      ]
     },
     "execution_count": 10,
     "metadata": {},
     "output_type": "execute_result"
    }
   ],
   "source": [
    "centerpoint"
   ]
  },
  {
   "cell_type": "markdown",
   "id": "9091bb2d-a0ba-4c75-bd28-f7125a521ac0",
   "metadata": {},
   "source": [
    "For the third step, we are ready to find the distance between the center point and each observation (point) in the data-set. We also need to find a cutoff value from the Chi-Square distribution. **The reason why Chi-Square is used to find cutoff value is, Mahalanobis Distance returns the distance as squared (D² ).** We should also take the quantile value as 0.95 while finding cutoff because the points outside the 0.95 (two-tailed) will be considered as an outlier. Less quantile means less cutoff value. We also need a degree of freedom value for Chi-Square, and it is equal to the number of variables in our data-set, so 2."
   ]
  },
  {
   "cell_type": "code",
   "execution_count": 11,
   "id": "a375501e-4507-40a6-aff2-5b77f8f3f475",
   "metadata": {},
   "outputs": [],
   "source": [
    "# Distances between center point and \n",
    "distances = []\n",
    "for i, val in enumerate(df):\n",
    "    p1 = val\n",
    "    p2 = centerpoint\n",
    "    distance = (p1-p2).T.dot(covariance_pm1).dot(p1-p2)\n",
    "    distances.append(distance)\n",
    "distances = np.array(distances)"
   ]
  },
  {
   "cell_type": "code",
   "execution_count": 12,
   "id": "3573f7c3-e182-4427-b9ac-d500cc9e4660",
   "metadata": {},
   "outputs": [
    {
     "data": {
      "text/plain": [
       "array([2.45907773e+00, 5.01584040e-01, 9.37261736e-01, 3.17223080e+00,\n",
       "       1.95382558e+00, 2.10505386e+00, 4.88231046e+00, 3.24738122e+00,\n",
       "       1.35393435e+00, 9.12282292e-01, 1.57562818e+00, 1.11385684e+00,\n",
       "       5.43291539e+00, 2.19376336e+00, 2.33485072e+00, 5.22145783e+00,\n",
       "       1.33448880e+00, 2.89809874e+00, 3.99748191e+00, 9.31830944e-01,\n",
       "       3.17785963e+00, 4.86994100e+00, 1.40826315e+00, 1.48960908e-01,\n",
       "       8.83592614e+00, 3.95100540e-02, 1.15152620e+00, 1.63575275e+00,\n",
       "       2.07465514e+00, 1.71459512e+00, 6.56985609e-01, 5.32540825e-01,\n",
       "       1.99064802e+00, 8.64384792e-01, 1.12318836e+00, 1.13266328e+01,\n",
       "       7.60578501e-01, 6.72688743e-01, 4.51356803e-01, 6.74093035e-01,\n",
       "       1.32953844e+00, 2.97670069e+00, 2.97670069e+00, 1.82675458e+00,\n",
       "       1.00286469e+00, 1.03556407e+00, 2.96378788e+00, 1.14202794e-01,\n",
       "       7.17610507e-01, 4.46023244e-01, 1.31384263e+00, 5.87584707e-01,\n",
       "       6.68500262e-01, 1.32391418e+00, 4.79405873e+00, 2.04456205e+00,\n",
       "       9.09345968e-01, 1.55859888e+00, 9.87361648e-01, 4.51356803e-01,\n",
       "       2.63000795e-01, 3.15342061e-01, 3.08454634e+00, 2.53474421e+00,\n",
       "       1.20102483e+00, 1.63673990e+00, 9.31484680e-01, 6.38519353e+00,\n",
       "       2.17898375e+00, 4.28187129e+00, 1.30751084e+00, 1.23640204e+00,\n",
       "       6.12320573e-01, 5.90562590e-01, 3.72213092e-01, 4.20524446e-01,\n",
       "       2.35084443e-01, 4.53240035e-03, 6.56985609e-01, 1.02185979e+00,\n",
       "       1.42038483e-02, 2.52002912e+01, 9.56584272e-01, 4.35132339e+00,\n",
       "       5.30712801e+00, 3.66131679e+00, 2.91595077e+00, 2.78275821e+00,\n",
       "       2.22315991e+00, 2.60590292e+00, 2.80777482e+00, 1.46328114e+00,\n",
       "       1.54006598e+00, 1.38736484e+00, 6.78320169e-01, 4.51117704e-01,\n",
       "       3.34862978e-01, 1.67722126e-01, 5.32356511e-01, 2.67363865e-01,\n",
       "       1.00962386e+00, 8.02369602e-01, 2.28767029e-02, 1.32265663e+00,\n",
       "       1.12318836e+00, 1.14412412e+00, 2.53474421e+00, 2.17561561e+00,\n",
       "       5.35365250e-01, 4.46965100e-01, 1.20562277e+00, 2.57221572e+00,\n",
       "       7.76055174e-01, 8.94546672e-01, 7.27011531e-01, 1.08896613e+00])"
      ]
     },
     "execution_count": 12,
     "metadata": {},
     "output_type": "execute_result"
    }
   ],
   "source": [
    "distances"
   ]
  },
  {
   "cell_type": "code",
   "execution_count": 13,
   "id": "3cff48b9-c6cd-48bd-90c6-c9f70053ba6e",
   "metadata": {},
   "outputs": [],
   "source": [
    "# Cutoff (threshold) value from Chi-Sqaure Distribution for detecting outliers \n",
    "cutoff = chi2.ppf(0.95, df.shape[1])  # df.shape[1] = 2 <-- degree of freedom"
   ]
  },
  {
   "cell_type": "code",
   "execution_count": 14,
   "id": "1e9c0d16-6570-4b4e-85fd-b95fafee2caa",
   "metadata": {},
   "outputs": [
    {
     "data": {
      "text/plain": [
       "5.991464547107979"
      ]
     },
     "execution_count": 14,
     "metadata": {},
     "output_type": "execute_result"
    }
   ],
   "source": [
    "cutoff"
   ]
  },
  {
   "cell_type": "code",
   "execution_count": 15,
   "id": "6b7ca2d3-3d33-4365-944b-a9dcf46ae665",
   "metadata": {},
   "outputs": [],
   "source": [
    "# Index of outliers\n",
    "outlierIndexes = np.where(distances > cutoff )"
   ]
  },
  {
   "cell_type": "code",
   "execution_count": 16,
   "id": "54043a14-489c-45b5-9f16-6d38ababdbff",
   "metadata": {},
   "outputs": [
    {
     "data": {
      "text/plain": [
       "(array([24, 35, 67, 81], dtype=int64),)"
      ]
     },
     "execution_count": 16,
     "metadata": {},
     "output_type": "execute_result"
    }
   ],
   "source": [
    "outlierIndexes"
   ]
  },
  {
   "cell_type": "code",
   "execution_count": 17,
   "id": "ce7129e0-21b6-49ec-bcf6-1a8e24febf46",
   "metadata": {},
   "outputs": [
    {
     "data": {
      "text/plain": [
       "array([ 8.83592614, 11.32663284,  6.38519353, 25.20029124])"
      ]
     },
     "execution_count": 17,
     "metadata": {},
     "output_type": "execute_result"
    }
   ],
   "source": [
    "# To check the distances\n",
    "distances[outlierIndexes]"
   ]
  },
  {
   "cell_type": "code",
   "execution_count": 18,
   "id": "35a08327-ad59-40c6-bdaa-fa5a1afca078",
   "metadata": {},
   "outputs": [
    {
     "name": "stdout",
     "output_type": "stream",
     "text": [
      "--- Observations found as outlier -----\n",
      "[[115.  79.]\n",
      " [135.  84.]\n",
      " [122.  89.]\n",
      " [168.  81.]]\n"
     ]
    }
   ],
   "source": [
    "print('--- Observations found as outlier -----')\n",
    "print(df[distances > cutoff, :])"
   ]
  },
  {
   "cell_type": "markdown",
   "id": "4a7a7d32-fdaa-4f4f-897f-105ca32fa3e2",
   "metadata": {},
   "source": [
    "# 3. Plot of MD"
   ]
  },
  {
   "cell_type": "markdown",
   "id": "d0d07bbf-84e9-42ad-a56b-6a67e60a2f65",
   "metadata": {},
   "source": [
    "Finally, we have four outliers at the index of [24, 35, 67, 81]. Now, let’s make and plot to understand this process more clearly."
   ]
  },
  {
   "cell_type": "code",
   "execution_count": 19,
   "id": "8c624123-d248-4014-9bc2-2e06ff92d6a4",
   "metadata": {},
   "outputs": [],
   "source": [
    "## Finding ellipse dimensions \n",
    "pearson = covariance[0, 1]/np.sqrt(covariance[0, 0] * covariance[1, 1])\n",
    "ell_radius_x = np.sqrt(1 + pearson)\n",
    "ell_radius_y = np.sqrt(1 - pearson)\n",
    "lambda_, v = np.linalg.eig(covariance)  # lambda_ = eigenvalue, v = normalized eigenvector\n",
    "lambda_ = np.sqrt(lambda_)"
   ]
  },
  {
   "cell_type": "code",
   "execution_count": 20,
   "id": "d05808c5-2486-4921-a38f-5b0531eb85e8",
   "metadata": {},
   "outputs": [
    {
     "data": {
      "text/plain": [
       "1.3032115492700838"
      ]
     },
     "execution_count": 20,
     "metadata": {},
     "output_type": "execute_result"
    }
   ],
   "source": [
    "ell_radius_x"
   ]
  },
  {
   "cell_type": "code",
   "execution_count": 21,
   "id": "807a31c9-8e99-43f1-b861-cac06ab48f47",
   "metadata": {},
   "outputs": [
    {
     "data": {
      "text/plain": [
       "0.5492173138649837"
      ]
     },
     "execution_count": 21,
     "metadata": {},
     "output_type": "execute_result"
    }
   ],
   "source": [
    "ell_radius_y"
   ]
  },
  {
   "cell_type": "code",
   "execution_count": 22,
   "id": "d78e00e5-4b73-4c00-96e1-f94946b0b406",
   "metadata": {},
   "outputs": [
    {
     "data": {
      "text/plain": [
       "array([33.67404037,  6.65086217])"
      ]
     },
     "execution_count": 22,
     "metadata": {},
     "output_type": "execute_result"
    }
   ],
   "source": [
    "lambda_"
   ]
  },
  {
   "cell_type": "code",
   "execution_count": 23,
   "id": "40236f44-9e48-4b6a-8866-8f1a982571c8",
   "metadata": {},
   "outputs": [
    {
     "data": {
      "image/png": "[encoded data removed]",
      "text/plain": [
       "<Figure size 640x480 with 1 Axes>"
      ]
     },
     "metadata": {},
     "output_type": "display_data"
    }
   ],
   "source": [
    "# Ellipse patch\n",
    "ellipse = patches.Ellipse(\n",
    "    xy=(centerpoint[0], centerpoint[1]),\n",
    "    width=lambda_[0]*np.sqrt(cutoff)*2, \n",
    "    height=lambda_[1]*np.sqrt(cutoff)*2,\n",
    "    angle=np.rad2deg(np.arccos(v[0, 0])), \n",
    "    edgecolor='#fab1a0'\n",
    ")\n",
    "ellipse.set_facecolor('#0984e3')\n",
    "ellipse.set_alpha(0.5)\n",
    "fig = plt.figure()\n",
    "ax = plt.subplot()\n",
    "ax.add_artist(ellipse)\n",
    "plt.scatter(df[:, 0], df[:, 1])\n",
    "plt.show()"
   ]
  },
  {
   "cell_type": "code",
   "execution_count": null,
   "id": "03c8cc19-3ac5-45a2-95b2-8cd72981b7f2",
   "metadata": {},
   "outputs": [],
   "source": []
  }
 ],
 "metadata": {
  "kernelspec": {
   "display_name": "Python [conda env:ls_env]",
   "language": "python",
   "name": "conda-env-ls_env-py"
  },
  "language_info": {
   "codemirror_mode": {
    "name": "ipython",
    "version": 3
   },
   "file_extension": ".py",
   "mimetype": "text/x-python",
   "name": "python",
   "nbconvert_exporter": "python",
   "pygments_lexer": "ipython3",
   "version": "3.10.8"
  }
 },
 "nbformat": 4,
 "nbformat_minor": 5
}
