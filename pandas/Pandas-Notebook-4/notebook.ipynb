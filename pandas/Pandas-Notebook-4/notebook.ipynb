{
 "cells": [
  {
   "cell_type": "markdown",
   "source": "# 450+ Practice Questions That Will Make You a Pandas, NumPy, and SQL Pro!",
   "metadata": {
    "formattedRanges": [],
    "is_collapsed": false,
    "cell_id": "524efd7f1dcf427f89f93f3eb91739b8",
    "tags": [],
    "deepnote_cell_type": "text-cell-h1"
   }
  },
  {
   "cell_type": "markdown",
   "source": "Author: Avi Chawla\n\nLinkedIn: https://www.linkedin.com/in/avi-chawla/\n\nRead my blogs here: https://medium.com/@avi_chawla",
   "metadata": {
    "cell_id": "845fcd0218c342e385d4ec4f3e663222",
    "tags": [],
    "deepnote_cell_type": "markdown",
    "deepnote_cell_height": 125.171875
   }
  },
  {
   "cell_type": "markdown",
   "source": "## Introduction",
   "metadata": {
    "formattedRanges": [],
    "is_collapsed": false,
    "cell_id": "7f875353207e43deb5bb347a981a6784",
    "tags": [],
    "deepnote_cell_type": "text-cell-h2"
   }
  },
  {
   "cell_type": "markdown",
   "source": "This notebook has been created for you to practice three of the most common tools used in building any machine learning or data science applications, i.e., Pandas, NumPy, and SQL!",
   "metadata": {
    "formattedRanges": [
     {
      "fromCodePoint": 156,
      "toCodePoint": 179,
      "marks": {
       "bold": true
      }
     }
    ],
    "is_collapsed": false,
    "cell_id": "d027f7b79a2f4c239a1f639c62ee5b31",
    "tags": [],
    "deepnote_cell_type": "text-cell-p"
   }
  },
  {
   "cell_type": "markdown",
   "source": "The practice questions provided will serve as a great resource for those who are looking to familiarize themselves with some of the most common functions used in these tools. ",
   "metadata": {
    "formattedRanges": [],
    "is_collapsed": false,
    "cell_id": "4e14aeaf-93f4-4484-a1c2-84fd88ad6ebe",
    "tags": [],
    "deepnote_cell_type": "text-cell-p"
   }
  },
  {
   "cell_type": "markdown",
   "source": "Appropriate descriptions have been provided for all the questions in this entire exercise which will help you navigate through this exercise easily. If a dataset is to be loaded in the python environment, that has also been provided for you. You can find it on the right panel in the Files section. Do NOT delete any of the files/folders listed there. ",
   "metadata": {
    "formattedRanges": [
     {
      "fromCodePoint": 284,
      "toCodePoint": 289,
      "marks": {
       "bold": true
      }
     },
     {
      "fromCodePoint": 302,
      "toCodePoint": 305,
      "marks": {
       "bold": true
      }
     }
    ],
    "is_collapsed": false,
    "cell_id": "7bc00146-5279-4a10-a1aa-efa29edffb83",
    "tags": [],
    "deepnote_cell_type": "text-cell-p"
   }
  },
  {
   "cell_type": "markdown",
   "source": "The whole exercise has been divided into nine separate notebooks. Below are the links to all the other notebooks for you to jump from one notebook to another:",
   "metadata": {
    "formattedRanges": [],
    "is_collapsed": false,
    "cell_id": "fddf7335-854f-4225-b5cc-d43309c8141b",
    "tags": [],
    "deepnote_cell_type": "text-cell-p"
   }
  },
  {
   "cell_type": "markdown",
   "source": "- **Pandas**\n\n1. Pandas Notebook 1: [Link](https://deepnote.com/workspace/avi-chawla-695b-aee6f4ef-2d50-4fb6-9ef2-20ee1022995a/project/Pandas-Notebook-1-d693ac55-6455-40cf-ae34-867c6a02014e/%2Fnotebook.ipynb) \n2. Pandas Notebook 2: [Link](https://deepnote.com/workspace/avi-chawla-695b-aee6f4ef-2d50-4fb6-9ef2-20ee1022995a/project/Pandas-Notebook-employee-dataset-7e3b6755-5d4b-464b-9b75-9c84667ae3bd/%2Fnotebook.ipynb) \n\n3. Pandas Notebook 3: [Link](https://deepnote.com/workspace/avi-chawla-695b-aee6f4ef-2d50-4fb6-9ef2-20ee1022995a/project/Pandas-Notebook-employee-part-2-adc5a3ee-5f61-4725-8e46-ccb07899acfc/%2Fnotebook.ipynb) \n\n4. Pandas Notebook 4: [Link](https://deepnote.com/workspace/avi-chawla-695b-aee6f4ef-2d50-4fb6-9ef2-20ee1022995a/project/Pandas-after-employee-f84e02a1-fb6a-428e-af90-8dd99855749a/%2Fnotebook.ipynb) **(This Notebook)** \n\n- **NumPy**\n\n1. NumPy Notebook 1: [Link](https://deepnote.com/workspace/avi-chawla-695b-aee6f4ef-2d50-4fb6-9ef2-20ee1022995a/project/Numpy-part-1-9b9979f2-b708-4292-b466-3d0157564c91/%2Fnotebook.ipynb)\n\n2. NumPy Notebook 2: [Link](https://deepnote.com/workspace/avi-chawla-695b-aee6f4ef-2d50-4fb6-9ef2-20ee1022995a/project/NumPy-Notebook-2-4456411e-2ddd-426d-8027-4881080027db/%2Fnotebook.ipynb)\n\n3. NumPy Notebook 3: [Link](https://deepnote.com/workspace/avi-chawla-695b-aee6f4ef-2d50-4fb6-9ef2-20ee1022995a/project/NumPy-Notebook-3-e6587114-b580-4249-b599-540de859e603/%2Fnotebook.ipynb)\n\n- **SQL**\n\n1. SQL Notebook 1: [Link](https://deepnote.com/workspace/avi-chawla-695b-aee6f4ef-2d50-4fb6-9ef2-20ee1022995a/project/SQL-Notebook-1-eac9d782-a9b1-4e84-a1f9-af14080a6121/%2Fnotebook.ipynb)\n\n2. SQL Notebook 2: [Link](https://deepnote.com/workspace/avi-chawla-695b-aee6f4ef-2d50-4fb6-9ef2-20ee1022995a/project/SQL-Notebook-2-1914b214-be03-44a1-be63-ad99e98be639/%2Fnotebook.ipynb)",
   "metadata": {
    "cell_id": "3890a680ecf041e7b2c07e903b4902cf",
    "tags": [],
    "deepnote_cell_type": "markdown",
    "deepnote_cell_height": 403.6875
   }
  },
  {
   "cell_type": "markdown",
   "source": "## How to use this notebook?",
   "metadata": {
    "formattedRanges": [],
    "is_collapsed": false,
    "cell_id": "98106bcb90fd40e6b3206151d10bf515",
    "tags": [],
    "deepnote_cell_type": "text-cell-h2"
   }
  },
  {
   "cell_type": "markdown",
   "source": "At the top right corner, you will find a Duplicate button. This will allow you to create a unique notebook for your own practice and write solutions to the question listed in this notebook.  ",
   "metadata": {
    "formattedRanges": [
     {
      "fromCodePoint": 41,
      "toCodePoint": 50,
      "marks": {
       "bold": true
      }
     }
    ],
    "is_collapsed": false,
    "cell_id": "0a87fdd8-977b-4311-ab52-eaa103362e5e",
    "tags": [],
    "deepnote_cell_type": "text-cell-p"
   }
  },
  {
   "cell_type": "markdown",
   "source": "If you face any issues or have any feedback, feel free to reach out to me (Avi Chawla) either on Linkedin: https://www.linkedin.com/in/avi-chawla/ or write an email to avi@dsscholar[dot]com. ",
   "metadata": {
    "cell_id": "0898b89379a34000a2970a0f390d176d",
    "tags": [],
    "deepnote_cell_type": "markdown",
    "deepnote_cell_height": 74.78125
   }
  },
  {
   "cell_type": "markdown",
   "source": "Let's begin 🚀!",
   "metadata": {
    "formattedRanges": [],
    "is_collapsed": false,
    "cell_id": "ed11dcd6160344129644d2834cab1dfd",
    "tags": [],
    "deepnote_cell_type": "text-cell-p"
   }
  },
  {
   "cell_type": "markdown",
   "source": "# Pandas Notebook 4",
   "metadata": {
    "formattedRanges": [],
    "is_collapsed": false,
    "cell_id": "8795016d13a94a7cbf00e25002692565",
    "tags": [],
    "deepnote_cell_type": "text-cell-h1"
   }
  },
  {
   "cell_type": "markdown",
   "source": "### 151. Sort DataFrame based on another list",
   "metadata": {
    "formattedRanges": [],
    "is_collapsed": false,
    "cell_id": "57173e29706d457b839cfc8508aeecd6",
    "tags": [],
    "deepnote_cell_type": "text-cell-h3"
   }
  },
  {
   "cell_type": "code",
   "source": "df = pd.DataFrame([[\"A\", 1], [\"B\", 2],\n                   [\"C\", 3], [\"D\", 4]], columns=[\"col1\", \"col2\"])\n\nsort_list = [\"C\", \"A\", \"D\", \"B\"]\n\n## start your code below\nnew_df = ... \n## end your code here\n\nprint(new_df)",
   "metadata": {
    "cell_id": "c219a6376b6244a7bdc3689ca485397d",
    "tags": [],
    "allow_embed": "code",
    "deepnote_cell_type": "code",
    "deepnote_cell_height": 223
   },
   "execution_count": null,
   "outputs": []
  },
  {
   "cell_type": "markdown",
   "source": "### 152. Insert a column at a specific location in a DataFrame",
   "metadata": {
    "formattedRanges": [],
    "is_collapsed": false,
    "cell_id": "cd2e2d0dd77042af9c30bdc8f4201d92",
    "tags": [],
    "deepnote_cell_type": "text-cell-h3"
   }
  },
  {
   "cell_type": "code",
   "metadata": {
    "cell_id": "0a3f4d6f11c34b9ea3a3bcc268f1b90b",
    "tags": [],
    "deepnote_cell_type": "code",
    "deepnote_cell_height": 259
   },
   "source": "df = pd.DataFrame([[\"A\", 1], [\"B\", 2],\n                   [\"C\", 3], [\"D\", 4]], \n                  columns=[\"col_A\", \"col_B\"])\n\nnew_column = [\"P\", \"Q\", \"R\", \"S\"]\ninsert_position = 1 ## between col_A and col_B\n\n## start your code below\nnew_df = ... \n## end your code here\n\nprint(new_df)",
   "execution_count": null,
   "outputs": []
  },
  {
   "cell_type": "markdown",
   "source": "### 153. Select columns based on the column's Data Type",
   "metadata": {
    "formattedRanges": [],
    "is_collapsed": false,
    "cell_id": "3b77dfac3b17441fa1c32c3357ef455c",
    "tags": [],
    "deepnote_cell_type": "text-cell-h3"
   }
  },
  {
   "cell_type": "code",
   "metadata": {
    "cell_id": "7954755087b74987931c51b6d9a5d660",
    "tags": [],
    "deepnote_cell_type": "code",
    "deepnote_cell_height": 241
   },
   "source": "df = pd.DataFrame([[\"A\", 1, True], [\"B\", 2, False],\n                   [\"C\", 3, False], [\"D\", 4, True]], \n                  columns=[\"col_A\", \"col_B\", \"col_C\"])\n\ndt_type = \"bool\"\n\n## start your code below\nnew_df = ... \n## end your code here\n\nprint(new_df)",
   "execution_count": null,
   "outputs": []
  },
  {
   "cell_type": "markdown",
   "source": "### 154. Count the number of Non-NaN cells for each column",
   "metadata": {
    "formattedRanges": [],
    "is_collapsed": false,
    "cell_id": "c59c0627-9a15-4aa0-afe9-dcccde298886",
    "tags": [],
    "deepnote_cell_type": "text-cell-h3"
   }
  },
  {
   "cell_type": "code",
   "metadata": {
    "cell_id": "835592f1-1f60-4003-8b89-12176e744263",
    "tags": [],
    "deepnote_cell_type": "code",
    "deepnote_cell_height": 205
   },
   "source": "df = pd.DataFrame([[\"A\", np.NaN], [np.NaN, 2],\n                   [\"C\", np.NaN], [\"D\", 4]], \n                  columns=[\"col_A\", \"col_B\"])\n\n## start your code below\nnew_df = ... \n## end your code here\n\nprint(new_df)",
   "execution_count": null,
   "outputs": []
  },
  {
   "cell_type": "markdown",
   "source": "### 155. Split DataFrame into equal parts",
   "metadata": {
    "formattedRanges": [],
    "is_collapsed": false,
    "cell_id": "d07fdc1b-e6fe-4575-812b-15493fea5966",
    "tags": [],
    "deepnote_cell_type": "text-cell-h3"
   }
  },
  {
   "cell_type": "code",
   "metadata": {
    "cell_id": "1d7cfd0b-7778-407d-a5d3-4f342e1fc871",
    "tags": [],
    "deepnote_cell_type": "code",
    "deepnote_cell_height": 241
   },
   "source": "df = pd.DataFrame([[\"A\", 1], [\"B\", 2],\n                   [\"C\", 3], [\"D\", 4]], \n                  columns=[\"col_A\", \"col_B\"])\n\nparts = 2\n\n## start your code below\nnew_df1, new_df2 = ... \n## end your code here\n\nprint(new_df1)",
   "execution_count": null,
   "outputs": []
  },
  {
   "cell_type": "code",
   "metadata": {
    "cell_id": "cf599cc10acb485c81c36aa5e2290bc0",
    "tags": [],
    "deepnote_cell_type": "code",
    "deepnote_cell_height": 61
   },
   "source": "print(new_df2)",
   "execution_count": null,
   "outputs": []
  },
  {
   "cell_type": "markdown",
   "source": "### 156. Reverse DataFrame row-wise",
   "metadata": {
    "formattedRanges": [],
    "is_collapsed": false,
    "cell_id": "95943b37-dbac-4781-84d6-98279ff83276",
    "tags": [],
    "deepnote_cell_type": "text-cell-h3"
   }
  },
  {
   "cell_type": "code",
   "metadata": {
    "cell_id": "42dcfb9a-73db-4055-8dbc-7bcb184f2e1b",
    "tags": [],
    "deepnote_cell_type": "code",
    "deepnote_cell_height": 169
   },
   "source": "df = pd.DataFrame([[\"A\", 1], [\"B\", 2],\n                   [\"C\", 3], [\"D\", 4]], \n                  columns=[\"col_A\", \"col_B\"])\n\n## start your code below\nrow_reverse = ... \n## end your code here",
   "execution_count": null,
   "outputs": []
  },
  {
   "cell_type": "markdown",
   "source": "### 157. Reverse DataFrame column-wise",
   "metadata": {
    "formattedRanges": [],
    "is_collapsed": false,
    "cell_id": "f94ee27e-95b2-45c6-8d51-27d3a42f2ade",
    "tags": [],
    "deepnote_cell_type": "text-cell-h3"
   }
  },
  {
   "cell_type": "code",
   "metadata": {
    "cell_id": "ea8bcf66-50d3-4e83-a73c-de69c05031ae",
    "tags": [],
    "deepnote_cell_type": "code",
    "deepnote_cell_height": 169
   },
   "source": "df = pd.DataFrame([[\"A\", 1], [\"B\", 2],\n                   [\"C\", 3], [\"D\", 4]], \n                  columns=[\"col_A\", \"col_B\"])\n\n## start your code below\ncol_reverse = ... \n## end your code here",
   "execution_count": null,
   "outputs": []
  },
  {
   "cell_type": "markdown",
   "source": "### 158. Insert a row at an arbitrary position",
   "metadata": {
    "formattedRanges": [],
    "is_collapsed": false,
    "cell_id": "82969dbb-941e-4833-a713-cd108406c03c",
    "tags": [],
    "deepnote_cell_type": "text-cell-h3"
   }
  },
  {
   "cell_type": "code",
   "metadata": {
    "cell_id": "f9c3ad6f-82ed-4946-a2a1-8d2ad0a10977",
    "tags": [],
    "deepnote_cell_type": "code",
    "deepnote_cell_height": 223
   },
   "source": "df = pd.DataFrame([[\"A\", 1], [\"B\", 2],\n                   [\"C\", 3], [\"D\", 4]], \n                  columns=[\"col_A\", \"col_B\"])\n\ninsert_pos = 1\ninsert_row = [\"P\", 5]\n\n## start your code below\nnew_df = ... \n## end your code here",
   "execution_count": null,
   "outputs": []
  },
  {
   "cell_type": "markdown",
   "source": "### 159. Apply function to every cell of DataFrame",
   "metadata": {
    "formattedRanges": [],
    "is_collapsed": false,
    "cell_id": "2c872267-ccf4-4cef-b916-27a4f1519cfe",
    "tags": [],
    "deepnote_cell_type": "text-cell-h3"
   }
  },
  {
   "cell_type": "code",
   "metadata": {
    "cell_id": "56c7e353-e31b-4000-9a35-3d2a67b86422",
    "tags": [],
    "deepnote_cell_type": "code",
    "deepnote_cell_height": 259
   },
   "source": "df = pd.DataFrame([[1, 5], [2, 6],\n                   [3, 7], [4, 8]], \n                  columns=[\"col_A\", \"col_B\"])\n\ndef func(num):\n    return num + 1\n\n## start your code below\nnew_df = ... \n## end your code here\n\nprint(new_df)",
   "execution_count": null,
   "outputs": []
  },
  {
   "cell_type": "markdown",
   "source": "### 160. The cumulative sum of a column in DataFrame",
   "metadata": {
    "formattedRanges": [],
    "is_collapsed": false,
    "cell_id": "2593c4e8-607f-4013-ba83-537fd370b60f",
    "tags": [],
    "deepnote_cell_type": "text-cell-h3"
   }
  },
  {
   "cell_type": "code",
   "metadata": {
    "cell_id": "3db4169a-2157-4780-9cd4-a4c3c684baac",
    "tags": [],
    "deepnote_cell_type": "code",
    "deepnote_cell_height": 151
   },
   "source": "df = pd.DataFrame([[\"A\", 1], [\"B\", 2],\n                   [\"C\", 3], [\"D\", 4]], columns=[\"col_A\", \"col_B\"])\n\n## start your code below\nnew_df = ... \n## end your code here",
   "execution_count": null,
   "outputs": []
  },
  {
   "cell_type": "markdown",
   "source": "### 161. Uniquely number individual group in Pandas GroupBy",
   "metadata": {
    "formattedRanges": [],
    "is_collapsed": false,
    "cell_id": "143c0492-4bae-4828-a80c-588ee5be5156",
    "tags": [],
    "deepnote_cell_type": "text-cell-h3"
   }
  },
  {
   "cell_type": "code",
   "metadata": {
    "cell_id": "09bea905-6d56-4cfb-80e2-c587acbe6d6c",
    "tags": [],
    "deepnote_cell_type": "code",
    "deepnote_cell_height": 151
   },
   "source": "df = pd.DataFrame([[\"A\", 1], [\"B\", 2],\n                   [\"C\", 3], [\"D\", 4]], columns=[\"col_A\", \"col_B\"])\n\n## start your code below\nnew_df = ... \n## end your code here",
   "execution_count": null,
   "outputs": []
  },
  {
   "cell_type": "markdown",
   "source": "### 162. Check if column has NaN values",
   "metadata": {
    "formattedRanges": [],
    "is_collapsed": false,
    "cell_id": "bd151d8c-e7dc-4dd1-84c3-fcc82d71f3bb",
    "tags": [],
    "deepnote_cell_type": "text-cell-h3"
   }
  },
  {
   "cell_type": "code",
   "metadata": {
    "cell_id": "e93dea9b-5c29-4fa2-aa91-ccd1f596b557",
    "tags": [],
    "deepnote_cell_type": "code",
    "deepnote_cell_height": 169
   },
   "source": "df = pd.DataFrame([[\"A\", np.NaN], [\"A\", 2], [\"C\", np.NaN], [\"D\", 4]], \n                  columns=[\"col_A\", \"col_B\"])\n\n## start your code below\ncol_A_check = ... \ncol_B_check = ... \n## end your code here",
   "execution_count": null,
   "outputs": []
  },
  {
   "cell_type": "code",
   "metadata": {
    "cell_id": "0427792b9cbc4b73864fb22d2108d623",
    "tags": [],
    "deepnote_cell_type": "code",
    "deepnote_cell_height": 61
   },
   "source": "col_A_check, col_B_check",
   "execution_count": null,
   "outputs": []
  },
  {
   "cell_type": "markdown",
   "source": "### 163. Append a list as a row to a DataFrame",
   "metadata": {
    "formattedRanges": [],
    "is_collapsed": false,
    "cell_id": "c6d803c8-4e56-4a80-86db-c04fb354babc",
    "tags": [],
    "deepnote_cell_type": "text-cell-h3"
   }
  },
  {
   "cell_type": "code",
   "metadata": {
    "cell_id": "33ca74e5-80ff-4c54-b326-45b3b06fb800",
    "tags": [],
    "deepnote_cell_type": "code",
    "deepnote_cell_height": 241
   },
   "source": "df = pd.DataFrame([[\"A\", 1], [\"B\", 2],\n                   [\"C\", 3], [\"D\", 4]], \n                  columns=[\"col_A\", \"col_B\"])\n\nnew_row = [\"E\", 5]\n\n## start your code below\nnew_df = ... \n## end your code here\n\nprint(new_df)",
   "execution_count": null,
   "outputs": []
  },
  {
   "cell_type": "markdown",
   "source": "### 164. Identify the source of each row in Pandas Merge",
   "metadata": {
    "formattedRanges": [],
    "is_collapsed": false,
    "cell_id": "98a31b8c-915b-4bd9-834c-23087e3dc6af",
    "tags": [],
    "deepnote_cell_type": "text-cell-h3"
   }
  },
  {
   "cell_type": "code",
   "metadata": {
    "cell_id": "838eb4d1-6802-4525-9900-de049fda8637",
    "tags": [],
    "deepnote_cell_type": "code",
    "deepnote_cell_height": 241
   },
   "source": "df1 = pd.DataFrame([[\"A\", 1], [\"B\", 2]], \n                  columns=[\"col_A\", \"col_B\"])\n\ndf2 = pd.DataFrame([[\"A\", 3], [\"C\", 4]], \n                  columns=[\"col_A\", \"col_C\"])\n\n## start your code below\nnew_df = ... \n## end your code here\n\nprint(new_df)",
   "execution_count": null,
   "outputs": []
  },
  {
   "cell_type": "markdown",
   "source": "### 165. Filter n-largest values from a DataFrame",
   "metadata": {
    "formattedRanges": [],
    "is_collapsed": false,
    "cell_id": "b5a9a730-1a20-4aa2-92d6-e0a092a77855",
    "tags": [],
    "deepnote_cell_type": "text-cell-h3"
   }
  },
  {
   "cell_type": "code",
   "metadata": {
    "cell_id": "fb71b112-f081-48a8-80fa-90d8cebaea6f",
    "tags": [],
    "deepnote_cell_type": "code",
    "deepnote_cell_height": 205
   },
   "source": "df = pd.DataFrame([[\"A\", 200], [\"B\", 400],\n                   [\"C\", 100], [\"D\", 300]], \n                  columns=[\"col_A\", \"col_B\"])\n\nk = 2\n\n## start your code below\nlargest_k = ... \n## end your code here",
   "execution_count": null,
   "outputs": []
  },
  {
   "cell_type": "markdown",
   "source": "### 166. Filter n-smallest values from a DataFrame",
   "metadata": {
    "formattedRanges": [],
    "is_collapsed": false,
    "cell_id": "09e0bad2-865a-45fc-afd9-b14ac84ad77e",
    "tags": [],
    "deepnote_cell_type": "text-cell-h3"
   }
  },
  {
   "cell_type": "code",
   "metadata": {
    "cell_id": "cfa57179689348aa86f6fa6716996398",
    "tags": [],
    "deepnote_cell_type": "code",
    "deepnote_cell_height": 205
   },
   "source": "df = pd.DataFrame([[\"A\", 200], [\"B\", 400],\n                   [\"C\", 100], [\"D\", 300]], \n                  columns=[\"col_A\", \"col_B\"])\n\nk = 2\n\n## start your code below\nsmallest_k = ... \n## end your code here",
   "execution_count": null,
   "outputs": []
  },
  {
   "cell_type": "markdown",
   "source": "### 167. Map categorical data to unique integral values",
   "metadata": {
    "formattedRanges": [],
    "is_collapsed": false,
    "cell_id": "b9fcc12c-d59b-4075-bfea-9388be7cd3c3",
    "tags": [],
    "deepnote_cell_type": "text-cell-h3"
   }
  },
  {
   "cell_type": "code",
   "metadata": {
    "cell_id": "62bf8546-170c-4ae5-9bd2-75ed6258d4b0",
    "tags": [],
    "deepnote_cell_type": "code",
    "deepnote_cell_height": 205
   },
   "source": "df = pd.DataFrame([[\"A\", 1], [\"B\", 2],\n                   [\"A\", 3], [\"D\", 4]], \n                  columns=[\"col_A\", \"col_B\"])\n\n## start your code below\nnew_df = ... \n## end your code here\n\nprint(new_df)",
   "execution_count": null,
   "outputs": []
  },
  {
   "cell_type": "markdown",
   "source": "### 168. Add prefix to every column name",
   "metadata": {
    "formattedRanges": [],
    "is_collapsed": false,
    "cell_id": "59bbbabe-33f5-4474-9955-80710d4b8091",
    "tags": [],
    "deepnote_cell_type": "text-cell-h3"
   }
  },
  {
   "cell_type": "code",
   "metadata": {
    "cell_id": "168c62e2-57a5-437e-878c-521eb7ff9c93",
    "tags": [],
    "deepnote_cell_type": "code",
    "deepnote_cell_height": 205
   },
   "source": "df = pd.DataFrame([[\"A\", 1], [\"B\", 2],\n                   [\"C\", 3], [\"D\", 4]], \n                  columns=[\"col_A\", \"col_B\"])\n\n## start your code below\nnew_df = ... \n## end your code here\n\nprint(new_df)",
   "execution_count": null,
   "outputs": []
  },
  {
   "cell_type": "markdown",
   "source": "### 169. Delete the rows that have NaN values",
   "metadata": {
    "formattedRanges": [],
    "is_collapsed": false,
    "cell_id": "2e182a53a60d411ea2a4ef8da5c1c968",
    "tags": [],
    "deepnote_cell_type": "text-cell-h3"
   }
  },
  {
   "cell_type": "code",
   "metadata": {
    "cell_id": "2a1396fdcabd4c5f886295de66045968",
    "tags": [],
    "deepnote_cell_type": "code",
    "deepnote_cell_height": 205
   },
   "source": "df = pd.DataFrame([[\"A\", np.NaN], [\"B\", 2],\n                   [\"C\", np.NaN], [\"D\", 4]], \n                  columns=[\"col_A\", \"col_B\"])\n\n## start your code below\nnew_df = ... \n## end your code here\n\nprint(new_df)",
   "execution_count": null,
   "outputs": []
  },
  {
   "cell_type": "markdown",
   "source": "### 170. Fill NaN values with 1",
   "metadata": {
    "formattedRanges": [],
    "is_collapsed": false,
    "cell_id": "cec4deff7f91465aa6b26b851075f58d",
    "tags": [],
    "deepnote_cell_type": "text-cell-h3"
   }
  },
  {
   "cell_type": "code",
   "metadata": {
    "cell_id": "5de48f2514834405924a7f463806c3b3",
    "tags": [],
    "deepnote_cell_type": "code",
    "deepnote_cell_height": 205
   },
   "source": "df = pd.DataFrame([[\"A\", np.NaN], [\"B\", 2],\n                   [\"C\", np.NaN], [\"D\", 4]], \n                  columns=[\"col_A\", \"col_B\"])\n\n## start your code below\nnew_df = ... \n## end your code here\n\nprint(new_df)",
   "execution_count": null,
   "outputs": []
  },
  {
   "cell_type": "markdown",
   "source": "### 171. Fill NaN values with column mean",
   "metadata": {
    "formattedRanges": [],
    "is_collapsed": false,
    "cell_id": "c411c76d-6b01-4ad9-b3c2-2a39795121d7",
    "tags": [],
    "deepnote_cell_type": "text-cell-h3"
   }
  },
  {
   "cell_type": "code",
   "metadata": {
    "cell_id": "47b52b9457e94be396529a2f722836a8",
    "tags": [],
    "deepnote_cell_type": "code",
    "deepnote_cell_height": 205
   },
   "source": "df = pd.DataFrame([[\"A\", np.NaN], [\"B\", 2],\n                   [\"C\", np.NaN], [\"D\", 4]], \n                  columns=[\"col_A\", \"col_B\"])\n\n## start your code below\nnew_df = ... \n## end your code here\n\nprint(new_df)",
   "execution_count": null,
   "outputs": []
  },
  {
   "cell_type": "markdown",
   "source": "### 172. Fill NaN values with column mode",
   "metadata": {
    "formattedRanges": [],
    "is_collapsed": false,
    "cell_id": "9cb7e931-7632-4aa1-964e-ffea24fc3b3f",
    "tags": [],
    "deepnote_cell_type": "text-cell-h3"
   }
  },
  {
   "cell_type": "code",
   "metadata": {
    "cell_id": "5559b6ece46745389f3ddeaf0b883eef",
    "tags": [],
    "deepnote_cell_type": "code",
    "deepnote_cell_height": 223
   },
   "source": "df = pd.DataFrame([[\"A\", 1], [np.NaN, 2],\n                   [\"A\", 3], [np.NaN, 4], \n                   [\"B\", 5], [\"C\", 6]], \n                  columns=[\"col_A\", \"col_B\"])\n\n## start your code below\nnew_df = ... \n## end your code here\n\nprint(new_df)",
   "execution_count": null,
   "outputs": []
  },
  {
   "cell_type": "markdown",
   "source": "### 173. Swap two rows of a dataframe",
   "metadata": {
    "formattedRanges": [],
    "is_collapsed": false,
    "cell_id": "b7ea935cf0034e0f8c3a3cf1d4b12ee5",
    "tags": [],
    "deepnote_cell_type": "text-cell-h3"
   }
  },
  {
   "cell_type": "code",
   "source": "df = pd.DataFrame([[\"A\", 1], [\"B\", 2],\n                   [\"C\", 3], [\"D\", 4]], \n                  columns=[\"col_A\", \"col_B\"])\n\n# swap second and last row\nrow_1, row_2 = 1, 3 \n\n## start your code below\nnew_df = ... \n## end your code here\n\nprint(new_df)",
   "metadata": {
    "cell_id": "8ab76088be4640d49ae8cbbcd2d0e7f0",
    "tags": [],
    "allow_embed": "code",
    "deepnote_cell_type": "code",
    "deepnote_cell_height": 259
   },
   "execution_count": null,
   "outputs": []
  },
  {
   "cell_type": "markdown",
   "source": "### 174. Create a column \"col4\" that contains the 2nd largest value in each row",
   "metadata": {
    "formattedRanges": [],
    "is_collapsed": false,
    "cell_id": "04080eed71f542f1b2ebbf705f7aaec5",
    "tags": [],
    "deepnote_cell_type": "text-cell-h3"
   }
  },
  {
   "cell_type": "code",
   "metadata": {
    "cell_id": "33b4fde3ed75488c8696c0daea44b5cb",
    "tags": [],
    "deepnote_cell_type": "code",
    "deepnote_cell_height": 259
   },
   "source": "df = pd.DataFrame([[4, 1, 5], \n                   [5, 2, 9],\n                   [2, 9, 3], \n                   [8, 5, 4]], \n                  columns=[\"col_A\", \"col_B\", \"col_C\"])\n\n\n## start your code below\nnew_df = ... \n## end your code here\n\nprint(new_df)",
   "execution_count": null,
   "outputs": []
  },
  {
   "cell_type": "markdown",
   "source": "### 175. Replace the values on the main diagonal of the dataframe with 0",
   "metadata": {
    "formattedRanges": [],
    "is_collapsed": false,
    "cell_id": "fab3956449b44f2f9f494c7a059aa9ba",
    "tags": [],
    "deepnote_cell_type": "text-cell-h3"
   }
  },
  {
   "cell_type": "code",
   "metadata": {
    "cell_id": "2a28db6b8c8c464880379e66ff10abd1",
    "tags": [],
    "deepnote_cell_type": "code",
    "deepnote_cell_height": 223
   },
   "source": "df = pd.DataFrame([[4, 1, 5, 10], [5, 2, 9, 4],\n                   [2, 9, 3, 1],  [1, 7, 3,10]], \n                  columns=[\"col_A\", \"col_B\", \"col_C\", \"col_D\"])\n\n\n## start your code below\nnew_df = ... \n## end your code here\n\nprint(new_df)",
   "execution_count": null,
   "outputs": []
  },
  {
   "cell_type": "markdown",
   "source": "### 176. Get the Group \"A\" of the dataframe by first grouping the dataframe and then using the group key. ",
   "metadata": {
    "formattedRanges": [],
    "is_collapsed": false,
    "cell_id": "dbadd6efd58b426280a4218c09fa8a08",
    "tags": [],
    "deepnote_cell_type": "text-cell-h3"
   }
  },
  {
   "cell_type": "code",
   "metadata": {
    "cell_id": "a9e59a27d2d741aaba6585e11dabe4d2",
    "tags": [],
    "deepnote_cell_type": "code",
    "deepnote_cell_height": 223
   },
   "source": "df = pd.DataFrame([[\"A\", 1], [\"B\", 2],\n                   [\"A\", 3], [\"D\", 4]], \n                  columns=[\"col_A\", \"col_B\"])\n\n\n## start your code below\nnew_df = ... \n## end your code here\n\nprint(new_df)",
   "execution_count": null,
   "outputs": []
  },
  {
   "cell_type": "markdown",
   "source": "### 177. Fetch the rows where the value in \"col_C\" does not belong to \"col_B\". ",
   "metadata": {
    "formattedRanges": [],
    "is_collapsed": false,
    "cell_id": "1f6c0522af90454f9f0575f2e8ef67c1",
    "tags": [],
    "deepnote_cell_type": "text-cell-h3"
   }
  },
  {
   "cell_type": "code",
   "metadata": {
    "cell_id": "431811b6a3c74e2399349a987c89d8ef",
    "tags": [],
    "deepnote_cell_type": "code",
    "deepnote_cell_height": 259
   },
   "source": "df = pd.DataFrame([[4, 1, 5], \n                   [5, 2, 9],\n                   [2, 9, 3], \n                   [8, 5, 4]], \n                  columns=[\"col_A\", \"col_B\", \"col_C\"])\n\n\n## start your code below\nnew_df = ... \n## end your code here\n\nprint(new_df)",
   "execution_count": null,
   "outputs": []
  },
  {
   "cell_type": "markdown",
   "source": "### 178. Get the rows where the value of \"col_A\" is equal to \"col_B\".",
   "metadata": {
    "formattedRanges": [],
    "is_collapsed": false,
    "cell_id": "7def8c2b9cfc4c269a1e12be8727487f",
    "tags": [],
    "deepnote_cell_type": "text-cell-h3"
   }
  },
  {
   "cell_type": "code",
   "metadata": {
    "cell_id": "a3e2f3d9cfa6475baa6bcb9971bbd0ef",
    "tags": [],
    "deepnote_cell_type": "code",
    "deepnote_cell_height": 259
   },
   "source": "df = pd.DataFrame([[4, 1, 5], \n                   [5, 5, 9],\n                   [2, 9, 3], \n                   [8, 5, 8]], \n                  columns=[\"col_A\", \"col_B\", \"col_C\"])\n\n\n## start your code below\nnew_df = ... \n## end your code here\n\nprint(new_df)",
   "execution_count": null,
   "outputs": []
  },
  {
   "cell_type": "markdown",
   "source": "### 179. Get the rows where (the value of \"col_A\" is equal to \"col_B\") OR (the value of \"col_A\" is equal to \"col_C\").",
   "metadata": {
    "formattedRanges": [],
    "is_collapsed": false,
    "cell_id": "619f5a68-f225-46d8-9c9b-3b5186348ad2",
    "tags": [],
    "deepnote_cell_type": "text-cell-h3"
   }
  },
  {
   "cell_type": "code",
   "metadata": {
    "cell_id": "15955f65a95d408990063df99621b20c",
    "tags": [],
    "deepnote_cell_type": "code",
    "deepnote_cell_height": 259
   },
   "source": "df = pd.DataFrame([[4, 1, 5], \n                   [5, 5, 9],\n                   [2, 9, 3], \n                   [8, 5, 8]], \n                  columns=[\"col_A\", \"col_B\", \"col_C\"])\n\n\n## start your code below\nnew_df = ... \n## end your code here\n\nprint(new_df)",
   "execution_count": null,
   "outputs": []
  },
  {
   "cell_type": "markdown",
   "source": "### 180. Sort the Data on col_A and col_B",
   "metadata": {
    "formattedRanges": [],
    "is_collapsed": false,
    "cell_id": "dc2efcacb9da493280803aa02ebc2e4e",
    "tags": [],
    "deepnote_cell_type": "text-cell-h3"
   }
  },
  {
   "cell_type": "markdown",
   "source": "col_A -> Ascending\ncol_B -> Ascending",
   "metadata": {
    "cell_id": "e814696c40cd46228e0f3269c7cc7bb8",
    "tags": [],
    "deepnote_cell_type": "markdown",
    "deepnote_cell_height": 74.78125
   }
  },
  {
   "cell_type": "code",
   "metadata": {
    "cell_id": "a19d8553ea664f8283ac582dce6112c6",
    "tags": [],
    "deepnote_cell_type": "code",
    "deepnote_cell_height": 259
   },
   "source": "df = pd.DataFrame([[4, 1, 5], \n                   [5, 5, 9],\n                   [2, 9, 3], \n                   [8, 5, 8]], \n                  columns=[\"col_A\", \"col_B\", \"col_C\"])\n\n\n## start your code below\nnew_df = ... \n## end your code here\n\nprint(new_df)",
   "execution_count": null,
   "outputs": []
  },
  {
   "cell_type": "markdown",
   "source": "### 181. Sort the Data on col_A and col_B",
   "metadata": {
    "formattedRanges": [],
    "is_collapsed": false,
    "cell_id": "18ca4823-5688-4dab-9f8b-f46437ca7dc7",
    "tags": [],
    "deepnote_cell_type": "text-cell-h3"
   }
  },
  {
   "cell_type": "markdown",
   "source": "col_A -> Ascending\ncol_B -> Descending",
   "metadata": {
    "cell_id": "94ecd97cecd7466ba78684487ef6165f",
    "tags": [],
    "deepnote_cell_type": "markdown",
    "deepnote_cell_height": 74.78125
   }
  },
  {
   "cell_type": "code",
   "metadata": {
    "cell_id": "5cc1a1f55f3d499485ee90252a75b764",
    "tags": [],
    "deepnote_cell_type": "code",
    "deepnote_cell_height": 259
   },
   "source": "df = pd.DataFrame([[4, 1, 5], \n                   [5, 5, 9],\n                   [2, 9, 3], \n                   [8, 5, 8]], \n                  columns=[\"col_A\", \"col_B\", \"col_C\"])\n\n\n## start your code below\nnew_df = ... \n## end your code here\n\nprint(new_df)",
   "execution_count": null,
   "outputs": []
  },
  {
   "cell_type": "markdown",
   "source": "### 182. Get the mean of every column",
   "metadata": {
    "formattedRanges": [],
    "is_collapsed": false,
    "cell_id": "b7232791-535a-40c7-a165-3037562d2fb0",
    "tags": [],
    "deepnote_cell_type": "text-cell-h3"
   }
  },
  {
   "cell_type": "code",
   "metadata": {
    "cell_id": "c2c24567-2f5a-4005-bca1-b0bb90c9f1bf",
    "tags": [],
    "deepnote_cell_type": "code",
    "deepnote_cell_height": 259
   },
   "source": "df = pd.DataFrame([[4, 1, 5], \n                   [5, 5, 9],\n                   [2, 9, 3], \n                   [8, 5, 8]], \n                  columns=[\"col_A\", \"col_B\", \"col_C\"])\n\n\n## start your code below\nmean = ... \n## end your code here\n\nprint(mean)",
   "execution_count": null,
   "outputs": []
  },
  {
   "cell_type": "markdown",
   "source": "### 182. Get the mean of every row",
   "metadata": {
    "formattedRanges": [],
    "is_collapsed": false,
    "cell_id": "1cc9d2ee-d55a-4030-8865-70af47c7ea0a",
    "tags": [],
    "deepnote_cell_type": "text-cell-h3"
   }
  },
  {
   "cell_type": "code",
   "metadata": {
    "cell_id": "5817f3f6-4292-473f-b6e9-3d07ce0f089a",
    "tags": [],
    "deepnote_cell_type": "code",
    "deepnote_cell_height": 259
   },
   "source": "df = pd.DataFrame([[4, 1, 5], \n                   [5, 5, 9],\n                   [2, 9, 3], \n                   [8, 5, 8]], \n                  columns=[\"col_A\", \"col_B\", \"col_C\"])\n\n\n## start your code below\nmean = ... \n## end your code here\n\nprint(mean)",
   "execution_count": null,
   "outputs": []
  },
  {
   "cell_type": "markdown",
   "source": "### 183. Concatentate the two DataFrames row-wise",
   "metadata": {
    "formattedRanges": [],
    "is_collapsed": false,
    "cell_id": "77ad3b64-0f22-42d6-bd6e-ab716909176d",
    "tags": [],
    "deepnote_cell_type": "text-cell-h3"
   }
  },
  {
   "cell_type": "code",
   "metadata": {
    "cell_id": "5167c81f-f140-44fc-99c4-5d9922a4fbac",
    "tags": [],
    "deepnote_cell_type": "code",
    "deepnote_cell_height": 241
   },
   "source": "df1 = pd.DataFrame([[\"A\", 1], [\"B\", 2]], \n                  columns=[\"col_A\", \"col_B\"])\n\ndf2 = pd.DataFrame([[\"A\", 3], [\"C\", 4]], \n                  columns=[\"col_A\", \"col_B\"])\n\n## start your code below\nnew_df = ... \n## end your code here\n\nprint(new_df)",
   "execution_count": null,
   "outputs": []
  },
  {
   "cell_type": "markdown",
   "source": "### 184. Concatentate the two DataFrames column-wise",
   "metadata": {
    "formattedRanges": [],
    "is_collapsed": false,
    "cell_id": "a1b90206-14b2-4599-b13b-40428c666c01",
    "tags": [],
    "deepnote_cell_type": "text-cell-h3"
   }
  },
  {
   "cell_type": "code",
   "metadata": {
    "cell_id": "53ed8ca6-3981-47c1-b284-cd1c957e19cf",
    "tags": [],
    "deepnote_cell_type": "code",
    "deepnote_cell_height": 241
   },
   "source": "df1 = pd.DataFrame([[\"A\", 1], [\"B\", 2]], \n                  columns=[\"col_A\", \"col_B\"])\n\ndf2 = pd.DataFrame([[\"A\", 3], [\"C\", 4]], \n                  columns=[\"col_C\", \"col_D\"])\n\n## start your code below\nnew_df = ... \n## end your code here\n\nprint(new_df)",
   "execution_count": null,
   "outputs": []
  },
  {
   "cell_type": "markdown",
   "source": "### 185. Change the last two values in the last column to [2,4]",
   "metadata": {
    "formattedRanges": [],
    "is_collapsed": false,
    "cell_id": "5557cb05-7b7b-4c07-a7bb-442781dfb5e9",
    "tags": [],
    "deepnote_cell_type": "text-cell-h3"
   }
  },
  {
   "cell_type": "markdown",
   "source": "Change 3 -> 2\nChange 8 -> 4 \n\n**Note: You should do this in a single line of code**",
   "metadata": {
    "cell_id": "4a2cb16bb5e946d497cefff95aec0870",
    "tags": [],
    "deepnote_cell_type": "markdown",
    "deepnote_cell_height": 111.171875
   }
  },
  {
   "cell_type": "code",
   "metadata": {
    "cell_id": "b8aaf645-d944-4a55-a018-2fcd01c91787",
    "tags": [],
    "deepnote_cell_type": "code",
    "deepnote_cell_height": 259
   },
   "source": "df = pd.DataFrame([[4, 1, 5], \n                   [5, 5, 9],\n                   [2, 9, 3], \n                   [8, 5, 8]], \n                  columns=[\"col_A\", \"col_B\", \"col_C\"])\n\n\n## start your code below\nnew_df = ... \n## end your code here\n\nprint(new_df)",
   "execution_count": null,
   "outputs": []
  },
  {
   "cell_type": "markdown",
   "source": "### 186. Replace all '1' with '2'",
   "metadata": {
    "formattedRanges": [],
    "is_collapsed": false,
    "cell_id": "3208b3b2-d3f8-4977-a4e7-f3aa859cd11b",
    "tags": [],
    "deepnote_cell_type": "text-cell-h3"
   }
  },
  {
   "cell_type": "code",
   "metadata": {
    "cell_id": "eed19900-a51b-4391-8d2f-fd7696101c04",
    "tags": [],
    "deepnote_cell_type": "code",
    "deepnote_cell_height": 259
   },
   "source": "df = pd.DataFrame([[4, 1, 5], \n                   [5, 5, 1],\n                   [1, 9, 3], \n                   [8, 5, 8]], \n                  columns=[\"col_A\", \"col_B\", \"col_C\"])\n\n\n## start your code below\nnew_df = ... \n## end your code here\n\nprint(new_df)",
   "execution_count": null,
   "outputs": []
  },
  {
   "cell_type": "markdown",
   "source": "### 187. Replace all '1' with '2' and '5' with '6' in a single line of code",
   "metadata": {
    "formattedRanges": [],
    "is_collapsed": false,
    "cell_id": "da5ebeef-a571-4cad-b138-6390d0d1bc45",
    "tags": [],
    "deepnote_cell_type": "text-cell-h3"
   }
  },
  {
   "cell_type": "code",
   "metadata": {
    "cell_id": "23b33a01-3997-4620-8be3-b459fbd2bba6",
    "tags": [],
    "deepnote_cell_type": "code",
    "deepnote_cell_height": 259
   },
   "source": "df = pd.DataFrame([[4, 1, 5], \n                   [5, 5, 1],\n                   [1, 9, 3], \n                   [8, 5, 8]], \n                  columns=[\"col_A\", \"col_B\", \"col_C\"])\n\n\n## start your code below\nnew_df = ... \n## end your code here\n\nprint(new_df)",
   "execution_count": null,
   "outputs": []
  },
  {
   "cell_type": "markdown",
   "source": "### 188. Sample 2 random rows from the DataFrame",
   "metadata": {
    "formattedRanges": [],
    "is_collapsed": false,
    "cell_id": "067384df-7c4c-464b-ab30-3931c34b5996",
    "tags": [],
    "deepnote_cell_type": "text-cell-h3"
   }
  },
  {
   "cell_type": "code",
   "metadata": {
    "cell_id": "4d48c462-3fb6-495e-b496-6983e6daf243",
    "tags": [],
    "deepnote_cell_type": "code",
    "deepnote_cell_height": 259
   },
   "source": "df = pd.DataFrame([[4, 1, 5], \n                   [5, 5, 1],\n                   [1, 9, 3], \n                   [8, 5, 8]], \n                  columns=[\"col_A\", \"col_B\", \"col_C\"])\n\n\n## start your code below\nsample_df = ... \n## end your code here\n\nprint(sample_df)",
   "execution_count": null,
   "outputs": []
  },
  {
   "cell_type": "markdown",
   "source": "### 189. Convert the DataFrame to a list of lists. Don't include the header row.",
   "metadata": {
    "formattedRanges": [],
    "is_collapsed": false,
    "cell_id": "96430d01-92f4-4402-ad35-488d4d926b59",
    "tags": [],
    "deepnote_cell_type": "text-cell-h3"
   }
  },
  {
   "cell_type": "code",
   "metadata": {
    "cell_id": "896d1ec9-02c0-40ec-90b4-d70ca2478332",
    "tags": [],
    "deepnote_cell_type": "code",
    "deepnote_cell_height": 259
   },
   "source": "df = pd.DataFrame([[4, 1, 5], \n                   [5, 5, 1],\n                   [1, 9, 3], \n                   [8, 5, 8]], \n                  columns=[\"col_A\", \"col_B\", \"col_C\"])\n\n\n## start your code below\ndata_list = ... \n## end your code here\n\nprint(data_list)",
   "execution_count": null,
   "outputs": []
  },
  {
   "cell_type": "markdown",
   "source": "### 190. Add three new columns that show the cumulative sum of every column",
   "metadata": {
    "formattedRanges": [],
    "is_collapsed": false,
    "cell_id": "17dd010d-8499-4c41-9d2f-cfe2f77f2032",
    "tags": [],
    "deepnote_cell_type": "text-cell-h3"
   }
  },
  {
   "cell_type": "code",
   "metadata": {
    "cell_id": "f488c737-a732-43a2-8e50-8fd0948910de",
    "tags": [],
    "deepnote_cell_type": "code",
    "deepnote_cell_height": 259
   },
   "source": "df = pd.DataFrame([[4, 1, 5], \n                   [5, 5, 1],\n                   [1, 9, 3], \n                   [8, 5, 8]], \n                  columns=[\"col_A\", \"col_B\", \"col_C\"])\n\n\n## start your code below\ndata_list = ... \n## end your code here\n\nprint(data_list)",
   "execution_count": null,
   "outputs": []
  },
  {
   "cell_type": "markdown",
   "source": "### 191. Print the cumulative sum of every row in a new column. ",
   "metadata": {
    "formattedRanges": [],
    "is_collapsed": false,
    "cell_id": "d54a419f-e417-4283-9668-1b7a604b2261",
    "tags": [],
    "deepnote_cell_type": "text-cell-h3"
   }
  },
  {
   "cell_type": "markdown",
   "source": "### In other words, make a column that stores the cumulative sum of the (sum of every row).",
   "metadata": {
    "formattedRanges": [],
    "is_collapsed": false,
    "cell_id": "041bc7c9-ef62-48a8-919e-1dd9d08c8979",
    "tags": [],
    "deepnote_cell_type": "text-cell-h3"
   }
  },
  {
   "cell_type": "code",
   "metadata": {
    "cell_id": "517eb834-042a-4e41-8a9d-b093e42ee9d7",
    "tags": [],
    "deepnote_cell_type": "code",
    "deepnote_cell_height": 259
   },
   "source": "df = pd.DataFrame([[4, 1, 5], \n                   [5, 5, 1],\n                   [1, 9, 3], \n                   [8, 5, 8]], \n                  columns=[\"col_A\", \"col_B\", \"col_C\"])\n\n\n## start your code below\nnew_df = ... \n## end your code here\n\nprint(new_df)",
   "execution_count": null,
   "outputs": []
  },
  {
   "cell_type": "markdown",
   "source": "### 192. Find the frequency of every element in col_A",
   "metadata": {
    "formattedRanges": [],
    "is_collapsed": false,
    "cell_id": "b1055db8-2d4c-425b-bf35-51e18722753f",
    "tags": [],
    "deepnote_cell_type": "text-cell-h3"
   }
  },
  {
   "cell_type": "code",
   "metadata": {
    "cell_id": "848e9351-1ba3-48ca-b6c6-c08d6c913a5f",
    "tags": [],
    "deepnote_cell_type": "code",
    "deepnote_cell_height": 259
   },
   "source": "df = pd.DataFrame([[\"A\", 1, 5], \n                   [\"B\", 5, 1],\n                   [\"C\", 9, 3], \n                   [\"A\", 5, 8]], \n                  columns=[\"col_A\", \"col_B\", \"col_C\"])\n\n\n## start your code below\nnew_df = ... \n## end your code here\n\nprint(new_df)",
   "execution_count": null,
   "outputs": []
  },
  {
   "cell_type": "markdown",
   "source": "### 193. Normalize the frequency of every element in col_A",
   "metadata": {
    "formattedRanges": [],
    "is_collapsed": false,
    "cell_id": "d915b44b-a7d0-4033-9d25-fe5eaa59ce5d",
    "tags": [],
    "deepnote_cell_type": "text-cell-h3"
   }
  },
  {
   "cell_type": "code",
   "metadata": {
    "cell_id": "6291c65a-fd67-46bd-a363-7ae384e0a6d3",
    "tags": [],
    "deepnote_cell_type": "code",
    "deepnote_cell_height": 259
   },
   "source": "df = pd.DataFrame([[\"A\", 1, 5], \n                   [\"B\", 5, 1],\n                   [\"C\", 9, 3], \n                   [\"A\", 5, 8]], \n                  columns=[\"col_A\", \"col_B\", \"col_C\"])\n\n\n## start your code below\nnew_df = ... \n## end your code here\n\nprint(new_df)",
   "execution_count": null,
   "outputs": []
  },
  {
   "cell_type": "markdown",
   "source": "### 194. GroupBy col_A, then find the sum of col_B and mean of col_C",
   "metadata": {
    "formattedRanges": [],
    "is_collapsed": false,
    "cell_id": "9f3ab78e-d3de-4ac3-ac23-e25b5fa76f5b",
    "tags": [],
    "deepnote_cell_type": "text-cell-h3"
   }
  },
  {
   "cell_type": "code",
   "metadata": {
    "cell_id": "b897841f-a06d-4434-8409-03e57ec4fb4c",
    "tags": [],
    "deepnote_cell_type": "code",
    "deepnote_cell_height": 259
   },
   "source": "df = pd.DataFrame([[\"A\", 1, 5], \n                   [\"B\", 5, 1],\n                   [\"C\", 9, 3], \n                   [\"A\", 5, 8]], \n                  columns=[\"col_A\", \"col_B\", \"col_C\"])\n\n\n## start your code below\nnew_df = ... \n## end your code here\n\nprint(new_df)",
   "execution_count": null,
   "outputs": []
  },
  {
   "cell_type": "markdown",
   "source": "### 195. Find the correlation between every pair of column",
   "metadata": {
    "formattedRanges": [],
    "is_collapsed": false,
    "cell_id": "556ffff0-f351-46ad-ae63-816e3620be32",
    "tags": [],
    "deepnote_cell_type": "text-cell-h3"
   }
  },
  {
   "cell_type": "code",
   "metadata": {
    "cell_id": "6ac985fd-ee69-42f3-bb62-025c835aee86",
    "tags": [],
    "deepnote_cell_type": "code",
    "deepnote_cell_height": 259
   },
   "source": "df = pd.DataFrame([[4, 1, 5], \n                   [5, 5, 1],\n                   [1, 9, 3], \n                   [8, 5, 8]], \n                  columns=[\"col_A\", \"col_B\", \"col_C\"])\n\n\n## start your code below\nnew_df = ... \n## end your code here\n\nprint(new_df)",
   "execution_count": null,
   "outputs": []
  },
  {
   "cell_type": "markdown",
   "source": "### 196. GroupBy col_A, then compute a new column as (10*col_B/col_C)",
   "metadata": {
    "formattedRanges": [],
    "is_collapsed": false,
    "cell_id": "f5184441-94de-422f-a864-2a8ffcf2dc0f",
    "tags": [],
    "deepnote_cell_type": "text-cell-h3"
   }
  },
  {
   "cell_type": "code",
   "metadata": {
    "cell_id": "8b124e58-db00-4205-870d-500de3539452",
    "tags": [],
    "deepnote_cell_type": "code",
    "deepnote_cell_height": 259
   },
   "source": "df = pd.DataFrame([[4, 1, 5], \n                   [5, 5, 1],\n                   [1, 9, 3], \n                   [8, 5, 8]], \n                  columns=[\"col_A\", \"col_B\", \"col_C\"])\n\n\n## start your code below\nnew_df = ... \n## end your code here\n\nprint(new_df)",
   "execution_count": null,
   "outputs": []
  },
  {
   "cell_type": "markdown",
   "source": "### 197. GroupBy col_A, then compute a new column as (10*col_B/col_C). Project the new column back to the original dataframe",
   "metadata": {
    "formattedRanges": [],
    "is_collapsed": false,
    "cell_id": "4284a624-0bb3-4602-a405-7990a4646815",
    "tags": [],
    "deepnote_cell_type": "text-cell-h3"
   }
  },
  {
   "cell_type": "code",
   "metadata": {
    "cell_id": "a8332f98-0a10-4a1a-aaf2-0ca5bb8229df",
    "tags": [],
    "deepnote_cell_type": "code",
    "deepnote_cell_height": 259
   },
   "source": "df = pd.DataFrame([[4, 1, 5], \n                   [5, 5, 1],\n                   [1, 9, 3], \n                   [8, 5, 8]], \n                  columns=[\"col_A\", \"col_B\", \"col_C\"])\n\n\n## start your code below\nnew_df = ... \n## end your code here\n\nprint(new_df)",
   "execution_count": null,
   "outputs": []
  },
  {
   "cell_type": "markdown",
   "source": "### 198. Merge the two dataframes using the join() method on col_A.",
   "metadata": {
    "formattedRanges": [],
    "is_collapsed": false,
    "cell_id": "f2e53da2-791f-4d43-be1d-c9d3e03d8fbf",
    "tags": [],
    "deepnote_cell_type": "text-cell-h3"
   }
  },
  {
   "cell_type": "code",
   "metadata": {
    "cell_id": "c41eb970-c29d-4e00-87ba-ea56b9c2255d",
    "tags": [],
    "deepnote_cell_type": "code",
    "deepnote_cell_height": 241
   },
   "source": "df1 = pd.DataFrame([[\"A\", 1], [\"B\", 2]], \n                  columns=[\"col_A\", \"col_B\"])\n\ndf2 = pd.DataFrame([[\"A\", 3], [\"C\", 4]], \n                  columns=[\"col_A\", \"col_C\"])\n\n## start your code below\nnew_df = ... \n## end your code here\n\nprint(new_df)",
   "execution_count": null,
   "outputs": []
  },
  {
   "cell_type": "markdown",
   "source": "### 199. Perform the full outer join on the two DataFrames. ",
   "metadata": {
    "formattedRanges": [],
    "is_collapsed": false,
    "cell_id": "2589022a-b10f-451a-80d4-f92cd5701227",
    "tags": [],
    "deepnote_cell_type": "text-cell-h3"
   }
  },
  {
   "cell_type": "code",
   "metadata": {
    "cell_id": "e4d078ce-7b8c-451a-9111-4102cbb4afc1",
    "tags": [],
    "deepnote_cell_type": "code",
    "deepnote_cell_height": 241
   },
   "source": "df1 = pd.DataFrame([[\"A\", 1], [\"B\", 2]], \n                  columns=[\"col_A\", \"col_B\"])\n\ndf2 = pd.DataFrame([[\"A\", 3], [\"C\", 4]], \n                  columns=[\"col_A\", \"col_C\"])\n\n## start your code below\nnew_df = ... \n## end your code here\n\nprint(new_df)",
   "execution_count": null,
   "outputs": []
  },
  {
   "cell_type": "markdown",
   "source": "### 200. Convert the DataFrame to a dictionary.",
   "metadata": {
    "formattedRanges": [],
    "is_collapsed": false,
    "cell_id": "908b6cf5-753a-44f8-96b2-ce69763f6fd4",
    "tags": [],
    "deepnote_cell_type": "text-cell-h3"
   }
  },
  {
   "cell_type": "code",
   "metadata": {
    "cell_id": "cec40f85-4eb2-403b-b8d3-b14bc5534173",
    "tags": [],
    "deepnote_cell_type": "code",
    "deepnote_cell_height": 259
   },
   "source": "df = pd.DataFrame([[4, 1, 5], \n                   [5, 5, 1],\n                   [1, 9, 3], \n                   [8, 5, 8]], \n                  columns=[\"col_A\", \"col_B\", \"col_C\"])\n\n\n## start your code below\ndict_df = ... \n## end your code here\n\nprint(dict_df)",
   "execution_count": null,
   "outputs": []
  },
  {
   "cell_type": "markdown",
   "source": "### 201-210: As your next exercise, frame 10 questions on your own and solve them. ",
   "metadata": {
    "formattedRanges": [],
    "is_collapsed": false,
    "cell_id": "027bea56-ae3c-43c5-b80c-e9e01e38710e",
    "tags": [],
    "deepnote_cell_type": "text-cell-h3"
   }
  },
  {
   "cell_type": "code",
   "metadata": {
    "cell_id": "71e451612e4c4241ae4e02d6c7705892",
    "tags": [],
    "deepnote_cell_type": "code",
    "deepnote_cell_height": 61
   },
   "source": "",
   "execution_count": null,
   "outputs": []
  },
  {
   "cell_type": "markdown",
   "source": "Great Job solving this notebook. Go to NumPy Notebook 1: [Link](https://deepnote.com/workspace/avi-chawla-695b-aee6f4ef-2d50-4fb6-9ef2-20ee1022995a/project/Numpy-part-1-9b9979f2-b708-4292-b466-3d0157564c91/%2Fnotebook.ipynb)",
   "metadata": {
    "cell_id": "49f9725a9a9d4d3c9208aa367817f09e",
    "tags": [],
    "deepnote_cell_type": "markdown",
    "deepnote_cell_height": 52.390625
   }
  },
  {
   "cell_type": "markdown",
   "source": "",
   "metadata": {
    "cell_id": "b3b355a03fc04f509d008ac67d28680d",
    "tags": [],
    "deepnote_cell_type": "markdown",
    "deepnote_cell_height": 46
   }
  },
  {
   "cell_type": "markdown",
   "source": "<a style='text-decoration:none;line-height:16px;display:flex;color:#5B5B62;padding:10px;justify-content:end;' href='https://deepnote.com?utm_source=created-in-deepnote-cell&projectId=f84e02a1-fb6a-428e-af90-8dd99855749a' target=\"_blank\">\n<img alt='Created in deepnote.com' style='display:inline;max-height:16px;margin:0px;margin-right:7.5px;' src='data:image/svg+xml;base64,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' > </img>\nCreated in <span style='font-weight:600;margin-left:4px;'>Deepnote</span></a>",
   "metadata": {
    "tags": [],
    "created_in_deepnote_cell": true,
    "deepnote_cell_type": "markdown"
   }
  }
 ],
 "nbformat": 4,
 "nbformat_minor": 2,
 "metadata": {
  "orig_nbformat": 2,
  "deepnote": {},
  "deepnote_notebook_id": "49bb4fbd-1b7e-4172-8c7e-e1d6bdfa9dc7",
  "deepnote_execution_queue": []
 }
}