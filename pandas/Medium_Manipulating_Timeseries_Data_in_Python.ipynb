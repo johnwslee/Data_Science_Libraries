{
 "cells": [
  {
   "cell_type": "markdown",
   "id": "16f6111c-2a46-4c12-b3f9-147c6daf4fa0",
   "metadata": {},
   "source": [
    "The following is from [this article](https://medium.com/towards-artificial-intelligence/manipulating-time-series-data-in-python-49aed42685a0) in Medium."
   ]
  },
  {
   "cell_type": "markdown",
   "id": "0f551b53-e688-4040-a726-fa3fb38bf783",
   "metadata": {},
   "source": [
    "# Table of Content:"
   ]
  },
  {
   "cell_type": "markdown",
   "id": "39a9760e-1115-416b-80c4-d855022fd924",
   "metadata": {},
   "source": [
    "1. Working with Time Series in Pandas\n",
    "2. Basic Time Series Metrics & Resampling\n",
    "3. Window Functions: Rolling & Expanding Metrics\n",
    "4. Building a value-weighted index"
   ]
  },
  {
   "cell_type": "markdown",
   "id": "26730a7d-e9f5-4ec0-95b1-3c15bde51e23",
   "metadata": {},
   "source": [
    "# 1. Working with Time Series in Pandas"
   ]
  },
  {
   "cell_type": "markdown",
   "id": "c6cf8aed-faa5-45a1-810e-12bc84a088fc",
   "metadata": {},
   "source": [
    "## 1.1. How to use data and times with pandas"
   ]
  },
  {
   "cell_type": "markdown",
   "id": "6292b6c2-ed9c-4d28-8aff-b673f6c101a0",
   "metadata": {},
   "source": [
    "The basic building block of creating a time series data in python using Pandas time stamp (`pd.Timestamp`) is shown in the example below:"
   ]
  },
  {
   "cell_type": "code",
   "execution_count": 1,
   "id": "fd2be4c7-ac7b-4ce2-afae-7f5b3cd4bd0b",
   "metadata": {},
   "outputs": [],
   "source": [
    "from datetime import datetime  # To manually create dates\n",
    "\n",
    "import pandas as pd\n",
    "\n",
    "import numpy as np"
   ]
  },
  {
   "cell_type": "code",
   "execution_count": 2,
   "id": "f89364f4-7c15-443c-9ab9-2e11a9dcd425",
   "metadata": {},
   "outputs": [
    {
     "data": {
      "text/plain": [
       "datetime.datetime(2017, 1, 1, 0, 0)"
      ]
     },
     "execution_count": 2,
     "metadata": {},
     "output_type": "execute_result"
    }
   ],
   "source": [
    "datetime(2017, 1, 1)"
   ]
  },
  {
   "cell_type": "code",
   "execution_count": 3,
   "id": "755d4253-6720-4acc-9d00-7a60ab9a0ce8",
   "metadata": {},
   "outputs": [],
   "source": [
    "time_stamp = pd.Timestamp(datetime(2017, 1, 1))"
   ]
  },
  {
   "cell_type": "code",
   "execution_count": 4,
   "id": "a5ffff41-2f89-4797-a2f5-456233a6eaef",
   "metadata": {},
   "outputs": [
    {
     "data": {
      "text/plain": [
       "Timestamp('2017-01-01 00:00:00')"
      ]
     },
     "execution_count": 4,
     "metadata": {},
     "output_type": "execute_result"
    }
   ],
   "source": [
    "time_stamp"
   ]
  },
  {
   "cell_type": "markdown",
   "id": "8110c2ae-84e5-46fa-91e8-110e92a29d73",
   "metadata": {},
   "source": [
    "The timestamp object has many attributes that can be used to retrieve specific time information of your data such as year, and weekday. In the example below the year of the data is retrieved."
   ]
  },
  {
   "cell_type": "code",
   "execution_count": 5,
   "id": "49424698-85f3-4f25-983d-a475607862a2",
   "metadata": {},
   "outputs": [
    {
     "data": {
      "text/plain": [
       "2017"
      ]
     },
     "execution_count": 5,
     "metadata": {},
     "output_type": "execute_result"
    }
   ],
   "source": [
    "time_stamp.year"
   ]
  },
  {
   "cell_type": "code",
   "execution_count": 6,
   "id": "e0d3ae96-0175-4a73-9063-81c3646b5338",
   "metadata": {},
   "outputs": [
    {
     "data": {
      "text/plain": [
       "datetime.date(2017, 1, 1)"
      ]
     },
     "execution_count": 6,
     "metadata": {},
     "output_type": "execute_result"
    }
   ],
   "source": [
    "time_stamp.date()"
   ]
  },
  {
   "cell_type": "code",
   "execution_count": 7,
   "id": "d33865fd-90ee-4833-83ad-3f284c9d3c9d",
   "metadata": {},
   "outputs": [
    {
     "data": {
      "text/plain": [
       "datetime.time(0, 0)"
      ]
     },
     "execution_count": 7,
     "metadata": {},
     "output_type": "execute_result"
    }
   ],
   "source": [
    "time_stamp.time()"
   ]
  },
  {
   "cell_type": "markdown",
   "id": "906e2287-ca2c-459d-a854-edd3a2d8cec2",
   "metadata": {},
   "source": [
    "The second building block is the period object. The `period` object has a `freq` attribute to store the frequency information. The default is monthly freq and you can convert from freq to another as shown in the example below."
   ]
  },
  {
   "cell_type": "code",
   "execution_count": 8,
   "id": "54e0d9bf-fad4-4b5c-a429-b1ec20c4ff05",
   "metadata": {},
   "outputs": [],
   "source": [
    "period = pd.Period(\"2017-01\")"
   ]
  },
  {
   "cell_type": "code",
   "execution_count": 9,
   "id": "6c196f56-c734-490e-a92a-8f4a6af65a0d",
   "metadata": {},
   "outputs": [
    {
     "data": {
      "text/plain": [
       "Period('2017-01', 'M')"
      ]
     },
     "execution_count": 9,
     "metadata": {},
     "output_type": "execute_result"
    }
   ],
   "source": [
    "period"
   ]
  },
  {
   "cell_type": "markdown",
   "id": "2d36879a-e258-4e8b-a594-2e2885209758",
   "metadata": {},
   "source": [
    "The output shows that the default freq is monthly freq. You can convert it into a daily freq using the code below."
   ]
  },
  {
   "cell_type": "code",
   "execution_count": 10,
   "id": "73ba4503-c082-47d9-a017-9eb8442567ac",
   "metadata": {},
   "outputs": [
    {
     "data": {
      "text/plain": [
       "Period('2017-01-31', 'D')"
      ]
     },
     "execution_count": 10,
     "metadata": {},
     "output_type": "execute_result"
    }
   ],
   "source": [
    "period.asfreq(\"D\")  # convert to daily"
   ]
  },
  {
   "cell_type": "markdown",
   "id": "6096f371-3bd4-49a8-929b-334c6d75c405",
   "metadata": {},
   "source": [
    "You can also convert period to timestamp and vice versa. This is shown in the example below."
   ]
  },
  {
   "cell_type": "code",
   "execution_count": 11,
   "id": "6eb79746-74a8-498b-b2bc-0ac85113f3f1",
   "metadata": {},
   "outputs": [
    {
     "data": {
      "text/plain": [
       "Timestamp('2017-01-01 00:00:00')"
      ]
     },
     "execution_count": 11,
     "metadata": {},
     "output_type": "execute_result"
    }
   ],
   "source": [
    "period.to_timestamp()"
   ]
  },
  {
   "cell_type": "code",
   "execution_count": 12,
   "id": "5c4d7400-d01d-4e6d-86e8-88593a4a8eeb",
   "metadata": {},
   "outputs": [
    {
     "data": {
      "text/plain": [
       "Period('2017-01', 'M')"
      ]
     },
     "execution_count": 12,
     "metadata": {},
     "output_type": "execute_result"
    }
   ],
   "source": [
    "period.to_timestamp().to_period(\"M\")"
   ]
  },
  {
   "cell_type": "markdown",
   "id": "02a7515d-039c-4f5a-8a3b-a5cb8e947304",
   "metadata": {},
   "source": [
    "You can do basic data arithmetic operations, for example starting with a period object for January 2017 at a monthly frequency, just add the number 2 to get a monthly period for March 2017. This is shown in the example below."
   ]
  },
  {
   "cell_type": "code",
   "execution_count": 13,
   "id": "42576d53-e4bc-4600-9abf-a3038b1bdd2d",
   "metadata": {},
   "outputs": [],
   "source": [
    "period = pd.Period(\"2017-01\")"
   ]
  },
  {
   "cell_type": "code",
   "execution_count": 14,
   "id": "c0dcf3f0-b732-4e23-b77b-687e85b67922",
   "metadata": {},
   "outputs": [
    {
     "data": {
      "text/plain": [
       "Period('2017-03', 'M')"
      ]
     },
     "execution_count": 14,
     "metadata": {},
     "output_type": "execute_result"
    }
   ],
   "source": [
    "period + 2"
   ]
  },
  {
   "cell_type": "markdown",
   "id": "b4a90dd7-383c-4006-9d9a-13609ed87d66",
   "metadata": {},
   "source": [
    "To create a time series you will need to create a sequence of dates. To create a sequence of Timestamps, use the pandas' function `date_range`. You need to specify a start date, and/or end date, or a number of periods. The default is daily frequency. The function returns the sequence of dates as a `DateTimeindex` with frequency information. You will recognize the first element as a pandas Timestamp.\n",
    "\n",
    "This is shown in the example below and the output is shown in the figure below:"
   ]
  },
  {
   "cell_type": "code",
   "execution_count": 15,
   "id": "7777a2bc-77b2-4e1a-9f31-db26cdb2ef77",
   "metadata": {},
   "outputs": [],
   "source": [
    "index = pd.date_range(start=\"2017-1-1\", periods=12, freq=\"M\")"
   ]
  },
  {
   "cell_type": "code",
   "execution_count": 16,
   "id": "1680f7d2-c4c0-4875-bf06-901d32fab1be",
   "metadata": {},
   "outputs": [
    {
     "data": {
      "text/plain": [
       "DatetimeIndex(['2017-01-31', '2017-02-28', '2017-03-31', '2017-04-30',\n",
       "               '2017-05-31', '2017-06-30', '2017-07-31', '2017-08-31',\n",
       "               '2017-09-30', '2017-10-31', '2017-11-30', '2017-12-31'],\n",
       "              dtype='datetime64[ns]', freq='M')"
      ]
     },
     "execution_count": 16,
     "metadata": {},
     "output_type": "execute_result"
    }
   ],
   "source": [
    "index"
   ]
  },
  {
   "cell_type": "markdown",
   "id": "d76ec1a7-c69d-4df8-a4f1-b97251f9685f",
   "metadata": {},
   "source": [
    "## 1.2. Indexing & resampling time series"
   ]
  },
  {
   "cell_type": "markdown",
   "id": "ec855b15-3059-4bef-b52f-b1b8cba88d3d",
   "metadata": {},
   "source": [
    "The basic transformations include parsing dates provided as strings and converting the result into the matching Pandas data type called datetime64. They also include selecting subperiods of your time series, and setting or changing the frequency of the DateTimeIndex. You can change the frequency to a higher or lower value: upsampling involves increasing the time frequency, which requires generating new data. Downsampling means decreasing the time-frequency, which requires aggregating data."
   ]
  },
  {
   "cell_type": "markdown",
   "id": "3dddfce0-5101-4e59-9dc3-b2f88a4929d6",
   "metadata": {},
   "source": [
    "To understand more about the transformations we will apply this to the [google stock prices data](https://github.com/youssefHosni/Practical-Time-Series-In-Python/tree/main/Time%20Series%20Manipulation). First, if you check the type of the date column it is an object, so we would like to convert it into a date type by the following code."
   ]
  },
  {
   "cell_type": "code",
   "execution_count": 17,
   "id": "e471841f-252d-4d9b-b3ea-a88156b915ed",
   "metadata": {},
   "outputs": [],
   "source": [
    "google = pd.read_csv(\"data/google.csv\")"
   ]
  },
  {
   "cell_type": "code",
   "execution_count": 18,
   "id": "c9a13bf5-bba4-41d4-851a-955c7de27aa7",
   "metadata": {},
   "outputs": [
    {
     "name": "stdout",
     "output_type": "stream",
     "text": [
      "<class 'pandas.core.frame.DataFrame'>\n",
      "RangeIndex: 1094 entries, 0 to 1093\n",
      "Data columns (total 2 columns):\n",
      " #   Column  Non-Null Count  Dtype  \n",
      "---  ------  --------------  -----  \n",
      " 0   Date    1094 non-null   object \n",
      " 1   Close   756 non-null    float64\n",
      "dtypes: float64(1), object(1)\n",
      "memory usage: 17.2+ KB\n"
     ]
    }
   ],
   "source": [
    "google.info()"
   ]
  },
  {
   "cell_type": "markdown",
   "id": "9b4567fc-0fb1-4801-864b-4c3a99d1289e",
   "metadata": {},
   "source": [
    "The date information is converted from a string (object) into a `datetime64` and also we will set the Date column as an index for the data frame as it makes it easier that to deal with the data by using the following code:"
   ]
  },
  {
   "cell_type": "code",
   "execution_count": 19,
   "id": "c1c161e9-bd64-47fd-9729-de3637e949d0",
   "metadata": {},
   "outputs": [],
   "source": [
    "google[\"Date\"] = pd.to_datetime(google[\"Date\"])"
   ]
  },
  {
   "cell_type": "code",
   "execution_count": 20,
   "id": "2b2c07db-b6a4-4cd8-8d81-941b67c0188b",
   "metadata": {},
   "outputs": [
    {
     "name": "stdout",
     "output_type": "stream",
     "text": [
      "<class 'pandas.core.frame.DataFrame'>\n",
      "RangeIndex: 1094 entries, 0 to 1093\n",
      "Data columns (total 2 columns):\n",
      " #   Column  Non-Null Count  Dtype         \n",
      "---  ------  --------------  -----         \n",
      " 0   Date    1094 non-null   datetime64[ns]\n",
      " 1   Close   756 non-null    float64       \n",
      "dtypes: datetime64[ns](1), float64(1)\n",
      "memory usage: 17.2 KB\n"
     ]
    }
   ],
   "source": [
    "google.info()"
   ]
  },
  {
   "cell_type": "code",
   "execution_count": 21,
   "id": "e6b9b3b6-bacf-45e5-a852-e2e25b03427b",
   "metadata": {},
   "outputs": [],
   "source": [
    "google.set_index(\"Date\", inplace=True)"
   ]
  },
  {
   "cell_type": "code",
   "execution_count": 22,
   "id": "7bd873c5-d4e7-40ac-8c73-f85c309409d2",
   "metadata": {},
   "outputs": [
    {
     "name": "stdout",
     "output_type": "stream",
     "text": [
      "<class 'pandas.core.frame.DataFrame'>\n",
      "DatetimeIndex: 1094 entries, 2014-01-02 to 2016-12-30\n",
      "Data columns (total 1 columns):\n",
      " #   Column  Non-Null Count  Dtype  \n",
      "---  ------  --------------  -----  \n",
      " 0   Close   756 non-null    float64\n",
      "dtypes: float64(1)\n",
      "memory usage: 17.1 KB\n"
     ]
    }
   ],
   "source": [
    "google.info()"
   ]
  },
  {
   "cell_type": "markdown",
   "id": "3dc2f04d-6012-4362-b847-ae134f650c5a",
   "metadata": {},
   "source": [
    "To have a better intuition of what the data looks like, let's plot the prices with time using the code below:"
   ]
  },
  {
   "cell_type": "code",
   "execution_count": 23,
   "id": "31194c7c-1aa3-4e4b-ba70-273f424e3ba5",
   "metadata": {},
   "outputs": [],
   "source": [
    "import matplotlib.pyplot as plt"
   ]
  },
  {
   "cell_type": "code",
   "execution_count": 24,
   "id": "b9a00410-d6a1-4d4f-b329-7140f9ed809d",
   "metadata": {},
   "outputs": [
    {
     "data": {
      "image/png": "[encoded data removed]",
      "text/plain": [
       "<Figure size 640x480 with 1 Axes>"
      ]
     },
     "metadata": {},
     "output_type": "display_data"
    }
   ],
   "source": [
    "google[\"Close\"].plot(title=\"Google Stock Price\")\n",
    "plt.tight_layout()\n",
    "plt.show();"
   ]
  },
  {
   "cell_type": "markdown",
   "id": "efa55ebc-33af-4624-8c95-90fbba0b720c",
   "metadata": {},
   "source": [
    "You can also partial indexing the data using the date index as the following example:"
   ]
  },
  {
   "cell_type": "code",
   "execution_count": 25,
   "id": "dc131af9-1c0f-4a6c-9081-7f8949260d84",
   "metadata": {},
   "outputs": [
    {
     "data": {
      "text/html": [
       "<div>\n",
       "<style scoped>\n",
       "    .dataframe tbody tr th:only-of-type {\n",
       "        vertical-align: middle;\n",
       "    }\n",
       "\n",
       "    .dataframe tbody tr th {\n",
       "        vertical-align: top;\n",
       "    }\n",
       "\n",
       "    .dataframe thead th {\n",
       "        text-align: right;\n",
       "    }\n",
       "</style>\n",
       "<table border=\"1\" class=\"dataframe\">\n",
       "  <thead>\n",
       "    <tr style=\"text-align: right;\">\n",
       "      <th></th>\n",
       "      <th>Close</th>\n",
       "    </tr>\n",
       "    <tr>\n",
       "      <th>Date</th>\n",
       "      <th></th>\n",
       "    </tr>\n",
       "  </thead>\n",
       "  <tbody>\n",
       "    <tr>\n",
       "      <th>2015-01-01</th>\n",
       "      <td>NaN</td>\n",
       "    </tr>\n",
       "    <tr>\n",
       "      <th>2015-01-02</th>\n",
       "      <td>524.81</td>\n",
       "    </tr>\n",
       "    <tr>\n",
       "      <th>2015-01-03</th>\n",
       "      <td>NaN</td>\n",
       "    </tr>\n",
       "    <tr>\n",
       "      <th>2015-01-04</th>\n",
       "      <td>NaN</td>\n",
       "    </tr>\n",
       "    <tr>\n",
       "      <th>2015-01-05</th>\n",
       "      <td>513.87</td>\n",
       "    </tr>\n",
       "    <tr>\n",
       "      <th>...</th>\n",
       "      <td>...</td>\n",
       "    </tr>\n",
       "    <tr>\n",
       "      <th>2015-12-27</th>\n",
       "      <td>NaN</td>\n",
       "    </tr>\n",
       "    <tr>\n",
       "      <th>2015-12-28</th>\n",
       "      <td>762.51</td>\n",
       "    </tr>\n",
       "    <tr>\n",
       "      <th>2015-12-29</th>\n",
       "      <td>776.60</td>\n",
       "    </tr>\n",
       "    <tr>\n",
       "      <th>2015-12-30</th>\n",
       "      <td>771.00</td>\n",
       "    </tr>\n",
       "    <tr>\n",
       "      <th>2015-12-31</th>\n",
       "      <td>758.88</td>\n",
       "    </tr>\n",
       "  </tbody>\n",
       "</table>\n",
       "<p>365 rows × 1 columns</p>\n",
       "</div>"
      ],
      "text/plain": [
       "             Close\n",
       "Date              \n",
       "2015-01-01     NaN\n",
       "2015-01-02  524.81\n",
       "2015-01-03     NaN\n",
       "2015-01-04     NaN\n",
       "2015-01-05  513.87\n",
       "...            ...\n",
       "2015-12-27     NaN\n",
       "2015-12-28  762.51\n",
       "2015-12-29  776.60\n",
       "2015-12-30  771.00\n",
       "2015-12-31  758.88\n",
       "\n",
       "[365 rows x 1 columns]"
      ]
     },
     "execution_count": 25,
     "metadata": {},
     "output_type": "execute_result"
    }
   ],
   "source": [
    "google.loc[\"2015\", :]  # Pass string for part of date"
   ]
  },
  {
   "cell_type": "code",
   "execution_count": 26,
   "id": "28655dd0-a1e7-4337-9a65-cfe7b7ed26bd",
   "metadata": {},
   "outputs": [
    {
     "data": {
      "text/html": [
       "<div>\n",
       "<style scoped>\n",
       "    .dataframe tbody tr th:only-of-type {\n",
       "        vertical-align: middle;\n",
       "    }\n",
       "\n",
       "    .dataframe tbody tr th {\n",
       "        vertical-align: top;\n",
       "    }\n",
       "\n",
       "    .dataframe thead th {\n",
       "        text-align: right;\n",
       "    }\n",
       "</style>\n",
       "<table border=\"1\" class=\"dataframe\">\n",
       "  <thead>\n",
       "    <tr style=\"text-align: right;\">\n",
       "      <th></th>\n",
       "      <th>Close</th>\n",
       "    </tr>\n",
       "    <tr>\n",
       "      <th>Date</th>\n",
       "      <th></th>\n",
       "    </tr>\n",
       "  </thead>\n",
       "  <tbody>\n",
       "    <tr>\n",
       "      <th>2015-03-01</th>\n",
       "      <td>NaN</td>\n",
       "    </tr>\n",
       "    <tr>\n",
       "      <th>2015-03-02</th>\n",
       "      <td>571.34</td>\n",
       "    </tr>\n",
       "    <tr>\n",
       "      <th>2015-03-03</th>\n",
       "      <td>573.64</td>\n",
       "    </tr>\n",
       "    <tr>\n",
       "      <th>2015-03-04</th>\n",
       "      <td>573.37</td>\n",
       "    </tr>\n",
       "    <tr>\n",
       "      <th>2015-03-05</th>\n",
       "      <td>575.33</td>\n",
       "    </tr>\n",
       "    <tr>\n",
       "      <th>...</th>\n",
       "      <td>...</td>\n",
       "    </tr>\n",
       "    <tr>\n",
       "      <th>2016-02-25</th>\n",
       "      <td>705.75</td>\n",
       "    </tr>\n",
       "    <tr>\n",
       "      <th>2016-02-26</th>\n",
       "      <td>705.07</td>\n",
       "    </tr>\n",
       "    <tr>\n",
       "      <th>2016-02-27</th>\n",
       "      <td>NaN</td>\n",
       "    </tr>\n",
       "    <tr>\n",
       "      <th>2016-02-28</th>\n",
       "      <td>NaN</td>\n",
       "    </tr>\n",
       "    <tr>\n",
       "      <th>2016-02-29</th>\n",
       "      <td>697.77</td>\n",
       "    </tr>\n",
       "  </tbody>\n",
       "</table>\n",
       "<p>366 rows × 1 columns</p>\n",
       "</div>"
      ],
      "text/plain": [
       "             Close\n",
       "Date              \n",
       "2015-03-01     NaN\n",
       "2015-03-02  571.34\n",
       "2015-03-03  573.64\n",
       "2015-03-04  573.37\n",
       "2015-03-05  575.33\n",
       "...            ...\n",
       "2016-02-25  705.75\n",
       "2016-02-26  705.07\n",
       "2016-02-27     NaN\n",
       "2016-02-28     NaN\n",
       "2016-02-29  697.77\n",
       "\n",
       "[366 rows x 1 columns]"
      ]
     },
     "execution_count": 26,
     "metadata": {},
     "output_type": "execute_result"
    }
   ],
   "source": [
    "google.loc[\"2015-3\":\"2016-2\", :]  # Slice includes last month"
   ]
  },
  {
   "cell_type": "markdown",
   "id": "7a1bcce9-69a6-4940-842c-085ccccbb8fb",
   "metadata": {},
   "source": [
    "You may have noticed that our DateTimeIndex did not have frequency information. You can set the frequency information using `.asfreq()`. The alias ‘D’ stands for calendar day frequency. As a result, the DateTimeIndex now contains many dates where the stock wasn’t bought or sold.\n",
    "\n",
    "The example below shows converting the DateTimeIndex of the google stock data into calendar day frequency:"
   ]
  },
  {
   "cell_type": "code",
   "execution_count": 27,
   "id": "bef3e91a-a3b3-4808-ac4c-e1953a8e9836",
   "metadata": {},
   "outputs": [
    {
     "name": "stdout",
     "output_type": "stream",
     "text": [
      "<class 'pandas.core.frame.DataFrame'>\n",
      "DatetimeIndex: 1094 entries, 2014-01-02 to 2016-12-30\n",
      "Freq: D\n",
      "Data columns (total 1 columns):\n",
      " #   Column  Non-Null Count  Dtype  \n",
      "---  ------  --------------  -----  \n",
      " 0   Close   756 non-null    float64\n",
      "dtypes: float64(1)\n",
      "memory usage: 17.1 KB\n"
     ]
    }
   ],
   "source": [
    "google.asfreq(\"D\").info()"
   ]
  },
  {
   "cell_type": "code",
   "execution_count": 28,
   "id": "3a71efda-1eef-47e8-9fda-9a13e0d36d61",
   "metadata": {},
   "outputs": [
    {
     "data": {
      "text/html": [
       "<div>\n",
       "<style scoped>\n",
       "    .dataframe tbody tr th:only-of-type {\n",
       "        vertical-align: middle;\n",
       "    }\n",
       "\n",
       "    .dataframe tbody tr th {\n",
       "        vertical-align: top;\n",
       "    }\n",
       "\n",
       "    .dataframe thead th {\n",
       "        text-align: right;\n",
       "    }\n",
       "</style>\n",
       "<table border=\"1\" class=\"dataframe\">\n",
       "  <thead>\n",
       "    <tr style=\"text-align: right;\">\n",
       "      <th></th>\n",
       "      <th>Close</th>\n",
       "    </tr>\n",
       "    <tr>\n",
       "      <th>Date</th>\n",
       "      <th></th>\n",
       "    </tr>\n",
       "  </thead>\n",
       "  <tbody>\n",
       "    <tr>\n",
       "      <th>2014-01-02</th>\n",
       "      <td>556.00</td>\n",
       "    </tr>\n",
       "    <tr>\n",
       "      <th>2014-01-03</th>\n",
       "      <td>551.95</td>\n",
       "    </tr>\n",
       "    <tr>\n",
       "      <th>2014-01-04</th>\n",
       "      <td>NaN</td>\n",
       "    </tr>\n",
       "    <tr>\n",
       "      <th>2014-01-05</th>\n",
       "      <td>NaN</td>\n",
       "    </tr>\n",
       "    <tr>\n",
       "      <th>2014-01-06</th>\n",
       "      <td>558.10</td>\n",
       "    </tr>\n",
       "  </tbody>\n",
       "</table>\n",
       "</div>"
      ],
      "text/plain": [
       "             Close\n",
       "Date              \n",
       "2014-01-02  556.00\n",
       "2014-01-03  551.95\n",
       "2014-01-04     NaN\n",
       "2014-01-05     NaN\n",
       "2014-01-06  558.10"
      ]
     },
     "execution_count": 28,
     "metadata": {},
     "output_type": "execute_result"
    }
   ],
   "source": [
    "google.asfreq(\"D\").head()"
   ]
  },
  {
   "cell_type": "markdown",
   "id": "947eef93-3312-45d9-952c-c1b760504e05",
   "metadata": {},
   "source": [
    "We can also set the DateTimeIndex to business day frequency using the same method but changing ‘D’ into ‘B’ in the `.asfreq()` method. This is shown in the example below:"
   ]
  },
  {
   "cell_type": "code",
   "execution_count": 29,
   "id": "1513253f-f634-4969-82c3-2132bcdd4c42",
   "metadata": {},
   "outputs": [],
   "source": [
    "google = google.asfreq(\"B\")  # Change to calendar day frequency"
   ]
  },
  {
   "cell_type": "code",
   "execution_count": 30,
   "id": "4aeebaa7-8968-4b48-809f-a5f85f8bf0a0",
   "metadata": {},
   "outputs": [
    {
     "data": {
      "text/html": [
       "<div>\n",
       "<style scoped>\n",
       "    .dataframe tbody tr th:only-of-type {\n",
       "        vertical-align: middle;\n",
       "    }\n",
       "\n",
       "    .dataframe tbody tr th {\n",
       "        vertical-align: top;\n",
       "    }\n",
       "\n",
       "    .dataframe thead th {\n",
       "        text-align: right;\n",
       "    }\n",
       "</style>\n",
       "<table border=\"1\" class=\"dataframe\">\n",
       "  <thead>\n",
       "    <tr style=\"text-align: right;\">\n",
       "      <th></th>\n",
       "      <th>Close</th>\n",
       "    </tr>\n",
       "    <tr>\n",
       "      <th>Date</th>\n",
       "      <th></th>\n",
       "    </tr>\n",
       "  </thead>\n",
       "  <tbody>\n",
       "    <tr>\n",
       "      <th>2014-01-02</th>\n",
       "      <td>556.00</td>\n",
       "    </tr>\n",
       "    <tr>\n",
       "      <th>2014-01-03</th>\n",
       "      <td>551.95</td>\n",
       "    </tr>\n",
       "    <tr>\n",
       "      <th>2014-01-06</th>\n",
       "      <td>558.10</td>\n",
       "    </tr>\n",
       "    <tr>\n",
       "      <th>2014-01-07</th>\n",
       "      <td>568.86</td>\n",
       "    </tr>\n",
       "    <tr>\n",
       "      <th>2014-01-08</th>\n",
       "      <td>570.04</td>\n",
       "    </tr>\n",
       "  </tbody>\n",
       "</table>\n",
       "</div>"
      ],
      "text/plain": [
       "             Close\n",
       "Date              \n",
       "2014-01-02  556.00\n",
       "2014-01-03  551.95\n",
       "2014-01-06  558.10\n",
       "2014-01-07  568.86\n",
       "2014-01-08  570.04"
      ]
     },
     "execution_count": 30,
     "metadata": {},
     "output_type": "execute_result"
    }
   ],
   "source": [
    "google.head()"
   ]
  },
  {
   "cell_type": "markdown",
   "id": "cc14d0ed-b00b-4bd2-98bb-a5b28ca64c68",
   "metadata": {},
   "source": [
    "## 1.3. Lags, changes, and returns for stock price series"
   ]
  },
  {
   "cell_type": "markdown",
   "id": "e6ef8639-609c-4dd3-bf2d-13c61109480b",
   "metadata": {},
   "source": [
    "Shift or lag values back or forward back in time. `shift()`: Moving data between past & future. The default is one period into the future, but you can change it, by giving the periods variable the desired shift value."
   ]
  },
  {
   "cell_type": "code",
   "execution_count": 31,
   "id": "8ed4d791-a39e-4143-b2e4-0d8abea97cf5",
   "metadata": {},
   "outputs": [],
   "source": [
    "google[\"shifted\"] = google[\"Close\"].shift()  # default: periods=1"
   ]
  },
  {
   "cell_type": "code",
   "execution_count": 32,
   "id": "d081d5f7-f197-41fd-b655-a864b9632bab",
   "metadata": {},
   "outputs": [
    {
     "data": {
      "text/html": [
       "<div>\n",
       "<style scoped>\n",
       "    .dataframe tbody tr th:only-of-type {\n",
       "        vertical-align: middle;\n",
       "    }\n",
       "\n",
       "    .dataframe tbody tr th {\n",
       "        vertical-align: top;\n",
       "    }\n",
       "\n",
       "    .dataframe thead th {\n",
       "        text-align: right;\n",
       "    }\n",
       "</style>\n",
       "<table border=\"1\" class=\"dataframe\">\n",
       "  <thead>\n",
       "    <tr style=\"text-align: right;\">\n",
       "      <th></th>\n",
       "      <th>Close</th>\n",
       "      <th>shifted</th>\n",
       "    </tr>\n",
       "    <tr>\n",
       "      <th>Date</th>\n",
       "      <th></th>\n",
       "      <th></th>\n",
       "    </tr>\n",
       "  </thead>\n",
       "  <tbody>\n",
       "    <tr>\n",
       "      <th>2014-01-02</th>\n",
       "      <td>556.00</td>\n",
       "      <td>NaN</td>\n",
       "    </tr>\n",
       "    <tr>\n",
       "      <th>2014-01-03</th>\n",
       "      <td>551.95</td>\n",
       "      <td>556.00</td>\n",
       "    </tr>\n",
       "    <tr>\n",
       "      <th>2014-01-06</th>\n",
       "      <td>558.10</td>\n",
       "      <td>551.95</td>\n",
       "    </tr>\n",
       "  </tbody>\n",
       "</table>\n",
       "</div>"
      ],
      "text/plain": [
       "             Close  shifted\n",
       "Date                       \n",
       "2014-01-02  556.00      NaN\n",
       "2014-01-03  551.95   556.00\n",
       "2014-01-06  558.10   551.95"
      ]
     },
     "execution_count": 32,
     "metadata": {},
     "output_type": "execute_result"
    }
   ],
   "source": [
    "google.head(3)"
   ]
  },
  {
   "cell_type": "markdown",
   "id": "203b117b-5aaa-4741-bdb5-dd41e56985fa",
   "metadata": {},
   "source": [
    "To move the data into the past you can use `periods=-1` as shown in the figure below:"
   ]
  },
  {
   "cell_type": "code",
   "execution_count": 33,
   "id": "40f95a0f-89c4-4ccf-b073-4d6a0252616c",
   "metadata": {},
   "outputs": [],
   "source": [
    "google[\"lagged\"] = google[\"Close\"].shift(periods=-1)"
   ]
  },
  {
   "cell_type": "code",
   "execution_count": 34,
   "id": "9211ee23-c1b9-484c-b1d5-9bf6be4d1ac9",
   "metadata": {},
   "outputs": [
    {
     "data": {
      "text/html": [
       "<div>\n",
       "<style scoped>\n",
       "    .dataframe tbody tr th:only-of-type {\n",
       "        vertical-align: middle;\n",
       "    }\n",
       "\n",
       "    .dataframe tbody tr th {\n",
       "        vertical-align: top;\n",
       "    }\n",
       "\n",
       "    .dataframe thead th {\n",
       "        text-align: right;\n",
       "    }\n",
       "</style>\n",
       "<table border=\"1\" class=\"dataframe\">\n",
       "  <thead>\n",
       "    <tr style=\"text-align: right;\">\n",
       "      <th></th>\n",
       "      <th>Close</th>\n",
       "      <th>shifted</th>\n",
       "      <th>lagged</th>\n",
       "    </tr>\n",
       "    <tr>\n",
       "      <th>Date</th>\n",
       "      <th></th>\n",
       "      <th></th>\n",
       "      <th></th>\n",
       "    </tr>\n",
       "  </thead>\n",
       "  <tbody>\n",
       "    <tr>\n",
       "      <th>2016-12-28</th>\n",
       "      <td>785.05</td>\n",
       "      <td>791.55</td>\n",
       "      <td>782.79</td>\n",
       "    </tr>\n",
       "    <tr>\n",
       "      <th>2016-12-29</th>\n",
       "      <td>782.79</td>\n",
       "      <td>785.05</td>\n",
       "      <td>771.82</td>\n",
       "    </tr>\n",
       "    <tr>\n",
       "      <th>2016-12-30</th>\n",
       "      <td>771.82</td>\n",
       "      <td>782.79</td>\n",
       "      <td>NaN</td>\n",
       "    </tr>\n",
       "  </tbody>\n",
       "</table>\n",
       "</div>"
      ],
      "text/plain": [
       "             Close  shifted  lagged\n",
       "Date                               \n",
       "2016-12-28  785.05   791.55  782.79\n",
       "2016-12-29  782.79   785.05  771.82\n",
       "2016-12-30  771.82   782.79     NaN"
      ]
     },
     "execution_count": 34,
     "metadata": {},
     "output_type": "execute_result"
    }
   ],
   "source": [
    "google.tail(3)"
   ]
  },
  {
   "cell_type": "markdown",
   "id": "15b2bb1b-80b4-4894-ba5c-59598c68fa4e",
   "metadata": {},
   "source": [
    "One of the important properties of the stock prices data and in general in the time series data is the percentage change. It’s formula is : ((X(t)/X(t-1))-1)*100.\n",
    "\n",
    "There are two ways to calculate it, we can use the built-in function `df.pct_change()` or use the functions `df.div.sub().mul()` and both will give the same results as shown in the example below:"
   ]
  },
  {
   "cell_type": "code",
   "execution_count": 35,
   "id": "c48b6740-a034-4c81-95fc-c177d2b86000",
   "metadata": {},
   "outputs": [],
   "source": [
    "google[\"change\"] = google[\"Close\"].div(google[\"shifted\"])"
   ]
  },
  {
   "cell_type": "code",
   "execution_count": 36,
   "id": "ac71785f-760a-4a4c-9074-72e54c86dc16",
   "metadata": {},
   "outputs": [],
   "source": [
    "google[\"return\"] = google[\"change\"].sub(1).mul(100)"
   ]
  },
  {
   "cell_type": "code",
   "execution_count": 37,
   "id": "f366e2fe-9e14-4fe9-90ea-da0a8a3174f1",
   "metadata": {},
   "outputs": [
    {
     "data": {
      "text/html": [
       "<div>\n",
       "<style scoped>\n",
       "    .dataframe tbody tr th:only-of-type {\n",
       "        vertical-align: middle;\n",
       "    }\n",
       "\n",
       "    .dataframe tbody tr th {\n",
       "        vertical-align: top;\n",
       "    }\n",
       "\n",
       "    .dataframe thead th {\n",
       "        text-align: right;\n",
       "    }\n",
       "</style>\n",
       "<table border=\"1\" class=\"dataframe\">\n",
       "  <thead>\n",
       "    <tr style=\"text-align: right;\">\n",
       "      <th></th>\n",
       "      <th>Close</th>\n",
       "      <th>shifted</th>\n",
       "      <th>change</th>\n",
       "      <th>return</th>\n",
       "    </tr>\n",
       "    <tr>\n",
       "      <th>Date</th>\n",
       "      <th></th>\n",
       "      <th></th>\n",
       "      <th></th>\n",
       "      <th></th>\n",
       "    </tr>\n",
       "  </thead>\n",
       "  <tbody>\n",
       "    <tr>\n",
       "      <th>2014-01-02</th>\n",
       "      <td>556.00</td>\n",
       "      <td>NaN</td>\n",
       "      <td>NaN</td>\n",
       "      <td>NaN</td>\n",
       "    </tr>\n",
       "    <tr>\n",
       "      <th>2014-01-03</th>\n",
       "      <td>551.95</td>\n",
       "      <td>556.00</td>\n",
       "      <td>0.992716</td>\n",
       "      <td>-0.728417</td>\n",
       "    </tr>\n",
       "    <tr>\n",
       "      <th>2014-01-06</th>\n",
       "      <td>558.10</td>\n",
       "      <td>551.95</td>\n",
       "      <td>1.011142</td>\n",
       "      <td>1.114231</td>\n",
       "    </tr>\n",
       "  </tbody>\n",
       "</table>\n",
       "</div>"
      ],
      "text/plain": [
       "             Close  shifted    change    return\n",
       "Date                                           \n",
       "2014-01-02  556.00      NaN       NaN       NaN\n",
       "2014-01-03  551.95   556.00  0.992716 -0.728417\n",
       "2014-01-06  558.10   551.95  1.011142  1.114231"
      ]
     },
     "execution_count": 37,
     "metadata": {},
     "output_type": "execute_result"
    }
   ],
   "source": [
    "google[[\"Close\", \"shifted\", \"change\", \"return\"]].head(3)"
   ]
  },
  {
   "cell_type": "code",
   "execution_count": 38,
   "id": "c9aa507b-b4aa-4aaa-8c46-eb4b9df38924",
   "metadata": {},
   "outputs": [],
   "source": [
    "google[\"pct_change\"] = google[\"Close\"].pct_change().mul(100)"
   ]
  },
  {
   "cell_type": "code",
   "execution_count": 39,
   "id": "579de3c0-14b8-4253-a710-1dd192dee017",
   "metadata": {},
   "outputs": [
    {
     "data": {
      "text/html": [
       "<div>\n",
       "<style scoped>\n",
       "    .dataframe tbody tr th:only-of-type {\n",
       "        vertical-align: middle;\n",
       "    }\n",
       "\n",
       "    .dataframe tbody tr th {\n",
       "        vertical-align: top;\n",
       "    }\n",
       "\n",
       "    .dataframe thead th {\n",
       "        text-align: right;\n",
       "    }\n",
       "</style>\n",
       "<table border=\"1\" class=\"dataframe\">\n",
       "  <thead>\n",
       "    <tr style=\"text-align: right;\">\n",
       "      <th></th>\n",
       "      <th>Close</th>\n",
       "      <th>return</th>\n",
       "      <th>pct_change</th>\n",
       "    </tr>\n",
       "    <tr>\n",
       "      <th>Date</th>\n",
       "      <th></th>\n",
       "      <th></th>\n",
       "      <th></th>\n",
       "    </tr>\n",
       "  </thead>\n",
       "  <tbody>\n",
       "    <tr>\n",
       "      <th>2014-01-02</th>\n",
       "      <td>556.00</td>\n",
       "      <td>NaN</td>\n",
       "      <td>NaN</td>\n",
       "    </tr>\n",
       "    <tr>\n",
       "      <th>2014-01-03</th>\n",
       "      <td>551.95</td>\n",
       "      <td>-0.728417</td>\n",
       "      <td>-0.728417</td>\n",
       "    </tr>\n",
       "    <tr>\n",
       "      <th>2014-01-06</th>\n",
       "      <td>558.10</td>\n",
       "      <td>1.114231</td>\n",
       "      <td>1.114231</td>\n",
       "    </tr>\n",
       "  </tbody>\n",
       "</table>\n",
       "</div>"
      ],
      "text/plain": [
       "             Close    return  pct_change\n",
       "Date                                    \n",
       "2014-01-02  556.00       NaN         NaN\n",
       "2014-01-03  551.95 -0.728417   -0.728417\n",
       "2014-01-06  558.10  1.114231    1.114231"
      ]
     },
     "execution_count": 39,
     "metadata": {},
     "output_type": "execute_result"
    }
   ],
   "source": [
    "google[[\"Close\", \"return\", \"pct_change\"]].head(3)"
   ]
  },
  {
   "cell_type": "markdown",
   "id": "01ff04c6-2011-4296-a9bc-a93a5694dfd3",
   "metadata": {},
   "source": [
    "We can also get multiperiod returns using the `periods` variable in the `df.pct_change()` method as shown in the following example."
   ]
  },
  {
   "cell_type": "code",
   "execution_count": 40,
   "id": "d33c44ab-9913-4fcf-90a3-ea496053a847",
   "metadata": {},
   "outputs": [],
   "source": [
    "google[\"return_3d\"] = google[\"Close\"].pct_change(periods=3).mul(100)"
   ]
  },
  {
   "cell_type": "code",
   "execution_count": 41,
   "id": "bd769310-6dc2-4299-aa11-11c9c6955933",
   "metadata": {},
   "outputs": [
    {
     "data": {
      "text/html": [
       "<div>\n",
       "<style scoped>\n",
       "    .dataframe tbody tr th:only-of-type {\n",
       "        vertical-align: middle;\n",
       "    }\n",
       "\n",
       "    .dataframe tbody tr th {\n",
       "        vertical-align: top;\n",
       "    }\n",
       "\n",
       "    .dataframe thead th {\n",
       "        text-align: right;\n",
       "    }\n",
       "</style>\n",
       "<table border=\"1\" class=\"dataframe\">\n",
       "  <thead>\n",
       "    <tr style=\"text-align: right;\">\n",
       "      <th></th>\n",
       "      <th>Close</th>\n",
       "      <th>return_3d</th>\n",
       "    </tr>\n",
       "    <tr>\n",
       "      <th>Date</th>\n",
       "      <th></th>\n",
       "      <th></th>\n",
       "    </tr>\n",
       "  </thead>\n",
       "  <tbody>\n",
       "    <tr>\n",
       "      <th>2014-01-02</th>\n",
       "      <td>556.00</td>\n",
       "      <td>NaN</td>\n",
       "    </tr>\n",
       "    <tr>\n",
       "      <th>2014-01-03</th>\n",
       "      <td>551.95</td>\n",
       "      <td>NaN</td>\n",
       "    </tr>\n",
       "    <tr>\n",
       "      <th>2014-01-06</th>\n",
       "      <td>558.10</td>\n",
       "      <td>NaN</td>\n",
       "    </tr>\n",
       "    <tr>\n",
       "      <th>2014-01-07</th>\n",
       "      <td>568.86</td>\n",
       "      <td>2.312950</td>\n",
       "    </tr>\n",
       "    <tr>\n",
       "      <th>2014-01-08</th>\n",
       "      <td>570.04</td>\n",
       "      <td>3.277471</td>\n",
       "    </tr>\n",
       "  </tbody>\n",
       "</table>\n",
       "</div>"
      ],
      "text/plain": [
       "             Close  return_3d\n",
       "Date                         \n",
       "2014-01-02  556.00        NaN\n",
       "2014-01-03  551.95        NaN\n",
       "2014-01-06  558.10        NaN\n",
       "2014-01-07  568.86   2.312950\n",
       "2014-01-08  570.04   3.277471"
      ]
     },
     "execution_count": 41,
     "metadata": {},
     "output_type": "execute_result"
    }
   ],
   "source": [
    "google[[\"Close\", \"return_3d\"]].head()"
   ]
  },
  {
   "cell_type": "markdown",
   "id": "23aa7ea5-4354-4505-aa27-97c0f861d395",
   "metadata": {},
   "source": [
    "# 2. Basic Time Series Metrics & Resampling"
   ]
  },
  {
   "cell_type": "markdown",
   "id": "430bd685-c03b-4960-aa1e-d7aa39fc1991",
   "metadata": {},
   "source": [
    "We will introduce resampling and how to compare different time series by normalizing their start points."
   ]
  },
  {
   "cell_type": "markdown",
   "id": "349d5e0c-655e-4a57-80fa-47664bc91ed7",
   "metadata": {},
   "source": [
    "## 2.1. Resampling"
   ]
  },
  {
   "cell_type": "code",
   "execution_count": 42,
   "id": "bf485646-26da-4944-888c-bd2ce1138a4c",
   "metadata": {},
   "outputs": [],
   "source": [
    "# Creating Quarterly data\n",
    "dates = pd.date_range(start=\"2016\", periods=4, freq=\"Q\")"
   ]
  },
  {
   "cell_type": "code",
   "execution_count": 43,
   "id": "992990d7-690b-4ac4-ab3c-268e7cb3d5d6",
   "metadata": {},
   "outputs": [
    {
     "data": {
      "text/plain": [
       "DatetimeIndex(['2016-03-31', '2016-06-30', '2016-09-30', '2016-12-31'], dtype='datetime64[ns]', freq='Q-DEC')"
      ]
     },
     "execution_count": 43,
     "metadata": {},
     "output_type": "execute_result"
    }
   ],
   "source": [
    "dates"
   ]
  },
  {
   "cell_type": "code",
   "execution_count": 44,
   "id": "7b27148a-9d0b-428a-b7b6-7f6df8ad9aff",
   "metadata": {},
   "outputs": [],
   "source": [
    "data = range(1, 5)"
   ]
  },
  {
   "cell_type": "code",
   "execution_count": 45,
   "id": "2b4dd9d9-9f41-46a8-8467-986f7992002a",
   "metadata": {},
   "outputs": [],
   "source": [
    "quarterly = pd.Series(data=data, index=dates)"
   ]
  },
  {
   "cell_type": "code",
   "execution_count": 46,
   "id": "e17a736d-2197-48f7-8f28-3aaec5e4f8f1",
   "metadata": {},
   "outputs": [
    {
     "data": {
      "text/plain": [
       "2016-03-31    1\n",
       "2016-06-30    2\n",
       "2016-09-30    3\n",
       "2016-12-31    4\n",
       "Freq: Q-DEC, dtype: int64"
      ]
     },
     "execution_count": 46,
     "metadata": {},
     "output_type": "execute_result"
    }
   ],
   "source": [
    "quarterly"
   ]
  },
  {
   "cell_type": "markdown",
   "id": "84acd290-0ec2-478a-aaad-70b6699bf8bf",
   "metadata": {},
   "source": [
    "Next, let’s see what happens when you up-sample your time series by converting the frequency from quarterly to monthly using `.asfreq()`. Pandas add new month-end dates to the DateTimeIndex between the existing dates. As a result, there are now several months with missing data between March and December."
   ]
  },
  {
   "cell_type": "code",
   "execution_count": 47,
   "id": "06205611-94ad-4859-ad2d-19910ddb6dbf",
   "metadata": {},
   "outputs": [],
   "source": [
    "monthly = quarterly.asfreq(\"M\")  # to month-end frequency"
   ]
  },
  {
   "cell_type": "code",
   "execution_count": 48,
   "id": "ddcaba73-0771-4b3c-b277-773eafd545b1",
   "metadata": {},
   "outputs": [
    {
     "data": {
      "text/plain": [
       "2016-03-31    1.0\n",
       "2016-04-30    NaN\n",
       "2016-05-31    NaN\n",
       "2016-06-30    2.0\n",
       "2016-07-31    NaN\n",
       "2016-08-31    NaN\n",
       "2016-09-30    3.0\n",
       "2016-10-31    NaN\n",
       "2016-11-30    NaN\n",
       "2016-12-31    4.0\n",
       "Freq: M, dtype: float64"
      ]
     },
     "execution_count": 48,
     "metadata": {},
     "output_type": "execute_result"
    }
   ],
   "source": [
    "monthly"
   ]
  },
  {
   "cell_type": "code",
   "execution_count": 49,
   "id": "f6df7bb8-1c3e-4d29-9331-6a0155a5a210",
   "metadata": {},
   "outputs": [],
   "source": [
    "monthly = monthly.to_frame(\"baseline\")  # to DataFrame"
   ]
  },
  {
   "cell_type": "code",
   "execution_count": 50,
   "id": "03a03675-277f-4b62-a5ad-42159206571e",
   "metadata": {},
   "outputs": [
    {
     "data": {
      "text/html": [
       "<div>\n",
       "<style scoped>\n",
       "    .dataframe tbody tr th:only-of-type {\n",
       "        vertical-align: middle;\n",
       "    }\n",
       "\n",
       "    .dataframe tbody tr th {\n",
       "        vertical-align: top;\n",
       "    }\n",
       "\n",
       "    .dataframe thead th {\n",
       "        text-align: right;\n",
       "    }\n",
       "</style>\n",
       "<table border=\"1\" class=\"dataframe\">\n",
       "  <thead>\n",
       "    <tr style=\"text-align: right;\">\n",
       "      <th></th>\n",
       "      <th>baseline</th>\n",
       "    </tr>\n",
       "  </thead>\n",
       "  <tbody>\n",
       "    <tr>\n",
       "      <th>2016-03-31</th>\n",
       "      <td>1.0</td>\n",
       "    </tr>\n",
       "    <tr>\n",
       "      <th>2016-04-30</th>\n",
       "      <td>NaN</td>\n",
       "    </tr>\n",
       "    <tr>\n",
       "      <th>2016-05-31</th>\n",
       "      <td>NaN</td>\n",
       "    </tr>\n",
       "    <tr>\n",
       "      <th>2016-06-30</th>\n",
       "      <td>2.0</td>\n",
       "    </tr>\n",
       "    <tr>\n",
       "      <th>2016-07-31</th>\n",
       "      <td>NaN</td>\n",
       "    </tr>\n",
       "    <tr>\n",
       "      <th>2016-08-31</th>\n",
       "      <td>NaN</td>\n",
       "    </tr>\n",
       "    <tr>\n",
       "      <th>2016-09-30</th>\n",
       "      <td>3.0</td>\n",
       "    </tr>\n",
       "    <tr>\n",
       "      <th>2016-10-31</th>\n",
       "      <td>NaN</td>\n",
       "    </tr>\n",
       "    <tr>\n",
       "      <th>2016-11-30</th>\n",
       "      <td>NaN</td>\n",
       "    </tr>\n",
       "    <tr>\n",
       "      <th>2016-12-31</th>\n",
       "      <td>4.0</td>\n",
       "    </tr>\n",
       "  </tbody>\n",
       "</table>\n",
       "</div>"
      ],
      "text/plain": [
       "            baseline\n",
       "2016-03-31       1.0\n",
       "2016-04-30       NaN\n",
       "2016-05-31       NaN\n",
       "2016-06-30       2.0\n",
       "2016-07-31       NaN\n",
       "2016-08-31       NaN\n",
       "2016-09-30       3.0\n",
       "2016-10-31       NaN\n",
       "2016-11-30       NaN\n",
       "2016-12-31       4.0"
      ]
     },
     "execution_count": 50,
     "metadata": {},
     "output_type": "execute_result"
    }
   ],
   "source": [
    "monthly"
   ]
  },
  {
   "cell_type": "markdown",
   "id": "b0858c76-c4ba-4106-81ed-635ebc5e2f41",
   "metadata": {},
   "source": [
    "Let’s compare three ways that pandas offer to fill missing values when upsampling. The first two options involve choosing a fill method, either forward fill or backfill. The third option is to provide full value."
   ]
  },
  {
   "cell_type": "code",
   "execution_count": 51,
   "id": "915049e3-569d-4860-bf50-7d0de692b4fa",
   "metadata": {},
   "outputs": [
    {
     "data": {
      "text/html": [
       "<div>\n",
       "<style scoped>\n",
       "    .dataframe tbody tr th:only-of-type {\n",
       "        vertical-align: middle;\n",
       "    }\n",
       "\n",
       "    .dataframe tbody tr th {\n",
       "        vertical-align: top;\n",
       "    }\n",
       "\n",
       "    .dataframe thead th {\n",
       "        text-align: right;\n",
       "    }\n",
       "</style>\n",
       "<table border=\"1\" class=\"dataframe\">\n",
       "  <thead>\n",
       "    <tr style=\"text-align: right;\">\n",
       "      <th></th>\n",
       "      <th>baseline</th>\n",
       "      <th>ffill</th>\n",
       "      <th>bfill</th>\n",
       "      <th>value</th>\n",
       "    </tr>\n",
       "  </thead>\n",
       "  <tbody>\n",
       "    <tr>\n",
       "      <th>2016-03-31</th>\n",
       "      <td>1.0</td>\n",
       "      <td>1</td>\n",
       "      <td>1</td>\n",
       "      <td>1</td>\n",
       "    </tr>\n",
       "    <tr>\n",
       "      <th>2016-04-30</th>\n",
       "      <td>NaN</td>\n",
       "      <td>1</td>\n",
       "      <td>2</td>\n",
       "      <td>0</td>\n",
       "    </tr>\n",
       "    <tr>\n",
       "      <th>2016-05-31</th>\n",
       "      <td>NaN</td>\n",
       "      <td>1</td>\n",
       "      <td>2</td>\n",
       "      <td>0</td>\n",
       "    </tr>\n",
       "    <tr>\n",
       "      <th>2016-06-30</th>\n",
       "      <td>2.0</td>\n",
       "      <td>2</td>\n",
       "      <td>2</td>\n",
       "      <td>2</td>\n",
       "    </tr>\n",
       "    <tr>\n",
       "      <th>2016-07-31</th>\n",
       "      <td>NaN</td>\n",
       "      <td>2</td>\n",
       "      <td>3</td>\n",
       "      <td>0</td>\n",
       "    </tr>\n",
       "    <tr>\n",
       "      <th>2016-08-31</th>\n",
       "      <td>NaN</td>\n",
       "      <td>2</td>\n",
       "      <td>3</td>\n",
       "      <td>0</td>\n",
       "    </tr>\n",
       "    <tr>\n",
       "      <th>2016-09-30</th>\n",
       "      <td>3.0</td>\n",
       "      <td>3</td>\n",
       "      <td>3</td>\n",
       "      <td>3</td>\n",
       "    </tr>\n",
       "    <tr>\n",
       "      <th>2016-10-31</th>\n",
       "      <td>NaN</td>\n",
       "      <td>3</td>\n",
       "      <td>4</td>\n",
       "      <td>0</td>\n",
       "    </tr>\n",
       "    <tr>\n",
       "      <th>2016-11-30</th>\n",
       "      <td>NaN</td>\n",
       "      <td>3</td>\n",
       "      <td>4</td>\n",
       "      <td>0</td>\n",
       "    </tr>\n",
       "    <tr>\n",
       "      <th>2016-12-31</th>\n",
       "      <td>4.0</td>\n",
       "      <td>4</td>\n",
       "      <td>4</td>\n",
       "      <td>4</td>\n",
       "    </tr>\n",
       "  </tbody>\n",
       "</table>\n",
       "</div>"
      ],
      "text/plain": [
       "            baseline  ffill  bfill  value\n",
       "2016-03-31       1.0      1      1      1\n",
       "2016-04-30       NaN      1      2      0\n",
       "2016-05-31       NaN      1      2      0\n",
       "2016-06-30       2.0      2      2      2\n",
       "2016-07-31       NaN      2      3      0\n",
       "2016-08-31       NaN      2      3      0\n",
       "2016-09-30       3.0      3      3      3\n",
       "2016-10-31       NaN      3      4      0\n",
       "2016-11-30       NaN      3      4      0\n",
       "2016-12-31       4.0      4      4      4"
      ]
     },
     "execution_count": 51,
     "metadata": {},
     "output_type": "execute_result"
    }
   ],
   "source": [
    "# Differnet Upsampling fill methods\n",
    "monthly[\"ffill\"] = quarterly.asfreq(\"M\", method=\"ffill\")  # forward fill\n",
    "monthly[\"bfill\"] = quarterly.asfreq(\"M\", method=\"bfill\")  # back fill\n",
    "monthly[\"value\"] = quarterly.asfreq(\"M\", fill_value=0)\n",
    "monthly"
   ]
  },
  {
   "cell_type": "markdown",
   "id": "131dc8ac-86ed-4a83-b64a-555827b93ff3",
   "metadata": {},
   "source": [
    "If you want a monthly DateTimeIndex that covers the full year, you can use `.reindex()`. Pandas align existing data with the new monthly values and produce missing values elsewhere. You can use the exact same fill options for `.reindex()` as you just did for `.asfreq()`."
   ]
  },
  {
   "cell_type": "code",
   "execution_count": 52,
   "id": "1e95a014-28a1-4d93-9b73-049d49adb8e0",
   "metadata": {},
   "outputs": [],
   "source": [
    "# using reindex\n",
    "dates = pd.date_range(start=\"2016\", periods=12, freq=\"M\")"
   ]
  },
  {
   "cell_type": "code",
   "execution_count": 53,
   "id": "557140df-da88-4fee-b134-7e6e15fe9c76",
   "metadata": {},
   "outputs": [
    {
     "data": {
      "text/plain": [
       "DatetimeIndex(['2016-01-31', '2016-02-29', '2016-03-31', '2016-04-30',\n",
       "               '2016-05-31', '2016-06-30', '2016-07-31', '2016-08-31',\n",
       "               '2016-09-30', '2016-10-31', '2016-11-30', '2016-12-31'],\n",
       "              dtype='datetime64[ns]', freq='M')"
      ]
     },
     "execution_count": 53,
     "metadata": {},
     "output_type": "execute_result"
    }
   ],
   "source": [
    "dates"
   ]
  },
  {
   "cell_type": "code",
   "execution_count": 54,
   "id": "9985d619-5a6b-43f1-9320-6d4fe3cb7c71",
   "metadata": {},
   "outputs": [
    {
     "data": {
      "text/plain": [
       "2016-03-31    1\n",
       "2016-06-30    2\n",
       "2016-09-30    3\n",
       "2016-12-31    4\n",
       "Freq: Q-DEC, dtype: int64"
      ]
     },
     "execution_count": 54,
     "metadata": {},
     "output_type": "execute_result"
    }
   ],
   "source": [
    "quarterly"
   ]
  },
  {
   "cell_type": "code",
   "execution_count": 55,
   "id": "87c727dd-0513-40eb-8f33-d7794f14083c",
   "metadata": {},
   "outputs": [
    {
     "data": {
      "text/plain": [
       "2016-01-31    NaN\n",
       "2016-02-29    NaN\n",
       "2016-03-31    1.0\n",
       "2016-04-30    NaN\n",
       "2016-05-31    NaN\n",
       "2016-06-30    2.0\n",
       "2016-07-31    NaN\n",
       "2016-08-31    NaN\n",
       "2016-09-30    3.0\n",
       "2016-10-31    NaN\n",
       "2016-11-30    NaN\n",
       "2016-12-31    4.0\n",
       "Freq: M, dtype: float64"
      ]
     },
     "execution_count": 55,
     "metadata": {},
     "output_type": "execute_result"
    }
   ],
   "source": [
    "quarterly.reindex(dates)"
   ]
  },
  {
   "cell_type": "markdown",
   "id": "07c474ae-55cc-4fae-966f-f63713b5dd73",
   "metadata": {},
   "source": [
    "## 2.2 Upsampling & Interpolation"
   ]
  },
  {
   "cell_type": "markdown",
   "id": "7b526b94-a9d2-4b0f-aac9-7d615b7dbd33",
   "metadata": {},
   "source": [
    "The resample method follows a logic similar to `.groupby()`: It groups data within a resampling period and applies a method to this group. It takes the value that results from this method and assigns a new date within the resampling period. The new date is determined by a so-called offset, and for instance, can be at the beginning or end of the period or a custom location. You will use resample to apply methods that either fill or interpolate missing dates when up-sampling, or that aggregate when down-sampling."
   ]
  },
  {
   "cell_type": "markdown",
   "id": "c191eded-b1e1-4edb-b925-2c3e9ef73827",
   "metadata": {},
   "source": [
    "We will apply the resample method to the [monthly unemployment rate](https://github.com/youssefHosni/Practical-Time-Series-In-Python/tree/main/Time%20Series%20Manipulation). First, we will upload it and spare it using the `DATE` column and make it an index."
   ]
  },
  {
   "cell_type": "code",
   "execution_count": 56,
   "id": "0c644a6f-957d-46ad-ac84-54a9f4d49ebb",
   "metadata": {},
   "outputs": [
    {
     "data": {
      "text/html": [
       "<div>\n",
       "<style scoped>\n",
       "    .dataframe tbody tr th:only-of-type {\n",
       "        vertical-align: middle;\n",
       "    }\n",
       "\n",
       "    .dataframe tbody tr th {\n",
       "        vertical-align: top;\n",
       "    }\n",
       "\n",
       "    .dataframe thead th {\n",
       "        text-align: right;\n",
       "    }\n",
       "</style>\n",
       "<table border=\"1\" class=\"dataframe\">\n",
       "  <thead>\n",
       "    <tr style=\"text-align: right;\">\n",
       "      <th></th>\n",
       "      <th>UNRATE</th>\n",
       "    </tr>\n",
       "    <tr>\n",
       "      <th>DATE</th>\n",
       "      <th></th>\n",
       "    </tr>\n",
       "  </thead>\n",
       "  <tbody>\n",
       "    <tr>\n",
       "      <th>2010-01-01</th>\n",
       "      <td>9.8</td>\n",
       "    </tr>\n",
       "    <tr>\n",
       "      <th>2010-02-01</th>\n",
       "      <td>9.8</td>\n",
       "    </tr>\n",
       "    <tr>\n",
       "      <th>2010-03-01</th>\n",
       "      <td>9.9</td>\n",
       "    </tr>\n",
       "    <tr>\n",
       "      <th>2010-04-01</th>\n",
       "      <td>9.9</td>\n",
       "    </tr>\n",
       "    <tr>\n",
       "      <th>2010-05-01</th>\n",
       "      <td>9.6</td>\n",
       "    </tr>\n",
       "  </tbody>\n",
       "</table>\n",
       "</div>"
      ],
      "text/plain": [
       "            UNRATE\n",
       "DATE              \n",
       "2010-01-01     9.8\n",
       "2010-02-01     9.8\n",
       "2010-03-01     9.9\n",
       "2010-04-01     9.9\n",
       "2010-05-01     9.6"
      ]
     },
     "execution_count": 56,
     "metadata": {},
     "output_type": "execute_result"
    }
   ],
   "source": [
    "unrate = pd.read_csv(\"data/unrate.csv\", parse_dates=[\"DATE\"], index_col=\"DATE\")\n",
    "unrate.head()"
   ]
  },
  {
   "cell_type": "markdown",
   "id": "5e9728d8-2a63-4b2f-8f68-28462890533c",
   "metadata": {},
   "source": [
    "The 85 data points imported using read_csv since 2010 have no frequency information. An inspection of the first rows shows that the data are reported for the first of each calendar month. So let's resample it by the starting of each calendar month using both `.resample()` and `.asfreq()` methods."
   ]
  },
  {
   "cell_type": "code",
   "execution_count": 57,
   "id": "45a1e8f4-9240-43df-87fc-82ac90cec2dd",
   "metadata": {},
   "outputs": [
    {
     "data": {
      "text/html": [
       "<div>\n",
       "<style scoped>\n",
       "    .dataframe tbody tr th:only-of-type {\n",
       "        vertical-align: middle;\n",
       "    }\n",
       "\n",
       "    .dataframe tbody tr th {\n",
       "        vertical-align: top;\n",
       "    }\n",
       "\n",
       "    .dataframe thead th {\n",
       "        text-align: right;\n",
       "    }\n",
       "</style>\n",
       "<table border=\"1\" class=\"dataframe\">\n",
       "  <thead>\n",
       "    <tr style=\"text-align: right;\">\n",
       "      <th></th>\n",
       "      <th>UNRATE</th>\n",
       "    </tr>\n",
       "    <tr>\n",
       "      <th>DATE</th>\n",
       "      <th></th>\n",
       "    </tr>\n",
       "  </thead>\n",
       "  <tbody>\n",
       "    <tr>\n",
       "      <th>2010-01-01</th>\n",
       "      <td>9.8</td>\n",
       "    </tr>\n",
       "    <tr>\n",
       "      <th>2010-02-01</th>\n",
       "      <td>9.8</td>\n",
       "    </tr>\n",
       "    <tr>\n",
       "      <th>2010-03-01</th>\n",
       "      <td>9.9</td>\n",
       "    </tr>\n",
       "    <tr>\n",
       "      <th>2010-04-01</th>\n",
       "      <td>9.9</td>\n",
       "    </tr>\n",
       "    <tr>\n",
       "      <th>2010-05-01</th>\n",
       "      <td>9.6</td>\n",
       "    </tr>\n",
       "    <tr>\n",
       "      <th>...</th>\n",
       "      <td>...</td>\n",
       "    </tr>\n",
       "    <tr>\n",
       "      <th>2016-09-01</th>\n",
       "      <td>4.9</td>\n",
       "    </tr>\n",
       "    <tr>\n",
       "      <th>2016-10-01</th>\n",
       "      <td>4.8</td>\n",
       "    </tr>\n",
       "    <tr>\n",
       "      <th>2016-11-01</th>\n",
       "      <td>4.6</td>\n",
       "    </tr>\n",
       "    <tr>\n",
       "      <th>2016-12-01</th>\n",
       "      <td>4.7</td>\n",
       "    </tr>\n",
       "    <tr>\n",
       "      <th>2017-01-01</th>\n",
       "      <td>4.8</td>\n",
       "    </tr>\n",
       "  </tbody>\n",
       "</table>\n",
       "<p>85 rows × 1 columns</p>\n",
       "</div>"
      ],
      "text/plain": [
       "            UNRATE\n",
       "DATE              \n",
       "2010-01-01     9.8\n",
       "2010-02-01     9.8\n",
       "2010-03-01     9.9\n",
       "2010-04-01     9.9\n",
       "2010-05-01     9.6\n",
       "...            ...\n",
       "2016-09-01     4.9\n",
       "2016-10-01     4.8\n",
       "2016-11-01     4.6\n",
       "2016-12-01     4.7\n",
       "2017-01-01     4.8\n",
       "\n",
       "[85 rows x 1 columns]"
      ]
     },
     "execution_count": 57,
     "metadata": {},
     "output_type": "execute_result"
    }
   ],
   "source": [
    "unrate.asfreq(\n",
    "    \"MS\"\n",
    ")  # \"MS\" : uses the first day of month   \"M\" : uses the last day of month"
   ]
  },
  {
   "cell_type": "code",
   "execution_count": 58,
   "id": "9ad399ae-3a82-4aaa-8d76-cd1edc4419f9",
   "metadata": {},
   "outputs": [
    {
     "name": "stdout",
     "output_type": "stream",
     "text": [
      "<class 'pandas.core.frame.DataFrame'>\n",
      "DatetimeIndex: 85 entries, 2010-01-01 to 2017-01-01\n",
      "Freq: MS\n",
      "Data columns (total 1 columns):\n",
      " #   Column  Non-Null Count  Dtype  \n",
      "---  ------  --------------  -----  \n",
      " 0   UNRATE  85 non-null     float64\n",
      "dtypes: float64(1)\n",
      "memory usage: 1.3 KB\n"
     ]
    }
   ],
   "source": [
    "unrate.asfreq(\"MS\").info()"
   ]
  },
  {
   "cell_type": "code",
   "execution_count": 59,
   "id": "87f7c94c-1d2a-4744-92c3-1d6d86faeef7",
   "metadata": {},
   "outputs": [
    {
     "data": {
      "text/plain": [
       "<pandas.core.resample.DatetimeIndexResampler object at 0x000001A30E2117E0>"
      ]
     },
     "execution_count": 59,
     "metadata": {},
     "output_type": "execute_result"
    }
   ],
   "source": [
    "unrate.resample(\"MS\")  # creates Resampler object"
   ]
  },
  {
   "cell_type": "code",
   "execution_count": 60,
   "id": "8e814040-9afa-4814-91ea-ddbe28dfe2f7",
   "metadata": {},
   "outputs": [
    {
     "data": {
      "text/plain": [
       "True"
      ]
     },
     "execution_count": 60,
     "metadata": {},
     "output_type": "execute_result"
    }
   ],
   "source": [
    "unrate.asfreq(\"MS\").equals(unrate.resample(\"MS\").asfreq())"
   ]
  },
  {
   "cell_type": "markdown",
   "id": "f11ab057-0526-4949-a078-338803d5b205",
   "metadata": {},
   "source": [
    "Both of the methods are the same. When looking at resampling by month, we have so far focused on month-end frequency. In other words, after resampling, new data will be assigned the last calendar day for each month. There are, however, quite a few alternatives: \"M\" - Calendar Month End, \"MS\" - Calendar Month Start, \"BM\" - Business Month End, \"BMS\" - Business Month Start "
   ]
  },
  {
   "cell_type": "markdown",
   "id": "95011e1a-8b1e-42d4-bd28-46a6580ee75c",
   "metadata": {},
   "source": [
    "Depending on your context, you can resample to the beginning or end of either the calendar or business month.\n",
    "\n",
    "Resampling implements the following logic: When up-sampling, there will be more resampling periods than data points. Each resampling period will have a given date offset, for instance, month-end frequency. You then need to decide how to create data for the new resampling periods. The new data points will be assigned to the date offsets. In contrast, when down-sampling, there are more data points than resampling periods. Hence, you need to decide how to aggregate your data to obtain a single value for each date offset."
   ]
  },
  {
   "cell_type": "markdown",
   "id": "ed0c5192-7825-4cde-b0b2-51d0b6f62989",
   "metadata": {},
   "source": [
    "## 2.3. Downsampling & aggregation"
   ]
  },
  {
   "cell_type": "markdown",
   "id": "f5f2b20e-8af4-4ec5-a84b-34152e9d5949",
   "metadata": {},
   "source": [
    "So far, we have focused on up-sampling, that is, increasing the frequency of a time series, and how to fill or interpolate any missing values. Downsampling is the opposite, is how to reduce the frequency of the time series data. This includes, for instance, converting hourly data to daily data, or daily data to monthly data. In this case, you need to decide how to summarize the existing data as 24 hours becomes a single day. Your options are familiar aggregation metrics like the mean or median, or simply the last value and your choice will depend on the context."
   ]
  },
  {
   "cell_type": "markdown",
   "id": "4df505bf-d9a3-4584-80d6-760d26e3219b",
   "metadata": {},
   "source": [
    "Let’s first use read_csv to import [air quality data](https://github.com/youssefHosni/Practical-Time-Series-In-Python/tree/main/Time%20Series%20Manipulation) from the Environmental Protection Agency. It contains the average daily ozone concentration for New York City starting in 2000. Since the imported DateTimeIndex has no frequency, let’s first assign calendar day frequency using `.resample()`. The resulting DateTimeIndex has additional entries, as well as the expected frequency information."
   ]
  },
  {
   "cell_type": "code",
   "execution_count": 61,
   "id": "ceb1dcad-5838-4053-b903-adf114320264",
   "metadata": {},
   "outputs": [
    {
     "name": "stdout",
     "output_type": "stream",
     "text": [
      "<class 'pandas.core.frame.DataFrame'>\n",
      "DatetimeIndex: 6291 entries, 2000-01-01 to 2017-03-31\n",
      "Data columns (total 1 columns):\n",
      " #   Column  Non-Null Count  Dtype  \n",
      "---  ------  --------------  -----  \n",
      " 0   Ozone   6167 non-null   float64\n",
      "dtypes: float64(1)\n",
      "memory usage: 98.3 KB\n"
     ]
    }
   ],
   "source": [
    "ozone = pd.read_csv(\"data/ozone_nyc.csv\", parse_dates=[\"date\"], index_col=\"date\")\n",
    "ozone.info()"
   ]
  },
  {
   "cell_type": "code",
   "execution_count": 62,
   "id": "82efa8e4-3f7f-4fb8-8f6b-ee3605e64563",
   "metadata": {},
   "outputs": [
    {
     "data": {
      "text/html": [
       "<div>\n",
       "<style scoped>\n",
       "    .dataframe tbody tr th:only-of-type {\n",
       "        vertical-align: middle;\n",
       "    }\n",
       "\n",
       "    .dataframe tbody tr th {\n",
       "        vertical-align: top;\n",
       "    }\n",
       "\n",
       "    .dataframe thead th {\n",
       "        text-align: right;\n",
       "    }\n",
       "</style>\n",
       "<table border=\"1\" class=\"dataframe\">\n",
       "  <thead>\n",
       "    <tr style=\"text-align: right;\">\n",
       "      <th></th>\n",
       "      <th>Ozone</th>\n",
       "    </tr>\n",
       "    <tr>\n",
       "      <th>date</th>\n",
       "      <th></th>\n",
       "    </tr>\n",
       "  </thead>\n",
       "  <tbody>\n",
       "    <tr>\n",
       "      <th>2000-01-01</th>\n",
       "      <td>0.004032</td>\n",
       "    </tr>\n",
       "    <tr>\n",
       "      <th>2000-01-02</th>\n",
       "      <td>0.009486</td>\n",
       "    </tr>\n",
       "    <tr>\n",
       "      <th>2000-01-03</th>\n",
       "      <td>0.005580</td>\n",
       "    </tr>\n",
       "    <tr>\n",
       "      <th>2000-01-04</th>\n",
       "      <td>0.008717</td>\n",
       "    </tr>\n",
       "    <tr>\n",
       "      <th>2000-01-05</th>\n",
       "      <td>0.013754</td>\n",
       "    </tr>\n",
       "  </tbody>\n",
       "</table>\n",
       "</div>"
      ],
      "text/plain": [
       "               Ozone\n",
       "date                \n",
       "2000-01-01  0.004032\n",
       "2000-01-02  0.009486\n",
       "2000-01-03  0.005580\n",
       "2000-01-04  0.008717\n",
       "2000-01-05  0.013754"
      ]
     },
     "execution_count": 62,
     "metadata": {},
     "output_type": "execute_result"
    }
   ],
   "source": [
    "ozone.head()"
   ]
  },
  {
   "cell_type": "code",
   "execution_count": 63,
   "id": "e3832735-68b0-46d0-97cc-46a999b18ce4",
   "metadata": {},
   "outputs": [
    {
     "name": "stdout",
     "output_type": "stream",
     "text": [
      "<class 'pandas.core.frame.DataFrame'>\n",
      "DatetimeIndex: 6300 entries, 2000-01-01 to 2017-03-31\n",
      "Freq: D\n",
      "Data columns (total 1 columns):\n",
      " #   Column  Non-Null Count  Dtype  \n",
      "---  ------  --------------  -----  \n",
      " 0   Ozone   6167 non-null   float64\n",
      "dtypes: float64(1)\n",
      "memory usage: 98.4 KB\n"
     ]
    }
   ],
   "source": [
    "ozone = ozone.resample(\"D\").asfreq()\n",
    "ozone.info()"
   ]
  },
  {
   "cell_type": "markdown",
   "id": "043674e6-df59-4500-a4e3-2e762ddae595",
   "metadata": {},
   "source": [
    "To convert daily ozone data to monthly frequency, just apply the resample method with the new sampling period and offset. We are choosing monthly frequency with default month-end offset. Next, apply the mean method to aggregate the daily data to a single monthly value. You can see that the monthly average has been assigned to the last day of the calendar month."
   ]
  },
  {
   "cell_type": "code",
   "execution_count": 64,
   "id": "dced0385-0e2e-4264-99a6-a4c242921853",
   "metadata": {},
   "outputs": [
    {
     "data": {
      "text/html": [
       "<div>\n",
       "<style scoped>\n",
       "    .dataframe tbody tr th:only-of-type {\n",
       "        vertical-align: middle;\n",
       "    }\n",
       "\n",
       "    .dataframe tbody tr th {\n",
       "        vertical-align: top;\n",
       "    }\n",
       "\n",
       "    .dataframe thead th {\n",
       "        text-align: right;\n",
       "    }\n",
       "</style>\n",
       "<table border=\"1\" class=\"dataframe\">\n",
       "  <thead>\n",
       "    <tr style=\"text-align: right;\">\n",
       "      <th></th>\n",
       "      <th>Ozone</th>\n",
       "    </tr>\n",
       "    <tr>\n",
       "      <th>date</th>\n",
       "      <th></th>\n",
       "    </tr>\n",
       "  </thead>\n",
       "  <tbody>\n",
       "    <tr>\n",
       "      <th>2000-01-31</th>\n",
       "      <td>0.010443</td>\n",
       "    </tr>\n",
       "    <tr>\n",
       "      <th>2000-02-29</th>\n",
       "      <td>0.011817</td>\n",
       "    </tr>\n",
       "    <tr>\n",
       "      <th>2000-03-31</th>\n",
       "      <td>0.016810</td>\n",
       "    </tr>\n",
       "    <tr>\n",
       "      <th>2000-04-30</th>\n",
       "      <td>0.019413</td>\n",
       "    </tr>\n",
       "    <tr>\n",
       "      <th>2000-05-31</th>\n",
       "      <td>0.026535</td>\n",
       "    </tr>\n",
       "  </tbody>\n",
       "</table>\n",
       "</div>"
      ],
      "text/plain": [
       "               Ozone\n",
       "date                \n",
       "2000-01-31  0.010443\n",
       "2000-02-29  0.011817\n",
       "2000-03-31  0.016810\n",
       "2000-04-30  0.019413\n",
       "2000-05-31  0.026535"
      ]
     },
     "execution_count": 64,
     "metadata": {},
     "output_type": "execute_result"
    }
   ],
   "source": [
    "ozone.resample(\"M\").mean().head()"
   ]
  },
  {
   "cell_type": "markdown",
   "id": "2de37d92-7295-404a-a25c-3477ff08d8e3",
   "metadata": {},
   "source": [
    "You can apply the median in the exact same fashion."
   ]
  },
  {
   "cell_type": "code",
   "execution_count": 65,
   "id": "9a69d8ca-247c-4b7a-978b-ec78b1d2a874",
   "metadata": {},
   "outputs": [
    {
     "data": {
      "text/html": [
       "<div>\n",
       "<style scoped>\n",
       "    .dataframe tbody tr th:only-of-type {\n",
       "        vertical-align: middle;\n",
       "    }\n",
       "\n",
       "    .dataframe tbody tr th {\n",
       "        vertical-align: top;\n",
       "    }\n",
       "\n",
       "    .dataframe thead th {\n",
       "        text-align: right;\n",
       "    }\n",
       "</style>\n",
       "<table border=\"1\" class=\"dataframe\">\n",
       "  <thead>\n",
       "    <tr style=\"text-align: right;\">\n",
       "      <th></th>\n",
       "      <th>Ozone</th>\n",
       "    </tr>\n",
       "    <tr>\n",
       "      <th>date</th>\n",
       "      <th></th>\n",
       "    </tr>\n",
       "  </thead>\n",
       "  <tbody>\n",
       "    <tr>\n",
       "      <th>2000-01-31</th>\n",
       "      <td>0.009486</td>\n",
       "    </tr>\n",
       "    <tr>\n",
       "      <th>2000-02-29</th>\n",
       "      <td>0.010726</td>\n",
       "    </tr>\n",
       "    <tr>\n",
       "      <th>2000-03-31</th>\n",
       "      <td>0.017004</td>\n",
       "    </tr>\n",
       "    <tr>\n",
       "      <th>2000-04-30</th>\n",
       "      <td>0.019866</td>\n",
       "    </tr>\n",
       "    <tr>\n",
       "      <th>2000-05-31</th>\n",
       "      <td>0.026018</td>\n",
       "    </tr>\n",
       "  </tbody>\n",
       "</table>\n",
       "</div>"
      ],
      "text/plain": [
       "               Ozone\n",
       "date                \n",
       "2000-01-31  0.009486\n",
       "2000-02-29  0.010726\n",
       "2000-03-31  0.017004\n",
       "2000-04-30  0.019866\n",
       "2000-05-31  0.026018"
      ]
     },
     "execution_count": 65,
     "metadata": {},
     "output_type": "execute_result"
    }
   ],
   "source": [
    "ozone.resample(\"M\").median().head()"
   ]
  },
  {
   "cell_type": "markdown",
   "id": "92f1a800-d14b-4538-9c37-f25fc7bdbd4a",
   "metadata": {},
   "source": [
    "Similar to the `groupby` method, you can also apply multiple aggregations at once."
   ]
  },
  {
   "cell_type": "code",
   "execution_count": 66,
   "id": "b631139a-e641-4909-8214-384d4fb4e841",
   "metadata": {},
   "outputs": [
    {
     "data": {
      "text/html": [
       "<div>\n",
       "<style scoped>\n",
       "    .dataframe tbody tr th:only-of-type {\n",
       "        vertical-align: middle;\n",
       "    }\n",
       "\n",
       "    .dataframe tbody tr th {\n",
       "        vertical-align: top;\n",
       "    }\n",
       "\n",
       "    .dataframe thead tr th {\n",
       "        text-align: left;\n",
       "    }\n",
       "\n",
       "    .dataframe thead tr:last-of-type th {\n",
       "        text-align: right;\n",
       "    }\n",
       "</style>\n",
       "<table border=\"1\" class=\"dataframe\">\n",
       "  <thead>\n",
       "    <tr>\n",
       "      <th></th>\n",
       "      <th colspan=\"2\" halign=\"left\">Ozone</th>\n",
       "    </tr>\n",
       "    <tr>\n",
       "      <th></th>\n",
       "      <th>mean</th>\n",
       "      <th>std</th>\n",
       "    </tr>\n",
       "    <tr>\n",
       "      <th>date</th>\n",
       "      <th></th>\n",
       "      <th></th>\n",
       "    </tr>\n",
       "  </thead>\n",
       "  <tbody>\n",
       "    <tr>\n",
       "      <th>2000-01-31</th>\n",
       "      <td>0.010443</td>\n",
       "      <td>0.004755</td>\n",
       "    </tr>\n",
       "    <tr>\n",
       "      <th>2000-02-29</th>\n",
       "      <td>0.011817</td>\n",
       "      <td>0.004072</td>\n",
       "    </tr>\n",
       "    <tr>\n",
       "      <th>2000-03-31</th>\n",
       "      <td>0.016810</td>\n",
       "      <td>0.004977</td>\n",
       "    </tr>\n",
       "    <tr>\n",
       "      <th>2000-04-30</th>\n",
       "      <td>0.019413</td>\n",
       "      <td>0.006574</td>\n",
       "    </tr>\n",
       "    <tr>\n",
       "      <th>2000-05-31</th>\n",
       "      <td>0.026535</td>\n",
       "      <td>0.008409</td>\n",
       "    </tr>\n",
       "  </tbody>\n",
       "</table>\n",
       "</div>"
      ],
      "text/plain": [
       "               Ozone          \n",
       "                mean       std\n",
       "date                          \n",
       "2000-01-31  0.010443  0.004755\n",
       "2000-02-29  0.011817  0.004072\n",
       "2000-03-31  0.016810  0.004977\n",
       "2000-04-30  0.019413  0.006574\n",
       "2000-05-31  0.026535  0.008409"
      ]
     },
     "execution_count": 66,
     "metadata": {},
     "output_type": "execute_result"
    }
   ],
   "source": [
    "ozone.resample(\"M\").agg([\"mean\", \"std\"]).head()"
   ]
  },
  {
   "cell_type": "markdown",
   "id": "cc2be6cf-85b1-4b88-8269-8caaf504faac",
   "metadata": {},
   "source": [
    "Let’s visualize the resampled, aggregated Series relative to the original data at calendar-daily frequency. We’ll plot the data starting from 2016 so you can see more detail. Matplotlib allows you to plot several times on the same object by referencing the axes object that contains the plot."
   ]
  },
  {
   "cell_type": "code",
   "execution_count": 67,
   "id": "ecac5a4f-af02-4226-80f7-eeb431adf1ab",
   "metadata": {},
   "outputs": [
    {
     "data": {
      "text/plain": [
       "<AxesSubplot: xlabel='date'>"
      ]
     },
     "execution_count": 67,
     "metadata": {},
     "output_type": "execute_result"
    },
    {
     "data": {
      "image/png": "[encoded data removed]",
      "text/plain": [
       "<Figure size 640x480 with 1 Axes>"
      ]
     },
     "metadata": {},
     "output_type": "display_data"
    }
   ],
   "source": [
    "ozone = ozone.loc[\"2016\":]\n",
    "ax = ozone.plot()\n",
    "monthly = ozone.resample(\"M\").mean()\n",
    "monthly.add_suffix(\"_monthly\").plot(ax=ax)"
   ]
  },
  {
   "cell_type": "markdown",
   "id": "c9aefb93-bebe-4454-94ac-99bd82c50a07",
   "metadata": {},
   "source": [
    "The first plot is the original series, and the second plot contains the resampled series with a suffix so that the legend reflects the difference. You see that the resampled data are much smoother since the monthly volatility has been averaged out. Let’s also take a look at how to resample several series."
   ]
  },
  {
   "cell_type": "markdown",
   "id": "a747d3a0-d6e3-4346-8af8-c4486be9f8c8",
   "metadata": {},
   "source": [
    "# 3. Window Functions: Rolling & Expanding Metrics"
   ]
  },
  {
   "cell_type": "markdown",
   "id": "57748cbe-04e5-4c42-b64b-cc84ba5ff511",
   "metadata": {},
   "source": [
    "## 3.1. Window functions with pandas"
   ]
  },
  {
   "cell_type": "markdown",
   "id": "6ba27eb1-c2eb-4d68-869d-dc88ce6a0c72",
   "metadata": {},
   "source": [
    "Window functions are useful because they allow you to operate on sub-periods of your time series. In particular, window functions calculate metrics for the data inside the window. Then, the result of this calculation forms a new time series, where each data point represents a summary of several data points of the original time series. We will discuss two main types of windows: **Rolling windows** maintain the same size while they slide over the time series, so each new data point is the result of a given number of observations. **Expanding windows** grow with the time series so that the calculation that produces a new data point is the result of all previous data points.\n",
    "\n",
    "Let’s calculate a simple moving average to see how this works in practice. We will again use google stock price data for the last several years. We will see two ways to define the rolling window:\n",
    "\n",
    "First, we apply **rolling** with an integer window size of 30. This means that the window will contain the previous 30 observations or trading days. When you choose an integer-based window size, pandas will only calculate the mean if the window has no missing values. You can change this default by setting the `min_periods` parameter to a value smaller than the window size of 30."
   ]
  },
  {
   "cell_type": "code",
   "execution_count": 68,
   "id": "9ebf9a25-a48b-4a62-bd13-3c753bb8c09d",
   "metadata": {},
   "outputs": [],
   "source": [
    "data = pd.read_csv(\"data/google.csv\")"
   ]
  },
  {
   "cell_type": "code",
   "execution_count": 69,
   "id": "f62b1931-1d49-4a23-9144-2927aac834dd",
   "metadata": {},
   "outputs": [],
   "source": [
    "data.set_index(\"Date\", inplace=True)"
   ]
  },
  {
   "cell_type": "code",
   "execution_count": 70,
   "id": "b218f616-1d23-4905-8c4e-bca122bf5d13",
   "metadata": {},
   "outputs": [
    {
     "data": {
      "text/html": [
       "<div>\n",
       "<style scoped>\n",
       "    .dataframe tbody tr th:only-of-type {\n",
       "        vertical-align: middle;\n",
       "    }\n",
       "\n",
       "    .dataframe tbody tr th {\n",
       "        vertical-align: top;\n",
       "    }\n",
       "\n",
       "    .dataframe thead th {\n",
       "        text-align: right;\n",
       "    }\n",
       "</style>\n",
       "<table border=\"1\" class=\"dataframe\">\n",
       "  <thead>\n",
       "    <tr style=\"text-align: right;\">\n",
       "      <th></th>\n",
       "      <th>Close</th>\n",
       "    </tr>\n",
       "    <tr>\n",
       "      <th>Date</th>\n",
       "      <th></th>\n",
       "    </tr>\n",
       "  </thead>\n",
       "  <tbody>\n",
       "    <tr>\n",
       "      <th>2014-01-02</th>\n",
       "      <td>556.00</td>\n",
       "    </tr>\n",
       "    <tr>\n",
       "      <th>2014-01-03</th>\n",
       "      <td>551.95</td>\n",
       "    </tr>\n",
       "    <tr>\n",
       "      <th>2014-01-04</th>\n",
       "      <td>NaN</td>\n",
       "    </tr>\n",
       "    <tr>\n",
       "      <th>2014-01-05</th>\n",
       "      <td>NaN</td>\n",
       "    </tr>\n",
       "    <tr>\n",
       "      <th>2014-01-06</th>\n",
       "      <td>558.10</td>\n",
       "    </tr>\n",
       "    <tr>\n",
       "      <th>...</th>\n",
       "      <td>...</td>\n",
       "    </tr>\n",
       "    <tr>\n",
       "      <th>2016-12-26</th>\n",
       "      <td>NaN</td>\n",
       "    </tr>\n",
       "    <tr>\n",
       "      <th>2016-12-27</th>\n",
       "      <td>791.55</td>\n",
       "    </tr>\n",
       "    <tr>\n",
       "      <th>2016-12-28</th>\n",
       "      <td>785.05</td>\n",
       "    </tr>\n",
       "    <tr>\n",
       "      <th>2016-12-29</th>\n",
       "      <td>782.79</td>\n",
       "    </tr>\n",
       "    <tr>\n",
       "      <th>2016-12-30</th>\n",
       "      <td>771.82</td>\n",
       "    </tr>\n",
       "  </tbody>\n",
       "</table>\n",
       "<p>1094 rows × 1 columns</p>\n",
       "</div>"
      ],
      "text/plain": [
       "             Close\n",
       "Date              \n",
       "2014-01-02  556.00\n",
       "2014-01-03  551.95\n",
       "2014-01-04     NaN\n",
       "2014-01-05     NaN\n",
       "2014-01-06  558.10\n",
       "...            ...\n",
       "2016-12-26     NaN\n",
       "2016-12-27  791.55\n",
       "2016-12-28  785.05\n",
       "2016-12-29  782.79\n",
       "2016-12-30  771.82\n",
       "\n",
       "[1094 rows x 1 columns]"
      ]
     },
     "execution_count": 70,
     "metadata": {},
     "output_type": "execute_result"
    }
   ],
   "source": [
    "data"
   ]
  },
  {
   "cell_type": "code",
   "execution_count": 71,
   "id": "1842fd0c-8a31-41f4-819f-7c6b883f5130",
   "metadata": {},
   "outputs": [
    {
     "data": {
      "text/html": [
       "<div>\n",
       "<style scoped>\n",
       "    .dataframe tbody tr th:only-of-type {\n",
       "        vertical-align: middle;\n",
       "    }\n",
       "\n",
       "    .dataframe tbody tr th {\n",
       "        vertical-align: top;\n",
       "    }\n",
       "\n",
       "    .dataframe thead th {\n",
       "        text-align: right;\n",
       "    }\n",
       "</style>\n",
       "<table border=\"1\" class=\"dataframe\">\n",
       "  <thead>\n",
       "    <tr style=\"text-align: right;\">\n",
       "      <th></th>\n",
       "      <th>Close</th>\n",
       "    </tr>\n",
       "    <tr>\n",
       "      <th>Date</th>\n",
       "      <th></th>\n",
       "    </tr>\n",
       "  </thead>\n",
       "  <tbody>\n",
       "    <tr>\n",
       "      <th>2014-01-02</th>\n",
       "      <td>556.000000</td>\n",
       "    </tr>\n",
       "    <tr>\n",
       "      <th>2014-01-03</th>\n",
       "      <td>553.975000</td>\n",
       "    </tr>\n",
       "    <tr>\n",
       "      <th>2014-01-04</th>\n",
       "      <td>553.975000</td>\n",
       "    </tr>\n",
       "    <tr>\n",
       "      <th>2014-01-05</th>\n",
       "      <td>553.975000</td>\n",
       "    </tr>\n",
       "    <tr>\n",
       "      <th>2014-01-06</th>\n",
       "      <td>555.350000</td>\n",
       "    </tr>\n",
       "    <tr>\n",
       "      <th>...</th>\n",
       "      <td>...</td>\n",
       "    </tr>\n",
       "    <tr>\n",
       "      <th>2016-12-26</th>\n",
       "      <td>779.575500</td>\n",
       "    </tr>\n",
       "    <tr>\n",
       "      <th>2016-12-27</th>\n",
       "      <td>780.145714</td>\n",
       "    </tr>\n",
       "    <tr>\n",
       "      <th>2016-12-28</th>\n",
       "      <td>780.946190</td>\n",
       "    </tr>\n",
       "    <tr>\n",
       "      <th>2016-12-29</th>\n",
       "      <td>781.515238</td>\n",
       "    </tr>\n",
       "    <tr>\n",
       "      <th>2016-12-30</th>\n",
       "      <td>782.171429</td>\n",
       "    </tr>\n",
       "  </tbody>\n",
       "</table>\n",
       "<p>1094 rows × 1 columns</p>\n",
       "</div>"
      ],
      "text/plain": [
       "                 Close\n",
       "Date                  \n",
       "2014-01-02  556.000000\n",
       "2014-01-03  553.975000\n",
       "2014-01-04  553.975000\n",
       "2014-01-05  553.975000\n",
       "2014-01-06  555.350000\n",
       "...                ...\n",
       "2016-12-26  779.575500\n",
       "2016-12-27  780.145714\n",
       "2016-12-28  780.946190\n",
       "2016-12-29  781.515238\n",
       "2016-12-30  782.171429\n",
       "\n",
       "[1094 rows x 1 columns]"
      ]
     },
     "execution_count": 71,
     "metadata": {},
     "output_type": "execute_result"
    }
   ],
   "source": [
    "# Integer-based window size\n",
    "data.rolling(window=30, min_periods=1).mean()  # fixed # observations"
   ]
  },
  {
   "cell_type": "code",
   "execution_count": 72,
   "id": "306bb341-697e-4718-8164-3876e10cfaa7",
   "metadata": {},
   "outputs": [
    {
     "data": {
      "text/plain": [
       "<AxesSubplot: xlabel='Date'>"
      ]
     },
     "execution_count": 72,
     "metadata": {},
     "output_type": "execute_result"
    },
    {
     "data": {
      "image/png": "[encoded data removed]",
      "text/plain": [
       "<Figure size 640x480 with 1 Axes>"
      ]
     },
     "metadata": {},
     "output_type": "display_data"
    }
   ],
   "source": [
    "r90 = data.rolling(window=90, min_periods=1).mean()\n",
    "data.join(r90.add_suffix(\"_mean_90\")).plot()"
   ]
  },
  {
   "cell_type": "markdown",
   "id": "311907ce-0609-49ad-badd-1b6f07ebb61c",
   "metadata": {},
   "source": [
    "To see how extending the time horizon affects the moving average, let’s add the 360 calendar day moving average."
   ]
  },
  {
   "cell_type": "code",
   "execution_count": 73,
   "id": "5f3da680-bfdf-4c17-b152-d6870a0c296a",
   "metadata": {},
   "outputs": [
    {
     "data": {
      "text/plain": [
       "<AxesSubplot: xlabel='Date'>"
      ]
     },
     "execution_count": 73,
     "metadata": {},
     "output_type": "execute_result"
    },
    {
     "data": {
      "image/png": "[encoded data removed]",
      "text/plain": [
       "<Figure size 640x480 with 1 Axes>"
      ]
     },
     "metadata": {},
     "output_type": "display_data"
    }
   ],
   "source": [
    "data[\"mean90\"] = r90\n",
    "r360 = data[\"Close\"].rolling(window=360, min_periods=1).mean()\n",
    "data[\"mean360\"] = r360\n",
    "data.plot()"
   ]
  },
  {
   "cell_type": "markdown",
   "id": "bf622c41-f2c7-4aa9-b50d-75ee048fd8c8",
   "metadata": {},
   "source": [
    "The series now appears smoother still, and you can more clearly see when short-term trends deviate from longer-term trends, for instance when the 90-day average dips below the 360-day average in 2015.\n",
    "\n",
    "Similar to `.groupby()`, you can also calculate multiple metrics at the same time, using the `.agg()` method. With a 90-day moving average and standard deviation, you can easily discern periods of heightened volatility."
   ]
  },
  {
   "cell_type": "code",
   "execution_count": 74,
   "id": "5d9c3da1-005c-43b8-80a8-f2b81fa2766e",
   "metadata": {},
   "outputs": [
    {
     "data": {
      "text/plain": [
       "array([<AxesSubplot: xlabel='Date'>, <AxesSubplot: xlabel='Date'>],\n",
       "      dtype=object)"
      ]
     },
     "execution_count": 74,
     "metadata": {},
     "output_type": "execute_result"
    },
    {
     "data": {
      "image/png": "[encoded data removed]",
      "text/plain": [
       "<Figure size 640x480 with 2 Axes>"
      ]
     },
     "metadata": {},
     "output_type": "display_data"
    }
   ],
   "source": [
    "r = data[\"Close\"].rolling(90, min_periods=1).agg([\"mean\", \"std\"])\n",
    "r.plot(subplots=True)"
   ]
  },
  {
   "cell_type": "markdown",
   "id": "ec9ceee4-efa8-43d8-b53a-1083c9224fd6",
   "metadata": {},
   "source": [
    "Finally, let’s display a 360 calendar day rolling median, or 50 percent quantile, alongside the 10 and 90 percent quantiles. Again you can see how the ranges for the stock price have evolved over time, with some periods more volatile than others."
   ]
  },
  {
   "cell_type": "code",
   "execution_count": 75,
   "id": "e8644058-1fc1-4dba-8aa5-51a4ce9926b7",
   "metadata": {},
   "outputs": [
    {
     "data": {
      "text/plain": [
       "<AxesSubplot: xlabel='Date'>"
      ]
     },
     "execution_count": 75,
     "metadata": {},
     "output_type": "execute_result"
    },
    {
     "data": {
      "image/png": "[encoded data removed]",
      "text/plain": [
       "<Figure size 640x480 with 1 Axes>"
      ]
     },
     "metadata": {},
     "output_type": "display_data"
    }
   ],
   "source": [
    "rolling = data[\"Close\"].rolling(360, min_periods=1)\n",
    "q10 = rolling.quantile(0.1).to_frame('q10')\n",
    "median = rolling.median().to_frame('median')\n",
    "q90 = rolling.quantile(0.9).to_frame('q90')\n",
    "pd.concat([q10, median, q90], axis=1).plot()"
   ]
  },
  {
   "cell_type": "markdown",
   "id": "af49e6f9-09cc-43ac-973c-6a2e3d03ef3c",
   "metadata": {},
   "source": [
    "## 3.2. Expanding window functions with pandas"
   ]
  },
  {
   "cell_type": "markdown",
   "id": "d4df8592-0638-4bb7-873d-40480f30a0b6",
   "metadata": {},
   "source": [
    "We will move from rolling to expanding windows. You will now calculate metrics for groups that get larger to exclude all data up to the current date. Each data point of the resulting time series reflects all historical values up to that point. Expanding windows are useful to calculate for instance a cumulative rate of return, or a running maximum or minimum. In pandas, you can use either the method expanding, which works just like rolling, or in a few cases shorthand methods for the cumulative sum, product, min, and max."
   ]
  },
  {
   "cell_type": "markdown",
   "id": "14a6aff6-2152-4912-9340-90a5af627a6d",
   "metadata": {},
   "source": [
    "We will use the [S&P500 data](https://github.com/youssefHosni/Practical-Time-Series-In-Python/tree/main/Time%20Series%20Manipulation) for the last ten years in the practical examples in this section. Let’s first take a look at how to calculate returns: The simple period return is just the current price divided by the last price minus 1. The return over several periods is the product of all period returns after adding 1 and then subtracting 1 from the product.\n",
    "\n",
    "So for more clarification, the period return is: r(t) = (p(t)/p(t-1)) -1 and the multi-period return is: R(T) = (1+r(1))(1+r(2))……..(1+r(T)) — 1.\n",
    "\n",
    "Pandas makes these calculations easy ‘ you have already seen the methods for percent change(`.pct_change`) and basic math (`.diff()`, `.div()`, `.mul()`), and now you’ll learn about the cumulative product.\n",
    "\n",
    "To get the cumulative or running rate of return on the SP500, just follow the steps described above: Calculate the period return with percent change, and add 1 Calculate the cumulative product, and subtract one. You can multiply the result by 100, and plot the result in percentage terms. The code for this is shown below:"
   ]
  },
  {
   "cell_type": "code",
   "execution_count": 76,
   "id": "206328d4-73ed-4774-af15-61d77411afad",
   "metadata": {},
   "outputs": [],
   "source": [
    "data = pd.read_csv(\"data/price.csv\")"
   ]
  },
  {
   "cell_type": "code",
   "execution_count": 77,
   "id": "61cb4600-7821-4cf7-b8c9-673fb0358a3d",
   "metadata": {},
   "outputs": [],
   "source": [
    "data.set_index(\"DATE\", inplace=True)"
   ]
  },
  {
   "cell_type": "code",
   "execution_count": 78,
   "id": "c707a85b-8a34-449c-ac5e-875273816133",
   "metadata": {},
   "outputs": [
    {
     "data": {
      "text/html": [
       "<div>\n",
       "<style scoped>\n",
       "    .dataframe tbody tr th:only-of-type {\n",
       "        vertical-align: middle;\n",
       "    }\n",
       "\n",
       "    .dataframe tbody tr th {\n",
       "        vertical-align: top;\n",
       "    }\n",
       "\n",
       "    .dataframe thead th {\n",
       "        text-align: right;\n",
       "    }\n",
       "</style>\n",
       "<table border=\"1\" class=\"dataframe\">\n",
       "  <thead>\n",
       "    <tr style=\"text-align: right;\">\n",
       "      <th></th>\n",
       "      <th>SP500</th>\n",
       "      <th>Bonds</th>\n",
       "      <th>Gold</th>\n",
       "      <th>Oil</th>\n",
       "    </tr>\n",
       "    <tr>\n",
       "      <th>DATE</th>\n",
       "      <th></th>\n",
       "      <th></th>\n",
       "      <th></th>\n",
       "      <th></th>\n",
       "    </tr>\n",
       "  </thead>\n",
       "  <tbody>\n",
       "    <tr>\n",
       "      <th>2007-06-29</th>\n",
       "      <td>1503.35</td>\n",
       "      <td>402.15</td>\n",
       "      <td>648.50</td>\n",
       "      <td>70.47</td>\n",
       "    </tr>\n",
       "    <tr>\n",
       "      <th>2007-07-02</th>\n",
       "      <td>1519.43</td>\n",
       "      <td>402.96</td>\n",
       "      <td>650.50</td>\n",
       "      <td>71.11</td>\n",
       "    </tr>\n",
       "    <tr>\n",
       "      <th>2007-07-03</th>\n",
       "      <td>1524.87</td>\n",
       "      <td>402.02</td>\n",
       "      <td>657.25</td>\n",
       "      <td>71.41</td>\n",
       "    </tr>\n",
       "    <tr>\n",
       "      <th>2007-07-05</th>\n",
       "      <td>1525.40</td>\n",
       "      <td>400.15</td>\n",
       "      <td>655.90</td>\n",
       "      <td>71.81</td>\n",
       "    </tr>\n",
       "    <tr>\n",
       "      <th>2007-07-06</th>\n",
       "      <td>1530.44</td>\n",
       "      <td>399.31</td>\n",
       "      <td>647.75</td>\n",
       "      <td>72.80</td>\n",
       "    </tr>\n",
       "    <tr>\n",
       "      <th>...</th>\n",
       "      <td>...</td>\n",
       "      <td>...</td>\n",
       "      <td>...</td>\n",
       "      <td>...</td>\n",
       "    </tr>\n",
       "    <tr>\n",
       "      <th>2017-06-20</th>\n",
       "      <td>2437.03</td>\n",
       "      <td>621.84</td>\n",
       "      <td>1246.50</td>\n",
       "      <td>43.34</td>\n",
       "    </tr>\n",
       "    <tr>\n",
       "      <th>2017-06-21</th>\n",
       "      <td>2435.61</td>\n",
       "      <td>622.94</td>\n",
       "      <td>1247.05</td>\n",
       "      <td>42.48</td>\n",
       "    </tr>\n",
       "    <tr>\n",
       "      <th>2017-06-22</th>\n",
       "      <td>2434.50</td>\n",
       "      <td>622.93</td>\n",
       "      <td>1251.40</td>\n",
       "      <td>42.53</td>\n",
       "    </tr>\n",
       "    <tr>\n",
       "      <th>2017-06-23</th>\n",
       "      <td>2438.30</td>\n",
       "      <td>623.57</td>\n",
       "      <td>1256.30</td>\n",
       "      <td>42.86</td>\n",
       "    </tr>\n",
       "    <tr>\n",
       "      <th>2017-06-26</th>\n",
       "      <td>2439.07</td>\n",
       "      <td>625.00</td>\n",
       "      <td>1240.85</td>\n",
       "      <td>43.24</td>\n",
       "    </tr>\n",
       "  </tbody>\n",
       "</table>\n",
       "<p>2469 rows × 4 columns</p>\n",
       "</div>"
      ],
      "text/plain": [
       "              SP500   Bonds     Gold    Oil\n",
       "DATE                                       \n",
       "2007-06-29  1503.35  402.15   648.50  70.47\n",
       "2007-07-02  1519.43  402.96   650.50  71.11\n",
       "2007-07-03  1524.87  402.02   657.25  71.41\n",
       "2007-07-05  1525.40  400.15   655.90  71.81\n",
       "2007-07-06  1530.44  399.31   647.75  72.80\n",
       "...             ...     ...      ...    ...\n",
       "2017-06-20  2437.03  621.84  1246.50  43.34\n",
       "2017-06-21  2435.61  622.94  1247.05  42.48\n",
       "2017-06-22  2434.50  622.93  1251.40  42.53\n",
       "2017-06-23  2438.30  623.57  1256.30  42.86\n",
       "2017-06-26  2439.07  625.00  1240.85  43.24\n",
       "\n",
       "[2469 rows x 4 columns]"
      ]
     },
     "execution_count": 78,
     "metadata": {},
     "output_type": "execute_result"
    }
   ],
   "source": [
    "data"
   ]
  },
  {
   "cell_type": "code",
   "execution_count": 79,
   "id": "1388104a-b526-460d-a71a-03ce8d2390b9",
   "metadata": {},
   "outputs": [],
   "source": [
    "pr = data[\"SP500\"].pct_change()  # period return"
   ]
  },
  {
   "cell_type": "code",
   "execution_count": 80,
   "id": "73f72eca-5297-4260-8bcf-a3e103bd670c",
   "metadata": {},
   "outputs": [
    {
     "data": {
      "text/plain": [
       "DATE\n",
       "2007-06-29         NaN\n",
       "2007-07-02    0.010696\n",
       "2007-07-03    0.003580\n",
       "2007-07-05    0.000348\n",
       "2007-07-06    0.003304\n",
       "                ...   \n",
       "2017-06-20   -0.006697\n",
       "2017-06-21   -0.000583\n",
       "2017-06-22   -0.000456\n",
       "2017-06-23    0.001561\n",
       "2017-06-26    0.000316\n",
       "Name: SP500, Length: 2469, dtype: float64"
      ]
     },
     "execution_count": 80,
     "metadata": {},
     "output_type": "execute_result"
    }
   ],
   "source": [
    "pr"
   ]
  },
  {
   "cell_type": "code",
   "execution_count": 81,
   "id": "a24b9555-26cf-449b-be89-e24cfb943958",
   "metadata": {},
   "outputs": [],
   "source": [
    "pr_plus_one = pr.add(1)"
   ]
  },
  {
   "cell_type": "code",
   "execution_count": 82,
   "id": "cf2aabee-967b-4f7a-8389-ac373302fd39",
   "metadata": {},
   "outputs": [
    {
     "data": {
      "text/plain": [
       "DATE\n",
       "2007-06-29         NaN\n",
       "2007-07-02    1.010696\n",
       "2007-07-03    1.003580\n",
       "2007-07-05    1.000348\n",
       "2007-07-06    1.003304\n",
       "                ...   \n",
       "2017-06-20    0.993303\n",
       "2017-06-21    0.999417\n",
       "2017-06-22    0.999544\n",
       "2017-06-23    1.001561\n",
       "2017-06-26    1.000316\n",
       "Name: SP500, Length: 2469, dtype: float64"
      ]
     },
     "execution_count": 82,
     "metadata": {},
     "output_type": "execute_result"
    }
   ],
   "source": [
    "pr_plus_one"
   ]
  },
  {
   "cell_type": "code",
   "execution_count": 83,
   "id": "62d75425-c83a-4a19-8cae-93b3d4a48fab",
   "metadata": {},
   "outputs": [],
   "source": [
    "cumulative_return = pr_plus_one.cumprod().sub(1)"
   ]
  },
  {
   "cell_type": "code",
   "execution_count": 84,
   "id": "e31442cf-3272-4fde-9b19-7a4d19628e84",
   "metadata": {},
   "outputs": [
    {
     "data": {
      "text/plain": [
       "DATE\n",
       "2007-06-29         NaN\n",
       "2007-07-02    0.010696\n",
       "2007-07-03    0.014315\n",
       "2007-07-05    0.014667\n",
       "2007-07-06    0.018020\n",
       "                ...   \n",
       "2017-06-20    0.621066\n",
       "2017-06-21    0.620122\n",
       "2017-06-22    0.619383\n",
       "2017-06-23    0.621911\n",
       "2017-06-26    0.622423\n",
       "Name: SP500, Length: 2469, dtype: float64"
      ]
     },
     "execution_count": 84,
     "metadata": {},
     "output_type": "execute_result"
    }
   ],
   "source": [
    "cumulative_return"
   ]
  },
  {
   "cell_type": "code",
   "execution_count": 85,
   "id": "5b786319-c388-4624-a972-b8abdaade331",
   "metadata": {},
   "outputs": [
    {
     "data": {
      "text/plain": [
       "<AxesSubplot: xlabel='DATE'>"
      ]
     },
     "execution_count": 85,
     "metadata": {},
     "output_type": "execute_result"
    },
    {
     "data": {
      "image/png": "[encoded data removed]",
      "text/plain": [
       "<Figure size 640x480 with 1 Axes>"
      ]
     },
     "metadata": {},
     "output_type": "display_data"
    }
   ],
   "source": [
    "cumulative_return.mul(100).plot()"
   ]
  },
  {
   "cell_type": "markdown",
   "id": "fa160f62-598e-42c2-8dd5-a26dd7876a20",
   "metadata": {},
   "source": [
    "From the plot, we can see that the SP500 is up 60% since 2007, despite being down 60% in 2009. You can also easily calculate the running min and max of a time series: Just apply the expanding method and the respective aggregation method."
   ]
  },
  {
   "cell_type": "code",
   "execution_count": 86,
   "id": "5847a5fd-e9b1-45c6-a280-83fabff241eb",
   "metadata": {},
   "outputs": [],
   "source": [
    "data[\"running_min\"] = data[\"SP500\"].expanding().min()\n",
    "data[\"running_max\"] = data[\"SP500\"].expanding().max()"
   ]
  },
  {
   "cell_type": "code",
   "execution_count": 87,
   "id": "0b59c966-a97e-43dc-984f-38f709465897",
   "metadata": {},
   "outputs": [
    {
     "data": {
      "text/plain": [
       "<AxesSubplot: xlabel='DATE'>"
      ]
     },
     "execution_count": 87,
     "metadata": {},
     "output_type": "execute_result"
    },
    {
     "data": {
      "image/png": "[encoded data removed]",
      "text/plain": [
       "<Figure size 640x480 with 1 Axes>"
      ]
     },
     "metadata": {},
     "output_type": "display_data"
    }
   ],
   "source": [
    "data[[\"SP500\", \"running_min\", \"running_max\"]].plot()"
   ]
  },
  {
   "cell_type": "markdown",
   "id": "021d7cea-2153-4d3c-b852-6a168c16a88c",
   "metadata": {},
   "source": [
    "The orange and green lines outline the min and max up to the current date for each day. You can also combine the concept of a rolling window with a cumulative calculation. Let’s calculate the rolling annual rate of return, that is, the cumulative return for all 360 calendar day periods over the ten-year period covered by the data. This cumulative calculation is not available as a built-in method. But no problem just define your own multiperiod function, and use apply it to run it on the data in the rolling window. The data in the rolling window is available to your multi_period_return function as a numpy array. Add 1 to increment all returns, apply the numpy product function, and subtract one to implement the formula from above. Just pass this function to apply after creating a 360 calendar day window for the daily returns. Multiply the rolling 1-year return by 100 to show them in percentage terms, and plot alongside the index using subplots equals True."
   ]
  },
  {
   "cell_type": "code",
   "execution_count": 88,
   "id": "61af670e-ec3c-42d7-a926-db95ecea6456",
   "metadata": {},
   "outputs": [],
   "source": [
    "def multi_period_return(period_returns):\n",
    "    return np.prod(period_returns + 1) - 1"
   ]
  },
  {
   "cell_type": "code",
   "execution_count": 89,
   "id": "a78efe85-22d6-410a-83e9-8e1abeec4c2f",
   "metadata": {},
   "outputs": [],
   "source": [
    "pr = data[\"SP500\"].pct_change()  # period return"
   ]
  },
  {
   "cell_type": "code",
   "execution_count": 90,
   "id": "c6529afa-fa5a-41f6-8918-128fa5144b95",
   "metadata": {},
   "outputs": [],
   "source": [
    "r = pr.rolling(360, min_periods=1).apply(multi_period_return)"
   ]
  },
  {
   "cell_type": "code",
   "execution_count": 91,
   "id": "946da999-5e7c-4c90-b6e5-9f403fb5bc6b",
   "metadata": {},
   "outputs": [
    {
     "data": {
      "text/plain": [
       "DATE\n",
       "2007-06-29         NaN\n",
       "2007-07-02    0.010696\n",
       "2007-07-03    0.014315\n",
       "2007-07-05    0.014667\n",
       "2007-07-06    0.018020\n",
       "                ...   \n",
       "2017-06-20    0.224478\n",
       "2017-06-21    0.253473\n",
       "2017-06-22    0.266630\n",
       "2017-06-23    0.267525\n",
       "2017-06-26    0.258109\n",
       "Name: SP500, Length: 2469, dtype: float64"
      ]
     },
     "execution_count": 91,
     "metadata": {},
     "output_type": "execute_result"
    }
   ],
   "source": [
    "r"
   ]
  },
  {
   "cell_type": "code",
   "execution_count": 92,
   "id": "ed929039-91fa-4288-ba5a-8533210f31cb",
   "metadata": {},
   "outputs": [],
   "source": [
    "data['Rolling 1yr Return'] = r.mul(100)"
   ]
  },
  {
   "cell_type": "code",
   "execution_count": 93,
   "id": "c4ba4b8b-431a-46ac-8745-ef146d4f63d7",
   "metadata": {},
   "outputs": [
    {
     "data": {
      "text/plain": [
       "array([<AxesSubplot: xlabel='DATE'>, <AxesSubplot: xlabel='DATE'>,\n",
       "       <AxesSubplot: xlabel='DATE'>, <AxesSubplot: xlabel='DATE'>],\n",
       "      dtype=object)"
      ]
     },
     "execution_count": 93,
     "metadata": {},
     "output_type": "execute_result"
    },
    {
     "data": {
      "image/png": "[encoded data removed]",
      "text/plain": [
       "<Figure size 640x480 with 4 Axes>"
      ]
     },
     "metadata": {},
     "output_type": "display_data"
    }
   ],
   "source": [
    "data[[\"SP500\", \"running_min\", \"running_max\", \"Rolling 1yr Return\"]].plot(subplots=True)"
   ]
  },
  {
   "cell_type": "markdown",
   "id": "400ae486-de24-4ff7-b82d-b90f09571d59",
   "metadata": {},
   "source": [
    "The result shows the large annual return swings following the 2008 crisis."
   ]
  },
  {
   "cell_type": "code",
   "execution_count": null,
   "id": "bd9293b6-9833-44cd-96b4-a2aa967b75bf",
   "metadata": {},
   "outputs": [],
   "source": []
  }
 ],
 "metadata": {
  "kernelspec": {
   "display_name": "Python [conda env:ls_env]",
   "language": "python",
   "name": "conda-env-ls_env-py"
  },
  "language_info": {
   "codemirror_mode": {
    "name": "ipython",
    "version": 3
   },
   "file_extension": ".py",
   "mimetype": "text/x-python",
   "name": "python",
   "nbconvert_exporter": "python",
   "pygments_lexer": "ipython3",
   "version": "3.10.8"
  }
 },
 "nbformat": 4,
 "nbformat_minor": 5
}
