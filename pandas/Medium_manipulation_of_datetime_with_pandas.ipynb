{
 "cells": [
  {
   "cell_type": "markdown",
   "id": "702895b9-1ece-45ee-b099-ff98784d70d3",
   "metadata": {},
   "source": [
    "# 📦 0. Prepare data"
   ]
  },
  {
   "cell_type": "code",
   "execution_count": 1,
   "id": "3e858b26-9214-4e07-a95f-89575265c8ed",
   "metadata": {},
   "outputs": [
    {
     "data": {
      "text/html": [
       "<div>\n",
       "<style scoped>\n",
       "    .dataframe tbody tr th:only-of-type {\n",
       "        vertical-align: middle;\n",
       "    }\n",
       "\n",
       "    .dataframe tbody tr th {\n",
       "        vertical-align: top;\n",
       "    }\n",
       "\n",
       "    .dataframe thead th {\n",
       "        text-align: right;\n",
       "    }\n",
       "</style>\n",
       "<table border=\"1\" class=\"dataframe\">\n",
       "  <thead>\n",
       "    <tr style=\"text-align: right;\">\n",
       "      <th></th>\n",
       "      <th>flight_start</th>\n",
       "      <th>flight_length</th>\n",
       "      <th>return_start</th>\n",
       "    </tr>\n",
       "  </thead>\n",
       "  <tbody>\n",
       "    <tr>\n",
       "      <th>0</th>\n",
       "      <td>2019-02-04 13:15:00</td>\n",
       "      <td>7.0</td>\n",
       "      <td>01/03/2019 10:00:00</td>\n",
       "    </tr>\n",
       "    <tr>\n",
       "      <th>1</th>\n",
       "      <td>2020-01-01 21:30:00</td>\n",
       "      <td>21.5</td>\n",
       "      <td>11/01/2020 20:50:00</td>\n",
       "    </tr>\n",
       "    <tr>\n",
       "      <th>2</th>\n",
       "      <td>2021-10-28 02:00:00</td>\n",
       "      <td>30.0</td>\n",
       "      <td>05/11/2021 08:20:00</td>\n",
       "    </tr>\n",
       "  </tbody>\n",
       "</table>\n",
       "</div>"
      ],
      "text/plain": [
       "          flight_start  flight_length         return_start\n",
       "0  2019-02-04 13:15:00            7.0  01/03/2019 10:00:00\n",
       "1  2020-01-01 21:30:00           21.5  11/01/2020 20:50:00\n",
       "2  2021-10-28 02:00:00           30.0  05/11/2021 08:20:00"
      ]
     },
     "execution_count": 1,
     "metadata": {},
     "output_type": "execute_result"
    }
   ],
   "source": [
    "import pandas as pd\n",
    "df = pd.DataFrame({'flight_start': ['2019-02-04 13:15:00', \n",
    "                                    '2020-01-01 21:30:00', \n",
    "                                    '2021-10-28 02:00:00'],\n",
    "                   'flight_length': [7, 21.5, 30],\n",
    "                   'return_start': ['01/03/2019 10:00:00', \n",
    "                                    '11/01/2020 20:50:00', \n",
    "                                    '05/11/2021 08:20:00']})\n",
    "df"
   ]
  },
  {
   "cell_type": "code",
   "execution_count": 2,
   "id": "6aa0df43-9857-4776-aa34-a982eb0a78ef",
   "metadata": {},
   "outputs": [
    {
     "data": {
      "text/plain": [
       "flight_start      object\n",
       "flight_length    float64\n",
       "return_start      object\n",
       "dtype: object"
      ]
     },
     "execution_count": 2,
     "metadata": {},
     "output_type": "execute_result"
    }
   ],
   "source": [
    "df.dtypes"
   ]
  },
  {
   "cell_type": "markdown",
   "id": "ab4fc10a-6b94-4c4c-a6e7-d5e1313ad51e",
   "metadata": {},
   "source": [
    "## 📍 1. Transform to datetime or timedelta dtypes"
   ]
  },
  {
   "cell_type": "markdown",
   "id": "fb14d407-b551-4700-aa0a-42647a24a1b6",
   "metadata": {},
   "source": [
    "We will transform `flight_start` and `return_start` to *datetime* with `pd.to_datetime()` and `flight_length` to *timedelta* with `pd.to_timedelta()`."
   ]
  },
  {
   "cell_type": "code",
   "execution_count": 3,
   "id": "ddffd5ac-7804-47de-8474-5d5a827c1137",
   "metadata": {},
   "outputs": [
    {
     "data": {
      "text/html": [
       "<div>\n",
       "<style scoped>\n",
       "    .dataframe tbody tr th:only-of-type {\n",
       "        vertical-align: middle;\n",
       "    }\n",
       "\n",
       "    .dataframe tbody tr th {\n",
       "        vertical-align: top;\n",
       "    }\n",
       "\n",
       "    .dataframe thead th {\n",
       "        text-align: right;\n",
       "    }\n",
       "</style>\n",
       "<table border=\"1\" class=\"dataframe\">\n",
       "  <thead>\n",
       "    <tr style=\"text-align: right;\">\n",
       "      <th></th>\n",
       "      <th>flight_start</th>\n",
       "      <th>flight_length</th>\n",
       "      <th>return_start</th>\n",
       "    </tr>\n",
       "  </thead>\n",
       "  <tbody>\n",
       "    <tr>\n",
       "      <th>0</th>\n",
       "      <td>2019-02-04 13:15:00</td>\n",
       "      <td>0 days 07:00:00</td>\n",
       "      <td>2019-03-01 10:00:00</td>\n",
       "    </tr>\n",
       "    <tr>\n",
       "      <th>1</th>\n",
       "      <td>2020-01-01 21:30:00</td>\n",
       "      <td>0 days 21:30:00</td>\n",
       "      <td>2020-01-11 20:50:00</td>\n",
       "    </tr>\n",
       "    <tr>\n",
       "      <th>2</th>\n",
       "      <td>2021-10-28 02:00:00</td>\n",
       "      <td>1 days 06:00:00</td>\n",
       "      <td>2021-11-05 08:20:00</td>\n",
       "    </tr>\n",
       "  </tbody>\n",
       "</table>\n",
       "</div>"
      ],
      "text/plain": [
       "         flight_start   flight_length        return_start\n",
       "0 2019-02-04 13:15:00 0 days 07:00:00 2019-03-01 10:00:00\n",
       "1 2020-01-01 21:30:00 0 days 21:30:00 2020-01-11 20:50:00\n",
       "2 2021-10-28 02:00:00 1 days 06:00:00 2021-11-05 08:20:00"
      ]
     },
     "execution_count": 3,
     "metadata": {},
     "output_type": "execute_result"
    }
   ],
   "source": [
    "df['flight_start'] = pd.to_datetime(df['flight_start'])\n",
    "df['flight_length'] = pd.to_timedelta(df['flight_length'], 'h')\n",
    "df['return_start'] = pd.to_datetime(\n",
    "    df['return_start'], format='%d/%m/%Y %H:%M:%S'\n",
    ")\n",
    "df"
   ]
  },
  {
   "cell_type": "markdown",
   "id": "3d26483f-e1a4-45f3-8ea0-25222e1f8b21",
   "metadata": {},
   "source": [
    "In line 4, we specified the datetime format using the `format` argument. If we don’t specify it, pandas will be smart enough to convert it correctly in this example. The reason we used `format` argument was to familiarise with it so that we know how to specify format if there is a need for it in future."
   ]
  },
  {
   "cell_type": "code",
   "execution_count": 4,
   "id": "5d9bb9b2-2376-4bed-92b7-a1173e06d0ea",
   "metadata": {},
   "outputs": [
    {
     "data": {
      "text/plain": [
       "flight_start      datetime64[ns]\n",
       "flight_length    timedelta64[ns]\n",
       "return_start      datetime64[ns]\n",
       "dtype: object"
      ]
     },
     "execution_count": 4,
     "metadata": {},
     "output_type": "execute_result"
    }
   ],
   "source": [
    "df.dtypes"
   ]
  },
  {
   "cell_type": "markdown",
   "id": "8d736c7c-ce63-4c1d-b5b0-76e482faf9f9",
   "metadata": {},
   "source": [
    "Before we move on, I want to show one useful tip when converting dirty data. Sometimes, we may be working with bad data like this: `202Y-01–01 21:30:00` that contains strings or other invalid datetimes. Trying to convert it like below will trigger an error:"
   ]
  },
  {
   "cell_type": "code",
   "execution_count": 5,
   "id": "b33a5b83-7caa-4574-92de-d3e9c41073cd",
   "metadata": {},
   "outputs": [],
   "source": [
    "# pd.to_datetime(pd.Series(['2019-02-04 13:15:00', \n",
    "#                           '202Y-01-01 21:30:00']))\n",
    "\n",
    "# This gives an error"
   ]
  },
  {
   "cell_type": "markdown",
   "id": "eb3ee1db-ebe1-4360-81fd-eaeec32a9f5f",
   "metadata": {},
   "source": [
    "In this case, we can specify `errors='coerce'` in the function to convert valid cases only and replace invalid cases to missing:"
   ]
  },
  {
   "cell_type": "code",
   "execution_count": 6,
   "id": "816def58-830c-4937-b4b1-2001e8bf7d3c",
   "metadata": {},
   "outputs": [
    {
     "data": {
      "text/plain": [
       "0   2019-02-04 13:15:00\n",
       "1                   NaT\n",
       "dtype: datetime64[ns]"
      ]
     },
     "execution_count": 6,
     "metadata": {},
     "output_type": "execute_result"
    }
   ],
   "source": [
    "pd.to_datetime(pd.Series(['2019-02-04 13:15:00', \n",
    "                          '202Y-01-01 21:30:00']), errors='coerce')"
   ]
  },
  {
   "cell_type": "markdown",
   "id": "4388d5f9-7dc8-4372-bda1-7e0e062ba83e",
   "metadata": {},
   "source": [
    "Similarly, we will get an error when converting dirty data to timedelta:"
   ]
  },
  {
   "cell_type": "code",
   "execution_count": 7,
   "id": "8226c9a9-27a8-45c5-9f6b-b54f390ee628",
   "metadata": {},
   "outputs": [],
   "source": [
    "# pd.to_timedelta(pd.Series([7, 'T']), unit='H')\n",
    "\n",
    "# This gives an error"
   ]
  },
  {
   "cell_type": "markdown",
   "id": "e0f6b99e-48d1-4f53-b5a9-aa1b5d36a87e",
   "metadata": {},
   "source": [
    "We can also use the `errors='coerce'`:"
   ]
  },
  {
   "cell_type": "code",
   "execution_count": 8,
   "id": "a1c0c35b-a701-48f5-84d5-70e18388987e",
   "metadata": {},
   "outputs": [
    {
     "data": {
      "text/plain": [
       "0   0 days 07:00:00\n",
       "1               NaT\n",
       "dtype: timedelta64[ns]"
      ]
     },
     "execution_count": 8,
     "metadata": {},
     "output_type": "execute_result"
    }
   ],
   "source": [
    "pd.to_timedelta(pd.Series([7, 'T']), unit='H', errors='coerce')"
   ]
  },
  {
   "cell_type": "markdown",
   "id": "353d0f4b-0ca7-443e-8fc3-3d9947df415e",
   "metadata": {},
   "source": [
    "## 📍 2. Extract datetime parts"
   ]
  },
  {
   "cell_type": "markdown",
   "id": "1875dc1d-b2e1-45c6-9721-32ddeb763bd4",
   "metadata": {},
   "source": [
    "Extracting datetime parts with pandas datetime is easy through the `.dt` accessor. For instance, here’s how we could extract a date using the accessor:"
   ]
  },
  {
   "cell_type": "code",
   "execution_count": 9,
   "id": "d7825072-dcd7-462d-9aa9-709885f6ba68",
   "metadata": {},
   "outputs": [
    {
     "data": {
      "text/plain": [
       "0    2019-02-04\n",
       "1    2020-01-01\n",
       "2    2021-10-28\n",
       "Name: flight_start, dtype: object"
      ]
     },
     "execution_count": 9,
     "metadata": {},
     "output_type": "execute_result"
    }
   ],
   "source": [
    "df['flight_start'].dt.date"
   ]
  },
  {
   "cell_type": "markdown",
   "id": "2c016ab8-3265-4cd9-b3a3-5445b0b38198",
   "metadata": {},
   "source": [
    "| ATTRIBUTE | DESCRIPTION | EXAMPLE | \n",
    "| :-------: | :---------: | :-----: | \n",
    "| `.dt.date` | Date | 2019-02-04 |\n",
    "| `.dt.year` | Year | 2019 |\n",
    "| `.dt.isocalendar().year` | ISO year | 2019 |\n",
    "| `.dt.quarter` | Quarter number | 1 | \n",
    "| `.dt.isocalendar().week` | ISO week number | 6 | \n",
    "| `.dt.month` | Month number | 2 |\n",
    "| `.dt.month_name()` | Month name | February | \n",
    "| `.dt.dayofyear` or `.dt.day_of_year` | Day of the year | 35 | \n",
    "| `.dt.day` | Day of the month |  4 |\n",
    "| `.dt.weekday` or `.dt.dayofweek` or `.dt.day_of_week` | Day of the week in numbers between 0 to 6 | 0 | \n",
    "| `.dt.isocalendar().day` | ISO day of the week in numbers between 1 to 7 | 0 | \n",
    "| `.dt.day_name()` | Name of day of the week | Monday | \n",
    "| `.dt.daysinmonth` or `.dt.days_in_month` | Number of days in the month | 28 | \n",
    "| `.dt.time` | Time | 13:15:00 | \n",
    "| `.dt.hour` | Hour | 13 | \n",
    "| `.dt.minute` | Minute | 15 | \n",
    "| `.dt.second` | Second | 0 | "
   ]
  },
  {
   "cell_type": "markdown",
   "id": "02d2f705-8f91-4543-b757-1eecbd641c10",
   "metadata": {},
   "source": [
    "## 📍 3. Find datetime differences"
   ]
  },
  {
   "cell_type": "markdown",
   "id": "4257f41b-68dd-47af-abc1-db9a9b3762c9",
   "metadata": {},
   "source": [
    "Let’s see how long has it been since the `return_start`. In pandas, we can get the current local time with `pd.Timestamp.now()`:"
   ]
  },
  {
   "cell_type": "code",
   "execution_count": 10,
   "id": "72ec07f7-b51d-403e-91a2-91b0574af18a",
   "metadata": {},
   "outputs": [
    {
     "data": {
      "text/plain": [
       "0   1414 days 07:09:08.628022\n",
       "1   1097 days 20:19:08.628022\n",
       "2    434 days 08:49:08.628022\n",
       "Name: return_start, dtype: timedelta64[ns]"
      ]
     },
     "execution_count": 10,
     "metadata": {},
     "output_type": "execute_result"
    }
   ],
   "source": [
    "pd.Timestamp.now() - df['return_start']"
   ]
  },
  {
   "cell_type": "markdown",
   "id": "168d5344-41db-4046-8e7b-50926e4d2d1e",
   "metadata": {},
   "source": [
    "The resulting new series is already in `timedelta` data type. We were able to do this operation between two objects with varying length (a scalar and an array) because of *broadcasting*. Now, let’s calculate the duration between the two flights start datetimes and save it as `duration`:"
   ]
  },
  {
   "cell_type": "code",
   "execution_count": 11,
   "id": "f6725a18-affc-4308-81dc-8b6b9e49b0ec",
   "metadata": {},
   "outputs": [
    {
     "data": {
      "text/html": [
       "<div>\n",
       "<style scoped>\n",
       "    .dataframe tbody tr th:only-of-type {\n",
       "        vertical-align: middle;\n",
       "    }\n",
       "\n",
       "    .dataframe tbody tr th {\n",
       "        vertical-align: top;\n",
       "    }\n",
       "\n",
       "    .dataframe thead th {\n",
       "        text-align: right;\n",
       "    }\n",
       "</style>\n",
       "<table border=\"1\" class=\"dataframe\">\n",
       "  <thead>\n",
       "    <tr style=\"text-align: right;\">\n",
       "      <th></th>\n",
       "      <th>flight_start</th>\n",
       "      <th>flight_length</th>\n",
       "      <th>return_start</th>\n",
       "      <th>duration</th>\n",
       "    </tr>\n",
       "  </thead>\n",
       "  <tbody>\n",
       "    <tr>\n",
       "      <th>0</th>\n",
       "      <td>2019-02-04 13:15:00</td>\n",
       "      <td>0 days 07:00:00</td>\n",
       "      <td>2019-03-01 10:00:00</td>\n",
       "      <td>24 days 20:45:00</td>\n",
       "    </tr>\n",
       "    <tr>\n",
       "      <th>1</th>\n",
       "      <td>2020-01-01 21:30:00</td>\n",
       "      <td>0 days 21:30:00</td>\n",
       "      <td>2020-01-11 20:50:00</td>\n",
       "      <td>9 days 23:20:00</td>\n",
       "    </tr>\n",
       "    <tr>\n",
       "      <th>2</th>\n",
       "      <td>2021-10-28 02:00:00</td>\n",
       "      <td>1 days 06:00:00</td>\n",
       "      <td>2021-11-05 08:20:00</td>\n",
       "      <td>8 days 06:20:00</td>\n",
       "    </tr>\n",
       "  </tbody>\n",
       "</table>\n",
       "</div>"
      ],
      "text/plain": [
       "         flight_start   flight_length        return_start         duration\n",
       "0 2019-02-04 13:15:00 0 days 07:00:00 2019-03-01 10:00:00 24 days 20:45:00\n",
       "1 2020-01-01 21:30:00 0 days 21:30:00 2020-01-11 20:50:00  9 days 23:20:00\n",
       "2 2021-10-28 02:00:00 1 days 06:00:00 2021-11-05 08:20:00  8 days 06:20:00"
      ]
     },
     "execution_count": 11,
     "metadata": {},
     "output_type": "execute_result"
    }
   ],
   "source": [
    "df['duration'] = df['return_start'] - df['flight_start']\n",
    "df"
   ]
  },
  {
   "cell_type": "markdown",
   "id": "fe051ee5-f698-4816-9401-7720dd9a7c94",
   "metadata": {},
   "source": [
    "Like before, we can extract timedelta parts using `.dt` accessor. We can extract days like below:"
   ]
  },
  {
   "cell_type": "code",
   "execution_count": 12,
   "id": "4e4dad2a-66f5-4b25-bd47-45ffb3d59a4f",
   "metadata": {},
   "outputs": [
    {
     "data": {
      "text/plain": [
       "0    24\n",
       "1     9\n",
       "2     8\n",
       "Name: duration, dtype: int64"
      ]
     },
     "execution_count": 12,
     "metadata": {},
     "output_type": "execute_result"
    }
   ],
   "source": [
    "df['duration'].dt.days"
   ]
  },
  {
   "cell_type": "markdown",
   "id": "d36f01a7-2c66-4225-ae45-be0c833b16bf",
   "metadata": {},
   "source": [
    "Here’s the summary of the commonly used attributes:"
   ]
  },
  {
   "cell_type": "markdown",
   "id": "60abcc29-c31e-4309-ae0f-e8dc0fe9f33c",
   "metadata": {},
   "source": [
    "| ATTRIBUTE | DESCRIPTION | EXAMPLE | \n",
    "| :-------: | :---------: | :-----: | \n",
    "| `.dt.days` | Number of days | 24 |\n",
    "| `.dt.seconds` | Number of seconds (ranges between 0 to 86399) | 74700 (=20\\*3600 + 45\\*60) |"
   ]
  },
  {
   "cell_type": "markdown",
   "id": "b259a9f3-7957-4440-94f9-40756255fb51",
   "metadata": {},
   "source": [
    "If we wanted to get more precise duration, we can calculate like below:"
   ]
  },
  {
   "cell_type": "code",
   "execution_count": 13,
   "id": "08bee597-645c-435d-998b-41fed8b9020c",
   "metadata": {},
   "outputs": [
    {
     "data": {
      "text/plain": [
       "0    24.864583\n",
       "1     9.972222\n",
       "2     8.263889\n",
       "Name: duration, dtype: float64"
      ]
     },
     "execution_count": 13,
     "metadata": {},
     "output_type": "execute_result"
    }
   ],
   "source": [
    "df['duration'].dt.days + df['duration'].dt.seconds/(24*60*60)"
   ]
  },
  {
   "cell_type": "markdown",
   "id": "02f9cf36-ef08-43f2-a41e-857850a2a46a",
   "metadata": {},
   "source": [
    "Here’s another ways to calculate difference between two datetimes:"
   ]
  },
  {
   "cell_type": "code",
   "execution_count": 14,
   "id": "d6939f18-81bc-47f1-a6a1-a2c67de09c40",
   "metadata": {},
   "outputs": [
    {
     "data": {
      "text/plain": [
       "0    25\n",
       "1    10\n",
       "2     8\n",
       "dtype: int64"
      ]
     },
     "execution_count": 14,
     "metadata": {},
     "output_type": "execute_result"
    }
   ],
   "source": [
    "df['return_start'].dt.dayofyear - df['flight_start'].dt.dayofyear"
   ]
  },
  {
   "cell_type": "code",
   "execution_count": 15,
   "id": "525a8f35-c8ec-46d6-8438-feb6e5e6a988",
   "metadata": {},
   "outputs": [
    {
     "data": {
      "text/plain": [
       "0   25 days\n",
       "1   10 days\n",
       "2    8 days\n",
       "dtype: timedelta64[ns]"
      ]
     },
     "execution_count": 15,
     "metadata": {},
     "output_type": "execute_result"
    }
   ],
   "source": [
    "df['return_start'].dt.date - df['flight_start'].dt.date"
   ]
  },
  {
   "cell_type": "markdown",
   "id": "41a22b7f-0844-491a-97a5-1c96ada7ce27",
   "metadata": {},
   "source": [
    "From these different approaches, we get slightly different answers. The correct one depends on the application and intention of the calculation."
   ]
  },
  {
   "cell_type": "markdown",
   "id": "45296e74-d931-468e-85fb-e518ae4fd818",
   "metadata": {},
   "source": [
    "## 📍 4. Derive datetimes from datetimes and timedeltas"
   ]
  },
  {
   "cell_type": "code",
   "execution_count": 16,
   "id": "ee0faec0-bcb4-414e-a59f-847d44809e1a",
   "metadata": {},
   "outputs": [
    {
     "data": {
      "text/html": [
       "<div>\n",
       "<style scoped>\n",
       "    .dataframe tbody tr th:only-of-type {\n",
       "        vertical-align: middle;\n",
       "    }\n",
       "\n",
       "    .dataframe tbody tr th {\n",
       "        vertical-align: top;\n",
       "    }\n",
       "\n",
       "    .dataframe thead th {\n",
       "        text-align: right;\n",
       "    }\n",
       "</style>\n",
       "<table border=\"1\" class=\"dataframe\">\n",
       "  <thead>\n",
       "    <tr style=\"text-align: right;\">\n",
       "      <th></th>\n",
       "      <th>flight_start</th>\n",
       "      <th>flight_length</th>\n",
       "      <th>flight_end</th>\n",
       "    </tr>\n",
       "  </thead>\n",
       "  <tbody>\n",
       "    <tr>\n",
       "      <th>0</th>\n",
       "      <td>2019-02-04 13:15:00</td>\n",
       "      <td>0 days 07:00:00</td>\n",
       "      <td>2019-02-04 20:15:00</td>\n",
       "    </tr>\n",
       "    <tr>\n",
       "      <th>1</th>\n",
       "      <td>2020-01-01 21:30:00</td>\n",
       "      <td>0 days 21:30:00</td>\n",
       "      <td>2020-01-02 19:00:00</td>\n",
       "    </tr>\n",
       "    <tr>\n",
       "      <th>2</th>\n",
       "      <td>2021-10-28 02:00:00</td>\n",
       "      <td>1 days 06:00:00</td>\n",
       "      <td>2021-10-29 08:00:00</td>\n",
       "    </tr>\n",
       "  </tbody>\n",
       "</table>\n",
       "</div>"
      ],
      "text/plain": [
       "         flight_start   flight_length          flight_end\n",
       "0 2019-02-04 13:15:00 0 days 07:00:00 2019-02-04 20:15:00\n",
       "1 2020-01-01 21:30:00 0 days 21:30:00 2020-01-02 19:00:00\n",
       "2 2021-10-28 02:00:00 1 days 06:00:00 2021-10-29 08:00:00"
      ]
     },
     "execution_count": 16,
     "metadata": {},
     "output_type": "execute_result"
    }
   ],
   "source": [
    "df['flight_end'] = df['flight_start'] + df['flight_length']\n",
    "df[['flight_start', 'flight_length', 'flight_end']]"
   ]
  },
  {
   "cell_type": "code",
   "execution_count": null,
   "id": "4a64a3ee-ffa7-4d31-8789-f3a3ba5cc31e",
   "metadata": {},
   "outputs": [],
   "source": []
  }
 ],
 "metadata": {
  "kernelspec": {
   "display_name": "Python [conda env:575]",
   "language": "python",
   "name": "conda-env-575-py"
  },
  "language_info": {
   "codemirror_mode": {
    "name": "ipython",
    "version": 3
   },
   "file_extension": ".py",
   "mimetype": "text/x-python",
   "name": "python",
   "nbconvert_exporter": "python",
   "pygments_lexer": "ipython3",
   "version": "3.10.4"
  }
 },
 "nbformat": 4,
 "nbformat_minor": 5
}
