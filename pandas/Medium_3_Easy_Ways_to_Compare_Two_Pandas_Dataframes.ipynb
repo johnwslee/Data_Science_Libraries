{
 "cells": [
  {
   "cell_type": "markdown",
   "id": "ae788e01-be7d-4580-9779-e906dc7e51fa",
   "metadata": {},
   "source": [
    "The following is from [this article](https://medium.com/towards-data-science/3-easy-ways-to-compare-two-pandas-dataframes-b2a18169c876) in Medium."
   ]
  },
  {
   "cell_type": "markdown",
   "id": "966680fd-8619-4f8a-aafc-fbf732ded0ec",
   "metadata": {},
   "source": [
    "You can find such DataFrame comparison applications most commonly in data validation, data change detection, testing, and debugging. So, it is important to know how you can compare two datasets quickly and easily."
   ]
  },
  {
   "cell_type": "markdown",
   "id": "7bdb628f-077e-41e8-946e-554f0ede2b2d",
   "metadata": {},
   "source": [
    "# 0. Data Preparation"
   ]
  },
  {
   "cell_type": "code",
   "execution_count": 1,
   "id": "c4bce8c4-566b-4891-ab4c-e12e13bc484b",
   "metadata": {},
   "outputs": [],
   "source": [
    "import pandas as pd"
   ]
  },
  {
   "cell_type": "code",
   "execution_count": 2,
   "id": "1ed5c0f8-ad87-4561-9c41-a3904d4edd09",
   "metadata": {},
   "outputs": [],
   "source": [
    "df = pd.DataFrame(\n",
    "    {\n",
    "        \"device_id\": [\"D475\", \"D175\", \"D200\", \"D375\", \"M475\", \"M400\", \"M250\", \"A150\"],\n",
    "        \"device_temperature\": [35.4, 45.2, 59.3, 49.3, 32.2, 35.7, 36.8, 34.9],\n",
    "        \"device_status\": [\n",
    "            \"Inactive\",\n",
    "            \"Active\",\n",
    "            \"Active\",\n",
    "            \"Active\",\n",
    "            \"Active\",\n",
    "            \"Inactive\",\n",
    "            \"Active\",\n",
    "            \"Active\",\n",
    "        ],\n",
    "    }\n",
    ")\n",
    "\n",
    "df1 = pd.DataFrame(\n",
    "    {\n",
    "        \"device_id\": [\"D475\", \"D175\", \"D200\", \"D375\", \"M475\", \"M400\", \"M250\", \"A150\"],\n",
    "        \"device_temperature\": [39.4, 45.2, 29.3, 49.3, 32.2, 35.7, 36.8, 24.9],\n",
    "        \"device_status\": [\n",
    "            \"Active\",\n",
    "            \"Active\",\n",
    "            \"Inactive\",\n",
    "            \"Active\",\n",
    "            \"Active\",\n",
    "            \"Inactive\",\n",
    "            \"Active\",\n",
    "            \"Inactive\",\n",
    "        ],\n",
    "    }\n",
    ")"
   ]
  },
  {
   "cell_type": "code",
   "execution_count": 3,
   "id": "8e127de7-c965-4f87-932b-2693f444467b",
   "metadata": {},
   "outputs": [
    {
     "data": {
      "text/html": [
       "<div>\n",
       "<style scoped>\n",
       "    .dataframe tbody tr th:only-of-type {\n",
       "        vertical-align: middle;\n",
       "    }\n",
       "\n",
       "    .dataframe tbody tr th {\n",
       "        vertical-align: top;\n",
       "    }\n",
       "\n",
       "    .dataframe thead th {\n",
       "        text-align: right;\n",
       "    }\n",
       "</style>\n",
       "<table border=\"1\" class=\"dataframe\">\n",
       "  <thead>\n",
       "    <tr style=\"text-align: right;\">\n",
       "      <th></th>\n",
       "      <th>device_id</th>\n",
       "      <th>device_temperature</th>\n",
       "      <th>device_status</th>\n",
       "    </tr>\n",
       "  </thead>\n",
       "  <tbody>\n",
       "    <tr>\n",
       "      <th>0</th>\n",
       "      <td>D475</td>\n",
       "      <td>35.4</td>\n",
       "      <td>Inactive</td>\n",
       "    </tr>\n",
       "    <tr>\n",
       "      <th>1</th>\n",
       "      <td>D175</td>\n",
       "      <td>45.2</td>\n",
       "      <td>Active</td>\n",
       "    </tr>\n",
       "    <tr>\n",
       "      <th>2</th>\n",
       "      <td>D200</td>\n",
       "      <td>59.3</td>\n",
       "      <td>Active</td>\n",
       "    </tr>\n",
       "    <tr>\n",
       "      <th>3</th>\n",
       "      <td>D375</td>\n",
       "      <td>49.3</td>\n",
       "      <td>Active</td>\n",
       "    </tr>\n",
       "    <tr>\n",
       "      <th>4</th>\n",
       "      <td>M475</td>\n",
       "      <td>32.2</td>\n",
       "      <td>Active</td>\n",
       "    </tr>\n",
       "    <tr>\n",
       "      <th>5</th>\n",
       "      <td>M400</td>\n",
       "      <td>35.7</td>\n",
       "      <td>Inactive</td>\n",
       "    </tr>\n",
       "    <tr>\n",
       "      <th>6</th>\n",
       "      <td>M250</td>\n",
       "      <td>36.8</td>\n",
       "      <td>Active</td>\n",
       "    </tr>\n",
       "    <tr>\n",
       "      <th>7</th>\n",
       "      <td>A150</td>\n",
       "      <td>34.9</td>\n",
       "      <td>Active</td>\n",
       "    </tr>\n",
       "  </tbody>\n",
       "</table>\n",
       "</div>"
      ],
      "text/plain": [
       "  device_id  device_temperature device_status\n",
       "0      D475                35.4      Inactive\n",
       "1      D175                45.2        Active\n",
       "2      D200                59.3        Active\n",
       "3      D375                49.3        Active\n",
       "4      M475                32.2        Active\n",
       "5      M400                35.7      Inactive\n",
       "6      M250                36.8        Active\n",
       "7      A150                34.9        Active"
      ]
     },
     "execution_count": 3,
     "metadata": {},
     "output_type": "execute_result"
    }
   ],
   "source": [
    "df"
   ]
  },
  {
   "cell_type": "code",
   "execution_count": 4,
   "id": "3d4114e7-d21b-465f-aaec-ab931b1c7618",
   "metadata": {},
   "outputs": [
    {
     "data": {
      "text/html": [
       "<div>\n",
       "<style scoped>\n",
       "    .dataframe tbody tr th:only-of-type {\n",
       "        vertical-align: middle;\n",
       "    }\n",
       "\n",
       "    .dataframe tbody tr th {\n",
       "        vertical-align: top;\n",
       "    }\n",
       "\n",
       "    .dataframe thead th {\n",
       "        text-align: right;\n",
       "    }\n",
       "</style>\n",
       "<table border=\"1\" class=\"dataframe\">\n",
       "  <thead>\n",
       "    <tr style=\"text-align: right;\">\n",
       "      <th></th>\n",
       "      <th>device_id</th>\n",
       "      <th>device_temperature</th>\n",
       "      <th>device_status</th>\n",
       "    </tr>\n",
       "  </thead>\n",
       "  <tbody>\n",
       "    <tr>\n",
       "      <th>0</th>\n",
       "      <td>D475</td>\n",
       "      <td>39.4</td>\n",
       "      <td>Active</td>\n",
       "    </tr>\n",
       "    <tr>\n",
       "      <th>1</th>\n",
       "      <td>D175</td>\n",
       "      <td>45.2</td>\n",
       "      <td>Active</td>\n",
       "    </tr>\n",
       "    <tr>\n",
       "      <th>2</th>\n",
       "      <td>D200</td>\n",
       "      <td>29.3</td>\n",
       "      <td>Inactive</td>\n",
       "    </tr>\n",
       "    <tr>\n",
       "      <th>3</th>\n",
       "      <td>D375</td>\n",
       "      <td>49.3</td>\n",
       "      <td>Active</td>\n",
       "    </tr>\n",
       "    <tr>\n",
       "      <th>4</th>\n",
       "      <td>M475</td>\n",
       "      <td>32.2</td>\n",
       "      <td>Active</td>\n",
       "    </tr>\n",
       "    <tr>\n",
       "      <th>5</th>\n",
       "      <td>M400</td>\n",
       "      <td>35.7</td>\n",
       "      <td>Inactive</td>\n",
       "    </tr>\n",
       "    <tr>\n",
       "      <th>6</th>\n",
       "      <td>M250</td>\n",
       "      <td>36.8</td>\n",
       "      <td>Active</td>\n",
       "    </tr>\n",
       "    <tr>\n",
       "      <th>7</th>\n",
       "      <td>A150</td>\n",
       "      <td>24.9</td>\n",
       "      <td>Inactive</td>\n",
       "    </tr>\n",
       "  </tbody>\n",
       "</table>\n",
       "</div>"
      ],
      "text/plain": [
       "  device_id  device_temperature device_status\n",
       "0      D475                39.4        Active\n",
       "1      D175                45.2        Active\n",
       "2      D200                29.3      Inactive\n",
       "3      D375                49.3        Active\n",
       "4      M475                32.2        Active\n",
       "5      M400                35.7      Inactive\n",
       "6      M250                36.8        Active\n",
       "7      A150                24.9      Inactive"
      ]
     },
     "execution_count": 4,
     "metadata": {},
     "output_type": "execute_result"
    }
   ],
   "source": [
    "df1"
   ]
  },
  {
   "cell_type": "markdown",
   "id": "956d3018-8cbb-48c7-8c23-adebc3480c43",
   "metadata": {},
   "source": [
    "# 1. Compare Pandas DataFrames using `equals()`"
   ]
  },
  {
   "cell_type": "markdown",
   "id": "4873ff09-ffc4-44c2-a04f-a74bafd42986",
   "metadata": {},
   "source": [
    "Pandas offer an amazing method called `pandas.DataFrame.equals()` which compares two objects and checks if two DataFrames are identical or not."
   ]
  },
  {
   "cell_type": "markdown",
   "id": "f0873c09-9466-4052-973b-000c9c146ca2",
   "metadata": {},
   "source": [
    "Two DataFrame are identical only when they have the **same shape** and the **same data** at the **same position**. This means, `equals()` checks both — content and the structure of both the DataFrames."
   ]
  },
  {
   "cell_type": "markdown",
   "id": "dcb3ffc8-04be-4436-ac32-7d0ab2ad54bc",
   "metadata": {},
   "source": [
    "As this method compares two objects, you can use this method to compare an entire DataFrame in one go and also to compare a single DataFrame column, i.e. a Series."
   ]
  },
  {
   "cell_type": "code",
   "execution_count": 5,
   "id": "b992b814-4a34-4518-8ad9-e5c0205d05dc",
   "metadata": {},
   "outputs": [
    {
     "data": {
      "text/plain": [
       "True"
      ]
     },
     "execution_count": 5,
     "metadata": {},
     "output_type": "execute_result"
    }
   ],
   "source": [
    "# Case 1: Compare two Series having the same shape, same data at the same position\n",
    "series1 = pd.Series([1, 2, 3, 4])\n",
    "series2 = pd.Series([1, 2, 3, 4])\n",
    "series1.equals(series2)"
   ]
  },
  {
   "cell_type": "code",
   "execution_count": 6,
   "id": "4f589ef1-080a-4bbd-a823-e378ee700416",
   "metadata": {},
   "outputs": [
    {
     "data": {
      "text/plain": [
       "False"
      ]
     },
     "execution_count": 6,
     "metadata": {},
     "output_type": "execute_result"
    }
   ],
   "source": [
    "# Case 2: Compare two Series having different shapes\n",
    "series1 = pd.Series([1, 2, 3, 4, 5, 6])\n",
    "series2 = pd.Series([1, 2, 4, 4])\n",
    "series1.equals(series2)"
   ]
  },
  {
   "cell_type": "code",
   "execution_count": 7,
   "id": "d751f35d-1ccc-4790-868a-52f76063ec8b",
   "metadata": {},
   "outputs": [
    {
     "data": {
      "text/plain": [
       "False"
      ]
     },
     "execution_count": 7,
     "metadata": {},
     "output_type": "execute_result"
    }
   ],
   "source": [
    "# Case 3: Compare two Series having the same shape but different order of the data\n",
    "series1 = pd.Series([1, 2, 3, 4])\n",
    "series2 = pd.Series([2, 1, 3, 4])\n",
    "series1.equals(series2)"
   ]
  },
  {
   "cell_type": "code",
   "execution_count": 8,
   "id": "235c7958-565d-4772-9dd9-399925fe8277",
   "metadata": {},
   "outputs": [
    {
     "data": {
      "text/plain": [
       "False"
      ]
     },
     "execution_count": 8,
     "metadata": {},
     "output_type": "execute_result"
    }
   ],
   "source": [
    "# Case 4: Compare two Series having the same shape but different data\n",
    "series1 = pd.Series([1, 2, 3, 4])\n",
    "series2 = pd.Series([1, 2, 4, 4])\n",
    "series1.equals(series2)"
   ]
  },
  {
   "cell_type": "code",
   "execution_count": 9,
   "id": "52c9b26c-6e48-47f2-bfb1-657cb7e6dbf8",
   "metadata": {},
   "outputs": [
    {
     "data": {
      "text/plain": [
       "False"
      ]
     },
     "execution_count": 9,
     "metadata": {},
     "output_type": "execute_result"
    }
   ],
   "source": [
    "df.equals(df1)"
   ]
  },
  {
   "cell_type": "markdown",
   "id": "8d01d54c-555e-4557-8c15-0348905fc3f0",
   "metadata": {},
   "source": [
    "It returns a quite obvious output, i.e. a False as the DataFrames df and df1 have some differences between them.\n",
    "\n",
    "However, to understand exactly in which column these differences are, you can use the `equals()` method on individual columns, like this"
   ]
  },
  {
   "cell_type": "code",
   "execution_count": 10,
   "id": "cee98600-6788-451b-8e73-a3af0f3c03ab",
   "metadata": {},
   "outputs": [
    {
     "data": {
      "text/plain": [
       "True"
      ]
     },
     "execution_count": 10,
     "metadata": {},
     "output_type": "execute_result"
    }
   ],
   "source": [
    "df[\"device_id\"].equals(df1[\"device_id\"])"
   ]
  },
  {
   "cell_type": "code",
   "execution_count": 11,
   "id": "2d52b001-bdbe-433f-a5dc-aa3016d425cc",
   "metadata": {},
   "outputs": [
    {
     "data": {
      "text/plain": [
       "False"
      ]
     },
     "execution_count": 11,
     "metadata": {},
     "output_type": "execute_result"
    }
   ],
   "source": [
    "df[\"device_temperature\"].equals(df1[\"device_temperature\"])"
   ]
  },
  {
   "cell_type": "markdown",
   "id": "65b6b0db-bd20-4740-854a-ddeb6faa3c2e",
   "metadata": {},
   "source": [
    "Alternatively, when your DataFrames have multiple columns, you can write a simple `for loop` like the one below, to understand which columns from both the DataFrames are different."
   ]
  },
  {
   "cell_type": "code",
   "execution_count": 12,
   "id": "42f7407a-c442-4ae1-b675-54364a6f771c",
   "metadata": {},
   "outputs": [
    {
     "name": "stdout",
     "output_type": "stream",
     "text": [
      "List of the columns having different values in the DataFrames df1 and df \n",
      "\n",
      "device_temperature\n",
      "device_status\n"
     ]
    }
   ],
   "source": [
    "print(\"List of the columns having different values in the DataFrames df1 and df \\n\")\n",
    "for column in df.columns:\n",
    "    if df[column].equals(df1[column]):\n",
    "        pass\n",
    "    else:\n",
    "        print(column)"
   ]
  },
  {
   "cell_type": "markdown",
   "id": "43d5c83c-5cca-417e-bf16-2a4d69afc2ed",
   "metadata": {},
   "source": [
    "Well, this method gives you info about which columns from both the DataFrames have distinct values.\n",
    "\n",
    "However, it **does not tell you about the exact location** or rows where the change has occurred. And that’s where the next method jumps in."
   ]
  },
  {
   "cell_type": "markdown",
   "id": "efe75c73-d56a-4726-8643-4b4f27cb25f2",
   "metadata": {},
   "source": [
    "# 2. Compare Pandas DataFrames using `concat()`"
   ]
  },
  {
   "cell_type": "markdown",
   "id": "58e48b33-562e-4841-893a-c40894a3090e",
   "metadata": {},
   "source": [
    "So far, you must know the method `concat()` in pandas is used to combine two or more DataFrames along the specified axis."
   ]
  },
  {
   "cell_type": "markdown",
   "id": "f6d332b9-af83-4b60-b5a4-870981f88e4d",
   "metadata": {},
   "source": [
    "For example, when you concatenate DataFrames df and df1 using the default axis i.e. stacking two DataFrame one-below-another, you get all the rows from both the DataFrames as shown here —"
   ]
  },
  {
   "cell_type": "code",
   "execution_count": 13,
   "id": "10b918e0-f400-449e-a816-3e8e809ffb07",
   "metadata": {},
   "outputs": [
    {
     "data": {
      "text/html": [
       "<div>\n",
       "<style scoped>\n",
       "    .dataframe tbody tr th:only-of-type {\n",
       "        vertical-align: middle;\n",
       "    }\n",
       "\n",
       "    .dataframe tbody tr th {\n",
       "        vertical-align: top;\n",
       "    }\n",
       "\n",
       "    .dataframe thead th {\n",
       "        text-align: right;\n",
       "    }\n",
       "</style>\n",
       "<table border=\"1\" class=\"dataframe\">\n",
       "  <thead>\n",
       "    <tr style=\"text-align: right;\">\n",
       "      <th></th>\n",
       "      <th>device_id</th>\n",
       "      <th>device_temperature</th>\n",
       "      <th>device_status</th>\n",
       "    </tr>\n",
       "  </thead>\n",
       "  <tbody>\n",
       "    <tr>\n",
       "      <th>0</th>\n",
       "      <td>D475</td>\n",
       "      <td>35.4</td>\n",
       "      <td>Inactive</td>\n",
       "    </tr>\n",
       "    <tr>\n",
       "      <th>1</th>\n",
       "      <td>D175</td>\n",
       "      <td>45.2</td>\n",
       "      <td>Active</td>\n",
       "    </tr>\n",
       "    <tr>\n",
       "      <th>2</th>\n",
       "      <td>D200</td>\n",
       "      <td>59.3</td>\n",
       "      <td>Active</td>\n",
       "    </tr>\n",
       "    <tr>\n",
       "      <th>3</th>\n",
       "      <td>D375</td>\n",
       "      <td>49.3</td>\n",
       "      <td>Active</td>\n",
       "    </tr>\n",
       "    <tr>\n",
       "      <th>4</th>\n",
       "      <td>M475</td>\n",
       "      <td>32.2</td>\n",
       "      <td>Active</td>\n",
       "    </tr>\n",
       "    <tr>\n",
       "      <th>5</th>\n",
       "      <td>M400</td>\n",
       "      <td>35.7</td>\n",
       "      <td>Inactive</td>\n",
       "    </tr>\n",
       "    <tr>\n",
       "      <th>6</th>\n",
       "      <td>M250</td>\n",
       "      <td>36.8</td>\n",
       "      <td>Active</td>\n",
       "    </tr>\n",
       "    <tr>\n",
       "      <th>7</th>\n",
       "      <td>A150</td>\n",
       "      <td>34.9</td>\n",
       "      <td>Active</td>\n",
       "    </tr>\n",
       "    <tr>\n",
       "      <th>0</th>\n",
       "      <td>D475</td>\n",
       "      <td>39.4</td>\n",
       "      <td>Active</td>\n",
       "    </tr>\n",
       "    <tr>\n",
       "      <th>1</th>\n",
       "      <td>D175</td>\n",
       "      <td>45.2</td>\n",
       "      <td>Active</td>\n",
       "    </tr>\n",
       "    <tr>\n",
       "      <th>2</th>\n",
       "      <td>D200</td>\n",
       "      <td>29.3</td>\n",
       "      <td>Inactive</td>\n",
       "    </tr>\n",
       "    <tr>\n",
       "      <th>3</th>\n",
       "      <td>D375</td>\n",
       "      <td>49.3</td>\n",
       "      <td>Active</td>\n",
       "    </tr>\n",
       "    <tr>\n",
       "      <th>4</th>\n",
       "      <td>M475</td>\n",
       "      <td>32.2</td>\n",
       "      <td>Active</td>\n",
       "    </tr>\n",
       "    <tr>\n",
       "      <th>5</th>\n",
       "      <td>M400</td>\n",
       "      <td>35.7</td>\n",
       "      <td>Inactive</td>\n",
       "    </tr>\n",
       "    <tr>\n",
       "      <th>6</th>\n",
       "      <td>M250</td>\n",
       "      <td>36.8</td>\n",
       "      <td>Active</td>\n",
       "    </tr>\n",
       "    <tr>\n",
       "      <th>7</th>\n",
       "      <td>A150</td>\n",
       "      <td>24.9</td>\n",
       "      <td>Inactive</td>\n",
       "    </tr>\n",
       "  </tbody>\n",
       "</table>\n",
       "</div>"
      ],
      "text/plain": [
       "  device_id  device_temperature device_status\n",
       "0      D475                35.4      Inactive\n",
       "1      D175                45.2        Active\n",
       "2      D200                59.3        Active\n",
       "3      D375                49.3        Active\n",
       "4      M475                32.2        Active\n",
       "5      M400                35.7      Inactive\n",
       "6      M250                36.8        Active\n",
       "7      A150                34.9        Active\n",
       "0      D475                39.4        Active\n",
       "1      D175                45.2        Active\n",
       "2      D200                29.3      Inactive\n",
       "3      D375                49.3        Active\n",
       "4      M475                32.2        Active\n",
       "5      M400                35.7      Inactive\n",
       "6      M250                36.8        Active\n",
       "7      A150                24.9      Inactive"
      ]
     },
     "execution_count": 13,
     "metadata": {},
     "output_type": "execute_result"
    }
   ],
   "source": [
    "df2 = pd.concat([df, df1])\n",
    "df2"
   ]
  },
  {
   "cell_type": "markdown",
   "id": "6964cdca-9cd7-4b96-ba83-d7a2083acacd",
   "metadata": {},
   "source": [
    "Now, your task is to simply drop the rows which are common i.e. duplicated in both DataFrames and you can do it using another pandas DataFrame method `drop_duplicates()` as shown below."
   ]
  },
  {
   "cell_type": "code",
   "execution_count": 14,
   "id": "67f224ab-8075-44b9-a6cd-a519a17a4db7",
   "metadata": {},
   "outputs": [
    {
     "data": {
      "text/html": [
       "<div>\n",
       "<style scoped>\n",
       "    .dataframe tbody tr th:only-of-type {\n",
       "        vertical-align: middle;\n",
       "    }\n",
       "\n",
       "    .dataframe tbody tr th {\n",
       "        vertical-align: top;\n",
       "    }\n",
       "\n",
       "    .dataframe thead th {\n",
       "        text-align: right;\n",
       "    }\n",
       "</style>\n",
       "<table border=\"1\" class=\"dataframe\">\n",
       "  <thead>\n",
       "    <tr style=\"text-align: right;\">\n",
       "      <th></th>\n",
       "      <th>device_id</th>\n",
       "      <th>device_temperature</th>\n",
       "      <th>device_status</th>\n",
       "    </tr>\n",
       "  </thead>\n",
       "  <tbody>\n",
       "    <tr>\n",
       "      <th>0</th>\n",
       "      <td>D475</td>\n",
       "      <td>35.4</td>\n",
       "      <td>Inactive</td>\n",
       "    </tr>\n",
       "    <tr>\n",
       "      <th>2</th>\n",
       "      <td>D200</td>\n",
       "      <td>59.3</td>\n",
       "      <td>Active</td>\n",
       "    </tr>\n",
       "    <tr>\n",
       "      <th>7</th>\n",
       "      <td>A150</td>\n",
       "      <td>34.9</td>\n",
       "      <td>Active</td>\n",
       "    </tr>\n",
       "    <tr>\n",
       "      <th>0</th>\n",
       "      <td>D475</td>\n",
       "      <td>39.4</td>\n",
       "      <td>Active</td>\n",
       "    </tr>\n",
       "    <tr>\n",
       "      <th>2</th>\n",
       "      <td>D200</td>\n",
       "      <td>29.3</td>\n",
       "      <td>Inactive</td>\n",
       "    </tr>\n",
       "    <tr>\n",
       "      <th>7</th>\n",
       "      <td>A150</td>\n",
       "      <td>24.9</td>\n",
       "      <td>Inactive</td>\n",
       "    </tr>\n",
       "  </tbody>\n",
       "</table>\n",
       "</div>"
      ],
      "text/plain": [
       "  device_id  device_temperature device_status\n",
       "0      D475                35.4      Inactive\n",
       "2      D200                59.3        Active\n",
       "7      A150                34.9        Active\n",
       "0      D475                39.4        Active\n",
       "2      D200                29.3      Inactive\n",
       "7      A150                24.9      Inactive"
      ]
     },
     "execution_count": 14,
     "metadata": {},
     "output_type": "execute_result"
    }
   ],
   "source": [
    "df3 = df2.drop_duplicates(keep=False)\n",
    "df3"
   ]
  },
  {
   "cell_type": "markdown",
   "id": "ca9ab2e7-00e9-45e2-9b3d-12e2c7dc85d8",
   "metadata": {},
   "source": [
    "The parameter `keep=False` deletes all the duplicated rows. So, don’t forget to mention it."
   ]
  },
  {
   "cell_type": "markdown",
   "id": "dac4d119-f843-4e5b-a697-956e880229ae",
   "metadata": {},
   "source": [
    "Although this method keeps the index from both the DataFrames, it is unclear which rows belong to which DataFrame.\n",
    "\n",
    "To solve this confusion, the next method is helpful."
   ]
  },
  {
   "cell_type": "markdown",
   "id": "eeb1cc17-d0ea-474c-89e4-5df389263d5f",
   "metadata": {},
   "source": [
    "# 3. Compare Pandas DataFrames using `compare()`"
   ]
  },
  {
   "cell_type": "markdown",
   "id": "5a041ef8-f97b-46b0-a44e-d5fc2195fd31",
   "metadata": {},
   "source": [
    "It essentially merges both the DataFrames and adds a MultiIndex to show both the DataFrames columns side by side, which helps you to see the columns and positions where the values have been changed."
   ]
  },
  {
   "cell_type": "code",
   "execution_count": 15,
   "id": "cc171f86-a3e8-4a1a-9267-0d438f26cbaf",
   "metadata": {},
   "outputs": [
    {
     "data": {
      "text/html": [
       "<div>\n",
       "<style scoped>\n",
       "    .dataframe tbody tr th:only-of-type {\n",
       "        vertical-align: middle;\n",
       "    }\n",
       "\n",
       "    .dataframe tbody tr th {\n",
       "        vertical-align: top;\n",
       "    }\n",
       "\n",
       "    .dataframe thead tr th {\n",
       "        text-align: left;\n",
       "    }\n",
       "</style>\n",
       "<table border=\"1\" class=\"dataframe\">\n",
       "  <thead>\n",
       "    <tr>\n",
       "      <th></th>\n",
       "      <th colspan=\"2\" halign=\"left\">device_temperature</th>\n",
       "      <th colspan=\"2\" halign=\"left\">device_status</th>\n",
       "    </tr>\n",
       "    <tr>\n",
       "      <th></th>\n",
       "      <th>self</th>\n",
       "      <th>other</th>\n",
       "      <th>self</th>\n",
       "      <th>other</th>\n",
       "    </tr>\n",
       "  </thead>\n",
       "  <tbody>\n",
       "    <tr>\n",
       "      <th>0</th>\n",
       "      <td>35.4</td>\n",
       "      <td>39.4</td>\n",
       "      <td>Inactive</td>\n",
       "      <td>Active</td>\n",
       "    </tr>\n",
       "    <tr>\n",
       "      <th>2</th>\n",
       "      <td>59.3</td>\n",
       "      <td>29.3</td>\n",
       "      <td>Active</td>\n",
       "      <td>Inactive</td>\n",
       "    </tr>\n",
       "    <tr>\n",
       "      <th>7</th>\n",
       "      <td>34.9</td>\n",
       "      <td>24.9</td>\n",
       "      <td>Active</td>\n",
       "      <td>Inactive</td>\n",
       "    </tr>\n",
       "  </tbody>\n",
       "</table>\n",
       "</div>"
      ],
      "text/plain": [
       "  device_temperature       device_status          \n",
       "                self other          self     other\n",
       "0               35.4  39.4      Inactive    Active\n",
       "2               59.3  29.3        Active  Inactive\n",
       "7               34.9  24.9        Active  Inactive"
      ]
     },
     "execution_count": 15,
     "metadata": {},
     "output_type": "execute_result"
    }
   ],
   "source": [
    "df4 = df.compare(df1)\n",
    "df4"
   ]
  },
  {
   "cell_type": "markdown",
   "id": "bcefd50c-1a49-40e3-8fb7-fb23a17cf5dc",
   "metadata": {},
   "source": [
    "As per the syntax of the function `compare()`, self indicates the first DataFrame df and other indicates the other DataFrame df1.\n",
    "\n",
    "So, this function directly gives you row indexes and column names, i.e. the actual position where the values have been changed."
   ]
  },
  {
   "cell_type": "code",
   "execution_count": null,
   "id": "6c9e7e13-1c78-484f-b47e-e016140244b8",
   "metadata": {},
   "outputs": [],
   "source": []
  }
 ],
 "metadata": {
  "kernelspec": {
   "display_name": "Python [conda env:ls_env]",
   "language": "python",
   "name": "conda-env-ls_env-py"
  },
  "language_info": {
   "codemirror_mode": {
    "name": "ipython",
    "version": 3
   },
   "file_extension": ".py",
   "mimetype": "text/x-python",
   "name": "python",
   "nbconvert_exporter": "python",
   "pygments_lexer": "ipython3",
   "version": "3.10.8"
  }
 },
 "nbformat": 4,
 "nbformat_minor": 5
}
