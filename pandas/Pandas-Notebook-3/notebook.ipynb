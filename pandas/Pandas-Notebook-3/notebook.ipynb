{
 "cells": [
  {
   "cell_type": "markdown",
   "source": "# 450+ Practice Questions That Will Make You a Pandas, NumPy, and SQL Pro!",
   "metadata": {
    "is_collapsed": false,
    "cell_id": "524efd7f1dcf427f89f93f3eb91739b8",
    "tags": [],
    "formattedRanges": [],
    "deepnote_cell_type": "text-cell-h1"
   }
  },
  {
   "cell_type": "markdown",
   "source": "Author: Avi Chawla\n\nLinkedIn: https://www.linkedin.com/in/avi-chawla/\n\nRead my blogs here: https://medium.com/@avi_chawla",
   "metadata": {
    "cell_id": "845fcd0218c342e385d4ec4f3e663222",
    "tags": [],
    "deepnote_cell_type": "markdown",
    "deepnote_cell_height": 125.171875
   }
  },
  {
   "cell_type": "markdown",
   "source": "## Introduction",
   "metadata": {
    "is_collapsed": false,
    "cell_id": "7f875353207e43deb5bb347a981a6784",
    "tags": [],
    "formattedRanges": [],
    "deepnote_cell_type": "text-cell-h2"
   }
  },
  {
   "cell_type": "markdown",
   "source": "This notebook has been created for you to practice three of the most common tools used in building any machine learning or data science applications, i.e., Pandas, NumPy, and SQL!",
   "metadata": {
    "is_collapsed": false,
    "cell_id": "d027f7b79a2f4c239a1f639c62ee5b31",
    "tags": [],
    "formattedRanges": [
     {
      "fromCodePoint": 156,
      "toCodePoint": 179,
      "marks": {
       "bold": true
      }
     }
    ],
    "deepnote_cell_type": "text-cell-p"
   }
  },
  {
   "cell_type": "markdown",
   "source": "The practice questions provided will serve as a great resource for those who are looking to familiarize themselves with some of the most common functions used in these tools. ",
   "metadata": {
    "is_collapsed": false,
    "cell_id": "4e14aeaf-93f4-4484-a1c2-84fd88ad6ebe",
    "tags": [],
    "formattedRanges": [],
    "deepnote_cell_type": "text-cell-p"
   }
  },
  {
   "cell_type": "markdown",
   "source": "Appropriate descriptions have been provided for all the questions in this entire exercise which will help you navigate through this exercise easily. If a dataset is to be loaded in the python environment, that has also been provided for you. You can find it on the right panel in the Files section. Do NOT delete any of the files/folders listed there. ",
   "metadata": {
    "is_collapsed": false,
    "cell_id": "7bc00146-5279-4a10-a1aa-efa29edffb83",
    "tags": [],
    "formattedRanges": [
     {
      "fromCodePoint": 284,
      "toCodePoint": 289,
      "marks": {
       "bold": true
      }
     },
     {
      "fromCodePoint": 302,
      "toCodePoint": 305,
      "marks": {
       "bold": true
      }
     }
    ],
    "deepnote_cell_type": "text-cell-p"
   }
  },
  {
   "cell_type": "markdown",
   "source": "The whole exercise has been divided into nine separate notebooks. Below are the links to all the other notebooks for you to jump from one notebook to another:",
   "metadata": {
    "is_collapsed": false,
    "cell_id": "fddf7335-854f-4225-b5cc-d43309c8141b",
    "tags": [],
    "formattedRanges": [],
    "deepnote_cell_type": "text-cell-p"
   }
  },
  {
   "cell_type": "markdown",
   "source": "- **Pandas**\n\n1. Pandas Notebook 1: [Link](https://deepnote.com/workspace/avi-chawla-695b-aee6f4ef-2d50-4fb6-9ef2-20ee1022995a/project/Pandas-Notebook-1-d693ac55-6455-40cf-ae34-867c6a02014e/%2Fnotebook.ipynb) \n2. Pandas Notebook 2: [Link](https://deepnote.com/workspace/avi-chawla-695b-aee6f4ef-2d50-4fb6-9ef2-20ee1022995a/project/Pandas-Notebook-employee-dataset-7e3b6755-5d4b-464b-9b75-9c84667ae3bd/%2Fnotebook.ipynb) \n\n3. Pandas Notebook 3: [Link](https://deepnote.com/workspace/avi-chawla-695b-aee6f4ef-2d50-4fb6-9ef2-20ee1022995a/project/Pandas-Notebook-employee-part-2-adc5a3ee-5f61-4725-8e46-ccb07899acfc/%2Fnotebook.ipynb) **(This Notebook)** \n\n4. Pandas Notebook 4: [Link](https://deepnote.com/workspace/avi-chawla-695b-aee6f4ef-2d50-4fb6-9ef2-20ee1022995a/project/Pandas-after-employee-f84e02a1-fb6a-428e-af90-8dd99855749a/%2Fnotebook.ipynb)\n\n- **NumPy**\n\n1. NumPy Notebook 1: [Link](https://deepnote.com/workspace/avi-chawla-695b-aee6f4ef-2d50-4fb6-9ef2-20ee1022995a/project/Numpy-part-1-9b9979f2-b708-4292-b466-3d0157564c91/%2Fnotebook.ipynb)\n\n2. NumPy Notebook 2: [Link](https://deepnote.com/workspace/avi-chawla-695b-aee6f4ef-2d50-4fb6-9ef2-20ee1022995a/project/NumPy-Notebook-2-4456411e-2ddd-426d-8027-4881080027db/%2Fnotebook.ipynb)\n\n3. NumPy Notebook 3: [Link](https://deepnote.com/workspace/avi-chawla-695b-aee6f4ef-2d50-4fb6-9ef2-20ee1022995a/project/NumPy-Notebook-3-e6587114-b580-4249-b599-540de859e603/%2Fnotebook.ipynb)\n\n- **SQL**\n\n1. SQL Notebook 1: [Link](https://deepnote.com/workspace/avi-chawla-695b-aee6f4ef-2d50-4fb6-9ef2-20ee1022995a/project/SQL-Notebook-1-eac9d782-a9b1-4e84-a1f9-af14080a6121/%2Fnotebook.ipynb)\n\n2. SQL Notebook 2: [Link](https://deepnote.com/workspace/avi-chawla-695b-aee6f4ef-2d50-4fb6-9ef2-20ee1022995a/project/SQL-Notebook-2-1914b214-be03-44a1-be63-ad99e98be639/%2Fnotebook.ipynb)",
   "metadata": {
    "cell_id": "3890a680ecf041e7b2c07e903b4902cf",
    "tags": [],
    "deepnote_cell_type": "markdown",
    "deepnote_cell_height": 403.6875
   }
  },
  {
   "cell_type": "markdown",
   "source": "## How to use this notebook?",
   "metadata": {
    "is_collapsed": false,
    "cell_id": "98106bcb90fd40e6b3206151d10bf515",
    "tags": [],
    "formattedRanges": [],
    "deepnote_cell_type": "text-cell-h2"
   }
  },
  {
   "cell_type": "markdown",
   "source": "At the top right corner, you will find a Duplicate button. This will allow you to create a unique notebook for your own practice and write solutions to the question listed in this notebook.  ",
   "metadata": {
    "is_collapsed": false,
    "cell_id": "0a87fdd8-977b-4311-ab52-eaa103362e5e",
    "tags": [],
    "formattedRanges": [
     {
      "fromCodePoint": 41,
      "toCodePoint": 50,
      "marks": {
       "bold": true
      }
     }
    ],
    "deepnote_cell_type": "text-cell-p"
   }
  },
  {
   "cell_type": "markdown",
   "source": "If you face any issues or have any feedback, feel free to reach out to me (Avi Chawla) either on Linkedin: https://www.linkedin.com/in/avi-chawla/ or write an email to avi@dsscholar[dot]com. ",
   "metadata": {
    "cell_id": "0898b89379a34000a2970a0f390d176d",
    "tags": [],
    "deepnote_cell_type": "markdown",
    "deepnote_cell_height": 74.78125
   }
  },
  {
   "cell_type": "markdown",
   "source": "Let's begin 🚀!",
   "metadata": {
    "is_collapsed": false,
    "cell_id": "ed11dcd6160344129644d2834cab1dfd",
    "tags": [],
    "formattedRanges": [],
    "deepnote_cell_type": "text-cell-p"
   }
  },
  {
   "cell_type": "markdown",
   "source": "# Pandas Notebook 3",
   "metadata": {
    "is_collapsed": false,
    "cell_id": "8795016d13a94a7cbf00e25002692565",
    "tags": [],
    "formattedRanges": [],
    "deepnote_cell_type": "text-cell-h1"
   }
  },
  {
   "cell_type": "code",
   "source": "import pandas as pd",
   "metadata": {
    "cell_id": "239f04f7557f4bea8e36367690c4ea18",
    "tags": [],
    "deepnote_cell_type": "code",
    "deepnote_cell_height": 61
   },
   "outputs": [],
   "execution_count": null
  },
  {
   "cell_type": "code",
   "source": "data = pd.read_csv(\"employee_dataset.csv\")\ndata.head()",
   "metadata": {
    "cell_id": "db145850ca3f40cc92131fb97aefa07b",
    "tags": [],
    "deepnote_cell_type": "code",
    "deepnote_cell_height": 79
   },
   "outputs": [],
   "execution_count": null
  },
  {
   "cell_type": "markdown",
   "source": "### 91. What is the ratio of total full-time employees to Interns?",
   "metadata": {
    "formattedRanges": [],
    "is_collapsed": false,
    "cell_id": "4fcc2ed0636c4673bd019519714dc78f",
    "tags": [],
    "deepnote_cell_type": "text-cell-h3"
   }
  },
  {
   "cell_type": "code",
   "metadata": {
    "cell_id": "d01436f8c3d1495481de43b30834ffd6",
    "tags": [],
    "deepnote_cell_type": "code",
    "deepnote_cell_height": 61
   },
   "source": "",
   "execution_count": null,
   "outputs": []
  },
  {
   "cell_type": "markdown",
   "source": "### 92. Starting from the first record, print every third record in the DataFrame.",
   "metadata": {
    "formattedRanges": [],
    "is_collapsed": false,
    "cell_id": "b2bcdb72-30c7-46ca-9898-dbbb4b1c8ab2",
    "tags": [],
    "deepnote_cell_type": "text-cell-h3"
   }
  },
  {
   "cell_type": "markdown",
   "source": "Print 1st row, then 4th, 7th, 10th, and so on... ",
   "metadata": {
    "formattedRanges": [],
    "is_collapsed": false,
    "cell_id": "72ba4ff2-248e-4b57-a03f-a597e2ad8e3f",
    "tags": [],
    "deepnote_cell_type": "text-cell-p"
   }
  },
  {
   "cell_type": "code",
   "metadata": {
    "cell_id": "2f99f6934d4d498a918ad96251f7a52a",
    "tags": [],
    "deepnote_cell_type": "code",
    "deepnote_cell_height": 61
   },
   "source": "",
   "execution_count": null,
   "outputs": []
  },
  {
   "cell_type": "markdown",
   "source": "### 93. Find the average salary for every company.",
   "metadata": {
    "formattedRanges": [],
    "is_collapsed": false,
    "cell_id": "075e90a55cea4e38accf84e3e92dd0c0",
    "tags": [],
    "deepnote_cell_type": "text-cell-h3"
   }
  },
  {
   "cell_type": "code",
   "metadata": {
    "cell_id": "3f983db5257a4b518c6071f9c2b335a1",
    "tags": [],
    "deepnote_cell_type": "code",
    "deepnote_cell_height": 61
   },
   "source": "",
   "execution_count": null,
   "outputs": []
  },
  {
   "cell_type": "markdown",
   "source": "### 94. Find the average rating for every company.",
   "metadata": {
    "formattedRanges": [],
    "is_collapsed": false,
    "cell_id": "0e348a50-fcc5-4e6a-ac3f-7de9db629ff9",
    "tags": [],
    "deepnote_cell_type": "text-cell-h3"
   }
  },
  {
   "cell_type": "code",
   "metadata": {
    "cell_id": "83919a5e5cc34f81b63960ded9a8df2d",
    "tags": [],
    "deepnote_cell_type": "code",
    "deepnote_cell_height": 61
   },
   "source": "",
   "execution_count": null,
   "outputs": []
  },
  {
   "cell_type": "markdown",
   "source": "### 95. Find the average salary and average rating for every company in a single line.",
   "metadata": {
    "formattedRanges": [],
    "is_collapsed": false,
    "cell_id": "12ddd7ebdc0b4ac8bee35f65a4536064",
    "tags": [],
    "deepnote_cell_type": "text-cell-h3"
   }
  },
  {
   "cell_type": "code",
   "metadata": {
    "cell_id": "23aee8e2d006438da8bea0ed6667a08b",
    "tags": [],
    "deepnote_cell_type": "code",
    "deepnote_cell_height": 61
   },
   "source": "",
   "execution_count": null,
   "outputs": []
  },
  {
   "cell_type": "markdown",
   "source": "### 96. Find the number of unique Employee_City corresponding to every Company_Name.",
   "metadata": {
    "formattedRanges": [],
    "is_collapsed": false,
    "cell_id": "ab3d8b3c2f364d16800df4b4975cbf1d",
    "tags": [],
    "deepnote_cell_type": "text-cell-h3"
   }
  },
  {
   "cell_type": "code",
   "metadata": {
    "cell_id": "3e817167cf804ba1b7d13261bcaac231",
    "tags": [],
    "deepnote_cell_type": "code",
    "deepnote_cell_height": 61
   },
   "source": "",
   "execution_count": null,
   "outputs": []
  },
  {
   "cell_type": "markdown",
   "source": "### 98. Print the number of full-time and intern employees for every company ",
   "metadata": {
    "formattedRanges": [],
    "is_collapsed": false,
    "cell_id": "a1877f0208f94b2087ba4d045ccccd95",
    "tags": [],
    "deepnote_cell_type": "text-cell-h3"
   }
  },
  {
   "cell_type": "code",
   "metadata": {
    "cell_id": "858afec1e1554884b3703245fcd3cb35",
    "tags": [],
    "deepnote_cell_type": "code",
    "deepnote_cell_height": 61
   },
   "source": "",
   "execution_count": null,
   "outputs": []
  },
  {
   "cell_type": "markdown",
   "source": "### 99. Print the job title with the most employees. ",
   "metadata": {
    "formattedRanges": [],
    "is_collapsed": false,
    "cell_id": "79b293ca-fa2c-4c4d-a757-bbab0fc61535",
    "tags": [],
    "deepnote_cell_type": "text-cell-h3"
   }
  },
  {
   "cell_type": "code",
   "metadata": {
    "cell_id": "3fd2a9b5-0a69-4acb-a13a-ea6c34c52417",
    "tags": [],
    "deepnote_cell_type": "code",
    "deepnote_cell_height": 61
   },
   "source": "",
   "execution_count": null,
   "outputs": []
  },
  {
   "cell_type": "markdown",
   "source": "### 100. Print the job title with the most employees corresponding to every company. ",
   "metadata": {
    "formattedRanges": [],
    "is_collapsed": false,
    "cell_id": "16d59b7e-135b-4dd5-8ad0-8c701f5a77d0",
    "tags": [],
    "deepnote_cell_type": "text-cell-h3"
   }
  },
  {
   "cell_type": "code",
   "metadata": {
    "cell_id": "26af61b6-9c2f-4005-87fd-fba539404238",
    "tags": [],
    "deepnote_cell_type": "code",
    "deepnote_cell_height": 61
   },
   "source": "",
   "execution_count": null,
   "outputs": []
  },
  {
   "cell_type": "markdown",
   "source": "### 101. Find the average salary for corresponding to every value of 'Employment_Status'",
   "metadata": {
    "formattedRanges": [],
    "is_collapsed": false,
    "cell_id": "2a45c8b6-6d0f-449e-9054-ce4afaa90aef",
    "tags": [],
    "deepnote_cell_type": "text-cell-h3"
   }
  },
  {
   "cell_type": "code",
   "metadata": {
    "cell_id": "ef1feab3-433e-42f0-beb9-233f2026c53c",
    "tags": [],
    "deepnote_cell_type": "code",
    "deepnote_cell_height": 61
   },
   "source": "",
   "execution_count": null,
   "outputs": []
  },
  {
   "cell_type": "markdown",
   "source": "### 102. Print the index corresponding to the maximum Employee_Salary",
   "metadata": {
    "formattedRanges": [],
    "is_collapsed": false,
    "cell_id": "5f195336-8126-4109-84db-a18a7ae3f3aa",
    "tags": [],
    "deepnote_cell_type": "text-cell-h3"
   }
  },
  {
   "cell_type": "code",
   "metadata": {
    "cell_id": "fa018de4-5de3-45f4-81a6-0fd188ab668b",
    "tags": [],
    "deepnote_cell_type": "code",
    "deepnote_cell_height": 61
   },
   "source": "",
   "execution_count": null,
   "outputs": []
  },
  {
   "cell_type": "markdown",
   "source": "### 103. How many unique firstnames exist in the dataset?",
   "metadata": {
    "formattedRanges": [],
    "is_collapsed": false,
    "cell_id": "46fe9c06-a184-45a7-ae44-d3595881b3fc",
    "tags": [],
    "deepnote_cell_type": "text-cell-h3"
   }
  },
  {
   "cell_type": "code",
   "metadata": {
    "cell_id": "2c47b8a2-31cf-4134-aeca-21a13ff0ceb2",
    "tags": [],
    "deepnote_cell_type": "code",
    "deepnote_cell_height": 61
   },
   "source": "",
   "execution_count": null,
   "outputs": []
  },
  {
   "cell_type": "markdown",
   "source": "### 104. How many unique lastnames exist in the dataset?",
   "metadata": {
    "formattedRanges": [],
    "is_collapsed": false,
    "cell_id": "c82227ff-117d-4a07-a8dd-3c4c1e18ff86",
    "tags": [],
    "deepnote_cell_type": "text-cell-h3"
   }
  },
  {
   "cell_type": "code",
   "metadata": {
    "cell_id": "12be60b7-848b-4692-bef3-36dce5726d1a",
    "tags": [],
    "deepnote_cell_type": "code",
    "deepnote_cell_height": 61
   },
   "source": "",
   "execution_count": null,
   "outputs": []
  },
  {
   "cell_type": "markdown",
   "source": "### 105. How many unique firstnames exist in the dataset for every company?",
   "metadata": {
    "formattedRanges": [],
    "is_collapsed": false,
    "cell_id": "04d4f5fd-1d29-424b-a5df-ccd6dc9232d3",
    "tags": [],
    "deepnote_cell_type": "text-cell-h3"
   }
  },
  {
   "cell_type": "code",
   "metadata": {
    "cell_id": "cedaf174-ddb8-4aef-8639-22a283474254",
    "tags": [],
    "deepnote_cell_type": "code",
    "deepnote_cell_height": 61
   },
   "source": "",
   "execution_count": null,
   "outputs": []
  },
  {
   "cell_type": "markdown",
   "source": "### 106. Are there any rows for the employee name 'Michael Edward'? Print True or False",
   "metadata": {
    "formattedRanges": [],
    "is_collapsed": false,
    "cell_id": "91abd12c-d8f9-44e6-af1f-66ea41863f0c",
    "tags": [],
    "deepnote_cell_type": "text-cell-h3"
   }
  },
  {
   "cell_type": "code",
   "metadata": {
    "cell_id": "a247d1e9-e12f-4037-81a9-b03337f0632a",
    "tags": [],
    "deepnote_cell_type": "code",
    "deepnote_cell_height": 61
   },
   "source": "",
   "execution_count": null,
   "outputs": []
  },
  {
   "cell_type": "markdown",
   "source": "### 107. Check if the substring 'Michael Edward' appears in the Name column or not. ",
   "metadata": {
    "formattedRanges": [],
    "is_collapsed": false,
    "cell_id": "ebb60e96b27a479cb0a531cdbd2175c9",
    "tags": [],
    "deepnote_cell_type": "text-cell-h3"
   }
  },
  {
   "cell_type": "code",
   "metadata": {
    "cell_id": "5eea10b58ebf44c69ac1608155e8ab49",
    "tags": [],
    "deepnote_cell_type": "code",
    "deepnote_cell_height": 61
   },
   "source": "",
   "execution_count": null,
   "outputs": []
  },
  {
   "cell_type": "markdown",
   "source": "### 108. How many unique Job titles start with the substring 'Pr' (case-sensitive matching)",
   "metadata": {
    "formattedRanges": [],
    "is_collapsed": false,
    "cell_id": "b3c51cc86b2d4ea9aa9a60ec50710769",
    "tags": [],
    "deepnote_cell_type": "text-cell-h3"
   }
  },
  {
   "cell_type": "code",
   "metadata": {
    "cell_id": "64bdddc0f11d45f096fc843df07d7c49",
    "tags": [],
    "deepnote_cell_type": "code",
    "deepnote_cell_height": 61
   },
   "source": "",
   "execution_count": null,
   "outputs": []
  },
  {
   "cell_type": "markdown",
   "source": "### 109. How many unique Job titles start with the substring 'Pr' (case-insensitive matching)",
   "metadata": {
    "formattedRanges": [],
    "is_collapsed": false,
    "cell_id": "38afc031-3bc2-4171-a1ef-d7a039a33bd6",
    "tags": [],
    "deepnote_cell_type": "text-cell-h3"
   }
  },
  {
   "cell_type": "code",
   "metadata": {
    "cell_id": "74f9e3cd-c147-4976-80e3-b67fe16e2829",
    "tags": [],
    "deepnote_cell_type": "code",
    "deepnote_cell_height": 61
   },
   "source": "",
   "execution_count": null,
   "outputs": []
  },
  {
   "cell_type": "markdown",
   "source": "### 109. How many records are there whose Country end with the substring 'urt' (case-insensitive matching)",
   "metadata": {
    "formattedRanges": [],
    "is_collapsed": false,
    "cell_id": "c0c2db0c-a560-451e-b96d-d4324e80de69",
    "tags": [],
    "deepnote_cell_type": "text-cell-h3"
   }
  },
  {
   "cell_type": "code",
   "metadata": {
    "cell_id": "19c1f8f4-bbb6-43c9-b002-bf7461204a11",
    "tags": [],
    "deepnote_cell_type": "code",
    "deepnote_cell_height": 61
   },
   "source": "",
   "execution_count": null,
   "outputs": []
  },
  {
   "cell_type": "markdown",
   "source": "### 110. Print the number of records whose company name contains the substring 'LL' (case-insensitive).",
   "metadata": {
    "formattedRanges": [],
    "is_collapsed": false,
    "cell_id": "b2e36c00-06ab-4fbf-8c66-28fd7b45cb97",
    "tags": [],
    "deepnote_cell_type": "text-cell-h3"
   }
  },
  {
   "cell_type": "code",
   "metadata": {
    "cell_id": "021cec23-805d-4e69-86ef-b5103f228a20",
    "tags": [],
    "deepnote_cell_type": "code",
    "deepnote_cell_height": 61
   },
   "source": "",
   "execution_count": null,
   "outputs": []
  },
  {
   "cell_type": "markdown",
   "source": "### 111. Select the first row corresponding to every company in the dataframe",
   "metadata": {
    "formattedRanges": [],
    "is_collapsed": false,
    "cell_id": "fdadcab2df1249fe904743c879c5b8c1",
    "tags": [],
    "deepnote_cell_type": "text-cell-h3"
   }
  },
  {
   "cell_type": "code",
   "metadata": {
    "cell_id": "95360a975cf54bb39c3b8a55fbfe1915",
    "tags": [],
    "deepnote_cell_type": "code",
    "deepnote_cell_height": 61
   },
   "source": "",
   "execution_count": null,
   "outputs": []
  },
  {
   "cell_type": "markdown",
   "source": "### 112. Select the last row corresponding to every company in the dataframe",
   "metadata": {
    "formattedRanges": [],
    "is_collapsed": false,
    "cell_id": "7ba39c4b-0885-44df-917a-e2dd036e6582",
    "tags": [],
    "deepnote_cell_type": "text-cell-h3"
   }
  },
  {
   "cell_type": "code",
   "metadata": {
    "cell_id": "2ea0f503-32ae-47d4-a48c-5477b4b8d6de",
    "tags": [],
    "deepnote_cell_type": "code",
    "deepnote_cell_height": 61
   },
   "source": "",
   "execution_count": null,
   "outputs": []
  },
  {
   "cell_type": "markdown",
   "source": "### 113. Reset the index of the dataframe inplace and delete the older index values.",
   "metadata": {
    "formattedRanges": [],
    "is_collapsed": false,
    "cell_id": "7bf80319-f2c1-484f-ba64-70cec3f2d38f",
    "tags": [],
    "deepnote_cell_type": "text-cell-h3"
   }
  },
  {
   "cell_type": "code",
   "metadata": {
    "cell_id": "54e3bdc1-c852-4d72-91d3-a465cf70202c",
    "tags": [],
    "deepnote_cell_type": "code",
    "deepnote_cell_height": 61
   },
   "source": "",
   "execution_count": null,
   "outputs": []
  },
  {
   "cell_type": "markdown",
   "source": "### 114. Print the type of the DataFrame object. ",
   "metadata": {
    "formattedRanges": [],
    "is_collapsed": false,
    "cell_id": "8e035fd08b1f4c5a86054b58d7a7b887",
    "tags": [],
    "deepnote_cell_type": "text-cell-h3"
   }
  },
  {
   "cell_type": "code",
   "metadata": {
    "cell_id": "e82e845b-977e-4dfe-96a9-fdda7d0caa97",
    "tags": [],
    "deepnote_cell_type": "code",
    "deepnote_cell_height": 61
   },
   "source": "",
   "execution_count": null,
   "outputs": []
  },
  {
   "cell_type": "markdown",
   "source": "### 115. Add a new row at the bottom of the DataFrame. ",
   "metadata": {
    "formattedRanges": [],
    "is_collapsed": false,
    "cell_id": "6c97da7e-1654-4c1d-9952-3106387dcad9",
    "tags": [],
    "deepnote_cell_type": "text-cell-h3"
   }
  },
  {
   "cell_type": "code",
   "metadata": {
    "cell_id": "392474c4-8300-4ed9-a5bd-33756abe4761",
    "tags": [],
    "deepnote_cell_type": "code",
    "deepnote_cell_height": 84
   },
   "source": "new_row = [\"Chris Anders\", \"Scott Inc\", \"Production engineer\", \"Wardfort\", \"Anguilla\", 343930, \"Full Time\", 3.3]\n",
   "execution_count": null,
   "outputs": []
  },
  {
   "cell_type": "markdown",
   "source": "### 116. Print the new shape of the DataFrame.",
   "metadata": {
    "formattedRanges": [],
    "is_collapsed": false,
    "cell_id": "c893efde-0820-4e3f-a0fc-3d050ebbb2c1",
    "tags": [],
    "deepnote_cell_type": "text-cell-h3"
   }
  },
  {
   "cell_type": "code",
   "metadata": {
    "cell_id": "b8212d00-5f38-4876-8a39-6c438c991363",
    "tags": [],
    "deepnote_cell_type": "code",
    "deepnote_cell_height": 61
   },
   "source": "",
   "execution_count": null,
   "outputs": []
  },
  {
   "cell_type": "markdown",
   "source": "### 117. Add a new column \"Employee_Rating_New\" which should be as follows:",
   "metadata": {
    "formattedRanges": [],
    "is_collapsed": false,
    "cell_id": "8cc2fc9c3c6f411ebede8c57ea27faa5",
    "tags": [],
    "deepnote_cell_type": "text-cell-h3"
   }
  },
  {
   "cell_type": "markdown",
   "source": "Employee_Rating_New = max(1.5, 2*Employee_Rating - 3)",
   "metadata": {
    "cell_id": "52f319a263b3457dafc1621994d71a2a",
    "tags": [],
    "deepnote_cell_type": "markdown",
    "deepnote_cell_height": 52.390625
   }
  },
  {
   "cell_type": "code",
   "metadata": {
    "cell_id": "68b1a176-82a6-44c2-bf0c-30efbd9963f0",
    "tags": [],
    "deepnote_cell_type": "code",
    "deepnote_cell_height": 61
   },
   "source": "",
   "execution_count": null,
   "outputs": []
  },
  {
   "cell_type": "markdown",
   "source": "### 118. Convert the entire DataFrame to a list of lists. Do NOT overwrite to the current dataframe object. ",
   "metadata": {
    "formattedRanges": [],
    "is_collapsed": false,
    "cell_id": "34be8e7f-eaaf-4fac-ada4-f8c328aed768",
    "tags": [],
    "deepnote_cell_type": "text-cell-h3"
   }
  },
  {
   "cell_type": "code",
   "metadata": {
    "cell_id": "d462fc4c-ceb9-49e2-9126-b3f83d302e48",
    "tags": [],
    "deepnote_cell_type": "code",
    "deepnote_cell_height": 61
   },
   "source": "df_list = # Your code here",
   "execution_count": null,
   "outputs": []
  },
  {
   "cell_type": "markdown",
   "source": "### 119. Convert the 'Name' to upper case and store it back to the same column. ",
   "metadata": {
    "formattedRanges": [],
    "is_collapsed": false,
    "cell_id": "4f715d57-fba4-41c9-a0d4-1d2f356f4388",
    "tags": [],
    "deepnote_cell_type": "text-cell-h3"
   }
  },
  {
   "cell_type": "code",
   "metadata": {
    "cell_id": "d60171c2-05fe-4792-bd52-a40aad80f168",
    "tags": [],
    "deepnote_cell_type": "code",
    "deepnote_cell_height": 61
   },
   "source": "",
   "execution_count": null,
   "outputs": []
  },
  {
   "cell_type": "markdown",
   "source": "### 120. Rearrange the columns in the below order. Overwrite to the current DataFrame object.",
   "metadata": {
    "formattedRanges": [],
    "is_collapsed": false,
    "cell_id": "849df794-5ad8-4561-bcd2-26cfef171926",
    "tags": [],
    "deepnote_cell_type": "text-cell-h3"
   }
  },
  {
   "cell_type": "code",
   "metadata": {
    "cell_id": "78b5e5e601184802a6948323dd65b094",
    "tags": [],
    "deepnote_cell_type": "code",
    "deepnote_cell_height": 133
   },
   "source": "new_order = [\"Name\", \"Employee_Job_Title\", \"Company_Name\", \n             \"Employee_City\", \"Employee_Country\", \"Employment_Status\", \n             \"Employee_Salary\", \"Employee_Rating\", \"Employee_Rating_New\"]\n\ndf = ## Write your code here",
   "execution_count": null,
   "outputs": []
  },
  {
   "cell_type": "markdown",
   "source": "### 121. Add a New column of 'First_name' and compute it from the 'Name' column",
   "metadata": {
    "formattedRanges": [],
    "is_collapsed": false,
    "cell_id": "133e2d49e16b48d3b8fde9d6513139bb",
    "tags": [],
    "deepnote_cell_type": "text-cell-h3"
   }
  },
  {
   "cell_type": "code",
   "metadata": {
    "cell_id": "23aa16b8825245f7aa3ae3ffcd730e27",
    "tags": [],
    "deepnote_cell_type": "code",
    "deepnote_cell_height": 61
   },
   "source": "",
   "execution_count": null,
   "outputs": []
  },
  {
   "cell_type": "markdown",
   "source": "### 122. Add a New column of 'Last_name' and compute it from the 'Name' column",
   "metadata": {
    "formattedRanges": [],
    "is_collapsed": false,
    "cell_id": "82f68358-029a-456c-a562-16d630e4f28e",
    "tags": [],
    "deepnote_cell_type": "text-cell-h3"
   }
  },
  {
   "cell_type": "code",
   "metadata": {
    "cell_id": "c6eafed62d7047c3b68f9592f755ad1f",
    "tags": [],
    "deepnote_cell_type": "code",
    "deepnote_cell_height": 61
   },
   "source": "",
   "execution_count": null,
   "outputs": []
  },
  {
   "cell_type": "markdown",
   "source": "### 123. Drop the 'Name' column inplace from the DataFrame.",
   "metadata": {
    "formattedRanges": [],
    "is_collapsed": false,
    "cell_id": "f409248b57994f758728d46e069d9213",
    "tags": [],
    "deepnote_cell_type": "text-cell-h3"
   }
  },
  {
   "cell_type": "code",
   "metadata": {
    "cell_id": "a7f2510ed2e2406195d3b005ef176848",
    "tags": [],
    "deepnote_cell_type": "code",
    "deepnote_cell_height": 61
   },
   "source": "",
   "execution_count": null,
   "outputs": []
  },
  {
   "cell_type": "markdown",
   "source": "### 124. Rearrange the columns in the below order. Overwrite to the current DataFrame object.",
   "metadata": {
    "formattedRanges": [],
    "is_collapsed": false,
    "cell_id": "489794b8-8d46-4c05-b2c8-dd9028b2333b",
    "tags": [],
    "deepnote_cell_type": "text-cell-h3"
   }
  },
  {
   "cell_type": "code",
   "metadata": {
    "cell_id": "d993112ba8414da097198da4fd8e701e",
    "tags": [],
    "deepnote_cell_type": "code",
    "deepnote_cell_height": 133
   },
   "source": "new_order = [\"First_name\", \"Last_name\", \"Employee_Job_Title\", \"Company_Name\", \n             \"Employee_City\", \"Employee_Country\", \"Employment_Status\", \n             \"Employee_Salary\", \"Employee_Rating\", \"Employee_Rating_New\"]\n\ndf = ## Write your code here",
   "execution_count": null,
   "outputs": []
  },
  {
   "cell_type": "markdown",
   "source": "### 125. Compute the cosine similarity between the series 'Employee_Rating' and 'Employee_Rating_New'",
   "metadata": {
    "formattedRanges": [],
    "is_collapsed": false,
    "cell_id": "b2eae1fd5bf54f16b001551325980ca5",
    "tags": [],
    "deepnote_cell_type": "text-cell-h3"
   }
  },
  {
   "cell_type": "code",
   "metadata": {
    "cell_id": "de27988bd44a4ca6831865bba540942e",
    "tags": [],
    "deepnote_cell_type": "code",
    "deepnote_cell_height": 61
   },
   "source": "",
   "execution_count": null,
   "outputs": []
  },
  {
   "cell_type": "markdown",
   "source": "### 126. Rename the columns and store to a new DataFrame 'df_renamed':",
   "metadata": {
    "formattedRanges": [],
    "is_collapsed": false,
    "cell_id": "d4f46abe471543339c68bd73aec9c3d6",
    "tags": [],
    "deepnote_cell_type": "text-cell-h3"
   }
  },
  {
   "cell_type": "markdown",
   "source": "1. Employee_Rating -> Rating\n2. Employee_Country -> Country\n3. Employee_Salary -> Salary\n4. Employee_Rating_New -> Rating_New\n5. Employment_Status -> Employment_type\n6. Employment_City -> City",
   "metadata": {
    "cell_id": "d3d44fcb48ac4dbcae60b98ad13329a5",
    "tags": [],
    "deepnote_cell_type": "markdown",
    "deepnote_cell_height": 196.34375
   }
  },
  {
   "cell_type": "code",
   "metadata": {
    "cell_id": "d68b0f09561b49b7a7627876a3b62677",
    "tags": [],
    "deepnote_cell_type": "code",
    "deepnote_cell_height": 61
   },
   "source": "df_renamed = # Your code here.",
   "execution_count": null,
   "outputs": []
  },
  {
   "cell_type": "markdown",
   "source": "### 127. Rename the columns (inplace):",
   "metadata": {
    "formattedRanges": [],
    "is_collapsed": false,
    "cell_id": "1a349734-bb88-4d81-aa3a-6cfb12538c4b",
    "tags": [],
    "deepnote_cell_type": "text-cell-h3"
   }
  },
  {
   "cell_type": "markdown",
   "source": "1. Employee_Rating -> Rating\n2. Employee_Country -> Country\n3. Employee_Salary -> Salary\n4. Employee_Rating_New -> Rating_New\n5. Employment_Status -> Employment_type\n6. Employment_City -> City",
   "metadata": {
    "cell_id": "9e6720c6-559c-4e1e-bd71-4022efabff4f",
    "tags": [],
    "deepnote_cell_type": "markdown",
    "deepnote_cell_height": 196.34375
   }
  },
  {
   "cell_type": "code",
   "metadata": {
    "cell_id": "a43ce687ae1f44c99005e0aaf959ae34",
    "tags": [],
    "deepnote_cell_type": "code",
    "deepnote_cell_height": 61
   },
   "source": "",
   "execution_count": null,
   "outputs": []
  },
  {
   "cell_type": "markdown",
   "source": "### 128. Count the number of NaN values in each column",
   "metadata": {
    "formattedRanges": [],
    "is_collapsed": false,
    "cell_id": "e94dd6d7f5fc4af5aca80b7716567157",
    "tags": [],
    "deepnote_cell_type": "text-cell-h3"
   }
  },
  {
   "cell_type": "code",
   "metadata": {
    "cell_id": "bc1a95abe4bf4827a9cc8d6fada608db",
    "tags": [],
    "deepnote_cell_type": "code",
    "deepnote_cell_height": 61
   },
   "source": "",
   "execution_count": null,
   "outputs": []
  },
  {
   "cell_type": "markdown",
   "source": "### 129. Write a function that takes the employee_salary and returns:",
   "metadata": {
    "formattedRanges": [],
    "is_collapsed": false,
    "cell_id": "5eccdbb037a34725a8cb0527fe46c394",
    "tags": [],
    "deepnote_cell_type": "text-cell-h3"
   }
  },
  {
   "cell_type": "markdown",
   "source": "1. \"High\" if the salary is >= 600000\n2. \"Medium\" if the salary is > 300000 and < 600000\n3. \"Low\" otherwise.\n\nHint: Use the apply() method.\n\n**Store the returned series to a new column 'Salary_category'.**",
   "metadata": {
    "cell_id": "d912de8f40df4434a2d4683c3175426d",
    "tags": [],
    "deepnote_cell_type": "markdown",
    "deepnote_cell_height": 178.953125
   }
  },
  {
   "cell_type": "markdown",
   "source": "### 130. Print the count distribution of the 'Salary_category' column.",
   "metadata": {
    "formattedRanges": [],
    "is_collapsed": false,
    "cell_id": "79121c8f8e444a0a8a00f7c81c56153d",
    "tags": [],
    "deepnote_cell_type": "text-cell-h3"
   }
  },
  {
   "cell_type": "code",
   "metadata": {
    "cell_id": "ba587159b05b43bd83c09cc285e5ba5c",
    "tags": [],
    "deepnote_cell_type": "code",
    "deepnote_cell_height": 61
   },
   "source": "",
   "execution_count": null,
   "outputs": []
  },
  {
   "cell_type": "markdown",
   "source": "### 131.  Map every Company_Name to a unique integer value. Name the new column \"Company_ID\".  ",
   "metadata": {
    "formattedRanges": [],
    "is_collapsed": false,
    "cell_id": "1a8d730410d645c8ba3c4d0dcce9eb85",
    "tags": [],
    "deepnote_cell_type": "text-cell-h3"
   }
  },
  {
   "cell_type": "markdown",
   "source": "For instance, if the data has 5 companies, \"Company A\" -> 1, \"Company B\" -> 2, \"Company C\" -> 3, \"Company D\" -> 4, \"Company E\" -> 5. ",
   "metadata": {
    "formattedRanges": [],
    "is_collapsed": false,
    "cell_id": "fd77d36d-0c66-4f2d-8ef9-994c1e5ff4bb",
    "tags": [],
    "deepnote_cell_type": "text-cell-p"
   }
  },
  {
   "cell_type": "code",
   "metadata": {
    "cell_id": "75a1ae0fbf3f479e89d4b19a3232933e",
    "tags": [],
    "deepnote_cell_type": "code",
    "deepnote_cell_height": 61
   },
   "source": "",
   "execution_count": null,
   "outputs": []
  },
  {
   "cell_type": "markdown",
   "source": "### 132. Generate one-hot lables for the 'Employment_type' column. You don't have to add this as a column to the DataFrame.",
   "metadata": {
    "formattedRanges": [],
    "is_collapsed": false,
    "cell_id": "9dcce62796f94893b9a103ffd9a1cba9",
    "tags": [],
    "deepnote_cell_type": "text-cell-h3"
   }
  },
  {
   "cell_type": "code",
   "metadata": {
    "cell_id": "d4c8dd403b224fb585b83a6a85203098",
    "tags": [],
    "deepnote_cell_type": "code",
    "deepnote_cell_height": 61
   },
   "source": "",
   "execution_count": null,
   "outputs": []
  },
  {
   "cell_type": "markdown",
   "source": "### 133. Print the number of rows where 'City' belongs to the following list of cities.",
   "metadata": {
    "formattedRanges": [],
    "is_collapsed": false,
    "cell_id": "06310df316854bf18a68b169e0605ab4",
    "tags": [],
    "deepnote_cell_type": "text-cell-h3"
   }
  },
  {
   "cell_type": "markdown",
   "source": "Use the isin() method. ",
   "metadata": {
    "formattedRanges": [],
    "is_collapsed": false,
    "cell_id": "e17961a7-a16f-4d6d-bf02-b5143f1bd51c",
    "tags": [],
    "deepnote_cell_type": "text-cell-p"
   }
  },
  {
   "cell_type": "code",
   "metadata": {
    "cell_id": "938a1ff16f4b4bf9a80500f4ac477af6",
    "tags": [],
    "deepnote_cell_type": "code",
    "deepnote_cell_height": 133
   },
   "source": "city_filter_list = [\"New Russellton\", \"Whiteside\", \"Kristaburgh\"]\n\nrow_count = ## Your code here\n\nprint(row_count)",
   "execution_count": null,
   "outputs": []
  },
  {
   "cell_type": "markdown",
   "source": "### 134. Print the name of the person with the 10th largest salary. ",
   "metadata": {
    "formattedRanges": [],
    "is_collapsed": false,
    "cell_id": "86c3892d30154ddbb54c08e523d15ae2",
    "tags": [],
    "deepnote_cell_type": "text-cell-h3"
   }
  },
  {
   "cell_type": "code",
   "metadata": {
    "cell_id": "dc9550a1e51e4f19b0239e7a31600cfe",
    "tags": [],
    "deepnote_cell_type": "code",
    "deepnote_cell_height": 61
   },
   "source": "",
   "execution_count": null,
   "outputs": []
  },
  {
   "cell_type": "markdown",
   "source": "### 135. Print the name of the person with the 10th largest salary. If there are multiple people with the same salary, print all names. ",
   "metadata": {
    "formattedRanges": [],
    "is_collapsed": false,
    "cell_id": "b35fb3765d4c4fd09368ecb003257525",
    "tags": [],
    "deepnote_cell_type": "text-cell-h3"
   }
  },
  {
   "cell_type": "code",
   "metadata": {
    "cell_id": "765f01afe9cb45fe8ec64eaece2a9d8a",
    "tags": [],
    "deepnote_cell_type": "code",
    "deepnote_cell_height": 61
   },
   "source": "",
   "execution_count": null,
   "outputs": []
  },
  {
   "cell_type": "markdown",
   "source": "### 136. Print a cross tabulation of Company Name and Employment Type. ",
   "metadata": {
    "formattedRanges": [],
    "is_collapsed": false,
    "cell_id": "db2ca498c9334f3f8472b40b8405fee2",
    "tags": [],
    "deepnote_cell_type": "text-cell-h3"
   }
  },
  {
   "cell_type": "code",
   "metadata": {
    "cell_id": "fb6383c45c764a5aa4a762c09eb7a699",
    "tags": [],
    "deepnote_cell_type": "code",
    "deepnote_cell_height": 61
   },
   "source": "",
   "execution_count": null,
   "outputs": []
  },
  {
   "cell_type": "markdown",
   "source": "### 137. Print the standard deviation of the Salary column.",
   "metadata": {
    "formattedRanges": [],
    "is_collapsed": false,
    "cell_id": "bd7fa8e9314b4a918629ad04ea7b3132",
    "tags": [],
    "deepnote_cell_type": "text-cell-h3"
   }
  },
  {
   "cell_type": "code",
   "metadata": {
    "cell_id": "e8e171718ab345d09a7024c6b0b08349",
    "tags": [],
    "deepnote_cell_type": "code",
    "deepnote_cell_height": 61
   },
   "source": "",
   "execution_count": null,
   "outputs": []
  },
  {
   "cell_type": "markdown",
   "source": "### 138. Iterates over the DataFrame's first five rows and print the Company Name",
   "metadata": {
    "formattedRanges": [],
    "is_collapsed": false,
    "cell_id": "211b4ce476ed41bc808a783174291311",
    "tags": [],
    "deepnote_cell_type": "text-cell-h3"
   }
  },
  {
   "cell_type": "markdown",
   "source": "Note: You have to write a for loop here explicitly and iterate. ",
   "metadata": {
    "formattedRanges": [
     {
      "fromCodePoint": 0,
      "toCodePoint": 64,
      "marks": {
       "bold": true
      }
     }
    ],
    "is_collapsed": false,
    "cell_id": "a9864d33-f8e8-429e-bfe7-6e38b701abbd",
    "tags": [],
    "deepnote_cell_type": "text-cell-p"
   }
  },
  {
   "cell_type": "code",
   "metadata": {
    "cell_id": "52c96670619548e2b2b1bdf0a9b4886f",
    "tags": [],
    "deepnote_cell_type": "code",
    "deepnote_cell_height": 61
   },
   "source": "",
   "execution_count": null,
   "outputs": []
  },
  {
   "cell_type": "markdown",
   "source": "### 139. Select the last row corresponding to every City in the dataframe",
   "metadata": {
    "formattedRanges": [],
    "is_collapsed": false,
    "cell_id": "5b6fed8c-2ab0-43a6-9ba7-07c0844a9bf7",
    "tags": [],
    "deepnote_cell_type": "text-cell-h3"
   }
  },
  {
   "cell_type": "code",
   "metadata": {
    "cell_id": "f6cd806eb5d7434899cc1656bc1c1f5a",
    "tags": [],
    "deepnote_cell_type": "code",
    "deepnote_cell_height": 61
   },
   "source": "",
   "execution_count": null,
   "outputs": []
  },
  {
   "cell_type": "markdown",
   "source": "### 140. Sort the dataframe on Employee salary column (inplace).",
   "metadata": {
    "formattedRanges": [],
    "is_collapsed": false,
    "cell_id": "933cccbd88514c3592eaab687aae8f64",
    "tags": [],
    "deepnote_cell_type": "text-cell-h3"
   }
  },
  {
   "cell_type": "code",
   "metadata": {
    "cell_id": "ad51fb9e2cba496b87fdbae94740db19",
    "tags": [],
    "deepnote_cell_type": "code",
    "deepnote_cell_height": 61
   },
   "source": "",
   "execution_count": null,
   "outputs": []
  },
  {
   "cell_type": "markdown",
   "source": "### 141. The task above has distorted the indexing. Reset the index inplace and drop the current index. ",
   "metadata": {
    "formattedRanges": [],
    "is_collapsed": false,
    "cell_id": "01a2ed940ad04e86b23037d2e38b8b56",
    "tags": [],
    "deepnote_cell_type": "text-cell-h3"
   }
  },
  {
   "cell_type": "code",
   "metadata": {
    "cell_id": "95b1326aae9a4494a08795967fffe7d7",
    "tags": [],
    "deepnote_cell_type": "code",
    "deepnote_cell_height": 61
   },
   "source": "",
   "execution_count": null,
   "outputs": []
  },
  {
   "cell_type": "markdown",
   "source": "### 142. Now check whether the Salary column is monotonically increasing or not.",
   "metadata": {
    "formattedRanges": [],
    "is_collapsed": false,
    "cell_id": "e121772a07a44ac4a607144e1d07045d",
    "tags": [],
    "deepnote_cell_type": "text-cell-h3"
   }
  },
  {
   "cell_type": "code",
   "metadata": {
    "cell_id": "04a51e3292744b82814dd85ef0d387a3",
    "tags": [],
    "deepnote_cell_type": "code",
    "deepnote_cell_height": 61
   },
   "source": "",
   "execution_count": null,
   "outputs": []
  },
  {
   "cell_type": "markdown",
   "source": "### 143-145. Print the 25th, 50th and 75th percentile of the Salary column",
   "metadata": {
    "formattedRanges": [],
    "is_collapsed": false,
    "cell_id": "9c45be1ccdb14ecbab807278380c6f5f",
    "tags": [],
    "deepnote_cell_type": "text-cell-h3"
   }
  },
  {
   "cell_type": "code",
   "metadata": {
    "cell_id": "29fab558a49f468cbca66e363283ac2a",
    "tags": [],
    "deepnote_cell_type": "code",
    "deepnote_cell_height": 61
   },
   "source": "",
   "execution_count": null,
   "outputs": []
  },
  {
   "cell_type": "markdown",
   "source": "### 146. Plot a scatter plot between the Salary column and Rating. ",
   "metadata": {
    "formattedRanges": [],
    "is_collapsed": false,
    "cell_id": "94b7cdf090044efd868fea3a9b10d7f4",
    "tags": [],
    "deepnote_cell_type": "text-cell-h3"
   }
  },
  {
   "cell_type": "code",
   "metadata": {
    "cell_id": "6d3175aafc95407c8bbcc8b19382ae92",
    "tags": [],
    "deepnote_cell_type": "code",
    "deepnote_cell_height": 61
   },
   "source": "",
   "execution_count": null,
   "outputs": []
  },
  {
   "cell_type": "markdown",
   "source": "### 147. Distribute the Salary column in 10 equal sized bins.",
   "metadata": {
    "formattedRanges": [],
    "is_collapsed": false,
    "cell_id": "7bd238df4d41413fa14ddef7ac6726f8",
    "tags": [],
    "deepnote_cell_type": "text-cell-h3"
   }
  },
  {
   "cell_type": "code",
   "metadata": {
    "cell_id": "9410e249d8e04bef8daa554d22893a58",
    "tags": [],
    "deepnote_cell_type": "code",
    "deepnote_cell_height": 61
   },
   "source": "",
   "execution_count": null,
   "outputs": []
  },
  {
   "cell_type": "markdown",
   "source": "### 148. Convert the Salary column to numpy array",
   "metadata": {
    "formattedRanges": [],
    "is_collapsed": false,
    "cell_id": "21ca22d7602a4bd393a523e79d1753f1",
    "tags": [],
    "deepnote_cell_type": "text-cell-h3"
   }
  },
  {
   "cell_type": "code",
   "metadata": {
    "cell_id": "bdd9831ab8d742fc8975aa4f04c7bce1",
    "tags": [],
    "deepnote_cell_type": "code",
    "deepnote_cell_height": 61
   },
   "source": "",
   "execution_count": null,
   "outputs": []
  },
  {
   "cell_type": "markdown",
   "source": "### 149. Convert the Rating column to numpy array",
   "metadata": {
    "formattedRanges": [],
    "is_collapsed": false,
    "cell_id": "5be7e9bd-b8d6-4270-bd83-ff9f72f4d4b9",
    "tags": [],
    "deepnote_cell_type": "text-cell-h3"
   }
  },
  {
   "cell_type": "code",
   "metadata": {
    "cell_id": "23b058040a8e4d5a9c8c0a5c032e819a",
    "tags": [],
    "deepnote_cell_type": "code",
    "deepnote_cell_height": 61
   },
   "source": "",
   "execution_count": null,
   "outputs": []
  },
  {
   "cell_type": "markdown",
   "source": "### 150. Compute the cosine similarity between the numpy arrays created in 148 and 149.",
   "metadata": {
    "formattedRanges": [],
    "is_collapsed": false,
    "cell_id": "87c21a0854f04357b1e0cb6d551cb123",
    "tags": [],
    "deepnote_cell_type": "text-cell-h3"
   }
  },
  {
   "cell_type": "code",
   "metadata": {
    "tags": [],
    "cell_id": "0ba0bf55-a0d0-4201-8a0f-7608cf74759d",
    "deepnote_cell_type": "code",
    "deepnote_cell_height": 61
   },
   "source": "",
   "execution_count": null,
   "outputs": []
  },
  {
   "cell_type": "markdown",
   "source": "Great job solving this notebook. Go to Pandas Notebook 4: [Link](https://deepnote.com/workspace/avi-chawla-695b-aee6f4ef-2d50-4fb6-9ef2-20ee1022995a/project/Pandas-after-employee-f84e02a1-fb6a-428e-af90-8dd99855749a/%2Fnotebook.ipynb)",
   "metadata": {
    "cell_id": "7db385226ff54c39862af5dea1a45e45",
    "tags": [],
    "deepnote_cell_type": "markdown",
    "deepnote_cell_height": 52.390625
   }
  },
  {
   "cell_type": "markdown",
   "source": "<a style='text-decoration:none;line-height:16px;display:flex;color:#5B5B62;padding:10px;justify-content:end;' href='https://deepnote.com?utm_source=created-in-deepnote-cell&projectId=adc5a3ee-5f61-4725-8e46-ccb07899acfc' target=\"_blank\">\n<img alt='Created in deepnote.com' style='display:inline;max-height:16px;margin:0px;margin-right:7.5px;' src='data:image/svg+xml;base64,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' > </img>\nCreated in <span style='font-weight:600;margin-left:4px;'>Deepnote</span></a>",
   "metadata": {
    "tags": [],
    "created_in_deepnote_cell": true,
    "deepnote_cell_type": "markdown"
   }
  }
 ],
 "nbformat": 4,
 "nbformat_minor": 2,
 "metadata": {
  "orig_nbformat": 2,
  "deepnote": {},
  "deepnote_notebook_id": "3d0002b9-330c-4283-8b7d-e68d9c6924e8",
  "deepnote_execution_queue": []
 }
}