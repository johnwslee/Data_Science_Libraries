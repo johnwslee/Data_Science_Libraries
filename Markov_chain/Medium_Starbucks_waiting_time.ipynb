{
 "cells": [
  {
   "cell_type": "markdown",
   "id": "f493675d-eb3d-4b0b-92bf-c968274c54a5",
   "metadata": {},
   "source": [
    "# Imports"
   ]
  },
  {
   "cell_type": "code",
   "execution_count": 1,
   "id": "be58560a-c603-493d-94f0-6fbb3cdd9fdd",
   "metadata": {},
   "outputs": [],
   "source": [
    "import numpy as np \n",
    "import matplotlib.pyplot as plt \n",
    "import pandas as pd \n",
    "from scipy import signal, stats\n",
    "import sklearn \n",
    "import seaborn as sns"
   ]
  },
  {
   "cell_type": "markdown",
   "id": "aabae311-e84c-4478-80f7-cfb6d5b4824c",
   "metadata": {},
   "source": [
    "# 1. States"
   ]
  },
  {
   "cell_type": "code",
   "execution_count": 2,
   "id": "859959c4-7b17-4682-bf6a-c0aa436b28fa",
   "metadata": {},
   "outputs": [],
   "source": [
    "customer_state = ['Ordering the coffee','Waiting for your coffee','Leaving']\n",
    "states = {'O':customer_state[0],'M':customer_state[1],'L':customer_state[2]}"
   ]
  },
  {
   "cell_type": "markdown",
   "id": "3557e095-7763-4a13-910e-1186673f5eaf",
   "metadata": {},
   "source": [
    "# 2. One Customer One Drink Example"
   ]
  },
  {
   "cell_type": "code",
   "execution_count": 3,
   "id": "5ee43d8d-d113-4066-bae8-8f9046838cde",
   "metadata": {},
   "outputs": [],
   "source": [
    "mu, sigma = 5, 1\n",
    "\n",
    "\n",
    "def one_drink_one_cust():\n",
    "    start = states['O']\n",
    "    print(start+'\\n')\n",
    "    ordering_time = 0.5\n",
    "    first_state = states['M']\n",
    "    print(first_state+'\\n')\n",
    "    waiting_time = 0\n",
    "    k = 0\n",
    "    while k == 0:\n",
    "        p = stats.norm.cdf(waiting_time, loc=mu, scale=sigma)\n",
    "        k = np.random.choice([0, 1], p = [1-p, p])\n",
    "        waiting_time = waiting_time+0.5\n",
    "        if k == 0:\n",
    "            print('Coffee is brewing... \\n')\n",
    "    print('Your coffee is ready! \\n')\n",
    "    print(states['L']+'\\n')\n",
    "    print('Waiting time is = %.2f' % (waiting_time))\n",
    "    return waiting_time"
   ]
  },
  {
   "cell_type": "code",
   "execution_count": 4,
   "id": "373188ab-cb1d-48ba-9fb1-1d816746cf29",
   "metadata": {},
   "outputs": [
    {
     "name": "stdout",
     "output_type": "stream",
     "text": [
      "Ordering the coffee\n",
      "\n",
      "Waiting for your coffee\n",
      "\n",
      "Coffee is brewing... \n",
      "\n",
      "Coffee is brewing... \n",
      "\n",
      "Coffee is brewing... \n",
      "\n",
      "Coffee is brewing... \n",
      "\n",
      "Coffee is brewing... \n",
      "\n",
      "Coffee is brewing... \n",
      "\n",
      "Coffee is brewing... \n",
      "\n",
      "Coffee is brewing... \n",
      "\n",
      "Coffee is brewing... \n",
      "\n",
      "Your coffee is ready! \n",
      "\n",
      "Leaving\n",
      "\n",
      "Waiting time is = 5.00\n"
     ]
    },
    {
     "data": {
      "text/plain": [
       "5.0"
      ]
     },
     "execution_count": 4,
     "metadata": {},
     "output_type": "execute_result"
    }
   ],
   "source": [
    "one_drink_one_cust()"
   ]
  },
  {
   "cell_type": "markdown",
   "id": "de39392e-d7e4-4442-b78a-22472f81a89f",
   "metadata": {},
   "source": [
    "# 3. One Customer Multiple Drinks Example"
   ]
  },
  {
   "cell_type": "code",
   "execution_count": 5,
   "id": "036d62e8-9ba1-4de3-91ca-d9b17bbbc49e",
   "metadata": {},
   "outputs": [],
   "source": [
    "kind_of_coffee = np.array(pd.read_csv('starbucks-menu-nutrition-drinks.csv')['Unnamed: 0'])\n",
    "p_start = []\n",
    "\n",
    "# Generate fake distribution for drinks\n",
    "for i in range(len(kind_of_coffee)):\n",
    "    p_start.append(np.random.choice(np.arange(50,100)))\n",
    "\n",
    "p_start = np.array(np.array(list(np.array(p_start)/sum(p_start))))"
   ]
  },
  {
   "cell_type": "code",
   "execution_count": 6,
   "id": "aa98e0c9-79f5-4386-ba04-38f5603bf3bc",
   "metadata": {},
   "outputs": [
    {
     "data": {
      "text/plain": [
       "177"
      ]
     },
     "execution_count": 6,
     "metadata": {},
     "output_type": "execute_result"
    }
   ],
   "source": [
    "len(kind_of_coffee)"
   ]
  },
  {
   "cell_type": "code",
   "execution_count": 7,
   "id": "22a258e9-8b5f-45a4-8bf3-f9901cafe18a",
   "metadata": {},
   "outputs": [
    {
     "data": {
      "text/plain": [
       "177"
      ]
     },
     "execution_count": 7,
     "metadata": {},
     "output_type": "execute_result"
    }
   ],
   "source": [
    "len(p_start)"
   ]
  },
  {
   "cell_type": "code",
   "execution_count": 8,
   "id": "14fa854e-5f3c-4489-864c-5fc1b2fe8457",
   "metadata": {},
   "outputs": [
    {
     "data": {
      "image/png": "[encoded data removed]",
      "text/plain": [
       "<Figure size 360x360 with 1 Axes>"
      ]
     },
     "metadata": {
      "needs_background": "light"
     },
     "output_type": "display_data"
    }
   ],
   "source": [
    "coffe_picked = []\n",
    "for i in range(10000):\n",
    "    coffe_picked.append(np.random.choice(range(0,len(kind_of_coffee)),p=p_start))\n",
    "sns.displot(coffe_picked);"
   ]
  },
  {
   "cell_type": "code",
   "execution_count": 9,
   "id": "8adc7a1d-4240-4eab-a4e2-293ee124ca72",
   "metadata": {},
   "outputs": [
    {
     "data": {
      "text/html": [
       "<div>\n",
       "<style scoped>\n",
       "    .dataframe tbody tr th:only-of-type {\n",
       "        vertical-align: middle;\n",
       "    }\n",
       "\n",
       "    .dataframe tbody tr th {\n",
       "        vertical-align: top;\n",
       "    }\n",
       "\n",
       "    .dataframe thead th {\n",
       "        text-align: right;\n",
       "    }\n",
       "</style>\n",
       "<table border=\"1\" class=\"dataframe\">\n",
       "  <thead>\n",
       "    <tr style=\"text-align: right;\">\n",
       "      <th></th>\n",
       "      <th>State 1</th>\n",
       "      <th>$\\mu$</th>\n",
       "      <th>$\\sigma$</th>\n",
       "      <th>$p$</th>\n",
       "    </tr>\n",
       "  </thead>\n",
       "  <tbody>\n",
       "    <tr>\n",
       "      <th>0</th>\n",
       "      <td>Cool Lime Starbucks Refreshers™ Beverage</td>\n",
       "      <td>4.084084</td>\n",
       "      <td>0.263964</td>\n",
       "      <td>0.004575</td>\n",
       "    </tr>\n",
       "    <tr>\n",
       "      <th>1</th>\n",
       "      <td>Ombré Pink Drink</td>\n",
       "      <td>5.708709</td>\n",
       "      <td>0.681582</td>\n",
       "      <td>0.007167</td>\n",
       "    </tr>\n",
       "    <tr>\n",
       "      <th>2</th>\n",
       "      <td>Pink Drink</td>\n",
       "      <td>5.249249</td>\n",
       "      <td>0.336837</td>\n",
       "      <td>0.006176</td>\n",
       "    </tr>\n",
       "    <tr>\n",
       "      <th>3</th>\n",
       "      <td>Strawberry Acai Starbucks Refreshers™ Beverage</td>\n",
       "      <td>5.135135</td>\n",
       "      <td>0.688589</td>\n",
       "      <td>0.006786</td>\n",
       "    </tr>\n",
       "    <tr>\n",
       "      <th>4</th>\n",
       "      <td>Very Berry Hibiscus Starbucks Refreshers™ Beve...</td>\n",
       "      <td>3.840841</td>\n",
       "      <td>0.419520</td>\n",
       "      <td>0.006481</td>\n",
       "    </tr>\n",
       "  </tbody>\n",
       "</table>\n",
       "</div>"
      ],
      "text/plain": [
       "                                             State 1     $\\mu$  $\\sigma$  \\\n",
       "0           Cool Lime Starbucks Refreshers™ Beverage  4.084084  0.263964   \n",
       "1                                   Ombré Pink Drink  5.708709  0.681582   \n",
       "2                                         Pink Drink  5.249249  0.336837   \n",
       "3     Strawberry Acai Starbucks Refreshers™ Beverage  5.135135  0.688589   \n",
       "4  Very Berry Hibiscus Starbucks Refreshers™ Beve...  3.840841  0.419520   \n",
       "\n",
       "        $p$  \n",
       "0  0.004575  \n",
       "1  0.007167  \n",
       "2  0.006176  \n",
       "3  0.006786  \n",
       "4  0.006481  "
      ]
     },
     "execution_count": 9,
     "metadata": {},
     "output_type": "execute_result"
    }
   ],
   "source": [
    "coffee_data = pd.DataFrame(kind_of_coffee,columns=['State 1'])\n",
    "mu_list = []\n",
    "var_list = []\n",
    "for i in range(len(coffee_data)):\n",
    "    mu_list.append(np.random.choice(np.linspace(3,6,1000)))\n",
    "    var_list.append(np.random.choice(np.linspace(0.1,1.5,1000)))\n",
    "coffee_data[r'$\\mu$']=mu_list\n",
    "coffee_data[r'$\\sigma$']=var_list\n",
    "coffee_data[r'$p$'] = p_start\n",
    "coffee_data.head()"
   ]
  },
  {
   "cell_type": "code",
   "execution_count": 10,
   "id": "921e1154-eef0-4433-8191-c72013ad1127",
   "metadata": {},
   "outputs": [],
   "source": [
    "def random_drink_one_cust():\n",
    "    start = states['O']\n",
    "    print(start+'\\n')\n",
    "    ordering_time = 0.5\n",
    "    first_state = states['M']\n",
    "    chosen_i = np.random.choice(range(0, len(kind_of_coffee)), p=p_start)\n",
    "    print('Ordering coffee %s' % (kind_of_coffee[chosen_i]))\n",
    "    print(first_state+'\\n')\n",
    "\n",
    "    mu_i, var_i = coffee_data[r'$\\mu$'].loc[chosen_i], coffee_data[r'$\\sigma$'].loc[chosen_i]\n",
    "    waiting_time = 0\n",
    "    k = 0\n",
    "    while k == 0:\n",
    "        p = stats.norm.cdf(waiting_time, loc=mu_i, scale=var_i)\n",
    "        k = np.random.choice([0, 1], p=[1-p, p])\n",
    "        waiting_time = waiting_time+0.5\n",
    "        if k == 0:\n",
    "            print('Coffee is brewing... \\n')\n",
    "    print('Your coffee is ready! \\n')\n",
    "    print(states['L']+'\\n')\n",
    "    print('Waiting time is = %.2f' % (waiting_time))\n",
    "    return waiting_time"
   ]
  },
  {
   "cell_type": "code",
   "execution_count": 11,
   "id": "fdfa3d9f-ec32-4aee-a73d-8b66b159d8be",
   "metadata": {},
   "outputs": [
    {
     "name": "stdout",
     "output_type": "stream",
     "text": [
      "Ordering the coffee\n",
      "\n",
      "Ordering coffee Starbucks® Low Calorie Iced Coffee + Milk\n",
      "Waiting for your coffee\n",
      "\n",
      "Coffee is brewing... \n",
      "\n",
      "Coffee is brewing... \n",
      "\n",
      "Coffee is brewing... \n",
      "\n",
      "Coffee is brewing... \n",
      "\n",
      "Coffee is brewing... \n",
      "\n",
      "Coffee is brewing... \n",
      "\n",
      "Your coffee is ready! \n",
      "\n",
      "Leaving\n",
      "\n",
      "Waiting time is = 3.50\n"
     ]
    },
    {
     "data": {
      "text/plain": [
       "3.5"
      ]
     },
     "execution_count": 11,
     "metadata": {},
     "output_type": "execute_result"
    }
   ],
   "source": [
    "random_drink_one_cust()"
   ]
  },
  {
   "cell_type": "markdown",
   "id": "811d7ba9-7a6a-475b-8c9a-f62f3ff8db1c",
   "metadata": {},
   "source": [
    "#### How much time does it usually take to grab a whatever coffee at Starbucks?"
   ]
  },
  {
   "cell_type": "code",
   "execution_count": 12,
   "id": "529a66e0-ee01-4525-a762-d4025b9ec602",
   "metadata": {},
   "outputs": [],
   "source": [
    "def random_drink_one_cust_2():\n",
    "    start = states['O']\n",
    "    # print(start+'\\n')\n",
    "    ordering_time = 0.5\n",
    "    first_state = states['M']\n",
    "    chosen_i = np.random.choice(range(0, len(kind_of_coffee)), p=p_start)\n",
    "    # print('Ordering coffee %s' % (kind_of_coffee[chosen_i]))\n",
    "    # print(first_state+'\\n')\n",
    "    mu_i, var_i = coffee_data[r'$\\mu$'].loc[chosen_i], coffee_data[r'$\\sigma$'].loc[chosen_i]\n",
    "    waiting_time = 0\n",
    "    k = 0\n",
    "    while k == 0:\n",
    "        p = stats.norm.cdf(waiting_time, loc=mu_i, scale=var_i)\n",
    "        k = np.random.choice([0, 1], p=[1-p, p])\n",
    "        waiting_time = waiting_time+0.5\n",
    "        # if k == 0:\n",
    "        #     print('Coffee is brewing... \\n')\n",
    "    # print('Your coffee is ready! \\n')\n",
    "    # print(states['L']+'\\n')\n",
    "    # print('Waiting time is = %.2f' % (waiting_time))\n",
    "    return waiting_time"
   ]
  },
  {
   "cell_type": "code",
   "execution_count": 13,
   "id": "6f16e365-b30f-4c24-a2ec-ff74f5da43aa",
   "metadata": {},
   "outputs": [
    {
     "data": {
      "text/plain": [
       "Text(0, 0.5, 'Probability Density Function (PDF)')"
      ]
     },
     "execution_count": 13,
     "metadata": {},
     "output_type": "execute_result"
    },
    {
     "data": {
      "image/png": "[encoded data removed]",
      "text/plain": [
       "<Figure size 1440x720 with 2 Axes>"
      ]
     },
     "metadata": {
      "needs_background": "light"
     },
     "output_type": "display_data"
    }
   ],
   "source": [
    "waiting_time_list = []\n",
    "for i in range(10000):\n",
    "    waiting_time_list.append(random_drink_one_cust_2())\n",
    "plt.figure(figsize=(20, 10))\n",
    "plt.subplot(2, 1, 1)\n",
    "sns.histplot(waiting_time_list, fill=True)\n",
    "plt.xticks(fontsize=14)\n",
    "plt.yticks(fontsize=14)\n",
    "plt.xlabel('Waiting time (minutes)',fontsize=14)\n",
    "plt.ylabel('Count',fontsize=14)\n",
    "plt.subplot(2,1,2)\n",
    "sns.kdeplot(waiting_time_list,fill=True)\n",
    "plt.xticks(fontsize=14)\n",
    "plt.yticks(fontsize=14)\n",
    "plt.xlabel('Waiting time (minutes)',fontsize=14)\n",
    "plt.ylabel('Probability Density Function (PDF)',fontsize=14)"
   ]
  },
  {
   "cell_type": "markdown",
   "id": "f887de0f-200b-46b4-b456-550ef74ac4b1",
   "metadata": {},
   "source": [
    "# 4. Multiple Customers Multiple Drinks Example"
   ]
  },
  {
   "cell_type": "code",
   "execution_count": 14,
   "id": "80ddc0db-b35c-4808-b7b7-fd6bc1334f2f",
   "metadata": {},
   "outputs": [],
   "source": [
    "def random_drink_multiple_cust(cust=2, num_baristas=5):\n",
    "    time_of_process = []\n",
    "    baristas = np.zeros(num_baristas)\n",
    "    q = 0\n",
    "    ordering_time = 0\n",
    "    for c in range(cust):\n",
    "        start = states['O']\n",
    "        print('Customer number %i is ordering' % (c))\n",
    "        ordering_time += 0.5\n",
    "        if sum(baristas) != num_baristas:\n",
    "            print('There is at least one free baristas! :)')\n",
    "            waiting_time = random_drink_one_cust()\n",
    "            time_of_process.append(waiting_time+ordering_time)\n",
    "            baristas[q] = 1\n",
    "            q = q + 1 \n",
    "        if len(time_of_process) == cust:\n",
    "            break\n",
    "        if sum(baristas) == num_baristas:\n",
    "            print('All the baristas are busy :(')\n",
    "            print('You have to wait an additional %i minutes until they can start making your coffee' %(min(time_of_process)))\n",
    "            waiting_time = min(time_of_process)+random_drink_one_cust()+ordering_time\n",
    "            baristas[num_baristas-1] = 0\n",
    "            time_of_process.append(waiting_time)\n",
    "            q = q-1\n",
    "        if len(time_of_process) == cust:\n",
    "            break\n",
    "    print('The waiting time for each customer is:')\n",
    "    print(time_of_process)\n",
    "    return time_of_process"
   ]
  },
  {
   "cell_type": "code",
   "execution_count": 15,
   "id": "c2204f45-c437-4d2a-954e-c63c3dc14d65",
   "metadata": {},
   "outputs": [
    {
     "name": "stdout",
     "output_type": "stream",
     "text": [
      "Customer number 0 is ordering\n",
      "There is at least one free baristas! :)\n",
      "Ordering the coffee\n",
      "\n",
      "Ordering coffee Tazo® Bottled Black with Lemon\n",
      "Waiting for your coffee\n",
      "\n",
      "Coffee is brewing... \n",
      "\n",
      "Coffee is brewing... \n",
      "\n",
      "Coffee is brewing... \n",
      "\n",
      "Coffee is brewing... \n",
      "\n",
      "Coffee is brewing... \n",
      "\n",
      "Coffee is brewing... \n",
      "\n",
      "Your coffee is ready! \n",
      "\n",
      "Leaving\n",
      "\n",
      "Waiting time is = 3.50\n",
      "Customer number 1 is ordering\n",
      "There is at least one free baristas! :)\n",
      "Ordering the coffee\n",
      "\n",
      "Ordering coffee Tazo® Bottled Black with Lemon\n",
      "Waiting for your coffee\n",
      "\n",
      "Coffee is brewing... \n",
      "\n",
      "Coffee is brewing... \n",
      "\n",
      "Coffee is brewing... \n",
      "\n",
      "Coffee is brewing... \n",
      "\n",
      "Coffee is brewing... \n",
      "\n",
      "Coffee is brewing... \n",
      "\n",
      "Your coffee is ready! \n",
      "\n",
      "Leaving\n",
      "\n",
      "Waiting time is = 3.50\n",
      "All the baristas are busy :(\n",
      "You have to wait an additional 4 minutes until they can start making your coffee\n",
      "Ordering the coffee\n",
      "\n",
      "Ordering coffee White Chocolate Mocha\n",
      "Waiting for your coffee\n",
      "\n",
      "Coffee is brewing... \n",
      "\n",
      "Coffee is brewing... \n",
      "\n",
      "Coffee is brewing... \n",
      "\n",
      "Coffee is brewing... \n",
      "\n",
      "Coffee is brewing... \n",
      "\n",
      "Coffee is brewing... \n",
      "\n",
      "Coffee is brewing... \n",
      "\n",
      "Coffee is brewing... \n",
      "\n",
      "Your coffee is ready! \n",
      "\n",
      "Leaving\n",
      "\n",
      "Waiting time is = 4.50\n",
      "Customer number 2 is ordering\n",
      "There is at least one free baristas! :)\n",
      "Ordering the coffee\n",
      "\n",
      "Ordering coffee Starbucks Doubleshot® Energy Vanilla Drink\n",
      "Waiting for your coffee\n",
      "\n",
      "Coffee is brewing... \n",
      "\n",
      "Coffee is brewing... \n",
      "\n",
      "Coffee is brewing... \n",
      "\n",
      "Coffee is brewing... \n",
      "\n",
      "Coffee is brewing... \n",
      "\n",
      "Coffee is brewing... \n",
      "\n",
      "Coffee is brewing... \n",
      "\n",
      "Coffee is brewing... \n",
      "\n",
      "Your coffee is ready! \n",
      "\n",
      "Leaving\n",
      "\n",
      "Waiting time is = 4.50\n",
      "The waiting time for each customer is:\n",
      "[4.0, 4.5, 9.5, 6.0]\n"
     ]
    },
    {
     "data": {
      "text/plain": [
       "[4.0, 4.5, 9.5, 6.0]"
      ]
     },
     "execution_count": 15,
     "metadata": {},
     "output_type": "execute_result"
    }
   ],
   "source": [
    "random_drink_multiple_cust(4,2)"
   ]
  },
  {
   "cell_type": "code",
   "execution_count": null,
   "id": "d81a779b-cf2a-4e05-87b1-0b67f842ed73",
   "metadata": {},
   "outputs": [],
   "source": []
  }
 ],
 "metadata": {
  "kernelspec": {
   "display_name": "Python [conda env:575]",
   "language": "python",
   "name": "conda-env-575-py"
  },
  "language_info": {
   "codemirror_mode": {
    "name": "ipython",
    "version": 3
   },
   "file_extension": ".py",
   "mimetype": "text/x-python",
   "name": "python",
   "nbconvert_exporter": "python",
   "pygments_lexer": "ipython3",
   "version": "3.10.4"
  }
 },
 "nbformat": 4,
 "nbformat_minor": 5
}
