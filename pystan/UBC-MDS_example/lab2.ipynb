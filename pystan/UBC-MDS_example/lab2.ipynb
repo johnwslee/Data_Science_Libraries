{
 "cells": [
  {
   "cell_type": "markdown",
   "id": "df452177-04bd-4104-b578-25b7fda7b74d",
   "metadata": {},
   "source": [
    "# Imports"
   ]
  },
  {
   "cell_type": "code",
   "execution_count": 1,
   "id": "f026c3a5-98e5-4df5-b20f-ccbfee44733c",
   "metadata": {},
   "outputs": [],
   "source": [
    "import pandas as pd\n",
    "import numpy as np\n",
    "import matplotlib.pyplot as plt\n",
    "\n",
    "import pystan\n",
    "\n",
    "from scipy.stats import beta"
   ]
  },
  {
   "cell_type": "markdown",
   "id": "ae88e6f5-c38f-4dd0-b161-cd3236c72520",
   "metadata": {},
   "source": [
    "# Exercise 1: Rocket Data"
   ]
  },
  {
   "cell_type": "code",
   "execution_count": 2,
   "id": "6f2d403f-9afe-4bb2-89a1-05a46ed2d53f",
   "metadata": {},
   "outputs": [
    {
     "data": {
      "text/html": [
       "<div>\n",
       "<style scoped>\n",
       "    .dataframe tbody tr th:only-of-type {\n",
       "        vertical-align: middle;\n",
       "    }\n",
       "\n",
       "    .dataframe tbody tr th {\n",
       "        vertical-align: top;\n",
       "    }\n",
       "\n",
       "    .dataframe thead th {\n",
       "        text-align: right;\n",
       "    }\n",
       "</style>\n",
       "<table border=\"1\" class=\"dataframe\">\n",
       "  <thead>\n",
       "    <tr style=\"text-align: right;\">\n",
       "      <th></th>\n",
       "      <th>LV.Type</th>\n",
       "      <th>numberOfLaunches</th>\n",
       "      <th>numberOfFailures</th>\n",
       "    </tr>\n",
       "  </thead>\n",
       "  <tbody>\n",
       "    <tr>\n",
       "      <th>0</th>\n",
       "      <td>Aerobee</td>\n",
       "      <td>1</td>\n",
       "      <td>0</td>\n",
       "    </tr>\n",
       "    <tr>\n",
       "      <th>1</th>\n",
       "      <td>Angara A5</td>\n",
       "      <td>1</td>\n",
       "      <td>0</td>\n",
       "    </tr>\n",
       "    <tr>\n",
       "      <th>2</th>\n",
       "      <td>Antares 110</td>\n",
       "      <td>2</td>\n",
       "      <td>0</td>\n",
       "    </tr>\n",
       "    <tr>\n",
       "      <th>3</th>\n",
       "      <td>Antares 120</td>\n",
       "      <td>2</td>\n",
       "      <td>0</td>\n",
       "    </tr>\n",
       "    <tr>\n",
       "      <th>4</th>\n",
       "      <td>Antares 130</td>\n",
       "      <td>1</td>\n",
       "      <td>1</td>\n",
       "    </tr>\n",
       "    <tr>\n",
       "      <th>...</th>\n",
       "      <td>...</td>\n",
       "      <td>...</td>\n",
       "      <td>...</td>\n",
       "    </tr>\n",
       "    <tr>\n",
       "      <th>362</th>\n",
       "      <td>Zenit-2M</td>\n",
       "      <td>1</td>\n",
       "      <td>0</td>\n",
       "    </tr>\n",
       "    <tr>\n",
       "      <th>363</th>\n",
       "      <td>Zenit-2SB</td>\n",
       "      <td>1</td>\n",
       "      <td>0</td>\n",
       "    </tr>\n",
       "    <tr>\n",
       "      <th>364</th>\n",
       "      <td>Zenit-3SL</td>\n",
       "      <td>36</td>\n",
       "      <td>3</td>\n",
       "    </tr>\n",
       "    <tr>\n",
       "      <th>365</th>\n",
       "      <td>Zenit-3SLB</td>\n",
       "      <td>6</td>\n",
       "      <td>0</td>\n",
       "    </tr>\n",
       "    <tr>\n",
       "      <th>366</th>\n",
       "      <td>Zenit-3SLBF</td>\n",
       "      <td>3</td>\n",
       "      <td>0</td>\n",
       "    </tr>\n",
       "  </tbody>\n",
       "</table>\n",
       "<p>367 rows × 3 columns</p>\n",
       "</div>"
      ],
      "text/plain": [
       "         LV.Type  numberOfLaunches  numberOfFailures\n",
       "0        Aerobee                 1                 0\n",
       "1      Angara A5                 1                 0\n",
       "2    Antares 110                 2                 0\n",
       "3    Antares 120                 2                 0\n",
       "4    Antares 130                 1                 1\n",
       "..           ...               ...               ...\n",
       "362     Zenit-2M                 1                 0\n",
       "363    Zenit-2SB                 1                 0\n",
       "364    Zenit-3SL                36                 3\n",
       "365   Zenit-3SLB                 6                 0\n",
       "366  Zenit-3SLBF                 3                 0\n",
       "\n",
       "[367 rows x 3 columns]"
      ]
     },
     "execution_count": 2,
     "metadata": {},
     "output_type": "execute_result"
    }
   ],
   "source": [
    "rockets = pd.read_csv(\"data/failure_counts.csv\")\n",
    "rockets"
   ]
  },
  {
   "cell_type": "markdown",
   "id": "4ed42563-7eba-42db-9e8f-f7e1f1f0d618",
   "metadata": {},
   "source": [
    "### Pystan model setup"
   ]
  },
  {
   "cell_type": "code",
   "execution_count": 3,
   "id": "139c908a-5ebd-41eb-85d4-396930628048",
   "metadata": {},
   "outputs": [],
   "source": [
    "model = \"\"\"\n",
    "data {\n",
    "    int<lower=0> n;  // number of trials (launches) in a Binomial distribution with lower bound 0\n",
    "    int<lower=0> X;  // number of successes in a Binomial distribution with lower bound 0\n",
    "    real<lower=0> a; // parameter a for a Beta distribution with lower bound 0\n",
    "    real<lower=0> b; // parameter b for a Beta distribution with lower bound 0\n",
    "}\n",
    "parameters {\n",
    "    real <lower=0,upper=1> p; // probability of success in a Binomial distribution with lower and upper bounds, 0 and 1\n",
    "}\n",
    "model {\n",
    "    p ~ beta(a,b);\n",
    "    X ~ binomial(n,p);\n",
    "}\n",
    "\"\"\""
   ]
  },
  {
   "cell_type": "markdown",
   "id": "114a5b94-b613-4c81-99d5-cd158f9199b2",
   "metadata": {},
   "source": [
    "### Sampling"
   ]
  },
  {
   "cell_type": "code",
   "execution_count": 4,
   "id": "ac34dc16-3f9c-46ba-82a3-49478e394df1",
   "metadata": {},
   "outputs": [
    {
     "name": "stderr",
     "output_type": "stream",
     "text": [
      "INFO:pystan:COMPILING THE C++ CODE FOR MODEL anon_model_2dfdc360ff21a08b0fd577cfd94fbfce NOW.\n"
     ]
    }
   ],
   "source": [
    "# Put data in a dictionary\n",
    "data = {'n': 20, 'X': 10, 'a': 1, 'b': 1}\n",
    "\n",
    "# Compile the model\n",
    "sm = pystan.StanModel(model_code=model)\n",
    "\n",
    "# Train the model and generate samples\n",
    "fit = sm.sampling(data=data, iter=10000, chains=1, warmup=1000, thin=5, seed=553)"
   ]
  },
  {
   "cell_type": "code",
   "execution_count": 5,
   "id": "d6aad409-b880-4b6b-84bf-10f75742b848",
   "metadata": {},
   "outputs": [
    {
     "data": {
      "text/plain": [
       "Inference for Stan model: anon_model_2dfdc360ff21a08b0fd577cfd94fbfce.\n",
       "1 chains, each with iter=10000; warmup=1000; thin=5; \n",
       "post-warmup draws per chain=1800, total post-warmup draws=1800.\n",
       "\n",
       "       mean se_mean     sd   2.5%    25%    50%    75%  97.5%  n_eff   Rhat\n",
       "p       0.5  2.8e-3   0.11   0.29   0.43    0.5   0.57   0.69   1453    1.0\n",
       "lp__ -15.77    0.02   0.72 -17.95 -15.95 -15.48  -15.3 -15.25   1665    1.0\n",
       "\n",
       "Samples were drawn using NUTS at Tue Sep 13 17:48:59 2022.\n",
       "For each parameter, n_eff is a crude measure of effective sample size,\n",
       "and Rhat is the potential scale reduction factor on split chains (at \n",
       "convergence, Rhat=1)."
      ]
     },
     "execution_count": 5,
     "metadata": {},
     "output_type": "execute_result"
    }
   ],
   "source": [
    "fit"
   ]
  },
  {
   "cell_type": "code",
   "execution_count": 6,
   "id": "9ff2c058-9e71-4ed4-a791-77e10a7c1f16",
   "metadata": {},
   "outputs": [
    {
     "data": {
      "text/html": [
       "<div>\n",
       "<style scoped>\n",
       "    .dataframe tbody tr th:only-of-type {\n",
       "        vertical-align: middle;\n",
       "    }\n",
       "\n",
       "    .dataframe tbody tr th {\n",
       "        vertical-align: top;\n",
       "    }\n",
       "\n",
       "    .dataframe thead th {\n",
       "        text-align: right;\n",
       "    }\n",
       "</style>\n",
       "<table border=\"1\" class=\"dataframe\">\n",
       "  <thead>\n",
       "    <tr style=\"text-align: right;\">\n",
       "      <th></th>\n",
       "      <th>p</th>\n",
       "      <th>lp__</th>\n",
       "    </tr>\n",
       "  </thead>\n",
       "  <tbody>\n",
       "    <tr>\n",
       "      <th>0</th>\n",
       "      <td>0.430306</td>\n",
       "      <td>-15.465059</td>\n",
       "    </tr>\n",
       "    <tr>\n",
       "      <th>1</th>\n",
       "      <td>0.458744</td>\n",
       "      <td>-15.324385</td>\n",
       "    </tr>\n",
       "    <tr>\n",
       "      <th>2</th>\n",
       "      <td>0.451962</td>\n",
       "      <td>-15.351244</td>\n",
       "    </tr>\n",
       "    <tr>\n",
       "      <th>3</th>\n",
       "      <td>0.403497</td>\n",
       "      <td>-15.666832</td>\n",
       "    </tr>\n",
       "    <tr>\n",
       "      <th>4</th>\n",
       "      <td>0.557686</td>\n",
       "      <td>-15.396638</td>\n",
       "    </tr>\n",
       "    <tr>\n",
       "      <th>...</th>\n",
       "      <td>...</td>\n",
       "      <td>...</td>\n",
       "    </tr>\n",
       "    <tr>\n",
       "      <th>1795</th>\n",
       "      <td>0.314243</td>\n",
       "      <td>-16.883018</td>\n",
       "    </tr>\n",
       "    <tr>\n",
       "      <th>1796</th>\n",
       "      <td>0.471832</td>\n",
       "      <td>-15.284206</td>\n",
       "    </tr>\n",
       "    <tr>\n",
       "      <th>1797</th>\n",
       "      <td>0.419690</td>\n",
       "      <td>-15.536747</td>\n",
       "    </tr>\n",
       "    <tr>\n",
       "      <th>1798</th>\n",
       "      <td>0.354654</td>\n",
       "      <td>-16.220393</td>\n",
       "    </tr>\n",
       "    <tr>\n",
       "      <th>1799</th>\n",
       "      <td>0.361032</td>\n",
       "      <td>-16.133587</td>\n",
       "    </tr>\n",
       "  </tbody>\n",
       "</table>\n",
       "<p>1800 rows × 2 columns</p>\n",
       "</div>"
      ],
      "text/plain": [
       "             p       lp__\n",
       "0     0.430306 -15.465059\n",
       "1     0.458744 -15.324385\n",
       "2     0.451962 -15.351244\n",
       "3     0.403497 -15.666832\n",
       "4     0.557686 -15.396638\n",
       "...        ...        ...\n",
       "1795  0.314243 -16.883018\n",
       "1796  0.471832 -15.284206\n",
       "1797  0.419690 -15.536747\n",
       "1798  0.354654 -16.220393\n",
       "1799  0.361032 -16.133587\n",
       "\n",
       "[1800 rows x 2 columns]"
      ]
     },
     "execution_count": 6,
     "metadata": {},
     "output_type": "execute_result"
    }
   ],
   "source": [
    "posterior_rockets = pd.DataFrame({\"p\": fit['p'], \"lp__\": fit['lp__']})\n",
    "posterior_rockets"
   ]
  },
  {
   "cell_type": "markdown",
   "id": "aaf140dc-1009-48e9-8298-2213276ae4db",
   "metadata": {},
   "source": [
    "### Q1.1: Visualize the Posterior Distribution of $p$ for a \"Made-Up Rocket\" using $\\text{Beta}(a = 1, b = 1)$ Prior"
   ]
  },
  {
   "cell_type": "code",
   "execution_count": 7,
   "id": "e1772bbd-1c11-45b2-bae7-1fa7c129fe43",
   "metadata": {},
   "outputs": [
    {
     "data": {
      "image/png": "[encoded data removed]",
      "text/plain": [
       "<Figure size 800x600 with 1 Axes>"
      ]
     },
     "metadata": {},
     "output_type": "display_data"
    }
   ],
   "source": [
    "plt.figure(figsize=(8, 6))\n",
    "plt.hist(posterior_rockets[\"p\"], density=True, bins=50)\n",
    "plt.title(\"Posterior Distribution of p for Made-Up Rocket\")\n",
    "plt.xlabel('Probability, p')\n",
    "plt.ylabel('Density, f(p)')\n",
    "plt.xlim(0, 1)\n",
    "plt.show();"
   ]
  },
  {
   "cell_type": "markdown",
   "id": "0810dd6d-3082-4a34-89a2-03a59769e567",
   "metadata": {},
   "source": [
    "### Q1.2: Sample from the Posterior Distribution of $p$ for `Zenit-3SL`"
   ]
  },
  {
   "cell_type": "code",
   "execution_count": 8,
   "id": "58a4f58e-6532-42ff-bd84-d1277bd202a2",
   "metadata": {},
   "outputs": [
    {
     "data": {
      "text/html": [
       "<div>\n",
       "<style scoped>\n",
       "    .dataframe tbody tr th:only-of-type {\n",
       "        vertical-align: middle;\n",
       "    }\n",
       "\n",
       "    .dataframe tbody tr th {\n",
       "        vertical-align: top;\n",
       "    }\n",
       "\n",
       "    .dataframe thead th {\n",
       "        text-align: right;\n",
       "    }\n",
       "</style>\n",
       "<table border=\"1\" class=\"dataframe\">\n",
       "  <thead>\n",
       "    <tr style=\"text-align: right;\">\n",
       "      <th></th>\n",
       "      <th>LV.Type</th>\n",
       "      <th>numberOfLaunches</th>\n",
       "      <th>numberOfFailures</th>\n",
       "    </tr>\n",
       "  </thead>\n",
       "  <tbody>\n",
       "    <tr>\n",
       "      <th>364</th>\n",
       "      <td>Zenit-3SL</td>\n",
       "      <td>36</td>\n",
       "      <td>3</td>\n",
       "    </tr>\n",
       "  </tbody>\n",
       "</table>\n",
       "</div>"
      ],
      "text/plain": [
       "       LV.Type  numberOfLaunches  numberOfFailures\n",
       "364  Zenit-3SL                36                 3"
      ]
     },
     "execution_count": 8,
     "metadata": {},
     "output_type": "execute_result"
    }
   ],
   "source": [
    "Zenit_3SL_observed_data = rockets[rockets[\"LV.Type\"] == 'Zenit-3SL']\n",
    "Zenit_3SL_observed_data"
   ]
  },
  {
   "cell_type": "code",
   "execution_count": 9,
   "id": "fb6163cf-7f5e-4643-ad70-bde25a03faa4",
   "metadata": {},
   "outputs": [],
   "source": [
    "data_Zenit_3SL = {\n",
    "    'n': Zenit_3SL_observed_data[\"numberOfLaunches\"].values[0],\n",
    "    'X': Zenit_3SL_observed_data[\"numberOfLaunches\"].values[0] - Zenit_3SL_observed_data[\"numberOfFailures\"].values[0],\n",
    "    'a': 1,\n",
    "    'b': 1\n",
    "}\n",
    "\n",
    "fit_Zenit_3SL = sm.sampling(data=data_Zenit_3SL, iter=10000, chains=1, warmup=1000, thin=5, seed=553)"
   ]
  },
  {
   "cell_type": "code",
   "execution_count": 10,
   "id": "4fddca19-2297-48e2-80e6-24530b86c162",
   "metadata": {},
   "outputs": [
    {
     "data": {
      "text/plain": [
       "Inference for Stan model: anon_model_2dfdc360ff21a08b0fd577cfd94fbfce.\n",
       "1 chains, each with iter=10000; warmup=1000; thin=5; \n",
       "post-warmup draws per chain=1800, total post-warmup draws=1800.\n",
       "\n",
       "       mean se_mean     sd   2.5%    25%    50%    75%  97.5%  n_eff   Rhat\n",
       "p       0.9  1.2e-3   0.05   0.79   0.87    0.9   0.93   0.97   1620    1.0\n",
       "lp__ -13.29    0.02    0.7  -15.2 -13.45 -13.02 -12.84 -12.79   1677    1.0\n",
       "\n",
       "Samples were drawn using NUTS at Tue Sep 13 17:49:00 2022.\n",
       "For each parameter, n_eff is a crude measure of effective sample size,\n",
       "and Rhat is the potential scale reduction factor on split chains (at \n",
       "convergence, Rhat=1)."
      ]
     },
     "execution_count": 10,
     "metadata": {},
     "output_type": "execute_result"
    }
   ],
   "source": [
    "fit_Zenit_3SL"
   ]
  },
  {
   "cell_type": "code",
   "execution_count": 11,
   "id": "f9f9bb5b-769a-43c4-ae8f-d6a870b29865",
   "metadata": {},
   "outputs": [
    {
     "data": {
      "text/html": [
       "<div>\n",
       "<style scoped>\n",
       "    .dataframe tbody tr th:only-of-type {\n",
       "        vertical-align: middle;\n",
       "    }\n",
       "\n",
       "    .dataframe tbody tr th {\n",
       "        vertical-align: top;\n",
       "    }\n",
       "\n",
       "    .dataframe thead th {\n",
       "        text-align: right;\n",
       "    }\n",
       "</style>\n",
       "<table border=\"1\" class=\"dataframe\">\n",
       "  <thead>\n",
       "    <tr style=\"text-align: right;\">\n",
       "      <th></th>\n",
       "      <th>p</th>\n",
       "      <th>lp__</th>\n",
       "    </tr>\n",
       "  </thead>\n",
       "  <tbody>\n",
       "    <tr>\n",
       "      <th>0</th>\n",
       "      <td>0.939479</td>\n",
       "      <td>-13.341675</td>\n",
       "    </tr>\n",
       "    <tr>\n",
       "      <th>1</th>\n",
       "      <td>0.993049</td>\n",
       "      <td>-20.112824</td>\n",
       "    </tr>\n",
       "    <tr>\n",
       "      <th>2</th>\n",
       "      <td>0.871149</td>\n",
       "      <td>-12.886427</td>\n",
       "    </tr>\n",
       "    <tr>\n",
       "      <th>3</th>\n",
       "      <td>0.876490</td>\n",
       "      <td>-12.847953</td>\n",
       "    </tr>\n",
       "    <tr>\n",
       "      <th>4</th>\n",
       "      <td>0.950542</td>\n",
       "      <td>-13.751115</td>\n",
       "    </tr>\n",
       "    <tr>\n",
       "      <th>...</th>\n",
       "      <td>...</td>\n",
       "      <td>...</td>\n",
       "    </tr>\n",
       "    <tr>\n",
       "      <th>1795</th>\n",
       "      <td>0.876741</td>\n",
       "      <td>-12.846354</td>\n",
       "    </tr>\n",
       "    <tr>\n",
       "      <th>1796</th>\n",
       "      <td>0.861386</td>\n",
       "      <td>-12.977479</td>\n",
       "    </tr>\n",
       "    <tr>\n",
       "      <th>1797</th>\n",
       "      <td>0.773670</td>\n",
       "      <td>-14.667775</td>\n",
       "    </tr>\n",
       "    <tr>\n",
       "      <th>1798</th>\n",
       "      <td>0.814203</td>\n",
       "      <td>-13.720944</td>\n",
       "    </tr>\n",
       "    <tr>\n",
       "      <th>1799</th>\n",
       "      <td>0.934526</td>\n",
       "      <td>-13.206735</td>\n",
       "    </tr>\n",
       "  </tbody>\n",
       "</table>\n",
       "<p>1800 rows × 2 columns</p>\n",
       "</div>"
      ],
      "text/plain": [
       "             p       lp__\n",
       "0     0.939479 -13.341675\n",
       "1     0.993049 -20.112824\n",
       "2     0.871149 -12.886427\n",
       "3     0.876490 -12.847953\n",
       "4     0.950542 -13.751115\n",
       "...        ...        ...\n",
       "1795  0.876741 -12.846354\n",
       "1796  0.861386 -12.977479\n",
       "1797  0.773670 -14.667775\n",
       "1798  0.814203 -13.720944\n",
       "1799  0.934526 -13.206735\n",
       "\n",
       "[1800 rows x 2 columns]"
      ]
     },
     "execution_count": 11,
     "metadata": {},
     "output_type": "execute_result"
    }
   ],
   "source": [
    "posterior_Zenit_3SL = pd.DataFrame({\"p\": fit_Zenit_3SL['p'], \"lp__\": fit_Zenit_3SL['lp__']})\n",
    "posterior_Zenit_3SL"
   ]
  },
  {
   "cell_type": "markdown",
   "id": "8fd13f35-7fbd-48ce-8e9b-8a9e44356fa8",
   "metadata": {},
   "source": [
    "### Q1.3: Visualize from the Posterior Distribution of $p$ for Zenit-3SL using $\\text{Beta}(a = 1, b = 1)$ Prior"
   ]
  },
  {
   "cell_type": "code",
   "execution_count": 12,
   "id": "9355ac72-cf77-40e4-8914-8a9068ab80a7",
   "metadata": {},
   "outputs": [
    {
     "data": {
      "image/png": "[encoded data removed]",
      "text/plain": [
       "<Figure size 800x600 with 1 Axes>"
      ]
     },
     "metadata": {},
     "output_type": "display_data"
    }
   ],
   "source": [
    "plt.figure(figsize=(8, 6))\n",
    "plt.hist(posterior_Zenit_3SL[\"p\"], density=True, bins=50)\n",
    "plt.title(\"Posterior Distribution of p for Zenit-3SL with Beta(1, 1)\")\n",
    "plt.xlabel('Probability, p')\n",
    "plt.ylabel('Density, f(p)')\n",
    "plt.xlim(0, 1)\n",
    "plt.show();"
   ]
  },
  {
   "cell_type": "markdown",
   "id": "db1e7a55-d26e-4a64-a4b7-3a7ba08b1117",
   "metadata": {},
   "source": [
    "### Q1.4: Summary Statistics for the Posterior Samples of Zenit-3SL using $\\text{Beta}(a = 1, b = 1)$ Prior"
   ]
  },
  {
   "cell_type": "code",
   "execution_count": 13,
   "id": "8bae5fa2-7666-4045-9811-7232ce2dd687",
   "metadata": {},
   "outputs": [
    {
     "data": {
      "text/plain": [
       "0.8960425791271323"
      ]
     },
     "execution_count": 13,
     "metadata": {},
     "output_type": "execute_result"
    }
   ],
   "source": [
    "np.mean(posterior_Zenit_3SL[\"p\"])"
   ]
  },
  {
   "cell_type": "code",
   "execution_count": 14,
   "id": "d70f66a0-6e2b-4573-9f68-ca66b15ed7f1",
   "metadata": {},
   "outputs": [
    {
     "data": {
      "text/plain": [
       "0.9020735909165447"
      ]
     },
     "execution_count": 14,
     "metadata": {},
     "output_type": "execute_result"
    }
   ],
   "source": [
    "np.median(posterior_Zenit_3SL[\"p\"])"
   ]
  },
  {
   "cell_type": "code",
   "execution_count": 15,
   "id": "4e602300-0f5b-461a-96a2-1c190c1257c4",
   "metadata": {},
   "outputs": [
    {
     "data": {
      "text/plain": [
       "0.002264274575818576"
      ]
     },
     "execution_count": 15,
     "metadata": {},
     "output_type": "execute_result"
    }
   ],
   "source": [
    "np.var(posterior_Zenit_3SL[\"p\"])"
   ]
  },
  {
   "cell_type": "code",
   "execution_count": 16,
   "id": "9dd168fe-a4d6-43d4-9b03-da67ceb02300",
   "metadata": {},
   "outputs": [
    {
     "name": "stdout",
     "output_type": "stream",
     "text": [
      "Inference for Stan model: anon_model_2dfdc360ff21a08b0fd577cfd94fbfce.\n",
      "1 chains, each with iter=10000; warmup=1000; thin=5; \n",
      "post-warmup draws per chain=1800, total post-warmup draws=1800.\n",
      "\n",
      "       mean se_mean     sd     5%    95%  n_eff   Rhat\n",
      "p       0.9  1.2e-3   0.05   0.81   0.96   1620    1.0\n",
      "lp__ -13.29    0.02    0.7  -14.7 -12.79   1677    1.0\n",
      "\n",
      "Samples were drawn using NUTS at Tue Sep 13 17:49:00 2022.\n",
      "For each parameter, n_eff is a crude measure of effective sample size,\n",
      "and Rhat is the potential scale reduction factor on split chains (at \n",
      "convergence, Rhat=1).\n"
     ]
    }
   ],
   "source": [
    "percentiles = (0.05, 0.95)\n",
    "print(pystan.stansummary(fit=fit_Zenit_3SL, probs=percentiles))"
   ]
  },
  {
   "cell_type": "markdown",
   "id": "2389c7b1-f227-4f93-afbd-46a1fcd26a5c",
   "metadata": {},
   "source": [
    "# Exercise 2: Rocket Data (Revisited)"
   ]
  },
  {
   "cell_type": "code",
   "execution_count": 17,
   "id": "8c7a629d-607d-4599-8f3c-cc6be0607b72",
   "metadata": {},
   "outputs": [
    {
     "data": {
      "text/html": [
       "<div>\n",
       "<style scoped>\n",
       "    .dataframe tbody tr th:only-of-type {\n",
       "        vertical-align: middle;\n",
       "    }\n",
       "\n",
       "    .dataframe tbody tr th {\n",
       "        vertical-align: top;\n",
       "    }\n",
       "\n",
       "    .dataframe thead th {\n",
       "        text-align: right;\n",
       "    }\n",
       "</style>\n",
       "<table border=\"1\" class=\"dataframe\">\n",
       "  <thead>\n",
       "    <tr style=\"text-align: right;\">\n",
       "      <th></th>\n",
       "      <th>LV.Type</th>\n",
       "      <th>numberOfLaunches</th>\n",
       "      <th>numberOfFailures</th>\n",
       "    </tr>\n",
       "  </thead>\n",
       "  <tbody>\n",
       "    <tr>\n",
       "      <th>364</th>\n",
       "      <td>Zenit-3SL</td>\n",
       "      <td>36</td>\n",
       "      <td>3</td>\n",
       "    </tr>\n",
       "  </tbody>\n",
       "</table>\n",
       "</div>"
      ],
      "text/plain": [
       "       LV.Type  numberOfLaunches  numberOfFailures\n",
       "364  Zenit-3SL                36                 3"
      ]
     },
     "execution_count": 17,
     "metadata": {},
     "output_type": "execute_result"
    }
   ],
   "source": [
    "Zenit_3SL_observed_data"
   ]
  },
  {
   "cell_type": "markdown",
   "id": "fca76bce-ba23-40a1-ac40-47f1d0074eab",
   "metadata": {},
   "source": [
    "### Q2.1: Plotting the Beta Distribution"
   ]
  },
  {
   "cell_type": "code",
   "execution_count": 18,
   "id": "98c2ed2d-8a7e-458a-a746-3996192268d0",
   "metadata": {},
   "outputs": [
    {
     "data": {
      "image/png": "[encoded data removed]",
      "text/plain": [
       "<Figure size 640x480 with 1 Axes>"
      ]
     },
     "metadata": {},
     "output_type": "display_data"
    }
   ],
   "source": [
    "a, b = 1, 10\n",
    "x = np.linspace(0, 1)\n",
    "rv = beta(a, b)\n",
    "plt.plot(x, rv.pdf(x))\n",
    "plt.title(\"PDF of Beta(a=1, b=10)\")\n",
    "plt.xlabel(\"Probability, p\")\n",
    "plt.ylabel(\"Density, f(p)\")\n",
    "plt.xlim(0, 1)\n",
    "plt.show();"
   ]
  },
  {
   "cell_type": "markdown",
   "id": "03a04ab7-74d8-40ac-955f-24bd0569915c",
   "metadata": {},
   "source": [
    "### Q2.2: Rerunning the Bayesian Simulation"
   ]
  },
  {
   "cell_type": "code",
   "execution_count": 19,
   "id": "8e309810-a5f3-4233-8f45-bc0271b4f033",
   "metadata": {},
   "outputs": [],
   "source": [
    "data_Zenit_3SL_2 = {\n",
    "    'n': Zenit_3SL_observed_data[\"numberOfLaunches\"].values[0],\n",
    "    'X': Zenit_3SL_observed_data[\"numberOfLaunches\"].values[0] - Zenit_3SL_observed_data[\"numberOfFailures\"].values[0],\n",
    "    'a': 1,\n",
    "    'b': 10\n",
    "}\n",
    "\n",
    "fit_Zenit_3SL_2 = sm.sampling(data=data_Zenit_3SL_2, iter=10000, chains=1, warmup=1000, thin=5, seed=553)"
   ]
  },
  {
   "cell_type": "code",
   "execution_count": 20,
   "id": "fc6b99a5-d74f-4961-872e-33319004e0d9",
   "metadata": {},
   "outputs": [
    {
     "data": {
      "text/html": [
       "<div>\n",
       "<style scoped>\n",
       "    .dataframe tbody tr th:only-of-type {\n",
       "        vertical-align: middle;\n",
       "    }\n",
       "\n",
       "    .dataframe tbody tr th {\n",
       "        vertical-align: top;\n",
       "    }\n",
       "\n",
       "    .dataframe thead th {\n",
       "        text-align: right;\n",
       "    }\n",
       "</style>\n",
       "<table border=\"1\" class=\"dataframe\">\n",
       "  <thead>\n",
       "    <tr style=\"text-align: right;\">\n",
       "      <th></th>\n",
       "      <th>p</th>\n",
       "      <th>lp__</th>\n",
       "    </tr>\n",
       "  </thead>\n",
       "  <tbody>\n",
       "    <tr>\n",
       "      <th>0</th>\n",
       "      <td>0.665669</td>\n",
       "      <td>-28.079844</td>\n",
       "    </tr>\n",
       "    <tr>\n",
       "      <th>1</th>\n",
       "      <td>0.652306</td>\n",
       "      <td>-28.259829</td>\n",
       "    </tr>\n",
       "    <tr>\n",
       "      <th>2</th>\n",
       "      <td>0.746125</td>\n",
       "      <td>-27.779187</td>\n",
       "    </tr>\n",
       "    <tr>\n",
       "      <th>3</th>\n",
       "      <td>0.739036</td>\n",
       "      <td>-27.745742</td>\n",
       "    </tr>\n",
       "    <tr>\n",
       "      <th>4</th>\n",
       "      <td>0.706726</td>\n",
       "      <td>-27.748238</td>\n",
       "    </tr>\n",
       "    <tr>\n",
       "      <th>...</th>\n",
       "      <td>...</td>\n",
       "      <td>...</td>\n",
       "    </tr>\n",
       "    <tr>\n",
       "      <th>1795</th>\n",
       "      <td>0.774014</td>\n",
       "      <td>-28.044285</td>\n",
       "    </tr>\n",
       "    <tr>\n",
       "      <th>1796</th>\n",
       "      <td>0.802457</td>\n",
       "      <td>-28.566010</td>\n",
       "    </tr>\n",
       "    <tr>\n",
       "      <th>1797</th>\n",
       "      <td>0.678314</td>\n",
       "      <td>-27.941258</td>\n",
       "    </tr>\n",
       "    <tr>\n",
       "      <th>1798</th>\n",
       "      <td>0.568247</td>\n",
       "      <td>-30.135477</td>\n",
       "    </tr>\n",
       "    <tr>\n",
       "      <th>1799</th>\n",
       "      <td>0.843929</td>\n",
       "      <td>-29.916112</td>\n",
       "    </tr>\n",
       "  </tbody>\n",
       "</table>\n",
       "<p>1800 rows × 2 columns</p>\n",
       "</div>"
      ],
      "text/plain": [
       "             p       lp__\n",
       "0     0.665669 -28.079844\n",
       "1     0.652306 -28.259829\n",
       "2     0.746125 -27.779187\n",
       "3     0.739036 -27.745742\n",
       "4     0.706726 -27.748238\n",
       "...        ...        ...\n",
       "1795  0.774014 -28.044285\n",
       "1796  0.802457 -28.566010\n",
       "1797  0.678314 -27.941258\n",
       "1798  0.568247 -30.135477\n",
       "1799  0.843929 -29.916112\n",
       "\n",
       "[1800 rows x 2 columns]"
      ]
     },
     "execution_count": 20,
     "metadata": {},
     "output_type": "execute_result"
    }
   ],
   "source": [
    "posterior_Zenit_3SL_2 = pd.DataFrame({\"p\": fit_Zenit_3SL_2['p'], \"lp__\": fit_Zenit_3SL_2['lp__']})\n",
    "posterior_Zenit_3SL_2"
   ]
  },
  {
   "cell_type": "markdown",
   "id": "7ae8a620-c1ef-4c11-a6a2-517e0dcd5492",
   "metadata": {},
   "source": [
    "### Q2.3: Visualize from the Posterior Distribution of $p$ for Zenit-3SL using $\\text{Beta}(a = 1, b = 10)$ Prior"
   ]
  },
  {
   "cell_type": "code",
   "execution_count": 21,
   "id": "c1bc18c4-f773-44ad-be57-03cfe9d3d255",
   "metadata": {},
   "outputs": [
    {
     "data": {
      "image/png": "[encoded data removed]",
      "text/plain": [
       "<Figure size 800x600 with 1 Axes>"
      ]
     },
     "metadata": {},
     "output_type": "display_data"
    }
   ],
   "source": [
    "plt.figure(figsize=(8, 6))\n",
    "plt.hist(posterior_Zenit_3SL_2[\"p\"], density=True, bins=50)\n",
    "plt.title(\"Posterior Distribution of p for Zenit-3SL with Beta(1, 10)\")\n",
    "plt.xlabel('Probability, p')\n",
    "plt.ylabel('Density, f(p)')\n",
    "plt.xlim(0, 1)\n",
    "plt.show();"
   ]
  },
  {
   "cell_type": "markdown",
   "id": "e267cc13-1325-441b-831b-eae84902881f",
   "metadata": {},
   "source": [
    "### Q2.4: Summary Statistics for the Posterior Samples of Zenit-3SL using $\\text{Beta}(a = 1, b = 10)$ Prior"
   ]
  },
  {
   "cell_type": "code",
   "execution_count": 22,
   "id": "0bd4a3c2-3af3-4bee-b8e1-5c0e0e5f5d31",
   "metadata": {},
   "outputs": [
    {
     "data": {
      "text/plain": [
       "0.7226833253314187"
      ]
     },
     "execution_count": 22,
     "metadata": {},
     "output_type": "execute_result"
    }
   ],
   "source": [
    "np.mean(posterior_Zenit_3SL_2[\"p\"])"
   ]
  },
  {
   "cell_type": "code",
   "execution_count": 23,
   "id": "2ce15908-3e9e-4598-a9f0-e55b22e6f5c4",
   "metadata": {},
   "outputs": [
    {
     "data": {
      "text/plain": [
       "0.7257739655840236"
      ]
     },
     "execution_count": 23,
     "metadata": {},
     "output_type": "execute_result"
    }
   ],
   "source": [
    "np.median(posterior_Zenit_3SL_2[\"p\"])"
   ]
  },
  {
   "cell_type": "code",
   "execution_count": 24,
   "id": "591cd83b-dc0b-40f9-aa9e-af91582d6f9c",
   "metadata": {},
   "outputs": [
    {
     "data": {
      "text/plain": [
       "0.004342315576225412"
      ]
     },
     "execution_count": 24,
     "metadata": {},
     "output_type": "execute_result"
    }
   ],
   "source": [
    "np.var(posterior_Zenit_3SL_2[\"p\"])"
   ]
  },
  {
   "cell_type": "code",
   "execution_count": 25,
   "id": "f93157e5-5c2f-428c-988b-328633cf1279",
   "metadata": {},
   "outputs": [
    {
     "name": "stdout",
     "output_type": "stream",
     "text": [
      "Inference for Stan model: anon_model_2dfdc360ff21a08b0fd577cfd94fbfce.\n",
      "1 chains, each with iter=10000; warmup=1000; thin=5; \n",
      "post-warmup draws per chain=1800, total post-warmup draws=1800.\n",
      "\n",
      "       mean se_mean     sd     5%    95%  n_eff   Rhat\n",
      "p      0.72  1.5e-3   0.07   0.61   0.83   1891    1.0\n",
      "lp__ -28.25    0.02   0.72 -29.69 -27.72   1693    1.0\n",
      "\n",
      "Samples were drawn using NUTS at Tue Sep 13 17:49:00 2022.\n",
      "For each parameter, n_eff is a crude measure of effective sample size,\n",
      "and Rhat is the potential scale reduction factor on split chains (at \n",
      "convergence, Rhat=1).\n"
     ]
    }
   ],
   "source": [
    "percentiles = (0.05, 0.95)\n",
    "print(pystan.stansummary(fit=fit_Zenit_3SL_2, probs=percentiles))"
   ]
  },
  {
   "cell_type": "markdown",
   "id": "78abc7c7-4462-4add-a042-f556bacc6037",
   "metadata": {},
   "source": [
    "### Q2.5: Comparing Bayesian Analyses of Priors Beta(a = 1, b = 1) and Beta(a = 1, b = 10)"
   ]
  },
  {
   "cell_type": "code",
   "execution_count": 26,
   "id": "2006bc6c-5782-464d-bf7b-947a1d1ed6a1",
   "metadata": {},
   "outputs": [
    {
     "data": {
      "image/png": "[encoded data removed]",
      "text/plain": [
       "<Figure size 1200x600 with 2 Axes>"
      ]
     },
     "metadata": {},
     "output_type": "display_data"
    }
   ],
   "source": [
    "fig, axs = plt.subplots(1, 2,  figsize=(12, 6))\n",
    "\n",
    "axs[0].hist(posterior_Zenit_3SL[\"p\"], density=True, bins=50)\n",
    "axs[0].set_title(\"Posterior Distribution of p for Zenit-3SL with Beta(1, 1)\", fontsize=10)\n",
    "axs[0].set_xlabel('Probability, p')\n",
    "axs[0].set_ylabel('Density, f(p)')\n",
    "axs[0].set_xlim(0, 1)\n",
    "\n",
    "axs[1].hist(posterior_Zenit_3SL_2[\"p\"], density=True, bins=50)\n",
    "axs[1].set_title(\"Posterior Distribution of p for Zenit-3SL with Beta(1, 10)\", fontsize=10)\n",
    "axs[1].set_xlabel('Probability, p')\n",
    "axs[1].set_ylabel('Density, f(p)')\n",
    "axs[1].set_xlim(0, 1)\n",
    "\n",
    "plt.show();"
   ]
  },
  {
   "cell_type": "markdown",
   "id": "c117233a-cfe4-4d6e-a7c7-c6e3e82dc9a8",
   "metadata": {},
   "source": [
    "### Q2.7: Reducing Observed Data using $\\text{Beta}(a = 1, b = 1)$ Prior"
   ]
  },
  {
   "cell_type": "code",
   "execution_count": 27,
   "id": "8e5bba2f-50ab-4274-9703-cbe9f404192f",
   "metadata": {},
   "outputs": [],
   "source": [
    "data_Zenit_3SL_red = {\n",
    "    'n': int(Zenit_3SL_observed_data[\"numberOfLaunches\"].values[0]/3),\n",
    "    'X': int(Zenit_3SL_observed_data[\"numberOfLaunches\"].values[0]/3 - Zenit_3SL_observed_data[\"numberOfFailures\"].values[0]/3),\n",
    "    'a': 1,\n",
    "    'b': 1\n",
    "}\n",
    "\n",
    "fit_Zenit_3SL_red = sm.sampling(data=data_Zenit_3SL_red, iter=10000, chains=1, warmup=1000, thin=5, seed=553)"
   ]
  },
  {
   "cell_type": "code",
   "execution_count": 28,
   "id": "b941e048-d2d4-4e50-a631-52b69a53f68c",
   "metadata": {},
   "outputs": [
    {
     "data": {
      "text/html": [
       "<div>\n",
       "<style scoped>\n",
       "    .dataframe tbody tr th:only-of-type {\n",
       "        vertical-align: middle;\n",
       "    }\n",
       "\n",
       "    .dataframe tbody tr th {\n",
       "        vertical-align: top;\n",
       "    }\n",
       "\n",
       "    .dataframe thead th {\n",
       "        text-align: right;\n",
       "    }\n",
       "</style>\n",
       "<table border=\"1\" class=\"dataframe\">\n",
       "  <thead>\n",
       "    <tr style=\"text-align: right;\">\n",
       "      <th></th>\n",
       "      <th>p</th>\n",
       "      <th>lp__</th>\n",
       "    </tr>\n",
       "  </thead>\n",
       "  <tbody>\n",
       "    <tr>\n",
       "      <th>0</th>\n",
       "      <td>0.833672</td>\n",
       "      <td>-5.770570</td>\n",
       "    </tr>\n",
       "    <tr>\n",
       "      <th>1</th>\n",
       "      <td>0.850566</td>\n",
       "      <td>-5.744040</td>\n",
       "    </tr>\n",
       "    <tr>\n",
       "      <th>2</th>\n",
       "      <td>0.988970</td>\n",
       "      <td>-9.147298</td>\n",
       "    </tr>\n",
       "    <tr>\n",
       "      <th>3</th>\n",
       "      <td>0.770127</td>\n",
       "      <td>-6.074853</td>\n",
       "    </tr>\n",
       "    <tr>\n",
       "      <th>4</th>\n",
       "      <td>0.801835</td>\n",
       "      <td>-5.887539</td>\n",
       "    </tr>\n",
       "    <tr>\n",
       "      <th>...</th>\n",
       "      <td>...</td>\n",
       "      <td>...</td>\n",
       "    </tr>\n",
       "    <tr>\n",
       "      <th>1795</th>\n",
       "      <td>0.821897</td>\n",
       "      <td>-5.804468</td>\n",
       "    </tr>\n",
       "    <tr>\n",
       "      <th>1796</th>\n",
       "      <td>0.895624</td>\n",
       "      <td>-5.842329</td>\n",
       "    </tr>\n",
       "    <tr>\n",
       "      <th>1797</th>\n",
       "      <td>0.884160</td>\n",
       "      <td>-5.788496</td>\n",
       "    </tr>\n",
       "    <tr>\n",
       "      <th>1798</th>\n",
       "      <td>0.940443</td>\n",
       "      <td>-6.378491</td>\n",
       "    </tr>\n",
       "    <tr>\n",
       "      <th>1799</th>\n",
       "      <td>0.938262</td>\n",
       "      <td>-6.334416</td>\n",
       "    </tr>\n",
       "  </tbody>\n",
       "</table>\n",
       "<p>1800 rows × 2 columns</p>\n",
       "</div>"
      ],
      "text/plain": [
       "             p      lp__\n",
       "0     0.833672 -5.770570\n",
       "1     0.850566 -5.744040\n",
       "2     0.988970 -9.147298\n",
       "3     0.770127 -6.074853\n",
       "4     0.801835 -5.887539\n",
       "...        ...       ...\n",
       "1795  0.821897 -5.804468\n",
       "1796  0.895624 -5.842329\n",
       "1797  0.884160 -5.788496\n",
       "1798  0.940443 -6.378491\n",
       "1799  0.938262 -6.334416\n",
       "\n",
       "[1800 rows x 2 columns]"
      ]
     },
     "execution_count": 28,
     "metadata": {},
     "output_type": "execute_result"
    }
   ],
   "source": [
    "posterior_Zenit_3SL_red = pd.DataFrame({\"p\": fit_Zenit_3SL_red['p'], \"lp__\": fit_Zenit_3SL_red['lp__']})\n",
    "posterior_Zenit_3SL_red"
   ]
  },
  {
   "cell_type": "code",
   "execution_count": 29,
   "id": "3d6a14cb-71e4-4fcd-bccf-68131167f8ce",
   "metadata": {},
   "outputs": [
    {
     "data": {
      "image/png": "[encoded data removed]",
      "text/plain": [
       "<Figure size 1200x600 with 2 Axes>"
      ]
     },
     "metadata": {},
     "output_type": "display_data"
    }
   ],
   "source": [
    "fig, axs = plt.subplots(1, 2,  figsize=(12, 6))\n",
    "\n",
    "axs[0].hist(posterior_Zenit_3SL[\"p\"], density=True, bins=50)\n",
    "axs[0].set_title(\"Posterior Distribution of p for Zenit-3SL with Beta(1, 1)\", fontsize=10)\n",
    "axs[0].set_xlabel('Probability, p')\n",
    "axs[0].set_ylabel('Density, f(p)')\n",
    "axs[0].set_xlim(0, 1)\n",
    "\n",
    "axs[1].hist(posterior_Zenit_3SL_red[\"p\"], density=True, bins=50)\n",
    "axs[1].set_title(\"Posterior Distribution of p for Zenit-3SL with Beta(1, 1) & reduced data\", fontsize=10)\n",
    "axs[1].set_xlabel('Probability, p')\n",
    "axs[1].set_ylabel('Density, f(p)')\n",
    "axs[1].set_xlim(0, 1)\n",
    "\n",
    "plt.show();"
   ]
  },
  {
   "cell_type": "markdown",
   "id": "1003f57b-76aa-4749-9832-11b911cf0072",
   "metadata": {},
   "source": [
    "### Q2.8: Reducing Observed Data using Beta(a = 1, b = 10) Prior"
   ]
  },
  {
   "cell_type": "code",
   "execution_count": 30,
   "id": "e4475ba6-6677-4974-8a9e-8ac0020c89dd",
   "metadata": {},
   "outputs": [],
   "source": [
    "data_Zenit_3SL_2_red = {\n",
    "    'n': int(Zenit_3SL_observed_data[\"numberOfLaunches\"].values[0]/3),\n",
    "    'X': int(Zenit_3SL_observed_data[\"numberOfLaunches\"].values[0]/3 - Zenit_3SL_observed_data[\"numberOfFailures\"].values[0]/3),\n",
    "    'a': 1,\n",
    "    'b': 10\n",
    "}\n",
    "\n",
    "fit_Zenit_3SL_2_red = sm.sampling(data=data_Zenit_3SL_2_red, iter=10000, chains=1, warmup=1000, thin=5, seed=553)"
   ]
  },
  {
   "cell_type": "code",
   "execution_count": 31,
   "id": "ec36c870-6aa3-43b6-b4a3-3adba8527f22",
   "metadata": {},
   "outputs": [
    {
     "data": {
      "text/html": [
       "<div>\n",
       "<style scoped>\n",
       "    .dataframe tbody tr th:only-of-type {\n",
       "        vertical-align: middle;\n",
       "    }\n",
       "\n",
       "    .dataframe tbody tr th {\n",
       "        vertical-align: top;\n",
       "    }\n",
       "\n",
       "    .dataframe thead th {\n",
       "        text-align: right;\n",
       "    }\n",
       "</style>\n",
       "<table border=\"1\" class=\"dataframe\">\n",
       "  <thead>\n",
       "    <tr style=\"text-align: right;\">\n",
       "      <th></th>\n",
       "      <th>p</th>\n",
       "      <th>lp__</th>\n",
       "    </tr>\n",
       "  </thead>\n",
       "  <tbody>\n",
       "    <tr>\n",
       "      <th>0</th>\n",
       "      <td>0.553115</td>\n",
       "      <td>-15.966266</td>\n",
       "    </tr>\n",
       "    <tr>\n",
       "      <th>1</th>\n",
       "      <td>0.378688</td>\n",
       "      <td>-16.887650</td>\n",
       "    </tr>\n",
       "    <tr>\n",
       "      <th>2</th>\n",
       "      <td>0.600629</td>\n",
       "      <td>-16.213841</td>\n",
       "    </tr>\n",
       "    <tr>\n",
       "      <th>3</th>\n",
       "      <td>0.474653</td>\n",
       "      <td>-16.022713</td>\n",
       "    </tr>\n",
       "    <tr>\n",
       "      <th>4</th>\n",
       "      <td>0.643121</td>\n",
       "      <td>-16.631008</td>\n",
       "    </tr>\n",
       "    <tr>\n",
       "      <th>...</th>\n",
       "      <td>...</td>\n",
       "      <td>...</td>\n",
       "    </tr>\n",
       "    <tr>\n",
       "      <th>1795</th>\n",
       "      <td>0.549094</td>\n",
       "      <td>-15.955287</td>\n",
       "    </tr>\n",
       "    <tr>\n",
       "      <th>1796</th>\n",
       "      <td>0.492090</td>\n",
       "      <td>-15.961085</td>\n",
       "    </tr>\n",
       "    <tr>\n",
       "      <th>1797</th>\n",
       "      <td>0.523533</td>\n",
       "      <td>-15.920787</td>\n",
       "    </tr>\n",
       "    <tr>\n",
       "      <th>1798</th>\n",
       "      <td>0.651749</td>\n",
       "      <td>-16.740299</td>\n",
       "    </tr>\n",
       "    <tr>\n",
       "      <th>1799</th>\n",
       "      <td>0.381141</td>\n",
       "      <td>-16.853683</td>\n",
       "    </tr>\n",
       "  </tbody>\n",
       "</table>\n",
       "<p>1800 rows × 2 columns</p>\n",
       "</div>"
      ],
      "text/plain": [
       "             p       lp__\n",
       "0     0.553115 -15.966266\n",
       "1     0.378688 -16.887650\n",
       "2     0.600629 -16.213841\n",
       "3     0.474653 -16.022713\n",
       "4     0.643121 -16.631008\n",
       "...        ...        ...\n",
       "1795  0.549094 -15.955287\n",
       "1796  0.492090 -15.961085\n",
       "1797  0.523533 -15.920787\n",
       "1798  0.651749 -16.740299\n",
       "1799  0.381141 -16.853683\n",
       "\n",
       "[1800 rows x 2 columns]"
      ]
     },
     "execution_count": 31,
     "metadata": {},
     "output_type": "execute_result"
    }
   ],
   "source": [
    "posterior_Zenit_3SL_2_red = pd.DataFrame({\"p\": fit_Zenit_3SL_2_red['p'], \"lp__\": fit_Zenit_3SL_2_red['lp__']})\n",
    "posterior_Zenit_3SL_2_red"
   ]
  },
  {
   "cell_type": "code",
   "execution_count": 32,
   "id": "ef47946c-4cc7-41ca-ac5b-4cb393882ae7",
   "metadata": {},
   "outputs": [
    {
     "data": {
      "image/png": "[encoded data removed]",
      "text/plain": [
       "<Figure size 1200x600 with 2 Axes>"
      ]
     },
     "metadata": {},
     "output_type": "display_data"
    }
   ],
   "source": [
    "fig, axs = plt.subplots(1, 2,  figsize=(12, 6))\n",
    "\n",
    "axs[0].hist(posterior_Zenit_3SL_2[\"p\"], density=True, bins=50)\n",
    "axs[0].set_title(\"Posterior Distribution of p for Zenit-3SL with Beta(1, 10)\", fontsize=10)\n",
    "axs[0].set_xlabel('Probability, p')\n",
    "axs[0].set_ylabel('Density, f(p)')\n",
    "axs[0].set_xlim(0, 1)\n",
    "\n",
    "axs[1].hist(posterior_Zenit_3SL_2_red[\"p\"], density=True, bins=50)\n",
    "axs[1].set_title(\"Posterior Distribution of p for Zenit-3SL with Beta(1, 10) & reduced data\", fontsize=10)\n",
    "axs[1].set_xlabel('Probability, p')\n",
    "axs[1].set_ylabel('Density, f(p)')\n",
    "axs[1].set_xlim(0, 1)\n",
    "\n",
    "plt.show();"
   ]
  },
  {
   "cell_type": "markdown",
   "id": "cbce1ecb-5953-4e6f-a2fe-1c028ee36e34",
   "metadata": {},
   "source": [
    "# Exercise 3: Play Ball!"
   ]
  },
  {
   "cell_type": "code",
   "execution_count": null,
   "id": "fa61b948-ba48-47dc-89c0-ff64d904f18d",
   "metadata": {},
   "outputs": [],
   "source": []
  }
 ],
 "metadata": {
  "kernelspec": {
   "display_name": "Python [conda env:stan_env]",
   "language": "python",
   "name": "conda-env-stan_env-py"
  },
  "language_info": {
   "codemirror_mode": {
    "name": "ipython",
    "version": 3
   },
   "file_extension": ".py",
   "mimetype": "text/x-python",
   "name": "python",
   "nbconvert_exporter": "python",
   "pygments_lexer": "ipython3",
   "version": "3.7.12"
  }
 },
 "nbformat": 4,
 "nbformat_minor": 5
}
