{
 "cells": [
  {
   "cell_type": "markdown",
   "id": "df452177-04bd-4104-b578-25b7fda7b74d",
   "metadata": {},
   "source": [
    "# Imports"
   ]
  },
  {
   "cell_type": "code",
   "execution_count": 1,
   "id": "f026c3a5-98e5-4df5-b20f-ccbfee44733c",
   "metadata": {},
   "outputs": [],
   "source": [
    "import pandas as pd\n",
    "import numpy as np\n",
    "import matplotlib.pyplot as plt\n",
    "\n",
    "import pystan"
   ]
  },
  {
   "cell_type": "markdown",
   "id": "ae88e6f5-c38f-4dd0-b161-cd3236c72520",
   "metadata": {},
   "source": [
    "# Exercise 1: Rocket Data"
   ]
  },
  {
   "cell_type": "code",
   "execution_count": 2,
   "id": "6f2d403f-9afe-4bb2-89a1-05a46ed2d53f",
   "metadata": {},
   "outputs": [
    {
     "data": {
      "text/html": [
       "<div>\n",
       "<style scoped>\n",
       "    .dataframe tbody tr th:only-of-type {\n",
       "        vertical-align: middle;\n",
       "    }\n",
       "\n",
       "    .dataframe tbody tr th {\n",
       "        vertical-align: top;\n",
       "    }\n",
       "\n",
       "    .dataframe thead th {\n",
       "        text-align: right;\n",
       "    }\n",
       "</style>\n",
       "<table border=\"1\" class=\"dataframe\">\n",
       "  <thead>\n",
       "    <tr style=\"text-align: right;\">\n",
       "      <th></th>\n",
       "      <th>LV.Type</th>\n",
       "      <th>numberOfLaunches</th>\n",
       "      <th>numberOfFailures</th>\n",
       "    </tr>\n",
       "  </thead>\n",
       "  <tbody>\n",
       "    <tr>\n",
       "      <th>0</th>\n",
       "      <td>Aerobee</td>\n",
       "      <td>1</td>\n",
       "      <td>0</td>\n",
       "    </tr>\n",
       "    <tr>\n",
       "      <th>1</th>\n",
       "      <td>Angara A5</td>\n",
       "      <td>1</td>\n",
       "      <td>0</td>\n",
       "    </tr>\n",
       "    <tr>\n",
       "      <th>2</th>\n",
       "      <td>Antares 110</td>\n",
       "      <td>2</td>\n",
       "      <td>0</td>\n",
       "    </tr>\n",
       "    <tr>\n",
       "      <th>3</th>\n",
       "      <td>Antares 120</td>\n",
       "      <td>2</td>\n",
       "      <td>0</td>\n",
       "    </tr>\n",
       "    <tr>\n",
       "      <th>4</th>\n",
       "      <td>Antares 130</td>\n",
       "      <td>1</td>\n",
       "      <td>1</td>\n",
       "    </tr>\n",
       "    <tr>\n",
       "      <th>...</th>\n",
       "      <td>...</td>\n",
       "      <td>...</td>\n",
       "      <td>...</td>\n",
       "    </tr>\n",
       "    <tr>\n",
       "      <th>362</th>\n",
       "      <td>Zenit-2M</td>\n",
       "      <td>1</td>\n",
       "      <td>0</td>\n",
       "    </tr>\n",
       "    <tr>\n",
       "      <th>363</th>\n",
       "      <td>Zenit-2SB</td>\n",
       "      <td>1</td>\n",
       "      <td>0</td>\n",
       "    </tr>\n",
       "    <tr>\n",
       "      <th>364</th>\n",
       "      <td>Zenit-3SL</td>\n",
       "      <td>36</td>\n",
       "      <td>3</td>\n",
       "    </tr>\n",
       "    <tr>\n",
       "      <th>365</th>\n",
       "      <td>Zenit-3SLB</td>\n",
       "      <td>6</td>\n",
       "      <td>0</td>\n",
       "    </tr>\n",
       "    <tr>\n",
       "      <th>366</th>\n",
       "      <td>Zenit-3SLBF</td>\n",
       "      <td>3</td>\n",
       "      <td>0</td>\n",
       "    </tr>\n",
       "  </tbody>\n",
       "</table>\n",
       "<p>367 rows × 3 columns</p>\n",
       "</div>"
      ],
      "text/plain": [
       "         LV.Type  numberOfLaunches  numberOfFailures\n",
       "0        Aerobee                 1                 0\n",
       "1      Angara A5                 1                 0\n",
       "2    Antares 110                 2                 0\n",
       "3    Antares 120                 2                 0\n",
       "4    Antares 130                 1                 1\n",
       "..           ...               ...               ...\n",
       "362     Zenit-2M                 1                 0\n",
       "363    Zenit-2SB                 1                 0\n",
       "364    Zenit-3SL                36                 3\n",
       "365   Zenit-3SLB                 6                 0\n",
       "366  Zenit-3SLBF                 3                 0\n",
       "\n",
       "[367 rows x 3 columns]"
      ]
     },
     "execution_count": 2,
     "metadata": {},
     "output_type": "execute_result"
    }
   ],
   "source": [
    "rockets = pd.read_csv(\"data/failure_counts.csv\")\n",
    "rockets"
   ]
  },
  {
   "cell_type": "markdown",
   "id": "4ed42563-7eba-42db-9e8f-f7e1f1f0d618",
   "metadata": {},
   "source": [
    "### Pystan model setup"
   ]
  },
  {
   "cell_type": "code",
   "execution_count": 3,
   "id": "139c908a-5ebd-41eb-85d4-396930628048",
   "metadata": {},
   "outputs": [],
   "source": [
    "model = \"\"\"\n",
    "data {\n",
    "    int<lower=0> n;  // number of trials (launches) in a Binomial distribution with lower bound 0\n",
    "    int<lower=0> X;  // number of successes in a Binomial distribution with lower bound 0\n",
    "    real<lower=0> a; // parameter a for a Beta distribution with lower bound 0\n",
    "    real<lower=0> b; // parameter b for a Beta distribution with lower bound 0\n",
    "}\n",
    "parameters {\n",
    "    real <lower=0,upper=1> p; // probability of success in a Binomial distribution with lower and upper bounds, 0 and 1\n",
    "}\n",
    "model {\n",
    "    p ~ beta(a,b);\n",
    "    X ~ binomial(n,p);\n",
    "}\n",
    "\"\"\""
   ]
  },
  {
   "cell_type": "markdown",
   "id": "114a5b94-b613-4c81-99d5-cd158f9199b2",
   "metadata": {},
   "source": [
    "### Sampling"
   ]
  },
  {
   "cell_type": "code",
   "execution_count": 4,
   "id": "ac34dc16-3f9c-46ba-82a3-49478e394df1",
   "metadata": {},
   "outputs": [
    {
     "name": "stderr",
     "output_type": "stream",
     "text": [
      "INFO:pystan:COMPILING THE C++ CODE FOR MODEL anon_model_2dfdc360ff21a08b0fd577cfd94fbfce NOW.\n"
     ]
    }
   ],
   "source": [
    "# Put data in a dictionary\n",
    "data = {'n': 20, 'X': 10, 'a': 1, 'b': 1}\n",
    "\n",
    "# Compile the model\n",
    "sm = pystan.StanModel(model_code=model)\n",
    "\n",
    "# Train the model and generate samples\n",
    "fit = sm.sampling(data=data, iter=10000, chains=1, warmup=1000, thin=5, seed=553)"
   ]
  },
  {
   "cell_type": "code",
   "execution_count": 5,
   "id": "d6aad409-b880-4b6b-84bf-10f75742b848",
   "metadata": {},
   "outputs": [
    {
     "data": {
      "text/plain": [
       "Inference for Stan model: anon_model_2dfdc360ff21a08b0fd577cfd94fbfce.\n",
       "1 chains, each with iter=10000; warmup=1000; thin=5; \n",
       "post-warmup draws per chain=1800, total post-warmup draws=1800.\n",
       "\n",
       "       mean se_mean     sd   2.5%    25%    50%    75%  97.5%  n_eff   Rhat\n",
       "p       0.5  2.8e-3   0.11   0.29   0.43    0.5   0.57   0.69   1453    1.0\n",
       "lp__ -15.77    0.02   0.72 -17.95 -15.95 -15.48  -15.3 -15.25   1665    1.0\n",
       "\n",
       "Samples were drawn using NUTS at Tue Sep 13 16:34:35 2022.\n",
       "For each parameter, n_eff is a crude measure of effective sample size,\n",
       "and Rhat is the potential scale reduction factor on split chains (at \n",
       "convergence, Rhat=1)."
      ]
     },
     "execution_count": 5,
     "metadata": {},
     "output_type": "execute_result"
    }
   ],
   "source": [
    "fit"
   ]
  },
  {
   "cell_type": "code",
   "execution_count": 11,
   "id": "9ff2c058-9e71-4ed4-a791-77e10a7c1f16",
   "metadata": {},
   "outputs": [
    {
     "data": {
      "text/html": [
       "<div>\n",
       "<style scoped>\n",
       "    .dataframe tbody tr th:only-of-type {\n",
       "        vertical-align: middle;\n",
       "    }\n",
       "\n",
       "    .dataframe tbody tr th {\n",
       "        vertical-align: top;\n",
       "    }\n",
       "\n",
       "    .dataframe thead th {\n",
       "        text-align: right;\n",
       "    }\n",
       "</style>\n",
       "<table border=\"1\" class=\"dataframe\">\n",
       "  <thead>\n",
       "    <tr style=\"text-align: right;\">\n",
       "      <th></th>\n",
       "      <th>p</th>\n",
       "      <th>lp__</th>\n",
       "    </tr>\n",
       "  </thead>\n",
       "  <tbody>\n",
       "    <tr>\n",
       "      <th>0</th>\n",
       "      <td>0.430306</td>\n",
       "      <td>-15.465059</td>\n",
       "    </tr>\n",
       "    <tr>\n",
       "      <th>1</th>\n",
       "      <td>0.458744</td>\n",
       "      <td>-15.324385</td>\n",
       "    </tr>\n",
       "    <tr>\n",
       "      <th>2</th>\n",
       "      <td>0.451962</td>\n",
       "      <td>-15.351244</td>\n",
       "    </tr>\n",
       "    <tr>\n",
       "      <th>3</th>\n",
       "      <td>0.403497</td>\n",
       "      <td>-15.666832</td>\n",
       "    </tr>\n",
       "    <tr>\n",
       "      <th>4</th>\n",
       "      <td>0.557686</td>\n",
       "      <td>-15.396638</td>\n",
       "    </tr>\n",
       "    <tr>\n",
       "      <th>...</th>\n",
       "      <td>...</td>\n",
       "      <td>...</td>\n",
       "    </tr>\n",
       "    <tr>\n",
       "      <th>1795</th>\n",
       "      <td>0.314243</td>\n",
       "      <td>-16.883018</td>\n",
       "    </tr>\n",
       "    <tr>\n",
       "      <th>1796</th>\n",
       "      <td>0.471832</td>\n",
       "      <td>-15.284206</td>\n",
       "    </tr>\n",
       "    <tr>\n",
       "      <th>1797</th>\n",
       "      <td>0.419690</td>\n",
       "      <td>-15.536747</td>\n",
       "    </tr>\n",
       "    <tr>\n",
       "      <th>1798</th>\n",
       "      <td>0.354654</td>\n",
       "      <td>-16.220393</td>\n",
       "    </tr>\n",
       "    <tr>\n",
       "      <th>1799</th>\n",
       "      <td>0.361032</td>\n",
       "      <td>-16.133587</td>\n",
       "    </tr>\n",
       "  </tbody>\n",
       "</table>\n",
       "<p>1800 rows × 2 columns</p>\n",
       "</div>"
      ],
      "text/plain": [
       "             p       lp__\n",
       "0     0.430306 -15.465059\n",
       "1     0.458744 -15.324385\n",
       "2     0.451962 -15.351244\n",
       "3     0.403497 -15.666832\n",
       "4     0.557686 -15.396638\n",
       "...        ...        ...\n",
       "1795  0.314243 -16.883018\n",
       "1796  0.471832 -15.284206\n",
       "1797  0.419690 -15.536747\n",
       "1798  0.354654 -16.220393\n",
       "1799  0.361032 -16.133587\n",
       "\n",
       "[1800 rows x 2 columns]"
      ]
     },
     "execution_count": 11,
     "metadata": {},
     "output_type": "execute_result"
    }
   ],
   "source": [
    "posterior_rockets = pd.DataFrame({\"p\": fit['p'], \"lp__\": fit['lp__']})\n",
    "posterior_rockets"
   ]
  },
  {
   "cell_type": "markdown",
   "id": "aaf140dc-1009-48e9-8298-2213276ae4db",
   "metadata": {},
   "source": [
    "### Q1.1: Visualize the Posterior Distribution of $p$ for a \"Made-Up Rocket\" using $\\text{Beta}(a = 1, b = 1)$ Prior"
   ]
  },
  {
   "cell_type": "code",
   "execution_count": 37,
   "id": "e1772bbd-1c11-45b2-bae7-1fa7c129fe43",
   "metadata": {},
   "outputs": [
    {
     "data": {
      "image/png": "[encoded data removed]",
      "text/plain": [
       "<Figure size 800x600 with 1 Axes>"
      ]
     },
     "metadata": {},
     "output_type": "display_data"
    }
   ],
   "source": [
    "plt.figure(figsize=(8, 6))\n",
    "plt.hist(posterior_rockets[\"p\"], density=True, bins=50)\n",
    "plt.title(\"Posterior Distribution of p for Made-Up Rocket\")\n",
    "plt.xlabel('Probability, p')\n",
    "plt.ylabel('Density, f(p)')\n",
    "plt.xlim(0, 1)\n",
    "plt.show();"
   ]
  },
  {
   "cell_type": "markdown",
   "id": "0810dd6d-3082-4a34-89a2-03a59769e567",
   "metadata": {},
   "source": [
    "### Q1.2: Sample from the Posterior Distribution of $p$ for `Zenit-3SL`"
   ]
  },
  {
   "cell_type": "code",
   "execution_count": 25,
   "id": "58a4f58e-6532-42ff-bd84-d1277bd202a2",
   "metadata": {},
   "outputs": [
    {
     "data": {
      "text/html": [
       "<div>\n",
       "<style scoped>\n",
       "    .dataframe tbody tr th:only-of-type {\n",
       "        vertical-align: middle;\n",
       "    }\n",
       "\n",
       "    .dataframe tbody tr th {\n",
       "        vertical-align: top;\n",
       "    }\n",
       "\n",
       "    .dataframe thead th {\n",
       "        text-align: right;\n",
       "    }\n",
       "</style>\n",
       "<table border=\"1\" class=\"dataframe\">\n",
       "  <thead>\n",
       "    <tr style=\"text-align: right;\">\n",
       "      <th></th>\n",
       "      <th>LV.Type</th>\n",
       "      <th>numberOfLaunches</th>\n",
       "      <th>numberOfFailures</th>\n",
       "    </tr>\n",
       "  </thead>\n",
       "  <tbody>\n",
       "    <tr>\n",
       "      <th>364</th>\n",
       "      <td>Zenit-3SL</td>\n",
       "      <td>36</td>\n",
       "      <td>3</td>\n",
       "    </tr>\n",
       "  </tbody>\n",
       "</table>\n",
       "</div>"
      ],
      "text/plain": [
       "       LV.Type  numberOfLaunches  numberOfFailures\n",
       "364  Zenit-3SL                36                 3"
      ]
     },
     "execution_count": 25,
     "metadata": {},
     "output_type": "execute_result"
    }
   ],
   "source": [
    "Zenit_3SL_observed_data = rockets[rockets[\"LV.Type\"] == 'Zenit-3SL']\n",
    "Zenit_3SL_observed_data"
   ]
  },
  {
   "cell_type": "code",
   "execution_count": 31,
   "id": "fb6163cf-7f5e-4643-ad70-bde25a03faa4",
   "metadata": {},
   "outputs": [],
   "source": [
    "data_Zenit_3SL = {\n",
    "    'n': Zenit_3SL_observed_data[\"numberOfLaunches\"].values[0],\n",
    "    'X': Zenit_3SL_observed_data[\"numberOfLaunches\"].values[0] - Zenit_3SL_observed_data[\"numberOfFailures\"].values[0],\n",
    "    'a': 1,\n",
    "    'b': 1\n",
    "}\n",
    "\n",
    "fit_Zenit_3SL = sm.sampling(data=data_Zenit_3SL, iter=10000, chains=1, warmup=1000, thin=5, seed=553)"
   ]
  },
  {
   "cell_type": "code",
   "execution_count": 32,
   "id": "4fddca19-2297-48e2-80e6-24530b86c162",
   "metadata": {},
   "outputs": [
    {
     "data": {
      "text/plain": [
       "Inference for Stan model: anon_model_2dfdc360ff21a08b0fd577cfd94fbfce.\n",
       "1 chains, each with iter=10000; warmup=1000; thin=5; \n",
       "post-warmup draws per chain=1800, total post-warmup draws=1800.\n",
       "\n",
       "       mean se_mean     sd   2.5%    25%    50%    75%  97.5%  n_eff   Rhat\n",
       "p       0.9  1.2e-3   0.05   0.79   0.87    0.9   0.93   0.97   1620    1.0\n",
       "lp__ -13.29    0.02    0.7  -15.2 -13.45 -13.02 -12.84 -12.79   1677    1.0\n",
       "\n",
       "Samples were drawn using NUTS at Tue Sep 13 16:54:33 2022.\n",
       "For each parameter, n_eff is a crude measure of effective sample size,\n",
       "and Rhat is the potential scale reduction factor on split chains (at \n",
       "convergence, Rhat=1)."
      ]
     },
     "execution_count": 32,
     "metadata": {},
     "output_type": "execute_result"
    }
   ],
   "source": [
    "fit_Zenit_3SL"
   ]
  },
  {
   "cell_type": "code",
   "execution_count": 33,
   "id": "f9f9bb5b-769a-43c4-ae8f-d6a870b29865",
   "metadata": {},
   "outputs": [
    {
     "data": {
      "text/html": [
       "<div>\n",
       "<style scoped>\n",
       "    .dataframe tbody tr th:only-of-type {\n",
       "        vertical-align: middle;\n",
       "    }\n",
       "\n",
       "    .dataframe tbody tr th {\n",
       "        vertical-align: top;\n",
       "    }\n",
       "\n",
       "    .dataframe thead th {\n",
       "        text-align: right;\n",
       "    }\n",
       "</style>\n",
       "<table border=\"1\" class=\"dataframe\">\n",
       "  <thead>\n",
       "    <tr style=\"text-align: right;\">\n",
       "      <th></th>\n",
       "      <th>p</th>\n",
       "      <th>lp__</th>\n",
       "    </tr>\n",
       "  </thead>\n",
       "  <tbody>\n",
       "    <tr>\n",
       "      <th>0</th>\n",
       "      <td>0.939479</td>\n",
       "      <td>-13.341675</td>\n",
       "    </tr>\n",
       "    <tr>\n",
       "      <th>1</th>\n",
       "      <td>0.993049</td>\n",
       "      <td>-20.112824</td>\n",
       "    </tr>\n",
       "    <tr>\n",
       "      <th>2</th>\n",
       "      <td>0.871149</td>\n",
       "      <td>-12.886427</td>\n",
       "    </tr>\n",
       "    <tr>\n",
       "      <th>3</th>\n",
       "      <td>0.876490</td>\n",
       "      <td>-12.847953</td>\n",
       "    </tr>\n",
       "    <tr>\n",
       "      <th>4</th>\n",
       "      <td>0.950542</td>\n",
       "      <td>-13.751115</td>\n",
       "    </tr>\n",
       "    <tr>\n",
       "      <th>...</th>\n",
       "      <td>...</td>\n",
       "      <td>...</td>\n",
       "    </tr>\n",
       "    <tr>\n",
       "      <th>1795</th>\n",
       "      <td>0.876741</td>\n",
       "      <td>-12.846354</td>\n",
       "    </tr>\n",
       "    <tr>\n",
       "      <th>1796</th>\n",
       "      <td>0.861386</td>\n",
       "      <td>-12.977479</td>\n",
       "    </tr>\n",
       "    <tr>\n",
       "      <th>1797</th>\n",
       "      <td>0.773670</td>\n",
       "      <td>-14.667775</td>\n",
       "    </tr>\n",
       "    <tr>\n",
       "      <th>1798</th>\n",
       "      <td>0.814203</td>\n",
       "      <td>-13.720944</td>\n",
       "    </tr>\n",
       "    <tr>\n",
       "      <th>1799</th>\n",
       "      <td>0.934526</td>\n",
       "      <td>-13.206735</td>\n",
       "    </tr>\n",
       "  </tbody>\n",
       "</table>\n",
       "<p>1800 rows × 2 columns</p>\n",
       "</div>"
      ],
      "text/plain": [
       "             p       lp__\n",
       "0     0.939479 -13.341675\n",
       "1     0.993049 -20.112824\n",
       "2     0.871149 -12.886427\n",
       "3     0.876490 -12.847953\n",
       "4     0.950542 -13.751115\n",
       "...        ...        ...\n",
       "1795  0.876741 -12.846354\n",
       "1796  0.861386 -12.977479\n",
       "1797  0.773670 -14.667775\n",
       "1798  0.814203 -13.720944\n",
       "1799  0.934526 -13.206735\n",
       "\n",
       "[1800 rows x 2 columns]"
      ]
     },
     "execution_count": 33,
     "metadata": {},
     "output_type": "execute_result"
    }
   ],
   "source": [
    "posterior_Zenit_3SL = pd.DataFrame({\"p\": fit_Zenit_3SL['p'], \"lp__\": fit_Zenit_3SL['lp__']})\n",
    "posterior_Zenit_3SL"
   ]
  },
  {
   "cell_type": "markdown",
   "id": "8fd13f35-7fbd-48ce-8e9b-8a9e44356fa8",
   "metadata": {},
   "source": [
    "### Q1.3: Visualize from the Posterior Distribution of $p$ for Zenit-3SL using $\\text{Beta}(a = 1, b = 1)$ Prior"
   ]
  },
  {
   "cell_type": "code",
   "execution_count": 36,
   "id": "9355ac72-cf77-40e4-8914-8a9068ab80a7",
   "metadata": {},
   "outputs": [
    {
     "data": {
      "image/png": "[encoded data removed]",
      "text/plain": [
       "<Figure size 800x600 with 1 Axes>"
      ]
     },
     "metadata": {},
     "output_type": "display_data"
    }
   ],
   "source": [
    "plt.figure(figsize=(8, 6))\n",
    "plt.hist(posterior_Zenit_3SL[\"p\"], density=True, bins=50)\n",
    "plt.title(\"Posterior Distribution of p for Zenit-3SL with Beta(1, 1)\")\n",
    "plt.xlabel('Probability, p')\n",
    "plt.ylabel('Density, f(p)')\n",
    "plt.xlim(0, 1)\n",
    "plt.show();"
   ]
  },
  {
   "cell_type": "markdown",
   "id": "db1e7a55-d26e-4a64-a4b7-3a7ba08b1117",
   "metadata": {},
   "source": [
    "### Q1.4: Summary Statistics for the Posterior Samples of Zenit-3SL using $\\text{Beta}(a = 1, b = 1)$ Prior"
   ]
  },
  {
   "cell_type": "code",
   "execution_count": 39,
   "id": "8bae5fa2-7666-4045-9811-7232ce2dd687",
   "metadata": {},
   "outputs": [
    {
     "data": {
      "text/plain": [
       "0.8960425791271323"
      ]
     },
     "execution_count": 39,
     "metadata": {},
     "output_type": "execute_result"
    }
   ],
   "source": [
    "np.mean(posterior_Zenit_3SL[\"p\"])"
   ]
  },
  {
   "cell_type": "code",
   "execution_count": 40,
   "id": "d70f66a0-6e2b-4573-9f68-ca66b15ed7f1",
   "metadata": {},
   "outputs": [
    {
     "data": {
      "text/plain": [
       "0.9020735909165447"
      ]
     },
     "execution_count": 40,
     "metadata": {},
     "output_type": "execute_result"
    }
   ],
   "source": [
    "np.median(posterior_Zenit_3SL[\"p\"])"
   ]
  },
  {
   "cell_type": "code",
   "execution_count": 41,
   "id": "4e602300-0f5b-461a-96a2-1c190c1257c4",
   "metadata": {},
   "outputs": [
    {
     "data": {
      "text/plain": [
       "0.002264274575818576"
      ]
     },
     "execution_count": 41,
     "metadata": {},
     "output_type": "execute_result"
    }
   ],
   "source": [
    "np.var(posterior_Zenit_3SL[\"p\"])"
   ]
  },
  {
   "cell_type": "code",
   "execution_count": 44,
   "id": "9dd168fe-a4d6-43d4-9b03-da67ceb02300",
   "metadata": {},
   "outputs": [
    {
     "name": "stdout",
     "output_type": "stream",
     "text": [
      "Inference for Stan model: anon_model_2dfdc360ff21a08b0fd577cfd94fbfce.\n",
      "1 chains, each with iter=10000; warmup=1000; thin=5; \n",
      "post-warmup draws per chain=1800, total post-warmup draws=1800.\n",
      "\n",
      "       mean se_mean     sd     5%    95%  n_eff   Rhat\n",
      "p       0.9  1.2e-3   0.05   0.81   0.96   1620    1.0\n",
      "lp__ -13.29    0.02    0.7  -14.7 -12.79   1677    1.0\n",
      "\n",
      "Samples were drawn using NUTS at Tue Sep 13 16:54:33 2022.\n",
      "For each parameter, n_eff is a crude measure of effective sample size,\n",
      "and Rhat is the potential scale reduction factor on split chains (at \n",
      "convergence, Rhat=1).\n"
     ]
    }
   ],
   "source": [
    "percentiles = (0.05, 0.95)\n",
    "print(pystan.stansummary(fit=fit_Zenit_3SL, probs=percentiles))"
   ]
  },
  {
   "cell_type": "markdown",
   "id": "2389c7b1-f227-4f93-afbd-46a1fcd26a5c",
   "metadata": {},
   "source": [
    "# Exercise 2: Rocket Data (Revisited)"
   ]
  },
  {
   "cell_type": "code",
   "execution_count": 45,
   "id": "8c7a629d-607d-4599-8f3c-cc6be0607b72",
   "metadata": {},
   "outputs": [
    {
     "data": {
      "text/html": [
       "<div>\n",
       "<style scoped>\n",
       "    .dataframe tbody tr th:only-of-type {\n",
       "        vertical-align: middle;\n",
       "    }\n",
       "\n",
       "    .dataframe tbody tr th {\n",
       "        vertical-align: top;\n",
       "    }\n",
       "\n",
       "    .dataframe thead th {\n",
       "        text-align: right;\n",
       "    }\n",
       "</style>\n",
       "<table border=\"1\" class=\"dataframe\">\n",
       "  <thead>\n",
       "    <tr style=\"text-align: right;\">\n",
       "      <th></th>\n",
       "      <th>LV.Type</th>\n",
       "      <th>numberOfLaunches</th>\n",
       "      <th>numberOfFailures</th>\n",
       "    </tr>\n",
       "  </thead>\n",
       "  <tbody>\n",
       "    <tr>\n",
       "      <th>364</th>\n",
       "      <td>Zenit-3SL</td>\n",
       "      <td>36</td>\n",
       "      <td>3</td>\n",
       "    </tr>\n",
       "  </tbody>\n",
       "</table>\n",
       "</div>"
      ],
      "text/plain": [
       "       LV.Type  numberOfLaunches  numberOfFailures\n",
       "364  Zenit-3SL                36                 3"
      ]
     },
     "execution_count": 45,
     "metadata": {},
     "output_type": "execute_result"
    }
   ],
   "source": [
    "Zenit_3SL_observed_data"
   ]
  },
  {
   "cell_type": "code",
   "execution_count": null,
   "id": "b849a235-c2a7-4fb6-b3aa-3974f6564516",
   "metadata": {},
   "outputs": [],
   "source": []
  }
 ],
 "metadata": {
  "kernelspec": {
   "display_name": "Python [conda env:stan_env]",
   "language": "python",
   "name": "conda-env-stan_env-py"
  },
  "language_info": {
   "codemirror_mode": {
    "name": "ipython",
    "version": 3
   },
   "file_extension": ".py",
   "mimetype": "text/x-python",
   "name": "python",
   "nbconvert_exporter": "python",
   "pygments_lexer": "ipython3",
   "version": "3.7.12"
  }
 },
 "nbformat": 4,
 "nbformat_minor": 5
}
