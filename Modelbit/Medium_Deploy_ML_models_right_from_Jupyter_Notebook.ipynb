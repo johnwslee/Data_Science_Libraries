{
 "cells": [
  {
   "cell_type": "markdown",
   "id": "d6f9edca-15fa-4a4b-875d-16036a95ecb1",
   "metadata": {},
   "source": [
    "While plenty of time and energy is being actively spent in training large machine learning models, taking these models to production and maintaining them is a task of its own."
   ]
  },
  {
   "cell_type": "markdown",
   "id": "a77c770e-a1ac-485f-9ea2-b7b301480c3d",
   "metadata": {},
   "source": [
    "# 1. Pain Points of ML Model Deployment"
   ]
  },
  {
   "cell_type": "markdown",
   "id": "48eafdef-708a-458d-b4a8-c4f1f03a9774",
   "metadata": {},
   "source": [
    "## 1.1. Consistency Challenges"
   ]
  },
  {
   "cell_type": "markdown",
   "id": "1fb9d4f4-81e2-4634-a871-5a416050863d",
   "metadata": {},
   "source": [
    "In almost all ML use cases, the algorithm used is typically never coded from scratch. Instead, one uses open-source implementations offered by libraries like PyTorch, Sklearn, and many more.\n",
    "\n",
    "To ensure reproducibility in production, the production environment should be consistent with the environment it was trained in.\n",
    "\n",
    "This involves installing similar versions of libraries used, software dependencies, OS configurations, and many more.\n",
    "\n",
    "Achieving this consistency can, at times, be challenging."
   ]
  },
  {
   "cell_type": "markdown",
   "id": "37397ded-9e8c-4109-949a-b09e26c2110d",
   "metadata": {},
   "source": [
    "## 1.2. Infrastructural Challenges"
   ]
  },
  {
   "cell_type": "markdown",
   "id": "7e5e3882-59d9-479e-b8bf-b3e2b6a35f77",
   "metadata": {},
   "source": [
    "ML models typically require specialized processors like GPUs for training.\n",
    "\n",
    "Depending upon the complexity, a specialized infrastructure may also be needed during inference, i.e., post-deployment.\n",
    "\n",
    "Setting up these specialized infrastructures is often challenging for data teams."
   ]
  },
  {
   "cell_type": "markdown",
   "id": "225a7b7c-cbc4-4b3b-80c8-cae2450b6a0a",
   "metadata": {},
   "source": [
    "## 1.3. Inadequate Expertise (or Knowledge Gap)"
   ]
  },
  {
   "cell_type": "markdown",
   "id": "20a45863-cb26-48d9-9cc3-fb1629d6246a",
   "metadata": {},
   "source": [
    "ML engineers may not have experience with deployment. They may not have the necessary expertise in areas such as software engineering, DevOps, and infrastructure management.\n",
    "\n",
    "This can make it difficult for them to effectively deploy and scale models in production environments.\n",
    "\n",
    "In such cases, organizations hire specialized talents.\n",
    "\n",
    "However, engineers hired specifically for deployment may not have an in-depth understanding of ML algorithms and techniques.\n",
    "\n",
    "This makes it difficult for them to understand the code and make necessary optimizations, leading to issues with scaling, performance, and reliability, and can ultimately impact the effectiveness of the model in production."
   ]
  },
  {
   "cell_type": "markdown",
   "id": "c4343e87-353c-4c0b-a329-5740f3f931c8",
   "metadata": {},
   "source": [
    "# 2. Deploying ML Models from Jupyter Notebook"
   ]
  },
  {
   "cell_type": "markdown",
   "id": "6a495b3b-464a-4d5f-bea2-eaa4402c3058",
   "metadata": {},
   "source": [
    "The above pain points, to an extent, highlight the necessity for a data scientist to have the necessary deployment expertise.\n",
    "\n",
    "Now, data scientists spend most of their time working in a Jupyter notebook.\n",
    "\n",
    "Thus, to simplify the deployment process and integrate it with Jupyter to create a model endpoint, I will use the [Modelbit](https://www.modelbit.com/) API."
   ]
  },
  {
   "cell_type": "markdown",
   "id": "357d7502-1036-4fdc-a354-f614882a1463",
   "metadata": {},
   "source": [
    "## 2.1. Workflow"
   ]
  },
  {
   "cell_type": "markdown",
   "id": "1902793a-5a4b-4bfc-b090-91501397346d",
   "metadata": {},
   "source": [
    "<img src=\"images/1_e6nuyyak964yLYYq1tG5RA.webp\" style=\"width:800px;height:500px;background-color:white\">"
   ]
  },
  {
   "cell_type": "markdown",
   "id": "8767f5df-d1f1-4ea9-909a-7e40f62f4c50",
   "metadata": {},
   "source": [
    "First, inside a jupyter notebook, we will train a machine learning model.\n",
    "\n",
    "Next, we’ll create a prediction function, which will accept the input as its parameters and return the model’s prediction.\n",
    "\n",
    "After that, we’ll gather the list of packages used along with their version and the python version we trained our model in. This info, along with the function object will be sent for deployment.\n",
    "\n",
    "Finally, we will retrieve the model endpoint."
   ]
  },
  {
   "cell_type": "markdown",
   "id": "f6f0f8c6-859a-45f9-ada7-d6ad0590e103",
   "metadata": {},
   "source": [
    "### Preparation of Dummy Dataset"
   ]
  },
  {
   "cell_type": "code",
   "execution_count": 1,
   "id": "ad582160-c62f-4853-887a-a31feb9001e2",
   "metadata": {},
   "outputs": [],
   "source": [
    "import matplotlib.pyplot as plt\n",
    "from sklearn.datasets import make_regression"
   ]
  },
  {
   "cell_type": "code",
   "execution_count": 2,
   "id": "3fca0abf-5d14-422e-89d0-2b8cfa7cc423",
   "metadata": {},
   "outputs": [],
   "source": [
    "X, y = make_regression(n_samples=200, n_features=1, noise=20, random_state=123)"
   ]
  },
  {
   "cell_type": "code",
   "execution_count": 3,
   "id": "7ae0634b-1a9a-441d-9478-152e356223bd",
   "metadata": {},
   "outputs": [
    {
     "data": {
      "image/png": "[encoded data removed]",
      "text/plain": [
       "<Figure size 640x480 with 1 Axes>"
      ]
     },
     "metadata": {},
     "output_type": "display_data"
    }
   ],
   "source": [
    "plt.figure()\n",
    "plt.scatter(X, y)\n",
    "plt.show();"
   ]
  },
  {
   "cell_type": "markdown",
   "id": "9ffa38b6-76ba-4b28-81b6-76fcd8e8045a",
   "metadata": {},
   "source": [
    "### Step 1: Training the Machine Learning Model"
   ]
  },
  {
   "cell_type": "code",
   "execution_count": 4,
   "id": "5314c708-784c-4986-861f-313c4c0ec5b0",
   "metadata": {},
   "outputs": [],
   "source": [
    "from sklearn.linear_model import LinearRegression"
   ]
  },
  {
   "cell_type": "code",
   "execution_count": 5,
   "id": "33ddc720-84ed-483f-b847-eb7ac1250e7c",
   "metadata": {},
   "outputs": [
    {
     "data": {
      "text/html": [
       "<style>#sk-container-id-1 {color: black;background-color: white;}#sk-container-id-1 pre{padding: 0;}#sk-container-id-1 div.sk-toggleable {background-color: white;}#sk-container-id-1 label.sk-toggleable__label {cursor: pointer;display: block;width: 100%;margin-bottom: 0;padding: 0.3em;box-sizing: border-box;text-align: center;}#sk-container-id-1 label.sk-toggleable__label-arrow:before {content: \"▸\";float: left;margin-right: 0.25em;color: #696969;}#sk-container-id-1 label.sk-toggleable__label-arrow:hover:before {color: black;}#sk-container-id-1 div.sk-estimator:hover label.sk-toggleable__label-arrow:before {color: black;}#sk-container-id-1 div.sk-toggleable__content {max-height: 0;max-width: 0;overflow: hidden;text-align: left;background-color: #f0f8ff;}#sk-container-id-1 div.sk-toggleable__content pre {margin: 0.2em;color: black;border-radius: 0.25em;background-color: #f0f8ff;}#sk-container-id-1 input.sk-toggleable__control:checked~div.sk-toggleable__content {max-height: 200px;max-width: 100%;overflow: auto;}#sk-container-id-1 input.sk-toggleable__control:checked~label.sk-toggleable__label-arrow:before {content: \"▾\";}#sk-container-id-1 div.sk-estimator input.sk-toggleable__control:checked~label.sk-toggleable__label {background-color: #d4ebff;}#sk-container-id-1 div.sk-label input.sk-toggleable__control:checked~label.sk-toggleable__label {background-color: #d4ebff;}#sk-container-id-1 input.sk-hidden--visually {border: 0;clip: rect(1px 1px 1px 1px);clip: rect(1px, 1px, 1px, 1px);height: 1px;margin: -1px;overflow: hidden;padding: 0;position: absolute;width: 1px;}#sk-container-id-1 div.sk-estimator {font-family: monospace;background-color: #f0f8ff;border: 1px dotted black;border-radius: 0.25em;box-sizing: border-box;margin-bottom: 0.5em;}#sk-container-id-1 div.sk-estimator:hover {background-color: #d4ebff;}#sk-container-id-1 div.sk-parallel-item::after {content: \"\";width: 100%;border-bottom: 1px solid gray;flex-grow: 1;}#sk-container-id-1 div.sk-label:hover label.sk-toggleable__label {background-color: #d4ebff;}#sk-container-id-1 div.sk-serial::before {content: \"\";position: absolute;border-left: 1px solid gray;box-sizing: border-box;top: 0;bottom: 0;left: 50%;z-index: 0;}#sk-container-id-1 div.sk-serial {display: flex;flex-direction: column;align-items: center;background-color: white;padding-right: 0.2em;padding-left: 0.2em;position: relative;}#sk-container-id-1 div.sk-item {position: relative;z-index: 1;}#sk-container-id-1 div.sk-parallel {display: flex;align-items: stretch;justify-content: center;background-color: white;position: relative;}#sk-container-id-1 div.sk-item::before, #sk-container-id-1 div.sk-parallel-item::before {content: \"\";position: absolute;border-left: 1px solid gray;box-sizing: border-box;top: 0;bottom: 0;left: 50%;z-index: -1;}#sk-container-id-1 div.sk-parallel-item {display: flex;flex-direction: column;z-index: 1;position: relative;background-color: white;}#sk-container-id-1 div.sk-parallel-item:first-child::after {align-self: flex-end;width: 50%;}#sk-container-id-1 div.sk-parallel-item:last-child::after {align-self: flex-start;width: 50%;}#sk-container-id-1 div.sk-parallel-item:only-child::after {width: 0;}#sk-container-id-1 div.sk-dashed-wrapped {border: 1px dashed gray;margin: 0 0.4em 0.5em 0.4em;box-sizing: border-box;padding-bottom: 0.4em;background-color: white;}#sk-container-id-1 div.sk-label label {font-family: monospace;font-weight: bold;display: inline-block;line-height: 1.2em;}#sk-container-id-1 div.sk-label-container {text-align: center;}#sk-container-id-1 div.sk-container {/* jupyter's `normalize.less` sets `[hidden] { display: none; }` but bootstrap.min.css set `[hidden] { display: none !important; }` so we also need the `!important` here to be able to override the default hidden behavior on the sphinx rendered scikit-learn.org. See: https://github.com/scikit-learn/scikit-learn/issues/21755 */display: inline-block !important;position: relative;}#sk-container-id-1 div.sk-text-repr-fallback {display: none;}</style><div id=\"sk-container-id-1\" class=\"sk-top-container\"><div class=\"sk-text-repr-fallback\"><pre>LinearRegression()</pre><b>In a Jupyter environment, please rerun this cell to show the HTML representation or trust the notebook. <br />On GitHub, the HTML representation is unable to render, please try loading this page with nbviewer.org.</b></div><div class=\"sk-container\" hidden><div class=\"sk-item\"><div class=\"sk-estimator sk-toggleable\"><input class=\"sk-toggleable__control sk-hidden--visually\" id=\"sk-estimator-id-1\" type=\"checkbox\" checked><label for=\"sk-estimator-id-1\" class=\"sk-toggleable__label sk-toggleable__label-arrow\">LinearRegression</label><div class=\"sk-toggleable__content\"><pre>LinearRegression()</pre></div></div></div></div></div>"
      ],
      "text/plain": [
       "LinearRegression()"
      ]
     },
     "execution_count": 5,
     "metadata": {},
     "output_type": "execute_result"
    }
   ],
   "source": [
    "model = LinearRegression()\n",
    "model.fit(X, y)"
   ]
  },
  {
   "cell_type": "code",
   "execution_count": 6,
   "id": "2310a441-33f9-444d-bb44-f3ec7a9fb4ff",
   "metadata": {},
   "outputs": [],
   "source": [
    "y_pred = model.predict(X)"
   ]
  },
  {
   "cell_type": "code",
   "execution_count": 7,
   "id": "21b4398e-2d88-4634-9a32-7596e7e1ebec",
   "metadata": {},
   "outputs": [
    {
     "data": {
      "image/png": "[encoded data removed]",
      "text/plain": [
       "<Figure size 640x480 with 1 Axes>"
      ]
     },
     "metadata": {},
     "output_type": "display_data"
    }
   ],
   "source": [
    "plt.figure()\n",
    "plt.scatter(X, y)\n",
    "plt.plot(X, y_pred)\n",
    "plt.show();"
   ]
  },
  {
   "cell_type": "markdown",
   "id": "20dd6004-814e-49e8-860c-cb1fdd67daf0",
   "metadata": {},
   "source": [
    "### Step 2: Setup Modelbit"
   ]
  },
  {
   "cell_type": "code",
   "execution_count": 8,
   "id": "434497ee-9c08-47ba-a836-5bf2928918d1",
   "metadata": {},
   "outputs": [],
   "source": [
    "import modelbit"
   ]
  },
  {
   "cell_type": "code",
   "execution_count": 9,
   "id": "a9076e92-20ef-4594-9694-2c34f8431aa2",
   "metadata": {},
   "outputs": [
    {
     "data": {
      "text/html": [
       "<div style=\"margin: 0; padding: 5px; line-height: 1.75; font-size: 14px; vertical-align: baseline; list-style: none; font-family: Roboto, Arial, sans-serif; background: none;\">\n",
       "  <div style=\"margin: 0; padding: 0; line-height: 1.75; font-size: 14px; vertical-align: baseline; list-style: none; font-family: Roboto, Arial, sans-serif; background: none;\">\n",
       "    You're <span style=\"margin: 0; padding: 0; line-height: 1.75; font-size: 14px; vertical-align: baseline; list-style: none; font-family: Roboto, Arial, sans-serif; background: none; color: green; font-weight: bold;\">connected</span> to Modelbit as john.ws.lee@gmail.com.\n",
       "    Workspace: <span style=\"margin: 0; padding: 0; line-height: 1.75; font-size: 14px; vertical-align: baseline; list-style: none; font-family: monospace; background: none; font-weight: bold; color: #714488;\">johnlee</span>.\n",
       "    \n",
       "    Branch: <span style=\"margin: 0; padding: 0; line-height: 1.75; font-size: 14px; vertical-align: baseline; list-style: none; font-family: monospace; background: none; font-weight: bold; color: #714488;\">main</span>\n",
       "\t</div>\n",
       "  \n",
       "  \n",
       "\n",
       "\n",
       "</div>"
      ],
      "text/plain": [
       "<IPython.core.display.HTML object>"
      ]
     },
     "metadata": {},
     "output_type": "display_data"
    }
   ],
   "source": [
    "mb = modelbit.login()"
   ]
  },
  {
   "cell_type": "markdown",
   "id": "c9a79767-c3ae-458a-8ff3-d46466ed3da8",
   "metadata": {},
   "source": [
    "### Step 3: Deploy Models"
   ]
  },
  {
   "cell_type": "markdown",
   "id": "1b1257df-4c1b-4e81-9344-c6cad0e1a761",
   "metadata": {},
   "source": [
    "To deploy the model using Modelbit, we should set up a python function to ensure seamless deployment and inference post-deployment.\n",
    "\n",
    "Essentially, this function will contain the code that will be executed at runtime, and it will be responsible to return the prediction.\n",
    "\n",
    "We should specify the input parameters as needed by the model in this method. Also, you can name it anything you want.\n",
    "\n",
    "Let’s create a `my_lr_deployement()` method."
   ]
  },
  {
   "cell_type": "code",
   "execution_count": 10,
   "id": "44eaf8b3-b123-4f45-9a13-f1718449b565",
   "metadata": {},
   "outputs": [],
   "source": [
    "def my_lr_deployement(input_x):\n",
    "    if isinstance(input_x, (int, float)):  # check input type\n",
    "        return model.predict([[input_x]])[0]  # prediction\n",
    "\n",
    "    else:\n",
    "        return None"
   ]
  },
  {
   "cell_type": "markdown",
   "id": "c6bb21a4-6a56-490e-8f54-92ed3aeb1eac",
   "metadata": {},
   "source": [
    "**Note**: Every dependency of the function (`model` in this case) is pickled and sent to production automatically along with the function. Thus, you are free to reference anything in this method."
   ]
  },
  {
   "cell_type": "markdown",
   "id": "52355e46-a499-47e2-9a93-d389ab6e244e",
   "metadata": {},
   "source": [
    "To deploy, run the following commands:"
   ]
  },
  {
   "cell_type": "code",
   "execution_count": 11,
   "id": "319861bc-41de-47fc-a035-21118b773638",
   "metadata": {},
   "outputs": [
    {
     "data": {
      "text/html": [
       "<div style=\"margin: 0; padding: 5px; line-height: 1.75; font-size: 14px; vertical-align: baseline; list-style: none; font-family: Roboto, Arial, sans-serif; background: none;\">\n",
       "  <div style=\"margin: 0; padding: 0; line-height: 1.75; font-size: 14px; vertical-align: baseline; list-style: none; font-family: Roboto, Arial, sans-serif; background: none; font-weight: bold; color: green;\">\n",
       "    Deploying <span style=\"margin: 0; padding: 3px; line-height: 1.75; font-size: 13px; vertical-align: baseline; list-style: none; font-family: monospace; background: none; color: #714488; font-weight: 400; background-color: #f3f4f6;\">my_lr_deployement</span>\n",
       "  </div>\n",
       "\n",
       "  \n",
       "\n",
       "  <div style=\"margin: 0; padding: 0; line-height: 1.75; font-size: 14px; vertical-align: baseline; list-style: none; font-family: Roboto, Arial, sans-serif; background: none;\">Uploading dependencies...</div>\n",
       "</div>"
      ],
      "text/plain": [
       "<IPython.core.display.HTML object>"
      ]
     },
     "metadata": {},
     "output_type": "display_data"
    },
    {
     "data": {
      "text/html": [
       "<div style=\"margin: 0; padding: 5px; line-height: 1.75; font-size: 14px; vertical-align: baseline; list-style: none; font-family: Roboto, Arial, sans-serif; background: none;\">\n",
       "  <div style=\"margin: 0; padding: 0; line-height: 1.75; font-size: 14px; vertical-align: baseline; list-style: none; font-family: Roboto, Arial, sans-serif; background: none; font-weight: bold; color: green;\">Success!</div>\n",
       "  \n",
       "    <div style=\"margin: 0; padding: 0; line-height: 1.75; font-size: 14px; vertical-align: baseline; list-style: none; font-family: Roboto, Arial, sans-serif; background: none;\">\n",
       "      Deployment <span style=\"margin: 0; padding: 3px; line-height: 1.75; font-size: 13px; vertical-align: baseline; list-style: none; font-family: monospace; background: none; color: #714488; font-weight: 400; background-color: #f3f4f6;\">my_lr_deployement</span>\n",
       "      will be ready in  a couple minutes.\n",
       "    </div>\n",
       "  \n",
       "\n",
       "  <a href=\"https://app.modelbit.com/w/johnlee/main/deployments/my_lr_deployement/apis\" target=\"_blank\" style=\"display: inline-block; margin-top: 12px;\" >\n",
       "    <div\n",
       "      style=\"display: inline-block; background-color: #845B99; border-radius: 0.375rem; color: white; cursor: pointer; font-size: 14px; font-weight: 700; padding: 8px 16px;\"\n",
       "      onmouseenter=\"this.style.background='#714488'\"\n",
       "      onmouseleave=\"this.style.background='#845B99'\"\n",
       "    >\n",
       "      View in Modelbit\n",
       "    </div>\n",
       "  </a>\n",
       "</div>"
      ],
      "text/plain": [
       "<IPython.core.display.HTML object>"
      ]
     },
     "metadata": {},
     "output_type": "display_data"
    }
   ],
   "source": [
    "mb.deploy(my_lr_deployement)"
   ]
  },
  {
   "cell_type": "code",
   "execution_count": 12,
   "id": "aced82d7-43d0-4e07-9a91-5e8df0651349",
   "metadata": {},
   "outputs": [
    {
     "name": "stdout",
     "output_type": "stream",
     "text": [
      "{\"data\": -67.32734182682607}\n"
     ]
    },
    {
     "name": "stderr",
     "output_type": "stream",
     "text": [
      "  % Total    % Received % Xferd  Average Speed   Time    Time     Time  Current\n",
      "                                 Dload  Upload   Total   Spent    Left  Speed\n",
      "\n",
      "  0     0    0     0    0     0      0      0 --:--:-- --:--:-- --:--:--     0\n",
      "  0     0    0     0    0     0      0      0 --:--:-- --:--:-- --:--:--     0\n",
      "100    40  100    28  100    12     32     13 --:--:-- --:--:-- --:--:--    46\n"
     ]
    }
   ],
   "source": [
    "### Original Format for Single Input\n",
    "# curl -X POST \"https://johnlee.app.modelbit.com/v1/my_lr_deployement/latest\" -d \"{\\\"data\\\": input_x}\"\n",
    "\n",
    "!curl -X POST \"https://johnlee.app.modelbit.com/v1/my_lr_deployement/latest\" -d \"{\\\"data\\\": -3}\""
   ]
  },
  {
   "cell_type": "code",
   "execution_count": 13,
   "id": "30986816-f465-459c-bf40-763c51024579",
   "metadata": {},
   "outputs": [
    {
     "data": {
      "text/plain": [
       "-67.32734182682607"
      ]
     },
     "execution_count": 13,
     "metadata": {},
     "output_type": "execute_result"
    }
   ],
   "source": [
    "# To check on local\n",
    "my_lr_deployement(-3)"
   ]
  },
  {
   "cell_type": "code",
   "execution_count": 14,
   "id": "5b9da953-5010-42a4-aab7-51f407d8027d",
   "metadata": {},
   "outputs": [
    {
     "name": "stdout",
     "output_type": "stream",
     "text": [
      "{\"data\": [[1, -67.32734182682607], [2, -2.6246990978694162], [3, 40.51039605476836]]}"
     ]
    },
    {
     "name": "stderr",
     "output_type": "stream",
     "text": [
      "  % Total    % Received % Xferd  Average Speed   Time    Time     Time  Current\n",
      "                                 Dload  Upload   Total   Spent    Left  Speed\n",
      "\n",
      "  0     0    0     0    0     0      0      0 --:--:-- --:--:-- --:--:--     0\n",
      "100    35    0     0  100    35      0     47 --:--:-- --:--:-- --:--:--    47\n",
      "100   120  100    85  100    35    107     44 --:--:-- --:--:-- --:--:--   151\n"
     ]
    },
    {
     "name": "stdout",
     "output_type": "stream",
     "text": [
      "\n"
     ]
    }
   ],
   "source": [
    "### Original Format for Batch Input\n",
    "\n",
    "# The first number in the list (1) is the input ID.\n",
    "# The ID can be any identifier that you prefer to use.\n",
    "# The numbers following the ID are the function parameters.\n",
    "\n",
    "# curl -X POST \"https://johnlee.app.modelbit.com/v1/my_lr_deployement/latest\" -d \"{\\\"data\\\": [[1, input_x], [2, input_x]]}\"\n",
    "\n",
    "!curl -X POST \"https://johnlee.app.modelbit.com/v1/my_lr_deployement/latest\" -d \"{\\\"data\\\": [[1, -3], [2, 0], [3, 2]]}\""
   ]
  },
  {
   "cell_type": "markdown",
   "id": "a0e59230-59c1-44b3-8e8a-a6b9dfb0599e",
   "metadata": {},
   "source": [
    "Invoking the deployed model is not just limited to `curl`. We can also use the `requests` library in python:"
   ]
  },
  {
   "cell_type": "code",
   "execution_count": 15,
   "id": "04ff4717-613e-4581-908e-fbfad815ca4d",
   "metadata": {},
   "outputs": [],
   "source": [
    "import json\n",
    "\n",
    "import requests"
   ]
  },
  {
   "cell_type": "code",
   "execution_count": 16,
   "id": "a23b9e07-970f-40a5-a373-f89d1257b627",
   "metadata": {},
   "outputs": [
    {
     "data": {
      "text/plain": [
       "{'data': [[1, -67.32734182682607],\n",
       "  [2, -2.6246990978694162],\n",
       "  [3, 40.51039605476836]]}"
      ]
     },
     "execution_count": 16,
     "metadata": {},
     "output_type": "execute_result"
    }
   ],
   "source": [
    "requests.post(\n",
    "    \"https://johnlee.app.modelbit.com/v1/my_lr_deployement/latest\",\n",
    "    headers={\"Content-Type\": \"application/json\"},\n",
    "    data=json.dumps({\"data\": [[1, -3], [2, 0], [3, 2]]}),\n",
    ").json()"
   ]
  },
  {
   "cell_type": "markdown",
   "id": "80c0b785-8c5f-41e9-be05-9028d7fa7f14",
   "metadata": {},
   "source": [
    "## 2.2. Custom Environments"
   ]
  },
  {
   "cell_type": "markdown",
   "id": "da6ab860-5f74-48d2-a8ef-e6f884f1bdd2",
   "metadata": {},
   "source": [
    "Sometimes we may want to specify specific versions of the libraries used while deploying your model.\n",
    "\n",
    "We can pass these as an argument to the `md.deploy()` method call:"
   ]
  },
  {
   "cell_type": "code",
   "execution_count": 17,
   "id": "afb192b5-a975-46bf-b109-353db932d400",
   "metadata": {},
   "outputs": [],
   "source": [
    "# mb.deploy(my_lr_deployement, python_packages=[\"scikit-learn==1.1.2\", \"pandas==1.5.0\"])"
   ]
  },
  {
   "cell_type": "markdown",
   "id": "f0da5108-e562-4fa0-9b59-c700cbb0b66b",
   "metadata": {},
   "source": [
    "We can also deploy to a specific version of Python:"
   ]
  },
  {
   "cell_type": "code",
   "execution_count": 18,
   "id": "f08561f1-b79e-4b4b-91df-a5d3daa68a68",
   "metadata": {},
   "outputs": [],
   "source": [
    "# mb.deploy(my_lr_deployement, python_version=\"3.9\")"
   ]
  },
  {
   "cell_type": "code",
   "execution_count": null,
   "id": "da5121cc-355d-46e0-a2c6-f5dcd501263f",
   "metadata": {},
   "outputs": [],
   "source": []
  }
 ],
 "metadata": {
  "kernelspec": {
   "display_name": "Python [conda env:ls_env]",
   "language": "python",
   "name": "conda-env-ls_env-py"
  },
  "language_info": {
   "codemirror_mode": {
    "name": "ipython",
    "version": 3
   },
   "file_extension": ".py",
   "mimetype": "text/x-python",
   "name": "python",
   "nbconvert_exporter": "python",
   "pygments_lexer": "ipython3",
   "version": "3.10.8"
  }
 },
 "nbformat": 4,
 "nbformat_minor": 5
}
